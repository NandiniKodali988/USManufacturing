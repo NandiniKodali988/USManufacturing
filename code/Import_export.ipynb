{
 "cells": [
  {
   "cell_type": "code",
   "execution_count": 7,
   "metadata": {},
   "outputs": [
    {
     "name": "stdout",
     "output_type": "stream",
     "text": [
      "Import Columns: ['Product', '2009', '2010', '2011', '2012', '2013', '2014', '2015', '2016', '2017', '2018', '2019', '2020', '2021', '2022', '2023', '2024']\n",
      "Export Columns: ['Product', '2009', '2010', '2011', '2012', '2013', '2014', '2015', '2016', '2017', '2018', '2019', '2020', '2021', '2022', '2023', '2024']\n"
     ]
    }
   ],
   "source": [
    "import pandas as pd\n",
    "\n",
    "# Load files\n",
    "import_df = pd.read_csv(\"../data/Processed/Import_Trade_Cleaned.csv\")\n",
    "export_df = pd.read_csv(\"../data/Processed/Export_Trade_Cleaned.csv\")\n",
    "\n",
    "# Check column names\n",
    "print(\"Import Columns:\", import_df.columns.tolist())\n",
    "print(\"Export Columns:\", export_df.columns.tolist())\n"
   ]
  },
  {
   "cell_type": "code",
   "execution_count": 11,
   "metadata": {},
   "outputs": [
    {
     "name": "stderr",
     "output_type": "stream",
     "text": [
      "<>:14: SyntaxWarning: invalid escape sequence '\\$'\n",
      "<>:14: SyntaxWarning: invalid escape sequence '\\$'\n",
      "/var/folders/4h/1n1m5c3s6vg_drmsgcbr1lz80000gn/T/ipykernel_50120/2650278000.py:14: SyntaxWarning: invalid escape sequence '\\$'\n",
      "  df.iloc[:, 1:] = df.iloc[:, 1:].replace('[\\$,]', '', regex=True).astype(float)\n"
     ]
    },
    {
     "data": {
      "application/vnd.plotly.v1+json": {
       "config": {
        "plotlyServerURL": "https://plot.ly"
       },
       "data": [
        {
         "customdata": [
          [
           1
          ]
         ],
         "hovertemplate": "<b>%{hovertext}</b><br><br>Product=0--All Merchandise<br>Year=2009<br>Import=%{x}<br>Export=%{y}<br>Size=%{marker.size}<br>Rank=%{customdata[0]}<extra></extra>",
         "hovertext": [
          "0--All Merchandise"
         ],
         "legendgroup": "0--All Merchandise",
         "marker": {
          "color": "#636efa",
          "size": [
           100
          ],
          "sizemode": "area",
          "sizeref": 0.25,
          "symbol": "circle"
         },
         "mode": "markers",
         "name": "0--All Merchandise",
         "orientation": "v",
         "showlegend": true,
         "type": "scatter",
         "x": [
          1559625
         ],
         "xaxis": "x",
         "y": [
          1056043
         ],
         "yaxis": "y"
        },
        {
         "customdata": [
          [
           2
          ]
         ],
         "hovertemplate": "<b>%{hovertext}</b><br><br>Product=336--Transportation Equipment<br>Year=2009<br>Import=%{x}<br>Export=%{y}<br>Size=%{marker.size}<br>Rank=%{customdata[0]}<extra></extra>",
         "hovertext": [
          "336--Transportation Equipment"
         ],
         "legendgroup": "336--Transportation Equipment",
         "marker": {
          "color": "#EF553B",
          "size": [
           90
          ],
          "sizemode": "area",
          "sizeref": 0.25,
          "symbol": "circle"
         },
         "mode": "markers",
         "name": "336--Transportation Equipment",
         "orientation": "v",
         "showlegend": true,
         "type": "scatter",
         "x": [
          180212
         ],
         "xaxis": "x",
         "y": [
          165375
         ],
         "yaxis": "y"
        },
        {
         "customdata": [
          [
           4
          ]
         ],
         "hovertemplate": "<b>%{hovertext}</b><br><br>Product=325--Chemicals<br>Year=2009<br>Import=%{x}<br>Export=%{y}<br>Size=%{marker.size}<br>Rank=%{customdata[0]}<extra></extra>",
         "hovertext": [
          "325--Chemicals"
         ],
         "legendgroup": "325--Chemicals",
         "marker": {
          "color": "#00cc96",
          "size": [
           70
          ],
          "sizemode": "area",
          "sizeref": 0.25,
          "symbol": "circle"
         },
         "mode": "markers",
         "name": "325--Chemicals",
         "orientation": "v",
         "showlegend": true,
         "type": "scatter",
         "x": [
          155313
         ],
         "xaxis": "x",
         "y": [
          152255
         ],
         "yaxis": "y"
        },
        {
         "customdata": [
          [
           3
          ]
         ],
         "hovertemplate": "<b>%{hovertext}</b><br><br>Product=334--Computer & Electronic Products<br>Year=2009<br>Import=%{x}<br>Export=%{y}<br>Size=%{marker.size}<br>Rank=%{customdata[0]}<extra></extra>",
         "hovertext": [
          "334--Computer & Electronic Products"
         ],
         "legendgroup": "334--Computer & Electronic Products",
         "marker": {
          "color": "#ab63fa",
          "size": [
           80
          ],
          "sizemode": "area",
          "sizeref": 0.25,
          "symbol": "circle"
         },
         "mode": "markers",
         "name": "334--Computer & Electronic Products",
         "orientation": "v",
         "showlegend": true,
         "type": "scatter",
         "x": [
          266612
         ],
         "xaxis": "x",
         "y": [
          160628
         ],
         "yaxis": "y"
        },
        {
         "customdata": [
          [
           5
          ]
         ],
         "hovertemplate": "<b>%{hovertext}</b><br><br>Product=333--Machinery, Except Electrical<br>Year=2009<br>Import=%{x}<br>Export=%{y}<br>Size=%{marker.size}<br>Rank=%{customdata[0]}<extra></extra>",
         "hovertext": [
          "333--Machinery, Except Electrical"
         ],
         "legendgroup": "333--Machinery, Except Electrical",
         "marker": {
          "color": "#FFA15A",
          "size": [
           60
          ],
          "sizemode": "area",
          "sizeref": 0.25,
          "symbol": "circle"
         },
         "mode": "markers",
         "name": "333--Machinery, Except Electrical",
         "orientation": "v",
         "showlegend": true,
         "type": "scatter",
         "x": [
          87824
         ],
         "xaxis": "x",
         "y": [
          113416
         ],
         "yaxis": "y"
        },
        {
         "customdata": [
          [
           9
          ]
         ],
         "hovertemplate": "<b>%{hovertext}</b><br><br>Product=324--Petroleum & Coal Products<br>Year=2009<br>Import=%{x}<br>Export=%{y}<br>Size=%{marker.size}<br>Rank=%{customdata[0]}<extra></extra>",
         "hovertext": [
          "324--Petroleum & Coal Products"
         ],
         "legendgroup": "324--Petroleum & Coal Products",
         "marker": {
          "color": "#19d3f3",
          "size": [
           20
          ],
          "sizemode": "area",
          "sizeref": 0.25,
          "symbol": "circle"
         },
         "mode": "markers",
         "name": "324--Petroleum & Coal Products",
         "orientation": "v",
         "showlegend": true,
         "type": "scatter",
         "x": [
          54685
         ],
         "xaxis": "x",
         "y": [
          41595
         ],
         "yaxis": "y"
        },
        {
         "customdata": [
          [
           6
          ]
         ],
         "hovertemplate": "<b>%{hovertext}</b><br><br>Product=339--Miscellaneous Manufactures<br>Year=2009<br>Import=%{x}<br>Export=%{y}<br>Size=%{marker.size}<br>Rank=%{customdata[0]}<extra></extra>",
         "hovertext": [
          "339--Miscellaneous Manufactures"
         ],
         "legendgroup": "339--Miscellaneous Manufactures",
         "marker": {
          "color": "#FF6692",
          "size": [
           50
          ],
          "sizemode": "area",
          "sizeref": 0.25,
          "symbol": "circle"
         },
         "mode": "markers",
         "name": "339--Miscellaneous Manufactures",
         "orientation": "v",
         "showlegend": true,
         "type": "scatter",
         "x": [
          82344
         ],
         "xaxis": "x",
         "y": [
          52740
         ],
         "yaxis": "y"
        },
        {
         "customdata": [
          [
           8
          ]
         ],
         "hovertemplate": "<b>%{hovertext}</b><br><br>Product=311--Processed Foods<br>Year=2009<br>Import=%{x}<br>Export=%{y}<br>Size=%{marker.size}<br>Rank=%{customdata[0]}<extra></extra>",
         "hovertext": [
          "311--Processed Foods"
         ],
         "legendgroup": "311--Processed Foods",
         "marker": {
          "color": "#B6E880",
          "size": [
           30
          ],
          "sizemode": "area",
          "sizeref": 0.25,
          "symbol": "circle"
         },
         "mode": "markers",
         "name": "311--Processed Foods",
         "orientation": "v",
         "showlegend": true,
         "type": "scatter",
         "x": [
          36228
         ],
         "xaxis": "x",
         "y": [
          44679
         ],
         "yaxis": "y"
        },
        {
         "customdata": [
          [
           7
          ]
         ],
         "hovertemplate": "<b>%{hovertext}</b><br><br>Product=111--Agricultural Products<br>Year=2009<br>Import=%{x}<br>Export=%{y}<br>Size=%{marker.size}<br>Rank=%{customdata[0]}<extra></extra>",
         "hovertext": [
          "111--Agricultural Products"
         ],
         "legendgroup": "111--Agricultural Products",
         "marker": {
          "color": "#FF97FF",
          "size": [
           40
          ],
          "sizemode": "area",
          "sizeref": 0.25,
          "symbol": "circle"
         },
         "mode": "markers",
         "name": "111--Agricultural Products",
         "orientation": "v",
         "showlegend": true,
         "type": "scatter",
         "x": [
          21503
         ],
         "xaxis": "x",
         "y": [
          50826
         ],
         "yaxis": "y"
        },
        {
         "customdata": [
          [
           10
          ]
         ],
         "hovertemplate": "<b>%{hovertext}</b><br><br>Product=331--Primary Metal Manufactures<br>Year=2009<br>Import=%{x}<br>Export=%{y}<br>Size=%{marker.size}<br>Rank=%{customdata[0]}<extra></extra>",
         "hovertext": [
          "331--Primary Metal Manufactures"
         ],
         "legendgroup": "331--Primary Metal Manufactures",
         "marker": {
          "color": "#FECB52",
          "size": [
           10
          ],
          "sizemode": "area",
          "sizeref": 0.25,
          "symbol": "circle"
         },
         "mode": "markers",
         "name": "331--Primary Metal Manufactures",
         "orientation": "v",
         "showlegend": true,
         "type": "scatter",
         "x": [
          55578
         ],
         "xaxis": "x",
         "y": [
          40656
         ],
         "yaxis": "y"
        },
        {
         "line": {
          "color": "black",
          "dash": "dash"
         },
         "mode": "lines",
         "name": "Trade Balance = 0",
         "type": "scatter",
         "x": [
          0,
          3267389
         ],
         "y": [
          0,
          3267389
         ]
        }
       ],
       "frames": [
        {
         "data": [
          {
           "customdata": [
            [
             1
            ]
           ],
           "hovertemplate": "<b>%{hovertext}</b><br><br>Product=0--All Merchandise<br>Year=2009<br>Import=%{x}<br>Export=%{y}<br>Size=%{marker.size}<br>Rank=%{customdata[0]}<extra></extra>",
           "hovertext": [
            "0--All Merchandise"
           ],
           "legendgroup": "0--All Merchandise",
           "marker": {
            "color": "#636efa",
            "size": [
             100
            ],
            "sizemode": "area",
            "sizeref": 0.25,
            "symbol": "circle"
           },
           "mode": "markers",
           "name": "0--All Merchandise",
           "orientation": "v",
           "showlegend": true,
           "type": "scatter",
           "x": [
            1559625
           ],
           "xaxis": "x",
           "y": [
            1056043
           ],
           "yaxis": "y"
          },
          {
           "customdata": [
            [
             2
            ]
           ],
           "hovertemplate": "<b>%{hovertext}</b><br><br>Product=336--Transportation Equipment<br>Year=2009<br>Import=%{x}<br>Export=%{y}<br>Size=%{marker.size}<br>Rank=%{customdata[0]}<extra></extra>",
           "hovertext": [
            "336--Transportation Equipment"
           ],
           "legendgroup": "336--Transportation Equipment",
           "marker": {
            "color": "#EF553B",
            "size": [
             90
            ],
            "sizemode": "area",
            "sizeref": 0.25,
            "symbol": "circle"
           },
           "mode": "markers",
           "name": "336--Transportation Equipment",
           "orientation": "v",
           "showlegend": true,
           "type": "scatter",
           "x": [
            180212
           ],
           "xaxis": "x",
           "y": [
            165375
           ],
           "yaxis": "y"
          },
          {
           "customdata": [
            [
             4
            ]
           ],
           "hovertemplate": "<b>%{hovertext}</b><br><br>Product=325--Chemicals<br>Year=2009<br>Import=%{x}<br>Export=%{y}<br>Size=%{marker.size}<br>Rank=%{customdata[0]}<extra></extra>",
           "hovertext": [
            "325--Chemicals"
           ],
           "legendgroup": "325--Chemicals",
           "marker": {
            "color": "#00cc96",
            "size": [
             70
            ],
            "sizemode": "area",
            "sizeref": 0.25,
            "symbol": "circle"
           },
           "mode": "markers",
           "name": "325--Chemicals",
           "orientation": "v",
           "showlegend": true,
           "type": "scatter",
           "x": [
            155313
           ],
           "xaxis": "x",
           "y": [
            152255
           ],
           "yaxis": "y"
          },
          {
           "customdata": [
            [
             3
            ]
           ],
           "hovertemplate": "<b>%{hovertext}</b><br><br>Product=334--Computer & Electronic Products<br>Year=2009<br>Import=%{x}<br>Export=%{y}<br>Size=%{marker.size}<br>Rank=%{customdata[0]}<extra></extra>",
           "hovertext": [
            "334--Computer & Electronic Products"
           ],
           "legendgroup": "334--Computer & Electronic Products",
           "marker": {
            "color": "#ab63fa",
            "size": [
             80
            ],
            "sizemode": "area",
            "sizeref": 0.25,
            "symbol": "circle"
           },
           "mode": "markers",
           "name": "334--Computer & Electronic Products",
           "orientation": "v",
           "showlegend": true,
           "type": "scatter",
           "x": [
            266612
           ],
           "xaxis": "x",
           "y": [
            160628
           ],
           "yaxis": "y"
          },
          {
           "customdata": [
            [
             5
            ]
           ],
           "hovertemplate": "<b>%{hovertext}</b><br><br>Product=333--Machinery, Except Electrical<br>Year=2009<br>Import=%{x}<br>Export=%{y}<br>Size=%{marker.size}<br>Rank=%{customdata[0]}<extra></extra>",
           "hovertext": [
            "333--Machinery, Except Electrical"
           ],
           "legendgroup": "333--Machinery, Except Electrical",
           "marker": {
            "color": "#FFA15A",
            "size": [
             60
            ],
            "sizemode": "area",
            "sizeref": 0.25,
            "symbol": "circle"
           },
           "mode": "markers",
           "name": "333--Machinery, Except Electrical",
           "orientation": "v",
           "showlegend": true,
           "type": "scatter",
           "x": [
            87824
           ],
           "xaxis": "x",
           "y": [
            113416
           ],
           "yaxis": "y"
          },
          {
           "customdata": [
            [
             9
            ]
           ],
           "hovertemplate": "<b>%{hovertext}</b><br><br>Product=324--Petroleum & Coal Products<br>Year=2009<br>Import=%{x}<br>Export=%{y}<br>Size=%{marker.size}<br>Rank=%{customdata[0]}<extra></extra>",
           "hovertext": [
            "324--Petroleum & Coal Products"
           ],
           "legendgroup": "324--Petroleum & Coal Products",
           "marker": {
            "color": "#19d3f3",
            "size": [
             20
            ],
            "sizemode": "area",
            "sizeref": 0.25,
            "symbol": "circle"
           },
           "mode": "markers",
           "name": "324--Petroleum & Coal Products",
           "orientation": "v",
           "showlegend": true,
           "type": "scatter",
           "x": [
            54685
           ],
           "xaxis": "x",
           "y": [
            41595
           ],
           "yaxis": "y"
          },
          {
           "customdata": [
            [
             6
            ]
           ],
           "hovertemplate": "<b>%{hovertext}</b><br><br>Product=339--Miscellaneous Manufactures<br>Year=2009<br>Import=%{x}<br>Export=%{y}<br>Size=%{marker.size}<br>Rank=%{customdata[0]}<extra></extra>",
           "hovertext": [
            "339--Miscellaneous Manufactures"
           ],
           "legendgroup": "339--Miscellaneous Manufactures",
           "marker": {
            "color": "#FF6692",
            "size": [
             50
            ],
            "sizemode": "area",
            "sizeref": 0.25,
            "symbol": "circle"
           },
           "mode": "markers",
           "name": "339--Miscellaneous Manufactures",
           "orientation": "v",
           "showlegend": true,
           "type": "scatter",
           "x": [
            82344
           ],
           "xaxis": "x",
           "y": [
            52740
           ],
           "yaxis": "y"
          },
          {
           "customdata": [
            [
             8
            ]
           ],
           "hovertemplate": "<b>%{hovertext}</b><br><br>Product=311--Processed Foods<br>Year=2009<br>Import=%{x}<br>Export=%{y}<br>Size=%{marker.size}<br>Rank=%{customdata[0]}<extra></extra>",
           "hovertext": [
            "311--Processed Foods"
           ],
           "legendgroup": "311--Processed Foods",
           "marker": {
            "color": "#B6E880",
            "size": [
             30
            ],
            "sizemode": "area",
            "sizeref": 0.25,
            "symbol": "circle"
           },
           "mode": "markers",
           "name": "311--Processed Foods",
           "orientation": "v",
           "showlegend": true,
           "type": "scatter",
           "x": [
            36228
           ],
           "xaxis": "x",
           "y": [
            44679
           ],
           "yaxis": "y"
          },
          {
           "customdata": [
            [
             7
            ]
           ],
           "hovertemplate": "<b>%{hovertext}</b><br><br>Product=111--Agricultural Products<br>Year=2009<br>Import=%{x}<br>Export=%{y}<br>Size=%{marker.size}<br>Rank=%{customdata[0]}<extra></extra>",
           "hovertext": [
            "111--Agricultural Products"
           ],
           "legendgroup": "111--Agricultural Products",
           "marker": {
            "color": "#FF97FF",
            "size": [
             40
            ],
            "sizemode": "area",
            "sizeref": 0.25,
            "symbol": "circle"
           },
           "mode": "markers",
           "name": "111--Agricultural Products",
           "orientation": "v",
           "showlegend": true,
           "type": "scatter",
           "x": [
            21503
           ],
           "xaxis": "x",
           "y": [
            50826
           ],
           "yaxis": "y"
          },
          {
           "customdata": [
            [
             10
            ]
           ],
           "hovertemplate": "<b>%{hovertext}</b><br><br>Product=331--Primary Metal Manufactures<br>Year=2009<br>Import=%{x}<br>Export=%{y}<br>Size=%{marker.size}<br>Rank=%{customdata[0]}<extra></extra>",
           "hovertext": [
            "331--Primary Metal Manufactures"
           ],
           "legendgroup": "331--Primary Metal Manufactures",
           "marker": {
            "color": "#FECB52",
            "size": [
             10
            ],
            "sizemode": "area",
            "sizeref": 0.25,
            "symbol": "circle"
           },
           "mode": "markers",
           "name": "331--Primary Metal Manufactures",
           "orientation": "v",
           "showlegend": true,
           "type": "scatter",
           "x": [
            55578
           ],
           "xaxis": "x",
           "y": [
            40656
           ],
           "yaxis": "y"
          }
         ],
         "name": "2009"
        },
        {
         "data": [
          {
           "customdata": [
            [
             1
            ]
           ],
           "hovertemplate": "<b>%{hovertext}</b><br><br>Product=0--All Merchandise<br>Year=2010<br>Import=%{x}<br>Export=%{y}<br>Size=%{marker.size}<br>Rank=%{customdata[0]}<extra></extra>",
           "hovertext": [
            "0--All Merchandise"
           ],
           "legendgroup": "0--All Merchandise",
           "marker": {
            "color": "#636efa",
            "size": [
             100
            ],
            "sizemode": "area",
            "sizeref": 0.25,
            "symbol": "circle"
           },
           "mode": "markers",
           "name": "0--All Merchandise",
           "orientation": "v",
           "showlegend": true,
           "type": "scatter",
           "x": [
            1913857
           ],
           "xaxis": "x",
           "y": [
            1278495
           ],
           "yaxis": "y"
          },
          {
           "customdata": [
            [
             2
            ]
           ],
           "hovertemplate": "<b>%{hovertext}</b><br><br>Product=336--Transportation Equipment<br>Year=2010<br>Import=%{x}<br>Export=%{y}<br>Size=%{marker.size}<br>Rank=%{customdata[0]}<extra></extra>",
           "hovertext": [
            "336--Transportation Equipment"
           ],
           "legendgroup": "336--Transportation Equipment",
           "marker": {
            "color": "#EF553B",
            "size": [
             90
            ],
            "sizemode": "area",
            "sizeref": 0.25,
            "symbol": "circle"
           },
           "mode": "markers",
           "name": "336--Transportation Equipment",
           "orientation": "v",
           "showlegend": true,
           "type": "scatter",
           "x": [
            241172
           ],
           "xaxis": "x",
           "y": [
            190887
           ],
           "yaxis": "y"
          },
          {
           "customdata": [
            [
             4
            ]
           ],
           "hovertemplate": "<b>%{hovertext}</b><br><br>Product=325--Chemicals<br>Year=2010<br>Import=%{x}<br>Export=%{y}<br>Size=%{marker.size}<br>Rank=%{customdata[0]}<extra></extra>",
           "hovertext": [
            "325--Chemicals"
           ],
           "legendgroup": "325--Chemicals",
           "marker": {
            "color": "#00cc96",
            "size": [
             70
            ],
            "sizemode": "area",
            "sizeref": 0.25,
            "symbol": "circle"
           },
           "mode": "markers",
           "name": "325--Chemicals",
           "orientation": "v",
           "showlegend": true,
           "type": "scatter",
           "x": [
            176331
           ],
           "xaxis": "x",
           "y": [
            179502
           ],
           "yaxis": "y"
          },
          {
           "customdata": [
            [
             3
            ]
           ],
           "hovertemplate": "<b>%{hovertext}</b><br><br>Product=334--Computer & Electronic Products<br>Year=2010<br>Import=%{x}<br>Export=%{y}<br>Size=%{marker.size}<br>Rank=%{customdata[0]}<extra></extra>",
           "hovertext": [
            "334--Computer & Electronic Products"
           ],
           "legendgroup": "334--Computer & Electronic Products",
           "marker": {
            "color": "#ab63fa",
            "size": [
             80
            ],
            "sizemode": "area",
            "sizeref": 0.25,
            "symbol": "circle"
           },
           "mode": "markers",
           "name": "334--Computer & Electronic Products",
           "orientation": "v",
           "showlegend": true,
           "type": "scatter",
           "x": [
            325050
           ],
           "xaxis": "x",
           "y": [
            190435
           ],
           "yaxis": "y"
          },
          {
           "customdata": [
            [
             5
            ]
           ],
           "hovertemplate": "<b>%{hovertext}</b><br><br>Product=333--Machinery, Except Electrical<br>Year=2010<br>Import=%{x}<br>Export=%{y}<br>Size=%{marker.size}<br>Rank=%{customdata[0]}<extra></extra>",
           "hovertext": [
            "333--Machinery, Except Electrical"
           ],
           "legendgroup": "333--Machinery, Except Electrical",
           "marker": {
            "color": "#FFA15A",
            "size": [
             60
            ],
            "sizemode": "area",
            "sizeref": 0.25,
            "symbol": "circle"
           },
           "mode": "markers",
           "name": "333--Machinery, Except Electrical",
           "orientation": "v",
           "showlegend": true,
           "type": "scatter",
           "x": [
            105558
           ],
           "xaxis": "x",
           "y": [
            137800
           ],
           "yaxis": "y"
          },
          {
           "customdata": [
            [
             6
            ]
           ],
           "hovertemplate": "<b>%{hovertext}</b><br><br>Product=324--Petroleum & Coal Products<br>Year=2010<br>Import=%{x}<br>Export=%{y}<br>Size=%{marker.size}<br>Rank=%{customdata[0]}<extra></extra>",
           "hovertext": [
            "324--Petroleum & Coal Products"
           ],
           "legendgroup": "324--Petroleum & Coal Products",
           "marker": {
            "color": "#19d3f3",
            "size": [
             50
            ],
            "sizemode": "area",
            "sizeref": 0.25,
            "symbol": "circle"
           },
           "mode": "markers",
           "name": "324--Petroleum & Coal Products",
           "orientation": "v",
           "showlegend": true,
           "type": "scatter",
           "x": [
            70417
           ],
           "xaxis": "x",
           "y": [
            61438
           ],
           "yaxis": "y"
          },
          {
           "customdata": [
            [
             7
            ]
           ],
           "hovertemplate": "<b>%{hovertext}</b><br><br>Product=339--Miscellaneous Manufactures<br>Year=2010<br>Import=%{x}<br>Export=%{y}<br>Size=%{marker.size}<br>Rank=%{customdata[0]}<extra></extra>",
           "hovertext": [
            "339--Miscellaneous Manufactures"
           ],
           "legendgroup": "339--Miscellaneous Manufactures",
           "marker": {
            "color": "#FF6692",
            "size": [
             40
            ],
            "sizemode": "area",
            "sizeref": 0.25,
            "symbol": "circle"
           },
           "mode": "markers",
           "name": "339--Miscellaneous Manufactures",
           "orientation": "v",
           "showlegend": true,
           "type": "scatter",
           "x": [
            97752
           ],
           "xaxis": "x",
           "y": [
            61085
           ],
           "yaxis": "y"
          },
          {
           "customdata": [
            [
             10
            ]
           ],
           "hovertemplate": "<b>%{hovertext}</b><br><br>Product=311--Processed Foods<br>Year=2010<br>Import=%{x}<br>Export=%{y}<br>Size=%{marker.size}<br>Rank=%{customdata[0]}<extra></extra>",
           "hovertext": [
            "311--Processed Foods"
           ],
           "legendgroup": "311--Processed Foods",
           "marker": {
            "color": "#B6E880",
            "size": [
             10
            ],
            "sizemode": "area",
            "sizeref": 0.25,
            "symbol": "circle"
           },
           "mode": "markers",
           "name": "311--Processed Foods",
           "orientation": "v",
           "showlegend": true,
           "type": "scatter",
           "x": [
            41108
           ],
           "xaxis": "x",
           "y": [
            51889
           ],
           "yaxis": "y"
          },
          {
           "customdata": [
            [
             8
            ]
           ],
           "hovertemplate": "<b>%{hovertext}</b><br><br>Product=111--Agricultural Products<br>Year=2010<br>Import=%{x}<br>Export=%{y}<br>Size=%{marker.size}<br>Rank=%{customdata[0]}<extra></extra>",
           "hovertext": [
            "111--Agricultural Products"
           ],
           "legendgroup": "111--Agricultural Products",
           "marker": {
            "color": "#FF97FF",
            "size": [
             30
            ],
            "sizemode": "area",
            "sizeref": 0.25,
            "symbol": "circle"
           },
           "mode": "markers",
           "name": "111--Agricultural Products",
           "orientation": "v",
           "showlegend": true,
           "type": "scatter",
           "x": [
            23998
           ],
           "xaxis": "x",
           "y": [
            60246
           ],
           "yaxis": "y"
          },
          {
           "customdata": [
            [
             9
            ]
           ],
           "hovertemplate": "<b>%{hovertext}</b><br><br>Product=331--Primary Metal Manufactures<br>Year=2010<br>Import=%{x}<br>Export=%{y}<br>Size=%{marker.size}<br>Rank=%{customdata[0]}<extra></extra>",
           "hovertext": [
            "331--Primary Metal Manufactures"
           ],
           "legendgroup": "331--Primary Metal Manufactures",
           "marker": {
            "color": "#FECB52",
            "size": [
             20
            ],
            "sizemode": "area",
            "sizeref": 0.25,
            "symbol": "circle"
           },
           "mode": "markers",
           "name": "331--Primary Metal Manufactures",
           "orientation": "v",
           "showlegend": true,
           "type": "scatter",
           "x": [
            79640
           ],
           "xaxis": "x",
           "y": [
            53540
           ],
           "yaxis": "y"
          }
         ],
         "name": "2010"
        },
        {
         "data": [
          {
           "customdata": [
            [
             1
            ]
           ],
           "hovertemplate": "<b>%{hovertext}</b><br><br>Product=0--All Merchandise<br>Year=2011<br>Import=%{x}<br>Export=%{y}<br>Size=%{marker.size}<br>Rank=%{customdata[0]}<extra></extra>",
           "hovertext": [
            "0--All Merchandise"
           ],
           "legendgroup": "0--All Merchandise",
           "marker": {
            "color": "#636efa",
            "size": [
             100
            ],
            "sizemode": "area",
            "sizeref": 0.25,
            "symbol": "circle"
           },
           "mode": "markers",
           "name": "0--All Merchandise",
           "orientation": "v",
           "showlegend": true,
           "type": "scatter",
           "x": [
            2207954
           ],
           "xaxis": "x",
           "y": [
            1482508
           ],
           "yaxis": "y"
          },
          {
           "customdata": [
            [
             2
            ]
           ],
           "hovertemplate": "<b>%{hovertext}</b><br><br>Product=336--Transportation Equipment<br>Year=2011<br>Import=%{x}<br>Export=%{y}<br>Size=%{marker.size}<br>Rank=%{customdata[0]}<extra></extra>",
           "hovertext": [
            "336--Transportation Equipment"
           ],
           "legendgroup": "336--Transportation Equipment",
           "marker": {
            "color": "#EF553B",
            "size": [
             90
            ],
            "sizemode": "area",
            "sizeref": 0.25,
            "symbol": "circle"
           },
           "mode": "markers",
           "name": "336--Transportation Equipment",
           "orientation": "v",
           "showlegend": true,
           "type": "scatter",
           "x": [
            270439
           ],
           "xaxis": "x",
           "y": [
            218049
           ],
           "yaxis": "y"
          },
          {
           "customdata": [
            [
             4
            ]
           ],
           "hovertemplate": "<b>%{hovertext}</b><br><br>Product=325--Chemicals<br>Year=2011<br>Import=%{x}<br>Export=%{y}<br>Size=%{marker.size}<br>Rank=%{customdata[0]}<extra></extra>",
           "hovertext": [
            "325--Chemicals"
           ],
           "legendgroup": "325--Chemicals",
           "marker": {
            "color": "#00cc96",
            "size": [
             70
            ],
            "sizemode": "area",
            "sizeref": 0.25,
            "symbol": "circle"
           },
           "mode": "markers",
           "name": "325--Chemicals",
           "orientation": "v",
           "showlegend": true,
           "type": "scatter",
           "x": [
            201851
           ],
           "xaxis": "x",
           "y": [
            197470
           ],
           "yaxis": "y"
          },
          {
           "customdata": [
            [
             3
            ]
           ],
           "hovertemplate": "<b>%{hovertext}</b><br><br>Product=334--Computer & Electronic Products<br>Year=2011<br>Import=%{x}<br>Export=%{y}<br>Size=%{marker.size}<br>Rank=%{customdata[0]}<extra></extra>",
           "hovertext": [
            "334--Computer & Electronic Products"
           ],
           "legendgroup": "334--Computer & Electronic Products",
           "marker": {
            "color": "#ab63fa",
            "size": [
             80
            ],
            "sizemode": "area",
            "sizeref": 0.25,
            "symbol": "circle"
           },
           "mode": "markers",
           "name": "334--Computer & Electronic Products",
           "orientation": "v",
           "showlegend": true,
           "type": "scatter",
           "x": [
            344054
           ],
           "xaxis": "x",
           "y": [
            201577
           ],
           "yaxis": "y"
          },
          {
           "customdata": [
            [
             5
            ]
           ],
           "hovertemplate": "<b>%{hovertext}</b><br><br>Product=333--Machinery, Except Electrical<br>Year=2011<br>Import=%{x}<br>Export=%{y}<br>Size=%{marker.size}<br>Rank=%{customdata[0]}<extra></extra>",
           "hovertext": [
            "333--Machinery, Except Electrical"
           ],
           "legendgroup": "333--Machinery, Except Electrical",
           "marker": {
            "color": "#FFA15A",
            "size": [
             60
            ],
            "sizemode": "area",
            "sizeref": 0.25,
            "symbol": "circle"
           },
           "mode": "markers",
           "name": "333--Machinery, Except Electrical",
           "orientation": "v",
           "showlegend": true,
           "type": "scatter",
           "x": [
            135164
           ],
           "xaxis": "x",
           "y": [
            157179
           ],
           "yaxis": "y"
          },
          {
           "customdata": [
            [
             6
            ]
           ],
           "hovertemplate": "<b>%{hovertext}</b><br><br>Product=324--Petroleum & Coal Products<br>Year=2011<br>Import=%{x}<br>Export=%{y}<br>Size=%{marker.size}<br>Rank=%{customdata[0]}<extra></extra>",
           "hovertext": [
            "324--Petroleum & Coal Products"
           ],
           "legendgroup": "324--Petroleum & Coal Products",
           "marker": {
            "color": "#19d3f3",
            "size": [
             50
            ],
            "sizemode": "area",
            "sizeref": 0.25,
            "symbol": "circle"
           },
           "mode": "markers",
           "name": "324--Petroleum & Coal Products",
           "orientation": "v",
           "showlegend": true,
           "type": "scatter",
           "x": [
            95845
           ],
           "xaxis": "x",
           "y": [
            101933
           ],
           "yaxis": "y"
          },
          {
           "customdata": [
            [
             9
            ]
           ],
           "hovertemplate": "<b>%{hovertext}</b><br><br>Product=339--Miscellaneous Manufactures<br>Year=2011<br>Import=%{x}<br>Export=%{y}<br>Size=%{marker.size}<br>Rank=%{customdata[0]}<extra></extra>",
           "hovertext": [
            "339--Miscellaneous Manufactures"
           ],
           "legendgroup": "339--Miscellaneous Manufactures",
           "marker": {
            "color": "#FF6692",
            "size": [
             20
            ],
            "sizemode": "area",
            "sizeref": 0.25,
            "symbol": "circle"
           },
           "mode": "markers",
           "name": "339--Miscellaneous Manufactures",
           "orientation": "v",
           "showlegend": true,
           "type": "scatter",
           "x": [
            104439
           ],
           "xaxis": "x",
           "y": [
            69816
           ],
           "yaxis": "y"
          },
          {
           "customdata": [
            [
             10
            ]
           ],
           "hovertemplate": "<b>%{hovertext}</b><br><br>Product=311--Processed Foods<br>Year=2011<br>Import=%{x}<br>Export=%{y}<br>Size=%{marker.size}<br>Rank=%{customdata[0]}<extra></extra>",
           "hovertext": [
            "311--Processed Foods"
           ],
           "legendgroup": "311--Processed Foods",
           "marker": {
            "color": "#B6E880",
            "size": [
             10
            ],
            "sizemode": "area",
            "sizeref": 0.25,
            "symbol": "circle"
           },
           "mode": "markers",
           "name": "311--Processed Foods",
           "orientation": "v",
           "showlegend": true,
           "type": "scatter",
           "x": [
            50192
           ],
           "xaxis": "x",
           "y": [
            59920
           ],
           "yaxis": "y"
          },
          {
           "customdata": [
            [
             8
            ]
           ],
           "hovertemplate": "<b>%{hovertext}</b><br><br>Product=111--Agricultural Products<br>Year=2011<br>Import=%{x}<br>Export=%{y}<br>Size=%{marker.size}<br>Rank=%{customdata[0]}<extra></extra>",
           "hovertext": [
            "111--Agricultural Products"
           ],
           "legendgroup": "111--Agricultural Products",
           "marker": {
            "color": "#FF97FF",
            "size": [
             30
            ],
            "sizemode": "area",
            "sizeref": 0.25,
            "symbol": "circle"
           },
           "mode": "markers",
           "name": "111--Agricultural Products",
           "orientation": "v",
           "showlegend": true,
           "type": "scatter",
           "x": [
            28844
           ],
           "xaxis": "x",
           "y": [
            71989
           ],
           "yaxis": "y"
          },
          {
           "customdata": [
            [
             7
            ]
           ],
           "hovertemplate": "<b>%{hovertext}</b><br><br>Product=331--Primary Metal Manufactures<br>Year=2011<br>Import=%{x}<br>Export=%{y}<br>Size=%{marker.size}<br>Rank=%{customdata[0]}<extra></extra>",
           "hovertext": [
            "331--Primary Metal Manufactures"
           ],
           "legendgroup": "331--Primary Metal Manufactures",
           "marker": {
            "color": "#FECB52",
            "size": [
             40
            ],
            "sizemode": "area",
            "sizeref": 0.25,
            "symbol": "circle"
           },
           "mode": "markers",
           "name": "331--Primary Metal Manufactures",
           "orientation": "v",
           "showlegend": true,
           "type": "scatter",
           "x": [
            103491
           ],
           "xaxis": "x",
           "y": [
            76420
           ],
           "yaxis": "y"
          }
         ],
         "name": "2011"
        },
        {
         "data": [
          {
           "customdata": [
            [
             1
            ]
           ],
           "hovertemplate": "<b>%{hovertext}</b><br><br>Product=0--All Merchandise<br>Year=2012<br>Import=%{x}<br>Export=%{y}<br>Size=%{marker.size}<br>Rank=%{customdata[0]}<extra></extra>",
           "hovertext": [
            "0--All Merchandise"
           ],
           "legendgroup": "0--All Merchandise",
           "marker": {
            "color": "#636efa",
            "size": [
             100
            ],
            "sizemode": "area",
            "sizeref": 0.25,
            "symbol": "circle"
           },
           "mode": "markers",
           "name": "0--All Merchandise",
           "orientation": "v",
           "showlegend": true,
           "type": "scatter",
           "x": [
            2276267
           ],
           "xaxis": "x",
           "y": [
            1545821
           ],
           "yaxis": "y"
          },
          {
           "customdata": [
            [
             2
            ]
           ],
           "hovertemplate": "<b>%{hovertext}</b><br><br>Product=336--Transportation Equipment<br>Year=2012<br>Import=%{x}<br>Export=%{y}<br>Size=%{marker.size}<br>Rank=%{customdata[0]}<extra></extra>",
           "hovertext": [
            "336--Transportation Equipment"
           ],
           "legendgroup": "336--Transportation Equipment",
           "marker": {
            "color": "#EF553B",
            "size": [
             90
            ],
            "sizemode": "area",
            "sizeref": 0.25,
            "symbol": "circle"
           },
           "mode": "markers",
           "name": "336--Transportation Equipment",
           "orientation": "v",
           "showlegend": true,
           "type": "scatter",
           "x": [
            318036
           ],
           "xaxis": "x",
           "y": [
            241337
           ],
           "yaxis": "y"
          },
          {
           "customdata": [
            [
             4
            ]
           ],
           "hovertemplate": "<b>%{hovertext}</b><br><br>Product=325--Chemicals<br>Year=2012<br>Import=%{x}<br>Export=%{y}<br>Size=%{marker.size}<br>Rank=%{customdata[0]}<extra></extra>",
           "hovertext": [
            "325--Chemicals"
           ],
           "legendgroup": "325--Chemicals",
           "marker": {
            "color": "#00cc96",
            "size": [
             70
            ],
            "sizemode": "area",
            "sizeref": 0.25,
            "symbol": "circle"
           },
           "mode": "markers",
           "name": "325--Chemicals",
           "orientation": "v",
           "showlegend": true,
           "type": "scatter",
           "x": [
            197900
           ],
           "xaxis": "x",
           "y": [
            197529
           ],
           "yaxis": "y"
          },
          {
           "customdata": [
            [
             3
            ]
           ],
           "hovertemplate": "<b>%{hovertext}</b><br><br>Product=334--Computer & Electronic Products<br>Year=2012<br>Import=%{x}<br>Export=%{y}<br>Size=%{marker.size}<br>Rank=%{customdata[0]}<extra></extra>",
           "hovertext": [
            "334--Computer & Electronic Products"
           ],
           "legendgroup": "334--Computer & Electronic Products",
           "marker": {
            "color": "#ab63fa",
            "size": [
             80
            ],
            "sizemode": "area",
            "sizeref": 0.25,
            "symbol": "circle"
           },
           "mode": "markers",
           "name": "334--Computer & Electronic Products",
           "orientation": "v",
           "showlegend": true,
           "type": "scatter",
           "x": [
            347794
           ],
           "xaxis": "x",
           "y": [
            203164
           ],
           "yaxis": "y"
          },
          {
           "customdata": [
            [
             5
            ]
           ],
           "hovertemplate": "<b>%{hovertext}</b><br><br>Product=333--Machinery, Except Electrical<br>Year=2012<br>Import=%{x}<br>Export=%{y}<br>Size=%{marker.size}<br>Rank=%{customdata[0]}<extra></extra>",
           "hovertext": [
            "333--Machinery, Except Electrical"
           ],
           "legendgroup": "333--Machinery, Except Electrical",
           "marker": {
            "color": "#FFA15A",
            "size": [
             60
            ],
            "sizemode": "area",
            "sizeref": 0.25,
            "symbol": "circle"
           },
           "mode": "markers",
           "name": "333--Machinery, Except Electrical",
           "orientation": "v",
           "showlegend": true,
           "type": "scatter",
           "x": [
            151253
           ],
           "xaxis": "x",
           "y": [
            159548
           ],
           "yaxis": "y"
          },
          {
           "customdata": [
            [
             6
            ]
           ],
           "hovertemplate": "<b>%{hovertext}</b><br><br>Product=324--Petroleum & Coal Products<br>Year=2012<br>Import=%{x}<br>Export=%{y}<br>Size=%{marker.size}<br>Rank=%{customdata[0]}<extra></extra>",
           "hovertext": [
            "324--Petroleum & Coal Products"
           ],
           "legendgroup": "324--Petroleum & Coal Products",
           "marker": {
            "color": "#19d3f3",
            "size": [
             50
            ],
            "sizemode": "area",
            "sizeref": 0.25,
            "symbol": "circle"
           },
           "mode": "markers",
           "name": "324--Petroleum & Coal Products",
           "orientation": "v",
           "showlegend": true,
           "type": "scatter",
           "x": [
            94064
           ],
           "xaxis": "x",
           "y": [
            111150
           ],
           "yaxis": "y"
          },
          {
           "customdata": [
            [
             8
            ]
           ],
           "hovertemplate": "<b>%{hovertext}</b><br><br>Product=339--Miscellaneous Manufactures<br>Year=2012<br>Import=%{x}<br>Export=%{y}<br>Size=%{marker.size}<br>Rank=%{customdata[0]}<extra></extra>",
           "hovertext": [
            "339--Miscellaneous Manufactures"
           ],
           "legendgroup": "339--Miscellaneous Manufactures",
           "marker": {
            "color": "#FF6692",
            "size": [
             30
            ],
            "sizemode": "area",
            "sizeref": 0.25,
            "symbol": "circle"
           },
           "mode": "markers",
           "name": "339--Miscellaneous Manufactures",
           "orientation": "v",
           "showlegend": true,
           "type": "scatter",
           "x": [
            101840
           ],
           "xaxis": "x",
           "y": [
            72481
           ],
           "yaxis": "y"
          },
          {
           "customdata": [
            [
             10
            ]
           ],
           "hovertemplate": "<b>%{hovertext}</b><br><br>Product=311--Processed Foods<br>Year=2012<br>Import=%{x}<br>Export=%{y}<br>Size=%{marker.size}<br>Rank=%{customdata[0]}<extra></extra>",
           "hovertext": [
            "311--Processed Foods"
           ],
           "legendgroup": "311--Processed Foods",
           "marker": {
            "color": "#B6E880",
            "size": [
             10
            ],
            "sizemode": "area",
            "sizeref": 0.25,
            "symbol": "circle"
           },
           "mode": "markers",
           "name": "311--Processed Foods",
           "orientation": "v",
           "showlegend": true,
           "type": "scatter",
           "x": [
            54347
           ],
           "xaxis": "x",
           "y": [
            64927
           ],
           "yaxis": "y"
          },
          {
           "customdata": [
            [
             9
            ]
           ],
           "hovertemplate": "<b>%{hovertext}</b><br><br>Product=111--Agricultural Products<br>Year=2012<br>Import=%{x}<br>Export=%{y}<br>Size=%{marker.size}<br>Rank=%{customdata[0]}<extra></extra>",
           "hovertext": [
            "111--Agricultural Products"
           ],
           "legendgroup": "111--Agricultural Products",
           "marker": {
            "color": "#FF97FF",
            "size": [
             20
            ],
            "sizemode": "area",
            "sizeref": 0.25,
            "symbol": "circle"
           },
           "mode": "markers",
           "name": "111--Agricultural Products",
           "orientation": "v",
           "showlegend": true,
           "type": "scatter",
           "x": [
            29331
           ],
           "xaxis": "x",
           "y": [
            71078
           ],
           "yaxis": "y"
          },
          {
           "customdata": [
            [
             7
            ]
           ],
           "hovertemplate": "<b>%{hovertext}</b><br><br>Product=331--Primary Metal Manufactures<br>Year=2012<br>Import=%{x}<br>Export=%{y}<br>Size=%{marker.size}<br>Rank=%{customdata[0]}<extra></extra>",
           "hovertext": [
            "331--Primary Metal Manufactures"
           ],
           "legendgroup": "331--Primary Metal Manufactures",
           "marker": {
            "color": "#FECB52",
            "size": [
             40
            ],
            "sizemode": "area",
            "sizeref": 0.25,
            "symbol": "circle"
           },
           "mode": "markers",
           "name": "331--Primary Metal Manufactures",
           "orientation": "v",
           "showlegend": true,
           "type": "scatter",
           "x": [
            101464
           ],
           "xaxis": "x",
           "y": [
            78404
           ],
           "yaxis": "y"
          }
         ],
         "name": "2012"
        },
        {
         "data": [
          {
           "customdata": [
            [
             1
            ]
           ],
           "hovertemplate": "<b>%{hovertext}</b><br><br>Product=0--All Merchandise<br>Year=2013<br>Import=%{x}<br>Export=%{y}<br>Size=%{marker.size}<br>Rank=%{customdata[0]}<extra></extra>",
           "hovertext": [
            "0--All Merchandise"
           ],
           "legendgroup": "0--All Merchandise",
           "marker": {
            "color": "#636efa",
            "size": [
             100
            ],
            "sizemode": "area",
            "sizeref": 0.25,
            "symbol": "circle"
           },
           "mode": "markers",
           "name": "0--All Merchandise",
           "orientation": "v",
           "showlegend": true,
           "type": "scatter",
           "x": [
            2267987
           ],
           "xaxis": "x",
           "y": [
            1578517
           ],
           "yaxis": "y"
          },
          {
           "customdata": [
            [
             2
            ]
           ],
           "hovertemplate": "<b>%{hovertext}</b><br><br>Product=336--Transportation Equipment<br>Year=2013<br>Import=%{x}<br>Export=%{y}<br>Size=%{marker.size}<br>Rank=%{customdata[0]}<extra></extra>",
           "hovertext": [
            "336--Transportation Equipment"
           ],
           "legendgroup": "336--Transportation Equipment",
           "marker": {
            "color": "#EF553B",
            "size": [
             90
            ],
            "sizemode": "area",
            "sizeref": 0.25,
            "symbol": "circle"
           },
           "mode": "markers",
           "name": "336--Transportation Equipment",
           "orientation": "v",
           "showlegend": true,
           "type": "scatter",
           "x": [
            334176
           ],
           "xaxis": "x",
           "y": [
            258286
           ],
           "yaxis": "y"
          },
          {
           "customdata": [
            [
             4
            ]
           ],
           "hovertemplate": "<b>%{hovertext}</b><br><br>Product=325--Chemicals<br>Year=2013<br>Import=%{x}<br>Export=%{y}<br>Size=%{marker.size}<br>Rank=%{customdata[0]}<extra></extra>",
           "hovertext": [
            "325--Chemicals"
           ],
           "legendgroup": "325--Chemicals",
           "marker": {
            "color": "#00cc96",
            "size": [
             70
            ],
            "sizemode": "area",
            "sizeref": 0.25,
            "symbol": "circle"
           },
           "mode": "markers",
           "name": "325--Chemicals",
           "orientation": "v",
           "showlegend": true,
           "type": "scatter",
           "x": [
            195425
           ],
           "xaxis": "x",
           "y": [
            199502
           ],
           "yaxis": "y"
          },
          {
           "customdata": [
            [
             3
            ]
           ],
           "hovertemplate": "<b>%{hovertext}</b><br><br>Product=334--Computer & Electronic Products<br>Year=2013<br>Import=%{x}<br>Export=%{y}<br>Size=%{marker.size}<br>Rank=%{customdata[0]}<extra></extra>",
           "hovertext": [
            "334--Computer & Electronic Products"
           ],
           "legendgroup": "334--Computer & Electronic Products",
           "marker": {
            "color": "#ab63fa",
            "size": [
             80
            ],
            "sizemode": "area",
            "sizeref": 0.25,
            "symbol": "circle"
           },
           "mode": "markers",
           "name": "334--Computer & Electronic Products",
           "orientation": "v",
           "showlegend": true,
           "type": "scatter",
           "x": [
            351379
           ],
           "xaxis": "x",
           "y": [
            204640
           ],
           "yaxis": "y"
          },
          {
           "customdata": [
            [
             5
            ]
           ],
           "hovertemplate": "<b>%{hovertext}</b><br><br>Product=333--Machinery, Except Electrical<br>Year=2013<br>Import=%{x}<br>Export=%{y}<br>Size=%{marker.size}<br>Rank=%{customdata[0]}<extra></extra>",
           "hovertext": [
            "333--Machinery, Except Electrical"
           ],
           "legendgroup": "333--Machinery, Except Electrical",
           "marker": {
            "color": "#FFA15A",
            "size": [
             60
            ],
            "sizemode": "area",
            "sizeref": 0.25,
            "symbol": "circle"
           },
           "mode": "markers",
           "name": "333--Machinery, Except Electrical",
           "orientation": "v",
           "showlegend": true,
           "type": "scatter",
           "x": [
            146853
           ],
           "xaxis": "x",
           "y": [
            150139
           ],
           "yaxis": "y"
          },
          {
           "customdata": [
            [
             6
            ]
           ],
           "hovertemplate": "<b>%{hovertext}</b><br><br>Product=324--Petroleum & Coal Products<br>Year=2013<br>Import=%{x}<br>Export=%{y}<br>Size=%{marker.size}<br>Rank=%{customdata[0]}<extra></extra>",
           "hovertext": [
            "324--Petroleum & Coal Products"
           ],
           "legendgroup": "324--Petroleum & Coal Products",
           "marker": {
            "color": "#19d3f3",
            "size": [
             50
            ],
            "sizemode": "area",
            "sizeref": 0.25,
            "symbol": "circle"
           },
           "mode": "markers",
           "name": "324--Petroleum & Coal Products",
           "orientation": "v",
           "showlegend": true,
           "type": "scatter",
           "x": [
            91081
           ],
           "xaxis": "x",
           "y": [
            119521
           ],
           "yaxis": "y"
          },
          {
           "customdata": [
            [
             7
            ]
           ],
           "hovertemplate": "<b>%{hovertext}</b><br><br>Product=339--Miscellaneous Manufactures<br>Year=2013<br>Import=%{x}<br>Export=%{y}<br>Size=%{marker.size}<br>Rank=%{customdata[0]}<extra></extra>",
           "hovertext": [
            "339--Miscellaneous Manufactures"
           ],
           "legendgroup": "339--Miscellaneous Manufactures",
           "marker": {
            "color": "#FF6692",
            "size": [
             40
            ],
            "sizemode": "area",
            "sizeref": 0.25,
            "symbol": "circle"
           },
           "mode": "markers",
           "name": "339--Miscellaneous Manufactures",
           "orientation": "v",
           "showlegend": true,
           "type": "scatter",
           "x": [
            107770
           ],
           "xaxis": "x",
           "y": [
            77852
           ],
           "yaxis": "y"
          },
          {
           "customdata": [
            [
             10
            ]
           ],
           "hovertemplate": "<b>%{hovertext}</b><br><br>Product=311--Processed Foods<br>Year=2013<br>Import=%{x}<br>Export=%{y}<br>Size=%{marker.size}<br>Rank=%{customdata[0]}<extra></extra>",
           "hovertext": [
            "311--Processed Foods"
           ],
           "legendgroup": "311--Processed Foods",
           "marker": {
            "color": "#B6E880",
            "size": [
             10
            ],
            "sizemode": "area",
            "sizeref": 0.25,
            "symbol": "circle"
           },
           "mode": "markers",
           "name": "311--Processed Foods",
           "orientation": "v",
           "showlegend": true,
           "type": "scatter",
           "x": [
            52823
           ],
           "xaxis": "x",
           "y": [
            68775
           ],
           "yaxis": "y"
          },
          {
           "customdata": [
            [
             9
            ]
           ],
           "hovertemplate": "<b>%{hovertext}</b><br><br>Product=111--Agricultural Products<br>Year=2013<br>Import=%{x}<br>Export=%{y}<br>Size=%{marker.size}<br>Rank=%{customdata[0]}<extra></extra>",
           "hovertext": [
            "111--Agricultural Products"
           ],
           "legendgroup": "111--Agricultural Products",
           "marker": {
            "color": "#FF97FF",
            "size": [
             20
            ],
            "sizemode": "area",
            "sizeref": 0.25,
            "symbol": "circle"
           },
           "mode": "markers",
           "name": "111--Agricultural Products",
           "orientation": "v",
           "showlegend": true,
           "type": "scatter",
           "x": [
            31769
           ],
           "xaxis": "x",
           "y": [
            68935
           ],
           "yaxis": "y"
          },
          {
           "customdata": [
            [
             8
            ]
           ],
           "hovertemplate": "<b>%{hovertext}</b><br><br>Product=331--Primary Metal Manufactures<br>Year=2013<br>Import=%{x}<br>Export=%{y}<br>Size=%{marker.size}<br>Rank=%{customdata[0]}<extra></extra>",
           "hovertext": [
            "331--Primary Metal Manufactures"
           ],
           "legendgroup": "331--Primary Metal Manufactures",
           "marker": {
            "color": "#FECB52",
            "size": [
             30
            ],
            "sizemode": "area",
            "sizeref": 0.25,
            "symbol": "circle"
           },
           "mode": "markers",
           "name": "331--Primary Metal Manufactures",
           "orientation": "v",
           "showlegend": true,
           "type": "scatter",
           "x": [
            92283
           ],
           "xaxis": "x",
           "y": [
            73407
           ],
           "yaxis": "y"
          }
         ],
         "name": "2013"
        },
        {
         "data": [
          {
           "customdata": [
            [
             1
            ]
           ],
           "hovertemplate": "<b>%{hovertext}</b><br><br>Product=0--All Merchandise<br>Year=2014<br>Import=%{x}<br>Export=%{y}<br>Size=%{marker.size}<br>Rank=%{customdata[0]}<extra></extra>",
           "hovertext": [
            "0--All Merchandise"
           ],
           "legendgroup": "0--All Merchandise",
           "marker": {
            "color": "#636efa",
            "size": [
             100
            ],
            "sizemode": "area",
            "sizeref": 0.25,
            "symbol": "circle"
           },
           "mode": "markers",
           "name": "0--All Merchandise",
           "orientation": "v",
           "showlegend": true,
           "type": "scatter",
           "x": [
            2356356
           ],
           "xaxis": "x",
           "y": [
            1621874
           ],
           "yaxis": "y"
          },
          {
           "customdata": [
            [
             2
            ]
           ],
           "hovertemplate": "<b>%{hovertext}</b><br><br>Product=336--Transportation Equipment<br>Year=2014<br>Import=%{x}<br>Export=%{y}<br>Size=%{marker.size}<br>Rank=%{customdata[0]}<extra></extra>",
           "hovertext": [
            "336--Transportation Equipment"
           ],
           "legendgroup": "336--Transportation Equipment",
           "marker": {
            "color": "#EF553B",
            "size": [
             90
            ],
            "sizemode": "area",
            "sizeref": 0.25,
            "symbol": "circle"
           },
           "mode": "markers",
           "name": "336--Transportation Equipment",
           "orientation": "v",
           "showlegend": true,
           "type": "scatter",
           "x": [
            356731
           ],
           "xaxis": "x",
           "y": [
            273784
           ],
           "yaxis": "y"
          },
          {
           "customdata": [
            [
             4
            ]
           ],
           "hovertemplate": "<b>%{hovertext}</b><br><br>Product=325--Chemicals<br>Year=2014<br>Import=%{x}<br>Export=%{y}<br>Size=%{marker.size}<br>Rank=%{customdata[0]}<extra></extra>",
           "hovertext": [
            "325--Chemicals"
           ],
           "legendgroup": "325--Chemicals",
           "marker": {
            "color": "#00cc96",
            "size": [
             70
            ],
            "sizemode": "area",
            "sizeref": 0.25,
            "symbol": "circle"
           },
           "mode": "markers",
           "name": "325--Chemicals",
           "orientation": "v",
           "showlegend": true,
           "type": "scatter",
           "x": [
            205732
           ],
           "xaxis": "x",
           "y": [
            200407
           ],
           "yaxis": "y"
          },
          {
           "customdata": [
            [
             3
            ]
           ],
           "hovertemplate": "<b>%{hovertext}</b><br><br>Product=334--Computer & Electronic Products<br>Year=2014<br>Import=%{x}<br>Export=%{y}<br>Size=%{marker.size}<br>Rank=%{customdata[0]}<extra></extra>",
           "hovertext": [
            "334--Computer & Electronic Products"
           ],
           "legendgroup": "334--Computer & Electronic Products",
           "marker": {
            "color": "#ab63fa",
            "size": [
             80
            ],
            "sizemode": "area",
            "sizeref": 0.25,
            "symbol": "circle"
           },
           "mode": "markers",
           "name": "334--Computer & Electronic Products",
           "orientation": "v",
           "showlegend": true,
           "type": "scatter",
           "x": [
            366603
           ],
           "xaxis": "x",
           "y": [
            209123
           ],
           "yaxis": "y"
          },
          {
           "customdata": [
            [
             5
            ]
           ],
           "hovertemplate": "<b>%{hovertext}</b><br><br>Product=333--Machinery, Except Electrical<br>Year=2014<br>Import=%{x}<br>Export=%{y}<br>Size=%{marker.size}<br>Rank=%{customdata[0]}<extra></extra>",
           "hovertext": [
            "333--Machinery, Except Electrical"
           ],
           "legendgroup": "333--Machinery, Except Electrical",
           "marker": {
            "color": "#FFA15A",
            "size": [
             60
            ],
            "sizemode": "area",
            "sizeref": 0.25,
            "symbol": "circle"
           },
           "mode": "markers",
           "name": "333--Machinery, Except Electrical",
           "orientation": "v",
           "showlegend": true,
           "type": "scatter",
           "x": [
            161242
           ],
           "xaxis": "x",
           "y": [
            152587
           ],
           "yaxis": "y"
          },
          {
           "customdata": [
            [
             6
            ]
           ],
           "hovertemplate": "<b>%{hovertext}</b><br><br>Product=324--Petroleum & Coal Products<br>Year=2014<br>Import=%{x}<br>Export=%{y}<br>Size=%{marker.size}<br>Rank=%{customdata[0]}<extra></extra>",
           "hovertext": [
            "324--Petroleum & Coal Products"
           ],
           "legendgroup": "324--Petroleum & Coal Products",
           "marker": {
            "color": "#19d3f3",
            "size": [
             50
            ],
            "sizemode": "area",
            "sizeref": 0.25,
            "symbol": "circle"
           },
           "mode": "markers",
           "name": "324--Petroleum & Coal Products",
           "orientation": "v",
           "showlegend": true,
           "type": "scatter",
           "x": [
            81983
           ],
           "xaxis": "x",
           "y": [
            117956
           ],
           "yaxis": "y"
          },
          {
           "customdata": [
            [
             7
            ]
           ],
           "hovertemplate": "<b>%{hovertext}</b><br><br>Product=339--Miscellaneous Manufactures<br>Year=2014<br>Import=%{x}<br>Export=%{y}<br>Size=%{marker.size}<br>Rank=%{customdata[0]}<extra></extra>",
           "hovertext": [
            "339--Miscellaneous Manufactures"
           ],
           "legendgroup": "339--Miscellaneous Manufactures",
           "marker": {
            "color": "#FF6692",
            "size": [
             40
            ],
            "sizemode": "area",
            "sizeref": 0.25,
            "symbol": "circle"
           },
           "mode": "markers",
           "name": "339--Miscellaneous Manufactures",
           "orientation": "v",
           "showlegend": true,
           "type": "scatter",
           "x": [
            111635
           ],
           "xaxis": "x",
           "y": [
            81912
           ],
           "yaxis": "y"
          },
          {
           "customdata": [
            [
             9
            ]
           ],
           "hovertemplate": "<b>%{hovertext}</b><br><br>Product=311--Processed Foods<br>Year=2014<br>Import=%{x}<br>Export=%{y}<br>Size=%{marker.size}<br>Rank=%{customdata[0]}<extra></extra>",
           "hovertext": [
            "311--Processed Foods"
           ],
           "legendgroup": "311--Processed Foods",
           "marker": {
            "color": "#B6E880",
            "size": [
             20
            ],
            "sizemode": "area",
            "sizeref": 0.25,
            "symbol": "circle"
           },
           "mode": "markers",
           "name": "311--Processed Foods",
           "orientation": "v",
           "showlegend": true,
           "type": "scatter",
           "x": [
            57193
           ],
           "xaxis": "x",
           "y": [
            70684
           ],
           "yaxis": "y"
          },
          {
           "customdata": [
            [
             8
            ]
           ],
           "hovertemplate": "<b>%{hovertext}</b><br><br>Product=111--Agricultural Products<br>Year=2014<br>Import=%{x}<br>Export=%{y}<br>Size=%{marker.size}<br>Rank=%{customdata[0]}<extra></extra>",
           "hovertext": [
            "111--Agricultural Products"
           ],
           "legendgroup": "111--Agricultural Products",
           "marker": {
            "color": "#FF97FF",
            "size": [
             30
            ],
            "sizemode": "area",
            "sizeref": 0.25,
            "symbol": "circle"
           },
           "mode": "markers",
           "name": "111--Agricultural Products",
           "orientation": "v",
           "showlegend": true,
           "type": "scatter",
           "x": [
            33629
           ],
           "xaxis": "x",
           "y": [
            72929
           ],
           "yaxis": "y"
          },
          {
           "customdata": [
            [
             10
            ]
           ],
           "hovertemplate": "<b>%{hovertext}</b><br><br>Product=331--Primary Metal Manufactures<br>Year=2014<br>Import=%{x}<br>Export=%{y}<br>Size=%{marker.size}<br>Rank=%{customdata[0]}<extra></extra>",
           "hovertext": [
            "331--Primary Metal Manufactures"
           ],
           "legendgroup": "331--Primary Metal Manufactures",
           "marker": {
            "color": "#FECB52",
            "size": [
             10
            ],
            "sizemode": "area",
            "sizeref": 0.25,
            "symbol": "circle"
           },
           "mode": "markers",
           "name": "331--Primary Metal Manufactures",
           "orientation": "v",
           "showlegend": true,
           "type": "scatter",
           "x": [
            101223
           ],
           "xaxis": "x",
           "y": [
            64073
           ],
           "yaxis": "y"
          }
         ],
         "name": "2014"
        },
        {
         "data": [
          {
           "customdata": [
            [
             1
            ]
           ],
           "hovertemplate": "<b>%{hovertext}</b><br><br>Product=0--All Merchandise<br>Year=2015<br>Import=%{x}<br>Export=%{y}<br>Size=%{marker.size}<br>Rank=%{customdata[0]}<extra></extra>",
           "hovertext": [
            "0--All Merchandise"
           ],
           "legendgroup": "0--All Merchandise",
           "marker": {
            "color": "#636efa",
            "size": [
             100
            ],
            "sizemode": "area",
            "sizeref": 0.25,
            "symbol": "circle"
           },
           "mode": "markers",
           "name": "0--All Merchandise",
           "orientation": "v",
           "showlegend": true,
           "type": "scatter",
           "x": [
            2248811
           ],
           "xaxis": "x",
           "y": [
            1503328
           ],
           "yaxis": "y"
          },
          {
           "customdata": [
            [
             2
            ]
           ],
           "hovertemplate": "<b>%{hovertext}</b><br><br>Product=336--Transportation Equipment<br>Year=2015<br>Import=%{x}<br>Export=%{y}<br>Size=%{marker.size}<br>Rank=%{customdata[0]}<extra></extra>",
           "hovertext": [
            "336--Transportation Equipment"
           ],
           "legendgroup": "336--Transportation Equipment",
           "marker": {
            "color": "#EF553B",
            "size": [
             90
            ],
            "sizemode": "area",
            "sizeref": 0.25,
            "symbol": "circle"
           },
           "mode": "markers",
           "name": "336--Transportation Equipment",
           "orientation": "v",
           "showlegend": true,
           "type": "scatter",
           "x": [
            379265
           ],
           "xaxis": "x",
           "y": [
            275643
           ],
           "yaxis": "y"
          },
          {
           "customdata": [
            [
             4
            ]
           ],
           "hovertemplate": "<b>%{hovertext}</b><br><br>Product=325--Chemicals<br>Year=2015<br>Import=%{x}<br>Export=%{y}<br>Size=%{marker.size}<br>Rank=%{customdata[0]}<extra></extra>",
           "hovertext": [
            "325--Chemicals"
           ],
           "legendgroup": "325--Chemicals",
           "marker": {
            "color": "#00cc96",
            "size": [
             70
            ],
            "sizemode": "area",
            "sizeref": 0.25,
            "symbol": "circle"
           },
           "mode": "markers",
           "name": "325--Chemicals",
           "orientation": "v",
           "showlegend": true,
           "type": "scatter",
           "x": [
            213842
           ],
           "xaxis": "x",
           "y": [
            193834
           ],
           "yaxis": "y"
          },
          {
           "customdata": [
            [
             3
            ]
           ],
           "hovertemplate": "<b>%{hovertext}</b><br><br>Product=334--Computer & Electronic Products<br>Year=2015<br>Import=%{x}<br>Export=%{y}<br>Size=%{marker.size}<br>Rank=%{customdata[0]}<extra></extra>",
           "hovertext": [
            "334--Computer & Electronic Products"
           ],
           "legendgroup": "334--Computer & Electronic Products",
           "marker": {
            "color": "#ab63fa",
            "size": [
             80
            ],
            "sizemode": "area",
            "sizeref": 0.25,
            "symbol": "circle"
           },
           "mode": "markers",
           "name": "334--Computer & Electronic Products",
           "orientation": "v",
           "showlegend": true,
           "type": "scatter",
           "x": [
            376038
           ],
           "xaxis": "x",
           "y": [
            204697
           ],
           "yaxis": "y"
          },
          {
           "customdata": [
            [
             5
            ]
           ],
           "hovertemplate": "<b>%{hovertext}</b><br><br>Product=333--Machinery, Except Electrical<br>Year=2015<br>Import=%{x}<br>Export=%{y}<br>Size=%{marker.size}<br>Rank=%{customdata[0]}<extra></extra>",
           "hovertext": [
            "333--Machinery, Except Electrical"
           ],
           "legendgroup": "333--Machinery, Except Electrical",
           "marker": {
            "color": "#FFA15A",
            "size": [
             60
            ],
            "sizemode": "area",
            "sizeref": 0.25,
            "symbol": "circle"
           },
           "mode": "markers",
           "name": "333--Machinery, Except Electrical",
           "orientation": "v",
           "showlegend": true,
           "type": "scatter",
           "x": [
            158568
           ],
           "xaxis": "x",
           "y": [
            139101
           ],
           "yaxis": "y"
          },
          {
           "customdata": [
            [
             6
            ]
           ],
           "hovertemplate": "<b>%{hovertext}</b><br><br>Product=324--Petroleum & Coal Products<br>Year=2015<br>Import=%{x}<br>Export=%{y}<br>Size=%{marker.size}<br>Rank=%{customdata[0]}<extra></extra>",
           "hovertext": [
            "324--Petroleum & Coal Products"
           ],
           "legendgroup": "324--Petroleum & Coal Products",
           "marker": {
            "color": "#19d3f3",
            "size": [
             50
            ],
            "sizemode": "area",
            "sizeref": 0.25,
            "symbol": "circle"
           },
           "mode": "markers",
           "name": "324--Petroleum & Coal Products",
           "orientation": "v",
           "showlegend": true,
           "type": "scatter",
           "x": [
            52770
           ],
           "xaxis": "x",
           "y": [
            78610
           ],
           "yaxis": "y"
          },
          {
           "customdata": [
            [
             7
            ]
           ],
           "hovertemplate": "<b>%{hovertext}</b><br><br>Product=339--Miscellaneous Manufactures<br>Year=2015<br>Import=%{x}<br>Export=%{y}<br>Size=%{marker.size}<br>Rank=%{customdata[0]}<extra></extra>",
           "hovertext": [
            "339--Miscellaneous Manufactures"
           ],
           "legendgroup": "339--Miscellaneous Manufactures",
           "marker": {
            "color": "#FF6692",
            "size": [
             40
            ],
            "sizemode": "area",
            "sizeref": 0.25,
            "symbol": "circle"
           },
           "mode": "markers",
           "name": "339--Miscellaneous Manufactures",
           "orientation": "v",
           "showlegend": true,
           "type": "scatter",
           "x": [
            115527
           ],
           "xaxis": "x",
           "y": [
            78249
           ],
           "yaxis": "y"
          },
          {
           "customdata": [
            [
             8
            ]
           ],
           "hovertemplate": "<b>%{hovertext}</b><br><br>Product=311--Processed Foods<br>Year=2015<br>Import=%{x}<br>Export=%{y}<br>Size=%{marker.size}<br>Rank=%{customdata[0]}<extra></extra>",
           "hovertext": [
            "311--Processed Foods"
           ],
           "legendgroup": "311--Processed Foods",
           "marker": {
            "color": "#B6E880",
            "size": [
             30
            ],
            "sizemode": "area",
            "sizeref": 0.25,
            "symbol": "circle"
           },
           "mode": "markers",
           "name": "311--Processed Foods",
           "orientation": "v",
           "showlegend": true,
           "type": "scatter",
           "x": [
            58505
           ],
           "xaxis": "x",
           "y": [
            63205
           ],
           "yaxis": "y"
          },
          {
           "customdata": [
            [
             9
            ]
           ],
           "hovertemplate": "<b>%{hovertext}</b><br><br>Product=111--Agricultural Products<br>Year=2015<br>Import=%{x}<br>Export=%{y}<br>Size=%{marker.size}<br>Rank=%{customdata[0]}<extra></extra>",
           "hovertext": [
            "111--Agricultural Products"
           ],
           "legendgroup": "111--Agricultural Products",
           "marker": {
            "color": "#FF97FF",
            "size": [
             20
            ],
            "sizemode": "area",
            "sizeref": 0.25,
            "symbol": "circle"
           },
           "mode": "markers",
           "name": "111--Agricultural Products",
           "orientation": "v",
           "showlegend": true,
           "type": "scatter",
           "x": [
            33423
           ],
           "xaxis": "x",
           "y": [
            62912
           ],
           "yaxis": "y"
          },
          {
           "customdata": [
            [
             10
            ]
           ],
           "hovertemplate": "<b>%{hovertext}</b><br><br>Product=335--Electrical Equipment, Appliances & Components<br>Year=2015<br>Import=%{x}<br>Export=%{y}<br>Size=%{marker.size}<br>Rank=%{customdata[0]}<extra></extra>",
           "hovertext": [
            "335--Electrical Equipment, Appliances & Components"
           ],
           "legendgroup": "335--Electrical Equipment, Appliances & Components",
           "marker": {
            "color": "#636efa",
            "size": [
             10
            ],
            "sizemode": "area",
            "sizeref": 0.25,
            "symbol": "circle"
           },
           "mode": "markers",
           "name": "335--Electrical Equipment, Appliances & Components",
           "orientation": "v",
           "showlegend": true,
           "type": "scatter",
           "x": [
            104250
           ],
           "xaxis": "x",
           "y": [
            60404
           ],
           "yaxis": "y"
          }
         ],
         "name": "2015"
        },
        {
         "data": [
          {
           "customdata": [
            [
             1
            ]
           ],
           "hovertemplate": "<b>%{hovertext}</b><br><br>Product=0--All Merchandise<br>Year=2016<br>Import=%{x}<br>Export=%{y}<br>Size=%{marker.size}<br>Rank=%{customdata[0]}<extra></extra>",
           "hovertext": [
            "0--All Merchandise"
           ],
           "legendgroup": "0--All Merchandise",
           "marker": {
            "color": "#636efa",
            "size": [
             100
            ],
            "sizemode": "area",
            "sizeref": 0.25,
            "symbol": "circle"
           },
           "mode": "markers",
           "name": "0--All Merchandise",
           "orientation": "v",
           "showlegend": true,
           "type": "scatter",
           "x": [
            2186786
           ],
           "xaxis": "x",
           "y": [
            1451460
           ],
           "yaxis": "y"
          },
          {
           "customdata": [
            [
             2
            ]
           ],
           "hovertemplate": "<b>%{hovertext}</b><br><br>Product=336--Transportation Equipment<br>Year=2016<br>Import=%{x}<br>Export=%{y}<br>Size=%{marker.size}<br>Rank=%{customdata[0]}<extra></extra>",
           "hovertext": [
            "336--Transportation Equipment"
           ],
           "legendgroup": "336--Transportation Equipment",
           "marker": {
            "color": "#EF553B",
            "size": [
             90
            ],
            "sizemode": "area",
            "sizeref": 0.25,
            "symbol": "circle"
           },
           "mode": "markers",
           "name": "336--Transportation Equipment",
           "orientation": "v",
           "showlegend": true,
           "type": "scatter",
           "x": [
            374773
           ],
           "xaxis": "x",
           "y": [
            276796
           ],
           "yaxis": "y"
          },
          {
           "customdata": [
            [
             4
            ]
           ],
           "hovertemplate": "<b>%{hovertext}</b><br><br>Product=325--Chemicals<br>Year=2016<br>Import=%{x}<br>Export=%{y}<br>Size=%{marker.size}<br>Rank=%{customdata[0]}<extra></extra>",
           "hovertext": [
            "325--Chemicals"
           ],
           "legendgroup": "325--Chemicals",
           "marker": {
            "color": "#00cc96",
            "size": [
             70
            ],
            "sizemode": "area",
            "sizeref": 0.25,
            "symbol": "circle"
           },
           "mode": "markers",
           "name": "325--Chemicals",
           "orientation": "v",
           "showlegend": true,
           "type": "scatter",
           "x": [
            214695
           ],
           "xaxis": "x",
           "y": [
            184376
           ],
           "yaxis": "y"
          },
          {
           "customdata": [
            [
             3
            ]
           ],
           "hovertemplate": "<b>%{hovertext}</b><br><br>Product=334--Computer & Electronic Products<br>Year=2016<br>Import=%{x}<br>Export=%{y}<br>Size=%{marker.size}<br>Rank=%{customdata[0]}<extra></extra>",
           "hovertext": [
            "334--Computer & Electronic Products"
           ],
           "legendgroup": "334--Computer & Electronic Products",
           "marker": {
            "color": "#ab63fa",
            "size": [
             80
            ],
            "sizemode": "area",
            "sizeref": 0.25,
            "symbol": "circle"
           },
           "mode": "markers",
           "name": "334--Computer & Electronic Products",
           "orientation": "v",
           "showlegend": true,
           "type": "scatter",
           "x": [
            372664
           ],
           "xaxis": "x",
           "y": [
            201759
           ],
           "yaxis": "y"
          },
          {
           "customdata": [
            [
             5
            ]
           ],
           "hovertemplate": "<b>%{hovertext}</b><br><br>Product=333--Machinery, Except Electrical<br>Year=2016<br>Import=%{x}<br>Export=%{y}<br>Size=%{marker.size}<br>Rank=%{customdata[0]}<extra></extra>",
           "hovertext": [
            "333--Machinery, Except Electrical"
           ],
           "legendgroup": "333--Machinery, Except Electrical",
           "marker": {
            "color": "#FFA15A",
            "size": [
             60
            ],
            "sizemode": "area",
            "sizeref": 0.25,
            "symbol": "circle"
           },
           "mode": "markers",
           "name": "333--Machinery, Except Electrical",
           "orientation": "v",
           "showlegend": true,
           "type": "scatter",
           "x": [
            151622
           ],
           "xaxis": "x",
           "y": [
            124946
           ],
           "yaxis": "y"
          },
          {
           "customdata": [
            [
             8
            ]
           ],
           "hovertemplate": "<b>%{hovertext}</b><br><br>Product=324--Petroleum & Coal Products<br>Year=2016<br>Import=%{x}<br>Export=%{y}<br>Size=%{marker.size}<br>Rank=%{customdata[0]}<extra></extra>",
           "hovertext": [
            "324--Petroleum & Coal Products"
           ],
           "legendgroup": "324--Petroleum & Coal Products",
           "marker": {
            "color": "#19d3f3",
            "size": [
             30
            ],
            "sizemode": "area",
            "sizeref": 0.25,
            "symbol": "circle"
           },
           "mode": "markers",
           "name": "324--Petroleum & Coal Products",
           "orientation": "v",
           "showlegend": true,
           "type": "scatter",
           "x": [
            42098
           ],
           "xaxis": "x",
           "y": [
            66925
           ],
           "yaxis": "y"
          },
          {
           "customdata": [
            [
             6
            ]
           ],
           "hovertemplate": "<b>%{hovertext}</b><br><br>Product=339--Miscellaneous Manufactures<br>Year=2016<br>Import=%{x}<br>Export=%{y}<br>Size=%{marker.size}<br>Rank=%{customdata[0]}<extra></extra>",
           "hovertext": [
            "339--Miscellaneous Manufactures"
           ],
           "legendgroup": "339--Miscellaneous Manufactures",
           "marker": {
            "color": "#FF6692",
            "size": [
             50
            ],
            "sizemode": "area",
            "sizeref": 0.25,
            "symbol": "circle"
           },
           "mode": "markers",
           "name": "339--Miscellaneous Manufactures",
           "orientation": "v",
           "showlegend": true,
           "type": "scatter",
           "x": [
            118343
           ],
           "xaxis": "x",
           "y": [
            78419
           ],
           "yaxis": "y"
          },
          {
           "customdata": [
            [
             9
            ]
           ],
           "hovertemplate": "<b>%{hovertext}</b><br><br>Product=311--Processed Foods<br>Year=2016<br>Import=%{x}<br>Export=%{y}<br>Size=%{marker.size}<br>Rank=%{customdata[0]}<extra></extra>",
           "hovertext": [
            "311--Processed Foods"
           ],
           "legendgroup": "311--Processed Foods",
           "marker": {
            "color": "#B6E880",
            "size": [
             20
            ],
            "sizemode": "area",
            "sizeref": 0.25,
            "symbol": "circle"
           },
           "mode": "markers",
           "name": "311--Processed Foods",
           "orientation": "v",
           "showlegend": true,
           "type": "scatter",
           "x": [
            57933
           ],
           "xaxis": "x",
           "y": [
            61507
           ],
           "yaxis": "y"
          },
          {
           "customdata": [
            [
             7
            ]
           ],
           "hovertemplate": "<b>%{hovertext}</b><br><br>Product=111--Agricultural Products<br>Year=2016<br>Import=%{x}<br>Export=%{y}<br>Size=%{marker.size}<br>Rank=%{customdata[0]}<extra></extra>",
           "hovertext": [
            "111--Agricultural Products"
           ],
           "legendgroup": "111--Agricultural Products",
           "marker": {
            "color": "#FF97FF",
            "size": [
             40
            ],
            "sizemode": "area",
            "sizeref": 0.25,
            "symbol": "circle"
           },
           "mode": "markers",
           "name": "111--Agricultural Products",
           "orientation": "v",
           "showlegend": true,
           "type": "scatter",
           "x": [
            35000
           ],
           "xaxis": "x",
           "y": [
            67578
           ],
           "yaxis": "y"
          },
          {
           "customdata": [
            [
             10
            ]
           ],
           "hovertemplate": "<b>%{hovertext}</b><br><br>Product=335--Electrical Equipment, Appliances & Components<br>Year=2016<br>Import=%{x}<br>Export=%{y}<br>Size=%{marker.size}<br>Rank=%{customdata[0]}<extra></extra>",
           "hovertext": [
            "335--Electrical Equipment, Appliances & Components"
           ],
           "legendgroup": "335--Electrical Equipment, Appliances & Components",
           "marker": {
            "color": "#636efa",
            "size": [
             10
            ],
            "sizemode": "area",
            "sizeref": 0.25,
            "symbol": "circle"
           },
           "mode": "markers",
           "name": "335--Electrical Equipment, Appliances & Components",
           "orientation": "v",
           "showlegend": true,
           "type": "scatter",
           "x": [
            104133
           ],
           "xaxis": "x",
           "y": [
            57093
           ],
           "yaxis": "y"
          }
         ],
         "name": "2016"
        },
        {
         "data": [
          {
           "customdata": [
            [
             1
            ]
           ],
           "hovertemplate": "<b>%{hovertext}</b><br><br>Product=0--All Merchandise<br>Year=2017<br>Import=%{x}<br>Export=%{y}<br>Size=%{marker.size}<br>Rank=%{customdata[0]}<extra></extra>",
           "hovertext": [
            "0--All Merchandise"
           ],
           "legendgroup": "0--All Merchandise",
           "marker": {
            "color": "#636efa",
            "size": [
             100
            ],
            "sizemode": "area",
            "sizeref": 0.25,
            "symbol": "circle"
           },
           "mode": "markers",
           "name": "0--All Merchandise",
           "orientation": "v",
           "showlegend": true,
           "type": "scatter",
           "x": [
            2339591
           ],
           "xaxis": "x",
           "y": [
            1547195
           ],
           "yaxis": "y"
          },
          {
           "customdata": [
            [
             2
            ]
           ],
           "hovertemplate": "<b>%{hovertext}</b><br><br>Product=336--Transportation Equipment<br>Year=2017<br>Import=%{x}<br>Export=%{y}<br>Size=%{marker.size}<br>Rank=%{customdata[0]}<extra></extra>",
           "hovertext": [
            "336--Transportation Equipment"
           ],
           "legendgroup": "336--Transportation Equipment",
           "marker": {
            "color": "#EF553B",
            "size": [
             90
            ],
            "sizemode": "area",
            "sizeref": 0.25,
            "symbol": "circle"
           },
           "mode": "markers",
           "name": "336--Transportation Equipment",
           "orientation": "v",
           "showlegend": true,
           "type": "scatter",
           "x": [
            384971
           ],
           "xaxis": "x",
           "y": [
            278492
           ],
           "yaxis": "y"
          },
          {
           "customdata": [
            [
             4
            ]
           ],
           "hovertemplate": "<b>%{hovertext}</b><br><br>Product=325--Chemicals<br>Year=2017<br>Import=%{x}<br>Export=%{y}<br>Size=%{marker.size}<br>Rank=%{customdata[0]}<extra></extra>",
           "hovertext": [
            "325--Chemicals"
           ],
           "legendgroup": "325--Chemicals",
           "marker": {
            "color": "#00cc96",
            "size": [
             70
            ],
            "sizemode": "area",
            "sizeref": 0.25,
            "symbol": "circle"
           },
           "mode": "markers",
           "name": "325--Chemicals",
           "orientation": "v",
           "showlegend": true,
           "type": "scatter",
           "x": [
            217956
           ],
           "xaxis": "x",
           "y": [
            192785
           ],
           "yaxis": "y"
          },
          {
           "customdata": [
            [
             3
            ]
           ],
           "hovertemplate": "<b>%{hovertext}</b><br><br>Product=334--Computer & Electronic Products<br>Year=2017<br>Import=%{x}<br>Export=%{y}<br>Size=%{marker.size}<br>Rank=%{customdata[0]}<extra></extra>",
           "hovertext": [
            "334--Computer & Electronic Products"
           ],
           "legendgroup": "334--Computer & Electronic Products",
           "marker": {
            "color": "#ab63fa",
            "size": [
             80
            ],
            "sizemode": "area",
            "sizeref": 0.25,
            "symbol": "circle"
           },
           "mode": "markers",
           "name": "334--Computer & Electronic Products",
           "orientation": "v",
           "showlegend": true,
           "type": "scatter",
           "x": [
            400123
           ],
           "xaxis": "x",
           "y": [
            208234
           ],
           "yaxis": "y"
          },
          {
           "customdata": [
            [
             5
            ]
           ],
           "hovertemplate": "<b>%{hovertext}</b><br><br>Product=333--Machinery, Except Electrical<br>Year=2017<br>Import=%{x}<br>Export=%{y}<br>Size=%{marker.size}<br>Rank=%{customdata[0]}<extra></extra>",
           "hovertext": [
            "333--Machinery, Except Electrical"
           ],
           "legendgroup": "333--Machinery, Except Electrical",
           "marker": {
            "color": "#FFA15A",
            "size": [
             60
            ],
            "sizemode": "area",
            "sizeref": 0.25,
            "symbol": "circle"
           },
           "mode": "markers",
           "name": "333--Machinery, Except Electrical",
           "orientation": "v",
           "showlegend": true,
           "type": "scatter",
           "x": [
            169009
           ],
           "xaxis": "x",
           "y": [
            133991
           ],
           "yaxis": "y"
          },
          {
           "customdata": [
            [
             6
            ]
           ],
           "hovertemplate": "<b>%{hovertext}</b><br><br>Product=324--Petroleum & Coal Products<br>Year=2017<br>Import=%{x}<br>Export=%{y}<br>Size=%{marker.size}<br>Rank=%{customdata[0]}<extra></extra>",
           "hovertext": [
            "324--Petroleum & Coal Products"
           ],
           "legendgroup": "324--Petroleum & Coal Products",
           "marker": {
            "color": "#19d3f3",
            "size": [
             50
            ],
            "sizemode": "area",
            "sizeref": 0.25,
            "symbol": "circle"
           },
           "mode": "markers",
           "name": "324--Petroleum & Coal Products",
           "orientation": "v",
           "showlegend": true,
           "type": "scatter",
           "x": [
            49592
           ],
           "xaxis": "x",
           "y": [
            84170
           ],
           "yaxis": "y"
          },
          {
           "customdata": [
            [
             7
            ]
           ],
           "hovertemplate": "<b>%{hovertext}</b><br><br>Product=339--Miscellaneous Manufactures<br>Year=2017<br>Import=%{x}<br>Export=%{y}<br>Size=%{marker.size}<br>Rank=%{customdata[0]}<extra></extra>",
           "hovertext": [
            "339--Miscellaneous Manufactures"
           ],
           "legendgroup": "339--Miscellaneous Manufactures",
           "marker": {
            "color": "#FF6692",
            "size": [
             40
            ],
            "sizemode": "area",
            "sizeref": 0.25,
            "symbol": "circle"
           },
           "mode": "markers",
           "name": "339--Miscellaneous Manufactures",
           "orientation": "v",
           "showlegend": true,
           "type": "scatter",
           "x": [
            121248
           ],
           "xaxis": "x",
           "y": [
            80383
           ],
           "yaxis": "y"
          },
          {
           "customdata": [
            [
             9
            ]
           ],
           "hovertemplate": "<b>%{hovertext}</b><br><br>Product=311--Processed Foods<br>Year=2017<br>Import=%{x}<br>Export=%{y}<br>Size=%{marker.size}<br>Rank=%{customdata[0]}<extra></extra>",
           "hovertext": [
            "311--Processed Foods"
           ],
           "legendgroup": "311--Processed Foods",
           "marker": {
            "color": "#B6E880",
            "size": [
             20
            ],
            "sizemode": "area",
            "sizeref": 0.25,
            "symbol": "circle"
           },
           "mode": "markers",
           "name": "311--Processed Foods",
           "orientation": "v",
           "showlegend": true,
           "type": "scatter",
           "x": [
            60866
           ],
           "xaxis": "x",
           "y": [
            64060
           ],
           "yaxis": "y"
          },
          {
           "customdata": [
            [
             8
            ]
           ],
           "hovertemplate": "<b>%{hovertext}</b><br><br>Product=111--Agricultural Products<br>Year=2017<br>Import=%{x}<br>Export=%{y}<br>Size=%{marker.size}<br>Rank=%{customdata[0]}<extra></extra>",
           "hovertext": [
            "111--Agricultural Products"
           ],
           "legendgroup": "111--Agricultural Products",
           "marker": {
            "color": "#FF97FF",
            "size": [
             30
            ],
            "sizemode": "area",
            "sizeref": 0.25,
            "symbol": "circle"
           },
           "mode": "markers",
           "name": "111--Agricultural Products",
           "orientation": "v",
           "showlegend": true,
           "type": "scatter",
           "x": [
            37102
           ],
           "xaxis": "x",
           "y": [
            68726
           ],
           "yaxis": "y"
          },
          {
           "customdata": [
            [
             10
            ]
           ],
           "hovertemplate": "<b>%{hovertext}</b><br><br>Product=335--Electrical Equipment, Appliances & Components<br>Year=2017<br>Import=%{x}<br>Export=%{y}<br>Size=%{marker.size}<br>Rank=%{customdata[0]}<extra></extra>",
           "hovertext": [
            "335--Electrical Equipment, Appliances & Components"
           ],
           "legendgroup": "335--Electrical Equipment, Appliances & Components",
           "marker": {
            "color": "#636efa",
            "size": [
             10
            ],
            "sizemode": "area",
            "sizeref": 0.25,
            "symbol": "circle"
           },
           "mode": "markers",
           "name": "335--Electrical Equipment, Appliances & Components",
           "orientation": "v",
           "showlegend": true,
           "type": "scatter",
           "x": [
            113662
           ],
           "xaxis": "x",
           "y": [
            59606
           ],
           "yaxis": "y"
          }
         ],
         "name": "2017"
        },
        {
         "data": [
          {
           "customdata": [
            [
             1
            ]
           ],
           "hovertemplate": "<b>%{hovertext}</b><br><br>Product=0--All Merchandise<br>Year=2018<br>Import=%{x}<br>Export=%{y}<br>Size=%{marker.size}<br>Rank=%{customdata[0]}<extra></extra>",
           "hovertext": [
            "0--All Merchandise"
           ],
           "legendgroup": "0--All Merchandise",
           "marker": {
            "color": "#636efa",
            "size": [
             100
            ],
            "sizemode": "area",
            "sizeref": 0.25,
            "symbol": "circle"
           },
           "mode": "markers",
           "name": "0--All Merchandise",
           "orientation": "v",
           "showlegend": true,
           "type": "scatter",
           "x": [
            2536145
           ],
           "xaxis": "x",
           "y": [
            1665787
           ],
           "yaxis": "y"
          },
          {
           "customdata": [
            [
             2
            ]
           ],
           "hovertemplate": "<b>%{hovertext}</b><br><br>Product=336--Transportation Equipment<br>Year=2018<br>Import=%{x}<br>Export=%{y}<br>Size=%{marker.size}<br>Rank=%{customdata[0]}<extra></extra>",
           "hovertext": [
            "336--Transportation Equipment"
           ],
           "legendgroup": "336--Transportation Equipment",
           "marker": {
            "color": "#EF553B",
            "size": [
             90
            ],
            "sizemode": "area",
            "sizeref": 0.25,
            "symbol": "circle"
           },
           "mode": "markers",
           "name": "336--Transportation Equipment",
           "orientation": "v",
           "showlegend": true,
           "type": "scatter",
           "x": [
            401717
           ],
           "xaxis": "x",
           "y": [
            286546
           ],
           "yaxis": "y"
          },
          {
           "customdata": [
            [
             4
            ]
           ],
           "hovertemplate": "<b>%{hovertext}</b><br><br>Product=325--Chemicals<br>Year=2018<br>Import=%{x}<br>Export=%{y}<br>Size=%{marker.size}<br>Rank=%{customdata[0]}<extra></extra>",
           "hovertext": [
            "325--Chemicals"
           ],
           "legendgroup": "325--Chemicals",
           "marker": {
            "color": "#00cc96",
            "size": [
             70
            ],
            "sizemode": "area",
            "sizeref": 0.25,
            "symbol": "circle"
           },
           "mode": "markers",
           "name": "325--Chemicals",
           "orientation": "v",
           "showlegend": true,
           "type": "scatter",
           "x": [
            252619
           ],
           "xaxis": "x",
           "y": [
            207409
           ],
           "yaxis": "y"
          },
          {
           "customdata": [
            [
             3
            ]
           ],
           "hovertemplate": "<b>%{hovertext}</b><br><br>Product=334--Computer & Electronic Products<br>Year=2018<br>Import=%{x}<br>Export=%{y}<br>Size=%{marker.size}<br>Rank=%{customdata[0]}<extra></extra>",
           "hovertext": [
            "334--Computer & Electronic Products"
           ],
           "legendgroup": "334--Computer & Electronic Products",
           "marker": {
            "color": "#ab63fa",
            "size": [
             80
            ],
            "sizemode": "area",
            "sizeref": 0.25,
            "symbol": "circle"
           },
           "mode": "markers",
           "name": "334--Computer & Electronic Products",
           "orientation": "v",
           "showlegend": true,
           "type": "scatter",
           "x": [
            413017
           ],
           "xaxis": "x",
           "y": [
            213593
           ],
           "yaxis": "y"
          },
          {
           "customdata": [
            [
             5
            ]
           ],
           "hovertemplate": "<b>%{hovertext}</b><br><br>Product=333--Machinery, Except Electrical<br>Year=2018<br>Import=%{x}<br>Export=%{y}<br>Size=%{marker.size}<br>Rank=%{customdata[0]}<extra></extra>",
           "hovertext": [
            "333--Machinery, Except Electrical"
           ],
           "legendgroup": "333--Machinery, Except Electrical",
           "marker": {
            "color": "#FFA15A",
            "size": [
             60
            ],
            "sizemode": "area",
            "sizeref": 0.25,
            "symbol": "circle"
           },
           "mode": "markers",
           "name": "333--Machinery, Except Electrical",
           "orientation": "v",
           "showlegend": true,
           "type": "scatter",
           "x": [
            187950
           ],
           "xaxis": "x",
           "y": [
            142736
           ],
           "yaxis": "y"
          },
          {
           "customdata": [
            [
             6
            ]
           ],
           "hovertemplate": "<b>%{hovertext}</b><br><br>Product=324--Petroleum & Coal Products<br>Year=2018<br>Import=%{x}<br>Export=%{y}<br>Size=%{marker.size}<br>Rank=%{customdata[0]}<extra></extra>",
           "hovertext": [
            "324--Petroleum & Coal Products"
           ],
           "legendgroup": "324--Petroleum & Coal Products",
           "marker": {
            "color": "#19d3f3",
            "size": [
             50
            ],
            "sizemode": "area",
            "sizeref": 0.25,
            "symbol": "circle"
           },
           "mode": "markers",
           "name": "324--Petroleum & Coal Products",
           "orientation": "v",
           "showlegend": true,
           "type": "scatter",
           "x": [
            63742
           ],
           "xaxis": "x",
           "y": [
            103915
           ],
           "yaxis": "y"
          },
          {
           "customdata": [
            [
             7
            ]
           ],
           "hovertemplate": "<b>%{hovertext}</b><br><br>Product=339--Miscellaneous Manufactures<br>Year=2018<br>Import=%{x}<br>Export=%{y}<br>Size=%{marker.size}<br>Rank=%{customdata[0]}<extra></extra>",
           "hovertext": [
            "339--Miscellaneous Manufactures"
           ],
           "legendgroup": "339--Miscellaneous Manufactures",
           "marker": {
            "color": "#FF6692",
            "size": [
             40
            ],
            "sizemode": "area",
            "sizeref": 0.25,
            "symbol": "circle"
           },
           "mode": "markers",
           "name": "339--Miscellaneous Manufactures",
           "orientation": "v",
           "showlegend": true,
           "type": "scatter",
           "x": [
            128574
           ],
           "xaxis": "x",
           "y": [
            83884
           ],
           "yaxis": "y"
          },
          {
           "customdata": [
            [
             10
            ]
           ],
           "hovertemplate": "<b>%{hovertext}</b><br><br>Product=311--Processed Foods<br>Year=2018<br>Import=%{x}<br>Export=%{y}<br>Size=%{marker.size}<br>Rank=%{customdata[0]}<extra></extra>",
           "hovertext": [
            "311--Processed Foods"
           ],
           "legendgroup": "311--Processed Foods",
           "marker": {
            "color": "#B6E880",
            "size": [
             10
            ],
            "sizemode": "area",
            "sizeref": 0.25,
            "symbol": "circle"
           },
           "mode": "markers",
           "name": "311--Processed Foods",
           "orientation": "v",
           "showlegend": true,
           "type": "scatter",
           "x": [
            67302
           ],
           "xaxis": "x",
           "y": [
            66390
           ],
           "yaxis": "y"
          },
          {
           "customdata": [
            [
             9
            ]
           ],
           "hovertemplate": "<b>%{hovertext}</b><br><br>Product=111--Agricultural Products<br>Year=2018<br>Import=%{x}<br>Export=%{y}<br>Size=%{marker.size}<br>Rank=%{customdata[0]}<extra></extra>",
           "hovertext": [
            "111--Agricultural Products"
           ],
           "legendgroup": "111--Agricultural Products",
           "marker": {
            "color": "#FF97FF",
            "size": [
             20
            ],
            "sizemode": "area",
            "sizeref": 0.25,
            "symbol": "circle"
           },
           "mode": "markers",
           "name": "111--Agricultural Products",
           "orientation": "v",
           "showlegend": true,
           "type": "scatter",
           "x": [
            37849
           ],
           "xaxis": "x",
           "y": [
            67116
           ],
           "yaxis": "y"
          },
          {
           "customdata": [
            [
             8
            ]
           ],
           "hovertemplate": "<b>%{hovertext}</b><br><br>Product=211--Oil & Gas<br>Year=2018<br>Import=%{x}<br>Export=%{y}<br>Size=%{marker.size}<br>Rank=%{customdata[0]}<extra></extra>",
           "hovertext": [
            "211--Oil & Gas"
           ],
           "legendgroup": "211--Oil & Gas",
           "marker": {
            "color": "#EF553B",
            "size": [
             30
            ],
            "sizemode": "area",
            "sizeref": 0.25,
            "symbol": "circle"
           },
           "mode": "markers",
           "name": "211--Oil & Gas",
           "orientation": "v",
           "showlegend": true,
           "type": "scatter",
           "x": [
            166768
           ],
           "xaxis": "x",
           "y": [
            76479
           ],
           "yaxis": "y"
          }
         ],
         "name": "2018"
        },
        {
         "data": [
          {
           "customdata": [
            [
             1
            ]
           ],
           "hovertemplate": "<b>%{hovertext}</b><br><br>Product=0--All Merchandise<br>Year=2019<br>Import=%{x}<br>Export=%{y}<br>Size=%{marker.size}<br>Rank=%{customdata[0]}<extra></extra>",
           "hovertext": [
            "0--All Merchandise"
           ],
           "legendgroup": "0--All Merchandise",
           "marker": {
            "color": "#636efa",
            "size": [
             100
            ],
            "sizemode": "area",
            "sizeref": 0.25,
            "symbol": "circle"
           },
           "mode": "markers",
           "name": "0--All Merchandise",
           "orientation": "v",
           "showlegend": true,
           "type": "scatter",
           "x": [
            2491700
           ],
           "xaxis": "x",
           "y": [
            1645940
           ],
           "yaxis": "y"
          },
          {
           "customdata": [
            [
             2
            ]
           ],
           "hovertemplate": "<b>%{hovertext}</b><br><br>Product=336--Transportation Equipment<br>Year=2019<br>Import=%{x}<br>Export=%{y}<br>Size=%{marker.size}<br>Rank=%{customdata[0]}<extra></extra>",
           "hovertext": [
            "336--Transportation Equipment"
           ],
           "legendgroup": "336--Transportation Equipment",
           "marker": {
            "color": "#EF553B",
            "size": [
             90
            ],
            "sizemode": "area",
            "sizeref": 0.25,
            "symbol": "circle"
           },
           "mode": "markers",
           "name": "336--Transportation Equipment",
           "orientation": "v",
           "showlegend": true,
           "type": "scatter",
           "x": [
            411452
           ],
           "xaxis": "x",
           "y": [
            287261
           ],
           "yaxis": "y"
          },
          {
           "customdata": [
            [
             4
            ]
           ],
           "hovertemplate": "<b>%{hovertext}</b><br><br>Product=325--Chemicals<br>Year=2019<br>Import=%{x}<br>Export=%{y}<br>Size=%{marker.size}<br>Rank=%{customdata[0]}<extra></extra>",
           "hovertext": [
            "325--Chemicals"
           ],
           "legendgroup": "325--Chemicals",
           "marker": {
            "color": "#00cc96",
            "size": [
             70
            ],
            "sizemode": "area",
            "sizeref": 0.25,
            "symbol": "circle"
           },
           "mode": "markers",
           "name": "325--Chemicals",
           "orientation": "v",
           "showlegend": true,
           "type": "scatter",
           "x": [
            261550
           ],
           "xaxis": "x",
           "y": [
            208793
           ],
           "yaxis": "y"
          },
          {
           "customdata": [
            [
             3
            ]
           ],
           "hovertemplate": "<b>%{hovertext}</b><br><br>Product=334--Computer & Electronic Products<br>Year=2019<br>Import=%{x}<br>Export=%{y}<br>Size=%{marker.size}<br>Rank=%{customdata[0]}<extra></extra>",
           "hovertext": [
            "334--Computer & Electronic Products"
           ],
           "legendgroup": "334--Computer & Electronic Products",
           "marker": {
            "color": "#ab63fa",
            "size": [
             80
            ],
            "sizemode": "area",
            "sizeref": 0.25,
            "symbol": "circle"
           },
           "mode": "markers",
           "name": "334--Computer & Electronic Products",
           "orientation": "v",
           "showlegend": true,
           "type": "scatter",
           "x": [
            388491
           ],
           "xaxis": "x",
           "y": [
            211454
           ],
           "yaxis": "y"
          },
          {
           "customdata": [
            [
             5
            ]
           ],
           "hovertemplate": "<b>%{hovertext}</b><br><br>Product=333--Machinery, Except Electrical<br>Year=2019<br>Import=%{x}<br>Export=%{y}<br>Size=%{marker.size}<br>Rank=%{customdata[0]}<extra></extra>",
           "hovertext": [
            "333--Machinery, Except Electrical"
           ],
           "legendgroup": "333--Machinery, Except Electrical",
           "marker": {
            "color": "#FFA15A",
            "size": [
             60
            ],
            "sizemode": "area",
            "sizeref": 0.25,
            "symbol": "circle"
           },
           "mode": "markers",
           "name": "333--Machinery, Except Electrical",
           "orientation": "v",
           "showlegend": true,
           "type": "scatter",
           "x": [
            189169
           ],
           "xaxis": "x",
           "y": [
            136889
           ],
           "yaxis": "y"
          },
          {
           "customdata": [
            [
             7
            ]
           ],
           "hovertemplate": "<b>%{hovertext}</b><br><br>Product=324--Petroleum & Coal Products<br>Year=2019<br>Import=%{x}<br>Export=%{y}<br>Size=%{marker.size}<br>Rank=%{customdata[0]}<extra></extra>",
           "hovertext": [
            "324--Petroleum & Coal Products"
           ],
           "legendgroup": "324--Petroleum & Coal Products",
           "marker": {
            "color": "#19d3f3",
            "size": [
             40
            ],
            "sizemode": "area",
            "sizeref": 0.25,
            "symbol": "circle"
           },
           "mode": "markers",
           "name": "324--Petroleum & Coal Products",
           "orientation": "v",
           "showlegend": true,
           "type": "scatter",
           "x": [
            63294
           ],
           "xaxis": "x",
           "y": [
            93882
           ],
           "yaxis": "y"
          },
          {
           "customdata": [
            [
             8
            ]
           ],
           "hovertemplate": "<b>%{hovertext}</b><br><br>Product=339--Miscellaneous Manufactures<br>Year=2019<br>Import=%{x}<br>Export=%{y}<br>Size=%{marker.size}<br>Rank=%{customdata[0]}<extra></extra>",
           "hovertext": [
            "339--Miscellaneous Manufactures"
           ],
           "legendgroup": "339--Miscellaneous Manufactures",
           "marker": {
            "color": "#FF6692",
            "size": [
             30
            ],
            "sizemode": "area",
            "sizeref": 0.25,
            "symbol": "circle"
           },
           "mode": "markers",
           "name": "339--Miscellaneous Manufactures",
           "orientation": "v",
           "showlegend": true,
           "type": "scatter",
           "x": [
            127172
           ],
           "xaxis": "x",
           "y": [
            82220
           ],
           "yaxis": "y"
          },
          {
           "customdata": [
            [
             9
            ]
           ],
           "hovertemplate": "<b>%{hovertext}</b><br><br>Product=311--Processed Foods<br>Year=2019<br>Import=%{x}<br>Export=%{y}<br>Size=%{marker.size}<br>Rank=%{customdata[0]}<extra></extra>",
           "hovertext": [
            "311--Processed Foods"
           ],
           "legendgroup": "311--Processed Foods",
           "marker": {
            "color": "#B6E880",
            "size": [
             20
            ],
            "sizemode": "area",
            "sizeref": 0.25,
            "symbol": "circle"
           },
           "mode": "markers",
           "name": "311--Processed Foods",
           "orientation": "v",
           "showlegend": true,
           "type": "scatter",
           "x": [
            68644
           ],
           "xaxis": "x",
           "y": [
            66430
           ],
           "yaxis": "y"
          },
          {
           "customdata": [
            [
             10
            ]
           ],
           "hovertemplate": "<b>%{hovertext}</b><br><br>Product=111--Agricultural Products<br>Year=2019<br>Import=%{x}<br>Export=%{y}<br>Size=%{marker.size}<br>Rank=%{customdata[0]}<extra></extra>",
           "hovertext": [
            "111--Agricultural Products"
           ],
           "legendgroup": "111--Agricultural Products",
           "marker": {
            "color": "#FF97FF",
            "size": [
             10
            ],
            "sizemode": "area",
            "sizeref": 0.25,
            "symbol": "circle"
           },
           "mode": "markers",
           "name": "111--Agricultural Products",
           "orientation": "v",
           "showlegend": true,
           "type": "scatter",
           "x": [
            38493
           ],
           "xaxis": "x",
           "y": [
            64409
           ],
           "yaxis": "y"
          },
          {
           "customdata": [
            [
             6
            ]
           ],
           "hovertemplate": "<b>%{hovertext}</b><br><br>Product=211--Oil & Gas<br>Year=2019<br>Import=%{x}<br>Export=%{y}<br>Size=%{marker.size}<br>Rank=%{customdata[0]}<extra></extra>",
           "hovertext": [
            "211--Oil & Gas"
           ],
           "legendgroup": "211--Oil & Gas",
           "marker": {
            "color": "#EF553B",
            "size": [
             50
            ],
            "sizemode": "area",
            "sizeref": 0.25,
            "symbol": "circle"
           },
           "mode": "markers",
           "name": "211--Oil & Gas",
           "orientation": "v",
           "showlegend": true,
           "type": "scatter",
           "x": [
            135436
           ],
           "xaxis": "x",
           "y": [
            95318
           ],
           "yaxis": "y"
          }
         ],
         "name": "2019"
        },
        {
         "data": [
          {
           "customdata": [
            [
             1
            ]
           ],
           "hovertemplate": "<b>%{hovertext}</b><br><br>Product=0--All Merchandise<br>Year=2020<br>Import=%{x}<br>Export=%{y}<br>Size=%{marker.size}<br>Rank=%{customdata[0]}<extra></extra>",
           "hovertext": [
            "0--All Merchandise"
           ],
           "legendgroup": "0--All Merchandise",
           "marker": {
            "color": "#636efa",
            "size": [
             100
            ],
            "sizemode": "area",
            "sizeref": 0.25,
            "symbol": "circle"
           },
           "mode": "markers",
           "name": "0--All Merchandise",
           "orientation": "v",
           "showlegend": true,
           "type": "scatter",
           "x": [
            2331477
           ],
           "xaxis": "x",
           "y": [
            1429995
           ],
           "yaxis": "y"
          },
          {
           "customdata": [
            [
             2
            ]
           ],
           "hovertemplate": "<b>%{hovertext}</b><br><br>Product=336--Transportation Equipment<br>Year=2020<br>Import=%{x}<br>Export=%{y}<br>Size=%{marker.size}<br>Rank=%{customdata[0]}<extra></extra>",
           "hovertext": [
            "336--Transportation Equipment"
           ],
           "legendgroup": "336--Transportation Equipment",
           "marker": {
            "color": "#EF553B",
            "size": [
             90
            ],
            "sizemode": "area",
            "sizeref": 0.25,
            "symbol": "circle"
           },
           "mode": "markers",
           "name": "336--Transportation Equipment",
           "orientation": "v",
           "showlegend": true,
           "type": "scatter",
           "x": [
            332211
           ],
           "xaxis": "x",
           "y": [
            200612
           ],
           "yaxis": "y"
          },
          {
           "customdata": [
            [
             4
            ]
           ],
           "hovertemplate": "<b>%{hovertext}</b><br><br>Product=325--Chemicals<br>Year=2020<br>Import=%{x}<br>Export=%{y}<br>Size=%{marker.size}<br>Rank=%{customdata[0]}<extra></extra>",
           "hovertext": [
            "325--Chemicals"
           ],
           "legendgroup": "325--Chemicals",
           "marker": {
            "color": "#00cc96",
            "size": [
             70
            ],
            "sizemode": "area",
            "sizeref": 0.25,
            "symbol": "circle"
           },
           "mode": "markers",
           "name": "325--Chemicals",
           "orientation": "v",
           "showlegend": true,
           "type": "scatter",
           "x": [
            271204
           ],
           "xaxis": "x",
           "y": [
            197825
           ],
           "yaxis": "y"
          },
          {
           "customdata": [
            [
             3
            ]
           ],
           "hovertemplate": "<b>%{hovertext}</b><br><br>Product=334--Computer & Electronic Products<br>Year=2020<br>Import=%{x}<br>Export=%{y}<br>Size=%{marker.size}<br>Rank=%{customdata[0]}<extra></extra>",
           "hovertext": [
            "334--Computer & Electronic Products"
           ],
           "legendgroup": "334--Computer & Electronic Products",
           "marker": {
            "color": "#ab63fa",
            "size": [
             80
            ],
            "sizemode": "area",
            "sizeref": 0.25,
            "symbol": "circle"
           },
           "mode": "markers",
           "name": "334--Computer & Electronic Products",
           "orientation": "v",
           "showlegend": true,
           "type": "scatter",
           "x": [
            392197
           ],
           "xaxis": "x",
           "y": [
            199634
           ],
           "yaxis": "y"
          },
          {
           "customdata": [
            [
             5
            ]
           ],
           "hovertemplate": "<b>%{hovertext}</b><br><br>Product=333--Machinery, Except Electrical<br>Year=2020<br>Import=%{x}<br>Export=%{y}<br>Size=%{marker.size}<br>Rank=%{customdata[0]}<extra></extra>",
           "hovertext": [
            "333--Machinery, Except Electrical"
           ],
           "legendgroup": "333--Machinery, Except Electrical",
           "marker": {
            "color": "#FFA15A",
            "size": [
             60
            ],
            "sizemode": "area",
            "sizeref": 0.25,
            "symbol": "circle"
           },
           "mode": "markers",
           "name": "333--Machinery, Except Electrical",
           "orientation": "v",
           "showlegend": true,
           "type": "scatter",
           "x": [
            170299
           ],
           "xaxis": "x",
           "y": [
            123297
           ],
           "yaxis": "y"
          },
          {
           "customdata": [
            [
             10
            ]
           ],
           "hovertemplate": "<b>%{hovertext}</b><br><br>Product=324--Petroleum & Coal Products<br>Year=2020<br>Import=%{x}<br>Export=%{y}<br>Size=%{marker.size}<br>Rank=%{customdata[0]}<extra></extra>",
           "hovertext": [
            "324--Petroleum & Coal Products"
           ],
           "legendgroup": "324--Petroleum & Coal Products",
           "marker": {
            "color": "#19d3f3",
            "size": [
             10
            ],
            "sizemode": "area",
            "sizeref": 0.25,
            "symbol": "circle"
           },
           "mode": "markers",
           "name": "324--Petroleum & Coal Products",
           "orientation": "v",
           "showlegend": true,
           "type": "scatter",
           "x": [
            37179
           ],
           "xaxis": "x",
           "y": [
            62230
           ],
           "yaxis": "y"
          },
          {
           "customdata": [
            [
             9
            ]
           ],
           "hovertemplate": "<b>%{hovertext}</b><br><br>Product=339--Miscellaneous Manufactures<br>Year=2020<br>Import=%{x}<br>Export=%{y}<br>Size=%{marker.size}<br>Rank=%{customdata[0]}<extra></extra>",
           "hovertext": [
            "339--Miscellaneous Manufactures"
           ],
           "legendgroup": "339--Miscellaneous Manufactures",
           "marker": {
            "color": "#FF6692",
            "size": [
             20
            ],
            "sizemode": "area",
            "sizeref": 0.25,
            "symbol": "circle"
           },
           "mode": "markers",
           "name": "339--Miscellaneous Manufactures",
           "orientation": "v",
           "showlegend": true,
           "type": "scatter",
           "x": [
            119036
           ],
           "xaxis": "x",
           "y": [
            64726
           ],
           "yaxis": "y"
          },
          {
           "customdata": [
            [
             8
            ]
           ],
           "hovertemplate": "<b>%{hovertext}</b><br><br>Product=311--Processed Foods<br>Year=2020<br>Import=%{x}<br>Export=%{y}<br>Size=%{marker.size}<br>Rank=%{customdata[0]}<extra></extra>",
           "hovertext": [
            "311--Processed Foods"
           ],
           "legendgroup": "311--Processed Foods",
           "marker": {
            "color": "#B6E880",
            "size": [
             30
            ],
            "sizemode": "area",
            "sizeref": 0.25,
            "symbol": "circle"
           },
           "mode": "markers",
           "name": "311--Processed Foods",
           "orientation": "v",
           "showlegend": true,
           "type": "scatter",
           "x": [
            72869
           ],
           "xaxis": "x",
           "y": [
            67043
           ],
           "yaxis": "y"
          },
          {
           "customdata": [
            [
             7
            ]
           ],
           "hovertemplate": "<b>%{hovertext}</b><br><br>Product=111--Agricultural Products<br>Year=2020<br>Import=%{x}<br>Export=%{y}<br>Size=%{marker.size}<br>Rank=%{customdata[0]}<extra></extra>",
           "hovertext": [
            "111--Agricultural Products"
           ],
           "legendgroup": "111--Agricultural Products",
           "marker": {
            "color": "#FF97FF",
            "size": [
             40
            ],
            "sizemode": "area",
            "sizeref": 0.25,
            "symbol": "circle"
           },
           "mode": "markers",
           "name": "111--Agricultural Products",
           "orientation": "v",
           "showlegend": true,
           "type": "scatter",
           "x": [
            39122
           ],
           "xaxis": "x",
           "y": [
            72733
           ],
           "yaxis": "y"
          },
          {
           "customdata": [
            [
             6
            ]
           ],
           "hovertemplate": "<b>%{hovertext}</b><br><br>Product=211--Oil & Gas<br>Year=2020<br>Import=%{x}<br>Export=%{y}<br>Size=%{marker.size}<br>Rank=%{customdata[0]}<extra></extra>",
           "hovertext": [
            "211--Oil & Gas"
           ],
           "legendgroup": "211--Oil & Gas",
           "marker": {
            "color": "#EF553B",
            "size": [
             50
            ],
            "sizemode": "area",
            "sizeref": 0.25,
            "symbol": "circle"
           },
           "mode": "markers",
           "name": "211--Oil & Gas",
           "orientation": "v",
           "showlegend": true,
           "type": "scatter",
           "x": [
            83114
           ],
           "xaxis": "x",
           "y": [
            83088
           ],
           "yaxis": "y"
          }
         ],
         "name": "2020"
        },
        {
         "data": [
          {
           "customdata": [
            [
             1
            ]
           ],
           "hovertemplate": "<b>%{hovertext}</b><br><br>Product=0--All Merchandise<br>Year=2021<br>Import=%{x}<br>Export=%{y}<br>Size=%{marker.size}<br>Rank=%{customdata[0]}<extra></extra>",
           "hovertext": [
            "0--All Merchandise"
           ],
           "legendgroup": "0--All Merchandise",
           "marker": {
            "color": "#636efa",
            "size": [
             100
            ],
            "sizemode": "area",
            "sizeref": 0.25,
            "symbol": "circle"
           },
           "mode": "markers",
           "name": "0--All Merchandise",
           "orientation": "v",
           "showlegend": true,
           "type": "scatter",
           "x": [
            2828515
           ],
           "xaxis": "x",
           "y": [
            1757744
           ],
           "yaxis": "y"
          },
          {
           "customdata": [
            [
             3
            ]
           ],
           "hovertemplate": "<b>%{hovertext}</b><br><br>Product=336--Transportation Equipment<br>Year=2021<br>Import=%{x}<br>Export=%{y}<br>Size=%{marker.size}<br>Rank=%{customdata[0]}<extra></extra>",
           "hovertext": [
            "336--Transportation Equipment"
           ],
           "legendgroup": "336--Transportation Equipment",
           "marker": {
            "color": "#EF553B",
            "size": [
             80
            ],
            "sizemode": "area",
            "sizeref": 0.25,
            "symbol": "circle"
           },
           "mode": "markers",
           "name": "336--Transportation Equipment",
           "orientation": "v",
           "showlegend": true,
           "type": "scatter",
           "x": [
            361920
           ],
           "xaxis": "x",
           "y": [
            223760
           ],
           "yaxis": "y"
          },
          {
           "customdata": [
            [
             2
            ]
           ],
           "hovertemplate": "<b>%{hovertext}</b><br><br>Product=325--Chemicals<br>Year=2021<br>Import=%{x}<br>Export=%{y}<br>Size=%{marker.size}<br>Rank=%{customdata[0]}<extra></extra>",
           "hovertext": [
            "325--Chemicals"
           ],
           "legendgroup": "325--Chemicals",
           "marker": {
            "color": "#00cc96",
            "size": [
             90
            ],
            "sizemode": "area",
            "sizeref": 0.25,
            "symbol": "circle"
           },
           "mode": "markers",
           "name": "325--Chemicals",
           "orientation": "v",
           "showlegend": true,
           "type": "scatter",
           "x": [
            313665
           ],
           "xaxis": "x",
           "y": [
            253990
           ],
           "yaxis": "y"
          },
          {
           "customdata": [
            [
             4
            ]
           ],
           "hovertemplate": "<b>%{hovertext}</b><br><br>Product=334--Computer & Electronic Products<br>Year=2021<br>Import=%{x}<br>Export=%{y}<br>Size=%{marker.size}<br>Rank=%{customdata[0]}<extra></extra>",
           "hovertext": [
            "334--Computer & Electronic Products"
           ],
           "legendgroup": "334--Computer & Electronic Products",
           "marker": {
            "color": "#ab63fa",
            "size": [
             70
            ],
            "sizemode": "area",
            "sizeref": 0.25,
            "symbol": "circle"
           },
           "mode": "markers",
           "name": "334--Computer & Electronic Products",
           "orientation": "v",
           "showlegend": true,
           "type": "scatter",
           "x": [
            464470
           ],
           "xaxis": "x",
           "y": [
            223140
           ],
           "yaxis": "y"
          },
          {
           "customdata": [
            [
             5
            ]
           ],
           "hovertemplate": "<b>%{hovertext}</b><br><br>Product=333--Machinery, Except Electrical<br>Year=2021<br>Import=%{x}<br>Export=%{y}<br>Size=%{marker.size}<br>Rank=%{customdata[0]}<extra></extra>",
           "hovertext": [
            "333--Machinery, Except Electrical"
           ],
           "legendgroup": "333--Machinery, Except Electrical",
           "marker": {
            "color": "#FFA15A",
            "size": [
             60
            ],
            "sizemode": "area",
            "sizeref": 0.25,
            "symbol": "circle"
           },
           "mode": "markers",
           "name": "333--Machinery, Except Electrical",
           "orientation": "v",
           "showlegend": true,
           "type": "scatter",
           "x": [
            207456
           ],
           "xaxis": "x",
           "y": [
            146309
           ],
           "yaxis": "y"
          },
          {
           "customdata": [
            [
             7
            ]
           ],
           "hovertemplate": "<b>%{hovertext}</b><br><br>Product=324--Petroleum & Coal Products<br>Year=2021<br>Import=%{x}<br>Export=%{y}<br>Size=%{marker.size}<br>Rank=%{customdata[0]}<extra></extra>",
           "hovertext": [
            "324--Petroleum & Coal Products"
           ],
           "legendgroup": "324--Petroleum & Coal Products",
           "marker": {
            "color": "#19d3f3",
            "size": [
             40
            ],
            "sizemode": "area",
            "sizeref": 0.25,
            "symbol": "circle"
           },
           "mode": "markers",
           "name": "324--Petroleum & Coal Products",
           "orientation": "v",
           "showlegend": true,
           "type": "scatter",
           "x": [
            66439
           ],
           "xaxis": "x",
           "y": [
            93022
           ],
           "yaxis": "y"
          },
          {
           "customdata": [
            [
             9
            ]
           ],
           "hovertemplate": "<b>%{hovertext}</b><br><br>Product=339--Miscellaneous Manufactures<br>Year=2021<br>Import=%{x}<br>Export=%{y}<br>Size=%{marker.size}<br>Rank=%{customdata[0]}<extra></extra>",
           "hovertext": [
            "339--Miscellaneous Manufactures"
           ],
           "legendgroup": "339--Miscellaneous Manufactures",
           "marker": {
            "color": "#FF6692",
            "size": [
             20
            ],
            "sizemode": "area",
            "sizeref": 0.25,
            "symbol": "circle"
           },
           "mode": "markers",
           "name": "339--Miscellaneous Manufactures",
           "orientation": "v",
           "showlegend": true,
           "type": "scatter",
           "x": [
            167031
           ],
           "xaxis": "x",
           "y": [
            78323
           ],
           "yaxis": "y"
          },
          {
           "customdata": [
            [
             10
            ]
           ],
           "hovertemplate": "<b>%{hovertext}</b><br><br>Product=311--Processed Foods<br>Year=2021<br>Import=%{x}<br>Export=%{y}<br>Size=%{marker.size}<br>Rank=%{customdata[0]}<extra></extra>",
           "hovertext": [
            "311--Processed Foods"
           ],
           "legendgroup": "311--Processed Foods",
           "marker": {
            "color": "#B6E880",
            "size": [
             10
            ],
            "sizemode": "area",
            "sizeref": 0.25,
            "symbol": "circle"
           },
           "mode": "markers",
           "name": "311--Processed Foods",
           "orientation": "v",
           "showlegend": true,
           "type": "scatter",
           "x": [
            86878
           ],
           "xaxis": "x",
           "y": [
            77873
           ],
           "yaxis": "y"
          },
          {
           "customdata": [
            [
             8
            ]
           ],
           "hovertemplate": "<b>%{hovertext}</b><br><br>Product=111--Agricultural Products<br>Year=2021<br>Import=%{x}<br>Export=%{y}<br>Size=%{marker.size}<br>Rank=%{customdata[0]}<extra></extra>",
           "hovertext": [
            "111--Agricultural Products"
           ],
           "legendgroup": "111--Agricultural Products",
           "marker": {
            "color": "#FF97FF",
            "size": [
             30
            ],
            "sizemode": "area",
            "sizeref": 0.25,
            "symbol": "circle"
           },
           "mode": "markers",
           "name": "111--Agricultural Products",
           "orientation": "v",
           "showlegend": true,
           "type": "scatter",
           "x": [
            44175
           ],
           "xaxis": "x",
           "y": [
            86611
           ],
           "yaxis": "y"
          },
          {
           "customdata": [
            [
             6
            ]
           ],
           "hovertemplate": "<b>%{hovertext}</b><br><br>Product=211--Oil & Gas<br>Year=2021<br>Import=%{x}<br>Export=%{y}<br>Size=%{marker.size}<br>Rank=%{customdata[0]}<extra></extra>",
           "hovertext": [
            "211--Oil & Gas"
           ],
           "legendgroup": "211--Oil & Gas",
           "marker": {
            "color": "#EF553B",
            "size": [
             50
            ],
            "sizemode": "area",
            "sizeref": 0.25,
            "symbol": "circle"
           },
           "mode": "markers",
           "name": "211--Oil & Gas",
           "orientation": "v",
           "showlegend": true,
           "type": "scatter",
           "x": [
            146048
           ],
           "xaxis": "x",
           "y": [
            137446
           ],
           "yaxis": "y"
          }
         ],
         "name": "2021"
        },
        {
         "data": [
          {
           "customdata": [
            [
             1
            ]
           ],
           "hovertemplate": "<b>%{hovertext}</b><br><br>Product=0--All Merchandise<br>Year=2022<br>Import=%{x}<br>Export=%{y}<br>Size=%{marker.size}<br>Rank=%{customdata[0]}<extra></extra>",
           "hovertext": [
            "0--All Merchandise"
           ],
           "legendgroup": "0--All Merchandise",
           "marker": {
            "color": "#636efa",
            "size": [
             100
            ],
            "sizemode": "area",
            "sizeref": 0.25,
            "symbol": "circle"
           },
           "mode": "markers",
           "name": "0--All Merchandise",
           "orientation": "v",
           "showlegend": true,
           "type": "scatter",
           "x": [
            3239873
           ],
           "xaxis": "x",
           "y": [
            2066454
           ],
           "yaxis": "y"
          },
          {
           "customdata": [
            [
             3
            ]
           ],
           "hovertemplate": "<b>%{hovertext}</b><br><br>Product=336--Transportation Equipment<br>Year=2022<br>Import=%{x}<br>Export=%{y}<br>Size=%{marker.size}<br>Rank=%{customdata[0]}<extra></extra>",
           "hovertext": [
            "336--Transportation Equipment"
           ],
           "legendgroup": "336--Transportation Equipment",
           "marker": {
            "color": "#EF553B",
            "size": [
             80
            ],
            "sizemode": "area",
            "sizeref": 0.25,
            "symbol": "circle"
           },
           "mode": "markers",
           "name": "336--Transportation Equipment",
           "orientation": "v",
           "showlegend": true,
           "type": "scatter",
           "x": [
            411035
           ],
           "xaxis": "x",
           "y": [
            256080
           ],
           "yaxis": "y"
          },
          {
           "customdata": [
            [
             2
            ]
           ],
           "hovertemplate": "<b>%{hovertext}</b><br><br>Product=325--Chemicals<br>Year=2022<br>Import=%{x}<br>Export=%{y}<br>Size=%{marker.size}<br>Rank=%{customdata[0]}<extra></extra>",
           "hovertext": [
            "325--Chemicals"
           ],
           "legendgroup": "325--Chemicals",
           "marker": {
            "color": "#00cc96",
            "size": [
             90
            ],
            "sizemode": "area",
            "sizeref": 0.25,
            "symbol": "circle"
           },
           "mode": "markers",
           "name": "325--Chemicals",
           "orientation": "v",
           "showlegend": true,
           "type": "scatter",
           "x": [
            362620
           ],
           "xaxis": "x",
           "y": [
            285705
           ],
           "yaxis": "y"
          },
          {
           "customdata": [
            [
             4
            ]
           ],
           "hovertemplate": "<b>%{hovertext}</b><br><br>Product=334--Computer & Electronic Products<br>Year=2022<br>Import=%{x}<br>Export=%{y}<br>Size=%{marker.size}<br>Rank=%{customdata[0]}<extra></extra>",
           "hovertext": [
            "334--Computer & Electronic Products"
           ],
           "legendgroup": "334--Computer & Electronic Products",
           "marker": {
            "color": "#ab63fa",
            "size": [
             70
            ],
            "sizemode": "area",
            "sizeref": 0.25,
            "symbol": "circle"
           },
           "mode": "markers",
           "name": "334--Computer & Electronic Products",
           "orientation": "v",
           "showlegend": true,
           "type": "scatter",
           "x": [
            516843
           ],
           "xaxis": "x",
           "y": [
            234546
           ],
           "yaxis": "y"
          },
          {
           "customdata": [
            [
             6
            ]
           ],
           "hovertemplate": "<b>%{hovertext}</b><br><br>Product=333--Machinery, Except Electrical<br>Year=2022<br>Import=%{x}<br>Export=%{y}<br>Size=%{marker.size}<br>Rank=%{customdata[0]}<extra></extra>",
           "hovertext": [
            "333--Machinery, Except Electrical"
           ],
           "legendgroup": "333--Machinery, Except Electrical",
           "marker": {
            "color": "#FFA15A",
            "size": [
             50
            ],
            "sizemode": "area",
            "sizeref": 0.25,
            "symbol": "circle"
           },
           "mode": "markers",
           "name": "333--Machinery, Except Electrical",
           "orientation": "v",
           "showlegend": true,
           "type": "scatter",
           "x": [
            234489
           ],
           "xaxis": "x",
           "y": [
            163822
           ],
           "yaxis": "y"
          },
          {
           "customdata": [
            [
             7
            ]
           ],
           "hovertemplate": "<b>%{hovertext}</b><br><br>Product=324--Petroleum & Coal Products<br>Year=2022<br>Import=%{x}<br>Export=%{y}<br>Size=%{marker.size}<br>Rank=%{customdata[0]}<extra></extra>",
           "hovertext": [
            "324--Petroleum & Coal Products"
           ],
           "legendgroup": "324--Petroleum & Coal Products",
           "marker": {
            "color": "#19d3f3",
            "size": [
             40
            ],
            "sizemode": "area",
            "sizeref": 0.25,
            "symbol": "circle"
           },
           "mode": "markers",
           "name": "324--Petroleum & Coal Products",
           "orientation": "v",
           "showlegend": true,
           "type": "scatter",
           "x": [
            86667
           ],
           "xaxis": "x",
           "y": [
            151936
           ],
           "yaxis": "y"
          },
          {
           "customdata": [
            [
             10
            ]
           ],
           "hovertemplate": "<b>%{hovertext}</b><br><br>Product=339--Miscellaneous Manufactures<br>Year=2022<br>Import=%{x}<br>Export=%{y}<br>Size=%{marker.size}<br>Rank=%{customdata[0]}<extra></extra>",
           "hovertext": [
            "339--Miscellaneous Manufactures"
           ],
           "legendgroup": "339--Miscellaneous Manufactures",
           "marker": {
            "color": "#FF6692",
            "size": [
             10
            ],
            "sizemode": "area",
            "sizeref": 0.25,
            "symbol": "circle"
           },
           "mode": "markers",
           "name": "339--Miscellaneous Manufactures",
           "orientation": "v",
           "showlegend": true,
           "type": "scatter",
           "x": [
            174399
           ],
           "xaxis": "x",
           "y": [
            87792
           ],
           "yaxis": "y"
          },
          {
           "customdata": [
            [
             8
            ]
           ],
           "hovertemplate": "<b>%{hovertext}</b><br><br>Product=111--Agricultural Products<br>Year=2022<br>Import=%{x}<br>Export=%{y}<br>Size=%{marker.size}<br>Rank=%{customdata[0]}<extra></extra>",
           "hovertext": [
            "111--Agricultural Products"
           ],
           "legendgroup": "111--Agricultural Products",
           "marker": {
            "color": "#FF97FF",
            "size": [
             30
            ],
            "sizemode": "area",
            "sizeref": 0.25,
            "symbol": "circle"
           },
           "mode": "markers",
           "name": "111--Agricultural Products",
           "orientation": "v",
           "showlegend": true,
           "type": "scatter",
           "x": [
            49567
           ],
           "xaxis": "x",
           "y": [
            97939
           ],
           "yaxis": "y"
          },
          {
           "customdata": [
            [
             9
            ]
           ],
           "hovertemplate": "<b>%{hovertext}</b><br><br>Product=331--Primary Metal Manufactures<br>Year=2022<br>Import=%{x}<br>Export=%{y}<br>Size=%{marker.size}<br>Rank=%{customdata[0]}<extra></extra>",
           "hovertext": [
            "331--Primary Metal Manufactures"
           ],
           "legendgroup": "331--Primary Metal Manufactures",
           "marker": {
            "color": "#FECB52",
            "size": [
             20
            ],
            "sizemode": "area",
            "sizeref": 0.25,
            "symbol": "circle"
           },
           "mode": "markers",
           "name": "331--Primary Metal Manufactures",
           "orientation": "v",
           "showlegend": true,
           "type": "scatter",
           "x": [
            153387
           ],
           "xaxis": "x",
           "y": [
            88820
           ],
           "yaxis": "y"
          },
          {
           "customdata": [
            [
             5
            ]
           ],
           "hovertemplate": "<b>%{hovertext}</b><br><br>Product=211--Oil & Gas<br>Year=2022<br>Import=%{x}<br>Export=%{y}<br>Size=%{marker.size}<br>Rank=%{customdata[0]}<extra></extra>",
           "hovertext": [
            "211--Oil & Gas"
           ],
           "legendgroup": "211--Oil & Gas",
           "marker": {
            "color": "#EF553B",
            "size": [
             60
            ],
            "sizemode": "area",
            "sizeref": 0.25,
            "symbol": "circle"
           },
           "mode": "markers",
           "name": "211--Oil & Gas",
           "orientation": "v",
           "showlegend": true,
           "type": "scatter",
           "x": [
            219169
           ],
           "xaxis": "x",
           "y": [
            213442
           ],
           "yaxis": "y"
          }
         ],
         "name": "2022"
        },
        {
         "data": [
          {
           "customdata": [
            [
             1
            ]
           ],
           "hovertemplate": "<b>%{hovertext}</b><br><br>Product=0--All Merchandise<br>Year=2023<br>Import=%{x}<br>Export=%{y}<br>Size=%{marker.size}<br>Rank=%{customdata[0]}<extra></extra>",
           "hovertext": [
            "0--All Merchandise"
           ],
           "legendgroup": "0--All Merchandise",
           "marker": {
            "color": "#636efa",
            "size": [
             100
            ],
            "sizemode": "area",
            "sizeref": 0.25,
            "symbol": "circle"
           },
           "mode": "markers",
           "name": "0--All Merchandise",
           "orientation": "v",
           "showlegend": true,
           "type": "scatter",
           "x": [
            3080170
           ],
           "xaxis": "x",
           "y": [
            2018059
           ],
           "yaxis": "y"
          },
          {
           "customdata": [
            [
             2
            ]
           ],
           "hovertemplate": "<b>%{hovertext}</b><br><br>Product=336--Transportation Equipment<br>Year=2023<br>Import=%{x}<br>Export=%{y}<br>Size=%{marker.size}<br>Rank=%{customdata[0]}<extra></extra>",
           "hovertext": [
            "336--Transportation Equipment"
           ],
           "legendgroup": "336--Transportation Equipment",
           "marker": {
            "color": "#EF553B",
            "size": [
             90
            ],
            "sizemode": "area",
            "sizeref": 0.25,
            "symbol": "circle"
           },
           "mode": "markers",
           "name": "336--Transportation Equipment",
           "orientation": "v",
           "showlegend": true,
           "type": "scatter",
           "x": [
            477030
           ],
           "xaxis": "x",
           "y": [
            294899
           ],
           "yaxis": "y"
          },
          {
           "customdata": [
            [
             3
            ]
           ],
           "hovertemplate": "<b>%{hovertext}</b><br><br>Product=325--Chemicals<br>Year=2023<br>Import=%{x}<br>Export=%{y}<br>Size=%{marker.size}<br>Rank=%{customdata[0]}<extra></extra>",
           "hovertext": [
            "325--Chemicals"
           ],
           "legendgroup": "325--Chemicals",
           "marker": {
            "color": "#00cc96",
            "size": [
             80
            ],
            "sizemode": "area",
            "sizeref": 0.25,
            "symbol": "circle"
           },
           "mode": "markers",
           "name": "325--Chemicals",
           "orientation": "v",
           "showlegend": true,
           "type": "scatter",
           "x": [
            350301
           ],
           "xaxis": "x",
           "y": [
            278092
           ],
           "yaxis": "y"
          },
          {
           "customdata": [
            [
             4
            ]
           ],
           "hovertemplate": "<b>%{hovertext}</b><br><br>Product=334--Computer & Electronic Products<br>Year=2023<br>Import=%{x}<br>Export=%{y}<br>Size=%{marker.size}<br>Rank=%{customdata[0]}<extra></extra>",
           "hovertext": [
            "334--Computer & Electronic Products"
           ],
           "legendgroup": "334--Computer & Electronic Products",
           "marker": {
            "color": "#ab63fa",
            "size": [
             70
            ],
            "sizemode": "area",
            "sizeref": 0.25,
            "symbol": "circle"
           },
           "mode": "markers",
           "name": "334--Computer & Electronic Products",
           "orientation": "v",
           "showlegend": true,
           "type": "scatter",
           "x": [
            482296
           ],
           "xaxis": "x",
           "y": [
            230688
           ],
           "yaxis": "y"
          },
          {
           "customdata": [
            [
             6
            ]
           ],
           "hovertemplate": "<b>%{hovertext}</b><br><br>Product=333--Machinery, Except Electrical<br>Year=2023<br>Import=%{x}<br>Export=%{y}<br>Size=%{marker.size}<br>Rank=%{customdata[0]}<extra></extra>",
           "hovertext": [
            "333--Machinery, Except Electrical"
           ],
           "legendgroup": "333--Machinery, Except Electrical",
           "marker": {
            "color": "#FFA15A",
            "size": [
             50
            ],
            "sizemode": "area",
            "sizeref": 0.25,
            "symbol": "circle"
           },
           "mode": "markers",
           "name": "333--Machinery, Except Electrical",
           "orientation": "v",
           "showlegend": true,
           "type": "scatter",
           "x": [
            240651
           ],
           "xaxis": "x",
           "y": [
            165972
           ],
           "yaxis": "y"
          },
          {
           "customdata": [
            [
             7
            ]
           ],
           "hovertemplate": "<b>%{hovertext}</b><br><br>Product=324--Petroleum & Coal Products<br>Year=2023<br>Import=%{x}<br>Export=%{y}<br>Size=%{marker.size}<br>Rank=%{customdata[0]}<extra></extra>",
           "hovertext": [
            "324--Petroleum & Coal Products"
           ],
           "legendgroup": "324--Petroleum & Coal Products",
           "marker": {
            "color": "#19d3f3",
            "size": [
             40
            ],
            "sizemode": "area",
            "sizeref": 0.25,
            "symbol": "circle"
           },
           "mode": "markers",
           "name": "324--Petroleum & Coal Products",
           "orientation": "v",
           "showlegend": true,
           "type": "scatter",
           "x": [
            72325
           ],
           "xaxis": "x",
           "y": [
            128608
           ],
           "yaxis": "y"
          },
          {
           "customdata": [
            [
             8
            ]
           ],
           "hovertemplate": "<b>%{hovertext}</b><br><br>Product=339--Miscellaneous Manufactures<br>Year=2023<br>Import=%{x}<br>Export=%{y}<br>Size=%{marker.size}<br>Rank=%{customdata[0]}<extra></extra>",
           "hovertext": [
            "339--Miscellaneous Manufactures"
           ],
           "legendgroup": "339--Miscellaneous Manufactures",
           "marker": {
            "color": "#FF6692",
            "size": [
             30
            ],
            "sizemode": "area",
            "sizeref": 0.25,
            "symbol": "circle"
           },
           "mode": "markers",
           "name": "339--Miscellaneous Manufactures",
           "orientation": "v",
           "showlegend": true,
           "type": "scatter",
           "x": [
            157316
           ],
           "xaxis": "x",
           "y": [
            92719
           ],
           "yaxis": "y"
          },
          {
           "customdata": [
            [
             9
            ]
           ],
           "hovertemplate": "<b>%{hovertext}</b><br><br>Product=311--Processed Foods<br>Year=2023<br>Import=%{x}<br>Export=%{y}<br>Size=%{marker.size}<br>Rank=%{customdata[0]}<extra></extra>",
           "hovertext": [
            "311--Processed Foods"
           ],
           "legendgroup": "311--Processed Foods",
           "marker": {
            "color": "#B6E880",
            "size": [
             20
            ],
            "sizemode": "area",
            "sizeref": 0.25,
            "symbol": "circle"
           },
           "mode": "markers",
           "name": "311--Processed Foods",
           "orientation": "v",
           "showlegend": true,
           "type": "scatter",
           "x": [
            106124
           ],
           "xaxis": "x",
           "y": [
            81268
           ],
           "yaxis": "y"
          },
          {
           "customdata": [
            [
             10
            ]
           ],
           "hovertemplate": "<b>%{hovertext}</b><br><br>Product=111--Agricultural Products<br>Year=2023<br>Import=%{x}<br>Export=%{y}<br>Size=%{marker.size}<br>Rank=%{customdata[0]}<extra></extra>",
           "hovertext": [
            "111--Agricultural Products"
           ],
           "legendgroup": "111--Agricultural Products",
           "marker": {
            "color": "#FF97FF",
            "size": [
             10
            ],
            "sizemode": "area",
            "sizeref": 0.25,
            "symbol": "circle"
           },
           "mode": "markers",
           "name": "111--Agricultural Products",
           "orientation": "v",
           "showlegend": true,
           "type": "scatter",
           "x": [
            49022
           ],
           "xaxis": "x",
           "y": [
            80217
           ],
           "yaxis": "y"
          },
          {
           "customdata": [
            [
             5
            ]
           ],
           "hovertemplate": "<b>%{hovertext}</b><br><br>Product=211--Oil & Gas<br>Year=2023<br>Import=%{x}<br>Export=%{y}<br>Size=%{marker.size}<br>Rank=%{customdata[0]}<extra></extra>",
           "hovertext": [
            "211--Oil & Gas"
           ],
           "legendgroup": "211--Oil & Gas",
           "marker": {
            "color": "#EF553B",
            "size": [
             60
            ],
            "sizemode": "area",
            "sizeref": 0.25,
            "symbol": "circle"
           },
           "mode": "markers",
           "name": "211--Oil & Gas",
           "orientation": "v",
           "showlegend": true,
           "type": "scatter",
           "x": [
            177107
           ],
           "xaxis": "x",
           "y": [
            184245
           ],
           "yaxis": "y"
          }
         ],
         "name": "2023"
        },
        {
         "data": [
          {
           "customdata": [
            [
             1
            ]
           ],
           "hovertemplate": "<b>%{hovertext}</b><br><br>Product=0--All Merchandise<br>Year=2024<br>Import=%{x}<br>Export=%{y}<br>Size=%{marker.size}<br>Rank=%{customdata[0]}<extra></extra>",
           "hovertext": [
            "0--All Merchandise"
           ],
           "legendgroup": "0--All Merchandise",
           "marker": {
            "color": "#636efa",
            "size": [
             100
            ],
            "sizemode": "area",
            "sizeref": 0.25,
            "symbol": "circle"
           },
           "mode": "markers",
           "name": "0--All Merchandise",
           "orientation": "v",
           "showlegend": true,
           "type": "scatter",
           "x": [
            3267389
           ],
           "xaxis": "x",
           "y": [
            2064517
           ],
           "yaxis": "y"
          },
          {
           "customdata": [
            [
             2
            ]
           ],
           "hovertemplate": "<b>%{hovertext}</b><br><br>Product=336--Transportation Equipment<br>Year=2024<br>Import=%{x}<br>Export=%{y}<br>Size=%{marker.size}<br>Rank=%{customdata[0]}<extra></extra>",
           "hovertext": [
            "336--Transportation Equipment"
           ],
           "legendgroup": "336--Transportation Equipment",
           "marker": {
            "color": "#EF553B",
            "size": [
             90
            ],
            "sizemode": "area",
            "sizeref": 0.25,
            "symbol": "circle"
           },
           "mode": "markers",
           "name": "336--Transportation Equipment",
           "orientation": "v",
           "showlegend": true,
           "type": "scatter",
           "x": [
            494212
           ],
           "xaxis": "x",
           "y": [
            292851
           ],
           "yaxis": "y"
          },
          {
           "customdata": [
            [
             3
            ]
           ],
           "hovertemplate": "<b>%{hovertext}</b><br><br>Product=325--Chemicals<br>Year=2024<br>Import=%{x}<br>Export=%{y}<br>Size=%{marker.size}<br>Rank=%{customdata[0]}<extra></extra>",
           "hovertext": [
            "325--Chemicals"
           ],
           "legendgroup": "325--Chemicals",
           "marker": {
            "color": "#00cc96",
            "size": [
             80
            ],
            "sizemode": "area",
            "sizeref": 0.25,
            "symbol": "circle"
           },
           "mode": "markers",
           "name": "325--Chemicals",
           "orientation": "v",
           "showlegend": true,
           "type": "scatter",
           "x": [
            393780
           ],
           "xaxis": "x",
           "y": [
            285441
           ],
           "yaxis": "y"
          },
          {
           "customdata": [
            [
             4
            ]
           ],
           "hovertemplate": "<b>%{hovertext}</b><br><br>Product=334--Computer & Electronic Products<br>Year=2024<br>Import=%{x}<br>Export=%{y}<br>Size=%{marker.size}<br>Rank=%{customdata[0]}<extra></extra>",
           "hovertext": [
            "334--Computer & Electronic Products"
           ],
           "legendgroup": "334--Computer & Electronic Products",
           "marker": {
            "color": "#ab63fa",
            "size": [
             70
            ],
            "sizemode": "area",
            "sizeref": 0.25,
            "symbol": "circle"
           },
           "mode": "markers",
           "name": "334--Computer & Electronic Products",
           "orientation": "v",
           "showlegend": true,
           "type": "scatter",
           "x": [
            551708
           ],
           "xaxis": "x",
           "y": [
            259371
           ],
           "yaxis": "y"
          },
          {
           "customdata": [
            [
             6
            ]
           ],
           "hovertemplate": "<b>%{hovertext}</b><br><br>Product=333--Machinery, Except Electrical<br>Year=2024<br>Import=%{x}<br>Export=%{y}<br>Size=%{marker.size}<br>Rank=%{customdata[0]}<extra></extra>",
           "hovertext": [
            "333--Machinery, Except Electrical"
           ],
           "legendgroup": "333--Machinery, Except Electrical",
           "marker": {
            "color": "#FFA15A",
            "size": [
             50
            ],
            "sizemode": "area",
            "sizeref": 0.25,
            "symbol": "circle"
           },
           "mode": "markers",
           "name": "333--Machinery, Except Electrical",
           "orientation": "v",
           "showlegend": true,
           "type": "scatter",
           "x": [
            247853
           ],
           "xaxis": "x",
           "y": [
            164663
           ],
           "yaxis": "y"
          },
          {
           "customdata": [
            [
             7
            ]
           ],
           "hovertemplate": "<b>%{hovertext}</b><br><br>Product=324--Petroleum & Coal Products<br>Year=2024<br>Import=%{x}<br>Export=%{y}<br>Size=%{marker.size}<br>Rank=%{customdata[0]}<extra></extra>",
           "hovertext": [
            "324--Petroleum & Coal Products"
           ],
           "legendgroup": "324--Petroleum & Coal Products",
           "marker": {
            "color": "#19d3f3",
            "size": [
             40
            ],
            "sizemode": "area",
            "sizeref": 0.25,
            "symbol": "circle"
           },
           "mode": "markers",
           "name": "324--Petroleum & Coal Products",
           "orientation": "v",
           "showlegend": true,
           "type": "scatter",
           "x": [
            62930
           ],
           "xaxis": "x",
           "y": [
            127761
           ],
           "yaxis": "y"
          },
          {
           "customdata": [
            [
             8
            ]
           ],
           "hovertemplate": "<b>%{hovertext}</b><br><br>Product=339--Miscellaneous Manufactures<br>Year=2024<br>Import=%{x}<br>Export=%{y}<br>Size=%{marker.size}<br>Rank=%{customdata[0]}<extra></extra>",
           "hovertext": [
            "339--Miscellaneous Manufactures"
           ],
           "legendgroup": "339--Miscellaneous Manufactures",
           "marker": {
            "color": "#FF6692",
            "size": [
             30
            ],
            "sizemode": "area",
            "sizeref": 0.25,
            "symbol": "circle"
           },
           "mode": "markers",
           "name": "339--Miscellaneous Manufactures",
           "orientation": "v",
           "showlegend": true,
           "type": "scatter",
           "x": [
            155326
           ],
           "xaxis": "x",
           "y": [
            87590
           ],
           "yaxis": "y"
          },
          {
           "customdata": [
            [
             9
            ]
           ],
           "hovertemplate": "<b>%{hovertext}</b><br><br>Product=311--Processed Foods<br>Year=2024<br>Import=%{x}<br>Export=%{y}<br>Size=%{marker.size}<br>Rank=%{customdata[0]}<extra></extra>",
           "hovertext": [
            "311--Processed Foods"
           ],
           "legendgroup": "311--Processed Foods",
           "marker": {
            "color": "#B6E880",
            "size": [
             20
            ],
            "sizemode": "area",
            "sizeref": 0.25,
            "symbol": "circle"
           },
           "mode": "markers",
           "name": "311--Processed Foods",
           "orientation": "v",
           "showlegend": true,
           "type": "scatter",
           "x": [
            117810
           ],
           "xaxis": "x",
           "y": [
            83623
           ],
           "yaxis": "y"
          },
          {
           "customdata": [
            [
             5
            ]
           ],
           "hovertemplate": "<b>%{hovertext}</b><br><br>Product=211--Oil & Gas<br>Year=2024<br>Import=%{x}<br>Export=%{y}<br>Size=%{marker.size}<br>Rank=%{customdata[0]}<extra></extra>",
           "hovertext": [
            "211--Oil & Gas"
           ],
           "legendgroup": "211--Oil & Gas",
           "marker": {
            "color": "#EF553B",
            "size": [
             60
            ],
            "sizemode": "area",
            "sizeref": 0.25,
            "symbol": "circle"
           },
           "mode": "markers",
           "name": "211--Oil & Gas",
           "orientation": "v",
           "showlegend": true,
           "type": "scatter",
           "x": [
            176469
           ],
           "xaxis": "x",
           "y": [
            180746
           ],
           "yaxis": "y"
          },
          {
           "customdata": [
            [
             10
            ]
           ],
           "hovertemplate": "<b>%{hovertext}</b><br><br>Product=990--Other Special Classification Provisions<br>Year=2024<br>Import=%{x}<br>Export=%{y}<br>Size=%{marker.size}<br>Rank=%{customdata[0]}<extra></extra>",
           "hovertext": [
            "990--Other Special Classification Provisions"
           ],
           "legendgroup": "990--Other Special Classification Provisions",
           "marker": {
            "color": "#00cc96",
            "size": [
             10
            ],
            "sizemode": "area",
            "sizeref": 0.25,
            "symbol": "circle"
           },
           "mode": "markers",
           "name": "990--Other Special Classification Provisions",
           "orientation": "v",
           "showlegend": true,
           "type": "scatter",
           "x": [
            30038
           ],
           "xaxis": "x",
           "y": [
            80521
           ],
           "yaxis": "y"
          }
         ],
         "name": "2024"
        }
       ],
       "layout": {
        "height": 700,
        "legend": {
         "itemsizing": "constant",
         "title": {
          "text": "Product Category"
         },
         "tracegroupgap": 0
        },
        "sliders": [
         {
          "active": 0,
          "currentvalue": {
           "prefix": "Year="
          },
          "len": 0.9,
          "pad": {
           "b": 10,
           "t": 60
          },
          "steps": [
           {
            "args": [
             [
              "2009"
             ],
             {
              "frame": {
               "duration": 0,
               "redraw": false
              },
              "fromcurrent": true,
              "mode": "immediate",
              "transition": {
               "duration": 0,
               "easing": "linear"
              }
             }
            ],
            "label": "2009",
            "method": "animate"
           },
           {
            "args": [
             [
              "2010"
             ],
             {
              "frame": {
               "duration": 0,
               "redraw": false
              },
              "fromcurrent": true,
              "mode": "immediate",
              "transition": {
               "duration": 0,
               "easing": "linear"
              }
             }
            ],
            "label": "2010",
            "method": "animate"
           },
           {
            "args": [
             [
              "2011"
             ],
             {
              "frame": {
               "duration": 0,
               "redraw": false
              },
              "fromcurrent": true,
              "mode": "immediate",
              "transition": {
               "duration": 0,
               "easing": "linear"
              }
             }
            ],
            "label": "2011",
            "method": "animate"
           },
           {
            "args": [
             [
              "2012"
             ],
             {
              "frame": {
               "duration": 0,
               "redraw": false
              },
              "fromcurrent": true,
              "mode": "immediate",
              "transition": {
               "duration": 0,
               "easing": "linear"
              }
             }
            ],
            "label": "2012",
            "method": "animate"
           },
           {
            "args": [
             [
              "2013"
             ],
             {
              "frame": {
               "duration": 0,
               "redraw": false
              },
              "fromcurrent": true,
              "mode": "immediate",
              "transition": {
               "duration": 0,
               "easing": "linear"
              }
             }
            ],
            "label": "2013",
            "method": "animate"
           },
           {
            "args": [
             [
              "2014"
             ],
             {
              "frame": {
               "duration": 0,
               "redraw": false
              },
              "fromcurrent": true,
              "mode": "immediate",
              "transition": {
               "duration": 0,
               "easing": "linear"
              }
             }
            ],
            "label": "2014",
            "method": "animate"
           },
           {
            "args": [
             [
              "2015"
             ],
             {
              "frame": {
               "duration": 0,
               "redraw": false
              },
              "fromcurrent": true,
              "mode": "immediate",
              "transition": {
               "duration": 0,
               "easing": "linear"
              }
             }
            ],
            "label": "2015",
            "method": "animate"
           },
           {
            "args": [
             [
              "2016"
             ],
             {
              "frame": {
               "duration": 0,
               "redraw": false
              },
              "fromcurrent": true,
              "mode": "immediate",
              "transition": {
               "duration": 0,
               "easing": "linear"
              }
             }
            ],
            "label": "2016",
            "method": "animate"
           },
           {
            "args": [
             [
              "2017"
             ],
             {
              "frame": {
               "duration": 0,
               "redraw": false
              },
              "fromcurrent": true,
              "mode": "immediate",
              "transition": {
               "duration": 0,
               "easing": "linear"
              }
             }
            ],
            "label": "2017",
            "method": "animate"
           },
           {
            "args": [
             [
              "2018"
             ],
             {
              "frame": {
               "duration": 0,
               "redraw": false
              },
              "fromcurrent": true,
              "mode": "immediate",
              "transition": {
               "duration": 0,
               "easing": "linear"
              }
             }
            ],
            "label": "2018",
            "method": "animate"
           },
           {
            "args": [
             [
              "2019"
             ],
             {
              "frame": {
               "duration": 0,
               "redraw": false
              },
              "fromcurrent": true,
              "mode": "immediate",
              "transition": {
               "duration": 0,
               "easing": "linear"
              }
             }
            ],
            "label": "2019",
            "method": "animate"
           },
           {
            "args": [
             [
              "2020"
             ],
             {
              "frame": {
               "duration": 0,
               "redraw": false
              },
              "fromcurrent": true,
              "mode": "immediate",
              "transition": {
               "duration": 0,
               "easing": "linear"
              }
             }
            ],
            "label": "2020",
            "method": "animate"
           },
           {
            "args": [
             [
              "2021"
             ],
             {
              "frame": {
               "duration": 0,
               "redraw": false
              },
              "fromcurrent": true,
              "mode": "immediate",
              "transition": {
               "duration": 0,
               "easing": "linear"
              }
             }
            ],
            "label": "2021",
            "method": "animate"
           },
           {
            "args": [
             [
              "2022"
             ],
             {
              "frame": {
               "duration": 0,
               "redraw": false
              },
              "fromcurrent": true,
              "mode": "immediate",
              "transition": {
               "duration": 0,
               "easing": "linear"
              }
             }
            ],
            "label": "2022",
            "method": "animate"
           },
           {
            "args": [
             [
              "2023"
             ],
             {
              "frame": {
               "duration": 0,
               "redraw": false
              },
              "fromcurrent": true,
              "mode": "immediate",
              "transition": {
               "duration": 0,
               "easing": "linear"
              }
             }
            ],
            "label": "2023",
            "method": "animate"
           },
           {
            "args": [
             [
              "2024"
             ],
             {
              "frame": {
               "duration": 0,
               "redraw": false
              },
              "fromcurrent": true,
              "mode": "immediate",
              "transition": {
               "duration": 0,
               "easing": "linear"
              }
             }
            ],
            "label": "2024",
            "method": "animate"
           }
          ],
          "x": 0.1,
          "xanchor": "left",
          "y": 0,
          "yanchor": "top"
         }
        ],
        "template": {
         "data": {
          "bar": [
           {
            "error_x": {
             "color": "#2a3f5f"
            },
            "error_y": {
             "color": "#2a3f5f"
            },
            "marker": {
             "line": {
              "color": "#E5ECF6",
              "width": 0.5
             },
             "pattern": {
              "fillmode": "overlay",
              "size": 10,
              "solidity": 0.2
             }
            },
            "type": "bar"
           }
          ],
          "barpolar": [
           {
            "marker": {
             "line": {
              "color": "#E5ECF6",
              "width": 0.5
             },
             "pattern": {
              "fillmode": "overlay",
              "size": 10,
              "solidity": 0.2
             }
            },
            "type": "barpolar"
           }
          ],
          "carpet": [
           {
            "aaxis": {
             "endlinecolor": "#2a3f5f",
             "gridcolor": "white",
             "linecolor": "white",
             "minorgridcolor": "white",
             "startlinecolor": "#2a3f5f"
            },
            "baxis": {
             "endlinecolor": "#2a3f5f",
             "gridcolor": "white",
             "linecolor": "white",
             "minorgridcolor": "white",
             "startlinecolor": "#2a3f5f"
            },
            "type": "carpet"
           }
          ],
          "choropleth": [
           {
            "colorbar": {
             "outlinewidth": 0,
             "ticks": ""
            },
            "type": "choropleth"
           }
          ],
          "contour": [
           {
            "colorbar": {
             "outlinewidth": 0,
             "ticks": ""
            },
            "colorscale": [
             [
              0,
              "#0d0887"
             ],
             [
              0.1111111111111111,
              "#46039f"
             ],
             [
              0.2222222222222222,
              "#7201a8"
             ],
             [
              0.3333333333333333,
              "#9c179e"
             ],
             [
              0.4444444444444444,
              "#bd3786"
             ],
             [
              0.5555555555555556,
              "#d8576b"
             ],
             [
              0.6666666666666666,
              "#ed7953"
             ],
             [
              0.7777777777777778,
              "#fb9f3a"
             ],
             [
              0.8888888888888888,
              "#fdca26"
             ],
             [
              1,
              "#f0f921"
             ]
            ],
            "type": "contour"
           }
          ],
          "contourcarpet": [
           {
            "colorbar": {
             "outlinewidth": 0,
             "ticks": ""
            },
            "type": "contourcarpet"
           }
          ],
          "heatmap": [
           {
            "colorbar": {
             "outlinewidth": 0,
             "ticks": ""
            },
            "colorscale": [
             [
              0,
              "#0d0887"
             ],
             [
              0.1111111111111111,
              "#46039f"
             ],
             [
              0.2222222222222222,
              "#7201a8"
             ],
             [
              0.3333333333333333,
              "#9c179e"
             ],
             [
              0.4444444444444444,
              "#bd3786"
             ],
             [
              0.5555555555555556,
              "#d8576b"
             ],
             [
              0.6666666666666666,
              "#ed7953"
             ],
             [
              0.7777777777777778,
              "#fb9f3a"
             ],
             [
              0.8888888888888888,
              "#fdca26"
             ],
             [
              1,
              "#f0f921"
             ]
            ],
            "type": "heatmap"
           }
          ],
          "heatmapgl": [
           {
            "colorbar": {
             "outlinewidth": 0,
             "ticks": ""
            },
            "colorscale": [
             [
              0,
              "#0d0887"
             ],
             [
              0.1111111111111111,
              "#46039f"
             ],
             [
              0.2222222222222222,
              "#7201a8"
             ],
             [
              0.3333333333333333,
              "#9c179e"
             ],
             [
              0.4444444444444444,
              "#bd3786"
             ],
             [
              0.5555555555555556,
              "#d8576b"
             ],
             [
              0.6666666666666666,
              "#ed7953"
             ],
             [
              0.7777777777777778,
              "#fb9f3a"
             ],
             [
              0.8888888888888888,
              "#fdca26"
             ],
             [
              1,
              "#f0f921"
             ]
            ],
            "type": "heatmapgl"
           }
          ],
          "histogram": [
           {
            "marker": {
             "pattern": {
              "fillmode": "overlay",
              "size": 10,
              "solidity": 0.2
             }
            },
            "type": "histogram"
           }
          ],
          "histogram2d": [
           {
            "colorbar": {
             "outlinewidth": 0,
             "ticks": ""
            },
            "colorscale": [
             [
              0,
              "#0d0887"
             ],
             [
              0.1111111111111111,
              "#46039f"
             ],
             [
              0.2222222222222222,
              "#7201a8"
             ],
             [
              0.3333333333333333,
              "#9c179e"
             ],
             [
              0.4444444444444444,
              "#bd3786"
             ],
             [
              0.5555555555555556,
              "#d8576b"
             ],
             [
              0.6666666666666666,
              "#ed7953"
             ],
             [
              0.7777777777777778,
              "#fb9f3a"
             ],
             [
              0.8888888888888888,
              "#fdca26"
             ],
             [
              1,
              "#f0f921"
             ]
            ],
            "type": "histogram2d"
           }
          ],
          "histogram2dcontour": [
           {
            "colorbar": {
             "outlinewidth": 0,
             "ticks": ""
            },
            "colorscale": [
             [
              0,
              "#0d0887"
             ],
             [
              0.1111111111111111,
              "#46039f"
             ],
             [
              0.2222222222222222,
              "#7201a8"
             ],
             [
              0.3333333333333333,
              "#9c179e"
             ],
             [
              0.4444444444444444,
              "#bd3786"
             ],
             [
              0.5555555555555556,
              "#d8576b"
             ],
             [
              0.6666666666666666,
              "#ed7953"
             ],
             [
              0.7777777777777778,
              "#fb9f3a"
             ],
             [
              0.8888888888888888,
              "#fdca26"
             ],
             [
              1,
              "#f0f921"
             ]
            ],
            "type": "histogram2dcontour"
           }
          ],
          "mesh3d": [
           {
            "colorbar": {
             "outlinewidth": 0,
             "ticks": ""
            },
            "type": "mesh3d"
           }
          ],
          "parcoords": [
           {
            "line": {
             "colorbar": {
              "outlinewidth": 0,
              "ticks": ""
             }
            },
            "type": "parcoords"
           }
          ],
          "pie": [
           {
            "automargin": true,
            "type": "pie"
           }
          ],
          "scatter": [
           {
            "fillpattern": {
             "fillmode": "overlay",
             "size": 10,
             "solidity": 0.2
            },
            "type": "scatter"
           }
          ],
          "scatter3d": [
           {
            "line": {
             "colorbar": {
              "outlinewidth": 0,
              "ticks": ""
             }
            },
            "marker": {
             "colorbar": {
              "outlinewidth": 0,
              "ticks": ""
             }
            },
            "type": "scatter3d"
           }
          ],
          "scattercarpet": [
           {
            "marker": {
             "colorbar": {
              "outlinewidth": 0,
              "ticks": ""
             }
            },
            "type": "scattercarpet"
           }
          ],
          "scattergeo": [
           {
            "marker": {
             "colorbar": {
              "outlinewidth": 0,
              "ticks": ""
             }
            },
            "type": "scattergeo"
           }
          ],
          "scattergl": [
           {
            "marker": {
             "colorbar": {
              "outlinewidth": 0,
              "ticks": ""
             }
            },
            "type": "scattergl"
           }
          ],
          "scattermapbox": [
           {
            "marker": {
             "colorbar": {
              "outlinewidth": 0,
              "ticks": ""
             }
            },
            "type": "scattermapbox"
           }
          ],
          "scatterpolar": [
           {
            "marker": {
             "colorbar": {
              "outlinewidth": 0,
              "ticks": ""
             }
            },
            "type": "scatterpolar"
           }
          ],
          "scatterpolargl": [
           {
            "marker": {
             "colorbar": {
              "outlinewidth": 0,
              "ticks": ""
             }
            },
            "type": "scatterpolargl"
           }
          ],
          "scatterternary": [
           {
            "marker": {
             "colorbar": {
              "outlinewidth": 0,
              "ticks": ""
             }
            },
            "type": "scatterternary"
           }
          ],
          "surface": [
           {
            "colorbar": {
             "outlinewidth": 0,
             "ticks": ""
            },
            "colorscale": [
             [
              0,
              "#0d0887"
             ],
             [
              0.1111111111111111,
              "#46039f"
             ],
             [
              0.2222222222222222,
              "#7201a8"
             ],
             [
              0.3333333333333333,
              "#9c179e"
             ],
             [
              0.4444444444444444,
              "#bd3786"
             ],
             [
              0.5555555555555556,
              "#d8576b"
             ],
             [
              0.6666666666666666,
              "#ed7953"
             ],
             [
              0.7777777777777778,
              "#fb9f3a"
             ],
             [
              0.8888888888888888,
              "#fdca26"
             ],
             [
              1,
              "#f0f921"
             ]
            ],
            "type": "surface"
           }
          ],
          "table": [
           {
            "cells": {
             "fill": {
              "color": "#EBF0F8"
             },
             "line": {
              "color": "white"
             }
            },
            "header": {
             "fill": {
              "color": "#C8D4E3"
             },
             "line": {
              "color": "white"
             }
            },
            "type": "table"
           }
          ]
         },
         "layout": {
          "annotationdefaults": {
           "arrowcolor": "#2a3f5f",
           "arrowhead": 0,
           "arrowwidth": 1
          },
          "autotypenumbers": "strict",
          "coloraxis": {
           "colorbar": {
            "outlinewidth": 0,
            "ticks": ""
           }
          },
          "colorscale": {
           "diverging": [
            [
             0,
             "#8e0152"
            ],
            [
             0.1,
             "#c51b7d"
            ],
            [
             0.2,
             "#de77ae"
            ],
            [
             0.3,
             "#f1b6da"
            ],
            [
             0.4,
             "#fde0ef"
            ],
            [
             0.5,
             "#f7f7f7"
            ],
            [
             0.6,
             "#e6f5d0"
            ],
            [
             0.7,
             "#b8e186"
            ],
            [
             0.8,
             "#7fbc41"
            ],
            [
             0.9,
             "#4d9221"
            ],
            [
             1,
             "#276419"
            ]
           ],
           "sequential": [
            [
             0,
             "#0d0887"
            ],
            [
             0.1111111111111111,
             "#46039f"
            ],
            [
             0.2222222222222222,
             "#7201a8"
            ],
            [
             0.3333333333333333,
             "#9c179e"
            ],
            [
             0.4444444444444444,
             "#bd3786"
            ],
            [
             0.5555555555555556,
             "#d8576b"
            ],
            [
             0.6666666666666666,
             "#ed7953"
            ],
            [
             0.7777777777777778,
             "#fb9f3a"
            ],
            [
             0.8888888888888888,
             "#fdca26"
            ],
            [
             1,
             "#f0f921"
            ]
           ],
           "sequentialminus": [
            [
             0,
             "#0d0887"
            ],
            [
             0.1111111111111111,
             "#46039f"
            ],
            [
             0.2222222222222222,
             "#7201a8"
            ],
            [
             0.3333333333333333,
             "#9c179e"
            ],
            [
             0.4444444444444444,
             "#bd3786"
            ],
            [
             0.5555555555555556,
             "#d8576b"
            ],
            [
             0.6666666666666666,
             "#ed7953"
            ],
            [
             0.7777777777777778,
             "#fb9f3a"
            ],
            [
             0.8888888888888888,
             "#fdca26"
            ],
            [
             1,
             "#f0f921"
            ]
           ]
          },
          "colorway": [
           "#636efa",
           "#EF553B",
           "#00cc96",
           "#ab63fa",
           "#FFA15A",
           "#19d3f3",
           "#FF6692",
           "#B6E880",
           "#FF97FF",
           "#FECB52"
          ],
          "font": {
           "color": "#2a3f5f"
          },
          "geo": {
           "bgcolor": "white",
           "lakecolor": "white",
           "landcolor": "#E5ECF6",
           "showlakes": true,
           "showland": true,
           "subunitcolor": "white"
          },
          "hoverlabel": {
           "align": "left"
          },
          "hovermode": "closest",
          "mapbox": {
           "style": "light"
          },
          "paper_bgcolor": "white",
          "plot_bgcolor": "#E5ECF6",
          "polar": {
           "angularaxis": {
            "gridcolor": "white",
            "linecolor": "white",
            "ticks": ""
           },
           "bgcolor": "#E5ECF6",
           "radialaxis": {
            "gridcolor": "white",
            "linecolor": "white",
            "ticks": ""
           }
          },
          "scene": {
           "xaxis": {
            "backgroundcolor": "#E5ECF6",
            "gridcolor": "white",
            "gridwidth": 2,
            "linecolor": "white",
            "showbackground": true,
            "ticks": "",
            "zerolinecolor": "white"
           },
           "yaxis": {
            "backgroundcolor": "#E5ECF6",
            "gridcolor": "white",
            "gridwidth": 2,
            "linecolor": "white",
            "showbackground": true,
            "ticks": "",
            "zerolinecolor": "white"
           },
           "zaxis": {
            "backgroundcolor": "#E5ECF6",
            "gridcolor": "white",
            "gridwidth": 2,
            "linecolor": "white",
            "showbackground": true,
            "ticks": "",
            "zerolinecolor": "white"
           }
          },
          "shapedefaults": {
           "line": {
            "color": "#2a3f5f"
           }
          },
          "ternary": {
           "aaxis": {
            "gridcolor": "white",
            "linecolor": "white",
            "ticks": ""
           },
           "baxis": {
            "gridcolor": "white",
            "linecolor": "white",
            "ticks": ""
           },
           "bgcolor": "#E5ECF6",
           "caxis": {
            "gridcolor": "white",
            "linecolor": "white",
            "ticks": ""
           }
          },
          "title": {
           "x": 0.05
          },
          "xaxis": {
           "automargin": true,
           "gridcolor": "white",
           "linecolor": "white",
           "ticks": "",
           "title": {
            "standoff": 15
           },
           "zerolinecolor": "white",
           "zerolinewidth": 2
          },
          "yaxis": {
           "automargin": true,
           "gridcolor": "white",
           "linecolor": "white",
           "ticks": "",
           "title": {
            "standoff": 15
           },
           "zerolinecolor": "white",
           "zerolinewidth": 2
          }
         }
        },
        "title": {
         "text": "U.S. Export vs Import Trade (Top 10 Products + All Merchandise, 2009–2024)"
        },
        "updatemenus": [
         {
          "buttons": [
           {
            "args": [
             null,
             {
              "frame": {
               "duration": 500,
               "redraw": false
              },
              "fromcurrent": true,
              "mode": "immediate",
              "transition": {
               "duration": 500,
               "easing": "linear"
              }
             }
            ],
            "label": "&#9654;",
            "method": "animate"
           },
           {
            "args": [
             [
              null
             ],
             {
              "frame": {
               "duration": 0,
               "redraw": false
              },
              "fromcurrent": true,
              "mode": "immediate",
              "transition": {
               "duration": 0,
               "easing": "linear"
              }
             }
            ],
            "label": "&#9724;",
            "method": "animate"
           }
          ],
          "direction": "left",
          "pad": {
           "r": 10,
           "t": 70
          },
          "showactive": false,
          "type": "buttons",
          "x": 0.1,
          "xanchor": "right",
          "y": 0,
          "yanchor": "top"
         }
        ],
        "xaxis": {
         "anchor": "y",
         "domain": [
          0,
          1
         ],
         "range": [
          0,
          3430758.45
         ],
         "title": {
          "text": "Import Value (Million USD)"
         }
        },
        "yaxis": {
         "anchor": "x",
         "domain": [
          0,
          1
         ],
         "range": [
          0,
          3430758.45
         ],
         "title": {
          "text": "Export Value (Million USD)"
         }
        }
       }
      }
     },
     "metadata": {},
     "output_type": "display_data"
    }
   ],
   "source": [
    "# 📦 Step 1: Import libraries\n",
    "import pandas as pd\n",
    "import plotly.express as px\n",
    "import plotly.graph_objects as go\n",
    "\n",
    "# 📂 Step 2: Load the cleaned export and import datasets\n",
    "export_clean = pd.read_csv(\"../data/Processed/Export_Trade_Cleaned.csv\")\n",
    "import_clean = pd.read_csv(\"../data/Processed/Import_Trade_Cleaned.csv\")\n",
    "\n",
    "# 🧼 Step 3: Clean and reshape the data\n",
    "def clean_and_melt(df, value_name):\n",
    "    df = df.copy()\n",
    "    df.columns = df.columns.str.strip()\n",
    "    df.iloc[:, 1:] = df.iloc[:, 1:].replace('[\\$,]', '', regex=True).astype(float)\n",
    "    df_long = df.melt(id_vars=[\"Product\"], var_name=\"Year\", value_name=value_name)\n",
    "    df_long[\"Year\"] = df_long[\"Year\"].astype(int)\n",
    "    return df_long\n",
    "\n",
    "export_long = clean_and_melt(export_clean, \"Export\")\n",
    "import_long = clean_and_melt(import_clean, \"Import\")\n",
    "\n",
    "# 🔗 Step 4: Merge export and import data\n",
    "merged = pd.merge(export_long, import_long, on=[\"Product\", \"Year\"])\n",
    "\n",
    "# 🏅 Step 5: Add export rank and keep top 10 + All Merchandise\n",
    "merged[\"Rank\"] = merged.groupby(\"Year\")[\"Export\"].rank(method=\"first\", ascending=False)\n",
    "merged[\"Is_All_Merchandise\"] = merged[\"Product\"].str.contains(\"All Merchandise\")\n",
    "top_products = merged[(merged[\"Rank\"] <= 10) | (merged[\"Is_All_Merchandise\"])].copy()\n",
    "top_products[\"Size\"] = top_products[\"Rank\"].apply(lambda r: (11 - r) * 10 if r <= 10 else 120)\n",
    "\n",
    "# 📊 Step 6: Create animated scatter plot\n",
    "fig = px.scatter(\n",
    "    top_products,\n",
    "    x=\"Import\",\n",
    "    y=\"Export\",\n",
    "    color=\"Product\",\n",
    "    animation_frame=\"Year\",\n",
    "    size=\"Size\",\n",
    "    hover_name=\"Product\",\n",
    "    hover_data={\"Rank\": True, \"Export\": True, \"Import\": True},\n",
    "    title=\"U.S. Export vs Import Trade (Top 10 Products + All Merchandise, 2009–2024)\"\n",
    ")\n",
    "\n",
    "# ➕ Step 7: Add 45-degree trade balance line\n",
    "max_val = max(top_products[\"Export\"].max(), top_products[\"Import\"].max())\n",
    "fig.add_trace(go.Scatter(\n",
    "    x=[0, max_val],\n",
    "    y=[0, max_val],\n",
    "    mode='lines',\n",
    "    line=dict(color='black', dash='dash'),\n",
    "    name='Trade Balance = 0'\n",
    "))\n",
    "\n",
    "# 🧾 Step 8: Final layout adjustments\n",
    "fig.update_layout(\n",
    "    xaxis_title=\"Import Value (Million USD)\",\n",
    "    yaxis_title=\"Export Value (Million USD)\",\n",
    "    legend_title=\"Product Category\",\n",
    "    xaxis=dict(range=[0, max_val * 1.05]),\n",
    "    yaxis=dict(range=[0, max_val * 1.05]),\n",
    "    height=700\n",
    ")\n",
    "\n",
    "fig.show()\n"
   ]
  },
  {
   "cell_type": "code",
   "execution_count": 12,
   "metadata": {},
   "outputs": [
    {
     "name": "stderr",
     "output_type": "stream",
     "text": [
      "<>:13: SyntaxWarning:\n",
      "\n",
      "invalid escape sequence '\\$'\n",
      "\n",
      "<>:13: SyntaxWarning:\n",
      "\n",
      "invalid escape sequence '\\$'\n",
      "\n",
      "/var/folders/4h/1n1m5c3s6vg_drmsgcbr1lz80000gn/T/ipykernel_50120/2500795844.py:13: SyntaxWarning:\n",
      "\n",
      "invalid escape sequence '\\$'\n",
      "\n"
     ]
    },
    {
     "data": {
      "application/vnd.plotly.v1+json": {
       "config": {
        "plotlyServerURL": "https://plot.ly"
       },
       "data": [
        {
         "hovertemplate": "<b>336--Transportation Equipment</b><br>Export: 165,375<br>Import: 180,212<br>Rank: 2<extra></extra>",
         "marker": {
          "size": 90
         },
         "mode": "markers",
         "name": "336--Transportation Equipment",
         "type": "scatter",
         "x": [
          180212
         ],
         "y": [
          165375
         ]
        },
        {
         "hovertemplate": "<b>325--Chemicals</b><br>Export: 152,255<br>Import: 155,313<br>Rank: 4<extra></extra>",
         "marker": {
          "size": 70
         },
         "mode": "markers",
         "name": "325--Chemicals",
         "type": "scatter",
         "x": [
          155313
         ],
         "y": [
          152255
         ]
        },
        {
         "hovertemplate": "<b>334--Computer & Electronic Products</b><br>Export: 160,628<br>Import: 266,612<br>Rank: 3<extra></extra>",
         "marker": {
          "size": 80
         },
         "mode": "markers",
         "name": "334--Computer & Electronic Products",
         "type": "scatter",
         "x": [
          266612
         ],
         "y": [
          160628
         ]
        },
        {
         "hovertemplate": "<b>333--Machinery, Except Electrical</b><br>Export: 113,416<br>Import: 87,824<br>Rank: 5<extra></extra>",
         "marker": {
          "size": 60
         },
         "mode": "markers",
         "name": "333--Machinery, Except Electrical",
         "type": "scatter",
         "x": [
          87824
         ],
         "y": [
          113416
         ]
        },
        {
         "hovertemplate": "<b>324--Petroleum & Coal Products</b><br>Export: 41,595<br>Import: 54,685<br>Rank: 9<extra></extra>",
         "marker": {
          "size": 20
         },
         "mode": "markers",
         "name": "324--Petroleum & Coal Products",
         "type": "scatter",
         "x": [
          54685
         ],
         "y": [
          41595
         ]
        },
        {
         "hovertemplate": "<b>339--Miscellaneous Manufactures</b><br>Export: 52,740<br>Import: 82,344<br>Rank: 6<extra></extra>",
         "marker": {
          "size": 50
         },
         "mode": "markers",
         "name": "339--Miscellaneous Manufactures",
         "type": "scatter",
         "x": [
          82344
         ],
         "y": [
          52740
         ]
        },
        {
         "hovertemplate": "<b>311--Processed Foods</b><br>Export: 44,679<br>Import: 36,228<br>Rank: 8<extra></extra>",
         "marker": {
          "size": 30
         },
         "mode": "markers",
         "name": "311--Processed Foods",
         "type": "scatter",
         "x": [
          36228
         ],
         "y": [
          44679
         ]
        },
        {
         "hovertemplate": "<b>111--Agricultural Products</b><br>Export: 50,826<br>Import: 21,503<br>Rank: 7<extra></extra>",
         "marker": {
          "size": 40
         },
         "mode": "markers",
         "name": "111--Agricultural Products",
         "type": "scatter",
         "x": [
          21503
         ],
         "y": [
          50826
         ]
        },
        {
         "hovertemplate": "<b>331--Primary Metal Manufactures</b><br>Export: 40,656<br>Import: 55,578<br>Rank: 10<extra></extra>",
         "marker": {
          "size": 10
         },
         "mode": "markers",
         "name": "331--Primary Metal Manufactures",
         "type": "scatter",
         "x": [
          55578
         ],
         "y": [
          40656
         ]
        },
        {
         "hovertemplate": "<b>All Merchandise</b><br>Export: 1,056,043<br>Import: 1,559,625<extra></extra>",
         "marker": {
          "color": "gray",
          "size": 14,
          "symbol": "diamond"
         },
         "mode": "markers+text",
         "name": "All Merchandise",
         "text": [
          "All Merchandise"
         ],
         "textposition": "top center",
         "type": "scatter",
         "x": [
          1559625
         ],
         "y": [
          1056043
         ]
        }
       ],
       "frames": [
        {
         "data": [
          {
           "hovertemplate": "<b>336--Transportation Equipment</b><br>Export: 165,375<br>Import: 180,212<br>Rank: 2<extra></extra>",
           "marker": {
            "size": 90
           },
           "mode": "markers",
           "name": "336--Transportation Equipment",
           "type": "scatter",
           "x": [
            180212
           ],
           "y": [
            165375
           ]
          },
          {
           "hovertemplate": "<b>325--Chemicals</b><br>Export: 152,255<br>Import: 155,313<br>Rank: 4<extra></extra>",
           "marker": {
            "size": 70
           },
           "mode": "markers",
           "name": "325--Chemicals",
           "type": "scatter",
           "x": [
            155313
           ],
           "y": [
            152255
           ]
          },
          {
           "hovertemplate": "<b>334--Computer & Electronic Products</b><br>Export: 160,628<br>Import: 266,612<br>Rank: 3<extra></extra>",
           "marker": {
            "size": 80
           },
           "mode": "markers",
           "name": "334--Computer & Electronic Products",
           "type": "scatter",
           "x": [
            266612
           ],
           "y": [
            160628
           ]
          },
          {
           "hovertemplate": "<b>333--Machinery, Except Electrical</b><br>Export: 113,416<br>Import: 87,824<br>Rank: 5<extra></extra>",
           "marker": {
            "size": 60
           },
           "mode": "markers",
           "name": "333--Machinery, Except Electrical",
           "type": "scatter",
           "x": [
            87824
           ],
           "y": [
            113416
           ]
          },
          {
           "hovertemplate": "<b>324--Petroleum & Coal Products</b><br>Export: 41,595<br>Import: 54,685<br>Rank: 9<extra></extra>",
           "marker": {
            "size": 20
           },
           "mode": "markers",
           "name": "324--Petroleum & Coal Products",
           "type": "scatter",
           "x": [
            54685
           ],
           "y": [
            41595
           ]
          },
          {
           "hovertemplate": "<b>339--Miscellaneous Manufactures</b><br>Export: 52,740<br>Import: 82,344<br>Rank: 6<extra></extra>",
           "marker": {
            "size": 50
           },
           "mode": "markers",
           "name": "339--Miscellaneous Manufactures",
           "type": "scatter",
           "x": [
            82344
           ],
           "y": [
            52740
           ]
          },
          {
           "hovertemplate": "<b>311--Processed Foods</b><br>Export: 44,679<br>Import: 36,228<br>Rank: 8<extra></extra>",
           "marker": {
            "size": 30
           },
           "mode": "markers",
           "name": "311--Processed Foods",
           "type": "scatter",
           "x": [
            36228
           ],
           "y": [
            44679
           ]
          },
          {
           "hovertemplate": "<b>111--Agricultural Products</b><br>Export: 50,826<br>Import: 21,503<br>Rank: 7<extra></extra>",
           "marker": {
            "size": 40
           },
           "mode": "markers",
           "name": "111--Agricultural Products",
           "type": "scatter",
           "x": [
            21503
           ],
           "y": [
            50826
           ]
          },
          {
           "hovertemplate": "<b>331--Primary Metal Manufactures</b><br>Export: 40,656<br>Import: 55,578<br>Rank: 10<extra></extra>",
           "marker": {
            "size": 10
           },
           "mode": "markers",
           "name": "331--Primary Metal Manufactures",
           "type": "scatter",
           "x": [
            55578
           ],
           "y": [
            40656
           ]
          },
          {
           "hovertemplate": "<b>All Merchandise</b><br>Export: 1,056,043<br>Import: 1,559,625<extra></extra>",
           "marker": {
            "color": "gray",
            "size": 14,
            "symbol": "diamond"
           },
           "mode": "markers+text",
           "name": "All Merchandise",
           "text": [
            "All Merchandise"
           ],
           "textposition": "top center",
           "type": "scatter",
           "x": [
            1559625
           ],
           "y": [
            1056043
           ]
          }
         ],
         "name": "2009"
        },
        {
         "data": [
          {
           "hovertemplate": "<b>336--Transportation Equipment</b><br>Export: 190,887<br>Import: 241,172<br>Rank: 2<extra></extra>",
           "marker": {
            "size": 90
           },
           "mode": "markers",
           "name": "336--Transportation Equipment",
           "type": "scatter",
           "x": [
            241172
           ],
           "y": [
            190887
           ]
          },
          {
           "hovertemplate": "<b>325--Chemicals</b><br>Export: 179,502<br>Import: 176,331<br>Rank: 4<extra></extra>",
           "marker": {
            "size": 70
           },
           "mode": "markers",
           "name": "325--Chemicals",
           "type": "scatter",
           "x": [
            176331
           ],
           "y": [
            179502
           ]
          },
          {
           "hovertemplate": "<b>334--Computer & Electronic Products</b><br>Export: 190,435<br>Import: 325,050<br>Rank: 3<extra></extra>",
           "marker": {
            "size": 80
           },
           "mode": "markers",
           "name": "334--Computer & Electronic Products",
           "type": "scatter",
           "x": [
            325050
           ],
           "y": [
            190435
           ]
          },
          {
           "hovertemplate": "<b>333--Machinery, Except Electrical</b><br>Export: 137,800<br>Import: 105,558<br>Rank: 5<extra></extra>",
           "marker": {
            "size": 60
           },
           "mode": "markers",
           "name": "333--Machinery, Except Electrical",
           "type": "scatter",
           "x": [
            105558
           ],
           "y": [
            137800
           ]
          },
          {
           "hovertemplate": "<b>324--Petroleum & Coal Products</b><br>Export: 61,438<br>Import: 70,417<br>Rank: 6<extra></extra>",
           "marker": {
            "size": 50
           },
           "mode": "markers",
           "name": "324--Petroleum & Coal Products",
           "type": "scatter",
           "x": [
            70417
           ],
           "y": [
            61438
           ]
          },
          {
           "hovertemplate": "<b>339--Miscellaneous Manufactures</b><br>Export: 61,085<br>Import: 97,752<br>Rank: 7<extra></extra>",
           "marker": {
            "size": 40
           },
           "mode": "markers",
           "name": "339--Miscellaneous Manufactures",
           "type": "scatter",
           "x": [
            97752
           ],
           "y": [
            61085
           ]
          },
          {
           "hovertemplate": "<b>311--Processed Foods</b><br>Export: 51,889<br>Import: 41,108<br>Rank: 10<extra></extra>",
           "marker": {
            "size": 10
           },
           "mode": "markers",
           "name": "311--Processed Foods",
           "type": "scatter",
           "x": [
            41108
           ],
           "y": [
            51889
           ]
          },
          {
           "hovertemplate": "<b>111--Agricultural Products</b><br>Export: 60,246<br>Import: 23,998<br>Rank: 8<extra></extra>",
           "marker": {
            "size": 30
           },
           "mode": "markers",
           "name": "111--Agricultural Products",
           "type": "scatter",
           "x": [
            23998
           ],
           "y": [
            60246
           ]
          },
          {
           "hovertemplate": "<b>331--Primary Metal Manufactures</b><br>Export: 53,540<br>Import: 79,640<br>Rank: 9<extra></extra>",
           "marker": {
            "size": 20
           },
           "mode": "markers",
           "name": "331--Primary Metal Manufactures",
           "type": "scatter",
           "x": [
            79640
           ],
           "y": [
            53540
           ]
          },
          {
           "hovertemplate": "<b>All Merchandise</b><br>Export: 1,278,495<br>Import: 1,913,857<extra></extra>",
           "marker": {
            "color": "gray",
            "size": 14,
            "symbol": "diamond"
           },
           "mode": "markers+text",
           "name": "All Merchandise",
           "text": [
            "All Merchandise"
           ],
           "textposition": "top center",
           "type": "scatter",
           "x": [
            1913857
           ],
           "y": [
            1278495
           ]
          }
         ],
         "name": "2010"
        },
        {
         "data": [
          {
           "hovertemplate": "<b>336--Transportation Equipment</b><br>Export: 218,049<br>Import: 270,439<br>Rank: 2<extra></extra>",
           "marker": {
            "size": 90
           },
           "mode": "markers",
           "name": "336--Transportation Equipment",
           "type": "scatter",
           "x": [
            270439
           ],
           "y": [
            218049
           ]
          },
          {
           "hovertemplate": "<b>325--Chemicals</b><br>Export: 197,470<br>Import: 201,851<br>Rank: 4<extra></extra>",
           "marker": {
            "size": 70
           },
           "mode": "markers",
           "name": "325--Chemicals",
           "type": "scatter",
           "x": [
            201851
           ],
           "y": [
            197470
           ]
          },
          {
           "hovertemplate": "<b>334--Computer & Electronic Products</b><br>Export: 201,577<br>Import: 344,054<br>Rank: 3<extra></extra>",
           "marker": {
            "size": 80
           },
           "mode": "markers",
           "name": "334--Computer & Electronic Products",
           "type": "scatter",
           "x": [
            344054
           ],
           "y": [
            201577
           ]
          },
          {
           "hovertemplate": "<b>333--Machinery, Except Electrical</b><br>Export: 157,179<br>Import: 135,164<br>Rank: 5<extra></extra>",
           "marker": {
            "size": 60
           },
           "mode": "markers",
           "name": "333--Machinery, Except Electrical",
           "type": "scatter",
           "x": [
            135164
           ],
           "y": [
            157179
           ]
          },
          {
           "hovertemplate": "<b>324--Petroleum & Coal Products</b><br>Export: 101,933<br>Import: 95,845<br>Rank: 6<extra></extra>",
           "marker": {
            "size": 50
           },
           "mode": "markers",
           "name": "324--Petroleum & Coal Products",
           "type": "scatter",
           "x": [
            95845
           ],
           "y": [
            101933
           ]
          },
          {
           "hovertemplate": "<b>339--Miscellaneous Manufactures</b><br>Export: 69,816<br>Import: 104,439<br>Rank: 9<extra></extra>",
           "marker": {
            "size": 20
           },
           "mode": "markers",
           "name": "339--Miscellaneous Manufactures",
           "type": "scatter",
           "x": [
            104439
           ],
           "y": [
            69816
           ]
          },
          {
           "hovertemplate": "<b>311--Processed Foods</b><br>Export: 59,920<br>Import: 50,192<br>Rank: 10<extra></extra>",
           "marker": {
            "size": 10
           },
           "mode": "markers",
           "name": "311--Processed Foods",
           "type": "scatter",
           "x": [
            50192
           ],
           "y": [
            59920
           ]
          },
          {
           "hovertemplate": "<b>111--Agricultural Products</b><br>Export: 71,989<br>Import: 28,844<br>Rank: 8<extra></extra>",
           "marker": {
            "size": 30
           },
           "mode": "markers",
           "name": "111--Agricultural Products",
           "type": "scatter",
           "x": [
            28844
           ],
           "y": [
            71989
           ]
          },
          {
           "hovertemplate": "<b>331--Primary Metal Manufactures</b><br>Export: 76,420<br>Import: 103,491<br>Rank: 7<extra></extra>",
           "marker": {
            "size": 40
           },
           "mode": "markers",
           "name": "331--Primary Metal Manufactures",
           "type": "scatter",
           "x": [
            103491
           ],
           "y": [
            76420
           ]
          },
          {
           "hovertemplate": "<b>All Merchandise</b><br>Export: 1,482,508<br>Import: 2,207,954<extra></extra>",
           "marker": {
            "color": "gray",
            "size": 14,
            "symbol": "diamond"
           },
           "mode": "markers+text",
           "name": "All Merchandise",
           "text": [
            "All Merchandise"
           ],
           "textposition": "top center",
           "type": "scatter",
           "x": [
            2207954
           ],
           "y": [
            1482508
           ]
          }
         ],
         "name": "2011"
        },
        {
         "data": [
          {
           "hovertemplate": "<b>336--Transportation Equipment</b><br>Export: 241,337<br>Import: 318,036<br>Rank: 2<extra></extra>",
           "marker": {
            "size": 90
           },
           "mode": "markers",
           "name": "336--Transportation Equipment",
           "type": "scatter",
           "x": [
            318036
           ],
           "y": [
            241337
           ]
          },
          {
           "hovertemplate": "<b>325--Chemicals</b><br>Export: 197,529<br>Import: 197,900<br>Rank: 4<extra></extra>",
           "marker": {
            "size": 70
           },
           "mode": "markers",
           "name": "325--Chemicals",
           "type": "scatter",
           "x": [
            197900
           ],
           "y": [
            197529
           ]
          },
          {
           "hovertemplate": "<b>334--Computer & Electronic Products</b><br>Export: 203,164<br>Import: 347,794<br>Rank: 3<extra></extra>",
           "marker": {
            "size": 80
           },
           "mode": "markers",
           "name": "334--Computer & Electronic Products",
           "type": "scatter",
           "x": [
            347794
           ],
           "y": [
            203164
           ]
          },
          {
           "hovertemplate": "<b>333--Machinery, Except Electrical</b><br>Export: 159,548<br>Import: 151,253<br>Rank: 5<extra></extra>",
           "marker": {
            "size": 60
           },
           "mode": "markers",
           "name": "333--Machinery, Except Electrical",
           "type": "scatter",
           "x": [
            151253
           ],
           "y": [
            159548
           ]
          },
          {
           "hovertemplate": "<b>324--Petroleum & Coal Products</b><br>Export: 111,150<br>Import: 94,064<br>Rank: 6<extra></extra>",
           "marker": {
            "size": 50
           },
           "mode": "markers",
           "name": "324--Petroleum & Coal Products",
           "type": "scatter",
           "x": [
            94064
           ],
           "y": [
            111150
           ]
          },
          {
           "hovertemplate": "<b>339--Miscellaneous Manufactures</b><br>Export: 72,481<br>Import: 101,840<br>Rank: 8<extra></extra>",
           "marker": {
            "size": 30
           },
           "mode": "markers",
           "name": "339--Miscellaneous Manufactures",
           "type": "scatter",
           "x": [
            101840
           ],
           "y": [
            72481
           ]
          },
          {
           "hovertemplate": "<b>311--Processed Foods</b><br>Export: 64,927<br>Import: 54,347<br>Rank: 10<extra></extra>",
           "marker": {
            "size": 10
           },
           "mode": "markers",
           "name": "311--Processed Foods",
           "type": "scatter",
           "x": [
            54347
           ],
           "y": [
            64927
           ]
          },
          {
           "hovertemplate": "<b>111--Agricultural Products</b><br>Export: 71,078<br>Import: 29,331<br>Rank: 9<extra></extra>",
           "marker": {
            "size": 20
           },
           "mode": "markers",
           "name": "111--Agricultural Products",
           "type": "scatter",
           "x": [
            29331
           ],
           "y": [
            71078
           ]
          },
          {
           "hovertemplate": "<b>331--Primary Metal Manufactures</b><br>Export: 78,404<br>Import: 101,464<br>Rank: 7<extra></extra>",
           "marker": {
            "size": 40
           },
           "mode": "markers",
           "name": "331--Primary Metal Manufactures",
           "type": "scatter",
           "x": [
            101464
           ],
           "y": [
            78404
           ]
          },
          {
           "hovertemplate": "<b>All Merchandise</b><br>Export: 1,545,821<br>Import: 2,276,267<extra></extra>",
           "marker": {
            "color": "gray",
            "size": 14,
            "symbol": "diamond"
           },
           "mode": "markers+text",
           "name": "All Merchandise",
           "text": [
            "All Merchandise"
           ],
           "textposition": "top center",
           "type": "scatter",
           "x": [
            2276267
           ],
           "y": [
            1545821
           ]
          }
         ],
         "name": "2012"
        },
        {
         "data": [
          {
           "hovertemplate": "<b>336--Transportation Equipment</b><br>Export: 258,286<br>Import: 334,176<br>Rank: 2<extra></extra>",
           "marker": {
            "size": 90
           },
           "mode": "markers",
           "name": "336--Transportation Equipment",
           "type": "scatter",
           "x": [
            334176
           ],
           "y": [
            258286
           ]
          },
          {
           "hovertemplate": "<b>325--Chemicals</b><br>Export: 199,502<br>Import: 195,425<br>Rank: 4<extra></extra>",
           "marker": {
            "size": 70
           },
           "mode": "markers",
           "name": "325--Chemicals",
           "type": "scatter",
           "x": [
            195425
           ],
           "y": [
            199502
           ]
          },
          {
           "hovertemplate": "<b>334--Computer & Electronic Products</b><br>Export: 204,640<br>Import: 351,379<br>Rank: 3<extra></extra>",
           "marker": {
            "size": 80
           },
           "mode": "markers",
           "name": "334--Computer & Electronic Products",
           "type": "scatter",
           "x": [
            351379
           ],
           "y": [
            204640
           ]
          },
          {
           "hovertemplate": "<b>333--Machinery, Except Electrical</b><br>Export: 150,139<br>Import: 146,853<br>Rank: 5<extra></extra>",
           "marker": {
            "size": 60
           },
           "mode": "markers",
           "name": "333--Machinery, Except Electrical",
           "type": "scatter",
           "x": [
            146853
           ],
           "y": [
            150139
           ]
          },
          {
           "hovertemplate": "<b>324--Petroleum & Coal Products</b><br>Export: 119,521<br>Import: 91,081<br>Rank: 6<extra></extra>",
           "marker": {
            "size": 50
           },
           "mode": "markers",
           "name": "324--Petroleum & Coal Products",
           "type": "scatter",
           "x": [
            91081
           ],
           "y": [
            119521
           ]
          },
          {
           "hovertemplate": "<b>339--Miscellaneous Manufactures</b><br>Export: 77,852<br>Import: 107,770<br>Rank: 7<extra></extra>",
           "marker": {
            "size": 40
           },
           "mode": "markers",
           "name": "339--Miscellaneous Manufactures",
           "type": "scatter",
           "x": [
            107770
           ],
           "y": [
            77852
           ]
          },
          {
           "hovertemplate": "<b>311--Processed Foods</b><br>Export: 68,775<br>Import: 52,823<br>Rank: 10<extra></extra>",
           "marker": {
            "size": 10
           },
           "mode": "markers",
           "name": "311--Processed Foods",
           "type": "scatter",
           "x": [
            52823
           ],
           "y": [
            68775
           ]
          },
          {
           "hovertemplate": "<b>111--Agricultural Products</b><br>Export: 68,935<br>Import: 31,769<br>Rank: 9<extra></extra>",
           "marker": {
            "size": 20
           },
           "mode": "markers",
           "name": "111--Agricultural Products",
           "type": "scatter",
           "x": [
            31769
           ],
           "y": [
            68935
           ]
          },
          {
           "hovertemplate": "<b>331--Primary Metal Manufactures</b><br>Export: 73,407<br>Import: 92,283<br>Rank: 8<extra></extra>",
           "marker": {
            "size": 30
           },
           "mode": "markers",
           "name": "331--Primary Metal Manufactures",
           "type": "scatter",
           "x": [
            92283
           ],
           "y": [
            73407
           ]
          },
          {
           "hovertemplate": "<b>All Merchandise</b><br>Export: 1,578,517<br>Import: 2,267,987<extra></extra>",
           "marker": {
            "color": "gray",
            "size": 14,
            "symbol": "diamond"
           },
           "mode": "markers+text",
           "name": "All Merchandise",
           "text": [
            "All Merchandise"
           ],
           "textposition": "top center",
           "type": "scatter",
           "x": [
            2267987
           ],
           "y": [
            1578517
           ]
          }
         ],
         "name": "2013"
        },
        {
         "data": [
          {
           "hovertemplate": "<b>336--Transportation Equipment</b><br>Export: 273,784<br>Import: 356,731<br>Rank: 2<extra></extra>",
           "marker": {
            "size": 90
           },
           "mode": "markers",
           "name": "336--Transportation Equipment",
           "type": "scatter",
           "x": [
            356731
           ],
           "y": [
            273784
           ]
          },
          {
           "hovertemplate": "<b>325--Chemicals</b><br>Export: 200,407<br>Import: 205,732<br>Rank: 4<extra></extra>",
           "marker": {
            "size": 70
           },
           "mode": "markers",
           "name": "325--Chemicals",
           "type": "scatter",
           "x": [
            205732
           ],
           "y": [
            200407
           ]
          },
          {
           "hovertemplate": "<b>334--Computer & Electronic Products</b><br>Export: 209,123<br>Import: 366,603<br>Rank: 3<extra></extra>",
           "marker": {
            "size": 80
           },
           "mode": "markers",
           "name": "334--Computer & Electronic Products",
           "type": "scatter",
           "x": [
            366603
           ],
           "y": [
            209123
           ]
          },
          {
           "hovertemplate": "<b>333--Machinery, Except Electrical</b><br>Export: 152,587<br>Import: 161,242<br>Rank: 5<extra></extra>",
           "marker": {
            "size": 60
           },
           "mode": "markers",
           "name": "333--Machinery, Except Electrical",
           "type": "scatter",
           "x": [
            161242
           ],
           "y": [
            152587
           ]
          },
          {
           "hovertemplate": "<b>324--Petroleum & Coal Products</b><br>Export: 117,956<br>Import: 81,983<br>Rank: 6<extra></extra>",
           "marker": {
            "size": 50
           },
           "mode": "markers",
           "name": "324--Petroleum & Coal Products",
           "type": "scatter",
           "x": [
            81983
           ],
           "y": [
            117956
           ]
          },
          {
           "hovertemplate": "<b>339--Miscellaneous Manufactures</b><br>Export: 81,912<br>Import: 111,635<br>Rank: 7<extra></extra>",
           "marker": {
            "size": 40
           },
           "mode": "markers",
           "name": "339--Miscellaneous Manufactures",
           "type": "scatter",
           "x": [
            111635
           ],
           "y": [
            81912
           ]
          },
          {
           "hovertemplate": "<b>311--Processed Foods</b><br>Export: 70,684<br>Import: 57,193<br>Rank: 9<extra></extra>",
           "marker": {
            "size": 20
           },
           "mode": "markers",
           "name": "311--Processed Foods",
           "type": "scatter",
           "x": [
            57193
           ],
           "y": [
            70684
           ]
          },
          {
           "hovertemplate": "<b>111--Agricultural Products</b><br>Export: 72,929<br>Import: 33,629<br>Rank: 8<extra></extra>",
           "marker": {
            "size": 30
           },
           "mode": "markers",
           "name": "111--Agricultural Products",
           "type": "scatter",
           "x": [
            33629
           ],
           "y": [
            72929
           ]
          },
          {
           "hovertemplate": "<b>331--Primary Metal Manufactures</b><br>Export: 64,073<br>Import: 101,223<br>Rank: 10<extra></extra>",
           "marker": {
            "size": 10
           },
           "mode": "markers",
           "name": "331--Primary Metal Manufactures",
           "type": "scatter",
           "x": [
            101223
           ],
           "y": [
            64073
           ]
          },
          {
           "hovertemplate": "<b>All Merchandise</b><br>Export: 1,621,874<br>Import: 2,356,356<extra></extra>",
           "marker": {
            "color": "gray",
            "size": 14,
            "symbol": "diamond"
           },
           "mode": "markers+text",
           "name": "All Merchandise",
           "text": [
            "All Merchandise"
           ],
           "textposition": "top center",
           "type": "scatter",
           "x": [
            2356356
           ],
           "y": [
            1621874
           ]
          }
         ],
         "name": "2014"
        },
        {
         "data": [
          {
           "hovertemplate": "<b>336--Transportation Equipment</b><br>Export: 275,643<br>Import: 379,265<br>Rank: 2<extra></extra>",
           "marker": {
            "size": 90
           },
           "mode": "markers",
           "name": "336--Transportation Equipment",
           "type": "scatter",
           "x": [
            379265
           ],
           "y": [
            275643
           ]
          },
          {
           "hovertemplate": "<b>325--Chemicals</b><br>Export: 193,834<br>Import: 213,842<br>Rank: 4<extra></extra>",
           "marker": {
            "size": 70
           },
           "mode": "markers",
           "name": "325--Chemicals",
           "type": "scatter",
           "x": [
            213842
           ],
           "y": [
            193834
           ]
          },
          {
           "hovertemplate": "<b>334--Computer & Electronic Products</b><br>Export: 204,697<br>Import: 376,038<br>Rank: 3<extra></extra>",
           "marker": {
            "size": 80
           },
           "mode": "markers",
           "name": "334--Computer & Electronic Products",
           "type": "scatter",
           "x": [
            376038
           ],
           "y": [
            204697
           ]
          },
          {
           "hovertemplate": "<b>333--Machinery, Except Electrical</b><br>Export: 139,101<br>Import: 158,568<br>Rank: 5<extra></extra>",
           "marker": {
            "size": 60
           },
           "mode": "markers",
           "name": "333--Machinery, Except Electrical",
           "type": "scatter",
           "x": [
            158568
           ],
           "y": [
            139101
           ]
          },
          {
           "hovertemplate": "<b>324--Petroleum & Coal Products</b><br>Export: 78,610<br>Import: 52,770<br>Rank: 6<extra></extra>",
           "marker": {
            "size": 50
           },
           "mode": "markers",
           "name": "324--Petroleum & Coal Products",
           "type": "scatter",
           "x": [
            52770
           ],
           "y": [
            78610
           ]
          },
          {
           "hovertemplate": "<b>339--Miscellaneous Manufactures</b><br>Export: 78,249<br>Import: 115,527<br>Rank: 7<extra></extra>",
           "marker": {
            "size": 40
           },
           "mode": "markers",
           "name": "339--Miscellaneous Manufactures",
           "type": "scatter",
           "x": [
            115527
           ],
           "y": [
            78249
           ]
          },
          {
           "hovertemplate": "<b>311--Processed Foods</b><br>Export: 63,205<br>Import: 58,505<br>Rank: 8<extra></extra>",
           "marker": {
            "size": 30
           },
           "mode": "markers",
           "name": "311--Processed Foods",
           "type": "scatter",
           "x": [
            58505
           ],
           "y": [
            63205
           ]
          },
          {
           "hovertemplate": "<b>111--Agricultural Products</b><br>Export: 62,912<br>Import: 33,423<br>Rank: 9<extra></extra>",
           "marker": {
            "size": 20
           },
           "mode": "markers",
           "name": "111--Agricultural Products",
           "type": "scatter",
           "x": [
            33423
           ],
           "y": [
            62912
           ]
          },
          {
           "hovertemplate": "<b>335--Electrical Equipment, Appliances & Components</b><br>Export: 60,404<br>Import: 104,250<br>Rank: 10<extra></extra>",
           "marker": {
            "size": 10
           },
           "mode": "markers",
           "name": "335--Electrical Equipment, Appliances & Components",
           "type": "scatter",
           "x": [
            104250
           ],
           "y": [
            60404
           ]
          },
          {
           "hovertemplate": "<b>All Merchandise</b><br>Export: 1,503,328<br>Import: 2,248,811<extra></extra>",
           "marker": {
            "color": "gray",
            "size": 14,
            "symbol": "diamond"
           },
           "mode": "markers+text",
           "name": "All Merchandise",
           "text": [
            "All Merchandise"
           ],
           "textposition": "top center",
           "type": "scatter",
           "x": [
            2248811
           ],
           "y": [
            1503328
           ]
          }
         ],
         "name": "2015"
        },
        {
         "data": [
          {
           "hovertemplate": "<b>336--Transportation Equipment</b><br>Export: 276,796<br>Import: 374,773<br>Rank: 2<extra></extra>",
           "marker": {
            "size": 90
           },
           "mode": "markers",
           "name": "336--Transportation Equipment",
           "type": "scatter",
           "x": [
            374773
           ],
           "y": [
            276796
           ]
          },
          {
           "hovertemplate": "<b>325--Chemicals</b><br>Export: 184,376<br>Import: 214,695<br>Rank: 4<extra></extra>",
           "marker": {
            "size": 70
           },
           "mode": "markers",
           "name": "325--Chemicals",
           "type": "scatter",
           "x": [
            214695
           ],
           "y": [
            184376
           ]
          },
          {
           "hovertemplate": "<b>334--Computer & Electronic Products</b><br>Export: 201,759<br>Import: 372,664<br>Rank: 3<extra></extra>",
           "marker": {
            "size": 80
           },
           "mode": "markers",
           "name": "334--Computer & Electronic Products",
           "type": "scatter",
           "x": [
            372664
           ],
           "y": [
            201759
           ]
          },
          {
           "hovertemplate": "<b>333--Machinery, Except Electrical</b><br>Export: 124,946<br>Import: 151,622<br>Rank: 5<extra></extra>",
           "marker": {
            "size": 60
           },
           "mode": "markers",
           "name": "333--Machinery, Except Electrical",
           "type": "scatter",
           "x": [
            151622
           ],
           "y": [
            124946
           ]
          },
          {
           "hovertemplate": "<b>324--Petroleum & Coal Products</b><br>Export: 66,925<br>Import: 42,098<br>Rank: 8<extra></extra>",
           "marker": {
            "size": 30
           },
           "mode": "markers",
           "name": "324--Petroleum & Coal Products",
           "type": "scatter",
           "x": [
            42098
           ],
           "y": [
            66925
           ]
          },
          {
           "hovertemplate": "<b>339--Miscellaneous Manufactures</b><br>Export: 78,419<br>Import: 118,343<br>Rank: 6<extra></extra>",
           "marker": {
            "size": 50
           },
           "mode": "markers",
           "name": "339--Miscellaneous Manufactures",
           "type": "scatter",
           "x": [
            118343
           ],
           "y": [
            78419
           ]
          },
          {
           "hovertemplate": "<b>311--Processed Foods</b><br>Export: 61,507<br>Import: 57,933<br>Rank: 9<extra></extra>",
           "marker": {
            "size": 20
           },
           "mode": "markers",
           "name": "311--Processed Foods",
           "type": "scatter",
           "x": [
            57933
           ],
           "y": [
            61507
           ]
          },
          {
           "hovertemplate": "<b>111--Agricultural Products</b><br>Export: 67,578<br>Import: 35,000<br>Rank: 7<extra></extra>",
           "marker": {
            "size": 40
           },
           "mode": "markers",
           "name": "111--Agricultural Products",
           "type": "scatter",
           "x": [
            35000
           ],
           "y": [
            67578
           ]
          },
          {
           "hovertemplate": "<b>335--Electrical Equipment, Appliances & Components</b><br>Export: 57,093<br>Import: 104,133<br>Rank: 10<extra></extra>",
           "marker": {
            "size": 10
           },
           "mode": "markers",
           "name": "335--Electrical Equipment, Appliances & Components",
           "type": "scatter",
           "x": [
            104133
           ],
           "y": [
            57093
           ]
          },
          {
           "hovertemplate": "<b>All Merchandise</b><br>Export: 1,451,460<br>Import: 2,186,786<extra></extra>",
           "marker": {
            "color": "gray",
            "size": 14,
            "symbol": "diamond"
           },
           "mode": "markers+text",
           "name": "All Merchandise",
           "text": [
            "All Merchandise"
           ],
           "textposition": "top center",
           "type": "scatter",
           "x": [
            2186786
           ],
           "y": [
            1451460
           ]
          }
         ],
         "name": "2016"
        },
        {
         "data": [
          {
           "hovertemplate": "<b>336--Transportation Equipment</b><br>Export: 278,492<br>Import: 384,971<br>Rank: 2<extra></extra>",
           "marker": {
            "size": 90
           },
           "mode": "markers",
           "name": "336--Transportation Equipment",
           "type": "scatter",
           "x": [
            384971
           ],
           "y": [
            278492
           ]
          },
          {
           "hovertemplate": "<b>325--Chemicals</b><br>Export: 192,785<br>Import: 217,956<br>Rank: 4<extra></extra>",
           "marker": {
            "size": 70
           },
           "mode": "markers",
           "name": "325--Chemicals",
           "type": "scatter",
           "x": [
            217956
           ],
           "y": [
            192785
           ]
          },
          {
           "hovertemplate": "<b>334--Computer & Electronic Products</b><br>Export: 208,234<br>Import: 400,123<br>Rank: 3<extra></extra>",
           "marker": {
            "size": 80
           },
           "mode": "markers",
           "name": "334--Computer & Electronic Products",
           "type": "scatter",
           "x": [
            400123
           ],
           "y": [
            208234
           ]
          },
          {
           "hovertemplate": "<b>333--Machinery, Except Electrical</b><br>Export: 133,991<br>Import: 169,009<br>Rank: 5<extra></extra>",
           "marker": {
            "size": 60
           },
           "mode": "markers",
           "name": "333--Machinery, Except Electrical",
           "type": "scatter",
           "x": [
            169009
           ],
           "y": [
            133991
           ]
          },
          {
           "hovertemplate": "<b>324--Petroleum & Coal Products</b><br>Export: 84,170<br>Import: 49,592<br>Rank: 6<extra></extra>",
           "marker": {
            "size": 50
           },
           "mode": "markers",
           "name": "324--Petroleum & Coal Products",
           "type": "scatter",
           "x": [
            49592
           ],
           "y": [
            84170
           ]
          },
          {
           "hovertemplate": "<b>339--Miscellaneous Manufactures</b><br>Export: 80,383<br>Import: 121,248<br>Rank: 7<extra></extra>",
           "marker": {
            "size": 40
           },
           "mode": "markers",
           "name": "339--Miscellaneous Manufactures",
           "type": "scatter",
           "x": [
            121248
           ],
           "y": [
            80383
           ]
          },
          {
           "hovertemplate": "<b>311--Processed Foods</b><br>Export: 64,060<br>Import: 60,866<br>Rank: 9<extra></extra>",
           "marker": {
            "size": 20
           },
           "mode": "markers",
           "name": "311--Processed Foods",
           "type": "scatter",
           "x": [
            60866
           ],
           "y": [
            64060
           ]
          },
          {
           "hovertemplate": "<b>111--Agricultural Products</b><br>Export: 68,726<br>Import: 37,102<br>Rank: 8<extra></extra>",
           "marker": {
            "size": 30
           },
           "mode": "markers",
           "name": "111--Agricultural Products",
           "type": "scatter",
           "x": [
            37102
           ],
           "y": [
            68726
           ]
          },
          {
           "hovertemplate": "<b>335--Electrical Equipment, Appliances & Components</b><br>Export: 59,606<br>Import: 113,662<br>Rank: 10<extra></extra>",
           "marker": {
            "size": 10
           },
           "mode": "markers",
           "name": "335--Electrical Equipment, Appliances & Components",
           "type": "scatter",
           "x": [
            113662
           ],
           "y": [
            59606
           ]
          },
          {
           "hovertemplate": "<b>All Merchandise</b><br>Export: 1,547,195<br>Import: 2,339,591<extra></extra>",
           "marker": {
            "color": "gray",
            "size": 14,
            "symbol": "diamond"
           },
           "mode": "markers+text",
           "name": "All Merchandise",
           "text": [
            "All Merchandise"
           ],
           "textposition": "top center",
           "type": "scatter",
           "x": [
            2339591
           ],
           "y": [
            1547195
           ]
          }
         ],
         "name": "2017"
        },
        {
         "data": [
          {
           "hovertemplate": "<b>336--Transportation Equipment</b><br>Export: 286,546<br>Import: 401,717<br>Rank: 2<extra></extra>",
           "marker": {
            "size": 90
           },
           "mode": "markers",
           "name": "336--Transportation Equipment",
           "type": "scatter",
           "x": [
            401717
           ],
           "y": [
            286546
           ]
          },
          {
           "hovertemplate": "<b>325--Chemicals</b><br>Export: 207,409<br>Import: 252,619<br>Rank: 4<extra></extra>",
           "marker": {
            "size": 70
           },
           "mode": "markers",
           "name": "325--Chemicals",
           "type": "scatter",
           "x": [
            252619
           ],
           "y": [
            207409
           ]
          },
          {
           "hovertemplate": "<b>334--Computer & Electronic Products</b><br>Export: 213,593<br>Import: 413,017<br>Rank: 3<extra></extra>",
           "marker": {
            "size": 80
           },
           "mode": "markers",
           "name": "334--Computer & Electronic Products",
           "type": "scatter",
           "x": [
            413017
           ],
           "y": [
            213593
           ]
          },
          {
           "hovertemplate": "<b>211--Oil & Gas</b><br>Export: 76,479<br>Import: 166,768<br>Rank: 8<extra></extra>",
           "marker": {
            "size": 30
           },
           "mode": "markers",
           "name": "211--Oil & Gas",
           "type": "scatter",
           "x": [
            166768
           ],
           "y": [
            76479
           ]
          },
          {
           "hovertemplate": "<b>333--Machinery, Except Electrical</b><br>Export: 142,736<br>Import: 187,950<br>Rank: 5<extra></extra>",
           "marker": {
            "size": 60
           },
           "mode": "markers",
           "name": "333--Machinery, Except Electrical",
           "type": "scatter",
           "x": [
            187950
           ],
           "y": [
            142736
           ]
          },
          {
           "hovertemplate": "<b>324--Petroleum & Coal Products</b><br>Export: 103,915<br>Import: 63,742<br>Rank: 6<extra></extra>",
           "marker": {
            "size": 50
           },
           "mode": "markers",
           "name": "324--Petroleum & Coal Products",
           "type": "scatter",
           "x": [
            63742
           ],
           "y": [
            103915
           ]
          },
          {
           "hovertemplate": "<b>339--Miscellaneous Manufactures</b><br>Export: 83,884<br>Import: 128,574<br>Rank: 7<extra></extra>",
           "marker": {
            "size": 40
           },
           "mode": "markers",
           "name": "339--Miscellaneous Manufactures",
           "type": "scatter",
           "x": [
            128574
           ],
           "y": [
            83884
           ]
          },
          {
           "hovertemplate": "<b>311--Processed Foods</b><br>Export: 66,390<br>Import: 67,302<br>Rank: 10<extra></extra>",
           "marker": {
            "size": 10
           },
           "mode": "markers",
           "name": "311--Processed Foods",
           "type": "scatter",
           "x": [
            67302
           ],
           "y": [
            66390
           ]
          },
          {
           "hovertemplate": "<b>111--Agricultural Products</b><br>Export: 67,116<br>Import: 37,849<br>Rank: 9<extra></extra>",
           "marker": {
            "size": 20
           },
           "mode": "markers",
           "name": "111--Agricultural Products",
           "type": "scatter",
           "x": [
            37849
           ],
           "y": [
            67116
           ]
          },
          {
           "hovertemplate": "<b>All Merchandise</b><br>Export: 1,665,787<br>Import: 2,536,145<extra></extra>",
           "marker": {
            "color": "gray",
            "size": 14,
            "symbol": "diamond"
           },
           "mode": "markers+text",
           "name": "All Merchandise",
           "text": [
            "All Merchandise"
           ],
           "textposition": "top center",
           "type": "scatter",
           "x": [
            2536145
           ],
           "y": [
            1665787
           ]
          }
         ],
         "name": "2018"
        },
        {
         "data": [
          {
           "hovertemplate": "<b>336--Transportation Equipment</b><br>Export: 287,261<br>Import: 411,452<br>Rank: 2<extra></extra>",
           "marker": {
            "size": 90
           },
           "mode": "markers",
           "name": "336--Transportation Equipment",
           "type": "scatter",
           "x": [
            411452
           ],
           "y": [
            287261
           ]
          },
          {
           "hovertemplate": "<b>325--Chemicals</b><br>Export: 208,793<br>Import: 261,550<br>Rank: 4<extra></extra>",
           "marker": {
            "size": 70
           },
           "mode": "markers",
           "name": "325--Chemicals",
           "type": "scatter",
           "x": [
            261550
           ],
           "y": [
            208793
           ]
          },
          {
           "hovertemplate": "<b>334--Computer & Electronic Products</b><br>Export: 211,454<br>Import: 388,491<br>Rank: 3<extra></extra>",
           "marker": {
            "size": 80
           },
           "mode": "markers",
           "name": "334--Computer & Electronic Products",
           "type": "scatter",
           "x": [
            388491
           ],
           "y": [
            211454
           ]
          },
          {
           "hovertemplate": "<b>211--Oil & Gas</b><br>Export: 95,318<br>Import: 135,436<br>Rank: 6<extra></extra>",
           "marker": {
            "size": 50
           },
           "mode": "markers",
           "name": "211--Oil & Gas",
           "type": "scatter",
           "x": [
            135436
           ],
           "y": [
            95318
           ]
          },
          {
           "hovertemplate": "<b>333--Machinery, Except Electrical</b><br>Export: 136,889<br>Import: 189,169<br>Rank: 5<extra></extra>",
           "marker": {
            "size": 60
           },
           "mode": "markers",
           "name": "333--Machinery, Except Electrical",
           "type": "scatter",
           "x": [
            189169
           ],
           "y": [
            136889
           ]
          },
          {
           "hovertemplate": "<b>324--Petroleum & Coal Products</b><br>Export: 93,882<br>Import: 63,294<br>Rank: 7<extra></extra>",
           "marker": {
            "size": 40
           },
           "mode": "markers",
           "name": "324--Petroleum & Coal Products",
           "type": "scatter",
           "x": [
            63294
           ],
           "y": [
            93882
           ]
          },
          {
           "hovertemplate": "<b>339--Miscellaneous Manufactures</b><br>Export: 82,220<br>Import: 127,172<br>Rank: 8<extra></extra>",
           "marker": {
            "size": 30
           },
           "mode": "markers",
           "name": "339--Miscellaneous Manufactures",
           "type": "scatter",
           "x": [
            127172
           ],
           "y": [
            82220
           ]
          },
          {
           "hovertemplate": "<b>311--Processed Foods</b><br>Export: 66,430<br>Import: 68,644<br>Rank: 9<extra></extra>",
           "marker": {
            "size": 20
           },
           "mode": "markers",
           "name": "311--Processed Foods",
           "type": "scatter",
           "x": [
            68644
           ],
           "y": [
            66430
           ]
          },
          {
           "hovertemplate": "<b>111--Agricultural Products</b><br>Export: 64,409<br>Import: 38,493<br>Rank: 10<extra></extra>",
           "marker": {
            "size": 10
           },
           "mode": "markers",
           "name": "111--Agricultural Products",
           "type": "scatter",
           "x": [
            38493
           ],
           "y": [
            64409
           ]
          },
          {
           "hovertemplate": "<b>All Merchandise</b><br>Export: 1,645,940<br>Import: 2,491,700<extra></extra>",
           "marker": {
            "color": "gray",
            "size": 14,
            "symbol": "diamond"
           },
           "mode": "markers+text",
           "name": "All Merchandise",
           "text": [
            "All Merchandise"
           ],
           "textposition": "top center",
           "type": "scatter",
           "x": [
            2491700
           ],
           "y": [
            1645940
           ]
          }
         ],
         "name": "2019"
        },
        {
         "data": [
          {
           "hovertemplate": "<b>336--Transportation Equipment</b><br>Export: 200,612<br>Import: 332,211<br>Rank: 2<extra></extra>",
           "marker": {
            "size": 90
           },
           "mode": "markers",
           "name": "336--Transportation Equipment",
           "type": "scatter",
           "x": [
            332211
           ],
           "y": [
            200612
           ]
          },
          {
           "hovertemplate": "<b>325--Chemicals</b><br>Export: 197,825<br>Import: 271,204<br>Rank: 4<extra></extra>",
           "marker": {
            "size": 70
           },
           "mode": "markers",
           "name": "325--Chemicals",
           "type": "scatter",
           "x": [
            271204
           ],
           "y": [
            197825
           ]
          },
          {
           "hovertemplate": "<b>334--Computer & Electronic Products</b><br>Export: 199,634<br>Import: 392,197<br>Rank: 3<extra></extra>",
           "marker": {
            "size": 80
           },
           "mode": "markers",
           "name": "334--Computer & Electronic Products",
           "type": "scatter",
           "x": [
            392197
           ],
           "y": [
            199634
           ]
          },
          {
           "hovertemplate": "<b>211--Oil & Gas</b><br>Export: 83,088<br>Import: 83,114<br>Rank: 6<extra></extra>",
           "marker": {
            "size": 50
           },
           "mode": "markers",
           "name": "211--Oil & Gas",
           "type": "scatter",
           "x": [
            83114
           ],
           "y": [
            83088
           ]
          },
          {
           "hovertemplate": "<b>333--Machinery, Except Electrical</b><br>Export: 123,297<br>Import: 170,299<br>Rank: 5<extra></extra>",
           "marker": {
            "size": 60
           },
           "mode": "markers",
           "name": "333--Machinery, Except Electrical",
           "type": "scatter",
           "x": [
            170299
           ],
           "y": [
            123297
           ]
          },
          {
           "hovertemplate": "<b>324--Petroleum & Coal Products</b><br>Export: 62,230<br>Import: 37,179<br>Rank: 10<extra></extra>",
           "marker": {
            "size": 10
           },
           "mode": "markers",
           "name": "324--Petroleum & Coal Products",
           "type": "scatter",
           "x": [
            37179
           ],
           "y": [
            62230
           ]
          },
          {
           "hovertemplate": "<b>339--Miscellaneous Manufactures</b><br>Export: 64,726<br>Import: 119,036<br>Rank: 9<extra></extra>",
           "marker": {
            "size": 20
           },
           "mode": "markers",
           "name": "339--Miscellaneous Manufactures",
           "type": "scatter",
           "x": [
            119036
           ],
           "y": [
            64726
           ]
          },
          {
           "hovertemplate": "<b>311--Processed Foods</b><br>Export: 67,043<br>Import: 72,869<br>Rank: 8<extra></extra>",
           "marker": {
            "size": 30
           },
           "mode": "markers",
           "name": "311--Processed Foods",
           "type": "scatter",
           "x": [
            72869
           ],
           "y": [
            67043
           ]
          },
          {
           "hovertemplate": "<b>111--Agricultural Products</b><br>Export: 72,733<br>Import: 39,122<br>Rank: 7<extra></extra>",
           "marker": {
            "size": 40
           },
           "mode": "markers",
           "name": "111--Agricultural Products",
           "type": "scatter",
           "x": [
            39122
           ],
           "y": [
            72733
           ]
          },
          {
           "hovertemplate": "<b>All Merchandise</b><br>Export: 1,429,995<br>Import: 2,331,477<extra></extra>",
           "marker": {
            "color": "gray",
            "size": 14,
            "symbol": "diamond"
           },
           "mode": "markers+text",
           "name": "All Merchandise",
           "text": [
            "All Merchandise"
           ],
           "textposition": "top center",
           "type": "scatter",
           "x": [
            2331477
           ],
           "y": [
            1429995
           ]
          }
         ],
         "name": "2020"
        },
        {
         "data": [
          {
           "hovertemplate": "<b>336--Transportation Equipment</b><br>Export: 223,760<br>Import: 361,920<br>Rank: 3<extra></extra>",
           "marker": {
            "size": 80
           },
           "mode": "markers",
           "name": "336--Transportation Equipment",
           "type": "scatter",
           "x": [
            361920
           ],
           "y": [
            223760
           ]
          },
          {
           "hovertemplate": "<b>325--Chemicals</b><br>Export: 253,990<br>Import: 313,665<br>Rank: 2<extra></extra>",
           "marker": {
            "size": 90
           },
           "mode": "markers",
           "name": "325--Chemicals",
           "type": "scatter",
           "x": [
            313665
           ],
           "y": [
            253990
           ]
          },
          {
           "hovertemplate": "<b>334--Computer & Electronic Products</b><br>Export: 223,140<br>Import: 464,470<br>Rank: 4<extra></extra>",
           "marker": {
            "size": 70
           },
           "mode": "markers",
           "name": "334--Computer & Electronic Products",
           "type": "scatter",
           "x": [
            464470
           ],
           "y": [
            223140
           ]
          },
          {
           "hovertemplate": "<b>211--Oil & Gas</b><br>Export: 137,446<br>Import: 146,048<br>Rank: 6<extra></extra>",
           "marker": {
            "size": 50
           },
           "mode": "markers",
           "name": "211--Oil & Gas",
           "type": "scatter",
           "x": [
            146048
           ],
           "y": [
            137446
           ]
          },
          {
           "hovertemplate": "<b>333--Machinery, Except Electrical</b><br>Export: 146,309<br>Import: 207,456<br>Rank: 5<extra></extra>",
           "marker": {
            "size": 60
           },
           "mode": "markers",
           "name": "333--Machinery, Except Electrical",
           "type": "scatter",
           "x": [
            207456
           ],
           "y": [
            146309
           ]
          },
          {
           "hovertemplate": "<b>324--Petroleum & Coal Products</b><br>Export: 93,022<br>Import: 66,439<br>Rank: 7<extra></extra>",
           "marker": {
            "size": 40
           },
           "mode": "markers",
           "name": "324--Petroleum & Coal Products",
           "type": "scatter",
           "x": [
            66439
           ],
           "y": [
            93022
           ]
          },
          {
           "hovertemplate": "<b>339--Miscellaneous Manufactures</b><br>Export: 78,323<br>Import: 167,031<br>Rank: 9<extra></extra>",
           "marker": {
            "size": 20
           },
           "mode": "markers",
           "name": "339--Miscellaneous Manufactures",
           "type": "scatter",
           "x": [
            167031
           ],
           "y": [
            78323
           ]
          },
          {
           "hovertemplate": "<b>311--Processed Foods</b><br>Export: 77,873<br>Import: 86,878<br>Rank: 10<extra></extra>",
           "marker": {
            "size": 10
           },
           "mode": "markers",
           "name": "311--Processed Foods",
           "type": "scatter",
           "x": [
            86878
           ],
           "y": [
            77873
           ]
          },
          {
           "hovertemplate": "<b>111--Agricultural Products</b><br>Export: 86,611<br>Import: 44,175<br>Rank: 8<extra></extra>",
           "marker": {
            "size": 30
           },
           "mode": "markers",
           "name": "111--Agricultural Products",
           "type": "scatter",
           "x": [
            44175
           ],
           "y": [
            86611
           ]
          },
          {
           "hovertemplate": "<b>All Merchandise</b><br>Export: 1,757,744<br>Import: 2,828,515<extra></extra>",
           "marker": {
            "color": "gray",
            "size": 14,
            "symbol": "diamond"
           },
           "mode": "markers+text",
           "name": "All Merchandise",
           "text": [
            "All Merchandise"
           ],
           "textposition": "top center",
           "type": "scatter",
           "x": [
            2828515
           ],
           "y": [
            1757744
           ]
          }
         ],
         "name": "2021"
        },
        {
         "data": [
          {
           "hovertemplate": "<b>336--Transportation Equipment</b><br>Export: 256,080<br>Import: 411,035<br>Rank: 3<extra></extra>",
           "marker": {
            "size": 80
           },
           "mode": "markers",
           "name": "336--Transportation Equipment",
           "type": "scatter",
           "x": [
            411035
           ],
           "y": [
            256080
           ]
          },
          {
           "hovertemplate": "<b>325--Chemicals</b><br>Export: 285,705<br>Import: 362,620<br>Rank: 2<extra></extra>",
           "marker": {
            "size": 90
           },
           "mode": "markers",
           "name": "325--Chemicals",
           "type": "scatter",
           "x": [
            362620
           ],
           "y": [
            285705
           ]
          },
          {
           "hovertemplate": "<b>334--Computer & Electronic Products</b><br>Export: 234,546<br>Import: 516,843<br>Rank: 4<extra></extra>",
           "marker": {
            "size": 70
           },
           "mode": "markers",
           "name": "334--Computer & Electronic Products",
           "type": "scatter",
           "x": [
            516843
           ],
           "y": [
            234546
           ]
          },
          {
           "hovertemplate": "<b>211--Oil & Gas</b><br>Export: 213,442<br>Import: 219,169<br>Rank: 5<extra></extra>",
           "marker": {
            "size": 60
           },
           "mode": "markers",
           "name": "211--Oil & Gas",
           "type": "scatter",
           "x": [
            219169
           ],
           "y": [
            213442
           ]
          },
          {
           "hovertemplate": "<b>333--Machinery, Except Electrical</b><br>Export: 163,822<br>Import: 234,489<br>Rank: 6<extra></extra>",
           "marker": {
            "size": 50
           },
           "mode": "markers",
           "name": "333--Machinery, Except Electrical",
           "type": "scatter",
           "x": [
            234489
           ],
           "y": [
            163822
           ]
          },
          {
           "hovertemplate": "<b>324--Petroleum & Coal Products</b><br>Export: 151,936<br>Import: 86,667<br>Rank: 7<extra></extra>",
           "marker": {
            "size": 40
           },
           "mode": "markers",
           "name": "324--Petroleum & Coal Products",
           "type": "scatter",
           "x": [
            86667
           ],
           "y": [
            151936
           ]
          },
          {
           "hovertemplate": "<b>339--Miscellaneous Manufactures</b><br>Export: 87,792<br>Import: 174,399<br>Rank: 10<extra></extra>",
           "marker": {
            "size": 10
           },
           "mode": "markers",
           "name": "339--Miscellaneous Manufactures",
           "type": "scatter",
           "x": [
            174399
           ],
           "y": [
            87792
           ]
          },
          {
           "hovertemplate": "<b>111--Agricultural Products</b><br>Export: 97,939<br>Import: 49,567<br>Rank: 8<extra></extra>",
           "marker": {
            "size": 30
           },
           "mode": "markers",
           "name": "111--Agricultural Products",
           "type": "scatter",
           "x": [
            49567
           ],
           "y": [
            97939
           ]
          },
          {
           "hovertemplate": "<b>331--Primary Metal Manufactures</b><br>Export: 88,820<br>Import: 153,387<br>Rank: 9<extra></extra>",
           "marker": {
            "size": 20
           },
           "mode": "markers",
           "name": "331--Primary Metal Manufactures",
           "type": "scatter",
           "x": [
            153387
           ],
           "y": [
            88820
           ]
          },
          {
           "hovertemplate": "<b>All Merchandise</b><br>Export: 2,066,454<br>Import: 3,239,873<extra></extra>",
           "marker": {
            "color": "gray",
            "size": 14,
            "symbol": "diamond"
           },
           "mode": "markers+text",
           "name": "All Merchandise",
           "text": [
            "All Merchandise"
           ],
           "textposition": "top center",
           "type": "scatter",
           "x": [
            3239873
           ],
           "y": [
            2066454
           ]
          }
         ],
         "name": "2022"
        },
        {
         "data": [
          {
           "hovertemplate": "<b>336--Transportation Equipment</b><br>Export: 294,899<br>Import: 477,030<br>Rank: 2<extra></extra>",
           "marker": {
            "size": 90
           },
           "mode": "markers",
           "name": "336--Transportation Equipment",
           "type": "scatter",
           "x": [
            477030
           ],
           "y": [
            294899
           ]
          },
          {
           "hovertemplate": "<b>325--Chemicals</b><br>Export: 278,092<br>Import: 350,301<br>Rank: 3<extra></extra>",
           "marker": {
            "size": 80
           },
           "mode": "markers",
           "name": "325--Chemicals",
           "type": "scatter",
           "x": [
            350301
           ],
           "y": [
            278092
           ]
          },
          {
           "hovertemplate": "<b>334--Computer & Electronic Products</b><br>Export: 230,688<br>Import: 482,296<br>Rank: 4<extra></extra>",
           "marker": {
            "size": 70
           },
           "mode": "markers",
           "name": "334--Computer & Electronic Products",
           "type": "scatter",
           "x": [
            482296
           ],
           "y": [
            230688
           ]
          },
          {
           "hovertemplate": "<b>211--Oil & Gas</b><br>Export: 184,245<br>Import: 177,107<br>Rank: 5<extra></extra>",
           "marker": {
            "size": 60
           },
           "mode": "markers",
           "name": "211--Oil & Gas",
           "type": "scatter",
           "x": [
            177107
           ],
           "y": [
            184245
           ]
          },
          {
           "hovertemplate": "<b>333--Machinery, Except Electrical</b><br>Export: 165,972<br>Import: 240,651<br>Rank: 6<extra></extra>",
           "marker": {
            "size": 50
           },
           "mode": "markers",
           "name": "333--Machinery, Except Electrical",
           "type": "scatter",
           "x": [
            240651
           ],
           "y": [
            165972
           ]
          },
          {
           "hovertemplate": "<b>324--Petroleum & Coal Products</b><br>Export: 128,608<br>Import: 72,325<br>Rank: 7<extra></extra>",
           "marker": {
            "size": 40
           },
           "mode": "markers",
           "name": "324--Petroleum & Coal Products",
           "type": "scatter",
           "x": [
            72325
           ],
           "y": [
            128608
           ]
          },
          {
           "hovertemplate": "<b>339--Miscellaneous Manufactures</b><br>Export: 92,719<br>Import: 157,316<br>Rank: 8<extra></extra>",
           "marker": {
            "size": 30
           },
           "mode": "markers",
           "name": "339--Miscellaneous Manufactures",
           "type": "scatter",
           "x": [
            157316
           ],
           "y": [
            92719
           ]
          },
          {
           "hovertemplate": "<b>311--Processed Foods</b><br>Export: 81,268<br>Import: 106,124<br>Rank: 9<extra></extra>",
           "marker": {
            "size": 20
           },
           "mode": "markers",
           "name": "311--Processed Foods",
           "type": "scatter",
           "x": [
            106124
           ],
           "y": [
            81268
           ]
          },
          {
           "hovertemplate": "<b>111--Agricultural Products</b><br>Export: 80,217<br>Import: 49,022<br>Rank: 10<extra></extra>",
           "marker": {
            "size": 10
           },
           "mode": "markers",
           "name": "111--Agricultural Products",
           "type": "scatter",
           "x": [
            49022
           ],
           "y": [
            80217
           ]
          },
          {
           "hovertemplate": "<b>All Merchandise</b><br>Export: 2,018,059<br>Import: 3,080,170<extra></extra>",
           "marker": {
            "color": "gray",
            "size": 14,
            "symbol": "diamond"
           },
           "mode": "markers+text",
           "name": "All Merchandise",
           "text": [
            "All Merchandise"
           ],
           "textposition": "top center",
           "type": "scatter",
           "x": [
            3080170
           ],
           "y": [
            2018059
           ]
          }
         ],
         "name": "2023"
        },
        {
         "data": [
          {
           "hovertemplate": "<b>336--Transportation Equipment</b><br>Export: 292,851<br>Import: 494,212<br>Rank: 2<extra></extra>",
           "marker": {
            "size": 90
           },
           "mode": "markers",
           "name": "336--Transportation Equipment",
           "type": "scatter",
           "x": [
            494212
           ],
           "y": [
            292851
           ]
          },
          {
           "hovertemplate": "<b>325--Chemicals</b><br>Export: 285,441<br>Import: 393,780<br>Rank: 3<extra></extra>",
           "marker": {
            "size": 80
           },
           "mode": "markers",
           "name": "325--Chemicals",
           "type": "scatter",
           "x": [
            393780
           ],
           "y": [
            285441
           ]
          },
          {
           "hovertemplate": "<b>334--Computer & Electronic Products</b><br>Export: 259,371<br>Import: 551,708<br>Rank: 4<extra></extra>",
           "marker": {
            "size": 70
           },
           "mode": "markers",
           "name": "334--Computer & Electronic Products",
           "type": "scatter",
           "x": [
            551708
           ],
           "y": [
            259371
           ]
          },
          {
           "hovertemplate": "<b>211--Oil & Gas</b><br>Export: 180,746<br>Import: 176,469<br>Rank: 5<extra></extra>",
           "marker": {
            "size": 60
           },
           "mode": "markers",
           "name": "211--Oil & Gas",
           "type": "scatter",
           "x": [
            176469
           ],
           "y": [
            180746
           ]
          },
          {
           "hovertemplate": "<b>333--Machinery, Except Electrical</b><br>Export: 164,663<br>Import: 247,853<br>Rank: 6<extra></extra>",
           "marker": {
            "size": 50
           },
           "mode": "markers",
           "name": "333--Machinery, Except Electrical",
           "type": "scatter",
           "x": [
            247853
           ],
           "y": [
            164663
           ]
          },
          {
           "hovertemplate": "<b>324--Petroleum & Coal Products</b><br>Export: 127,761<br>Import: 62,930<br>Rank: 7<extra></extra>",
           "marker": {
            "size": 40
           },
           "mode": "markers",
           "name": "324--Petroleum & Coal Products",
           "type": "scatter",
           "x": [
            62930
           ],
           "y": [
            127761
           ]
          },
          {
           "hovertemplate": "<b>339--Miscellaneous Manufactures</b><br>Export: 87,590<br>Import: 155,326<br>Rank: 8<extra></extra>",
           "marker": {
            "size": 30
           },
           "mode": "markers",
           "name": "339--Miscellaneous Manufactures",
           "type": "scatter",
           "x": [
            155326
           ],
           "y": [
            87590
           ]
          },
          {
           "hovertemplate": "<b>311--Processed Foods</b><br>Export: 83,623<br>Import: 117,810<br>Rank: 9<extra></extra>",
           "marker": {
            "size": 20
           },
           "mode": "markers",
           "name": "311--Processed Foods",
           "type": "scatter",
           "x": [
            117810
           ],
           "y": [
            83623
           ]
          },
          {
           "hovertemplate": "<b>990--Other Special Classification Provisions</b><br>Export: 80,521<br>Import: 30,038<br>Rank: 10<extra></extra>",
           "marker": {
            "size": 10
           },
           "mode": "markers",
           "name": "990--Other Special Classification Provisions",
           "type": "scatter",
           "x": [
            30038
           ],
           "y": [
            80521
           ]
          },
          {
           "hovertemplate": "<b>All Merchandise</b><br>Export: 2,064,517<br>Import: 3,267,389<extra></extra>",
           "marker": {
            "color": "gray",
            "size": 14,
            "symbol": "diamond"
           },
           "mode": "markers+text",
           "name": "All Merchandise",
           "text": [
            "All Merchandise"
           ],
           "textposition": "top center",
           "type": "scatter",
           "x": [
            3267389
           ],
           "y": [
            2064517
           ]
          }
         ],
         "name": "2024"
        }
       ],
       "layout": {
        "height": 700,
        "shapes": [
         {
          "line": {
           "color": "black",
           "dash": "dash"
          },
          "type": "line",
          "x0": 0,
          "x1": 551708,
          "y0": 0,
          "y1": 551708
         }
        ],
        "template": {
         "data": {
          "bar": [
           {
            "error_x": {
             "color": "#2a3f5f"
            },
            "error_y": {
             "color": "#2a3f5f"
            },
            "marker": {
             "line": {
              "color": "#E5ECF6",
              "width": 0.5
             },
             "pattern": {
              "fillmode": "overlay",
              "size": 10,
              "solidity": 0.2
             }
            },
            "type": "bar"
           }
          ],
          "barpolar": [
           {
            "marker": {
             "line": {
              "color": "#E5ECF6",
              "width": 0.5
             },
             "pattern": {
              "fillmode": "overlay",
              "size": 10,
              "solidity": 0.2
             }
            },
            "type": "barpolar"
           }
          ],
          "carpet": [
           {
            "aaxis": {
             "endlinecolor": "#2a3f5f",
             "gridcolor": "white",
             "linecolor": "white",
             "minorgridcolor": "white",
             "startlinecolor": "#2a3f5f"
            },
            "baxis": {
             "endlinecolor": "#2a3f5f",
             "gridcolor": "white",
             "linecolor": "white",
             "minorgridcolor": "white",
             "startlinecolor": "#2a3f5f"
            },
            "type": "carpet"
           }
          ],
          "choropleth": [
           {
            "colorbar": {
             "outlinewidth": 0,
             "ticks": ""
            },
            "type": "choropleth"
           }
          ],
          "contour": [
           {
            "colorbar": {
             "outlinewidth": 0,
             "ticks": ""
            },
            "colorscale": [
             [
              0,
              "#0d0887"
             ],
             [
              0.1111111111111111,
              "#46039f"
             ],
             [
              0.2222222222222222,
              "#7201a8"
             ],
             [
              0.3333333333333333,
              "#9c179e"
             ],
             [
              0.4444444444444444,
              "#bd3786"
             ],
             [
              0.5555555555555556,
              "#d8576b"
             ],
             [
              0.6666666666666666,
              "#ed7953"
             ],
             [
              0.7777777777777778,
              "#fb9f3a"
             ],
             [
              0.8888888888888888,
              "#fdca26"
             ],
             [
              1,
              "#f0f921"
             ]
            ],
            "type": "contour"
           }
          ],
          "contourcarpet": [
           {
            "colorbar": {
             "outlinewidth": 0,
             "ticks": ""
            },
            "type": "contourcarpet"
           }
          ],
          "heatmap": [
           {
            "colorbar": {
             "outlinewidth": 0,
             "ticks": ""
            },
            "colorscale": [
             [
              0,
              "#0d0887"
             ],
             [
              0.1111111111111111,
              "#46039f"
             ],
             [
              0.2222222222222222,
              "#7201a8"
             ],
             [
              0.3333333333333333,
              "#9c179e"
             ],
             [
              0.4444444444444444,
              "#bd3786"
             ],
             [
              0.5555555555555556,
              "#d8576b"
             ],
             [
              0.6666666666666666,
              "#ed7953"
             ],
             [
              0.7777777777777778,
              "#fb9f3a"
             ],
             [
              0.8888888888888888,
              "#fdca26"
             ],
             [
              1,
              "#f0f921"
             ]
            ],
            "type": "heatmap"
           }
          ],
          "heatmapgl": [
           {
            "colorbar": {
             "outlinewidth": 0,
             "ticks": ""
            },
            "colorscale": [
             [
              0,
              "#0d0887"
             ],
             [
              0.1111111111111111,
              "#46039f"
             ],
             [
              0.2222222222222222,
              "#7201a8"
             ],
             [
              0.3333333333333333,
              "#9c179e"
             ],
             [
              0.4444444444444444,
              "#bd3786"
             ],
             [
              0.5555555555555556,
              "#d8576b"
             ],
             [
              0.6666666666666666,
              "#ed7953"
             ],
             [
              0.7777777777777778,
              "#fb9f3a"
             ],
             [
              0.8888888888888888,
              "#fdca26"
             ],
             [
              1,
              "#f0f921"
             ]
            ],
            "type": "heatmapgl"
           }
          ],
          "histogram": [
           {
            "marker": {
             "pattern": {
              "fillmode": "overlay",
              "size": 10,
              "solidity": 0.2
             }
            },
            "type": "histogram"
           }
          ],
          "histogram2d": [
           {
            "colorbar": {
             "outlinewidth": 0,
             "ticks": ""
            },
            "colorscale": [
             [
              0,
              "#0d0887"
             ],
             [
              0.1111111111111111,
              "#46039f"
             ],
             [
              0.2222222222222222,
              "#7201a8"
             ],
             [
              0.3333333333333333,
              "#9c179e"
             ],
             [
              0.4444444444444444,
              "#bd3786"
             ],
             [
              0.5555555555555556,
              "#d8576b"
             ],
             [
              0.6666666666666666,
              "#ed7953"
             ],
             [
              0.7777777777777778,
              "#fb9f3a"
             ],
             [
              0.8888888888888888,
              "#fdca26"
             ],
             [
              1,
              "#f0f921"
             ]
            ],
            "type": "histogram2d"
           }
          ],
          "histogram2dcontour": [
           {
            "colorbar": {
             "outlinewidth": 0,
             "ticks": ""
            },
            "colorscale": [
             [
              0,
              "#0d0887"
             ],
             [
              0.1111111111111111,
              "#46039f"
             ],
             [
              0.2222222222222222,
              "#7201a8"
             ],
             [
              0.3333333333333333,
              "#9c179e"
             ],
             [
              0.4444444444444444,
              "#bd3786"
             ],
             [
              0.5555555555555556,
              "#d8576b"
             ],
             [
              0.6666666666666666,
              "#ed7953"
             ],
             [
              0.7777777777777778,
              "#fb9f3a"
             ],
             [
              0.8888888888888888,
              "#fdca26"
             ],
             [
              1,
              "#f0f921"
             ]
            ],
            "type": "histogram2dcontour"
           }
          ],
          "mesh3d": [
           {
            "colorbar": {
             "outlinewidth": 0,
             "ticks": ""
            },
            "type": "mesh3d"
           }
          ],
          "parcoords": [
           {
            "line": {
             "colorbar": {
              "outlinewidth": 0,
              "ticks": ""
             }
            },
            "type": "parcoords"
           }
          ],
          "pie": [
           {
            "automargin": true,
            "type": "pie"
           }
          ],
          "scatter": [
           {
            "fillpattern": {
             "fillmode": "overlay",
             "size": 10,
             "solidity": 0.2
            },
            "type": "scatter"
           }
          ],
          "scatter3d": [
           {
            "line": {
             "colorbar": {
              "outlinewidth": 0,
              "ticks": ""
             }
            },
            "marker": {
             "colorbar": {
              "outlinewidth": 0,
              "ticks": ""
             }
            },
            "type": "scatter3d"
           }
          ],
          "scattercarpet": [
           {
            "marker": {
             "colorbar": {
              "outlinewidth": 0,
              "ticks": ""
             }
            },
            "type": "scattercarpet"
           }
          ],
          "scattergeo": [
           {
            "marker": {
             "colorbar": {
              "outlinewidth": 0,
              "ticks": ""
             }
            },
            "type": "scattergeo"
           }
          ],
          "scattergl": [
           {
            "marker": {
             "colorbar": {
              "outlinewidth": 0,
              "ticks": ""
             }
            },
            "type": "scattergl"
           }
          ],
          "scattermapbox": [
           {
            "marker": {
             "colorbar": {
              "outlinewidth": 0,
              "ticks": ""
             }
            },
            "type": "scattermapbox"
           }
          ],
          "scatterpolar": [
           {
            "marker": {
             "colorbar": {
              "outlinewidth": 0,
              "ticks": ""
             }
            },
            "type": "scatterpolar"
           }
          ],
          "scatterpolargl": [
           {
            "marker": {
             "colorbar": {
              "outlinewidth": 0,
              "ticks": ""
             }
            },
            "type": "scatterpolargl"
           }
          ],
          "scatterternary": [
           {
            "marker": {
             "colorbar": {
              "outlinewidth": 0,
              "ticks": ""
             }
            },
            "type": "scatterternary"
           }
          ],
          "surface": [
           {
            "colorbar": {
             "outlinewidth": 0,
             "ticks": ""
            },
            "colorscale": [
             [
              0,
              "#0d0887"
             ],
             [
              0.1111111111111111,
              "#46039f"
             ],
             [
              0.2222222222222222,
              "#7201a8"
             ],
             [
              0.3333333333333333,
              "#9c179e"
             ],
             [
              0.4444444444444444,
              "#bd3786"
             ],
             [
              0.5555555555555556,
              "#d8576b"
             ],
             [
              0.6666666666666666,
              "#ed7953"
             ],
             [
              0.7777777777777778,
              "#fb9f3a"
             ],
             [
              0.8888888888888888,
              "#fdca26"
             ],
             [
              1,
              "#f0f921"
             ]
            ],
            "type": "surface"
           }
          ],
          "table": [
           {
            "cells": {
             "fill": {
              "color": "#EBF0F8"
             },
             "line": {
              "color": "white"
             }
            },
            "header": {
             "fill": {
              "color": "#C8D4E3"
             },
             "line": {
              "color": "white"
             }
            },
            "type": "table"
           }
          ]
         },
         "layout": {
          "annotationdefaults": {
           "arrowcolor": "#2a3f5f",
           "arrowhead": 0,
           "arrowwidth": 1
          },
          "autotypenumbers": "strict",
          "coloraxis": {
           "colorbar": {
            "outlinewidth": 0,
            "ticks": ""
           }
          },
          "colorscale": {
           "diverging": [
            [
             0,
             "#8e0152"
            ],
            [
             0.1,
             "#c51b7d"
            ],
            [
             0.2,
             "#de77ae"
            ],
            [
             0.3,
             "#f1b6da"
            ],
            [
             0.4,
             "#fde0ef"
            ],
            [
             0.5,
             "#f7f7f7"
            ],
            [
             0.6,
             "#e6f5d0"
            ],
            [
             0.7,
             "#b8e186"
            ],
            [
             0.8,
             "#7fbc41"
            ],
            [
             0.9,
             "#4d9221"
            ],
            [
             1,
             "#276419"
            ]
           ],
           "sequential": [
            [
             0,
             "#0d0887"
            ],
            [
             0.1111111111111111,
             "#46039f"
            ],
            [
             0.2222222222222222,
             "#7201a8"
            ],
            [
             0.3333333333333333,
             "#9c179e"
            ],
            [
             0.4444444444444444,
             "#bd3786"
            ],
            [
             0.5555555555555556,
             "#d8576b"
            ],
            [
             0.6666666666666666,
             "#ed7953"
            ],
            [
             0.7777777777777778,
             "#fb9f3a"
            ],
            [
             0.8888888888888888,
             "#fdca26"
            ],
            [
             1,
             "#f0f921"
            ]
           ],
           "sequentialminus": [
            [
             0,
             "#0d0887"
            ],
            [
             0.1111111111111111,
             "#46039f"
            ],
            [
             0.2222222222222222,
             "#7201a8"
            ],
            [
             0.3333333333333333,
             "#9c179e"
            ],
            [
             0.4444444444444444,
             "#bd3786"
            ],
            [
             0.5555555555555556,
             "#d8576b"
            ],
            [
             0.6666666666666666,
             "#ed7953"
            ],
            [
             0.7777777777777778,
             "#fb9f3a"
            ],
            [
             0.8888888888888888,
             "#fdca26"
            ],
            [
             1,
             "#f0f921"
            ]
           ]
          },
          "colorway": [
           "#636efa",
           "#EF553B",
           "#00cc96",
           "#ab63fa",
           "#FFA15A",
           "#19d3f3",
           "#FF6692",
           "#B6E880",
           "#FF97FF",
           "#FECB52"
          ],
          "font": {
           "color": "#2a3f5f"
          },
          "geo": {
           "bgcolor": "white",
           "lakecolor": "white",
           "landcolor": "#E5ECF6",
           "showlakes": true,
           "showland": true,
           "subunitcolor": "white"
          },
          "hoverlabel": {
           "align": "left"
          },
          "hovermode": "closest",
          "mapbox": {
           "style": "light"
          },
          "paper_bgcolor": "white",
          "plot_bgcolor": "#E5ECF6",
          "polar": {
           "angularaxis": {
            "gridcolor": "white",
            "linecolor": "white",
            "ticks": ""
           },
           "bgcolor": "#E5ECF6",
           "radialaxis": {
            "gridcolor": "white",
            "linecolor": "white",
            "ticks": ""
           }
          },
          "scene": {
           "xaxis": {
            "backgroundcolor": "#E5ECF6",
            "gridcolor": "white",
            "gridwidth": 2,
            "linecolor": "white",
            "showbackground": true,
            "ticks": "",
            "zerolinecolor": "white"
           },
           "yaxis": {
            "backgroundcolor": "#E5ECF6",
            "gridcolor": "white",
            "gridwidth": 2,
            "linecolor": "white",
            "showbackground": true,
            "ticks": "",
            "zerolinecolor": "white"
           },
           "zaxis": {
            "backgroundcolor": "#E5ECF6",
            "gridcolor": "white",
            "gridwidth": 2,
            "linecolor": "white",
            "showbackground": true,
            "ticks": "",
            "zerolinecolor": "white"
           }
          },
          "shapedefaults": {
           "line": {
            "color": "#2a3f5f"
           }
          },
          "ternary": {
           "aaxis": {
            "gridcolor": "white",
            "linecolor": "white",
            "ticks": ""
           },
           "baxis": {
            "gridcolor": "white",
            "linecolor": "white",
            "ticks": ""
           },
           "bgcolor": "#E5ECF6",
           "caxis": {
            "gridcolor": "white",
            "linecolor": "white",
            "ticks": ""
           }
          },
          "title": {
           "x": 0.05
          },
          "xaxis": {
           "automargin": true,
           "gridcolor": "white",
           "linecolor": "white",
           "ticks": "",
           "title": {
            "standoff": 15
           },
           "zerolinecolor": "white",
           "zerolinewidth": 2
          },
          "yaxis": {
           "automargin": true,
           "gridcolor": "white",
           "linecolor": "white",
           "ticks": "",
           "title": {
            "standoff": 15
           },
           "zerolinecolor": "white",
           "zerolinewidth": 2
          }
         }
        },
        "title": {
         "text": "U.S. Export vs Import: Top 10 Products + All Merchandise (Animated, 2009–2024)"
        },
        "updatemenus": [
         {
          "buttons": [
           {
            "args": [
             null,
             {
              "frame": {
               "duration": 800,
               "redraw": true
              },
              "fromcurrent": true
             }
            ],
            "label": "Play",
            "method": "animate"
           }
          ],
          "showactive": false,
          "type": "buttons"
         }
        ],
        "xaxis": {
         "range": [
          0,
          579293.4
         ],
         "title": {
          "text": "Import Value (Million USD)"
         }
        },
        "yaxis": {
         "range": [
          0,
          579293.4
         ],
         "title": {
          "text": "Export Value (Million USD)"
         }
        }
       }
      }
     },
     "metadata": {},
     "output_type": "display_data"
    }
   ],
   "source": [
    "# 📦 Step 1: Import libraries\n",
    "import pandas as pd\n",
    "import plotly.graph_objects as go\n",
    "\n",
    "# 📂 Step 2: Load cleaned data\n",
    "export_clean = pd.read_csv(\"../data/Processed/Export_Trade_Cleaned.csv\")\n",
    "import_clean = pd.read_csv(\"../data/Processed/Import_Trade_Cleaned.csv\")\n",
    "\n",
    "# 🧼 Step 3: Clean and reshape data\n",
    "def clean_and_melt(df, value_name):\n",
    "    df = df.copy()\n",
    "    df.columns = df.columns.str.strip()\n",
    "    df.iloc[:, 1:] = df.iloc[:, 1:].replace('[\\$,]', '', regex=True).astype(float)\n",
    "    df_long = df.melt(id_vars=[\"Product\"], var_name=\"Year\", value_name=value_name)\n",
    "    df_long[\"Year\"] = df_long[\"Year\"].astype(int)\n",
    "    return df_long\n",
    "\n",
    "export_long = clean_and_melt(export_clean, \"Export\")\n",
    "import_long = clean_and_melt(import_clean, \"Import\")\n",
    "\n",
    "# 🔗 Step 4: Merge & Rank\n",
    "merged = pd.merge(export_long, import_long, on=[\"Product\", \"Year\"])\n",
    "merged[\"Rank\"] = merged.groupby(\"Year\")[\"Export\"].rank(method=\"first\", ascending=False)\n",
    "merged[\"Is_All_Merchandise\"] = merged[\"Product\"].str.contains(\"All Merchandise\")\n",
    "\n",
    "# ✂️ Step 5: Split out datasets\n",
    "all_merch = merged[merged[\"Is_All_Merchandise\"]].copy()\n",
    "top10 = merged[(~merged[\"Is_All_Merchandise\"]) & (merged[\"Rank\"] <= 10)].copy()\n",
    "top10[\"Size\"] = (11 - top10[\"Rank\"]) * 10\n",
    "\n",
    "# 📆 Step 6: Setup animation\n",
    "years = sorted(top10[\"Year\"].unique())\n",
    "max_val = max(top10[\"Export\"].max(), top10[\"Import\"].max())\n",
    "\n",
    "# 🎬 Step 7: Build initial frame\n",
    "fig = go.Figure()\n",
    "\n",
    "initial_year = years[0]\n",
    "initial_top = top10[top10[\"Year\"] == initial_year]\n",
    "initial_all = all_merch[all_merch[\"Year\"] == initial_year].iloc[0]\n",
    "\n",
    "# Top 10 traces\n",
    "for _, row in initial_top.iterrows():\n",
    "    fig.add_trace(go.Scatter(\n",
    "        x=[row[\"Import\"]],\n",
    "        y=[row[\"Export\"]],\n",
    "        mode='markers',\n",
    "        name=row[\"Product\"],\n",
    "        marker=dict(size=row[\"Size\"]),\n",
    "        hovertemplate=f\"<b>{row['Product']}</b><br>Export: {row['Export']:,.0f}<br>Import: {row['Import']:,.0f}<br>Rank: {int(row['Rank'])}<extra></extra>\"\n",
    "    ))\n",
    "\n",
    "# All Merchandise trace\n",
    "fig.add_trace(go.Scatter(\n",
    "    x=[initial_all[\"Import\"]],\n",
    "    y=[initial_all[\"Export\"]],\n",
    "    mode='markers+text',\n",
    "    name=\"All Merchandise\",\n",
    "    marker=dict(size=14, color='gray', symbol='diamond'),\n",
    "    text=[\"All Merchandise\"],\n",
    "    textposition=\"top center\",\n",
    "    hovertemplate=f\"<b>All Merchandise</b><br>Export: {initial_all['Export']:,.0f}<br>Import: {initial_all['Import']:,.0f}<extra></extra>\"\n",
    "))\n",
    "\n",
    "# Add trade balance line\n",
    "fig.add_shape(\n",
    "    type=\"line\",\n",
    "    x0=0, y0=0, x1=max_val, y1=max_val,\n",
    "    line=dict(dash=\"dash\", color=\"black\"),\n",
    ")\n",
    "\n",
    "# 🎞️ Step 8: Build animation frames\n",
    "frames = []\n",
    "for year in years:\n",
    "    frame_data = []\n",
    "\n",
    "    year_data = top10[top10[\"Year\"] == year]\n",
    "    for _, row in year_data.iterrows():\n",
    "        frame_data.append(go.Scatter(\n",
    "            x=[row[\"Import\"]],\n",
    "            y=[row[\"Export\"]],\n",
    "            mode='markers',\n",
    "            name=row[\"Product\"],\n",
    "            marker=dict(size=row[\"Size\"]),\n",
    "            hovertemplate=f\"<b>{row['Product']}</b><br>Export: {row['Export']:,.0f}<br>Import: {row['Import']:,.0f}<br>Rank: {int(row['Rank'])}<extra></extra>\"\n",
    "        ))\n",
    "\n",
    "    all_row = all_merch[all_merch[\"Year\"] == year].iloc[0]\n",
    "    frame_data.append(go.Scatter(\n",
    "        x=[all_row[\"Import\"]],\n",
    "        y=[all_row[\"Export\"]],\n",
    "        mode='markers+text',\n",
    "        name=\"All Merchandise\",\n",
    "        marker=dict(size=14, color='gray', symbol='diamond'),\n",
    "        text=[\"All Merchandise\"],\n",
    "        textposition=\"top center\",\n",
    "        hovertemplate=f\"<b>All Merchandise</b><br>Export: {all_row['Export']:,.0f}<br>Import: {all_row['Import']:,.0f}<extra></extra>\"\n",
    "    ))\n",
    "\n",
    "    frames.append(go.Frame(data=frame_data, name=str(year)))\n",
    "\n",
    "# 🧾 Step 9: Final layout and play button\n",
    "fig.update_layout(\n",
    "    title=\"U.S. Export vs Import: Top 10 Products + All Merchandise (Animated, 2009–2024)\",\n",
    "    xaxis=dict(title=\"Import Value (Million USD)\", range=[0, max_val * 1.05]),\n",
    "    yaxis=dict(title=\"Export Value (Million USD)\", range=[0, max_val * 1.05]),\n",
    "    height=700,\n",
    "    updatemenus=[dict(\n",
    "        type=\"buttons\",\n",
    "        showactive=False,\n",
    "        buttons=[dict(label=\"Play\", method=\"animate\", args=[None, {\"frame\": {\"duration\": 800, \"redraw\": True}, \"fromcurrent\": True}])]\n",
    "    )]\n",
    ")\n",
    "\n",
    "# 🎞️ Assign frames correctly\n",
    "fig.frames = frames\n",
    "\n",
    "# ▶️ Show plot\n",
    "fig.show()\n"
   ]
  },
  {
   "cell_type": "code",
   "execution_count": 13,
   "metadata": {},
   "outputs": [
    {
     "name": "stderr",
     "output_type": "stream",
     "text": [
      "<>:17: SyntaxWarning:\n",
      "\n",
      "invalid escape sequence '\\$'\n",
      "\n",
      "<>:17: SyntaxWarning:\n",
      "\n",
      "invalid escape sequence '\\$'\n",
      "\n",
      "/var/folders/4h/1n1m5c3s6vg_drmsgcbr1lz80000gn/T/ipykernel_50120/4105148.py:17: SyntaxWarning:\n",
      "\n",
      "invalid escape sequence '\\$'\n",
      "\n",
      "/var/folders/4h/1n1m5c3s6vg_drmsgcbr1lz80000gn/T/ipykernel_50120/4105148.py:36: DeprecationWarning:\n",
      "\n",
      "DataFrameGroupBy.apply operated on the grouping columns. This behavior is deprecated, and in a future version of pandas the grouping columns will be excluded from the operation. Either pass `include_groups=False` to exclude the groupings or explicitly select the grouping columns after groupby to silence this warning.\n",
      "\n"
     ]
    },
    {
     "data": {
      "application/vnd.plotly.v1+json": {
       "config": {
        "plotlyServerURL": "https://plot.ly"
       },
       "data": [
        {
         "customdata": [
          [
           1
          ]
         ],
         "hovertemplate": "<b>%{hovertext}</b><br><br>Product=336--Transportation Equipment<br>Year=2009<br>Import=%{x}<br>Export=%{y}<br>Size=%{marker.size}<br>Rank=%{customdata[0]}<extra></extra>",
         "hovertext": [
          "336--Transportation Equipment"
         ],
         "legendgroup": "336--Transportation Equipment",
         "marker": {
          "color": "#636efa",
          "size": [
           165.375
          ],
          "sizemode": "area",
          "sizeref": 0.7372475000000001,
          "symbol": "circle"
         },
         "mode": "markers",
         "name": "336--Transportation Equipment",
         "orientation": "v",
         "showlegend": true,
         "type": "scatter",
         "x": [
          180212
         ],
         "xaxis": "x",
         "y": [
          165375
         ],
         "yaxis": "y"
        },
        {
         "customdata": [
          [
           2
          ]
         ],
         "hovertemplate": "<b>%{hovertext}</b><br><br>Product=334--Computer & Electronic Products<br>Year=2009<br>Import=%{x}<br>Export=%{y}<br>Size=%{marker.size}<br>Rank=%{customdata[0]}<extra></extra>",
         "hovertext": [
          "334--Computer & Electronic Products"
         ],
         "legendgroup": "334--Computer & Electronic Products",
         "marker": {
          "color": "#EF553B",
          "size": [
           160.628
          ],
          "sizemode": "area",
          "sizeref": 0.7372475000000001,
          "symbol": "circle"
         },
         "mode": "markers",
         "name": "334--Computer & Electronic Products",
         "orientation": "v",
         "showlegend": true,
         "type": "scatter",
         "x": [
          266612
         ],
         "xaxis": "x",
         "y": [
          160628
         ],
         "yaxis": "y"
        },
        {
         "customdata": [
          [
           3
          ]
         ],
         "hovertemplate": "<b>%{hovertext}</b><br><br>Product=325--Chemicals<br>Year=2009<br>Import=%{x}<br>Export=%{y}<br>Size=%{marker.size}<br>Rank=%{customdata[0]}<extra></extra>",
         "hovertext": [
          "325--Chemicals"
         ],
         "legendgroup": "325--Chemicals",
         "marker": {
          "color": "#00cc96",
          "size": [
           152.255
          ],
          "sizemode": "area",
          "sizeref": 0.7372475000000001,
          "symbol": "circle"
         },
         "mode": "markers",
         "name": "325--Chemicals",
         "orientation": "v",
         "showlegend": true,
         "type": "scatter",
         "x": [
          155313
         ],
         "xaxis": "x",
         "y": [
          152255
         ],
         "yaxis": "y"
        },
        {
         "customdata": [
          [
           4
          ]
         ],
         "hovertemplate": "<b>%{hovertext}</b><br><br>Product=333--Machinery, Except Electrical<br>Year=2009<br>Import=%{x}<br>Export=%{y}<br>Size=%{marker.size}<br>Rank=%{customdata[0]}<extra></extra>",
         "hovertext": [
          "333--Machinery, Except Electrical"
         ],
         "legendgroup": "333--Machinery, Except Electrical",
         "marker": {
          "color": "#ab63fa",
          "size": [
           113.416
          ],
          "sizemode": "area",
          "sizeref": 0.7372475000000001,
          "symbol": "circle"
         },
         "mode": "markers",
         "name": "333--Machinery, Except Electrical",
         "orientation": "v",
         "showlegend": true,
         "type": "scatter",
         "x": [
          87824
         ],
         "xaxis": "x",
         "y": [
          113416
         ],
         "yaxis": "y"
        },
        {
         "customdata": [
          [
           5
          ]
         ],
         "hovertemplate": "<b>%{hovertext}</b><br><br>Product=339--Miscellaneous Manufactures<br>Year=2009<br>Import=%{x}<br>Export=%{y}<br>Size=%{marker.size}<br>Rank=%{customdata[0]}<extra></extra>",
         "hovertext": [
          "339--Miscellaneous Manufactures"
         ],
         "legendgroup": "339--Miscellaneous Manufactures",
         "marker": {
          "color": "#FFA15A",
          "size": [
           52.74
          ],
          "sizemode": "area",
          "sizeref": 0.7372475000000001,
          "symbol": "circle"
         },
         "mode": "markers",
         "name": "339--Miscellaneous Manufactures",
         "orientation": "v",
         "showlegend": true,
         "type": "scatter",
         "x": [
          82344
         ],
         "xaxis": "x",
         "y": [
          52740
         ],
         "yaxis": "y"
        },
        {
         "customdata": [
          [
           6
          ]
         ],
         "hovertemplate": "<b>%{hovertext}</b><br><br>Product=111--Agricultural Products<br>Year=2009<br>Import=%{x}<br>Export=%{y}<br>Size=%{marker.size}<br>Rank=%{customdata[0]}<extra></extra>",
         "hovertext": [
          "111--Agricultural Products"
         ],
         "legendgroup": "111--Agricultural Products",
         "marker": {
          "color": "#19d3f3",
          "size": [
           50.826
          ],
          "sizemode": "area",
          "sizeref": 0.7372475000000001,
          "symbol": "circle"
         },
         "mode": "markers",
         "name": "111--Agricultural Products",
         "orientation": "v",
         "showlegend": true,
         "type": "scatter",
         "x": [
          21503
         ],
         "xaxis": "x",
         "y": [
          50826
         ],
         "yaxis": "y"
        },
        {
         "customdata": [
          [
           7
          ]
         ],
         "hovertemplate": "<b>%{hovertext}</b><br><br>Product=311--Processed Foods<br>Year=2009<br>Import=%{x}<br>Export=%{y}<br>Size=%{marker.size}<br>Rank=%{customdata[0]}<extra></extra>",
         "hovertext": [
          "311--Processed Foods"
         ],
         "legendgroup": "311--Processed Foods",
         "marker": {
          "color": "#FF6692",
          "size": [
           44.679
          ],
          "sizemode": "area",
          "sizeref": 0.7372475000000001,
          "symbol": "circle"
         },
         "mode": "markers",
         "name": "311--Processed Foods",
         "orientation": "v",
         "showlegend": true,
         "type": "scatter",
         "x": [
          36228
         ],
         "xaxis": "x",
         "y": [
          44679
         ],
         "yaxis": "y"
        },
        {
         "customdata": [
          [
           8
          ]
         ],
         "hovertemplate": "<b>%{hovertext}</b><br><br>Product=324--Petroleum & Coal Products<br>Year=2009<br>Import=%{x}<br>Export=%{y}<br>Size=%{marker.size}<br>Rank=%{customdata[0]}<extra></extra>",
         "hovertext": [
          "324--Petroleum & Coal Products"
         ],
         "legendgroup": "324--Petroleum & Coal Products",
         "marker": {
          "color": "#B6E880",
          "size": [
           41.595
          ],
          "sizemode": "area",
          "sizeref": 0.7372475000000001,
          "symbol": "circle"
         },
         "mode": "markers",
         "name": "324--Petroleum & Coal Products",
         "orientation": "v",
         "showlegend": true,
         "type": "scatter",
         "x": [
          54685
         ],
         "xaxis": "x",
         "y": [
          41595
         ],
         "yaxis": "y"
        },
        {
         "customdata": [
          [
           9
          ]
         ],
         "hovertemplate": "<b>%{hovertext}</b><br><br>Product=331--Primary Metal Manufactures<br>Year=2009<br>Import=%{x}<br>Export=%{y}<br>Size=%{marker.size}<br>Rank=%{customdata[0]}<extra></extra>",
         "hovertext": [
          "331--Primary Metal Manufactures"
         ],
         "legendgroup": "331--Primary Metal Manufactures",
         "marker": {
          "color": "#FF97FF",
          "size": [
           40.656
          ],
          "sizemode": "area",
          "sizeref": 0.7372475000000001,
          "symbol": "circle"
         },
         "mode": "markers",
         "name": "331--Primary Metal Manufactures",
         "orientation": "v",
         "showlegend": true,
         "type": "scatter",
         "x": [
          55578
         ],
         "xaxis": "x",
         "y": [
          40656
         ],
         "yaxis": "y"
        },
        {
         "customdata": [
          [
           10
          ]
         ],
         "hovertemplate": "<b>%{hovertext}</b><br><br>Product=990--Other Special Classification Provisions<br>Year=2009<br>Import=%{x}<br>Export=%{y}<br>Size=%{marker.size}<br>Rank=%{customdata[0]}<extra></extra>",
         "hovertext": [
          "990--Other Special Classification Provisions"
         ],
         "legendgroup": "990--Other Special Classification Provisions",
         "marker": {
          "color": "#FECB52",
          "size": [
           32.784
          ],
          "sizemode": "area",
          "sizeref": 0.7372475000000001,
          "symbol": "circle"
         },
         "mode": "markers",
         "name": "990--Other Special Classification Provisions",
         "orientation": "v",
         "showlegend": true,
         "type": "scatter",
         "x": [
          22546
         ],
         "xaxis": "x",
         "y": [
          32784
         ],
         "yaxis": "y"
        },
        {
         "line": {
          "color": "black",
          "dash": "dash"
         },
         "mode": "lines",
         "name": "Trade Balance = 0",
         "type": "scatter",
         "x": [
          0,
          551708
         ],
         "y": [
          0,
          551708
         ]
        }
       ],
       "frames": [
        {
         "data": [
          {
           "customdata": [
            [
             1
            ]
           ],
           "hovertemplate": "<b>%{hovertext}</b><br><br>Product=336--Transportation Equipment<br>Year=2009<br>Import=%{x}<br>Export=%{y}<br>Size=%{marker.size}<br>Rank=%{customdata[0]}<extra></extra>",
           "hovertext": [
            "336--Transportation Equipment"
           ],
           "legendgroup": "336--Transportation Equipment",
           "marker": {
            "color": "#636efa",
            "size": [
             165.375
            ],
            "sizemode": "area",
            "sizeref": 0.7372475000000001,
            "symbol": "circle"
           },
           "mode": "markers",
           "name": "336--Transportation Equipment",
           "orientation": "v",
           "showlegend": true,
           "type": "scatter",
           "x": [
            180212
           ],
           "xaxis": "x",
           "y": [
            165375
           ],
           "yaxis": "y"
          },
          {
           "customdata": [
            [
             2
            ]
           ],
           "hovertemplate": "<b>%{hovertext}</b><br><br>Product=334--Computer & Electronic Products<br>Year=2009<br>Import=%{x}<br>Export=%{y}<br>Size=%{marker.size}<br>Rank=%{customdata[0]}<extra></extra>",
           "hovertext": [
            "334--Computer & Electronic Products"
           ],
           "legendgroup": "334--Computer & Electronic Products",
           "marker": {
            "color": "#EF553B",
            "size": [
             160.628
            ],
            "sizemode": "area",
            "sizeref": 0.7372475000000001,
            "symbol": "circle"
           },
           "mode": "markers",
           "name": "334--Computer & Electronic Products",
           "orientation": "v",
           "showlegend": true,
           "type": "scatter",
           "x": [
            266612
           ],
           "xaxis": "x",
           "y": [
            160628
           ],
           "yaxis": "y"
          },
          {
           "customdata": [
            [
             3
            ]
           ],
           "hovertemplate": "<b>%{hovertext}</b><br><br>Product=325--Chemicals<br>Year=2009<br>Import=%{x}<br>Export=%{y}<br>Size=%{marker.size}<br>Rank=%{customdata[0]}<extra></extra>",
           "hovertext": [
            "325--Chemicals"
           ],
           "legendgroup": "325--Chemicals",
           "marker": {
            "color": "#00cc96",
            "size": [
             152.255
            ],
            "sizemode": "area",
            "sizeref": 0.7372475000000001,
            "symbol": "circle"
           },
           "mode": "markers",
           "name": "325--Chemicals",
           "orientation": "v",
           "showlegend": true,
           "type": "scatter",
           "x": [
            155313
           ],
           "xaxis": "x",
           "y": [
            152255
           ],
           "yaxis": "y"
          },
          {
           "customdata": [
            [
             4
            ]
           ],
           "hovertemplate": "<b>%{hovertext}</b><br><br>Product=333--Machinery, Except Electrical<br>Year=2009<br>Import=%{x}<br>Export=%{y}<br>Size=%{marker.size}<br>Rank=%{customdata[0]}<extra></extra>",
           "hovertext": [
            "333--Machinery, Except Electrical"
           ],
           "legendgroup": "333--Machinery, Except Electrical",
           "marker": {
            "color": "#ab63fa",
            "size": [
             113.416
            ],
            "sizemode": "area",
            "sizeref": 0.7372475000000001,
            "symbol": "circle"
           },
           "mode": "markers",
           "name": "333--Machinery, Except Electrical",
           "orientation": "v",
           "showlegend": true,
           "type": "scatter",
           "x": [
            87824
           ],
           "xaxis": "x",
           "y": [
            113416
           ],
           "yaxis": "y"
          },
          {
           "customdata": [
            [
             5
            ]
           ],
           "hovertemplate": "<b>%{hovertext}</b><br><br>Product=339--Miscellaneous Manufactures<br>Year=2009<br>Import=%{x}<br>Export=%{y}<br>Size=%{marker.size}<br>Rank=%{customdata[0]}<extra></extra>",
           "hovertext": [
            "339--Miscellaneous Manufactures"
           ],
           "legendgroup": "339--Miscellaneous Manufactures",
           "marker": {
            "color": "#FFA15A",
            "size": [
             52.74
            ],
            "sizemode": "area",
            "sizeref": 0.7372475000000001,
            "symbol": "circle"
           },
           "mode": "markers",
           "name": "339--Miscellaneous Manufactures",
           "orientation": "v",
           "showlegend": true,
           "type": "scatter",
           "x": [
            82344
           ],
           "xaxis": "x",
           "y": [
            52740
           ],
           "yaxis": "y"
          },
          {
           "customdata": [
            [
             6
            ]
           ],
           "hovertemplate": "<b>%{hovertext}</b><br><br>Product=111--Agricultural Products<br>Year=2009<br>Import=%{x}<br>Export=%{y}<br>Size=%{marker.size}<br>Rank=%{customdata[0]}<extra></extra>",
           "hovertext": [
            "111--Agricultural Products"
           ],
           "legendgroup": "111--Agricultural Products",
           "marker": {
            "color": "#19d3f3",
            "size": [
             50.826
            ],
            "sizemode": "area",
            "sizeref": 0.7372475000000001,
            "symbol": "circle"
           },
           "mode": "markers",
           "name": "111--Agricultural Products",
           "orientation": "v",
           "showlegend": true,
           "type": "scatter",
           "x": [
            21503
           ],
           "xaxis": "x",
           "y": [
            50826
           ],
           "yaxis": "y"
          },
          {
           "customdata": [
            [
             7
            ]
           ],
           "hovertemplate": "<b>%{hovertext}</b><br><br>Product=311--Processed Foods<br>Year=2009<br>Import=%{x}<br>Export=%{y}<br>Size=%{marker.size}<br>Rank=%{customdata[0]}<extra></extra>",
           "hovertext": [
            "311--Processed Foods"
           ],
           "legendgroup": "311--Processed Foods",
           "marker": {
            "color": "#FF6692",
            "size": [
             44.679
            ],
            "sizemode": "area",
            "sizeref": 0.7372475000000001,
            "symbol": "circle"
           },
           "mode": "markers",
           "name": "311--Processed Foods",
           "orientation": "v",
           "showlegend": true,
           "type": "scatter",
           "x": [
            36228
           ],
           "xaxis": "x",
           "y": [
            44679
           ],
           "yaxis": "y"
          },
          {
           "customdata": [
            [
             8
            ]
           ],
           "hovertemplate": "<b>%{hovertext}</b><br><br>Product=324--Petroleum & Coal Products<br>Year=2009<br>Import=%{x}<br>Export=%{y}<br>Size=%{marker.size}<br>Rank=%{customdata[0]}<extra></extra>",
           "hovertext": [
            "324--Petroleum & Coal Products"
           ],
           "legendgroup": "324--Petroleum & Coal Products",
           "marker": {
            "color": "#B6E880",
            "size": [
             41.595
            ],
            "sizemode": "area",
            "sizeref": 0.7372475000000001,
            "symbol": "circle"
           },
           "mode": "markers",
           "name": "324--Petroleum & Coal Products",
           "orientation": "v",
           "showlegend": true,
           "type": "scatter",
           "x": [
            54685
           ],
           "xaxis": "x",
           "y": [
            41595
           ],
           "yaxis": "y"
          },
          {
           "customdata": [
            [
             9
            ]
           ],
           "hovertemplate": "<b>%{hovertext}</b><br><br>Product=331--Primary Metal Manufactures<br>Year=2009<br>Import=%{x}<br>Export=%{y}<br>Size=%{marker.size}<br>Rank=%{customdata[0]}<extra></extra>",
           "hovertext": [
            "331--Primary Metal Manufactures"
           ],
           "legendgroup": "331--Primary Metal Manufactures",
           "marker": {
            "color": "#FF97FF",
            "size": [
             40.656
            ],
            "sizemode": "area",
            "sizeref": 0.7372475000000001,
            "symbol": "circle"
           },
           "mode": "markers",
           "name": "331--Primary Metal Manufactures",
           "orientation": "v",
           "showlegend": true,
           "type": "scatter",
           "x": [
            55578
           ],
           "xaxis": "x",
           "y": [
            40656
           ],
           "yaxis": "y"
          },
          {
           "customdata": [
            [
             10
            ]
           ],
           "hovertemplate": "<b>%{hovertext}</b><br><br>Product=990--Other Special Classification Provisions<br>Year=2009<br>Import=%{x}<br>Export=%{y}<br>Size=%{marker.size}<br>Rank=%{customdata[0]}<extra></extra>",
           "hovertext": [
            "990--Other Special Classification Provisions"
           ],
           "legendgroup": "990--Other Special Classification Provisions",
           "marker": {
            "color": "#FECB52",
            "size": [
             32.784
            ],
            "sizemode": "area",
            "sizeref": 0.7372475000000001,
            "symbol": "circle"
           },
           "mode": "markers",
           "name": "990--Other Special Classification Provisions",
           "orientation": "v",
           "showlegend": true,
           "type": "scatter",
           "x": [
            22546
           ],
           "xaxis": "x",
           "y": [
            32784
           ],
           "yaxis": "y"
          }
         ],
         "name": "2009"
        },
        {
         "data": [
          {
           "customdata": [
            [
             1
            ]
           ],
           "hovertemplate": "<b>%{hovertext}</b><br><br>Product=336--Transportation Equipment<br>Year=2010<br>Import=%{x}<br>Export=%{y}<br>Size=%{marker.size}<br>Rank=%{customdata[0]}<extra></extra>",
           "hovertext": [
            "336--Transportation Equipment"
           ],
           "legendgroup": "336--Transportation Equipment",
           "marker": {
            "color": "#636efa",
            "size": [
             190.887
            ],
            "sizemode": "area",
            "sizeref": 0.7372475000000001,
            "symbol": "circle"
           },
           "mode": "markers",
           "name": "336--Transportation Equipment",
           "orientation": "v",
           "showlegend": true,
           "type": "scatter",
           "x": [
            241172
           ],
           "xaxis": "x",
           "y": [
            190887
           ],
           "yaxis": "y"
          },
          {
           "customdata": [
            [
             2
            ]
           ],
           "hovertemplate": "<b>%{hovertext}</b><br><br>Product=334--Computer & Electronic Products<br>Year=2010<br>Import=%{x}<br>Export=%{y}<br>Size=%{marker.size}<br>Rank=%{customdata[0]}<extra></extra>",
           "hovertext": [
            "334--Computer & Electronic Products"
           ],
           "legendgroup": "334--Computer & Electronic Products",
           "marker": {
            "color": "#EF553B",
            "size": [
             190.435
            ],
            "sizemode": "area",
            "sizeref": 0.7372475000000001,
            "symbol": "circle"
           },
           "mode": "markers",
           "name": "334--Computer & Electronic Products",
           "orientation": "v",
           "showlegend": true,
           "type": "scatter",
           "x": [
            325050
           ],
           "xaxis": "x",
           "y": [
            190435
           ],
           "yaxis": "y"
          },
          {
           "customdata": [
            [
             3
            ]
           ],
           "hovertemplate": "<b>%{hovertext}</b><br><br>Product=325--Chemicals<br>Year=2010<br>Import=%{x}<br>Export=%{y}<br>Size=%{marker.size}<br>Rank=%{customdata[0]}<extra></extra>",
           "hovertext": [
            "325--Chemicals"
           ],
           "legendgroup": "325--Chemicals",
           "marker": {
            "color": "#00cc96",
            "size": [
             179.502
            ],
            "sizemode": "area",
            "sizeref": 0.7372475000000001,
            "symbol": "circle"
           },
           "mode": "markers",
           "name": "325--Chemicals",
           "orientation": "v",
           "showlegend": true,
           "type": "scatter",
           "x": [
            176331
           ],
           "xaxis": "x",
           "y": [
            179502
           ],
           "yaxis": "y"
          },
          {
           "customdata": [
            [
             4
            ]
           ],
           "hovertemplate": "<b>%{hovertext}</b><br><br>Product=333--Machinery, Except Electrical<br>Year=2010<br>Import=%{x}<br>Export=%{y}<br>Size=%{marker.size}<br>Rank=%{customdata[0]}<extra></extra>",
           "hovertext": [
            "333--Machinery, Except Electrical"
           ],
           "legendgroup": "333--Machinery, Except Electrical",
           "marker": {
            "color": "#ab63fa",
            "size": [
             137.8
            ],
            "sizemode": "area",
            "sizeref": 0.7372475000000001,
            "symbol": "circle"
           },
           "mode": "markers",
           "name": "333--Machinery, Except Electrical",
           "orientation": "v",
           "showlegend": true,
           "type": "scatter",
           "x": [
            105558
           ],
           "xaxis": "x",
           "y": [
            137800
           ],
           "yaxis": "y"
          },
          {
           "customdata": [
            [
             6
            ]
           ],
           "hovertemplate": "<b>%{hovertext}</b><br><br>Product=339--Miscellaneous Manufactures<br>Year=2010<br>Import=%{x}<br>Export=%{y}<br>Size=%{marker.size}<br>Rank=%{customdata[0]}<extra></extra>",
           "hovertext": [
            "339--Miscellaneous Manufactures"
           ],
           "legendgroup": "339--Miscellaneous Manufactures",
           "marker": {
            "color": "#FFA15A",
            "size": [
             61.085
            ],
            "sizemode": "area",
            "sizeref": 0.7372475000000001,
            "symbol": "circle"
           },
           "mode": "markers",
           "name": "339--Miscellaneous Manufactures",
           "orientation": "v",
           "showlegend": true,
           "type": "scatter",
           "x": [
            97752
           ],
           "xaxis": "x",
           "y": [
            61085
           ],
           "yaxis": "y"
          },
          {
           "customdata": [
            [
             7
            ]
           ],
           "hovertemplate": "<b>%{hovertext}</b><br><br>Product=111--Agricultural Products<br>Year=2010<br>Import=%{x}<br>Export=%{y}<br>Size=%{marker.size}<br>Rank=%{customdata[0]}<extra></extra>",
           "hovertext": [
            "111--Agricultural Products"
           ],
           "legendgroup": "111--Agricultural Products",
           "marker": {
            "color": "#19d3f3",
            "size": [
             60.246
            ],
            "sizemode": "area",
            "sizeref": 0.7372475000000001,
            "symbol": "circle"
           },
           "mode": "markers",
           "name": "111--Agricultural Products",
           "orientation": "v",
           "showlegend": true,
           "type": "scatter",
           "x": [
            23998
           ],
           "xaxis": "x",
           "y": [
            60246
           ],
           "yaxis": "y"
          },
          {
           "customdata": [
            [
             9
            ]
           ],
           "hovertemplate": "<b>%{hovertext}</b><br><br>Product=311--Processed Foods<br>Year=2010<br>Import=%{x}<br>Export=%{y}<br>Size=%{marker.size}<br>Rank=%{customdata[0]}<extra></extra>",
           "hovertext": [
            "311--Processed Foods"
           ],
           "legendgroup": "311--Processed Foods",
           "marker": {
            "color": "#FF6692",
            "size": [
             51.889
            ],
            "sizemode": "area",
            "sizeref": 0.7372475000000001,
            "symbol": "circle"
           },
           "mode": "markers",
           "name": "311--Processed Foods",
           "orientation": "v",
           "showlegend": true,
           "type": "scatter",
           "x": [
            41108
           ],
           "xaxis": "x",
           "y": [
            51889
           ],
           "yaxis": "y"
          },
          {
           "customdata": [
            [
             5
            ]
           ],
           "hovertemplate": "<b>%{hovertext}</b><br><br>Product=324--Petroleum & Coal Products<br>Year=2010<br>Import=%{x}<br>Export=%{y}<br>Size=%{marker.size}<br>Rank=%{customdata[0]}<extra></extra>",
           "hovertext": [
            "324--Petroleum & Coal Products"
           ],
           "legendgroup": "324--Petroleum & Coal Products",
           "marker": {
            "color": "#B6E880",
            "size": [
             61.438
            ],
            "sizemode": "area",
            "sizeref": 0.7372475000000001,
            "symbol": "circle"
           },
           "mode": "markers",
           "name": "324--Petroleum & Coal Products",
           "orientation": "v",
           "showlegend": true,
           "type": "scatter",
           "x": [
            70417
           ],
           "xaxis": "x",
           "y": [
            61438
           ],
           "yaxis": "y"
          },
          {
           "customdata": [
            [
             8
            ]
           ],
           "hovertemplate": "<b>%{hovertext}</b><br><br>Product=331--Primary Metal Manufactures<br>Year=2010<br>Import=%{x}<br>Export=%{y}<br>Size=%{marker.size}<br>Rank=%{customdata[0]}<extra></extra>",
           "hovertext": [
            "331--Primary Metal Manufactures"
           ],
           "legendgroup": "331--Primary Metal Manufactures",
           "marker": {
            "color": "#FF97FF",
            "size": [
             53.54
            ],
            "sizemode": "area",
            "sizeref": 0.7372475000000001,
            "symbol": "circle"
           },
           "mode": "markers",
           "name": "331--Primary Metal Manufactures",
           "orientation": "v",
           "showlegend": true,
           "type": "scatter",
           "x": [
            79640
           ],
           "xaxis": "x",
           "y": [
            53540
           ],
           "yaxis": "y"
          },
          {
           "customdata": [
            [
             10
            ]
           ],
           "hovertemplate": "<b>%{hovertext}</b><br><br>Product=990--Other Special Classification Provisions<br>Year=2010<br>Import=%{x}<br>Export=%{y}<br>Size=%{marker.size}<br>Rank=%{customdata[0]}<extra></extra>",
           "hovertext": [
            "990--Other Special Classification Provisions"
           ],
           "legendgroup": "990--Other Special Classification Provisions",
           "marker": {
            "color": "#FECB52",
            "size": [
             43.9
            ],
            "sizemode": "area",
            "sizeref": 0.7372475000000001,
            "symbol": "circle"
           },
           "mode": "markers",
           "name": "990--Other Special Classification Provisions",
           "orientation": "v",
           "showlegend": true,
           "type": "scatter",
           "x": [
            19625
           ],
           "xaxis": "x",
           "y": [
            43900
           ],
           "yaxis": "y"
          }
         ],
         "name": "2010"
        },
        {
         "data": [
          {
           "customdata": [
            [
             1
            ]
           ],
           "hovertemplate": "<b>%{hovertext}</b><br><br>Product=336--Transportation Equipment<br>Year=2011<br>Import=%{x}<br>Export=%{y}<br>Size=%{marker.size}<br>Rank=%{customdata[0]}<extra></extra>",
           "hovertext": [
            "336--Transportation Equipment"
           ],
           "legendgroup": "336--Transportation Equipment",
           "marker": {
            "color": "#636efa",
            "size": [
             218.049
            ],
            "sizemode": "area",
            "sizeref": 0.7372475000000001,
            "symbol": "circle"
           },
           "mode": "markers",
           "name": "336--Transportation Equipment",
           "orientation": "v",
           "showlegend": true,
           "type": "scatter",
           "x": [
            270439
           ],
           "xaxis": "x",
           "y": [
            218049
           ],
           "yaxis": "y"
          },
          {
           "customdata": [
            [
             2
            ]
           ],
           "hovertemplate": "<b>%{hovertext}</b><br><br>Product=334--Computer & Electronic Products<br>Year=2011<br>Import=%{x}<br>Export=%{y}<br>Size=%{marker.size}<br>Rank=%{customdata[0]}<extra></extra>",
           "hovertext": [
            "334--Computer & Electronic Products"
           ],
           "legendgroup": "334--Computer & Electronic Products",
           "marker": {
            "color": "#EF553B",
            "size": [
             201.577
            ],
            "sizemode": "area",
            "sizeref": 0.7372475000000001,
            "symbol": "circle"
           },
           "mode": "markers",
           "name": "334--Computer & Electronic Products",
           "orientation": "v",
           "showlegend": true,
           "type": "scatter",
           "x": [
            344054
           ],
           "xaxis": "x",
           "y": [
            201577
           ],
           "yaxis": "y"
          },
          {
           "customdata": [
            [
             3
            ]
           ],
           "hovertemplate": "<b>%{hovertext}</b><br><br>Product=325--Chemicals<br>Year=2011<br>Import=%{x}<br>Export=%{y}<br>Size=%{marker.size}<br>Rank=%{customdata[0]}<extra></extra>",
           "hovertext": [
            "325--Chemicals"
           ],
           "legendgroup": "325--Chemicals",
           "marker": {
            "color": "#00cc96",
            "size": [
             197.47
            ],
            "sizemode": "area",
            "sizeref": 0.7372475000000001,
            "symbol": "circle"
           },
           "mode": "markers",
           "name": "325--Chemicals",
           "orientation": "v",
           "showlegend": true,
           "type": "scatter",
           "x": [
            201851
           ],
           "xaxis": "x",
           "y": [
            197470
           ],
           "yaxis": "y"
          },
          {
           "customdata": [
            [
             4
            ]
           ],
           "hovertemplate": "<b>%{hovertext}</b><br><br>Product=333--Machinery, Except Electrical<br>Year=2011<br>Import=%{x}<br>Export=%{y}<br>Size=%{marker.size}<br>Rank=%{customdata[0]}<extra></extra>",
           "hovertext": [
            "333--Machinery, Except Electrical"
           ],
           "legendgroup": "333--Machinery, Except Electrical",
           "marker": {
            "color": "#ab63fa",
            "size": [
             157.179
            ],
            "sizemode": "area",
            "sizeref": 0.7372475000000001,
            "symbol": "circle"
           },
           "mode": "markers",
           "name": "333--Machinery, Except Electrical",
           "orientation": "v",
           "showlegend": true,
           "type": "scatter",
           "x": [
            135164
           ],
           "xaxis": "x",
           "y": [
            157179
           ],
           "yaxis": "y"
          },
          {
           "customdata": [
            [
             8
            ]
           ],
           "hovertemplate": "<b>%{hovertext}</b><br><br>Product=339--Miscellaneous Manufactures<br>Year=2011<br>Import=%{x}<br>Export=%{y}<br>Size=%{marker.size}<br>Rank=%{customdata[0]}<extra></extra>",
           "hovertext": [
            "339--Miscellaneous Manufactures"
           ],
           "legendgroup": "339--Miscellaneous Manufactures",
           "marker": {
            "color": "#FFA15A",
            "size": [
             69.816
            ],
            "sizemode": "area",
            "sizeref": 0.7372475000000001,
            "symbol": "circle"
           },
           "mode": "markers",
           "name": "339--Miscellaneous Manufactures",
           "orientation": "v",
           "showlegend": true,
           "type": "scatter",
           "x": [
            104439
           ],
           "xaxis": "x",
           "y": [
            69816
           ],
           "yaxis": "y"
          },
          {
           "customdata": [
            [
             7
            ]
           ],
           "hovertemplate": "<b>%{hovertext}</b><br><br>Product=111--Agricultural Products<br>Year=2011<br>Import=%{x}<br>Export=%{y}<br>Size=%{marker.size}<br>Rank=%{customdata[0]}<extra></extra>",
           "hovertext": [
            "111--Agricultural Products"
           ],
           "legendgroup": "111--Agricultural Products",
           "marker": {
            "color": "#19d3f3",
            "size": [
             71.989
            ],
            "sizemode": "area",
            "sizeref": 0.7372475000000001,
            "symbol": "circle"
           },
           "mode": "markers",
           "name": "111--Agricultural Products",
           "orientation": "v",
           "showlegend": true,
           "type": "scatter",
           "x": [
            28844
           ],
           "xaxis": "x",
           "y": [
            71989
           ],
           "yaxis": "y"
          },
          {
           "customdata": [
            [
             9
            ]
           ],
           "hovertemplate": "<b>%{hovertext}</b><br><br>Product=311--Processed Foods<br>Year=2011<br>Import=%{x}<br>Export=%{y}<br>Size=%{marker.size}<br>Rank=%{customdata[0]}<extra></extra>",
           "hovertext": [
            "311--Processed Foods"
           ],
           "legendgroup": "311--Processed Foods",
           "marker": {
            "color": "#FF6692",
            "size": [
             59.92
            ],
            "sizemode": "area",
            "sizeref": 0.7372475000000001,
            "symbol": "circle"
           },
           "mode": "markers",
           "name": "311--Processed Foods",
           "orientation": "v",
           "showlegend": true,
           "type": "scatter",
           "x": [
            50192
           ],
           "xaxis": "x",
           "y": [
            59920
           ],
           "yaxis": "y"
          },
          {
           "customdata": [
            [
             5
            ]
           ],
           "hovertemplate": "<b>%{hovertext}</b><br><br>Product=324--Petroleum & Coal Products<br>Year=2011<br>Import=%{x}<br>Export=%{y}<br>Size=%{marker.size}<br>Rank=%{customdata[0]}<extra></extra>",
           "hovertext": [
            "324--Petroleum & Coal Products"
           ],
           "legendgroup": "324--Petroleum & Coal Products",
           "marker": {
            "color": "#B6E880",
            "size": [
             101.933
            ],
            "sizemode": "area",
            "sizeref": 0.7372475000000001,
            "symbol": "circle"
           },
           "mode": "markers",
           "name": "324--Petroleum & Coal Products",
           "orientation": "v",
           "showlegend": true,
           "type": "scatter",
           "x": [
            95845
           ],
           "xaxis": "x",
           "y": [
            101933
           ],
           "yaxis": "y"
          },
          {
           "customdata": [
            [
             6
            ]
           ],
           "hovertemplate": "<b>%{hovertext}</b><br><br>Product=331--Primary Metal Manufactures<br>Year=2011<br>Import=%{x}<br>Export=%{y}<br>Size=%{marker.size}<br>Rank=%{customdata[0]}<extra></extra>",
           "hovertext": [
            "331--Primary Metal Manufactures"
           ],
           "legendgroup": "331--Primary Metal Manufactures",
           "marker": {
            "color": "#FF97FF",
            "size": [
             76.42
            ],
            "sizemode": "area",
            "sizeref": 0.7372475000000001,
            "symbol": "circle"
           },
           "mode": "markers",
           "name": "331--Primary Metal Manufactures",
           "orientation": "v",
           "showlegend": true,
           "type": "scatter",
           "x": [
            103491
           ],
           "xaxis": "x",
           "y": [
            76420
           ],
           "yaxis": "y"
          },
          {
           "customdata": [
            [
             10
            ]
           ],
           "hovertemplate": "<b>%{hovertext}</b><br><br>Product=990--Other Special Classification Provisions<br>Year=2011<br>Import=%{x}<br>Export=%{y}<br>Size=%{marker.size}<br>Rank=%{customdata[0]}<extra></extra>",
           "hovertext": [
            "990--Other Special Classification Provisions"
           ],
           "legendgroup": "990--Other Special Classification Provisions",
           "marker": {
            "color": "#FECB52",
            "size": [
             42.724
            ],
            "sizemode": "area",
            "sizeref": 0.7372475000000001,
            "symbol": "circle"
           },
           "mode": "markers",
           "name": "990--Other Special Classification Provisions",
           "orientation": "v",
           "showlegend": true,
           "type": "scatter",
           "x": [
            20513
           ],
           "xaxis": "x",
           "y": [
            42724
           ],
           "yaxis": "y"
          }
         ],
         "name": "2011"
        },
        {
         "data": [
          {
           "customdata": [
            [
             1
            ]
           ],
           "hovertemplate": "<b>%{hovertext}</b><br><br>Product=336--Transportation Equipment<br>Year=2012<br>Import=%{x}<br>Export=%{y}<br>Size=%{marker.size}<br>Rank=%{customdata[0]}<extra></extra>",
           "hovertext": [
            "336--Transportation Equipment"
           ],
           "legendgroup": "336--Transportation Equipment",
           "marker": {
            "color": "#636efa",
            "size": [
             241.337
            ],
            "sizemode": "area",
            "sizeref": 0.7372475000000001,
            "symbol": "circle"
           },
           "mode": "markers",
           "name": "336--Transportation Equipment",
           "orientation": "v",
           "showlegend": true,
           "type": "scatter",
           "x": [
            318036
           ],
           "xaxis": "x",
           "y": [
            241337
           ],
           "yaxis": "y"
          },
          {
           "customdata": [
            [
             2
            ]
           ],
           "hovertemplate": "<b>%{hovertext}</b><br><br>Product=334--Computer & Electronic Products<br>Year=2012<br>Import=%{x}<br>Export=%{y}<br>Size=%{marker.size}<br>Rank=%{customdata[0]}<extra></extra>",
           "hovertext": [
            "334--Computer & Electronic Products"
           ],
           "legendgroup": "334--Computer & Electronic Products",
           "marker": {
            "color": "#EF553B",
            "size": [
             203.164
            ],
            "sizemode": "area",
            "sizeref": 0.7372475000000001,
            "symbol": "circle"
           },
           "mode": "markers",
           "name": "334--Computer & Electronic Products",
           "orientation": "v",
           "showlegend": true,
           "type": "scatter",
           "x": [
            347794
           ],
           "xaxis": "x",
           "y": [
            203164
           ],
           "yaxis": "y"
          },
          {
           "customdata": [
            [
             3
            ]
           ],
           "hovertemplate": "<b>%{hovertext}</b><br><br>Product=325--Chemicals<br>Year=2012<br>Import=%{x}<br>Export=%{y}<br>Size=%{marker.size}<br>Rank=%{customdata[0]}<extra></extra>",
           "hovertext": [
            "325--Chemicals"
           ],
           "legendgroup": "325--Chemicals",
           "marker": {
            "color": "#00cc96",
            "size": [
             197.529
            ],
            "sizemode": "area",
            "sizeref": 0.7372475000000001,
            "symbol": "circle"
           },
           "mode": "markers",
           "name": "325--Chemicals",
           "orientation": "v",
           "showlegend": true,
           "type": "scatter",
           "x": [
            197900
           ],
           "xaxis": "x",
           "y": [
            197529
           ],
           "yaxis": "y"
          },
          {
           "customdata": [
            [
             4
            ]
           ],
           "hovertemplate": "<b>%{hovertext}</b><br><br>Product=333--Machinery, Except Electrical<br>Year=2012<br>Import=%{x}<br>Export=%{y}<br>Size=%{marker.size}<br>Rank=%{customdata[0]}<extra></extra>",
           "hovertext": [
            "333--Machinery, Except Electrical"
           ],
           "legendgroup": "333--Machinery, Except Electrical",
           "marker": {
            "color": "#ab63fa",
            "size": [
             159.548
            ],
            "sizemode": "area",
            "sizeref": 0.7372475000000001,
            "symbol": "circle"
           },
           "mode": "markers",
           "name": "333--Machinery, Except Electrical",
           "orientation": "v",
           "showlegend": true,
           "type": "scatter",
           "x": [
            151253
           ],
           "xaxis": "x",
           "y": [
            159548
           ],
           "yaxis": "y"
          },
          {
           "customdata": [
            [
             7
            ]
           ],
           "hovertemplate": "<b>%{hovertext}</b><br><br>Product=339--Miscellaneous Manufactures<br>Year=2012<br>Import=%{x}<br>Export=%{y}<br>Size=%{marker.size}<br>Rank=%{customdata[0]}<extra></extra>",
           "hovertext": [
            "339--Miscellaneous Manufactures"
           ],
           "legendgroup": "339--Miscellaneous Manufactures",
           "marker": {
            "color": "#FFA15A",
            "size": [
             72.481
            ],
            "sizemode": "area",
            "sizeref": 0.7372475000000001,
            "symbol": "circle"
           },
           "mode": "markers",
           "name": "339--Miscellaneous Manufactures",
           "orientation": "v",
           "showlegend": true,
           "type": "scatter",
           "x": [
            101840
           ],
           "xaxis": "x",
           "y": [
            72481
           ],
           "yaxis": "y"
          },
          {
           "customdata": [
            [
             8
            ]
           ],
           "hovertemplate": "<b>%{hovertext}</b><br><br>Product=111--Agricultural Products<br>Year=2012<br>Import=%{x}<br>Export=%{y}<br>Size=%{marker.size}<br>Rank=%{customdata[0]}<extra></extra>",
           "hovertext": [
            "111--Agricultural Products"
           ],
           "legendgroup": "111--Agricultural Products",
           "marker": {
            "color": "#19d3f3",
            "size": [
             71.078
            ],
            "sizemode": "area",
            "sizeref": 0.7372475000000001,
            "symbol": "circle"
           },
           "mode": "markers",
           "name": "111--Agricultural Products",
           "orientation": "v",
           "showlegend": true,
           "type": "scatter",
           "x": [
            29331
           ],
           "xaxis": "x",
           "y": [
            71078
           ],
           "yaxis": "y"
          },
          {
           "customdata": [
            [
             9
            ]
           ],
           "hovertemplate": "<b>%{hovertext}</b><br><br>Product=311--Processed Foods<br>Year=2012<br>Import=%{x}<br>Export=%{y}<br>Size=%{marker.size}<br>Rank=%{customdata[0]}<extra></extra>",
           "hovertext": [
            "311--Processed Foods"
           ],
           "legendgroup": "311--Processed Foods",
           "marker": {
            "color": "#FF6692",
            "size": [
             64.927
            ],
            "sizemode": "area",
            "sizeref": 0.7372475000000001,
            "symbol": "circle"
           },
           "mode": "markers",
           "name": "311--Processed Foods",
           "orientation": "v",
           "showlegend": true,
           "type": "scatter",
           "x": [
            54347
           ],
           "xaxis": "x",
           "y": [
            64927
           ],
           "yaxis": "y"
          },
          {
           "customdata": [
            [
             5
            ]
           ],
           "hovertemplate": "<b>%{hovertext}</b><br><br>Product=324--Petroleum & Coal Products<br>Year=2012<br>Import=%{x}<br>Export=%{y}<br>Size=%{marker.size}<br>Rank=%{customdata[0]}<extra></extra>",
           "hovertext": [
            "324--Petroleum & Coal Products"
           ],
           "legendgroup": "324--Petroleum & Coal Products",
           "marker": {
            "color": "#B6E880",
            "size": [
             111.15
            ],
            "sizemode": "area",
            "sizeref": 0.7372475000000001,
            "symbol": "circle"
           },
           "mode": "markers",
           "name": "324--Petroleum & Coal Products",
           "orientation": "v",
           "showlegend": true,
           "type": "scatter",
           "x": [
            94064
           ],
           "xaxis": "x",
           "y": [
            111150
           ],
           "yaxis": "y"
          },
          {
           "customdata": [
            [
             6
            ]
           ],
           "hovertemplate": "<b>%{hovertext}</b><br><br>Product=331--Primary Metal Manufactures<br>Year=2012<br>Import=%{x}<br>Export=%{y}<br>Size=%{marker.size}<br>Rank=%{customdata[0]}<extra></extra>",
           "hovertext": [
            "331--Primary Metal Manufactures"
           ],
           "legendgroup": "331--Primary Metal Manufactures",
           "marker": {
            "color": "#FF97FF",
            "size": [
             78.404
            ],
            "sizemode": "area",
            "sizeref": 0.7372475000000001,
            "symbol": "circle"
           },
           "mode": "markers",
           "name": "331--Primary Metal Manufactures",
           "orientation": "v",
           "showlegend": true,
           "type": "scatter",
           "x": [
            101464
           ],
           "xaxis": "x",
           "y": [
            78404
           ],
           "yaxis": "y"
          },
          {
           "customdata": [
            [
             10
            ]
           ],
           "hovertemplate": "<b>%{hovertext}</b><br><br>Product=335--Electrical Equipment, Appliances & Components<br>Year=2012<br>Import=%{x}<br>Export=%{y}<br>Size=%{marker.size}<br>Rank=%{customdata[0]}<extra></extra>",
           "hovertext": [
            "335--Electrical Equipment, Appliances & Components"
           ],
           "legendgroup": "335--Electrical Equipment, Appliances & Components",
           "marker": {
            "color": "#636efa",
            "size": [
             54.296
            ],
            "sizemode": "area",
            "sizeref": 0.7372475000000001,
            "symbol": "circle"
           },
           "mode": "markers",
           "name": "335--Electrical Equipment, Appliances & Components",
           "orientation": "v",
           "showlegend": true,
           "type": "scatter",
           "x": [
            89261
           ],
           "xaxis": "x",
           "y": [
            54296
           ],
           "yaxis": "y"
          }
         ],
         "name": "2012"
        },
        {
         "data": [
          {
           "customdata": [
            [
             1
            ]
           ],
           "hovertemplate": "<b>%{hovertext}</b><br><br>Product=336--Transportation Equipment<br>Year=2013<br>Import=%{x}<br>Export=%{y}<br>Size=%{marker.size}<br>Rank=%{customdata[0]}<extra></extra>",
           "hovertext": [
            "336--Transportation Equipment"
           ],
           "legendgroup": "336--Transportation Equipment",
           "marker": {
            "color": "#636efa",
            "size": [
             258.286
            ],
            "sizemode": "area",
            "sizeref": 0.7372475000000001,
            "symbol": "circle"
           },
           "mode": "markers",
           "name": "336--Transportation Equipment",
           "orientation": "v",
           "showlegend": true,
           "type": "scatter",
           "x": [
            334176
           ],
           "xaxis": "x",
           "y": [
            258286
           ],
           "yaxis": "y"
          },
          {
           "customdata": [
            [
             2
            ]
           ],
           "hovertemplate": "<b>%{hovertext}</b><br><br>Product=334--Computer & Electronic Products<br>Year=2013<br>Import=%{x}<br>Export=%{y}<br>Size=%{marker.size}<br>Rank=%{customdata[0]}<extra></extra>",
           "hovertext": [
            "334--Computer & Electronic Products"
           ],
           "legendgroup": "334--Computer & Electronic Products",
           "marker": {
            "color": "#EF553B",
            "size": [
             204.64
            ],
            "sizemode": "area",
            "sizeref": 0.7372475000000001,
            "symbol": "circle"
           },
           "mode": "markers",
           "name": "334--Computer & Electronic Products",
           "orientation": "v",
           "showlegend": true,
           "type": "scatter",
           "x": [
            351379
           ],
           "xaxis": "x",
           "y": [
            204640
           ],
           "yaxis": "y"
          },
          {
           "customdata": [
            [
             3
            ]
           ],
           "hovertemplate": "<b>%{hovertext}</b><br><br>Product=325--Chemicals<br>Year=2013<br>Import=%{x}<br>Export=%{y}<br>Size=%{marker.size}<br>Rank=%{customdata[0]}<extra></extra>",
           "hovertext": [
            "325--Chemicals"
           ],
           "legendgroup": "325--Chemicals",
           "marker": {
            "color": "#00cc96",
            "size": [
             199.502
            ],
            "sizemode": "area",
            "sizeref": 0.7372475000000001,
            "symbol": "circle"
           },
           "mode": "markers",
           "name": "325--Chemicals",
           "orientation": "v",
           "showlegend": true,
           "type": "scatter",
           "x": [
            195425
           ],
           "xaxis": "x",
           "y": [
            199502
           ],
           "yaxis": "y"
          },
          {
           "customdata": [
            [
             4
            ]
           ],
           "hovertemplate": "<b>%{hovertext}</b><br><br>Product=333--Machinery, Except Electrical<br>Year=2013<br>Import=%{x}<br>Export=%{y}<br>Size=%{marker.size}<br>Rank=%{customdata[0]}<extra></extra>",
           "hovertext": [
            "333--Machinery, Except Electrical"
           ],
           "legendgroup": "333--Machinery, Except Electrical",
           "marker": {
            "color": "#ab63fa",
            "size": [
             150.139
            ],
            "sizemode": "area",
            "sizeref": 0.7372475000000001,
            "symbol": "circle"
           },
           "mode": "markers",
           "name": "333--Machinery, Except Electrical",
           "orientation": "v",
           "showlegend": true,
           "type": "scatter",
           "x": [
            146853
           ],
           "xaxis": "x",
           "y": [
            150139
           ],
           "yaxis": "y"
          },
          {
           "customdata": [
            [
             6
            ]
           ],
           "hovertemplate": "<b>%{hovertext}</b><br><br>Product=339--Miscellaneous Manufactures<br>Year=2013<br>Import=%{x}<br>Export=%{y}<br>Size=%{marker.size}<br>Rank=%{customdata[0]}<extra></extra>",
           "hovertext": [
            "339--Miscellaneous Manufactures"
           ],
           "legendgroup": "339--Miscellaneous Manufactures",
           "marker": {
            "color": "#FFA15A",
            "size": [
             77.852
            ],
            "sizemode": "area",
            "sizeref": 0.7372475000000001,
            "symbol": "circle"
           },
           "mode": "markers",
           "name": "339--Miscellaneous Manufactures",
           "orientation": "v",
           "showlegend": true,
           "type": "scatter",
           "x": [
            107770
           ],
           "xaxis": "x",
           "y": [
            77852
           ],
           "yaxis": "y"
          },
          {
           "customdata": [
            [
             8
            ]
           ],
           "hovertemplate": "<b>%{hovertext}</b><br><br>Product=111--Agricultural Products<br>Year=2013<br>Import=%{x}<br>Export=%{y}<br>Size=%{marker.size}<br>Rank=%{customdata[0]}<extra></extra>",
           "hovertext": [
            "111--Agricultural Products"
           ],
           "legendgroup": "111--Agricultural Products",
           "marker": {
            "color": "#19d3f3",
            "size": [
             68.935
            ],
            "sizemode": "area",
            "sizeref": 0.7372475000000001,
            "symbol": "circle"
           },
           "mode": "markers",
           "name": "111--Agricultural Products",
           "orientation": "v",
           "showlegend": true,
           "type": "scatter",
           "x": [
            31769
           ],
           "xaxis": "x",
           "y": [
            68935
           ],
           "yaxis": "y"
          },
          {
           "customdata": [
            [
             9
            ]
           ],
           "hovertemplate": "<b>%{hovertext}</b><br><br>Product=311--Processed Foods<br>Year=2013<br>Import=%{x}<br>Export=%{y}<br>Size=%{marker.size}<br>Rank=%{customdata[0]}<extra></extra>",
           "hovertext": [
            "311--Processed Foods"
           ],
           "legendgroup": "311--Processed Foods",
           "marker": {
            "color": "#FF6692",
            "size": [
             68.775
            ],
            "sizemode": "area",
            "sizeref": 0.7372475000000001,
            "symbol": "circle"
           },
           "mode": "markers",
           "name": "311--Processed Foods",
           "orientation": "v",
           "showlegend": true,
           "type": "scatter",
           "x": [
            52823
           ],
           "xaxis": "x",
           "y": [
            68775
           ],
           "yaxis": "y"
          },
          {
           "customdata": [
            [
             5
            ]
           ],
           "hovertemplate": "<b>%{hovertext}</b><br><br>Product=324--Petroleum & Coal Products<br>Year=2013<br>Import=%{x}<br>Export=%{y}<br>Size=%{marker.size}<br>Rank=%{customdata[0]}<extra></extra>",
           "hovertext": [
            "324--Petroleum & Coal Products"
           ],
           "legendgroup": "324--Petroleum & Coal Products",
           "marker": {
            "color": "#B6E880",
            "size": [
             119.521
            ],
            "sizemode": "area",
            "sizeref": 0.7372475000000001,
            "symbol": "circle"
           },
           "mode": "markers",
           "name": "324--Petroleum & Coal Products",
           "orientation": "v",
           "showlegend": true,
           "type": "scatter",
           "x": [
            91081
           ],
           "xaxis": "x",
           "y": [
            119521
           ],
           "yaxis": "y"
          },
          {
           "customdata": [
            [
             7
            ]
           ],
           "hovertemplate": "<b>%{hovertext}</b><br><br>Product=331--Primary Metal Manufactures<br>Year=2013<br>Import=%{x}<br>Export=%{y}<br>Size=%{marker.size}<br>Rank=%{customdata[0]}<extra></extra>",
           "hovertext": [
            "331--Primary Metal Manufactures"
           ],
           "legendgroup": "331--Primary Metal Manufactures",
           "marker": {
            "color": "#FF97FF",
            "size": [
             73.407
            ],
            "sizemode": "area",
            "sizeref": 0.7372475000000001,
            "symbol": "circle"
           },
           "mode": "markers",
           "name": "331--Primary Metal Manufactures",
           "orientation": "v",
           "showlegend": true,
           "type": "scatter",
           "x": [
            92283
           ],
           "xaxis": "x",
           "y": [
            73407
           ],
           "yaxis": "y"
          },
          {
           "customdata": [
            [
             10
            ]
           ],
           "hovertemplate": "<b>%{hovertext}</b><br><br>Product=335--Electrical Equipment, Appliances & Components<br>Year=2013<br>Import=%{x}<br>Export=%{y}<br>Size=%{marker.size}<br>Rank=%{customdata[0]}<extra></extra>",
           "hovertext": [
            "335--Electrical Equipment, Appliances & Components"
           ],
           "legendgroup": "335--Electrical Equipment, Appliances & Components",
           "marker": {
            "color": "#636efa",
            "size": [
             57.143
            ],
            "sizemode": "area",
            "sizeref": 0.7372475000000001,
            "symbol": "circle"
           },
           "mode": "markers",
           "name": "335--Electrical Equipment, Appliances & Components",
           "orientation": "v",
           "showlegend": true,
           "type": "scatter",
           "x": [
            93965
           ],
           "xaxis": "x",
           "y": [
            57143
           ],
           "yaxis": "y"
          }
         ],
         "name": "2013"
        },
        {
         "data": [
          {
           "customdata": [
            [
             1
            ]
           ],
           "hovertemplate": "<b>%{hovertext}</b><br><br>Product=336--Transportation Equipment<br>Year=2014<br>Import=%{x}<br>Export=%{y}<br>Size=%{marker.size}<br>Rank=%{customdata[0]}<extra></extra>",
           "hovertext": [
            "336--Transportation Equipment"
           ],
           "legendgroup": "336--Transportation Equipment",
           "marker": {
            "color": "#636efa",
            "size": [
             273.784
            ],
            "sizemode": "area",
            "sizeref": 0.7372475000000001,
            "symbol": "circle"
           },
           "mode": "markers",
           "name": "336--Transportation Equipment",
           "orientation": "v",
           "showlegend": true,
           "type": "scatter",
           "x": [
            356731
           ],
           "xaxis": "x",
           "y": [
            273784
           ],
           "yaxis": "y"
          },
          {
           "customdata": [
            [
             2
            ]
           ],
           "hovertemplate": "<b>%{hovertext}</b><br><br>Product=334--Computer & Electronic Products<br>Year=2014<br>Import=%{x}<br>Export=%{y}<br>Size=%{marker.size}<br>Rank=%{customdata[0]}<extra></extra>",
           "hovertext": [
            "334--Computer & Electronic Products"
           ],
           "legendgroup": "334--Computer & Electronic Products",
           "marker": {
            "color": "#EF553B",
            "size": [
             209.123
            ],
            "sizemode": "area",
            "sizeref": 0.7372475000000001,
            "symbol": "circle"
           },
           "mode": "markers",
           "name": "334--Computer & Electronic Products",
           "orientation": "v",
           "showlegend": true,
           "type": "scatter",
           "x": [
            366603
           ],
           "xaxis": "x",
           "y": [
            209123
           ],
           "yaxis": "y"
          },
          {
           "customdata": [
            [
             3
            ]
           ],
           "hovertemplate": "<b>%{hovertext}</b><br><br>Product=325--Chemicals<br>Year=2014<br>Import=%{x}<br>Export=%{y}<br>Size=%{marker.size}<br>Rank=%{customdata[0]}<extra></extra>",
           "hovertext": [
            "325--Chemicals"
           ],
           "legendgroup": "325--Chemicals",
           "marker": {
            "color": "#00cc96",
            "size": [
             200.407
            ],
            "sizemode": "area",
            "sizeref": 0.7372475000000001,
            "symbol": "circle"
           },
           "mode": "markers",
           "name": "325--Chemicals",
           "orientation": "v",
           "showlegend": true,
           "type": "scatter",
           "x": [
            205732
           ],
           "xaxis": "x",
           "y": [
            200407
           ],
           "yaxis": "y"
          },
          {
           "customdata": [
            [
             4
            ]
           ],
           "hovertemplate": "<b>%{hovertext}</b><br><br>Product=333--Machinery, Except Electrical<br>Year=2014<br>Import=%{x}<br>Export=%{y}<br>Size=%{marker.size}<br>Rank=%{customdata[0]}<extra></extra>",
           "hovertext": [
            "333--Machinery, Except Electrical"
           ],
           "legendgroup": "333--Machinery, Except Electrical",
           "marker": {
            "color": "#ab63fa",
            "size": [
             152.587
            ],
            "sizemode": "area",
            "sizeref": 0.7372475000000001,
            "symbol": "circle"
           },
           "mode": "markers",
           "name": "333--Machinery, Except Electrical",
           "orientation": "v",
           "showlegend": true,
           "type": "scatter",
           "x": [
            161242
           ],
           "xaxis": "x",
           "y": [
            152587
           ],
           "yaxis": "y"
          },
          {
           "customdata": [
            [
             6
            ]
           ],
           "hovertemplate": "<b>%{hovertext}</b><br><br>Product=339--Miscellaneous Manufactures<br>Year=2014<br>Import=%{x}<br>Export=%{y}<br>Size=%{marker.size}<br>Rank=%{customdata[0]}<extra></extra>",
           "hovertext": [
            "339--Miscellaneous Manufactures"
           ],
           "legendgroup": "339--Miscellaneous Manufactures",
           "marker": {
            "color": "#FFA15A",
            "size": [
             81.912
            ],
            "sizemode": "area",
            "sizeref": 0.7372475000000001,
            "symbol": "circle"
           },
           "mode": "markers",
           "name": "339--Miscellaneous Manufactures",
           "orientation": "v",
           "showlegend": true,
           "type": "scatter",
           "x": [
            111635
           ],
           "xaxis": "x",
           "y": [
            81912
           ],
           "yaxis": "y"
          },
          {
           "customdata": [
            [
             7
            ]
           ],
           "hovertemplate": "<b>%{hovertext}</b><br><br>Product=111--Agricultural Products<br>Year=2014<br>Import=%{x}<br>Export=%{y}<br>Size=%{marker.size}<br>Rank=%{customdata[0]}<extra></extra>",
           "hovertext": [
            "111--Agricultural Products"
           ],
           "legendgroup": "111--Agricultural Products",
           "marker": {
            "color": "#19d3f3",
            "size": [
             72.929
            ],
            "sizemode": "area",
            "sizeref": 0.7372475000000001,
            "symbol": "circle"
           },
           "mode": "markers",
           "name": "111--Agricultural Products",
           "orientation": "v",
           "showlegend": true,
           "type": "scatter",
           "x": [
            33629
           ],
           "xaxis": "x",
           "y": [
            72929
           ],
           "yaxis": "y"
          },
          {
           "customdata": [
            [
             8
            ]
           ],
           "hovertemplate": "<b>%{hovertext}</b><br><br>Product=311--Processed Foods<br>Year=2014<br>Import=%{x}<br>Export=%{y}<br>Size=%{marker.size}<br>Rank=%{customdata[0]}<extra></extra>",
           "hovertext": [
            "311--Processed Foods"
           ],
           "legendgroup": "311--Processed Foods",
           "marker": {
            "color": "#FF6692",
            "size": [
             70.684
            ],
            "sizemode": "area",
            "sizeref": 0.7372475000000001,
            "symbol": "circle"
           },
           "mode": "markers",
           "name": "311--Processed Foods",
           "orientation": "v",
           "showlegend": true,
           "type": "scatter",
           "x": [
            57193
           ],
           "xaxis": "x",
           "y": [
            70684
           ],
           "yaxis": "y"
          },
          {
           "customdata": [
            [
             5
            ]
           ],
           "hovertemplate": "<b>%{hovertext}</b><br><br>Product=324--Petroleum & Coal Products<br>Year=2014<br>Import=%{x}<br>Export=%{y}<br>Size=%{marker.size}<br>Rank=%{customdata[0]}<extra></extra>",
           "hovertext": [
            "324--Petroleum & Coal Products"
           ],
           "legendgroup": "324--Petroleum & Coal Products",
           "marker": {
            "color": "#B6E880",
            "size": [
             117.956
            ],
            "sizemode": "area",
            "sizeref": 0.7372475000000001,
            "symbol": "circle"
           },
           "mode": "markers",
           "name": "324--Petroleum & Coal Products",
           "orientation": "v",
           "showlegend": true,
           "type": "scatter",
           "x": [
            81983
           ],
           "xaxis": "x",
           "y": [
            117956
           ],
           "yaxis": "y"
          },
          {
           "customdata": [
            [
             9
            ]
           ],
           "hovertemplate": "<b>%{hovertext}</b><br><br>Product=331--Primary Metal Manufactures<br>Year=2014<br>Import=%{x}<br>Export=%{y}<br>Size=%{marker.size}<br>Rank=%{customdata[0]}<extra></extra>",
           "hovertext": [
            "331--Primary Metal Manufactures"
           ],
           "legendgroup": "331--Primary Metal Manufactures",
           "marker": {
            "color": "#FF97FF",
            "size": [
             64.073
            ],
            "sizemode": "area",
            "sizeref": 0.7372475000000001,
            "symbol": "circle"
           },
           "mode": "markers",
           "name": "331--Primary Metal Manufactures",
           "orientation": "v",
           "showlegend": true,
           "type": "scatter",
           "x": [
            101223
           ],
           "xaxis": "x",
           "y": [
            64073
           ],
           "yaxis": "y"
          },
          {
           "customdata": [
            [
             10
            ]
           ],
           "hovertemplate": "<b>%{hovertext}</b><br><br>Product=335--Electrical Equipment, Appliances & Components<br>Year=2014<br>Import=%{x}<br>Export=%{y}<br>Size=%{marker.size}<br>Rank=%{customdata[0]}<extra></extra>",
           "hovertext": [
            "335--Electrical Equipment, Appliances & Components"
           ],
           "legendgroup": "335--Electrical Equipment, Appliances & Components",
           "marker": {
            "color": "#636efa",
            "size": [
             60.614
            ],
            "sizemode": "area",
            "sizeref": 0.7372475000000001,
            "symbol": "circle"
           },
           "mode": "markers",
           "name": "335--Electrical Equipment, Appliances & Components",
           "orientation": "v",
           "showlegend": true,
           "type": "scatter",
           "x": [
            100211
           ],
           "xaxis": "x",
           "y": [
            60614
           ],
           "yaxis": "y"
          }
         ],
         "name": "2014"
        },
        {
         "data": [
          {
           "customdata": [
            [
             1
            ]
           ],
           "hovertemplate": "<b>%{hovertext}</b><br><br>Product=336--Transportation Equipment<br>Year=2015<br>Import=%{x}<br>Export=%{y}<br>Size=%{marker.size}<br>Rank=%{customdata[0]}<extra></extra>",
           "hovertext": [
            "336--Transportation Equipment"
           ],
           "legendgroup": "336--Transportation Equipment",
           "marker": {
            "color": "#636efa",
            "size": [
             275.643
            ],
            "sizemode": "area",
            "sizeref": 0.7372475000000001,
            "symbol": "circle"
           },
           "mode": "markers",
           "name": "336--Transportation Equipment",
           "orientation": "v",
           "showlegend": true,
           "type": "scatter",
           "x": [
            379265
           ],
           "xaxis": "x",
           "y": [
            275643
           ],
           "yaxis": "y"
          },
          {
           "customdata": [
            [
             2
            ]
           ],
           "hovertemplate": "<b>%{hovertext}</b><br><br>Product=334--Computer & Electronic Products<br>Year=2015<br>Import=%{x}<br>Export=%{y}<br>Size=%{marker.size}<br>Rank=%{customdata[0]}<extra></extra>",
           "hovertext": [
            "334--Computer & Electronic Products"
           ],
           "legendgroup": "334--Computer & Electronic Products",
           "marker": {
            "color": "#EF553B",
            "size": [
             204.697
            ],
            "sizemode": "area",
            "sizeref": 0.7372475000000001,
            "symbol": "circle"
           },
           "mode": "markers",
           "name": "334--Computer & Electronic Products",
           "orientation": "v",
           "showlegend": true,
           "type": "scatter",
           "x": [
            376038
           ],
           "xaxis": "x",
           "y": [
            204697
           ],
           "yaxis": "y"
          },
          {
           "customdata": [
            [
             3
            ]
           ],
           "hovertemplate": "<b>%{hovertext}</b><br><br>Product=325--Chemicals<br>Year=2015<br>Import=%{x}<br>Export=%{y}<br>Size=%{marker.size}<br>Rank=%{customdata[0]}<extra></extra>",
           "hovertext": [
            "325--Chemicals"
           ],
           "legendgroup": "325--Chemicals",
           "marker": {
            "color": "#00cc96",
            "size": [
             193.834
            ],
            "sizemode": "area",
            "sizeref": 0.7372475000000001,
            "symbol": "circle"
           },
           "mode": "markers",
           "name": "325--Chemicals",
           "orientation": "v",
           "showlegend": true,
           "type": "scatter",
           "x": [
            213842
           ],
           "xaxis": "x",
           "y": [
            193834
           ],
           "yaxis": "y"
          },
          {
           "customdata": [
            [
             4
            ]
           ],
           "hovertemplate": "<b>%{hovertext}</b><br><br>Product=333--Machinery, Except Electrical<br>Year=2015<br>Import=%{x}<br>Export=%{y}<br>Size=%{marker.size}<br>Rank=%{customdata[0]}<extra></extra>",
           "hovertext": [
            "333--Machinery, Except Electrical"
           ],
           "legendgroup": "333--Machinery, Except Electrical",
           "marker": {
            "color": "#ab63fa",
            "size": [
             139.101
            ],
            "sizemode": "area",
            "sizeref": 0.7372475000000001,
            "symbol": "circle"
           },
           "mode": "markers",
           "name": "333--Machinery, Except Electrical",
           "orientation": "v",
           "showlegend": true,
           "type": "scatter",
           "x": [
            158568
           ],
           "xaxis": "x",
           "y": [
            139101
           ],
           "yaxis": "y"
          },
          {
           "customdata": [
            [
             6
            ]
           ],
           "hovertemplate": "<b>%{hovertext}</b><br><br>Product=339--Miscellaneous Manufactures<br>Year=2015<br>Import=%{x}<br>Export=%{y}<br>Size=%{marker.size}<br>Rank=%{customdata[0]}<extra></extra>",
           "hovertext": [
            "339--Miscellaneous Manufactures"
           ],
           "legendgroup": "339--Miscellaneous Manufactures",
           "marker": {
            "color": "#FFA15A",
            "size": [
             78.249
            ],
            "sizemode": "area",
            "sizeref": 0.7372475000000001,
            "symbol": "circle"
           },
           "mode": "markers",
           "name": "339--Miscellaneous Manufactures",
           "orientation": "v",
           "showlegend": true,
           "type": "scatter",
           "x": [
            115527
           ],
           "xaxis": "x",
           "y": [
            78249
           ],
           "yaxis": "y"
          },
          {
           "customdata": [
            [
             8
            ]
           ],
           "hovertemplate": "<b>%{hovertext}</b><br><br>Product=111--Agricultural Products<br>Year=2015<br>Import=%{x}<br>Export=%{y}<br>Size=%{marker.size}<br>Rank=%{customdata[0]}<extra></extra>",
           "hovertext": [
            "111--Agricultural Products"
           ],
           "legendgroup": "111--Agricultural Products",
           "marker": {
            "color": "#19d3f3",
            "size": [
             62.912
            ],
            "sizemode": "area",
            "sizeref": 0.7372475000000001,
            "symbol": "circle"
           },
           "mode": "markers",
           "name": "111--Agricultural Products",
           "orientation": "v",
           "showlegend": true,
           "type": "scatter",
           "x": [
            33423
           ],
           "xaxis": "x",
           "y": [
            62912
           ],
           "yaxis": "y"
          },
          {
           "customdata": [
            [
             7
            ]
           ],
           "hovertemplate": "<b>%{hovertext}</b><br><br>Product=311--Processed Foods<br>Year=2015<br>Import=%{x}<br>Export=%{y}<br>Size=%{marker.size}<br>Rank=%{customdata[0]}<extra></extra>",
           "hovertext": [
            "311--Processed Foods"
           ],
           "legendgroup": "311--Processed Foods",
           "marker": {
            "color": "#FF6692",
            "size": [
             63.205
            ],
            "sizemode": "area",
            "sizeref": 0.7372475000000001,
            "symbol": "circle"
           },
           "mode": "markers",
           "name": "311--Processed Foods",
           "orientation": "v",
           "showlegend": true,
           "type": "scatter",
           "x": [
            58505
           ],
           "xaxis": "x",
           "y": [
            63205
           ],
           "yaxis": "y"
          },
          {
           "customdata": [
            [
             5
            ]
           ],
           "hovertemplate": "<b>%{hovertext}</b><br><br>Product=324--Petroleum & Coal Products<br>Year=2015<br>Import=%{x}<br>Export=%{y}<br>Size=%{marker.size}<br>Rank=%{customdata[0]}<extra></extra>",
           "hovertext": [
            "324--Petroleum & Coal Products"
           ],
           "legendgroup": "324--Petroleum & Coal Products",
           "marker": {
            "color": "#B6E880",
            "size": [
             78.61
            ],
            "sizemode": "area",
            "sizeref": 0.7372475000000001,
            "symbol": "circle"
           },
           "mode": "markers",
           "name": "324--Petroleum & Coal Products",
           "orientation": "v",
           "showlegend": true,
           "type": "scatter",
           "x": [
            52770
           ],
           "xaxis": "x",
           "y": [
            78610
           ],
           "yaxis": "y"
          },
          {
           "customdata": [
            [
             10
            ]
           ],
           "hovertemplate": "<b>%{hovertext}</b><br><br>Product=331--Primary Metal Manufactures<br>Year=2015<br>Import=%{x}<br>Export=%{y}<br>Size=%{marker.size}<br>Rank=%{customdata[0]}<extra></extra>",
           "hovertext": [
            "331--Primary Metal Manufactures"
           ],
           "legendgroup": "331--Primary Metal Manufactures",
           "marker": {
            "color": "#FF97FF",
            "size": [
             55.716
            ],
            "sizemode": "area",
            "sizeref": 0.7372475000000001,
            "symbol": "circle"
           },
           "mode": "markers",
           "name": "331--Primary Metal Manufactures",
           "orientation": "v",
           "showlegend": true,
           "type": "scatter",
           "x": [
            84970
           ],
           "xaxis": "x",
           "y": [
            55716
           ],
           "yaxis": "y"
          },
          {
           "customdata": [
            [
             9
            ]
           ],
           "hovertemplate": "<b>%{hovertext}</b><br><br>Product=335--Electrical Equipment, Appliances & Components<br>Year=2015<br>Import=%{x}<br>Export=%{y}<br>Size=%{marker.size}<br>Rank=%{customdata[0]}<extra></extra>",
           "hovertext": [
            "335--Electrical Equipment, Appliances & Components"
           ],
           "legendgroup": "335--Electrical Equipment, Appliances & Components",
           "marker": {
            "color": "#636efa",
            "size": [
             60.404
            ],
            "sizemode": "area",
            "sizeref": 0.7372475000000001,
            "symbol": "circle"
           },
           "mode": "markers",
           "name": "335--Electrical Equipment, Appliances & Components",
           "orientation": "v",
           "showlegend": true,
           "type": "scatter",
           "x": [
            104250
           ],
           "xaxis": "x",
           "y": [
            60404
           ],
           "yaxis": "y"
          }
         ],
         "name": "2015"
        },
        {
         "data": [
          {
           "customdata": [
            [
             1
            ]
           ],
           "hovertemplate": "<b>%{hovertext}</b><br><br>Product=336--Transportation Equipment<br>Year=2016<br>Import=%{x}<br>Export=%{y}<br>Size=%{marker.size}<br>Rank=%{customdata[0]}<extra></extra>",
           "hovertext": [
            "336--Transportation Equipment"
           ],
           "legendgroup": "336--Transportation Equipment",
           "marker": {
            "color": "#636efa",
            "size": [
             276.796
            ],
            "sizemode": "area",
            "sizeref": 0.7372475000000001,
            "symbol": "circle"
           },
           "mode": "markers",
           "name": "336--Transportation Equipment",
           "orientation": "v",
           "showlegend": true,
           "type": "scatter",
           "x": [
            374773
           ],
           "xaxis": "x",
           "y": [
            276796
           ],
           "yaxis": "y"
          },
          {
           "customdata": [
            [
             2
            ]
           ],
           "hovertemplate": "<b>%{hovertext}</b><br><br>Product=334--Computer & Electronic Products<br>Year=2016<br>Import=%{x}<br>Export=%{y}<br>Size=%{marker.size}<br>Rank=%{customdata[0]}<extra></extra>",
           "hovertext": [
            "334--Computer & Electronic Products"
           ],
           "legendgroup": "334--Computer & Electronic Products",
           "marker": {
            "color": "#EF553B",
            "size": [
             201.759
            ],
            "sizemode": "area",
            "sizeref": 0.7372475000000001,
            "symbol": "circle"
           },
           "mode": "markers",
           "name": "334--Computer & Electronic Products",
           "orientation": "v",
           "showlegend": true,
           "type": "scatter",
           "x": [
            372664
           ],
           "xaxis": "x",
           "y": [
            201759
           ],
           "yaxis": "y"
          },
          {
           "customdata": [
            [
             3
            ]
           ],
           "hovertemplate": "<b>%{hovertext}</b><br><br>Product=325--Chemicals<br>Year=2016<br>Import=%{x}<br>Export=%{y}<br>Size=%{marker.size}<br>Rank=%{customdata[0]}<extra></extra>",
           "hovertext": [
            "325--Chemicals"
           ],
           "legendgroup": "325--Chemicals",
           "marker": {
            "color": "#00cc96",
            "size": [
             184.376
            ],
            "sizemode": "area",
            "sizeref": 0.7372475000000001,
            "symbol": "circle"
           },
           "mode": "markers",
           "name": "325--Chemicals",
           "orientation": "v",
           "showlegend": true,
           "type": "scatter",
           "x": [
            214695
           ],
           "xaxis": "x",
           "y": [
            184376
           ],
           "yaxis": "y"
          },
          {
           "customdata": [
            [
             4
            ]
           ],
           "hovertemplate": "<b>%{hovertext}</b><br><br>Product=333--Machinery, Except Electrical<br>Year=2016<br>Import=%{x}<br>Export=%{y}<br>Size=%{marker.size}<br>Rank=%{customdata[0]}<extra></extra>",
           "hovertext": [
            "333--Machinery, Except Electrical"
           ],
           "legendgroup": "333--Machinery, Except Electrical",
           "marker": {
            "color": "#ab63fa",
            "size": [
             124.946
            ],
            "sizemode": "area",
            "sizeref": 0.7372475000000001,
            "symbol": "circle"
           },
           "mode": "markers",
           "name": "333--Machinery, Except Electrical",
           "orientation": "v",
           "showlegend": true,
           "type": "scatter",
           "x": [
            151622
           ],
           "xaxis": "x",
           "y": [
            124946
           ],
           "yaxis": "y"
          },
          {
           "customdata": [
            [
             5
            ]
           ],
           "hovertemplate": "<b>%{hovertext}</b><br><br>Product=339--Miscellaneous Manufactures<br>Year=2016<br>Import=%{x}<br>Export=%{y}<br>Size=%{marker.size}<br>Rank=%{customdata[0]}<extra></extra>",
           "hovertext": [
            "339--Miscellaneous Manufactures"
           ],
           "legendgroup": "339--Miscellaneous Manufactures",
           "marker": {
            "color": "#FFA15A",
            "size": [
             78.419
            ],
            "sizemode": "area",
            "sizeref": 0.7372475000000001,
            "symbol": "circle"
           },
           "mode": "markers",
           "name": "339--Miscellaneous Manufactures",
           "orientation": "v",
           "showlegend": true,
           "type": "scatter",
           "x": [
            118343
           ],
           "xaxis": "x",
           "y": [
            78419
           ],
           "yaxis": "y"
          },
          {
           "customdata": [
            [
             6
            ]
           ],
           "hovertemplate": "<b>%{hovertext}</b><br><br>Product=111--Agricultural Products<br>Year=2016<br>Import=%{x}<br>Export=%{y}<br>Size=%{marker.size}<br>Rank=%{customdata[0]}<extra></extra>",
           "hovertext": [
            "111--Agricultural Products"
           ],
           "legendgroup": "111--Agricultural Products",
           "marker": {
            "color": "#19d3f3",
            "size": [
             67.578
            ],
            "sizemode": "area",
            "sizeref": 0.7372475000000001,
            "symbol": "circle"
           },
           "mode": "markers",
           "name": "111--Agricultural Products",
           "orientation": "v",
           "showlegend": true,
           "type": "scatter",
           "x": [
            35000
           ],
           "xaxis": "x",
           "y": [
            67578
           ],
           "yaxis": "y"
          },
          {
           "customdata": [
            [
             8
            ]
           ],
           "hovertemplate": "<b>%{hovertext}</b><br><br>Product=311--Processed Foods<br>Year=2016<br>Import=%{x}<br>Export=%{y}<br>Size=%{marker.size}<br>Rank=%{customdata[0]}<extra></extra>",
           "hovertext": [
            "311--Processed Foods"
           ],
           "legendgroup": "311--Processed Foods",
           "marker": {
            "color": "#FF6692",
            "size": [
             61.507
            ],
            "sizemode": "area",
            "sizeref": 0.7372475000000001,
            "symbol": "circle"
           },
           "mode": "markers",
           "name": "311--Processed Foods",
           "orientation": "v",
           "showlegend": true,
           "type": "scatter",
           "x": [
            57933
           ],
           "xaxis": "x",
           "y": [
            61507
           ],
           "yaxis": "y"
          },
          {
           "customdata": [
            [
             7
            ]
           ],
           "hovertemplate": "<b>%{hovertext}</b><br><br>Product=324--Petroleum & Coal Products<br>Year=2016<br>Import=%{x}<br>Export=%{y}<br>Size=%{marker.size}<br>Rank=%{customdata[0]}<extra></extra>",
           "hovertext": [
            "324--Petroleum & Coal Products"
           ],
           "legendgroup": "324--Petroleum & Coal Products",
           "marker": {
            "color": "#B6E880",
            "size": [
             66.925
            ],
            "sizemode": "area",
            "sizeref": 0.7372475000000001,
            "symbol": "circle"
           },
           "mode": "markers",
           "name": "324--Petroleum & Coal Products",
           "orientation": "v",
           "showlegend": true,
           "type": "scatter",
           "x": [
            42098
           ],
           "xaxis": "x",
           "y": [
            66925
           ],
           "yaxis": "y"
          },
          {
           "customdata": [
            [
             10
            ]
           ],
           "hovertemplate": "<b>%{hovertext}</b><br><br>Product=331--Primary Metal Manufactures<br>Year=2016<br>Import=%{x}<br>Export=%{y}<br>Size=%{marker.size}<br>Rank=%{customdata[0]}<extra></extra>",
           "hovertext": [
            "331--Primary Metal Manufactures"
           ],
           "legendgroup": "331--Primary Metal Manufactures",
           "marker": {
            "color": "#FF97FF",
            "size": [
             51.844
            ],
            "sizemode": "area",
            "sizeref": 0.7372475000000001,
            "symbol": "circle"
           },
           "mode": "markers",
           "name": "331--Primary Metal Manufactures",
           "orientation": "v",
           "showlegend": true,
           "type": "scatter",
           "x": [
            79982
           ],
           "xaxis": "x",
           "y": [
            51844
           ],
           "yaxis": "y"
          },
          {
           "customdata": [
            [
             9
            ]
           ],
           "hovertemplate": "<b>%{hovertext}</b><br><br>Product=335--Electrical Equipment, Appliances & Components<br>Year=2016<br>Import=%{x}<br>Export=%{y}<br>Size=%{marker.size}<br>Rank=%{customdata[0]}<extra></extra>",
           "hovertext": [
            "335--Electrical Equipment, Appliances & Components"
           ],
           "legendgroup": "335--Electrical Equipment, Appliances & Components",
           "marker": {
            "color": "#636efa",
            "size": [
             57.093
            ],
            "sizemode": "area",
            "sizeref": 0.7372475000000001,
            "symbol": "circle"
           },
           "mode": "markers",
           "name": "335--Electrical Equipment, Appliances & Components",
           "orientation": "v",
           "showlegend": true,
           "type": "scatter",
           "x": [
            104133
           ],
           "xaxis": "x",
           "y": [
            57093
           ],
           "yaxis": "y"
          }
         ],
         "name": "2016"
        },
        {
         "data": [
          {
           "customdata": [
            [
             1
            ]
           ],
           "hovertemplate": "<b>%{hovertext}</b><br><br>Product=336--Transportation Equipment<br>Year=2017<br>Import=%{x}<br>Export=%{y}<br>Size=%{marker.size}<br>Rank=%{customdata[0]}<extra></extra>",
           "hovertext": [
            "336--Transportation Equipment"
           ],
           "legendgroup": "336--Transportation Equipment",
           "marker": {
            "color": "#636efa",
            "size": [
             278.492
            ],
            "sizemode": "area",
            "sizeref": 0.7372475000000001,
            "symbol": "circle"
           },
           "mode": "markers",
           "name": "336--Transportation Equipment",
           "orientation": "v",
           "showlegend": true,
           "type": "scatter",
           "x": [
            384971
           ],
           "xaxis": "x",
           "y": [
            278492
           ],
           "yaxis": "y"
          },
          {
           "customdata": [
            [
             2
            ]
           ],
           "hovertemplate": "<b>%{hovertext}</b><br><br>Product=334--Computer & Electronic Products<br>Year=2017<br>Import=%{x}<br>Export=%{y}<br>Size=%{marker.size}<br>Rank=%{customdata[0]}<extra></extra>",
           "hovertext": [
            "334--Computer & Electronic Products"
           ],
           "legendgroup": "334--Computer & Electronic Products",
           "marker": {
            "color": "#EF553B",
            "size": [
             208.234
            ],
            "sizemode": "area",
            "sizeref": 0.7372475000000001,
            "symbol": "circle"
           },
           "mode": "markers",
           "name": "334--Computer & Electronic Products",
           "orientation": "v",
           "showlegend": true,
           "type": "scatter",
           "x": [
            400123
           ],
           "xaxis": "x",
           "y": [
            208234
           ],
           "yaxis": "y"
          },
          {
           "customdata": [
            [
             3
            ]
           ],
           "hovertemplate": "<b>%{hovertext}</b><br><br>Product=325--Chemicals<br>Year=2017<br>Import=%{x}<br>Export=%{y}<br>Size=%{marker.size}<br>Rank=%{customdata[0]}<extra></extra>",
           "hovertext": [
            "325--Chemicals"
           ],
           "legendgroup": "325--Chemicals",
           "marker": {
            "color": "#00cc96",
            "size": [
             192.785
            ],
            "sizemode": "area",
            "sizeref": 0.7372475000000001,
            "symbol": "circle"
           },
           "mode": "markers",
           "name": "325--Chemicals",
           "orientation": "v",
           "showlegend": true,
           "type": "scatter",
           "x": [
            217956
           ],
           "xaxis": "x",
           "y": [
            192785
           ],
           "yaxis": "y"
          },
          {
           "customdata": [
            [
             4
            ]
           ],
           "hovertemplate": "<b>%{hovertext}</b><br><br>Product=333--Machinery, Except Electrical<br>Year=2017<br>Import=%{x}<br>Export=%{y}<br>Size=%{marker.size}<br>Rank=%{customdata[0]}<extra></extra>",
           "hovertext": [
            "333--Machinery, Except Electrical"
           ],
           "legendgroup": "333--Machinery, Except Electrical",
           "marker": {
            "color": "#ab63fa",
            "size": [
             133.991
            ],
            "sizemode": "area",
            "sizeref": 0.7372475000000001,
            "symbol": "circle"
           },
           "mode": "markers",
           "name": "333--Machinery, Except Electrical",
           "orientation": "v",
           "showlegend": true,
           "type": "scatter",
           "x": [
            169009
           ],
           "xaxis": "x",
           "y": [
            133991
           ],
           "yaxis": "y"
          },
          {
           "customdata": [
            [
             6
            ]
           ],
           "hovertemplate": "<b>%{hovertext}</b><br><br>Product=339--Miscellaneous Manufactures<br>Year=2017<br>Import=%{x}<br>Export=%{y}<br>Size=%{marker.size}<br>Rank=%{customdata[0]}<extra></extra>",
           "hovertext": [
            "339--Miscellaneous Manufactures"
           ],
           "legendgroup": "339--Miscellaneous Manufactures",
           "marker": {
            "color": "#FFA15A",
            "size": [
             80.383
            ],
            "sizemode": "area",
            "sizeref": 0.7372475000000001,
            "symbol": "circle"
           },
           "mode": "markers",
           "name": "339--Miscellaneous Manufactures",
           "orientation": "v",
           "showlegend": true,
           "type": "scatter",
           "x": [
            121248
           ],
           "xaxis": "x",
           "y": [
            80383
           ],
           "yaxis": "y"
          },
          {
           "customdata": [
            [
             7
            ]
           ],
           "hovertemplate": "<b>%{hovertext}</b><br><br>Product=111--Agricultural Products<br>Year=2017<br>Import=%{x}<br>Export=%{y}<br>Size=%{marker.size}<br>Rank=%{customdata[0]}<extra></extra>",
           "hovertext": [
            "111--Agricultural Products"
           ],
           "legendgroup": "111--Agricultural Products",
           "marker": {
            "color": "#19d3f3",
            "size": [
             68.726
            ],
            "sizemode": "area",
            "sizeref": 0.7372475000000001,
            "symbol": "circle"
           },
           "mode": "markers",
           "name": "111--Agricultural Products",
           "orientation": "v",
           "showlegend": true,
           "type": "scatter",
           "x": [
            37102
           ],
           "xaxis": "x",
           "y": [
            68726
           ],
           "yaxis": "y"
          },
          {
           "customdata": [
            [
             8
            ]
           ],
           "hovertemplate": "<b>%{hovertext}</b><br><br>Product=311--Processed Foods<br>Year=2017<br>Import=%{x}<br>Export=%{y}<br>Size=%{marker.size}<br>Rank=%{customdata[0]}<extra></extra>",
           "hovertext": [
            "311--Processed Foods"
           ],
           "legendgroup": "311--Processed Foods",
           "marker": {
            "color": "#FF6692",
            "size": [
             64.06
            ],
            "sizemode": "area",
            "sizeref": 0.7372475000000001,
            "symbol": "circle"
           },
           "mode": "markers",
           "name": "311--Processed Foods",
           "orientation": "v",
           "showlegend": true,
           "type": "scatter",
           "x": [
            60866
           ],
           "xaxis": "x",
           "y": [
            64060
           ],
           "yaxis": "y"
          },
          {
           "customdata": [
            [
             5
            ]
           ],
           "hovertemplate": "<b>%{hovertext}</b><br><br>Product=324--Petroleum & Coal Products<br>Year=2017<br>Import=%{x}<br>Export=%{y}<br>Size=%{marker.size}<br>Rank=%{customdata[0]}<extra></extra>",
           "hovertext": [
            "324--Petroleum & Coal Products"
           ],
           "legendgroup": "324--Petroleum & Coal Products",
           "marker": {
            "color": "#B6E880",
            "size": [
             84.17
            ],
            "sizemode": "area",
            "sizeref": 0.7372475000000001,
            "symbol": "circle"
           },
           "mode": "markers",
           "name": "324--Petroleum & Coal Products",
           "orientation": "v",
           "showlegend": true,
           "type": "scatter",
           "x": [
            49592
           ],
           "xaxis": "x",
           "y": [
            84170
           ],
           "yaxis": "y"
          },
          {
           "customdata": [
            [
             10
            ]
           ],
           "hovertemplate": "<b>%{hovertext}</b><br><br>Product=331--Primary Metal Manufactures<br>Year=2017<br>Import=%{x}<br>Export=%{y}<br>Size=%{marker.size}<br>Rank=%{customdata[0]}<extra></extra>",
           "hovertext": [
            "331--Primary Metal Manufactures"
           ],
           "legendgroup": "331--Primary Metal Manufactures",
           "marker": {
            "color": "#FF97FF",
            "size": [
             56.506
            ],
            "sizemode": "area",
            "sizeref": 0.7372475000000001,
            "symbol": "circle"
           },
           "mode": "markers",
           "name": "331--Primary Metal Manufactures",
           "orientation": "v",
           "showlegend": true,
           "type": "scatter",
           "x": [
            91899
           ],
           "xaxis": "x",
           "y": [
            56506
           ],
           "yaxis": "y"
          },
          {
           "customdata": [
            [
             9
            ]
           ],
           "hovertemplate": "<b>%{hovertext}</b><br><br>Product=335--Electrical Equipment, Appliances & Components<br>Year=2017<br>Import=%{x}<br>Export=%{y}<br>Size=%{marker.size}<br>Rank=%{customdata[0]}<extra></extra>",
           "hovertext": [
            "335--Electrical Equipment, Appliances & Components"
           ],
           "legendgroup": "335--Electrical Equipment, Appliances & Components",
           "marker": {
            "color": "#636efa",
            "size": [
             59.606
            ],
            "sizemode": "area",
            "sizeref": 0.7372475000000001,
            "symbol": "circle"
           },
           "mode": "markers",
           "name": "335--Electrical Equipment, Appliances & Components",
           "orientation": "v",
           "showlegend": true,
           "type": "scatter",
           "x": [
            113662
           ],
           "xaxis": "x",
           "y": [
            59606
           ],
           "yaxis": "y"
          }
         ],
         "name": "2017"
        },
        {
         "data": [
          {
           "customdata": [
            [
             1
            ]
           ],
           "hovertemplate": "<b>%{hovertext}</b><br><br>Product=336--Transportation Equipment<br>Year=2018<br>Import=%{x}<br>Export=%{y}<br>Size=%{marker.size}<br>Rank=%{customdata[0]}<extra></extra>",
           "hovertext": [
            "336--Transportation Equipment"
           ],
           "legendgroup": "336--Transportation Equipment",
           "marker": {
            "color": "#636efa",
            "size": [
             286.546
            ],
            "sizemode": "area",
            "sizeref": 0.7372475000000001,
            "symbol": "circle"
           },
           "mode": "markers",
           "name": "336--Transportation Equipment",
           "orientation": "v",
           "showlegend": true,
           "type": "scatter",
           "x": [
            401717
           ],
           "xaxis": "x",
           "y": [
            286546
           ],
           "yaxis": "y"
          },
          {
           "customdata": [
            [
             2
            ]
           ],
           "hovertemplate": "<b>%{hovertext}</b><br><br>Product=334--Computer & Electronic Products<br>Year=2018<br>Import=%{x}<br>Export=%{y}<br>Size=%{marker.size}<br>Rank=%{customdata[0]}<extra></extra>",
           "hovertext": [
            "334--Computer & Electronic Products"
           ],
           "legendgroup": "334--Computer & Electronic Products",
           "marker": {
            "color": "#EF553B",
            "size": [
             213.593
            ],
            "sizemode": "area",
            "sizeref": 0.7372475000000001,
            "symbol": "circle"
           },
           "mode": "markers",
           "name": "334--Computer & Electronic Products",
           "orientation": "v",
           "showlegend": true,
           "type": "scatter",
           "x": [
            413017
           ],
           "xaxis": "x",
           "y": [
            213593
           ],
           "yaxis": "y"
          },
          {
           "customdata": [
            [
             3
            ]
           ],
           "hovertemplate": "<b>%{hovertext}</b><br><br>Product=325--Chemicals<br>Year=2018<br>Import=%{x}<br>Export=%{y}<br>Size=%{marker.size}<br>Rank=%{customdata[0]}<extra></extra>",
           "hovertext": [
            "325--Chemicals"
           ],
           "legendgroup": "325--Chemicals",
           "marker": {
            "color": "#00cc96",
            "size": [
             207.409
            ],
            "sizemode": "area",
            "sizeref": 0.7372475000000001,
            "symbol": "circle"
           },
           "mode": "markers",
           "name": "325--Chemicals",
           "orientation": "v",
           "showlegend": true,
           "type": "scatter",
           "x": [
            252619
           ],
           "xaxis": "x",
           "y": [
            207409
           ],
           "yaxis": "y"
          },
          {
           "customdata": [
            [
             4
            ]
           ],
           "hovertemplate": "<b>%{hovertext}</b><br><br>Product=333--Machinery, Except Electrical<br>Year=2018<br>Import=%{x}<br>Export=%{y}<br>Size=%{marker.size}<br>Rank=%{customdata[0]}<extra></extra>",
           "hovertext": [
            "333--Machinery, Except Electrical"
           ],
           "legendgroup": "333--Machinery, Except Electrical",
           "marker": {
            "color": "#ab63fa",
            "size": [
             142.736
            ],
            "sizemode": "area",
            "sizeref": 0.7372475000000001,
            "symbol": "circle"
           },
           "mode": "markers",
           "name": "333--Machinery, Except Electrical",
           "orientation": "v",
           "showlegend": true,
           "type": "scatter",
           "x": [
            187950
           ],
           "xaxis": "x",
           "y": [
            142736
           ],
           "yaxis": "y"
          },
          {
           "customdata": [
            [
             6
            ]
           ],
           "hovertemplate": "<b>%{hovertext}</b><br><br>Product=339--Miscellaneous Manufactures<br>Year=2018<br>Import=%{x}<br>Export=%{y}<br>Size=%{marker.size}<br>Rank=%{customdata[0]}<extra></extra>",
           "hovertext": [
            "339--Miscellaneous Manufactures"
           ],
           "legendgroup": "339--Miscellaneous Manufactures",
           "marker": {
            "color": "#FFA15A",
            "size": [
             83.884
            ],
            "sizemode": "area",
            "sizeref": 0.7372475000000001,
            "symbol": "circle"
           },
           "mode": "markers",
           "name": "339--Miscellaneous Manufactures",
           "orientation": "v",
           "showlegend": true,
           "type": "scatter",
           "x": [
            128574
           ],
           "xaxis": "x",
           "y": [
            83884
           ],
           "yaxis": "y"
          },
          {
           "customdata": [
            [
             8
            ]
           ],
           "hovertemplate": "<b>%{hovertext}</b><br><br>Product=111--Agricultural Products<br>Year=2018<br>Import=%{x}<br>Export=%{y}<br>Size=%{marker.size}<br>Rank=%{customdata[0]}<extra></extra>",
           "hovertext": [
            "111--Agricultural Products"
           ],
           "legendgroup": "111--Agricultural Products",
           "marker": {
            "color": "#19d3f3",
            "size": [
             67.116
            ],
            "sizemode": "area",
            "sizeref": 0.7372475000000001,
            "symbol": "circle"
           },
           "mode": "markers",
           "name": "111--Agricultural Products",
           "orientation": "v",
           "showlegend": true,
           "type": "scatter",
           "x": [
            37849
           ],
           "xaxis": "x",
           "y": [
            67116
           ],
           "yaxis": "y"
          },
          {
           "customdata": [
            [
             9
            ]
           ],
           "hovertemplate": "<b>%{hovertext}</b><br><br>Product=311--Processed Foods<br>Year=2018<br>Import=%{x}<br>Export=%{y}<br>Size=%{marker.size}<br>Rank=%{customdata[0]}<extra></extra>",
           "hovertext": [
            "311--Processed Foods"
           ],
           "legendgroup": "311--Processed Foods",
           "marker": {
            "color": "#FF6692",
            "size": [
             66.39
            ],
            "sizemode": "area",
            "sizeref": 0.7372475000000001,
            "symbol": "circle"
           },
           "mode": "markers",
           "name": "311--Processed Foods",
           "orientation": "v",
           "showlegend": true,
           "type": "scatter",
           "x": [
            67302
           ],
           "xaxis": "x",
           "y": [
            66390
           ],
           "yaxis": "y"
          },
          {
           "customdata": [
            [
             5
            ]
           ],
           "hovertemplate": "<b>%{hovertext}</b><br><br>Product=324--Petroleum & Coal Products<br>Year=2018<br>Import=%{x}<br>Export=%{y}<br>Size=%{marker.size}<br>Rank=%{customdata[0]}<extra></extra>",
           "hovertext": [
            "324--Petroleum & Coal Products"
           ],
           "legendgroup": "324--Petroleum & Coal Products",
           "marker": {
            "color": "#B6E880",
            "size": [
             103.915
            ],
            "sizemode": "area",
            "sizeref": 0.7372475000000001,
            "symbol": "circle"
           },
           "mode": "markers",
           "name": "324--Petroleum & Coal Products",
           "orientation": "v",
           "showlegend": true,
           "type": "scatter",
           "x": [
            63742
           ],
           "xaxis": "x",
           "y": [
            103915
           ],
           "yaxis": "y"
          },
          {
           "customdata": [
            [
             10
            ]
           ],
           "hovertemplate": "<b>%{hovertext}</b><br><br>Product=335--Electrical Equipment, Appliances & Components<br>Year=2018<br>Import=%{x}<br>Export=%{y}<br>Size=%{marker.size}<br>Rank=%{customdata[0]}<extra></extra>",
           "hovertext": [
            "335--Electrical Equipment, Appliances & Components"
           ],
           "legendgroup": "335--Electrical Equipment, Appliances & Components",
           "marker": {
            "color": "#636efa",
            "size": [
             62.682
            ],
            "sizemode": "area",
            "sizeref": 0.7372475000000001,
            "symbol": "circle"
           },
           "mode": "markers",
           "name": "335--Electrical Equipment, Appliances & Components",
           "orientation": "v",
           "showlegend": true,
           "type": "scatter",
           "x": [
            125199
           ],
           "xaxis": "x",
           "y": [
            62682
           ],
           "yaxis": "y"
          },
          {
           "customdata": [
            [
             7
            ]
           ],
           "hovertemplate": "<b>%{hovertext}</b><br><br>Product=211--Oil & Gas<br>Year=2018<br>Import=%{x}<br>Export=%{y}<br>Size=%{marker.size}<br>Rank=%{customdata[0]}<extra></extra>",
           "hovertext": [
            "211--Oil & Gas"
           ],
           "legendgroup": "211--Oil & Gas",
           "marker": {
            "color": "#EF553B",
            "size": [
             76.479
            ],
            "sizemode": "area",
            "sizeref": 0.7372475000000001,
            "symbol": "circle"
           },
           "mode": "markers",
           "name": "211--Oil & Gas",
           "orientation": "v",
           "showlegend": true,
           "type": "scatter",
           "x": [
            166768
           ],
           "xaxis": "x",
           "y": [
            76479
           ],
           "yaxis": "y"
          }
         ],
         "name": "2018"
        },
        {
         "data": [
          {
           "customdata": [
            [
             1
            ]
           ],
           "hovertemplate": "<b>%{hovertext}</b><br><br>Product=336--Transportation Equipment<br>Year=2019<br>Import=%{x}<br>Export=%{y}<br>Size=%{marker.size}<br>Rank=%{customdata[0]}<extra></extra>",
           "hovertext": [
            "336--Transportation Equipment"
           ],
           "legendgroup": "336--Transportation Equipment",
           "marker": {
            "color": "#636efa",
            "size": [
             287.261
            ],
            "sizemode": "area",
            "sizeref": 0.7372475000000001,
            "symbol": "circle"
           },
           "mode": "markers",
           "name": "336--Transportation Equipment",
           "orientation": "v",
           "showlegend": true,
           "type": "scatter",
           "x": [
            411452
           ],
           "xaxis": "x",
           "y": [
            287261
           ],
           "yaxis": "y"
          },
          {
           "customdata": [
            [
             2
            ]
           ],
           "hovertemplate": "<b>%{hovertext}</b><br><br>Product=334--Computer & Electronic Products<br>Year=2019<br>Import=%{x}<br>Export=%{y}<br>Size=%{marker.size}<br>Rank=%{customdata[0]}<extra></extra>",
           "hovertext": [
            "334--Computer & Electronic Products"
           ],
           "legendgroup": "334--Computer & Electronic Products",
           "marker": {
            "color": "#EF553B",
            "size": [
             211.454
            ],
            "sizemode": "area",
            "sizeref": 0.7372475000000001,
            "symbol": "circle"
           },
           "mode": "markers",
           "name": "334--Computer & Electronic Products",
           "orientation": "v",
           "showlegend": true,
           "type": "scatter",
           "x": [
            388491
           ],
           "xaxis": "x",
           "y": [
            211454
           ],
           "yaxis": "y"
          },
          {
           "customdata": [
            [
             3
            ]
           ],
           "hovertemplate": "<b>%{hovertext}</b><br><br>Product=325--Chemicals<br>Year=2019<br>Import=%{x}<br>Export=%{y}<br>Size=%{marker.size}<br>Rank=%{customdata[0]}<extra></extra>",
           "hovertext": [
            "325--Chemicals"
           ],
           "legendgroup": "325--Chemicals",
           "marker": {
            "color": "#00cc96",
            "size": [
             208.793
            ],
            "sizemode": "area",
            "sizeref": 0.7372475000000001,
            "symbol": "circle"
           },
           "mode": "markers",
           "name": "325--Chemicals",
           "orientation": "v",
           "showlegend": true,
           "type": "scatter",
           "x": [
            261550
           ],
           "xaxis": "x",
           "y": [
            208793
           ],
           "yaxis": "y"
          },
          {
           "customdata": [
            [
             4
            ]
           ],
           "hovertemplate": "<b>%{hovertext}</b><br><br>Product=333--Machinery, Except Electrical<br>Year=2019<br>Import=%{x}<br>Export=%{y}<br>Size=%{marker.size}<br>Rank=%{customdata[0]}<extra></extra>",
           "hovertext": [
            "333--Machinery, Except Electrical"
           ],
           "legendgroup": "333--Machinery, Except Electrical",
           "marker": {
            "color": "#ab63fa",
            "size": [
             136.889
            ],
            "sizemode": "area",
            "sizeref": 0.7372475000000001,
            "symbol": "circle"
           },
           "mode": "markers",
           "name": "333--Machinery, Except Electrical",
           "orientation": "v",
           "showlegend": true,
           "type": "scatter",
           "x": [
            189169
           ],
           "xaxis": "x",
           "y": [
            136889
           ],
           "yaxis": "y"
          },
          {
           "customdata": [
            [
             7
            ]
           ],
           "hovertemplate": "<b>%{hovertext}</b><br><br>Product=339--Miscellaneous Manufactures<br>Year=2019<br>Import=%{x}<br>Export=%{y}<br>Size=%{marker.size}<br>Rank=%{customdata[0]}<extra></extra>",
           "hovertext": [
            "339--Miscellaneous Manufactures"
           ],
           "legendgroup": "339--Miscellaneous Manufactures",
           "marker": {
            "color": "#FFA15A",
            "size": [
             82.22
            ],
            "sizemode": "area",
            "sizeref": 0.7372475000000001,
            "symbol": "circle"
           },
           "mode": "markers",
           "name": "339--Miscellaneous Manufactures",
           "orientation": "v",
           "showlegend": true,
           "type": "scatter",
           "x": [
            127172
           ],
           "xaxis": "x",
           "y": [
            82220
           ],
           "yaxis": "y"
          },
          {
           "customdata": [
            [
             9
            ]
           ],
           "hovertemplate": "<b>%{hovertext}</b><br><br>Product=111--Agricultural Products<br>Year=2019<br>Import=%{x}<br>Export=%{y}<br>Size=%{marker.size}<br>Rank=%{customdata[0]}<extra></extra>",
           "hovertext": [
            "111--Agricultural Products"
           ],
           "legendgroup": "111--Agricultural Products",
           "marker": {
            "color": "#19d3f3",
            "size": [
             64.409
            ],
            "sizemode": "area",
            "sizeref": 0.7372475000000001,
            "symbol": "circle"
           },
           "mode": "markers",
           "name": "111--Agricultural Products",
           "orientation": "v",
           "showlegend": true,
           "type": "scatter",
           "x": [
            38493
           ],
           "xaxis": "x",
           "y": [
            64409
           ],
           "yaxis": "y"
          },
          {
           "customdata": [
            [
             8
            ]
           ],
           "hovertemplate": "<b>%{hovertext}</b><br><br>Product=311--Processed Foods<br>Year=2019<br>Import=%{x}<br>Export=%{y}<br>Size=%{marker.size}<br>Rank=%{customdata[0]}<extra></extra>",
           "hovertext": [
            "311--Processed Foods"
           ],
           "legendgroup": "311--Processed Foods",
           "marker": {
            "color": "#FF6692",
            "size": [
             66.43
            ],
            "sizemode": "area",
            "sizeref": 0.7372475000000001,
            "symbol": "circle"
           },
           "mode": "markers",
           "name": "311--Processed Foods",
           "orientation": "v",
           "showlegend": true,
           "type": "scatter",
           "x": [
            68644
           ],
           "xaxis": "x",
           "y": [
            66430
           ],
           "yaxis": "y"
          },
          {
           "customdata": [
            [
             6
            ]
           ],
           "hovertemplate": "<b>%{hovertext}</b><br><br>Product=324--Petroleum & Coal Products<br>Year=2019<br>Import=%{x}<br>Export=%{y}<br>Size=%{marker.size}<br>Rank=%{customdata[0]}<extra></extra>",
           "hovertext": [
            "324--Petroleum & Coal Products"
           ],
           "legendgroup": "324--Petroleum & Coal Products",
           "marker": {
            "color": "#B6E880",
            "size": [
             93.882
            ],
            "sizemode": "area",
            "sizeref": 0.7372475000000001,
            "symbol": "circle"
           },
           "mode": "markers",
           "name": "324--Petroleum & Coal Products",
           "orientation": "v",
           "showlegend": true,
           "type": "scatter",
           "x": [
            63294
           ],
           "xaxis": "x",
           "y": [
            93882
           ],
           "yaxis": "y"
          },
          {
           "customdata": [
            [
             10
            ]
           ],
           "hovertemplate": "<b>%{hovertext}</b><br><br>Product=335--Electrical Equipment, Appliances & Components<br>Year=2019<br>Import=%{x}<br>Export=%{y}<br>Size=%{marker.size}<br>Rank=%{customdata[0]}<extra></extra>",
           "hovertext": [
            "335--Electrical Equipment, Appliances & Components"
           ],
           "legendgroup": "335--Electrical Equipment, Appliances & Components",
           "marker": {
            "color": "#636efa",
            "size": [
             61.186
            ],
            "sizemode": "area",
            "sizeref": 0.7372475000000001,
            "symbol": "circle"
           },
           "mode": "markers",
           "name": "335--Electrical Equipment, Appliances & Components",
           "orientation": "v",
           "showlegend": true,
           "type": "scatter",
           "x": [
            124106
           ],
           "xaxis": "x",
           "y": [
            61186
           ],
           "yaxis": "y"
          },
          {
           "customdata": [
            [
             5
            ]
           ],
           "hovertemplate": "<b>%{hovertext}</b><br><br>Product=211--Oil & Gas<br>Year=2019<br>Import=%{x}<br>Export=%{y}<br>Size=%{marker.size}<br>Rank=%{customdata[0]}<extra></extra>",
           "hovertext": [
            "211--Oil & Gas"
           ],
           "legendgroup": "211--Oil & Gas",
           "marker": {
            "color": "#EF553B",
            "size": [
             95.318
            ],
            "sizemode": "area",
            "sizeref": 0.7372475000000001,
            "symbol": "circle"
           },
           "mode": "markers",
           "name": "211--Oil & Gas",
           "orientation": "v",
           "showlegend": true,
           "type": "scatter",
           "x": [
            135436
           ],
           "xaxis": "x",
           "y": [
            95318
           ],
           "yaxis": "y"
          }
         ],
         "name": "2019"
        },
        {
         "data": [
          {
           "customdata": [
            [
             1
            ]
           ],
           "hovertemplate": "<b>%{hovertext}</b><br><br>Product=336--Transportation Equipment<br>Year=2020<br>Import=%{x}<br>Export=%{y}<br>Size=%{marker.size}<br>Rank=%{customdata[0]}<extra></extra>",
           "hovertext": [
            "336--Transportation Equipment"
           ],
           "legendgroup": "336--Transportation Equipment",
           "marker": {
            "color": "#636efa",
            "size": [
             200.612
            ],
            "sizemode": "area",
            "sizeref": 0.7372475000000001,
            "symbol": "circle"
           },
           "mode": "markers",
           "name": "336--Transportation Equipment",
           "orientation": "v",
           "showlegend": true,
           "type": "scatter",
           "x": [
            332211
           ],
           "xaxis": "x",
           "y": [
            200612
           ],
           "yaxis": "y"
          },
          {
           "customdata": [
            [
             2
            ]
           ],
           "hovertemplate": "<b>%{hovertext}</b><br><br>Product=334--Computer & Electronic Products<br>Year=2020<br>Import=%{x}<br>Export=%{y}<br>Size=%{marker.size}<br>Rank=%{customdata[0]}<extra></extra>",
           "hovertext": [
            "334--Computer & Electronic Products"
           ],
           "legendgroup": "334--Computer & Electronic Products",
           "marker": {
            "color": "#EF553B",
            "size": [
             199.634
            ],
            "sizemode": "area",
            "sizeref": 0.7372475000000001,
            "symbol": "circle"
           },
           "mode": "markers",
           "name": "334--Computer & Electronic Products",
           "orientation": "v",
           "showlegend": true,
           "type": "scatter",
           "x": [
            392197
           ],
           "xaxis": "x",
           "y": [
            199634
           ],
           "yaxis": "y"
          },
          {
           "customdata": [
            [
             3
            ]
           ],
           "hovertemplate": "<b>%{hovertext}</b><br><br>Product=325--Chemicals<br>Year=2020<br>Import=%{x}<br>Export=%{y}<br>Size=%{marker.size}<br>Rank=%{customdata[0]}<extra></extra>",
           "hovertext": [
            "325--Chemicals"
           ],
           "legendgroup": "325--Chemicals",
           "marker": {
            "color": "#00cc96",
            "size": [
             197.825
            ],
            "sizemode": "area",
            "sizeref": 0.7372475000000001,
            "symbol": "circle"
           },
           "mode": "markers",
           "name": "325--Chemicals",
           "orientation": "v",
           "showlegend": true,
           "type": "scatter",
           "x": [
            271204
           ],
           "xaxis": "x",
           "y": [
            197825
           ],
           "yaxis": "y"
          },
          {
           "customdata": [
            [
             4
            ]
           ],
           "hovertemplate": "<b>%{hovertext}</b><br><br>Product=333--Machinery, Except Electrical<br>Year=2020<br>Import=%{x}<br>Export=%{y}<br>Size=%{marker.size}<br>Rank=%{customdata[0]}<extra></extra>",
           "hovertext": [
            "333--Machinery, Except Electrical"
           ],
           "legendgroup": "333--Machinery, Except Electrical",
           "marker": {
            "color": "#ab63fa",
            "size": [
             123.297
            ],
            "sizemode": "area",
            "sizeref": 0.7372475000000001,
            "symbol": "circle"
           },
           "mode": "markers",
           "name": "333--Machinery, Except Electrical",
           "orientation": "v",
           "showlegend": true,
           "type": "scatter",
           "x": [
            170299
           ],
           "xaxis": "x",
           "y": [
            123297
           ],
           "yaxis": "y"
          },
          {
           "customdata": [
            [
             8
            ]
           ],
           "hovertemplate": "<b>%{hovertext}</b><br><br>Product=339--Miscellaneous Manufactures<br>Year=2020<br>Import=%{x}<br>Export=%{y}<br>Size=%{marker.size}<br>Rank=%{customdata[0]}<extra></extra>",
           "hovertext": [
            "339--Miscellaneous Manufactures"
           ],
           "legendgroup": "339--Miscellaneous Manufactures",
           "marker": {
            "color": "#FFA15A",
            "size": [
             64.726
            ],
            "sizemode": "area",
            "sizeref": 0.7372475000000001,
            "symbol": "circle"
           },
           "mode": "markers",
           "name": "339--Miscellaneous Manufactures",
           "orientation": "v",
           "showlegend": true,
           "type": "scatter",
           "x": [
            119036
           ],
           "xaxis": "x",
           "y": [
            64726
           ],
           "yaxis": "y"
          },
          {
           "customdata": [
            [
             6
            ]
           ],
           "hovertemplate": "<b>%{hovertext}</b><br><br>Product=111--Agricultural Products<br>Year=2020<br>Import=%{x}<br>Export=%{y}<br>Size=%{marker.size}<br>Rank=%{customdata[0]}<extra></extra>",
           "hovertext": [
            "111--Agricultural Products"
           ],
           "legendgroup": "111--Agricultural Products",
           "marker": {
            "color": "#19d3f3",
            "size": [
             72.733
            ],
            "sizemode": "area",
            "sizeref": 0.7372475000000001,
            "symbol": "circle"
           },
           "mode": "markers",
           "name": "111--Agricultural Products",
           "orientation": "v",
           "showlegend": true,
           "type": "scatter",
           "x": [
            39122
           ],
           "xaxis": "x",
           "y": [
            72733
           ],
           "yaxis": "y"
          },
          {
           "customdata": [
            [
             7
            ]
           ],
           "hovertemplate": "<b>%{hovertext}</b><br><br>Product=311--Processed Foods<br>Year=2020<br>Import=%{x}<br>Export=%{y}<br>Size=%{marker.size}<br>Rank=%{customdata[0]}<extra></extra>",
           "hovertext": [
            "311--Processed Foods"
           ],
           "legendgroup": "311--Processed Foods",
           "marker": {
            "color": "#FF6692",
            "size": [
             67.043
            ],
            "sizemode": "area",
            "sizeref": 0.7372475000000001,
            "symbol": "circle"
           },
           "mode": "markers",
           "name": "311--Processed Foods",
           "orientation": "v",
           "showlegend": true,
           "type": "scatter",
           "x": [
            72869
           ],
           "xaxis": "x",
           "y": [
            67043
           ],
           "yaxis": "y"
          },
          {
           "customdata": [
            [
             9
            ]
           ],
           "hovertemplate": "<b>%{hovertext}</b><br><br>Product=324--Petroleum & Coal Products<br>Year=2020<br>Import=%{x}<br>Export=%{y}<br>Size=%{marker.size}<br>Rank=%{customdata[0]}<extra></extra>",
           "hovertext": [
            "324--Petroleum & Coal Products"
           ],
           "legendgroup": "324--Petroleum & Coal Products",
           "marker": {
            "color": "#B6E880",
            "size": [
             62.23
            ],
            "sizemode": "area",
            "sizeref": 0.7372475000000001,
            "symbol": "circle"
           },
           "mode": "markers",
           "name": "324--Petroleum & Coal Products",
           "orientation": "v",
           "showlegend": true,
           "type": "scatter",
           "x": [
            37179
           ],
           "xaxis": "x",
           "y": [
            62230
           ],
           "yaxis": "y"
          },
          {
           "customdata": [
            [
             10
            ]
           ],
           "hovertemplate": "<b>%{hovertext}</b><br><br>Product=331--Primary Metal Manufactures<br>Year=2020<br>Import=%{x}<br>Export=%{y}<br>Size=%{marker.size}<br>Rank=%{customdata[0]}<extra></extra>",
           "hovertext": [
            "331--Primary Metal Manufactures"
           ],
           "legendgroup": "331--Primary Metal Manufactures",
           "marker": {
            "color": "#FF97FF",
            "size": [
             57.039
            ],
            "sizemode": "area",
            "sizeref": 0.7372475000000001,
            "symbol": "circle"
           },
           "mode": "markers",
           "name": "331--Primary Metal Manufactures",
           "orientation": "v",
           "showlegend": true,
           "type": "scatter",
           "x": [
            128662
           ],
           "xaxis": "x",
           "y": [
            57039
           ],
           "yaxis": "y"
          },
          {
           "customdata": [
            [
             5
            ]
           ],
           "hovertemplate": "<b>%{hovertext}</b><br><br>Product=211--Oil & Gas<br>Year=2020<br>Import=%{x}<br>Export=%{y}<br>Size=%{marker.size}<br>Rank=%{customdata[0]}<extra></extra>",
           "hovertext": [
            "211--Oil & Gas"
           ],
           "legendgroup": "211--Oil & Gas",
           "marker": {
            "color": "#EF553B",
            "size": [
             83.088
            ],
            "sizemode": "area",
            "sizeref": 0.7372475000000001,
            "symbol": "circle"
           },
           "mode": "markers",
           "name": "211--Oil & Gas",
           "orientation": "v",
           "showlegend": true,
           "type": "scatter",
           "x": [
            83114
           ],
           "xaxis": "x",
           "y": [
            83088
           ],
           "yaxis": "y"
          }
         ],
         "name": "2020"
        },
        {
         "data": [
          {
           "customdata": [
            [
             2
            ]
           ],
           "hovertemplate": "<b>%{hovertext}</b><br><br>Product=336--Transportation Equipment<br>Year=2021<br>Import=%{x}<br>Export=%{y}<br>Size=%{marker.size}<br>Rank=%{customdata[0]}<extra></extra>",
           "hovertext": [
            "336--Transportation Equipment"
           ],
           "legendgroup": "336--Transportation Equipment",
           "marker": {
            "color": "#636efa",
            "size": [
             223.76
            ],
            "sizemode": "area",
            "sizeref": 0.7372475000000001,
            "symbol": "circle"
           },
           "mode": "markers",
           "name": "336--Transportation Equipment",
           "orientation": "v",
           "showlegend": true,
           "type": "scatter",
           "x": [
            361920
           ],
           "xaxis": "x",
           "y": [
            223760
           ],
           "yaxis": "y"
          },
          {
           "customdata": [
            [
             3
            ]
           ],
           "hovertemplate": "<b>%{hovertext}</b><br><br>Product=334--Computer & Electronic Products<br>Year=2021<br>Import=%{x}<br>Export=%{y}<br>Size=%{marker.size}<br>Rank=%{customdata[0]}<extra></extra>",
           "hovertext": [
            "334--Computer & Electronic Products"
           ],
           "legendgroup": "334--Computer & Electronic Products",
           "marker": {
            "color": "#EF553B",
            "size": [
             223.14
            ],
            "sizemode": "area",
            "sizeref": 0.7372475000000001,
            "symbol": "circle"
           },
           "mode": "markers",
           "name": "334--Computer & Electronic Products",
           "orientation": "v",
           "showlegend": true,
           "type": "scatter",
           "x": [
            464470
           ],
           "xaxis": "x",
           "y": [
            223140
           ],
           "yaxis": "y"
          },
          {
           "customdata": [
            [
             1
            ]
           ],
           "hovertemplate": "<b>%{hovertext}</b><br><br>Product=325--Chemicals<br>Year=2021<br>Import=%{x}<br>Export=%{y}<br>Size=%{marker.size}<br>Rank=%{customdata[0]}<extra></extra>",
           "hovertext": [
            "325--Chemicals"
           ],
           "legendgroup": "325--Chemicals",
           "marker": {
            "color": "#00cc96",
            "size": [
             253.99
            ],
            "sizemode": "area",
            "sizeref": 0.7372475000000001,
            "symbol": "circle"
           },
           "mode": "markers",
           "name": "325--Chemicals",
           "orientation": "v",
           "showlegend": true,
           "type": "scatter",
           "x": [
            313665
           ],
           "xaxis": "x",
           "y": [
            253990
           ],
           "yaxis": "y"
          },
          {
           "customdata": [
            [
             4
            ]
           ],
           "hovertemplate": "<b>%{hovertext}</b><br><br>Product=333--Machinery, Except Electrical<br>Year=2021<br>Import=%{x}<br>Export=%{y}<br>Size=%{marker.size}<br>Rank=%{customdata[0]}<extra></extra>",
           "hovertext": [
            "333--Machinery, Except Electrical"
           ],
           "legendgroup": "333--Machinery, Except Electrical",
           "marker": {
            "color": "#ab63fa",
            "size": [
             146.309
            ],
            "sizemode": "area",
            "sizeref": 0.7372475000000001,
            "symbol": "circle"
           },
           "mode": "markers",
           "name": "333--Machinery, Except Electrical",
           "orientation": "v",
           "showlegend": true,
           "type": "scatter",
           "x": [
            207456
           ],
           "xaxis": "x",
           "y": [
            146309
           ],
           "yaxis": "y"
          },
          {
           "customdata": [
            [
             8
            ]
           ],
           "hovertemplate": "<b>%{hovertext}</b><br><br>Product=339--Miscellaneous Manufactures<br>Year=2021<br>Import=%{x}<br>Export=%{y}<br>Size=%{marker.size}<br>Rank=%{customdata[0]}<extra></extra>",
           "hovertext": [
            "339--Miscellaneous Manufactures"
           ],
           "legendgroup": "339--Miscellaneous Manufactures",
           "marker": {
            "color": "#FFA15A",
            "size": [
             78.323
            ],
            "sizemode": "area",
            "sizeref": 0.7372475000000001,
            "symbol": "circle"
           },
           "mode": "markers",
           "name": "339--Miscellaneous Manufactures",
           "orientation": "v",
           "showlegend": true,
           "type": "scatter",
           "x": [
            167031
           ],
           "xaxis": "x",
           "y": [
            78323
           ],
           "yaxis": "y"
          },
          {
           "customdata": [
            [
             7
            ]
           ],
           "hovertemplate": "<b>%{hovertext}</b><br><br>Product=111--Agricultural Products<br>Year=2021<br>Import=%{x}<br>Export=%{y}<br>Size=%{marker.size}<br>Rank=%{customdata[0]}<extra></extra>",
           "hovertext": [
            "111--Agricultural Products"
           ],
           "legendgroup": "111--Agricultural Products",
           "marker": {
            "color": "#19d3f3",
            "size": [
             86.611
            ],
            "sizemode": "area",
            "sizeref": 0.7372475000000001,
            "symbol": "circle"
           },
           "mode": "markers",
           "name": "111--Agricultural Products",
           "orientation": "v",
           "showlegend": true,
           "type": "scatter",
           "x": [
            44175
           ],
           "xaxis": "x",
           "y": [
            86611
           ],
           "yaxis": "y"
          },
          {
           "customdata": [
            [
             9
            ]
           ],
           "hovertemplate": "<b>%{hovertext}</b><br><br>Product=311--Processed Foods<br>Year=2021<br>Import=%{x}<br>Export=%{y}<br>Size=%{marker.size}<br>Rank=%{customdata[0]}<extra></extra>",
           "hovertext": [
            "311--Processed Foods"
           ],
           "legendgroup": "311--Processed Foods",
           "marker": {
            "color": "#FF6692",
            "size": [
             77.873
            ],
            "sizemode": "area",
            "sizeref": 0.7372475000000001,
            "symbol": "circle"
           },
           "mode": "markers",
           "name": "311--Processed Foods",
           "orientation": "v",
           "showlegend": true,
           "type": "scatter",
           "x": [
            86878
           ],
           "xaxis": "x",
           "y": [
            77873
           ],
           "yaxis": "y"
          },
          {
           "customdata": [
            [
             6
            ]
           ],
           "hovertemplate": "<b>%{hovertext}</b><br><br>Product=324--Petroleum & Coal Products<br>Year=2021<br>Import=%{x}<br>Export=%{y}<br>Size=%{marker.size}<br>Rank=%{customdata[0]}<extra></extra>",
           "hovertext": [
            "324--Petroleum & Coal Products"
           ],
           "legendgroup": "324--Petroleum & Coal Products",
           "marker": {
            "color": "#B6E880",
            "size": [
             93.022
            ],
            "sizemode": "area",
            "sizeref": 0.7372475000000001,
            "symbol": "circle"
           },
           "mode": "markers",
           "name": "324--Petroleum & Coal Products",
           "orientation": "v",
           "showlegend": true,
           "type": "scatter",
           "x": [
            66439
           ],
           "xaxis": "x",
           "y": [
            93022
           ],
           "yaxis": "y"
          },
          {
           "customdata": [
            [
             10
            ]
           ],
           "hovertemplate": "<b>%{hovertext}</b><br><br>Product=331--Primary Metal Manufactures<br>Year=2021<br>Import=%{x}<br>Export=%{y}<br>Size=%{marker.size}<br>Rank=%{customdata[0]}<extra></extra>",
           "hovertext": [
            "331--Primary Metal Manufactures"
           ],
           "legendgroup": "331--Primary Metal Manufactures",
           "marker": {
            "color": "#FF97FF",
            "size": [
             77.04
            ],
            "sizemode": "area",
            "sizeref": 0.7372475000000001,
            "symbol": "circle"
           },
           "mode": "markers",
           "name": "331--Primary Metal Manufactures",
           "orientation": "v",
           "showlegend": true,
           "type": "scatter",
           "x": [
            135426
           ],
           "xaxis": "x",
           "y": [
            77040
           ],
           "yaxis": "y"
          },
          {
           "customdata": [
            [
             5
            ]
           ],
           "hovertemplate": "<b>%{hovertext}</b><br><br>Product=211--Oil & Gas<br>Year=2021<br>Import=%{x}<br>Export=%{y}<br>Size=%{marker.size}<br>Rank=%{customdata[0]}<extra></extra>",
           "hovertext": [
            "211--Oil & Gas"
           ],
           "legendgroup": "211--Oil & Gas",
           "marker": {
            "color": "#EF553B",
            "size": [
             137.446
            ],
            "sizemode": "area",
            "sizeref": 0.7372475000000001,
            "symbol": "circle"
           },
           "mode": "markers",
           "name": "211--Oil & Gas",
           "orientation": "v",
           "showlegend": true,
           "type": "scatter",
           "x": [
            146048
           ],
           "xaxis": "x",
           "y": [
            137446
           ],
           "yaxis": "y"
          }
         ],
         "name": "2021"
        },
        {
         "data": [
          {
           "customdata": [
            [
             2
            ]
           ],
           "hovertemplate": "<b>%{hovertext}</b><br><br>Product=336--Transportation Equipment<br>Year=2022<br>Import=%{x}<br>Export=%{y}<br>Size=%{marker.size}<br>Rank=%{customdata[0]}<extra></extra>",
           "hovertext": [
            "336--Transportation Equipment"
           ],
           "legendgroup": "336--Transportation Equipment",
           "marker": {
            "color": "#636efa",
            "size": [
             256.08
            ],
            "sizemode": "area",
            "sizeref": 0.7372475000000001,
            "symbol": "circle"
           },
           "mode": "markers",
           "name": "336--Transportation Equipment",
           "orientation": "v",
           "showlegend": true,
           "type": "scatter",
           "x": [
            411035
           ],
           "xaxis": "x",
           "y": [
            256080
           ],
           "yaxis": "y"
          },
          {
           "customdata": [
            [
             3
            ]
           ],
           "hovertemplate": "<b>%{hovertext}</b><br><br>Product=334--Computer & Electronic Products<br>Year=2022<br>Import=%{x}<br>Export=%{y}<br>Size=%{marker.size}<br>Rank=%{customdata[0]}<extra></extra>",
           "hovertext": [
            "334--Computer & Electronic Products"
           ],
           "legendgroup": "334--Computer & Electronic Products",
           "marker": {
            "color": "#EF553B",
            "size": [
             234.546
            ],
            "sizemode": "area",
            "sizeref": 0.7372475000000001,
            "symbol": "circle"
           },
           "mode": "markers",
           "name": "334--Computer & Electronic Products",
           "orientation": "v",
           "showlegend": true,
           "type": "scatter",
           "x": [
            516843
           ],
           "xaxis": "x",
           "y": [
            234546
           ],
           "yaxis": "y"
          },
          {
           "customdata": [
            [
             1
            ]
           ],
           "hovertemplate": "<b>%{hovertext}</b><br><br>Product=325--Chemicals<br>Year=2022<br>Import=%{x}<br>Export=%{y}<br>Size=%{marker.size}<br>Rank=%{customdata[0]}<extra></extra>",
           "hovertext": [
            "325--Chemicals"
           ],
           "legendgroup": "325--Chemicals",
           "marker": {
            "color": "#00cc96",
            "size": [
             285.705
            ],
            "sizemode": "area",
            "sizeref": 0.7372475000000001,
            "symbol": "circle"
           },
           "mode": "markers",
           "name": "325--Chemicals",
           "orientation": "v",
           "showlegend": true,
           "type": "scatter",
           "x": [
            362620
           ],
           "xaxis": "x",
           "y": [
            285705
           ],
           "yaxis": "y"
          },
          {
           "customdata": [
            [
             5
            ]
           ],
           "hovertemplate": "<b>%{hovertext}</b><br><br>Product=333--Machinery, Except Electrical<br>Year=2022<br>Import=%{x}<br>Export=%{y}<br>Size=%{marker.size}<br>Rank=%{customdata[0]}<extra></extra>",
           "hovertext": [
            "333--Machinery, Except Electrical"
           ],
           "legendgroup": "333--Machinery, Except Electrical",
           "marker": {
            "color": "#ab63fa",
            "size": [
             163.822
            ],
            "sizemode": "area",
            "sizeref": 0.7372475000000001,
            "symbol": "circle"
           },
           "mode": "markers",
           "name": "333--Machinery, Except Electrical",
           "orientation": "v",
           "showlegend": true,
           "type": "scatter",
           "x": [
            234489
           ],
           "xaxis": "x",
           "y": [
            163822
           ],
           "yaxis": "y"
          },
          {
           "customdata": [
            [
             9
            ]
           ],
           "hovertemplate": "<b>%{hovertext}</b><br><br>Product=339--Miscellaneous Manufactures<br>Year=2022<br>Import=%{x}<br>Export=%{y}<br>Size=%{marker.size}<br>Rank=%{customdata[0]}<extra></extra>",
           "hovertext": [
            "339--Miscellaneous Manufactures"
           ],
           "legendgroup": "339--Miscellaneous Manufactures",
           "marker": {
            "color": "#FFA15A",
            "size": [
             87.792
            ],
            "sizemode": "area",
            "sizeref": 0.7372475000000001,
            "symbol": "circle"
           },
           "mode": "markers",
           "name": "339--Miscellaneous Manufactures",
           "orientation": "v",
           "showlegend": true,
           "type": "scatter",
           "x": [
            174399
           ],
           "xaxis": "x",
           "y": [
            87792
           ],
           "yaxis": "y"
          },
          {
           "customdata": [
            [
             7
            ]
           ],
           "hovertemplate": "<b>%{hovertext}</b><br><br>Product=111--Agricultural Products<br>Year=2022<br>Import=%{x}<br>Export=%{y}<br>Size=%{marker.size}<br>Rank=%{customdata[0]}<extra></extra>",
           "hovertext": [
            "111--Agricultural Products"
           ],
           "legendgroup": "111--Agricultural Products",
           "marker": {
            "color": "#19d3f3",
            "size": [
             97.939
            ],
            "sizemode": "area",
            "sizeref": 0.7372475000000001,
            "symbol": "circle"
           },
           "mode": "markers",
           "name": "111--Agricultural Products",
           "orientation": "v",
           "showlegend": true,
           "type": "scatter",
           "x": [
            49567
           ],
           "xaxis": "x",
           "y": [
            97939
           ],
           "yaxis": "y"
          },
          {
           "customdata": [
            [
             10
            ]
           ],
           "hovertemplate": "<b>%{hovertext}</b><br><br>Product=311--Processed Foods<br>Year=2022<br>Import=%{x}<br>Export=%{y}<br>Size=%{marker.size}<br>Rank=%{customdata[0]}<extra></extra>",
           "hovertext": [
            "311--Processed Foods"
           ],
           "legendgroup": "311--Processed Foods",
           "marker": {
            "color": "#FF6692",
            "size": [
             84.56
            ],
            "sizemode": "area",
            "sizeref": 0.7372475000000001,
            "symbol": "circle"
           },
           "mode": "markers",
           "name": "311--Processed Foods",
           "orientation": "v",
           "showlegend": true,
           "type": "scatter",
           "x": [
            105809
           ],
           "xaxis": "x",
           "y": [
            84560
           ],
           "yaxis": "y"
          },
          {
           "customdata": [
            [
             6
            ]
           ],
           "hovertemplate": "<b>%{hovertext}</b><br><br>Product=324--Petroleum & Coal Products<br>Year=2022<br>Import=%{x}<br>Export=%{y}<br>Size=%{marker.size}<br>Rank=%{customdata[0]}<extra></extra>",
           "hovertext": [
            "324--Petroleum & Coal Products"
           ],
           "legendgroup": "324--Petroleum & Coal Products",
           "marker": {
            "color": "#B6E880",
            "size": [
             151.936
            ],
            "sizemode": "area",
            "sizeref": 0.7372475000000001,
            "symbol": "circle"
           },
           "mode": "markers",
           "name": "324--Petroleum & Coal Products",
           "orientation": "v",
           "showlegend": true,
           "type": "scatter",
           "x": [
            86667
           ],
           "xaxis": "x",
           "y": [
            151936
           ],
           "yaxis": "y"
          },
          {
           "customdata": [
            [
             8
            ]
           ],
           "hovertemplate": "<b>%{hovertext}</b><br><br>Product=331--Primary Metal Manufactures<br>Year=2022<br>Import=%{x}<br>Export=%{y}<br>Size=%{marker.size}<br>Rank=%{customdata[0]}<extra></extra>",
           "hovertext": [
            "331--Primary Metal Manufactures"
           ],
           "legendgroup": "331--Primary Metal Manufactures",
           "marker": {
            "color": "#FF97FF",
            "size": [
             88.82
            ],
            "sizemode": "area",
            "sizeref": 0.7372475000000001,
            "symbol": "circle"
           },
           "mode": "markers",
           "name": "331--Primary Metal Manufactures",
           "orientation": "v",
           "showlegend": true,
           "type": "scatter",
           "x": [
            153387
           ],
           "xaxis": "x",
           "y": [
            88820
           ],
           "yaxis": "y"
          },
          {
           "customdata": [
            [
             4
            ]
           ],
           "hovertemplate": "<b>%{hovertext}</b><br><br>Product=211--Oil & Gas<br>Year=2022<br>Import=%{x}<br>Export=%{y}<br>Size=%{marker.size}<br>Rank=%{customdata[0]}<extra></extra>",
           "hovertext": [
            "211--Oil & Gas"
           ],
           "legendgroup": "211--Oil & Gas",
           "marker": {
            "color": "#EF553B",
            "size": [
             213.442
            ],
            "sizemode": "area",
            "sizeref": 0.7372475000000001,
            "symbol": "circle"
           },
           "mode": "markers",
           "name": "211--Oil & Gas",
           "orientation": "v",
           "showlegend": true,
           "type": "scatter",
           "x": [
            219169
           ],
           "xaxis": "x",
           "y": [
            213442
           ],
           "yaxis": "y"
          }
         ],
         "name": "2022"
        },
        {
         "data": [
          {
           "customdata": [
            [
             1
            ]
           ],
           "hovertemplate": "<b>%{hovertext}</b><br><br>Product=336--Transportation Equipment<br>Year=2023<br>Import=%{x}<br>Export=%{y}<br>Size=%{marker.size}<br>Rank=%{customdata[0]}<extra></extra>",
           "hovertext": [
            "336--Transportation Equipment"
           ],
           "legendgroup": "336--Transportation Equipment",
           "marker": {
            "color": "#636efa",
            "size": [
             294.899
            ],
            "sizemode": "area",
            "sizeref": 0.7372475000000001,
            "symbol": "circle"
           },
           "mode": "markers",
           "name": "336--Transportation Equipment",
           "orientation": "v",
           "showlegend": true,
           "type": "scatter",
           "x": [
            477030
           ],
           "xaxis": "x",
           "y": [
            294899
           ],
           "yaxis": "y"
          },
          {
           "customdata": [
            [
             3
            ]
           ],
           "hovertemplate": "<b>%{hovertext}</b><br><br>Product=334--Computer & Electronic Products<br>Year=2023<br>Import=%{x}<br>Export=%{y}<br>Size=%{marker.size}<br>Rank=%{customdata[0]}<extra></extra>",
           "hovertext": [
            "334--Computer & Electronic Products"
           ],
           "legendgroup": "334--Computer & Electronic Products",
           "marker": {
            "color": "#EF553B",
            "size": [
             230.688
            ],
            "sizemode": "area",
            "sizeref": 0.7372475000000001,
            "symbol": "circle"
           },
           "mode": "markers",
           "name": "334--Computer & Electronic Products",
           "orientation": "v",
           "showlegend": true,
           "type": "scatter",
           "x": [
            482296
           ],
           "xaxis": "x",
           "y": [
            230688
           ],
           "yaxis": "y"
          },
          {
           "customdata": [
            [
             2
            ]
           ],
           "hovertemplate": "<b>%{hovertext}</b><br><br>Product=325--Chemicals<br>Year=2023<br>Import=%{x}<br>Export=%{y}<br>Size=%{marker.size}<br>Rank=%{customdata[0]}<extra></extra>",
           "hovertext": [
            "325--Chemicals"
           ],
           "legendgroup": "325--Chemicals",
           "marker": {
            "color": "#00cc96",
            "size": [
             278.092
            ],
            "sizemode": "area",
            "sizeref": 0.7372475000000001,
            "symbol": "circle"
           },
           "mode": "markers",
           "name": "325--Chemicals",
           "orientation": "v",
           "showlegend": true,
           "type": "scatter",
           "x": [
            350301
           ],
           "xaxis": "x",
           "y": [
            278092
           ],
           "yaxis": "y"
          },
          {
           "customdata": [
            [
             5
            ]
           ],
           "hovertemplate": "<b>%{hovertext}</b><br><br>Product=333--Machinery, Except Electrical<br>Year=2023<br>Import=%{x}<br>Export=%{y}<br>Size=%{marker.size}<br>Rank=%{customdata[0]}<extra></extra>",
           "hovertext": [
            "333--Machinery, Except Electrical"
           ],
           "legendgroup": "333--Machinery, Except Electrical",
           "marker": {
            "color": "#ab63fa",
            "size": [
             165.972
            ],
            "sizemode": "area",
            "sizeref": 0.7372475000000001,
            "symbol": "circle"
           },
           "mode": "markers",
           "name": "333--Machinery, Except Electrical",
           "orientation": "v",
           "showlegend": true,
           "type": "scatter",
           "x": [
            240651
           ],
           "xaxis": "x",
           "y": [
            165972
           ],
           "yaxis": "y"
          },
          {
           "customdata": [
            [
             7
            ]
           ],
           "hovertemplate": "<b>%{hovertext}</b><br><br>Product=339--Miscellaneous Manufactures<br>Year=2023<br>Import=%{x}<br>Export=%{y}<br>Size=%{marker.size}<br>Rank=%{customdata[0]}<extra></extra>",
           "hovertext": [
            "339--Miscellaneous Manufactures"
           ],
           "legendgroup": "339--Miscellaneous Manufactures",
           "marker": {
            "color": "#FFA15A",
            "size": [
             92.719
            ],
            "sizemode": "area",
            "sizeref": 0.7372475000000001,
            "symbol": "circle"
           },
           "mode": "markers",
           "name": "339--Miscellaneous Manufactures",
           "orientation": "v",
           "showlegend": true,
           "type": "scatter",
           "x": [
            157316
           ],
           "xaxis": "x",
           "y": [
            92719
           ],
           "yaxis": "y"
          },
          {
           "customdata": [
            [
             9
            ]
           ],
           "hovertemplate": "<b>%{hovertext}</b><br><br>Product=111--Agricultural Products<br>Year=2023<br>Import=%{x}<br>Export=%{y}<br>Size=%{marker.size}<br>Rank=%{customdata[0]}<extra></extra>",
           "hovertext": [
            "111--Agricultural Products"
           ],
           "legendgroup": "111--Agricultural Products",
           "marker": {
            "color": "#19d3f3",
            "size": [
             80.217
            ],
            "sizemode": "area",
            "sizeref": 0.7372475000000001,
            "symbol": "circle"
           },
           "mode": "markers",
           "name": "111--Agricultural Products",
           "orientation": "v",
           "showlegend": true,
           "type": "scatter",
           "x": [
            49022
           ],
           "xaxis": "x",
           "y": [
            80217
           ],
           "yaxis": "y"
          },
          {
           "customdata": [
            [
             8
            ]
           ],
           "hovertemplate": "<b>%{hovertext}</b><br><br>Product=311--Processed Foods<br>Year=2023<br>Import=%{x}<br>Export=%{y}<br>Size=%{marker.size}<br>Rank=%{customdata[0]}<extra></extra>",
           "hovertext": [
            "311--Processed Foods"
           ],
           "legendgroup": "311--Processed Foods",
           "marker": {
            "color": "#FF6692",
            "size": [
             81.268
            ],
            "sizemode": "area",
            "sizeref": 0.7372475000000001,
            "symbol": "circle"
           },
           "mode": "markers",
           "name": "311--Processed Foods",
           "orientation": "v",
           "showlegend": true,
           "type": "scatter",
           "x": [
            106124
           ],
           "xaxis": "x",
           "y": [
            81268
           ],
           "yaxis": "y"
          },
          {
           "customdata": [
            [
             6
            ]
           ],
           "hovertemplate": "<b>%{hovertext}</b><br><br>Product=324--Petroleum & Coal Products<br>Year=2023<br>Import=%{x}<br>Export=%{y}<br>Size=%{marker.size}<br>Rank=%{customdata[0]}<extra></extra>",
           "hovertext": [
            "324--Petroleum & Coal Products"
           ],
           "legendgroup": "324--Petroleum & Coal Products",
           "marker": {
            "color": "#B6E880",
            "size": [
             128.608
            ],
            "sizemode": "area",
            "sizeref": 0.7372475000000001,
            "symbol": "circle"
           },
           "mode": "markers",
           "name": "324--Petroleum & Coal Products",
           "orientation": "v",
           "showlegend": true,
           "type": "scatter",
           "x": [
            72325
           ],
           "xaxis": "x",
           "y": [
            128608
           ],
           "yaxis": "y"
          },
          {
           "customdata": [
            [
             10
            ]
           ],
           "hovertemplate": "<b>%{hovertext}</b><br><br>Product=331--Primary Metal Manufactures<br>Year=2023<br>Import=%{x}<br>Export=%{y}<br>Size=%{marker.size}<br>Rank=%{customdata[0]}<extra></extra>",
           "hovertext": [
            "331--Primary Metal Manufactures"
           ],
           "legendgroup": "331--Primary Metal Manufactures",
           "marker": {
            "color": "#FF97FF",
            "size": [
             74.195
            ],
            "sizemode": "area",
            "sizeref": 0.7372475000000001,
            "symbol": "circle"
           },
           "mode": "markers",
           "name": "331--Primary Metal Manufactures",
           "orientation": "v",
           "showlegend": true,
           "type": "scatter",
           "x": [
            130503
           ],
           "xaxis": "x",
           "y": [
            74195
           ],
           "yaxis": "y"
          },
          {
           "customdata": [
            [
             4
            ]
           ],
           "hovertemplate": "<b>%{hovertext}</b><br><br>Product=211--Oil & Gas<br>Year=2023<br>Import=%{x}<br>Export=%{y}<br>Size=%{marker.size}<br>Rank=%{customdata[0]}<extra></extra>",
           "hovertext": [
            "211--Oil & Gas"
           ],
           "legendgroup": "211--Oil & Gas",
           "marker": {
            "color": "#EF553B",
            "size": [
             184.245
            ],
            "sizemode": "area",
            "sizeref": 0.7372475000000001,
            "symbol": "circle"
           },
           "mode": "markers",
           "name": "211--Oil & Gas",
           "orientation": "v",
           "showlegend": true,
           "type": "scatter",
           "x": [
            177107
           ],
           "xaxis": "x",
           "y": [
            184245
           ],
           "yaxis": "y"
          }
         ],
         "name": "2023"
        },
        {
         "data": [
          {
           "customdata": [
            [
             1
            ]
           ],
           "hovertemplate": "<b>%{hovertext}</b><br><br>Product=336--Transportation Equipment<br>Year=2024<br>Import=%{x}<br>Export=%{y}<br>Size=%{marker.size}<br>Rank=%{customdata[0]}<extra></extra>",
           "hovertext": [
            "336--Transportation Equipment"
           ],
           "legendgroup": "336--Transportation Equipment",
           "marker": {
            "color": "#636efa",
            "size": [
             292.851
            ],
            "sizemode": "area",
            "sizeref": 0.7372475000000001,
            "symbol": "circle"
           },
           "mode": "markers",
           "name": "336--Transportation Equipment",
           "orientation": "v",
           "showlegend": true,
           "type": "scatter",
           "x": [
            494212
           ],
           "xaxis": "x",
           "y": [
            292851
           ],
           "yaxis": "y"
          },
          {
           "customdata": [
            [
             3
            ]
           ],
           "hovertemplate": "<b>%{hovertext}</b><br><br>Product=334--Computer & Electronic Products<br>Year=2024<br>Import=%{x}<br>Export=%{y}<br>Size=%{marker.size}<br>Rank=%{customdata[0]}<extra></extra>",
           "hovertext": [
            "334--Computer & Electronic Products"
           ],
           "legendgroup": "334--Computer & Electronic Products",
           "marker": {
            "color": "#EF553B",
            "size": [
             259.371
            ],
            "sizemode": "area",
            "sizeref": 0.7372475000000001,
            "symbol": "circle"
           },
           "mode": "markers",
           "name": "334--Computer & Electronic Products",
           "orientation": "v",
           "showlegend": true,
           "type": "scatter",
           "x": [
            551708
           ],
           "xaxis": "x",
           "y": [
            259371
           ],
           "yaxis": "y"
          },
          {
           "customdata": [
            [
             2
            ]
           ],
           "hovertemplate": "<b>%{hovertext}</b><br><br>Product=325--Chemicals<br>Year=2024<br>Import=%{x}<br>Export=%{y}<br>Size=%{marker.size}<br>Rank=%{customdata[0]}<extra></extra>",
           "hovertext": [
            "325--Chemicals"
           ],
           "legendgroup": "325--Chemicals",
           "marker": {
            "color": "#00cc96",
            "size": [
             285.441
            ],
            "sizemode": "area",
            "sizeref": 0.7372475000000001,
            "symbol": "circle"
           },
           "mode": "markers",
           "name": "325--Chemicals",
           "orientation": "v",
           "showlegend": true,
           "type": "scatter",
           "x": [
            393780
           ],
           "xaxis": "x",
           "y": [
            285441
           ],
           "yaxis": "y"
          },
          {
           "customdata": [
            [
             5
            ]
           ],
           "hovertemplate": "<b>%{hovertext}</b><br><br>Product=333--Machinery, Except Electrical<br>Year=2024<br>Import=%{x}<br>Export=%{y}<br>Size=%{marker.size}<br>Rank=%{customdata[0]}<extra></extra>",
           "hovertext": [
            "333--Machinery, Except Electrical"
           ],
           "legendgroup": "333--Machinery, Except Electrical",
           "marker": {
            "color": "#ab63fa",
            "size": [
             164.663
            ],
            "sizemode": "area",
            "sizeref": 0.7372475000000001,
            "symbol": "circle"
           },
           "mode": "markers",
           "name": "333--Machinery, Except Electrical",
           "orientation": "v",
           "showlegend": true,
           "type": "scatter",
           "x": [
            247853
           ],
           "xaxis": "x",
           "y": [
            164663
           ],
           "yaxis": "y"
          },
          {
           "customdata": [
            [
             7
            ]
           ],
           "hovertemplate": "<b>%{hovertext}</b><br><br>Product=339--Miscellaneous Manufactures<br>Year=2024<br>Import=%{x}<br>Export=%{y}<br>Size=%{marker.size}<br>Rank=%{customdata[0]}<extra></extra>",
           "hovertext": [
            "339--Miscellaneous Manufactures"
           ],
           "legendgroup": "339--Miscellaneous Manufactures",
           "marker": {
            "color": "#FFA15A",
            "size": [
             87.59
            ],
            "sizemode": "area",
            "sizeref": 0.7372475000000001,
            "symbol": "circle"
           },
           "mode": "markers",
           "name": "339--Miscellaneous Manufactures",
           "orientation": "v",
           "showlegend": true,
           "type": "scatter",
           "x": [
            155326
           ],
           "xaxis": "x",
           "y": [
            87590
           ],
           "yaxis": "y"
          },
          {
           "customdata": [
            [
             10
            ]
           ],
           "hovertemplate": "<b>%{hovertext}</b><br><br>Product=111--Agricultural Products<br>Year=2024<br>Import=%{x}<br>Export=%{y}<br>Size=%{marker.size}<br>Rank=%{customdata[0]}<extra></extra>",
           "hovertext": [
            "111--Agricultural Products"
           ],
           "legendgroup": "111--Agricultural Products",
           "marker": {
            "color": "#19d3f3",
            "size": [
             79.56
            ],
            "sizemode": "area",
            "sizeref": 0.7372475000000001,
            "symbol": "circle"
           },
           "mode": "markers",
           "name": "111--Agricultural Products",
           "orientation": "v",
           "showlegend": true,
           "type": "scatter",
           "x": [
            52304
           ],
           "xaxis": "x",
           "y": [
            79560
           ],
           "yaxis": "y"
          },
          {
           "customdata": [
            [
             8
            ]
           ],
           "hovertemplate": "<b>%{hovertext}</b><br><br>Product=311--Processed Foods<br>Year=2024<br>Import=%{x}<br>Export=%{y}<br>Size=%{marker.size}<br>Rank=%{customdata[0]}<extra></extra>",
           "hovertext": [
            "311--Processed Foods"
           ],
           "legendgroup": "311--Processed Foods",
           "marker": {
            "color": "#FF6692",
            "size": [
             83.623
            ],
            "sizemode": "area",
            "sizeref": 0.7372475000000001,
            "symbol": "circle"
           },
           "mode": "markers",
           "name": "311--Processed Foods",
           "orientation": "v",
           "showlegend": true,
           "type": "scatter",
           "x": [
            117810
           ],
           "xaxis": "x",
           "y": [
            83623
           ],
           "yaxis": "y"
          },
          {
           "customdata": [
            [
             6
            ]
           ],
           "hovertemplate": "<b>%{hovertext}</b><br><br>Product=324--Petroleum & Coal Products<br>Year=2024<br>Import=%{x}<br>Export=%{y}<br>Size=%{marker.size}<br>Rank=%{customdata[0]}<extra></extra>",
           "hovertext": [
            "324--Petroleum & Coal Products"
           ],
           "legendgroup": "324--Petroleum & Coal Products",
           "marker": {
            "color": "#B6E880",
            "size": [
             127.761
            ],
            "sizemode": "area",
            "sizeref": 0.7372475000000001,
            "symbol": "circle"
           },
           "mode": "markers",
           "name": "324--Petroleum & Coal Products",
           "orientation": "v",
           "showlegend": true,
           "type": "scatter",
           "x": [
            62930
           ],
           "xaxis": "x",
           "y": [
            127761
           ],
           "yaxis": "y"
          },
          {
           "customdata": [
            [
             9
            ]
           ],
           "hovertemplate": "<b>%{hovertext}</b><br><br>Product=990--Other Special Classification Provisions<br>Year=2024<br>Import=%{x}<br>Export=%{y}<br>Size=%{marker.size}<br>Rank=%{customdata[0]}<extra></extra>",
           "hovertext": [
            "990--Other Special Classification Provisions"
           ],
           "legendgroup": "990--Other Special Classification Provisions",
           "marker": {
            "color": "#FECB52",
            "size": [
             80.521
            ],
            "sizemode": "area",
            "sizeref": 0.7372475000000001,
            "symbol": "circle"
           },
           "mode": "markers",
           "name": "990--Other Special Classification Provisions",
           "orientation": "v",
           "showlegend": true,
           "type": "scatter",
           "x": [
            30038
           ],
           "xaxis": "x",
           "y": [
            80521
           ],
           "yaxis": "y"
          },
          {
           "customdata": [
            [
             4
            ]
           ],
           "hovertemplate": "<b>%{hovertext}</b><br><br>Product=211--Oil & Gas<br>Year=2024<br>Import=%{x}<br>Export=%{y}<br>Size=%{marker.size}<br>Rank=%{customdata[0]}<extra></extra>",
           "hovertext": [
            "211--Oil & Gas"
           ],
           "legendgroup": "211--Oil & Gas",
           "marker": {
            "color": "#EF553B",
            "size": [
             180.746
            ],
            "sizemode": "area",
            "sizeref": 0.7372475000000001,
            "symbol": "circle"
           },
           "mode": "markers",
           "name": "211--Oil & Gas",
           "orientation": "v",
           "showlegend": true,
           "type": "scatter",
           "x": [
            176469
           ],
           "xaxis": "x",
           "y": [
            180746
           ],
           "yaxis": "y"
          }
         ],
         "name": "2024"
        }
       ],
       "layout": {
        "height": 700,
        "legend": {
         "itemsizing": "constant",
         "title": {
          "text": "Product Category"
         },
         "tracegroupgap": 0
        },
        "sliders": [
         {
          "active": 0,
          "currentvalue": {
           "prefix": "Year="
          },
          "len": 0.9,
          "pad": {
           "b": 10,
           "t": 60
          },
          "steps": [
           {
            "args": [
             [
              "2009"
             ],
             {
              "frame": {
               "duration": 0,
               "redraw": false
              },
              "fromcurrent": true,
              "mode": "immediate",
              "transition": {
               "duration": 0,
               "easing": "linear"
              }
             }
            ],
            "label": "2009",
            "method": "animate"
           },
           {
            "args": [
             [
              "2010"
             ],
             {
              "frame": {
               "duration": 0,
               "redraw": false
              },
              "fromcurrent": true,
              "mode": "immediate",
              "transition": {
               "duration": 0,
               "easing": "linear"
              }
             }
            ],
            "label": "2010",
            "method": "animate"
           },
           {
            "args": [
             [
              "2011"
             ],
             {
              "frame": {
               "duration": 0,
               "redraw": false
              },
              "fromcurrent": true,
              "mode": "immediate",
              "transition": {
               "duration": 0,
               "easing": "linear"
              }
             }
            ],
            "label": "2011",
            "method": "animate"
           },
           {
            "args": [
             [
              "2012"
             ],
             {
              "frame": {
               "duration": 0,
               "redraw": false
              },
              "fromcurrent": true,
              "mode": "immediate",
              "transition": {
               "duration": 0,
               "easing": "linear"
              }
             }
            ],
            "label": "2012",
            "method": "animate"
           },
           {
            "args": [
             [
              "2013"
             ],
             {
              "frame": {
               "duration": 0,
               "redraw": false
              },
              "fromcurrent": true,
              "mode": "immediate",
              "transition": {
               "duration": 0,
               "easing": "linear"
              }
             }
            ],
            "label": "2013",
            "method": "animate"
           },
           {
            "args": [
             [
              "2014"
             ],
             {
              "frame": {
               "duration": 0,
               "redraw": false
              },
              "fromcurrent": true,
              "mode": "immediate",
              "transition": {
               "duration": 0,
               "easing": "linear"
              }
             }
            ],
            "label": "2014",
            "method": "animate"
           },
           {
            "args": [
             [
              "2015"
             ],
             {
              "frame": {
               "duration": 0,
               "redraw": false
              },
              "fromcurrent": true,
              "mode": "immediate",
              "transition": {
               "duration": 0,
               "easing": "linear"
              }
             }
            ],
            "label": "2015",
            "method": "animate"
           },
           {
            "args": [
             [
              "2016"
             ],
             {
              "frame": {
               "duration": 0,
               "redraw": false
              },
              "fromcurrent": true,
              "mode": "immediate",
              "transition": {
               "duration": 0,
               "easing": "linear"
              }
             }
            ],
            "label": "2016",
            "method": "animate"
           },
           {
            "args": [
             [
              "2017"
             ],
             {
              "frame": {
               "duration": 0,
               "redraw": false
              },
              "fromcurrent": true,
              "mode": "immediate",
              "transition": {
               "duration": 0,
               "easing": "linear"
              }
             }
            ],
            "label": "2017",
            "method": "animate"
           },
           {
            "args": [
             [
              "2018"
             ],
             {
              "frame": {
               "duration": 0,
               "redraw": false
              },
              "fromcurrent": true,
              "mode": "immediate",
              "transition": {
               "duration": 0,
               "easing": "linear"
              }
             }
            ],
            "label": "2018",
            "method": "animate"
           },
           {
            "args": [
             [
              "2019"
             ],
             {
              "frame": {
               "duration": 0,
               "redraw": false
              },
              "fromcurrent": true,
              "mode": "immediate",
              "transition": {
               "duration": 0,
               "easing": "linear"
              }
             }
            ],
            "label": "2019",
            "method": "animate"
           },
           {
            "args": [
             [
              "2020"
             ],
             {
              "frame": {
               "duration": 0,
               "redraw": false
              },
              "fromcurrent": true,
              "mode": "immediate",
              "transition": {
               "duration": 0,
               "easing": "linear"
              }
             }
            ],
            "label": "2020",
            "method": "animate"
           },
           {
            "args": [
             [
              "2021"
             ],
             {
              "frame": {
               "duration": 0,
               "redraw": false
              },
              "fromcurrent": true,
              "mode": "immediate",
              "transition": {
               "duration": 0,
               "easing": "linear"
              }
             }
            ],
            "label": "2021",
            "method": "animate"
           },
           {
            "args": [
             [
              "2022"
             ],
             {
              "frame": {
               "duration": 0,
               "redraw": false
              },
              "fromcurrent": true,
              "mode": "immediate",
              "transition": {
               "duration": 0,
               "easing": "linear"
              }
             }
            ],
            "label": "2022",
            "method": "animate"
           },
           {
            "args": [
             [
              "2023"
             ],
             {
              "frame": {
               "duration": 0,
               "redraw": false
              },
              "fromcurrent": true,
              "mode": "immediate",
              "transition": {
               "duration": 0,
               "easing": "linear"
              }
             }
            ],
            "label": "2023",
            "method": "animate"
           },
           {
            "args": [
             [
              "2024"
             ],
             {
              "frame": {
               "duration": 0,
               "redraw": false
              },
              "fromcurrent": true,
              "mode": "immediate",
              "transition": {
               "duration": 0,
               "easing": "linear"
              }
             }
            ],
            "label": "2024",
            "method": "animate"
           }
          ],
          "x": 0.1,
          "xanchor": "left",
          "y": 0,
          "yanchor": "top"
         }
        ],
        "template": {
         "data": {
          "bar": [
           {
            "error_x": {
             "color": "#2a3f5f"
            },
            "error_y": {
             "color": "#2a3f5f"
            },
            "marker": {
             "line": {
              "color": "#E5ECF6",
              "width": 0.5
             },
             "pattern": {
              "fillmode": "overlay",
              "size": 10,
              "solidity": 0.2
             }
            },
            "type": "bar"
           }
          ],
          "barpolar": [
           {
            "marker": {
             "line": {
              "color": "#E5ECF6",
              "width": 0.5
             },
             "pattern": {
              "fillmode": "overlay",
              "size": 10,
              "solidity": 0.2
             }
            },
            "type": "barpolar"
           }
          ],
          "carpet": [
           {
            "aaxis": {
             "endlinecolor": "#2a3f5f",
             "gridcolor": "white",
             "linecolor": "white",
             "minorgridcolor": "white",
             "startlinecolor": "#2a3f5f"
            },
            "baxis": {
             "endlinecolor": "#2a3f5f",
             "gridcolor": "white",
             "linecolor": "white",
             "minorgridcolor": "white",
             "startlinecolor": "#2a3f5f"
            },
            "type": "carpet"
           }
          ],
          "choropleth": [
           {
            "colorbar": {
             "outlinewidth": 0,
             "ticks": ""
            },
            "type": "choropleth"
           }
          ],
          "contour": [
           {
            "colorbar": {
             "outlinewidth": 0,
             "ticks": ""
            },
            "colorscale": [
             [
              0,
              "#0d0887"
             ],
             [
              0.1111111111111111,
              "#46039f"
             ],
             [
              0.2222222222222222,
              "#7201a8"
             ],
             [
              0.3333333333333333,
              "#9c179e"
             ],
             [
              0.4444444444444444,
              "#bd3786"
             ],
             [
              0.5555555555555556,
              "#d8576b"
             ],
             [
              0.6666666666666666,
              "#ed7953"
             ],
             [
              0.7777777777777778,
              "#fb9f3a"
             ],
             [
              0.8888888888888888,
              "#fdca26"
             ],
             [
              1,
              "#f0f921"
             ]
            ],
            "type": "contour"
           }
          ],
          "contourcarpet": [
           {
            "colorbar": {
             "outlinewidth": 0,
             "ticks": ""
            },
            "type": "contourcarpet"
           }
          ],
          "heatmap": [
           {
            "colorbar": {
             "outlinewidth": 0,
             "ticks": ""
            },
            "colorscale": [
             [
              0,
              "#0d0887"
             ],
             [
              0.1111111111111111,
              "#46039f"
             ],
             [
              0.2222222222222222,
              "#7201a8"
             ],
             [
              0.3333333333333333,
              "#9c179e"
             ],
             [
              0.4444444444444444,
              "#bd3786"
             ],
             [
              0.5555555555555556,
              "#d8576b"
             ],
             [
              0.6666666666666666,
              "#ed7953"
             ],
             [
              0.7777777777777778,
              "#fb9f3a"
             ],
             [
              0.8888888888888888,
              "#fdca26"
             ],
             [
              1,
              "#f0f921"
             ]
            ],
            "type": "heatmap"
           }
          ],
          "heatmapgl": [
           {
            "colorbar": {
             "outlinewidth": 0,
             "ticks": ""
            },
            "colorscale": [
             [
              0,
              "#0d0887"
             ],
             [
              0.1111111111111111,
              "#46039f"
             ],
             [
              0.2222222222222222,
              "#7201a8"
             ],
             [
              0.3333333333333333,
              "#9c179e"
             ],
             [
              0.4444444444444444,
              "#bd3786"
             ],
             [
              0.5555555555555556,
              "#d8576b"
             ],
             [
              0.6666666666666666,
              "#ed7953"
             ],
             [
              0.7777777777777778,
              "#fb9f3a"
             ],
             [
              0.8888888888888888,
              "#fdca26"
             ],
             [
              1,
              "#f0f921"
             ]
            ],
            "type": "heatmapgl"
           }
          ],
          "histogram": [
           {
            "marker": {
             "pattern": {
              "fillmode": "overlay",
              "size": 10,
              "solidity": 0.2
             }
            },
            "type": "histogram"
           }
          ],
          "histogram2d": [
           {
            "colorbar": {
             "outlinewidth": 0,
             "ticks": ""
            },
            "colorscale": [
             [
              0,
              "#0d0887"
             ],
             [
              0.1111111111111111,
              "#46039f"
             ],
             [
              0.2222222222222222,
              "#7201a8"
             ],
             [
              0.3333333333333333,
              "#9c179e"
             ],
             [
              0.4444444444444444,
              "#bd3786"
             ],
             [
              0.5555555555555556,
              "#d8576b"
             ],
             [
              0.6666666666666666,
              "#ed7953"
             ],
             [
              0.7777777777777778,
              "#fb9f3a"
             ],
             [
              0.8888888888888888,
              "#fdca26"
             ],
             [
              1,
              "#f0f921"
             ]
            ],
            "type": "histogram2d"
           }
          ],
          "histogram2dcontour": [
           {
            "colorbar": {
             "outlinewidth": 0,
             "ticks": ""
            },
            "colorscale": [
             [
              0,
              "#0d0887"
             ],
             [
              0.1111111111111111,
              "#46039f"
             ],
             [
              0.2222222222222222,
              "#7201a8"
             ],
             [
              0.3333333333333333,
              "#9c179e"
             ],
             [
              0.4444444444444444,
              "#bd3786"
             ],
             [
              0.5555555555555556,
              "#d8576b"
             ],
             [
              0.6666666666666666,
              "#ed7953"
             ],
             [
              0.7777777777777778,
              "#fb9f3a"
             ],
             [
              0.8888888888888888,
              "#fdca26"
             ],
             [
              1,
              "#f0f921"
             ]
            ],
            "type": "histogram2dcontour"
           }
          ],
          "mesh3d": [
           {
            "colorbar": {
             "outlinewidth": 0,
             "ticks": ""
            },
            "type": "mesh3d"
           }
          ],
          "parcoords": [
           {
            "line": {
             "colorbar": {
              "outlinewidth": 0,
              "ticks": ""
             }
            },
            "type": "parcoords"
           }
          ],
          "pie": [
           {
            "automargin": true,
            "type": "pie"
           }
          ],
          "scatter": [
           {
            "fillpattern": {
             "fillmode": "overlay",
             "size": 10,
             "solidity": 0.2
            },
            "type": "scatter"
           }
          ],
          "scatter3d": [
           {
            "line": {
             "colorbar": {
              "outlinewidth": 0,
              "ticks": ""
             }
            },
            "marker": {
             "colorbar": {
              "outlinewidth": 0,
              "ticks": ""
             }
            },
            "type": "scatter3d"
           }
          ],
          "scattercarpet": [
           {
            "marker": {
             "colorbar": {
              "outlinewidth": 0,
              "ticks": ""
             }
            },
            "type": "scattercarpet"
           }
          ],
          "scattergeo": [
           {
            "marker": {
             "colorbar": {
              "outlinewidth": 0,
              "ticks": ""
             }
            },
            "type": "scattergeo"
           }
          ],
          "scattergl": [
           {
            "marker": {
             "colorbar": {
              "outlinewidth": 0,
              "ticks": ""
             }
            },
            "type": "scattergl"
           }
          ],
          "scattermapbox": [
           {
            "marker": {
             "colorbar": {
              "outlinewidth": 0,
              "ticks": ""
             }
            },
            "type": "scattermapbox"
           }
          ],
          "scatterpolar": [
           {
            "marker": {
             "colorbar": {
              "outlinewidth": 0,
              "ticks": ""
             }
            },
            "type": "scatterpolar"
           }
          ],
          "scatterpolargl": [
           {
            "marker": {
             "colorbar": {
              "outlinewidth": 0,
              "ticks": ""
             }
            },
            "type": "scatterpolargl"
           }
          ],
          "scatterternary": [
           {
            "marker": {
             "colorbar": {
              "outlinewidth": 0,
              "ticks": ""
             }
            },
            "type": "scatterternary"
           }
          ],
          "surface": [
           {
            "colorbar": {
             "outlinewidth": 0,
             "ticks": ""
            },
            "colorscale": [
             [
              0,
              "#0d0887"
             ],
             [
              0.1111111111111111,
              "#46039f"
             ],
             [
              0.2222222222222222,
              "#7201a8"
             ],
             [
              0.3333333333333333,
              "#9c179e"
             ],
             [
              0.4444444444444444,
              "#bd3786"
             ],
             [
              0.5555555555555556,
              "#d8576b"
             ],
             [
              0.6666666666666666,
              "#ed7953"
             ],
             [
              0.7777777777777778,
              "#fb9f3a"
             ],
             [
              0.8888888888888888,
              "#fdca26"
             ],
             [
              1,
              "#f0f921"
             ]
            ],
            "type": "surface"
           }
          ],
          "table": [
           {
            "cells": {
             "fill": {
              "color": "#EBF0F8"
             },
             "line": {
              "color": "white"
             }
            },
            "header": {
             "fill": {
              "color": "#C8D4E3"
             },
             "line": {
              "color": "white"
             }
            },
            "type": "table"
           }
          ]
         },
         "layout": {
          "annotationdefaults": {
           "arrowcolor": "#2a3f5f",
           "arrowhead": 0,
           "arrowwidth": 1
          },
          "autotypenumbers": "strict",
          "coloraxis": {
           "colorbar": {
            "outlinewidth": 0,
            "ticks": ""
           }
          },
          "colorscale": {
           "diverging": [
            [
             0,
             "#8e0152"
            ],
            [
             0.1,
             "#c51b7d"
            ],
            [
             0.2,
             "#de77ae"
            ],
            [
             0.3,
             "#f1b6da"
            ],
            [
             0.4,
             "#fde0ef"
            ],
            [
             0.5,
             "#f7f7f7"
            ],
            [
             0.6,
             "#e6f5d0"
            ],
            [
             0.7,
             "#b8e186"
            ],
            [
             0.8,
             "#7fbc41"
            ],
            [
             0.9,
             "#4d9221"
            ],
            [
             1,
             "#276419"
            ]
           ],
           "sequential": [
            [
             0,
             "#0d0887"
            ],
            [
             0.1111111111111111,
             "#46039f"
            ],
            [
             0.2222222222222222,
             "#7201a8"
            ],
            [
             0.3333333333333333,
             "#9c179e"
            ],
            [
             0.4444444444444444,
             "#bd3786"
            ],
            [
             0.5555555555555556,
             "#d8576b"
            ],
            [
             0.6666666666666666,
             "#ed7953"
            ],
            [
             0.7777777777777778,
             "#fb9f3a"
            ],
            [
             0.8888888888888888,
             "#fdca26"
            ],
            [
             1,
             "#f0f921"
            ]
           ],
           "sequentialminus": [
            [
             0,
             "#0d0887"
            ],
            [
             0.1111111111111111,
             "#46039f"
            ],
            [
             0.2222222222222222,
             "#7201a8"
            ],
            [
             0.3333333333333333,
             "#9c179e"
            ],
            [
             0.4444444444444444,
             "#bd3786"
            ],
            [
             0.5555555555555556,
             "#d8576b"
            ],
            [
             0.6666666666666666,
             "#ed7953"
            ],
            [
             0.7777777777777778,
             "#fb9f3a"
            ],
            [
             0.8888888888888888,
             "#fdca26"
            ],
            [
             1,
             "#f0f921"
            ]
           ]
          },
          "colorway": [
           "#636efa",
           "#EF553B",
           "#00cc96",
           "#ab63fa",
           "#FFA15A",
           "#19d3f3",
           "#FF6692",
           "#B6E880",
           "#FF97FF",
           "#FECB52"
          ],
          "font": {
           "color": "#2a3f5f"
          },
          "geo": {
           "bgcolor": "white",
           "lakecolor": "white",
           "landcolor": "#E5ECF6",
           "showlakes": true,
           "showland": true,
           "subunitcolor": "white"
          },
          "hoverlabel": {
           "align": "left"
          },
          "hovermode": "closest",
          "mapbox": {
           "style": "light"
          },
          "paper_bgcolor": "white",
          "plot_bgcolor": "#E5ECF6",
          "polar": {
           "angularaxis": {
            "gridcolor": "white",
            "linecolor": "white",
            "ticks": ""
           },
           "bgcolor": "#E5ECF6",
           "radialaxis": {
            "gridcolor": "white",
            "linecolor": "white",
            "ticks": ""
           }
          },
          "scene": {
           "xaxis": {
            "backgroundcolor": "#E5ECF6",
            "gridcolor": "white",
            "gridwidth": 2,
            "linecolor": "white",
            "showbackground": true,
            "ticks": "",
            "zerolinecolor": "white"
           },
           "yaxis": {
            "backgroundcolor": "#E5ECF6",
            "gridcolor": "white",
            "gridwidth": 2,
            "linecolor": "white",
            "showbackground": true,
            "ticks": "",
            "zerolinecolor": "white"
           },
           "zaxis": {
            "backgroundcolor": "#E5ECF6",
            "gridcolor": "white",
            "gridwidth": 2,
            "linecolor": "white",
            "showbackground": true,
            "ticks": "",
            "zerolinecolor": "white"
           }
          },
          "shapedefaults": {
           "line": {
            "color": "#2a3f5f"
           }
          },
          "ternary": {
           "aaxis": {
            "gridcolor": "white",
            "linecolor": "white",
            "ticks": ""
           },
           "baxis": {
            "gridcolor": "white",
            "linecolor": "white",
            "ticks": ""
           },
           "bgcolor": "#E5ECF6",
           "caxis": {
            "gridcolor": "white",
            "linecolor": "white",
            "ticks": ""
           }
          },
          "title": {
           "x": 0.05
          },
          "xaxis": {
           "automargin": true,
           "gridcolor": "white",
           "linecolor": "white",
           "ticks": "",
           "title": {
            "standoff": 15
           },
           "zerolinecolor": "white",
           "zerolinewidth": 2
          },
          "yaxis": {
           "automargin": true,
           "gridcolor": "white",
           "linecolor": "white",
           "ticks": "",
           "title": {
            "standoff": 15
           },
           "zerolinecolor": "white",
           "zerolinewidth": 2
          }
         }
        },
        "title": {
         "text": "U.S. Export vs Import Trade (Top 10 Exported Products, 2009–2024)"
        },
        "updatemenus": [
         {
          "buttons": [
           {
            "args": [
             null,
             {
              "frame": {
               "duration": 500,
               "redraw": false
              },
              "fromcurrent": true,
              "mode": "immediate",
              "transition": {
               "duration": 500,
               "easing": "linear"
              }
             }
            ],
            "label": "&#9654;",
            "method": "animate"
           },
           {
            "args": [
             [
              null
             ],
             {
              "frame": {
               "duration": 0,
               "redraw": false
              },
              "fromcurrent": true,
              "mode": "immediate",
              "transition": {
               "duration": 0,
               "easing": "linear"
              }
             }
            ],
            "label": "&#9724;",
            "method": "animate"
           }
          ],
          "direction": "left",
          "pad": {
           "r": 10,
           "t": 70
          },
          "showactive": false,
          "type": "buttons",
          "x": 0.1,
          "xanchor": "right",
          "y": 0,
          "yanchor": "top"
         }
        ],
        "xaxis": {
         "anchor": "y",
         "domain": [
          0,
          1
         ],
         "range": [
          0,
          579293.4
         ],
         "title": {
          "text": "Import Value (Million USD)"
         }
        },
        "yaxis": {
         "anchor": "x",
         "domain": [
          0,
          1
         ],
         "range": [
          0,
          579293.4
         ],
         "title": {
          "text": "Export Value (Million USD)"
         }
        }
       }
      }
     },
     "metadata": {},
     "output_type": "display_data"
    }
   ],
   "source": [
    "# 📦 Step 1: Import libraries\n",
    "import pandas as pd\n",
    "import plotly.express as px\n",
    "import plotly.graph_objects as go\n",
    "\n",
    "# 📂 Step 2: Load data\n",
    "export_clean = pd.read_csv(\"../data/Processed/Export_Trade_Cleaned.csv\")\n",
    "import_clean = pd.read_csv(\"../data/Processed/Import_Trade_Cleaned.csv\")\n",
    "\n",
    "# 🧼 Step 3: Clean and reshape\n",
    "def clean_and_melt(df, value_name):\n",
    "    df = df.copy()\n",
    "    df.columns = df.columns.str.strip()\n",
    "    \n",
    "    # Remove $ and commas and convert to float\n",
    "    for col in df.columns[1:]:\n",
    "        df[col] = df[col].replace('[\\$,]', '', regex=True).astype(float)\n",
    "    \n",
    "    # Reshape\n",
    "    df_long = df.melt(id_vars=[\"Product\"], var_name=\"Year\", value_name=value_name)\n",
    "    df_long[\"Year\"] = df_long[\"Year\"].astype(int)\n",
    "    return df_long\n",
    "\n",
    "export_long = clean_and_melt(export_clean, \"Export\")\n",
    "import_long = clean_and_melt(import_clean, \"Import\")\n",
    "\n",
    "# 🔗 Step 4: Merge & compute ranks\n",
    "merged = pd.merge(export_long, import_long, on=[\"Product\", \"Year\"])\n",
    "merged[\"Is_All_Merchandise\"] = merged[\"Product\"].str.contains(\"All Merchandise\")\n",
    "\n",
    "# 🏆 Step 5: Select top 10 export products per year (excluding All Merchandise)\n",
    "ranked = merged[~merged[\"Is_All_Merchandise\"]].copy()\n",
    "ranked[\"Rank\"] = ranked.groupby(\"Year\")[\"Export\"].rank(method=\"first\", ascending=False)\n",
    "\n",
    "# Select top 10 per year\n",
    "top_products = ranked.groupby(\"Year\").apply(lambda g: g.nsmallest(10, \"Rank\")).reset_index(drop=True)\n",
    "\n",
    "# Bubble size based on export value (scale down if needed)\n",
    "top_products[\"Size\"] = top_products[\"Export\"] / 1000  # You can adjust divisor to scale\n",
    "\n",
    "# 🧪 Step 6: Animated Scatter Plot\n",
    "fig = px.scatter(\n",
    "    top_products,\n",
    "    x=\"Import\",\n",
    "    y=\"Export\",\n",
    "    color=\"Product\",\n",
    "    animation_frame=\"Year\",\n",
    "    size=\"Size\",\n",
    "    hover_name=\"Product\",\n",
    "    hover_data={\"Rank\": True, \"Export\": True, \"Import\": True},\n",
    "    title=\"U.S. Export vs Import Trade (Top 10 Exported Products, 2009–2024)\"\n",
    ")\n",
    "\n",
    "# ➕ Step 7: Add 45° trade balance line\n",
    "max_val = max(top_products[\"Export\"].max(), top_products[\"Import\"].max())\n",
    "fig.add_trace(go.Scatter(\n",
    "    x=[0, max_val],\n",
    "    y=[0, max_val],\n",
    "    mode='lines',\n",
    "    line=dict(color='black', dash='dash'),\n",
    "    name='Trade Balance = 0'\n",
    "))\n",
    "\n",
    "# 🎨 Step 8: Layout\n",
    "fig.update_layout(\n",
    "    xaxis_title=\"Import Value (Million USD)\",\n",
    "    yaxis_title=\"Export Value (Million USD)\",\n",
    "    legend_title=\"Product Category\",\n",
    "    xaxis=dict(range=[0, max_val * 1.05]),\n",
    "    yaxis=dict(range=[0, max_val * 1.05]),\n",
    "    height=700\n",
    ")\n",
    "\n",
    "fig.show()\n"
   ]
  }
 ],
 "metadata": {
  "kernelspec": {
   "display_name": "base",
   "language": "python",
   "name": "python3"
  },
  "language_info": {
   "codemirror_mode": {
    "name": "ipython",
    "version": 3
   },
   "file_extension": ".py",
   "mimetype": "text/x-python",
   "name": "python",
   "nbconvert_exporter": "python",
   "pygments_lexer": "ipython3",
   "version": "3.12.9"
  }
 },
 "nbformat": 4,
 "nbformat_minor": 2
}
