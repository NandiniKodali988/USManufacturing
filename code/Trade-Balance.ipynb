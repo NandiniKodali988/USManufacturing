{
 "cells": [
  {
   "cell_type": "markdown",
   "metadata": {},
   "source": [
    "# Prepare Data"
   ]
  },
  {
   "cell_type": "code",
   "execution_count": 3,
   "metadata": {},
   "outputs": [],
   "source": [
    "# Import libraries\n",
    "import pandas as pd\n",
    "import plotly.express as px\n",
    "import plotly.graph_objects as go\n",
    "\n",
    "# Load data\n",
    "export_clean = pd.read_csv(\"../data/Processed/Export_Trade_Cleaned.csv\")\n",
    "import_clean = pd.read_csv(\"../data/Processed/Import_Trade_Cleaned.csv\")\n",
    "\n",
    "# Clean and reshape\n",
    "def clean_and_melt(df, value_name):\n",
    "    df = df.copy()\n",
    "    df.columns = df.columns.str.strip()\n",
    "    \n",
    "    # Remove $ and commas and convert to float\n",
    "    for col in df.columns[1:]:\n",
    "        df[col] = df[col].replace('[\\$,]', '', regex=True).astype(float)\n",
    "    \n",
    "    # Reshape\n",
    "    df_long = df.melt(id_vars=[\"Product\"], var_name=\"Year\", value_name=value_name)\n",
    "    df_long[\"Year\"] = df_long[\"Year\"].astype(int)\n",
    "    return df_long\n",
    "\n",
    "export_long = clean_and_melt(export_clean, \"Export\")\n",
    "import_long = clean_and_melt(import_clean, \"Import\")"
   ]
  },
  {
   "cell_type": "markdown",
   "metadata": {},
   "source": [
    "# U.S. Export vs Import Trade (Top 10 Exported Products, 2009–2024)"
   ]
  },
  {
   "cell_type": "code",
   "execution_count": 4,
   "metadata": {},
   "outputs": [
    {
     "data": {
      "application/vnd.plotly.v1+json": {
       "config": {
        "plotlyServerURL": "https://plot.ly"
       },
       "data": [
        {
         "customdata": {
          "bdata": "AAAAAAAA8D8=",
          "dtype": "f8",
          "shape": "1, 1"
         },
         "hovertemplate": "<b>%{hovertext}</b><br><br>Product=336--Transportation Equipment<br>Year=2009<br>Import=%{x}<br>Export=%{y}<br>Size=%{marker.size}<br>Rank=%{customdata[0]}<extra></extra>",
         "hovertext": [
          "336--Transportation Equipment"
         ],
         "legendgroup": "336--Transportation Equipment",
         "marker": {
          "color": "#636efa",
          "size": {
           "bdata": "AAAAAACsZEA=",
           "dtype": "f8"
          },
          "sizemode": "area",
          "sizeref": 0.7372475000000001,
          "symbol": "circle"
         },
         "mode": "markers",
         "name": "336--Transportation Equipment",
         "orientation": "v",
         "showlegend": true,
         "type": "scatter",
         "x": {
          "bdata": "AAAAAKD/BUE=",
          "dtype": "f8"
         },
         "xaxis": "x",
         "y": {
          "bdata": "AAAAAPgvBEE=",
          "dtype": "f8"
         },
         "yaxis": "y"
        },
        {
         "customdata": {
          "bdata": "AAAAAAAAAEA=",
          "dtype": "f8",
          "shape": "1, 1"
         },
         "hovertemplate": "<b>%{hovertext}</b><br><br>Product=334--Computer & Electronic Products<br>Year=2009<br>Import=%{x}<br>Export=%{y}<br>Size=%{marker.size}<br>Rank=%{customdata[0]}<extra></extra>",
         "hovertext": [
          "334--Computer & Electronic Products"
         ],
         "legendgroup": "334--Computer & Electronic Products",
         "marker": {
          "color": "#EF553B",
          "size": {
           "bdata": "arx0kxgUZEA=",
           "dtype": "f8"
          },
          "sizemode": "area",
          "sizeref": 0.7372475000000001,
          "symbol": "circle"
         },
         "mode": "markers",
         "name": "334--Computer & Electronic Products",
         "orientation": "v",
         "showlegend": true,
         "type": "scatter",
         "x": {
          "bdata": "AAAAANBFEEE=",
          "dtype": "f8"
         },
         "xaxis": "x",
         "y": {
          "bdata": "AAAAAKCbA0E=",
          "dtype": "f8"
         },
         "yaxis": "y"
        },
        {
         "customdata": {
          "bdata": "AAAAAAAACEA=",
          "dtype": "f8",
          "shape": "1, 1"
         },
         "hovertemplate": "<b>%{hovertext}</b><br><br>Product=325--Chemicals<br>Year=2009<br>Import=%{x}<br>Export=%{y}<br>Size=%{marker.size}<br>Rank=%{customdata[0]}<extra></extra>",
         "hovertext": [
          "325--Chemicals"
         ],
         "legendgroup": "325--Chemicals",
         "marker": {
          "color": "#00cc96",
          "size": {
           "bdata": "XI/C9SgIY0A=",
           "dtype": "f8"
          },
          "sizemode": "area",
          "sizeref": 0.7372475000000001,
          "symbol": "circle"
         },
         "mode": "markers",
         "name": "325--Chemicals",
         "orientation": "v",
         "showlegend": true,
         "type": "scatter",
         "x": {
          "bdata": "AAAAAIj1AkE=",
          "dtype": "f8"
         },
         "xaxis": "x",
         "y": {
          "bdata": "AAAAAPiVAkE=",
          "dtype": "f8"
         },
         "yaxis": "y"
        },
        {
         "customdata": {
          "bdata": "AAAAAAAAEEA=",
          "dtype": "f8",
          "shape": "1, 1"
         },
         "hovertemplate": "<b>%{hovertext}</b><br><br>Product=333--Machinery, Except Electrical<br>Year=2009<br>Import=%{x}<br>Export=%{y}<br>Size=%{marker.size}<br>Rank=%{customdata[0]}<extra></extra>",
         "hovertext": [
          "333--Machinery, Except Electrical"
         ],
         "legendgroup": "333--Machinery, Except Electrical",
         "marker": {
          "color": "#ab63fa",
          "size": {
           "bdata": "tMh2vp9aXEA=",
           "dtype": "f8"
          },
          "sizemode": "area",
          "sizeref": 0.7372475000000001,
          "symbol": "circle"
         },
         "mode": "markers",
         "name": "333--Machinery, Except Electrical",
         "orientation": "v",
         "showlegend": true,
         "type": "scatter",
         "x": {
          "bdata": "AAAAAABx9UA=",
          "dtype": "f8"
         },
         "xaxis": "x",
         "y": {
          "bdata": "AAAAAICw+0A=",
          "dtype": "f8"
         },
         "yaxis": "y"
        },
        {
         "customdata": {
          "bdata": "AAAAAAAAFEA=",
          "dtype": "f8",
          "shape": "1, 1"
         },
         "hovertemplate": "<b>%{hovertext}</b><br><br>Product=339--Miscellaneous Manufactures<br>Year=2009<br>Import=%{x}<br>Export=%{y}<br>Size=%{marker.size}<br>Rank=%{customdata[0]}<extra></extra>",
         "hovertext": [
          "339--Miscellaneous Manufactures"
         ],
         "legendgroup": "339--Miscellaneous Manufactures",
         "marker": {
          "color": "#FFA15A",
          "size": {
           "bdata": "H4XrUbheSkA=",
           "dtype": "f8"
          },
          "sizemode": "area",
          "sizeref": 0.7372475000000001,
          "symbol": "circle"
         },
         "mode": "markers",
         "name": "339--Miscellaneous Manufactures",
         "orientation": "v",
         "showlegend": true,
         "type": "scatter",
         "x": {
          "bdata": "AAAAAIAa9EA=",
          "dtype": "f8"
         },
         "xaxis": "x",
         "y": {
          "bdata": "AAAAAIDA6UA=",
          "dtype": "f8"
         },
         "yaxis": "y"
        },
        {
         "customdata": {
          "bdata": "AAAAAAAAGEA=",
          "dtype": "f8",
          "shape": "1, 1"
         },
         "hovertemplate": "<b>%{hovertext}</b><br><br>Product=111--Agricultural Products<br>Year=2009<br>Import=%{x}<br>Export=%{y}<br>Size=%{marker.size}<br>Rank=%{customdata[0]}<extra></extra>",
         "hovertext": [
          "111--Agricultural Products"
         ],
         "legendgroup": "111--Agricultural Products",
         "marker": {
          "color": "#19d3f3",
          "size": {
           "bdata": "fT81XrppSUA=",
           "dtype": "f8"
          },
          "sizemode": "area",
          "sizeref": 0.7372475000000001,
          "symbol": "circle"
         },
         "mode": "markers",
         "name": "111--Agricultural Products",
         "orientation": "v",
         "showlegend": true,
         "type": "scatter",
         "x": {
          "bdata": "AAAAAMD/1EA=",
          "dtype": "f8"
         },
         "xaxis": "x",
         "y": {
          "bdata": "AAAAAEDR6EA=",
          "dtype": "f8"
         },
         "yaxis": "y"
        },
        {
         "customdata": {
          "bdata": "AAAAAAAAHEA=",
          "dtype": "f8",
          "shape": "1, 1"
         },
         "hovertemplate": "<b>%{hovertext}</b><br><br>Product=311--Processed Foods<br>Year=2009<br>Import=%{x}<br>Export=%{y}<br>Size=%{marker.size}<br>Rank=%{customdata[0]}<extra></extra>",
         "hovertext": [
          "311--Processed Foods"
         ],
         "legendgroup": "311--Processed Foods",
         "marker": {
          "color": "#FF6692",
          "size": {
           "bdata": "9P3UeOlWRkA=",
           "dtype": "f8"
          },
          "sizemode": "area",
          "sizeref": 0.7372475000000001,
          "symbol": "circle"
         },
         "mode": "markers",
         "name": "311--Processed Foods",
         "orientation": "v",
         "showlegend": true,
         "type": "scatter",
         "x": {
          "bdata": "AAAAAICw4UA=",
          "dtype": "f8"
         },
         "xaxis": "x",
         "y": {
          "bdata": "AAAAAODQ5UA=",
          "dtype": "f8"
         },
         "yaxis": "y"
        },
        {
         "customdata": {
          "bdata": "AAAAAAAAIEA=",
          "dtype": "f8",
          "shape": "1, 1"
         },
         "hovertemplate": "<b>%{hovertext}</b><br><br>Product=324--Petroleum & Coal Products<br>Year=2009<br>Import=%{x}<br>Export=%{y}<br>Size=%{marker.size}<br>Rank=%{customdata[0]}<extra></extra>",
         "hovertext": [
          "324--Petroleum & Coal Products"
         ],
         "legendgroup": "324--Petroleum & Coal Products",
         "marker": {
          "color": "#B6E880",
          "size": {
           "bdata": "XI/C9SjMREA=",
           "dtype": "f8"
          },
          "sizemode": "area",
          "sizeref": 0.7372475000000001,
          "symbol": "circle"
         },
         "mode": "markers",
         "name": "324--Petroleum & Coal Products",
         "orientation": "v",
         "showlegend": true,
         "type": "scatter",
         "x": {
          "bdata": "AAAAAKCz6kA=",
          "dtype": "f8"
         },
         "xaxis": "x",
         "y": {
          "bdata": "AAAAAGBP5EA=",
          "dtype": "f8"
         },
         "yaxis": "y"
        },
        {
         "customdata": {
          "bdata": "AAAAAAAAIkA=",
          "dtype": "f8",
          "shape": "1, 1"
         },
         "hovertemplate": "<b>%{hovertext}</b><br><br>Product=331--Primary Metal Manufactures<br>Year=2009<br>Import=%{x}<br>Export=%{y}<br>Size=%{marker.size}<br>Rank=%{customdata[0]}<extra></extra>",
         "hovertext": [
          "331--Primary Metal Manufactures"
         ],
         "legendgroup": "331--Primary Metal Manufactures",
         "marker": {
          "color": "#FF97FF",
          "size": {
           "bdata": "hxbZzvdTREA=",
           "dtype": "f8"
          },
          "sizemode": "area",
          "sizeref": 0.7372475000000001,
          "symbol": "circle"
         },
         "mode": "markers",
         "name": "331--Primary Metal Manufactures",
         "orientation": "v",
         "showlegend": true,
         "type": "scatter",
         "x": {
          "bdata": "AAAAAEAj60A=",
          "dtype": "f8"
         },
         "xaxis": "x",
         "y": {
          "bdata": "AAAAAADa40A=",
          "dtype": "f8"
         },
         "yaxis": "y"
        },
        {
         "customdata": {
          "bdata": "AAAAAAAAJEA=",
          "dtype": "f8",
          "shape": "1, 1"
         },
         "hovertemplate": "<b>%{hovertext}</b><br><br>Product=990--Other Special Classification Provisions<br>Year=2009<br>Import=%{x}<br>Export=%{y}<br>Size=%{marker.size}<br>Rank=%{customdata[0]}<extra></extra>",
         "hovertext": [
          "990--Other Special Classification Provisions"
         ],
         "legendgroup": "990--Other Special Classification Provisions",
         "marker": {
          "color": "#FECB52",
          "size": {
           "bdata": "MQisHFpkQEA=",
           "dtype": "f8"
          },
          "sizemode": "area",
          "sizeref": 0.7372475000000001,
          "symbol": "circle"
         },
         "mode": "markers",
         "name": "990--Other Special Classification Provisions",
         "orientation": "v",
         "showlegend": true,
         "type": "scatter",
         "x": {
          "bdata": "AAAAAIAE1kA=",
          "dtype": "f8"
         },
         "xaxis": "x",
         "y": {
          "bdata": "AAAAAAAC4EA=",
          "dtype": "f8"
         },
         "yaxis": "y"
        },
        {
         "line": {
          "color": "black",
          "dash": "dash"
         },
         "mode": "lines",
         "name": "Trade Balance = 0",
         "type": "scatter",
         "x": [
          0,
          551708
         ],
         "y": [
          0,
          551708
         ]
        }
       ],
       "frames": [
        {
         "data": [
          {
           "customdata": {
            "bdata": "AAAAAAAA8D8=",
            "dtype": "f8",
            "shape": "1, 1"
           },
           "hovertemplate": "<b>%{hovertext}</b><br><br>Product=336--Transportation Equipment<br>Year=2009<br>Import=%{x}<br>Export=%{y}<br>Size=%{marker.size}<br>Rank=%{customdata[0]}<extra></extra>",
           "hovertext": [
            "336--Transportation Equipment"
           ],
           "legendgroup": "336--Transportation Equipment",
           "marker": {
            "color": "#636efa",
            "size": {
             "bdata": "AAAAAACsZEA=",
             "dtype": "f8"
            },
            "sizemode": "area",
            "sizeref": 0.7372475000000001,
            "symbol": "circle"
           },
           "mode": "markers",
           "name": "336--Transportation Equipment",
           "orientation": "v",
           "showlegend": true,
           "type": "scatter",
           "x": {
            "bdata": "AAAAAKD/BUE=",
            "dtype": "f8"
           },
           "xaxis": "x",
           "y": {
            "bdata": "AAAAAPgvBEE=",
            "dtype": "f8"
           },
           "yaxis": "y"
          },
          {
           "customdata": {
            "bdata": "AAAAAAAAAEA=",
            "dtype": "f8",
            "shape": "1, 1"
           },
           "hovertemplate": "<b>%{hovertext}</b><br><br>Product=334--Computer & Electronic Products<br>Year=2009<br>Import=%{x}<br>Export=%{y}<br>Size=%{marker.size}<br>Rank=%{customdata[0]}<extra></extra>",
           "hovertext": [
            "334--Computer & Electronic Products"
           ],
           "legendgroup": "334--Computer & Electronic Products",
           "marker": {
            "color": "#EF553B",
            "size": {
             "bdata": "arx0kxgUZEA=",
             "dtype": "f8"
            },
            "sizemode": "area",
            "sizeref": 0.7372475000000001,
            "symbol": "circle"
           },
           "mode": "markers",
           "name": "334--Computer & Electronic Products",
           "orientation": "v",
           "showlegend": true,
           "type": "scatter",
           "x": {
            "bdata": "AAAAANBFEEE=",
            "dtype": "f8"
           },
           "xaxis": "x",
           "y": {
            "bdata": "AAAAAKCbA0E=",
            "dtype": "f8"
           },
           "yaxis": "y"
          },
          {
           "customdata": {
            "bdata": "AAAAAAAACEA=",
            "dtype": "f8",
            "shape": "1, 1"
           },
           "hovertemplate": "<b>%{hovertext}</b><br><br>Product=325--Chemicals<br>Year=2009<br>Import=%{x}<br>Export=%{y}<br>Size=%{marker.size}<br>Rank=%{customdata[0]}<extra></extra>",
           "hovertext": [
            "325--Chemicals"
           ],
           "legendgroup": "325--Chemicals",
           "marker": {
            "color": "#00cc96",
            "size": {
             "bdata": "XI/C9SgIY0A=",
             "dtype": "f8"
            },
            "sizemode": "area",
            "sizeref": 0.7372475000000001,
            "symbol": "circle"
           },
           "mode": "markers",
           "name": "325--Chemicals",
           "orientation": "v",
           "showlegend": true,
           "type": "scatter",
           "x": {
            "bdata": "AAAAAIj1AkE=",
            "dtype": "f8"
           },
           "xaxis": "x",
           "y": {
            "bdata": "AAAAAPiVAkE=",
            "dtype": "f8"
           },
           "yaxis": "y"
          },
          {
           "customdata": {
            "bdata": "AAAAAAAAEEA=",
            "dtype": "f8",
            "shape": "1, 1"
           },
           "hovertemplate": "<b>%{hovertext}</b><br><br>Product=333--Machinery, Except Electrical<br>Year=2009<br>Import=%{x}<br>Export=%{y}<br>Size=%{marker.size}<br>Rank=%{customdata[0]}<extra></extra>",
           "hovertext": [
            "333--Machinery, Except Electrical"
           ],
           "legendgroup": "333--Machinery, Except Electrical",
           "marker": {
            "color": "#ab63fa",
            "size": {
             "bdata": "tMh2vp9aXEA=",
             "dtype": "f8"
            },
            "sizemode": "area",
            "sizeref": 0.7372475000000001,
            "symbol": "circle"
           },
           "mode": "markers",
           "name": "333--Machinery, Except Electrical",
           "orientation": "v",
           "showlegend": true,
           "type": "scatter",
           "x": {
            "bdata": "AAAAAABx9UA=",
            "dtype": "f8"
           },
           "xaxis": "x",
           "y": {
            "bdata": "AAAAAICw+0A=",
            "dtype": "f8"
           },
           "yaxis": "y"
          },
          {
           "customdata": {
            "bdata": "AAAAAAAAFEA=",
            "dtype": "f8",
            "shape": "1, 1"
           },
           "hovertemplate": "<b>%{hovertext}</b><br><br>Product=339--Miscellaneous Manufactures<br>Year=2009<br>Import=%{x}<br>Export=%{y}<br>Size=%{marker.size}<br>Rank=%{customdata[0]}<extra></extra>",
           "hovertext": [
            "339--Miscellaneous Manufactures"
           ],
           "legendgroup": "339--Miscellaneous Manufactures",
           "marker": {
            "color": "#FFA15A",
            "size": {
             "bdata": "H4XrUbheSkA=",
             "dtype": "f8"
            },
            "sizemode": "area",
            "sizeref": 0.7372475000000001,
            "symbol": "circle"
           },
           "mode": "markers",
           "name": "339--Miscellaneous Manufactures",
           "orientation": "v",
           "showlegend": true,
           "type": "scatter",
           "x": {
            "bdata": "AAAAAIAa9EA=",
            "dtype": "f8"
           },
           "xaxis": "x",
           "y": {
            "bdata": "AAAAAIDA6UA=",
            "dtype": "f8"
           },
           "yaxis": "y"
          },
          {
           "customdata": {
            "bdata": "AAAAAAAAGEA=",
            "dtype": "f8",
            "shape": "1, 1"
           },
           "hovertemplate": "<b>%{hovertext}</b><br><br>Product=111--Agricultural Products<br>Year=2009<br>Import=%{x}<br>Export=%{y}<br>Size=%{marker.size}<br>Rank=%{customdata[0]}<extra></extra>",
           "hovertext": [
            "111--Agricultural Products"
           ],
           "legendgroup": "111--Agricultural Products",
           "marker": {
            "color": "#19d3f3",
            "size": {
             "bdata": "fT81XrppSUA=",
             "dtype": "f8"
            },
            "sizemode": "area",
            "sizeref": 0.7372475000000001,
            "symbol": "circle"
           },
           "mode": "markers",
           "name": "111--Agricultural Products",
           "orientation": "v",
           "showlegend": true,
           "type": "scatter",
           "x": {
            "bdata": "AAAAAMD/1EA=",
            "dtype": "f8"
           },
           "xaxis": "x",
           "y": {
            "bdata": "AAAAAEDR6EA=",
            "dtype": "f8"
           },
           "yaxis": "y"
          },
          {
           "customdata": {
            "bdata": "AAAAAAAAHEA=",
            "dtype": "f8",
            "shape": "1, 1"
           },
           "hovertemplate": "<b>%{hovertext}</b><br><br>Product=311--Processed Foods<br>Year=2009<br>Import=%{x}<br>Export=%{y}<br>Size=%{marker.size}<br>Rank=%{customdata[0]}<extra></extra>",
           "hovertext": [
            "311--Processed Foods"
           ],
           "legendgroup": "311--Processed Foods",
           "marker": {
            "color": "#FF6692",
            "size": {
             "bdata": "9P3UeOlWRkA=",
             "dtype": "f8"
            },
            "sizemode": "area",
            "sizeref": 0.7372475000000001,
            "symbol": "circle"
           },
           "mode": "markers",
           "name": "311--Processed Foods",
           "orientation": "v",
           "showlegend": true,
           "type": "scatter",
           "x": {
            "bdata": "AAAAAICw4UA=",
            "dtype": "f8"
           },
           "xaxis": "x",
           "y": {
            "bdata": "AAAAAODQ5UA=",
            "dtype": "f8"
           },
           "yaxis": "y"
          },
          {
           "customdata": {
            "bdata": "AAAAAAAAIEA=",
            "dtype": "f8",
            "shape": "1, 1"
           },
           "hovertemplate": "<b>%{hovertext}</b><br><br>Product=324--Petroleum & Coal Products<br>Year=2009<br>Import=%{x}<br>Export=%{y}<br>Size=%{marker.size}<br>Rank=%{customdata[0]}<extra></extra>",
           "hovertext": [
            "324--Petroleum & Coal Products"
           ],
           "legendgroup": "324--Petroleum & Coal Products",
           "marker": {
            "color": "#B6E880",
            "size": {
             "bdata": "XI/C9SjMREA=",
             "dtype": "f8"
            },
            "sizemode": "area",
            "sizeref": 0.7372475000000001,
            "symbol": "circle"
           },
           "mode": "markers",
           "name": "324--Petroleum & Coal Products",
           "orientation": "v",
           "showlegend": true,
           "type": "scatter",
           "x": {
            "bdata": "AAAAAKCz6kA=",
            "dtype": "f8"
           },
           "xaxis": "x",
           "y": {
            "bdata": "AAAAAGBP5EA=",
            "dtype": "f8"
           },
           "yaxis": "y"
          },
          {
           "customdata": {
            "bdata": "AAAAAAAAIkA=",
            "dtype": "f8",
            "shape": "1, 1"
           },
           "hovertemplate": "<b>%{hovertext}</b><br><br>Product=331--Primary Metal Manufactures<br>Year=2009<br>Import=%{x}<br>Export=%{y}<br>Size=%{marker.size}<br>Rank=%{customdata[0]}<extra></extra>",
           "hovertext": [
            "331--Primary Metal Manufactures"
           ],
           "legendgroup": "331--Primary Metal Manufactures",
           "marker": {
            "color": "#FF97FF",
            "size": {
             "bdata": "hxbZzvdTREA=",
             "dtype": "f8"
            },
            "sizemode": "area",
            "sizeref": 0.7372475000000001,
            "symbol": "circle"
           },
           "mode": "markers",
           "name": "331--Primary Metal Manufactures",
           "orientation": "v",
           "showlegend": true,
           "type": "scatter",
           "x": {
            "bdata": "AAAAAEAj60A=",
            "dtype": "f8"
           },
           "xaxis": "x",
           "y": {
            "bdata": "AAAAAADa40A=",
            "dtype": "f8"
           },
           "yaxis": "y"
          },
          {
           "customdata": {
            "bdata": "AAAAAAAAJEA=",
            "dtype": "f8",
            "shape": "1, 1"
           },
           "hovertemplate": "<b>%{hovertext}</b><br><br>Product=990--Other Special Classification Provisions<br>Year=2009<br>Import=%{x}<br>Export=%{y}<br>Size=%{marker.size}<br>Rank=%{customdata[0]}<extra></extra>",
           "hovertext": [
            "990--Other Special Classification Provisions"
           ],
           "legendgroup": "990--Other Special Classification Provisions",
           "marker": {
            "color": "#FECB52",
            "size": {
             "bdata": "MQisHFpkQEA=",
             "dtype": "f8"
            },
            "sizemode": "area",
            "sizeref": 0.7372475000000001,
            "symbol": "circle"
           },
           "mode": "markers",
           "name": "990--Other Special Classification Provisions",
           "orientation": "v",
           "showlegend": true,
           "type": "scatter",
           "x": {
            "bdata": "AAAAAIAE1kA=",
            "dtype": "f8"
           },
           "xaxis": "x",
           "y": {
            "bdata": "AAAAAAAC4EA=",
            "dtype": "f8"
           },
           "yaxis": "y"
          }
         ],
         "name": "2009"
        },
        {
         "data": [
          {
           "customdata": {
            "bdata": "AAAAAAAA8D8=",
            "dtype": "f8",
            "shape": "1, 1"
           },
           "hovertemplate": "<b>%{hovertext}</b><br><br>Product=336--Transportation Equipment<br>Year=2010<br>Import=%{x}<br>Export=%{y}<br>Size=%{marker.size}<br>Rank=%{customdata[0]}<extra></extra>",
           "hovertext": [
            "336--Transportation Equipment"
           ],
           "legendgroup": "336--Transportation Equipment",
           "marker": {
            "color": "#636efa",
            "size": {
             "bdata": "qvHSTWLcZ0A=",
             "dtype": "f8"
            },
            "sizemode": "area",
            "sizeref": 0.7372475000000001,
            "symbol": "circle"
           },
           "mode": "markers",
           "name": "336--Transportation Equipment",
           "orientation": "v",
           "showlegend": true,
           "type": "scatter",
           "x": {
            "bdata": "AAAAAKBwDUE=",
            "dtype": "f8"
           },
           "xaxis": "x",
           "y": {
            "bdata": "AAAAADhNB0E=",
            "dtype": "f8"
           },
           "yaxis": "y"
          },
          {
           "customdata": {
            "bdata": "AAAAAAAAAEA=",
            "dtype": "f8",
            "shape": "1, 1"
           },
           "hovertemplate": "<b>%{hovertext}</b><br><br>Product=334--Computer & Electronic Products<br>Year=2010<br>Import=%{x}<br>Export=%{y}<br>Size=%{marker.size}<br>Rank=%{customdata[0]}<extra></extra>",
           "hovertext": [
            "334--Computer & Electronic Products"
           ],
           "legendgroup": "334--Computer & Electronic Products",
           "marker": {
            "color": "#EF553B",
            "size": {
             "bdata": "UrgehevNZ0A=",
             "dtype": "f8"
            },
            "sizemode": "area",
            "sizeref": 0.7372475000000001,
            "symbol": "circle"
           },
           "mode": "markers",
           "name": "334--Computer & Electronic Products",
           "orientation": "v",
           "showlegend": true,
           "type": "scatter",
           "x": {
            "bdata": "AAAAAOjWE0E=",
            "dtype": "f8"
           },
           "xaxis": "x",
           "y": {
            "bdata": "AAAAABg/B0E=",
            "dtype": "f8"
           },
           "yaxis": "y"
          },
          {
           "customdata": {
            "bdata": "AAAAAAAACEA=",
            "dtype": "f8",
            "shape": "1, 1"
           },
           "hovertemplate": "<b>%{hovertext}</b><br><br>Product=325--Chemicals<br>Year=2010<br>Import=%{x}<br>Export=%{y}<br>Size=%{marker.size}<br>Rank=%{customdata[0]}<extra></extra>",
           "hovertext": [
            "325--Chemicals"
           ],
           "legendgroup": "325--Chemicals",
           "marker": {
            "color": "#00cc96",
            "size": {
             "bdata": "8tJNYhBwZkA=",
             "dtype": "f8"
            },
            "sizemode": "area",
            "sizeref": 0.7372475000000001,
            "symbol": "circle"
           },
           "mode": "markers",
           "name": "325--Chemicals",
           "orientation": "v",
           "showlegend": true,
           "type": "scatter",
           "x": {
            "bdata": "AAAAAFiGBUE=",
            "dtype": "f8"
           },
           "xaxis": "x",
           "y": {
            "bdata": "AAAAAHDpBUE=",
            "dtype": "f8"
           },
           "yaxis": "y"
          },
          {
           "customdata": {
            "bdata": "AAAAAAAAEEA=",
            "dtype": "f8",
            "shape": "1, 1"
           },
           "hovertemplate": "<b>%{hovertext}</b><br><br>Product=333--Machinery, Except Electrical<br>Year=2010<br>Import=%{x}<br>Export=%{y}<br>Size=%{marker.size}<br>Rank=%{customdata[0]}<extra></extra>",
           "hovertext": [
            "333--Machinery, Except Electrical"
           ],
           "legendgroup": "333--Machinery, Except Electrical",
           "marker": {
            "color": "#ab63fa",
            "size": {
             "bdata": "mpmZmZk5YUA=",
             "dtype": "f8"
            },
            "sizemode": "area",
            "sizeref": 0.7372475000000001,
            "symbol": "circle"
           },
           "mode": "markers",
           "name": "333--Machinery, Except Electrical",
           "orientation": "v",
           "showlegend": true,
           "type": "scatter",
           "x": {
            "bdata": "AAAAAGDF+UA=",
            "dtype": "f8"
           },
           "xaxis": "x",
           "y": {
            "bdata": "AAAAAEDSAEE=",
            "dtype": "f8"
           },
           "yaxis": "y"
          },
          {
           "customdata": {
            "bdata": "AAAAAAAAGEA=",
            "dtype": "f8",
            "shape": "1, 1"
           },
           "hovertemplate": "<b>%{hovertext}</b><br><br>Product=339--Miscellaneous Manufactures<br>Year=2010<br>Import=%{x}<br>Export=%{y}<br>Size=%{marker.size}<br>Rank=%{customdata[0]}<extra></extra>",
           "hovertext": [
            "339--Miscellaneous Manufactures"
           ],
           "legendgroup": "339--Miscellaneous Manufactures",
           "marker": {
            "color": "#FFA15A",
            "size": {
             "bdata": "exSuR+GKTkA=",
             "dtype": "f8"
            },
            "sizemode": "area",
            "sizeref": 0.7372475000000001,
            "symbol": "circle"
           },
           "mode": "markers",
           "name": "339--Miscellaneous Manufactures",
           "orientation": "v",
           "showlegend": true,
           "type": "scatter",
           "x": {
            "bdata": "AAAAAIDd90A=",
            "dtype": "f8"
           },
           "xaxis": "x",
           "y": {
            "bdata": "AAAAAKDT7UA=",
            "dtype": "f8"
           },
           "yaxis": "y"
          },
          {
           "customdata": {
            "bdata": "AAAAAAAAHEA=",
            "dtype": "f8",
            "shape": "1, 1"
           },
           "hovertemplate": "<b>%{hovertext}</b><br><br>Product=111--Agricultural Products<br>Year=2010<br>Import=%{x}<br>Export=%{y}<br>Size=%{marker.size}<br>Rank=%{customdata[0]}<extra></extra>",
           "hovertext": [
            "111--Agricultural Products"
           ],
           "legendgroup": "111--Agricultural Products",
           "marker": {
            "color": "#19d3f3",
            "size": {
             "bdata": "c2iR7XwfTkA=",
             "dtype": "f8"
            },
            "sizemode": "area",
            "sizeref": 0.7372475000000001,
            "symbol": "circle"
           },
           "mode": "markers",
           "name": "111--Agricultural Products",
           "orientation": "v",
           "showlegend": true,
           "type": "scatter",
           "x": {
            "bdata": "AAAAAIBv10A=",
            "dtype": "f8"
           },
           "xaxis": "x",
           "y": {
            "bdata": "AAAAAMBq7UA=",
            "dtype": "f8"
           },
           "yaxis": "y"
          },
          {
           "customdata": {
            "bdata": "AAAAAAAAIkA=",
            "dtype": "f8",
            "shape": "1, 1"
           },
           "hovertemplate": "<b>%{hovertext}</b><br><br>Product=311--Processed Foods<br>Year=2010<br>Import=%{x}<br>Export=%{y}<br>Size=%{marker.size}<br>Rank=%{customdata[0]}<extra></extra>",
           "hovertext": [
            "311--Processed Foods"
           ],
           "legendgroup": "311--Processed Foods",
           "marker": {
            "color": "#FF6692",
            "size": {
             "bdata": "bxKDwMrxSUA=",
             "dtype": "f8"
            },
            "sizemode": "area",
            "sizeref": 0.7372475000000001,
            "symbol": "circle"
           },
           "mode": "markers",
           "name": "311--Processed Foods",
           "orientation": "v",
           "showlegend": true,
           "type": "scatter",
           "x": {
            "bdata": "AAAAAIAS5EA=",
            "dtype": "f8"
           },
           "xaxis": "x",
           "y": {
            "bdata": "AAAAACBW6UA=",
            "dtype": "f8"
           },
           "yaxis": "y"
          },
          {
           "customdata": {
            "bdata": "AAAAAAAAFEA=",
            "dtype": "f8",
            "shape": "1, 1"
           },
           "hovertemplate": "<b>%{hovertext}</b><br><br>Product=324--Petroleum & Coal Products<br>Year=2010<br>Import=%{x}<br>Export=%{y}<br>Size=%{marker.size}<br>Rank=%{customdata[0]}<extra></extra>",
           "hovertext": [
            "324--Petroleum & Coal Products"
           ],
           "legendgroup": "324--Petroleum & Coal Products",
           "marker": {
            "color": "#B6E880",
            "size": {
             "bdata": "8tJNYhC4TkA=",
             "dtype": "f8"
            },
            "sizemode": "area",
            "sizeref": 0.7372475000000001,
            "symbol": "circle"
           },
           "mode": "markers",
           "name": "324--Petroleum & Coal Products",
           "orientation": "v",
           "showlegend": true,
           "type": "scatter",
           "x": {
            "bdata": "AAAAABAx8UA=",
            "dtype": "f8"
           },
           "xaxis": "x",
           "y": {
            "bdata": "AAAAAMD/7UA=",
            "dtype": "f8"
           },
           "yaxis": "y"
          },
          {
           "customdata": {
            "bdata": "AAAAAAAAIEA=",
            "dtype": "f8",
            "shape": "1, 1"
           },
           "hovertemplate": "<b>%{hovertext}</b><br><br>Product=331--Primary Metal Manufactures<br>Year=2010<br>Import=%{x}<br>Export=%{y}<br>Size=%{marker.size}<br>Rank=%{customdata[0]}<extra></extra>",
           "hovertext": [
            "331--Primary Metal Manufactures"
           ],
           "legendgroup": "331--Primary Metal Manufactures",
           "marker": {
            "color": "#FF97FF",
            "size": {
             "bdata": "hetRuB7FSkA=",
             "dtype": "f8"
            },
            "sizemode": "area",
            "sizeref": 0.7372475000000001,
            "symbol": "circle"
           },
           "mode": "markers",
           "name": "331--Primary Metal Manufactures",
           "orientation": "v",
           "showlegend": true,
           "type": "scatter",
           "x": {
            "bdata": "AAAAAIBx80A=",
            "dtype": "f8"
           },
           "xaxis": "x",
           "y": {
            "bdata": "AAAAAIAk6kA=",
            "dtype": "f8"
           },
           "yaxis": "y"
          },
          {
           "customdata": {
            "bdata": "AAAAAAAAJEA=",
            "dtype": "f8",
            "shape": "1, 1"
           },
           "hovertemplate": "<b>%{hovertext}</b><br><br>Product=990--Other Special Classification Provisions<br>Year=2010<br>Import=%{x}<br>Export=%{y}<br>Size=%{marker.size}<br>Rank=%{customdata[0]}<extra></extra>",
           "hovertext": [
            "990--Other Special Classification Provisions"
           ],
           "legendgroup": "990--Other Special Classification Provisions",
           "marker": {
            "color": "#FECB52",
            "size": {
             "bdata": "MzMzMzPzRUA=",
             "dtype": "f8"
            },
            "sizemode": "area",
            "sizeref": 0.7372475000000001,
            "symbol": "circle"
           },
           "mode": "markers",
           "name": "990--Other Special Classification Provisions",
           "orientation": "v",
           "showlegend": true,
           "type": "scatter",
           "x": {
            "bdata": "AAAAAEAq00A=",
            "dtype": "f8"
           },
           "xaxis": "x",
           "y": {
            "bdata": "AAAAAIBv5UA=",
            "dtype": "f8"
           },
           "yaxis": "y"
          }
         ],
         "name": "2010"
        },
        {
         "data": [
          {
           "customdata": {
            "bdata": "AAAAAAAA8D8=",
            "dtype": "f8",
            "shape": "1, 1"
           },
           "hovertemplate": "<b>%{hovertext}</b><br><br>Product=336--Transportation Equipment<br>Year=2011<br>Import=%{x}<br>Export=%{y}<br>Size=%{marker.size}<br>Rank=%{customdata[0]}<extra></extra>",
           "hovertext": [
            "336--Transportation Equipment"
           ],
           "legendgroup": "336--Transportation Equipment",
           "marker": {
            "color": "#636efa",
            "size": {
             "bdata": "IbByaJFBa0A=",
             "dtype": "f8"
            },
            "sizemode": "area",
            "sizeref": 0.7372475000000001,
            "symbol": "circle"
           },
           "mode": "markers",
           "name": "336--Transportation Equipment",
           "orientation": "v",
           "showlegend": true,
           "type": "scatter",
           "x": {
            "bdata": "AAAAAJyBEEE=",
            "dtype": "f8"
           },
           "xaxis": "x",
           "y": {
            "bdata": "AAAAAAieCkE=",
            "dtype": "f8"
           },
           "yaxis": "y"
          },
          {
           "customdata": {
            "bdata": "AAAAAAAAAEA=",
            "dtype": "f8",
            "shape": "1, 1"
           },
           "hovertemplate": "<b>%{hovertext}</b><br><br>Product=334--Computer & Electronic Products<br>Year=2011<br>Import=%{x}<br>Export=%{y}<br>Size=%{marker.size}<br>Rank=%{customdata[0]}<extra></extra>",
           "hovertext": [
            "334--Computer & Electronic Products"
           ],
           "legendgroup": "334--Computer & Electronic Products",
           "marker": {
            "color": "#EF553B",
            "size": {
             "bdata": "WDm0yHYyaUA=",
             "dtype": "f8"
            },
            "sizemode": "area",
            "sizeref": 0.7372475000000001,
            "symbol": "circle"
           },
           "mode": "markers",
           "name": "334--Computer & Electronic Products",
           "orientation": "v",
           "showlegend": true,
           "type": "scatter",
           "x": {
            "bdata": "AAAAANj/FEE=",
            "dtype": "f8"
           },
           "xaxis": "x",
           "y": {
            "bdata": "AAAAAEibCEE=",
            "dtype": "f8"
           },
           "yaxis": "y"
          },
          {
           "customdata": {
            "bdata": "AAAAAAAACEA=",
            "dtype": "f8",
            "shape": "1, 1"
           },
           "hovertemplate": "<b>%{hovertext}</b><br><br>Product=325--Chemicals<br>Year=2011<br>Import=%{x}<br>Export=%{y}<br>Size=%{marker.size}<br>Rank=%{customdata[0]}<extra></extra>",
           "hovertext": [
            "325--Chemicals"
           ],
           "legendgroup": "325--Chemicals",
           "marker": {
            "color": "#00cc96",
            "size": {
             "bdata": "16NwPQqvaEA=",
             "dtype": "f8"
            },
            "sizemode": "area",
            "sizeref": 0.7372475000000001,
            "symbol": "circle"
           },
           "mode": "markers",
           "name": "325--Chemicals",
           "orientation": "v",
           "showlegend": true,
           "type": "scatter",
           "x": {
            "bdata": "AAAAANijCEE=",
            "dtype": "f8"
           },
           "xaxis": "x",
           "y": {
            "bdata": "AAAAAPAaCEE=",
            "dtype": "f8"
           },
           "yaxis": "y"
          },
          {
           "customdata": {
            "bdata": "AAAAAAAAEEA=",
            "dtype": "f8",
            "shape": "1, 1"
           },
           "hovertemplate": "<b>%{hovertext}</b><br><br>Product=333--Machinery, Except Electrical<br>Year=2011<br>Import=%{x}<br>Export=%{y}<br>Size=%{marker.size}<br>Rank=%{customdata[0]}<extra></extra>",
           "hovertext": [
            "333--Machinery, Except Electrical"
           ],
           "legendgroup": "333--Machinery, Except Electrical",
           "marker": {
            "color": "#ab63fa",
            "size": {
             "bdata": "fT81XrqlY0A=",
             "dtype": "f8"
            },
            "sizemode": "area",
            "sizeref": 0.7372475000000001,
            "symbol": "circle"
           },
           "mode": "markers",
           "name": "333--Machinery, Except Electrical",
           "orientation": "v",
           "showlegend": true,
           "type": "scatter",
           "x": {
            "bdata": "AAAAAOB/AEE=",
            "dtype": "f8"
           },
           "xaxis": "x",
           "y": {
            "bdata": "AAAAANgvA0E=",
            "dtype": "f8"
           },
           "yaxis": "y"
          },
          {
           "customdata": {
            "bdata": "AAAAAAAAIEA=",
            "dtype": "f8",
            "shape": "1, 1"
           },
           "hovertemplate": "<b>%{hovertext}</b><br><br>Product=339--Miscellaneous Manufactures<br>Year=2011<br>Import=%{x}<br>Export=%{y}<br>Size=%{marker.size}<br>Rank=%{customdata[0]}<extra></extra>",
           "hovertext": [
            "339--Miscellaneous Manufactures"
           ],
           "legendgroup": "339--Miscellaneous Manufactures",
           "marker": {
            "color": "#FFA15A",
            "size": {
             "bdata": "TmIQWDl0UUA=",
             "dtype": "f8"
            },
            "sizemode": "area",
            "sizeref": 0.7372475000000001,
            "symbol": "circle"
           },
           "mode": "markers",
           "name": "339--Miscellaneous Manufactures",
           "orientation": "v",
           "showlegend": true,
           "type": "scatter",
           "x": {
            "bdata": "AAAAAHB/+UA=",
            "dtype": "f8"
           },
           "xaxis": "x",
           "y": {
            "bdata": "AAAAAIAL8UA=",
            "dtype": "f8"
           },
           "yaxis": "y"
          },
          {
           "customdata": {
            "bdata": "AAAAAAAAHEA=",
            "dtype": "f8",
            "shape": "1, 1"
           },
           "hovertemplate": "<b>%{hovertext}</b><br><br>Product=111--Agricultural Products<br>Year=2011<br>Import=%{x}<br>Export=%{y}<br>Size=%{marker.size}<br>Rank=%{customdata[0]}<extra></extra>",
           "hovertext": [
            "111--Agricultural Products"
           ],
           "legendgroup": "111--Agricultural Products",
           "marker": {
            "color": "#19d3f3",
            "size": {
             "bdata": "nu+nxkv/UUA=",
             "dtype": "f8"
            },
            "sizemode": "area",
            "sizeref": 0.7372475000000001,
            "symbol": "circle"
           },
           "mode": "markers",
           "name": "111--Agricultural Products",
           "orientation": "v",
           "showlegend": true,
           "type": "scatter",
           "x": {
            "bdata": "AAAAAAAr3EA=",
            "dtype": "f8"
           },
           "xaxis": "x",
           "y": {
            "bdata": "AAAAAFCT8UA=",
            "dtype": "f8"
           },
           "yaxis": "y"
          },
          {
           "customdata": {
            "bdata": "AAAAAAAAIkA=",
            "dtype": "f8",
            "shape": "1, 1"
           },
           "hovertemplate": "<b>%{hovertext}</b><br><br>Product=311--Processed Foods<br>Year=2011<br>Import=%{x}<br>Export=%{y}<br>Size=%{marker.size}<br>Rank=%{customdata[0]}<extra></extra>",
           "hovertext": [
            "311--Processed Foods"
           ],
           "legendgroup": "311--Processed Foods",
           "marker": {
            "color": "#FF6692",
            "size": {
             "bdata": "9ihcj8L1TUA=",
             "dtype": "f8"
            },
            "sizemode": "area",
            "sizeref": 0.7372475000000001,
            "symbol": "circle"
           },
           "mode": "markers",
           "name": "311--Processed Foods",
           "orientation": "v",
           "showlegend": true,
           "type": "scatter",
           "x": {
            "bdata": "AAAAAACC6EA=",
            "dtype": "f8"
           },
           "xaxis": "x",
           "y": {
            "bdata": "AAAAAABC7UA=",
            "dtype": "f8"
           },
           "yaxis": "y"
          },
          {
           "customdata": {
            "bdata": "AAAAAAAAFEA=",
            "dtype": "f8",
            "shape": "1, 1"
           },
           "hovertemplate": "<b>%{hovertext}</b><br><br>Product=324--Petroleum & Coal Products<br>Year=2011<br>Import=%{x}<br>Export=%{y}<br>Size=%{marker.size}<br>Rank=%{customdata[0]}<extra></extra>",
           "hovertext": [
            "324--Petroleum & Coal Products"
           ],
           "legendgroup": "324--Petroleum & Coal Products",
           "marker": {
            "color": "#B6E880",
            "size": {
             "bdata": "wcqhRbZ7WUA=",
             "dtype": "f8"
            },
            "sizemode": "area",
            "sizeref": 0.7372475000000001,
            "symbol": "circle"
           },
           "mode": "markers",
           "name": "324--Petroleum & Coal Products",
           "orientation": "v",
           "showlegend": true,
           "type": "scatter",
           "x": {
            "bdata": "AAAAAFBm90A=",
            "dtype": "f8"
           },
           "xaxis": "x",
           "y": {
            "bdata": "AAAAANDi+EA=",
            "dtype": "f8"
           },
           "yaxis": "y"
          },
          {
           "customdata": {
            "bdata": "AAAAAAAAGEA=",
            "dtype": "f8",
            "shape": "1, 1"
           },
           "hovertemplate": "<b>%{hovertext}</b><br><br>Product=331--Primary Metal Manufactures<br>Year=2011<br>Import=%{x}<br>Export=%{y}<br>Size=%{marker.size}<br>Rank=%{customdata[0]}<extra></extra>",
           "hovertext": [
            "331--Primary Metal Manufactures"
           ],
           "legendgroup": "331--Primary Metal Manufactures",
           "marker": {
            "color": "#FF97FF",
            "size": {
             "bdata": "exSuR+EaU0A=",
             "dtype": "f8"
            },
            "sizemode": "area",
            "sizeref": 0.7372475000000001,
            "symbol": "circle"
           },
           "mode": "markers",
           "name": "331--Primary Metal Manufactures",
           "orientation": "v",
           "showlegend": true,
           "type": "scatter",
           "x": {
            "bdata": "AAAAADBE+UA=",
            "dtype": "f8"
           },
           "xaxis": "x",
           "y": {
            "bdata": "AAAAAECo8kA=",
            "dtype": "f8"
           },
           "yaxis": "y"
          },
          {
           "customdata": {
            "bdata": "AAAAAAAAJEA=",
            "dtype": "f8",
            "shape": "1, 1"
           },
           "hovertemplate": "<b>%{hovertext}</b><br><br>Product=990--Other Special Classification Provisions<br>Year=2011<br>Import=%{x}<br>Export=%{y}<br>Size=%{marker.size}<br>Rank=%{customdata[0]}<extra></extra>",
           "hovertext": [
            "990--Other Special Classification Provisions"
           ],
           "legendgroup": "990--Other Special Classification Provisions",
           "marker": {
            "color": "#FECB52",
            "size": {
             "bdata": "6SYxCKxcRUA=",
             "dtype": "f8"
            },
            "sizemode": "area",
            "sizeref": 0.7372475000000001,
            "symbol": "circle"
           },
           "mode": "markers",
           "name": "990--Other Special Classification Provisions",
           "orientation": "v",
           "showlegend": true,
           "type": "scatter",
           "x": {
            "bdata": "AAAAAEAI1EA=",
            "dtype": "f8"
           },
           "xaxis": "x",
           "y": {
            "bdata": "AAAAAIDc5EA=",
            "dtype": "f8"
           },
           "yaxis": "y"
          }
         ],
         "name": "2011"
        },
        {
         "data": [
          {
           "customdata": {
            "bdata": "AAAAAAAA8D8=",
            "dtype": "f8",
            "shape": "1, 1"
           },
           "hovertemplate": "<b>%{hovertext}</b><br><br>Product=336--Transportation Equipment<br>Year=2012<br>Import=%{x}<br>Export=%{y}<br>Size=%{marker.size}<br>Rank=%{customdata[0]}<extra></extra>",
           "hovertext": [
            "336--Transportation Equipment"
           ],
           "legendgroup": "336--Transportation Equipment",
           "marker": {
            "color": "#636efa",
            "size": {
             "bdata": "EFg5tMgqbkA=",
             "dtype": "f8"
            },
            "sizemode": "area",
            "sizeref": 0.7372475000000001,
            "symbol": "circle"
           },
           "mode": "markers",
           "name": "336--Transportation Equipment",
           "orientation": "v",
           "showlegend": true,
           "type": "scatter",
           "x": {
            "bdata": "AAAAAFBpE0E=",
            "dtype": "f8"
           },
           "xaxis": "x",
           "y": {
            "bdata": "AAAAAMh1DUE=",
            "dtype": "f8"
           },
           "yaxis": "y"
          },
          {
           "customdata": {
            "bdata": "AAAAAAAAAEA=",
            "dtype": "f8",
            "shape": "1, 1"
           },
           "hovertemplate": "<b>%{hovertext}</b><br><br>Product=334--Computer & Electronic Products<br>Year=2012<br>Import=%{x}<br>Export=%{y}<br>Size=%{marker.size}<br>Rank=%{customdata[0]}<extra></extra>",
           "hovertext": [
            "334--Computer & Electronic Products"
           ],
           "legendgroup": "334--Computer & Electronic Products",
           "marker": {
            "color": "#EF553B",
            "size": {
             "bdata": "aJHtfD9laUA=",
             "dtype": "f8"
            },
            "sizemode": "area",
            "sizeref": 0.7372475000000001,
            "symbol": "circle"
           },
           "mode": "markers",
           "name": "334--Computer & Electronic Products",
           "orientation": "v",
           "showlegend": true,
           "type": "scatter",
           "x": {
            "bdata": "AAAAAEg6FUE=",
            "dtype": "f8"
           },
           "xaxis": "x",
           "y": {
            "bdata": "AAAAAODMCEE=",
            "dtype": "f8"
           },
           "yaxis": "y"
          },
          {
           "customdata": {
            "bdata": "AAAAAAAACEA=",
            "dtype": "f8",
            "shape": "1, 1"
           },
           "hovertemplate": "<b>%{hovertext}</b><br><br>Product=325--Chemicals<br>Year=2012<br>Import=%{x}<br>Export=%{y}<br>Size=%{marker.size}<br>Rank=%{customdata[0]}<extra></extra>",
           "hovertext": [
            "325--Chemicals"
           ],
           "legendgroup": "325--Chemicals",
           "marker": {
            "color": "#00cc96",
            "size": {
             "bdata": "sHJoke2waEA=",
             "dtype": "f8"
            },
            "sizemode": "area",
            "sizeref": 0.7372475000000001,
            "symbol": "circle"
           },
           "mode": "markers",
           "name": "325--Chemicals",
           "orientation": "v",
           "showlegend": true,
           "type": "scatter",
           "x": {
            "bdata": "AAAAAGAoCEE=",
            "dtype": "f8"
           },
           "xaxis": "x",
           "y": {
            "bdata": "AAAAAMgcCEE=",
            "dtype": "f8"
           },
           "yaxis": "y"
          },
          {
           "customdata": {
            "bdata": "AAAAAAAAEEA=",
            "dtype": "f8",
            "shape": "1, 1"
           },
           "hovertemplate": "<b>%{hovertext}</b><br><br>Product=333--Machinery, Except Electrical<br>Year=2012<br>Import=%{x}<br>Export=%{y}<br>Size=%{marker.size}<br>Rank=%{customdata[0]}<extra></extra>",
           "hovertext": [
            "333--Machinery, Except Electrical"
           ],
           "legendgroup": "333--Machinery, Except Electrical",
           "marker": {
            "color": "#ab63fa",
            "size": {
             "bdata": "qMZLN4nxY0A=",
             "dtype": "f8"
            },
            "sizemode": "area",
            "sizeref": 0.7372475000000001,
            "symbol": "circle"
           },
           "mode": "markers",
           "name": "333--Machinery, Except Electrical",
           "orientation": "v",
           "showlegend": true,
           "type": "scatter",
           "x": {
            "bdata": "AAAAAKh2AkE=",
            "dtype": "f8"
           },
           "xaxis": "x",
           "y": {
            "bdata": "AAAAAOB5A0E=",
            "dtype": "f8"
           },
           "yaxis": "y"
          },
          {
           "customdata": {
            "bdata": "AAAAAAAAHEA=",
            "dtype": "f8",
            "shape": "1, 1"
           },
           "hovertemplate": "<b>%{hovertext}</b><br><br>Product=339--Miscellaneous Manufactures<br>Year=2012<br>Import=%{x}<br>Export=%{y}<br>Size=%{marker.size}<br>Rank=%{customdata[0]}<extra></extra>",
           "hovertext": [
            "339--Miscellaneous Manufactures"
           ],
           "legendgroup": "339--Miscellaneous Manufactures",
           "marker": {
            "color": "#FFA15A",
            "size": {
             "bdata": "EFg5tMgeUkA=",
             "dtype": "f8"
            },
            "sizemode": "area",
            "sizeref": 0.7372475000000001,
            "symbol": "circle"
           },
           "mode": "markers",
           "name": "339--Miscellaneous Manufactures",
           "orientation": "v",
           "showlegend": true,
           "type": "scatter",
           "x": {
            "bdata": "AAAAAADd+EA=",
            "dtype": "f8"
           },
           "xaxis": "x",
           "y": {
            "bdata": "AAAAABCy8UA=",
            "dtype": "f8"
           },
           "yaxis": "y"
          },
          {
           "customdata": {
            "bdata": "AAAAAAAAIEA=",
            "dtype": "f8",
            "shape": "1, 1"
           },
           "hovertemplate": "<b>%{hovertext}</b><br><br>Product=111--Agricultural Products<br>Year=2012<br>Import=%{x}<br>Export=%{y}<br>Size=%{marker.size}<br>Rank=%{customdata[0]}<extra></extra>",
           "hovertext": [
            "111--Agricultural Products"
           ],
           "legendgroup": "111--Agricultural Products",
           "marker": {
            "color": "#19d3f3",
            "size": {
             "bdata": "okW28/3EUUA=",
             "dtype": "f8"
            },
            "sizemode": "area",
            "sizeref": 0.7372475000000001,
            "symbol": "circle"
           },
           "mode": "markers",
           "name": "111--Agricultural Products",
           "orientation": "v",
           "showlegend": true,
           "type": "scatter",
           "x": {
            "bdata": "AAAAAMCk3EA=",
            "dtype": "f8"
           },
           "xaxis": "x",
           "y": {
            "bdata": "AAAAAGBa8UA=",
            "dtype": "f8"
           },
           "yaxis": "y"
          },
          {
           "customdata": {
            "bdata": "AAAAAAAAIkA=",
            "dtype": "f8",
            "shape": "1, 1"
           },
           "hovertemplate": "<b>%{hovertext}</b><br><br>Product=311--Processed Foods<br>Year=2012<br>Import=%{x}<br>Export=%{y}<br>Size=%{marker.size}<br>Rank=%{customdata[0]}<extra></extra>",
           "hovertext": [
            "311--Processed Foods"
           ],
           "legendgroup": "311--Processed Foods",
           "marker": {
            "color": "#FF6692",
            "size": {
             "bdata": "F9nO91M7UEA=",
             "dtype": "f8"
            },
            "sizemode": "area",
            "sizeref": 0.7372475000000001,
            "symbol": "circle"
           },
           "mode": "markers",
           "name": "311--Processed Foods",
           "orientation": "v",
           "showlegend": true,
           "type": "scatter",
           "x": {
            "bdata": "AAAAAGCJ6kA=",
            "dtype": "f8"
           },
           "xaxis": "x",
           "y": {
            "bdata": "AAAAAOCz70A=",
            "dtype": "f8"
           },
           "yaxis": "y"
          },
          {
           "customdata": {
            "bdata": "AAAAAAAAFEA=",
            "dtype": "f8",
            "shape": "1, 1"
           },
           "hovertemplate": "<b>%{hovertext}</b><br><br>Product=324--Petroleum & Coal Products<br>Year=2012<br>Import=%{x}<br>Export=%{y}<br>Size=%{marker.size}<br>Rank=%{customdata[0]}<extra></extra>",
           "hovertext": [
            "324--Petroleum & Coal Products"
           ],
           "legendgroup": "324--Petroleum & Coal Products",
           "marker": {
            "color": "#B6E880",
            "size": {
             "bdata": "mpmZmZnJW0A=",
             "dtype": "f8"
            },
            "sizemode": "area",
            "sizeref": 0.7372475000000001,
            "symbol": "circle"
           },
           "mode": "markers",
           "name": "324--Petroleum & Coal Products",
           "orientation": "v",
           "showlegend": true,
           "type": "scatter",
           "x": {
            "bdata": "AAAAAAD39kA=",
            "dtype": "f8"
           },
           "xaxis": "x",
           "y": {
            "bdata": "AAAAAOAi+0A=",
            "dtype": "f8"
           },
           "yaxis": "y"
          },
          {
           "customdata": {
            "bdata": "AAAAAAAAGEA=",
            "dtype": "f8",
            "shape": "1, 1"
           },
           "hovertemplate": "<b>%{hovertext}</b><br><br>Product=331--Primary Metal Manufactures<br>Year=2012<br>Import=%{x}<br>Export=%{y}<br>Size=%{marker.size}<br>Rank=%{customdata[0]}<extra></extra>",
           "hovertext": [
            "331--Primary Metal Manufactures"
           ],
           "legendgroup": "331--Primary Metal Manufactures",
           "marker": {
            "color": "#FF97FF",
            "size": {
             "bdata": "YOXQItuZU0A=",
             "dtype": "f8"
            },
            "sizemode": "area",
            "sizeref": 0.7372475000000001,
            "symbol": "circle"
           },
           "mode": "markers",
           "name": "331--Primary Metal Manufactures",
           "orientation": "v",
           "showlegend": true,
           "type": "scatter",
           "x": {
            "bdata": "AAAAAIDF+EA=",
            "dtype": "f8"
           },
           "xaxis": "x",
           "y": {
            "bdata": "AAAAAEAk80A=",
            "dtype": "f8"
           },
           "yaxis": "y"
          },
          {
           "customdata": {
            "bdata": "AAAAAAAAJEA=",
            "dtype": "f8",
            "shape": "1, 1"
           },
           "hovertemplate": "<b>%{hovertext}</b><br><br>Product=335--Electrical Equipment, Appliances & Components<br>Year=2012<br>Import=%{x}<br>Export=%{y}<br>Size=%{marker.size}<br>Rank=%{customdata[0]}<extra></extra>",
           "hovertext": [
            "335--Electrical Equipment, Appliances & Components"
           ],
           "legendgroup": "335--Electrical Equipment, Appliances & Components",
           "marker": {
            "color": "#636efa",
            "size": {
             "bdata": "2c73U+MlS0A=",
             "dtype": "f8"
            },
            "sizemode": "area",
            "sizeref": 0.7372475000000001,
            "symbol": "circle"
           },
           "mode": "markers",
           "name": "335--Electrical Equipment, Appliances & Components",
           "orientation": "v",
           "showlegend": true,
           "type": "scatter",
           "x": {
            "bdata": "AAAAANDK9UA=",
            "dtype": "f8"
           },
           "xaxis": "x",
           "y": {
            "bdata": "AAAAAACD6kA=",
            "dtype": "f8"
           },
           "yaxis": "y"
          }
         ],
         "name": "2012"
        },
        {
         "data": [
          {
           "customdata": {
            "bdata": "AAAAAAAA8D8=",
            "dtype": "f8",
            "shape": "1, 1"
           },
           "hovertemplate": "<b>%{hovertext}</b><br><br>Product=336--Transportation Equipment<br>Year=2013<br>Import=%{x}<br>Export=%{y}<br>Size=%{marker.size}<br>Rank=%{customdata[0]}<extra></extra>",
           "hovertext": [
            "336--Transportation Equipment"
           ],
           "legendgroup": "336--Transportation Equipment",
           "marker": {
            "color": "#636efa",
            "size": {
             "bdata": "f2q8dJMkcEA=",
             "dtype": "f8"
            },
            "sizemode": "area",
            "sizeref": 0.7372475000000001,
            "symbol": "circle"
           },
           "mode": "markers",
           "name": "336--Transportation Equipment",
           "orientation": "v",
           "showlegend": true,
           "type": "scatter",
           "x": {
            "bdata": "AAAAAIBlFEE=",
            "dtype": "f8"
           },
           "xaxis": "x",
           "y": {
            "bdata": "AAAAAHCHD0E=",
            "dtype": "f8"
           },
           "yaxis": "y"
          },
          {
           "customdata": {
            "bdata": "AAAAAAAAAEA=",
            "dtype": "f8",
            "shape": "1, 1"
           },
           "hovertemplate": "<b>%{hovertext}</b><br><br>Product=334--Computer & Electronic Products<br>Year=2013<br>Import=%{x}<br>Export=%{y}<br>Size=%{marker.size}<br>Rank=%{customdata[0]}<extra></extra>",
           "hovertext": [
            "334--Computer & Electronic Products"
           ],
           "legendgroup": "334--Computer & Electronic Products",
           "marker": {
            "color": "#EF553B",
            "size": {
             "bdata": "FK5H4XqUaUA=",
             "dtype": "f8"
            },
            "sizemode": "area",
            "sizeref": 0.7372475000000001,
            "symbol": "circle"
           },
           "mode": "markers",
           "name": "334--Computer & Electronic Products",
           "orientation": "v",
           "showlegend": true,
           "type": "scatter",
           "x": {
            "bdata": "AAAAAExyFUE=",
            "dtype": "f8"
           },
           "xaxis": "x",
           "y": {
            "bdata": "AAAAAAD7CEE=",
            "dtype": "f8"
           },
           "yaxis": "y"
          },
          {
           "customdata": {
            "bdata": "AAAAAAAACEA=",
            "dtype": "f8",
            "shape": "1, 1"
           },
           "hovertemplate": "<b>%{hovertext}</b><br><br>Product=325--Chemicals<br>Year=2013<br>Import=%{x}<br>Export=%{y}<br>Size=%{marker.size}<br>Rank=%{customdata[0]}<extra></extra>",
           "hovertext": [
            "325--Chemicals"
           ],
           "legendgroup": "325--Chemicals",
           "marker": {
            "color": "#00cc96",
            "size": {
             "bdata": "8tJNYhDwaEA=",
             "dtype": "f8"
            },
            "sizemode": "area",
            "sizeref": 0.7372475000000001,
            "symbol": "circle"
           },
           "mode": "markers",
           "name": "325--Chemicals",
           "orientation": "v",
           "showlegend": true,
           "type": "scatter",
           "x": {
            "bdata": "AAAAAAjbB0E=",
            "dtype": "f8"
           },
           "xaxis": "x",
           "y": {
            "bdata": "AAAAAHBaCEE=",
            "dtype": "f8"
           },
           "yaxis": "y"
          },
          {
           "customdata": {
            "bdata": "AAAAAAAAEEA=",
            "dtype": "f8",
            "shape": "1, 1"
           },
           "hovertemplate": "<b>%{hovertext}</b><br><br>Product=333--Machinery, Except Electrical<br>Year=2013<br>Import=%{x}<br>Export=%{y}<br>Size=%{marker.size}<br>Rank=%{customdata[0]}<extra></extra>",
           "hovertext": [
            "333--Machinery, Except Electrical"
           ],
           "legendgroup": "333--Machinery, Except Electrical",
           "marker": {
            "color": "#ab63fa",
            "size": {
             "bdata": "nMQgsHLEYkA=",
             "dtype": "f8"
            },
            "sizemode": "area",
            "sizeref": 0.7372475000000001,
            "symbol": "circle"
           },
           "mode": "markers",
           "name": "333--Machinery, Except Electrical",
           "orientation": "v",
           "showlegend": true,
           "type": "scatter",
           "x": {
            "bdata": "AAAAACjtAUE=",
            "dtype": "f8"
           },
           "xaxis": "x",
           "y": {
            "bdata": "AAAAANhTAkE=",
            "dtype": "f8"
           },
           "yaxis": "y"
          },
          {
           "customdata": {
            "bdata": "AAAAAAAAGEA=",
            "dtype": "f8",
            "shape": "1, 1"
           },
           "hovertemplate": "<b>%{hovertext}</b><br><br>Product=339--Miscellaneous Manufactures<br>Year=2013<br>Import=%{x}<br>Export=%{y}<br>Size=%{marker.size}<br>Rank=%{customdata[0]}<extra></extra>",
           "hovertext": [
            "339--Miscellaneous Manufactures"
           ],
           "legendgroup": "339--Miscellaneous Manufactures",
           "marker": {
            "color": "#FFA15A",
            "size": {
             "bdata": "SgwCK4d2U0A=",
             "dtype": "f8"
            },
            "sizemode": "area",
            "sizeref": 0.7372475000000001,
            "symbol": "circle"
           },
           "mode": "markers",
           "name": "339--Miscellaneous Manufactures",
           "orientation": "v",
           "showlegend": true,
           "type": "scatter",
           "x": {
            "bdata": "AAAAAKBP+kA=",
            "dtype": "f8"
           },
           "xaxis": "x",
           "y": {
            "bdata": "AAAAAMAB80A=",
            "dtype": "f8"
           },
           "yaxis": "y"
          },
          {
           "customdata": {
            "bdata": "AAAAAAAAIEA=",
            "dtype": "f8",
            "shape": "1, 1"
           },
           "hovertemplate": "<b>%{hovertext}</b><br><br>Product=111--Agricultural Products<br>Year=2013<br>Import=%{x}<br>Export=%{y}<br>Size=%{marker.size}<br>Rank=%{customdata[0]}<extra></extra>",
           "hovertext": [
            "111--Agricultural Products"
           ],
           "legendgroup": "111--Agricultural Products",
           "marker": {
            "color": "#19d3f3",
            "size": {
             "bdata": "pHA9Ctc7UUA=",
             "dtype": "f8"
            },
            "sizemode": "area",
            "sizeref": 0.7372475000000001,
            "symbol": "circle"
           },
           "mode": "markers",
           "name": "111--Agricultural Products",
           "orientation": "v",
           "showlegend": true,
           "type": "scatter",
           "x": {
            "bdata": "AAAAAEAG30A=",
            "dtype": "f8"
           },
           "xaxis": "x",
           "y": {
            "bdata": "AAAAAHDU8EA=",
            "dtype": "f8"
           },
           "yaxis": "y"
          },
          {
           "customdata": {
            "bdata": "AAAAAAAAIkA=",
            "dtype": "f8",
            "shape": "1, 1"
           },
           "hovertemplate": "<b>%{hovertext}</b><br><br>Product=311--Processed Foods<br>Year=2013<br>Import=%{x}<br>Export=%{y}<br>Size=%{marker.size}<br>Rank=%{customdata[0]}<extra></extra>",
           "hovertext": [
            "311--Processed Foods"
           ],
           "legendgroup": "311--Processed Foods",
           "marker": {
            "color": "#FF6692",
            "size": {
             "bdata": "mpmZmZkxUUA=",
             "dtype": "f8"
            },
            "sizemode": "area",
            "sizeref": 0.7372475000000001,
            "symbol": "circle"
           },
           "mode": "markers",
           "name": "311--Processed Foods",
           "orientation": "v",
           "showlegend": true,
           "type": "scatter",
           "x": {
            "bdata": "AAAAAODK6UA=",
            "dtype": "f8"
           },
           "xaxis": "x",
           "y": {
            "bdata": "AAAAAHDK8EA=",
            "dtype": "f8"
           },
           "yaxis": "y"
          },
          {
           "customdata": {
            "bdata": "AAAAAAAAFEA=",
            "dtype": "f8",
            "shape": "1, 1"
           },
           "hovertemplate": "<b>%{hovertext}</b><br><br>Product=324--Petroleum & Coal Products<br>Year=2013<br>Import=%{x}<br>Export=%{y}<br>Size=%{marker.size}<br>Rank=%{customdata[0]}<extra></extra>",
           "hovertext": [
            "324--Petroleum & Coal Products"
           ],
           "legendgroup": "324--Petroleum & Coal Products",
           "marker": {
            "color": "#B6E880",
            "size": {
             "bdata": "001iEFjhXUA=",
             "dtype": "f8"
            },
            "sizemode": "area",
            "sizeref": 0.7372475000000001,
            "symbol": "circle"
           },
           "mode": "markers",
           "name": "324--Petroleum & Coal Products",
           "orientation": "v",
           "showlegend": true,
           "type": "scatter",
           "x": {
            "bdata": "AAAAAJA89kA=",
            "dtype": "f8"
           },
           "xaxis": "x",
           "y": {
            "bdata": "AAAAABAu/UA=",
            "dtype": "f8"
           },
           "yaxis": "y"
          },
          {
           "customdata": {
            "bdata": "AAAAAAAAHEA=",
            "dtype": "f8",
            "shape": "1, 1"
           },
           "hovertemplate": "<b>%{hovertext}</b><br><br>Product=331--Primary Metal Manufactures<br>Year=2013<br>Import=%{x}<br>Export=%{y}<br>Size=%{marker.size}<br>Rank=%{customdata[0]}<extra></extra>",
           "hovertext": [
            "331--Primary Metal Manufactures"
           ],
           "legendgroup": "331--Primary Metal Manufactures",
           "marker": {
            "color": "#FF97FF",
            "size": {
             "bdata": "NV66SQxaUkA=",
             "dtype": "f8"
            },
            "sizemode": "area",
            "sizeref": 0.7372475000000001,
            "symbol": "circle"
           },
           "mode": "markers",
           "name": "331--Primary Metal Manufactures",
           "orientation": "v",
           "showlegend": true,
           "type": "scatter",
           "x": {
            "bdata": "AAAAALCH9kA=",
            "dtype": "f8"
           },
           "xaxis": "x",
           "y": {
            "bdata": "AAAAAPDr8UA=",
            "dtype": "f8"
           },
           "yaxis": "y"
          },
          {
           "customdata": {
            "bdata": "AAAAAAAAJEA=",
            "dtype": "f8",
            "shape": "1, 1"
           },
           "hovertemplate": "<b>%{hovertext}</b><br><br>Product=335--Electrical Equipment, Appliances & Components<br>Year=2013<br>Import=%{x}<br>Export=%{y}<br>Size=%{marker.size}<br>Rank=%{customdata[0]}<extra></extra>",
           "hovertext": [
            "335--Electrical Equipment, Appliances & Components"
           ],
           "legendgroup": "335--Electrical Equipment, Appliances & Components",
           "marker": {
            "color": "#636efa",
            "size": {
             "bdata": "/Knx0k2STEA=",
             "dtype": "f8"
            },
            "sizemode": "area",
            "sizeref": 0.7372475000000001,
            "symbol": "circle"
           },
           "mode": "markers",
           "name": "335--Electrical Equipment, Appliances & Components",
           "orientation": "v",
           "showlegend": true,
           "type": "scatter",
           "x": {
            "bdata": "AAAAANDw9kA=",
            "dtype": "f8"
           },
           "xaxis": "x",
           "y": {
            "bdata": "AAAAAODm60A=",
            "dtype": "f8"
           },
           "yaxis": "y"
          }
         ],
         "name": "2013"
        },
        {
         "data": [
          {
           "customdata": {
            "bdata": "AAAAAAAA8D8=",
            "dtype": "f8",
            "shape": "1, 1"
           },
           "hovertemplate": "<b>%{hovertext}</b><br><br>Product=336--Transportation Equipment<br>Year=2014<br>Import=%{x}<br>Export=%{y}<br>Size=%{marker.size}<br>Rank=%{customdata[0]}<extra></extra>",
           "hovertext": [
            "336--Transportation Equipment"
           ],
           "legendgroup": "336--Transportation Equipment",
           "marker": {
            "color": "#636efa",
            "size": {
             "bdata": "BoGVQ4sccUA=",
             "dtype": "f8"
            },
            "sizemode": "area",
            "sizeref": 0.7372475000000001,
            "symbol": "circle"
           },
           "mode": "markers",
           "name": "336--Transportation Equipment",
           "orientation": "v",
           "showlegend": true,
           "type": "scatter",
           "x": {
            "bdata": "AAAAAOzFFUE=",
            "dtype": "f8"
           },
           "xaxis": "x",
           "y": {
            "bdata": "AAAAAOC1EEE=",
            "dtype": "f8"
           },
           "yaxis": "y"
          },
          {
           "customdata": {
            "bdata": "AAAAAAAAAEA=",
            "dtype": "f8",
            "shape": "1, 1"
           },
           "hovertemplate": "<b>%{hovertext}</b><br><br>Product=334--Computer & Electronic Products<br>Year=2014<br>Import=%{x}<br>Export=%{y}<br>Size=%{marker.size}<br>Rank=%{customdata[0]}<extra></extra>",
           "hovertext": [
            "334--Computer & Electronic Products"
           ],
           "legendgroup": "334--Computer & Electronic Products",
           "marker": {
            "color": "#EF553B",
            "size": {
             "bdata": "Di2yne8jakA=",
             "dtype": "f8"
            },
            "sizemode": "area",
            "sizeref": 0.7372475000000001,
            "symbol": "circle"
           },
           "mode": "markers",
           "name": "334--Computer & Electronic Products",
           "orientation": "v",
           "showlegend": true,
           "type": "scatter",
           "x": {
            "bdata": "AAAAACxgFkE=",
            "dtype": "f8"
           },
           "xaxis": "x",
           "y": {
            "bdata": "AAAAABiHCUE=",
            "dtype": "f8"
           },
           "yaxis": "y"
          },
          {
           "customdata": {
            "bdata": "AAAAAAAACEA=",
            "dtype": "f8",
            "shape": "1, 1"
           },
           "hovertemplate": "<b>%{hovertext}</b><br><br>Product=325--Chemicals<br>Year=2014<br>Import=%{x}<br>Export=%{y}<br>Size=%{marker.size}<br>Rank=%{customdata[0]}<extra></extra>",
           "hovertext": [
            "325--Chemicals"
           ],
           "legendgroup": "325--Chemicals",
           "marker": {
            "color": "#00cc96",
            "size": {
             "bdata": "Gy/dJAYNaUA=",
             "dtype": "f8"
            },
            "sizemode": "area",
            "sizeref": 0.7372475000000001,
            "symbol": "circle"
           },
           "mode": "markers",
           "name": "325--Chemicals",
           "orientation": "v",
           "showlegend": true,
           "type": "scatter",
           "x": {
            "bdata": "AAAAACAdCUE=",
            "dtype": "f8"
           },
           "xaxis": "x",
           "y": {
            "bdata": "AAAAALh2CEE=",
            "dtype": "f8"
           },
           "yaxis": "y"
          },
          {
           "customdata": {
            "bdata": "AAAAAAAAEEA=",
            "dtype": "f8",
            "shape": "1, 1"
           },
           "hovertemplate": "<b>%{hovertext}</b><br><br>Product=333--Machinery, Except Electrical<br>Year=2014<br>Import=%{x}<br>Export=%{y}<br>Size=%{marker.size}<br>Rank=%{customdata[0]}<extra></extra>",
           "hovertext": [
            "333--Machinery, Except Electrical"
           ],
           "legendgroup": "333--Machinery, Except Electrical",
           "marker": {
            "color": "#ab63fa",
            "size": {
             "bdata": "EFg5tMgSY0A=",
             "dtype": "f8"
            },
            "sizemode": "area",
            "sizeref": 0.7372475000000001,
            "symbol": "circle"
           },
           "mode": "markers",
           "name": "333--Machinery, Except Electrical",
           "orientation": "v",
           "showlegend": true,
           "type": "scatter",
           "x": {
            "bdata": "AAAAANCuA0E=",
            "dtype": "f8"
           },
           "xaxis": "x",
           "y": {
            "bdata": "AAAAAFigAkE=",
            "dtype": "f8"
           },
           "yaxis": "y"
          },
          {
           "customdata": {
            "bdata": "AAAAAAAAGEA=",
            "dtype": "f8",
            "shape": "1, 1"
           },
           "hovertemplate": "<b>%{hovertext}</b><br><br>Product=339--Miscellaneous Manufactures<br>Year=2014<br>Import=%{x}<br>Export=%{y}<br>Size=%{marker.size}<br>Rank=%{customdata[0]}<extra></extra>",
           "hovertext": [
            "339--Miscellaneous Manufactures"
           ],
           "legendgroup": "339--Miscellaneous Manufactures",
           "marker": {
            "color": "#FFA15A",
            "size": {
             "bdata": "7nw/NV56VEA=",
             "dtype": "f8"
            },
            "sizemode": "area",
            "sizeref": 0.7372475000000001,
            "symbol": "circle"
           },
           "mode": "markers",
           "name": "339--Miscellaneous Manufactures",
           "orientation": "v",
           "showlegend": true,
           "type": "scatter",
           "x": {
            "bdata": "AAAAADBB+0A=",
            "dtype": "f8"
           },
           "xaxis": "x",
           "y": {
            "bdata": "AAAAAID/80A=",
            "dtype": "f8"
           },
           "yaxis": "y"
          },
          {
           "customdata": {
            "bdata": "AAAAAAAAHEA=",
            "dtype": "f8",
            "shape": "1, 1"
           },
           "hovertemplate": "<b>%{hovertext}</b><br><br>Product=111--Agricultural Products<br>Year=2014<br>Import=%{x}<br>Export=%{y}<br>Size=%{marker.size}<br>Rank=%{customdata[0]}<extra></extra>",
           "hovertext": [
            "111--Agricultural Products"
           ],
           "legendgroup": "111--Agricultural Products",
           "marker": {
            "color": "#19d3f3",
            "size": {
             "bdata": "+n5qvHQ7UkA=",
             "dtype": "f8"
            },
            "sizemode": "area",
            "sizeref": 0.7372475000000001,
            "symbol": "circle"
           },
           "mode": "markers",
           "name": "111--Agricultural Products",
           "orientation": "v",
           "showlegend": true,
           "type": "scatter",
           "x": {
            "bdata": "AAAAAKBr4EA=",
            "dtype": "f8"
           },
           "xaxis": "x",
           "y": {
            "bdata": "AAAAABDO8UA=",
            "dtype": "f8"
           },
           "yaxis": "y"
          },
          {
           "customdata": {
            "bdata": "AAAAAAAAIEA=",
            "dtype": "f8",
            "shape": "1, 1"
           },
           "hovertemplate": "<b>%{hovertext}</b><br><br>Product=311--Processed Foods<br>Year=2014<br>Import=%{x}<br>Export=%{y}<br>Size=%{marker.size}<br>Rank=%{customdata[0]}<extra></extra>",
           "hovertext": [
            "311--Processed Foods"
           ],
           "legendgroup": "311--Processed Foods",
           "marker": {
            "color": "#FF6692",
            "size": {
             "bdata": "sp3vp8arUUA=",
             "dtype": "f8"
            },
            "sizemode": "area",
            "sizeref": 0.7372475000000001,
            "symbol": "circle"
           },
           "mode": "markers",
           "name": "311--Processed Foods",
           "orientation": "v",
           "showlegend": true,
           "type": "scatter",
           "x": {
            "bdata": "AAAAACDt60A=",
            "dtype": "f8"
           },
           "xaxis": "x",
           "y": {
            "bdata": "AAAAAMBB8UA=",
            "dtype": "f8"
           },
           "yaxis": "y"
          },
          {
           "customdata": {
            "bdata": "AAAAAAAAFEA=",
            "dtype": "f8",
            "shape": "1, 1"
           },
           "hovertemplate": "<b>%{hovertext}</b><br><br>Product=324--Petroleum & Coal Products<br>Year=2014<br>Import=%{x}<br>Export=%{y}<br>Size=%{marker.size}<br>Rank=%{customdata[0]}<extra></extra>",
           "hovertext": [
            "324--Petroleum & Coal Products"
           ],
           "legendgroup": "324--Petroleum & Coal Products",
           "marker": {
            "color": "#B6E880",
            "size": {
             "bdata": "d76fGi99XUA=",
             "dtype": "f8"
            },
            "sizemode": "area",
            "sizeref": 0.7372475000000001,
            "symbol": "circle"
           },
           "mode": "markers",
           "name": "324--Petroleum & Coal Products",
           "orientation": "v",
           "showlegend": true,
           "type": "scatter",
           "x": {
            "bdata": "AAAAAPAD9EA=",
            "dtype": "f8"
           },
           "xaxis": "x",
           "y": {
            "bdata": "AAAAAEDM/EA=",
            "dtype": "f8"
           },
           "yaxis": "y"
          },
          {
           "customdata": {
            "bdata": "AAAAAAAAIkA=",
            "dtype": "f8",
            "shape": "1, 1"
           },
           "hovertemplate": "<b>%{hovertext}</b><br><br>Product=331--Primary Metal Manufactures<br>Year=2014<br>Import=%{x}<br>Export=%{y}<br>Size=%{marker.size}<br>Rank=%{customdata[0]}<extra></extra>",
           "hovertext": [
            "331--Primary Metal Manufactures"
           ],
           "legendgroup": "331--Primary Metal Manufactures",
           "marker": {
            "color": "#FF97FF",
            "size": {
             "bdata": "6SYxCKwEUEA=",
             "dtype": "f8"
            },
            "sizemode": "area",
            "sizeref": 0.7372475000000001,
            "symbol": "circle"
           },
           "mode": "markers",
           "name": "331--Primary Metal Manufactures",
           "orientation": "v",
           "showlegend": true,
           "type": "scatter",
           "x": {
            "bdata": "AAAAAHC2+EA=",
            "dtype": "f8"
           },
           "xaxis": "x",
           "y": {
            "bdata": "AAAAACBJ70A=",
            "dtype": "f8"
           },
           "yaxis": "y"
          },
          {
           "customdata": {
            "bdata": "AAAAAAAAJEA=",
            "dtype": "f8",
            "shape": "1, 1"
           },
           "hovertemplate": "<b>%{hovertext}</b><br><br>Product=335--Electrical Equipment, Appliances & Components<br>Year=2014<br>Import=%{x}<br>Export=%{y}<br>Size=%{marker.size}<br>Rank=%{customdata[0]}<extra></extra>",
           "hovertext": [
            "335--Electrical Equipment, Appliances & Components"
           ],
           "legendgroup": "335--Electrical Equipment, Appliances & Components",
           "marker": {
            "color": "#636efa",
            "size": {
             "bdata": "O99PjZdOTkA=",
             "dtype": "f8"
            },
            "sizemode": "area",
            "sizeref": 0.7372475000000001,
            "symbol": "circle"
           },
           "mode": "markers",
           "name": "335--Electrical Equipment, Appliances & Components",
           "orientation": "v",
           "showlegend": true,
           "type": "scatter",
           "x": {
            "bdata": "AAAAADB3+EA=",
            "dtype": "f8"
           },
           "xaxis": "x",
           "y": {
            "bdata": "AAAAAMCY7UA=",
            "dtype": "f8"
           },
           "yaxis": "y"
          }
         ],
         "name": "2014"
        },
        {
         "data": [
          {
           "customdata": {
            "bdata": "AAAAAAAA8D8=",
            "dtype": "f8",
            "shape": "1, 1"
           },
           "hovertemplate": "<b>%{hovertext}</b><br><br>Product=336--Transportation Equipment<br>Year=2015<br>Import=%{x}<br>Export=%{y}<br>Size=%{marker.size}<br>Rank=%{customdata[0]}<extra></extra>",
           "hovertext": [
            "336--Transportation Equipment"
           ],
           "legendgroup": "336--Transportation Equipment",
           "marker": {
            "color": "#636efa",
            "size": {
             "bdata": "PzVeukk6cUA=",
             "dtype": "f8"
            },
            "sizemode": "area",
            "sizeref": 0.7372475000000001,
            "symbol": "circle"
           },
           "mode": "markers",
           "name": "336--Transportation Equipment",
           "orientation": "v",
           "showlegend": true,
           "type": "scatter",
           "x": {
            "bdata": "AAAAAAQmF0E=",
            "dtype": "f8"
           },
           "xaxis": "x",
           "y": {
            "bdata": "AAAAAOzSEEE=",
            "dtype": "f8"
           },
           "yaxis": "y"
          },
          {
           "customdata": {
            "bdata": "AAAAAAAAAEA=",
            "dtype": "f8",
            "shape": "1, 1"
           },
           "hovertemplate": "<b>%{hovertext}</b><br><br>Product=334--Computer & Electronic Products<br>Year=2015<br>Import=%{x}<br>Export=%{y}<br>Size=%{marker.size}<br>Rank=%{customdata[0]}<extra></extra>",
           "hovertext": [
            "334--Computer & Electronic Products"
           ],
           "legendgroup": "334--Computer & Electronic Products",
           "marker": {
            "color": "#EF553B",
            "size": {
             "bdata": "/Knx0k2WaUA=",
             "dtype": "f8"
            },
            "sizemode": "area",
            "sizeref": 0.7372475000000001,
            "symbol": "circle"
           },
           "mode": "markers",
           "name": "334--Computer & Electronic Products",
           "orientation": "v",
           "showlegend": true,
           "type": "scatter",
           "x": {
            "bdata": "AAAAAJjzFkE=",
            "dtype": "f8"
           },
           "xaxis": "x",
           "y": {
            "bdata": "AAAAAMj8CEE=",
            "dtype": "f8"
           },
           "yaxis": "y"
          },
          {
           "customdata": {
            "bdata": "AAAAAAAACEA=",
            "dtype": "f8",
            "shape": "1, 1"
           },
           "hovertemplate": "<b>%{hovertext}</b><br><br>Product=325--Chemicals<br>Year=2015<br>Import=%{x}<br>Export=%{y}<br>Size=%{marker.size}<br>Rank=%{customdata[0]}<extra></extra>",
           "hovertext": [
            "325--Chemicals"
           ],
           "legendgroup": "325--Chemicals",
           "marker": {
            "color": "#00cc96",
            "size": {
             "bdata": "ppvEILA6aEA=",
             "dtype": "f8"
            },
            "sizemode": "area",
            "sizeref": 0.7372475000000001,
            "symbol": "circle"
           },
           "mode": "markers",
           "name": "325--Chemicals",
           "orientation": "v",
           "showlegend": true,
           "type": "scatter",
           "x": {
            "bdata": "AAAAAJAaCkE=",
            "dtype": "f8"
           },
           "xaxis": "x",
           "y": {
            "bdata": "AAAAAFCpB0E=",
            "dtype": "f8"
           },
           "yaxis": "y"
          },
          {
           "customdata": {
            "bdata": "AAAAAAAAEEA=",
            "dtype": "f8",
            "shape": "1, 1"
           },
           "hovertemplate": "<b>%{hovertext}</b><br><br>Product=333--Machinery, Except Electrical<br>Year=2015<br>Import=%{x}<br>Export=%{y}<br>Size=%{marker.size}<br>Rank=%{customdata[0]}<extra></extra>",
           "hovertext": [
            "333--Machinery, Except Electrical"
           ],
           "legendgroup": "333--Machinery, Except Electrical",
           "marker": {
            "color": "#ab63fa",
            "size": {
             "bdata": "rBxaZDtjYUA=",
             "dtype": "f8"
            },
            "sizemode": "area",
            "sizeref": 0.7372475000000001,
            "symbol": "circle"
           },
           "mode": "markers",
           "name": "333--Machinery, Except Electrical",
           "orientation": "v",
           "showlegend": true,
           "type": "scatter",
           "x": {
            "bdata": "AAAAAEBbA0E=",
            "dtype": "f8"
           },
           "xaxis": "x",
           "y": {
            "bdata": "AAAAAOj6AEE=",
            "dtype": "f8"
           },
           "yaxis": "y"
          },
          {
           "customdata": {
            "bdata": "AAAAAAAAGEA=",
            "dtype": "f8",
            "shape": "1, 1"
           },
           "hovertemplate": "<b>%{hovertext}</b><br><br>Product=339--Miscellaneous Manufactures<br>Year=2015<br>Import=%{x}<br>Export=%{y}<br>Size=%{marker.size}<br>Rank=%{customdata[0]}<extra></extra>",
           "hovertext": [
            "339--Miscellaneous Manufactures"
           ],
           "legendgroup": "339--Miscellaneous Manufactures",
           "marker": {
            "color": "#FFA15A",
            "size": {
             "bdata": "Di2yne+PU0A=",
             "dtype": "f8"
            },
            "sizemode": "area",
            "sizeref": 0.7372475000000001,
            "symbol": "circle"
           },
           "mode": "markers",
           "name": "339--Miscellaneous Manufactures",
           "orientation": "v",
           "showlegend": true,
           "type": "scatter",
           "x": {
            "bdata": "AAAAAHA0/EA=",
            "dtype": "f8"
           },
           "xaxis": "x",
           "y": {
            "bdata": "AAAAAJAa80A=",
            "dtype": "f8"
           },
           "yaxis": "y"
          },
          {
           "customdata": {
            "bdata": "AAAAAAAAIEA=",
            "dtype": "f8",
            "shape": "1, 1"
           },
           "hovertemplate": "<b>%{hovertext}</b><br><br>Product=111--Agricultural Products<br>Year=2015<br>Import=%{x}<br>Export=%{y}<br>Size=%{marker.size}<br>Rank=%{customdata[0]}<extra></extra>",
           "hovertext": [
            "111--Agricultural Products"
           ],
           "legendgroup": "111--Agricultural Products",
           "marker": {
            "color": "#19d3f3",
            "size": {
             "bdata": "2/l+arx0T0A=",
             "dtype": "f8"
            },
            "sizemode": "area",
            "sizeref": 0.7372475000000001,
            "symbol": "circle"
           },
           "mode": "markers",
           "name": "111--Agricultural Products",
           "orientation": "v",
           "showlegend": true,
           "type": "scatter",
           "x": {
            "bdata": "AAAAAOBR4EA=",
            "dtype": "f8"
           },
           "xaxis": "x",
           "y": {
            "bdata": "AAAAAAC47kA=",
            "dtype": "f8"
           },
           "yaxis": "y"
          },
          {
           "customdata": {
            "bdata": "AAAAAAAAHEA=",
            "dtype": "f8",
            "shape": "1, 1"
           },
           "hovertemplate": "<b>%{hovertext}</b><br><br>Product=311--Processed Foods<br>Year=2015<br>Import=%{x}<br>Export=%{y}<br>Size=%{marker.size}<br>Rank=%{customdata[0]}<extra></extra>",
           "hovertext": [
            "311--Processed Foods"
           ],
           "legendgroup": "311--Processed Foods",
           "marker": {
            "color": "#FF6692",
            "size": {
             "bdata": "CtejcD2aT0A=",
             "dtype": "f8"
            },
            "sizemode": "area",
            "sizeref": 0.7372475000000001,
            "symbol": "circle"
           },
           "mode": "markers",
           "name": "311--Processed Foods",
           "orientation": "v",
           "showlegend": true,
           "type": "scatter",
           "x": {
            "bdata": "AAAAACCR7EA=",
            "dtype": "f8"
           },
           "xaxis": "x",
           "y": {
            "bdata": "AAAAAKDc7kA=",
            "dtype": "f8"
           },
           "yaxis": "y"
          },
          {
           "customdata": {
            "bdata": "AAAAAAAAFEA=",
            "dtype": "f8",
            "shape": "1, 1"
           },
           "hovertemplate": "<b>%{hovertext}</b><br><br>Product=324--Petroleum & Coal Products<br>Year=2015<br>Import=%{x}<br>Export=%{y}<br>Size=%{marker.size}<br>Rank=%{customdata[0]}<extra></extra>",
           "hovertext": [
            "324--Petroleum & Coal Products"
           ],
           "legendgroup": "324--Petroleum & Coal Products",
           "marker": {
            "color": "#B6E880",
            "size": {
             "bdata": "16NwPQqnU0A=",
             "dtype": "f8"
            },
            "sizemode": "area",
            "sizeref": 0.7372475000000001,
            "symbol": "circle"
           },
           "mode": "markers",
           "name": "324--Petroleum & Coal Products",
           "orientation": "v",
           "showlegend": true,
           "type": "scatter",
           "x": {
            "bdata": "AAAAAEDE6UA=",
            "dtype": "f8"
           },
           "xaxis": "x",
           "y": {
            "bdata": "AAAAACAx80A=",
            "dtype": "f8"
           },
           "yaxis": "y"
          },
          {
           "customdata": {
            "bdata": "AAAAAAAAJEA=",
            "dtype": "f8",
            "shape": "1, 1"
           },
           "hovertemplate": "<b>%{hovertext}</b><br><br>Product=331--Primary Metal Manufactures<br>Year=2015<br>Import=%{x}<br>Export=%{y}<br>Size=%{marker.size}<br>Rank=%{customdata[0]}<extra></extra>",
           "hovertext": [
            "331--Primary Metal Manufactures"
           ],
           "legendgroup": "331--Primary Metal Manufactures",
           "marker": {
            "color": "#FF97FF",
            "size": {
             "bdata": "z/dT46XbS0A=",
             "dtype": "f8"
            },
            "sizemode": "area",
            "sizeref": 0.7372475000000001,
            "symbol": "circle"
           },
           "mode": "markers",
           "name": "331--Primary Metal Manufactures",
           "orientation": "v",
           "showlegend": true,
           "type": "scatter",
           "x": {
            "bdata": "AAAAAKC+9EA=",
            "dtype": "f8"
           },
           "xaxis": "x",
           "y": {
            "bdata": "AAAAAIA060A=",
            "dtype": "f8"
           },
           "yaxis": "y"
          },
          {
           "customdata": {
            "bdata": "AAAAAAAAIkA=",
            "dtype": "f8",
            "shape": "1, 1"
           },
           "hovertemplate": "<b>%{hovertext}</b><br><br>Product=335--Electrical Equipment, Appliances & Components<br>Year=2015<br>Import=%{x}<br>Export=%{y}<br>Size=%{marker.size}<br>Rank=%{customdata[0]}<extra></extra>",
           "hovertext": [
            "335--Electrical Equipment, Appliances & Components"
           ],
           "legendgroup": "335--Electrical Equipment, Appliances & Components",
           "marker": {
            "color": "#636efa",
            "size": {
             "bdata": "wcqhRbYzTkA=",
             "dtype": "f8"
            },
            "sizemode": "area",
            "sizeref": 0.7372475000000001,
            "symbol": "circle"
           },
           "mode": "markers",
           "name": "335--Electrical Equipment, Appliances & Components",
           "orientation": "v",
           "showlegend": true,
           "type": "scatter",
           "x": {
            "bdata": "AAAAAKBz+UA=",
            "dtype": "f8"
           },
           "xaxis": "x",
           "y": {
            "bdata": "AAAAAIB+7UA=",
            "dtype": "f8"
           },
           "yaxis": "y"
          }
         ],
         "name": "2015"
        },
        {
         "data": [
          {
           "customdata": {
            "bdata": "AAAAAAAA8D8=",
            "dtype": "f8",
            "shape": "1, 1"
           },
           "hovertemplate": "<b>%{hovertext}</b><br><br>Product=336--Transportation Equipment<br>Year=2016<br>Import=%{x}<br>Export=%{y}<br>Size=%{marker.size}<br>Rank=%{customdata[0]}<extra></extra>",
           "hovertext": [
            "336--Transportation Equipment"
           ],
           "legendgroup": "336--Transportation Equipment",
           "marker": {
            "color": "#636efa",
            "size": {
             "bdata": "2/l+arxMcUA=",
             "dtype": "f8"
            },
            "sizemode": "area",
            "sizeref": 0.7372475000000001,
            "symbol": "circle"
           },
           "mode": "markers",
           "name": "336--Transportation Equipment",
           "orientation": "v",
           "showlegend": true,
           "type": "scatter",
           "x": {
            "bdata": "AAAAANTfFkE=",
            "dtype": "f8"
           },
           "xaxis": "x",
           "y": {
            "bdata": "AAAAAPDkEEE=",
            "dtype": "f8"
           },
           "yaxis": "y"
          },
          {
           "customdata": {
            "bdata": "AAAAAAAAAEA=",
            "dtype": "f8",
            "shape": "1, 1"
           },
           "hovertemplate": "<b>%{hovertext}</b><br><br>Product=334--Computer & Electronic Products<br>Year=2016<br>Import=%{x}<br>Export=%{y}<br>Size=%{marker.size}<br>Rank=%{customdata[0]}<extra></extra>",
           "hovertext": [
            "334--Computer & Electronic Products"
           ],
           "legendgroup": "334--Computer & Electronic Products",
           "marker": {
            "color": "#EF553B",
            "size": {
             "bdata": "PzVeukk4aUA=",
             "dtype": "f8"
            },
            "sizemode": "area",
            "sizeref": 0.7372475000000001,
            "symbol": "circle"
           },
           "mode": "markers",
           "name": "334--Computer & Electronic Products",
           "orientation": "v",
           "showlegend": true,
           "type": "scatter",
           "x": {
            "bdata": "AAAAAOC+FkE=",
            "dtype": "f8"
           },
           "xaxis": "x",
           "y": {
            "bdata": "AAAAAPigCEE=",
            "dtype": "f8"
           },
           "yaxis": "y"
          },
          {
           "customdata": {
            "bdata": "AAAAAAAACEA=",
            "dtype": "f8",
            "shape": "1, 1"
           },
           "hovertemplate": "<b>%{hovertext}</b><br><br>Product=325--Chemicals<br>Year=2016<br>Import=%{x}<br>Export=%{y}<br>Size=%{marker.size}<br>Rank=%{customdata[0]}<extra></extra>",
           "hovertext": [
            "325--Chemicals"
           ],
           "legendgroup": "325--Chemicals",
           "marker": {
            "color": "#00cc96",
            "size": {
             "bdata": "eekmMQgMZ0A=",
             "dtype": "f8"
            },
            "sizemode": "area",
            "sizeref": 0.7372475000000001,
            "symbol": "circle"
           },
           "mode": "markers",
           "name": "325--Chemicals",
           "orientation": "v",
           "showlegend": true,
           "type": "scatter",
           "x": {
            "bdata": "AAAAADg1CkE=",
            "dtype": "f8"
           },
           "xaxis": "x",
           "y": {
            "bdata": "AAAAAMCBBkE=",
            "dtype": "f8"
           },
           "yaxis": "y"
          },
          {
           "customdata": {
            "bdata": "AAAAAAAAEEA=",
            "dtype": "f8",
            "shape": "1, 1"
           },
           "hovertemplate": "<b>%{hovertext}</b><br><br>Product=333--Machinery, Except Electrical<br>Year=2016<br>Import=%{x}<br>Export=%{y}<br>Size=%{marker.size}<br>Rank=%{customdata[0]}<extra></extra>",
           "hovertext": [
            "333--Machinery, Except Electrical"
           ],
           "legendgroup": "333--Machinery, Except Electrical",
           "marker": {
            "color": "#ab63fa",
            "size": {
             "bdata": "BoGVQ4s8X0A=",
             "dtype": "f8"
            },
            "sizemode": "area",
            "sizeref": 0.7372475000000001,
            "symbol": "circle"
           },
           "mode": "markers",
           "name": "333--Machinery, Except Electrical",
           "orientation": "v",
           "showlegend": true,
           "type": "scatter",
           "x": {
            "bdata": "AAAAADCCAkE=",
            "dtype": "f8"
           },
           "xaxis": "x",
           "y": {
            "bdata": "AAAAACCB/kA=",
            "dtype": "f8"
           },
           "yaxis": "y"
          },
          {
           "customdata": {
            "bdata": "AAAAAAAAFEA=",
            "dtype": "f8",
            "shape": "1, 1"
           },
           "hovertemplate": "<b>%{hovertext}</b><br><br>Product=339--Miscellaneous Manufactures<br>Year=2016<br>Import=%{x}<br>Export=%{y}<br>Size=%{marker.size}<br>Rank=%{customdata[0]}<extra></extra>",
           "hovertext": [
            "339--Miscellaneous Manufactures"
           ],
           "legendgroup": "339--Miscellaneous Manufactures",
           "marker": {
            "color": "#FFA15A",
            "size": {
             "bdata": "iUFg5dCaU0A=",
             "dtype": "f8"
            },
            "sizemode": "area",
            "sizeref": 0.7372475000000001,
            "symbol": "circle"
           },
           "mode": "markers",
           "name": "339--Miscellaneous Manufactures",
           "orientation": "v",
           "showlegend": true,
           "type": "scatter",
           "x": {
            "bdata": "AAAAAHDk/EA=",
            "dtype": "f8"
           },
           "xaxis": "x",
           "y": {
            "bdata": "AAAAADAl80A=",
            "dtype": "f8"
           },
           "yaxis": "y"
          },
          {
           "customdata": {
            "bdata": "AAAAAAAAGEA=",
            "dtype": "f8",
            "shape": "1, 1"
           },
           "hovertemplate": "<b>%{hovertext}</b><br><br>Product=111--Agricultural Products<br>Year=2016<br>Import=%{x}<br>Export=%{y}<br>Size=%{marker.size}<br>Rank=%{customdata[0]}<extra></extra>",
           "hovertext": [
            "111--Agricultural Products"
           ],
           "legendgroup": "111--Agricultural Products",
           "marker": {
            "color": "#19d3f3",
            "size": {
             "bdata": "okW28/3kUEA=",
             "dtype": "f8"
            },
            "sizemode": "area",
            "sizeref": 0.7372475000000001,
            "symbol": "circle"
           },
           "mode": "markers",
           "name": "111--Agricultural Products",
           "orientation": "v",
           "showlegend": true,
           "type": "scatter",
           "x": {
            "bdata": "AAAAAAAX4UA=",
            "dtype": "f8"
           },
           "xaxis": "x",
           "y": {
            "bdata": "AAAAAKB/8EA=",
            "dtype": "f8"
           },
           "yaxis": "y"
          },
          {
           "customdata": {
            "bdata": "AAAAAAAAIEA=",
            "dtype": "f8",
            "shape": "1, 1"
           },
           "hovertemplate": "<b>%{hovertext}</b><br><br>Product=311--Processed Foods<br>Year=2016<br>Import=%{x}<br>Export=%{y}<br>Size=%{marker.size}<br>Rank=%{customdata[0]}<extra></extra>",
           "hovertext": [
            "311--Processed Foods"
           ],
           "legendgroup": "311--Processed Foods",
           "marker": {
            "color": "#FF6692",
            "size": {
             "bdata": "N4lBYOXATkA=",
             "dtype": "f8"
            },
            "sizemode": "area",
            "sizeref": 0.7372475000000001,
            "symbol": "circle"
           },
           "mode": "markers",
           "name": "311--Processed Foods",
           "orientation": "v",
           "showlegend": true,
           "type": "scatter",
           "x": {
            "bdata": "AAAAAKBJ7EA=",
            "dtype": "f8"
           },
           "xaxis": "x",
           "y": {
            "bdata": "AAAAAGAI7kA=",
            "dtype": "f8"
           },
           "yaxis": "y"
          },
          {
           "customdata": {
            "bdata": "AAAAAAAAHEA=",
            "dtype": "f8",
            "shape": "1, 1"
           },
           "hovertemplate": "<b>%{hovertext}</b><br><br>Product=324--Petroleum & Coal Products<br>Year=2016<br>Import=%{x}<br>Export=%{y}<br>Size=%{marker.size}<br>Rank=%{customdata[0]}<extra></extra>",
           "hovertext": [
            "324--Petroleum & Coal Products"
           ],
           "legendgroup": "324--Petroleum & Coal Products",
           "marker": {
            "color": "#B6E880",
            "size": {
             "bdata": "MzMzMzO7UEA=",
             "dtype": "f8"
            },
            "sizemode": "area",
            "sizeref": 0.7372475000000001,
            "symbol": "circle"
           },
           "mode": "markers",
           "name": "324--Petroleum & Coal Products",
           "orientation": "v",
           "showlegend": true,
           "type": "scatter",
           "x": {
            "bdata": "AAAAAECO5EA=",
            "dtype": "f8"
           },
           "xaxis": "x",
           "y": {
            "bdata": "AAAAANBW8EA=",
            "dtype": "f8"
           },
           "yaxis": "y"
          },
          {
           "customdata": {
            "bdata": "AAAAAAAAJEA=",
            "dtype": "f8",
            "shape": "1, 1"
           },
           "hovertemplate": "<b>%{hovertext}</b><br><br>Product=331--Primary Metal Manufactures<br>Year=2016<br>Import=%{x}<br>Export=%{y}<br>Size=%{marker.size}<br>Rank=%{customdata[0]}<extra></extra>",
           "hovertext": [
            "331--Primary Metal Manufactures"
           ],
           "legendgroup": "331--Primary Metal Manufactures",
           "marker": {
            "color": "#FF97FF",
            "size": {
             "bdata": "eekmMQjsSUA=",
             "dtype": "f8"
            },
            "sizemode": "area",
            "sizeref": 0.7372475000000001,
            "symbol": "circle"
           },
           "mode": "markers",
           "name": "331--Primary Metal Manufactures",
           "orientation": "v",
           "showlegend": true,
           "type": "scatter",
           "x": {
            "bdata": "AAAAAOCG80A=",
            "dtype": "f8"
           },
           "xaxis": "x",
           "y": {
            "bdata": "AAAAAIBQ6UA=",
            "dtype": "f8"
           },
           "yaxis": "y"
          },
          {
           "customdata": {
            "bdata": "AAAAAAAAIkA=",
            "dtype": "f8",
            "shape": "1, 1"
           },
           "hovertemplate": "<b>%{hovertext}</b><br><br>Product=335--Electrical Equipment, Appliances & Components<br>Year=2016<br>Import=%{x}<br>Export=%{y}<br>Size=%{marker.size}<br>Rank=%{customdata[0]}<extra></extra>",
           "hovertext": [
            "335--Electrical Equipment, Appliances & Components"
           ],
           "legendgroup": "335--Electrical Equipment, Appliances & Components",
           "marker": {
            "color": "#636efa",
            "size": {
             "bdata": "lkOLbOeLTEA=",
             "dtype": "f8"
            },
            "sizemode": "area",
            "sizeref": 0.7372475000000001,
            "symbol": "circle"
           },
           "mode": "markers",
           "name": "335--Electrical Equipment, Appliances & Components",
           "orientation": "v",
           "showlegend": true,
           "type": "scatter",
           "x": {
            "bdata": "AAAAAFBs+UA=",
            "dtype": "f8"
           },
           "xaxis": "x",
           "y": {
            "bdata": "AAAAAKDg60A=",
            "dtype": "f8"
           },
           "yaxis": "y"
          }
         ],
         "name": "2016"
        },
        {
         "data": [
          {
           "customdata": {
            "bdata": "AAAAAAAA8D8=",
            "dtype": "f8",
            "shape": "1, 1"
           },
           "hovertemplate": "<b>%{hovertext}</b><br><br>Product=336--Transportation Equipment<br>Year=2017<br>Import=%{x}<br>Export=%{y}<br>Size=%{marker.size}<br>Rank=%{customdata[0]}<extra></extra>",
           "hovertext": [
            "336--Transportation Equipment"
           ],
           "legendgroup": "336--Transportation Equipment",
           "marker": {
            "color": "#636efa",
            "size": {
             "bdata": "HVpkO99ncUA=",
             "dtype": "f8"
            },
            "sizemode": "area",
            "sizeref": 0.7372475000000001,
            "symbol": "circle"
           },
           "mode": "markers",
           "name": "336--Transportation Equipment",
           "orientation": "v",
           "showlegend": true,
           "type": "scatter",
           "x": {
            "bdata": "AAAAACx/F0E=",
            "dtype": "f8"
           },
           "xaxis": "x",
           "y": {
            "bdata": "AAAAAHD/EEE=",
            "dtype": "f8"
           },
           "yaxis": "y"
          },
          {
           "customdata": {
            "bdata": "AAAAAAAAAEA=",
            "dtype": "f8",
            "shape": "1, 1"
           },
           "hovertemplate": "<b>%{hovertext}</b><br><br>Product=334--Computer & Electronic Products<br>Year=2017<br>Import=%{x}<br>Export=%{y}<br>Size=%{marker.size}<br>Rank=%{customdata[0]}<extra></extra>",
           "hovertext": [
            "334--Computer & Electronic Products"
           ],
           "legendgroup": "334--Computer & Electronic Products",
           "marker": {
            "color": "#EF553B",
            "size": {
             "bdata": "c2iR7XwHakA=",
             "dtype": "f8"
            },
            "sizemode": "area",
            "sizeref": 0.7372475000000001,
            "symbol": "circle"
           },
           "mode": "markers",
           "name": "334--Computer & Electronic Products",
           "orientation": "v",
           "showlegend": true,
           "type": "scatter",
           "x": {
            "bdata": "AAAAAOxrGEE=",
            "dtype": "f8"
           },
           "xaxis": "x",
           "y": {
            "bdata": "AAAAAFBrCUE=",
            "dtype": "f8"
           },
           "yaxis": "y"
          },
          {
           "customdata": {
            "bdata": "AAAAAAAACEA=",
            "dtype": "f8",
            "shape": "1, 1"
           },
           "hovertemplate": "<b>%{hovertext}</b><br><br>Product=325--Chemicals<br>Year=2017<br>Import=%{x}<br>Export=%{y}<br>Size=%{marker.size}<br>Rank=%{customdata[0]}<extra></extra>",
           "hovertext": [
            "325--Chemicals"
           ],
           "legendgroup": "325--Chemicals",
           "marker": {
            "color": "#00cc96",
            "size": {
             "bdata": "hetRuB4ZaEA=",
             "dtype": "f8"
            },
            "sizemode": "area",
            "sizeref": 0.7372475000000001,
            "symbol": "circle"
           },
           "mode": "markers",
           "name": "325--Chemicals",
           "orientation": "v",
           "showlegend": true,
           "type": "scatter",
           "x": {
            "bdata": "AAAAACCbCkE=",
            "dtype": "f8"
           },
           "xaxis": "x",
           "y": {
            "bdata": "AAAAAIiIB0E=",
            "dtype": "f8"
           },
           "yaxis": "y"
          },
          {
           "customdata": {
            "bdata": "AAAAAAAAEEA=",
            "dtype": "f8",
            "shape": "1, 1"
           },
           "hovertemplate": "<b>%{hovertext}</b><br><br>Product=333--Machinery, Except Electrical<br>Year=2017<br>Import=%{x}<br>Export=%{y}<br>Size=%{marker.size}<br>Rank=%{customdata[0]}<extra></extra>",
           "hovertext": [
            "333--Machinery, Except Electrical"
           ],
           "legendgroup": "333--Machinery, Except Electrical",
           "marker": {
            "color": "#ab63fa",
            "size": {
             "bdata": "wcqhRba/YEA=",
             "dtype": "f8"
            },
            "sizemode": "area",
            "sizeref": 0.7372475000000001,
            "symbol": "circle"
           },
           "mode": "markers",
           "name": "333--Machinery, Except Electrical",
           "orientation": "v",
           "showlegend": true,
           "type": "scatter",
           "x": {
            "bdata": "AAAAAIihBEE=",
            "dtype": "f8"
           },
           "xaxis": "x",
           "y": {
            "bdata": "AAAAADhbAEE=",
            "dtype": "f8"
           },
           "yaxis": "y"
          },
          {
           "customdata": {
            "bdata": "AAAAAAAAGEA=",
            "dtype": "f8",
            "shape": "1, 1"
           },
           "hovertemplate": "<b>%{hovertext}</b><br><br>Product=339--Miscellaneous Manufactures<br>Year=2017<br>Import=%{x}<br>Export=%{y}<br>Size=%{marker.size}<br>Rank=%{customdata[0]}<extra></extra>",
           "hovertext": [
            "339--Miscellaneous Manufactures"
           ],
           "legendgroup": "339--Miscellaneous Manufactures",
           "marker": {
            "color": "#FFA15A",
            "size": {
             "bdata": "jZduEoMYVEA=",
             "dtype": "f8"
            },
            "sizemode": "area",
            "sizeref": 0.7372475000000001,
            "symbol": "circle"
           },
           "mode": "markers",
           "name": "339--Miscellaneous Manufactures",
           "orientation": "v",
           "showlegend": true,
           "type": "scatter",
           "x": {
            "bdata": "AAAAAACa/UA=",
            "dtype": "f8"
           },
           "xaxis": "x",
           "y": {
            "bdata": "AAAAAPCf80A=",
            "dtype": "f8"
           },
           "yaxis": "y"
          },
          {
           "customdata": {
            "bdata": "AAAAAAAAHEA=",
            "dtype": "f8",
            "shape": "1, 1"
           },
           "hovertemplate": "<b>%{hovertext}</b><br><br>Product=111--Agricultural Products<br>Year=2017<br>Import=%{x}<br>Export=%{y}<br>Size=%{marker.size}<br>Rank=%{customdata[0]}<extra></extra>",
           "hovertext": [
            "111--Agricultural Products"
           ],
           "legendgroup": "111--Agricultural Products",
           "marker": {
            "color": "#19d3f3",
            "size": {
             "bdata": "WDm0yHYuUUA=",
             "dtype": "f8"
            },
            "sizemode": "area",
            "sizeref": 0.7372475000000001,
            "symbol": "circle"
           },
           "mode": "markers",
           "name": "111--Agricultural Products",
           "orientation": "v",
           "showlegend": true,
           "type": "scatter",
           "x": {
            "bdata": "AAAAAMAd4kA=",
            "dtype": "f8"
           },
           "xaxis": "x",
           "y": {
            "bdata": "AAAAAGDH8EA=",
            "dtype": "f8"
           },
           "yaxis": "y"
          },
          {
           "customdata": {
            "bdata": "AAAAAAAAIEA=",
            "dtype": "f8",
            "shape": "1, 1"
           },
           "hovertemplate": "<b>%{hovertext}</b><br><br>Product=311--Processed Foods<br>Year=2017<br>Import=%{x}<br>Export=%{y}<br>Size=%{marker.size}<br>Rank=%{customdata[0]}<extra></extra>",
           "hovertext": [
            "311--Processed Foods"
           ],
           "legendgroup": "311--Processed Foods",
           "marker": {
            "color": "#FF6692",
            "size": {
             "bdata": "pHA9CtcDUEA=",
             "dtype": "f8"
            },
            "sizemode": "area",
            "sizeref": 0.7372475000000001,
            "symbol": "circle"
           },
           "mode": "markers",
           "name": "311--Processed Foods",
           "orientation": "v",
           "showlegend": true,
           "type": "scatter",
           "x": {
            "bdata": "AAAAAEC47UA=",
            "dtype": "f8"
           },
           "xaxis": "x",
           "y": {
            "bdata": "AAAAAIBH70A=",
            "dtype": "f8"
           },
           "yaxis": "y"
          },
          {
           "customdata": {
            "bdata": "AAAAAAAAFEA=",
            "dtype": "f8",
            "shape": "1, 1"
           },
           "hovertemplate": "<b>%{hovertext}</b><br><br>Product=324--Petroleum & Coal Products<br>Year=2017<br>Import=%{x}<br>Export=%{y}<br>Size=%{marker.size}<br>Rank=%{customdata[0]}<extra></extra>",
           "hovertext": [
            "324--Petroleum & Coal Products"
           ],
           "legendgroup": "324--Petroleum & Coal Products",
           "marker": {
            "color": "#B6E880",
            "size": {
             "bdata": "exSuR+EKVUA=",
             "dtype": "f8"
            },
            "sizemode": "area",
            "sizeref": 0.7372475000000001,
            "symbol": "circle"
           },
           "mode": "markers",
           "name": "324--Petroleum & Coal Products",
           "orientation": "v",
           "showlegend": true,
           "type": "scatter",
           "x": {
            "bdata": "AAAAAAA36EA=",
            "dtype": "f8"
           },
           "xaxis": "x",
           "y": {
            "bdata": "AAAAAKCM9EA=",
            "dtype": "f8"
           },
           "yaxis": "y"
          },
          {
           "customdata": {
            "bdata": "AAAAAAAAJEA=",
            "dtype": "f8",
            "shape": "1, 1"
           },
           "hovertemplate": "<b>%{hovertext}</b><br><br>Product=331--Primary Metal Manufactures<br>Year=2017<br>Import=%{x}<br>Export=%{y}<br>Size=%{marker.size}<br>Rank=%{customdata[0]}<extra></extra>",
           "hovertext": [
            "331--Primary Metal Manufactures"
           ],
           "legendgroup": "331--Primary Metal Manufactures",
           "marker": {
            "color": "#FF97FF",
            "size": {
             "bdata": "VOOlm8RATEA=",
             "dtype": "f8"
            },
            "sizemode": "area",
            "sizeref": 0.7372475000000001,
            "symbol": "circle"
           },
           "mode": "markers",
           "name": "331--Primary Metal Manufactures",
           "orientation": "v",
           "showlegend": true,
           "type": "scatter",
           "x": {
            "bdata": "AAAAALBv9kA=",
            "dtype": "f8"
           },
           "xaxis": "x",
           "y": {
            "bdata": "AAAAAECX60A=",
            "dtype": "f8"
           },
           "yaxis": "y"
          },
          {
           "customdata": {
            "bdata": "AAAAAAAAIkA=",
            "dtype": "f8",
            "shape": "1, 1"
           },
           "hovertemplate": "<b>%{hovertext}</b><br><br>Product=335--Electrical Equipment, Appliances & Components<br>Year=2017<br>Import=%{x}<br>Export=%{y}<br>Size=%{marker.size}<br>Rank=%{customdata[0]}<extra></extra>",
           "hovertext": [
            "335--Electrical Equipment, Appliances & Components"
           ],
           "legendgroup": "335--Electrical Equipment, Appliances & Components",
           "marker": {
            "color": "#636efa",
            "size": {
             "bdata": "IbByaJHNTUA=",
             "dtype": "f8"
            },
            "sizemode": "area",
            "sizeref": 0.7372475000000001,
            "symbol": "circle"
           },
           "mode": "markers",
           "name": "335--Electrical Equipment, Appliances & Components",
           "orientation": "v",
           "showlegend": true,
           "type": "scatter",
           "x": {
            "bdata": "AAAAAOC/+0A=",
            "dtype": "f8"
           },
           "xaxis": "x",
           "y": {
            "bdata": "AAAAAMAa7UA=",
            "dtype": "f8"
           },
           "yaxis": "y"
          }
         ],
         "name": "2017"
        },
        {
         "data": [
          {
           "customdata": {
            "bdata": "AAAAAAAA8D8=",
            "dtype": "f8",
            "shape": "1, 1"
           },
           "hovertemplate": "<b>%{hovertext}</b><br><br>Product=336--Transportation Equipment<br>Year=2018<br>Import=%{x}<br>Export=%{y}<br>Size=%{marker.size}<br>Rank=%{customdata[0]}<extra></extra>",
           "hovertext": [
            "336--Transportation Equipment"
           ],
           "legendgroup": "336--Transportation Equipment",
           "marker": {
            "color": "#636efa",
            "size": {
             "bdata": "2/l+arzocUA=",
             "dtype": "f8"
            },
            "sizemode": "area",
            "sizeref": 0.7372475000000001,
            "symbol": "circle"
           },
           "mode": "markers",
           "name": "336--Transportation Equipment",
           "orientation": "v",
           "showlegend": true,
           "type": "scatter",
           "x": {
            "bdata": "AAAAANSEGEE=",
            "dtype": "f8"
           },
           "xaxis": "x",
           "y": {
            "bdata": "AAAAAEh9EUE=",
            "dtype": "f8"
           },
           "yaxis": "y"
          },
          {
           "customdata": {
            "bdata": "AAAAAAAAAEA=",
            "dtype": "f8",
            "shape": "1, 1"
           },
           "hovertemplate": "<b>%{hovertext}</b><br><br>Product=334--Computer & Electronic Products<br>Year=2018<br>Import=%{x}<br>Export=%{y}<br>Size=%{marker.size}<br>Rank=%{customdata[0]}<extra></extra>",
           "hovertext": [
            "334--Computer & Electronic Products"
           ],
           "legendgroup": "334--Computer & Electronic Products",
           "marker": {
            "color": "#EF553B",
            "size": {
             "bdata": "5dAi2/myakA=",
             "dtype": "f8"
            },
            "sizemode": "area",
            "sizeref": 0.7372475000000001,
            "symbol": "circle"
           },
           "mode": "markers",
           "name": "334--Computer & Electronic Products",
           "orientation": "v",
           "showlegend": true,
           "type": "scatter",
           "x": {
            "bdata": "AAAAAGQ1GUE=",
            "dtype": "f8"
           },
           "xaxis": "x",
           "y": {
            "bdata": "AAAAAMgSCkE=",
            "dtype": "f8"
           },
           "yaxis": "y"
          },
          {
           "customdata": {
            "bdata": "AAAAAAAACEA=",
            "dtype": "f8",
            "shape": "1, 1"
           },
           "hovertemplate": "<b>%{hovertext}</b><br><br>Product=325--Chemicals<br>Year=2018<br>Import=%{x}<br>Export=%{y}<br>Size=%{marker.size}<br>Rank=%{customdata[0]}<extra></extra>",
           "hovertext": [
            "325--Chemicals"
           ],
           "legendgroup": "325--Chemicals",
           "marker": {
            "color": "#00cc96",
            "size": {
             "bdata": "DAIrhxbtaUA=",
             "dtype": "f8"
            },
            "sizemode": "area",
            "sizeref": 0.7372475000000001,
            "symbol": "circle"
           },
           "mode": "markers",
           "name": "325--Chemicals",
           "orientation": "v",
           "showlegend": true,
           "type": "scatter",
           "x": {
            "bdata": "AAAAAFjWDkE=",
            "dtype": "f8"
           },
           "xaxis": "x",
           "y": {
            "bdata": "AAAAAIhRCUE=",
            "dtype": "f8"
           },
           "yaxis": "y"
          },
          {
           "customdata": {
            "bdata": "AAAAAAAAEEA=",
            "dtype": "f8",
            "shape": "1, 1"
           },
           "hovertemplate": "<b>%{hovertext}</b><br><br>Product=333--Machinery, Except Electrical<br>Year=2018<br>Import=%{x}<br>Export=%{y}<br>Size=%{marker.size}<br>Rank=%{customdata[0]}<extra></extra>",
           "hovertext": [
            "333--Machinery, Except Electrical"
           ],
           "legendgroup": "333--Machinery, Except Electrical",
           "marker": {
            "color": "#ab63fa",
            "size": {
             "bdata": "ZDvfT43XYUA=",
             "dtype": "f8"
            },
            "sizemode": "area",
            "sizeref": 0.7372475000000001,
            "symbol": "circle"
           },
           "mode": "markers",
           "name": "333--Machinery, Except Electrical",
           "orientation": "v",
           "showlegend": true,
           "type": "scatter",
           "x": {
            "bdata": "AAAAAHDxBkE=",
            "dtype": "f8"
           },
           "xaxis": "x",
           "y": {
            "bdata": "AAAAAIBsAUE=",
            "dtype": "f8"
           },
           "yaxis": "y"
          },
          {
           "customdata": {
            "bdata": "AAAAAAAAGEA=",
            "dtype": "f8",
            "shape": "1, 1"
           },
           "hovertemplate": "<b>%{hovertext}</b><br><br>Product=339--Miscellaneous Manufactures<br>Year=2018<br>Import=%{x}<br>Export=%{y}<br>Size=%{marker.size}<br>Rank=%{customdata[0]}<extra></extra>",
           "hovertext": [
            "339--Miscellaneous Manufactures"
           ],
           "legendgroup": "339--Miscellaneous Manufactures",
           "marker": {
            "color": "#FFA15A",
            "size": {
             "bdata": "f2q8dJP4VEA=",
             "dtype": "f8"
            },
            "sizemode": "area",
            "sizeref": 0.7372475000000001,
            "symbol": "circle"
           },
           "mode": "markers",
           "name": "339--Miscellaneous Manufactures",
           "orientation": "v",
           "showlegend": true,
           "type": "scatter",
           "x": {
            "bdata": "AAAAAOBj/0A=",
            "dtype": "f8"
           },
           "xaxis": "x",
           "y": {
            "bdata": "AAAAAMB69EA=",
            "dtype": "f8"
           },
           "yaxis": "y"
          },
          {
           "customdata": {
            "bdata": "AAAAAAAAIEA=",
            "dtype": "f8",
            "shape": "1, 1"
           },
           "hovertemplate": "<b>%{hovertext}</b><br><br>Product=111--Agricultural Products<br>Year=2018<br>Import=%{x}<br>Export=%{y}<br>Size=%{marker.size}<br>Rank=%{customdata[0]}<extra></extra>",
           "hovertext": [
            "111--Agricultural Products"
           ],
           "legendgroup": "111--Agricultural Products",
           "marker": {
            "color": "#19d3f3",
            "size": {
             "bdata": "gZVDi2zHUEA=",
             "dtype": "f8"
            },
            "sizemode": "area",
            "sizeref": 0.7372475000000001,
            "symbol": "circle"
           },
           "mode": "markers",
           "name": "111--Agricultural Products",
           "orientation": "v",
           "showlegend": true,
           "type": "scatter",
           "x": {
            "bdata": "AAAAACB74kA=",
            "dtype": "f8"
           },
           "xaxis": "x",
           "y": {
            "bdata": "AAAAAMBi8EA=",
            "dtype": "f8"
           },
           "yaxis": "y"
          },
          {
           "customdata": {
            "bdata": "AAAAAAAAIkA=",
            "dtype": "f8",
            "shape": "1, 1"
           },
           "hovertemplate": "<b>%{hovertext}</b><br><br>Product=311--Processed Foods<br>Year=2018<br>Import=%{x}<br>Export=%{y}<br>Size=%{marker.size}<br>Rank=%{customdata[0]}<extra></extra>",
           "hovertext": [
            "311--Processed Foods"
           ],
           "legendgroup": "311--Processed Foods",
           "marker": {
            "color": "#FF6692",
            "size": {
             "bdata": "KVyPwvWYUEA=",
             "dtype": "f8"
            },
            "sizemode": "area",
            "sizeref": 0.7372475000000001,
            "symbol": "circle"
           },
           "mode": "markers",
           "name": "311--Processed Foods",
           "orientation": "v",
           "showlegend": true,
           "type": "scatter",
           "x": {
            "bdata": "AAAAAGBu8EA=",
            "dtype": "f8"
           },
           "xaxis": "x",
           "y": {
            "bdata": "AAAAAGA18EA=",
            "dtype": "f8"
           },
           "yaxis": "y"
          },
          {
           "customdata": {
            "bdata": "AAAAAAAAFEA=",
            "dtype": "f8",
            "shape": "1, 1"
           },
           "hovertemplate": "<b>%{hovertext}</b><br><br>Product=324--Petroleum & Coal Products<br>Year=2018<br>Import=%{x}<br>Export=%{y}<br>Size=%{marker.size}<br>Rank=%{customdata[0]}<extra></extra>",
           "hovertext": [
            "324--Petroleum & Coal Products"
           ],
           "legendgroup": "324--Petroleum & Coal Products",
           "marker": {
            "color": "#B6E880",
            "size": {
             "bdata": "w/UoXI/6WUA=",
             "dtype": "f8"
            },
            "sizemode": "area",
            "sizeref": 0.7372475000000001,
            "symbol": "circle"
           },
           "mode": "markers",
           "name": "324--Petroleum & Coal Products",
           "orientation": "v",
           "showlegend": true,
           "type": "scatter",
           "x": {
            "bdata": "AAAAAMAf70A=",
            "dtype": "f8"
           },
           "xaxis": "x",
           "y": {
            "bdata": "AAAAALBe+UA=",
            "dtype": "f8"
           },
           "yaxis": "y"
          },
          {
           "customdata": {
            "bdata": "AAAAAAAAJEA=",
            "dtype": "f8",
            "shape": "1, 1"
           },
           "hovertemplate": "<b>%{hovertext}</b><br><br>Product=335--Electrical Equipment, Appliances & Components<br>Year=2018<br>Import=%{x}<br>Export=%{y}<br>Size=%{marker.size}<br>Rank=%{customdata[0]}<extra></extra>",
           "hovertext": [
            "335--Electrical Equipment, Appliances & Components"
           ],
           "legendgroup": "335--Electrical Equipment, Appliances & Components",
           "marker": {
            "color": "#636efa",
            "size": {
             "bdata": "nu+nxktXT0A=",
             "dtype": "f8"
            },
            "sizemode": "area",
            "sizeref": 0.7372475000000001,
            "symbol": "circle"
           },
           "mode": "markers",
           "name": "335--Electrical Equipment, Appliances & Components",
           "orientation": "v",
           "showlegend": true,
           "type": "scatter",
           "x": {
            "bdata": "AAAAAPCQ/kA=",
            "dtype": "f8"
           },
           "xaxis": "x",
           "y": {
            "bdata": "AAAAAECb7kA=",
            "dtype": "f8"
           },
           "yaxis": "y"
          },
          {
           "customdata": {
            "bdata": "AAAAAAAAHEA=",
            "dtype": "f8",
            "shape": "1, 1"
           },
           "hovertemplate": "<b>%{hovertext}</b><br><br>Product=211--Oil & Gas<br>Year=2018<br>Import=%{x}<br>Export=%{y}<br>Size=%{marker.size}<br>Rank=%{customdata[0]}<extra></extra>",
           "hovertext": [
            "211--Oil & Gas"
           ],
           "legendgroup": "211--Oil & Gas",
           "marker": {
            "color": "#EF553B",
            "size": {
             "bdata": "LbKd76ceU0A=",
             "dtype": "f8"
            },
            "sizemode": "area",
            "sizeref": 0.7372475000000001,
            "symbol": "circle"
           },
           "mode": "markers",
           "name": "211--Oil & Gas",
           "orientation": "v",
           "showlegend": true,
           "type": "scatter",
           "x": {
            "bdata": "AAAAAIBbBEE=",
            "dtype": "f8"
           },
           "xaxis": "x",
           "y": {
            "bdata": "AAAAAPCr8kA=",
            "dtype": "f8"
           },
           "yaxis": "y"
          }
         ],
         "name": "2018"
        },
        {
         "data": [
          {
           "customdata": {
            "bdata": "AAAAAAAA8D8=",
            "dtype": "f8",
            "shape": "1, 1"
           },
           "hovertemplate": "<b>%{hovertext}</b><br><br>Product=336--Transportation Equipment<br>Year=2019<br>Import=%{x}<br>Export=%{y}<br>Size=%{marker.size}<br>Rank=%{customdata[0]}<extra></extra>",
           "hovertext": [
            "336--Transportation Equipment"
           ],
           "legendgroup": "336--Transportation Equipment",
           "marker": {
            "color": "#636efa",
            "size": {
             "bdata": "GQRWDi30cUA=",
             "dtype": "f8"
            },
            "sizemode": "area",
            "sizeref": 0.7372475000000001,
            "symbol": "circle"
           },
           "mode": "markers",
           "name": "336--Transportation Equipment",
           "orientation": "v",
           "showlegend": true,
           "type": "scatter",
           "x": {
            "bdata": "AAAAAPAcGUE=",
            "dtype": "f8"
           },
           "xaxis": "x",
           "y": {
            "bdata": "AAAAAHSIEUE=",
            "dtype": "f8"
           },
           "yaxis": "y"
          },
          {
           "customdata": {
            "bdata": "AAAAAAAAAEA=",
            "dtype": "f8",
            "shape": "1, 1"
           },
           "hovertemplate": "<b>%{hovertext}</b><br><br>Product=334--Computer & Electronic Products<br>Year=2019<br>Import=%{x}<br>Export=%{y}<br>Size=%{marker.size}<br>Rank=%{customdata[0]}<extra></extra>",
           "hovertext": [
            "334--Computer & Electronic Products"
           ],
           "legendgroup": "334--Computer & Electronic Products",
           "marker": {
            "color": "#EF553B",
            "size": {
             "bdata": "SgwCK4duakA=",
             "dtype": "f8"
            },
            "sizemode": "area",
            "sizeref": 0.7372475000000001,
            "symbol": "circle"
           },
           "mode": "markers",
           "name": "334--Computer & Electronic Products",
           "orientation": "v",
           "showlegend": true,
           "type": "scatter",
           "x": {
            "bdata": "AAAAACy2F0E=",
            "dtype": "f8"
           },
           "xaxis": "x",
           "y": {
            "bdata": "AAAAAPDPCUE=",
            "dtype": "f8"
           },
           "yaxis": "y"
          },
          {
           "customdata": {
            "bdata": "AAAAAAAACEA=",
            "dtype": "f8",
            "shape": "1, 1"
           },
           "hovertemplate": "<b>%{hovertext}</b><br><br>Product=325--Chemicals<br>Year=2019<br>Import=%{x}<br>Export=%{y}<br>Size=%{marker.size}<br>Rank=%{customdata[0]}<extra></extra>",
           "hovertext": [
            "325--Chemicals"
           ],
           "legendgroup": "325--Chemicals",
           "marker": {
            "color": "#00cc96",
            "size": {
             "bdata": "TDeJQWAZakA=",
             "dtype": "f8"
            },
            "sizemode": "area",
            "sizeref": 0.7372475000000001,
            "symbol": "circle"
           },
           "mode": "markers",
           "name": "325--Chemicals",
           "orientation": "v",
           "showlegend": true,
           "type": "scatter",
           "x": {
            "bdata": "AAAAAHDtD0E=",
            "dtype": "f8"
           },
           "xaxis": "x",
           "y": {
            "bdata": "AAAAAMh8CUE=",
            "dtype": "f8"
           },
           "yaxis": "y"
          },
          {
           "customdata": {
            "bdata": "AAAAAAAAEEA=",
            "dtype": "f8",
            "shape": "1, 1"
           },
           "hovertemplate": "<b>%{hovertext}</b><br><br>Product=333--Machinery, Except Electrical<br>Year=2019<br>Import=%{x}<br>Export=%{y}<br>Size=%{marker.size}<br>Rank=%{customdata[0]}<extra></extra>",
           "hovertext": [
            "333--Machinery, Except Electrical"
           ],
           "legendgroup": "333--Machinery, Except Electrical",
           "marker": {
            "color": "#ab63fa",
            "size": {
             "bdata": "nMQgsHIcYUA=",
             "dtype": "f8"
            },
            "sizemode": "area",
            "sizeref": 0.7372475000000001,
            "symbol": "circle"
           },
           "mode": "markers",
           "name": "333--Machinery, Except Electrical",
           "orientation": "v",
           "showlegend": true,
           "type": "scatter",
           "x": {
            "bdata": "AAAAAIgXB0E=",
            "dtype": "f8"
           },
           "xaxis": "x",
           "y": {
            "bdata": "AAAAAMi1AEE=",
            "dtype": "f8"
           },
           "yaxis": "y"
          },
          {
           "customdata": {
            "bdata": "AAAAAAAAHEA=",
            "dtype": "f8",
            "shape": "1, 1"
           },
           "hovertemplate": "<b>%{hovertext}</b><br><br>Product=339--Miscellaneous Manufactures<br>Year=2019<br>Import=%{x}<br>Export=%{y}<br>Size=%{marker.size}<br>Rank=%{customdata[0]}<extra></extra>",
           "hovertext": [
            "339--Miscellaneous Manufactures"
           ],
           "legendgroup": "339--Miscellaneous Manufactures",
           "marker": {
            "color": "#FFA15A",
            "size": {
             "bdata": "rkfhehSOVEA=",
             "dtype": "f8"
            },
            "sizemode": "area",
            "sizeref": 0.7372475000000001,
            "symbol": "circle"
           },
           "mode": "markers",
           "name": "339--Miscellaneous Manufactures",
           "orientation": "v",
           "showlegend": true,
           "type": "scatter",
           "x": {
            "bdata": "AAAAAEAM/0A=",
            "dtype": "f8"
           },
           "xaxis": "x",
           "y": {
            "bdata": "AAAAAMAS9EA=",
            "dtype": "f8"
           },
           "yaxis": "y"
          },
          {
           "customdata": {
            "bdata": "AAAAAAAAIkA=",
            "dtype": "f8",
            "shape": "1, 1"
           },
           "hovertemplate": "<b>%{hovertext}</b><br><br>Product=111--Agricultural Products<br>Year=2019<br>Import=%{x}<br>Export=%{y}<br>Size=%{marker.size}<br>Rank=%{customdata[0]}<extra></extra>",
           "hovertext": [
            "111--Agricultural Products"
           ],
           "legendgroup": "111--Agricultural Products",
           "marker": {
            "color": "#19d3f3",
            "size": {
             "bdata": "GQRWDi0aUEA=",
             "dtype": "f8"
            },
            "sizemode": "area",
            "sizeref": 0.7372475000000001,
            "symbol": "circle"
           },
           "mode": "markers",
           "name": "111--Agricultural Products",
           "orientation": "v",
           "showlegend": true,
           "type": "scatter",
           "x": {
            "bdata": "AAAAAKDL4kA=",
            "dtype": "f8"
           },
           "xaxis": "x",
           "y": {
            "bdata": "AAAAACBz70A=",
            "dtype": "f8"
           },
           "yaxis": "y"
          },
          {
           "customdata": {
            "bdata": "AAAAAAAAIEA=",
            "dtype": "f8",
            "shape": "1, 1"
           },
           "hovertemplate": "<b>%{hovertext}</b><br><br>Product=311--Processed Foods<br>Year=2019<br>Import=%{x}<br>Export=%{y}<br>Size=%{marker.size}<br>Rank=%{customdata[0]}<extra></extra>",
           "hovertext": [
            "311--Processed Foods"
           ],
           "legendgroup": "311--Processed Foods",
           "marker": {
            "color": "#FF6692",
            "size": {
             "bdata": "7FG4HoWbUEA=",
             "dtype": "f8"
            },
            "sizemode": "area",
            "sizeref": 0.7372475000000001,
            "symbol": "circle"
           },
           "mode": "markers",
           "name": "311--Processed Foods",
           "orientation": "v",
           "showlegend": true,
           "type": "scatter",
           "x": {
            "bdata": "AAAAAEDC8EA=",
            "dtype": "f8"
           },
           "xaxis": "x",
           "y": {
            "bdata": "AAAAAOA38EA=",
            "dtype": "f8"
           },
           "yaxis": "y"
          },
          {
           "customdata": {
            "bdata": "AAAAAAAAGEA=",
            "dtype": "f8",
            "shape": "1, 1"
           },
           "hovertemplate": "<b>%{hovertext}</b><br><br>Product=324--Petroleum & Coal Products<br>Year=2019<br>Import=%{x}<br>Export=%{y}<br>Size=%{marker.size}<br>Rank=%{customdata[0]}<extra></extra>",
           "hovertext": [
            "324--Petroleum & Coal Products"
           ],
           "legendgroup": "324--Petroleum & Coal Products",
           "marker": {
            "color": "#B6E880",
            "size": {
             "bdata": "nMQgsHJ4V0A=",
             "dtype": "f8"
            },
            "sizemode": "area",
            "sizeref": 0.7372475000000001,
            "symbol": "circle"
           },
           "mode": "markers",
           "name": "324--Petroleum & Coal Products",
           "orientation": "v",
           "showlegend": true,
           "type": "scatter",
           "x": {
            "bdata": "AAAAAMDn7kA=",
            "dtype": "f8"
           },
           "xaxis": "x",
           "y": {
            "bdata": "AAAAAKDr9kA=",
            "dtype": "f8"
           },
           "yaxis": "y"
          },
          {
           "customdata": {
            "bdata": "AAAAAAAAJEA=",
            "dtype": "f8",
            "shape": "1, 1"
           },
           "hovertemplate": "<b>%{hovertext}</b><br><br>Product=335--Electrical Equipment, Appliances & Components<br>Year=2019<br>Import=%{x}<br>Export=%{y}<br>Size=%{marker.size}<br>Rank=%{customdata[0]}<extra></extra>",
           "hovertext": [
            "335--Electrical Equipment, Appliances & Components"
           ],
           "legendgroup": "335--Electrical Equipment, Appliances & Components",
           "marker": {
            "color": "#636efa",
            "size": {
             "bdata": "K4cW2c6XTkA=",
             "dtype": "f8"
            },
            "sizemode": "area",
            "sizeref": 0.7372475000000001,
            "symbol": "circle"
           },
           "mode": "markers",
           "name": "335--Electrical Equipment, Appliances & Components",
           "orientation": "v",
           "showlegend": true,
           "type": "scatter",
           "x": {
            "bdata": "AAAAAKBM/kA=",
            "dtype": "f8"
           },
           "xaxis": "x",
           "y": {
            "bdata": "AAAAAEDg7UA=",
            "dtype": "f8"
           },
           "yaxis": "y"
          },
          {
           "customdata": {
            "bdata": "AAAAAAAAFEA=",
            "dtype": "f8",
            "shape": "1, 1"
           },
           "hovertemplate": "<b>%{hovertext}</b><br><br>Product=211--Oil & Gas<br>Year=2019<br>Import=%{x}<br>Export=%{y}<br>Size=%{marker.size}<br>Rank=%{customdata[0]}<extra></extra>",
           "hovertext": [
            "211--Oil & Gas"
           ],
           "legendgroup": "211--Oil & Gas",
           "marker": {
            "color": "#EF553B",
            "size": {
             "bdata": "MQisHFrUV0A=",
             "dtype": "f8"
            },
            "sizemode": "area",
            "sizeref": 0.7372475000000001,
            "symbol": "circle"
           },
           "mode": "markers",
           "name": "211--Oil & Gas",
           "orientation": "v",
           "showlegend": true,
           "type": "scatter",
           "x": {
            "bdata": "AAAAAGCIAEE=",
            "dtype": "f8"
           },
           "xaxis": "x",
           "y": {
            "bdata": "AAAAAGBF90A=",
            "dtype": "f8"
           },
           "yaxis": "y"
          }
         ],
         "name": "2019"
        },
        {
         "data": [
          {
           "customdata": {
            "bdata": "AAAAAAAA8D8=",
            "dtype": "f8",
            "shape": "1, 1"
           },
           "hovertemplate": "<b>%{hovertext}</b><br><br>Product=336--Transportation Equipment<br>Year=2020<br>Import=%{x}<br>Export=%{y}<br>Size=%{marker.size}<br>Rank=%{customdata[0]}<extra></extra>",
           "hovertext": [
            "336--Transportation Equipment"
           ],
           "legendgroup": "336--Transportation Equipment",
           "marker": {
            "color": "#636efa",
            "size": {
             "bdata": "3SQGgZUTaUA=",
             "dtype": "f8"
            },
            "sizemode": "area",
            "sizeref": 0.7372475000000001,
            "symbol": "circle"
           },
           "mode": "markers",
           "name": "336--Transportation Equipment",
           "orientation": "v",
           "showlegend": true,
           "type": "scatter",
           "x": {
            "bdata": "AAAAAMxGFEE=",
            "dtype": "f8"
           },
           "xaxis": "x",
           "y": {
            "bdata": "AAAAACB9CEE=",
            "dtype": "f8"
           },
           "yaxis": "y"
          },
          {
           "customdata": {
            "bdata": "AAAAAAAAAEA=",
            "dtype": "f8",
            "shape": "1, 1"
           },
           "hovertemplate": "<b>%{hovertext}</b><br><br>Product=334--Computer & Electronic Products<br>Year=2020<br>Import=%{x}<br>Export=%{y}<br>Size=%{marker.size}<br>Rank=%{customdata[0]}<extra></extra>",
           "hovertext": [
            "334--Computer & Electronic Products"
           ],
           "legendgroup": "334--Computer & Electronic Products",
           "marker": {
            "color": "#EF553B",
            "size": {
             "bdata": "PzVeukn0aEA=",
             "dtype": "f8"
            },
            "sizemode": "area",
            "sizeref": 0.7372475000000001,
            "symbol": "circle"
           },
           "mode": "markers",
           "name": "334--Computer & Electronic Products",
           "orientation": "v",
           "showlegend": true,
           "type": "scatter",
           "x": {
            "bdata": "AAAAABTwF0E=",
            "dtype": "f8"
           },
           "xaxis": "x",
           "y": {
            "bdata": "AAAAAJBeCEE=",
            "dtype": "f8"
           },
           "yaxis": "y"
          },
          {
           "customdata": {
            "bdata": "AAAAAAAACEA=",
            "dtype": "f8",
            "shape": "1, 1"
           },
           "hovertemplate": "<b>%{hovertext}</b><br><br>Product=325--Chemicals<br>Year=2020<br>Import=%{x}<br>Export=%{y}<br>Size=%{marker.size}<br>Rank=%{customdata[0]}<extra></extra>",
           "hovertext": [
            "325--Chemicals"
           ],
           "legendgroup": "325--Chemicals",
           "marker": {
            "color": "#00cc96",
            "size": {
             "bdata": "ZmZmZma6aEA=",
             "dtype": "f8"
            },
            "sizemode": "area",
            "sizeref": 0.7372475000000001,
            "symbol": "circle"
           },
           "mode": "markers",
           "name": "325--Chemicals",
           "orientation": "v",
           "showlegend": true,
           "type": "scatter",
           "x": {
            "bdata": "AAAAAJCNEEE=",
            "dtype": "f8"
           },
           "xaxis": "x",
           "y": {
            "bdata": "AAAAAAgmCEE=",
            "dtype": "f8"
           },
           "yaxis": "y"
          },
          {
           "customdata": {
            "bdata": "AAAAAAAAEEA=",
            "dtype": "f8",
            "shape": "1, 1"
           },
           "hovertemplate": "<b>%{hovertext}</b><br><br>Product=333--Machinery, Except Electrical<br>Year=2020<br>Import=%{x}<br>Export=%{y}<br>Size=%{marker.size}<br>Rank=%{customdata[0]}<extra></extra>",
           "hovertext": [
            "333--Machinery, Except Electrical"
           ],
           "legendgroup": "333--Machinery, Except Electrical",
           "marker": {
            "color": "#ab63fa",
            "size": {
             "bdata": "XrpJDALTXkA=",
             "dtype": "f8"
            },
            "sizemode": "area",
            "sizeref": 0.7372475000000001,
            "symbol": "circle"
           },
           "mode": "markers",
           "name": "333--Machinery, Except Electrical",
           "orientation": "v",
           "showlegend": true,
           "type": "scatter",
           "x": {
            "bdata": "AAAAANjJBEE=",
            "dtype": "f8"
           },
           "xaxis": "x",
           "y": {
            "bdata": "AAAAABAa/kA=",
            "dtype": "f8"
           },
           "yaxis": "y"
          },
          {
           "customdata": {
            "bdata": "AAAAAAAAIEA=",
            "dtype": "f8",
            "shape": "1, 1"
           },
           "hovertemplate": "<b>%{hovertext}</b><br><br>Product=339--Miscellaneous Manufactures<br>Year=2020<br>Import=%{x}<br>Export=%{y}<br>Size=%{marker.size}<br>Rank=%{customdata[0]}<extra></extra>",
           "hovertext": [
            "339--Miscellaneous Manufactures"
           ],
           "legendgroup": "339--Miscellaneous Manufactures",
           "marker": {
            "color": "#FFA15A",
            "size": {
             "bdata": "WDm0yHYuUEA=",
             "dtype": "f8"
            },
            "sizemode": "area",
            "sizeref": 0.7372475000000001,
            "symbol": "circle"
           },
           "mode": "markers",
           "name": "339--Miscellaneous Manufactures",
           "orientation": "v",
           "showlegend": true,
           "type": "scatter",
           "x": {
            "bdata": "AAAAAMAP/UA=",
            "dtype": "f8"
           },
           "xaxis": "x",
           "y": {
            "bdata": "AAAAAMCa70A=",
            "dtype": "f8"
           },
           "yaxis": "y"
          },
          {
           "customdata": {
            "bdata": "AAAAAAAAGEA=",
            "dtype": "f8",
            "shape": "1, 1"
           },
           "hovertemplate": "<b>%{hovertext}</b><br><br>Product=111--Agricultural Products<br>Year=2020<br>Import=%{x}<br>Export=%{y}<br>Size=%{marker.size}<br>Rank=%{customdata[0]}<extra></extra>",
           "hovertext": [
            "111--Agricultural Products"
           ],
           "legendgroup": "111--Agricultural Products",
           "marker": {
            "color": "#19d3f3",
            "size": {
             "bdata": "9P3UeOkuUkA=",
             "dtype": "f8"
            },
            "sizemode": "area",
            "sizeref": 0.7372475000000001,
            "symbol": "circle"
           },
           "mode": "markers",
           "name": "111--Agricultural Products",
           "orientation": "v",
           "showlegend": true,
           "type": "scatter",
           "x": {
            "bdata": "AAAAAEAa40A=",
            "dtype": "f8"
           },
           "xaxis": "x",
           "y": {
            "bdata": "AAAAANDB8UA=",
            "dtype": "f8"
           },
           "yaxis": "y"
          },
          {
           "customdata": {
            "bdata": "AAAAAAAAHEA=",
            "dtype": "f8",
            "shape": "1, 1"
           },
           "hovertemplate": "<b>%{hovertext}</b><br><br>Product=311--Processed Foods<br>Year=2020<br>Import=%{x}<br>Export=%{y}<br>Size=%{marker.size}<br>Rank=%{customdata[0]}<extra></extra>",
           "hovertext": [
            "311--Processed Foods"
           ],
           "legendgroup": "311--Processed Foods",
           "marker": {
            "color": "#FF6692",
            "size": {
             "bdata": "mG4Sg8DCUEA=",
             "dtype": "f8"
            },
            "sizemode": "area",
            "sizeref": 0.7372475000000001,
            "symbol": "circle"
           },
           "mode": "markers",
           "name": "311--Processed Foods",
           "orientation": "v",
           "showlegend": true,
           "type": "scatter",
           "x": {
            "bdata": "AAAAAFDK8UA=",
            "dtype": "f8"
           },
           "xaxis": "x",
           "y": {
            "bdata": "AAAAADBe8EA=",
            "dtype": "f8"
           },
           "yaxis": "y"
          },
          {
           "customdata": {
            "bdata": "AAAAAAAAIkA=",
            "dtype": "f8",
            "shape": "1, 1"
           },
           "hovertemplate": "<b>%{hovertext}</b><br><br>Product=324--Petroleum & Coal Products<br>Year=2020<br>Import=%{x}<br>Export=%{y}<br>Size=%{marker.size}<br>Rank=%{customdata[0]}<extra></extra>",
           "hovertext": [
            "324--Petroleum & Coal Products"
           ],
           "legendgroup": "324--Petroleum & Coal Products",
           "marker": {
            "color": "#B6E880",
            "size": {
             "bdata": "PQrXo3AdT0A=",
             "dtype": "f8"
            },
            "sizemode": "area",
            "sizeref": 0.7372475000000001,
            "symbol": "circle"
           },
           "mode": "markers",
           "name": "324--Petroleum & Coal Products",
           "orientation": "v",
           "showlegend": true,
           "type": "scatter",
           "x": {
            "bdata": "AAAAAGAn4kA=",
            "dtype": "f8"
           },
           "xaxis": "x",
           "y": {
            "bdata": "AAAAAMBi7kA=",
            "dtype": "f8"
           },
           "yaxis": "y"
          },
          {
           "customdata": {
            "bdata": "AAAAAAAAJEA=",
            "dtype": "f8",
            "shape": "1, 1"
           },
           "hovertemplate": "<b>%{hovertext}</b><br><br>Product=331--Primary Metal Manufactures<br>Year=2020<br>Import=%{x}<br>Export=%{y}<br>Size=%{marker.size}<br>Rank=%{customdata[0]}<extra></extra>",
           "hovertext": [
            "331--Primary Metal Manufactures"
           ],
           "legendgroup": "331--Primary Metal Manufactures",
           "marker": {
            "color": "#FF97FF",
            "size": {
             "bdata": "okW28/2ETEA=",
             "dtype": "f8"
            },
            "sizemode": "area",
            "sizeref": 0.7372475000000001,
            "symbol": "circle"
           },
           "mode": "markers",
           "name": "331--Primary Metal Manufactures",
           "orientation": "v",
           "showlegend": true,
           "type": "scatter",
           "x": {
            "bdata": "AAAAAGBp/0A=",
            "dtype": "f8"
           },
           "xaxis": "x",
           "y": {
            "bdata": "AAAAAODZ60A=",
            "dtype": "f8"
           },
           "yaxis": "y"
          },
          {
           "customdata": {
            "bdata": "AAAAAAAAFEA=",
            "dtype": "f8",
            "shape": "1, 1"
           },
           "hovertemplate": "<b>%{hovertext}</b><br><br>Product=211--Oil & Gas<br>Year=2020<br>Import=%{x}<br>Export=%{y}<br>Size=%{marker.size}<br>Rank=%{customdata[0]}<extra></extra>",
           "hovertext": [
            "211--Oil & Gas"
           ],
           "legendgroup": "211--Oil & Gas",
           "marker": {
            "color": "#EF553B",
            "size": {
             "bdata": "EoPAyqHFVEA=",
             "dtype": "f8"
            },
            "sizemode": "area",
            "sizeref": 0.7372475000000001,
            "symbol": "circle"
           },
           "mode": "markers",
           "name": "211--Oil & Gas",
           "orientation": "v",
           "showlegend": true,
           "type": "scatter",
           "x": {
            "bdata": "AAAAAKBK9EA=",
            "dtype": "f8"
           },
           "xaxis": "x",
           "y": {
            "bdata": "AAAAAABJ9EA=",
            "dtype": "f8"
           },
           "yaxis": "y"
          }
         ],
         "name": "2020"
        },
        {
         "data": [
          {
           "customdata": {
            "bdata": "AAAAAAAAAEA=",
            "dtype": "f8",
            "shape": "1, 1"
           },
           "hovertemplate": "<b>%{hovertext}</b><br><br>Product=336--Transportation Equipment<br>Year=2021<br>Import=%{x}<br>Export=%{y}<br>Size=%{marker.size}<br>Rank=%{customdata[0]}<extra></extra>",
           "hovertext": [
            "336--Transportation Equipment"
           ],
           "legendgroup": "336--Transportation Equipment",
           "marker": {
            "color": "#636efa",
            "size": {
             "bdata": "uB6F61H4a0A=",
             "dtype": "f8"
            },
            "sizemode": "area",
            "sizeref": 0.7372475000000001,
            "symbol": "circle"
           },
           "mode": "markers",
           "name": "336--Transportation Equipment",
           "orientation": "v",
           "showlegend": true,
           "type": "scatter",
           "x": {
            "bdata": "AAAAAAAXFkE=",
            "dtype": "f8"
           },
           "xaxis": "x",
           "y": {
            "bdata": "AAAAAIBQC0E=",
            "dtype": "f8"
           },
           "yaxis": "y"
          },
          {
           "customdata": {
            "bdata": "AAAAAAAACEA=",
            "dtype": "f8",
            "shape": "1, 1"
           },
           "hovertemplate": "<b>%{hovertext}</b><br><br>Product=334--Computer & Electronic Products<br>Year=2021<br>Import=%{x}<br>Export=%{y}<br>Size=%{marker.size}<br>Rank=%{customdata[0]}<extra></extra>",
           "hovertext": [
            "334--Computer & Electronic Products"
           ],
           "legendgroup": "334--Computer & Electronic Products",
           "marker": {
            "color": "#EF553B",
            "size": {
             "bdata": "FK5H4Xrka0A=",
             "dtype": "f8"
            },
            "sizemode": "area",
            "sizeref": 0.7372475000000001,
            "symbol": "circle"
           },
           "mode": "markers",
           "name": "334--Computer & Electronic Products",
           "orientation": "v",
           "showlegend": true,
           "type": "scatter",
           "x": {
            "bdata": "AAAAAFhZHEE=",
            "dtype": "f8"
           },
           "xaxis": "x",
           "y": {
            "bdata": "AAAAACA9C0E=",
            "dtype": "f8"
           },
           "yaxis": "y"
          },
          {
           "customdata": {
            "bdata": "AAAAAAAA8D8=",
            "dtype": "f8",
            "shape": "1, 1"
           },
           "hovertemplate": "<b>%{hovertext}</b><br><br>Product=325--Chemicals<br>Year=2021<br>Import=%{x}<br>Export=%{y}<br>Size=%{marker.size}<br>Rank=%{customdata[0]}<extra></extra>",
           "hovertext": [
            "325--Chemicals"
           ],
           "legendgroup": "325--Chemicals",
           "marker": {
            "color": "#00cc96",
            "size": {
             "bdata": "SOF6FK6/b0A=",
             "dtype": "f8"
            },
            "sizemode": "area",
            "sizeref": 0.7372475000000001,
            "symbol": "circle"
           },
           "mode": "markers",
           "name": "325--Chemicals",
           "orientation": "v",
           "showlegend": true,
           "type": "scatter",
           "x": {
            "bdata": "AAAAAAQlE0E=",
            "dtype": "f8"
           },
           "xaxis": "x",
           "y": {
            "bdata": "AAAAADABD0E=",
            "dtype": "f8"
           },
           "yaxis": "y"
          },
          {
           "customdata": {
            "bdata": "AAAAAAAAEEA=",
            "dtype": "f8",
            "shape": "1, 1"
           },
           "hovertemplate": "<b>%{hovertext}</b><br><br>Product=333--Machinery, Except Electrical<br>Year=2021<br>Import=%{x}<br>Export=%{y}<br>Size=%{marker.size}<br>Rank=%{customdata[0]}<extra></extra>",
           "hovertext": [
            "333--Machinery, Except Electrical"
           ],
           "legendgroup": "333--Machinery, Except Electrical",
           "marker": {
            "color": "#ab63fa",
            "size": {
             "bdata": "2c73U+NJYkA=",
             "dtype": "f8"
            },
            "sizemode": "area",
            "sizeref": 0.7372475000000001,
            "symbol": "circle"
           },
           "mode": "markers",
           "name": "333--Machinery, Except Electrical",
           "orientation": "v",
           "showlegend": true,
           "type": "scatter",
           "x": {
            "bdata": "AAAAAABTCUE=",
            "dtype": "f8"
           },
           "xaxis": "x",
           "y": {
            "bdata": "AAAAACjcAUE=",
            "dtype": "f8"
           },
           "yaxis": "y"
          },
          {
           "customdata": {
            "bdata": "AAAAAAAAIEA=",
            "dtype": "f8",
            "shape": "1, 1"
           },
           "hovertemplate": "<b>%{hovertext}</b><br><br>Product=339--Miscellaneous Manufactures<br>Year=2021<br>Import=%{x}<br>Export=%{y}<br>Size=%{marker.size}<br>Rank=%{customdata[0]}<extra></extra>",
           "hovertext": [
            "339--Miscellaneous Manufactures"
           ],
           "legendgroup": "339--Miscellaneous Manufactures",
           "marker": {
            "color": "#FFA15A",
            "size": {
             "bdata": "6SYxCKyUU0A=",
             "dtype": "f8"
            },
            "sizemode": "area",
            "sizeref": 0.7372475000000001,
            "symbol": "circle"
           },
           "mode": "markers",
           "name": "339--Miscellaneous Manufactures",
           "orientation": "v",
           "showlegend": true,
           "type": "scatter",
           "x": {
            "bdata": "AAAAALhjBEE=",
            "dtype": "f8"
           },
           "xaxis": "x",
           "y": {
            "bdata": "AAAAADAf80A=",
            "dtype": "f8"
           },
           "yaxis": "y"
          },
          {
           "customdata": {
            "bdata": "AAAAAAAAHEA=",
            "dtype": "f8",
            "shape": "1, 1"
           },
           "hovertemplate": "<b>%{hovertext}</b><br><br>Product=111--Agricultural Products<br>Year=2021<br>Import=%{x}<br>Export=%{y}<br>Size=%{marker.size}<br>Rank=%{customdata[0]}<extra></extra>",
           "hovertext": [
            "111--Agricultural Products"
           ],
           "legendgroup": "111--Agricultural Products",
           "marker": {
            "color": "#19d3f3",
            "size": {
             "bdata": "yXa+nxqnVUA=",
             "dtype": "f8"
            },
            "sizemode": "area",
            "sizeref": 0.7372475000000001,
            "symbol": "circle"
           },
           "mode": "markers",
           "name": "111--Agricultural Products",
           "orientation": "v",
           "showlegend": true,
           "type": "scatter",
           "x": {
            "bdata": "AAAAAOCR5UA=",
            "dtype": "f8"
           },
           "xaxis": "x",
           "y": {
            "bdata": "AAAAADAl9UA=",
            "dtype": "f8"
           },
           "yaxis": "y"
          },
          {
           "customdata": {
            "bdata": "AAAAAAAAIkA=",
            "dtype": "f8",
            "shape": "1, 1"
           },
           "hovertemplate": "<b>%{hovertext}</b><br><br>Product=311--Processed Foods<br>Year=2021<br>Import=%{x}<br>Export=%{y}<br>Size=%{marker.size}<br>Rank=%{customdata[0]}<extra></extra>",
           "hovertext": [
            "311--Processed Foods"
           ],
           "legendgroup": "311--Processed Foods",
           "marker": {
            "color": "#FF6692",
            "size": {
             "bdata": "HVpkO993U0A=",
             "dtype": "f8"
            },
            "sizemode": "area",
            "sizeref": 0.7372475000000001,
            "symbol": "circle"
           },
           "mode": "markers",
           "name": "311--Processed Foods",
           "orientation": "v",
           "showlegend": true,
           "type": "scatter",
           "x": {
            "bdata": "AAAAAOA19UA=",
            "dtype": "f8"
           },
           "xaxis": "x",
           "y": {
            "bdata": "AAAAABAD80A=",
            "dtype": "f8"
           },
           "yaxis": "y"
          },
          {
           "customdata": {
            "bdata": "AAAAAAAAGEA=",
            "dtype": "f8",
            "shape": "1, 1"
           },
           "hovertemplate": "<b>%{hovertext}</b><br><br>Product=324--Petroleum & Coal Products<br>Year=2021<br>Import=%{x}<br>Export=%{y}<br>Size=%{marker.size}<br>Rank=%{customdata[0]}<extra></extra>",
           "hovertext": [
            "324--Petroleum & Coal Products"
           ],
           "legendgroup": "324--Petroleum & Coal Products",
           "marker": {
            "color": "#B6E880",
            "size": {
             "bdata": "xSCwcmhBV0A=",
             "dtype": "f8"
            },
            "sizemode": "area",
            "sizeref": 0.7372475000000001,
            "symbol": "circle"
           },
           "mode": "markers",
           "name": "324--Petroleum & Coal Products",
           "orientation": "v",
           "showlegend": true,
           "type": "scatter",
           "x": {
            "bdata": "AAAAAHA48EA=",
            "dtype": "f8"
           },
           "xaxis": "x",
           "y": {
            "bdata": "AAAAAOC19kA=",
            "dtype": "f8"
           },
           "yaxis": "y"
          },
          {
           "customdata": {
            "bdata": "AAAAAAAAJEA=",
            "dtype": "f8",
            "shape": "1, 1"
           },
           "hovertemplate": "<b>%{hovertext}</b><br><br>Product=331--Primary Metal Manufactures<br>Year=2021<br>Import=%{x}<br>Export=%{y}<br>Size=%{marker.size}<br>Rank=%{customdata[0]}<extra></extra>",
           "hovertext": [
            "331--Primary Metal Manufactures"
           ],
           "legendgroup": "331--Primary Metal Manufactures",
           "marker": {
            "color": "#FF97FF",
            "size": {
             "bdata": "w/UoXI9CU0A=",
             "dtype": "f8"
            },
            "sizemode": "area",
            "sizeref": 0.7372475000000001,
            "symbol": "circle"
           },
           "mode": "markers",
           "name": "331--Primary Metal Manufactures",
           "orientation": "v",
           "showlegend": true,
           "type": "scatter",
           "x": {
            "bdata": "AAAAABCIAEE=",
            "dtype": "f8"
           },
           "xaxis": "x",
           "y": {
            "bdata": "AAAAAADP8kA=",
            "dtype": "f8"
           },
           "yaxis": "y"
          },
          {
           "customdata": {
            "bdata": "AAAAAAAAFEA=",
            "dtype": "f8",
            "shape": "1, 1"
           },
           "hovertemplate": "<b>%{hovertext}</b><br><br>Product=211--Oil & Gas<br>Year=2021<br>Import=%{x}<br>Export=%{y}<br>Size=%{marker.size}<br>Rank=%{customdata[0]}<extra></extra>",
           "hovertext": [
            "211--Oil & Gas"
           ],
           "legendgroup": "211--Oil & Gas",
           "marker": {
            "color": "#EF553B",
            "size": {
             "bdata": "g8DKoUUuYUA=",
             "dtype": "f8"
            },
            "sizemode": "area",
            "sizeref": 0.7372475000000001,
            "symbol": "circle"
           },
           "mode": "markers",
           "name": "211--Oil & Gas",
           "orientation": "v",
           "showlegend": true,
           "type": "scatter",
           "x": {
            "bdata": "AAAAAADUAUE=",
            "dtype": "f8"
           },
           "xaxis": "x",
           "y": {
            "bdata": "AAAAADDHAEE=",
            "dtype": "f8"
           },
           "yaxis": "y"
          }
         ],
         "name": "2021"
        },
        {
         "data": [
          {
           "customdata": {
            "bdata": "AAAAAAAAAEA=",
            "dtype": "f8",
            "shape": "1, 1"
           },
           "hovertemplate": "<b>%{hovertext}</b><br><br>Product=336--Transportation Equipment<br>Year=2022<br>Import=%{x}<br>Export=%{y}<br>Size=%{marker.size}<br>Rank=%{customdata[0]}<extra></extra>",
           "hovertext": [
            "336--Transportation Equipment"
           ],
           "legendgroup": "336--Transportation Equipment",
           "marker": {
            "color": "#636efa",
            "size": {
             "bdata": "4XoUrkcBcEA=",
             "dtype": "f8"
            },
            "sizemode": "area",
            "sizeref": 0.7372475000000001,
            "symbol": "circle"
           },
           "mode": "markers",
           "name": "336--Transportation Equipment",
           "orientation": "v",
           "showlegend": true,
           "type": "scatter",
           "x": {
            "bdata": "AAAAAGwWGUE=",
            "dtype": "f8"
           },
           "xaxis": "x",
           "y": {
            "bdata": "AAAAAIBCD0E=",
            "dtype": "f8"
           },
           "yaxis": "y"
          },
          {
           "customdata": {
            "bdata": "AAAAAAAACEA=",
            "dtype": "f8",
            "shape": "1, 1"
           },
           "hovertemplate": "<b>%{hovertext}</b><br><br>Product=334--Computer & Electronic Products<br>Year=2022<br>Import=%{x}<br>Export=%{y}<br>Size=%{marker.size}<br>Rank=%{customdata[0]}<extra></extra>",
           "hovertext": [
            "334--Computer & Electronic Products"
           ],
           "legendgroup": "334--Computer & Electronic Products",
           "marker": {
            "color": "#EF553B",
            "size": {
             "bdata": "tvP91HhRbUA=",
             "dtype": "f8"
            },
            "sizemode": "area",
            "sizeref": 0.7372475000000001,
            "symbol": "circle"
           },
           "mode": "markers",
           "name": "334--Computer & Electronic Products",
           "orientation": "v",
           "showlegend": true,
           "type": "scatter",
           "x": {
            "bdata": "AAAAAKyLH0E=",
            "dtype": "f8"
           },
           "xaxis": "x",
           "y": {
            "bdata": "AAAAAJChDEE=",
            "dtype": "f8"
           },
           "yaxis": "y"
          },
          {
           "customdata": {
            "bdata": "AAAAAAAA8D8=",
            "dtype": "f8",
            "shape": "1, 1"
           },
           "hovertemplate": "<b>%{hovertext}</b><br><br>Product=325--Chemicals<br>Year=2022<br>Import=%{x}<br>Export=%{y}<br>Size=%{marker.size}<br>Rank=%{customdata[0]}<extra></extra>",
           "hovertext": [
            "325--Chemicals"
           ],
           "legendgroup": "325--Chemicals",
           "marker": {
            "color": "#00cc96",
            "size": {
             "bdata": "4XoUrkfbcUA=",
             "dtype": "f8"
            },
            "sizemode": "area",
            "sizeref": 0.7372475000000001,
            "symbol": "circle"
           },
           "mode": "markers",
           "name": "325--Chemicals",
           "orientation": "v",
           "showlegend": true,
           "type": "scatter",
           "x": {
            "bdata": "AAAAAPAhFkE=",
            "dtype": "f8"
           },
           "xaxis": "x",
           "y": {
            "bdata": "AAAAACRwEUE=",
            "dtype": "f8"
           },
           "yaxis": "y"
          },
          {
           "customdata": {
            "bdata": "AAAAAAAAFEA=",
            "dtype": "f8",
            "shape": "1, 1"
           },
           "hovertemplate": "<b>%{hovertext}</b><br><br>Product=333--Machinery, Except Electrical<br>Year=2022<br>Import=%{x}<br>Export=%{y}<br>Size=%{marker.size}<br>Rank=%{customdata[0]}<extra></extra>",
           "hovertext": [
            "333--Machinery, Except Electrical"
           ],
           "legendgroup": "333--Machinery, Except Electrical",
           "marker": {
            "color": "#ab63fa",
            "size": {
             "bdata": "/Knx0k16ZEA=",
             "dtype": "f8"
            },
            "sizemode": "area",
            "sizeref": 0.7372475000000001,
            "symbol": "circle"
           },
           "mode": "markers",
           "name": "333--Machinery, Except Electrical",
           "orientation": "v",
           "showlegend": true,
           "type": "scatter",
           "x": {
            "bdata": "AAAAAMifDEE=",
            "dtype": "f8"
           },
           "xaxis": "x",
           "y": {
            "bdata": "AAAAAHD/A0E=",
            "dtype": "f8"
           },
           "yaxis": "y"
          },
          {
           "customdata": {
            "bdata": "AAAAAAAAIkA=",
            "dtype": "f8",
            "shape": "1, 1"
           },
           "hovertemplate": "<b>%{hovertext}</b><br><br>Product=339--Miscellaneous Manufactures<br>Year=2022<br>Import=%{x}<br>Export=%{y}<br>Size=%{marker.size}<br>Rank=%{customdata[0]}<extra></extra>",
           "hovertext": [
            "339--Miscellaneous Manufactures"
           ],
           "legendgroup": "339--Miscellaneous Manufactures",
           "marker": {
            "color": "#FFA15A",
            "size": {
             "bdata": "ppvEILDyVUA=",
             "dtype": "f8"
            },
            "sizemode": "area",
            "sizeref": 0.7372475000000001,
            "symbol": "circle"
           },
           "mode": "markers",
           "name": "339--Miscellaneous Manufactures",
           "orientation": "v",
           "showlegend": true,
           "type": "scatter",
           "x": {
            "bdata": "AAAAAPhJBUE=",
            "dtype": "f8"
           },
           "xaxis": "x",
           "y": {
            "bdata": "AAAAAABv9UA=",
            "dtype": "f8"
           },
           "yaxis": "y"
          },
          {
           "customdata": {
            "bdata": "AAAAAAAAHEA=",
            "dtype": "f8",
            "shape": "1, 1"
           },
           "hovertemplate": "<b>%{hovertext}</b><br><br>Product=111--Agricultural Products<br>Year=2022<br>Import=%{x}<br>Export=%{y}<br>Size=%{marker.size}<br>Rank=%{customdata[0]}<extra></extra>",
           "hovertext": [
            "111--Agricultural Products"
           ],
           "legendgroup": "111--Agricultural Products",
           "marker": {
            "color": "#19d3f3",
            "size": {
             "bdata": "arx0kxh8WEA=",
             "dtype": "f8"
            },
            "sizemode": "area",
            "sizeref": 0.7372475000000001,
            "symbol": "circle"
           },
           "mode": "markers",
           "name": "111--Agricultural Products",
           "orientation": "v",
           "showlegend": true,
           "type": "scatter",
           "x": {
            "bdata": "AAAAAOAz6EA=",
            "dtype": "f8"
           },
           "xaxis": "x",
           "y": {
            "bdata": "AAAAADDp90A=",
            "dtype": "f8"
           },
           "yaxis": "y"
          },
          {
           "customdata": {
            "bdata": "AAAAAAAAJEA=",
            "dtype": "f8",
            "shape": "1, 1"
           },
           "hovertemplate": "<b>%{hovertext}</b><br><br>Product=311--Processed Foods<br>Year=2022<br>Import=%{x}<br>Export=%{y}<br>Size=%{marker.size}<br>Rank=%{customdata[0]}<extra></extra>",
           "hovertext": [
            "311--Processed Foods"
           ],
           "legendgroup": "311--Processed Foods",
           "marker": {
            "color": "#FF6692",
            "size": {
             "bdata": "pHA9CtcjVUA=",
             "dtype": "f8"
            },
            "sizemode": "area",
            "sizeref": 0.7372475000000001,
            "symbol": "circle"
           },
           "mode": "markers",
           "name": "311--Processed Foods",
           "orientation": "v",
           "showlegend": true,
           "type": "scatter",
           "x": {
            "bdata": "AAAAABDV+UA=",
            "dtype": "f8"
           },
           "xaxis": "x",
           "y": {
            "bdata": "AAAAAACl9EA=",
            "dtype": "f8"
           },
           "yaxis": "y"
          },
          {
           "customdata": {
            "bdata": "AAAAAAAAGEA=",
            "dtype": "f8",
            "shape": "1, 1"
           },
           "hovertemplate": "<b>%{hovertext}</b><br><br>Product=324--Petroleum & Coal Products<br>Year=2022<br>Import=%{x}<br>Export=%{y}<br>Size=%{marker.size}<br>Rank=%{customdata[0]}<extra></extra>",
           "hovertext": [
            "324--Petroleum & Coal Products"
           ],
           "legendgroup": "324--Petroleum & Coal Products",
           "marker": {
            "color": "#B6E880",
            "size": {
             "bdata": "y6FFtvP9YkA=",
             "dtype": "f8"
            },
            "sizemode": "area",
            "sizeref": 0.7372475000000001,
            "symbol": "circle"
           },
           "mode": "markers",
           "name": "324--Petroleum & Coal Products",
           "orientation": "v",
           "showlegend": true,
           "type": "scatter",
           "x": {
            "bdata": "AAAAALAo9UA=",
            "dtype": "f8"
           },
           "xaxis": "x",
           "y": {
            "bdata": "AAAAAACMAkE=",
            "dtype": "f8"
           },
           "yaxis": "y"
          },
          {
           "customdata": {
            "bdata": "AAAAAAAAIEA=",
            "dtype": "f8",
            "shape": "1, 1"
           },
           "hovertemplate": "<b>%{hovertext}</b><br><br>Product=331--Primary Metal Manufactures<br>Year=2022<br>Import=%{x}<br>Export=%{y}<br>Size=%{marker.size}<br>Rank=%{customdata[0]}<extra></extra>",
           "hovertext": [
            "331--Primary Metal Manufactures"
           ],
           "legendgroup": "331--Primary Metal Manufactures",
           "marker": {
            "color": "#FF97FF",
            "size": {
             "bdata": "FK5H4Xo0VkA=",
             "dtype": "f8"
            },
            "sizemode": "area",
            "sizeref": 0.7372475000000001,
            "symbol": "circle"
           },
           "mode": "markers",
           "name": "331--Primary Metal Manufactures",
           "orientation": "v",
           "showlegend": true,
           "type": "scatter",
           "x": {
            "bdata": "AAAAAFi5AkE=",
            "dtype": "f8"
           },
           "xaxis": "x",
           "y": {
            "bdata": "AAAAAECv9UA=",
            "dtype": "f8"
           },
           "yaxis": "y"
          },
          {
           "customdata": {
            "bdata": "AAAAAAAAEEA=",
            "dtype": "f8",
            "shape": "1, 1"
           },
           "hovertemplate": "<b>%{hovertext}</b><br><br>Product=211--Oil & Gas<br>Year=2022<br>Import=%{x}<br>Export=%{y}<br>Size=%{marker.size}<br>Rank=%{customdata[0]}<extra></extra>",
           "hovertext": [
            "211--Oil & Gas"
           ],
           "legendgroup": "211--Oil & Gas",
           "marker": {
            "color": "#EF553B",
            "size": {
             "bdata": "oBov3SSuakA=",
             "dtype": "f8"
            },
            "sizemode": "area",
            "sizeref": 0.7372475000000001,
            "symbol": "circle"
           },
           "mode": "markers",
           "name": "211--Oil & Gas",
           "orientation": "v",
           "showlegend": true,
           "type": "scatter",
           "x": {
            "bdata": "AAAAAAjBCkE=",
            "dtype": "f8"
           },
           "xaxis": "x",
           "y": {
            "bdata": "AAAAABAOCkE=",
            "dtype": "f8"
           },
           "yaxis": "y"
          }
         ],
         "name": "2022"
        },
        {
         "data": [
          {
           "customdata": {
            "bdata": "AAAAAAAA8D8=",
            "dtype": "f8",
            "shape": "1, 1"
           },
           "hovertemplate": "<b>%{hovertext}</b><br><br>Product=336--Transportation Equipment<br>Year=2023<br>Import=%{x}<br>Export=%{y}<br>Size=%{marker.size}<br>Rank=%{customdata[0]}<extra></extra>",
           "hovertext": [
            "336--Transportation Equipment"
           ],
           "legendgroup": "336--Transportation Equipment",
           "marker": {
            "color": "#636efa",
            "size": {
             "bdata": "qvHSTWJuckA=",
             "dtype": "f8"
            },
            "sizemode": "area",
            "sizeref": 0.7372475000000001,
            "symbol": "circle"
           },
           "mode": "markers",
           "name": "336--Transportation Equipment",
           "orientation": "v",
           "showlegend": true,
           "type": "scatter",
           "x": {
            "bdata": "AAAAAJgdHUE=",
            "dtype": "f8"
           },
           "xaxis": "x",
           "y": {
            "bdata": "AAAAAMz/EUE=",
            "dtype": "f8"
           },
           "yaxis": "y"
          },
          {
           "customdata": {
            "bdata": "AAAAAAAACEA=",
            "dtype": "f8",
            "shape": "1, 1"
           },
           "hovertemplate": "<b>%{hovertext}</b><br><br>Product=334--Computer & Electronic Products<br>Year=2023<br>Import=%{x}<br>Export=%{y}<br>Size=%{marker.size}<br>Rank=%{customdata[0]}<extra></extra>",
           "hovertext": [
            "334--Computer & Electronic Products"
           ],
           "legendgroup": "334--Computer & Electronic Products",
           "marker": {
            "color": "#EF553B",
            "size": {
             "bdata": "vHSTGATWbEA=",
             "dtype": "f8"
            },
            "sizemode": "area",
            "sizeref": 0.7372475000000001,
            "symbol": "circle"
           },
           "mode": "markers",
           "name": "334--Computer & Electronic Products",
           "orientation": "v",
           "showlegend": true,
           "type": "scatter",
           "x": {
            "bdata": "AAAAAOBvHUE=",
            "dtype": "f8"
           },
           "xaxis": "x",
           "y": {
            "bdata": "AAAAAAApDEE=",
            "dtype": "f8"
           },
           "yaxis": "y"
          },
          {
           "customdata": {
            "bdata": "AAAAAAAAAEA=",
            "dtype": "f8",
            "shape": "1, 1"
           },
           "hovertemplate": "<b>%{hovertext}</b><br><br>Product=325--Chemicals<br>Year=2023<br>Import=%{x}<br>Export=%{y}<br>Size=%{marker.size}<br>Rank=%{customdata[0]}<extra></extra>",
           "hovertext": [
            "325--Chemicals"
           ],
           "legendgroup": "325--Chemicals",
           "marker": {
            "color": "#00cc96",
            "size": {
             "bdata": "tvP91HhhcUA=",
             "dtype": "f8"
            },
            "sizemode": "area",
            "sizeref": 0.7372475000000001,
            "symbol": "circle"
           },
           "mode": "markers",
           "name": "325--Chemicals",
           "orientation": "v",
           "showlegend": true,
           "type": "scatter",
           "x": {
            "bdata": "AAAAAHRhFUE=",
            "dtype": "f8"
           },
           "xaxis": "x",
           "y": {
            "bdata": "AAAAADD5EEE=",
            "dtype": "f8"
           },
           "yaxis": "y"
          },
          {
           "customdata": {
            "bdata": "AAAAAAAAFEA=",
            "dtype": "f8",
            "shape": "1, 1"
           },
           "hovertemplate": "<b>%{hovertext}</b><br><br>Product=333--Machinery, Except Electrical<br>Year=2023<br>Import=%{x}<br>Export=%{y}<br>Size=%{marker.size}<br>Rank=%{customdata[0]}<extra></extra>",
           "hovertext": [
            "333--Machinery, Except Electrical"
           ],
           "legendgroup": "333--Machinery, Except Electrical",
           "marker": {
            "color": "#ab63fa",
            "size": {
             "bdata": "yXa+nxq/ZEA=",
             "dtype": "f8"
            },
            "sizemode": "area",
            "sizeref": 0.7372475000000001,
            "symbol": "circle"
           },
           "mode": "markers",
           "name": "333--Machinery, Except Electrical",
           "orientation": "v",
           "showlegend": true,
           "type": "scatter",
           "x": {
            "bdata": "AAAAAFhgDUE=",
            "dtype": "f8"
           },
           "xaxis": "x",
           "y": {
            "bdata": "AAAAAKBCBEE=",
            "dtype": "f8"
           },
           "yaxis": "y"
          },
          {
           "customdata": {
            "bdata": "AAAAAAAAHEA=",
            "dtype": "f8",
            "shape": "1, 1"
           },
           "hovertemplate": "<b>%{hovertext}</b><br><br>Product=339--Miscellaneous Manufactures<br>Year=2023<br>Import=%{x}<br>Export=%{y}<br>Size=%{marker.size}<br>Rank=%{customdata[0]}<extra></extra>",
           "hovertext": [
            "339--Miscellaneous Manufactures"
           ],
           "legendgroup": "339--Miscellaneous Manufactures",
           "marker": {
            "color": "#FFA15A",
            "size": {
             "bdata": "vHSTGAQuV0A=",
             "dtype": "f8"
            },
            "sizemode": "area",
            "sizeref": 0.7372475000000001,
            "symbol": "circle"
           },
           "mode": "markers",
           "name": "339--Miscellaneous Manufactures",
           "orientation": "v",
           "showlegend": true,
           "type": "scatter",
           "x": {
            "bdata": "AAAAACA0A0E=",
            "dtype": "f8"
           },
           "xaxis": "x",
           "y": {
            "bdata": "AAAAAPCi9kA=",
            "dtype": "f8"
           },
           "yaxis": "y"
          },
          {
           "customdata": {
            "bdata": "AAAAAAAAIkA=",
            "dtype": "f8",
            "shape": "1, 1"
           },
           "hovertemplate": "<b>%{hovertext}</b><br><br>Product=111--Agricultural Products<br>Year=2023<br>Import=%{x}<br>Export=%{y}<br>Size=%{marker.size}<br>Rank=%{customdata[0]}<extra></extra>",
           "hovertext": [
            "111--Agricultural Products"
           ],
           "legendgroup": "111--Agricultural Products",
           "marker": {
            "color": "#19d3f3",
            "size": {
             "bdata": "2c73U+MNVEA=",
             "dtype": "f8"
            },
            "sizemode": "area",
            "sizeref": 0.7372475000000001,
            "symbol": "circle"
           },
           "mode": "markers",
           "name": "111--Agricultural Products",
           "orientation": "v",
           "showlegend": true,
           "type": "scatter",
           "x": {
            "bdata": "AAAAAMDv50A=",
            "dtype": "f8"
           },
           "xaxis": "x",
           "y": {
            "bdata": "AAAAAJCV80A=",
            "dtype": "f8"
           },
           "yaxis": "y"
          },
          {
           "customdata": {
            "bdata": "AAAAAAAAIEA=",
            "dtype": "f8",
            "shape": "1, 1"
           },
           "hovertemplate": "<b>%{hovertext}</b><br><br>Product=311--Processed Foods<br>Year=2023<br>Import=%{x}<br>Export=%{y}<br>Size=%{marker.size}<br>Rank=%{customdata[0]}<extra></extra>",
           "hovertext": [
            "311--Processed Foods"
           ],
           "legendgroup": "311--Processed Foods",
           "marker": {
            "color": "#FF6692",
            "size": {
             "bdata": "/tR46SZRVEA=",
             "dtype": "f8"
            },
            "sizemode": "area",
            "sizeref": 0.7372475000000001,
            "symbol": "circle"
           },
           "mode": "markers",
           "name": "311--Processed Foods",
           "orientation": "v",
           "showlegend": true,
           "type": "scatter",
           "x": {
            "bdata": "AAAAAMDo+UA=",
            "dtype": "f8"
           },
           "xaxis": "x",
           "y": {
            "bdata": "AAAAAEDX80A=",
            "dtype": "f8"
           },
           "yaxis": "y"
          },
          {
           "customdata": {
            "bdata": "AAAAAAAAGEA=",
            "dtype": "f8",
            "shape": "1, 1"
           },
           "hovertemplate": "<b>%{hovertext}</b><br><br>Product=324--Petroleum & Coal Products<br>Year=2023<br>Import=%{x}<br>Export=%{y}<br>Size=%{marker.size}<br>Rank=%{customdata[0]}<extra></extra>",
           "hovertext": [
            "324--Petroleum & Coal Products"
           ],
           "legendgroup": "324--Petroleum & Coal Products",
           "marker": {
            "color": "#B6E880",
            "size": {
             "bdata": "+n5qvHQTYEA=",
             "dtype": "f8"
            },
            "sizemode": "area",
            "sizeref": 0.7372475000000001,
            "symbol": "circle"
           },
           "mode": "markers",
           "name": "324--Petroleum & Coal Products",
           "orientation": "v",
           "showlegend": true,
           "type": "scatter",
           "x": {
            "bdata": "AAAAAFCo8UA=",
            "dtype": "f8"
           },
           "xaxis": "x",
           "y": {
            "bdata": "AAAAAABm/0A=",
            "dtype": "f8"
           },
           "yaxis": "y"
          },
          {
           "customdata": {
            "bdata": "AAAAAAAAJEA=",
            "dtype": "f8",
            "shape": "1, 1"
           },
           "hovertemplate": "<b>%{hovertext}</b><br><br>Product=331--Primary Metal Manufactures<br>Year=2023<br>Import=%{x}<br>Export=%{y}<br>Size=%{marker.size}<br>Rank=%{customdata[0]}<extra></extra>",
           "hovertext": [
            "331--Primary Metal Manufactures"
           ],
           "legendgroup": "331--Primary Metal Manufactures",
           "marker": {
            "color": "#FF97FF",
            "size": {
             "bdata": "FK5H4XqMUkA=",
             "dtype": "f8"
            },
            "sizemode": "area",
            "sizeref": 0.7372475000000001,
            "symbol": "circle"
           },
           "mode": "markers",
           "name": "331--Primary Metal Manufactures",
           "orientation": "v",
           "showlegend": true,
           "type": "scatter",
           "x": {
            "bdata": "AAAAAHDc/0A=",
            "dtype": "f8"
           },
           "xaxis": "x",
           "y": {
            "bdata": "AAAAADAd8kA=",
            "dtype": "f8"
           },
           "yaxis": "y"
          },
          {
           "customdata": {
            "bdata": "AAAAAAAAEEA=",
            "dtype": "f8",
            "shape": "1, 1"
           },
           "hovertemplate": "<b>%{hovertext}</b><br><br>Product=211--Oil & Gas<br>Year=2023<br>Import=%{x}<br>Export=%{y}<br>Size=%{marker.size}<br>Rank=%{customdata[0]}<extra></extra>",
           "hovertext": [
            "211--Oil & Gas"
           ],
           "legendgroup": "211--Oil & Gas",
           "marker": {
            "color": "#EF553B",
            "size": {
             "bdata": "pHA9CtcHZ0A=",
             "dtype": "f8"
            },
            "sizemode": "area",
            "sizeref": 0.7372475000000001,
            "symbol": "circle"
           },
           "mode": "markers",
           "name": "211--Oil & Gas",
           "orientation": "v",
           "showlegend": true,
           "type": "scatter",
           "x": {
            "bdata": "AAAAAJieBUE=",
            "dtype": "f8"
           },
           "xaxis": "x",
           "y": {
            "bdata": "AAAAAKh9BkE=",
            "dtype": "f8"
           },
           "yaxis": "y"
          }
         ],
         "name": "2023"
        },
        {
         "data": [
          {
           "customdata": {
            "bdata": "AAAAAAAA8D8=",
            "dtype": "f8",
            "shape": "1, 1"
           },
           "hovertemplate": "<b>%{hovertext}</b><br><br>Product=336--Transportation Equipment<br>Year=2024<br>Import=%{x}<br>Export=%{y}<br>Size=%{marker.size}<br>Rank=%{customdata[0]}<extra></extra>",
           "hovertext": [
            "336--Transportation Equipment"
           ],
           "legendgroup": "336--Transportation Equipment",
           "marker": {
            "color": "#636efa",
            "size": {
             "bdata": "Vg4tsp1NckA=",
             "dtype": "f8"
            },
            "sizemode": "area",
            "sizeref": 0.7372475000000001,
            "symbol": "circle"
           },
           "mode": "markers",
           "name": "336--Transportation Equipment",
           "orientation": "v",
           "showlegend": true,
           "type": "scatter",
           "x": {
            "bdata": "AAAAABAqHkE=",
            "dtype": "f8"
           },
           "xaxis": "x",
           "y": {
            "bdata": "AAAAAMzfEUE=",
            "dtype": "f8"
           },
           "yaxis": "y"
          },
          {
           "customdata": {
            "bdata": "AAAAAAAACEA=",
            "dtype": "f8",
            "shape": "1, 1"
           },
           "hovertemplate": "<b>%{hovertext}</b><br><br>Product=334--Computer & Electronic Products<br>Year=2024<br>Import=%{x}<br>Export=%{y}<br>Size=%{marker.size}<br>Rank=%{customdata[0]}<extra></extra>",
           "hovertext": [
            "334--Computer & Electronic Products"
           ],
           "legendgroup": "334--Computer & Electronic Products",
           "marker": {
            "color": "#EF553B",
            "size": {
             "bdata": "Di2yne81cEA=",
             "dtype": "f8"
            },
            "sizemode": "area",
            "sizeref": 0.7372475000000001,
            "symbol": "circle"
           },
           "mode": "markers",
           "name": "334--Computer & Electronic Products",
           "orientation": "v",
           "showlegend": true,
           "type": "scatter",
           "x": {
            "bdata": "AAAAADjWIEE=",
            "dtype": "f8"
           },
           "xaxis": "x",
           "y": {
            "bdata": "AAAAAFipD0E=",
            "dtype": "f8"
           },
           "yaxis": "y"
          },
          {
           "customdata": {
            "bdata": "AAAAAAAAAEA=",
            "dtype": "f8",
            "shape": "1, 1"
           },
           "hovertemplate": "<b>%{hovertext}</b><br><br>Product=325--Chemicals<br>Year=2024<br>Import=%{x}<br>Export=%{y}<br>Size=%{marker.size}<br>Rank=%{customdata[0]}<extra></extra>",
           "hovertext": [
            "325--Chemicals"
           ],
           "legendgroup": "325--Chemicals",
           "marker": {
            "color": "#00cc96",
            "size": {
             "bdata": "kxgEVg7XcUA=",
             "dtype": "f8"
            },
            "sizemode": "area",
            "sizeref": 0.7372475000000001,
            "symbol": "circle"
           },
           "mode": "markers",
           "name": "325--Chemicals",
           "orientation": "v",
           "showlegend": true,
           "type": "scatter",
           "x": {
            "bdata": "AAAAANAIGEE=",
            "dtype": "f8"
           },
           "xaxis": "x",
           "y": {
            "bdata": "AAAAAARsEUE=",
            "dtype": "f8"
           },
           "yaxis": "y"
          },
          {
           "customdata": {
            "bdata": "AAAAAAAAFEA=",
            "dtype": "f8",
            "shape": "1, 1"
           },
           "hovertemplate": "<b>%{hovertext}</b><br><br>Product=333--Machinery, Except Electrical<br>Year=2024<br>Import=%{x}<br>Export=%{y}<br>Size=%{marker.size}<br>Rank=%{customdata[0]}<extra></extra>",
           "hovertext": [
            "333--Machinery, Except Electrical"
           ],
           "legendgroup": "333--Machinery, Except Electrical",
           "marker": {
            "color": "#ab63fa",
            "size": {
             "bdata": "8KfGSzeVZEA=",
             "dtype": "f8"
            },
            "sizemode": "area",
            "sizeref": 0.7372475000000001,
            "symbol": "circle"
           },
           "mode": "markers",
           "name": "333--Machinery, Except Electrical",
           "orientation": "v",
           "showlegend": true,
           "type": "scatter",
           "x": {
            "bdata": "AAAAAGhBDkE=",
            "dtype": "f8"
           },
           "xaxis": "x",
           "y": {
            "bdata": "AAAAALgZBEE=",
            "dtype": "f8"
           },
           "yaxis": "y"
          },
          {
           "customdata": {
            "bdata": "AAAAAAAAHEA=",
            "dtype": "f8",
            "shape": "1, 1"
           },
           "hovertemplate": "<b>%{hovertext}</b><br><br>Product=339--Miscellaneous Manufactures<br>Year=2024<br>Import=%{x}<br>Export=%{y}<br>Size=%{marker.size}<br>Rank=%{customdata[0]}<extra></extra>",
           "hovertext": [
            "339--Miscellaneous Manufactures"
           ],
           "legendgroup": "339--Miscellaneous Manufactures",
           "marker": {
            "color": "#FFA15A",
            "size": {
             "bdata": "9ihcj8LlVUA=",
             "dtype": "f8"
            },
            "sizemode": "area",
            "sizeref": 0.7372475000000001,
            "symbol": "circle"
           },
           "mode": "markers",
           "name": "339--Miscellaneous Manufactures",
           "orientation": "v",
           "showlegend": true,
           "type": "scatter",
           "x": {
            "bdata": "AAAAAPD1AkE=",
            "dtype": "f8"
           },
           "xaxis": "x",
           "y": {
            "bdata": "AAAAAGBi9UA=",
            "dtype": "f8"
           },
           "yaxis": "y"
          },
          {
           "customdata": {
            "bdata": "AAAAAAAAJEA=",
            "dtype": "f8",
            "shape": "1, 1"
           },
           "hovertemplate": "<b>%{hovertext}</b><br><br>Product=111--Agricultural Products<br>Year=2024<br>Import=%{x}<br>Export=%{y}<br>Size=%{marker.size}<br>Rank=%{customdata[0]}<extra></extra>",
           "hovertext": [
            "111--Agricultural Products"
           ],
           "legendgroup": "111--Agricultural Products",
           "marker": {
            "color": "#19d3f3",
            "size": {
             "bdata": "pHA9CtfjU0A=",
             "dtype": "f8"
            },
            "sizemode": "area",
            "sizeref": 0.7372475000000001,
            "symbol": "circle"
           },
           "mode": "markers",
           "name": "111--Agricultural Products",
           "orientation": "v",
           "showlegend": true,
           "type": "scatter",
           "x": {
            "bdata": "AAAAAACK6UA=",
            "dtype": "f8"
           },
           "xaxis": "x",
           "y": {
            "bdata": "AAAAAIBs80A=",
            "dtype": "f8"
           },
           "yaxis": "y"
          },
          {
           "customdata": {
            "bdata": "AAAAAAAAIEA=",
            "dtype": "f8",
            "shape": "1, 1"
           },
           "hovertemplate": "<b>%{hovertext}</b><br><br>Product=311--Processed Foods<br>Year=2024<br>Import=%{x}<br>Export=%{y}<br>Size=%{marker.size}<br>Rank=%{customdata[0]}<extra></extra>",
           "hovertext": [
            "311--Processed Foods"
           ],
           "legendgroup": "311--Processed Foods",
           "marker": {
            "color": "#FF6692",
            "size": {
             "bdata": "HVpkO9/nVEA=",
             "dtype": "f8"
            },
            "sizemode": "area",
            "sizeref": 0.7372475000000001,
            "symbol": "circle"
           },
           "mode": "markers",
           "name": "311--Processed Foods",
           "orientation": "v",
           "showlegend": true,
           "type": "scatter",
           "x": {
            "bdata": "AAAAACDD/EA=",
            "dtype": "f8"
           },
           "xaxis": "x",
           "y": {
            "bdata": "AAAAAHBq9EA=",
            "dtype": "f8"
           },
           "yaxis": "y"
          },
          {
           "customdata": {
            "bdata": "AAAAAAAAGEA=",
            "dtype": "f8",
            "shape": "1, 1"
           },
           "hovertemplate": "<b>%{hovertext}</b><br><br>Product=324--Petroleum & Coal Products<br>Year=2024<br>Import=%{x}<br>Export=%{y}<br>Size=%{marker.size}<br>Rank=%{customdata[0]}<extra></extra>",
           "hovertext": [
            "324--Petroleum & Coal Products"
           ],
           "legendgroup": "324--Petroleum & Coal Products",
           "marker": {
            "color": "#B6E880",
            "size": {
             "bdata": "YhBYObTwX0A=",
             "dtype": "f8"
            },
            "sizemode": "area",
            "sizeref": 0.7372475000000001,
            "symbol": "circle"
           },
           "mode": "markers",
           "name": "324--Petroleum & Coal Products",
           "orientation": "v",
           "showlegend": true,
           "type": "scatter",
           "x": {
            "bdata": "AAAAAEC67kA=",
            "dtype": "f8"
           },
           "xaxis": "x",
           "y": {
            "bdata": "AAAAABAx/0A=",
            "dtype": "f8"
           },
           "yaxis": "y"
          },
          {
           "customdata": {
            "bdata": "AAAAAAAAIkA=",
            "dtype": "f8",
            "shape": "1, 1"
           },
           "hovertemplate": "<b>%{hovertext}</b><br><br>Product=990--Other Special Classification Provisions<br>Year=2024<br>Import=%{x}<br>Export=%{y}<br>Size=%{marker.size}<br>Rank=%{customdata[0]}<extra></extra>",
           "hovertext": [
            "990--Other Special Classification Provisions"
           ],
           "legendgroup": "990--Other Special Classification Provisions",
           "marker": {
            "color": "#FECB52",
            "size": {
             "bdata": "001iEFghVEA=",
             "dtype": "f8"
            },
            "sizemode": "area",
            "sizeref": 0.7372475000000001,
            "symbol": "circle"
           },
           "mode": "markers",
           "name": "990--Other Special Classification Provisions",
           "orientation": "v",
           "showlegend": true,
           "type": "scatter",
           "x": {
            "bdata": "AAAAAIBV3UA=",
            "dtype": "f8"
           },
           "xaxis": "x",
           "y": {
            "bdata": "AAAAAJCo80A=",
            "dtype": "f8"
           },
           "yaxis": "y"
          },
          {
           "customdata": {
            "bdata": "AAAAAAAAEEA=",
            "dtype": "f8",
            "shape": "1, 1"
           },
           "hovertemplate": "<b>%{hovertext}</b><br><br>Product=211--Oil & Gas<br>Year=2024<br>Import=%{x}<br>Export=%{y}<br>Size=%{marker.size}<br>Rank=%{customdata[0]}<extra></extra>",
           "hovertext": [
            "211--Oil & Gas"
           ],
           "legendgroup": "211--Oil & Gas",
           "marker": {
            "color": "#EF553B",
            "size": {
             "bdata": "HVpkO9+XZkA=",
             "dtype": "f8"
            },
            "sizemode": "area",
            "sizeref": 0.7372475000000001,
            "symbol": "circle"
           },
           "mode": "markers",
           "name": "211--Oil & Gas",
           "orientation": "v",
           "showlegend": true,
           "type": "scatter",
           "x": {
            "bdata": "AAAAAKiKBUE=",
            "dtype": "f8"
           },
           "xaxis": "x",
           "y": {
            "bdata": "AAAAAFAQBkE=",
            "dtype": "f8"
           },
           "yaxis": "y"
          }
         ],
         "name": "2024"
        }
       ],
       "layout": {
        "height": 700,
        "legend": {
         "itemsizing": "constant",
         "title": {
          "text": "Product Category"
         },
         "tracegroupgap": 0
        },
        "sliders": [
         {
          "active": 0,
          "currentvalue": {
           "prefix": "Year="
          },
          "len": 0.9,
          "pad": {
           "b": 10,
           "t": 60
          },
          "steps": [
           {
            "args": [
             [
              "2009"
             ],
             {
              "frame": {
               "duration": 0,
               "redraw": false
              },
              "fromcurrent": true,
              "mode": "immediate",
              "transition": {
               "duration": 0,
               "easing": "linear"
              }
             }
            ],
            "label": "2009",
            "method": "animate"
           },
           {
            "args": [
             [
              "2010"
             ],
             {
              "frame": {
               "duration": 0,
               "redraw": false
              },
              "fromcurrent": true,
              "mode": "immediate",
              "transition": {
               "duration": 0,
               "easing": "linear"
              }
             }
            ],
            "label": "2010",
            "method": "animate"
           },
           {
            "args": [
             [
              "2011"
             ],
             {
              "frame": {
               "duration": 0,
               "redraw": false
              },
              "fromcurrent": true,
              "mode": "immediate",
              "transition": {
               "duration": 0,
               "easing": "linear"
              }
             }
            ],
            "label": "2011",
            "method": "animate"
           },
           {
            "args": [
             [
              "2012"
             ],
             {
              "frame": {
               "duration": 0,
               "redraw": false
              },
              "fromcurrent": true,
              "mode": "immediate",
              "transition": {
               "duration": 0,
               "easing": "linear"
              }
             }
            ],
            "label": "2012",
            "method": "animate"
           },
           {
            "args": [
             [
              "2013"
             ],
             {
              "frame": {
               "duration": 0,
               "redraw": false
              },
              "fromcurrent": true,
              "mode": "immediate",
              "transition": {
               "duration": 0,
               "easing": "linear"
              }
             }
            ],
            "label": "2013",
            "method": "animate"
           },
           {
            "args": [
             [
              "2014"
             ],
             {
              "frame": {
               "duration": 0,
               "redraw": false
              },
              "fromcurrent": true,
              "mode": "immediate",
              "transition": {
               "duration": 0,
               "easing": "linear"
              }
             }
            ],
            "label": "2014",
            "method": "animate"
           },
           {
            "args": [
             [
              "2015"
             ],
             {
              "frame": {
               "duration": 0,
               "redraw": false
              },
              "fromcurrent": true,
              "mode": "immediate",
              "transition": {
               "duration": 0,
               "easing": "linear"
              }
             }
            ],
            "label": "2015",
            "method": "animate"
           },
           {
            "args": [
             [
              "2016"
             ],
             {
              "frame": {
               "duration": 0,
               "redraw": false
              },
              "fromcurrent": true,
              "mode": "immediate",
              "transition": {
               "duration": 0,
               "easing": "linear"
              }
             }
            ],
            "label": "2016",
            "method": "animate"
           },
           {
            "args": [
             [
              "2017"
             ],
             {
              "frame": {
               "duration": 0,
               "redraw": false
              },
              "fromcurrent": true,
              "mode": "immediate",
              "transition": {
               "duration": 0,
               "easing": "linear"
              }
             }
            ],
            "label": "2017",
            "method": "animate"
           },
           {
            "args": [
             [
              "2018"
             ],
             {
              "frame": {
               "duration": 0,
               "redraw": false
              },
              "fromcurrent": true,
              "mode": "immediate",
              "transition": {
               "duration": 0,
               "easing": "linear"
              }
             }
            ],
            "label": "2018",
            "method": "animate"
           },
           {
            "args": [
             [
              "2019"
             ],
             {
              "frame": {
               "duration": 0,
               "redraw": false
              },
              "fromcurrent": true,
              "mode": "immediate",
              "transition": {
               "duration": 0,
               "easing": "linear"
              }
             }
            ],
            "label": "2019",
            "method": "animate"
           },
           {
            "args": [
             [
              "2020"
             ],
             {
              "frame": {
               "duration": 0,
               "redraw": false
              },
              "fromcurrent": true,
              "mode": "immediate",
              "transition": {
               "duration": 0,
               "easing": "linear"
              }
             }
            ],
            "label": "2020",
            "method": "animate"
           },
           {
            "args": [
             [
              "2021"
             ],
             {
              "frame": {
               "duration": 0,
               "redraw": false
              },
              "fromcurrent": true,
              "mode": "immediate",
              "transition": {
               "duration": 0,
               "easing": "linear"
              }
             }
            ],
            "label": "2021",
            "method": "animate"
           },
           {
            "args": [
             [
              "2022"
             ],
             {
              "frame": {
               "duration": 0,
               "redraw": false
              },
              "fromcurrent": true,
              "mode": "immediate",
              "transition": {
               "duration": 0,
               "easing": "linear"
              }
             }
            ],
            "label": "2022",
            "method": "animate"
           },
           {
            "args": [
             [
              "2023"
             ],
             {
              "frame": {
               "duration": 0,
               "redraw": false
              },
              "fromcurrent": true,
              "mode": "immediate",
              "transition": {
               "duration": 0,
               "easing": "linear"
              }
             }
            ],
            "label": "2023",
            "method": "animate"
           },
           {
            "args": [
             [
              "2024"
             ],
             {
              "frame": {
               "duration": 0,
               "redraw": false
              },
              "fromcurrent": true,
              "mode": "immediate",
              "transition": {
               "duration": 0,
               "easing": "linear"
              }
             }
            ],
            "label": "2024",
            "method": "animate"
           }
          ],
          "x": 0.1,
          "xanchor": "left",
          "y": 0,
          "yanchor": "top"
         }
        ],
        "template": {
         "data": {
          "bar": [
           {
            "error_x": {
             "color": "#2a3f5f"
            },
            "error_y": {
             "color": "#2a3f5f"
            },
            "marker": {
             "line": {
              "color": "#E5ECF6",
              "width": 0.5
             },
             "pattern": {
              "fillmode": "overlay",
              "size": 10,
              "solidity": 0.2
             }
            },
            "type": "bar"
           }
          ],
          "barpolar": [
           {
            "marker": {
             "line": {
              "color": "#E5ECF6",
              "width": 0.5
             },
             "pattern": {
              "fillmode": "overlay",
              "size": 10,
              "solidity": 0.2
             }
            },
            "type": "barpolar"
           }
          ],
          "carpet": [
           {
            "aaxis": {
             "endlinecolor": "#2a3f5f",
             "gridcolor": "white",
             "linecolor": "white",
             "minorgridcolor": "white",
             "startlinecolor": "#2a3f5f"
            },
            "baxis": {
             "endlinecolor": "#2a3f5f",
             "gridcolor": "white",
             "linecolor": "white",
             "minorgridcolor": "white",
             "startlinecolor": "#2a3f5f"
            },
            "type": "carpet"
           }
          ],
          "choropleth": [
           {
            "colorbar": {
             "outlinewidth": 0,
             "ticks": ""
            },
            "type": "choropleth"
           }
          ],
          "contour": [
           {
            "colorbar": {
             "outlinewidth": 0,
             "ticks": ""
            },
            "colorscale": [
             [
              0,
              "#0d0887"
             ],
             [
              0.1111111111111111,
              "#46039f"
             ],
             [
              0.2222222222222222,
              "#7201a8"
             ],
             [
              0.3333333333333333,
              "#9c179e"
             ],
             [
              0.4444444444444444,
              "#bd3786"
             ],
             [
              0.5555555555555556,
              "#d8576b"
             ],
             [
              0.6666666666666666,
              "#ed7953"
             ],
             [
              0.7777777777777778,
              "#fb9f3a"
             ],
             [
              0.8888888888888888,
              "#fdca26"
             ],
             [
              1,
              "#f0f921"
             ]
            ],
            "type": "contour"
           }
          ],
          "contourcarpet": [
           {
            "colorbar": {
             "outlinewidth": 0,
             "ticks": ""
            },
            "type": "contourcarpet"
           }
          ],
          "heatmap": [
           {
            "colorbar": {
             "outlinewidth": 0,
             "ticks": ""
            },
            "colorscale": [
             [
              0,
              "#0d0887"
             ],
             [
              0.1111111111111111,
              "#46039f"
             ],
             [
              0.2222222222222222,
              "#7201a8"
             ],
             [
              0.3333333333333333,
              "#9c179e"
             ],
             [
              0.4444444444444444,
              "#bd3786"
             ],
             [
              0.5555555555555556,
              "#d8576b"
             ],
             [
              0.6666666666666666,
              "#ed7953"
             ],
             [
              0.7777777777777778,
              "#fb9f3a"
             ],
             [
              0.8888888888888888,
              "#fdca26"
             ],
             [
              1,
              "#f0f921"
             ]
            ],
            "type": "heatmap"
           }
          ],
          "histogram": [
           {
            "marker": {
             "pattern": {
              "fillmode": "overlay",
              "size": 10,
              "solidity": 0.2
             }
            },
            "type": "histogram"
           }
          ],
          "histogram2d": [
           {
            "colorbar": {
             "outlinewidth": 0,
             "ticks": ""
            },
            "colorscale": [
             [
              0,
              "#0d0887"
             ],
             [
              0.1111111111111111,
              "#46039f"
             ],
             [
              0.2222222222222222,
              "#7201a8"
             ],
             [
              0.3333333333333333,
              "#9c179e"
             ],
             [
              0.4444444444444444,
              "#bd3786"
             ],
             [
              0.5555555555555556,
              "#d8576b"
             ],
             [
              0.6666666666666666,
              "#ed7953"
             ],
             [
              0.7777777777777778,
              "#fb9f3a"
             ],
             [
              0.8888888888888888,
              "#fdca26"
             ],
             [
              1,
              "#f0f921"
             ]
            ],
            "type": "histogram2d"
           }
          ],
          "histogram2dcontour": [
           {
            "colorbar": {
             "outlinewidth": 0,
             "ticks": ""
            },
            "colorscale": [
             [
              0,
              "#0d0887"
             ],
             [
              0.1111111111111111,
              "#46039f"
             ],
             [
              0.2222222222222222,
              "#7201a8"
             ],
             [
              0.3333333333333333,
              "#9c179e"
             ],
             [
              0.4444444444444444,
              "#bd3786"
             ],
             [
              0.5555555555555556,
              "#d8576b"
             ],
             [
              0.6666666666666666,
              "#ed7953"
             ],
             [
              0.7777777777777778,
              "#fb9f3a"
             ],
             [
              0.8888888888888888,
              "#fdca26"
             ],
             [
              1,
              "#f0f921"
             ]
            ],
            "type": "histogram2dcontour"
           }
          ],
          "mesh3d": [
           {
            "colorbar": {
             "outlinewidth": 0,
             "ticks": ""
            },
            "type": "mesh3d"
           }
          ],
          "parcoords": [
           {
            "line": {
             "colorbar": {
              "outlinewidth": 0,
              "ticks": ""
             }
            },
            "type": "parcoords"
           }
          ],
          "pie": [
           {
            "automargin": true,
            "type": "pie"
           }
          ],
          "scatter": [
           {
            "fillpattern": {
             "fillmode": "overlay",
             "size": 10,
             "solidity": 0.2
            },
            "type": "scatter"
           }
          ],
          "scatter3d": [
           {
            "line": {
             "colorbar": {
              "outlinewidth": 0,
              "ticks": ""
             }
            },
            "marker": {
             "colorbar": {
              "outlinewidth": 0,
              "ticks": ""
             }
            },
            "type": "scatter3d"
           }
          ],
          "scattercarpet": [
           {
            "marker": {
             "colorbar": {
              "outlinewidth": 0,
              "ticks": ""
             }
            },
            "type": "scattercarpet"
           }
          ],
          "scattergeo": [
           {
            "marker": {
             "colorbar": {
              "outlinewidth": 0,
              "ticks": ""
             }
            },
            "type": "scattergeo"
           }
          ],
          "scattergl": [
           {
            "marker": {
             "colorbar": {
              "outlinewidth": 0,
              "ticks": ""
             }
            },
            "type": "scattergl"
           }
          ],
          "scattermap": [
           {
            "marker": {
             "colorbar": {
              "outlinewidth": 0,
              "ticks": ""
             }
            },
            "type": "scattermap"
           }
          ],
          "scattermapbox": [
           {
            "marker": {
             "colorbar": {
              "outlinewidth": 0,
              "ticks": ""
             }
            },
            "type": "scattermapbox"
           }
          ],
          "scatterpolar": [
           {
            "marker": {
             "colorbar": {
              "outlinewidth": 0,
              "ticks": ""
             }
            },
            "type": "scatterpolar"
           }
          ],
          "scatterpolargl": [
           {
            "marker": {
             "colorbar": {
              "outlinewidth": 0,
              "ticks": ""
             }
            },
            "type": "scatterpolargl"
           }
          ],
          "scatterternary": [
           {
            "marker": {
             "colorbar": {
              "outlinewidth": 0,
              "ticks": ""
             }
            },
            "type": "scatterternary"
           }
          ],
          "surface": [
           {
            "colorbar": {
             "outlinewidth": 0,
             "ticks": ""
            },
            "colorscale": [
             [
              0,
              "#0d0887"
             ],
             [
              0.1111111111111111,
              "#46039f"
             ],
             [
              0.2222222222222222,
              "#7201a8"
             ],
             [
              0.3333333333333333,
              "#9c179e"
             ],
             [
              0.4444444444444444,
              "#bd3786"
             ],
             [
              0.5555555555555556,
              "#d8576b"
             ],
             [
              0.6666666666666666,
              "#ed7953"
             ],
             [
              0.7777777777777778,
              "#fb9f3a"
             ],
             [
              0.8888888888888888,
              "#fdca26"
             ],
             [
              1,
              "#f0f921"
             ]
            ],
            "type": "surface"
           }
          ],
          "table": [
           {
            "cells": {
             "fill": {
              "color": "#EBF0F8"
             },
             "line": {
              "color": "white"
             }
            },
            "header": {
             "fill": {
              "color": "#C8D4E3"
             },
             "line": {
              "color": "white"
             }
            },
            "type": "table"
           }
          ]
         },
         "layout": {
          "annotationdefaults": {
           "arrowcolor": "#2a3f5f",
           "arrowhead": 0,
           "arrowwidth": 1
          },
          "autotypenumbers": "strict",
          "coloraxis": {
           "colorbar": {
            "outlinewidth": 0,
            "ticks": ""
           }
          },
          "colorscale": {
           "diverging": [
            [
             0,
             "#8e0152"
            ],
            [
             0.1,
             "#c51b7d"
            ],
            [
             0.2,
             "#de77ae"
            ],
            [
             0.3,
             "#f1b6da"
            ],
            [
             0.4,
             "#fde0ef"
            ],
            [
             0.5,
             "#f7f7f7"
            ],
            [
             0.6,
             "#e6f5d0"
            ],
            [
             0.7,
             "#b8e186"
            ],
            [
             0.8,
             "#7fbc41"
            ],
            [
             0.9,
             "#4d9221"
            ],
            [
             1,
             "#276419"
            ]
           ],
           "sequential": [
            [
             0,
             "#0d0887"
            ],
            [
             0.1111111111111111,
             "#46039f"
            ],
            [
             0.2222222222222222,
             "#7201a8"
            ],
            [
             0.3333333333333333,
             "#9c179e"
            ],
            [
             0.4444444444444444,
             "#bd3786"
            ],
            [
             0.5555555555555556,
             "#d8576b"
            ],
            [
             0.6666666666666666,
             "#ed7953"
            ],
            [
             0.7777777777777778,
             "#fb9f3a"
            ],
            [
             0.8888888888888888,
             "#fdca26"
            ],
            [
             1,
             "#f0f921"
            ]
           ],
           "sequentialminus": [
            [
             0,
             "#0d0887"
            ],
            [
             0.1111111111111111,
             "#46039f"
            ],
            [
             0.2222222222222222,
             "#7201a8"
            ],
            [
             0.3333333333333333,
             "#9c179e"
            ],
            [
             0.4444444444444444,
             "#bd3786"
            ],
            [
             0.5555555555555556,
             "#d8576b"
            ],
            [
             0.6666666666666666,
             "#ed7953"
            ],
            [
             0.7777777777777778,
             "#fb9f3a"
            ],
            [
             0.8888888888888888,
             "#fdca26"
            ],
            [
             1,
             "#f0f921"
            ]
           ]
          },
          "colorway": [
           "#636efa",
           "#EF553B",
           "#00cc96",
           "#ab63fa",
           "#FFA15A",
           "#19d3f3",
           "#FF6692",
           "#B6E880",
           "#FF97FF",
           "#FECB52"
          ],
          "font": {
           "color": "#2a3f5f"
          },
          "geo": {
           "bgcolor": "white",
           "lakecolor": "white",
           "landcolor": "#E5ECF6",
           "showlakes": true,
           "showland": true,
           "subunitcolor": "white"
          },
          "hoverlabel": {
           "align": "left"
          },
          "hovermode": "closest",
          "mapbox": {
           "style": "light"
          },
          "paper_bgcolor": "white",
          "plot_bgcolor": "#E5ECF6",
          "polar": {
           "angularaxis": {
            "gridcolor": "white",
            "linecolor": "white",
            "ticks": ""
           },
           "bgcolor": "#E5ECF6",
           "radialaxis": {
            "gridcolor": "white",
            "linecolor": "white",
            "ticks": ""
           }
          },
          "scene": {
           "xaxis": {
            "backgroundcolor": "#E5ECF6",
            "gridcolor": "white",
            "gridwidth": 2,
            "linecolor": "white",
            "showbackground": true,
            "ticks": "",
            "zerolinecolor": "white"
           },
           "yaxis": {
            "backgroundcolor": "#E5ECF6",
            "gridcolor": "white",
            "gridwidth": 2,
            "linecolor": "white",
            "showbackground": true,
            "ticks": "",
            "zerolinecolor": "white"
           },
           "zaxis": {
            "backgroundcolor": "#E5ECF6",
            "gridcolor": "white",
            "gridwidth": 2,
            "linecolor": "white",
            "showbackground": true,
            "ticks": "",
            "zerolinecolor": "white"
           }
          },
          "shapedefaults": {
           "line": {
            "color": "#2a3f5f"
           }
          },
          "ternary": {
           "aaxis": {
            "gridcolor": "white",
            "linecolor": "white",
            "ticks": ""
           },
           "baxis": {
            "gridcolor": "white",
            "linecolor": "white",
            "ticks": ""
           },
           "bgcolor": "#E5ECF6",
           "caxis": {
            "gridcolor": "white",
            "linecolor": "white",
            "ticks": ""
           }
          },
          "title": {
           "x": 0.05
          },
          "xaxis": {
           "automargin": true,
           "gridcolor": "white",
           "linecolor": "white",
           "ticks": "",
           "title": {
            "standoff": 15
           },
           "zerolinecolor": "white",
           "zerolinewidth": 2
          },
          "yaxis": {
           "automargin": true,
           "gridcolor": "white",
           "linecolor": "white",
           "ticks": "",
           "title": {
            "standoff": 15
           },
           "zerolinecolor": "white",
           "zerolinewidth": 2
          }
         }
        },
        "title": {
         "text": "U.S. Export vs Import Trade (Top 10 Exported Products, 2009–2024)"
        },
        "updatemenus": [
         {
          "buttons": [
           {
            "args": [
             null,
             {
              "frame": {
               "duration": 500,
               "redraw": false
              },
              "fromcurrent": true,
              "mode": "immediate",
              "transition": {
               "duration": 500,
               "easing": "linear"
              }
             }
            ],
            "label": "&#9654;",
            "method": "animate"
           },
           {
            "args": [
             [
              null
             ],
             {
              "frame": {
               "duration": 0,
               "redraw": false
              },
              "fromcurrent": true,
              "mode": "immediate",
              "transition": {
               "duration": 0,
               "easing": "linear"
              }
             }
            ],
            "label": "&#9724;",
            "method": "animate"
           }
          ],
          "direction": "left",
          "pad": {
           "r": 10,
           "t": 70
          },
          "showactive": false,
          "type": "buttons",
          "x": 0.1,
          "xanchor": "right",
          "y": 0,
          "yanchor": "top"
         }
        ],
        "xaxis": {
         "anchor": "y",
         "domain": [
          0,
          1
         ],
         "range": [
          0,
          579293.4
         ],
         "title": {
          "text": "Import Value (Million USD)"
         }
        },
        "yaxis": {
         "anchor": "x",
         "domain": [
          0,
          1
         ],
         "range": [
          0,
          579293.4
         ],
         "title": {
          "text": "Export Value (Million USD)"
         }
        }
       }
      }
     },
     "metadata": {},
     "output_type": "display_data"
    }
   ],
   "source": [
    "# Merge & compute ranks\n",
    "merged = pd.merge(export_long, import_long, on=[\"Product\", \"Year\"])\n",
    "merged[\"Is_All_Merchandise\"] = merged[\"Product\"].str.contains(\"All Merchandise\")\n",
    "\n",
    "# Select top 10 export products per year (excluding All Merchandise)\n",
    "ranked = merged[~merged[\"Is_All_Merchandise\"]].copy()\n",
    "ranked[\"Rank\"] = ranked.groupby(\"Year\")[\"Export\"].rank(method=\"first\", ascending=False)\n",
    "\n",
    "# Select top 10 per year\n",
    "top_products = ranked.groupby(\"Year\").apply(lambda g: g.nsmallest(10, \"Rank\")).reset_index(drop=True)\n",
    "\n",
    "# Bubble size based on export value (scale down if needed)\n",
    "top_products[\"Size\"] = top_products[\"Export\"] / 1000  # You can adjust divisor to scale\n",
    "\n",
    "#  Animated Scatter Plot\n",
    "fig = px.scatter(\n",
    "    top_products,\n",
    "    x=\"Import\",\n",
    "    y=\"Export\",\n",
    "    color=\"Product\",\n",
    "    animation_frame=\"Year\",\n",
    "    size=\"Size\",\n",
    "    hover_name=\"Product\",\n",
    "    hover_data={\"Rank\": True, \"Export\": True, \"Import\": True},\n",
    "    title=\"U.S. Export vs Import Trade (Top 10 Exported Products, 2009–2024)\"\n",
    ")\n",
    "\n",
    "# Add 45° trade balance line\n",
    "max_val = max(top_products[\"Export\"].max(), top_products[\"Import\"].max())\n",
    "fig.add_trace(go.Scatter(\n",
    "    x=[0, max_val],\n",
    "    y=[0, max_val],\n",
    "    mode='lines',\n",
    "    line=dict(color='black', dash='dash'),\n",
    "    name='Trade Balance = 0'\n",
    "))\n",
    "\n",
    "# Layout\n",
    "fig.update_layout(\n",
    "    xaxis_title=\"Import Value (Million USD)\",\n",
    "    yaxis_title=\"Export Value (Million USD)\",\n",
    "    legend_title=\"Product Category\",\n",
    "    xaxis=dict(range=[0, max_val * 1.05]),\n",
    "    yaxis=dict(range=[0, max_val * 1.05]),\n",
    "    height=700\n",
    ")\n",
    "\n",
    "fig.show()\n",
    "fig.write_html(\"../img/top10_trade_bubble.html\")"
   ]
  },
  {
   "cell_type": "markdown",
   "metadata": {},
   "source": [
    "# U.S. Export vs Import: All Merchandise (2009–2024)"
   ]
  },
  {
   "cell_type": "code",
   "execution_count": 5,
   "metadata": {},
   "outputs": [
    {
     "data": {
      "application/vnd.plotly.v1+json": {
       "config": {
        "plotlyServerURL": "https://plot.ly"
       },
       "data": [
        {
         "hovertemplate": "<b>%{hovertext}</b><br><br>Year=2009<br>Import=%{x}<br>Export=%{y}<br>Size=%{marker.size}<br>text=%{text}<extra></extra>",
         "hovertext": [
          "0--All Merchandise"
         ],
         "legendgroup": "",
         "marker": {
          "color": "gray",
          "size": {
           "bdata": "KA==",
           "dtype": "i1"
          },
          "sizemode": "area",
          "sizeref": 0.1,
          "symbol": "circle"
         },
         "mode": "markers+text",
         "name": "",
         "orientation": "v",
         "showlegend": false,
         "text": [
          "All Merchandise"
         ],
         "type": "scatter",
         "x": {
          "bdata": "AAAAAEnMN0E=",
          "dtype": "f8"
         },
         "xaxis": "x",
         "y": {
          "bdata": "AAAAACsdMEE=",
          "dtype": "f8"
         },
         "yaxis": "y"
        },
        {
         "line": {
          "color": "black",
          "dash": "dash"
         },
         "mode": "lines",
         "name": "Trade Balance = 0",
         "type": "scatter",
         "x": [
          0,
          3267389
         ],
         "y": [
          0,
          3267389
         ]
        }
       ],
       "frames": [
        {
         "data": [
          {
           "hovertemplate": "<b>%{hovertext}</b><br><br>Year=2009<br>Import=%{x}<br>Export=%{y}<br>Size=%{marker.size}<br>text=%{text}<extra></extra>",
           "hovertext": [
            "0--All Merchandise"
           ],
           "legendgroup": "",
           "marker": {
            "color": "gray",
            "size": {
             "bdata": "KA==",
             "dtype": "i1"
            },
            "sizemode": "area",
            "sizeref": 0.1,
            "symbol": "circle"
           },
           "mode": "markers+text",
           "name": "",
           "orientation": "v",
           "showlegend": false,
           "text": [
            "All Merchandise"
           ],
           "type": "scatter",
           "x": {
            "bdata": "AAAAAEnMN0E=",
            "dtype": "f8"
           },
           "xaxis": "x",
           "y": {
            "bdata": "AAAAACsdMEE=",
            "dtype": "f8"
           },
           "yaxis": "y"
          }
         ],
         "name": "2009"
        },
        {
         "data": [
          {
           "hovertemplate": "<b>%{hovertext}</b><br><br>Year=2010<br>Import=%{x}<br>Export=%{y}<br>Size=%{marker.size}<br>text=%{text}<extra></extra>",
           "hovertext": [
            "0--All Merchandise"
           ],
           "legendgroup": "",
           "marker": {
            "color": "gray",
            "size": {
             "bdata": "KA==",
             "dtype": "i1"
            },
            "sizemode": "area",
            "sizeref": 0.1,
            "symbol": "circle"
           },
           "mode": "markers+text",
           "name": "",
           "orientation": "v",
           "showlegend": false,
           "text": [
            "All Merchandise"
           ],
           "type": "scatter",
           "x": {
            "bdata": "AAAAAAE0PUE=",
            "dtype": "f8"
           },
           "xaxis": "x",
           "y": {
            "bdata": "AAAAAB+CM0E=",
            "dtype": "f8"
           },
           "yaxis": "y"
          }
         ],
         "name": "2010"
        },
        {
         "data": [
          {
           "hovertemplate": "<b>%{hovertext}</b><br><br>Year=2011<br>Import=%{x}<br>Export=%{y}<br>Size=%{marker.size}<br>text=%{text}<extra></extra>",
           "hovertext": [
            "0--All Merchandise"
           ],
           "legendgroup": "",
           "marker": {
            "color": "gray",
            "size": {
             "bdata": "KA==",
             "dtype": "i1"
            },
            "sizemode": "area",
            "sizeref": 0.1,
            "symbol": "circle"
           },
           "mode": "markers+text",
           "name": "",
           "orientation": "v",
           "showlegend": false,
           "text": [
            "All Merchandise"
           ],
           "type": "scatter",
           "x": {
            "bdata": "AAAAAGnYQEE=",
            "dtype": "f8"
           },
           "xaxis": "x",
           "y": {
            "bdata": "AAAAAAyfNkE=",
            "dtype": "f8"
           },
           "yaxis": "y"
          }
         ],
         "name": "2011"
        },
        {
         "data": [
          {
           "hovertemplate": "<b>%{hovertext}</b><br><br>Year=2012<br>Import=%{x}<br>Export=%{y}<br>Size=%{marker.size}<br>text=%{text}<extra></extra>",
           "hovertext": [
            "0--All Merchandise"
           ],
           "legendgroup": "",
           "marker": {
            "color": "gray",
            "size": {
             "bdata": "KA==",
             "dtype": "i1"
            },
            "sizemode": "area",
            "sizeref": 0.1,
            "symbol": "circle"
           },
           "mode": "markers+text",
           "name": "",
           "orientation": "v",
           "showlegend": false,
           "text": [
            "All Merchandise"
           ],
           "type": "scatter",
           "x": {
            "bdata": "AAAAgNVdQUE=",
            "dtype": "f8"
           },
           "xaxis": "x",
           "y": {
            "bdata": "AAAAAF2WN0E=",
            "dtype": "f8"
           },
           "yaxis": "y"
          }
         ],
         "name": "2012"
        },
        {
         "data": [
          {
           "hovertemplate": "<b>%{hovertext}</b><br><br>Year=2013<br>Import=%{x}<br>Export=%{y}<br>Size=%{marker.size}<br>text=%{text}<extra></extra>",
           "hovertext": [
            "0--All Merchandise"
           ],
           "legendgroup": "",
           "marker": {
            "color": "gray",
            "size": {
             "bdata": "KA==",
             "dtype": "i1"
            },
            "sizemode": "area",
            "sizeref": 0.1,
            "symbol": "circle"
           },
           "mode": "markers+text",
           "name": "",
           "orientation": "v",
           "showlegend": false,
           "text": [
            "All Merchandise"
           ],
           "type": "scatter",
           "x": {
            "bdata": "AAAAgKlNQUE=",
            "dtype": "f8"
           },
           "xaxis": "x",
           "y": {
            "bdata": "AAAAABUWOEE=",
            "dtype": "f8"
           },
           "yaxis": "y"
          }
         ],
         "name": "2013"
        },
        {
         "data": [
          {
           "hovertemplate": "<b>%{hovertext}</b><br><br>Year=2014<br>Import=%{x}<br>Export=%{y}<br>Size=%{marker.size}<br>text=%{text}<extra></extra>",
           "hovertext": [
            "0--All Merchandise"
           ],
           "legendgroup": "",
           "marker": {
            "color": "gray",
            "size": {
             "bdata": "KA==",
             "dtype": "i1"
            },
            "sizemode": "area",
            "sizeref": 0.1,
            "symbol": "circle"
           },
           "mode": "markers+text",
           "name": "",
           "orientation": "v",
           "showlegend": false,
           "text": [
            "All Merchandise"
           ],
           "type": "scatter",
           "x": {
            "bdata": "AAAAAEL6QUE=",
            "dtype": "f8"
           },
           "xaxis": "x",
           "y": {
            "bdata": "AAAAAHK/OEE=",
            "dtype": "f8"
           },
           "yaxis": "y"
          }
         ],
         "name": "2014"
        },
        {
         "data": [
          {
           "hovertemplate": "<b>%{hovertext}</b><br><br>Year=2015<br>Import=%{x}<br>Export=%{y}<br>Size=%{marker.size}<br>text=%{text}<extra></extra>",
           "hovertext": [
            "0--All Merchandise"
           ],
           "legendgroup": "",
           "marker": {
            "color": "gray",
            "size": {
             "bdata": "KA==",
             "dtype": "i1"
            },
            "sizemode": "area",
            "sizeref": 0.1,
            "symbol": "circle"
           },
           "mode": "markers+text",
           "name": "",
           "orientation": "v",
           "showlegend": false,
           "text": [
            "All Merchandise"
           ],
           "type": "scatter",
           "x": {
            "bdata": "AAAAgDUoQUE=",
            "dtype": "f8"
           },
           "xaxis": "x",
           "y": {
            "bdata": "AAAAAGDwNkE=",
            "dtype": "f8"
           },
           "yaxis": "y"
          }
         ],
         "name": "2015"
        },
        {
         "data": [
          {
           "hovertemplate": "<b>%{hovertext}</b><br><br>Year=2016<br>Import=%{x}<br>Export=%{y}<br>Size=%{marker.size}<br>text=%{text}<extra></extra>",
           "hovertext": [
            "0--All Merchandise"
           ],
           "legendgroup": "",
           "marker": {
            "color": "gray",
            "size": {
             "bdata": "KA==",
             "dtype": "i1"
            },
            "sizemode": "area",
            "sizeref": 0.1,
            "symbol": "circle"
           },
           "mode": "markers+text",
           "name": "",
           "orientation": "v",
           "showlegend": false,
           "text": [
            "All Merchandise"
           ],
           "type": "scatter",
           "x": {
            "bdata": "AAAAABGvQEE=",
            "dtype": "f8"
           },
           "xaxis": "x",
           "y": {
            "bdata": "AAAAAMQlNkE=",
            "dtype": "f8"
           },
           "yaxis": "y"
          }
         ],
         "name": "2016"
        },
        {
         "data": [
          {
           "hovertemplate": "<b>%{hovertext}</b><br><br>Year=2017<br>Import=%{x}<br>Export=%{y}<br>Size=%{marker.size}<br>text=%{text}<extra></extra>",
           "hovertext": [
            "0--All Merchandise"
           ],
           "legendgroup": "",
           "marker": {
            "color": "gray",
            "size": {
             "bdata": "KA==",
             "dtype": "i1"
            },
            "sizemode": "area",
            "sizeref": 0.1,
            "symbol": "circle"
           },
           "mode": "markers+text",
           "name": "",
           "orientation": "v",
           "showlegend": false,
           "text": [
            "All Merchandise"
           ],
           "type": "scatter",
           "x": {
            "bdata": "AAAAgIPZQUE=",
            "dtype": "f8"
           },
           "xaxis": "x",
           "y": {
            "bdata": "AAAAALubN0E=",
            "dtype": "f8"
           },
           "yaxis": "y"
          }
         ],
         "name": "2017"
        },
        {
         "data": [
          {
           "hovertemplate": "<b>%{hovertext}</b><br><br>Year=2018<br>Import=%{x}<br>Export=%{y}<br>Size=%{marker.size}<br>text=%{text}<extra></extra>",
           "hovertext": [
            "0--All Merchandise"
           ],
           "legendgroup": "",
           "marker": {
            "color": "gray",
            "size": {
             "bdata": "KA==",
             "dtype": "i1"
            },
            "sizemode": "area",
            "sizeref": 0.1,
            "symbol": "circle"
           },
           "mode": "markers+text",
           "name": "",
           "orientation": "v",
           "showlegend": false,
           "text": [
            "All Merchandise"
           ],
           "type": "scatter",
           "x": {
            "bdata": "AAAAgGhZQ0E=",
            "dtype": "f8"
           },
           "xaxis": "x",
           "y": {
            "bdata": "AAAAAPtqOUE=",
            "dtype": "f8"
           },
           "yaxis": "y"
          }
         ],
         "name": "2018"
        },
        {
         "data": [
          {
           "hovertemplate": "<b>%{hovertext}</b><br><br>Year=2019<br>Import=%{x}<br>Export=%{y}<br>Size=%{marker.size}<br>text=%{text}<extra></extra>",
           "hovertext": [
            "0--All Merchandise"
           ],
           "legendgroup": "",
           "marker": {
            "color": "gray",
            "size": {
             "bdata": "KA==",
             "dtype": "i1"
            },
            "sizemode": "area",
            "sizeref": 0.1,
            "symbol": "circle"
           },
           "mode": "markers+text",
           "name": "",
           "orientation": "v",
           "showlegend": false,
           "text": [
            "All Merchandise"
           ],
           "type": "scatter",
           "x": {
            "bdata": "AAAAAJoCQ0E=",
            "dtype": "f8"
           },
           "xaxis": "x",
           "y": {
            "bdata": "AAAAAHQdOUE=",
            "dtype": "f8"
           },
           "yaxis": "y"
          }
         ],
         "name": "2019"
        },
        {
         "data": [
          {
           "hovertemplate": "<b>%{hovertext}</b><br><br>Year=2020<br>Import=%{x}<br>Export=%{y}<br>Size=%{marker.size}<br>text=%{text}<extra></extra>",
           "hovertext": [
            "0--All Merchandise"
           ],
           "legendgroup": "",
           "marker": {
            "color": "gray",
            "size": {
             "bdata": "KA==",
             "dtype": "i1"
            },
            "sizemode": "area",
            "sizeref": 0.1,
            "symbol": "circle"
           },
           "mode": "markers+text",
           "name": "",
           "orientation": "v",
           "showlegend": false,
           "text": [
            "All Merchandise"
           ],
           "type": "scatter",
           "x": {
            "bdata": "AAAAgKrJQUE=",
            "dtype": "f8"
           },
           "xaxis": "x",
           "y": {
            "bdata": "AAAAAOvRNUE=",
            "dtype": "f8"
           },
           "yaxis": "y"
          }
         ],
         "name": "2020"
        },
        {
         "data": [
          {
           "hovertemplate": "<b>%{hovertext}</b><br><br>Year=2021<br>Import=%{x}<br>Export=%{y}<br>Size=%{marker.size}<br>text=%{text}<extra></extra>",
           "hovertext": [
            "0--All Merchandise"
           ],
           "legendgroup": "",
           "marker": {
            "color": "gray",
            "size": {
             "bdata": "KA==",
             "dtype": "i1"
            },
            "sizemode": "area",
            "sizeref": 0.1,
            "symbol": "circle"
           },
           "mode": "markers+text",
           "name": "",
           "orientation": "v",
           "showlegend": false,
           "text": [
            "All Merchandise"
           ],
           "type": "scatter",
           "x": {
            "bdata": "AAAAgHGURUE=",
            "dtype": "f8"
           },
           "xaxis": "x",
           "y": {
            "bdata": "AAAAADDSOkE=",
            "dtype": "f8"
           },
           "yaxis": "y"
          }
         ],
         "name": "2021"
        },
        {
         "data": [
          {
           "hovertemplate": "<b>%{hovertext}</b><br><br>Year=2022<br>Import=%{x}<br>Export=%{y}<br>Size=%{marker.size}<br>text=%{text}<extra></extra>",
           "hovertext": [
            "0--All Merchandise"
           ],
           "legendgroup": "",
           "marker": {
            "color": "gray",
            "size": {
             "bdata": "KA==",
             "dtype": "i1"
            },
            "sizemode": "area",
            "sizeref": 0.1,
            "symbol": "circle"
           },
           "mode": "markers+text",
           "name": "",
           "orientation": "v",
           "showlegend": false,
           "text": [
            "All Merchandise"
           ],
           "type": "scatter",
           "x": {
            "bdata": "AAAAgOC3SEE=",
            "dtype": "f8"
           },
           "xaxis": "x",
           "y": {
            "bdata": "AAAAABaIP0E=",
            "dtype": "f8"
           },
           "yaxis": "y"
          }
         ],
         "name": "2022"
        },
        {
         "data": [
          {
           "hovertemplate": "<b>%{hovertext}</b><br><br>Year=2023<br>Import=%{x}<br>Export=%{y}<br>Size=%{marker.size}<br>text=%{text}<extra></extra>",
           "hovertext": [
            "0--All Merchandise"
           ],
           "legendgroup": "",
           "marker": {
            "color": "gray",
            "size": {
             "bdata": "KA==",
             "dtype": "i1"
            },
            "sizemode": "area",
            "sizeref": 0.1,
            "symbol": "circle"
           },
           "mode": "markers+text",
           "name": "",
           "orientation": "v",
           "showlegend": false,
           "text": [
            "All Merchandise"
           ],
           "type": "scatter",
           "x": {
            "bdata": "AAAAAPV/R0E=",
            "dtype": "f8"
           },
           "xaxis": "x",
           "y": {
            "bdata": "AAAAAAvLPkE=",
            "dtype": "f8"
           },
           "yaxis": "y"
          }
         ],
         "name": "2023"
        },
        {
         "data": [
          {
           "hovertemplate": "<b>%{hovertext}</b><br><br>Year=2024<br>Import=%{x}<br>Export=%{y}<br>Size=%{marker.size}<br>text=%{text}<extra></extra>",
           "hovertext": [
            "0--All Merchandise"
           ],
           "legendgroup": "",
           "marker": {
            "color": "gray",
            "size": {
             "bdata": "KA==",
             "dtype": "i1"
            },
            "sizemode": "area",
            "sizeref": 0.1,
            "symbol": "circle"
           },
           "mode": "markers+text",
           "name": "",
           "orientation": "v",
           "showlegend": false,
           "text": [
            "All Merchandise"
           ],
           "type": "scatter",
           "x": {
            "bdata": "AAAAgJ7tSEE=",
            "dtype": "f8"
           },
           "xaxis": "x",
           "y": {
            "bdata": "AAAAAIWAP0E=",
            "dtype": "f8"
           },
           "yaxis": "y"
          }
         ],
         "name": "2024"
        }
       ],
       "layout": {
        "height": 650,
        "legend": {
         "itemsizing": "constant",
         "tracegroupgap": 0
        },
        "showlegend": false,
        "sliders": [
         {
          "active": 0,
          "currentvalue": {
           "prefix": "Year="
          },
          "len": 0.9,
          "pad": {
           "b": 10,
           "t": 60
          },
          "steps": [
           {
            "args": [
             [
              "2009"
             ],
             {
              "frame": {
               "duration": 0,
               "redraw": false
              },
              "fromcurrent": true,
              "mode": "immediate",
              "transition": {
               "duration": 0,
               "easing": "linear"
              }
             }
            ],
            "label": "2009",
            "method": "animate"
           },
           {
            "args": [
             [
              "2010"
             ],
             {
              "frame": {
               "duration": 0,
               "redraw": false
              },
              "fromcurrent": true,
              "mode": "immediate",
              "transition": {
               "duration": 0,
               "easing": "linear"
              }
             }
            ],
            "label": "2010",
            "method": "animate"
           },
           {
            "args": [
             [
              "2011"
             ],
             {
              "frame": {
               "duration": 0,
               "redraw": false
              },
              "fromcurrent": true,
              "mode": "immediate",
              "transition": {
               "duration": 0,
               "easing": "linear"
              }
             }
            ],
            "label": "2011",
            "method": "animate"
           },
           {
            "args": [
             [
              "2012"
             ],
             {
              "frame": {
               "duration": 0,
               "redraw": false
              },
              "fromcurrent": true,
              "mode": "immediate",
              "transition": {
               "duration": 0,
               "easing": "linear"
              }
             }
            ],
            "label": "2012",
            "method": "animate"
           },
           {
            "args": [
             [
              "2013"
             ],
             {
              "frame": {
               "duration": 0,
               "redraw": false
              },
              "fromcurrent": true,
              "mode": "immediate",
              "transition": {
               "duration": 0,
               "easing": "linear"
              }
             }
            ],
            "label": "2013",
            "method": "animate"
           },
           {
            "args": [
             [
              "2014"
             ],
             {
              "frame": {
               "duration": 0,
               "redraw": false
              },
              "fromcurrent": true,
              "mode": "immediate",
              "transition": {
               "duration": 0,
               "easing": "linear"
              }
             }
            ],
            "label": "2014",
            "method": "animate"
           },
           {
            "args": [
             [
              "2015"
             ],
             {
              "frame": {
               "duration": 0,
               "redraw": false
              },
              "fromcurrent": true,
              "mode": "immediate",
              "transition": {
               "duration": 0,
               "easing": "linear"
              }
             }
            ],
            "label": "2015",
            "method": "animate"
           },
           {
            "args": [
             [
              "2016"
             ],
             {
              "frame": {
               "duration": 0,
               "redraw": false
              },
              "fromcurrent": true,
              "mode": "immediate",
              "transition": {
               "duration": 0,
               "easing": "linear"
              }
             }
            ],
            "label": "2016",
            "method": "animate"
           },
           {
            "args": [
             [
              "2017"
             ],
             {
              "frame": {
               "duration": 0,
               "redraw": false
              },
              "fromcurrent": true,
              "mode": "immediate",
              "transition": {
               "duration": 0,
               "easing": "linear"
              }
             }
            ],
            "label": "2017",
            "method": "animate"
           },
           {
            "args": [
             [
              "2018"
             ],
             {
              "frame": {
               "duration": 0,
               "redraw": false
              },
              "fromcurrent": true,
              "mode": "immediate",
              "transition": {
               "duration": 0,
               "easing": "linear"
              }
             }
            ],
            "label": "2018",
            "method": "animate"
           },
           {
            "args": [
             [
              "2019"
             ],
             {
              "frame": {
               "duration": 0,
               "redraw": false
              },
              "fromcurrent": true,
              "mode": "immediate",
              "transition": {
               "duration": 0,
               "easing": "linear"
              }
             }
            ],
            "label": "2019",
            "method": "animate"
           },
           {
            "args": [
             [
              "2020"
             ],
             {
              "frame": {
               "duration": 0,
               "redraw": false
              },
              "fromcurrent": true,
              "mode": "immediate",
              "transition": {
               "duration": 0,
               "easing": "linear"
              }
             }
            ],
            "label": "2020",
            "method": "animate"
           },
           {
            "args": [
             [
              "2021"
             ],
             {
              "frame": {
               "duration": 0,
               "redraw": false
              },
              "fromcurrent": true,
              "mode": "immediate",
              "transition": {
               "duration": 0,
               "easing": "linear"
              }
             }
            ],
            "label": "2021",
            "method": "animate"
           },
           {
            "args": [
             [
              "2022"
             ],
             {
              "frame": {
               "duration": 0,
               "redraw": false
              },
              "fromcurrent": true,
              "mode": "immediate",
              "transition": {
               "duration": 0,
               "easing": "linear"
              }
             }
            ],
            "label": "2022",
            "method": "animate"
           },
           {
            "args": [
             [
              "2023"
             ],
             {
              "frame": {
               "duration": 0,
               "redraw": false
              },
              "fromcurrent": true,
              "mode": "immediate",
              "transition": {
               "duration": 0,
               "easing": "linear"
              }
             }
            ],
            "label": "2023",
            "method": "animate"
           },
           {
            "args": [
             [
              "2024"
             ],
             {
              "frame": {
               "duration": 0,
               "redraw": false
              },
              "fromcurrent": true,
              "mode": "immediate",
              "transition": {
               "duration": 0,
               "easing": "linear"
              }
             }
            ],
            "label": "2024",
            "method": "animate"
           }
          ],
          "x": 0.1,
          "xanchor": "left",
          "y": 0,
          "yanchor": "top"
         }
        ],
        "template": {
         "data": {
          "bar": [
           {
            "error_x": {
             "color": "#2a3f5f"
            },
            "error_y": {
             "color": "#2a3f5f"
            },
            "marker": {
             "line": {
              "color": "#E5ECF6",
              "width": 0.5
             },
             "pattern": {
              "fillmode": "overlay",
              "size": 10,
              "solidity": 0.2
             }
            },
            "type": "bar"
           }
          ],
          "barpolar": [
           {
            "marker": {
             "line": {
              "color": "#E5ECF6",
              "width": 0.5
             },
             "pattern": {
              "fillmode": "overlay",
              "size": 10,
              "solidity": 0.2
             }
            },
            "type": "barpolar"
           }
          ],
          "carpet": [
           {
            "aaxis": {
             "endlinecolor": "#2a3f5f",
             "gridcolor": "white",
             "linecolor": "white",
             "minorgridcolor": "white",
             "startlinecolor": "#2a3f5f"
            },
            "baxis": {
             "endlinecolor": "#2a3f5f",
             "gridcolor": "white",
             "linecolor": "white",
             "minorgridcolor": "white",
             "startlinecolor": "#2a3f5f"
            },
            "type": "carpet"
           }
          ],
          "choropleth": [
           {
            "colorbar": {
             "outlinewidth": 0,
             "ticks": ""
            },
            "type": "choropleth"
           }
          ],
          "contour": [
           {
            "colorbar": {
             "outlinewidth": 0,
             "ticks": ""
            },
            "colorscale": [
             [
              0,
              "#0d0887"
             ],
             [
              0.1111111111111111,
              "#46039f"
             ],
             [
              0.2222222222222222,
              "#7201a8"
             ],
             [
              0.3333333333333333,
              "#9c179e"
             ],
             [
              0.4444444444444444,
              "#bd3786"
             ],
             [
              0.5555555555555556,
              "#d8576b"
             ],
             [
              0.6666666666666666,
              "#ed7953"
             ],
             [
              0.7777777777777778,
              "#fb9f3a"
             ],
             [
              0.8888888888888888,
              "#fdca26"
             ],
             [
              1,
              "#f0f921"
             ]
            ],
            "type": "contour"
           }
          ],
          "contourcarpet": [
           {
            "colorbar": {
             "outlinewidth": 0,
             "ticks": ""
            },
            "type": "contourcarpet"
           }
          ],
          "heatmap": [
           {
            "colorbar": {
             "outlinewidth": 0,
             "ticks": ""
            },
            "colorscale": [
             [
              0,
              "#0d0887"
             ],
             [
              0.1111111111111111,
              "#46039f"
             ],
             [
              0.2222222222222222,
              "#7201a8"
             ],
             [
              0.3333333333333333,
              "#9c179e"
             ],
             [
              0.4444444444444444,
              "#bd3786"
             ],
             [
              0.5555555555555556,
              "#d8576b"
             ],
             [
              0.6666666666666666,
              "#ed7953"
             ],
             [
              0.7777777777777778,
              "#fb9f3a"
             ],
             [
              0.8888888888888888,
              "#fdca26"
             ],
             [
              1,
              "#f0f921"
             ]
            ],
            "type": "heatmap"
           }
          ],
          "histogram": [
           {
            "marker": {
             "pattern": {
              "fillmode": "overlay",
              "size": 10,
              "solidity": 0.2
             }
            },
            "type": "histogram"
           }
          ],
          "histogram2d": [
           {
            "colorbar": {
             "outlinewidth": 0,
             "ticks": ""
            },
            "colorscale": [
             [
              0,
              "#0d0887"
             ],
             [
              0.1111111111111111,
              "#46039f"
             ],
             [
              0.2222222222222222,
              "#7201a8"
             ],
             [
              0.3333333333333333,
              "#9c179e"
             ],
             [
              0.4444444444444444,
              "#bd3786"
             ],
             [
              0.5555555555555556,
              "#d8576b"
             ],
             [
              0.6666666666666666,
              "#ed7953"
             ],
             [
              0.7777777777777778,
              "#fb9f3a"
             ],
             [
              0.8888888888888888,
              "#fdca26"
             ],
             [
              1,
              "#f0f921"
             ]
            ],
            "type": "histogram2d"
           }
          ],
          "histogram2dcontour": [
           {
            "colorbar": {
             "outlinewidth": 0,
             "ticks": ""
            },
            "colorscale": [
             [
              0,
              "#0d0887"
             ],
             [
              0.1111111111111111,
              "#46039f"
             ],
             [
              0.2222222222222222,
              "#7201a8"
             ],
             [
              0.3333333333333333,
              "#9c179e"
             ],
             [
              0.4444444444444444,
              "#bd3786"
             ],
             [
              0.5555555555555556,
              "#d8576b"
             ],
             [
              0.6666666666666666,
              "#ed7953"
             ],
             [
              0.7777777777777778,
              "#fb9f3a"
             ],
             [
              0.8888888888888888,
              "#fdca26"
             ],
             [
              1,
              "#f0f921"
             ]
            ],
            "type": "histogram2dcontour"
           }
          ],
          "mesh3d": [
           {
            "colorbar": {
             "outlinewidth": 0,
             "ticks": ""
            },
            "type": "mesh3d"
           }
          ],
          "parcoords": [
           {
            "line": {
             "colorbar": {
              "outlinewidth": 0,
              "ticks": ""
             }
            },
            "type": "parcoords"
           }
          ],
          "pie": [
           {
            "automargin": true,
            "type": "pie"
           }
          ],
          "scatter": [
           {
            "fillpattern": {
             "fillmode": "overlay",
             "size": 10,
             "solidity": 0.2
            },
            "type": "scatter"
           }
          ],
          "scatter3d": [
           {
            "line": {
             "colorbar": {
              "outlinewidth": 0,
              "ticks": ""
             }
            },
            "marker": {
             "colorbar": {
              "outlinewidth": 0,
              "ticks": ""
             }
            },
            "type": "scatter3d"
           }
          ],
          "scattercarpet": [
           {
            "marker": {
             "colorbar": {
              "outlinewidth": 0,
              "ticks": ""
             }
            },
            "type": "scattercarpet"
           }
          ],
          "scattergeo": [
           {
            "marker": {
             "colorbar": {
              "outlinewidth": 0,
              "ticks": ""
             }
            },
            "type": "scattergeo"
           }
          ],
          "scattergl": [
           {
            "marker": {
             "colorbar": {
              "outlinewidth": 0,
              "ticks": ""
             }
            },
            "type": "scattergl"
           }
          ],
          "scattermap": [
           {
            "marker": {
             "colorbar": {
              "outlinewidth": 0,
              "ticks": ""
             }
            },
            "type": "scattermap"
           }
          ],
          "scattermapbox": [
           {
            "marker": {
             "colorbar": {
              "outlinewidth": 0,
              "ticks": ""
             }
            },
            "type": "scattermapbox"
           }
          ],
          "scatterpolar": [
           {
            "marker": {
             "colorbar": {
              "outlinewidth": 0,
              "ticks": ""
             }
            },
            "type": "scatterpolar"
           }
          ],
          "scatterpolargl": [
           {
            "marker": {
             "colorbar": {
              "outlinewidth": 0,
              "ticks": ""
             }
            },
            "type": "scatterpolargl"
           }
          ],
          "scatterternary": [
           {
            "marker": {
             "colorbar": {
              "outlinewidth": 0,
              "ticks": ""
             }
            },
            "type": "scatterternary"
           }
          ],
          "surface": [
           {
            "colorbar": {
             "outlinewidth": 0,
             "ticks": ""
            },
            "colorscale": [
             [
              0,
              "#0d0887"
             ],
             [
              0.1111111111111111,
              "#46039f"
             ],
             [
              0.2222222222222222,
              "#7201a8"
             ],
             [
              0.3333333333333333,
              "#9c179e"
             ],
             [
              0.4444444444444444,
              "#bd3786"
             ],
             [
              0.5555555555555556,
              "#d8576b"
             ],
             [
              0.6666666666666666,
              "#ed7953"
             ],
             [
              0.7777777777777778,
              "#fb9f3a"
             ],
             [
              0.8888888888888888,
              "#fdca26"
             ],
             [
              1,
              "#f0f921"
             ]
            ],
            "type": "surface"
           }
          ],
          "table": [
           {
            "cells": {
             "fill": {
              "color": "#EBF0F8"
             },
             "line": {
              "color": "white"
             }
            },
            "header": {
             "fill": {
              "color": "#C8D4E3"
             },
             "line": {
              "color": "white"
             }
            },
            "type": "table"
           }
          ]
         },
         "layout": {
          "annotationdefaults": {
           "arrowcolor": "#2a3f5f",
           "arrowhead": 0,
           "arrowwidth": 1
          },
          "autotypenumbers": "strict",
          "coloraxis": {
           "colorbar": {
            "outlinewidth": 0,
            "ticks": ""
           }
          },
          "colorscale": {
           "diverging": [
            [
             0,
             "#8e0152"
            ],
            [
             0.1,
             "#c51b7d"
            ],
            [
             0.2,
             "#de77ae"
            ],
            [
             0.3,
             "#f1b6da"
            ],
            [
             0.4,
             "#fde0ef"
            ],
            [
             0.5,
             "#f7f7f7"
            ],
            [
             0.6,
             "#e6f5d0"
            ],
            [
             0.7,
             "#b8e186"
            ],
            [
             0.8,
             "#7fbc41"
            ],
            [
             0.9,
             "#4d9221"
            ],
            [
             1,
             "#276419"
            ]
           ],
           "sequential": [
            [
             0,
             "#0d0887"
            ],
            [
             0.1111111111111111,
             "#46039f"
            ],
            [
             0.2222222222222222,
             "#7201a8"
            ],
            [
             0.3333333333333333,
             "#9c179e"
            ],
            [
             0.4444444444444444,
             "#bd3786"
            ],
            [
             0.5555555555555556,
             "#d8576b"
            ],
            [
             0.6666666666666666,
             "#ed7953"
            ],
            [
             0.7777777777777778,
             "#fb9f3a"
            ],
            [
             0.8888888888888888,
             "#fdca26"
            ],
            [
             1,
             "#f0f921"
            ]
           ],
           "sequentialminus": [
            [
             0,
             "#0d0887"
            ],
            [
             0.1111111111111111,
             "#46039f"
            ],
            [
             0.2222222222222222,
             "#7201a8"
            ],
            [
             0.3333333333333333,
             "#9c179e"
            ],
            [
             0.4444444444444444,
             "#bd3786"
            ],
            [
             0.5555555555555556,
             "#d8576b"
            ],
            [
             0.6666666666666666,
             "#ed7953"
            ],
            [
             0.7777777777777778,
             "#fb9f3a"
            ],
            [
             0.8888888888888888,
             "#fdca26"
            ],
            [
             1,
             "#f0f921"
            ]
           ]
          },
          "colorway": [
           "#636efa",
           "#EF553B",
           "#00cc96",
           "#ab63fa",
           "#FFA15A",
           "#19d3f3",
           "#FF6692",
           "#B6E880",
           "#FF97FF",
           "#FECB52"
          ],
          "font": {
           "color": "#2a3f5f"
          },
          "geo": {
           "bgcolor": "white",
           "lakecolor": "white",
           "landcolor": "#E5ECF6",
           "showlakes": true,
           "showland": true,
           "subunitcolor": "white"
          },
          "hoverlabel": {
           "align": "left"
          },
          "hovermode": "closest",
          "mapbox": {
           "style": "light"
          },
          "paper_bgcolor": "white",
          "plot_bgcolor": "#E5ECF6",
          "polar": {
           "angularaxis": {
            "gridcolor": "white",
            "linecolor": "white",
            "ticks": ""
           },
           "bgcolor": "#E5ECF6",
           "radialaxis": {
            "gridcolor": "white",
            "linecolor": "white",
            "ticks": ""
           }
          },
          "scene": {
           "xaxis": {
            "backgroundcolor": "#E5ECF6",
            "gridcolor": "white",
            "gridwidth": 2,
            "linecolor": "white",
            "showbackground": true,
            "ticks": "",
            "zerolinecolor": "white"
           },
           "yaxis": {
            "backgroundcolor": "#E5ECF6",
            "gridcolor": "white",
            "gridwidth": 2,
            "linecolor": "white",
            "showbackground": true,
            "ticks": "",
            "zerolinecolor": "white"
           },
           "zaxis": {
            "backgroundcolor": "#E5ECF6",
            "gridcolor": "white",
            "gridwidth": 2,
            "linecolor": "white",
            "showbackground": true,
            "ticks": "",
            "zerolinecolor": "white"
           }
          },
          "shapedefaults": {
           "line": {
            "color": "#2a3f5f"
           }
          },
          "ternary": {
           "aaxis": {
            "gridcolor": "white",
            "linecolor": "white",
            "ticks": ""
           },
           "baxis": {
            "gridcolor": "white",
            "linecolor": "white",
            "ticks": ""
           },
           "bgcolor": "#E5ECF6",
           "caxis": {
            "gridcolor": "white",
            "linecolor": "white",
            "ticks": ""
           }
          },
          "title": {
           "x": 0.05
          },
          "xaxis": {
           "automargin": true,
           "gridcolor": "white",
           "linecolor": "white",
           "ticks": "",
           "title": {
            "standoff": 15
           },
           "zerolinecolor": "white",
           "zerolinewidth": 2
          },
          "yaxis": {
           "automargin": true,
           "gridcolor": "white",
           "linecolor": "white",
           "ticks": "",
           "title": {
            "standoff": 15
           },
           "zerolinecolor": "white",
           "zerolinewidth": 2
          }
         }
        },
        "title": {
         "text": "U.S. Export vs Import: All Merchandise (2009–2024)"
        },
        "updatemenus": [
         {
          "buttons": [
           {
            "args": [
             null,
             {
              "frame": {
               "duration": 500,
               "redraw": false
              },
              "fromcurrent": true,
              "mode": "immediate",
              "transition": {
               "duration": 500,
               "easing": "linear"
              }
             }
            ],
            "label": "&#9654;",
            "method": "animate"
           },
           {
            "args": [
             [
              null
             ],
             {
              "frame": {
               "duration": 0,
               "redraw": false
              },
              "fromcurrent": true,
              "mode": "immediate",
              "transition": {
               "duration": 0,
               "easing": "linear"
              }
             }
            ],
            "label": "&#9724;",
            "method": "animate"
           }
          ],
          "direction": "left",
          "pad": {
           "r": 10,
           "t": 70
          },
          "showactive": false,
          "type": "buttons",
          "x": 0.1,
          "xanchor": "right",
          "y": 0,
          "yanchor": "top"
         }
        ],
        "xaxis": {
         "anchor": "y",
         "domain": [
          0,
          1
         ],
         "range": [
          0,
          3430758.45
         ],
         "title": {
          "text": "Import Value (Million USD)"
         }
        },
        "yaxis": {
         "anchor": "x",
         "domain": [
          0,
          1
         ],
         "range": [
          0,
          3430758.45
         ],
         "title": {
          "text": "Export Value (Million USD)"
         }
        }
       }
      }
     },
     "metadata": {},
     "output_type": "display_data"
    }
   ],
   "source": [
    "merged = pd.merge(export_long, import_long, on=[\"Product\", \"Year\"])\n",
    "merged[\"Is_All_Merchandise\"] = merged[\"Product\"].str.contains(\"All Merchandise\")\n",
    "all_merch = merged[merged[\"Is_All_Merchandise\"]].copy()\n",
    "all_merch[\"Size\"] = 40  # fixed bubble size\n",
    "\n",
    "# Animated Plot for All Merchandise only\n",
    "fig = px.scatter(\n",
    "    all_merch,\n",
    "    x=\"Import\",\n",
    "    y=\"Export\",\n",
    "    animation_frame=\"Year\",\n",
    "    size=\"Size\",\n",
    "    hover_name=\"Product\",\n",
    "    color_discrete_sequence=[\"gray\"],\n",
    "    text=[\"All Merchandise\"] * len(all_merch),\n",
    "    title=\"U.S. Export vs Import: All Merchandise (2009–2024)\"\n",
    ")\n",
    "\n",
    "# Add 45-degree trade balance line\n",
    "max_val = max(all_merch[\"Export\"].max(), all_merch[\"Import\"].max())\n",
    "fig.add_trace(go.Scatter(\n",
    "    x=[0, max_val],\n",
    "    y=[0, max_val],\n",
    "    mode='lines',\n",
    "    line=dict(color='black', dash='dash'),\n",
    "    name='Trade Balance = 0'\n",
    "))\n",
    "\n",
    "# Layout settings\n",
    "fig.update_layout(\n",
    "    xaxis_title=\"Import Value (Million USD)\",\n",
    "    yaxis_title=\"Export Value (Million USD)\",\n",
    "    xaxis=dict(range=[0, max_val * 1.05]),\n",
    "    yaxis=dict(range=[0, max_val * 1.05]),\n",
    "    height=650,\n",
    "    showlegend=False\n",
    ")\n",
    "\n",
    "fig.show()\n",
    "fig.write_html(\"../img/All_Merchandise_bubble.html\")"
   ]
  },
  {
   "cell_type": "code",
   "execution_count": 6,
   "metadata": {},
   "outputs": [
    {
     "data": {
      "application/vnd.plotly.v1+json": {
       "config": {
        "plotlyServerURL": "https://plot.ly"
       },
       "data": [
        {
         "hovertemplate": "Year: %{x}<br>Export: %{y:,.0f}M<extra></extra>",
         "line": {
          "color": "green"
         },
         "marker": {
          "size": 6
         },
         "mode": "lines+markers",
         "name": "Exports",
         "type": "scatter",
         "x": {
          "bdata": "2QfaB9sH3AfdB94H3wfgB+EH4gfjB+QH5QfmB+cH6Ac=",
          "dtype": "i2"
         },
         "y": {
          "bdata": "AAAAACsdMEEAAAAAH4IzQQAAAAAMnzZBAAAAAF2WN0EAAAAAFRY4QQAAAAByvzhBAAAAAGDwNkEAAAAAxCU2QQAAAAC7mzdBAAAAAPtqOUEAAAAAdB05QQAAAADr0TVBAAAAADDSOkEAAAAAFog/QQAAAAALyz5BAAAAAIWAP0E=",
          "dtype": "f8"
         }
        },
        {
         "hovertemplate": "Year: %{x}<br>Import: %{y:,.0f}M<extra></extra>",
         "line": {
          "color": "red"
         },
         "marker": {
          "size": 6
         },
         "mode": "lines+markers",
         "name": "Imports",
         "type": "scatter",
         "x": {
          "bdata": "2QfaB9sH3AfdB94H3wfgB+EH4gfjB+QH5QfmB+cH6Ac=",
          "dtype": "i2"
         },
         "y": {
          "bdata": "AAAAAEnMN0EAAAAAATQ9QQAAAABp2EBBAAAAgNVdQUEAAACAqU1BQQAAAABC+kFBAAAAgDUoQUEAAAAAEa9AQQAAAICD2UFBAAAAgGhZQ0EAAAAAmgJDQQAAAICqyUFBAAAAgHGURUEAAACA4LdIQQAAAAD1f0dBAAAAgJ7tSEE=",
          "dtype": "f8"
         }
        }
       ],
       "layout": {
        "height": 500,
        "legend": {
         "title": {
          "text": "Flow"
         }
        },
        "template": {
         "data": {
          "bar": [
           {
            "error_x": {
             "color": "#2a3f5f"
            },
            "error_y": {
             "color": "#2a3f5f"
            },
            "marker": {
             "line": {
              "color": "white",
              "width": 0.5
             },
             "pattern": {
              "fillmode": "overlay",
              "size": 10,
              "solidity": 0.2
             }
            },
            "type": "bar"
           }
          ],
          "barpolar": [
           {
            "marker": {
             "line": {
              "color": "white",
              "width": 0.5
             },
             "pattern": {
              "fillmode": "overlay",
              "size": 10,
              "solidity": 0.2
             }
            },
            "type": "barpolar"
           }
          ],
          "carpet": [
           {
            "aaxis": {
             "endlinecolor": "#2a3f5f",
             "gridcolor": "#C8D4E3",
             "linecolor": "#C8D4E3",
             "minorgridcolor": "#C8D4E3",
             "startlinecolor": "#2a3f5f"
            },
            "baxis": {
             "endlinecolor": "#2a3f5f",
             "gridcolor": "#C8D4E3",
             "linecolor": "#C8D4E3",
             "minorgridcolor": "#C8D4E3",
             "startlinecolor": "#2a3f5f"
            },
            "type": "carpet"
           }
          ],
          "choropleth": [
           {
            "colorbar": {
             "outlinewidth": 0,
             "ticks": ""
            },
            "type": "choropleth"
           }
          ],
          "contour": [
           {
            "colorbar": {
             "outlinewidth": 0,
             "ticks": ""
            },
            "colorscale": [
             [
              0,
              "#0d0887"
             ],
             [
              0.1111111111111111,
              "#46039f"
             ],
             [
              0.2222222222222222,
              "#7201a8"
             ],
             [
              0.3333333333333333,
              "#9c179e"
             ],
             [
              0.4444444444444444,
              "#bd3786"
             ],
             [
              0.5555555555555556,
              "#d8576b"
             ],
             [
              0.6666666666666666,
              "#ed7953"
             ],
             [
              0.7777777777777778,
              "#fb9f3a"
             ],
             [
              0.8888888888888888,
              "#fdca26"
             ],
             [
              1,
              "#f0f921"
             ]
            ],
            "type": "contour"
           }
          ],
          "contourcarpet": [
           {
            "colorbar": {
             "outlinewidth": 0,
             "ticks": ""
            },
            "type": "contourcarpet"
           }
          ],
          "heatmap": [
           {
            "colorbar": {
             "outlinewidth": 0,
             "ticks": ""
            },
            "colorscale": [
             [
              0,
              "#0d0887"
             ],
             [
              0.1111111111111111,
              "#46039f"
             ],
             [
              0.2222222222222222,
              "#7201a8"
             ],
             [
              0.3333333333333333,
              "#9c179e"
             ],
             [
              0.4444444444444444,
              "#bd3786"
             ],
             [
              0.5555555555555556,
              "#d8576b"
             ],
             [
              0.6666666666666666,
              "#ed7953"
             ],
             [
              0.7777777777777778,
              "#fb9f3a"
             ],
             [
              0.8888888888888888,
              "#fdca26"
             ],
             [
              1,
              "#f0f921"
             ]
            ],
            "type": "heatmap"
           }
          ],
          "histogram": [
           {
            "marker": {
             "pattern": {
              "fillmode": "overlay",
              "size": 10,
              "solidity": 0.2
             }
            },
            "type": "histogram"
           }
          ],
          "histogram2d": [
           {
            "colorbar": {
             "outlinewidth": 0,
             "ticks": ""
            },
            "colorscale": [
             [
              0,
              "#0d0887"
             ],
             [
              0.1111111111111111,
              "#46039f"
             ],
             [
              0.2222222222222222,
              "#7201a8"
             ],
             [
              0.3333333333333333,
              "#9c179e"
             ],
             [
              0.4444444444444444,
              "#bd3786"
             ],
             [
              0.5555555555555556,
              "#d8576b"
             ],
             [
              0.6666666666666666,
              "#ed7953"
             ],
             [
              0.7777777777777778,
              "#fb9f3a"
             ],
             [
              0.8888888888888888,
              "#fdca26"
             ],
             [
              1,
              "#f0f921"
             ]
            ],
            "type": "histogram2d"
           }
          ],
          "histogram2dcontour": [
           {
            "colorbar": {
             "outlinewidth": 0,
             "ticks": ""
            },
            "colorscale": [
             [
              0,
              "#0d0887"
             ],
             [
              0.1111111111111111,
              "#46039f"
             ],
             [
              0.2222222222222222,
              "#7201a8"
             ],
             [
              0.3333333333333333,
              "#9c179e"
             ],
             [
              0.4444444444444444,
              "#bd3786"
             ],
             [
              0.5555555555555556,
              "#d8576b"
             ],
             [
              0.6666666666666666,
              "#ed7953"
             ],
             [
              0.7777777777777778,
              "#fb9f3a"
             ],
             [
              0.8888888888888888,
              "#fdca26"
             ],
             [
              1,
              "#f0f921"
             ]
            ],
            "type": "histogram2dcontour"
           }
          ],
          "mesh3d": [
           {
            "colorbar": {
             "outlinewidth": 0,
             "ticks": ""
            },
            "type": "mesh3d"
           }
          ],
          "parcoords": [
           {
            "line": {
             "colorbar": {
              "outlinewidth": 0,
              "ticks": ""
             }
            },
            "type": "parcoords"
           }
          ],
          "pie": [
           {
            "automargin": true,
            "type": "pie"
           }
          ],
          "scatter": [
           {
            "fillpattern": {
             "fillmode": "overlay",
             "size": 10,
             "solidity": 0.2
            },
            "type": "scatter"
           }
          ],
          "scatter3d": [
           {
            "line": {
             "colorbar": {
              "outlinewidth": 0,
              "ticks": ""
             }
            },
            "marker": {
             "colorbar": {
              "outlinewidth": 0,
              "ticks": ""
             }
            },
            "type": "scatter3d"
           }
          ],
          "scattercarpet": [
           {
            "marker": {
             "colorbar": {
              "outlinewidth": 0,
              "ticks": ""
             }
            },
            "type": "scattercarpet"
           }
          ],
          "scattergeo": [
           {
            "marker": {
             "colorbar": {
              "outlinewidth": 0,
              "ticks": ""
             }
            },
            "type": "scattergeo"
           }
          ],
          "scattergl": [
           {
            "marker": {
             "colorbar": {
              "outlinewidth": 0,
              "ticks": ""
             }
            },
            "type": "scattergl"
           }
          ],
          "scattermap": [
           {
            "marker": {
             "colorbar": {
              "outlinewidth": 0,
              "ticks": ""
             }
            },
            "type": "scattermap"
           }
          ],
          "scattermapbox": [
           {
            "marker": {
             "colorbar": {
              "outlinewidth": 0,
              "ticks": ""
             }
            },
            "type": "scattermapbox"
           }
          ],
          "scatterpolar": [
           {
            "marker": {
             "colorbar": {
              "outlinewidth": 0,
              "ticks": ""
             }
            },
            "type": "scatterpolar"
           }
          ],
          "scatterpolargl": [
           {
            "marker": {
             "colorbar": {
              "outlinewidth": 0,
              "ticks": ""
             }
            },
            "type": "scatterpolargl"
           }
          ],
          "scatterternary": [
           {
            "marker": {
             "colorbar": {
              "outlinewidth": 0,
              "ticks": ""
             }
            },
            "type": "scatterternary"
           }
          ],
          "surface": [
           {
            "colorbar": {
             "outlinewidth": 0,
             "ticks": ""
            },
            "colorscale": [
             [
              0,
              "#0d0887"
             ],
             [
              0.1111111111111111,
              "#46039f"
             ],
             [
              0.2222222222222222,
              "#7201a8"
             ],
             [
              0.3333333333333333,
              "#9c179e"
             ],
             [
              0.4444444444444444,
              "#bd3786"
             ],
             [
              0.5555555555555556,
              "#d8576b"
             ],
             [
              0.6666666666666666,
              "#ed7953"
             ],
             [
              0.7777777777777778,
              "#fb9f3a"
             ],
             [
              0.8888888888888888,
              "#fdca26"
             ],
             [
              1,
              "#f0f921"
             ]
            ],
            "type": "surface"
           }
          ],
          "table": [
           {
            "cells": {
             "fill": {
              "color": "#EBF0F8"
             },
             "line": {
              "color": "white"
             }
            },
            "header": {
             "fill": {
              "color": "#C8D4E3"
             },
             "line": {
              "color": "white"
             }
            },
            "type": "table"
           }
          ]
         },
         "layout": {
          "annotationdefaults": {
           "arrowcolor": "#2a3f5f",
           "arrowhead": 0,
           "arrowwidth": 1
          },
          "autotypenumbers": "strict",
          "coloraxis": {
           "colorbar": {
            "outlinewidth": 0,
            "ticks": ""
           }
          },
          "colorscale": {
           "diverging": [
            [
             0,
             "#8e0152"
            ],
            [
             0.1,
             "#c51b7d"
            ],
            [
             0.2,
             "#de77ae"
            ],
            [
             0.3,
             "#f1b6da"
            ],
            [
             0.4,
             "#fde0ef"
            ],
            [
             0.5,
             "#f7f7f7"
            ],
            [
             0.6,
             "#e6f5d0"
            ],
            [
             0.7,
             "#b8e186"
            ],
            [
             0.8,
             "#7fbc41"
            ],
            [
             0.9,
             "#4d9221"
            ],
            [
             1,
             "#276419"
            ]
           ],
           "sequential": [
            [
             0,
             "#0d0887"
            ],
            [
             0.1111111111111111,
             "#46039f"
            ],
            [
             0.2222222222222222,
             "#7201a8"
            ],
            [
             0.3333333333333333,
             "#9c179e"
            ],
            [
             0.4444444444444444,
             "#bd3786"
            ],
            [
             0.5555555555555556,
             "#d8576b"
            ],
            [
             0.6666666666666666,
             "#ed7953"
            ],
            [
             0.7777777777777778,
             "#fb9f3a"
            ],
            [
             0.8888888888888888,
             "#fdca26"
            ],
            [
             1,
             "#f0f921"
            ]
           ],
           "sequentialminus": [
            [
             0,
             "#0d0887"
            ],
            [
             0.1111111111111111,
             "#46039f"
            ],
            [
             0.2222222222222222,
             "#7201a8"
            ],
            [
             0.3333333333333333,
             "#9c179e"
            ],
            [
             0.4444444444444444,
             "#bd3786"
            ],
            [
             0.5555555555555556,
             "#d8576b"
            ],
            [
             0.6666666666666666,
             "#ed7953"
            ],
            [
             0.7777777777777778,
             "#fb9f3a"
            ],
            [
             0.8888888888888888,
             "#fdca26"
            ],
            [
             1,
             "#f0f921"
            ]
           ]
          },
          "colorway": [
           "#636efa",
           "#EF553B",
           "#00cc96",
           "#ab63fa",
           "#FFA15A",
           "#19d3f3",
           "#FF6692",
           "#B6E880",
           "#FF97FF",
           "#FECB52"
          ],
          "font": {
           "color": "#2a3f5f"
          },
          "geo": {
           "bgcolor": "white",
           "lakecolor": "white",
           "landcolor": "white",
           "showlakes": true,
           "showland": true,
           "subunitcolor": "#C8D4E3"
          },
          "hoverlabel": {
           "align": "left"
          },
          "hovermode": "closest",
          "mapbox": {
           "style": "light"
          },
          "paper_bgcolor": "white",
          "plot_bgcolor": "white",
          "polar": {
           "angularaxis": {
            "gridcolor": "#EBF0F8",
            "linecolor": "#EBF0F8",
            "ticks": ""
           },
           "bgcolor": "white",
           "radialaxis": {
            "gridcolor": "#EBF0F8",
            "linecolor": "#EBF0F8",
            "ticks": ""
           }
          },
          "scene": {
           "xaxis": {
            "backgroundcolor": "white",
            "gridcolor": "#DFE8F3",
            "gridwidth": 2,
            "linecolor": "#EBF0F8",
            "showbackground": true,
            "ticks": "",
            "zerolinecolor": "#EBF0F8"
           },
           "yaxis": {
            "backgroundcolor": "white",
            "gridcolor": "#DFE8F3",
            "gridwidth": 2,
            "linecolor": "#EBF0F8",
            "showbackground": true,
            "ticks": "",
            "zerolinecolor": "#EBF0F8"
           },
           "zaxis": {
            "backgroundcolor": "white",
            "gridcolor": "#DFE8F3",
            "gridwidth": 2,
            "linecolor": "#EBF0F8",
            "showbackground": true,
            "ticks": "",
            "zerolinecolor": "#EBF0F8"
           }
          },
          "shapedefaults": {
           "line": {
            "color": "#2a3f5f"
           }
          },
          "ternary": {
           "aaxis": {
            "gridcolor": "#DFE8F3",
            "linecolor": "#A2B1C6",
            "ticks": ""
           },
           "baxis": {
            "gridcolor": "#DFE8F3",
            "linecolor": "#A2B1C6",
            "ticks": ""
           },
           "bgcolor": "white",
           "caxis": {
            "gridcolor": "#DFE8F3",
            "linecolor": "#A2B1C6",
            "ticks": ""
           }
          },
          "title": {
           "x": 0.05
          },
          "xaxis": {
           "automargin": true,
           "gridcolor": "#EBF0F8",
           "linecolor": "#EBF0F8",
           "ticks": "",
           "title": {
            "standoff": 15
           },
           "zerolinecolor": "#EBF0F8",
           "zerolinewidth": 2
          },
          "yaxis": {
           "automargin": true,
           "gridcolor": "#EBF0F8",
           "linecolor": "#EBF0F8",
           "ticks": "",
           "title": {
            "standoff": 15
           },
           "zerolinecolor": "#EBF0F8",
           "zerolinewidth": 2
          }
         }
        },
        "title": {
         "text": "U.S. Trade Summary for All Merchandise (2009–2024)"
        },
        "xaxis": {
         "title": {
          "text": "Year"
         }
        },
        "yaxis": {
         "title": {
          "text": "Trade Value (Million USD)"
         }
        }
       }
      }
     },
     "metadata": {},
     "output_type": "display_data"
    }
   ],
   "source": [
    "# Filter for All Merchandise\n",
    "all_merch = merged[merged[\"Is_All_Merchandise\"]].copy()\n",
    "\n",
    "# Line plot for All Merchandise export and import over time\n",
    "fig_all = go.Figure()\n",
    "\n",
    "# Add export line\n",
    "fig_all.add_trace(go.Scatter(\n",
    "    x=all_merch[\"Year\"],\n",
    "    y=all_merch[\"Export\"],\n",
    "    mode='lines+markers',\n",
    "    name=\"Exports\",\n",
    "    line=dict(color=\"green\"),\n",
    "    marker=dict(size=6),\n",
    "    hovertemplate=\"Year: %{x}<br>Export: %{y:,.0f}M<extra></extra>\"\n",
    "))\n",
    "\n",
    "# Add import line\n",
    "fig_all.add_trace(go.Scatter(\n",
    "    x=all_merch[\"Year\"],\n",
    "    y=all_merch[\"Import\"],\n",
    "    mode='lines+markers',\n",
    "    name=\"Imports\",\n",
    "    line=dict(color=\"red\"),\n",
    "    marker=dict(size=6),\n",
    "    hovertemplate=\"Year: %{x}<br>Import: %{y:,.0f}M<extra></extra>\"\n",
    "))\n",
    "\n",
    "# Customize layout\n",
    "fig_all.update_layout(\n",
    "    title=\"U.S. Trade Summary for All Merchandise (2009–2024)\",\n",
    "    xaxis_title=\"Year\",\n",
    "    yaxis_title=\"Trade Value (Million USD)\",\n",
    "    height=500,\n",
    "    legend_title=\"Flow\",\n",
    "    template=\"plotly_white\"\n",
    ")\n",
    "\n",
    "fig_all.show()\n",
    "fig_all.write_html(\"../img/Import_export_all_trend.html\")"
   ]
  },
  {
   "cell_type": "code",
   "execution_count": 7,
   "metadata": {},
   "outputs": [
    {
     "data": {
      "application/vnd.plotly.v1+json": {
       "config": {
        "plotlyServerURL": "https://plot.ly"
       },
       "data": [
        {
         "hovertemplate": "Year: %{x}<br>Export: %{y:,.0f}M<extra></extra>",
         "line": {
          "color": "green"
         },
         "marker": {
          "size": 6
         },
         "mode": "lines+markers",
         "name": "Exports",
         "type": "scatter",
         "x": {
          "bdata": "2QfaB9sH3AfdB94H3wfgB+EH4gfjB+QH5QfmB+cH6Ac=",
          "dtype": "i2"
         },
         "y": {
          "bdata": "AAAAACsdMEEAAAAAH4IzQQAAAAAMnzZBAAAAAF2WN0EAAAAAFRY4QQAAAAByvzhBAAAAAGDwNkEAAAAAxCU2QQAAAAC7mzdBAAAAAPtqOUEAAAAAdB05QQAAAADr0TVBAAAAADDSOkEAAAAAFog/QQAAAAALyz5BAAAAAIWAP0E=",
          "dtype": "f8"
         }
        },
        {
         "hovertemplate": "Year: %{x}<br>Import: %{y:,.0f}M<extra></extra>",
         "line": {
          "color": "red"
         },
         "marker": {
          "size": 6
         },
         "mode": "lines+markers",
         "name": "Imports",
         "type": "scatter",
         "x": {
          "bdata": "2QfaB9sH3AfdB94H3wfgB+EH4gfjB+QH5QfmB+cH6Ac=",
          "dtype": "i2"
         },
         "y": {
          "bdata": "AAAAAEnMN0EAAAAAATQ9QQAAAABp2EBBAAAAgNVdQUEAAACAqU1BQQAAAABC+kFBAAAAgDUoQUEAAAAAEa9AQQAAAICD2UFBAAAAgGhZQ0EAAAAAmgJDQQAAAICqyUFBAAAAgHGURUEAAACA4LdIQQAAAAD1f0dBAAAAgJ7tSEE=",
          "dtype": "f8"
         }
        }
       ],
       "layout": {
        "annotations": [
         {
          "font": {
           "color": "black",
           "family": "Courier New, monospace",
           "size": 12
          },
          "showarrow": false,
          "text": "Post-recession recovery",
          "x": 2010,
          "y": 2777280.65
         },
         {
          "font": {
           "color": "black",
           "family": "Courier New, monospace",
           "size": 12
          },
          "showarrow": false,
          "text": "U.S.–China trade war begins",
          "x": 2018,
          "y": 2777280.65
         },
         {
          "font": {
           "color": "black",
           "family": "Courier New, monospace",
           "size": 12
          },
          "showarrow": false,
          "text": "COVID-19 disrupts global trade",
          "x": 2020,
          "y": 2123802.85
         },
         {
          "font": {
           "color": "black",
           "family": "Courier New, monospace",
           "size": 12
          },
          "showarrow": false,
          "text": "Supply chain crisis & rebound",
          "x": 2022,
          "y": 3430758.45
         }
        ],
        "height": 500,
        "legend": {
         "title": {
          "text": "Flow"
         }
        },
        "shapes": [
         {
          "line": {
           "color": "lightgray",
           "dash": "dash",
           "width": 1
          },
          "type": "line",
          "x0": 2010,
          "x1": 2010,
          "y0": 0,
          "y1": 3267389
         },
         {
          "line": {
           "color": "lightgray",
           "dash": "dash",
           "width": 1
          },
          "type": "line",
          "x0": 2018,
          "x1": 2018,
          "y0": 0,
          "y1": 3267389
         },
         {
          "line": {
           "color": "lightgray",
           "dash": "dash",
           "width": 1
          },
          "type": "line",
          "x0": 2020,
          "x1": 2020,
          "y0": 0,
          "y1": 3267389
         },
         {
          "line": {
           "color": "lightgray",
           "dash": "dash",
           "width": 1
          },
          "type": "line",
          "x0": 2022,
          "x1": 2022,
          "y0": 0,
          "y1": 3267389
         }
        ],
        "template": {
         "data": {
          "bar": [
           {
            "error_x": {
             "color": "#2a3f5f"
            },
            "error_y": {
             "color": "#2a3f5f"
            },
            "marker": {
             "line": {
              "color": "white",
              "width": 0.5
             },
             "pattern": {
              "fillmode": "overlay",
              "size": 10,
              "solidity": 0.2
             }
            },
            "type": "bar"
           }
          ],
          "barpolar": [
           {
            "marker": {
             "line": {
              "color": "white",
              "width": 0.5
             },
             "pattern": {
              "fillmode": "overlay",
              "size": 10,
              "solidity": 0.2
             }
            },
            "type": "barpolar"
           }
          ],
          "carpet": [
           {
            "aaxis": {
             "endlinecolor": "#2a3f5f",
             "gridcolor": "#C8D4E3",
             "linecolor": "#C8D4E3",
             "minorgridcolor": "#C8D4E3",
             "startlinecolor": "#2a3f5f"
            },
            "baxis": {
             "endlinecolor": "#2a3f5f",
             "gridcolor": "#C8D4E3",
             "linecolor": "#C8D4E3",
             "minorgridcolor": "#C8D4E3",
             "startlinecolor": "#2a3f5f"
            },
            "type": "carpet"
           }
          ],
          "choropleth": [
           {
            "colorbar": {
             "outlinewidth": 0,
             "ticks": ""
            },
            "type": "choropleth"
           }
          ],
          "contour": [
           {
            "colorbar": {
             "outlinewidth": 0,
             "ticks": ""
            },
            "colorscale": [
             [
              0,
              "#0d0887"
             ],
             [
              0.1111111111111111,
              "#46039f"
             ],
             [
              0.2222222222222222,
              "#7201a8"
             ],
             [
              0.3333333333333333,
              "#9c179e"
             ],
             [
              0.4444444444444444,
              "#bd3786"
             ],
             [
              0.5555555555555556,
              "#d8576b"
             ],
             [
              0.6666666666666666,
              "#ed7953"
             ],
             [
              0.7777777777777778,
              "#fb9f3a"
             ],
             [
              0.8888888888888888,
              "#fdca26"
             ],
             [
              1,
              "#f0f921"
             ]
            ],
            "type": "contour"
           }
          ],
          "contourcarpet": [
           {
            "colorbar": {
             "outlinewidth": 0,
             "ticks": ""
            },
            "type": "contourcarpet"
           }
          ],
          "heatmap": [
           {
            "colorbar": {
             "outlinewidth": 0,
             "ticks": ""
            },
            "colorscale": [
             [
              0,
              "#0d0887"
             ],
             [
              0.1111111111111111,
              "#46039f"
             ],
             [
              0.2222222222222222,
              "#7201a8"
             ],
             [
              0.3333333333333333,
              "#9c179e"
             ],
             [
              0.4444444444444444,
              "#bd3786"
             ],
             [
              0.5555555555555556,
              "#d8576b"
             ],
             [
              0.6666666666666666,
              "#ed7953"
             ],
             [
              0.7777777777777778,
              "#fb9f3a"
             ],
             [
              0.8888888888888888,
              "#fdca26"
             ],
             [
              1,
              "#f0f921"
             ]
            ],
            "type": "heatmap"
           }
          ],
          "histogram": [
           {
            "marker": {
             "pattern": {
              "fillmode": "overlay",
              "size": 10,
              "solidity": 0.2
             }
            },
            "type": "histogram"
           }
          ],
          "histogram2d": [
           {
            "colorbar": {
             "outlinewidth": 0,
             "ticks": ""
            },
            "colorscale": [
             [
              0,
              "#0d0887"
             ],
             [
              0.1111111111111111,
              "#46039f"
             ],
             [
              0.2222222222222222,
              "#7201a8"
             ],
             [
              0.3333333333333333,
              "#9c179e"
             ],
             [
              0.4444444444444444,
              "#bd3786"
             ],
             [
              0.5555555555555556,
              "#d8576b"
             ],
             [
              0.6666666666666666,
              "#ed7953"
             ],
             [
              0.7777777777777778,
              "#fb9f3a"
             ],
             [
              0.8888888888888888,
              "#fdca26"
             ],
             [
              1,
              "#f0f921"
             ]
            ],
            "type": "histogram2d"
           }
          ],
          "histogram2dcontour": [
           {
            "colorbar": {
             "outlinewidth": 0,
             "ticks": ""
            },
            "colorscale": [
             [
              0,
              "#0d0887"
             ],
             [
              0.1111111111111111,
              "#46039f"
             ],
             [
              0.2222222222222222,
              "#7201a8"
             ],
             [
              0.3333333333333333,
              "#9c179e"
             ],
             [
              0.4444444444444444,
              "#bd3786"
             ],
             [
              0.5555555555555556,
              "#d8576b"
             ],
             [
              0.6666666666666666,
              "#ed7953"
             ],
             [
              0.7777777777777778,
              "#fb9f3a"
             ],
             [
              0.8888888888888888,
              "#fdca26"
             ],
             [
              1,
              "#f0f921"
             ]
            ],
            "type": "histogram2dcontour"
           }
          ],
          "mesh3d": [
           {
            "colorbar": {
             "outlinewidth": 0,
             "ticks": ""
            },
            "type": "mesh3d"
           }
          ],
          "parcoords": [
           {
            "line": {
             "colorbar": {
              "outlinewidth": 0,
              "ticks": ""
             }
            },
            "type": "parcoords"
           }
          ],
          "pie": [
           {
            "automargin": true,
            "type": "pie"
           }
          ],
          "scatter": [
           {
            "fillpattern": {
             "fillmode": "overlay",
             "size": 10,
             "solidity": 0.2
            },
            "type": "scatter"
           }
          ],
          "scatter3d": [
           {
            "line": {
             "colorbar": {
              "outlinewidth": 0,
              "ticks": ""
             }
            },
            "marker": {
             "colorbar": {
              "outlinewidth": 0,
              "ticks": ""
             }
            },
            "type": "scatter3d"
           }
          ],
          "scattercarpet": [
           {
            "marker": {
             "colorbar": {
              "outlinewidth": 0,
              "ticks": ""
             }
            },
            "type": "scattercarpet"
           }
          ],
          "scattergeo": [
           {
            "marker": {
             "colorbar": {
              "outlinewidth": 0,
              "ticks": ""
             }
            },
            "type": "scattergeo"
           }
          ],
          "scattergl": [
           {
            "marker": {
             "colorbar": {
              "outlinewidth": 0,
              "ticks": ""
             }
            },
            "type": "scattergl"
           }
          ],
          "scattermap": [
           {
            "marker": {
             "colorbar": {
              "outlinewidth": 0,
              "ticks": ""
             }
            },
            "type": "scattermap"
           }
          ],
          "scattermapbox": [
           {
            "marker": {
             "colorbar": {
              "outlinewidth": 0,
              "ticks": ""
             }
            },
            "type": "scattermapbox"
           }
          ],
          "scatterpolar": [
           {
            "marker": {
             "colorbar": {
              "outlinewidth": 0,
              "ticks": ""
             }
            },
            "type": "scatterpolar"
           }
          ],
          "scatterpolargl": [
           {
            "marker": {
             "colorbar": {
              "outlinewidth": 0,
              "ticks": ""
             }
            },
            "type": "scatterpolargl"
           }
          ],
          "scatterternary": [
           {
            "marker": {
             "colorbar": {
              "outlinewidth": 0,
              "ticks": ""
             }
            },
            "type": "scatterternary"
           }
          ],
          "surface": [
           {
            "colorbar": {
             "outlinewidth": 0,
             "ticks": ""
            },
            "colorscale": [
             [
              0,
              "#0d0887"
             ],
             [
              0.1111111111111111,
              "#46039f"
             ],
             [
              0.2222222222222222,
              "#7201a8"
             ],
             [
              0.3333333333333333,
              "#9c179e"
             ],
             [
              0.4444444444444444,
              "#bd3786"
             ],
             [
              0.5555555555555556,
              "#d8576b"
             ],
             [
              0.6666666666666666,
              "#ed7953"
             ],
             [
              0.7777777777777778,
              "#fb9f3a"
             ],
             [
              0.8888888888888888,
              "#fdca26"
             ],
             [
              1,
              "#f0f921"
             ]
            ],
            "type": "surface"
           }
          ],
          "table": [
           {
            "cells": {
             "fill": {
              "color": "#EBF0F8"
             },
             "line": {
              "color": "white"
             }
            },
            "header": {
             "fill": {
              "color": "#C8D4E3"
             },
             "line": {
              "color": "white"
             }
            },
            "type": "table"
           }
          ]
         },
         "layout": {
          "annotationdefaults": {
           "arrowcolor": "#2a3f5f",
           "arrowhead": 0,
           "arrowwidth": 1
          },
          "autotypenumbers": "strict",
          "coloraxis": {
           "colorbar": {
            "outlinewidth": 0,
            "ticks": ""
           }
          },
          "colorscale": {
           "diverging": [
            [
             0,
             "#8e0152"
            ],
            [
             0.1,
             "#c51b7d"
            ],
            [
             0.2,
             "#de77ae"
            ],
            [
             0.3,
             "#f1b6da"
            ],
            [
             0.4,
             "#fde0ef"
            ],
            [
             0.5,
             "#f7f7f7"
            ],
            [
             0.6,
             "#e6f5d0"
            ],
            [
             0.7,
             "#b8e186"
            ],
            [
             0.8,
             "#7fbc41"
            ],
            [
             0.9,
             "#4d9221"
            ],
            [
             1,
             "#276419"
            ]
           ],
           "sequential": [
            [
             0,
             "#0d0887"
            ],
            [
             0.1111111111111111,
             "#46039f"
            ],
            [
             0.2222222222222222,
             "#7201a8"
            ],
            [
             0.3333333333333333,
             "#9c179e"
            ],
            [
             0.4444444444444444,
             "#bd3786"
            ],
            [
             0.5555555555555556,
             "#d8576b"
            ],
            [
             0.6666666666666666,
             "#ed7953"
            ],
            [
             0.7777777777777778,
             "#fb9f3a"
            ],
            [
             0.8888888888888888,
             "#fdca26"
            ],
            [
             1,
             "#f0f921"
            ]
           ],
           "sequentialminus": [
            [
             0,
             "#0d0887"
            ],
            [
             0.1111111111111111,
             "#46039f"
            ],
            [
             0.2222222222222222,
             "#7201a8"
            ],
            [
             0.3333333333333333,
             "#9c179e"
            ],
            [
             0.4444444444444444,
             "#bd3786"
            ],
            [
             0.5555555555555556,
             "#d8576b"
            ],
            [
             0.6666666666666666,
             "#ed7953"
            ],
            [
             0.7777777777777778,
             "#fb9f3a"
            ],
            [
             0.8888888888888888,
             "#fdca26"
            ],
            [
             1,
             "#f0f921"
            ]
           ]
          },
          "colorway": [
           "#636efa",
           "#EF553B",
           "#00cc96",
           "#ab63fa",
           "#FFA15A",
           "#19d3f3",
           "#FF6692",
           "#B6E880",
           "#FF97FF",
           "#FECB52"
          ],
          "font": {
           "color": "#2a3f5f"
          },
          "geo": {
           "bgcolor": "white",
           "lakecolor": "white",
           "landcolor": "white",
           "showlakes": true,
           "showland": true,
           "subunitcolor": "#C8D4E3"
          },
          "hoverlabel": {
           "align": "left"
          },
          "hovermode": "closest",
          "mapbox": {
           "style": "light"
          },
          "paper_bgcolor": "white",
          "plot_bgcolor": "white",
          "polar": {
           "angularaxis": {
            "gridcolor": "#EBF0F8",
            "linecolor": "#EBF0F8",
            "ticks": ""
           },
           "bgcolor": "white",
           "radialaxis": {
            "gridcolor": "#EBF0F8",
            "linecolor": "#EBF0F8",
            "ticks": ""
           }
          },
          "scene": {
           "xaxis": {
            "backgroundcolor": "white",
            "gridcolor": "#DFE8F3",
            "gridwidth": 2,
            "linecolor": "#EBF0F8",
            "showbackground": true,
            "ticks": "",
            "zerolinecolor": "#EBF0F8"
           },
           "yaxis": {
            "backgroundcolor": "white",
            "gridcolor": "#DFE8F3",
            "gridwidth": 2,
            "linecolor": "#EBF0F8",
            "showbackground": true,
            "ticks": "",
            "zerolinecolor": "#EBF0F8"
           },
           "zaxis": {
            "backgroundcolor": "white",
            "gridcolor": "#DFE8F3",
            "gridwidth": 2,
            "linecolor": "#EBF0F8",
            "showbackground": true,
            "ticks": "",
            "zerolinecolor": "#EBF0F8"
           }
          },
          "shapedefaults": {
           "line": {
            "color": "#2a3f5f"
           }
          },
          "ternary": {
           "aaxis": {
            "gridcolor": "#DFE8F3",
            "linecolor": "#A2B1C6",
            "ticks": ""
           },
           "baxis": {
            "gridcolor": "#DFE8F3",
            "linecolor": "#A2B1C6",
            "ticks": ""
           },
           "bgcolor": "white",
           "caxis": {
            "gridcolor": "#DFE8F3",
            "linecolor": "#A2B1C6",
            "ticks": ""
           }
          },
          "title": {
           "x": 0.05
          },
          "xaxis": {
           "automargin": true,
           "gridcolor": "#EBF0F8",
           "linecolor": "#EBF0F8",
           "ticks": "",
           "title": {
            "standoff": 15
           },
           "zerolinecolor": "#EBF0F8",
           "zerolinewidth": 2
          },
          "yaxis": {
           "automargin": true,
           "gridcolor": "#EBF0F8",
           "linecolor": "#EBF0F8",
           "ticks": "",
           "title": {
            "standoff": 15
           },
           "zerolinecolor": "#EBF0F8",
           "zerolinewidth": 2
          }
         }
        },
        "title": {
         "text": "U.S. Trade Summary for All Merchandise (2009–2024)"
        },
        "xaxis": {
         "showgrid": false,
         "title": {
          "text": "Year"
         }
        },
        "yaxis": {
         "showgrid": false,
         "title": {
          "text": "Trade Value (Million USD)"
         }
        }
       }
      }
     },
     "metadata": {},
     "output_type": "display_data"
    }
   ],
   "source": [
    "# Filter for All Merchandise\n",
    "all_merch = merged[merged[\"Is_All_Merchandise\"]].copy()\n",
    "\n",
    "# Line plot for All Merchandise export and import over time\n",
    "fig_all = go.Figure()\n",
    "\n",
    "# Add export line\n",
    "fig_all.add_trace(go.Scatter(\n",
    "    x=all_merch[\"Year\"],\n",
    "    y=all_merch[\"Export\"],\n",
    "    mode='lines+markers',\n",
    "    name=\"Exports\",\n",
    "    line=dict(color=\"green\"),\n",
    "    marker=dict(size=6),\n",
    "    hovertemplate=\"Year: %{x}<br>Export: %{y:,.0f}M<extra></extra>\"\n",
    "))\n",
    "\n",
    "# Add import line\n",
    "fig_all.add_trace(go.Scatter(\n",
    "    x=all_merch[\"Year\"],\n",
    "    y=all_merch[\"Import\"],\n",
    "    mode='lines+markers',\n",
    "    name=\"Imports\",\n",
    "    line=dict(color=\"red\"),\n",
    "    marker=dict(size=6),\n",
    "    hovertemplate=\"Year: %{x}<br>Import: %{y:,.0f}M<extra></extra>\"\n",
    "))\n",
    "\n",
    "# Customize layout\n",
    "fig_all.update_layout(\n",
    "    title=\"U.S. Trade Summary for All Merchandise (2009–2024)\",\n",
    "    xaxis_title=\"Year\",\n",
    "    yaxis_title=\"Trade Value (Million USD)\",\n",
    "    height=500,\n",
    "    legend_title=\"Flow\",\n",
    "    template=\"plotly_white\",\n",
    "    xaxis=dict(showgrid=False),\n",
    "    yaxis=dict(showgrid=False)\n",
    ")\n",
    "\n",
    "\n",
    "\n",
    "# Add vertical dashed lines\n",
    "fig_all.update_layout(\n",
    "    shapes=[\n",
    "        dict(\n",
    "            type=\"line\",\n",
    "            x0=2010, x1=2010,\n",
    "            y0=0, y1=all_merch[\"Import\"].max(),\n",
    "            line=dict(color=\"lightgray\", dash=\"dash\", width=1)\n",
    "        ),\n",
    "        dict(\n",
    "            type=\"line\",\n",
    "            x0=2018, x1=2018,\n",
    "            y0=0, y1=all_merch[\"Import\"].max(),\n",
    "            line=dict(color=\"lightgray\", dash=\"dash\", width=1)\n",
    "        ),\n",
    "        dict(\n",
    "            type=\"line\",\n",
    "            x0=2020, x1=2020,\n",
    "            y0=0, y1=all_merch[\"Import\"].max(),\n",
    "            line=dict(color=\"lightgray\", dash=\"dash\", width=1)\n",
    "        ),\n",
    "        dict(\n",
    "            type=\"line\",\n",
    "            x0=2022, x1=2022,\n",
    "            y0=0, y1=all_merch[\"Import\"].max(),\n",
    "            line=dict(color=\"lightgray\", dash=\"dash\", width=1)\n",
    "        )\n",
    "    ]\n",
    ")\n",
    "\n",
    "\n",
    "# Add top annotations with monospace font\n",
    "annotations = [\n",
    "    dict(\n",
    "        x=2010,\n",
    "        y=all_merch[\"Import\"].max() * 0.85,  # top\n",
    "        text=\"Post-recession recovery\",\n",
    "        showarrow=False,\n",
    "        font=dict(family=\"Courier New, monospace\", size=12, color=\"black\")\n",
    "    ),\n",
    "    dict(\n",
    "        x=2018,\n",
    "        y=all_merch[\"Import\"].max() * 0.85,  # lower\n",
    "        text=\"U.S.–China trade war begins\",\n",
    "        showarrow=False,\n",
    "        font=dict(family=\"Courier New, monospace\", size=12, color=\"black\")\n",
    "    ),\n",
    "    dict(\n",
    "        x=2020,\n",
    "        y=all_merch[\"Import\"].max() * 0.65,  \n",
    "        text=\"COVID-19 disrupts global trade\",\n",
    "        showarrow=False,\n",
    "        font=dict(family=\"Courier New, monospace\", size=12, color=\"black\")\n",
    "    ),\n",
    "    dict(\n",
    "        x=2022,\n",
    "        y=all_merch[\"Import\"].max() * 1.05,  # same as before\n",
    "        text=\"Supply chain crisis & rebound\",\n",
    "        showarrow=False,\n",
    "        font=dict(family=\"Courier New, monospace\", size=12, color=\"black\")\n",
    "    )\n",
    "]\n",
    "\n",
    "fig_all.update_layout(annotations=annotations)\n",
    "\n",
    "\n",
    "fig_all.show()\n",
    "fig_all.write_html(\"../img/Import_export_all_trend_annotated.html\")\n"
   ]
  },
  {
   "cell_type": "code",
   "execution_count": 11,
   "metadata": {},
   "outputs": [
    {
     "data": {
      "application/vnd.plotly.v1+json": {
       "config": {
        "plotlyServerURL": "https://plot.ly"
       },
       "data": [
        {
         "hovertemplate": "Year: %{x}<br>Export: %{y:,.0f}M<extra></extra>",
         "line": {
          "color": "green"
         },
         "marker": {
          "size": 6
         },
         "mode": "lines+markers",
         "name": "Exports",
         "type": "scatter",
         "x": {
          "bdata": "2Qc=",
          "dtype": "i2"
         },
         "y": {
          "bdata": "AAAAACsdMEE=",
          "dtype": "f8"
         }
        },
        {
         "hovertemplate": "Year: %{x}<br>Import: %{y:,.0f}M<extra></extra>",
         "line": {
          "color": "red"
         },
         "marker": {
          "size": 6
         },
         "mode": "lines+markers",
         "name": "Imports",
         "type": "scatter",
         "x": {
          "bdata": "2Qc=",
          "dtype": "i2"
         },
         "y": {
          "bdata": "AAAAAEnMN0E=",
          "dtype": "f8"
         }
        }
       ],
       "frames": [
        {
         "data": [
          {
           "line": {
            "color": "green"
           },
           "marker": {
            "size": 6
           },
           "mode": "lines+markers",
           "name": "Exports",
           "type": "scatter",
           "x": {
            "bdata": "2Qc=",
            "dtype": "i2"
           },
           "y": {
            "bdata": "AAAAACsdMEE=",
            "dtype": "f8"
           }
          },
          {
           "line": {
            "color": "red"
           },
           "marker": {
            "size": 6
           },
           "mode": "lines+markers",
           "name": "Imports",
           "type": "scatter",
           "x": {
            "bdata": "2Qc=",
            "dtype": "i2"
           },
           "y": {
            "bdata": "AAAAAEnMN0E=",
            "dtype": "f8"
           }
          }
         ],
         "name": "2009"
        },
        {
         "data": [
          {
           "line": {
            "color": "green"
           },
           "marker": {
            "size": 6
           },
           "mode": "lines+markers",
           "name": "Exports",
           "type": "scatter",
           "x": {
            "bdata": "2QfaBw==",
            "dtype": "i2"
           },
           "y": {
            "bdata": "AAAAACsdMEEAAAAAH4IzQQ==",
            "dtype": "f8"
           }
          },
          {
           "line": {
            "color": "red"
           },
           "marker": {
            "size": 6
           },
           "mode": "lines+markers",
           "name": "Imports",
           "type": "scatter",
           "x": {
            "bdata": "2QfaBw==",
            "dtype": "i2"
           },
           "y": {
            "bdata": "AAAAAEnMN0EAAAAAATQ9QQ==",
            "dtype": "f8"
           }
          }
         ],
         "layout": {
          "annotations": [
           {
            "font": {
             "color": "black",
             "family": "Courier New, monospace",
             "size": 12
            },
            "showarrow": false,
            "text": "Post-recession recovery",
            "x": 2010,
            "y": 2777280.65
           }
          ]
         },
         "name": "2010"
        },
        {
         "data": [
          {
           "line": {
            "color": "green"
           },
           "marker": {
            "size": 6
           },
           "mode": "lines+markers",
           "name": "Exports",
           "type": "scatter",
           "x": {
            "bdata": "2QfaB9sH",
            "dtype": "i2"
           },
           "y": {
            "bdata": "AAAAACsdMEEAAAAAH4IzQQAAAAAMnzZB",
            "dtype": "f8"
           }
          },
          {
           "line": {
            "color": "red"
           },
           "marker": {
            "size": 6
           },
           "mode": "lines+markers",
           "name": "Imports",
           "type": "scatter",
           "x": {
            "bdata": "2QfaB9sH",
            "dtype": "i2"
           },
           "y": {
            "bdata": "AAAAAEnMN0EAAAAAATQ9QQAAAABp2EBB",
            "dtype": "f8"
           }
          }
         ],
         "layout": {
          "annotations": [
           {
            "font": {
             "color": "black",
             "family": "Courier New, monospace",
             "size": 12
            },
            "showarrow": false,
            "text": "Post-recession recovery",
            "x": 2010,
            "y": 2777280.65
           }
          ]
         },
         "name": "2011"
        },
        {
         "data": [
          {
           "line": {
            "color": "green"
           },
           "marker": {
            "size": 6
           },
           "mode": "lines+markers",
           "name": "Exports",
           "type": "scatter",
           "x": {
            "bdata": "2QfaB9sH3Ac=",
            "dtype": "i2"
           },
           "y": {
            "bdata": "AAAAACsdMEEAAAAAH4IzQQAAAAAMnzZBAAAAAF2WN0E=",
            "dtype": "f8"
           }
          },
          {
           "line": {
            "color": "red"
           },
           "marker": {
            "size": 6
           },
           "mode": "lines+markers",
           "name": "Imports",
           "type": "scatter",
           "x": {
            "bdata": "2QfaB9sH3Ac=",
            "dtype": "i2"
           },
           "y": {
            "bdata": "AAAAAEnMN0EAAAAAATQ9QQAAAABp2EBBAAAAgNVdQUE=",
            "dtype": "f8"
           }
          }
         ],
         "layout": {
          "annotations": [
           {
            "font": {
             "color": "black",
             "family": "Courier New, monospace",
             "size": 12
            },
            "showarrow": false,
            "text": "Post-recession recovery",
            "x": 2010,
            "y": 2777280.65
           }
          ]
         },
         "name": "2012"
        },
        {
         "data": [
          {
           "line": {
            "color": "green"
           },
           "marker": {
            "size": 6
           },
           "mode": "lines+markers",
           "name": "Exports",
           "type": "scatter",
           "x": {
            "bdata": "2QfaB9sH3AfdBw==",
            "dtype": "i2"
           },
           "y": {
            "bdata": "AAAAACsdMEEAAAAAH4IzQQAAAAAMnzZBAAAAAF2WN0EAAAAAFRY4QQ==",
            "dtype": "f8"
           }
          },
          {
           "line": {
            "color": "red"
           },
           "marker": {
            "size": 6
           },
           "mode": "lines+markers",
           "name": "Imports",
           "type": "scatter",
           "x": {
            "bdata": "2QfaB9sH3AfdBw==",
            "dtype": "i2"
           },
           "y": {
            "bdata": "AAAAAEnMN0EAAAAAATQ9QQAAAABp2EBBAAAAgNVdQUEAAACAqU1BQQ==",
            "dtype": "f8"
           }
          }
         ],
         "layout": {
          "annotations": [
           {
            "font": {
             "color": "black",
             "family": "Courier New, monospace",
             "size": 12
            },
            "showarrow": false,
            "text": "Post-recession recovery",
            "x": 2010,
            "y": 2777280.65
           }
          ]
         },
         "name": "2013"
        },
        {
         "data": [
          {
           "line": {
            "color": "green"
           },
           "marker": {
            "size": 6
           },
           "mode": "lines+markers",
           "name": "Exports",
           "type": "scatter",
           "x": {
            "bdata": "2QfaB9sH3AfdB94H",
            "dtype": "i2"
           },
           "y": {
            "bdata": "AAAAACsdMEEAAAAAH4IzQQAAAAAMnzZBAAAAAF2WN0EAAAAAFRY4QQAAAAByvzhB",
            "dtype": "f8"
           }
          },
          {
           "line": {
            "color": "red"
           },
           "marker": {
            "size": 6
           },
           "mode": "lines+markers",
           "name": "Imports",
           "type": "scatter",
           "x": {
            "bdata": "2QfaB9sH3AfdB94H",
            "dtype": "i2"
           },
           "y": {
            "bdata": "AAAAAEnMN0EAAAAAATQ9QQAAAABp2EBBAAAAgNVdQUEAAACAqU1BQQAAAABC+kFB",
            "dtype": "f8"
           }
          }
         ],
         "layout": {
          "annotations": [
           {
            "font": {
             "color": "black",
             "family": "Courier New, monospace",
             "size": 12
            },
            "showarrow": false,
            "text": "Post-recession recovery",
            "x": 2010,
            "y": 2777280.65
           }
          ]
         },
         "name": "2014"
        },
        {
         "data": [
          {
           "line": {
            "color": "green"
           },
           "marker": {
            "size": 6
           },
           "mode": "lines+markers",
           "name": "Exports",
           "type": "scatter",
           "x": {
            "bdata": "2QfaB9sH3AfdB94H3wc=",
            "dtype": "i2"
           },
           "y": {
            "bdata": "AAAAACsdMEEAAAAAH4IzQQAAAAAMnzZBAAAAAF2WN0EAAAAAFRY4QQAAAAByvzhBAAAAAGDwNkE=",
            "dtype": "f8"
           }
          },
          {
           "line": {
            "color": "red"
           },
           "marker": {
            "size": 6
           },
           "mode": "lines+markers",
           "name": "Imports",
           "type": "scatter",
           "x": {
            "bdata": "2QfaB9sH3AfdB94H3wc=",
            "dtype": "i2"
           },
           "y": {
            "bdata": "AAAAAEnMN0EAAAAAATQ9QQAAAABp2EBBAAAAgNVdQUEAAACAqU1BQQAAAABC+kFBAAAAgDUoQUE=",
            "dtype": "f8"
           }
          }
         ],
         "layout": {
          "annotations": [
           {
            "font": {
             "color": "black",
             "family": "Courier New, monospace",
             "size": 12
            },
            "showarrow": false,
            "text": "Post-recession recovery",
            "x": 2010,
            "y": 2777280.65
           }
          ]
         },
         "name": "2015"
        },
        {
         "data": [
          {
           "line": {
            "color": "green"
           },
           "marker": {
            "size": 6
           },
           "mode": "lines+markers",
           "name": "Exports",
           "type": "scatter",
           "x": {
            "bdata": "2QfaB9sH3AfdB94H3wfgBw==",
            "dtype": "i2"
           },
           "y": {
            "bdata": "AAAAACsdMEEAAAAAH4IzQQAAAAAMnzZBAAAAAF2WN0EAAAAAFRY4QQAAAAByvzhBAAAAAGDwNkEAAAAAxCU2QQ==",
            "dtype": "f8"
           }
          },
          {
           "line": {
            "color": "red"
           },
           "marker": {
            "size": 6
           },
           "mode": "lines+markers",
           "name": "Imports",
           "type": "scatter",
           "x": {
            "bdata": "2QfaB9sH3AfdB94H3wfgBw==",
            "dtype": "i2"
           },
           "y": {
            "bdata": "AAAAAEnMN0EAAAAAATQ9QQAAAABp2EBBAAAAgNVdQUEAAACAqU1BQQAAAABC+kFBAAAAgDUoQUEAAAAAEa9AQQ==",
            "dtype": "f8"
           }
          }
         ],
         "layout": {
          "annotations": [
           {
            "font": {
             "color": "black",
             "family": "Courier New, monospace",
             "size": 12
            },
            "showarrow": false,
            "text": "Post-recession recovery",
            "x": 2010,
            "y": 2777280.65
           }
          ]
         },
         "name": "2016"
        },
        {
         "data": [
          {
           "line": {
            "color": "green"
           },
           "marker": {
            "size": 6
           },
           "mode": "lines+markers",
           "name": "Exports",
           "type": "scatter",
           "x": {
            "bdata": "2QfaB9sH3AfdB94H3wfgB+EH",
            "dtype": "i2"
           },
           "y": {
            "bdata": "AAAAACsdMEEAAAAAH4IzQQAAAAAMnzZBAAAAAF2WN0EAAAAAFRY4QQAAAAByvzhBAAAAAGDwNkEAAAAAxCU2QQAAAAC7mzdB",
            "dtype": "f8"
           }
          },
          {
           "line": {
            "color": "red"
           },
           "marker": {
            "size": 6
           },
           "mode": "lines+markers",
           "name": "Imports",
           "type": "scatter",
           "x": {
            "bdata": "2QfaB9sH3AfdB94H3wfgB+EH",
            "dtype": "i2"
           },
           "y": {
            "bdata": "AAAAAEnMN0EAAAAAATQ9QQAAAABp2EBBAAAAgNVdQUEAAACAqU1BQQAAAABC+kFBAAAAgDUoQUEAAAAAEa9AQQAAAICD2UFB",
            "dtype": "f8"
           }
          }
         ],
         "layout": {
          "annotations": [
           {
            "font": {
             "color": "black",
             "family": "Courier New, monospace",
             "size": 12
            },
            "showarrow": false,
            "text": "Post-recession recovery",
            "x": 2010,
            "y": 2777280.65
           }
          ]
         },
         "name": "2017"
        },
        {
         "data": [
          {
           "line": {
            "color": "green"
           },
           "marker": {
            "size": 6
           },
           "mode": "lines+markers",
           "name": "Exports",
           "type": "scatter",
           "x": {
            "bdata": "2QfaB9sH3AfdB94H3wfgB+EH4gc=",
            "dtype": "i2"
           },
           "y": {
            "bdata": "AAAAACsdMEEAAAAAH4IzQQAAAAAMnzZBAAAAAF2WN0EAAAAAFRY4QQAAAAByvzhBAAAAAGDwNkEAAAAAxCU2QQAAAAC7mzdBAAAAAPtqOUE=",
            "dtype": "f8"
           }
          },
          {
           "line": {
            "color": "red"
           },
           "marker": {
            "size": 6
           },
           "mode": "lines+markers",
           "name": "Imports",
           "type": "scatter",
           "x": {
            "bdata": "2QfaB9sH3AfdB94H3wfgB+EH4gc=",
            "dtype": "i2"
           },
           "y": {
            "bdata": "AAAAAEnMN0EAAAAAATQ9QQAAAABp2EBBAAAAgNVdQUEAAACAqU1BQQAAAABC+kFBAAAAgDUoQUEAAAAAEa9AQQAAAICD2UFBAAAAgGhZQ0E=",
            "dtype": "f8"
           }
          }
         ],
         "layout": {
          "annotations": [
           {
            "font": {
             "color": "black",
             "family": "Courier New, monospace",
             "size": 12
            },
            "showarrow": false,
            "text": "Post-recession recovery",
            "x": 2010,
            "y": 2777280.65
           },
           {
            "font": {
             "color": "black",
             "family": "Courier New, monospace",
             "size": 12
            },
            "showarrow": false,
            "text": "U.S.–China trade war begins",
            "x": 2018,
            "y": 2777280.65
           }
          ]
         },
         "name": "2018"
        },
        {
         "data": [
          {
           "line": {
            "color": "green"
           },
           "marker": {
            "size": 6
           },
           "mode": "lines+markers",
           "name": "Exports",
           "type": "scatter",
           "x": {
            "bdata": "2QfaB9sH3AfdB94H3wfgB+EH4gfjBw==",
            "dtype": "i2"
           },
           "y": {
            "bdata": "AAAAACsdMEEAAAAAH4IzQQAAAAAMnzZBAAAAAF2WN0EAAAAAFRY4QQAAAAByvzhBAAAAAGDwNkEAAAAAxCU2QQAAAAC7mzdBAAAAAPtqOUEAAAAAdB05QQ==",
            "dtype": "f8"
           }
          },
          {
           "line": {
            "color": "red"
           },
           "marker": {
            "size": 6
           },
           "mode": "lines+markers",
           "name": "Imports",
           "type": "scatter",
           "x": {
            "bdata": "2QfaB9sH3AfdB94H3wfgB+EH4gfjBw==",
            "dtype": "i2"
           },
           "y": {
            "bdata": "AAAAAEnMN0EAAAAAATQ9QQAAAABp2EBBAAAAgNVdQUEAAACAqU1BQQAAAABC+kFBAAAAgDUoQUEAAAAAEa9AQQAAAICD2UFBAAAAgGhZQ0EAAAAAmgJDQQ==",
            "dtype": "f8"
           }
          }
         ],
         "layout": {
          "annotations": [
           {
            "font": {
             "color": "black",
             "family": "Courier New, monospace",
             "size": 12
            },
            "showarrow": false,
            "text": "Post-recession recovery",
            "x": 2010,
            "y": 2777280.65
           },
           {
            "font": {
             "color": "black",
             "family": "Courier New, monospace",
             "size": 12
            },
            "showarrow": false,
            "text": "U.S.–China trade war begins",
            "x": 2018,
            "y": 2777280.65
           }
          ]
         },
         "name": "2019"
        },
        {
         "data": [
          {
           "line": {
            "color": "green"
           },
           "marker": {
            "size": 6
           },
           "mode": "lines+markers",
           "name": "Exports",
           "type": "scatter",
           "x": {
            "bdata": "2QfaB9sH3AfdB94H3wfgB+EH4gfjB+QH",
            "dtype": "i2"
           },
           "y": {
            "bdata": "AAAAACsdMEEAAAAAH4IzQQAAAAAMnzZBAAAAAF2WN0EAAAAAFRY4QQAAAAByvzhBAAAAAGDwNkEAAAAAxCU2QQAAAAC7mzdBAAAAAPtqOUEAAAAAdB05QQAAAADr0TVB",
            "dtype": "f8"
           }
          },
          {
           "line": {
            "color": "red"
           },
           "marker": {
            "size": 6
           },
           "mode": "lines+markers",
           "name": "Imports",
           "type": "scatter",
           "x": {
            "bdata": "2QfaB9sH3AfdB94H3wfgB+EH4gfjB+QH",
            "dtype": "i2"
           },
           "y": {
            "bdata": "AAAAAEnMN0EAAAAAATQ9QQAAAABp2EBBAAAAgNVdQUEAAACAqU1BQQAAAABC+kFBAAAAgDUoQUEAAAAAEa9AQQAAAICD2UFBAAAAgGhZQ0EAAAAAmgJDQQAAAICqyUFB",
            "dtype": "f8"
           }
          }
         ],
         "layout": {
          "annotations": [
           {
            "font": {
             "color": "black",
             "family": "Courier New, monospace",
             "size": 12
            },
            "showarrow": false,
            "text": "Post-recession recovery",
            "x": 2010,
            "y": 2777280.65
           },
           {
            "font": {
             "color": "black",
             "family": "Courier New, monospace",
             "size": 12
            },
            "showarrow": false,
            "text": "U.S.–China trade war begins",
            "x": 2018,
            "y": 2777280.65
           },
           {
            "font": {
             "color": "black",
             "family": "Courier New, monospace",
             "size": 12
            },
            "showarrow": false,
            "text": "COVID-19 disrupts global trade",
            "x": 2020,
            "y": 2123802.85
           }
          ]
         },
         "name": "2020"
        },
        {
         "data": [
          {
           "line": {
            "color": "green"
           },
           "marker": {
            "size": 6
           },
           "mode": "lines+markers",
           "name": "Exports",
           "type": "scatter",
           "x": {
            "bdata": "2QfaB9sH3AfdB94H3wfgB+EH4gfjB+QH5Qc=",
            "dtype": "i2"
           },
           "y": {
            "bdata": "AAAAACsdMEEAAAAAH4IzQQAAAAAMnzZBAAAAAF2WN0EAAAAAFRY4QQAAAAByvzhBAAAAAGDwNkEAAAAAxCU2QQAAAAC7mzdBAAAAAPtqOUEAAAAAdB05QQAAAADr0TVBAAAAADDSOkE=",
            "dtype": "f8"
           }
          },
          {
           "line": {
            "color": "red"
           },
           "marker": {
            "size": 6
           },
           "mode": "lines+markers",
           "name": "Imports",
           "type": "scatter",
           "x": {
            "bdata": "2QfaB9sH3AfdB94H3wfgB+EH4gfjB+QH5Qc=",
            "dtype": "i2"
           },
           "y": {
            "bdata": "AAAAAEnMN0EAAAAAATQ9QQAAAABp2EBBAAAAgNVdQUEAAACAqU1BQQAAAABC+kFBAAAAgDUoQUEAAAAAEa9AQQAAAICD2UFBAAAAgGhZQ0EAAAAAmgJDQQAAAICqyUFBAAAAgHGURUE=",
            "dtype": "f8"
           }
          }
         ],
         "layout": {
          "annotations": [
           {
            "font": {
             "color": "black",
             "family": "Courier New, monospace",
             "size": 12
            },
            "showarrow": false,
            "text": "Post-recession recovery",
            "x": 2010,
            "y": 2777280.65
           },
           {
            "font": {
             "color": "black",
             "family": "Courier New, monospace",
             "size": 12
            },
            "showarrow": false,
            "text": "U.S.–China trade war begins",
            "x": 2018,
            "y": 2777280.65
           },
           {
            "font": {
             "color": "black",
             "family": "Courier New, monospace",
             "size": 12
            },
            "showarrow": false,
            "text": "COVID-19 disrupts global trade",
            "x": 2020,
            "y": 2123802.85
           }
          ]
         },
         "name": "2021"
        },
        {
         "data": [
          {
           "line": {
            "color": "green"
           },
           "marker": {
            "size": 6
           },
           "mode": "lines+markers",
           "name": "Exports",
           "type": "scatter",
           "x": {
            "bdata": "2QfaB9sH3AfdB94H3wfgB+EH4gfjB+QH5QfmBw==",
            "dtype": "i2"
           },
           "y": {
            "bdata": "AAAAACsdMEEAAAAAH4IzQQAAAAAMnzZBAAAAAF2WN0EAAAAAFRY4QQAAAAByvzhBAAAAAGDwNkEAAAAAxCU2QQAAAAC7mzdBAAAAAPtqOUEAAAAAdB05QQAAAADr0TVBAAAAADDSOkEAAAAAFog/QQ==",
            "dtype": "f8"
           }
          },
          {
           "line": {
            "color": "red"
           },
           "marker": {
            "size": 6
           },
           "mode": "lines+markers",
           "name": "Imports",
           "type": "scatter",
           "x": {
            "bdata": "2QfaB9sH3AfdB94H3wfgB+EH4gfjB+QH5QfmBw==",
            "dtype": "i2"
           },
           "y": {
            "bdata": "AAAAAEnMN0EAAAAAATQ9QQAAAABp2EBBAAAAgNVdQUEAAACAqU1BQQAAAABC+kFBAAAAgDUoQUEAAAAAEa9AQQAAAICD2UFBAAAAgGhZQ0EAAAAAmgJDQQAAAICqyUFBAAAAgHGURUEAAACA4LdIQQ==",
            "dtype": "f8"
           }
          }
         ],
         "layout": {
          "annotations": [
           {
            "font": {
             "color": "black",
             "family": "Courier New, monospace",
             "size": 12
            },
            "showarrow": false,
            "text": "Post-recession recovery",
            "x": 2010,
            "y": 2777280.65
           },
           {
            "font": {
             "color": "black",
             "family": "Courier New, monospace",
             "size": 12
            },
            "showarrow": false,
            "text": "U.S.–China trade war begins",
            "x": 2018,
            "y": 2777280.65
           },
           {
            "font": {
             "color": "black",
             "family": "Courier New, monospace",
             "size": 12
            },
            "showarrow": false,
            "text": "COVID-19 disrupts global trade",
            "x": 2020,
            "y": 2123802.85
           },
           {
            "font": {
             "color": "black",
             "family": "Courier New, monospace",
             "size": 12
            },
            "showarrow": false,
            "text": "Supply chain crisis & rebound",
            "x": 2022,
            "y": 3430758.45
           }
          ]
         },
         "name": "2022"
        },
        {
         "data": [
          {
           "line": {
            "color": "green"
           },
           "marker": {
            "size": 6
           },
           "mode": "lines+markers",
           "name": "Exports",
           "type": "scatter",
           "x": {
            "bdata": "2QfaB9sH3AfdB94H3wfgB+EH4gfjB+QH5QfmB+cH",
            "dtype": "i2"
           },
           "y": {
            "bdata": "AAAAACsdMEEAAAAAH4IzQQAAAAAMnzZBAAAAAF2WN0EAAAAAFRY4QQAAAAByvzhBAAAAAGDwNkEAAAAAxCU2QQAAAAC7mzdBAAAAAPtqOUEAAAAAdB05QQAAAADr0TVBAAAAADDSOkEAAAAAFog/QQAAAAALyz5B",
            "dtype": "f8"
           }
          },
          {
           "line": {
            "color": "red"
           },
           "marker": {
            "size": 6
           },
           "mode": "lines+markers",
           "name": "Imports",
           "type": "scatter",
           "x": {
            "bdata": "2QfaB9sH3AfdB94H3wfgB+EH4gfjB+QH5QfmB+cH",
            "dtype": "i2"
           },
           "y": {
            "bdata": "AAAAAEnMN0EAAAAAATQ9QQAAAABp2EBBAAAAgNVdQUEAAACAqU1BQQAAAABC+kFBAAAAgDUoQUEAAAAAEa9AQQAAAICD2UFBAAAAgGhZQ0EAAAAAmgJDQQAAAICqyUFBAAAAgHGURUEAAACA4LdIQQAAAAD1f0dB",
            "dtype": "f8"
           }
          }
         ],
         "layout": {
          "annotations": [
           {
            "font": {
             "color": "black",
             "family": "Courier New, monospace",
             "size": 12
            },
            "showarrow": false,
            "text": "Post-recession recovery",
            "x": 2010,
            "y": 2777280.65
           },
           {
            "font": {
             "color": "black",
             "family": "Courier New, monospace",
             "size": 12
            },
            "showarrow": false,
            "text": "U.S.–China trade war begins",
            "x": 2018,
            "y": 2777280.65
           },
           {
            "font": {
             "color": "black",
             "family": "Courier New, monospace",
             "size": 12
            },
            "showarrow": false,
            "text": "COVID-19 disrupts global trade",
            "x": 2020,
            "y": 2123802.85
           },
           {
            "font": {
             "color": "black",
             "family": "Courier New, monospace",
             "size": 12
            },
            "showarrow": false,
            "text": "Supply chain crisis & rebound",
            "x": 2022,
            "y": 3430758.45
           }
          ]
         },
         "name": "2023"
        },
        {
         "data": [
          {
           "line": {
            "color": "green"
           },
           "marker": {
            "size": 6
           },
           "mode": "lines+markers",
           "name": "Exports",
           "type": "scatter",
           "x": {
            "bdata": "2QfaB9sH3AfdB94H3wfgB+EH4gfjB+QH5QfmB+cH6Ac=",
            "dtype": "i2"
           },
           "y": {
            "bdata": "AAAAACsdMEEAAAAAH4IzQQAAAAAMnzZBAAAAAF2WN0EAAAAAFRY4QQAAAAByvzhBAAAAAGDwNkEAAAAAxCU2QQAAAAC7mzdBAAAAAPtqOUEAAAAAdB05QQAAAADr0TVBAAAAADDSOkEAAAAAFog/QQAAAAALyz5BAAAAAIWAP0E=",
            "dtype": "f8"
           }
          },
          {
           "line": {
            "color": "red"
           },
           "marker": {
            "size": 6
           },
           "mode": "lines+markers",
           "name": "Imports",
           "type": "scatter",
           "x": {
            "bdata": "2QfaB9sH3AfdB94H3wfgB+EH4gfjB+QH5QfmB+cH6Ac=",
            "dtype": "i2"
           },
           "y": {
            "bdata": "AAAAAEnMN0EAAAAAATQ9QQAAAABp2EBBAAAAgNVdQUEAAACAqU1BQQAAAABC+kFBAAAAgDUoQUEAAAAAEa9AQQAAAICD2UFBAAAAgGhZQ0EAAAAAmgJDQQAAAICqyUFBAAAAgHGURUEAAACA4LdIQQAAAAD1f0dBAAAAgJ7tSEE=",
            "dtype": "f8"
           }
          }
         ],
         "layout": {
          "annotations": [
           {
            "font": {
             "color": "black",
             "family": "Courier New, monospace",
             "size": 12
            },
            "showarrow": false,
            "text": "Post-recession recovery",
            "x": 2010,
            "y": 2777280.65
           },
           {
            "font": {
             "color": "black",
             "family": "Courier New, monospace",
             "size": 12
            },
            "showarrow": false,
            "text": "U.S.–China trade war begins",
            "x": 2018,
            "y": 2777280.65
           },
           {
            "font": {
             "color": "black",
             "family": "Courier New, monospace",
             "size": 12
            },
            "showarrow": false,
            "text": "COVID-19 disrupts global trade",
            "x": 2020,
            "y": 2123802.85
           },
           {
            "font": {
             "color": "black",
             "family": "Courier New, monospace",
             "size": 12
            },
            "showarrow": false,
            "text": "Supply chain crisis & rebound",
            "x": 2022,
            "y": 3430758.45
           }
          ]
         },
         "name": "2024"
        }
       ],
       "layout": {
        "height": 500,
        "legend": {
         "title": {
          "text": "Flow"
         }
        },
        "shapes": [
         {
          "line": {
           "color": "lightgray",
           "dash": "dash",
           "width": 1
          },
          "type": "line",
          "x0": 2010,
          "x1": 2010,
          "y0": 0,
          "y1": 3267389
         },
         {
          "line": {
           "color": "lightgray",
           "dash": "dash",
           "width": 1
          },
          "type": "line",
          "x0": 2018,
          "x1": 2018,
          "y0": 0,
          "y1": 3267389
         },
         {
          "line": {
           "color": "lightgray",
           "dash": "dash",
           "width": 1
          },
          "type": "line",
          "x0": 2020,
          "x1": 2020,
          "y0": 0,
          "y1": 3267389
         },
         {
          "line": {
           "color": "lightgray",
           "dash": "dash",
           "width": 1
          },
          "type": "line",
          "x0": 2022,
          "x1": 2022,
          "y0": 0,
          "y1": 3267389
         }
        ],
        "sliders": [
         {
          "len": 1,
          "steps": [
           {
            "args": [
             [
              "2009"
             ],
             {
              "frame": {
               "duration": 0,
               "redraw": true
              },
              "mode": "immediate"
             }
            ],
            "label": "2009",
            "method": "animate"
           },
           {
            "args": [
             [
              "2010"
             ],
             {
              "frame": {
               "duration": 0,
               "redraw": true
              },
              "mode": "immediate"
             }
            ],
            "label": "2010",
            "method": "animate"
           },
           {
            "args": [
             [
              "2011"
             ],
             {
              "frame": {
               "duration": 0,
               "redraw": true
              },
              "mode": "immediate"
             }
            ],
            "label": "2011",
            "method": "animate"
           },
           {
            "args": [
             [
              "2012"
             ],
             {
              "frame": {
               "duration": 0,
               "redraw": true
              },
              "mode": "immediate"
             }
            ],
            "label": "2012",
            "method": "animate"
           },
           {
            "args": [
             [
              "2013"
             ],
             {
              "frame": {
               "duration": 0,
               "redraw": true
              },
              "mode": "immediate"
             }
            ],
            "label": "2013",
            "method": "animate"
           },
           {
            "args": [
             [
              "2014"
             ],
             {
              "frame": {
               "duration": 0,
               "redraw": true
              },
              "mode": "immediate"
             }
            ],
            "label": "2014",
            "method": "animate"
           },
           {
            "args": [
             [
              "2015"
             ],
             {
              "frame": {
               "duration": 0,
               "redraw": true
              },
              "mode": "immediate"
             }
            ],
            "label": "2015",
            "method": "animate"
           },
           {
            "args": [
             [
              "2016"
             ],
             {
              "frame": {
               "duration": 0,
               "redraw": true
              },
              "mode": "immediate"
             }
            ],
            "label": "2016",
            "method": "animate"
           },
           {
            "args": [
             [
              "2017"
             ],
             {
              "frame": {
               "duration": 0,
               "redraw": true
              },
              "mode": "immediate"
             }
            ],
            "label": "2017",
            "method": "animate"
           },
           {
            "args": [
             [
              "2018"
             ],
             {
              "frame": {
               "duration": 0,
               "redraw": true
              },
              "mode": "immediate"
             }
            ],
            "label": "2018",
            "method": "animate"
           },
           {
            "args": [
             [
              "2019"
             ],
             {
              "frame": {
               "duration": 0,
               "redraw": true
              },
              "mode": "immediate"
             }
            ],
            "label": "2019",
            "method": "animate"
           },
           {
            "args": [
             [
              "2020"
             ],
             {
              "frame": {
               "duration": 0,
               "redraw": true
              },
              "mode": "immediate"
             }
            ],
            "label": "2020",
            "method": "animate"
           },
           {
            "args": [
             [
              "2021"
             ],
             {
              "frame": {
               "duration": 0,
               "redraw": true
              },
              "mode": "immediate"
             }
            ],
            "label": "2021",
            "method": "animate"
           },
           {
            "args": [
             [
              "2022"
             ],
             {
              "frame": {
               "duration": 0,
               "redraw": true
              },
              "mode": "immediate"
             }
            ],
            "label": "2022",
            "method": "animate"
           },
           {
            "args": [
             [
              "2023"
             ],
             {
              "frame": {
               "duration": 0,
               "redraw": true
              },
              "mode": "immediate"
             }
            ],
            "label": "2023",
            "method": "animate"
           },
           {
            "args": [
             [
              "2024"
             ],
             {
              "frame": {
               "duration": 0,
               "redraw": true
              },
              "mode": "immediate"
             }
            ],
            "label": "2024",
            "method": "animate"
           }
          ],
          "transition": {
           "duration": 0
          },
          "x": 0,
          "y": 0
         }
        ],
        "template": {
         "data": {
          "bar": [
           {
            "error_x": {
             "color": "#2a3f5f"
            },
            "error_y": {
             "color": "#2a3f5f"
            },
            "marker": {
             "line": {
              "color": "white",
              "width": 0.5
             },
             "pattern": {
              "fillmode": "overlay",
              "size": 10,
              "solidity": 0.2
             }
            },
            "type": "bar"
           }
          ],
          "barpolar": [
           {
            "marker": {
             "line": {
              "color": "white",
              "width": 0.5
             },
             "pattern": {
              "fillmode": "overlay",
              "size": 10,
              "solidity": 0.2
             }
            },
            "type": "barpolar"
           }
          ],
          "carpet": [
           {
            "aaxis": {
             "endlinecolor": "#2a3f5f",
             "gridcolor": "#C8D4E3",
             "linecolor": "#C8D4E3",
             "minorgridcolor": "#C8D4E3",
             "startlinecolor": "#2a3f5f"
            },
            "baxis": {
             "endlinecolor": "#2a3f5f",
             "gridcolor": "#C8D4E3",
             "linecolor": "#C8D4E3",
             "minorgridcolor": "#C8D4E3",
             "startlinecolor": "#2a3f5f"
            },
            "type": "carpet"
           }
          ],
          "choropleth": [
           {
            "colorbar": {
             "outlinewidth": 0,
             "ticks": ""
            },
            "type": "choropleth"
           }
          ],
          "contour": [
           {
            "colorbar": {
             "outlinewidth": 0,
             "ticks": ""
            },
            "colorscale": [
             [
              0,
              "#0d0887"
             ],
             [
              0.1111111111111111,
              "#46039f"
             ],
             [
              0.2222222222222222,
              "#7201a8"
             ],
             [
              0.3333333333333333,
              "#9c179e"
             ],
             [
              0.4444444444444444,
              "#bd3786"
             ],
             [
              0.5555555555555556,
              "#d8576b"
             ],
             [
              0.6666666666666666,
              "#ed7953"
             ],
             [
              0.7777777777777778,
              "#fb9f3a"
             ],
             [
              0.8888888888888888,
              "#fdca26"
             ],
             [
              1,
              "#f0f921"
             ]
            ],
            "type": "contour"
           }
          ],
          "contourcarpet": [
           {
            "colorbar": {
             "outlinewidth": 0,
             "ticks": ""
            },
            "type": "contourcarpet"
           }
          ],
          "heatmap": [
           {
            "colorbar": {
             "outlinewidth": 0,
             "ticks": ""
            },
            "colorscale": [
             [
              0,
              "#0d0887"
             ],
             [
              0.1111111111111111,
              "#46039f"
             ],
             [
              0.2222222222222222,
              "#7201a8"
             ],
             [
              0.3333333333333333,
              "#9c179e"
             ],
             [
              0.4444444444444444,
              "#bd3786"
             ],
             [
              0.5555555555555556,
              "#d8576b"
             ],
             [
              0.6666666666666666,
              "#ed7953"
             ],
             [
              0.7777777777777778,
              "#fb9f3a"
             ],
             [
              0.8888888888888888,
              "#fdca26"
             ],
             [
              1,
              "#f0f921"
             ]
            ],
            "type": "heatmap"
           }
          ],
          "histogram": [
           {
            "marker": {
             "pattern": {
              "fillmode": "overlay",
              "size": 10,
              "solidity": 0.2
             }
            },
            "type": "histogram"
           }
          ],
          "histogram2d": [
           {
            "colorbar": {
             "outlinewidth": 0,
             "ticks": ""
            },
            "colorscale": [
             [
              0,
              "#0d0887"
             ],
             [
              0.1111111111111111,
              "#46039f"
             ],
             [
              0.2222222222222222,
              "#7201a8"
             ],
             [
              0.3333333333333333,
              "#9c179e"
             ],
             [
              0.4444444444444444,
              "#bd3786"
             ],
             [
              0.5555555555555556,
              "#d8576b"
             ],
             [
              0.6666666666666666,
              "#ed7953"
             ],
             [
              0.7777777777777778,
              "#fb9f3a"
             ],
             [
              0.8888888888888888,
              "#fdca26"
             ],
             [
              1,
              "#f0f921"
             ]
            ],
            "type": "histogram2d"
           }
          ],
          "histogram2dcontour": [
           {
            "colorbar": {
             "outlinewidth": 0,
             "ticks": ""
            },
            "colorscale": [
             [
              0,
              "#0d0887"
             ],
             [
              0.1111111111111111,
              "#46039f"
             ],
             [
              0.2222222222222222,
              "#7201a8"
             ],
             [
              0.3333333333333333,
              "#9c179e"
             ],
             [
              0.4444444444444444,
              "#bd3786"
             ],
             [
              0.5555555555555556,
              "#d8576b"
             ],
             [
              0.6666666666666666,
              "#ed7953"
             ],
             [
              0.7777777777777778,
              "#fb9f3a"
             ],
             [
              0.8888888888888888,
              "#fdca26"
             ],
             [
              1,
              "#f0f921"
             ]
            ],
            "type": "histogram2dcontour"
           }
          ],
          "mesh3d": [
           {
            "colorbar": {
             "outlinewidth": 0,
             "ticks": ""
            },
            "type": "mesh3d"
           }
          ],
          "parcoords": [
           {
            "line": {
             "colorbar": {
              "outlinewidth": 0,
              "ticks": ""
             }
            },
            "type": "parcoords"
           }
          ],
          "pie": [
           {
            "automargin": true,
            "type": "pie"
           }
          ],
          "scatter": [
           {
            "fillpattern": {
             "fillmode": "overlay",
             "size": 10,
             "solidity": 0.2
            },
            "type": "scatter"
           }
          ],
          "scatter3d": [
           {
            "line": {
             "colorbar": {
              "outlinewidth": 0,
              "ticks": ""
             }
            },
            "marker": {
             "colorbar": {
              "outlinewidth": 0,
              "ticks": ""
             }
            },
            "type": "scatter3d"
           }
          ],
          "scattercarpet": [
           {
            "marker": {
             "colorbar": {
              "outlinewidth": 0,
              "ticks": ""
             }
            },
            "type": "scattercarpet"
           }
          ],
          "scattergeo": [
           {
            "marker": {
             "colorbar": {
              "outlinewidth": 0,
              "ticks": ""
             }
            },
            "type": "scattergeo"
           }
          ],
          "scattergl": [
           {
            "marker": {
             "colorbar": {
              "outlinewidth": 0,
              "ticks": ""
             }
            },
            "type": "scattergl"
           }
          ],
          "scattermap": [
           {
            "marker": {
             "colorbar": {
              "outlinewidth": 0,
              "ticks": ""
             }
            },
            "type": "scattermap"
           }
          ],
          "scattermapbox": [
           {
            "marker": {
             "colorbar": {
              "outlinewidth": 0,
              "ticks": ""
             }
            },
            "type": "scattermapbox"
           }
          ],
          "scatterpolar": [
           {
            "marker": {
             "colorbar": {
              "outlinewidth": 0,
              "ticks": ""
             }
            },
            "type": "scatterpolar"
           }
          ],
          "scatterpolargl": [
           {
            "marker": {
             "colorbar": {
              "outlinewidth": 0,
              "ticks": ""
             }
            },
            "type": "scatterpolargl"
           }
          ],
          "scatterternary": [
           {
            "marker": {
             "colorbar": {
              "outlinewidth": 0,
              "ticks": ""
             }
            },
            "type": "scatterternary"
           }
          ],
          "surface": [
           {
            "colorbar": {
             "outlinewidth": 0,
             "ticks": ""
            },
            "colorscale": [
             [
              0,
              "#0d0887"
             ],
             [
              0.1111111111111111,
              "#46039f"
             ],
             [
              0.2222222222222222,
              "#7201a8"
             ],
             [
              0.3333333333333333,
              "#9c179e"
             ],
             [
              0.4444444444444444,
              "#bd3786"
             ],
             [
              0.5555555555555556,
              "#d8576b"
             ],
             [
              0.6666666666666666,
              "#ed7953"
             ],
             [
              0.7777777777777778,
              "#fb9f3a"
             ],
             [
              0.8888888888888888,
              "#fdca26"
             ],
             [
              1,
              "#f0f921"
             ]
            ],
            "type": "surface"
           }
          ],
          "table": [
           {
            "cells": {
             "fill": {
              "color": "#EBF0F8"
             },
             "line": {
              "color": "white"
             }
            },
            "header": {
             "fill": {
              "color": "#C8D4E3"
             },
             "line": {
              "color": "white"
             }
            },
            "type": "table"
           }
          ]
         },
         "layout": {
          "annotationdefaults": {
           "arrowcolor": "#2a3f5f",
           "arrowhead": 0,
           "arrowwidth": 1
          },
          "autotypenumbers": "strict",
          "coloraxis": {
           "colorbar": {
            "outlinewidth": 0,
            "ticks": ""
           }
          },
          "colorscale": {
           "diverging": [
            [
             0,
             "#8e0152"
            ],
            [
             0.1,
             "#c51b7d"
            ],
            [
             0.2,
             "#de77ae"
            ],
            [
             0.3,
             "#f1b6da"
            ],
            [
             0.4,
             "#fde0ef"
            ],
            [
             0.5,
             "#f7f7f7"
            ],
            [
             0.6,
             "#e6f5d0"
            ],
            [
             0.7,
             "#b8e186"
            ],
            [
             0.8,
             "#7fbc41"
            ],
            [
             0.9,
             "#4d9221"
            ],
            [
             1,
             "#276419"
            ]
           ],
           "sequential": [
            [
             0,
             "#0d0887"
            ],
            [
             0.1111111111111111,
             "#46039f"
            ],
            [
             0.2222222222222222,
             "#7201a8"
            ],
            [
             0.3333333333333333,
             "#9c179e"
            ],
            [
             0.4444444444444444,
             "#bd3786"
            ],
            [
             0.5555555555555556,
             "#d8576b"
            ],
            [
             0.6666666666666666,
             "#ed7953"
            ],
            [
             0.7777777777777778,
             "#fb9f3a"
            ],
            [
             0.8888888888888888,
             "#fdca26"
            ],
            [
             1,
             "#f0f921"
            ]
           ],
           "sequentialminus": [
            [
             0,
             "#0d0887"
            ],
            [
             0.1111111111111111,
             "#46039f"
            ],
            [
             0.2222222222222222,
             "#7201a8"
            ],
            [
             0.3333333333333333,
             "#9c179e"
            ],
            [
             0.4444444444444444,
             "#bd3786"
            ],
            [
             0.5555555555555556,
             "#d8576b"
            ],
            [
             0.6666666666666666,
             "#ed7953"
            ],
            [
             0.7777777777777778,
             "#fb9f3a"
            ],
            [
             0.8888888888888888,
             "#fdca26"
            ],
            [
             1,
             "#f0f921"
            ]
           ]
          },
          "colorway": [
           "#636efa",
           "#EF553B",
           "#00cc96",
           "#ab63fa",
           "#FFA15A",
           "#19d3f3",
           "#FF6692",
           "#B6E880",
           "#FF97FF",
           "#FECB52"
          ],
          "font": {
           "color": "#2a3f5f"
          },
          "geo": {
           "bgcolor": "white",
           "lakecolor": "white",
           "landcolor": "white",
           "showlakes": true,
           "showland": true,
           "subunitcolor": "#C8D4E3"
          },
          "hoverlabel": {
           "align": "left"
          },
          "hovermode": "closest",
          "mapbox": {
           "style": "light"
          },
          "paper_bgcolor": "white",
          "plot_bgcolor": "white",
          "polar": {
           "angularaxis": {
            "gridcolor": "#EBF0F8",
            "linecolor": "#EBF0F8",
            "ticks": ""
           },
           "bgcolor": "white",
           "radialaxis": {
            "gridcolor": "#EBF0F8",
            "linecolor": "#EBF0F8",
            "ticks": ""
           }
          },
          "scene": {
           "xaxis": {
            "backgroundcolor": "white",
            "gridcolor": "#DFE8F3",
            "gridwidth": 2,
            "linecolor": "#EBF0F8",
            "showbackground": true,
            "ticks": "",
            "zerolinecolor": "#EBF0F8"
           },
           "yaxis": {
            "backgroundcolor": "white",
            "gridcolor": "#DFE8F3",
            "gridwidth": 2,
            "linecolor": "#EBF0F8",
            "showbackground": true,
            "ticks": "",
            "zerolinecolor": "#EBF0F8"
           },
           "zaxis": {
            "backgroundcolor": "white",
            "gridcolor": "#DFE8F3",
            "gridwidth": 2,
            "linecolor": "#EBF0F8",
            "showbackground": true,
            "ticks": "",
            "zerolinecolor": "#EBF0F8"
           }
          },
          "shapedefaults": {
           "line": {
            "color": "#2a3f5f"
           }
          },
          "ternary": {
           "aaxis": {
            "gridcolor": "#DFE8F3",
            "linecolor": "#A2B1C6",
            "ticks": ""
           },
           "baxis": {
            "gridcolor": "#DFE8F3",
            "linecolor": "#A2B1C6",
            "ticks": ""
           },
           "bgcolor": "white",
           "caxis": {
            "gridcolor": "#DFE8F3",
            "linecolor": "#A2B1C6",
            "ticks": ""
           }
          },
          "title": {
           "x": 0.05
          },
          "xaxis": {
           "automargin": true,
           "gridcolor": "#EBF0F8",
           "linecolor": "#EBF0F8",
           "ticks": "",
           "title": {
            "standoff": 15
           },
           "zerolinecolor": "#EBF0F8",
           "zerolinewidth": 2
          },
          "yaxis": {
           "automargin": true,
           "gridcolor": "#EBF0F8",
           "linecolor": "#EBF0F8",
           "ticks": "",
           "title": {
            "standoff": 15
           },
           "zerolinecolor": "#EBF0F8",
           "zerolinewidth": 2
          }
         }
        },
        "title": {
         "text": "U.S. Trade Summary for All Merchandise (2009–2024)"
        },
        "updatemenus": [
         {
          "buttons": [
           {
            "args": [
             null,
             {
              "frame": {
               "duration": 500,
               "redraw": true
              },
              "fromcurrent": true,
              "transition": {
               "duration": 200
              }
             }
            ],
            "label": "Play",
            "method": "animate"
           }
          ],
          "showactive": false,
          "type": "buttons"
         }
        ],
        "xaxis": {
         "range": [
          2009,
          2024
         ],
         "showgrid": false,
         "title": {
          "text": "Year"
         }
        },
        "yaxis": {
         "showgrid": false,
         "title": {
          "text": "Trade Value (Million USD)"
         }
        }
       }
      }
     },
     "metadata": {},
     "output_type": "display_data"
    }
   ],
   "source": [
    "import plotly.graph_objects as go\n",
    "\n",
    "# Filter for All Merchandise\n",
    "all_merch = merged[merged[\"Is_All_Merchandise\"]].copy()\n",
    "\n",
    "# Base figure\n",
    "fig_all = go.Figure()\n",
    "\n",
    "# Initial data (starting frame)\n",
    "initial = all_merch[all_merch[\"Year\"] <= all_merch[\"Year\"].min()]\n",
    "fig_all.add_trace(go.Scatter(\n",
    "    x=initial[\"Year\"],\n",
    "    y=initial[\"Export\"],\n",
    "    mode='lines+markers',\n",
    "    name=\"Exports\",\n",
    "    line=dict(color=\"green\"),\n",
    "    marker=dict(size=6),\n",
    "    hovertemplate=\"Year: %{x}<br>Export: %{y:,.0f}M<extra></extra>\"\n",
    "))\n",
    "fig_all.add_trace(go.Scatter(\n",
    "    x=initial[\"Year\"],\n",
    "    y=initial[\"Import\"],\n",
    "    mode='lines+markers',\n",
    "    name=\"Imports\",\n",
    "    line=dict(color=\"red\"),\n",
    "    marker=dict(size=6),\n",
    "    hovertemplate=\"Year: %{x}<br>Import: %{y:,.0f}M<extra></extra>\"\n",
    "))\n",
    "\n",
    "# Layout customization\n",
    "fig_all.update_layout(\n",
    "    title=\"U.S. Trade Summary for All Merchandise (2009–2024)\",\n",
    "    xaxis_title=\"Year\",\n",
    "    yaxis_title=\"Trade Value (Million USD)\",\n",
    "    height=500,\n",
    "    legend_title=\"Flow\",\n",
    "    template=\"plotly_white\",\n",
    "    xaxis=dict(\n",
    "        showgrid=False,\n",
    "        range=[2009, 2024]\n",
    "    ),\n",
    "    yaxis=dict(showgrid=False),\n",
    "    shapes=[\n",
    "        dict(type=\"line\", x0=2010, x1=2010, y0=0, y1=all_merch[\"Import\"].max(),\n",
    "             line=dict(color=\"lightgray\", dash=\"dash\", width=1)),\n",
    "        dict(type=\"line\", x0=2018, x1=2018, y0=0, y1=all_merch[\"Import\"].max(),\n",
    "             line=dict(color=\"lightgray\", dash=\"dash\", width=1)),\n",
    "        dict(type=\"line\", x0=2020, x1=2020, y0=0, y1=all_merch[\"Import\"].max(),\n",
    "             line=dict(color=\"lightgray\", dash=\"dash\", width=1)),\n",
    "        dict(type=\"line\", x0=2022, x1=2022, y0=0, y1=all_merch[\"Import\"].max(),\n",
    "             line=dict(color=\"lightgray\", dash=\"dash\", width=1))\n",
    "    ]\n",
    ")\n",
    "\n",
    "# Define annotations to show in specific years\n",
    "annotations_by_year = {\n",
    "    2010: [dict(\n",
    "        x=2010,\n",
    "        y=all_merch[\"Import\"].max() * 0.85,\n",
    "        text=\"Post-recession recovery\",\n",
    "        showarrow=False,\n",
    "        font=dict(family=\"Courier New, monospace\", size=12, color=\"black\")\n",
    "    )],\n",
    "    2018: [dict(\n",
    "        x=2018,\n",
    "        y=all_merch[\"Import\"].max() * 0.85,\n",
    "        text=\"U.S.–China trade war begins\",\n",
    "        showarrow=False,\n",
    "        font=dict(family=\"Courier New, monospace\", size=12, color=\"black\")\n",
    "    )],\n",
    "    2020: [dict(\n",
    "        x=2020,\n",
    "        y=all_merch[\"Import\"].max() * 0.65,\n",
    "        text=\"COVID-19 disrupts global trade\",\n",
    "        showarrow=False,\n",
    "        font=dict(family=\"Courier New, monospace\", size=12, color=\"black\")\n",
    "    )],\n",
    "    2022: [dict(\n",
    "        x=2022,\n",
    "        y=all_merch[\"Import\"].max() * 1.05,\n",
    "        text=\"Supply chain crisis & rebound\",\n",
    "        showarrow=False,\n",
    "        font=dict(family=\"Courier New, monospace\", size=12, color=\"black\")\n",
    "    )]\n",
    "}\n",
    "\n",
    "# Create frames for animation\n",
    "years = sorted(all_merch[\"Year\"].unique())\n",
    "frames = []\n",
    "\n",
    "for yr in years:\n",
    "    current = all_merch[all_merch[\"Year\"] <= yr]\n",
    "    \n",
    "    # Cumulative annotations: show all annotations up to current year\n",
    "    annotations = []\n",
    "    for k in sorted(annotations_by_year):\n",
    "        if k <= yr:\n",
    "            annotations.extend(annotations_by_year[k])\n",
    "\n",
    "    frames.append(go.Frame(\n",
    "        name=str(yr),\n",
    "        data=[\n",
    "            go.Scatter(x=current[\"Year\"], y=current[\"Export\"],\n",
    "                       mode=\"lines+markers\", name=\"Exports\",\n",
    "                       line=dict(color=\"green\"), marker=dict(size=6)),\n",
    "            go.Scatter(x=current[\"Year\"], y=current[\"Import\"],\n",
    "                       mode=\"lines+markers\", name=\"Imports\",\n",
    "                       line=dict(color=\"red\"), marker=dict(size=6))\n",
    "        ],\n",
    "        layout=go.Layout(annotations=annotations)\n",
    "    ))\n",
    "\n",
    "\n",
    "# Add slider and play button\n",
    "fig_all.update_layout(\n",
    "    updatemenus=[dict(\n",
    "        type=\"buttons\",\n",
    "        showactive=False,\n",
    "        buttons=[dict(label=\"Play\",\n",
    "                      method=\"animate\",\n",
    "                      args=[None, {\n",
    "                          \"frame\": {\"duration\": 500, \"redraw\": True},\n",
    "                          \"fromcurrent\": True,\n",
    "                          \"transition\": {\"duration\": 200}\n",
    "                      }])]\n",
    "    )],\n",
    "    sliders=[dict(\n",
    "        steps=[dict(method=\"animate\",\n",
    "                    args=[[str(yr)], {\"frame\": {\"duration\": 0, \"redraw\": True},\n",
    "                                      \"mode\": \"immediate\"}],\n",
    "                    label=str(yr)) for yr in years],\n",
    "        transition=dict(duration=0),\n",
    "        x=0, y=0, len=1.0\n",
    "    )]\n",
    ")\n",
    "\n",
    "# Attach frames to figure\n",
    "fig_all.frames = frames\n",
    "\n",
    "# Show and export\n",
    "fig_all.show()\n",
    "fig_all.write_html(\"../img/Import_export_all_trend_animated.html\")\n"
   ]
  },
  {
   "cell_type": "code",
   "execution_count": null,
   "metadata": {},
   "outputs": [],
   "source": []
  },
  {
   "cell_type": "code",
   "execution_count": null,
   "metadata": {},
   "outputs": [],
   "source": []
  }
 ],
 "metadata": {
  "kernelspec": {
   "display_name": "base",
   "language": "python",
   "name": "python3"
  },
  "language_info": {
   "codemirror_mode": {
    "name": "ipython",
    "version": 3
   },
   "file_extension": ".py",
   "mimetype": "text/x-python",
   "name": "python",
   "nbconvert_exporter": "python",
   "pygments_lexer": "ipython3",
   "version": "3.10.6"
  }
 },
 "nbformat": 4,
 "nbformat_minor": 2
}
