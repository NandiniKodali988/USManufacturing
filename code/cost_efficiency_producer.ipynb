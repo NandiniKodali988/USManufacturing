{
 "cells": [
  {
   "cell_type": "markdown",
   "metadata": {},
   "source": [
    "## Cost - Unit labor cost\n",
    "## Efficiency - productivity"
   ]
  },
  {
   "cell_type": "code",
   "execution_count": null,
   "metadata": {},
   "outputs": [
    {
     "name": "stdout",
     "output_type": "stream",
     "text": [
      "    Year  Labor productivity  Unit labor costs\n",
      "0   2013           102.84175          88.68700\n",
      "1   2014           102.54325          91.29650\n",
      "2   2015           100.76275          95.46550\n",
      "3   2016           100.71300          96.18725\n",
      "4   2017           100.00850          99.99750\n",
      "5   2018           100.22675         102.18900\n",
      "6   2019            97.90625         107.20625\n",
      "7   2020            97.78950         114.53900\n",
      "8   2021            99.48350         115.33175\n",
      "9   2022            98.18900         120.61175\n",
      "10  2023            98.03075         126.75750\n",
      "11  2024            98.67175         130.99000\n"
     ]
    }
   ],
   "source": [
    "import pandas as pd\n",
    "import altair as alt\n",
    "import numpy as np\n",
    "\n",
    "df = pd.read_csv(\"../data/Processed/efficiency_productivity/efficiency_productivity.csv\")\n",
    "\n",
    "# compute yearly average labor productivity and efficiency(producer)\n",
    "df['Date'] = pd.to_datetime(df['Date'])\n",
    "df['Year'] = df['Date'].dt.year\n",
    "df_year = df.groupby('Year', as_index=False)[['Labor productivity','Unit labor costs']].mean()\n",
    "print(df_year)"
   ]
  },
  {
   "cell_type": "code",
   "execution_count": null,
   "metadata": {},
   "outputs": [],
   "source": [
    "# "
   ]
  },
  {
   "cell_type": "code",
   "execution_count": 90,
   "metadata": {},
   "outputs": [
    {
     "data": {
      "text/html": [
       "\n",
       "<style>\n",
       "  #altair-viz-0e72ed95dd5d421a929ce43f21e02cd8.vega-embed {\n",
       "    width: 100%;\n",
       "    display: flex;\n",
       "  }\n",
       "\n",
       "  #altair-viz-0e72ed95dd5d421a929ce43f21e02cd8.vega-embed details,\n",
       "  #altair-viz-0e72ed95dd5d421a929ce43f21e02cd8.vega-embed details summary {\n",
       "    position: relative;\n",
       "  }\n",
       "</style>\n",
       "<div id=\"altair-viz-0e72ed95dd5d421a929ce43f21e02cd8\"></div>\n",
       "<script type=\"text/javascript\">\n",
       "  var VEGA_DEBUG = (typeof VEGA_DEBUG == \"undefined\") ? {} : VEGA_DEBUG;\n",
       "  (function(spec, embedOpt){\n",
       "    let outputDiv = document.currentScript.previousElementSibling;\n",
       "    if (outputDiv.id !== \"altair-viz-0e72ed95dd5d421a929ce43f21e02cd8\") {\n",
       "      outputDiv = document.getElementById(\"altair-viz-0e72ed95dd5d421a929ce43f21e02cd8\");\n",
       "    }\n",
       "\n",
       "    const paths = {\n",
       "      \"vega\": \"https://cdn.jsdelivr.net/npm/vega@5?noext\",\n",
       "      \"vega-lib\": \"https://cdn.jsdelivr.net/npm/vega-lib?noext\",\n",
       "      \"vega-lite\": \"https://cdn.jsdelivr.net/npm/vega-lite@5.20.1?noext\",\n",
       "      \"vega-embed\": \"https://cdn.jsdelivr.net/npm/vega-embed@6?noext\",\n",
       "    };\n",
       "\n",
       "    function maybeLoadScript(lib, version) {\n",
       "      var key = `${lib.replace(\"-\", \"\")}_version`;\n",
       "      return (VEGA_DEBUG[key] == version) ?\n",
       "        Promise.resolve(paths[lib]) :\n",
       "        new Promise(function(resolve, reject) {\n",
       "          var s = document.createElement('script');\n",
       "          document.getElementsByTagName(\"head\")[0].appendChild(s);\n",
       "          s.async = true;\n",
       "          s.onload = () => {\n",
       "            VEGA_DEBUG[key] = version;\n",
       "            return resolve(paths[lib]);\n",
       "          };\n",
       "          s.onerror = () => reject(`Error loading script: ${paths[lib]}`);\n",
       "          s.src = paths[lib];\n",
       "        });\n",
       "    }\n",
       "\n",
       "    function showError(err) {\n",
       "      outputDiv.innerHTML = `<div class=\"error\" style=\"color:red;\">${err}</div>`;\n",
       "      throw err;\n",
       "    }\n",
       "\n",
       "    function displayChart(vegaEmbed) {\n",
       "      vegaEmbed(outputDiv, spec, embedOpt)\n",
       "        .catch(err => showError(`Javascript Error: ${err.message}<br>This usually means there's a typo in your chart specification. See the javascript console for the full traceback.`));\n",
       "    }\n",
       "\n",
       "    if(typeof define === \"function\" && define.amd) {\n",
       "      requirejs.config({paths});\n",
       "      let deps = [\"vega-embed\"];\n",
       "      require(deps, displayChart, err => showError(`Error loading script: ${err.message}`));\n",
       "    } else {\n",
       "      maybeLoadScript(\"vega\", \"5\")\n",
       "        .then(() => maybeLoadScript(\"vega-lite\", \"5.20.1\"))\n",
       "        .then(() => maybeLoadScript(\"vega-embed\", \"6\"))\n",
       "        .catch(showError)\n",
       "        .then(() => displayChart(vegaEmbed));\n",
       "    }\n",
       "  })({\"config\": {\"view\": {\"continuousWidth\": 300, \"continuousHeight\": 300}}, \"layer\": [{\"mark\": {\"type\": \"line\", \"color\": \"#1f77b4\", \"strokeWidth\": 1}, \"encoding\": {\"order\": {\"field\": \"Year\", \"type\": \"ordinal\"}, \"tooltip\": [{\"field\": \"Year\", \"title\": \"Year\", \"type\": \"ordinal\"}, {\"field\": \"Labor productivity\", \"format\": \".2f\", \"type\": \"quantitative\"}, {\"field\": \"Unit labor costs\", \"format\": \".2f\", \"type\": \"quantitative\"}], \"x\": {\"field\": \"Labor productivity\", \"scale\": {\"domain\": [97.5, 103]}, \"title\": \"Labor Productivity (Index, 2017=100)\", \"type\": \"quantitative\"}, \"y\": {\"field\": \"Unit labor costs\", \"scale\": {\"domain\": [70, 140]}, \"title\": \"Unit Labor Costs (Index, 2017=100)\", \"type\": \"quantitative\"}}, \"transform\": [{\"filter\": \"datum.Year <= year_sel\"}]}, {\"mark\": {\"type\": \"point\", \"color\": \"#ff7f0e\", \"filled\": true, \"size\": 100}, \"encoding\": {\"order\": {\"field\": \"Year\", \"type\": \"ordinal\"}, \"tooltip\": [{\"field\": \"Year\", \"title\": \"Year\", \"type\": \"ordinal\"}, {\"field\": \"Labor productivity\", \"format\": \".2f\", \"type\": \"quantitative\"}, {\"field\": \"Unit labor costs\", \"format\": \".2f\", \"type\": \"quantitative\"}], \"x\": {\"field\": \"Labor productivity\", \"scale\": {\"domain\": [97.5, 103]}, \"title\": \"Labor Productivity (Index, 2017=100)\", \"type\": \"quantitative\"}, \"y\": {\"field\": \"Unit labor costs\", \"scale\": {\"domain\": [70, 140]}, \"title\": \"Unit Labor Costs (Index, 2017=100)\", \"type\": \"quantitative\"}}, \"transform\": [{\"filter\": \"datum.Year <= year_sel\"}]}], \"data\": {\"name\": \"data-29341c3e91a1a337331866c8b0bd4633\"}, \"params\": [{\"name\": \"year_sel\", \"bind\": {\"input\": \"range\", \"max\": 2024, \"min\": 2013, \"name\": \"Show up to Year: \", \"step\": 1}, \"value\": 2013}], \"title\": \"Annual Connected Scatter: LP vs. ULC with Arrows\", \"width\": 800, \"$schema\": \"https://vega.github.io/schema/vega-lite/v5.20.1.json\", \"datasets\": {\"data-29341c3e91a1a337331866c8b0bd4633\": [{\"Year\": 2013, \"Labor productivity\": 102.84175, \"Unit labor costs\": 88.687}, {\"Year\": 2014, \"Labor productivity\": 102.54325, \"Unit labor costs\": 91.2965}, {\"Year\": 2015, \"Labor productivity\": 100.76275000000001, \"Unit labor costs\": 95.46549999999999}, {\"Year\": 2016, \"Labor productivity\": 100.713, \"Unit labor costs\": 96.18725}, {\"Year\": 2017, \"Labor productivity\": 100.0085, \"Unit labor costs\": 99.9975}, {\"Year\": 2018, \"Labor productivity\": 100.22675, \"Unit labor costs\": 102.189}, {\"Year\": 2019, \"Labor productivity\": 97.90625, \"Unit labor costs\": 107.20625}, {\"Year\": 2020, \"Labor productivity\": 97.7895, \"Unit labor costs\": 114.539}, {\"Year\": 2021, \"Labor productivity\": 99.48349999999999, \"Unit labor costs\": 115.33175}, {\"Year\": 2022, \"Labor productivity\": 98.189, \"Unit labor costs\": 120.61175}, {\"Year\": 2023, \"Labor productivity\": 98.03075, \"Unit labor costs\": 126.7575}, {\"Year\": 2024, \"Labor productivity\": 98.67175, \"Unit labor costs\": 130.99}]}}, {\"mode\": \"vega-lite\"});\n",
       "</script>"
      ],
      "text/plain": [
       "alt.LayerChart(...)"
      ]
     },
     "execution_count": 90,
     "metadata": {},
     "output_type": "execute_result"
    }
   ],
   "source": [
    "# draw core chart\n",
    "ear_slider = alt.param(\n",
    "    name='year_sel',\n",
    "    bind=alt.binding_range(\n",
    "        name='Show up to Year: ',\n",
    "        min=int(df_year['Year'].min()),\n",
    "        max=int(df_year['Year'].max()),\n",
    "        step=1\n",
    "    ),\n",
    "    value=int(df_year['Year'].min())\n",
    ")\n",
    "\n",
    "base = alt.Chart(df_year).transform_filter(\"datum.Year <= year_sel\").encode(\n",
    "    x=alt.X('Labor productivity:Q', title='Labor Productivity (Index, 2017=100)', scale=alt.Scale(domain=[97.5, 103])),\n",
    "    y=alt.Y('Unit labor costs:Q',  title='Unit Labor Costs (Index, 2017=100)', scale=alt.Scale(domain=[70, 140])),\n",
    "    order=alt.Order('Year:O'),\n",
    "    tooltip=[\n",
    "      alt.Tooltip('Year:O', title='Year'),\n",
    "      alt.Tooltip('Labor productivity:Q', format='.2f'),\n",
    "      alt.Tooltip('Unit labor costs:Q', format='.2f'),\n",
    "    ]\n",
    ")\n",
    "\n",
    "line   = base.mark_line(color='#1f77b4', strokeWidth=1)\n",
    "points = base.mark_point(color='#ff7f0e', size=100, filled=True)\n",
    "\n",
    "chart = (line + points).properties(\n",
    "    width=800,\n",
    "    title='Annual Connected Scatter: LP vs. ULC with Arrows'\n",
    ").add_params(\n",
    "    ear_slider\n",
    ")\n",
    "\n",
    "chart"
   ]
  }
 ],
 "metadata": {
  "kernelspec": {
   "display_name": "base",
   "language": "python",
   "name": "python3"
  },
  "language_info": {
   "codemirror_mode": {
    "name": "ipython",
    "version": 3
   },
   "file_extension": ".py",
   "mimetype": "text/x-python",
   "name": "python",
   "nbconvert_exporter": "python",
   "pygments_lexer": "ipython3",
   "version": "3.12.2"
  }
 },
 "nbformat": 4,
 "nbformat_minor": 2
}
