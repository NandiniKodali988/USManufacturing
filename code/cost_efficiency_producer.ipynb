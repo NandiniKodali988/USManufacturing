{
 "cells": [
  {
   "cell_type": "markdown",
   "metadata": {},
   "source": [
    "## Cost - Unit labor cost\n",
    "## Efficiency - productivity"
   ]
  },
  {
   "cell_type": "code",
   "execution_count": 53,
   "metadata": {},
   "outputs": [
    {
     "name": "stdout",
     "output_type": "stream",
     "text": [
      "Requirement already satisfied: altair in /opt/homebrew/anaconda3/lib/python3.12/site-packages (5.5.0)\n",
      "Collecting vega_datasets\n",
      "  Downloading vega_datasets-0.9.0-py3-none-any.whl.metadata (5.5 kB)\n",
      "Requirement already satisfied: jinja2 in /opt/homebrew/anaconda3/lib/python3.12/site-packages (from altair) (3.1.4)\n",
      "Requirement already satisfied: jsonschema>=3.0 in /opt/homebrew/anaconda3/lib/python3.12/site-packages (from altair) (4.19.2)\n",
      "Requirement already satisfied: narwhals>=1.14.2 in /opt/homebrew/anaconda3/lib/python3.12/site-packages (from altair) (1.35.0)\n",
      "Requirement already satisfied: packaging in /opt/homebrew/anaconda3/lib/python3.12/site-packages (from altair) (24.1)\n",
      "Requirement already satisfied: typing-extensions>=4.10.0 in /opt/homebrew/anaconda3/lib/python3.12/site-packages (from altair) (4.11.0)\n",
      "Requirement already satisfied: pandas in /opt/homebrew/anaconda3/lib/python3.12/site-packages (from vega_datasets) (2.2.2)\n",
      "Requirement already satisfied: attrs>=22.2.0 in /opt/homebrew/anaconda3/lib/python3.12/site-packages (from jsonschema>=3.0->altair) (23.1.0)\n",
      "Requirement already satisfied: jsonschema-specifications>=2023.03.6 in /opt/homebrew/anaconda3/lib/python3.12/site-packages (from jsonschema>=3.0->altair) (2023.7.1)\n",
      "Requirement already satisfied: referencing>=0.28.4 in /opt/homebrew/anaconda3/lib/python3.12/site-packages (from jsonschema>=3.0->altair) (0.30.2)\n",
      "Requirement already satisfied: rpds-py>=0.7.1 in /opt/homebrew/anaconda3/lib/python3.12/site-packages (from jsonschema>=3.0->altair) (0.10.6)\n",
      "Requirement already satisfied: MarkupSafe>=2.0 in /opt/homebrew/anaconda3/lib/python3.12/site-packages (from jinja2->altair) (2.1.3)\n",
      "Requirement already satisfied: numpy>=1.26.0 in /opt/homebrew/anaconda3/lib/python3.12/site-packages (from pandas->vega_datasets) (1.26.4)\n",
      "Requirement already satisfied: python-dateutil>=2.8.2 in /opt/homebrew/anaconda3/lib/python3.12/site-packages (from pandas->vega_datasets) (2.9.0.post0)\n",
      "Requirement already satisfied: pytz>=2020.1 in /opt/homebrew/anaconda3/lib/python3.12/site-packages (from pandas->vega_datasets) (2024.1)\n",
      "Requirement already satisfied: tzdata>=2022.7 in /opt/homebrew/anaconda3/lib/python3.12/site-packages (from pandas->vega_datasets) (2023.3)\n",
      "Requirement already satisfied: six>=1.5 in /opt/homebrew/anaconda3/lib/python3.12/site-packages (from python-dateutil>=2.8.2->pandas->vega_datasets) (1.16.0)\n",
      "Downloading vega_datasets-0.9.0-py3-none-any.whl (210 kB)\n",
      "Installing collected packages: vega_datasets\n",
      "Successfully installed vega_datasets-0.9.0\n",
      "Note: you may need to restart the kernel to use updated packages.\n"
     ]
    }
   ],
   "source": [
    "%pip install --upgrade altair vega_datasets"
   ]
  },
  {
   "cell_type": "code",
   "execution_count": 54,
   "metadata": {},
   "outputs": [
    {
     "name": "stdout",
     "output_type": "stream",
     "text": [
      "    Year  Labor productivity  Unit labor costs\n",
      "0   2013           102.84175          88.68700\n",
      "1   2014           102.54325          91.29650\n",
      "2   2015           100.76275          95.46550\n",
      "3   2016           100.71300          96.18725\n",
      "4   2017           100.00850          99.99750\n",
      "5   2018           100.22675         102.18900\n",
      "6   2019            97.90625         107.20625\n",
      "7   2020            97.78950         114.53900\n",
      "8   2021            99.48350         115.33175\n",
      "9   2022            98.18900         120.61175\n",
      "10  2023            98.03075         126.75750\n",
      "11  2024            98.67175         130.99000\n"
     ]
    }
   ],
   "source": [
    "import pandas as pd\n",
    "import altair as alt\n",
    "import numpy as np\n",
    "\n",
    "df = pd.read_csv(\"../data/Processed/efficiency_productivity/efficiency_productivity.csv\")\n",
    "\n",
    "# compute yearly average labor productivity and efficiency\n",
    "df['Date'] = pd.to_datetime(df['Date'])\n",
    "df['Year'] = df['Date'].dt.year\n",
    "df_year = df.groupby('Year', as_index=False)[['Labor productivity','Unit labor costs']].mean()\n",
    "print(df_year)"
   ]
  },
  {
   "cell_type": "code",
   "execution_count": 62,
   "metadata": {},
   "outputs": [
    {
     "ename": "SchemaValidationError",
     "evalue": "'2013' is an invalid value for `Year`. Valid values are of type 'array'.",
     "output_type": "error",
     "traceback": [
      "\u001b[0;31m---------------------------------------------------------------------------\u001b[0m",
      "\u001b[0;31mSchemaValidationError\u001b[0m                     Traceback (most recent call last)",
      "Cell \u001b[0;32mIn[62], line 8\u001b[0m\n\u001b[1;32m      1\u001b[0m \u001b[38;5;66;03m# draw core chart\u001b[39;00m\n\u001b[1;32m      2\u001b[0m year_slider \u001b[38;5;241m=\u001b[39m alt\u001b[38;5;241m.\u001b[39mbinding_range(\n\u001b[1;32m      3\u001b[0m     name\u001b[38;5;241m=\u001b[39m\u001b[38;5;124m'\u001b[39m\u001b[38;5;124mShow up to Year: \u001b[39m\u001b[38;5;124m'\u001b[39m,\n\u001b[1;32m      4\u001b[0m     \u001b[38;5;28mmin\u001b[39m\u001b[38;5;241m=\u001b[39m\u001b[38;5;28mint\u001b[39m(df_year[\u001b[38;5;124m'\u001b[39m\u001b[38;5;124mYear\u001b[39m\u001b[38;5;124m'\u001b[39m]\u001b[38;5;241m.\u001b[39mmin()),\n\u001b[1;32m      5\u001b[0m     \u001b[38;5;28mmax\u001b[39m\u001b[38;5;241m=\u001b[39m\u001b[38;5;28mint\u001b[39m(df_year[\u001b[38;5;124m'\u001b[39m\u001b[38;5;124mYear\u001b[39m\u001b[38;5;124m'\u001b[39m]\u001b[38;5;241m.\u001b[39mmax()),\n\u001b[1;32m      6\u001b[0m     step\u001b[38;5;241m=\u001b[39m\u001b[38;5;241m1\u001b[39m\n\u001b[1;32m      7\u001b[0m )\n\u001b[0;32m----> 8\u001b[0m year_sel \u001b[38;5;241m=\u001b[39m alt\u001b[38;5;241m.\u001b[39mselection_point(\n\u001b[1;32m      9\u001b[0m     name\u001b[38;5;241m=\u001b[39m\u001b[38;5;124m'\u001b[39m\u001b[38;5;124myear_sel\u001b[39m\u001b[38;5;124m'\u001b[39m,               \n\u001b[1;32m     10\u001b[0m     fields\u001b[38;5;241m=\u001b[39m[\u001b[38;5;124m'\u001b[39m\u001b[38;5;124mYear\u001b[39m\u001b[38;5;124m'\u001b[39m],                \n\u001b[1;32m     11\u001b[0m     bind\u001b[38;5;241m=\u001b[39myear_slider,        \n\u001b[1;32m     12\u001b[0m     value\u001b[38;5;241m=\u001b[39m{\u001b[38;5;124m'\u001b[39m\u001b[38;5;124mYear\u001b[39m\u001b[38;5;124m'\u001b[39m: \u001b[38;5;28mint\u001b[39m(df_year[\u001b[38;5;124m'\u001b[39m\u001b[38;5;124mYear\u001b[39m\u001b[38;5;124m'\u001b[39m]\u001b[38;5;241m.\u001b[39mmin())},  \n\u001b[1;32m     13\u001b[0m     empty\u001b[38;5;241m=\u001b[39m\u001b[38;5;124m'\u001b[39m\u001b[38;5;124mnone\u001b[39m\u001b[38;5;124m'\u001b[39m,                       \n\u001b[1;32m     14\u001b[0m     on\u001b[38;5;241m=\u001b[39m\u001b[38;5;124m'\u001b[39m\u001b[38;5;124minput\u001b[39m\u001b[38;5;124m'\u001b[39m                        \n\u001b[1;32m     15\u001b[0m )\n\u001b[1;32m     17\u001b[0m base \u001b[38;5;241m=\u001b[39m alt\u001b[38;5;241m.\u001b[39mChart(df_year)\u001b[38;5;241m.\u001b[39mencode(\n\u001b[1;32m     18\u001b[0m     x\u001b[38;5;241m=\u001b[39malt\u001b[38;5;241m.\u001b[39mX(\u001b[38;5;124m'\u001b[39m\u001b[38;5;124mLabor productivity:Q\u001b[39m\u001b[38;5;124m'\u001b[39m, title\u001b[38;5;241m=\u001b[39m\u001b[38;5;124m'\u001b[39m\u001b[38;5;124mLabor Productivity (Index, 2017=100)\u001b[39m\u001b[38;5;124m'\u001b[39m),\n\u001b[1;32m     19\u001b[0m     y\u001b[38;5;241m=\u001b[39malt\u001b[38;5;241m.\u001b[39mY(\u001b[38;5;124m'\u001b[39m\u001b[38;5;124mUnit labor costs:Q\u001b[39m\u001b[38;5;124m'\u001b[39m,  title\u001b[38;5;241m=\u001b[39m\u001b[38;5;124m'\u001b[39m\u001b[38;5;124mUnit Labor Costs (Index, 2017=100)\u001b[39m\u001b[38;5;124m'\u001b[39m, scale\u001b[38;5;241m=\u001b[39malt\u001b[38;5;241m.\u001b[39mScale(domain\u001b[38;5;241m=\u001b[39m[\u001b[38;5;241m60\u001b[39m, \u001b[38;5;241m140\u001b[39m])),\n\u001b[0;32m   (...)\u001b[0m\n\u001b[1;32m     25\u001b[0m     ]\n\u001b[1;32m     26\u001b[0m )\n\u001b[1;32m     28\u001b[0m line   \u001b[38;5;241m=\u001b[39m base\u001b[38;5;241m.\u001b[39mmark_line(color\u001b[38;5;241m=\u001b[39m\u001b[38;5;124m'\u001b[39m\u001b[38;5;124m#1f77b4\u001b[39m\u001b[38;5;124m'\u001b[39m, strokeWidth\u001b[38;5;241m=\u001b[39m\u001b[38;5;241m3\u001b[39m)\u001b[38;5;241m.\u001b[39mtransform_filter(alt\u001b[38;5;241m.\u001b[39mdatum\u001b[38;5;241m.\u001b[39mYear \u001b[38;5;241m<\u001b[39m\u001b[38;5;241m=\u001b[39m year_sel\u001b[38;5;241m.\u001b[39mYear)\n",
      "File \u001b[0;32m/opt/homebrew/anaconda3/lib/python3.12/site-packages/altair/vegalite/v5/api.py:1722\u001b[0m, in \u001b[0;36mselection_point\u001b[0;34m(name, value, bind, empty, expr, encodings, fields, on, clear, resolve, toggle, nearest, **kwds)\u001b[0m\n\u001b[1;32m   1623\u001b[0m \u001b[38;5;28;01mdef\u001b[39;00m \u001b[38;5;21mselection_point\u001b[39m(\n\u001b[1;32m   1624\u001b[0m     name: \u001b[38;5;28mstr\u001b[39m \u001b[38;5;241m|\u001b[39m \u001b[38;5;28;01mNone\u001b[39;00m \u001b[38;5;241m=\u001b[39m \u001b[38;5;28;01mNone\u001b[39;00m,\n\u001b[1;32m   1625\u001b[0m     value: Optional[_SelectionPointValue] \u001b[38;5;241m=\u001b[39m Undefined,\n\u001b[0;32m   (...)\u001b[0m\n\u001b[1;32m   1636\u001b[0m     \u001b[38;5;241m*\u001b[39m\u001b[38;5;241m*\u001b[39mkwds: Any,\n\u001b[1;32m   1637\u001b[0m ) \u001b[38;5;241m-\u001b[39m\u001b[38;5;241m>\u001b[39m Parameter:\n\u001b[1;32m   1638\u001b[0m \u001b[38;5;250m    \u001b[39m\u001b[38;5;124;03m\"\"\"\u001b[39;00m\n\u001b[1;32m   1639\u001b[0m \u001b[38;5;124;03m    Create a point selection parameter. Selection parameters define data queries that are driven by direct manipulation from user input (e.g., mouse clicks or drags). Point selection parameters are used to select multiple discrete data values; the first value is selected on click and additional values toggled on shift-click. To select a continuous range of data values on drag interval selection parameters (`selection_interval`) can be used instead.\u001b[39;00m\n\u001b[1;32m   1640\u001b[0m \n\u001b[0;32m   (...)\u001b[0m\n\u001b[1;32m   1720\u001b[0m \u001b[38;5;124;03m        The parameter object that can be used in chart creation.\u001b[39;00m\n\u001b[1;32m   1721\u001b[0m \u001b[38;5;124;03m    \"\"\"\u001b[39;00m\n\u001b[0;32m-> 1722\u001b[0m     \u001b[38;5;28;01mreturn\u001b[39;00m _selection(\n\u001b[1;32m   1723\u001b[0m         \u001b[38;5;28mtype\u001b[39m\u001b[38;5;241m=\u001b[39m\u001b[38;5;124m\"\u001b[39m\u001b[38;5;124mpoint\u001b[39m\u001b[38;5;124m\"\u001b[39m,\n\u001b[1;32m   1724\u001b[0m         name\u001b[38;5;241m=\u001b[39mname,\n\u001b[1;32m   1725\u001b[0m         value\u001b[38;5;241m=\u001b[39mvalue,\n\u001b[1;32m   1726\u001b[0m         bind\u001b[38;5;241m=\u001b[39mbind,\n\u001b[1;32m   1727\u001b[0m         empty\u001b[38;5;241m=\u001b[39mempty,\n\u001b[1;32m   1728\u001b[0m         expr\u001b[38;5;241m=\u001b[39mexpr,\n\u001b[1;32m   1729\u001b[0m         encodings\u001b[38;5;241m=\u001b[39mencodings,\n\u001b[1;32m   1730\u001b[0m         fields\u001b[38;5;241m=\u001b[39mfields,\n\u001b[1;32m   1731\u001b[0m         on\u001b[38;5;241m=\u001b[39mon,\n\u001b[1;32m   1732\u001b[0m         clear\u001b[38;5;241m=\u001b[39mclear,\n\u001b[1;32m   1733\u001b[0m         resolve\u001b[38;5;241m=\u001b[39mresolve,\n\u001b[1;32m   1734\u001b[0m         toggle\u001b[38;5;241m=\u001b[39mtoggle,\n\u001b[1;32m   1735\u001b[0m         nearest\u001b[38;5;241m=\u001b[39mnearest,\n\u001b[1;32m   1736\u001b[0m         \u001b[38;5;241m*\u001b[39m\u001b[38;5;241m*\u001b[39mkwds,\n\u001b[1;32m   1737\u001b[0m     )\n",
      "File \u001b[0;32m/opt/homebrew/anaconda3/lib/python3.12/site-packages/altair/vegalite/v5/api.py:1443\u001b[0m, in \u001b[0;36m_selection\u001b[0;34m(type, **kwds)\u001b[0m\n\u001b[1;32m   1440\u001b[0m     msg \u001b[38;5;241m=\u001b[39m \u001b[38;5;124m\"\"\"\u001b[39m\u001b[38;5;124m'\u001b[39m\u001b[38;5;124mtype\u001b[39m\u001b[38;5;124m'\u001b[39m\u001b[38;5;124m must be \u001b[39m\u001b[38;5;124m'\u001b[39m\u001b[38;5;124mpoint\u001b[39m\u001b[38;5;124m'\u001b[39m\u001b[38;5;124m or \u001b[39m\u001b[38;5;124m'\u001b[39m\u001b[38;5;124minterval\u001b[39m\u001b[38;5;124m'\u001b[39m\u001b[38;5;124m\"\"\"\u001b[39m\n\u001b[1;32m   1441\u001b[0m     \u001b[38;5;28;01mraise\u001b[39;00m \u001b[38;5;167;01mValueError\u001b[39;00m(msg)\n\u001b[0;32m-> 1443\u001b[0m \u001b[38;5;28;01mreturn\u001b[39;00m param(select\u001b[38;5;241m=\u001b[39mselect, \u001b[38;5;241m*\u001b[39m\u001b[38;5;241m*\u001b[39mparam_kwds)\n",
      "File \u001b[0;32m/opt/homebrew/anaconda3/lib/python3.12/site-packages/altair/vegalite/v5/api.py:1413\u001b[0m, in \u001b[0;36mparam\u001b[0;34m(name, value, bind, empty, expr, **kwds)\u001b[0m\n\u001b[1;32m   1411\u001b[0m     parameter\u001b[38;5;241m.\u001b[39mparam_type \u001b[38;5;241m=\u001b[39m \u001b[38;5;124m\"\u001b[39m\u001b[38;5;124mselection\u001b[39m\u001b[38;5;124m\"\u001b[39m\n\u001b[1;32m   1412\u001b[0m \u001b[38;5;28;01melse\u001b[39;00m:\n\u001b[0;32m-> 1413\u001b[0m     parameter\u001b[38;5;241m.\u001b[39mparam \u001b[38;5;241m=\u001b[39m core\u001b[38;5;241m.\u001b[39mSelectionParameter(\n\u001b[1;32m   1414\u001b[0m         name\u001b[38;5;241m=\u001b[39mparameter\u001b[38;5;241m.\u001b[39mname, bind\u001b[38;5;241m=\u001b[39mbind, value\u001b[38;5;241m=\u001b[39mvalue, expr\u001b[38;5;241m=\u001b[39mexpr, \u001b[38;5;241m*\u001b[39m\u001b[38;5;241m*\u001b[39mkwds\n\u001b[1;32m   1415\u001b[0m     )\n\u001b[1;32m   1416\u001b[0m     parameter\u001b[38;5;241m.\u001b[39mparam_type \u001b[38;5;241m=\u001b[39m \u001b[38;5;124m\"\u001b[39m\u001b[38;5;124mselection\u001b[39m\u001b[38;5;124m\"\u001b[39m\n\u001b[1;32m   1418\u001b[0m \u001b[38;5;28;01mreturn\u001b[39;00m parameter\n",
      "File \u001b[0;32m/opt/homebrew/anaconda3/lib/python3.12/site-packages/altair/vegalite/v5/schema/core.py:20100\u001b[0m, in \u001b[0;36mSelectionParameter.__init__\u001b[0;34m(self, name, select, bind, value, **kwds)\u001b[0m\n\u001b[1;32m  20090\u001b[0m \u001b[38;5;28;01mdef\u001b[39;00m \u001b[38;5;21m__init__\u001b[39m(\n\u001b[1;32m  20091\u001b[0m     \u001b[38;5;28mself\u001b[39m,\n\u001b[1;32m  20092\u001b[0m     name: Optional[\u001b[38;5;28mstr\u001b[39m \u001b[38;5;241m|\u001b[39m SchemaBase] \u001b[38;5;241m=\u001b[39m Undefined,\n\u001b[0;32m   (...)\u001b[0m\n\u001b[1;32m  20098\u001b[0m     \u001b[38;5;241m*\u001b[39m\u001b[38;5;241m*\u001b[39mkwds,\n\u001b[1;32m  20099\u001b[0m ):\n\u001b[0;32m> 20100\u001b[0m     \u001b[38;5;28msuper\u001b[39m()\u001b[38;5;241m.\u001b[39m\u001b[38;5;21m__init__\u001b[39m(name\u001b[38;5;241m=\u001b[39mname, select\u001b[38;5;241m=\u001b[39mselect, bind\u001b[38;5;241m=\u001b[39mbind, value\u001b[38;5;241m=\u001b[39mvalue, \u001b[38;5;241m*\u001b[39m\u001b[38;5;241m*\u001b[39mkwds)\n",
      "File \u001b[0;32m/opt/homebrew/anaconda3/lib/python3.12/site-packages/altair/utils/schemapi.py:1043\u001b[0m, in \u001b[0;36mSchemaBase.__init__\u001b[0;34m(self, *args, **kwds)\u001b[0m\n\u001b[1;32m   1040\u001b[0m \u001b[38;5;28mobject\u001b[39m\u001b[38;5;241m.\u001b[39m\u001b[38;5;21m__setattr__\u001b[39m(\u001b[38;5;28mself\u001b[39m, \u001b[38;5;124m\"\u001b[39m\u001b[38;5;124m_kwds\u001b[39m\u001b[38;5;124m\"\u001b[39m, kwds)\n\u001b[1;32m   1042\u001b[0m \u001b[38;5;28;01mif\u001b[39;00m DEBUG_MODE \u001b[38;5;129;01mand\u001b[39;00m \u001b[38;5;28mself\u001b[39m\u001b[38;5;241m.\u001b[39m_class_is_valid_at_instantiation:\n\u001b[0;32m-> 1043\u001b[0m     \u001b[38;5;28mself\u001b[39m\u001b[38;5;241m.\u001b[39mto_dict(validate\u001b[38;5;241m=\u001b[39m\u001b[38;5;28;01mTrue\u001b[39;00m)\n",
      "File \u001b[0;32m/opt/homebrew/anaconda3/lib/python3.12/site-packages/altair/utils/schemapi.py:1169\u001b[0m, in \u001b[0;36mSchemaBase.to_dict\u001b[0;34m(self, validate, ignore, context)\u001b[0m\n\u001b[1;32m   1167\u001b[0m         \u001b[38;5;28mself\u001b[39m\u001b[38;5;241m.\u001b[39mvalidate(result)\n\u001b[1;32m   1168\u001b[0m     \u001b[38;5;28;01mexcept\u001b[39;00m jsonschema\u001b[38;5;241m.\u001b[39mValidationError \u001b[38;5;28;01mas\u001b[39;00m err:\n\u001b[0;32m-> 1169\u001b[0m         \u001b[38;5;28;01mraise\u001b[39;00m SchemaValidationError(\u001b[38;5;28mself\u001b[39m, err) \u001b[38;5;28;01mfrom\u001b[39;00m \u001b[38;5;28;01mNone\u001b[39;00m\n\u001b[1;32m   1170\u001b[0m \u001b[38;5;28;01mreturn\u001b[39;00m result\n",
      "\u001b[0;31mSchemaValidationError\u001b[0m: '2013' is an invalid value for `Year`. Valid values are of type 'array'."
     ]
    }
   ],
   "source": [
    "# draw core chart\n",
    "year_slider = alt.binding_range(\n",
    "    name='Show up to Year: ',\n",
    "    min=int(df_year['Year'].min()),\n",
    "    max=int(df_year['Year'].max()),\n",
    "    step=1\n",
    ")\n",
    "year_sel = alt.selection_point(\n",
    "    name='year_sel',               \n",
    "    fields=['Year'],                \n",
    "    bind=year_slider,        \n",
    "    value={'Year': int(df_year['Year'].min())},  \n",
    "    empty='none',                       \n",
    "    on='input'                        \n",
    ")\n",
    "\n",
    "base = alt.Chart(df_year).encode(\n",
    "    x=alt.X('Labor productivity:Q', title='Labor Productivity (Index, 2017=100)'),\n",
    "    y=alt.Y('Unit labor costs:Q',  title='Unit Labor Costs (Index, 2017=100)', scale=alt.Scale(domain=[60, 140])),\n",
    "    order=alt.Order('Year:O'),\n",
    "    tooltip=[\n",
    "      alt.Tooltip('Year:O', title='Year'),\n",
    "      alt.Tooltip('Labor productivity:Q', format='.2f'),\n",
    "      alt.Tooltip('Unit labor costs:Q', format='.2f'),\n",
    "    ]\n",
    ")\n",
    "\n",
    "line   = base.mark_line(color='#1f77b4', strokeWidth=3).transform_filter(alt.datum.Year <= year_sel.Year)\n",
    "points = base.mark_point(color='#ff7f0e', size=100, filled=True).transform_filter(alt.datum.Year <= year_sel.Year)\n",
    "\n",
    "\n",
    "#year_labels = base.mark_text(dy=16, fontSize=14).encode(text='Year:O')\n",
    "\n",
    "chart = (line + points).properties(\n",
    "    width=800,\n",
    "    title='Annual Connected Scatter: LP vs. ULC with Arrows'\n",
    ")\n",
    "\n",
    "chart"
   ]
  },
  {
   "cell_type": "code",
   "execution_count": null,
   "metadata": {},
   "outputs": [
    {
     "data": {
      "application/vnd.plotly.v1+json": {
       "config": {
        "plotlyServerURL": "https://plot.ly"
       },
       "data": [
        {
         "line": {
          "color": "steelblue",
          "width": 3
         },
         "marker": {
          "color": "orange",
          "size": 12
         },
         "mode": "lines+markers+text",
         "text": [
          "2013"
         ],
         "textposition": "bottom center",
         "type": "scatter",
         "x": [
          102.84175
         ],
         "y": [
          88.687
         ]
        }
       ],
       "frames": [
        {
         "data": [
          {
           "line": {
            "color": "steelblue",
            "width": 3
           },
           "marker": {
            "color": "orange",
            "size": 12
           },
           "mode": "lines+markers+text",
           "text": [
            "2013"
           ],
           "textposition": "bottom center",
           "type": "scatter",
           "x": [
            102.84175
           ],
           "y": [
            88.687
           ]
          }
         ],
         "name": "2013"
        },
        {
         "data": [
          {
           "line": {
            "color": "steelblue",
            "width": 3
           },
           "marker": {
            "color": "orange",
            "size": 12
           },
           "mode": "lines+markers+text",
           "text": [
            "2013",
            "2014"
           ],
           "textposition": "bottom center",
           "type": "scatter",
           "x": [
            102.84175,
            102.54325
           ],
           "y": [
            88.687,
            91.2965
           ]
          }
         ],
         "name": "2014"
        },
        {
         "data": [
          {
           "line": {
            "color": "steelblue",
            "width": 3
           },
           "marker": {
            "color": "orange",
            "size": 12
           },
           "mode": "lines+markers+text",
           "text": [
            "2013",
            "2014",
            "2015"
           ],
           "textposition": "bottom center",
           "type": "scatter",
           "x": [
            102.84175,
            102.54325,
            100.76275000000001
           ],
           "y": [
            88.687,
            91.2965,
            95.46549999999999
           ]
          }
         ],
         "name": "2015"
        },
        {
         "data": [
          {
           "line": {
            "color": "steelblue",
            "width": 3
           },
           "marker": {
            "color": "orange",
            "size": 12
           },
           "mode": "lines+markers+text",
           "text": [
            "2013",
            "2014",
            "2015",
            "2016"
           ],
           "textposition": "bottom center",
           "type": "scatter",
           "x": [
            102.84175,
            102.54325,
            100.76275000000001,
            100.713
           ],
           "y": [
            88.687,
            91.2965,
            95.46549999999999,
            96.18725
           ]
          }
         ],
         "name": "2016"
        },
        {
         "data": [
          {
           "line": {
            "color": "steelblue",
            "width": 3
           },
           "marker": {
            "color": "orange",
            "size": 12
           },
           "mode": "lines+markers+text",
           "text": [
            "2013",
            "2014",
            "2015",
            "2016",
            "2017"
           ],
           "textposition": "bottom center",
           "type": "scatter",
           "x": [
            102.84175,
            102.54325,
            100.76275000000001,
            100.713,
            100.0085
           ],
           "y": [
            88.687,
            91.2965,
            95.46549999999999,
            96.18725,
            99.9975
           ]
          }
         ],
         "name": "2017"
        },
        {
         "data": [
          {
           "line": {
            "color": "steelblue",
            "width": 3
           },
           "marker": {
            "color": "orange",
            "size": 12
           },
           "mode": "lines+markers+text",
           "text": [
            "2013",
            "2014",
            "2015",
            "2016",
            "2017",
            "2018"
           ],
           "textposition": "bottom center",
           "type": "scatter",
           "x": [
            102.84175,
            102.54325,
            100.76275000000001,
            100.713,
            100.0085,
            100.22675
           ],
           "y": [
            88.687,
            91.2965,
            95.46549999999999,
            96.18725,
            99.9975,
            102.189
           ]
          }
         ],
         "name": "2018"
        },
        {
         "data": [
          {
           "line": {
            "color": "steelblue",
            "width": 3
           },
           "marker": {
            "color": "orange",
            "size": 12
           },
           "mode": "lines+markers+text",
           "text": [
            "2013",
            "2014",
            "2015",
            "2016",
            "2017",
            "2018",
            "2019"
           ],
           "textposition": "bottom center",
           "type": "scatter",
           "x": [
            102.84175,
            102.54325,
            100.76275000000001,
            100.713,
            100.0085,
            100.22675,
            97.90625
           ],
           "y": [
            88.687,
            91.2965,
            95.46549999999999,
            96.18725,
            99.9975,
            102.189,
            107.20625
           ]
          }
         ],
         "name": "2019"
        },
        {
         "data": [
          {
           "line": {
            "color": "steelblue",
            "width": 3
           },
           "marker": {
            "color": "orange",
            "size": 12
           },
           "mode": "lines+markers+text",
           "text": [
            "2013",
            "2014",
            "2015",
            "2016",
            "2017",
            "2018",
            "2019",
            "2020"
           ],
           "textposition": "bottom center",
           "type": "scatter",
           "x": [
            102.84175,
            102.54325,
            100.76275000000001,
            100.713,
            100.0085,
            100.22675,
            97.90625,
            97.7895
           ],
           "y": [
            88.687,
            91.2965,
            95.46549999999999,
            96.18725,
            99.9975,
            102.189,
            107.20625,
            114.539
           ]
          }
         ],
         "name": "2020"
        },
        {
         "data": [
          {
           "line": {
            "color": "steelblue",
            "width": 3
           },
           "marker": {
            "color": "orange",
            "size": 12
           },
           "mode": "lines+markers+text",
           "text": [
            "2013",
            "2014",
            "2015",
            "2016",
            "2017",
            "2018",
            "2019",
            "2020",
            "2021"
           ],
           "textposition": "bottom center",
           "type": "scatter",
           "x": [
            102.84175,
            102.54325,
            100.76275000000001,
            100.713,
            100.0085,
            100.22675,
            97.90625,
            97.7895,
            99.48349999999999
           ],
           "y": [
            88.687,
            91.2965,
            95.46549999999999,
            96.18725,
            99.9975,
            102.189,
            107.20625,
            114.539,
            115.33175
           ]
          }
         ],
         "name": "2021"
        },
        {
         "data": [
          {
           "line": {
            "color": "steelblue",
            "width": 3
           },
           "marker": {
            "color": "orange",
            "size": 12
           },
           "mode": "lines+markers+text",
           "text": [
            "2013",
            "2014",
            "2015",
            "2016",
            "2017",
            "2018",
            "2019",
            "2020",
            "2021",
            "2022"
           ],
           "textposition": "bottom center",
           "type": "scatter",
           "x": [
            102.84175,
            102.54325,
            100.76275000000001,
            100.713,
            100.0085,
            100.22675,
            97.90625,
            97.7895,
            99.48349999999999,
            98.189
           ],
           "y": [
            88.687,
            91.2965,
            95.46549999999999,
            96.18725,
            99.9975,
            102.189,
            107.20625,
            114.539,
            115.33175,
            120.61175
           ]
          }
         ],
         "name": "2022"
        },
        {
         "data": [
          {
           "line": {
            "color": "steelblue",
            "width": 3
           },
           "marker": {
            "color": "orange",
            "size": 12
           },
           "mode": "lines+markers+text",
           "text": [
            "2013",
            "2014",
            "2015",
            "2016",
            "2017",
            "2018",
            "2019",
            "2020",
            "2021",
            "2022",
            "2023"
           ],
           "textposition": "bottom center",
           "type": "scatter",
           "x": [
            102.84175,
            102.54325,
            100.76275000000001,
            100.713,
            100.0085,
            100.22675,
            97.90625,
            97.7895,
            99.48349999999999,
            98.189,
            98.03075
           ],
           "y": [
            88.687,
            91.2965,
            95.46549999999999,
            96.18725,
            99.9975,
            102.189,
            107.20625,
            114.539,
            115.33175,
            120.61175,
            126.7575
           ]
          }
         ],
         "name": "2023"
        },
        {
         "data": [
          {
           "line": {
            "color": "steelblue",
            "width": 3
           },
           "marker": {
            "color": "orange",
            "size": 12
           },
           "mode": "lines+markers+text",
           "text": [
            "2013",
            "2014",
            "2015",
            "2016",
            "2017",
            "2018",
            "2019",
            "2020",
            "2021",
            "2022",
            "2023",
            "2024"
           ],
           "textposition": "bottom center",
           "type": "scatter",
           "x": [
            102.84175,
            102.54325,
            100.76275000000001,
            100.713,
            100.0085,
            100.22675,
            97.90625,
            97.7895,
            99.48349999999999,
            98.189,
            98.03075,
            98.67175
           ],
           "y": [
            88.687,
            91.2965,
            95.46549999999999,
            96.18725,
            99.9975,
            102.189,
            107.20625,
            114.539,
            115.33175,
            120.61175,
            126.7575,
            130.99
           ]
          }
         ],
         "name": "2024"
        }
       ],
       "layout": {
        "sliders": [
         {
          "active": 0,
          "currentvalue": {
           "prefix": "Year: "
          },
          "pad": {
           "t": 50
          },
          "steps": [
           {
            "args": [
             [
              "2013"
             ],
             {
              "frame": {
               "duration": 500,
               "redraw": true
              },
              "mode": "immediate"
             }
            ],
            "label": "2013",
            "method": "animate"
           },
           {
            "args": [
             [
              "2014"
             ],
             {
              "frame": {
               "duration": 500,
               "redraw": true
              },
              "mode": "immediate"
             }
            ],
            "label": "2014",
            "method": "animate"
           },
           {
            "args": [
             [
              "2015"
             ],
             {
              "frame": {
               "duration": 500,
               "redraw": true
              },
              "mode": "immediate"
             }
            ],
            "label": "2015",
            "method": "animate"
           },
           {
            "args": [
             [
              "2016"
             ],
             {
              "frame": {
               "duration": 500,
               "redraw": true
              },
              "mode": "immediate"
             }
            ],
            "label": "2016",
            "method": "animate"
           },
           {
            "args": [
             [
              "2017"
             ],
             {
              "frame": {
               "duration": 500,
               "redraw": true
              },
              "mode": "immediate"
             }
            ],
            "label": "2017",
            "method": "animate"
           },
           {
            "args": [
             [
              "2018"
             ],
             {
              "frame": {
               "duration": 500,
               "redraw": true
              },
              "mode": "immediate"
             }
            ],
            "label": "2018",
            "method": "animate"
           },
           {
            "args": [
             [
              "2019"
             ],
             {
              "frame": {
               "duration": 500,
               "redraw": true
              },
              "mode": "immediate"
             }
            ],
            "label": "2019",
            "method": "animate"
           },
           {
            "args": [
             [
              "2020"
             ],
             {
              "frame": {
               "duration": 500,
               "redraw": true
              },
              "mode": "immediate"
             }
            ],
            "label": "2020",
            "method": "animate"
           },
           {
            "args": [
             [
              "2021"
             ],
             {
              "frame": {
               "duration": 500,
               "redraw": true
              },
              "mode": "immediate"
             }
            ],
            "label": "2021",
            "method": "animate"
           },
           {
            "args": [
             [
              "2022"
             ],
             {
              "frame": {
               "duration": 500,
               "redraw": true
              },
              "mode": "immediate"
             }
            ],
            "label": "2022",
            "method": "animate"
           },
           {
            "args": [
             [
              "2023"
             ],
             {
              "frame": {
               "duration": 500,
               "redraw": true
              },
              "mode": "immediate"
             }
            ],
            "label": "2023",
            "method": "animate"
           },
           {
            "args": [
             [
              "2024"
             ],
             {
              "frame": {
               "duration": 500,
               "redraw": true
              },
              "mode": "immediate"
             }
            ],
            "label": "2024",
            "method": "animate"
           }
          ]
         }
        ],
        "template": {
         "data": {
          "bar": [
           {
            "error_x": {
             "color": "#2a3f5f"
            },
            "error_y": {
             "color": "#2a3f5f"
            },
            "marker": {
             "line": {
              "color": "#E5ECF6",
              "width": 0.5
             },
             "pattern": {
              "fillmode": "overlay",
              "size": 10,
              "solidity": 0.2
             }
            },
            "type": "bar"
           }
          ],
          "barpolar": [
           {
            "marker": {
             "line": {
              "color": "#E5ECF6",
              "width": 0.5
             },
             "pattern": {
              "fillmode": "overlay",
              "size": 10,
              "solidity": 0.2
             }
            },
            "type": "barpolar"
           }
          ],
          "carpet": [
           {
            "aaxis": {
             "endlinecolor": "#2a3f5f",
             "gridcolor": "white",
             "linecolor": "white",
             "minorgridcolor": "white",
             "startlinecolor": "#2a3f5f"
            },
            "baxis": {
             "endlinecolor": "#2a3f5f",
             "gridcolor": "white",
             "linecolor": "white",
             "minorgridcolor": "white",
             "startlinecolor": "#2a3f5f"
            },
            "type": "carpet"
           }
          ],
          "choropleth": [
           {
            "colorbar": {
             "outlinewidth": 0,
             "ticks": ""
            },
            "type": "choropleth"
           }
          ],
          "contour": [
           {
            "colorbar": {
             "outlinewidth": 0,
             "ticks": ""
            },
            "colorscale": [
             [
              0,
              "#0d0887"
             ],
             [
              0.1111111111111111,
              "#46039f"
             ],
             [
              0.2222222222222222,
              "#7201a8"
             ],
             [
              0.3333333333333333,
              "#9c179e"
             ],
             [
              0.4444444444444444,
              "#bd3786"
             ],
             [
              0.5555555555555556,
              "#d8576b"
             ],
             [
              0.6666666666666666,
              "#ed7953"
             ],
             [
              0.7777777777777778,
              "#fb9f3a"
             ],
             [
              0.8888888888888888,
              "#fdca26"
             ],
             [
              1,
              "#f0f921"
             ]
            ],
            "type": "contour"
           }
          ],
          "contourcarpet": [
           {
            "colorbar": {
             "outlinewidth": 0,
             "ticks": ""
            },
            "type": "contourcarpet"
           }
          ],
          "heatmap": [
           {
            "colorbar": {
             "outlinewidth": 0,
             "ticks": ""
            },
            "colorscale": [
             [
              0,
              "#0d0887"
             ],
             [
              0.1111111111111111,
              "#46039f"
             ],
             [
              0.2222222222222222,
              "#7201a8"
             ],
             [
              0.3333333333333333,
              "#9c179e"
             ],
             [
              0.4444444444444444,
              "#bd3786"
             ],
             [
              0.5555555555555556,
              "#d8576b"
             ],
             [
              0.6666666666666666,
              "#ed7953"
             ],
             [
              0.7777777777777778,
              "#fb9f3a"
             ],
             [
              0.8888888888888888,
              "#fdca26"
             ],
             [
              1,
              "#f0f921"
             ]
            ],
            "type": "heatmap"
           }
          ],
          "heatmapgl": [
           {
            "colorbar": {
             "outlinewidth": 0,
             "ticks": ""
            },
            "colorscale": [
             [
              0,
              "#0d0887"
             ],
             [
              0.1111111111111111,
              "#46039f"
             ],
             [
              0.2222222222222222,
              "#7201a8"
             ],
             [
              0.3333333333333333,
              "#9c179e"
             ],
             [
              0.4444444444444444,
              "#bd3786"
             ],
             [
              0.5555555555555556,
              "#d8576b"
             ],
             [
              0.6666666666666666,
              "#ed7953"
             ],
             [
              0.7777777777777778,
              "#fb9f3a"
             ],
             [
              0.8888888888888888,
              "#fdca26"
             ],
             [
              1,
              "#f0f921"
             ]
            ],
            "type": "heatmapgl"
           }
          ],
          "histogram": [
           {
            "marker": {
             "pattern": {
              "fillmode": "overlay",
              "size": 10,
              "solidity": 0.2
             }
            },
            "type": "histogram"
           }
          ],
          "histogram2d": [
           {
            "colorbar": {
             "outlinewidth": 0,
             "ticks": ""
            },
            "colorscale": [
             [
              0,
              "#0d0887"
             ],
             [
              0.1111111111111111,
              "#46039f"
             ],
             [
              0.2222222222222222,
              "#7201a8"
             ],
             [
              0.3333333333333333,
              "#9c179e"
             ],
             [
              0.4444444444444444,
              "#bd3786"
             ],
             [
              0.5555555555555556,
              "#d8576b"
             ],
             [
              0.6666666666666666,
              "#ed7953"
             ],
             [
              0.7777777777777778,
              "#fb9f3a"
             ],
             [
              0.8888888888888888,
              "#fdca26"
             ],
             [
              1,
              "#f0f921"
             ]
            ],
            "type": "histogram2d"
           }
          ],
          "histogram2dcontour": [
           {
            "colorbar": {
             "outlinewidth": 0,
             "ticks": ""
            },
            "colorscale": [
             [
              0,
              "#0d0887"
             ],
             [
              0.1111111111111111,
              "#46039f"
             ],
             [
              0.2222222222222222,
              "#7201a8"
             ],
             [
              0.3333333333333333,
              "#9c179e"
             ],
             [
              0.4444444444444444,
              "#bd3786"
             ],
             [
              0.5555555555555556,
              "#d8576b"
             ],
             [
              0.6666666666666666,
              "#ed7953"
             ],
             [
              0.7777777777777778,
              "#fb9f3a"
             ],
             [
              0.8888888888888888,
              "#fdca26"
             ],
             [
              1,
              "#f0f921"
             ]
            ],
            "type": "histogram2dcontour"
           }
          ],
          "mesh3d": [
           {
            "colorbar": {
             "outlinewidth": 0,
             "ticks": ""
            },
            "type": "mesh3d"
           }
          ],
          "parcoords": [
           {
            "line": {
             "colorbar": {
              "outlinewidth": 0,
              "ticks": ""
             }
            },
            "type": "parcoords"
           }
          ],
          "pie": [
           {
            "automargin": true,
            "type": "pie"
           }
          ],
          "scatter": [
           {
            "fillpattern": {
             "fillmode": "overlay",
             "size": 10,
             "solidity": 0.2
            },
            "type": "scatter"
           }
          ],
          "scatter3d": [
           {
            "line": {
             "colorbar": {
              "outlinewidth": 0,
              "ticks": ""
             }
            },
            "marker": {
             "colorbar": {
              "outlinewidth": 0,
              "ticks": ""
             }
            },
            "type": "scatter3d"
           }
          ],
          "scattercarpet": [
           {
            "marker": {
             "colorbar": {
              "outlinewidth": 0,
              "ticks": ""
             }
            },
            "type": "scattercarpet"
           }
          ],
          "scattergeo": [
           {
            "marker": {
             "colorbar": {
              "outlinewidth": 0,
              "ticks": ""
             }
            },
            "type": "scattergeo"
           }
          ],
          "scattergl": [
           {
            "marker": {
             "colorbar": {
              "outlinewidth": 0,
              "ticks": ""
             }
            },
            "type": "scattergl"
           }
          ],
          "scattermapbox": [
           {
            "marker": {
             "colorbar": {
              "outlinewidth": 0,
              "ticks": ""
             }
            },
            "type": "scattermapbox"
           }
          ],
          "scatterpolar": [
           {
            "marker": {
             "colorbar": {
              "outlinewidth": 0,
              "ticks": ""
             }
            },
            "type": "scatterpolar"
           }
          ],
          "scatterpolargl": [
           {
            "marker": {
             "colorbar": {
              "outlinewidth": 0,
              "ticks": ""
             }
            },
            "type": "scatterpolargl"
           }
          ],
          "scatterternary": [
           {
            "marker": {
             "colorbar": {
              "outlinewidth": 0,
              "ticks": ""
             }
            },
            "type": "scatterternary"
           }
          ],
          "surface": [
           {
            "colorbar": {
             "outlinewidth": 0,
             "ticks": ""
            },
            "colorscale": [
             [
              0,
              "#0d0887"
             ],
             [
              0.1111111111111111,
              "#46039f"
             ],
             [
              0.2222222222222222,
              "#7201a8"
             ],
             [
              0.3333333333333333,
              "#9c179e"
             ],
             [
              0.4444444444444444,
              "#bd3786"
             ],
             [
              0.5555555555555556,
              "#d8576b"
             ],
             [
              0.6666666666666666,
              "#ed7953"
             ],
             [
              0.7777777777777778,
              "#fb9f3a"
             ],
             [
              0.8888888888888888,
              "#fdca26"
             ],
             [
              1,
              "#f0f921"
             ]
            ],
            "type": "surface"
           }
          ],
          "table": [
           {
            "cells": {
             "fill": {
              "color": "#EBF0F8"
             },
             "line": {
              "color": "white"
             }
            },
            "header": {
             "fill": {
              "color": "#C8D4E3"
             },
             "line": {
              "color": "white"
             }
            },
            "type": "table"
           }
          ]
         },
         "layout": {
          "annotationdefaults": {
           "arrowcolor": "#2a3f5f",
           "arrowhead": 0,
           "arrowwidth": 1
          },
          "autotypenumbers": "strict",
          "coloraxis": {
           "colorbar": {
            "outlinewidth": 0,
            "ticks": ""
           }
          },
          "colorscale": {
           "diverging": [
            [
             0,
             "#8e0152"
            ],
            [
             0.1,
             "#c51b7d"
            ],
            [
             0.2,
             "#de77ae"
            ],
            [
             0.3,
             "#f1b6da"
            ],
            [
             0.4,
             "#fde0ef"
            ],
            [
             0.5,
             "#f7f7f7"
            ],
            [
             0.6,
             "#e6f5d0"
            ],
            [
             0.7,
             "#b8e186"
            ],
            [
             0.8,
             "#7fbc41"
            ],
            [
             0.9,
             "#4d9221"
            ],
            [
             1,
             "#276419"
            ]
           ],
           "sequential": [
            [
             0,
             "#0d0887"
            ],
            [
             0.1111111111111111,
             "#46039f"
            ],
            [
             0.2222222222222222,
             "#7201a8"
            ],
            [
             0.3333333333333333,
             "#9c179e"
            ],
            [
             0.4444444444444444,
             "#bd3786"
            ],
            [
             0.5555555555555556,
             "#d8576b"
            ],
            [
             0.6666666666666666,
             "#ed7953"
            ],
            [
             0.7777777777777778,
             "#fb9f3a"
            ],
            [
             0.8888888888888888,
             "#fdca26"
            ],
            [
             1,
             "#f0f921"
            ]
           ],
           "sequentialminus": [
            [
             0,
             "#0d0887"
            ],
            [
             0.1111111111111111,
             "#46039f"
            ],
            [
             0.2222222222222222,
             "#7201a8"
            ],
            [
             0.3333333333333333,
             "#9c179e"
            ],
            [
             0.4444444444444444,
             "#bd3786"
            ],
            [
             0.5555555555555556,
             "#d8576b"
            ],
            [
             0.6666666666666666,
             "#ed7953"
            ],
            [
             0.7777777777777778,
             "#fb9f3a"
            ],
            [
             0.8888888888888888,
             "#fdca26"
            ],
            [
             1,
             "#f0f921"
            ]
           ]
          },
          "colorway": [
           "#636efa",
           "#EF553B",
           "#00cc96",
           "#ab63fa",
           "#FFA15A",
           "#19d3f3",
           "#FF6692",
           "#B6E880",
           "#FF97FF",
           "#FECB52"
          ],
          "font": {
           "color": "#2a3f5f"
          },
          "geo": {
           "bgcolor": "white",
           "lakecolor": "white",
           "landcolor": "#E5ECF6",
           "showlakes": true,
           "showland": true,
           "subunitcolor": "white"
          },
          "hoverlabel": {
           "align": "left"
          },
          "hovermode": "closest",
          "mapbox": {
           "style": "light"
          },
          "paper_bgcolor": "white",
          "plot_bgcolor": "#E5ECF6",
          "polar": {
           "angularaxis": {
            "gridcolor": "white",
            "linecolor": "white",
            "ticks": ""
           },
           "bgcolor": "#E5ECF6",
           "radialaxis": {
            "gridcolor": "white",
            "linecolor": "white",
            "ticks": ""
           }
          },
          "scene": {
           "xaxis": {
            "backgroundcolor": "#E5ECF6",
            "gridcolor": "white",
            "gridwidth": 2,
            "linecolor": "white",
            "showbackground": true,
            "ticks": "",
            "zerolinecolor": "white"
           },
           "yaxis": {
            "backgroundcolor": "#E5ECF6",
            "gridcolor": "white",
            "gridwidth": 2,
            "linecolor": "white",
            "showbackground": true,
            "ticks": "",
            "zerolinecolor": "white"
           },
           "zaxis": {
            "backgroundcolor": "#E5ECF6",
            "gridcolor": "white",
            "gridwidth": 2,
            "linecolor": "white",
            "showbackground": true,
            "ticks": "",
            "zerolinecolor": "white"
           }
          },
          "shapedefaults": {
           "line": {
            "color": "#2a3f5f"
           }
          },
          "ternary": {
           "aaxis": {
            "gridcolor": "white",
            "linecolor": "white",
            "ticks": ""
           },
           "baxis": {
            "gridcolor": "white",
            "linecolor": "white",
            "ticks": ""
           },
           "bgcolor": "#E5ECF6",
           "caxis": {
            "gridcolor": "white",
            "linecolor": "white",
            "ticks": ""
           }
          },
          "title": {
           "x": 0.05
          },
          "xaxis": {
           "automargin": true,
           "gridcolor": "white",
           "linecolor": "white",
           "ticks": "",
           "title": {
            "standoff": 15
           },
           "zerolinecolor": "white",
           "zerolinewidth": 2
          },
          "yaxis": {
           "automargin": true,
           "gridcolor": "white",
           "linecolor": "white",
           "ticks": "",
           "title": {
            "standoff": 15
           },
           "zerolinecolor": "white",
           "zerolinewidth": 2
          }
         }
        },
        "title": {
         "text": "Annual Connected Scatter: LP vs. ULC"
        },
        "updatemenus": [
         {
          "buttons": [
           {
            "args": [
             null,
             {
              "frame": {
               "duration": 800,
               "redraw": true
              },
              "fromcurrent": true
             }
            ],
            "label": "Play",
            "method": "animate"
           }
          ],
          "pad": {
           "r": 10,
           "t": 10
          },
          "showactive": false,
          "type": "buttons",
          "x": 0.1,
          "y": 0.05
         }
        ],
        "xaxis": {
         "range": [
          96.7895,
          103.84175
         ],
         "title": {
          "text": "Labor Productivity (Index, 2017=100)"
         }
        },
        "yaxis": {
         "range": [
          83.687,
          135.99
         ],
         "title": {
          "text": "Unit Labor Costs (Index, 2017=100)"
         }
        }
       }
      }
     },
     "metadata": {},
     "output_type": "display_data"
    }
   ],
   "source": [
    "import pandas as pd\n",
    "import plotly.graph_objects as go\n",
    "\n",
    "\n",
    "\n",
    "years = df_year['Year'].tolist()\n",
    "min_x, max_x = df_year['Labor productivity'].min() - 1, df_year['Labor productivity'].max() + 1\n",
    "min_y, max_y = df_year['Unit labor costs'].min() - 5, df_year['Unit labor costs'].max() + 5\n",
    "\n",
    "\n",
    "init = df_year[df_year['Year'] == years[0]]\n",
    "fig = go.Figure(\n",
    "    data=[\n",
    "        go.Scatter(\n",
    "            x=init['Labor productivity'],\n",
    "            y=init['Unit labor costs'],\n",
    "            mode='lines+markers+text',\n",
    "            text=init['Year'].astype(str),\n",
    "            textposition='bottom center',\n",
    "            marker=dict(size=12, color='orange'),\n",
    "            line=dict(width=3, color='steelblue'),\n",
    "        )\n",
    "    ],\n",
    "    layout=go.Layout(\n",
    "        title=\"Annual Connected Scatter: LP vs. ULC\",\n",
    "        xaxis=dict(title=\"Labor Productivity (Index, 2017=100)\", range=[min_x, max_x]),\n",
    "        yaxis=dict(title=\"Unit Labor Costs (Index, 2017=100)\", range=[min_y, max_y]),\n",
    "        updatemenus=[dict(\n",
    "            type=\"buttons\",\n",
    "            buttons=[dict(label=\"Play\",\n",
    "                          method=\"animate\",\n",
    "                          args=[None, {\"frame\": {\"duration\": 800, \"redraw\": True},\n",
    "                                       \"fromcurrent\": True}])],\n",
    "            pad={\"r\":10,\"t\":10}, showactive=False, x=0.1, y=0.05\n",
    "        )],\n",
    "        sliders=[dict(\n",
    "            active=0,\n",
    "            currentvalue={\"prefix\":\"Year: \"},\n",
    "            pad={\"t\": 50},\n",
    "            steps=[\n",
    "                dict(method=\"animate\",\n",
    "                     args=[[str(year)],\n",
    "                           {\"frame\": {\"duration\": 500, \"redraw\": True},\n",
    "                            \"mode\": \"immediate\"}],\n",
    "                     label=str(year))\n",
    "                for year in years\n",
    "            ]\n",
    "        )]\n",
    "    ),\n",
    "    frames=[\n",
    "        go.Frame(\n",
    "            data=[\n",
    "                go.Scatter(\n",
    "                    x=df_year[df_year['Year'] <= year]['Labor productivity'],\n",
    "                    y=df_year[df_year['Year'] <= year]['Unit labor costs'],\n",
    "                    mode='lines+markers+text',\n",
    "                    text=df_year[df_year['Year'] <= year]['Year'].astype(str),\n",
    "                    textposition='bottom center',\n",
    "                    marker=dict(size=12, color='orange'),\n",
    "                    line=dict(width=3, color='steelblue'),\n",
    "                )\n",
    "            ],\n",
    "            name=str(year)\n",
    "        )\n",
    "        for year in years\n",
    "    ]\n",
    ")\n",
    "\n",
    "fig.show()\n"
   ]
  }
 ],
 "metadata": {
  "kernelspec": {
   "display_name": "base",
   "language": "python",
   "name": "python3"
  },
  "language_info": {
   "codemirror_mode": {
    "name": "ipython",
    "version": 3
   },
   "file_extension": ".py",
   "mimetype": "text/x-python",
   "name": "python",
   "nbconvert_exporter": "python",
   "pygments_lexer": "ipython3",
   "version": "3.12.2"
  }
 },
 "nbformat": 4,
 "nbformat_minor": 2
}
