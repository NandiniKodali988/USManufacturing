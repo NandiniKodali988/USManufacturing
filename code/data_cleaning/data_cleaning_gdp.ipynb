{
 "cells": [
  {
   "cell_type": "code",
   "execution_count": 163,
   "metadata": {},
   "outputs": [],
   "source": [
    "import pandas as pd\n",
    "import numpy as np"
   ]
  },
  {
   "cell_type": "code",
   "execution_count": 176,
   "metadata": {},
   "outputs": [],
   "source": [
    "# path to the file\n",
    "file_path = \"../data/raw/GdpByInd/GrossOutput.xlsx\""
   ]
  },
  {
   "cell_type": "code",
   "execution_count": 177,
   "metadata": {},
   "outputs": [],
   "source": [
    "# load the required sheet\n",
    "df = pd.read_excel(file_path, sheet_name='TGO105-A', skiprows=7)"
   ]
  },
  {
   "cell_type": "code",
   "execution_count": 147,
   "metadata": {},
   "outputs": [],
   "source": [
    "# drop the 'Line' Column\n",
    "df.drop(columns=df.columns[0], inplace=True)"
   ]
  },
  {
   "cell_type": "code",
   "execution_count": 148,
   "metadata": {},
   "outputs": [],
   "source": [
    "# Drop the empty column - now second column after 'Industry'\n",
    "df.drop(columns=df.columns[1], inplace=True)"
   ]
  },
  {
   "cell_type": "code",
   "execution_count": 150,
   "metadata": {},
   "outputs": [],
   "source": [
    "# rename first column to 'Industry'\n",
    "df.rename(columns={df.columns[0]: \"Industry\"}, inplace=True)"
   ]
  },
  {
   "cell_type": "code",
   "execution_count": 178,
   "metadata": {},
   "outputs": [],
   "source": [
    "# remove commas and convert all yearly data to numeric\n",
    "for col in df.columns[3:]:\n",
    "    df[col] = df[col].astype(str).str.replace(\",\", \"\")\n",
    "    df[col] = pd.to_numeric(df[col], errors=\"coerce\")"
   ]
  },
  {
   "cell_type": "code",
   "execution_count": 179,
   "metadata": {},
   "outputs": [
    {
     "data": {
      "text/html": [
       "<div>\n",
       "<style scoped>\n",
       "    .dataframe tbody tr th:only-of-type {\n",
       "        vertical-align: middle;\n",
       "    }\n",
       "\n",
       "    .dataframe tbody tr th {\n",
       "        vertical-align: top;\n",
       "    }\n",
       "\n",
       "    .dataframe thead th {\n",
       "        text-align: right;\n",
       "    }\n",
       "</style>\n",
       "<table border=\"1\" class=\"dataframe\">\n",
       "  <thead>\n",
       "    <tr style=\"text-align: right;\">\n",
       "      <th></th>\n",
       "      <th>Industries</th>\n",
       "      <th>Group</th>\n",
       "      <th>Subgroup</th>\n",
       "      <th>1997</th>\n",
       "      <th>1998</th>\n",
       "      <th>1999</th>\n",
       "      <th>2000</th>\n",
       "      <th>2001</th>\n",
       "      <th>2002</th>\n",
       "      <th>2003</th>\n",
       "      <th>...</th>\n",
       "      <th>2014</th>\n",
       "      <th>2015</th>\n",
       "      <th>2016</th>\n",
       "      <th>2017</th>\n",
       "      <th>2018</th>\n",
       "      <th>2019</th>\n",
       "      <th>2020</th>\n",
       "      <th>2021</th>\n",
       "      <th>2022</th>\n",
       "      <th>2023</th>\n",
       "    </tr>\n",
       "  </thead>\n",
       "  <tbody>\n",
       "    <tr>\n",
       "      <th>0</th>\n",
       "      <td>Farms</td>\n",
       "      <td>Primary Industries</td>\n",
       "      <td>Agriculture, forestry, fishing, and hunting</td>\n",
       "      <td>219380</td>\n",
       "      <td>207822</td>\n",
       "      <td>199949</td>\n",
       "      <td>204313</td>\n",
       "      <td>212334</td>\n",
       "      <td>202363</td>\n",
       "      <td>227873</td>\n",
       "      <td>...</td>\n",
       "      <td>442202</td>\n",
       "      <td>403163</td>\n",
       "      <td>379793</td>\n",
       "      <td>395529</td>\n",
       "      <td>395074</td>\n",
       "      <td>388056</td>\n",
       "      <td>389475</td>\n",
       "      <td>472905</td>\n",
       "      <td>574223</td>\n",
       "      <td>555343</td>\n",
       "    </tr>\n",
       "    <tr>\n",
       "      <th>1</th>\n",
       "      <td>Forestry, fishing, and related activities</td>\n",
       "      <td>Primary Industries</td>\n",
       "      <td>Agriculture, forestry, fishing, and hunting</td>\n",
       "      <td>38500</td>\n",
       "      <td>41946</td>\n",
       "      <td>45364</td>\n",
       "      <td>39279</td>\n",
       "      <td>39016</td>\n",
       "      <td>39510</td>\n",
       "      <td>41425</td>\n",
       "      <td>...</td>\n",
       "      <td>56379</td>\n",
       "      <td>54733</td>\n",
       "      <td>51122</td>\n",
       "      <td>53382</td>\n",
       "      <td>53053</td>\n",
       "      <td>50994</td>\n",
       "      <td>53806</td>\n",
       "      <td>61457</td>\n",
       "      <td>65499</td>\n",
       "      <td>66345</td>\n",
       "    </tr>\n",
       "    <tr>\n",
       "      <th>2</th>\n",
       "      <td>Oil and gas extraction</td>\n",
       "      <td>Primary Industries</td>\n",
       "      <td>Mining</td>\n",
       "      <td>98754</td>\n",
       "      <td>72923</td>\n",
       "      <td>85516</td>\n",
       "      <td>142980</td>\n",
       "      <td>142297</td>\n",
       "      <td>116711</td>\n",
       "      <td>165971</td>\n",
       "      <td>...</td>\n",
       "      <td>445747</td>\n",
       "      <td>241538</td>\n",
       "      <td>199796</td>\n",
       "      <td>253994</td>\n",
       "      <td>346639</td>\n",
       "      <td>316004</td>\n",
       "      <td>210508</td>\n",
       "      <td>421929</td>\n",
       "      <td>652942</td>\n",
       "      <td>478748</td>\n",
       "    </tr>\n",
       "    <tr>\n",
       "      <th>3</th>\n",
       "      <td>Mining, except oil and gas</td>\n",
       "      <td>Primary Industries</td>\n",
       "      <td>Mining</td>\n",
       "      <td>56374</td>\n",
       "      <td>55520</td>\n",
       "      <td>53050</td>\n",
       "      <td>54675</td>\n",
       "      <td>55091</td>\n",
       "      <td>54443</td>\n",
       "      <td>57393</td>\n",
       "      <td>...</td>\n",
       "      <td>116134</td>\n",
       "      <td>104439</td>\n",
       "      <td>94841</td>\n",
       "      <td>101852</td>\n",
       "      <td>106906</td>\n",
       "      <td>106096</td>\n",
       "      <td>96316</td>\n",
       "      <td>115877</td>\n",
       "      <td>135150</td>\n",
       "      <td>136909</td>\n",
       "    </tr>\n",
       "    <tr>\n",
       "      <th>4</th>\n",
       "      <td>Support activities for mining</td>\n",
       "      <td>Primary Industries</td>\n",
       "      <td>Mining</td>\n",
       "      <td>22101</td>\n",
       "      <td>23409</td>\n",
       "      <td>17542</td>\n",
       "      <td>20888</td>\n",
       "      <td>29204</td>\n",
       "      <td>24830</td>\n",
       "      <td>29532</td>\n",
       "      <td>...</td>\n",
       "      <td>165762</td>\n",
       "      <td>135473</td>\n",
       "      <td>73078</td>\n",
       "      <td>106929</td>\n",
       "      <td>132025</td>\n",
       "      <td>135631</td>\n",
       "      <td>78964</td>\n",
       "      <td>70194</td>\n",
       "      <td>87563</td>\n",
       "      <td>103802</td>\n",
       "    </tr>\n",
       "  </tbody>\n",
       "</table>\n",
       "<p>5 rows × 30 columns</p>\n",
       "</div>"
      ],
      "text/plain": [
       "                                      Industries              Group   \\\n",
       "0                                          Farms  Primary Industries   \n",
       "1      Forestry, fishing, and related activities  Primary Industries   \n",
       "2                         Oil and gas extraction  Primary Industries   \n",
       "3                     Mining, except oil and gas  Primary Industries   \n",
       "4                  Support activities for mining  Primary Industries   \n",
       "\n",
       "                                        Subgroup    1997    1998    1999  \\\n",
       "0    Agriculture, forestry, fishing, and hunting  219380  207822  199949   \n",
       "1    Agriculture, forestry, fishing, and hunting   38500   41946   45364   \n",
       "2                                         Mining   98754   72923   85516   \n",
       "3                                         Mining   56374   55520   53050   \n",
       "4                                         Mining   22101   23409   17542   \n",
       "\n",
       "     2000    2001    2002    2003  ...    2014    2015    2016    2017  \\\n",
       "0  204313  212334  202363  227873  ...  442202  403163  379793  395529   \n",
       "1   39279   39016   39510   41425  ...   56379   54733   51122   53382   \n",
       "2  142980  142297  116711  165971  ...  445747  241538  199796  253994   \n",
       "3   54675   55091   54443   57393  ...  116134  104439   94841  101852   \n",
       "4   20888   29204   24830   29532  ...  165762  135473   73078  106929   \n",
       "\n",
       "     2018    2019    2020    2021    2022    2023  \n",
       "0  395074  388056  389475  472905  574223  555343  \n",
       "1   53053   50994   53806   61457   65499   66345  \n",
       "2  346639  316004  210508  421929  652942  478748  \n",
       "3  106906  106096   96316  115877  135150  136909  \n",
       "4  132025  135631   78964   70194   87563  103802  \n",
       "\n",
       "[5 rows x 30 columns]"
      ]
     },
     "execution_count": 179,
     "metadata": {},
     "output_type": "execute_result"
    }
   ],
   "source": [
    "df.head()"
   ]
  },
  {
   "cell_type": "code",
   "execution_count": 154,
   "metadata": {},
   "outputs": [
    {
     "name": "stdout",
     "output_type": "stream",
     "text": [
      "       Industry  1997  1998  1999  2000  2001  2002  2003  2004  2005  ...  \\\n",
      "97     Addenda:   NaN   NaN   NaN   NaN   NaN   NaN   NaN   NaN   NaN  ...   \n",
      "101         NaN   NaN   NaN   NaN   NaN   NaN   NaN   NaN   NaN   NaN  ...   \n",
      "102         NaN   NaN   NaN   NaN   NaN   NaN   NaN   NaN   NaN   NaN  ...   \n",
      "103         NaN   NaN   NaN   NaN   NaN   NaN   NaN   NaN   NaN   NaN  ...   \n",
      "104         NaN   NaN   NaN   NaN   NaN   NaN   NaN   NaN   NaN   NaN  ...   \n",
      "105         NaN   NaN   NaN   NaN   NaN   NaN   NaN   NaN   NaN   NaN  ...   \n",
      "\n",
      "     2014  2015  2016  2017  2018  2019  2020  2021  2022  2023  \n",
      "97    NaN   NaN   NaN   NaN   NaN   NaN   NaN   NaN   NaN   NaN  \n",
      "101   NaN   NaN   NaN   NaN   NaN   NaN   NaN   NaN   NaN   NaN  \n",
      "102   NaN   NaN   NaN   NaN   NaN   NaN   NaN   NaN   NaN   NaN  \n",
      "103   NaN   NaN   NaN   NaN   NaN   NaN   NaN   NaN   NaN   NaN  \n",
      "104   NaN   NaN   NaN   NaN   NaN   NaN   NaN   NaN   NaN   NaN  \n",
      "105   NaN   NaN   NaN   NaN   NaN   NaN   NaN   NaN   NaN   NaN  \n",
      "\n",
      "[6 rows x 28 columns]\n"
     ]
    }
   ],
   "source": [
    "# check for missing values\n",
    "rows_with_missing = df[df.isna().any(axis=1)]\n",
    "print(rows_with_missing)\n"
   ]
  },
  {
   "cell_type": "code",
   "execution_count": 155,
   "metadata": {},
   "outputs": [],
   "source": [
    "# drop rows with missing values\n",
    "df_cleaned = df.dropna()"
   ]
  },
  {
   "cell_type": "code",
   "execution_count": 156,
   "metadata": {},
   "outputs": [
    {
     "data": {
      "text/plain": [
       "(100, 28)"
      ]
     },
     "execution_count": 156,
     "metadata": {},
     "output_type": "execute_result"
    }
   ],
   "source": [
    "df_cleaned.shape"
   ]
  },
  {
   "cell_type": "code",
   "execution_count": 183,
   "metadata": {},
   "outputs": [],
   "source": [
    "df[\"Industries\"] = df[\"Industries\"].str.strip()"
   ]
  },
  {
   "cell_type": "code",
   "execution_count": 188,
   "metadata": {},
   "outputs": [],
   "source": [
    "df[\"Group \"] = df[\"Group \"].str.strip()"
   ]
  },
  {
   "cell_type": "code",
   "execution_count": 189,
   "metadata": {},
   "outputs": [],
   "source": [
    "df[\"Subgroup\"] = df[\"Subgroup\"].str.strip()"
   ]
  },
  {
   "cell_type": "code",
   "execution_count": 190,
   "metadata": {},
   "outputs": [],
   "source": [
    "cols_to_clean = [\"Industries\", \"Group \",\t\"Subgroup\"]\n",
    "\n",
    "for col in cols_to_clean:\n",
    "    df[col] = df[col].str.replace('\"', '', regex=False).str.replace(\"'\", '', regex=False)\n"
   ]
  },
  {
   "cell_type": "code",
   "execution_count": 191,
   "metadata": {},
   "outputs": [],
   "source": [
    "# save the output\n",
    "df.to_csv(\"../data/processed/GdpByInd.csv\", index=False)"
   ]
  },
  {
   "cell_type": "code",
   "execution_count": null,
   "metadata": {},
   "outputs": [],
   "source": []
  }
 ],
 "metadata": {
  "kernelspec": {
   "display_name": "base",
   "language": "python",
   "name": "python3"
  },
  "language_info": {
   "codemirror_mode": {
    "name": "ipython",
    "version": 3
   },
   "file_extension": ".py",
   "mimetype": "text/x-python",
   "name": "python",
   "nbconvert_exporter": "python",
   "pygments_lexer": "ipython3",
   "version": "3.10.6"
  }
 },
 "nbformat": 4,
 "nbformat_minor": 2
}
