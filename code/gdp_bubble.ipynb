{
 "cells": [
  {
   "cell_type": "code",
   "execution_count": 64,
   "metadata": {},
   "outputs": [],
   "source": [
    "import pandas as pd\n",
    "import numpy as np\n",
    "import plotly.express as px"
   ]
  },
  {
   "cell_type": "code",
   "execution_count": 65,
   "metadata": {},
   "outputs": [
    {
     "data": {
      "text/html": [
       "<div>\n",
       "<style scoped>\n",
       "    .dataframe tbody tr th:only-of-type {\n",
       "        vertical-align: middle;\n",
       "    }\n",
       "\n",
       "    .dataframe tbody tr th {\n",
       "        vertical-align: top;\n",
       "    }\n",
       "\n",
       "    .dataframe thead th {\n",
       "        text-align: right;\n",
       "    }\n",
       "</style>\n",
       "<table border=\"1\" class=\"dataframe\">\n",
       "  <thead>\n",
       "    <tr style=\"text-align: right;\">\n",
       "      <th></th>\n",
       "      <th>Industries</th>\n",
       "      <th>Group</th>\n",
       "      <th>Subgroup</th>\n",
       "      <th>1997</th>\n",
       "      <th>1998</th>\n",
       "      <th>1999</th>\n",
       "      <th>2000</th>\n",
       "      <th>2001</th>\n",
       "      <th>2002</th>\n",
       "      <th>2003</th>\n",
       "      <th>...</th>\n",
       "      <th>2014</th>\n",
       "      <th>2015</th>\n",
       "      <th>2016</th>\n",
       "      <th>2017</th>\n",
       "      <th>2018</th>\n",
       "      <th>2019</th>\n",
       "      <th>2020</th>\n",
       "      <th>2021</th>\n",
       "      <th>2022</th>\n",
       "      <th>2023</th>\n",
       "    </tr>\n",
       "  </thead>\n",
       "  <tbody>\n",
       "    <tr>\n",
       "      <th>0</th>\n",
       "      <td>Farms</td>\n",
       "      <td>Primary Industries</td>\n",
       "      <td>Agriculture, forestry, fishing, and hunting</td>\n",
       "      <td>219380</td>\n",
       "      <td>207822</td>\n",
       "      <td>199949</td>\n",
       "      <td>204313</td>\n",
       "      <td>212334</td>\n",
       "      <td>202363</td>\n",
       "      <td>227873</td>\n",
       "      <td>...</td>\n",
       "      <td>442202</td>\n",
       "      <td>403163</td>\n",
       "      <td>379793</td>\n",
       "      <td>395529</td>\n",
       "      <td>395074</td>\n",
       "      <td>388056</td>\n",
       "      <td>389475</td>\n",
       "      <td>472905</td>\n",
       "      <td>574223</td>\n",
       "      <td>555343</td>\n",
       "    </tr>\n",
       "    <tr>\n",
       "      <th>1</th>\n",
       "      <td>Forestry, fishing, and related activities</td>\n",
       "      <td>Primary Industries</td>\n",
       "      <td>Agriculture, forestry, fishing, and hunting</td>\n",
       "      <td>38500</td>\n",
       "      <td>41946</td>\n",
       "      <td>45364</td>\n",
       "      <td>39279</td>\n",
       "      <td>39016</td>\n",
       "      <td>39510</td>\n",
       "      <td>41425</td>\n",
       "      <td>...</td>\n",
       "      <td>56379</td>\n",
       "      <td>54733</td>\n",
       "      <td>51122</td>\n",
       "      <td>53382</td>\n",
       "      <td>53053</td>\n",
       "      <td>50994</td>\n",
       "      <td>53806</td>\n",
       "      <td>61457</td>\n",
       "      <td>65499</td>\n",
       "      <td>66345</td>\n",
       "    </tr>\n",
       "    <tr>\n",
       "      <th>2</th>\n",
       "      <td>Oil and gas extraction</td>\n",
       "      <td>Primary Industries</td>\n",
       "      <td>Mining</td>\n",
       "      <td>98754</td>\n",
       "      <td>72923</td>\n",
       "      <td>85516</td>\n",
       "      <td>142980</td>\n",
       "      <td>142297</td>\n",
       "      <td>116711</td>\n",
       "      <td>165971</td>\n",
       "      <td>...</td>\n",
       "      <td>445747</td>\n",
       "      <td>241538</td>\n",
       "      <td>199796</td>\n",
       "      <td>253994</td>\n",
       "      <td>346639</td>\n",
       "      <td>316004</td>\n",
       "      <td>210508</td>\n",
       "      <td>421929</td>\n",
       "      <td>652942</td>\n",
       "      <td>478748</td>\n",
       "    </tr>\n",
       "    <tr>\n",
       "      <th>3</th>\n",
       "      <td>Mining, except oil and gas</td>\n",
       "      <td>Primary Industries</td>\n",
       "      <td>Mining</td>\n",
       "      <td>56374</td>\n",
       "      <td>55520</td>\n",
       "      <td>53050</td>\n",
       "      <td>54675</td>\n",
       "      <td>55091</td>\n",
       "      <td>54443</td>\n",
       "      <td>57393</td>\n",
       "      <td>...</td>\n",
       "      <td>116134</td>\n",
       "      <td>104439</td>\n",
       "      <td>94841</td>\n",
       "      <td>101852</td>\n",
       "      <td>106906</td>\n",
       "      <td>106096</td>\n",
       "      <td>96316</td>\n",
       "      <td>115877</td>\n",
       "      <td>135150</td>\n",
       "      <td>136909</td>\n",
       "    </tr>\n",
       "    <tr>\n",
       "      <th>4</th>\n",
       "      <td>Support activities for mining</td>\n",
       "      <td>Primary Industries</td>\n",
       "      <td>Mining</td>\n",
       "      <td>22101</td>\n",
       "      <td>23409</td>\n",
       "      <td>17542</td>\n",
       "      <td>20888</td>\n",
       "      <td>29204</td>\n",
       "      <td>24830</td>\n",
       "      <td>29532</td>\n",
       "      <td>...</td>\n",
       "      <td>165762</td>\n",
       "      <td>135473</td>\n",
       "      <td>73078</td>\n",
       "      <td>106929</td>\n",
       "      <td>132025</td>\n",
       "      <td>135631</td>\n",
       "      <td>78964</td>\n",
       "      <td>70194</td>\n",
       "      <td>87563</td>\n",
       "      <td>103802</td>\n",
       "    </tr>\n",
       "  </tbody>\n",
       "</table>\n",
       "<p>5 rows × 30 columns</p>\n",
       "</div>"
      ],
      "text/plain": [
       "                                  Industries              Group   \\\n",
       "0                                      Farms  Primary Industries   \n",
       "1  Forestry, fishing, and related activities  Primary Industries   \n",
       "2                     Oil and gas extraction  Primary Industries   \n",
       "3                 Mining, except oil and gas  Primary Industries   \n",
       "4              Support activities for mining  Primary Industries   \n",
       "\n",
       "                                      Subgroup    1997    1998    1999  \\\n",
       "0  Agriculture, forestry, fishing, and hunting  219380  207822  199949   \n",
       "1  Agriculture, forestry, fishing, and hunting   38500   41946   45364   \n",
       "2                                       Mining   98754   72923   85516   \n",
       "3                                       Mining   56374   55520   53050   \n",
       "4                                       Mining   22101   23409   17542   \n",
       "\n",
       "     2000    2001    2002    2003  ...    2014    2015    2016    2017  \\\n",
       "0  204313  212334  202363  227873  ...  442202  403163  379793  395529   \n",
       "1   39279   39016   39510   41425  ...   56379   54733   51122   53382   \n",
       "2  142980  142297  116711  165971  ...  445747  241538  199796  253994   \n",
       "3   54675   55091   54443   57393  ...  116134  104439   94841  101852   \n",
       "4   20888   29204   24830   29532  ...  165762  135473   73078  106929   \n",
       "\n",
       "     2018    2019    2020    2021    2022    2023  \n",
       "0  395074  388056  389475  472905  574223  555343  \n",
       "1   53053   50994   53806   61457   65499   66345  \n",
       "2  346639  316004  210508  421929  652942  478748  \n",
       "3  106906  106096   96316  115877  135150  136909  \n",
       "4  132025  135631   78964   70194   87563  103802  \n",
       "\n",
       "[5 rows x 30 columns]"
      ]
     },
     "execution_count": 65,
     "metadata": {},
     "output_type": "execute_result"
    }
   ],
   "source": [
    "df = pd.read_csv(\"../data/Processed/GdpByInd.csv\")\n",
    "df.head()"
   ]
  },
  {
   "cell_type": "code",
   "execution_count": 66,
   "metadata": {},
   "outputs": [],
   "source": [
    "# Clean up column names just in case\n",
    "df.columns = df.columns.str.strip()\n",
    "\n",
    "# Identify actual year columns (assuming they are 4-digit years)\n",
    "year_columns = [col for col in df.columns if col.isdigit() and len(col) == 4]\n",
    "\n",
    "# Melt the data safely\n",
    "df_long = df.melt(\n",
    "    id_vars=[\"Group\", \"Subgroup\"],\n",
    "    value_vars=year_columns,\n",
    "    var_name=\"Year\",\n",
    "    value_name=\"Value\"\n",
    ")\n",
    "\n",
    "# Convert year to integer\n",
    "df_long[\"Year\"] = df_long[\"Year\"].astype(int)\n"
   ]
  },
  {
   "cell_type": "code",
   "execution_count": 67,
   "metadata": {},
   "outputs": [],
   "source": [
    "df_grouped = df_long.groupby([\"Group\", \"Year\"], as_index=False)[\"Value\"].sum()\n"
   ]
  },
  {
   "cell_type": "code",
   "execution_count": 68,
   "metadata": {},
   "outputs": [],
   "source": [
    "import numpy as np\n",
    "\n",
    "unique_groups = df_grouped[\"Group\"].unique()\n",
    "group_positions = {\n",
    "    group: (np.cos(i * 2 * np.pi / len(unique_groups)) * 3,\n",
    "            np.sin(i * 2 * np.pi / len(unique_groups)) * 3)\n",
    "    for i, group in enumerate(unique_groups)\n",
    "}\n",
    "\n",
    "# Assign positions\n",
    "def assign_coords(row):\n",
    "    gx, gy = group_positions[row[\"Group\"]]\n",
    "    return pd.Series({\"x\": gx, \"y\": gy})\n",
    "\n",
    "coords = df_grouped.apply(assign_coords, axis=1)\n",
    "df_bubbles = pd.concat([df_grouped, coords], axis=1)\n"
   ]
  },
  {
   "cell_type": "code",
   "execution_count": 69,
   "metadata": {},
   "outputs": [
    {
     "data": {
      "application/vnd.plotly.v1+json": {
       "config": {
        "plotlyServerURL": "https://plot.ly"
       },
       "data": [
        {
         "hovertemplate": "<b>%{hovertext}</b><br><br>Group=Health, Education & Leisure<br>Year=1997<br>x=%{x}<br>y=%{y}<br>Value=%{marker.size}<extra></extra>",
         "hovertext": [
          "Health, Education & Leisure"
         ],
         "legendgroup": "Health, Education & Leisure",
         "marker": {
          "color": "#636efa",
          "size": {
           "bdata": "N/UbAA==",
           "dtype": "i4"
          },
          "sizemode": "area",
          "sizeref": 1209.4062,
          "symbol": "circle"
         },
         "mode": "markers",
         "name": "Health, Education & Leisure",
         "orientation": "v",
         "showlegend": true,
         "type": "scatter",
         "x": {
          "bdata": "AAAAAAAACEA=",
          "dtype": "f8"
         },
         "xaxis": "x",
         "y": {
          "bdata": "AAAAAAAAAAA=",
          "dtype": "f8"
         },
         "yaxis": "y"
        },
        {
         "hovertemplate": "<b>%{hovertext}</b><br><br>Group=Information & Finance<br>Year=1997<br>x=%{x}<br>y=%{y}<br>Value=%{marker.size}<extra></extra>",
         "hovertext": [
          "Information & Finance"
         ],
         "legendgroup": "Information & Finance",
         "marker": {
          "color": "#EF553B",
          "size": {
           "bdata": "APMvAA==",
           "dtype": "i4"
          },
          "sizemode": "area",
          "sizeref": 1209.4062,
          "symbol": "circle"
         },
         "mode": "markers",
         "name": "Information & Finance",
         "orientation": "v",
         "showlegend": true,
         "type": "scatter",
         "x": {
          "bdata": "u+TRU3Ht/T8=",
          "dtype": "f8"
         },
         "xaxis": "x",
         "y": {
          "bdata": "uGbEl5LDAkA=",
          "dtype": "f8"
         },
         "yaxis": "y"
        },
        {
         "hovertemplate": "<b>%{hovertext}</b><br><br>Group=Manufacturing<br>Year=1997<br>x=%{x}<br>y=%{y}<br>Value=%{marker.size}<extra></extra>",
         "hovertext": [
          "Manufacturing"
         ],
         "legendgroup": "Manufacturing",
         "marker": {
          "color": "#00cc96",
          "size": {
           "bdata": "r3k7AA==",
           "dtype": "i4"
          },
          "sizemode": "area",
          "sizeref": 1209.4062,
          "symbol": "circle"
         },
         "mode": "markers",
         "name": "Manufacturing",
         "orientation": "v",
         "showlegend": true,
         "type": "scatter",
         "x": {
          "bdata": "ILRBqqxc5b8=",
          "dtype": "f8"
         },
         "xaxis": "x",
         "y": {
          "bdata": "D68CBPVlB0A=",
          "dtype": "f8"
         },
         "yaxis": "y"
        },
        {
         "hovertemplate": "<b>%{hovertext}</b><br><br>Group=Primary Industries<br>Year=1997<br>x=%{x}<br>y=%{y}<br>Value=%{marker.size}<extra></extra>",
         "hovertext": [
          "Primary Industries"
         ],
         "legendgroup": "Primary Industries",
         "marker": {
          "color": "#ab63fa",
          "size": {
           "bdata": "paMGAA==",
           "dtype": "i4"
          },
          "sizemode": "area",
          "sizeref": 1209.4062,
          "symbol": "circle"
         },
         "mode": "markers",
         "name": "Primary Industries",
         "orientation": "v",
         "showlegend": true,
         "type": "scatter",
         "x": {
          "bdata": "VIVYf42fBcA=",
          "dtype": "f8"
         },
         "xaxis": "x",
         "y": {
          "bdata": "0kAVOpDT9D8=",
          "dtype": "f8"
         },
         "yaxis": "y"
        },
        {
         "hovertemplate": "<b>%{hovertext}</b><br><br>Group=Professional & Public Services<br>Year=1997<br>x=%{x}<br>y=%{y}<br>Value=%{marker.size}<extra></extra>",
         "hovertext": [
          "Professional & Public Services"
         ],
         "legendgroup": "Professional & Public Services",
         "marker": {
          "color": "#FFA15A",
          "size": {
           "bdata": "uww1AA==",
           "dtype": "i4"
          },
          "sizemode": "area",
          "sizeref": 1209.4062,
          "symbol": "circle"
         },
         "mode": "markers",
         "name": "Professional & Public Services",
         "orientation": "v",
         "showlegend": true,
         "type": "scatter",
         "x": {
          "bdata": "VYVYf42fBcA=",
          "dtype": "f8"
         },
         "xaxis": "x",
         "y": {
          "bdata": "z0AVOpDT9L8=",
          "dtype": "f8"
         },
         "yaxis": "y"
        },
        {
         "hovertemplate": "<b>%{hovertext}</b><br><br>Group=Trade & Transportation<br>Year=1997<br>x=%{x}<br>y=%{y}<br>Value=%{marker.size}<extra></extra>",
         "hovertext": [
          "Trade & Transportation"
         ],
         "legendgroup": "Trade & Transportation",
         "marker": {
          "color": "#19d3f3",
          "size": {
           "bdata": "ZxggAA==",
           "dtype": "i4"
          },
          "sizemode": "area",
          "sizeref": 1209.4062,
          "symbol": "circle"
         },
         "mode": "markers",
         "name": "Trade & Transportation",
         "orientation": "v",
         "showlegend": true,
         "type": "scatter",
         "x": {
          "bdata": "J7RBqqxc5b8=",
          "dtype": "f8"
         },
         "xaxis": "x",
         "y": {
          "bdata": "D68CBPVlB8A=",
          "dtype": "f8"
         },
         "yaxis": "y"
        },
        {
         "hovertemplate": "<b>%{hovertext}</b><br><br>Group=Utilities & Construction<br>Year=1997<br>x=%{x}<br>y=%{y}<br>Value=%{marker.size}<extra></extra>",
         "hovertext": [
          "Utilities & Construction"
         ],
         "legendgroup": "Utilities & Construction",
         "marker": {
          "color": "#FF6692",
          "size": {
           "bdata": "ktEOAA==",
           "dtype": "i4"
          },
          "sizemode": "area",
          "sizeref": 1209.4062,
          "symbol": "circle"
         },
         "mode": "markers",
         "name": "Utilities & Construction",
         "orientation": "v",
         "showlegend": true,
         "type": "scatter",
         "x": {
          "bdata": "uOTRU3Ht/T8=",
          "dtype": "f8"
         },
         "xaxis": "x",
         "y": {
          "bdata": "uWbEl5LDAsA=",
          "dtype": "f8"
         },
         "yaxis": "y"
        }
       ],
       "frames": [
        {
         "data": [
          {
           "hovertemplate": "<b>%{hovertext}</b><br><br>Group=Health, Education & Leisure<br>Year=1997<br>x=%{x}<br>y=%{y}<br>Value=%{marker.size}<extra></extra>",
           "hovertext": [
            "Health, Education & Leisure"
           ],
           "legendgroup": "Health, Education & Leisure",
           "marker": {
            "color": "#636efa",
            "size": {
             "bdata": "N/UbAA==",
             "dtype": "i4"
            },
            "sizemode": "area",
            "sizeref": 1209.4062,
            "symbol": "circle"
           },
           "mode": "markers",
           "name": "Health, Education & Leisure",
           "orientation": "v",
           "showlegend": true,
           "type": "scatter",
           "x": {
            "bdata": "AAAAAAAACEA=",
            "dtype": "f8"
           },
           "xaxis": "x",
           "y": {
            "bdata": "AAAAAAAAAAA=",
            "dtype": "f8"
           },
           "yaxis": "y"
          },
          {
           "hovertemplate": "<b>%{hovertext}</b><br><br>Group=Information & Finance<br>Year=1997<br>x=%{x}<br>y=%{y}<br>Value=%{marker.size}<extra></extra>",
           "hovertext": [
            "Information & Finance"
           ],
           "legendgroup": "Information & Finance",
           "marker": {
            "color": "#EF553B",
            "size": {
             "bdata": "APMvAA==",
             "dtype": "i4"
            },
            "sizemode": "area",
            "sizeref": 1209.4062,
            "symbol": "circle"
           },
           "mode": "markers",
           "name": "Information & Finance",
           "orientation": "v",
           "showlegend": true,
           "type": "scatter",
           "x": {
            "bdata": "u+TRU3Ht/T8=",
            "dtype": "f8"
           },
           "xaxis": "x",
           "y": {
            "bdata": "uGbEl5LDAkA=",
            "dtype": "f8"
           },
           "yaxis": "y"
          },
          {
           "hovertemplate": "<b>%{hovertext}</b><br><br>Group=Manufacturing<br>Year=1997<br>x=%{x}<br>y=%{y}<br>Value=%{marker.size}<extra></extra>",
           "hovertext": [
            "Manufacturing"
           ],
           "legendgroup": "Manufacturing",
           "marker": {
            "color": "#00cc96",
            "size": {
             "bdata": "r3k7AA==",
             "dtype": "i4"
            },
            "sizemode": "area",
            "sizeref": 1209.4062,
            "symbol": "circle"
           },
           "mode": "markers",
           "name": "Manufacturing",
           "orientation": "v",
           "showlegend": true,
           "type": "scatter",
           "x": {
            "bdata": "ILRBqqxc5b8=",
            "dtype": "f8"
           },
           "xaxis": "x",
           "y": {
            "bdata": "D68CBPVlB0A=",
            "dtype": "f8"
           },
           "yaxis": "y"
          },
          {
           "hovertemplate": "<b>%{hovertext}</b><br><br>Group=Primary Industries<br>Year=1997<br>x=%{x}<br>y=%{y}<br>Value=%{marker.size}<extra></extra>",
           "hovertext": [
            "Primary Industries"
           ],
           "legendgroup": "Primary Industries",
           "marker": {
            "color": "#ab63fa",
            "size": {
             "bdata": "paMGAA==",
             "dtype": "i4"
            },
            "sizemode": "area",
            "sizeref": 1209.4062,
            "symbol": "circle"
           },
           "mode": "markers",
           "name": "Primary Industries",
           "orientation": "v",
           "showlegend": true,
           "type": "scatter",
           "x": {
            "bdata": "VIVYf42fBcA=",
            "dtype": "f8"
           },
           "xaxis": "x",
           "y": {
            "bdata": "0kAVOpDT9D8=",
            "dtype": "f8"
           },
           "yaxis": "y"
          },
          {
           "hovertemplate": "<b>%{hovertext}</b><br><br>Group=Professional & Public Services<br>Year=1997<br>x=%{x}<br>y=%{y}<br>Value=%{marker.size}<extra></extra>",
           "hovertext": [
            "Professional & Public Services"
           ],
           "legendgroup": "Professional & Public Services",
           "marker": {
            "color": "#FFA15A",
            "size": {
             "bdata": "uww1AA==",
             "dtype": "i4"
            },
            "sizemode": "area",
            "sizeref": 1209.4062,
            "symbol": "circle"
           },
           "mode": "markers",
           "name": "Professional & Public Services",
           "orientation": "v",
           "showlegend": true,
           "type": "scatter",
           "x": {
            "bdata": "VYVYf42fBcA=",
            "dtype": "f8"
           },
           "xaxis": "x",
           "y": {
            "bdata": "z0AVOpDT9L8=",
            "dtype": "f8"
           },
           "yaxis": "y"
          },
          {
           "hovertemplate": "<b>%{hovertext}</b><br><br>Group=Trade & Transportation<br>Year=1997<br>x=%{x}<br>y=%{y}<br>Value=%{marker.size}<extra></extra>",
           "hovertext": [
            "Trade & Transportation"
           ],
           "legendgroup": "Trade & Transportation",
           "marker": {
            "color": "#19d3f3",
            "size": {
             "bdata": "ZxggAA==",
             "dtype": "i4"
            },
            "sizemode": "area",
            "sizeref": 1209.4062,
            "symbol": "circle"
           },
           "mode": "markers",
           "name": "Trade & Transportation",
           "orientation": "v",
           "showlegend": true,
           "type": "scatter",
           "x": {
            "bdata": "J7RBqqxc5b8=",
            "dtype": "f8"
           },
           "xaxis": "x",
           "y": {
            "bdata": "D68CBPVlB8A=",
            "dtype": "f8"
           },
           "yaxis": "y"
          },
          {
           "hovertemplate": "<b>%{hovertext}</b><br><br>Group=Utilities & Construction<br>Year=1997<br>x=%{x}<br>y=%{y}<br>Value=%{marker.size}<extra></extra>",
           "hovertext": [
            "Utilities & Construction"
           ],
           "legendgroup": "Utilities & Construction",
           "marker": {
            "color": "#FF6692",
            "size": {
             "bdata": "ktEOAA==",
             "dtype": "i4"
            },
            "sizemode": "area",
            "sizeref": 1209.4062,
            "symbol": "circle"
           },
           "mode": "markers",
           "name": "Utilities & Construction",
           "orientation": "v",
           "showlegend": true,
           "type": "scatter",
           "x": {
            "bdata": "uOTRU3Ht/T8=",
            "dtype": "f8"
           },
           "xaxis": "x",
           "y": {
            "bdata": "uWbEl5LDAsA=",
            "dtype": "f8"
           },
           "yaxis": "y"
          }
         ],
         "name": "1997"
        },
        {
         "data": [
          {
           "hovertemplate": "<b>%{hovertext}</b><br><br>Group=Health, Education & Leisure<br>Year=1998<br>x=%{x}<br>y=%{y}<br>Value=%{marker.size}<extra></extra>",
           "hovertext": [
            "Health, Education & Leisure"
           ],
           "legendgroup": "Health, Education & Leisure",
           "marker": {
            "color": "#636efa",
            "size": {
             "bdata": "EtEdAA==",
             "dtype": "i4"
            },
            "sizemode": "area",
            "sizeref": 1209.4062,
            "symbol": "circle"
           },
           "mode": "markers",
           "name": "Health, Education & Leisure",
           "orientation": "v",
           "showlegend": true,
           "type": "scatter",
           "x": {
            "bdata": "AAAAAAAACEA=",
            "dtype": "f8"
           },
           "xaxis": "x",
           "y": {
            "bdata": "AAAAAAAAAAA=",
            "dtype": "f8"
           },
           "yaxis": "y"
          },
          {
           "hovertemplate": "<b>%{hovertext}</b><br><br>Group=Information & Finance<br>Year=1998<br>x=%{x}<br>y=%{y}<br>Value=%{marker.size}<extra></extra>",
           "hovertext": [
            "Information & Finance"
           ],
           "legendgroup": "Information & Finance",
           "marker": {
            "color": "#EF553B",
            "size": {
             "bdata": "yis0AA==",
             "dtype": "i4"
            },
            "sizemode": "area",
            "sizeref": 1209.4062,
            "symbol": "circle"
           },
           "mode": "markers",
           "name": "Information & Finance",
           "orientation": "v",
           "showlegend": true,
           "type": "scatter",
           "x": {
            "bdata": "u+TRU3Ht/T8=",
            "dtype": "f8"
           },
           "xaxis": "x",
           "y": {
            "bdata": "uGbEl5LDAkA=",
            "dtype": "f8"
           },
           "yaxis": "y"
          },
          {
           "hovertemplate": "<b>%{hovertext}</b><br><br>Group=Manufacturing<br>Year=1998<br>x=%{x}<br>y=%{y}<br>Value=%{marker.size}<extra></extra>",
           "hovertext": [
            "Manufacturing"
           ],
           "legendgroup": "Manufacturing",
           "marker": {
            "color": "#00cc96",
            "size": {
             "bdata": "pnk8AA==",
             "dtype": "i4"
            },
            "sizemode": "area",
            "sizeref": 1209.4062,
            "symbol": "circle"
           },
           "mode": "markers",
           "name": "Manufacturing",
           "orientation": "v",
           "showlegend": true,
           "type": "scatter",
           "x": {
            "bdata": "ILRBqqxc5b8=",
            "dtype": "f8"
           },
           "xaxis": "x",
           "y": {
            "bdata": "D68CBPVlB0A=",
            "dtype": "f8"
           },
           "yaxis": "y"
          },
          {
           "hovertemplate": "<b>%{hovertext}</b><br><br>Group=Primary Industries<br>Year=1998<br>x=%{x}<br>y=%{y}<br>Value=%{marker.size}<extra></extra>",
           "hovertext": [
            "Primary Industries"
           ],
           "legendgroup": "Primary Industries",
           "marker": {
            "color": "#ab63fa",
            "size": {
             "bdata": "1CAGAA==",
             "dtype": "i4"
            },
            "sizemode": "area",
            "sizeref": 1209.4062,
            "symbol": "circle"
           },
           "mode": "markers",
           "name": "Primary Industries",
           "orientation": "v",
           "showlegend": true,
           "type": "scatter",
           "x": {
            "bdata": "VIVYf42fBcA=",
            "dtype": "f8"
           },
           "xaxis": "x",
           "y": {
            "bdata": "0kAVOpDT9D8=",
            "dtype": "f8"
           },
           "yaxis": "y"
          },
          {
           "hovertemplate": "<b>%{hovertext}</b><br><br>Group=Professional & Public Services<br>Year=1998<br>x=%{x}<br>y=%{y}<br>Value=%{marker.size}<extra></extra>",
           "hovertext": [
            "Professional & Public Services"
           ],
           "legendgroup": "Professional & Public Services",
           "marker": {
            "color": "#FFA15A",
            "size": {
             "bdata": "HIk4AA==",
             "dtype": "i4"
            },
            "sizemode": "area",
            "sizeref": 1209.4062,
            "symbol": "circle"
           },
           "mode": "markers",
           "name": "Professional & Public Services",
           "orientation": "v",
           "showlegend": true,
           "type": "scatter",
           "x": {
            "bdata": "VYVYf42fBcA=",
            "dtype": "f8"
           },
           "xaxis": "x",
           "y": {
            "bdata": "z0AVOpDT9L8=",
            "dtype": "f8"
           },
           "yaxis": "y"
          },
          {
           "hovertemplate": "<b>%{hovertext}</b><br><br>Group=Trade & Transportation<br>Year=1998<br>x=%{x}<br>y=%{y}<br>Value=%{marker.size}<extra></extra>",
           "hovertext": [
            "Trade & Transportation"
           ],
           "legendgroup": "Trade & Transportation",
           "marker": {
            "color": "#19d3f3",
            "size": {
             "bdata": "BG4hAA==",
             "dtype": "i4"
            },
            "sizemode": "area",
            "sizeref": 1209.4062,
            "symbol": "circle"
           },
           "mode": "markers",
           "name": "Trade & Transportation",
           "orientation": "v",
           "showlegend": true,
           "type": "scatter",
           "x": {
            "bdata": "J7RBqqxc5b8=",
            "dtype": "f8"
           },
           "xaxis": "x",
           "y": {
            "bdata": "D68CBPVlB8A=",
            "dtype": "f8"
           },
           "yaxis": "y"
          },
          {
           "hovertemplate": "<b>%{hovertext}</b><br><br>Group=Utilities & Construction<br>Year=1998<br>x=%{x}<br>y=%{y}<br>Value=%{marker.size}<extra></extra>",
           "hovertext": [
            "Utilities & Construction"
           ],
           "legendgroup": "Utilities & Construction",
           "marker": {
            "color": "#FF6692",
            "size": {
             "bdata": "xPsPAA==",
             "dtype": "i4"
            },
            "sizemode": "area",
            "sizeref": 1209.4062,
            "symbol": "circle"
           },
           "mode": "markers",
           "name": "Utilities & Construction",
           "orientation": "v",
           "showlegend": true,
           "type": "scatter",
           "x": {
            "bdata": "uOTRU3Ht/T8=",
            "dtype": "f8"
           },
           "xaxis": "x",
           "y": {
            "bdata": "uWbEl5LDAsA=",
            "dtype": "f8"
           },
           "yaxis": "y"
          }
         ],
         "name": "1998"
        },
        {
         "data": [
          {
           "hovertemplate": "<b>%{hovertext}</b><br><br>Group=Health, Education & Leisure<br>Year=1999<br>x=%{x}<br>y=%{y}<br>Value=%{marker.size}<extra></extra>",
           "hovertext": [
            "Health, Education & Leisure"
           ],
           "legendgroup": "Health, Education & Leisure",
           "marker": {
            "color": "#636efa",
            "size": {
             "bdata": "lWsfAA==",
             "dtype": "i4"
            },
            "sizemode": "area",
            "sizeref": 1209.4062,
            "symbol": "circle"
           },
           "mode": "markers",
           "name": "Health, Education & Leisure",
           "orientation": "v",
           "showlegend": true,
           "type": "scatter",
           "x": {
            "bdata": "AAAAAAAACEA=",
            "dtype": "f8"
           },
           "xaxis": "x",
           "y": {
            "bdata": "AAAAAAAAAAA=",
            "dtype": "f8"
           },
           "yaxis": "y"
          },
          {
           "hovertemplate": "<b>%{hovertext}</b><br><br>Group=Information & Finance<br>Year=1999<br>x=%{x}<br>y=%{y}<br>Value=%{marker.size}<extra></extra>",
           "hovertext": [
            "Information & Finance"
           ],
           "legendgroup": "Information & Finance",
           "marker": {
            "color": "#EF553B",
            "size": {
             "bdata": "2C05AA==",
             "dtype": "i4"
            },
            "sizemode": "area",
            "sizeref": 1209.4062,
            "symbol": "circle"
           },
           "mode": "markers",
           "name": "Information & Finance",
           "orientation": "v",
           "showlegend": true,
           "type": "scatter",
           "x": {
            "bdata": "u+TRU3Ht/T8=",
            "dtype": "f8"
           },
           "xaxis": "x",
           "y": {
            "bdata": "uGbEl5LDAkA=",
            "dtype": "f8"
           },
           "yaxis": "y"
          },
          {
           "hovertemplate": "<b>%{hovertext}</b><br><br>Group=Manufacturing<br>Year=1999<br>x=%{x}<br>y=%{y}<br>Value=%{marker.size}<extra></extra>",
           "hovertext": [
            "Manufacturing"
           ],
           "legendgroup": "Manufacturing",
           "marker": {
            "color": "#00cc96",
            "size": {
             "bdata": "F0o+AA==",
             "dtype": "i4"
            },
            "sizemode": "area",
            "sizeref": 1209.4062,
            "symbol": "circle"
           },
           "mode": "markers",
           "name": "Manufacturing",
           "orientation": "v",
           "showlegend": true,
           "type": "scatter",
           "x": {
            "bdata": "ILRBqqxc5b8=",
            "dtype": "f8"
           },
           "xaxis": "x",
           "y": {
            "bdata": "D68CBPVlB0A=",
            "dtype": "f8"
           },
           "yaxis": "y"
          },
          {
           "hovertemplate": "<b>%{hovertext}</b><br><br>Group=Primary Industries<br>Year=1999<br>x=%{x}<br>y=%{y}<br>Value=%{marker.size}<extra></extra>",
           "hovertext": [
            "Primary Industries"
           ],
           "legendgroup": "Primary Industries",
           "marker": {
            "color": "#ab63fa",
            "size": {
             "bdata": "DSAGAA==",
             "dtype": "i4"
            },
            "sizemode": "area",
            "sizeref": 1209.4062,
            "symbol": "circle"
           },
           "mode": "markers",
           "name": "Primary Industries",
           "orientation": "v",
           "showlegend": true,
           "type": "scatter",
           "x": {
            "bdata": "VIVYf42fBcA=",
            "dtype": "f8"
           },
           "xaxis": "x",
           "y": {
            "bdata": "0kAVOpDT9D8=",
            "dtype": "f8"
           },
           "yaxis": "y"
          },
          {
           "hovertemplate": "<b>%{hovertext}</b><br><br>Group=Professional & Public Services<br>Year=1999<br>x=%{x}<br>y=%{y}<br>Value=%{marker.size}<extra></extra>",
           "hovertext": [
            "Professional & Public Services"
           ],
           "legendgroup": "Professional & Public Services",
           "marker": {
            "color": "#FFA15A",
            "size": {
             "bdata": "6JM8AA==",
             "dtype": "i4"
            },
            "sizemode": "area",
            "sizeref": 1209.4062,
            "symbol": "circle"
           },
           "mode": "markers",
           "name": "Professional & Public Services",
           "orientation": "v",
           "showlegend": true,
           "type": "scatter",
           "x": {
            "bdata": "VYVYf42fBcA=",
            "dtype": "f8"
           },
           "xaxis": "x",
           "y": {
            "bdata": "z0AVOpDT9L8=",
            "dtype": "f8"
           },
           "yaxis": "y"
          },
          {
           "hovertemplate": "<b>%{hovertext}</b><br><br>Group=Trade & Transportation<br>Year=1999<br>x=%{x}<br>y=%{y}<br>Value=%{marker.size}<extra></extra>",
           "hovertext": [
            "Trade & Transportation"
           ],
           "legendgroup": "Trade & Transportation",
           "marker": {
            "color": "#19d3f3",
            "size": {
             "bdata": "2q0jAA==",
             "dtype": "i4"
            },
            "sizemode": "area",
            "sizeref": 1209.4062,
            "symbol": "circle"
           },
           "mode": "markers",
           "name": "Trade & Transportation",
           "orientation": "v",
           "showlegend": true,
           "type": "scatter",
           "x": {
            "bdata": "J7RBqqxc5b8=",
            "dtype": "f8"
           },
           "xaxis": "x",
           "y": {
            "bdata": "D68CBPVlB8A=",
            "dtype": "f8"
           },
           "yaxis": "y"
          },
          {
           "hovertemplate": "<b>%{hovertext}</b><br><br>Group=Utilities & Construction<br>Year=1999<br>x=%{x}<br>y=%{y}<br>Value=%{marker.size}<extra></extra>",
           "hovertext": [
            "Utilities & Construction"
           ],
           "legendgroup": "Utilities & Construction",
           "marker": {
            "color": "#FF6692",
            "size": {
             "bdata": "UaURAA==",
             "dtype": "i4"
            },
            "sizemode": "area",
            "sizeref": 1209.4062,
            "symbol": "circle"
           },
           "mode": "markers",
           "name": "Utilities & Construction",
           "orientation": "v",
           "showlegend": true,
           "type": "scatter",
           "x": {
            "bdata": "uOTRU3Ht/T8=",
            "dtype": "f8"
           },
           "xaxis": "x",
           "y": {
            "bdata": "uWbEl5LDAsA=",
            "dtype": "f8"
           },
           "yaxis": "y"
          }
         ],
         "name": "1999"
        },
        {
         "data": [
          {
           "hovertemplate": "<b>%{hovertext}</b><br><br>Group=Health, Education & Leisure<br>Year=2000<br>x=%{x}<br>y=%{y}<br>Value=%{marker.size}<extra></extra>",
           "hovertext": [
            "Health, Education & Leisure"
           ],
           "legendgroup": "Health, Education & Leisure",
           "marker": {
            "color": "#636efa",
            "size": {
             "bdata": "+6ghAA==",
             "dtype": "i4"
            },
            "sizemode": "area",
            "sizeref": 1209.4062,
            "symbol": "circle"
           },
           "mode": "markers",
           "name": "Health, Education & Leisure",
           "orientation": "v",
           "showlegend": true,
           "type": "scatter",
           "x": {
            "bdata": "AAAAAAAACEA=",
            "dtype": "f8"
           },
           "xaxis": "x",
           "y": {
            "bdata": "AAAAAAAAAAA=",
            "dtype": "f8"
           },
           "yaxis": "y"
          },
          {
           "hovertemplate": "<b>%{hovertext}</b><br><br>Group=Information & Finance<br>Year=2000<br>x=%{x}<br>y=%{y}<br>Value=%{marker.size}<extra></extra>",
           "hovertext": [
            "Information & Finance"
           ],
           "legendgroup": "Information & Finance",
           "marker": {
            "color": "#EF553B",
            "size": {
             "bdata": "6iQ/AA==",
             "dtype": "i4"
            },
            "sizemode": "area",
            "sizeref": 1209.4062,
            "symbol": "circle"
           },
           "mode": "markers",
           "name": "Information & Finance",
           "orientation": "v",
           "showlegend": true,
           "type": "scatter",
           "x": {
            "bdata": "u+TRU3Ht/T8=",
            "dtype": "f8"
           },
           "xaxis": "x",
           "y": {
            "bdata": "uGbEl5LDAkA=",
            "dtype": "f8"
           },
           "yaxis": "y"
          },
          {
           "hovertemplate": "<b>%{hovertext}</b><br><br>Group=Manufacturing<br>Year=2000<br>x=%{x}<br>y=%{y}<br>Value=%{marker.size}<extra></extra>",
           "hovertext": [
            "Manufacturing"
           ],
           "legendgroup": "Manufacturing",
           "marker": {
            "color": "#00cc96",
            "size": {
             "bdata": "j3hBAA==",
             "dtype": "i4"
            },
            "sizemode": "area",
            "sizeref": 1209.4062,
            "symbol": "circle"
           },
           "mode": "markers",
           "name": "Manufacturing",
           "orientation": "v",
           "showlegend": true,
           "type": "scatter",
           "x": {
            "bdata": "ILRBqqxc5b8=",
            "dtype": "f8"
           },
           "xaxis": "x",
           "y": {
            "bdata": "D68CBPVlB0A=",
            "dtype": "f8"
           },
           "yaxis": "y"
          },
          {
           "hovertemplate": "<b>%{hovertext}</b><br><br>Group=Primary Industries<br>Year=2000<br>x=%{x}<br>y=%{y}<br>Value=%{marker.size}<extra></extra>",
           "hovertext": [
            "Primary Industries"
           ],
           "legendgroup": "Primary Industries",
           "marker": {
            "color": "#ab63fa",
            "size": {
             "bdata": "Nw0HAA==",
             "dtype": "i4"
            },
            "sizemode": "area",
            "sizeref": 1209.4062,
            "symbol": "circle"
           },
           "mode": "markers",
           "name": "Primary Industries",
           "orientation": "v",
           "showlegend": true,
           "type": "scatter",
           "x": {
            "bdata": "VIVYf42fBcA=",
            "dtype": "f8"
           },
           "xaxis": "x",
           "y": {
            "bdata": "0kAVOpDT9D8=",
            "dtype": "f8"
           },
           "yaxis": "y"
          },
          {
           "hovertemplate": "<b>%{hovertext}</b><br><br>Group=Professional & Public Services<br>Year=2000<br>x=%{x}<br>y=%{y}<br>Value=%{marker.size}<extra></extra>",
           "hovertext": [
            "Professional & Public Services"
           ],
           "legendgroup": "Professional & Public Services",
           "marker": {
            "color": "#FFA15A",
            "size": {
             "bdata": "9xNBAA==",
             "dtype": "i4"
            },
            "sizemode": "area",
            "sizeref": 1209.4062,
            "symbol": "circle"
           },
           "mode": "markers",
           "name": "Professional & Public Services",
           "orientation": "v",
           "showlegend": true,
           "type": "scatter",
           "x": {
            "bdata": "VYVYf42fBcA=",
            "dtype": "f8"
           },
           "xaxis": "x",
           "y": {
            "bdata": "z0AVOpDT9L8=",
            "dtype": "f8"
           },
           "yaxis": "y"
          },
          {
           "hovertemplate": "<b>%{hovertext}</b><br><br>Group=Trade & Transportation<br>Year=2000<br>x=%{x}<br>y=%{y}<br>Value=%{marker.size}<extra></extra>",
           "hovertext": [
            "Trade & Transportation"
           ],
           "legendgroup": "Trade & Transportation",
           "marker": {
            "color": "#19d3f3",
            "size": {
             "bdata": "sdklAA==",
             "dtype": "i4"
            },
            "sizemode": "area",
            "sizeref": 1209.4062,
            "symbol": "circle"
           },
           "mode": "markers",
           "name": "Trade & Transportation",
           "orientation": "v",
           "showlegend": true,
           "type": "scatter",
           "x": {
            "bdata": "J7RBqqxc5b8=",
            "dtype": "f8"
           },
           "xaxis": "x",
           "y": {
            "bdata": "D68CBPVlB8A=",
            "dtype": "f8"
           },
           "yaxis": "y"
          },
          {
           "hovertemplate": "<b>%{hovertext}</b><br><br>Group=Utilities & Construction<br>Year=2000<br>x=%{x}<br>y=%{y}<br>Value=%{marker.size}<extra></extra>",
           "hovertext": [
            "Utilities & Construction"
           ],
           "legendgroup": "Utilities & Construction",
           "marker": {
            "color": "#FF6692",
            "size": {
             "bdata": "saMTAA==",
             "dtype": "i4"
            },
            "sizemode": "area",
            "sizeref": 1209.4062,
            "symbol": "circle"
           },
           "mode": "markers",
           "name": "Utilities & Construction",
           "orientation": "v",
           "showlegend": true,
           "type": "scatter",
           "x": {
            "bdata": "uOTRU3Ht/T8=",
            "dtype": "f8"
           },
           "xaxis": "x",
           "y": {
            "bdata": "uWbEl5LDAsA=",
            "dtype": "f8"
           },
           "yaxis": "y"
          }
         ],
         "name": "2000"
        },
        {
         "data": [
          {
           "hovertemplate": "<b>%{hovertext}</b><br><br>Group=Health, Education & Leisure<br>Year=2001<br>x=%{x}<br>y=%{y}<br>Value=%{marker.size}<extra></extra>",
           "hovertext": [
            "Health, Education & Leisure"
           ],
           "legendgroup": "Health, Education & Leisure",
           "marker": {
            "color": "#636efa",
            "size": {
             "bdata": "I7YjAA==",
             "dtype": "i4"
            },
            "sizemode": "area",
            "sizeref": 1209.4062,
            "symbol": "circle"
           },
           "mode": "markers",
           "name": "Health, Education & Leisure",
           "orientation": "v",
           "showlegend": true,
           "type": "scatter",
           "x": {
            "bdata": "AAAAAAAACEA=",
            "dtype": "f8"
           },
           "xaxis": "x",
           "y": {
            "bdata": "AAAAAAAAAAA=",
            "dtype": "f8"
           },
           "yaxis": "y"
          },
          {
           "hovertemplate": "<b>%{hovertext}</b><br><br>Group=Information & Finance<br>Year=2001<br>x=%{x}<br>y=%{y}<br>Value=%{marker.size}<extra></extra>",
           "hovertext": [
            "Information & Finance"
           ],
           "legendgroup": "Information & Finance",
           "marker": {
            "color": "#EF553B",
            "size": {
             "bdata": "YOZAAA==",
             "dtype": "i4"
            },
            "sizemode": "area",
            "sizeref": 1209.4062,
            "symbol": "circle"
           },
           "mode": "markers",
           "name": "Information & Finance",
           "orientation": "v",
           "showlegend": true,
           "type": "scatter",
           "x": {
            "bdata": "u+TRU3Ht/T8=",
            "dtype": "f8"
           },
           "xaxis": "x",
           "y": {
            "bdata": "uGbEl5LDAkA=",
            "dtype": "f8"
           },
           "yaxis": "y"
          },
          {
           "hovertemplate": "<b>%{hovertext}</b><br><br>Group=Manufacturing<br>Year=2001<br>x=%{x}<br>y=%{y}<br>Value=%{marker.size}<extra></extra>",
           "hovertext": [
            "Manufacturing"
           ],
           "legendgroup": "Manufacturing",
           "marker": {
            "color": "#00cc96",
            "size": {
             "bdata": "Q8o9AA==",
             "dtype": "i4"
            },
            "sizemode": "area",
            "sizeref": 1209.4062,
            "symbol": "circle"
           },
           "mode": "markers",
           "name": "Manufacturing",
           "orientation": "v",
           "showlegend": true,
           "type": "scatter",
           "x": {
            "bdata": "ILRBqqxc5b8=",
            "dtype": "f8"
           },
           "xaxis": "x",
           "y": {
            "bdata": "D68CBPVlB0A=",
            "dtype": "f8"
           },
           "yaxis": "y"
          },
          {
           "hovertemplate": "<b>%{hovertext}</b><br><br>Group=Primary Industries<br>Year=2001<br>x=%{x}<br>y=%{y}<br>Value=%{marker.size}<extra></extra>",
           "hovertext": [
            "Primary Industries"
           ],
           "legendgroup": "Primary Industries",
           "marker": {
            "color": "#ab63fa",
            "size": {
             "bdata": "9koHAA==",
             "dtype": "i4"
            },
            "sizemode": "area",
            "sizeref": 1209.4062,
            "symbol": "circle"
           },
           "mode": "markers",
           "name": "Primary Industries",
           "orientation": "v",
           "showlegend": true,
           "type": "scatter",
           "x": {
            "bdata": "VIVYf42fBcA=",
            "dtype": "f8"
           },
           "xaxis": "x",
           "y": {
            "bdata": "0kAVOpDT9D8=",
            "dtype": "f8"
           },
           "yaxis": "y"
          },
          {
           "hovertemplate": "<b>%{hovertext}</b><br><br>Group=Professional & Public Services<br>Year=2001<br>x=%{x}<br>y=%{y}<br>Value=%{marker.size}<extra></extra>",
           "hovertext": [
            "Professional & Public Services"
           ],
           "legendgroup": "Professional & Public Services",
           "marker": {
            "color": "#FFA15A",
            "size": {
             "bdata": "YO1DAA==",
             "dtype": "i4"
            },
            "sizemode": "area",
            "sizeref": 1209.4062,
            "symbol": "circle"
           },
           "mode": "markers",
           "name": "Professional & Public Services",
           "orientation": "v",
           "showlegend": true,
           "type": "scatter",
           "x": {
            "bdata": "VYVYf42fBcA=",
            "dtype": "f8"
           },
           "xaxis": "x",
           "y": {
            "bdata": "z0AVOpDT9L8=",
            "dtype": "f8"
           },
           "yaxis": "y"
          },
          {
           "hovertemplate": "<b>%{hovertext}</b><br><br>Group=Trade & Transportation<br>Year=2001<br>x=%{x}<br>y=%{y}<br>Value=%{marker.size}<extra></extra>",
           "hovertext": [
            "Trade & Transportation"
           ],
           "legendgroup": "Trade & Transportation",
           "marker": {
            "color": "#19d3f3",
            "size": {
             "bdata": "XkwlAA==",
             "dtype": "i4"
            },
            "sizemode": "area",
            "sizeref": 1209.4062,
            "symbol": "circle"
           },
           "mode": "markers",
           "name": "Trade & Transportation",
           "orientation": "v",
           "showlegend": true,
           "type": "scatter",
           "x": {
            "bdata": "J7RBqqxc5b8=",
            "dtype": "f8"
           },
           "xaxis": "x",
           "y": {
            "bdata": "D68CBPVlB8A=",
            "dtype": "f8"
           },
           "yaxis": "y"
          },
          {
           "hovertemplate": "<b>%{hovertext}</b><br><br>Group=Utilities & Construction<br>Year=2001<br>x=%{x}<br>y=%{y}<br>Value=%{marker.size}<extra></extra>",
           "hovertext": [
            "Utilities & Construction"
           ],
           "legendgroup": "Utilities & Construction",
           "marker": {
            "color": "#FF6692",
            "size": {
             "bdata": "sWkVAA==",
             "dtype": "i4"
            },
            "sizemode": "area",
            "sizeref": 1209.4062,
            "symbol": "circle"
           },
           "mode": "markers",
           "name": "Utilities & Construction",
           "orientation": "v",
           "showlegend": true,
           "type": "scatter",
           "x": {
            "bdata": "uOTRU3Ht/T8=",
            "dtype": "f8"
           },
           "xaxis": "x",
           "y": {
            "bdata": "uWbEl5LDAsA=",
            "dtype": "f8"
           },
           "yaxis": "y"
          }
         ],
         "name": "2001"
        },
        {
         "data": [
          {
           "hovertemplate": "<b>%{hovertext}</b><br><br>Group=Health, Education & Leisure<br>Year=2002<br>x=%{x}<br>y=%{y}<br>Value=%{marker.size}<extra></extra>",
           "hovertext": [
            "Health, Education & Leisure"
           ],
           "legendgroup": "Health, Education & Leisure",
           "marker": {
            "color": "#636efa",
            "size": {
             "bdata": "Ju0lAA==",
             "dtype": "i4"
            },
            "sizemode": "area",
            "sizeref": 1209.4062,
            "symbol": "circle"
           },
           "mode": "markers",
           "name": "Health, Education & Leisure",
           "orientation": "v",
           "showlegend": true,
           "type": "scatter",
           "x": {
            "bdata": "AAAAAAAACEA=",
            "dtype": "f8"
           },
           "xaxis": "x",
           "y": {
            "bdata": "AAAAAAAAAAA=",
            "dtype": "f8"
           },
           "yaxis": "y"
          },
          {
           "hovertemplate": "<b>%{hovertext}</b><br><br>Group=Information & Finance<br>Year=2002<br>x=%{x}<br>y=%{y}<br>Value=%{marker.size}<extra></extra>",
           "hovertext": [
            "Information & Finance"
           ],
           "legendgroup": "Information & Finance",
           "marker": {
            "color": "#EF553B",
            "size": {
             "bdata": "AN9CAA==",
             "dtype": "i4"
            },
            "sizemode": "area",
            "sizeref": 1209.4062,
            "symbol": "circle"
           },
           "mode": "markers",
           "name": "Information & Finance",
           "orientation": "v",
           "showlegend": true,
           "type": "scatter",
           "x": {
            "bdata": "u+TRU3Ht/T8=",
            "dtype": "f8"
           },
           "xaxis": "x",
           "y": {
            "bdata": "uGbEl5LDAkA=",
            "dtype": "f8"
           },
           "yaxis": "y"
          },
          {
           "hovertemplate": "<b>%{hovertext}</b><br><br>Group=Manufacturing<br>Year=2002<br>x=%{x}<br>y=%{y}<br>Value=%{marker.size}<extra></extra>",
           "hovertext": [
            "Manufacturing"
           ],
           "legendgroup": "Manufacturing",
           "marker": {
            "color": "#00cc96",
            "size": {
             "bdata": "QZw8AA==",
             "dtype": "i4"
            },
            "sizemode": "area",
            "sizeref": 1209.4062,
            "symbol": "circle"
           },
           "mode": "markers",
           "name": "Manufacturing",
           "orientation": "v",
           "showlegend": true,
           "type": "scatter",
           "x": {
            "bdata": "ILRBqqxc5b8=",
            "dtype": "f8"
           },
           "xaxis": "x",
           "y": {
            "bdata": "D68CBPVlB0A=",
            "dtype": "f8"
           },
           "yaxis": "y"
          },
          {
           "hovertemplate": "<b>%{hovertext}</b><br><br>Group=Primary Industries<br>Year=2002<br>x=%{x}<br>y=%{y}<br>Value=%{marker.size}<extra></extra>",
           "hovertext": [
            "Primary Industries"
           ],
           "legendgroup": "Primary Industries",
           "marker": {
            "color": "#ab63fa",
            "size": {
             "bdata": "Ya4GAA==",
             "dtype": "i4"
            },
            "sizemode": "area",
            "sizeref": 1209.4062,
            "symbol": "circle"
           },
           "mode": "markers",
           "name": "Primary Industries",
           "orientation": "v",
           "showlegend": true,
           "type": "scatter",
           "x": {
            "bdata": "VIVYf42fBcA=",
            "dtype": "f8"
           },
           "xaxis": "x",
           "y": {
            "bdata": "0kAVOpDT9D8=",
            "dtype": "f8"
           },
           "yaxis": "y"
          },
          {
           "hovertemplate": "<b>%{hovertext}</b><br><br>Group=Professional & Public Services<br>Year=2002<br>x=%{x}<br>y=%{y}<br>Value=%{marker.size}<extra></extra>",
           "hovertext": [
            "Professional & Public Services"
           ],
           "legendgroup": "Professional & Public Services",
           "marker": {
            "color": "#FFA15A",
            "size": {
             "bdata": "Qh1HAA==",
             "dtype": "i4"
            },
            "sizemode": "area",
            "sizeref": 1209.4062,
            "symbol": "circle"
           },
           "mode": "markers",
           "name": "Professional & Public Services",
           "orientation": "v",
           "showlegend": true,
           "type": "scatter",
           "x": {
            "bdata": "VYVYf42fBcA=",
            "dtype": "f8"
           },
           "xaxis": "x",
           "y": {
            "bdata": "z0AVOpDT9L8=",
            "dtype": "f8"
           },
           "yaxis": "y"
          },
          {
           "hovertemplate": "<b>%{hovertext}</b><br><br>Group=Trade & Transportation<br>Year=2002<br>x=%{x}<br>y=%{y}<br>Value=%{marker.size}<extra></extra>",
           "hovertext": [
            "Trade & Transportation"
           ],
           "legendgroup": "Trade & Transportation",
           "marker": {
            "color": "#19d3f3",
            "size": {
             "bdata": "pqQmAA==",
             "dtype": "i4"
            },
            "sizemode": "area",
            "sizeref": 1209.4062,
            "symbol": "circle"
           },
           "mode": "markers",
           "name": "Trade & Transportation",
           "orientation": "v",
           "showlegend": true,
           "type": "scatter",
           "x": {
            "bdata": "J7RBqqxc5b8=",
            "dtype": "f8"
           },
           "xaxis": "x",
           "y": {
            "bdata": "D68CBPVlB8A=",
            "dtype": "f8"
           },
           "yaxis": "y"
          },
          {
           "hovertemplate": "<b>%{hovertext}</b><br><br>Group=Utilities & Construction<br>Year=2002<br>x=%{x}<br>y=%{y}<br>Value=%{marker.size}<extra></extra>",
           "hovertext": [
            "Utilities & Construction"
           ],
           "legendgroup": "Utilities & Construction",
           "marker": {
            "color": "#FF6692",
            "size": {
             "bdata": "y8ITAA==",
             "dtype": "i4"
            },
            "sizemode": "area",
            "sizeref": 1209.4062,
            "symbol": "circle"
           },
           "mode": "markers",
           "name": "Utilities & Construction",
           "orientation": "v",
           "showlegend": true,
           "type": "scatter",
           "x": {
            "bdata": "uOTRU3Ht/T8=",
            "dtype": "f8"
           },
           "xaxis": "x",
           "y": {
            "bdata": "uWbEl5LDAsA=",
            "dtype": "f8"
           },
           "yaxis": "y"
          }
         ],
         "name": "2002"
        },
        {
         "data": [
          {
           "hovertemplate": "<b>%{hovertext}</b><br><br>Group=Health, Education & Leisure<br>Year=2003<br>x=%{x}<br>y=%{y}<br>Value=%{marker.size}<extra></extra>",
           "hovertext": [
            "Health, Education & Leisure"
           ],
           "legendgroup": "Health, Education & Leisure",
           "marker": {
            "color": "#636efa",
            "size": {
             "bdata": "twQoAA==",
             "dtype": "i4"
            },
            "sizemode": "area",
            "sizeref": 1209.4062,
            "symbol": "circle"
           },
           "mode": "markers",
           "name": "Health, Education & Leisure",
           "orientation": "v",
           "showlegend": true,
           "type": "scatter",
           "x": {
            "bdata": "AAAAAAAACEA=",
            "dtype": "f8"
           },
           "xaxis": "x",
           "y": {
            "bdata": "AAAAAAAAAAA=",
            "dtype": "f8"
           },
           "yaxis": "y"
          },
          {
           "hovertemplate": "<b>%{hovertext}</b><br><br>Group=Information & Finance<br>Year=2003<br>x=%{x}<br>y=%{y}<br>Value=%{marker.size}<extra></extra>",
           "hovertext": [
            "Information & Finance"
           ],
           "legendgroup": "Information & Finance",
           "marker": {
            "color": "#EF553B",
            "size": {
             "bdata": "XFdGAA==",
             "dtype": "i4"
            },
            "sizemode": "area",
            "sizeref": 1209.4062,
            "symbol": "circle"
           },
           "mode": "markers",
           "name": "Information & Finance",
           "orientation": "v",
           "showlegend": true,
           "type": "scatter",
           "x": {
            "bdata": "u+TRU3Ht/T8=",
            "dtype": "f8"
           },
           "xaxis": "x",
           "y": {
            "bdata": "uGbEl5LDAkA=",
            "dtype": "f8"
           },
           "yaxis": "y"
          },
          {
           "hovertemplate": "<b>%{hovertext}</b><br><br>Group=Manufacturing<br>Year=2003<br>x=%{x}<br>y=%{y}<br>Value=%{marker.size}<extra></extra>",
           "hovertext": [
            "Manufacturing"
           ],
           "legendgroup": "Manufacturing",
           "marker": {
            "color": "#00cc96",
            "size": {
             "bdata": "9M89AA==",
             "dtype": "i4"
            },
            "sizemode": "area",
            "sizeref": 1209.4062,
            "symbol": "circle"
           },
           "mode": "markers",
           "name": "Manufacturing",
           "orientation": "v",
           "showlegend": true,
           "type": "scatter",
           "x": {
            "bdata": "ILRBqqxc5b8=",
            "dtype": "f8"
           },
           "xaxis": "x",
           "y": {
            "bdata": "D68CBPVlB0A=",
            "dtype": "f8"
           },
           "yaxis": "y"
          },
          {
           "hovertemplate": "<b>%{hovertext}</b><br><br>Group=Primary Industries<br>Year=2003<br>x=%{x}<br>y=%{y}<br>Value=%{marker.size}<extra></extra>",
           "hovertext": [
            "Primary Industries"
           ],
           "legendgroup": "Primary Industries",
           "marker": {
            "color": "#ab63fa",
            "size": {
             "bdata": "0vcHAA==",
             "dtype": "i4"
            },
            "sizemode": "area",
            "sizeref": 1209.4062,
            "symbol": "circle"
           },
           "mode": "markers",
           "name": "Primary Industries",
           "orientation": "v",
           "showlegend": true,
           "type": "scatter",
           "x": {
            "bdata": "VIVYf42fBcA=",
            "dtype": "f8"
           },
           "xaxis": "x",
           "y": {
            "bdata": "0kAVOpDT9D8=",
            "dtype": "f8"
           },
           "yaxis": "y"
          },
          {
           "hovertemplate": "<b>%{hovertext}</b><br><br>Group=Professional & Public Services<br>Year=2003<br>x=%{x}<br>y=%{y}<br>Value=%{marker.size}<extra></extra>",
           "hovertext": [
            "Professional & Public Services"
           ],
           "legendgroup": "Professional & Public Services",
           "marker": {
            "color": "#FFA15A",
            "size": {
             "bdata": "yJBLAA==",
             "dtype": "i4"
            },
            "sizemode": "area",
            "sizeref": 1209.4062,
            "symbol": "circle"
           },
           "mode": "markers",
           "name": "Professional & Public Services",
           "orientation": "v",
           "showlegend": true,
           "type": "scatter",
           "x": {
            "bdata": "VYVYf42fBcA=",
            "dtype": "f8"
           },
           "xaxis": "x",
           "y": {
            "bdata": "z0AVOpDT9L8=",
            "dtype": "f8"
           },
           "yaxis": "y"
          },
          {
           "hovertemplate": "<b>%{hovertext}</b><br><br>Group=Trade & Transportation<br>Year=2003<br>x=%{x}<br>y=%{y}<br>Value=%{marker.size}<extra></extra>",
           "hovertext": [
            "Trade & Transportation"
           ],
           "legendgroup": "Trade & Transportation",
           "marker": {
            "color": "#19d3f3",
            "size": {
             "bdata": "K6soAA==",
             "dtype": "i4"
            },
            "sizemode": "area",
            "sizeref": 1209.4062,
            "symbol": "circle"
           },
           "mode": "markers",
           "name": "Trade & Transportation",
           "orientation": "v",
           "showlegend": true,
           "type": "scatter",
           "x": {
            "bdata": "J7RBqqxc5b8=",
            "dtype": "f8"
           },
           "xaxis": "x",
           "y": {
            "bdata": "D68CBPVlB8A=",
            "dtype": "f8"
           },
           "yaxis": "y"
          },
          {
           "hovertemplate": "<b>%{hovertext}</b><br><br>Group=Utilities & Construction<br>Year=2003<br>x=%{x}<br>y=%{y}<br>Value=%{marker.size}<extra></extra>",
           "hovertext": [
            "Utilities & Construction"
           ],
           "legendgroup": "Utilities & Construction",
           "marker": {
            "color": "#FF6692",
            "size": {
             "bdata": "yBgVAA==",
             "dtype": "i4"
            },
            "sizemode": "area",
            "sizeref": 1209.4062,
            "symbol": "circle"
           },
           "mode": "markers",
           "name": "Utilities & Construction",
           "orientation": "v",
           "showlegend": true,
           "type": "scatter",
           "x": {
            "bdata": "uOTRU3Ht/T8=",
            "dtype": "f8"
           },
           "xaxis": "x",
           "y": {
            "bdata": "uWbEl5LDAsA=",
            "dtype": "f8"
           },
           "yaxis": "y"
          }
         ],
         "name": "2003"
        },
        {
         "data": [
          {
           "hovertemplate": "<b>%{hovertext}</b><br><br>Group=Health, Education & Leisure<br>Year=2004<br>x=%{x}<br>y=%{y}<br>Value=%{marker.size}<extra></extra>",
           "hovertext": [
            "Health, Education & Leisure"
           ],
           "legendgroup": "Health, Education & Leisure",
           "marker": {
            "color": "#636efa",
            "size": {
             "bdata": "NmIqAA==",
             "dtype": "i4"
            },
            "sizemode": "area",
            "sizeref": 1209.4062,
            "symbol": "circle"
           },
           "mode": "markers",
           "name": "Health, Education & Leisure",
           "orientation": "v",
           "showlegend": true,
           "type": "scatter",
           "x": {
            "bdata": "AAAAAAAACEA=",
            "dtype": "f8"
           },
           "xaxis": "x",
           "y": {
            "bdata": "AAAAAAAAAAA=",
            "dtype": "f8"
           },
           "yaxis": "y"
          },
          {
           "hovertemplate": "<b>%{hovertext}</b><br><br>Group=Information & Finance<br>Year=2004<br>x=%{x}<br>y=%{y}<br>Value=%{marker.size}<extra></extra>",
           "hovertext": [
            "Information & Finance"
           ],
           "legendgroup": "Information & Finance",
           "marker": {
            "color": "#EF553B",
            "size": {
             "bdata": "Y49LAA==",
             "dtype": "i4"
            },
            "sizemode": "area",
            "sizeref": 1209.4062,
            "symbol": "circle"
           },
           "mode": "markers",
           "name": "Information & Finance",
           "orientation": "v",
           "showlegend": true,
           "type": "scatter",
           "x": {
            "bdata": "u+TRU3Ht/T8=",
            "dtype": "f8"
           },
           "xaxis": "x",
           "y": {
            "bdata": "uGbEl5LDAkA=",
            "dtype": "f8"
           },
           "yaxis": "y"
          },
          {
           "hovertemplate": "<b>%{hovertext}</b><br><br>Group=Manufacturing<br>Year=2004<br>x=%{x}<br>y=%{y}<br>Value=%{marker.size}<extra></extra>",
           "hovertext": [
            "Manufacturing"
           ],
           "legendgroup": "Manufacturing",
           "marker": {
            "color": "#00cc96",
            "size": {
             "bdata": "z4VCAA==",
             "dtype": "i4"
            },
            "sizemode": "area",
            "sizeref": 1209.4062,
            "symbol": "circle"
           },
           "mode": "markers",
           "name": "Manufacturing",
           "orientation": "v",
           "showlegend": true,
           "type": "scatter",
           "x": {
            "bdata": "ILRBqqxc5b8=",
            "dtype": "f8"
           },
           "xaxis": "x",
           "y": {
            "bdata": "D68CBPVlB0A=",
            "dtype": "f8"
           },
           "yaxis": "y"
          },
          {
           "hovertemplate": "<b>%{hovertext}</b><br><br>Group=Primary Industries<br>Year=2004<br>x=%{x}<br>y=%{y}<br>Value=%{marker.size}<extra></extra>",
           "hovertext": [
            "Primary Industries"
           ],
           "legendgroup": "Primary Industries",
           "marker": {
            "color": "#ab63fa",
            "size": {
             "bdata": "ZUkJAA==",
             "dtype": "i4"
            },
            "sizemode": "area",
            "sizeref": 1209.4062,
            "symbol": "circle"
           },
           "mode": "markers",
           "name": "Primary Industries",
           "orientation": "v",
           "showlegend": true,
           "type": "scatter",
           "x": {
            "bdata": "VIVYf42fBcA=",
            "dtype": "f8"
           },
           "xaxis": "x",
           "y": {
            "bdata": "0kAVOpDT9D8=",
            "dtype": "f8"
           },
           "yaxis": "y"
          },
          {
           "hovertemplate": "<b>%{hovertext}</b><br><br>Group=Professional & Public Services<br>Year=2004<br>x=%{x}<br>y=%{y}<br>Value=%{marker.size}<extra></extra>",
           "hovertext": [
            "Professional & Public Services"
           ],
           "legendgroup": "Professional & Public Services",
           "marker": {
            "color": "#FFA15A",
            "size": {
             "bdata": "ltdQAA==",
             "dtype": "i4"
            },
            "sizemode": "area",
            "sizeref": 1209.4062,
            "symbol": "circle"
           },
           "mode": "markers",
           "name": "Professional & Public Services",
           "orientation": "v",
           "showlegend": true,
           "type": "scatter",
           "x": {
            "bdata": "VYVYf42fBcA=",
            "dtype": "f8"
           },
           "xaxis": "x",
           "y": {
            "bdata": "z0AVOpDT9L8=",
            "dtype": "f8"
           },
           "yaxis": "y"
          },
          {
           "hovertemplate": "<b>%{hovertext}</b><br><br>Group=Trade & Transportation<br>Year=2004<br>x=%{x}<br>y=%{y}<br>Value=%{marker.size}<extra></extra>",
           "hovertext": [
            "Trade & Transportation"
           ],
           "legendgroup": "Trade & Transportation",
           "marker": {
            "color": "#19d3f3",
            "size": {
             "bdata": "X0csAA==",
             "dtype": "i4"
            },
            "sizemode": "area",
            "sizeref": 1209.4062,
            "symbol": "circle"
           },
           "mode": "markers",
           "name": "Trade & Transportation",
           "orientation": "v",
           "showlegend": true,
           "type": "scatter",
           "x": {
            "bdata": "J7RBqqxc5b8=",
            "dtype": "f8"
           },
           "xaxis": "x",
           "y": {
            "bdata": "D68CBPVlB8A=",
            "dtype": "f8"
           },
           "yaxis": "y"
          },
          {
           "hovertemplate": "<b>%{hovertext}</b><br><br>Group=Utilities & Construction<br>Year=2004<br>x=%{x}<br>y=%{y}<br>Value=%{marker.size}<extra></extra>",
           "hovertext": [
            "Utilities & Construction"
           ],
           "legendgroup": "Utilities & Construction",
           "marker": {
            "color": "#FF6692",
            "size": {
             "bdata": "igkXAA==",
             "dtype": "i4"
            },
            "sizemode": "area",
            "sizeref": 1209.4062,
            "symbol": "circle"
           },
           "mode": "markers",
           "name": "Utilities & Construction",
           "orientation": "v",
           "showlegend": true,
           "type": "scatter",
           "x": {
            "bdata": "uOTRU3Ht/T8=",
            "dtype": "f8"
           },
           "xaxis": "x",
           "y": {
            "bdata": "uWbEl5LDAsA=",
            "dtype": "f8"
           },
           "yaxis": "y"
          }
         ],
         "name": "2004"
        },
        {
         "data": [
          {
           "hovertemplate": "<b>%{hovertext}</b><br><br>Group=Health, Education & Leisure<br>Year=2005<br>x=%{x}<br>y=%{y}<br>Value=%{marker.size}<extra></extra>",
           "hovertext": [
            "Health, Education & Leisure"
           ],
           "legendgroup": "Health, Education & Leisure",
           "marker": {
            "color": "#636efa",
            "size": {
             "bdata": "ALwsAA==",
             "dtype": "i4"
            },
            "sizemode": "area",
            "sizeref": 1209.4062,
            "symbol": "circle"
           },
           "mode": "markers",
           "name": "Health, Education & Leisure",
           "orientation": "v",
           "showlegend": true,
           "type": "scatter",
           "x": {
            "bdata": "AAAAAAAACEA=",
            "dtype": "f8"
           },
           "xaxis": "x",
           "y": {
            "bdata": "AAAAAAAAAAA=",
            "dtype": "f8"
           },
           "yaxis": "y"
          },
          {
           "hovertemplate": "<b>%{hovertext}</b><br><br>Group=Information & Finance<br>Year=2005<br>x=%{x}<br>y=%{y}<br>Value=%{marker.size}<extra></extra>",
           "hovertext": [
            "Information & Finance"
           ],
           "legendgroup": "Information & Finance",
           "marker": {
            "color": "#EF553B",
            "size": {
             "bdata": "rxBSAA==",
             "dtype": "i4"
            },
            "sizemode": "area",
            "sizeref": 1209.4062,
            "symbol": "circle"
           },
           "mode": "markers",
           "name": "Information & Finance",
           "orientation": "v",
           "showlegend": true,
           "type": "scatter",
           "x": {
            "bdata": "u+TRU3Ht/T8=",
            "dtype": "f8"
           },
           "xaxis": "x",
           "y": {
            "bdata": "uGbEl5LDAkA=",
            "dtype": "f8"
           },
           "yaxis": "y"
          },
          {
           "hovertemplate": "<b>%{hovertext}</b><br><br>Group=Manufacturing<br>Year=2005<br>x=%{x}<br>y=%{y}<br>Value=%{marker.size}<extra></extra>",
           "hovertext": [
            "Manufacturing"
           ],
           "legendgroup": "Manufacturing",
           "marker": {
            "color": "#00cc96",
            "size": {
             "bdata": "oFFJAA==",
             "dtype": "i4"
            },
            "sizemode": "area",
            "sizeref": 1209.4062,
            "symbol": "circle"
           },
           "mode": "markers",
           "name": "Manufacturing",
           "orientation": "v",
           "showlegend": true,
           "type": "scatter",
           "x": {
            "bdata": "ILRBqqxc5b8=",
            "dtype": "f8"
           },
           "xaxis": "x",
           "y": {
            "bdata": "D68CBPVlB0A=",
            "dtype": "f8"
           },
           "yaxis": "y"
          },
          {
           "hovertemplate": "<b>%{hovertext}</b><br><br>Group=Primary Industries<br>Year=2005<br>x=%{x}<br>y=%{y}<br>Value=%{marker.size}<extra></extra>",
           "hovertext": [
            "Primary Industries"
           ],
           "legendgroup": "Primary Industries",
           "marker": {
            "color": "#ab63fa",
            "size": {
             "bdata": "iZkKAA==",
             "dtype": "i4"
            },
            "sizemode": "area",
            "sizeref": 1209.4062,
            "symbol": "circle"
           },
           "mode": "markers",
           "name": "Primary Industries",
           "orientation": "v",
           "showlegend": true,
           "type": "scatter",
           "x": {
            "bdata": "VIVYf42fBcA=",
            "dtype": "f8"
           },
           "xaxis": "x",
           "y": {
            "bdata": "0kAVOpDT9D8=",
            "dtype": "f8"
           },
           "yaxis": "y"
          },
          {
           "hovertemplate": "<b>%{hovertext}</b><br><br>Group=Professional & Public Services<br>Year=2005<br>x=%{x}<br>y=%{y}<br>Value=%{marker.size}<extra></extra>",
           "hovertext": [
            "Professional & Public Services"
           ],
           "legendgroup": "Professional & Public Services",
           "marker": {
            "color": "#FFA15A",
            "size": {
             "bdata": "GoVWAA==",
             "dtype": "i4"
            },
            "sizemode": "area",
            "sizeref": 1209.4062,
            "symbol": "circle"
           },
           "mode": "markers",
           "name": "Professional & Public Services",
           "orientation": "v",
           "showlegend": true,
           "type": "scatter",
           "x": {
            "bdata": "VYVYf42fBcA=",
            "dtype": "f8"
           },
           "xaxis": "x",
           "y": {
            "bdata": "z0AVOpDT9L8=",
            "dtype": "f8"
           },
           "yaxis": "y"
          },
          {
           "hovertemplate": "<b>%{hovertext}</b><br><br>Group=Trade & Transportation<br>Year=2005<br>x=%{x}<br>y=%{y}<br>Value=%{marker.size}<extra></extra>",
           "hovertext": [
            "Trade & Transportation"
           ],
           "legendgroup": "Trade & Transportation",
           "marker": {
            "color": "#19d3f3",
            "size": {
             "bdata": "REwvAA==",
             "dtype": "i4"
            },
            "sizemode": "area",
            "sizeref": 1209.4062,
            "symbol": "circle"
           },
           "mode": "markers",
           "name": "Trade & Transportation",
           "orientation": "v",
           "showlegend": true,
           "type": "scatter",
           "x": {
            "bdata": "J7RBqqxc5b8=",
            "dtype": "f8"
           },
           "xaxis": "x",
           "y": {
            "bdata": "D68CBPVlB8A=",
            "dtype": "f8"
           },
           "yaxis": "y"
          },
          {
           "hovertemplate": "<b>%{hovertext}</b><br><br>Group=Utilities & Construction<br>Year=2005<br>x=%{x}<br>y=%{y}<br>Value=%{marker.size}<extra></extra>",
           "hovertext": [
            "Utilities & Construction"
           ],
           "legendgroup": "Utilities & Construction",
           "marker": {
            "color": "#FF6692",
            "size": {
             "bdata": "mP0ZAA==",
             "dtype": "i4"
            },
            "sizemode": "area",
            "sizeref": 1209.4062,
            "symbol": "circle"
           },
           "mode": "markers",
           "name": "Utilities & Construction",
           "orientation": "v",
           "showlegend": true,
           "type": "scatter",
           "x": {
            "bdata": "uOTRU3Ht/T8=",
            "dtype": "f8"
           },
           "xaxis": "x",
           "y": {
            "bdata": "uWbEl5LDAsA=",
            "dtype": "f8"
           },
           "yaxis": "y"
          }
         ],
         "name": "2005"
        },
        {
         "data": [
          {
           "hovertemplate": "<b>%{hovertext}</b><br><br>Group=Health, Education & Leisure<br>Year=2006<br>x=%{x}<br>y=%{y}<br>Value=%{marker.size}<extra></extra>",
           "hovertext": [
            "Health, Education & Leisure"
           ],
           "legendgroup": "Health, Education & Leisure",
           "marker": {
            "color": "#636efa",
            "size": {
             "bdata": "U3gvAA==",
             "dtype": "i4"
            },
            "sizemode": "area",
            "sizeref": 1209.4062,
            "symbol": "circle"
           },
           "mode": "markers",
           "name": "Health, Education & Leisure",
           "orientation": "v",
           "showlegend": true,
           "type": "scatter",
           "x": {
            "bdata": "AAAAAAAACEA=",
            "dtype": "f8"
           },
           "xaxis": "x",
           "y": {
            "bdata": "AAAAAAAAAAA=",
            "dtype": "f8"
           },
           "yaxis": "y"
          },
          {
           "hovertemplate": "<b>%{hovertext}</b><br><br>Group=Information & Finance<br>Year=2006<br>x=%{x}<br>y=%{y}<br>Value=%{marker.size}<extra></extra>",
           "hovertext": [
            "Information & Finance"
           ],
           "legendgroup": "Information & Finance",
           "marker": {
            "color": "#EF553B",
            "size": {
             "bdata": "d2RWAA==",
             "dtype": "i4"
            },
            "sizemode": "area",
            "sizeref": 1209.4062,
            "symbol": "circle"
           },
           "mode": "markers",
           "name": "Information & Finance",
           "orientation": "v",
           "showlegend": true,
           "type": "scatter",
           "x": {
            "bdata": "u+TRU3Ht/T8=",
            "dtype": "f8"
           },
           "xaxis": "x",
           "y": {
            "bdata": "uGbEl5LDAkA=",
            "dtype": "f8"
           },
           "yaxis": "y"
          },
          {
           "hovertemplate": "<b>%{hovertext}</b><br><br>Group=Manufacturing<br>Year=2006<br>x=%{x}<br>y=%{y}<br>Value=%{marker.size}<extra></extra>",
           "hovertext": [
            "Manufacturing"
           ],
           "legendgroup": "Manufacturing",
           "marker": {
            "color": "#00cc96",
            "size": {
             "bdata": "1rNNAA==",
             "dtype": "i4"
            },
            "sizemode": "area",
            "sizeref": 1209.4062,
            "symbol": "circle"
           },
           "mode": "markers",
           "name": "Manufacturing",
           "orientation": "v",
           "showlegend": true,
           "type": "scatter",
           "x": {
            "bdata": "ILRBqqxc5b8=",
            "dtype": "f8"
           },
           "xaxis": "x",
           "y": {
            "bdata": "D68CBPVlB0A=",
            "dtype": "f8"
           },
           "yaxis": "y"
          },
          {
           "hovertemplate": "<b>%{hovertext}</b><br><br>Group=Primary Industries<br>Year=2006<br>x=%{x}<br>y=%{y}<br>Value=%{marker.size}<extra></extra>",
           "hovertext": [
            "Primary Industries"
           ],
           "legendgroup": "Primary Industries",
           "marker": {
            "color": "#ab63fa",
            "size": {
             "bdata": "lG4LAA==",
             "dtype": "i4"
            },
            "sizemode": "area",
            "sizeref": 1209.4062,
            "symbol": "circle"
           },
           "mode": "markers",
           "name": "Primary Industries",
           "orientation": "v",
           "showlegend": true,
           "type": "scatter",
           "x": {
            "bdata": "VIVYf42fBcA=",
            "dtype": "f8"
           },
           "xaxis": "x",
           "y": {
            "bdata": "0kAVOpDT9D8=",
            "dtype": "f8"
           },
           "yaxis": "y"
          },
          {
           "hovertemplate": "<b>%{hovertext}</b><br><br>Group=Professional & Public Services<br>Year=2006<br>x=%{x}<br>y=%{y}<br>Value=%{marker.size}<extra></extra>",
           "hovertext": [
            "Professional & Public Services"
           ],
           "legendgroup": "Professional & Public Services",
           "marker": {
            "color": "#FFA15A",
            "size": {
             "bdata": "jONbAA==",
             "dtype": "i4"
            },
            "sizemode": "area",
            "sizeref": 1209.4062,
            "symbol": "circle"
           },
           "mode": "markers",
           "name": "Professional & Public Services",
           "orientation": "v",
           "showlegend": true,
           "type": "scatter",
           "x": {
            "bdata": "VYVYf42fBcA=",
            "dtype": "f8"
           },
           "xaxis": "x",
           "y": {
            "bdata": "z0AVOpDT9L8=",
            "dtype": "f8"
           },
           "yaxis": "y"
          },
          {
           "hovertemplate": "<b>%{hovertext}</b><br><br>Group=Trade & Transportation<br>Year=2006<br>x=%{x}<br>y=%{y}<br>Value=%{marker.size}<extra></extra>",
           "hovertext": [
            "Trade & Transportation"
           ],
           "legendgroup": "Trade & Transportation",
           "marker": {
            "color": "#19d3f3",
            "size": {
             "bdata": "gaUyAA==",
             "dtype": "i4"
            },
            "sizemode": "area",
            "sizeref": 1209.4062,
            "symbol": "circle"
           },
           "mode": "markers",
           "name": "Trade & Transportation",
           "orientation": "v",
           "showlegend": true,
           "type": "scatter",
           "x": {
            "bdata": "J7RBqqxc5b8=",
            "dtype": "f8"
           },
           "xaxis": "x",
           "y": {
            "bdata": "D68CBPVlB8A=",
            "dtype": "f8"
           },
           "yaxis": "y"
          },
          {
           "hovertemplate": "<b>%{hovertext}</b><br><br>Group=Utilities & Construction<br>Year=2006<br>x=%{x}<br>y=%{y}<br>Value=%{marker.size}<extra></extra>",
           "hovertext": [
            "Utilities & Construction"
           ],
           "legendgroup": "Utilities & Construction",
           "marker": {
            "color": "#FF6692",
            "size": {
             "bdata": "4hcbAA==",
             "dtype": "i4"
            },
            "sizemode": "area",
            "sizeref": 1209.4062,
            "symbol": "circle"
           },
           "mode": "markers",
           "name": "Utilities & Construction",
           "orientation": "v",
           "showlegend": true,
           "type": "scatter",
           "x": {
            "bdata": "uOTRU3Ht/T8=",
            "dtype": "f8"
           },
           "xaxis": "x",
           "y": {
            "bdata": "uWbEl5LDAsA=",
            "dtype": "f8"
           },
           "yaxis": "y"
          }
         ],
         "name": "2006"
        },
        {
         "data": [
          {
           "hovertemplate": "<b>%{hovertext}</b><br><br>Group=Health, Education & Leisure<br>Year=2007<br>x=%{x}<br>y=%{y}<br>Value=%{marker.size}<extra></extra>",
           "hovertext": [
            "Health, Education & Leisure"
           ],
           "legendgroup": "Health, Education & Leisure",
           "marker": {
            "color": "#636efa",
            "size": {
             "bdata": "9/IxAA==",
             "dtype": "i4"
            },
            "sizemode": "area",
            "sizeref": 1209.4062,
            "symbol": "circle"
           },
           "mode": "markers",
           "name": "Health, Education & Leisure",
           "orientation": "v",
           "showlegend": true,
           "type": "scatter",
           "x": {
            "bdata": "AAAAAAAACEA=",
            "dtype": "f8"
           },
           "xaxis": "x",
           "y": {
            "bdata": "AAAAAAAAAAA=",
            "dtype": "f8"
           },
           "yaxis": "y"
          },
          {
           "hovertemplate": "<b>%{hovertext}</b><br><br>Group=Information & Finance<br>Year=2007<br>x=%{x}<br>y=%{y}<br>Value=%{marker.size}<extra></extra>",
           "hovertext": [
            "Information & Finance"
           ],
           "legendgroup": "Information & Finance",
           "marker": {
            "color": "#EF553B",
            "size": {
             "bdata": "ACNaAA==",
             "dtype": "i4"
            },
            "sizemode": "area",
            "sizeref": 1209.4062,
            "symbol": "circle"
           },
           "mode": "markers",
           "name": "Information & Finance",
           "orientation": "v",
           "showlegend": true,
           "type": "scatter",
           "x": {
            "bdata": "u+TRU3Ht/T8=",
            "dtype": "f8"
           },
           "xaxis": "x",
           "y": {
            "bdata": "uGbEl5LDAkA=",
            "dtype": "f8"
           },
           "yaxis": "y"
          },
          {
           "hovertemplate": "<b>%{hovertext}</b><br><br>Group=Manufacturing<br>Year=2007<br>x=%{x}<br>y=%{y}<br>Value=%{marker.size}<extra></extra>",
           "hovertext": [
            "Manufacturing"
           ],
           "legendgroup": "Manufacturing",
           "marker": {
            "color": "#00cc96",
            "size": {
             "bdata": "2npSAA==",
             "dtype": "i4"
            },
            "sizemode": "area",
            "sizeref": 1209.4062,
            "symbol": "circle"
           },
           "mode": "markers",
           "name": "Manufacturing",
           "orientation": "v",
           "showlegend": true,
           "type": "scatter",
           "x": {
            "bdata": "ILRBqqxc5b8=",
            "dtype": "f8"
           },
           "xaxis": "x",
           "y": {
            "bdata": "D68CBPVlB0A=",
            "dtype": "f8"
           },
           "yaxis": "y"
          },
          {
           "hovertemplate": "<b>%{hovertext}</b><br><br>Group=Primary Industries<br>Year=2007<br>x=%{x}<br>y=%{y}<br>Value=%{marker.size}<extra></extra>",
           "hovertext": [
            "Primary Industries"
           ],
           "legendgroup": "Primary Industries",
           "marker": {
            "color": "#ab63fa",
            "size": {
             "bdata": "RZkMAA==",
             "dtype": "i4"
            },
            "sizemode": "area",
            "sizeref": 1209.4062,
            "symbol": "circle"
           },
           "mode": "markers",
           "name": "Primary Industries",
           "orientation": "v",
           "showlegend": true,
           "type": "scatter",
           "x": {
            "bdata": "VIVYf42fBcA=",
            "dtype": "f8"
           },
           "xaxis": "x",
           "y": {
            "bdata": "0kAVOpDT9D8=",
            "dtype": "f8"
           },
           "yaxis": "y"
          },
          {
           "hovertemplate": "<b>%{hovertext}</b><br><br>Group=Professional & Public Services<br>Year=2007<br>x=%{x}<br>y=%{y}<br>Value=%{marker.size}<extra></extra>",
           "hovertext": [
            "Professional & Public Services"
           ],
           "legendgroup": "Professional & Public Services",
           "marker": {
            "color": "#FFA15A",
            "size": {
             "bdata": "CfFhAA==",
             "dtype": "i4"
            },
            "sizemode": "area",
            "sizeref": 1209.4062,
            "symbol": "circle"
           },
           "mode": "markers",
           "name": "Professional & Public Services",
           "orientation": "v",
           "showlegend": true,
           "type": "scatter",
           "x": {
            "bdata": "VYVYf42fBcA=",
            "dtype": "f8"
           },
           "xaxis": "x",
           "y": {
            "bdata": "z0AVOpDT9L8=",
            "dtype": "f8"
           },
           "yaxis": "y"
          },
          {
           "hovertemplate": "<b>%{hovertext}</b><br><br>Group=Trade & Transportation<br>Year=2007<br>x=%{x}<br>y=%{y}<br>Value=%{marker.size}<extra></extra>",
           "hovertext": [
            "Trade & Transportation"
           ],
           "legendgroup": "Trade & Transportation",
           "marker": {
            "color": "#19d3f3",
            "size": {
             "bdata": "UfQ0AA==",
             "dtype": "i4"
            },
            "sizemode": "area",
            "sizeref": 1209.4062,
            "symbol": "circle"
           },
           "mode": "markers",
           "name": "Trade & Transportation",
           "orientation": "v",
           "showlegend": true,
           "type": "scatter",
           "x": {
            "bdata": "J7RBqqxc5b8=",
            "dtype": "f8"
           },
           "xaxis": "x",
           "y": {
            "bdata": "D68CBPVlB8A=",
            "dtype": "f8"
           },
           "yaxis": "y"
          },
          {
           "hovertemplate": "<b>%{hovertext}</b><br><br>Group=Utilities & Construction<br>Year=2007<br>x=%{x}<br>y=%{y}<br>Value=%{marker.size}<extra></extra>",
           "hovertext": [
            "Utilities & Construction"
           ],
           "legendgroup": "Utilities & Construction",
           "marker": {
            "color": "#FF6692",
            "size": {
             "bdata": "cVIbAA==",
             "dtype": "i4"
            },
            "sizemode": "area",
            "sizeref": 1209.4062,
            "symbol": "circle"
           },
           "mode": "markers",
           "name": "Utilities & Construction",
           "orientation": "v",
           "showlegend": true,
           "type": "scatter",
           "x": {
            "bdata": "uOTRU3Ht/T8=",
            "dtype": "f8"
           },
           "xaxis": "x",
           "y": {
            "bdata": "uWbEl5LDAsA=",
            "dtype": "f8"
           },
           "yaxis": "y"
          }
         ],
         "name": "2007"
        },
        {
         "data": [
          {
           "hovertemplate": "<b>%{hovertext}</b><br><br>Group=Health, Education & Leisure<br>Year=2008<br>x=%{x}<br>y=%{y}<br>Value=%{marker.size}<extra></extra>",
           "hovertext": [
            "Health, Education & Leisure"
           ],
           "legendgroup": "Health, Education & Leisure",
           "marker": {
            "color": "#636efa",
            "size": {
             "bdata": "TU80AA==",
             "dtype": "i4"
            },
            "sizemode": "area",
            "sizeref": 1209.4062,
            "symbol": "circle"
           },
           "mode": "markers",
           "name": "Health, Education & Leisure",
           "orientation": "v",
           "showlegend": true,
           "type": "scatter",
           "x": {
            "bdata": "AAAAAAAACEA=",
            "dtype": "f8"
           },
           "xaxis": "x",
           "y": {
            "bdata": "AAAAAAAAAAA=",
            "dtype": "f8"
           },
           "yaxis": "y"
          },
          {
           "hovertemplate": "<b>%{hovertext}</b><br><br>Group=Information & Finance<br>Year=2008<br>x=%{x}<br>y=%{y}<br>Value=%{marker.size}<extra></extra>",
           "hovertext": [
            "Information & Finance"
           ],
           "legendgroup": "Information & Finance",
           "marker": {
            "color": "#EF553B",
            "size": {
             "bdata": "ObZaAA==",
             "dtype": "i4"
            },
            "sizemode": "area",
            "sizeref": 1209.4062,
            "symbol": "circle"
           },
           "mode": "markers",
           "name": "Information & Finance",
           "orientation": "v",
           "showlegend": true,
           "type": "scatter",
           "x": {
            "bdata": "u+TRU3Ht/T8=",
            "dtype": "f8"
           },
           "xaxis": "x",
           "y": {
            "bdata": "uGbEl5LDAkA=",
            "dtype": "f8"
           },
           "yaxis": "y"
          },
          {
           "hovertemplate": "<b>%{hovertext}</b><br><br>Group=Manufacturing<br>Year=2008<br>x=%{x}<br>y=%{y}<br>Value=%{marker.size}<extra></extra>",
           "hovertext": [
            "Manufacturing"
           ],
           "legendgroup": "Manufacturing",
           "marker": {
            "color": "#00cc96",
            "size": {
             "bdata": "CNFTAA==",
             "dtype": "i4"
            },
            "sizemode": "area",
            "sizeref": 1209.4062,
            "symbol": "circle"
           },
           "mode": "markers",
           "name": "Manufacturing",
           "orientation": "v",
           "showlegend": true,
           "type": "scatter",
           "x": {
            "bdata": "ILRBqqxc5b8=",
            "dtype": "f8"
           },
           "xaxis": "x",
           "y": {
            "bdata": "D68CBPVlB0A=",
            "dtype": "f8"
           },
           "yaxis": "y"
          },
          {
           "hovertemplate": "<b>%{hovertext}</b><br><br>Group=Primary Industries<br>Year=2008<br>x=%{x}<br>y=%{y}<br>Value=%{marker.size}<extra></extra>",
           "hovertext": [
            "Primary Industries"
           ],
           "legendgroup": "Primary Industries",
           "marker": {
            "color": "#ab63fa",
            "size": {
             "bdata": "SxAPAA==",
             "dtype": "i4"
            },
            "sizemode": "area",
            "sizeref": 1209.4062,
            "symbol": "circle"
           },
           "mode": "markers",
           "name": "Primary Industries",
           "orientation": "v",
           "showlegend": true,
           "type": "scatter",
           "x": {
            "bdata": "VIVYf42fBcA=",
            "dtype": "f8"
           },
           "xaxis": "x",
           "y": {
            "bdata": "0kAVOpDT9D8=",
            "dtype": "f8"
           },
           "yaxis": "y"
          },
          {
           "hovertemplate": "<b>%{hovertext}</b><br><br>Group=Professional & Public Services<br>Year=2008<br>x=%{x}<br>y=%{y}<br>Value=%{marker.size}<extra></extra>",
           "hovertext": [
            "Professional & Public Services"
           ],
           "legendgroup": "Professional & Public Services",
           "marker": {
            "color": "#FFA15A",
            "size": {
             "bdata": "PIZnAA==",
             "dtype": "i4"
            },
            "sizemode": "area",
            "sizeref": 1209.4062,
            "symbol": "circle"
           },
           "mode": "markers",
           "name": "Professional & Public Services",
           "orientation": "v",
           "showlegend": true,
           "type": "scatter",
           "x": {
            "bdata": "VYVYf42fBcA=",
            "dtype": "f8"
           },
           "xaxis": "x",
           "y": {
            "bdata": "z0AVOpDT9L8=",
            "dtype": "f8"
           },
           "yaxis": "y"
          },
          {
           "hovertemplate": "<b>%{hovertext}</b><br><br>Group=Trade & Transportation<br>Year=2008<br>x=%{x}<br>y=%{y}<br>Value=%{marker.size}<extra></extra>",
           "hovertext": [
            "Trade & Transportation"
           ],
           "legendgroup": "Trade & Transportation",
           "marker": {
            "color": "#19d3f3",
            "size": {
             "bdata": "PIs1AA==",
             "dtype": "i4"
            },
            "sizemode": "area",
            "sizeref": 1209.4062,
            "symbol": "circle"
           },
           "mode": "markers",
           "name": "Trade & Transportation",
           "orientation": "v",
           "showlegend": true,
           "type": "scatter",
           "x": {
            "bdata": "J7RBqqxc5b8=",
            "dtype": "f8"
           },
           "xaxis": "x",
           "y": {
            "bdata": "D68CBPVlB8A=",
            "dtype": "f8"
           },
           "yaxis": "y"
          },
          {
           "hovertemplate": "<b>%{hovertext}</b><br><br>Group=Utilities & Construction<br>Year=2008<br>x=%{x}<br>y=%{y}<br>Value=%{marker.size}<extra></extra>",
           "hovertext": [
            "Utilities & Construction"
           ],
           "legendgroup": "Utilities & Construction",
           "marker": {
            "color": "#FF6692",
            "size": {
             "bdata": "1nkbAA==",
             "dtype": "i4"
            },
            "sizemode": "area",
            "sizeref": 1209.4062,
            "symbol": "circle"
           },
           "mode": "markers",
           "name": "Utilities & Construction",
           "orientation": "v",
           "showlegend": true,
           "type": "scatter",
           "x": {
            "bdata": "uOTRU3Ht/T8=",
            "dtype": "f8"
           },
           "xaxis": "x",
           "y": {
            "bdata": "uWbEl5LDAsA=",
            "dtype": "f8"
           },
           "yaxis": "y"
          }
         ],
         "name": "2008"
        },
        {
         "data": [
          {
           "hovertemplate": "<b>%{hovertext}</b><br><br>Group=Health, Education & Leisure<br>Year=2009<br>x=%{x}<br>y=%{y}<br>Value=%{marker.size}<extra></extra>",
           "hovertext": [
            "Health, Education & Leisure"
           ],
           "legendgroup": "Health, Education & Leisure",
           "marker": {
            "color": "#636efa",
            "size": {
             "bdata": "ZgU1AA==",
             "dtype": "i4"
            },
            "sizemode": "area",
            "sizeref": 1209.4062,
            "symbol": "circle"
           },
           "mode": "markers",
           "name": "Health, Education & Leisure",
           "orientation": "v",
           "showlegend": true,
           "type": "scatter",
           "x": {
            "bdata": "AAAAAAAACEA=",
            "dtype": "f8"
           },
           "xaxis": "x",
           "y": {
            "bdata": "AAAAAAAAAAA=",
            "dtype": "f8"
           },
           "yaxis": "y"
          },
          {
           "hovertemplate": "<b>%{hovertext}</b><br><br>Group=Information & Finance<br>Year=2009<br>x=%{x}<br>y=%{y}<br>Value=%{marker.size}<extra></extra>",
           "hovertext": [
            "Information & Finance"
           ],
           "legendgroup": "Information & Finance",
           "marker": {
            "color": "#EF553B",
            "size": {
             "bdata": "mF1XAA==",
             "dtype": "i4"
            },
            "sizemode": "area",
            "sizeref": 1209.4062,
            "symbol": "circle"
           },
           "mode": "markers",
           "name": "Information & Finance",
           "orientation": "v",
           "showlegend": true,
           "type": "scatter",
           "x": {
            "bdata": "u+TRU3Ht/T8=",
            "dtype": "f8"
           },
           "xaxis": "x",
           "y": {
            "bdata": "uGbEl5LDAkA=",
            "dtype": "f8"
           },
           "yaxis": "y"
          },
          {
           "hovertemplate": "<b>%{hovertext}</b><br><br>Group=Manufacturing<br>Year=2009<br>x=%{x}<br>y=%{y}<br>Value=%{marker.size}<extra></extra>",
           "hovertext": [
            "Manufacturing"
           ],
           "legendgroup": "Manufacturing",
           "marker": {
            "color": "#00cc96",
            "size": {
             "bdata": "/d5EAA==",
             "dtype": "i4"
            },
            "sizemode": "area",
            "sizeref": 1209.4062,
            "symbol": "circle"
           },
           "mode": "markers",
           "name": "Manufacturing",
           "orientation": "v",
           "showlegend": true,
           "type": "scatter",
           "x": {
            "bdata": "ILRBqqxc5b8=",
            "dtype": "f8"
           },
           "xaxis": "x",
           "y": {
            "bdata": "D68CBPVlB0A=",
            "dtype": "f8"
           },
           "yaxis": "y"
          },
          {
           "hovertemplate": "<b>%{hovertext}</b><br><br>Group=Primary Industries<br>Year=2009<br>x=%{x}<br>y=%{y}<br>Value=%{marker.size}<extra></extra>",
           "hovertext": [
            "Primary Industries"
           ],
           "legendgroup": "Primary Industries",
           "marker": {
            "color": "#ab63fa",
            "size": {
             "bdata": "v1kLAA==",
             "dtype": "i4"
            },
            "sizemode": "area",
            "sizeref": 1209.4062,
            "symbol": "circle"
           },
           "mode": "markers",
           "name": "Primary Industries",
           "orientation": "v",
           "showlegend": true,
           "type": "scatter",
           "x": {
            "bdata": "VIVYf42fBcA=",
            "dtype": "f8"
           },
           "xaxis": "x",
           "y": {
            "bdata": "0kAVOpDT9D8=",
            "dtype": "f8"
           },
           "yaxis": "y"
          },
          {
           "hovertemplate": "<b>%{hovertext}</b><br><br>Group=Professional & Public Services<br>Year=2009<br>x=%{x}<br>y=%{y}<br>Value=%{marker.size}<extra></extra>",
           "hovertext": [
            "Professional & Public Services"
           ],
           "legendgroup": "Professional & Public Services",
           "marker": {
            "color": "#FFA15A",
            "size": {
             "bdata": "gtJnAA==",
             "dtype": "i4"
            },
            "sizemode": "area",
            "sizeref": 1209.4062,
            "symbol": "circle"
           },
           "mode": "markers",
           "name": "Professional & Public Services",
           "orientation": "v",
           "showlegend": true,
           "type": "scatter",
           "x": {
            "bdata": "VYVYf42fBcA=",
            "dtype": "f8"
           },
           "xaxis": "x",
           "y": {
            "bdata": "z0AVOpDT9L8=",
            "dtype": "f8"
           },
           "yaxis": "y"
          },
          {
           "hovertemplate": "<b>%{hovertext}</b><br><br>Group=Trade & Transportation<br>Year=2009<br>x=%{x}<br>y=%{y}<br>Value=%{marker.size}<extra></extra>",
           "hovertext": [
            "Trade & Transportation"
           ],
           "legendgroup": "Trade & Transportation",
           "marker": {
            "color": "#19d3f3",
            "size": {
             "bdata": "+vgvAA==",
             "dtype": "i4"
            },
            "sizemode": "area",
            "sizeref": 1209.4062,
            "symbol": "circle"
           },
           "mode": "markers",
           "name": "Trade & Transportation",
           "orientation": "v",
           "showlegend": true,
           "type": "scatter",
           "x": {
            "bdata": "J7RBqqxc5b8=",
            "dtype": "f8"
           },
           "xaxis": "x",
           "y": {
            "bdata": "D68CBPVlB8A=",
            "dtype": "f8"
           },
           "yaxis": "y"
          },
          {
           "hovertemplate": "<b>%{hovertext}</b><br><br>Group=Utilities & Construction<br>Year=2009<br>x=%{x}<br>y=%{y}<br>Value=%{marker.size}<extra></extra>",
           "hovertext": [
            "Utilities & Construction"
           ],
           "legendgroup": "Utilities & Construction",
           "marker": {
            "color": "#FF6692",
            "size": {
             "bdata": "J20XAA==",
             "dtype": "i4"
            },
            "sizemode": "area",
            "sizeref": 1209.4062,
            "symbol": "circle"
           },
           "mode": "markers",
           "name": "Utilities & Construction",
           "orientation": "v",
           "showlegend": true,
           "type": "scatter",
           "x": {
            "bdata": "uOTRU3Ht/T8=",
            "dtype": "f8"
           },
           "xaxis": "x",
           "y": {
            "bdata": "uWbEl5LDAsA=",
            "dtype": "f8"
           },
           "yaxis": "y"
          }
         ],
         "name": "2009"
        },
        {
         "data": [
          {
           "hovertemplate": "<b>%{hovertext}</b><br><br>Group=Health, Education & Leisure<br>Year=2010<br>x=%{x}<br>y=%{y}<br>Value=%{marker.size}<extra></extra>",
           "hovertext": [
            "Health, Education & Leisure"
           ],
           "legendgroup": "Health, Education & Leisure",
           "marker": {
            "color": "#636efa",
            "size": {
             "bdata": "sgQ3AA==",
             "dtype": "i4"
            },
            "sizemode": "area",
            "sizeref": 1209.4062,
            "symbol": "circle"
           },
           "mode": "markers",
           "name": "Health, Education & Leisure",
           "orientation": "v",
           "showlegend": true,
           "type": "scatter",
           "x": {
            "bdata": "AAAAAAAACEA=",
            "dtype": "f8"
           },
           "xaxis": "x",
           "y": {
            "bdata": "AAAAAAAAAAA=",
            "dtype": "f8"
           },
           "yaxis": "y"
          },
          {
           "hovertemplate": "<b>%{hovertext}</b><br><br>Group=Information & Finance<br>Year=2010<br>x=%{x}<br>y=%{y}<br>Value=%{marker.size}<extra></extra>",
           "hovertext": [
            "Information & Finance"
           ],
           "legendgroup": "Information & Finance",
           "marker": {
            "color": "#EF553B",
            "size": {
             "bdata": "SytaAA==",
             "dtype": "i4"
            },
            "sizemode": "area",
            "sizeref": 1209.4062,
            "symbol": "circle"
           },
           "mode": "markers",
           "name": "Information & Finance",
           "orientation": "v",
           "showlegend": true,
           "type": "scatter",
           "x": {
            "bdata": "u+TRU3Ht/T8=",
            "dtype": "f8"
           },
           "xaxis": "x",
           "y": {
            "bdata": "uGbEl5LDAkA=",
            "dtype": "f8"
           },
           "yaxis": "y"
          },
          {
           "hovertemplate": "<b>%{hovertext}</b><br><br>Group=Manufacturing<br>Year=2010<br>x=%{x}<br>y=%{y}<br>Value=%{marker.size}<extra></extra>",
           "hovertext": [
            "Manufacturing"
           ],
           "legendgroup": "Manufacturing",
           "marker": {
            "color": "#00cc96",
            "size": {
             "bdata": "9JRMAA==",
             "dtype": "i4"
            },
            "sizemode": "area",
            "sizeref": 1209.4062,
            "symbol": "circle"
           },
           "mode": "markers",
           "name": "Manufacturing",
           "orientation": "v",
           "showlegend": true,
           "type": "scatter",
           "x": {
            "bdata": "ILRBqqxc5b8=",
            "dtype": "f8"
           },
           "xaxis": "x",
           "y": {
            "bdata": "D68CBPVlB0A=",
            "dtype": "f8"
           },
           "yaxis": "y"
          },
          {
           "hovertemplate": "<b>%{hovertext}</b><br><br>Group=Primary Industries<br>Year=2010<br>x=%{x}<br>y=%{y}<br>Value=%{marker.size}<extra></extra>",
           "hovertext": [
            "Primary Industries"
           ],
           "legendgroup": "Primary Industries",
           "marker": {
            "color": "#ab63fa",
            "size": {
             "bdata": "ajkNAA==",
             "dtype": "i4"
            },
            "sizemode": "area",
            "sizeref": 1209.4062,
            "symbol": "circle"
           },
           "mode": "markers",
           "name": "Primary Industries",
           "orientation": "v",
           "showlegend": true,
           "type": "scatter",
           "x": {
            "bdata": "VIVYf42fBcA=",
            "dtype": "f8"
           },
           "xaxis": "x",
           "y": {
            "bdata": "0kAVOpDT9D8=",
            "dtype": "f8"
           },
           "yaxis": "y"
          },
          {
           "hovertemplate": "<b>%{hovertext}</b><br><br>Group=Professional & Public Services<br>Year=2010<br>x=%{x}<br>y=%{y}<br>Value=%{marker.size}<extra></extra>",
           "hovertext": [
            "Professional & Public Services"
           ],
           "legendgroup": "Professional & Public Services",
           "marker": {
            "color": "#FFA15A",
            "size": {
             "bdata": "nVRsAA==",
             "dtype": "i4"
            },
            "sizemode": "area",
            "sizeref": 1209.4062,
            "symbol": "circle"
           },
           "mode": "markers",
           "name": "Professional & Public Services",
           "orientation": "v",
           "showlegend": true,
           "type": "scatter",
           "x": {
            "bdata": "VYVYf42fBcA=",
            "dtype": "f8"
           },
           "xaxis": "x",
           "y": {
            "bdata": "z0AVOpDT9L8=",
            "dtype": "f8"
           },
           "yaxis": "y"
          },
          {
           "hovertemplate": "<b>%{hovertext}</b><br><br>Group=Trade & Transportation<br>Year=2010<br>x=%{x}<br>y=%{y}<br>Value=%{marker.size}<extra></extra>",
           "hovertext": [
            "Trade & Transportation"
           ],
           "legendgroup": "Trade & Transportation",
           "marker": {
            "color": "#19d3f3",
            "size": {
             "bdata": "saw1AA==",
             "dtype": "i4"
            },
            "sizemode": "area",
            "sizeref": 1209.4062,
            "symbol": "circle"
           },
           "mode": "markers",
           "name": "Trade & Transportation",
           "orientation": "v",
           "showlegend": true,
           "type": "scatter",
           "x": {
            "bdata": "J7RBqqxc5b8=",
            "dtype": "f8"
           },
           "xaxis": "x",
           "y": {
            "bdata": "D68CBPVlB8A=",
            "dtype": "f8"
           },
           "yaxis": "y"
          },
          {
           "hovertemplate": "<b>%{hovertext}</b><br><br>Group=Utilities & Construction<br>Year=2010<br>x=%{x}<br>y=%{y}<br>Value=%{marker.size}<extra></extra>",
           "hovertext": [
            "Utilities & Construction"
           ],
           "legendgroup": "Utilities & Construction",
           "marker": {
            "color": "#FF6692",
            "size": {
             "bdata": "4A4XAA==",
             "dtype": "i4"
            },
            "sizemode": "area",
            "sizeref": 1209.4062,
            "symbol": "circle"
           },
           "mode": "markers",
           "name": "Utilities & Construction",
           "orientation": "v",
           "showlegend": true,
           "type": "scatter",
           "x": {
            "bdata": "uOTRU3Ht/T8=",
            "dtype": "f8"
           },
           "xaxis": "x",
           "y": {
            "bdata": "uWbEl5LDAsA=",
            "dtype": "f8"
           },
           "yaxis": "y"
          }
         ],
         "name": "2010"
        },
        {
         "data": [
          {
           "hovertemplate": "<b>%{hovertext}</b><br><br>Group=Health, Education & Leisure<br>Year=2011<br>x=%{x}<br>y=%{y}<br>Value=%{marker.size}<extra></extra>",
           "hovertext": [
            "Health, Education & Leisure"
           ],
           "legendgroup": "Health, Education & Leisure",
           "marker": {
            "color": "#636efa",
            "size": {
             "bdata": "UEU5AA==",
             "dtype": "i4"
            },
            "sizemode": "area",
            "sizeref": 1209.4062,
            "symbol": "circle"
           },
           "mode": "markers",
           "name": "Health, Education & Leisure",
           "orientation": "v",
           "showlegend": true,
           "type": "scatter",
           "x": {
            "bdata": "AAAAAAAACEA=",
            "dtype": "f8"
           },
           "xaxis": "x",
           "y": {
            "bdata": "AAAAAAAAAAA=",
            "dtype": "f8"
           },
           "yaxis": "y"
          },
          {
           "hovertemplate": "<b>%{hovertext}</b><br><br>Group=Information & Finance<br>Year=2011<br>x=%{x}<br>y=%{y}<br>Value=%{marker.size}<extra></extra>",
           "hovertext": [
            "Information & Finance"
           ],
           "legendgroup": "Information & Finance",
           "marker": {
            "color": "#EF553B",
            "size": {
             "bdata": "BCpdAA==",
             "dtype": "i4"
            },
            "sizemode": "area",
            "sizeref": 1209.4062,
            "symbol": "circle"
           },
           "mode": "markers",
           "name": "Information & Finance",
           "orientation": "v",
           "showlegend": true,
           "type": "scatter",
           "x": {
            "bdata": "u+TRU3Ht/T8=",
            "dtype": "f8"
           },
           "xaxis": "x",
           "y": {
            "bdata": "uGbEl5LDAkA=",
            "dtype": "f8"
           },
           "yaxis": "y"
          },
          {
           "hovertemplate": "<b>%{hovertext}</b><br><br>Group=Manufacturing<br>Year=2011<br>x=%{x}<br>y=%{y}<br>Value=%{marker.size}<extra></extra>",
           "hovertext": [
            "Manufacturing"
           ],
           "legendgroup": "Manufacturing",
           "marker": {
            "color": "#00cc96",
            "size": {
             "bdata": "pmBVAA==",
             "dtype": "i4"
            },
            "sizemode": "area",
            "sizeref": 1209.4062,
            "symbol": "circle"
           },
           "mode": "markers",
           "name": "Manufacturing",
           "orientation": "v",
           "showlegend": true,
           "type": "scatter",
           "x": {
            "bdata": "ILRBqqxc5b8=",
            "dtype": "f8"
           },
           "xaxis": "x",
           "y": {
            "bdata": "D68CBPVlB0A=",
            "dtype": "f8"
           },
           "yaxis": "y"
          },
          {
           "hovertemplate": "<b>%{hovertext}</b><br><br>Group=Primary Industries<br>Year=2011<br>x=%{x}<br>y=%{y}<br>Value=%{marker.size}<extra></extra>",
           "hovertext": [
            "Primary Industries"
           ],
           "legendgroup": "Primary Industries",
           "marker": {
            "color": "#ab63fa",
            "size": {
             "bdata": "cbwPAA==",
             "dtype": "i4"
            },
            "sizemode": "area",
            "sizeref": 1209.4062,
            "symbol": "circle"
           },
           "mode": "markers",
           "name": "Primary Industries",
           "orientation": "v",
           "showlegend": true,
           "type": "scatter",
           "x": {
            "bdata": "VIVYf42fBcA=",
            "dtype": "f8"
           },
           "xaxis": "x",
           "y": {
            "bdata": "0kAVOpDT9D8=",
            "dtype": "f8"
           },
           "yaxis": "y"
          },
          {
           "hovertemplate": "<b>%{hovertext}</b><br><br>Group=Professional & Public Services<br>Year=2011<br>x=%{x}<br>y=%{y}<br>Value=%{marker.size}<extra></extra>",
           "hovertext": [
            "Professional & Public Services"
           ],
           "legendgroup": "Professional & Public Services",
           "marker": {
            "color": "#FFA15A",
            "size": {
             "bdata": "YDpvAA==",
             "dtype": "i4"
            },
            "sizemode": "area",
            "sizeref": 1209.4062,
            "symbol": "circle"
           },
           "mode": "markers",
           "name": "Professional & Public Services",
           "orientation": "v",
           "showlegend": true,
           "type": "scatter",
           "x": {
            "bdata": "VYVYf42fBcA=",
            "dtype": "f8"
           },
           "xaxis": "x",
           "y": {
            "bdata": "z0AVOpDT9L8=",
            "dtype": "f8"
           },
           "yaxis": "y"
          },
          {
           "hovertemplate": "<b>%{hovertext}</b><br><br>Group=Trade & Transportation<br>Year=2011<br>x=%{x}<br>y=%{y}<br>Value=%{marker.size}<extra></extra>",
           "hovertext": [
            "Trade & Transportation"
           ],
           "legendgroup": "Trade & Transportation",
           "marker": {
            "color": "#19d3f3",
            "size": {
             "bdata": "Ll06AA==",
             "dtype": "i4"
            },
            "sizemode": "area",
            "sizeref": 1209.4062,
            "symbol": "circle"
           },
           "mode": "markers",
           "name": "Trade & Transportation",
           "orientation": "v",
           "showlegend": true,
           "type": "scatter",
           "x": {
            "bdata": "J7RBqqxc5b8=",
            "dtype": "f8"
           },
           "xaxis": "x",
           "y": {
            "bdata": "D68CBPVlB8A=",
            "dtype": "f8"
           },
           "yaxis": "y"
          },
          {
           "hovertemplate": "<b>%{hovertext}</b><br><br>Group=Utilities & Construction<br>Year=2011<br>x=%{x}<br>y=%{y}<br>Value=%{marker.size}<extra></extra>",
           "hovertext": [
            "Utilities & Construction"
           ],
           "legendgroup": "Utilities & Construction",
           "marker": {
            "color": "#FF6692",
            "size": {
             "bdata": "VPgWAA==",
             "dtype": "i4"
            },
            "sizemode": "area",
            "sizeref": 1209.4062,
            "symbol": "circle"
           },
           "mode": "markers",
           "name": "Utilities & Construction",
           "orientation": "v",
           "showlegend": true,
           "type": "scatter",
           "x": {
            "bdata": "uOTRU3Ht/T8=",
            "dtype": "f8"
           },
           "xaxis": "x",
           "y": {
            "bdata": "uWbEl5LDAsA=",
            "dtype": "f8"
           },
           "yaxis": "y"
          }
         ],
         "name": "2011"
        },
        {
         "data": [
          {
           "hovertemplate": "<b>%{hovertext}</b><br><br>Group=Health, Education & Leisure<br>Year=2012<br>x=%{x}<br>y=%{y}<br>Value=%{marker.size}<extra></extra>",
           "hovertext": [
            "Health, Education & Leisure"
           ],
           "legendgroup": "Health, Education & Leisure",
           "marker": {
            "color": "#636efa",
            "size": {
             "bdata": "8RA8AA==",
             "dtype": "i4"
            },
            "sizemode": "area",
            "sizeref": 1209.4062,
            "symbol": "circle"
           },
           "mode": "markers",
           "name": "Health, Education & Leisure",
           "orientation": "v",
           "showlegend": true,
           "type": "scatter",
           "x": {
            "bdata": "AAAAAAAACEA=",
            "dtype": "f8"
           },
           "xaxis": "x",
           "y": {
            "bdata": "AAAAAAAAAAA=",
            "dtype": "f8"
           },
           "yaxis": "y"
          },
          {
           "hovertemplate": "<b>%{hovertext}</b><br><br>Group=Information & Finance<br>Year=2012<br>x=%{x}<br>y=%{y}<br>Value=%{marker.size}<extra></extra>",
           "hovertext": [
            "Information & Finance"
           ],
           "legendgroup": "Information & Finance",
           "marker": {
            "color": "#EF553B",
            "size": {
             "bdata": "snZiAA==",
             "dtype": "i4"
            },
            "sizemode": "area",
            "sizeref": 1209.4062,
            "symbol": "circle"
           },
           "mode": "markers",
           "name": "Information & Finance",
           "orientation": "v",
           "showlegend": true,
           "type": "scatter",
           "x": {
            "bdata": "u+TRU3Ht/T8=",
            "dtype": "f8"
           },
           "xaxis": "x",
           "y": {
            "bdata": "uGbEl5LDAkA=",
            "dtype": "f8"
           },
           "yaxis": "y"
          },
          {
           "hovertemplate": "<b>%{hovertext}</b><br><br>Group=Manufacturing<br>Year=2012<br>x=%{x}<br>y=%{y}<br>Value=%{marker.size}<extra></extra>",
           "hovertext": [
            "Manufacturing"
           ],
           "legendgroup": "Manufacturing",
           "marker": {
            "color": "#00cc96",
            "size": {
             "bdata": "3CNYAA==",
             "dtype": "i4"
            },
            "sizemode": "area",
            "sizeref": 1209.4062,
            "symbol": "circle"
           },
           "mode": "markers",
           "name": "Manufacturing",
           "orientation": "v",
           "showlegend": true,
           "type": "scatter",
           "x": {
            "bdata": "ILRBqqxc5b8=",
            "dtype": "f8"
           },
           "xaxis": "x",
           "y": {
            "bdata": "D68CBPVlB0A=",
            "dtype": "f8"
           },
           "yaxis": "y"
          },
          {
           "hovertemplate": "<b>%{hovertext}</b><br><br>Group=Primary Industries<br>Year=2012<br>x=%{x}<br>y=%{y}<br>Value=%{marker.size}<extra></extra>",
           "hovertext": [
            "Primary Industries"
           ],
           "legendgroup": "Primary Industries",
           "marker": {
            "color": "#ab63fa",
            "size": {
             "bdata": "Gj4QAA==",
             "dtype": "i4"
            },
            "sizemode": "area",
            "sizeref": 1209.4062,
            "symbol": "circle"
           },
           "mode": "markers",
           "name": "Primary Industries",
           "orientation": "v",
           "showlegend": true,
           "type": "scatter",
           "x": {
            "bdata": "VIVYf42fBcA=",
            "dtype": "f8"
           },
           "xaxis": "x",
           "y": {
            "bdata": "0kAVOpDT9D8=",
            "dtype": "f8"
           },
           "yaxis": "y"
          },
          {
           "hovertemplate": "<b>%{hovertext}</b><br><br>Group=Professional & Public Services<br>Year=2012<br>x=%{x}<br>y=%{y}<br>Value=%{marker.size}<extra></extra>",
           "hovertext": [
            "Professional & Public Services"
           ],
           "legendgroup": "Professional & Public Services",
           "marker": {
            "color": "#FFA15A",
            "size": {
             "bdata": "bqFxAA==",
             "dtype": "i4"
            },
            "sizemode": "area",
            "sizeref": 1209.4062,
            "symbol": "circle"
           },
           "mode": "markers",
           "name": "Professional & Public Services",
           "orientation": "v",
           "showlegend": true,
           "type": "scatter",
           "x": {
            "bdata": "VYVYf42fBcA=",
            "dtype": "f8"
           },
           "xaxis": "x",
           "y": {
            "bdata": "z0AVOpDT9L8=",
            "dtype": "f8"
           },
           "yaxis": "y"
          },
          {
           "hovertemplate": "<b>%{hovertext}</b><br><br>Group=Trade & Transportation<br>Year=2012<br>x=%{x}<br>y=%{y}<br>Value=%{marker.size}<extra></extra>",
           "hovertext": [
            "Trade & Transportation"
           ],
           "legendgroup": "Trade & Transportation",
           "marker": {
            "color": "#19d3f3",
            "size": {
             "bdata": "hAU+AA==",
             "dtype": "i4"
            },
            "sizemode": "area",
            "sizeref": 1209.4062,
            "symbol": "circle"
           },
           "mode": "markers",
           "name": "Trade & Transportation",
           "orientation": "v",
           "showlegend": true,
           "type": "scatter",
           "x": {
            "bdata": "J7RBqqxc5b8=",
            "dtype": "f8"
           },
           "xaxis": "x",
           "y": {
            "bdata": "D68CBPVlB8A=",
            "dtype": "f8"
           },
           "yaxis": "y"
          },
          {
           "hovertemplate": "<b>%{hovertext}</b><br><br>Group=Utilities & Construction<br>Year=2012<br>x=%{x}<br>y=%{y}<br>Value=%{marker.size}<extra></extra>",
           "hovertext": [
            "Utilities & Construction"
           ],
           "legendgroup": "Utilities & Construction",
           "marker": {
            "color": "#FF6692",
            "size": {
             "bdata": "IHQXAA==",
             "dtype": "i4"
            },
            "sizemode": "area",
            "sizeref": 1209.4062,
            "symbol": "circle"
           },
           "mode": "markers",
           "name": "Utilities & Construction",
           "orientation": "v",
           "showlegend": true,
           "type": "scatter",
           "x": {
            "bdata": "uOTRU3Ht/T8=",
            "dtype": "f8"
           },
           "xaxis": "x",
           "y": {
            "bdata": "uWbEl5LDAsA=",
            "dtype": "f8"
           },
           "yaxis": "y"
          }
         ],
         "name": "2012"
        },
        {
         "data": [
          {
           "hovertemplate": "<b>%{hovertext}</b><br><br>Group=Health, Education & Leisure<br>Year=2013<br>x=%{x}<br>y=%{y}<br>Value=%{marker.size}<extra></extra>",
           "hovertext": [
            "Health, Education & Leisure"
           ],
           "legendgroup": "Health, Education & Leisure",
           "marker": {
            "color": "#636efa",
            "size": {
             "bdata": "+6U9AA==",
             "dtype": "i4"
            },
            "sizemode": "area",
            "sizeref": 1209.4062,
            "symbol": "circle"
           },
           "mode": "markers",
           "name": "Health, Education & Leisure",
           "orientation": "v",
           "showlegend": true,
           "type": "scatter",
           "x": {
            "bdata": "AAAAAAAACEA=",
            "dtype": "f8"
           },
           "xaxis": "x",
           "y": {
            "bdata": "AAAAAAAAAAA=",
            "dtype": "f8"
           },
           "yaxis": "y"
          },
          {
           "hovertemplate": "<b>%{hovertext}</b><br><br>Group=Information & Finance<br>Year=2013<br>x=%{x}<br>y=%{y}<br>Value=%{marker.size}<extra></extra>",
           "hovertext": [
            "Information & Finance"
           ],
           "legendgroup": "Information & Finance",
           "marker": {
            "color": "#EF553B",
            "size": {
             "bdata": "rxBoAA==",
             "dtype": "i4"
            },
            "sizemode": "area",
            "sizeref": 1209.4062,
            "symbol": "circle"
           },
           "mode": "markers",
           "name": "Information & Finance",
           "orientation": "v",
           "showlegend": true,
           "type": "scatter",
           "x": {
            "bdata": "u+TRU3Ht/T8=",
            "dtype": "f8"
           },
           "xaxis": "x",
           "y": {
            "bdata": "uGbEl5LDAkA=",
            "dtype": "f8"
           },
           "yaxis": "y"
          },
          {
           "hovertemplate": "<b>%{hovertext}</b><br><br>Group=Manufacturing<br>Year=2013<br>x=%{x}<br>y=%{y}<br>Value=%{marker.size}<extra></extra>",
           "hovertext": [
            "Manufacturing"
           ],
           "legendgroup": "Manufacturing",
           "marker": {
            "color": "#00cc96",
            "size": {
             "bdata": "UnNaAA==",
             "dtype": "i4"
            },
            "sizemode": "area",
            "sizeref": 1209.4062,
            "symbol": "circle"
           },
           "mode": "markers",
           "name": "Manufacturing",
           "orientation": "v",
           "showlegend": true,
           "type": "scatter",
           "x": {
            "bdata": "ILRBqqxc5b8=",
            "dtype": "f8"
           },
           "xaxis": "x",
           "y": {
            "bdata": "D68CBPVlB0A=",
            "dtype": "f8"
           },
           "yaxis": "y"
          },
          {
           "hovertemplate": "<b>%{hovertext}</b><br><br>Group=Primary Industries<br>Year=2013<br>x=%{x}<br>y=%{y}<br>Value=%{marker.size}<extra></extra>",
           "hovertext": [
            "Primary Industries"
           ],
           "legendgroup": "Primary Industries",
           "marker": {
            "color": "#ab63fa",
            "size": {
             "bdata": "qW8RAA==",
             "dtype": "i4"
            },
            "sizemode": "area",
            "sizeref": 1209.4062,
            "symbol": "circle"
           },
           "mode": "markers",
           "name": "Primary Industries",
           "orientation": "v",
           "showlegend": true,
           "type": "scatter",
           "x": {
            "bdata": "VIVYf42fBcA=",
            "dtype": "f8"
           },
           "xaxis": "x",
           "y": {
            "bdata": "0kAVOpDT9D8=",
            "dtype": "f8"
           },
           "yaxis": "y"
          },
          {
           "hovertemplate": "<b>%{hovertext}</b><br><br>Group=Professional & Public Services<br>Year=2013<br>x=%{x}<br>y=%{y}<br>Value=%{marker.size}<extra></extra>",
           "hovertext": [
            "Professional & Public Services"
           ],
           "legendgroup": "Professional & Public Services",
           "marker": {
            "color": "#FFA15A",
            "size": {
             "bdata": "89RyAA==",
             "dtype": "i4"
            },
            "sizemode": "area",
            "sizeref": 1209.4062,
            "symbol": "circle"
           },
           "mode": "markers",
           "name": "Professional & Public Services",
           "orientation": "v",
           "showlegend": true,
           "type": "scatter",
           "x": {
            "bdata": "VYVYf42fBcA=",
            "dtype": "f8"
           },
           "xaxis": "x",
           "y": {
            "bdata": "z0AVOpDT9L8=",
            "dtype": "f8"
           },
           "yaxis": "y"
          },
          {
           "hovertemplate": "<b>%{hovertext}</b><br><br>Group=Trade & Transportation<br>Year=2013<br>x=%{x}<br>y=%{y}<br>Value=%{marker.size}<extra></extra>",
           "hovertext": [
            "Trade & Transportation"
           ],
           "legendgroup": "Trade & Transportation",
           "marker": {
            "color": "#19d3f3",
            "size": {
             "bdata": "oH9BAA==",
             "dtype": "i4"
            },
            "sizemode": "area",
            "sizeref": 1209.4062,
            "symbol": "circle"
           },
           "mode": "markers",
           "name": "Trade & Transportation",
           "orientation": "v",
           "showlegend": true,
           "type": "scatter",
           "x": {
            "bdata": "J7RBqqxc5b8=",
            "dtype": "f8"
           },
           "xaxis": "x",
           "y": {
            "bdata": "D68CBPVlB8A=",
            "dtype": "f8"
           },
           "yaxis": "y"
          },
          {
           "hovertemplate": "<b>%{hovertext}</b><br><br>Group=Utilities & Construction<br>Year=2013<br>x=%{x}<br>y=%{y}<br>Value=%{marker.size}<extra></extra>",
           "hovertext": [
            "Utilities & Construction"
           ],
           "legendgroup": "Utilities & Construction",
           "marker": {
            "color": "#FF6692",
            "size": {
             "bdata": "kRIZAA==",
             "dtype": "i4"
            },
            "sizemode": "area",
            "sizeref": 1209.4062,
            "symbol": "circle"
           },
           "mode": "markers",
           "name": "Utilities & Construction",
           "orientation": "v",
           "showlegend": true,
           "type": "scatter",
           "x": {
            "bdata": "uOTRU3Ht/T8=",
            "dtype": "f8"
           },
           "xaxis": "x",
           "y": {
            "bdata": "uWbEl5LDAsA=",
            "dtype": "f8"
           },
           "yaxis": "y"
          }
         ],
         "name": "2013"
        },
        {
         "data": [
          {
           "hovertemplate": "<b>%{hovertext}</b><br><br>Group=Health, Education & Leisure<br>Year=2014<br>x=%{x}<br>y=%{y}<br>Value=%{marker.size}<extra></extra>",
           "hovertext": [
            "Health, Education & Leisure"
           ],
           "legendgroup": "Health, Education & Leisure",
           "marker": {
            "color": "#636efa",
            "size": {
             "bdata": "kIxAAA==",
             "dtype": "i4"
            },
            "sizemode": "area",
            "sizeref": 1209.4062,
            "symbol": "circle"
           },
           "mode": "markers",
           "name": "Health, Education & Leisure",
           "orientation": "v",
           "showlegend": true,
           "type": "scatter",
           "x": {
            "bdata": "AAAAAAAACEA=",
            "dtype": "f8"
           },
           "xaxis": "x",
           "y": {
            "bdata": "AAAAAAAAAAA=",
            "dtype": "f8"
           },
           "yaxis": "y"
          },
          {
           "hovertemplate": "<b>%{hovertext}</b><br><br>Group=Information & Finance<br>Year=2014<br>x=%{x}<br>y=%{y}<br>Value=%{marker.size}<extra></extra>",
           "hovertext": [
            "Information & Finance"
           ],
           "legendgroup": "Information & Finance",
           "marker": {
            "color": "#EF553B",
            "size": {
             "bdata": "zwduAA==",
             "dtype": "i4"
            },
            "sizemode": "area",
            "sizeref": 1209.4062,
            "symbol": "circle"
           },
           "mode": "markers",
           "name": "Information & Finance",
           "orientation": "v",
           "showlegend": true,
           "type": "scatter",
           "x": {
            "bdata": "u+TRU3Ht/T8=",
            "dtype": "f8"
           },
           "xaxis": "x",
           "y": {
            "bdata": "uGbEl5LDAkA=",
            "dtype": "f8"
           },
           "yaxis": "y"
          },
          {
           "hovertemplate": "<b>%{hovertext}</b><br><br>Group=Manufacturing<br>Year=2014<br>x=%{x}<br>y=%{y}<br>Value=%{marker.size}<extra></extra>",
           "hovertext": [
            "Manufacturing"
           ],
           "legendgroup": "Manufacturing",
           "marker": {
            "color": "#00cc96",
            "size": {
             "bdata": "84hbAA==",
             "dtype": "i4"
            },
            "sizemode": "area",
            "sizeref": 1209.4062,
            "symbol": "circle"
           },
           "mode": "markers",
           "name": "Manufacturing",
           "orientation": "v",
           "showlegend": true,
           "type": "scatter",
           "x": {
            "bdata": "ILRBqqxc5b8=",
            "dtype": "f8"
           },
           "xaxis": "x",
           "y": {
            "bdata": "D68CBPVlB0A=",
            "dtype": "f8"
           },
           "yaxis": "y"
          },
          {
           "hovertemplate": "<b>%{hovertext}</b><br><br>Group=Primary Industries<br>Year=2014<br>x=%{x}<br>y=%{y}<br>Value=%{marker.size}<extra></extra>",
           "hovertext": [
            "Primary Industries"
           ],
           "legendgroup": "Primary Industries",
           "marker": {
            "color": "#ab63fa",
            "size": {
             "bdata": "8LUSAA==",
             "dtype": "i4"
            },
            "sizemode": "area",
            "sizeref": 1209.4062,
            "symbol": "circle"
           },
           "mode": "markers",
           "name": "Primary Industries",
           "orientation": "v",
           "showlegend": true,
           "type": "scatter",
           "x": {
            "bdata": "VIVYf42fBcA=",
            "dtype": "f8"
           },
           "xaxis": "x",
           "y": {
            "bdata": "0kAVOpDT9D8=",
            "dtype": "f8"
           },
           "yaxis": "y"
          },
          {
           "hovertemplate": "<b>%{hovertext}</b><br><br>Group=Professional & Public Services<br>Year=2014<br>x=%{x}<br>y=%{y}<br>Value=%{marker.size}<extra></extra>",
           "hovertext": [
            "Professional & Public Services"
           ],
           "legendgroup": "Professional & Public Services",
           "marker": {
            "color": "#FFA15A",
            "size": {
             "bdata": "Vs92AA==",
             "dtype": "i4"
            },
            "sizemode": "area",
            "sizeref": 1209.4062,
            "symbol": "circle"
           },
           "mode": "markers",
           "name": "Professional & Public Services",
           "orientation": "v",
           "showlegend": true,
           "type": "scatter",
           "x": {
            "bdata": "VYVYf42fBcA=",
            "dtype": "f8"
           },
           "xaxis": "x",
           "y": {
            "bdata": "z0AVOpDT9L8=",
            "dtype": "f8"
           },
           "yaxis": "y"
          },
          {
           "hovertemplate": "<b>%{hovertext}</b><br><br>Group=Trade & Transportation<br>Year=2014<br>x=%{x}<br>y=%{y}<br>Value=%{marker.size}<extra></extra>",
           "hovertext": [
            "Trade & Transportation"
           ],
           "legendgroup": "Trade & Transportation",
           "marker": {
            "color": "#19d3f3",
            "size": {
             "bdata": "iIdFAA==",
             "dtype": "i4"
            },
            "sizemode": "area",
            "sizeref": 1209.4062,
            "symbol": "circle"
           },
           "mode": "markers",
           "name": "Trade & Transportation",
           "orientation": "v",
           "showlegend": true,
           "type": "scatter",
           "x": {
            "bdata": "J7RBqqxc5b8=",
            "dtype": "f8"
           },
           "xaxis": "x",
           "y": {
            "bdata": "D68CBPVlB8A=",
            "dtype": "f8"
           },
           "yaxis": "y"
          },
          {
           "hovertemplate": "<b>%{hovertext}</b><br><br>Group=Utilities & Construction<br>Year=2014<br>x=%{x}<br>y=%{y}<br>Value=%{marker.size}<extra></extra>",
           "hovertext": [
            "Utilities & Construction"
           ],
           "legendgroup": "Utilities & Construction",
           "marker": {
            "color": "#FF6692",
            "size": {
             "bdata": "Rz4bAA==",
             "dtype": "i4"
            },
            "sizemode": "area",
            "sizeref": 1209.4062,
            "symbol": "circle"
           },
           "mode": "markers",
           "name": "Utilities & Construction",
           "orientation": "v",
           "showlegend": true,
           "type": "scatter",
           "x": {
            "bdata": "uOTRU3Ht/T8=",
            "dtype": "f8"
           },
           "xaxis": "x",
           "y": {
            "bdata": "uWbEl5LDAsA=",
            "dtype": "f8"
           },
           "yaxis": "y"
          }
         ],
         "name": "2014"
        },
        {
         "data": [
          {
           "hovertemplate": "<b>%{hovertext}</b><br><br>Group=Health, Education & Leisure<br>Year=2015<br>x=%{x}<br>y=%{y}<br>Value=%{marker.size}<extra></extra>",
           "hovertext": [
            "Health, Education & Leisure"
           ],
           "legendgroup": "Health, Education & Leisure",
           "marker": {
            "color": "#636efa",
            "size": {
             "bdata": "LkZEAA==",
             "dtype": "i4"
            },
            "sizemode": "area",
            "sizeref": 1209.4062,
            "symbol": "circle"
           },
           "mode": "markers",
           "name": "Health, Education & Leisure",
           "orientation": "v",
           "showlegend": true,
           "type": "scatter",
           "x": {
            "bdata": "AAAAAAAACEA=",
            "dtype": "f8"
           },
           "xaxis": "x",
           "y": {
            "bdata": "AAAAAAAAAAA=",
            "dtype": "f8"
           },
           "yaxis": "y"
          },
          {
           "hovertemplate": "<b>%{hovertext}</b><br><br>Group=Information & Finance<br>Year=2015<br>x=%{x}<br>y=%{y}<br>Value=%{marker.size}<extra></extra>",
           "hovertext": [
            "Information & Finance"
           ],
           "legendgroup": "Information & Finance",
           "marker": {
            "color": "#EF553B",
            "size": {
             "bdata": "PfZyAA==",
             "dtype": "i4"
            },
            "sizemode": "area",
            "sizeref": 1209.4062,
            "symbol": "circle"
           },
           "mode": "markers",
           "name": "Information & Finance",
           "orientation": "v",
           "showlegend": true,
           "type": "scatter",
           "x": {
            "bdata": "u+TRU3Ht/T8=",
            "dtype": "f8"
           },
           "xaxis": "x",
           "y": {
            "bdata": "uGbEl5LDAkA=",
            "dtype": "f8"
           },
           "yaxis": "y"
          },
          {
           "hovertemplate": "<b>%{hovertext}</b><br><br>Group=Manufacturing<br>Year=2015<br>x=%{x}<br>y=%{y}<br>Value=%{marker.size}<extra></extra>",
           "hovertext": [
            "Manufacturing"
           ],
           "legendgroup": "Manufacturing",
           "marker": {
            "color": "#00cc96",
            "size": {
             "bdata": "MF1WAA==",
             "dtype": "i4"
            },
            "sizemode": "area",
            "sizeref": 1209.4062,
            "symbol": "circle"
           },
           "mode": "markers",
           "name": "Manufacturing",
           "orientation": "v",
           "showlegend": true,
           "type": "scatter",
           "x": {
            "bdata": "ILRBqqxc5b8=",
            "dtype": "f8"
           },
           "xaxis": "x",
           "y": {
            "bdata": "D68CBPVlB0A=",
            "dtype": "f8"
           },
           "yaxis": "y"
          },
          {
           "hovertemplate": "<b>%{hovertext}</b><br><br>Group=Primary Industries<br>Year=2015<br>x=%{x}<br>y=%{y}<br>Value=%{marker.size}<extra></extra>",
           "hovertext": [
            "Primary Industries"
           ],
           "legendgroup": "Primary Industries",
           "marker": {
            "color": "#ab63fa",
            "size": {
             "bdata": "UlUOAA==",
             "dtype": "i4"
            },
            "sizemode": "area",
            "sizeref": 1209.4062,
            "symbol": "circle"
           },
           "mode": "markers",
           "name": "Primary Industries",
           "orientation": "v",
           "showlegend": true,
           "type": "scatter",
           "x": {
            "bdata": "VIVYf42fBcA=",
            "dtype": "f8"
           },
           "xaxis": "x",
           "y": {
            "bdata": "0kAVOpDT9D8=",
            "dtype": "f8"
           },
           "yaxis": "y"
          },
          {
           "hovertemplate": "<b>%{hovertext}</b><br><br>Group=Professional & Public Services<br>Year=2015<br>x=%{x}<br>y=%{y}<br>Value=%{marker.size}<extra></extra>",
           "hovertext": [
            "Professional & Public Services"
           ],
           "legendgroup": "Professional & Public Services",
           "marker": {
            "color": "#FFA15A",
            "size": {
             "bdata": "yEp6AA==",
             "dtype": "i4"
            },
            "sizemode": "area",
            "sizeref": 1209.4062,
            "symbol": "circle"
           },
           "mode": "markers",
           "name": "Professional & Public Services",
           "orientation": "v",
           "showlegend": true,
           "type": "scatter",
           "x": {
            "bdata": "VYVYf42fBcA=",
            "dtype": "f8"
           },
           "xaxis": "x",
           "y": {
            "bdata": "z0AVOpDT9L8=",
            "dtype": "f8"
           },
           "yaxis": "y"
          },
          {
           "hovertemplate": "<b>%{hovertext}</b><br><br>Group=Trade & Transportation<br>Year=2015<br>x=%{x}<br>y=%{y}<br>Value=%{marker.size}<extra></extra>",
           "hovertext": [
            "Trade & Transportation"
           ],
           "legendgroup": "Trade & Transportation",
           "marker": {
            "color": "#19d3f3",
            "size": {
             "bdata": "ihZIAA==",
             "dtype": "i4"
            },
            "sizemode": "area",
            "sizeref": 1209.4062,
            "symbol": "circle"
           },
           "mode": "markers",
           "name": "Trade & Transportation",
           "orientation": "v",
           "showlegend": true,
           "type": "scatter",
           "x": {
            "bdata": "J7RBqqxc5b8=",
            "dtype": "f8"
           },
           "xaxis": "x",
           "y": {
            "bdata": "D68CBPVlB8A=",
            "dtype": "f8"
           },
           "yaxis": "y"
          },
          {
           "hovertemplate": "<b>%{hovertext}</b><br><br>Group=Utilities & Construction<br>Year=2015<br>x=%{x}<br>y=%{y}<br>Value=%{marker.size}<extra></extra>",
           "hovertext": [
            "Utilities & Construction"
           ],
           "legendgroup": "Utilities & Construction",
           "marker": {
            "color": "#FF6692",
            "size": {
             "bdata": "LM4cAA==",
             "dtype": "i4"
            },
            "sizemode": "area",
            "sizeref": 1209.4062,
            "symbol": "circle"
           },
           "mode": "markers",
           "name": "Utilities & Construction",
           "orientation": "v",
           "showlegend": true,
           "type": "scatter",
           "x": {
            "bdata": "uOTRU3Ht/T8=",
            "dtype": "f8"
           },
           "xaxis": "x",
           "y": {
            "bdata": "uWbEl5LDAsA=",
            "dtype": "f8"
           },
           "yaxis": "y"
          }
         ],
         "name": "2015"
        },
        {
         "data": [
          {
           "hovertemplate": "<b>%{hovertext}</b><br><br>Group=Health, Education & Leisure<br>Year=2016<br>x=%{x}<br>y=%{y}<br>Value=%{marker.size}<extra></extra>",
           "hovertext": [
            "Health, Education & Leisure"
           ],
           "legendgroup": "Health, Education & Leisure",
           "marker": {
            "color": "#636efa",
            "size": {
             "bdata": "AZJHAA==",
             "dtype": "i4"
            },
            "sizemode": "area",
            "sizeref": 1209.4062,
            "symbol": "circle"
           },
           "mode": "markers",
           "name": "Health, Education & Leisure",
           "orientation": "v",
           "showlegend": true,
           "type": "scatter",
           "x": {
            "bdata": "AAAAAAAACEA=",
            "dtype": "f8"
           },
           "xaxis": "x",
           "y": {
            "bdata": "AAAAAAAAAAA=",
            "dtype": "f8"
           },
           "yaxis": "y"
          },
          {
           "hovertemplate": "<b>%{hovertext}</b><br><br>Group=Information & Finance<br>Year=2016<br>x=%{x}<br>y=%{y}<br>Value=%{marker.size}<extra></extra>",
           "hovertext": [
            "Information & Finance"
           ],
           "legendgroup": "Information & Finance",
           "marker": {
            "color": "#EF553B",
            "size": {
             "bdata": "1ft3AA==",
             "dtype": "i4"
            },
            "sizemode": "area",
            "sizeref": 1209.4062,
            "symbol": "circle"
           },
           "mode": "markers",
           "name": "Information & Finance",
           "orientation": "v",
           "showlegend": true,
           "type": "scatter",
           "x": {
            "bdata": "u+TRU3Ht/T8=",
            "dtype": "f8"
           },
           "xaxis": "x",
           "y": {
            "bdata": "uGbEl5LDAkA=",
            "dtype": "f8"
           },
           "yaxis": "y"
          },
          {
           "hovertemplate": "<b>%{hovertext}</b><br><br>Group=Manufacturing<br>Year=2016<br>x=%{x}<br>y=%{y}<br>Value=%{marker.size}<extra></extra>",
           "hovertext": [
            "Manufacturing"
           ],
           "legendgroup": "Manufacturing",
           "marker": {
            "color": "#00cc96",
            "size": {
             "bdata": "dqxTAA==",
             "dtype": "i4"
            },
            "sizemode": "area",
            "sizeref": 1209.4062,
            "symbol": "circle"
           },
           "mode": "markers",
           "name": "Manufacturing",
           "orientation": "v",
           "showlegend": true,
           "type": "scatter",
           "x": {
            "bdata": "ILRBqqxc5b8=",
            "dtype": "f8"
           },
           "xaxis": "x",
           "y": {
            "bdata": "D68CBPVlB0A=",
            "dtype": "f8"
           },
           "yaxis": "y"
          },
          {
           "hovertemplate": "<b>%{hovertext}</b><br><br>Group=Primary Industries<br>Year=2016<br>x=%{x}<br>y=%{y}<br>Value=%{marker.size}<extra></extra>",
           "hovertext": [
            "Primary Industries"
           ],
           "legendgroup": "Primary Industries",
           "marker": {
            "color": "#ab63fa",
            "size": {
             "bdata": "pi8MAA==",
             "dtype": "i4"
            },
            "sizemode": "area",
            "sizeref": 1209.4062,
            "symbol": "circle"
           },
           "mode": "markers",
           "name": "Primary Industries",
           "orientation": "v",
           "showlegend": true,
           "type": "scatter",
           "x": {
            "bdata": "VIVYf42fBcA=",
            "dtype": "f8"
           },
           "xaxis": "x",
           "y": {
            "bdata": "0kAVOpDT9D8=",
            "dtype": "f8"
           },
           "yaxis": "y"
          },
          {
           "hovertemplate": "<b>%{hovertext}</b><br><br>Group=Professional & Public Services<br>Year=2016<br>x=%{x}<br>y=%{y}<br>Value=%{marker.size}<extra></extra>",
           "hovertext": [
            "Professional & Public Services"
           ],
           "legendgroup": "Professional & Public Services",
           "marker": {
            "color": "#FFA15A",
            "size": {
             "bdata": "ARl+AA==",
             "dtype": "i4"
            },
            "sizemode": "area",
            "sizeref": 1209.4062,
            "symbol": "circle"
           },
           "mode": "markers",
           "name": "Professional & Public Services",
           "orientation": "v",
           "showlegend": true,
           "type": "scatter",
           "x": {
            "bdata": "VYVYf42fBcA=",
            "dtype": "f8"
           },
           "xaxis": "x",
           "y": {
            "bdata": "z0AVOpDT9L8=",
            "dtype": "f8"
           },
           "yaxis": "y"
          },
          {
           "hovertemplate": "<b>%{hovertext}</b><br><br>Group=Trade & Transportation<br>Year=2016<br>x=%{x}<br>y=%{y}<br>Value=%{marker.size}<extra></extra>",
           "hovertext": [
            "Trade & Transportation"
           ],
           "legendgroup": "Trade & Transportation",
           "marker": {
            "color": "#19d3f3",
            "size": {
             "bdata": "r7tJAA==",
             "dtype": "i4"
            },
            "sizemode": "area",
            "sizeref": 1209.4062,
            "symbol": "circle"
           },
           "mode": "markers",
           "name": "Trade & Transportation",
           "orientation": "v",
           "showlegend": true,
           "type": "scatter",
           "x": {
            "bdata": "J7RBqqxc5b8=",
            "dtype": "f8"
           },
           "xaxis": "x",
           "y": {
            "bdata": "D68CBPVlB8A=",
            "dtype": "f8"
           },
           "yaxis": "y"
          },
          {
           "hovertemplate": "<b>%{hovertext}</b><br><br>Group=Utilities & Construction<br>Year=2016<br>x=%{x}<br>y=%{y}<br>Value=%{marker.size}<extra></extra>",
           "hovertext": [
            "Utilities & Construction"
           ],
           "legendgroup": "Utilities & Construction",
           "marker": {
            "color": "#FF6692",
            "size": {
             "bdata": "3TIeAA==",
             "dtype": "i4"
            },
            "sizemode": "area",
            "sizeref": 1209.4062,
            "symbol": "circle"
           },
           "mode": "markers",
           "name": "Utilities & Construction",
           "orientation": "v",
           "showlegend": true,
           "type": "scatter",
           "x": {
            "bdata": "uOTRU3Ht/T8=",
            "dtype": "f8"
           },
           "xaxis": "x",
           "y": {
            "bdata": "uWbEl5LDAsA=",
            "dtype": "f8"
           },
           "yaxis": "y"
          }
         ],
         "name": "2016"
        },
        {
         "data": [
          {
           "hovertemplate": "<b>%{hovertext}</b><br><br>Group=Health, Education & Leisure<br>Year=2017<br>x=%{x}<br>y=%{y}<br>Value=%{marker.size}<extra></extra>",
           "hovertext": [
            "Health, Education & Leisure"
           ],
           "legendgroup": "Health, Education & Leisure",
           "marker": {
            "color": "#636efa",
            "size": {
             "bdata": "qdxKAA==",
             "dtype": "i4"
            },
            "sizemode": "area",
            "sizeref": 1209.4062,
            "symbol": "circle"
           },
           "mode": "markers",
           "name": "Health, Education & Leisure",
           "orientation": "v",
           "showlegend": true,
           "type": "scatter",
           "x": {
            "bdata": "AAAAAAAACEA=",
            "dtype": "f8"
           },
           "xaxis": "x",
           "y": {
            "bdata": "AAAAAAAAAAA=",
            "dtype": "f8"
           },
           "yaxis": "y"
          },
          {
           "hovertemplate": "<b>%{hovertext}</b><br><br>Group=Information & Finance<br>Year=2017<br>x=%{x}<br>y=%{y}<br>Value=%{marker.size}<extra></extra>",
           "hovertext": [
            "Information & Finance"
           ],
           "legendgroup": "Information & Finance",
           "marker": {
            "color": "#EF553B",
            "size": {
             "bdata": "O2d9AA==",
             "dtype": "i4"
            },
            "sizemode": "area",
            "sizeref": 1209.4062,
            "symbol": "circle"
           },
           "mode": "markers",
           "name": "Information & Finance",
           "orientation": "v",
           "showlegend": true,
           "type": "scatter",
           "x": {
            "bdata": "u+TRU3Ht/T8=",
            "dtype": "f8"
           },
           "xaxis": "x",
           "y": {
            "bdata": "uGbEl5LDAkA=",
            "dtype": "f8"
           },
           "yaxis": "y"
          },
          {
           "hovertemplate": "<b>%{hovertext}</b><br><br>Group=Manufacturing<br>Year=2017<br>x=%{x}<br>y=%{y}<br>Value=%{marker.size}<extra></extra>",
           "hovertext": [
            "Manufacturing"
           ],
           "legendgroup": "Manufacturing",
           "marker": {
            "color": "#00cc96",
            "size": {
             "bdata": "N55WAA==",
             "dtype": "i4"
            },
            "sizemode": "area",
            "sizeref": 1209.4062,
            "symbol": "circle"
           },
           "mode": "markers",
           "name": "Manufacturing",
           "orientation": "v",
           "showlegend": true,
           "type": "scatter",
           "x": {
            "bdata": "ILRBqqxc5b8=",
            "dtype": "f8"
           },
           "xaxis": "x",
           "y": {
            "bdata": "D68CBPVlB0A=",
            "dtype": "f8"
           },
           "yaxis": "y"
          },
          {
           "hovertemplate": "<b>%{hovertext}</b><br><br>Group=Primary Industries<br>Year=2017<br>x=%{x}<br>y=%{y}<br>Value=%{marker.size}<extra></extra>",
           "hovertext": [
            "Primary Industries"
           ],
           "legendgroup": "Primary Industries",
           "marker": {
            "color": "#ab63fa",
            "size": {
             "bdata": "RukNAA==",
             "dtype": "i4"
            },
            "sizemode": "area",
            "sizeref": 1209.4062,
            "symbol": "circle"
           },
           "mode": "markers",
           "name": "Primary Industries",
           "orientation": "v",
           "showlegend": true,
           "type": "scatter",
           "x": {
            "bdata": "VIVYf42fBcA=",
            "dtype": "f8"
           },
           "xaxis": "x",
           "y": {
            "bdata": "0kAVOpDT9D8=",
            "dtype": "f8"
           },
           "yaxis": "y"
          },
          {
           "hovertemplate": "<b>%{hovertext}</b><br><br>Group=Professional & Public Services<br>Year=2017<br>x=%{x}<br>y=%{y}<br>Value=%{marker.size}<extra></extra>",
           "hovertext": [
            "Professional & Public Services"
           ],
           "legendgroup": "Professional & Public Services",
           "marker": {
            "color": "#FFA15A",
            "size": {
             "bdata": "o02DAA==",
             "dtype": "i4"
            },
            "sizemode": "area",
            "sizeref": 1209.4062,
            "symbol": "circle"
           },
           "mode": "markers",
           "name": "Professional & Public Services",
           "orientation": "v",
           "showlegend": true,
           "type": "scatter",
           "x": {
            "bdata": "VYVYf42fBcA=",
            "dtype": "f8"
           },
           "xaxis": "x",
           "y": {
            "bdata": "z0AVOpDT9L8=",
            "dtype": "f8"
           },
           "yaxis": "y"
          },
          {
           "hovertemplate": "<b>%{hovertext}</b><br><br>Group=Trade & Transportation<br>Year=2017<br>x=%{x}<br>y=%{y}<br>Value=%{marker.size}<extra></extra>",
           "hovertext": [
            "Trade & Transportation"
           ],
           "legendgroup": "Trade & Transportation",
           "marker": {
            "color": "#19d3f3",
            "size": {
             "bdata": "Nj5OAA==",
             "dtype": "i4"
            },
            "sizemode": "area",
            "sizeref": 1209.4062,
            "symbol": "circle"
           },
           "mode": "markers",
           "name": "Trade & Transportation",
           "orientation": "v",
           "showlegend": true,
           "type": "scatter",
           "x": {
            "bdata": "J7RBqqxc5b8=",
            "dtype": "f8"
           },
           "xaxis": "x",
           "y": {
            "bdata": "D68CBPVlB8A=",
            "dtype": "f8"
           },
           "yaxis": "y"
          },
          {
           "hovertemplate": "<b>%{hovertext}</b><br><br>Group=Utilities & Construction<br>Year=2017<br>x=%{x}<br>y=%{y}<br>Value=%{marker.size}<extra></extra>",
           "hovertext": [
            "Utilities & Construction"
           ],
           "legendgroup": "Utilities & Construction",
           "marker": {
            "color": "#FF6692",
            "size": {
             "bdata": "9U8fAA==",
             "dtype": "i4"
            },
            "sizemode": "area",
            "sizeref": 1209.4062,
            "symbol": "circle"
           },
           "mode": "markers",
           "name": "Utilities & Construction",
           "orientation": "v",
           "showlegend": true,
           "type": "scatter",
           "x": {
            "bdata": "uOTRU3Ht/T8=",
            "dtype": "f8"
           },
           "xaxis": "x",
           "y": {
            "bdata": "uWbEl5LDAsA=",
            "dtype": "f8"
           },
           "yaxis": "y"
          }
         ],
         "name": "2017"
        },
        {
         "data": [
          {
           "hovertemplate": "<b>%{hovertext}</b><br><br>Group=Health, Education & Leisure<br>Year=2018<br>x=%{x}<br>y=%{y}<br>Value=%{marker.size}<extra></extra>",
           "hovertext": [
            "Health, Education & Leisure"
           ],
           "legendgroup": "Health, Education & Leisure",
           "marker": {
            "color": "#636efa",
            "size": {
             "bdata": "QTZOAA==",
             "dtype": "i4"
            },
            "sizemode": "area",
            "sizeref": 1209.4062,
            "symbol": "circle"
           },
           "mode": "markers",
           "name": "Health, Education & Leisure",
           "orientation": "v",
           "showlegend": true,
           "type": "scatter",
           "x": {
            "bdata": "AAAAAAAACEA=",
            "dtype": "f8"
           },
           "xaxis": "x",
           "y": {
            "bdata": "AAAAAAAAAAA=",
            "dtype": "f8"
           },
           "yaxis": "y"
          },
          {
           "hovertemplate": "<b>%{hovertext}</b><br><br>Group=Information & Finance<br>Year=2018<br>x=%{x}<br>y=%{y}<br>Value=%{marker.size}<extra></extra>",
           "hovertext": [
            "Information & Finance"
           ],
           "legendgroup": "Information & Finance",
           "marker": {
            "color": "#EF553B",
            "size": {
             "bdata": "lgiEAA==",
             "dtype": "i4"
            },
            "sizemode": "area",
            "sizeref": 1209.4062,
            "symbol": "circle"
           },
           "mode": "markers",
           "name": "Information & Finance",
           "orientation": "v",
           "showlegend": true,
           "type": "scatter",
           "x": {
            "bdata": "u+TRU3Ht/T8=",
            "dtype": "f8"
           },
           "xaxis": "x",
           "y": {
            "bdata": "uGbEl5LDAkA=",
            "dtype": "f8"
           },
           "yaxis": "y"
          },
          {
           "hovertemplate": "<b>%{hovertext}</b><br><br>Group=Manufacturing<br>Year=2018<br>x=%{x}<br>y=%{y}<br>Value=%{marker.size}<extra></extra>",
           "hovertext": [
            "Manufacturing"
           ],
           "legendgroup": "Manufacturing",
           "marker": {
            "color": "#00cc96",
            "size": {
             "bdata": "KzdcAA==",
             "dtype": "i4"
            },
            "sizemode": "area",
            "sizeref": 1209.4062,
            "symbol": "circle"
           },
           "mode": "markers",
           "name": "Manufacturing",
           "orientation": "v",
           "showlegend": true,
           "type": "scatter",
           "x": {
            "bdata": "ILRBqqxc5b8=",
            "dtype": "f8"
           },
           "xaxis": "x",
           "y": {
            "bdata": "D68CBPVlB0A=",
            "dtype": "f8"
           },
           "yaxis": "y"
          },
          {
           "hovertemplate": "<b>%{hovertext}</b><br><br>Group=Primary Industries<br>Year=2018<br>x=%{x}<br>y=%{y}<br>Value=%{marker.size}<extra></extra>",
           "hovertext": [
            "Primary Industries"
           ],
           "legendgroup": "Primary Industries",
           "marker": {
            "color": "#ab63fa",
            "size": {
             "bdata": "4cUPAA==",
             "dtype": "i4"
            },
            "sizemode": "area",
            "sizeref": 1209.4062,
            "symbol": "circle"
           },
           "mode": "markers",
           "name": "Primary Industries",
           "orientation": "v",
           "showlegend": true,
           "type": "scatter",
           "x": {
            "bdata": "VIVYf42fBcA=",
            "dtype": "f8"
           },
           "xaxis": "x",
           "y": {
            "bdata": "0kAVOpDT9D8=",
            "dtype": "f8"
           },
           "yaxis": "y"
          },
          {
           "hovertemplate": "<b>%{hovertext}</b><br><br>Group=Professional & Public Services<br>Year=2018<br>x=%{x}<br>y=%{y}<br>Value=%{marker.size}<extra></extra>",
           "hovertext": [
            "Professional & Public Services"
           ],
           "legendgroup": "Professional & Public Services",
           "marker": {
            "color": "#FFA15A",
            "size": {
             "bdata": "iAGLAA==",
             "dtype": "i4"
            },
            "sizemode": "area",
            "sizeref": 1209.4062,
            "symbol": "circle"
           },
           "mode": "markers",
           "name": "Professional & Public Services",
           "orientation": "v",
           "showlegend": true,
           "type": "scatter",
           "x": {
            "bdata": "VYVYf42fBcA=",
            "dtype": "f8"
           },
           "xaxis": "x",
           "y": {
            "bdata": "z0AVOpDT9L8=",
            "dtype": "f8"
           },
           "yaxis": "y"
          },
          {
           "hovertemplate": "<b>%{hovertext}</b><br><br>Group=Trade & Transportation<br>Year=2018<br>x=%{x}<br>y=%{y}<br>Value=%{marker.size}<extra></extra>",
           "hovertext": [
            "Trade & Transportation"
           ],
           "legendgroup": "Trade & Transportation",
           "marker": {
            "color": "#19d3f3",
            "size": {
             "bdata": "riJTAA==",
             "dtype": "i4"
            },
            "sizemode": "area",
            "sizeref": 1209.4062,
            "symbol": "circle"
           },
           "mode": "markers",
           "name": "Trade & Transportation",
           "orientation": "v",
           "showlegend": true,
           "type": "scatter",
           "x": {
            "bdata": "J7RBqqxc5b8=",
            "dtype": "f8"
           },
           "xaxis": "x",
           "y": {
            "bdata": "D68CBPVlB8A=",
            "dtype": "f8"
           },
           "yaxis": "y"
          },
          {
           "hovertemplate": "<b>%{hovertext}</b><br><br>Group=Utilities & Construction<br>Year=2018<br>x=%{x}<br>y=%{y}<br>Value=%{marker.size}<extra></extra>",
           "hovertext": [
            "Utilities & Construction"
           ],
           "legendgroup": "Utilities & Construction",
           "marker": {
            "color": "#FF6692",
            "size": {
             "bdata": "rzkhAA==",
             "dtype": "i4"
            },
            "sizemode": "area",
            "sizeref": 1209.4062,
            "symbol": "circle"
           },
           "mode": "markers",
           "name": "Utilities & Construction",
           "orientation": "v",
           "showlegend": true,
           "type": "scatter",
           "x": {
            "bdata": "uOTRU3Ht/T8=",
            "dtype": "f8"
           },
           "xaxis": "x",
           "y": {
            "bdata": "uWbEl5LDAsA=",
            "dtype": "f8"
           },
           "yaxis": "y"
          }
         ],
         "name": "2018"
        },
        {
         "data": [
          {
           "hovertemplate": "<b>%{hovertext}</b><br><br>Group=Health, Education & Leisure<br>Year=2019<br>x=%{x}<br>y=%{y}<br>Value=%{marker.size}<extra></extra>",
           "hovertext": [
            "Health, Education & Leisure"
           ],
           "legendgroup": "Health, Education & Leisure",
           "marker": {
            "color": "#636efa",
            "size": {
             "bdata": "+wJSAA==",
             "dtype": "i4"
            },
            "sizemode": "area",
            "sizeref": 1209.4062,
            "symbol": "circle"
           },
           "mode": "markers",
           "name": "Health, Education & Leisure",
           "orientation": "v",
           "showlegend": true,
           "type": "scatter",
           "x": {
            "bdata": "AAAAAAAACEA=",
            "dtype": "f8"
           },
           "xaxis": "x",
           "y": {
            "bdata": "AAAAAAAAAAA=",
            "dtype": "f8"
           },
           "yaxis": "y"
          },
          {
           "hovertemplate": "<b>%{hovertext}</b><br><br>Group=Information & Finance<br>Year=2019<br>x=%{x}<br>y=%{y}<br>Value=%{marker.size}<extra></extra>",
           "hovertext": [
            "Information & Finance"
           ],
           "legendgroup": "Information & Finance",
           "marker": {
            "color": "#EF553B",
            "size": {
             "bdata": "CL2JAA==",
             "dtype": "i4"
            },
            "sizemode": "area",
            "sizeref": 1209.4062,
            "symbol": "circle"
           },
           "mode": "markers",
           "name": "Information & Finance",
           "orientation": "v",
           "showlegend": true,
           "type": "scatter",
           "x": {
            "bdata": "u+TRU3Ht/T8=",
            "dtype": "f8"
           },
           "xaxis": "x",
           "y": {
            "bdata": "uGbEl5LDAkA=",
            "dtype": "f8"
           },
           "yaxis": "y"
          },
          {
           "hovertemplate": "<b>%{hovertext}</b><br><br>Group=Manufacturing<br>Year=2019<br>x=%{x}<br>y=%{y}<br>Value=%{marker.size}<extra></extra>",
           "hovertext": [
            "Manufacturing"
           ],
           "legendgroup": "Manufacturing",
           "marker": {
            "color": "#00cc96",
            "size": {
             "bdata": "k6haAA==",
             "dtype": "i4"
            },
            "sizemode": "area",
            "sizeref": 1209.4062,
            "symbol": "circle"
           },
           "mode": "markers",
           "name": "Manufacturing",
           "orientation": "v",
           "showlegend": true,
           "type": "scatter",
           "x": {
            "bdata": "ILRBqqxc5b8=",
            "dtype": "f8"
           },
           "xaxis": "x",
           "y": {
            "bdata": "D68CBPVlB0A=",
            "dtype": "f8"
           },
           "yaxis": "y"
          },
          {
           "hovertemplate": "<b>%{hovertext}</b><br><br>Group=Primary Industries<br>Year=2019<br>x=%{x}<br>y=%{y}<br>Value=%{marker.size}<extra></extra>",
           "hovertext": [
            "Primary Industries"
           ],
           "legendgroup": "Primary Industries",
           "marker": {
            "color": "#ab63fa",
            "size": {
             "bdata": "rTUPAA==",
             "dtype": "i4"
            },
            "sizemode": "area",
            "sizeref": 1209.4062,
            "symbol": "circle"
           },
           "mode": "markers",
           "name": "Primary Industries",
           "orientation": "v",
           "showlegend": true,
           "type": "scatter",
           "x": {
            "bdata": "VIVYf42fBcA=",
            "dtype": "f8"
           },
           "xaxis": "x",
           "y": {
            "bdata": "0kAVOpDT9D8=",
            "dtype": "f8"
           },
           "yaxis": "y"
          },
          {
           "hovertemplate": "<b>%{hovertext}</b><br><br>Group=Professional & Public Services<br>Year=2019<br>x=%{x}<br>y=%{y}<br>Value=%{marker.size}<extra></extra>",
           "hovertext": [
            "Professional & Public Services"
           ],
           "legendgroup": "Professional & Public Services",
           "marker": {
            "color": "#FFA15A",
            "size": {
             "bdata": "hF+SAA==",
             "dtype": "i4"
            },
            "sizemode": "area",
            "sizeref": 1209.4062,
            "symbol": "circle"
           },
           "mode": "markers",
           "name": "Professional & Public Services",
           "orientation": "v",
           "showlegend": true,
           "type": "scatter",
           "x": {
            "bdata": "VYVYf42fBcA=",
            "dtype": "f8"
           },
           "xaxis": "x",
           "y": {
            "bdata": "z0AVOpDT9L8=",
            "dtype": "f8"
           },
           "yaxis": "y"
          },
          {
           "hovertemplate": "<b>%{hovertext}</b><br><br>Group=Trade & Transportation<br>Year=2019<br>x=%{x}<br>y=%{y}<br>Value=%{marker.size}<extra></extra>",
           "hovertext": [
            "Trade & Transportation"
           ],
           "legendgroup": "Trade & Transportation",
           "marker": {
            "color": "#19d3f3",
            "size": {
             "bdata": "ArxVAA==",
             "dtype": "i4"
            },
            "sizemode": "area",
            "sizeref": 1209.4062,
            "symbol": "circle"
           },
           "mode": "markers",
           "name": "Trade & Transportation",
           "orientation": "v",
           "showlegend": true,
           "type": "scatter",
           "x": {
            "bdata": "J7RBqqxc5b8=",
            "dtype": "f8"
           },
           "xaxis": "x",
           "y": {
            "bdata": "D68CBPVlB8A=",
            "dtype": "f8"
           },
           "yaxis": "y"
          },
          {
           "hovertemplate": "<b>%{hovertext}</b><br><br>Group=Utilities & Construction<br>Year=2019<br>x=%{x}<br>y=%{y}<br>Value=%{marker.size}<extra></extra>",
           "hovertext": [
            "Utilities & Construction"
           ],
           "legendgroup": "Utilities & Construction",
           "marker": {
            "color": "#FF6692",
            "size": {
             "bdata": "lVUiAA==",
             "dtype": "i4"
            },
            "sizemode": "area",
            "sizeref": 1209.4062,
            "symbol": "circle"
           },
           "mode": "markers",
           "name": "Utilities & Construction",
           "orientation": "v",
           "showlegend": true,
           "type": "scatter",
           "x": {
            "bdata": "uOTRU3Ht/T8=",
            "dtype": "f8"
           },
           "xaxis": "x",
           "y": {
            "bdata": "uWbEl5LDAsA=",
            "dtype": "f8"
           },
           "yaxis": "y"
          }
         ],
         "name": "2019"
        },
        {
         "data": [
          {
           "hovertemplate": "<b>%{hovertext}</b><br><br>Group=Health, Education & Leisure<br>Year=2020<br>x=%{x}<br>y=%{y}<br>Value=%{marker.size}<extra></extra>",
           "hovertext": [
            "Health, Education & Leisure"
           ],
           "legendgroup": "Health, Education & Leisure",
           "marker": {
            "color": "#636efa",
            "size": {
             "bdata": "CU9KAA==",
             "dtype": "i4"
            },
            "sizemode": "area",
            "sizeref": 1209.4062,
            "symbol": "circle"
           },
           "mode": "markers",
           "name": "Health, Education & Leisure",
           "orientation": "v",
           "showlegend": true,
           "type": "scatter",
           "x": {
            "bdata": "AAAAAAAACEA=",
            "dtype": "f8"
           },
           "xaxis": "x",
           "y": {
            "bdata": "AAAAAAAAAAA=",
            "dtype": "f8"
           },
           "yaxis": "y"
          },
          {
           "hovertemplate": "<b>%{hovertext}</b><br><br>Group=Information & Finance<br>Year=2020<br>x=%{x}<br>y=%{y}<br>Value=%{marker.size}<extra></extra>",
           "hovertext": [
            "Information & Finance"
           ],
           "legendgroup": "Information & Finance",
           "marker": {
            "color": "#EF553B",
            "size": {
             "bdata": "2AiOAA==",
             "dtype": "i4"
            },
            "sizemode": "area",
            "sizeref": 1209.4062,
            "symbol": "circle"
           },
           "mode": "markers",
           "name": "Information & Finance",
           "orientation": "v",
           "showlegend": true,
           "type": "scatter",
           "x": {
            "bdata": "u+TRU3Ht/T8=",
            "dtype": "f8"
           },
           "xaxis": "x",
           "y": {
            "bdata": "uGbEl5LDAkA=",
            "dtype": "f8"
           },
           "yaxis": "y"
          },
          {
           "hovertemplate": "<b>%{hovertext}</b><br><br>Group=Manufacturing<br>Year=2020<br>x=%{x}<br>y=%{y}<br>Value=%{marker.size}<extra></extra>",
           "hovertext": [
            "Manufacturing"
           ],
           "legendgroup": "Manufacturing",
           "marker": {
            "color": "#00cc96",
            "size": {
             "bdata": "15BSAA==",
             "dtype": "i4"
            },
            "sizemode": "area",
            "sizeref": 1209.4062,
            "symbol": "circle"
           },
           "mode": "markers",
           "name": "Manufacturing",
           "orientation": "v",
           "showlegend": true,
           "type": "scatter",
           "x": {
            "bdata": "ILRBqqxc5b8=",
            "dtype": "f8"
           },
           "xaxis": "x",
           "y": {
            "bdata": "D68CBPVlB0A=",
            "dtype": "f8"
           },
           "yaxis": "y"
          },
          {
           "hovertemplate": "<b>%{hovertext}</b><br><br>Group=Primary Industries<br>Year=2020<br>x=%{x}<br>y=%{y}<br>Value=%{marker.size}<extra></extra>",
           "hovertext": [
            "Primary Industries"
           ],
           "legendgroup": "Primary Industries",
           "marker": {
            "color": "#ab63fa",
            "size": {
             "bdata": "jaYMAA==",
             "dtype": "i4"
            },
            "sizemode": "area",
            "sizeref": 1209.4062,
            "symbol": "circle"
           },
           "mode": "markers",
           "name": "Primary Industries",
           "orientation": "v",
           "showlegend": true,
           "type": "scatter",
           "x": {
            "bdata": "VIVYf42fBcA=",
            "dtype": "f8"
           },
           "xaxis": "x",
           "y": {
            "bdata": "0kAVOpDT9D8=",
            "dtype": "f8"
           },
           "yaxis": "y"
          },
          {
           "hovertemplate": "<b>%{hovertext}</b><br><br>Group=Professional & Public Services<br>Year=2020<br>x=%{x}<br>y=%{y}<br>Value=%{marker.size}<extra></extra>",
           "hovertext": [
            "Professional & Public Services"
           ],
           "legendgroup": "Professional & Public Services",
           "marker": {
            "color": "#FFA15A",
            "size": {
             "bdata": "5YKVAA==",
             "dtype": "i4"
            },
            "sizemode": "area",
            "sizeref": 1209.4062,
            "symbol": "circle"
           },
           "mode": "markers",
           "name": "Professional & Public Services",
           "orientation": "v",
           "showlegend": true,
           "type": "scatter",
           "x": {
            "bdata": "VYVYf42fBcA=",
            "dtype": "f8"
           },
           "xaxis": "x",
           "y": {
            "bdata": "z0AVOpDT9L8=",
            "dtype": "f8"
           },
           "yaxis": "y"
          },
          {
           "hovertemplate": "<b>%{hovertext}</b><br><br>Group=Trade & Transportation<br>Year=2020<br>x=%{x}<br>y=%{y}<br>Value=%{marker.size}<extra></extra>",
           "hovertext": [
            "Trade & Transportation"
           ],
           "legendgroup": "Trade & Transportation",
           "marker": {
            "color": "#19d3f3",
            "size": {
             "bdata": "rYpSAA==",
             "dtype": "i4"
            },
            "sizemode": "area",
            "sizeref": 1209.4062,
            "symbol": "circle"
           },
           "mode": "markers",
           "name": "Trade & Transportation",
           "orientation": "v",
           "showlegend": true,
           "type": "scatter",
           "x": {
            "bdata": "J7RBqqxc5b8=",
            "dtype": "f8"
           },
           "xaxis": "x",
           "y": {
            "bdata": "D68CBPVlB8A=",
            "dtype": "f8"
           },
           "yaxis": "y"
          },
          {
           "hovertemplate": "<b>%{hovertext}</b><br><br>Group=Utilities & Construction<br>Year=2020<br>x=%{x}<br>y=%{y}<br>Value=%{marker.size}<extra></extra>",
           "hovertext": [
            "Utilities & Construction"
           ],
           "legendgroup": "Utilities & Construction",
           "marker": {
            "color": "#FF6692",
            "size": {
             "bdata": "QCkjAA==",
             "dtype": "i4"
            },
            "sizemode": "area",
            "sizeref": 1209.4062,
            "symbol": "circle"
           },
           "mode": "markers",
           "name": "Utilities & Construction",
           "orientation": "v",
           "showlegend": true,
           "type": "scatter",
           "x": {
            "bdata": "uOTRU3Ht/T8=",
            "dtype": "f8"
           },
           "xaxis": "x",
           "y": {
            "bdata": "uWbEl5LDAsA=",
            "dtype": "f8"
           },
           "yaxis": "y"
          }
         ],
         "name": "2020"
        },
        {
         "data": [
          {
           "hovertemplate": "<b>%{hovertext}</b><br><br>Group=Health, Education & Leisure<br>Year=2021<br>x=%{x}<br>y=%{y}<br>Value=%{marker.size}<extra></extra>",
           "hovertext": [
            "Health, Education & Leisure"
           ],
           "legendgroup": "Health, Education & Leisure",
           "marker": {
            "color": "#636efa",
            "size": {
             "bdata": "QCNWAA==",
             "dtype": "i4"
            },
            "sizemode": "area",
            "sizeref": 1209.4062,
            "symbol": "circle"
           },
           "mode": "markers",
           "name": "Health, Education & Leisure",
           "orientation": "v",
           "showlegend": true,
           "type": "scatter",
           "x": {
            "bdata": "AAAAAAAACEA=",
            "dtype": "f8"
           },
           "xaxis": "x",
           "y": {
            "bdata": "AAAAAAAAAAA=",
            "dtype": "f8"
           },
           "yaxis": "y"
          },
          {
           "hovertemplate": "<b>%{hovertext}</b><br><br>Group=Information & Finance<br>Year=2021<br>x=%{x}<br>y=%{y}<br>Value=%{marker.size}<extra></extra>",
           "hovertext": [
            "Information & Finance"
           ],
           "legendgroup": "Information & Finance",
           "marker": {
            "color": "#EF553B",
            "size": {
             "bdata": "te2cAA==",
             "dtype": "i4"
            },
            "sizemode": "area",
            "sizeref": 1209.4062,
            "symbol": "circle"
           },
           "mode": "markers",
           "name": "Information & Finance",
           "orientation": "v",
           "showlegend": true,
           "type": "scatter",
           "x": {
            "bdata": "u+TRU3Ht/T8=",
            "dtype": "f8"
           },
           "xaxis": "x",
           "y": {
            "bdata": "uGbEl5LDAkA=",
            "dtype": "f8"
           },
           "yaxis": "y"
          },
          {
           "hovertemplate": "<b>%{hovertext}</b><br><br>Group=Manufacturing<br>Year=2021<br>x=%{x}<br>y=%{y}<br>Value=%{marker.size}<extra></extra>",
           "hovertext": [
            "Manufacturing"
           ],
           "legendgroup": "Manufacturing",
           "marker": {
            "color": "#00cc96",
            "size": {
             "bdata": "ZvNfAA==",
             "dtype": "i4"
            },
            "sizemode": "area",
            "sizeref": 1209.4062,
            "symbol": "circle"
           },
           "mode": "markers",
           "name": "Manufacturing",
           "orientation": "v",
           "showlegend": true,
           "type": "scatter",
           "x": {
            "bdata": "ILRBqqxc5b8=",
            "dtype": "f8"
           },
           "xaxis": "x",
           "y": {
            "bdata": "D68CBPVlB0A=",
            "dtype": "f8"
           },
           "yaxis": "y"
          },
          {
           "hovertemplate": "<b>%{hovertext}</b><br><br>Group=Primary Industries<br>Year=2021<br>x=%{x}<br>y=%{y}<br>Value=%{marker.size}<extra></extra>",
           "hovertext": [
            "Primary Industries"
           ],
           "legendgroup": "Primary Industries",
           "marker": {
            "color": "#ab63fa",
            "size": {
             "bdata": "Wm4RAA==",
             "dtype": "i4"
            },
            "sizemode": "area",
            "sizeref": 1209.4062,
            "symbol": "circle"
           },
           "mode": "markers",
           "name": "Primary Industries",
           "orientation": "v",
           "showlegend": true,
           "type": "scatter",
           "x": {
            "bdata": "VIVYf42fBcA=",
            "dtype": "f8"
           },
           "xaxis": "x",
           "y": {
            "bdata": "0kAVOpDT9D8=",
            "dtype": "f8"
           },
           "yaxis": "y"
          },
          {
           "hovertemplate": "<b>%{hovertext}</b><br><br>Group=Professional & Public Services<br>Year=2021<br>x=%{x}<br>y=%{y}<br>Value=%{marker.size}<extra></extra>",
           "hovertext": [
            "Professional & Public Services"
           ],
           "legendgroup": "Professional & Public Services",
           "marker": {
            "color": "#FFA15A",
            "size": {
             "bdata": "ueSiAA==",
             "dtype": "i4"
            },
            "sizemode": "area",
            "sizeref": 1209.4062,
            "symbol": "circle"
           },
           "mode": "markers",
           "name": "Professional & Public Services",
           "orientation": "v",
           "showlegend": true,
           "type": "scatter",
           "x": {
            "bdata": "VYVYf42fBcA=",
            "dtype": "f8"
           },
           "xaxis": "x",
           "y": {
            "bdata": "z0AVOpDT9L8=",
            "dtype": "f8"
           },
           "yaxis": "y"
          },
          {
           "hovertemplate": "<b>%{hovertext}</b><br><br>Group=Trade & Transportation<br>Year=2021<br>x=%{x}<br>y=%{y}<br>Value=%{marker.size}<extra></extra>",
           "hovertext": [
            "Trade & Transportation"
           ],
           "legendgroup": "Trade & Transportation",
           "marker": {
            "color": "#19d3f3",
            "size": {
             "bdata": "QRBjAA==",
             "dtype": "i4"
            },
            "sizemode": "area",
            "sizeref": 1209.4062,
            "symbol": "circle"
           },
           "mode": "markers",
           "name": "Trade & Transportation",
           "orientation": "v",
           "showlegend": true,
           "type": "scatter",
           "x": {
            "bdata": "J7RBqqxc5b8=",
            "dtype": "f8"
           },
           "xaxis": "x",
           "y": {
            "bdata": "D68CBPVlB8A=",
            "dtype": "f8"
           },
           "yaxis": "y"
          },
          {
           "hovertemplate": "<b>%{hovertext}</b><br><br>Group=Utilities & Construction<br>Year=2021<br>x=%{x}<br>y=%{y}<br>Value=%{marker.size}<extra></extra>",
           "hovertext": [
            "Utilities & Construction"
           ],
           "legendgroup": "Utilities & Construction",
           "marker": {
            "color": "#FF6692",
            "size": {
             "bdata": "K28nAA==",
             "dtype": "i4"
            },
            "sizemode": "area",
            "sizeref": 1209.4062,
            "symbol": "circle"
           },
           "mode": "markers",
           "name": "Utilities & Construction",
           "orientation": "v",
           "showlegend": true,
           "type": "scatter",
           "x": {
            "bdata": "uOTRU3Ht/T8=",
            "dtype": "f8"
           },
           "xaxis": "x",
           "y": {
            "bdata": "uWbEl5LDAsA=",
            "dtype": "f8"
           },
           "yaxis": "y"
          }
         ],
         "name": "2021"
        },
        {
         "data": [
          {
           "hovertemplate": "<b>%{hovertext}</b><br><br>Group=Health, Education & Leisure<br>Year=2022<br>x=%{x}<br>y=%{y}<br>Value=%{marker.size}<extra></extra>",
           "hovertext": [
            "Health, Education & Leisure"
           ],
           "legendgroup": "Health, Education & Leisure",
           "marker": {
            "color": "#636efa",
            "size": {
             "bdata": "SzxhAA==",
             "dtype": "i4"
            },
            "sizemode": "area",
            "sizeref": 1209.4062,
            "symbol": "circle"
           },
           "mode": "markers",
           "name": "Health, Education & Leisure",
           "orientation": "v",
           "showlegend": true,
           "type": "scatter",
           "x": {
            "bdata": "AAAAAAAACEA=",
            "dtype": "f8"
           },
           "xaxis": "x",
           "y": {
            "bdata": "AAAAAAAAAAA=",
            "dtype": "f8"
           },
           "yaxis": "y"
          },
          {
           "hovertemplate": "<b>%{hovertext}</b><br><br>Group=Information & Finance<br>Year=2022<br>x=%{x}<br>y=%{y}<br>Value=%{marker.size}<extra></extra>",
           "hovertext": [
            "Information & Finance"
           ],
           "legendgroup": "Information & Finance",
           "marker": {
            "color": "#EF553B",
            "size": {
             "bdata": "//2oAA==",
             "dtype": "i4"
            },
            "sizemode": "area",
            "sizeref": 1209.4062,
            "symbol": "circle"
           },
           "mode": "markers",
           "name": "Information & Finance",
           "orientation": "v",
           "showlegend": true,
           "type": "scatter",
           "x": {
            "bdata": "u+TRU3Ht/T8=",
            "dtype": "f8"
           },
           "xaxis": "x",
           "y": {
            "bdata": "uGbEl5LDAkA=",
            "dtype": "f8"
           },
           "yaxis": "y"
          },
          {
           "hovertemplate": "<b>%{hovertext}</b><br><br>Group=Manufacturing<br>Year=2022<br>x=%{x}<br>y=%{y}<br>Value=%{marker.size}<extra></extra>",
           "hovertext": [
            "Manufacturing"
           ],
           "legendgroup": "Manufacturing",
           "marker": {
            "color": "#00cc96",
            "size": {
             "bdata": "dkdtAA==",
             "dtype": "i4"
            },
            "sizemode": "area",
            "sizeref": 1209.4062,
            "symbol": "circle"
           },
           "mode": "markers",
           "name": "Manufacturing",
           "orientation": "v",
           "showlegend": true,
           "type": "scatter",
           "x": {
            "bdata": "ILRBqqxc5b8=",
            "dtype": "f8"
           },
           "xaxis": "x",
           "y": {
            "bdata": "D68CBPVlB0A=",
            "dtype": "f8"
           },
           "yaxis": "y"
          },
          {
           "hovertemplate": "<b>%{hovertext}</b><br><br>Group=Primary Industries<br>Year=2022<br>x=%{x}<br>y=%{y}<br>Value=%{marker.size}<extra></extra>",
           "hovertext": [
            "Primary Industries"
           ],
           "legendgroup": "Primary Industries",
           "marker": {
            "color": "#ab63fa",
            "size": {
             "bdata": "cR8XAA==",
             "dtype": "i4"
            },
            "sizemode": "area",
            "sizeref": 1209.4062,
            "symbol": "circle"
           },
           "mode": "markers",
           "name": "Primary Industries",
           "orientation": "v",
           "showlegend": true,
           "type": "scatter",
           "x": {
            "bdata": "VIVYf42fBcA=",
            "dtype": "f8"
           },
           "xaxis": "x",
           "y": {
            "bdata": "0kAVOpDT9D8=",
            "dtype": "f8"
           },
           "yaxis": "y"
          },
          {
           "hovertemplate": "<b>%{hovertext}</b><br><br>Group=Professional & Public Services<br>Year=2022<br>x=%{x}<br>y=%{y}<br>Value=%{marker.size}<extra></extra>",
           "hovertext": [
            "Professional & Public Services"
           ],
           "legendgroup": "Professional & Public Services",
           "marker": {
            "color": "#FFA15A",
            "size": {
             "bdata": "ubqwAA==",
             "dtype": "i4"
            },
            "sizemode": "area",
            "sizeref": 1209.4062,
            "symbol": "circle"
           },
           "mode": "markers",
           "name": "Professional & Public Services",
           "orientation": "v",
           "showlegend": true,
           "type": "scatter",
           "x": {
            "bdata": "VYVYf42fBcA=",
            "dtype": "f8"
           },
           "xaxis": "x",
           "y": {
            "bdata": "z0AVOpDT9L8=",
            "dtype": "f8"
           },
           "yaxis": "y"
          },
          {
           "hovertemplate": "<b>%{hovertext}</b><br><br>Group=Trade & Transportation<br>Year=2022<br>x=%{x}<br>y=%{y}<br>Value=%{marker.size}<extra></extra>",
           "hovertext": [
            "Trade & Transportation"
           ],
           "legendgroup": "Trade & Transportation",
           "marker": {
            "color": "#19d3f3",
            "size": {
             "bdata": "OI5wAA==",
             "dtype": "i4"
            },
            "sizemode": "area",
            "sizeref": 1209.4062,
            "symbol": "circle"
           },
           "mode": "markers",
           "name": "Trade & Transportation",
           "orientation": "v",
           "showlegend": true,
           "type": "scatter",
           "x": {
            "bdata": "J7RBqqxc5b8=",
            "dtype": "f8"
           },
           "xaxis": "x",
           "y": {
            "bdata": "D68CBPVlB8A=",
            "dtype": "f8"
           },
           "yaxis": "y"
          },
          {
           "hovertemplate": "<b>%{hovertext}</b><br><br>Group=Utilities & Construction<br>Year=2022<br>x=%{x}<br>y=%{y}<br>Value=%{marker.size}<extra></extra>",
           "hovertext": [
            "Utilities & Construction"
           ],
           "legendgroup": "Utilities & Construction",
           "marker": {
            "color": "#FF6692",
            "size": {
             "bdata": "0CcsAA==",
             "dtype": "i4"
            },
            "sizemode": "area",
            "sizeref": 1209.4062,
            "symbol": "circle"
           },
           "mode": "markers",
           "name": "Utilities & Construction",
           "orientation": "v",
           "showlegend": true,
           "type": "scatter",
           "x": {
            "bdata": "uOTRU3Ht/T8=",
            "dtype": "f8"
           },
           "xaxis": "x",
           "y": {
            "bdata": "uWbEl5LDAsA=",
            "dtype": "f8"
           },
           "yaxis": "y"
          }
         ],
         "name": "2022"
        },
        {
         "data": [
          {
           "hovertemplate": "<b>%{hovertext}</b><br><br>Group=Health, Education & Leisure<br>Year=2023<br>x=%{x}<br>y=%{y}<br>Value=%{marker.size}<extra></extra>",
           "hovertext": [
            "Health, Education & Leisure"
           ],
           "legendgroup": "Health, Education & Leisure",
           "marker": {
            "color": "#636efa",
            "size": {
             "bdata": "u0pqAA==",
             "dtype": "i4"
            },
            "sizemode": "area",
            "sizeref": 1209.4062,
            "symbol": "circle"
           },
           "mode": "markers",
           "name": "Health, Education & Leisure",
           "orientation": "v",
           "showlegend": true,
           "type": "scatter",
           "x": {
            "bdata": "AAAAAAAACEA=",
            "dtype": "f8"
           },
           "xaxis": "x",
           "y": {
            "bdata": "AAAAAAAAAAA=",
            "dtype": "f8"
           },
           "yaxis": "y"
          },
          {
           "hovertemplate": "<b>%{hovertext}</b><br><br>Group=Information & Finance<br>Year=2023<br>x=%{x}<br>y=%{y}<br>Value=%{marker.size}<extra></extra>",
           "hovertext": [
            "Information & Finance"
           ],
           "legendgroup": "Information & Finance",
           "marker": {
            "color": "#EF553B",
            "size": {
             "bdata": "oeG0AA==",
             "dtype": "i4"
            },
            "sizemode": "area",
            "sizeref": 1209.4062,
            "symbol": "circle"
           },
           "mode": "markers",
           "name": "Information & Finance",
           "orientation": "v",
           "showlegend": true,
           "type": "scatter",
           "x": {
            "bdata": "u+TRU3Ht/T8=",
            "dtype": "f8"
           },
           "xaxis": "x",
           "y": {
            "bdata": "uGbEl5LDAkA=",
            "dtype": "f8"
           },
           "yaxis": "y"
          },
          {
           "hovertemplate": "<b>%{hovertext}</b><br><br>Group=Manufacturing<br>Year=2023<br>x=%{x}<br>y=%{y}<br>Value=%{marker.size}<extra></extra>",
           "hovertext": [
            "Manufacturing"
           ],
           "legendgroup": "Manufacturing",
           "marker": {
            "color": "#00cc96",
            "size": {
             "bdata": "wwduAA==",
             "dtype": "i4"
            },
            "sizemode": "area",
            "sizeref": 1209.4062,
            "symbol": "circle"
           },
           "mode": "markers",
           "name": "Manufacturing",
           "orientation": "v",
           "showlegend": true,
           "type": "scatter",
           "x": {
            "bdata": "ILRBqqxc5b8=",
            "dtype": "f8"
           },
           "xaxis": "x",
           "y": {
            "bdata": "D68CBPVlB0A=",
            "dtype": "f8"
           },
           "yaxis": "y"
          },
          {
           "hovertemplate": "<b>%{hovertext}</b><br><br>Group=Primary Industries<br>Year=2023<br>x=%{x}<br>y=%{y}<br>Value=%{marker.size}<extra></extra>",
           "hovertext": [
            "Primary Industries"
           ],
           "legendgroup": "Primary Industries",
           "marker": {
            "color": "#ab63fa",
            "size": {
             "bdata": "23YUAA==",
             "dtype": "i4"
            },
            "sizemode": "area",
            "sizeref": 1209.4062,
            "symbol": "circle"
           },
           "mode": "markers",
           "name": "Primary Industries",
           "orientation": "v",
           "showlegend": true,
           "type": "scatter",
           "x": {
            "bdata": "VIVYf42fBcA=",
            "dtype": "f8"
           },
           "xaxis": "x",
           "y": {
            "bdata": "0kAVOpDT9D8=",
            "dtype": "f8"
           },
           "yaxis": "y"
          },
          {
           "hovertemplate": "<b>%{hovertext}</b><br><br>Group=Professional & Public Services<br>Year=2023<br>x=%{x}<br>y=%{y}<br>Value=%{marker.size}<extra></extra>",
           "hovertext": [
            "Professional & Public Services"
           ],
           "legendgroup": "Professional & Public Services",
           "marker": {
            "color": "#FFA15A",
            "size": {
             "bdata": "boq4AA==",
             "dtype": "i4"
            },
            "sizemode": "area",
            "sizeref": 1209.4062,
            "symbol": "circle"
           },
           "mode": "markers",
           "name": "Professional & Public Services",
           "orientation": "v",
           "showlegend": true,
           "type": "scatter",
           "x": {
            "bdata": "VYVYf42fBcA=",
            "dtype": "f8"
           },
           "xaxis": "x",
           "y": {
            "bdata": "z0AVOpDT9L8=",
            "dtype": "f8"
           },
           "yaxis": "y"
          },
          {
           "hovertemplate": "<b>%{hovertext}</b><br><br>Group=Trade & Transportation<br>Year=2023<br>x=%{x}<br>y=%{y}<br>Value=%{marker.size}<extra></extra>",
           "hovertext": [
            "Trade & Transportation"
           ],
           "legendgroup": "Trade & Transportation",
           "marker": {
            "color": "#19d3f3",
            "size": {
             "bdata": "dF5wAA==",
             "dtype": "i4"
            },
            "sizemode": "area",
            "sizeref": 1209.4062,
            "symbol": "circle"
           },
           "mode": "markers",
           "name": "Trade & Transportation",
           "orientation": "v",
           "showlegend": true,
           "type": "scatter",
           "x": {
            "bdata": "J7RBqqxc5b8=",
            "dtype": "f8"
           },
           "xaxis": "x",
           "y": {
            "bdata": "D68CBPVlB8A=",
            "dtype": "f8"
           },
           "yaxis": "y"
          },
          {
           "hovertemplate": "<b>%{hovertext}</b><br><br>Group=Utilities & Construction<br>Year=2023<br>x=%{x}<br>y=%{y}<br>Value=%{marker.size}<extra></extra>",
           "hovertext": [
            "Utilities & Construction"
           ],
           "legendgroup": "Utilities & Construction",
           "marker": {
            "color": "#FF6692",
            "size": {
             "bdata": "s2ktAA==",
             "dtype": "i4"
            },
            "sizemode": "area",
            "sizeref": 1209.4062,
            "symbol": "circle"
           },
           "mode": "markers",
           "name": "Utilities & Construction",
           "orientation": "v",
           "showlegend": true,
           "type": "scatter",
           "x": {
            "bdata": "uOTRU3Ht/T8=",
            "dtype": "f8"
           },
           "xaxis": "x",
           "y": {
            "bdata": "uWbEl5LDAsA=",
            "dtype": "f8"
           },
           "yaxis": "y"
          }
         ],
         "name": "2023"
        }
       ],
       "layout": {
        "height": 650,
        "legend": {
         "itemsizing": "constant",
         "title": {
          "text": "Group"
         },
         "tracegroupgap": 0
        },
        "margin": {
         "b": 0,
         "l": 0,
         "r": 0,
         "t": 40
        },
        "sliders": [
         {
          "active": 0,
          "currentvalue": {
           "prefix": "Year="
          },
          "len": 0.9,
          "pad": {
           "b": 10,
           "t": 60
          },
          "steps": [
           {
            "args": [
             [
              "1997"
             ],
             {
              "frame": {
               "duration": 0,
               "redraw": false
              },
              "fromcurrent": true,
              "mode": "immediate",
              "transition": {
               "duration": 0,
               "easing": "linear"
              }
             }
            ],
            "label": "1997",
            "method": "animate"
           },
           {
            "args": [
             [
              "1998"
             ],
             {
              "frame": {
               "duration": 0,
               "redraw": false
              },
              "fromcurrent": true,
              "mode": "immediate",
              "transition": {
               "duration": 0,
               "easing": "linear"
              }
             }
            ],
            "label": "1998",
            "method": "animate"
           },
           {
            "args": [
             [
              "1999"
             ],
             {
              "frame": {
               "duration": 0,
               "redraw": false
              },
              "fromcurrent": true,
              "mode": "immediate",
              "transition": {
               "duration": 0,
               "easing": "linear"
              }
             }
            ],
            "label": "1999",
            "method": "animate"
           },
           {
            "args": [
             [
              "2000"
             ],
             {
              "frame": {
               "duration": 0,
               "redraw": false
              },
              "fromcurrent": true,
              "mode": "immediate",
              "transition": {
               "duration": 0,
               "easing": "linear"
              }
             }
            ],
            "label": "2000",
            "method": "animate"
           },
           {
            "args": [
             [
              "2001"
             ],
             {
              "frame": {
               "duration": 0,
               "redraw": false
              },
              "fromcurrent": true,
              "mode": "immediate",
              "transition": {
               "duration": 0,
               "easing": "linear"
              }
             }
            ],
            "label": "2001",
            "method": "animate"
           },
           {
            "args": [
             [
              "2002"
             ],
             {
              "frame": {
               "duration": 0,
               "redraw": false
              },
              "fromcurrent": true,
              "mode": "immediate",
              "transition": {
               "duration": 0,
               "easing": "linear"
              }
             }
            ],
            "label": "2002",
            "method": "animate"
           },
           {
            "args": [
             [
              "2003"
             ],
             {
              "frame": {
               "duration": 0,
               "redraw": false
              },
              "fromcurrent": true,
              "mode": "immediate",
              "transition": {
               "duration": 0,
               "easing": "linear"
              }
             }
            ],
            "label": "2003",
            "method": "animate"
           },
           {
            "args": [
             [
              "2004"
             ],
             {
              "frame": {
               "duration": 0,
               "redraw": false
              },
              "fromcurrent": true,
              "mode": "immediate",
              "transition": {
               "duration": 0,
               "easing": "linear"
              }
             }
            ],
            "label": "2004",
            "method": "animate"
           },
           {
            "args": [
             [
              "2005"
             ],
             {
              "frame": {
               "duration": 0,
               "redraw": false
              },
              "fromcurrent": true,
              "mode": "immediate",
              "transition": {
               "duration": 0,
               "easing": "linear"
              }
             }
            ],
            "label": "2005",
            "method": "animate"
           },
           {
            "args": [
             [
              "2006"
             ],
             {
              "frame": {
               "duration": 0,
               "redraw": false
              },
              "fromcurrent": true,
              "mode": "immediate",
              "transition": {
               "duration": 0,
               "easing": "linear"
              }
             }
            ],
            "label": "2006",
            "method": "animate"
           },
           {
            "args": [
             [
              "2007"
             ],
             {
              "frame": {
               "duration": 0,
               "redraw": false
              },
              "fromcurrent": true,
              "mode": "immediate",
              "transition": {
               "duration": 0,
               "easing": "linear"
              }
             }
            ],
            "label": "2007",
            "method": "animate"
           },
           {
            "args": [
             [
              "2008"
             ],
             {
              "frame": {
               "duration": 0,
               "redraw": false
              },
              "fromcurrent": true,
              "mode": "immediate",
              "transition": {
               "duration": 0,
               "easing": "linear"
              }
             }
            ],
            "label": "2008",
            "method": "animate"
           },
           {
            "args": [
             [
              "2009"
             ],
             {
              "frame": {
               "duration": 0,
               "redraw": false
              },
              "fromcurrent": true,
              "mode": "immediate",
              "transition": {
               "duration": 0,
               "easing": "linear"
              }
             }
            ],
            "label": "2009",
            "method": "animate"
           },
           {
            "args": [
             [
              "2010"
             ],
             {
              "frame": {
               "duration": 0,
               "redraw": false
              },
              "fromcurrent": true,
              "mode": "immediate",
              "transition": {
               "duration": 0,
               "easing": "linear"
              }
             }
            ],
            "label": "2010",
            "method": "animate"
           },
           {
            "args": [
             [
              "2011"
             ],
             {
              "frame": {
               "duration": 0,
               "redraw": false
              },
              "fromcurrent": true,
              "mode": "immediate",
              "transition": {
               "duration": 0,
               "easing": "linear"
              }
             }
            ],
            "label": "2011",
            "method": "animate"
           },
           {
            "args": [
             [
              "2012"
             ],
             {
              "frame": {
               "duration": 0,
               "redraw": false
              },
              "fromcurrent": true,
              "mode": "immediate",
              "transition": {
               "duration": 0,
               "easing": "linear"
              }
             }
            ],
            "label": "2012",
            "method": "animate"
           },
           {
            "args": [
             [
              "2013"
             ],
             {
              "frame": {
               "duration": 0,
               "redraw": false
              },
              "fromcurrent": true,
              "mode": "immediate",
              "transition": {
               "duration": 0,
               "easing": "linear"
              }
             }
            ],
            "label": "2013",
            "method": "animate"
           },
           {
            "args": [
             [
              "2014"
             ],
             {
              "frame": {
               "duration": 0,
               "redraw": false
              },
              "fromcurrent": true,
              "mode": "immediate",
              "transition": {
               "duration": 0,
               "easing": "linear"
              }
             }
            ],
            "label": "2014",
            "method": "animate"
           },
           {
            "args": [
             [
              "2015"
             ],
             {
              "frame": {
               "duration": 0,
               "redraw": false
              },
              "fromcurrent": true,
              "mode": "immediate",
              "transition": {
               "duration": 0,
               "easing": "linear"
              }
             }
            ],
            "label": "2015",
            "method": "animate"
           },
           {
            "args": [
             [
              "2016"
             ],
             {
              "frame": {
               "duration": 0,
               "redraw": false
              },
              "fromcurrent": true,
              "mode": "immediate",
              "transition": {
               "duration": 0,
               "easing": "linear"
              }
             }
            ],
            "label": "2016",
            "method": "animate"
           },
           {
            "args": [
             [
              "2017"
             ],
             {
              "frame": {
               "duration": 0,
               "redraw": false
              },
              "fromcurrent": true,
              "mode": "immediate",
              "transition": {
               "duration": 0,
               "easing": "linear"
              }
             }
            ],
            "label": "2017",
            "method": "animate"
           },
           {
            "args": [
             [
              "2018"
             ],
             {
              "frame": {
               "duration": 0,
               "redraw": false
              },
              "fromcurrent": true,
              "mode": "immediate",
              "transition": {
               "duration": 0,
               "easing": "linear"
              }
             }
            ],
            "label": "2018",
            "method": "animate"
           },
           {
            "args": [
             [
              "2019"
             ],
             {
              "frame": {
               "duration": 0,
               "redraw": false
              },
              "fromcurrent": true,
              "mode": "immediate",
              "transition": {
               "duration": 0,
               "easing": "linear"
              }
             }
            ],
            "label": "2019",
            "method": "animate"
           },
           {
            "args": [
             [
              "2020"
             ],
             {
              "frame": {
               "duration": 0,
               "redraw": false
              },
              "fromcurrent": true,
              "mode": "immediate",
              "transition": {
               "duration": 0,
               "easing": "linear"
              }
             }
            ],
            "label": "2020",
            "method": "animate"
           },
           {
            "args": [
             [
              "2021"
             ],
             {
              "frame": {
               "duration": 0,
               "redraw": false
              },
              "fromcurrent": true,
              "mode": "immediate",
              "transition": {
               "duration": 0,
               "easing": "linear"
              }
             }
            ],
            "label": "2021",
            "method": "animate"
           },
           {
            "args": [
             [
              "2022"
             ],
             {
              "frame": {
               "duration": 0,
               "redraw": false
              },
              "fromcurrent": true,
              "mode": "immediate",
              "transition": {
               "duration": 0,
               "easing": "linear"
              }
             }
            ],
            "label": "2022",
            "method": "animate"
           },
           {
            "args": [
             [
              "2023"
             ],
             {
              "frame": {
               "duration": 0,
               "redraw": false
              },
              "fromcurrent": true,
              "mode": "immediate",
              "transition": {
               "duration": 0,
               "easing": "linear"
              }
             }
            ],
            "label": "2023",
            "method": "animate"
           }
          ],
          "x": 0.1,
          "xanchor": "left",
          "y": 0,
          "yanchor": "top"
         }
        ],
        "template": {
         "data": {
          "bar": [
           {
            "error_x": {
             "color": "#2a3f5f"
            },
            "error_y": {
             "color": "#2a3f5f"
            },
            "marker": {
             "line": {
              "color": "#E5ECF6",
              "width": 0.5
             },
             "pattern": {
              "fillmode": "overlay",
              "size": 10,
              "solidity": 0.2
             }
            },
            "type": "bar"
           }
          ],
          "barpolar": [
           {
            "marker": {
             "line": {
              "color": "#E5ECF6",
              "width": 0.5
             },
             "pattern": {
              "fillmode": "overlay",
              "size": 10,
              "solidity": 0.2
             }
            },
            "type": "barpolar"
           }
          ],
          "carpet": [
           {
            "aaxis": {
             "endlinecolor": "#2a3f5f",
             "gridcolor": "white",
             "linecolor": "white",
             "minorgridcolor": "white",
             "startlinecolor": "#2a3f5f"
            },
            "baxis": {
             "endlinecolor": "#2a3f5f",
             "gridcolor": "white",
             "linecolor": "white",
             "minorgridcolor": "white",
             "startlinecolor": "#2a3f5f"
            },
            "type": "carpet"
           }
          ],
          "choropleth": [
           {
            "colorbar": {
             "outlinewidth": 0,
             "ticks": ""
            },
            "type": "choropleth"
           }
          ],
          "contour": [
           {
            "colorbar": {
             "outlinewidth": 0,
             "ticks": ""
            },
            "colorscale": [
             [
              0,
              "#0d0887"
             ],
             [
              0.1111111111111111,
              "#46039f"
             ],
             [
              0.2222222222222222,
              "#7201a8"
             ],
             [
              0.3333333333333333,
              "#9c179e"
             ],
             [
              0.4444444444444444,
              "#bd3786"
             ],
             [
              0.5555555555555556,
              "#d8576b"
             ],
             [
              0.6666666666666666,
              "#ed7953"
             ],
             [
              0.7777777777777778,
              "#fb9f3a"
             ],
             [
              0.8888888888888888,
              "#fdca26"
             ],
             [
              1,
              "#f0f921"
             ]
            ],
            "type": "contour"
           }
          ],
          "contourcarpet": [
           {
            "colorbar": {
             "outlinewidth": 0,
             "ticks": ""
            },
            "type": "contourcarpet"
           }
          ],
          "heatmap": [
           {
            "colorbar": {
             "outlinewidth": 0,
             "ticks": ""
            },
            "colorscale": [
             [
              0,
              "#0d0887"
             ],
             [
              0.1111111111111111,
              "#46039f"
             ],
             [
              0.2222222222222222,
              "#7201a8"
             ],
             [
              0.3333333333333333,
              "#9c179e"
             ],
             [
              0.4444444444444444,
              "#bd3786"
             ],
             [
              0.5555555555555556,
              "#d8576b"
             ],
             [
              0.6666666666666666,
              "#ed7953"
             ],
             [
              0.7777777777777778,
              "#fb9f3a"
             ],
             [
              0.8888888888888888,
              "#fdca26"
             ],
             [
              1,
              "#f0f921"
             ]
            ],
            "type": "heatmap"
           }
          ],
          "histogram": [
           {
            "marker": {
             "pattern": {
              "fillmode": "overlay",
              "size": 10,
              "solidity": 0.2
             }
            },
            "type": "histogram"
           }
          ],
          "histogram2d": [
           {
            "colorbar": {
             "outlinewidth": 0,
             "ticks": ""
            },
            "colorscale": [
             [
              0,
              "#0d0887"
             ],
             [
              0.1111111111111111,
              "#46039f"
             ],
             [
              0.2222222222222222,
              "#7201a8"
             ],
             [
              0.3333333333333333,
              "#9c179e"
             ],
             [
              0.4444444444444444,
              "#bd3786"
             ],
             [
              0.5555555555555556,
              "#d8576b"
             ],
             [
              0.6666666666666666,
              "#ed7953"
             ],
             [
              0.7777777777777778,
              "#fb9f3a"
             ],
             [
              0.8888888888888888,
              "#fdca26"
             ],
             [
              1,
              "#f0f921"
             ]
            ],
            "type": "histogram2d"
           }
          ],
          "histogram2dcontour": [
           {
            "colorbar": {
             "outlinewidth": 0,
             "ticks": ""
            },
            "colorscale": [
             [
              0,
              "#0d0887"
             ],
             [
              0.1111111111111111,
              "#46039f"
             ],
             [
              0.2222222222222222,
              "#7201a8"
             ],
             [
              0.3333333333333333,
              "#9c179e"
             ],
             [
              0.4444444444444444,
              "#bd3786"
             ],
             [
              0.5555555555555556,
              "#d8576b"
             ],
             [
              0.6666666666666666,
              "#ed7953"
             ],
             [
              0.7777777777777778,
              "#fb9f3a"
             ],
             [
              0.8888888888888888,
              "#fdca26"
             ],
             [
              1,
              "#f0f921"
             ]
            ],
            "type": "histogram2dcontour"
           }
          ],
          "mesh3d": [
           {
            "colorbar": {
             "outlinewidth": 0,
             "ticks": ""
            },
            "type": "mesh3d"
           }
          ],
          "parcoords": [
           {
            "line": {
             "colorbar": {
              "outlinewidth": 0,
              "ticks": ""
             }
            },
            "type": "parcoords"
           }
          ],
          "pie": [
           {
            "automargin": true,
            "type": "pie"
           }
          ],
          "scatter": [
           {
            "fillpattern": {
             "fillmode": "overlay",
             "size": 10,
             "solidity": 0.2
            },
            "type": "scatter"
           }
          ],
          "scatter3d": [
           {
            "line": {
             "colorbar": {
              "outlinewidth": 0,
              "ticks": ""
             }
            },
            "marker": {
             "colorbar": {
              "outlinewidth": 0,
              "ticks": ""
             }
            },
            "type": "scatter3d"
           }
          ],
          "scattercarpet": [
           {
            "marker": {
             "colorbar": {
              "outlinewidth": 0,
              "ticks": ""
             }
            },
            "type": "scattercarpet"
           }
          ],
          "scattergeo": [
           {
            "marker": {
             "colorbar": {
              "outlinewidth": 0,
              "ticks": ""
             }
            },
            "type": "scattergeo"
           }
          ],
          "scattergl": [
           {
            "marker": {
             "colorbar": {
              "outlinewidth": 0,
              "ticks": ""
             }
            },
            "type": "scattergl"
           }
          ],
          "scattermap": [
           {
            "marker": {
             "colorbar": {
              "outlinewidth": 0,
              "ticks": ""
             }
            },
            "type": "scattermap"
           }
          ],
          "scattermapbox": [
           {
            "marker": {
             "colorbar": {
              "outlinewidth": 0,
              "ticks": ""
             }
            },
            "type": "scattermapbox"
           }
          ],
          "scatterpolar": [
           {
            "marker": {
             "colorbar": {
              "outlinewidth": 0,
              "ticks": ""
             }
            },
            "type": "scatterpolar"
           }
          ],
          "scatterpolargl": [
           {
            "marker": {
             "colorbar": {
              "outlinewidth": 0,
              "ticks": ""
             }
            },
            "type": "scatterpolargl"
           }
          ],
          "scatterternary": [
           {
            "marker": {
             "colorbar": {
              "outlinewidth": 0,
              "ticks": ""
             }
            },
            "type": "scatterternary"
           }
          ],
          "surface": [
           {
            "colorbar": {
             "outlinewidth": 0,
             "ticks": ""
            },
            "colorscale": [
             [
              0,
              "#0d0887"
             ],
             [
              0.1111111111111111,
              "#46039f"
             ],
             [
              0.2222222222222222,
              "#7201a8"
             ],
             [
              0.3333333333333333,
              "#9c179e"
             ],
             [
              0.4444444444444444,
              "#bd3786"
             ],
             [
              0.5555555555555556,
              "#d8576b"
             ],
             [
              0.6666666666666666,
              "#ed7953"
             ],
             [
              0.7777777777777778,
              "#fb9f3a"
             ],
             [
              0.8888888888888888,
              "#fdca26"
             ],
             [
              1,
              "#f0f921"
             ]
            ],
            "type": "surface"
           }
          ],
          "table": [
           {
            "cells": {
             "fill": {
              "color": "#EBF0F8"
             },
             "line": {
              "color": "white"
             }
            },
            "header": {
             "fill": {
              "color": "#C8D4E3"
             },
             "line": {
              "color": "white"
             }
            },
            "type": "table"
           }
          ]
         },
         "layout": {
          "annotationdefaults": {
           "arrowcolor": "#2a3f5f",
           "arrowhead": 0,
           "arrowwidth": 1
          },
          "autotypenumbers": "strict",
          "coloraxis": {
           "colorbar": {
            "outlinewidth": 0,
            "ticks": ""
           }
          },
          "colorscale": {
           "diverging": [
            [
             0,
             "#8e0152"
            ],
            [
             0.1,
             "#c51b7d"
            ],
            [
             0.2,
             "#de77ae"
            ],
            [
             0.3,
             "#f1b6da"
            ],
            [
             0.4,
             "#fde0ef"
            ],
            [
             0.5,
             "#f7f7f7"
            ],
            [
             0.6,
             "#e6f5d0"
            ],
            [
             0.7,
             "#b8e186"
            ],
            [
             0.8,
             "#7fbc41"
            ],
            [
             0.9,
             "#4d9221"
            ],
            [
             1,
             "#276419"
            ]
           ],
           "sequential": [
            [
             0,
             "#0d0887"
            ],
            [
             0.1111111111111111,
             "#46039f"
            ],
            [
             0.2222222222222222,
             "#7201a8"
            ],
            [
             0.3333333333333333,
             "#9c179e"
            ],
            [
             0.4444444444444444,
             "#bd3786"
            ],
            [
             0.5555555555555556,
             "#d8576b"
            ],
            [
             0.6666666666666666,
             "#ed7953"
            ],
            [
             0.7777777777777778,
             "#fb9f3a"
            ],
            [
             0.8888888888888888,
             "#fdca26"
            ],
            [
             1,
             "#f0f921"
            ]
           ],
           "sequentialminus": [
            [
             0,
             "#0d0887"
            ],
            [
             0.1111111111111111,
             "#46039f"
            ],
            [
             0.2222222222222222,
             "#7201a8"
            ],
            [
             0.3333333333333333,
             "#9c179e"
            ],
            [
             0.4444444444444444,
             "#bd3786"
            ],
            [
             0.5555555555555556,
             "#d8576b"
            ],
            [
             0.6666666666666666,
             "#ed7953"
            ],
            [
             0.7777777777777778,
             "#fb9f3a"
            ],
            [
             0.8888888888888888,
             "#fdca26"
            ],
            [
             1,
             "#f0f921"
            ]
           ]
          },
          "colorway": [
           "#636efa",
           "#EF553B",
           "#00cc96",
           "#ab63fa",
           "#FFA15A",
           "#19d3f3",
           "#FF6692",
           "#B6E880",
           "#FF97FF",
           "#FECB52"
          ],
          "font": {
           "color": "#2a3f5f"
          },
          "geo": {
           "bgcolor": "white",
           "lakecolor": "white",
           "landcolor": "#E5ECF6",
           "showlakes": true,
           "showland": true,
           "subunitcolor": "white"
          },
          "hoverlabel": {
           "align": "left"
          },
          "hovermode": "closest",
          "mapbox": {
           "style": "light"
          },
          "paper_bgcolor": "white",
          "plot_bgcolor": "#E5ECF6",
          "polar": {
           "angularaxis": {
            "gridcolor": "white",
            "linecolor": "white",
            "ticks": ""
           },
           "bgcolor": "#E5ECF6",
           "radialaxis": {
            "gridcolor": "white",
            "linecolor": "white",
            "ticks": ""
           }
          },
          "scene": {
           "xaxis": {
            "backgroundcolor": "#E5ECF6",
            "gridcolor": "white",
            "gridwidth": 2,
            "linecolor": "white",
            "showbackground": true,
            "ticks": "",
            "zerolinecolor": "white"
           },
           "yaxis": {
            "backgroundcolor": "#E5ECF6",
            "gridcolor": "white",
            "gridwidth": 2,
            "linecolor": "white",
            "showbackground": true,
            "ticks": "",
            "zerolinecolor": "white"
           },
           "zaxis": {
            "backgroundcolor": "#E5ECF6",
            "gridcolor": "white",
            "gridwidth": 2,
            "linecolor": "white",
            "showbackground": true,
            "ticks": "",
            "zerolinecolor": "white"
           }
          },
          "shapedefaults": {
           "line": {
            "color": "#2a3f5f"
           }
          },
          "ternary": {
           "aaxis": {
            "gridcolor": "white",
            "linecolor": "white",
            "ticks": ""
           },
           "baxis": {
            "gridcolor": "white",
            "linecolor": "white",
            "ticks": ""
           },
           "bgcolor": "#E5ECF6",
           "caxis": {
            "gridcolor": "white",
            "linecolor": "white",
            "ticks": ""
           }
          },
          "title": {
           "x": 0.05
          },
          "xaxis": {
           "automargin": true,
           "gridcolor": "white",
           "linecolor": "white",
           "ticks": "",
           "title": {
            "standoff": 15
           },
           "zerolinecolor": "white",
           "zerolinewidth": 2
          },
          "yaxis": {
           "automargin": true,
           "gridcolor": "white",
           "linecolor": "white",
           "ticks": "",
           "title": {
            "standoff": 15
           },
           "zerolinecolor": "white",
           "zerolinewidth": 2
          }
         }
        },
        "title": {
         "text": "Animated Economic Output by Group"
        },
        "updatemenus": [
         {
          "buttons": [
           {
            "args": [
             null,
             {
              "frame": {
               "duration": 500,
               "redraw": false
              },
              "fromcurrent": true,
              "mode": "immediate",
              "transition": {
               "duration": 500,
               "easing": "linear"
              }
             }
            ],
            "label": "&#9654;",
            "method": "animate"
           },
           {
            "args": [
             [
              null
             ],
             {
              "frame": {
               "duration": 0,
               "redraw": false
              },
              "fromcurrent": true,
              "mode": "immediate",
              "transition": {
               "duration": 0,
               "easing": "linear"
              }
             }
            ],
            "label": "&#9724;",
            "method": "animate"
           }
          ],
          "direction": "left",
          "pad": {
           "r": 10,
           "t": 70
          },
          "showactive": false,
          "type": "buttons",
          "x": 0.1,
          "xanchor": "right",
          "y": 0,
          "yanchor": "top"
         }
        ],
        "xaxis": {
         "anchor": "y",
         "domain": [
          0,
          1
         ],
         "title": {
          "text": "x"
         },
         "visible": false
        },
        "yaxis": {
         "anchor": "x",
         "domain": [
          0,
          1
         ],
         "title": {
          "text": "y"
         },
         "visible": false
        }
       }
      }
     },
     "metadata": {},
     "output_type": "display_data"
    }
   ],
   "source": [
    "import plotly.express as px\n",
    "\n",
    "fig = px.scatter(\n",
    "    df_bubbles,\n",
    "    x=\"x\",\n",
    "    y=\"y\",\n",
    "    size=\"Value\",\n",
    "    color=\"Group\",\n",
    "    animation_frame=\"Year\",\n",
    "    hover_name=\"Group\",\n",
    "    size_max=100,\n",
    "    title=\"Animated Economic Output by Group\"\n",
    ")\n",
    "\n",
    "fig.update_layout(\n",
    "    xaxis=dict(visible=False),\n",
    "    yaxis=dict(visible=False),\n",
    "    margin=dict(t=40, l=0, r=0, b=0),\n",
    "    height=650\n",
    ")\n",
    "\n",
    "fig.show()\n"
   ]
  },
  {
   "cell_type": "code",
   "execution_count": 79,
   "metadata": {},
   "outputs": [
    {
     "data": {
      "application/vnd.plotly.v1+json": {
       "config": {
        "plotlyServerURL": "https://plot.ly"
       },
       "data": [
        {
         "hovertemplate": "Group=%{y}<br>Year=1997<br>Value=%{x}<extra></extra>",
         "legendgroup": "Health, Education & Leisure",
         "marker": {
          "color": "#636efa",
          "pattern": {
           "shape": ""
          }
         },
         "name": "Health, Education & Leisure",
         "orientation": "h",
         "showlegend": true,
         "textposition": "auto",
         "type": "bar",
         "x": {
          "bdata": "N/UbAA==",
          "dtype": "i4"
         },
         "xaxis": "x",
         "y": [
          "Health, Education & Leisure"
         ],
         "yaxis": "y"
        },
        {
         "hovertemplate": "Group=%{y}<br>Year=1997<br>Value=%{x}<extra></extra>",
         "legendgroup": "Information & Finance",
         "marker": {
          "color": "#EF553B",
          "pattern": {
           "shape": ""
          }
         },
         "name": "Information & Finance",
         "orientation": "h",
         "showlegend": true,
         "textposition": "auto",
         "type": "bar",
         "x": {
          "bdata": "APMvAA==",
          "dtype": "i4"
         },
         "xaxis": "x",
         "y": [
          "Information & Finance"
         ],
         "yaxis": "y"
        },
        {
         "hovertemplate": "Group=%{y}<br>Year=1997<br>Value=%{x}<extra></extra>",
         "legendgroup": "Manufacturing",
         "marker": {
          "color": "#00cc96",
          "pattern": {
           "shape": ""
          }
         },
         "name": "Manufacturing",
         "orientation": "h",
         "showlegend": true,
         "textposition": "auto",
         "type": "bar",
         "x": {
          "bdata": "r3k7AA==",
          "dtype": "i4"
         },
         "xaxis": "x",
         "y": [
          "Manufacturing"
         ],
         "yaxis": "y"
        },
        {
         "hovertemplate": "Group=%{y}<br>Year=1997<br>Value=%{x}<extra></extra>",
         "legendgroup": "Primary Industries",
         "marker": {
          "color": "#ab63fa",
          "pattern": {
           "shape": ""
          }
         },
         "name": "Primary Industries",
         "orientation": "h",
         "showlegend": true,
         "textposition": "auto",
         "type": "bar",
         "x": {
          "bdata": "paMGAA==",
          "dtype": "i4"
         },
         "xaxis": "x",
         "y": [
          "Primary Industries"
         ],
         "yaxis": "y"
        },
        {
         "hovertemplate": "Group=%{y}<br>Year=1997<br>Value=%{x}<extra></extra>",
         "legendgroup": "Professional & Public Services",
         "marker": {
          "color": "#FFA15A",
          "pattern": {
           "shape": ""
          }
         },
         "name": "Professional & Public Services",
         "orientation": "h",
         "showlegend": true,
         "textposition": "auto",
         "type": "bar",
         "x": {
          "bdata": "uww1AA==",
          "dtype": "i4"
         },
         "xaxis": "x",
         "y": [
          "Professional & Public Services"
         ],
         "yaxis": "y"
        },
        {
         "hovertemplate": "Group=%{y}<br>Year=1997<br>Value=%{x}<extra></extra>",
         "legendgroup": "Trade & Transportation",
         "marker": {
          "color": "#19d3f3",
          "pattern": {
           "shape": ""
          }
         },
         "name": "Trade & Transportation",
         "orientation": "h",
         "showlegend": true,
         "textposition": "auto",
         "type": "bar",
         "x": {
          "bdata": "ZxggAA==",
          "dtype": "i4"
         },
         "xaxis": "x",
         "y": [
          "Trade & Transportation"
         ],
         "yaxis": "y"
        },
        {
         "hovertemplate": "Group=%{y}<br>Year=1997<br>Value=%{x}<extra></extra>",
         "legendgroup": "Utilities & Construction",
         "marker": {
          "color": "#FF6692",
          "pattern": {
           "shape": ""
          }
         },
         "name": "Utilities & Construction",
         "orientation": "h",
         "showlegend": true,
         "textposition": "auto",
         "type": "bar",
         "x": {
          "bdata": "ktEOAA==",
          "dtype": "i4"
         },
         "xaxis": "x",
         "y": [
          "Utilities & Construction"
         ],
         "yaxis": "y"
        }
       ],
       "frames": [
        {
         "data": [
          {
           "hovertemplate": "Group=%{y}<br>Year=1997<br>Value=%{x}<extra></extra>",
           "legendgroup": "Health, Education & Leisure",
           "marker": {
            "color": "#636efa",
            "pattern": {
             "shape": ""
            }
           },
           "name": "Health, Education & Leisure",
           "orientation": "h",
           "showlegend": true,
           "textposition": "auto",
           "type": "bar",
           "x": {
            "bdata": "N/UbAA==",
            "dtype": "i4"
           },
           "xaxis": "x",
           "y": [
            "Health, Education & Leisure"
           ],
           "yaxis": "y"
          },
          {
           "hovertemplate": "Group=%{y}<br>Year=1997<br>Value=%{x}<extra></extra>",
           "legendgroup": "Information & Finance",
           "marker": {
            "color": "#EF553B",
            "pattern": {
             "shape": ""
            }
           },
           "name": "Information & Finance",
           "orientation": "h",
           "showlegend": true,
           "textposition": "auto",
           "type": "bar",
           "x": {
            "bdata": "APMvAA==",
            "dtype": "i4"
           },
           "xaxis": "x",
           "y": [
            "Information & Finance"
           ],
           "yaxis": "y"
          },
          {
           "hovertemplate": "Group=%{y}<br>Year=1997<br>Value=%{x}<extra></extra>",
           "legendgroup": "Manufacturing",
           "marker": {
            "color": "#00cc96",
            "pattern": {
             "shape": ""
            }
           },
           "name": "Manufacturing",
           "orientation": "h",
           "showlegend": true,
           "textposition": "auto",
           "type": "bar",
           "x": {
            "bdata": "r3k7AA==",
            "dtype": "i4"
           },
           "xaxis": "x",
           "y": [
            "Manufacturing"
           ],
           "yaxis": "y"
          },
          {
           "hovertemplate": "Group=%{y}<br>Year=1997<br>Value=%{x}<extra></extra>",
           "legendgroup": "Primary Industries",
           "marker": {
            "color": "#ab63fa",
            "pattern": {
             "shape": ""
            }
           },
           "name": "Primary Industries",
           "orientation": "h",
           "showlegend": true,
           "textposition": "auto",
           "type": "bar",
           "x": {
            "bdata": "paMGAA==",
            "dtype": "i4"
           },
           "xaxis": "x",
           "y": [
            "Primary Industries"
           ],
           "yaxis": "y"
          },
          {
           "hovertemplate": "Group=%{y}<br>Year=1997<br>Value=%{x}<extra></extra>",
           "legendgroup": "Professional & Public Services",
           "marker": {
            "color": "#FFA15A",
            "pattern": {
             "shape": ""
            }
           },
           "name": "Professional & Public Services",
           "orientation": "h",
           "showlegend": true,
           "textposition": "auto",
           "type": "bar",
           "x": {
            "bdata": "uww1AA==",
            "dtype": "i4"
           },
           "xaxis": "x",
           "y": [
            "Professional & Public Services"
           ],
           "yaxis": "y"
          },
          {
           "hovertemplate": "Group=%{y}<br>Year=1997<br>Value=%{x}<extra></extra>",
           "legendgroup": "Trade & Transportation",
           "marker": {
            "color": "#19d3f3",
            "pattern": {
             "shape": ""
            }
           },
           "name": "Trade & Transportation",
           "orientation": "h",
           "showlegend": true,
           "textposition": "auto",
           "type": "bar",
           "x": {
            "bdata": "ZxggAA==",
            "dtype": "i4"
           },
           "xaxis": "x",
           "y": [
            "Trade & Transportation"
           ],
           "yaxis": "y"
          },
          {
           "hovertemplate": "Group=%{y}<br>Year=1997<br>Value=%{x}<extra></extra>",
           "legendgroup": "Utilities & Construction",
           "marker": {
            "color": "#FF6692",
            "pattern": {
             "shape": ""
            }
           },
           "name": "Utilities & Construction",
           "orientation": "h",
           "showlegend": true,
           "textposition": "auto",
           "type": "bar",
           "x": {
            "bdata": "ktEOAA==",
            "dtype": "i4"
           },
           "xaxis": "x",
           "y": [
            "Utilities & Construction"
           ],
           "yaxis": "y"
          }
         ],
         "name": "1997"
        },
        {
         "data": [
          {
           "hovertemplate": "Group=%{y}<br>Year=1998<br>Value=%{x}<extra></extra>",
           "legendgroup": "Health, Education & Leisure",
           "marker": {
            "color": "#636efa",
            "pattern": {
             "shape": ""
            }
           },
           "name": "Health, Education & Leisure",
           "orientation": "h",
           "showlegend": true,
           "textposition": "auto",
           "type": "bar",
           "x": {
            "bdata": "EtEdAA==",
            "dtype": "i4"
           },
           "xaxis": "x",
           "y": [
            "Health, Education & Leisure"
           ],
           "yaxis": "y"
          },
          {
           "hovertemplate": "Group=%{y}<br>Year=1998<br>Value=%{x}<extra></extra>",
           "legendgroup": "Information & Finance",
           "marker": {
            "color": "#EF553B",
            "pattern": {
             "shape": ""
            }
           },
           "name": "Information & Finance",
           "orientation": "h",
           "showlegend": true,
           "textposition": "auto",
           "type": "bar",
           "x": {
            "bdata": "yis0AA==",
            "dtype": "i4"
           },
           "xaxis": "x",
           "y": [
            "Information & Finance"
           ],
           "yaxis": "y"
          },
          {
           "hovertemplate": "Group=%{y}<br>Year=1998<br>Value=%{x}<extra></extra>",
           "legendgroup": "Manufacturing",
           "marker": {
            "color": "#00cc96",
            "pattern": {
             "shape": ""
            }
           },
           "name": "Manufacturing",
           "orientation": "h",
           "showlegend": true,
           "textposition": "auto",
           "type": "bar",
           "x": {
            "bdata": "pnk8AA==",
            "dtype": "i4"
           },
           "xaxis": "x",
           "y": [
            "Manufacturing"
           ],
           "yaxis": "y"
          },
          {
           "hovertemplate": "Group=%{y}<br>Year=1998<br>Value=%{x}<extra></extra>",
           "legendgroup": "Primary Industries",
           "marker": {
            "color": "#ab63fa",
            "pattern": {
             "shape": ""
            }
           },
           "name": "Primary Industries",
           "orientation": "h",
           "showlegend": true,
           "textposition": "auto",
           "type": "bar",
           "x": {
            "bdata": "1CAGAA==",
            "dtype": "i4"
           },
           "xaxis": "x",
           "y": [
            "Primary Industries"
           ],
           "yaxis": "y"
          },
          {
           "hovertemplate": "Group=%{y}<br>Year=1998<br>Value=%{x}<extra></extra>",
           "legendgroup": "Professional & Public Services",
           "marker": {
            "color": "#FFA15A",
            "pattern": {
             "shape": ""
            }
           },
           "name": "Professional & Public Services",
           "orientation": "h",
           "showlegend": true,
           "textposition": "auto",
           "type": "bar",
           "x": {
            "bdata": "HIk4AA==",
            "dtype": "i4"
           },
           "xaxis": "x",
           "y": [
            "Professional & Public Services"
           ],
           "yaxis": "y"
          },
          {
           "hovertemplate": "Group=%{y}<br>Year=1998<br>Value=%{x}<extra></extra>",
           "legendgroup": "Trade & Transportation",
           "marker": {
            "color": "#19d3f3",
            "pattern": {
             "shape": ""
            }
           },
           "name": "Trade & Transportation",
           "orientation": "h",
           "showlegend": true,
           "textposition": "auto",
           "type": "bar",
           "x": {
            "bdata": "BG4hAA==",
            "dtype": "i4"
           },
           "xaxis": "x",
           "y": [
            "Trade & Transportation"
           ],
           "yaxis": "y"
          },
          {
           "hovertemplate": "Group=%{y}<br>Year=1998<br>Value=%{x}<extra></extra>",
           "legendgroup": "Utilities & Construction",
           "marker": {
            "color": "#FF6692",
            "pattern": {
             "shape": ""
            }
           },
           "name": "Utilities & Construction",
           "orientation": "h",
           "showlegend": true,
           "textposition": "auto",
           "type": "bar",
           "x": {
            "bdata": "xPsPAA==",
            "dtype": "i4"
           },
           "xaxis": "x",
           "y": [
            "Utilities & Construction"
           ],
           "yaxis": "y"
          }
         ],
         "name": "1998"
        },
        {
         "data": [
          {
           "hovertemplate": "Group=%{y}<br>Year=1999<br>Value=%{x}<extra></extra>",
           "legendgroup": "Health, Education & Leisure",
           "marker": {
            "color": "#636efa",
            "pattern": {
             "shape": ""
            }
           },
           "name": "Health, Education & Leisure",
           "orientation": "h",
           "showlegend": true,
           "textposition": "auto",
           "type": "bar",
           "x": {
            "bdata": "lWsfAA==",
            "dtype": "i4"
           },
           "xaxis": "x",
           "y": [
            "Health, Education & Leisure"
           ],
           "yaxis": "y"
          },
          {
           "hovertemplate": "Group=%{y}<br>Year=1999<br>Value=%{x}<extra></extra>",
           "legendgroup": "Information & Finance",
           "marker": {
            "color": "#EF553B",
            "pattern": {
             "shape": ""
            }
           },
           "name": "Information & Finance",
           "orientation": "h",
           "showlegend": true,
           "textposition": "auto",
           "type": "bar",
           "x": {
            "bdata": "2C05AA==",
            "dtype": "i4"
           },
           "xaxis": "x",
           "y": [
            "Information & Finance"
           ],
           "yaxis": "y"
          },
          {
           "hovertemplate": "Group=%{y}<br>Year=1999<br>Value=%{x}<extra></extra>",
           "legendgroup": "Manufacturing",
           "marker": {
            "color": "#00cc96",
            "pattern": {
             "shape": ""
            }
           },
           "name": "Manufacturing",
           "orientation": "h",
           "showlegend": true,
           "textposition": "auto",
           "type": "bar",
           "x": {
            "bdata": "F0o+AA==",
            "dtype": "i4"
           },
           "xaxis": "x",
           "y": [
            "Manufacturing"
           ],
           "yaxis": "y"
          },
          {
           "hovertemplate": "Group=%{y}<br>Year=1999<br>Value=%{x}<extra></extra>",
           "legendgroup": "Primary Industries",
           "marker": {
            "color": "#ab63fa",
            "pattern": {
             "shape": ""
            }
           },
           "name": "Primary Industries",
           "orientation": "h",
           "showlegend": true,
           "textposition": "auto",
           "type": "bar",
           "x": {
            "bdata": "DSAGAA==",
            "dtype": "i4"
           },
           "xaxis": "x",
           "y": [
            "Primary Industries"
           ],
           "yaxis": "y"
          },
          {
           "hovertemplate": "Group=%{y}<br>Year=1999<br>Value=%{x}<extra></extra>",
           "legendgroup": "Professional & Public Services",
           "marker": {
            "color": "#FFA15A",
            "pattern": {
             "shape": ""
            }
           },
           "name": "Professional & Public Services",
           "orientation": "h",
           "showlegend": true,
           "textposition": "auto",
           "type": "bar",
           "x": {
            "bdata": "6JM8AA==",
            "dtype": "i4"
           },
           "xaxis": "x",
           "y": [
            "Professional & Public Services"
           ],
           "yaxis": "y"
          },
          {
           "hovertemplate": "Group=%{y}<br>Year=1999<br>Value=%{x}<extra></extra>",
           "legendgroup": "Trade & Transportation",
           "marker": {
            "color": "#19d3f3",
            "pattern": {
             "shape": ""
            }
           },
           "name": "Trade & Transportation",
           "orientation": "h",
           "showlegend": true,
           "textposition": "auto",
           "type": "bar",
           "x": {
            "bdata": "2q0jAA==",
            "dtype": "i4"
           },
           "xaxis": "x",
           "y": [
            "Trade & Transportation"
           ],
           "yaxis": "y"
          },
          {
           "hovertemplate": "Group=%{y}<br>Year=1999<br>Value=%{x}<extra></extra>",
           "legendgroup": "Utilities & Construction",
           "marker": {
            "color": "#FF6692",
            "pattern": {
             "shape": ""
            }
           },
           "name": "Utilities & Construction",
           "orientation": "h",
           "showlegend": true,
           "textposition": "auto",
           "type": "bar",
           "x": {
            "bdata": "UaURAA==",
            "dtype": "i4"
           },
           "xaxis": "x",
           "y": [
            "Utilities & Construction"
           ],
           "yaxis": "y"
          }
         ],
         "name": "1999"
        },
        {
         "data": [
          {
           "hovertemplate": "Group=%{y}<br>Year=2000<br>Value=%{x}<extra></extra>",
           "legendgroup": "Health, Education & Leisure",
           "marker": {
            "color": "#636efa",
            "pattern": {
             "shape": ""
            }
           },
           "name": "Health, Education & Leisure",
           "orientation": "h",
           "showlegend": true,
           "textposition": "auto",
           "type": "bar",
           "x": {
            "bdata": "+6ghAA==",
            "dtype": "i4"
           },
           "xaxis": "x",
           "y": [
            "Health, Education & Leisure"
           ],
           "yaxis": "y"
          },
          {
           "hovertemplate": "Group=%{y}<br>Year=2000<br>Value=%{x}<extra></extra>",
           "legendgroup": "Information & Finance",
           "marker": {
            "color": "#EF553B",
            "pattern": {
             "shape": ""
            }
           },
           "name": "Information & Finance",
           "orientation": "h",
           "showlegend": true,
           "textposition": "auto",
           "type": "bar",
           "x": {
            "bdata": "6iQ/AA==",
            "dtype": "i4"
           },
           "xaxis": "x",
           "y": [
            "Information & Finance"
           ],
           "yaxis": "y"
          },
          {
           "hovertemplate": "Group=%{y}<br>Year=2000<br>Value=%{x}<extra></extra>",
           "legendgroup": "Manufacturing",
           "marker": {
            "color": "#00cc96",
            "pattern": {
             "shape": ""
            }
           },
           "name": "Manufacturing",
           "orientation": "h",
           "showlegend": true,
           "textposition": "auto",
           "type": "bar",
           "x": {
            "bdata": "j3hBAA==",
            "dtype": "i4"
           },
           "xaxis": "x",
           "y": [
            "Manufacturing"
           ],
           "yaxis": "y"
          },
          {
           "hovertemplate": "Group=%{y}<br>Year=2000<br>Value=%{x}<extra></extra>",
           "legendgroup": "Primary Industries",
           "marker": {
            "color": "#ab63fa",
            "pattern": {
             "shape": ""
            }
           },
           "name": "Primary Industries",
           "orientation": "h",
           "showlegend": true,
           "textposition": "auto",
           "type": "bar",
           "x": {
            "bdata": "Nw0HAA==",
            "dtype": "i4"
           },
           "xaxis": "x",
           "y": [
            "Primary Industries"
           ],
           "yaxis": "y"
          },
          {
           "hovertemplate": "Group=%{y}<br>Year=2000<br>Value=%{x}<extra></extra>",
           "legendgroup": "Professional & Public Services",
           "marker": {
            "color": "#FFA15A",
            "pattern": {
             "shape": ""
            }
           },
           "name": "Professional & Public Services",
           "orientation": "h",
           "showlegend": true,
           "textposition": "auto",
           "type": "bar",
           "x": {
            "bdata": "9xNBAA==",
            "dtype": "i4"
           },
           "xaxis": "x",
           "y": [
            "Professional & Public Services"
           ],
           "yaxis": "y"
          },
          {
           "hovertemplate": "Group=%{y}<br>Year=2000<br>Value=%{x}<extra></extra>",
           "legendgroup": "Trade & Transportation",
           "marker": {
            "color": "#19d3f3",
            "pattern": {
             "shape": ""
            }
           },
           "name": "Trade & Transportation",
           "orientation": "h",
           "showlegend": true,
           "textposition": "auto",
           "type": "bar",
           "x": {
            "bdata": "sdklAA==",
            "dtype": "i4"
           },
           "xaxis": "x",
           "y": [
            "Trade & Transportation"
           ],
           "yaxis": "y"
          },
          {
           "hovertemplate": "Group=%{y}<br>Year=2000<br>Value=%{x}<extra></extra>",
           "legendgroup": "Utilities & Construction",
           "marker": {
            "color": "#FF6692",
            "pattern": {
             "shape": ""
            }
           },
           "name": "Utilities & Construction",
           "orientation": "h",
           "showlegend": true,
           "textposition": "auto",
           "type": "bar",
           "x": {
            "bdata": "saMTAA==",
            "dtype": "i4"
           },
           "xaxis": "x",
           "y": [
            "Utilities & Construction"
           ],
           "yaxis": "y"
          }
         ],
         "name": "2000"
        },
        {
         "data": [
          {
           "hovertemplate": "Group=%{y}<br>Year=2001<br>Value=%{x}<extra></extra>",
           "legendgroup": "Health, Education & Leisure",
           "marker": {
            "color": "#636efa",
            "pattern": {
             "shape": ""
            }
           },
           "name": "Health, Education & Leisure",
           "orientation": "h",
           "showlegend": true,
           "textposition": "auto",
           "type": "bar",
           "x": {
            "bdata": "I7YjAA==",
            "dtype": "i4"
           },
           "xaxis": "x",
           "y": [
            "Health, Education & Leisure"
           ],
           "yaxis": "y"
          },
          {
           "hovertemplate": "Group=%{y}<br>Year=2001<br>Value=%{x}<extra></extra>",
           "legendgroup": "Information & Finance",
           "marker": {
            "color": "#EF553B",
            "pattern": {
             "shape": ""
            }
           },
           "name": "Information & Finance",
           "orientation": "h",
           "showlegend": true,
           "textposition": "auto",
           "type": "bar",
           "x": {
            "bdata": "YOZAAA==",
            "dtype": "i4"
           },
           "xaxis": "x",
           "y": [
            "Information & Finance"
           ],
           "yaxis": "y"
          },
          {
           "hovertemplate": "Group=%{y}<br>Year=2001<br>Value=%{x}<extra></extra>",
           "legendgroup": "Manufacturing",
           "marker": {
            "color": "#00cc96",
            "pattern": {
             "shape": ""
            }
           },
           "name": "Manufacturing",
           "orientation": "h",
           "showlegend": true,
           "textposition": "auto",
           "type": "bar",
           "x": {
            "bdata": "Q8o9AA==",
            "dtype": "i4"
           },
           "xaxis": "x",
           "y": [
            "Manufacturing"
           ],
           "yaxis": "y"
          },
          {
           "hovertemplate": "Group=%{y}<br>Year=2001<br>Value=%{x}<extra></extra>",
           "legendgroup": "Primary Industries",
           "marker": {
            "color": "#ab63fa",
            "pattern": {
             "shape": ""
            }
           },
           "name": "Primary Industries",
           "orientation": "h",
           "showlegend": true,
           "textposition": "auto",
           "type": "bar",
           "x": {
            "bdata": "9koHAA==",
            "dtype": "i4"
           },
           "xaxis": "x",
           "y": [
            "Primary Industries"
           ],
           "yaxis": "y"
          },
          {
           "hovertemplate": "Group=%{y}<br>Year=2001<br>Value=%{x}<extra></extra>",
           "legendgroup": "Professional & Public Services",
           "marker": {
            "color": "#FFA15A",
            "pattern": {
             "shape": ""
            }
           },
           "name": "Professional & Public Services",
           "orientation": "h",
           "showlegend": true,
           "textposition": "auto",
           "type": "bar",
           "x": {
            "bdata": "YO1DAA==",
            "dtype": "i4"
           },
           "xaxis": "x",
           "y": [
            "Professional & Public Services"
           ],
           "yaxis": "y"
          },
          {
           "hovertemplate": "Group=%{y}<br>Year=2001<br>Value=%{x}<extra></extra>",
           "legendgroup": "Trade & Transportation",
           "marker": {
            "color": "#19d3f3",
            "pattern": {
             "shape": ""
            }
           },
           "name": "Trade & Transportation",
           "orientation": "h",
           "showlegend": true,
           "textposition": "auto",
           "type": "bar",
           "x": {
            "bdata": "XkwlAA==",
            "dtype": "i4"
           },
           "xaxis": "x",
           "y": [
            "Trade & Transportation"
           ],
           "yaxis": "y"
          },
          {
           "hovertemplate": "Group=%{y}<br>Year=2001<br>Value=%{x}<extra></extra>",
           "legendgroup": "Utilities & Construction",
           "marker": {
            "color": "#FF6692",
            "pattern": {
             "shape": ""
            }
           },
           "name": "Utilities & Construction",
           "orientation": "h",
           "showlegend": true,
           "textposition": "auto",
           "type": "bar",
           "x": {
            "bdata": "sWkVAA==",
            "dtype": "i4"
           },
           "xaxis": "x",
           "y": [
            "Utilities & Construction"
           ],
           "yaxis": "y"
          }
         ],
         "name": "2001"
        },
        {
         "data": [
          {
           "hovertemplate": "Group=%{y}<br>Year=2002<br>Value=%{x}<extra></extra>",
           "legendgroup": "Health, Education & Leisure",
           "marker": {
            "color": "#636efa",
            "pattern": {
             "shape": ""
            }
           },
           "name": "Health, Education & Leisure",
           "orientation": "h",
           "showlegend": true,
           "textposition": "auto",
           "type": "bar",
           "x": {
            "bdata": "Ju0lAA==",
            "dtype": "i4"
           },
           "xaxis": "x",
           "y": [
            "Health, Education & Leisure"
           ],
           "yaxis": "y"
          },
          {
           "hovertemplate": "Group=%{y}<br>Year=2002<br>Value=%{x}<extra></extra>",
           "legendgroup": "Information & Finance",
           "marker": {
            "color": "#EF553B",
            "pattern": {
             "shape": ""
            }
           },
           "name": "Information & Finance",
           "orientation": "h",
           "showlegend": true,
           "textposition": "auto",
           "type": "bar",
           "x": {
            "bdata": "AN9CAA==",
            "dtype": "i4"
           },
           "xaxis": "x",
           "y": [
            "Information & Finance"
           ],
           "yaxis": "y"
          },
          {
           "hovertemplate": "Group=%{y}<br>Year=2002<br>Value=%{x}<extra></extra>",
           "legendgroup": "Manufacturing",
           "marker": {
            "color": "#00cc96",
            "pattern": {
             "shape": ""
            }
           },
           "name": "Manufacturing",
           "orientation": "h",
           "showlegend": true,
           "textposition": "auto",
           "type": "bar",
           "x": {
            "bdata": "QZw8AA==",
            "dtype": "i4"
           },
           "xaxis": "x",
           "y": [
            "Manufacturing"
           ],
           "yaxis": "y"
          },
          {
           "hovertemplate": "Group=%{y}<br>Year=2002<br>Value=%{x}<extra></extra>",
           "legendgroup": "Primary Industries",
           "marker": {
            "color": "#ab63fa",
            "pattern": {
             "shape": ""
            }
           },
           "name": "Primary Industries",
           "orientation": "h",
           "showlegend": true,
           "textposition": "auto",
           "type": "bar",
           "x": {
            "bdata": "Ya4GAA==",
            "dtype": "i4"
           },
           "xaxis": "x",
           "y": [
            "Primary Industries"
           ],
           "yaxis": "y"
          },
          {
           "hovertemplate": "Group=%{y}<br>Year=2002<br>Value=%{x}<extra></extra>",
           "legendgroup": "Professional & Public Services",
           "marker": {
            "color": "#FFA15A",
            "pattern": {
             "shape": ""
            }
           },
           "name": "Professional & Public Services",
           "orientation": "h",
           "showlegend": true,
           "textposition": "auto",
           "type": "bar",
           "x": {
            "bdata": "Qh1HAA==",
            "dtype": "i4"
           },
           "xaxis": "x",
           "y": [
            "Professional & Public Services"
           ],
           "yaxis": "y"
          },
          {
           "hovertemplate": "Group=%{y}<br>Year=2002<br>Value=%{x}<extra></extra>",
           "legendgroup": "Trade & Transportation",
           "marker": {
            "color": "#19d3f3",
            "pattern": {
             "shape": ""
            }
           },
           "name": "Trade & Transportation",
           "orientation": "h",
           "showlegend": true,
           "textposition": "auto",
           "type": "bar",
           "x": {
            "bdata": "pqQmAA==",
            "dtype": "i4"
           },
           "xaxis": "x",
           "y": [
            "Trade & Transportation"
           ],
           "yaxis": "y"
          },
          {
           "hovertemplate": "Group=%{y}<br>Year=2002<br>Value=%{x}<extra></extra>",
           "legendgroup": "Utilities & Construction",
           "marker": {
            "color": "#FF6692",
            "pattern": {
             "shape": ""
            }
           },
           "name": "Utilities & Construction",
           "orientation": "h",
           "showlegend": true,
           "textposition": "auto",
           "type": "bar",
           "x": {
            "bdata": "y8ITAA==",
            "dtype": "i4"
           },
           "xaxis": "x",
           "y": [
            "Utilities & Construction"
           ],
           "yaxis": "y"
          }
         ],
         "name": "2002"
        },
        {
         "data": [
          {
           "hovertemplate": "Group=%{y}<br>Year=2003<br>Value=%{x}<extra></extra>",
           "legendgroup": "Health, Education & Leisure",
           "marker": {
            "color": "#636efa",
            "pattern": {
             "shape": ""
            }
           },
           "name": "Health, Education & Leisure",
           "orientation": "h",
           "showlegend": true,
           "textposition": "auto",
           "type": "bar",
           "x": {
            "bdata": "twQoAA==",
            "dtype": "i4"
           },
           "xaxis": "x",
           "y": [
            "Health, Education & Leisure"
           ],
           "yaxis": "y"
          },
          {
           "hovertemplate": "Group=%{y}<br>Year=2003<br>Value=%{x}<extra></extra>",
           "legendgroup": "Information & Finance",
           "marker": {
            "color": "#EF553B",
            "pattern": {
             "shape": ""
            }
           },
           "name": "Information & Finance",
           "orientation": "h",
           "showlegend": true,
           "textposition": "auto",
           "type": "bar",
           "x": {
            "bdata": "XFdGAA==",
            "dtype": "i4"
           },
           "xaxis": "x",
           "y": [
            "Information & Finance"
           ],
           "yaxis": "y"
          },
          {
           "hovertemplate": "Group=%{y}<br>Year=2003<br>Value=%{x}<extra></extra>",
           "legendgroup": "Manufacturing",
           "marker": {
            "color": "#00cc96",
            "pattern": {
             "shape": ""
            }
           },
           "name": "Manufacturing",
           "orientation": "h",
           "showlegend": true,
           "textposition": "auto",
           "type": "bar",
           "x": {
            "bdata": "9M89AA==",
            "dtype": "i4"
           },
           "xaxis": "x",
           "y": [
            "Manufacturing"
           ],
           "yaxis": "y"
          },
          {
           "hovertemplate": "Group=%{y}<br>Year=2003<br>Value=%{x}<extra></extra>",
           "legendgroup": "Primary Industries",
           "marker": {
            "color": "#ab63fa",
            "pattern": {
             "shape": ""
            }
           },
           "name": "Primary Industries",
           "orientation": "h",
           "showlegend": true,
           "textposition": "auto",
           "type": "bar",
           "x": {
            "bdata": "0vcHAA==",
            "dtype": "i4"
           },
           "xaxis": "x",
           "y": [
            "Primary Industries"
           ],
           "yaxis": "y"
          },
          {
           "hovertemplate": "Group=%{y}<br>Year=2003<br>Value=%{x}<extra></extra>",
           "legendgroup": "Professional & Public Services",
           "marker": {
            "color": "#FFA15A",
            "pattern": {
             "shape": ""
            }
           },
           "name": "Professional & Public Services",
           "orientation": "h",
           "showlegend": true,
           "textposition": "auto",
           "type": "bar",
           "x": {
            "bdata": "yJBLAA==",
            "dtype": "i4"
           },
           "xaxis": "x",
           "y": [
            "Professional & Public Services"
           ],
           "yaxis": "y"
          },
          {
           "hovertemplate": "Group=%{y}<br>Year=2003<br>Value=%{x}<extra></extra>",
           "legendgroup": "Trade & Transportation",
           "marker": {
            "color": "#19d3f3",
            "pattern": {
             "shape": ""
            }
           },
           "name": "Trade & Transportation",
           "orientation": "h",
           "showlegend": true,
           "textposition": "auto",
           "type": "bar",
           "x": {
            "bdata": "K6soAA==",
            "dtype": "i4"
           },
           "xaxis": "x",
           "y": [
            "Trade & Transportation"
           ],
           "yaxis": "y"
          },
          {
           "hovertemplate": "Group=%{y}<br>Year=2003<br>Value=%{x}<extra></extra>",
           "legendgroup": "Utilities & Construction",
           "marker": {
            "color": "#FF6692",
            "pattern": {
             "shape": ""
            }
           },
           "name": "Utilities & Construction",
           "orientation": "h",
           "showlegend": true,
           "textposition": "auto",
           "type": "bar",
           "x": {
            "bdata": "yBgVAA==",
            "dtype": "i4"
           },
           "xaxis": "x",
           "y": [
            "Utilities & Construction"
           ],
           "yaxis": "y"
          }
         ],
         "name": "2003"
        },
        {
         "data": [
          {
           "hovertemplate": "Group=%{y}<br>Year=2004<br>Value=%{x}<extra></extra>",
           "legendgroup": "Health, Education & Leisure",
           "marker": {
            "color": "#636efa",
            "pattern": {
             "shape": ""
            }
           },
           "name": "Health, Education & Leisure",
           "orientation": "h",
           "showlegend": true,
           "textposition": "auto",
           "type": "bar",
           "x": {
            "bdata": "NmIqAA==",
            "dtype": "i4"
           },
           "xaxis": "x",
           "y": [
            "Health, Education & Leisure"
           ],
           "yaxis": "y"
          },
          {
           "hovertemplate": "Group=%{y}<br>Year=2004<br>Value=%{x}<extra></extra>",
           "legendgroup": "Information & Finance",
           "marker": {
            "color": "#EF553B",
            "pattern": {
             "shape": ""
            }
           },
           "name": "Information & Finance",
           "orientation": "h",
           "showlegend": true,
           "textposition": "auto",
           "type": "bar",
           "x": {
            "bdata": "Y49LAA==",
            "dtype": "i4"
           },
           "xaxis": "x",
           "y": [
            "Information & Finance"
           ],
           "yaxis": "y"
          },
          {
           "hovertemplate": "Group=%{y}<br>Year=2004<br>Value=%{x}<extra></extra>",
           "legendgroup": "Manufacturing",
           "marker": {
            "color": "#00cc96",
            "pattern": {
             "shape": ""
            }
           },
           "name": "Manufacturing",
           "orientation": "h",
           "showlegend": true,
           "textposition": "auto",
           "type": "bar",
           "x": {
            "bdata": "z4VCAA==",
            "dtype": "i4"
           },
           "xaxis": "x",
           "y": [
            "Manufacturing"
           ],
           "yaxis": "y"
          },
          {
           "hovertemplate": "Group=%{y}<br>Year=2004<br>Value=%{x}<extra></extra>",
           "legendgroup": "Primary Industries",
           "marker": {
            "color": "#ab63fa",
            "pattern": {
             "shape": ""
            }
           },
           "name": "Primary Industries",
           "orientation": "h",
           "showlegend": true,
           "textposition": "auto",
           "type": "bar",
           "x": {
            "bdata": "ZUkJAA==",
            "dtype": "i4"
           },
           "xaxis": "x",
           "y": [
            "Primary Industries"
           ],
           "yaxis": "y"
          },
          {
           "hovertemplate": "Group=%{y}<br>Year=2004<br>Value=%{x}<extra></extra>",
           "legendgroup": "Professional & Public Services",
           "marker": {
            "color": "#FFA15A",
            "pattern": {
             "shape": ""
            }
           },
           "name": "Professional & Public Services",
           "orientation": "h",
           "showlegend": true,
           "textposition": "auto",
           "type": "bar",
           "x": {
            "bdata": "ltdQAA==",
            "dtype": "i4"
           },
           "xaxis": "x",
           "y": [
            "Professional & Public Services"
           ],
           "yaxis": "y"
          },
          {
           "hovertemplate": "Group=%{y}<br>Year=2004<br>Value=%{x}<extra></extra>",
           "legendgroup": "Trade & Transportation",
           "marker": {
            "color": "#19d3f3",
            "pattern": {
             "shape": ""
            }
           },
           "name": "Trade & Transportation",
           "orientation": "h",
           "showlegend": true,
           "textposition": "auto",
           "type": "bar",
           "x": {
            "bdata": "X0csAA==",
            "dtype": "i4"
           },
           "xaxis": "x",
           "y": [
            "Trade & Transportation"
           ],
           "yaxis": "y"
          },
          {
           "hovertemplate": "Group=%{y}<br>Year=2004<br>Value=%{x}<extra></extra>",
           "legendgroup": "Utilities & Construction",
           "marker": {
            "color": "#FF6692",
            "pattern": {
             "shape": ""
            }
           },
           "name": "Utilities & Construction",
           "orientation": "h",
           "showlegend": true,
           "textposition": "auto",
           "type": "bar",
           "x": {
            "bdata": "igkXAA==",
            "dtype": "i4"
           },
           "xaxis": "x",
           "y": [
            "Utilities & Construction"
           ],
           "yaxis": "y"
          }
         ],
         "name": "2004"
        },
        {
         "data": [
          {
           "hovertemplate": "Group=%{y}<br>Year=2005<br>Value=%{x}<extra></extra>",
           "legendgroup": "Health, Education & Leisure",
           "marker": {
            "color": "#636efa",
            "pattern": {
             "shape": ""
            }
           },
           "name": "Health, Education & Leisure",
           "orientation": "h",
           "showlegend": true,
           "textposition": "auto",
           "type": "bar",
           "x": {
            "bdata": "ALwsAA==",
            "dtype": "i4"
           },
           "xaxis": "x",
           "y": [
            "Health, Education & Leisure"
           ],
           "yaxis": "y"
          },
          {
           "hovertemplate": "Group=%{y}<br>Year=2005<br>Value=%{x}<extra></extra>",
           "legendgroup": "Information & Finance",
           "marker": {
            "color": "#EF553B",
            "pattern": {
             "shape": ""
            }
           },
           "name": "Information & Finance",
           "orientation": "h",
           "showlegend": true,
           "textposition": "auto",
           "type": "bar",
           "x": {
            "bdata": "rxBSAA==",
            "dtype": "i4"
           },
           "xaxis": "x",
           "y": [
            "Information & Finance"
           ],
           "yaxis": "y"
          },
          {
           "hovertemplate": "Group=%{y}<br>Year=2005<br>Value=%{x}<extra></extra>",
           "legendgroup": "Manufacturing",
           "marker": {
            "color": "#00cc96",
            "pattern": {
             "shape": ""
            }
           },
           "name": "Manufacturing",
           "orientation": "h",
           "showlegend": true,
           "textposition": "auto",
           "type": "bar",
           "x": {
            "bdata": "oFFJAA==",
            "dtype": "i4"
           },
           "xaxis": "x",
           "y": [
            "Manufacturing"
           ],
           "yaxis": "y"
          },
          {
           "hovertemplate": "Group=%{y}<br>Year=2005<br>Value=%{x}<extra></extra>",
           "legendgroup": "Primary Industries",
           "marker": {
            "color": "#ab63fa",
            "pattern": {
             "shape": ""
            }
           },
           "name": "Primary Industries",
           "orientation": "h",
           "showlegend": true,
           "textposition": "auto",
           "type": "bar",
           "x": {
            "bdata": "iZkKAA==",
            "dtype": "i4"
           },
           "xaxis": "x",
           "y": [
            "Primary Industries"
           ],
           "yaxis": "y"
          },
          {
           "hovertemplate": "Group=%{y}<br>Year=2005<br>Value=%{x}<extra></extra>",
           "legendgroup": "Professional & Public Services",
           "marker": {
            "color": "#FFA15A",
            "pattern": {
             "shape": ""
            }
           },
           "name": "Professional & Public Services",
           "orientation": "h",
           "showlegend": true,
           "textposition": "auto",
           "type": "bar",
           "x": {
            "bdata": "GoVWAA==",
            "dtype": "i4"
           },
           "xaxis": "x",
           "y": [
            "Professional & Public Services"
           ],
           "yaxis": "y"
          },
          {
           "hovertemplate": "Group=%{y}<br>Year=2005<br>Value=%{x}<extra></extra>",
           "legendgroup": "Trade & Transportation",
           "marker": {
            "color": "#19d3f3",
            "pattern": {
             "shape": ""
            }
           },
           "name": "Trade & Transportation",
           "orientation": "h",
           "showlegend": true,
           "textposition": "auto",
           "type": "bar",
           "x": {
            "bdata": "REwvAA==",
            "dtype": "i4"
           },
           "xaxis": "x",
           "y": [
            "Trade & Transportation"
           ],
           "yaxis": "y"
          },
          {
           "hovertemplate": "Group=%{y}<br>Year=2005<br>Value=%{x}<extra></extra>",
           "legendgroup": "Utilities & Construction",
           "marker": {
            "color": "#FF6692",
            "pattern": {
             "shape": ""
            }
           },
           "name": "Utilities & Construction",
           "orientation": "h",
           "showlegend": true,
           "textposition": "auto",
           "type": "bar",
           "x": {
            "bdata": "mP0ZAA==",
            "dtype": "i4"
           },
           "xaxis": "x",
           "y": [
            "Utilities & Construction"
           ],
           "yaxis": "y"
          }
         ],
         "name": "2005"
        },
        {
         "data": [
          {
           "hovertemplate": "Group=%{y}<br>Year=2006<br>Value=%{x}<extra></extra>",
           "legendgroup": "Health, Education & Leisure",
           "marker": {
            "color": "#636efa",
            "pattern": {
             "shape": ""
            }
           },
           "name": "Health, Education & Leisure",
           "orientation": "h",
           "showlegend": true,
           "textposition": "auto",
           "type": "bar",
           "x": {
            "bdata": "U3gvAA==",
            "dtype": "i4"
           },
           "xaxis": "x",
           "y": [
            "Health, Education & Leisure"
           ],
           "yaxis": "y"
          },
          {
           "hovertemplate": "Group=%{y}<br>Year=2006<br>Value=%{x}<extra></extra>",
           "legendgroup": "Information & Finance",
           "marker": {
            "color": "#EF553B",
            "pattern": {
             "shape": ""
            }
           },
           "name": "Information & Finance",
           "orientation": "h",
           "showlegend": true,
           "textposition": "auto",
           "type": "bar",
           "x": {
            "bdata": "d2RWAA==",
            "dtype": "i4"
           },
           "xaxis": "x",
           "y": [
            "Information & Finance"
           ],
           "yaxis": "y"
          },
          {
           "hovertemplate": "Group=%{y}<br>Year=2006<br>Value=%{x}<extra></extra>",
           "legendgroup": "Manufacturing",
           "marker": {
            "color": "#00cc96",
            "pattern": {
             "shape": ""
            }
           },
           "name": "Manufacturing",
           "orientation": "h",
           "showlegend": true,
           "textposition": "auto",
           "type": "bar",
           "x": {
            "bdata": "1rNNAA==",
            "dtype": "i4"
           },
           "xaxis": "x",
           "y": [
            "Manufacturing"
           ],
           "yaxis": "y"
          },
          {
           "hovertemplate": "Group=%{y}<br>Year=2006<br>Value=%{x}<extra></extra>",
           "legendgroup": "Primary Industries",
           "marker": {
            "color": "#ab63fa",
            "pattern": {
             "shape": ""
            }
           },
           "name": "Primary Industries",
           "orientation": "h",
           "showlegend": true,
           "textposition": "auto",
           "type": "bar",
           "x": {
            "bdata": "lG4LAA==",
            "dtype": "i4"
           },
           "xaxis": "x",
           "y": [
            "Primary Industries"
           ],
           "yaxis": "y"
          },
          {
           "hovertemplate": "Group=%{y}<br>Year=2006<br>Value=%{x}<extra></extra>",
           "legendgroup": "Professional & Public Services",
           "marker": {
            "color": "#FFA15A",
            "pattern": {
             "shape": ""
            }
           },
           "name": "Professional & Public Services",
           "orientation": "h",
           "showlegend": true,
           "textposition": "auto",
           "type": "bar",
           "x": {
            "bdata": "jONbAA==",
            "dtype": "i4"
           },
           "xaxis": "x",
           "y": [
            "Professional & Public Services"
           ],
           "yaxis": "y"
          },
          {
           "hovertemplate": "Group=%{y}<br>Year=2006<br>Value=%{x}<extra></extra>",
           "legendgroup": "Trade & Transportation",
           "marker": {
            "color": "#19d3f3",
            "pattern": {
             "shape": ""
            }
           },
           "name": "Trade & Transportation",
           "orientation": "h",
           "showlegend": true,
           "textposition": "auto",
           "type": "bar",
           "x": {
            "bdata": "gaUyAA==",
            "dtype": "i4"
           },
           "xaxis": "x",
           "y": [
            "Trade & Transportation"
           ],
           "yaxis": "y"
          },
          {
           "hovertemplate": "Group=%{y}<br>Year=2006<br>Value=%{x}<extra></extra>",
           "legendgroup": "Utilities & Construction",
           "marker": {
            "color": "#FF6692",
            "pattern": {
             "shape": ""
            }
           },
           "name": "Utilities & Construction",
           "orientation": "h",
           "showlegend": true,
           "textposition": "auto",
           "type": "bar",
           "x": {
            "bdata": "4hcbAA==",
            "dtype": "i4"
           },
           "xaxis": "x",
           "y": [
            "Utilities & Construction"
           ],
           "yaxis": "y"
          }
         ],
         "name": "2006"
        },
        {
         "data": [
          {
           "hovertemplate": "Group=%{y}<br>Year=2007<br>Value=%{x}<extra></extra>",
           "legendgroup": "Health, Education & Leisure",
           "marker": {
            "color": "#636efa",
            "pattern": {
             "shape": ""
            }
           },
           "name": "Health, Education & Leisure",
           "orientation": "h",
           "showlegend": true,
           "textposition": "auto",
           "type": "bar",
           "x": {
            "bdata": "9/IxAA==",
            "dtype": "i4"
           },
           "xaxis": "x",
           "y": [
            "Health, Education & Leisure"
           ],
           "yaxis": "y"
          },
          {
           "hovertemplate": "Group=%{y}<br>Year=2007<br>Value=%{x}<extra></extra>",
           "legendgroup": "Information & Finance",
           "marker": {
            "color": "#EF553B",
            "pattern": {
             "shape": ""
            }
           },
           "name": "Information & Finance",
           "orientation": "h",
           "showlegend": true,
           "textposition": "auto",
           "type": "bar",
           "x": {
            "bdata": "ACNaAA==",
            "dtype": "i4"
           },
           "xaxis": "x",
           "y": [
            "Information & Finance"
           ],
           "yaxis": "y"
          },
          {
           "hovertemplate": "Group=%{y}<br>Year=2007<br>Value=%{x}<extra></extra>",
           "legendgroup": "Manufacturing",
           "marker": {
            "color": "#00cc96",
            "pattern": {
             "shape": ""
            }
           },
           "name": "Manufacturing",
           "orientation": "h",
           "showlegend": true,
           "textposition": "auto",
           "type": "bar",
           "x": {
            "bdata": "2npSAA==",
            "dtype": "i4"
           },
           "xaxis": "x",
           "y": [
            "Manufacturing"
           ],
           "yaxis": "y"
          },
          {
           "hovertemplate": "Group=%{y}<br>Year=2007<br>Value=%{x}<extra></extra>",
           "legendgroup": "Primary Industries",
           "marker": {
            "color": "#ab63fa",
            "pattern": {
             "shape": ""
            }
           },
           "name": "Primary Industries",
           "orientation": "h",
           "showlegend": true,
           "textposition": "auto",
           "type": "bar",
           "x": {
            "bdata": "RZkMAA==",
            "dtype": "i4"
           },
           "xaxis": "x",
           "y": [
            "Primary Industries"
           ],
           "yaxis": "y"
          },
          {
           "hovertemplate": "Group=%{y}<br>Year=2007<br>Value=%{x}<extra></extra>",
           "legendgroup": "Professional & Public Services",
           "marker": {
            "color": "#FFA15A",
            "pattern": {
             "shape": ""
            }
           },
           "name": "Professional & Public Services",
           "orientation": "h",
           "showlegend": true,
           "textposition": "auto",
           "type": "bar",
           "x": {
            "bdata": "CfFhAA==",
            "dtype": "i4"
           },
           "xaxis": "x",
           "y": [
            "Professional & Public Services"
           ],
           "yaxis": "y"
          },
          {
           "hovertemplate": "Group=%{y}<br>Year=2007<br>Value=%{x}<extra></extra>",
           "legendgroup": "Trade & Transportation",
           "marker": {
            "color": "#19d3f3",
            "pattern": {
             "shape": ""
            }
           },
           "name": "Trade & Transportation",
           "orientation": "h",
           "showlegend": true,
           "textposition": "auto",
           "type": "bar",
           "x": {
            "bdata": "UfQ0AA==",
            "dtype": "i4"
           },
           "xaxis": "x",
           "y": [
            "Trade & Transportation"
           ],
           "yaxis": "y"
          },
          {
           "hovertemplate": "Group=%{y}<br>Year=2007<br>Value=%{x}<extra></extra>",
           "legendgroup": "Utilities & Construction",
           "marker": {
            "color": "#FF6692",
            "pattern": {
             "shape": ""
            }
           },
           "name": "Utilities & Construction",
           "orientation": "h",
           "showlegend": true,
           "textposition": "auto",
           "type": "bar",
           "x": {
            "bdata": "cVIbAA==",
            "dtype": "i4"
           },
           "xaxis": "x",
           "y": [
            "Utilities & Construction"
           ],
           "yaxis": "y"
          }
         ],
         "name": "2007"
        },
        {
         "data": [
          {
           "hovertemplate": "Group=%{y}<br>Year=2008<br>Value=%{x}<extra></extra>",
           "legendgroup": "Health, Education & Leisure",
           "marker": {
            "color": "#636efa",
            "pattern": {
             "shape": ""
            }
           },
           "name": "Health, Education & Leisure",
           "orientation": "h",
           "showlegend": true,
           "textposition": "auto",
           "type": "bar",
           "x": {
            "bdata": "TU80AA==",
            "dtype": "i4"
           },
           "xaxis": "x",
           "y": [
            "Health, Education & Leisure"
           ],
           "yaxis": "y"
          },
          {
           "hovertemplate": "Group=%{y}<br>Year=2008<br>Value=%{x}<extra></extra>",
           "legendgroup": "Information & Finance",
           "marker": {
            "color": "#EF553B",
            "pattern": {
             "shape": ""
            }
           },
           "name": "Information & Finance",
           "orientation": "h",
           "showlegend": true,
           "textposition": "auto",
           "type": "bar",
           "x": {
            "bdata": "ObZaAA==",
            "dtype": "i4"
           },
           "xaxis": "x",
           "y": [
            "Information & Finance"
           ],
           "yaxis": "y"
          },
          {
           "hovertemplate": "Group=%{y}<br>Year=2008<br>Value=%{x}<extra></extra>",
           "legendgroup": "Manufacturing",
           "marker": {
            "color": "#00cc96",
            "pattern": {
             "shape": ""
            }
           },
           "name": "Manufacturing",
           "orientation": "h",
           "showlegend": true,
           "textposition": "auto",
           "type": "bar",
           "x": {
            "bdata": "CNFTAA==",
            "dtype": "i4"
           },
           "xaxis": "x",
           "y": [
            "Manufacturing"
           ],
           "yaxis": "y"
          },
          {
           "hovertemplate": "Group=%{y}<br>Year=2008<br>Value=%{x}<extra></extra>",
           "legendgroup": "Primary Industries",
           "marker": {
            "color": "#ab63fa",
            "pattern": {
             "shape": ""
            }
           },
           "name": "Primary Industries",
           "orientation": "h",
           "showlegend": true,
           "textposition": "auto",
           "type": "bar",
           "x": {
            "bdata": "SxAPAA==",
            "dtype": "i4"
           },
           "xaxis": "x",
           "y": [
            "Primary Industries"
           ],
           "yaxis": "y"
          },
          {
           "hovertemplate": "Group=%{y}<br>Year=2008<br>Value=%{x}<extra></extra>",
           "legendgroup": "Professional & Public Services",
           "marker": {
            "color": "#FFA15A",
            "pattern": {
             "shape": ""
            }
           },
           "name": "Professional & Public Services",
           "orientation": "h",
           "showlegend": true,
           "textposition": "auto",
           "type": "bar",
           "x": {
            "bdata": "PIZnAA==",
            "dtype": "i4"
           },
           "xaxis": "x",
           "y": [
            "Professional & Public Services"
           ],
           "yaxis": "y"
          },
          {
           "hovertemplate": "Group=%{y}<br>Year=2008<br>Value=%{x}<extra></extra>",
           "legendgroup": "Trade & Transportation",
           "marker": {
            "color": "#19d3f3",
            "pattern": {
             "shape": ""
            }
           },
           "name": "Trade & Transportation",
           "orientation": "h",
           "showlegend": true,
           "textposition": "auto",
           "type": "bar",
           "x": {
            "bdata": "PIs1AA==",
            "dtype": "i4"
           },
           "xaxis": "x",
           "y": [
            "Trade & Transportation"
           ],
           "yaxis": "y"
          },
          {
           "hovertemplate": "Group=%{y}<br>Year=2008<br>Value=%{x}<extra></extra>",
           "legendgroup": "Utilities & Construction",
           "marker": {
            "color": "#FF6692",
            "pattern": {
             "shape": ""
            }
           },
           "name": "Utilities & Construction",
           "orientation": "h",
           "showlegend": true,
           "textposition": "auto",
           "type": "bar",
           "x": {
            "bdata": "1nkbAA==",
            "dtype": "i4"
           },
           "xaxis": "x",
           "y": [
            "Utilities & Construction"
           ],
           "yaxis": "y"
          }
         ],
         "name": "2008"
        },
        {
         "data": [
          {
           "hovertemplate": "Group=%{y}<br>Year=2009<br>Value=%{x}<extra></extra>",
           "legendgroup": "Health, Education & Leisure",
           "marker": {
            "color": "#636efa",
            "pattern": {
             "shape": ""
            }
           },
           "name": "Health, Education & Leisure",
           "orientation": "h",
           "showlegend": true,
           "textposition": "auto",
           "type": "bar",
           "x": {
            "bdata": "ZgU1AA==",
            "dtype": "i4"
           },
           "xaxis": "x",
           "y": [
            "Health, Education & Leisure"
           ],
           "yaxis": "y"
          },
          {
           "hovertemplate": "Group=%{y}<br>Year=2009<br>Value=%{x}<extra></extra>",
           "legendgroup": "Information & Finance",
           "marker": {
            "color": "#EF553B",
            "pattern": {
             "shape": ""
            }
           },
           "name": "Information & Finance",
           "orientation": "h",
           "showlegend": true,
           "textposition": "auto",
           "type": "bar",
           "x": {
            "bdata": "mF1XAA==",
            "dtype": "i4"
           },
           "xaxis": "x",
           "y": [
            "Information & Finance"
           ],
           "yaxis": "y"
          },
          {
           "hovertemplate": "Group=%{y}<br>Year=2009<br>Value=%{x}<extra></extra>",
           "legendgroup": "Manufacturing",
           "marker": {
            "color": "#00cc96",
            "pattern": {
             "shape": ""
            }
           },
           "name": "Manufacturing",
           "orientation": "h",
           "showlegend": true,
           "textposition": "auto",
           "type": "bar",
           "x": {
            "bdata": "/d5EAA==",
            "dtype": "i4"
           },
           "xaxis": "x",
           "y": [
            "Manufacturing"
           ],
           "yaxis": "y"
          },
          {
           "hovertemplate": "Group=%{y}<br>Year=2009<br>Value=%{x}<extra></extra>",
           "legendgroup": "Primary Industries",
           "marker": {
            "color": "#ab63fa",
            "pattern": {
             "shape": ""
            }
           },
           "name": "Primary Industries",
           "orientation": "h",
           "showlegend": true,
           "textposition": "auto",
           "type": "bar",
           "x": {
            "bdata": "v1kLAA==",
            "dtype": "i4"
           },
           "xaxis": "x",
           "y": [
            "Primary Industries"
           ],
           "yaxis": "y"
          },
          {
           "hovertemplate": "Group=%{y}<br>Year=2009<br>Value=%{x}<extra></extra>",
           "legendgroup": "Professional & Public Services",
           "marker": {
            "color": "#FFA15A",
            "pattern": {
             "shape": ""
            }
           },
           "name": "Professional & Public Services",
           "orientation": "h",
           "showlegend": true,
           "textposition": "auto",
           "type": "bar",
           "x": {
            "bdata": "gtJnAA==",
            "dtype": "i4"
           },
           "xaxis": "x",
           "y": [
            "Professional & Public Services"
           ],
           "yaxis": "y"
          },
          {
           "hovertemplate": "Group=%{y}<br>Year=2009<br>Value=%{x}<extra></extra>",
           "legendgroup": "Trade & Transportation",
           "marker": {
            "color": "#19d3f3",
            "pattern": {
             "shape": ""
            }
           },
           "name": "Trade & Transportation",
           "orientation": "h",
           "showlegend": true,
           "textposition": "auto",
           "type": "bar",
           "x": {
            "bdata": "+vgvAA==",
            "dtype": "i4"
           },
           "xaxis": "x",
           "y": [
            "Trade & Transportation"
           ],
           "yaxis": "y"
          },
          {
           "hovertemplate": "Group=%{y}<br>Year=2009<br>Value=%{x}<extra></extra>",
           "legendgroup": "Utilities & Construction",
           "marker": {
            "color": "#FF6692",
            "pattern": {
             "shape": ""
            }
           },
           "name": "Utilities & Construction",
           "orientation": "h",
           "showlegend": true,
           "textposition": "auto",
           "type": "bar",
           "x": {
            "bdata": "J20XAA==",
            "dtype": "i4"
           },
           "xaxis": "x",
           "y": [
            "Utilities & Construction"
           ],
           "yaxis": "y"
          }
         ],
         "name": "2009"
        },
        {
         "data": [
          {
           "hovertemplate": "Group=%{y}<br>Year=2010<br>Value=%{x}<extra></extra>",
           "legendgroup": "Health, Education & Leisure",
           "marker": {
            "color": "#636efa",
            "pattern": {
             "shape": ""
            }
           },
           "name": "Health, Education & Leisure",
           "orientation": "h",
           "showlegend": true,
           "textposition": "auto",
           "type": "bar",
           "x": {
            "bdata": "sgQ3AA==",
            "dtype": "i4"
           },
           "xaxis": "x",
           "y": [
            "Health, Education & Leisure"
           ],
           "yaxis": "y"
          },
          {
           "hovertemplate": "Group=%{y}<br>Year=2010<br>Value=%{x}<extra></extra>",
           "legendgroup": "Information & Finance",
           "marker": {
            "color": "#EF553B",
            "pattern": {
             "shape": ""
            }
           },
           "name": "Information & Finance",
           "orientation": "h",
           "showlegend": true,
           "textposition": "auto",
           "type": "bar",
           "x": {
            "bdata": "SytaAA==",
            "dtype": "i4"
           },
           "xaxis": "x",
           "y": [
            "Information & Finance"
           ],
           "yaxis": "y"
          },
          {
           "hovertemplate": "Group=%{y}<br>Year=2010<br>Value=%{x}<extra></extra>",
           "legendgroup": "Manufacturing",
           "marker": {
            "color": "#00cc96",
            "pattern": {
             "shape": ""
            }
           },
           "name": "Manufacturing",
           "orientation": "h",
           "showlegend": true,
           "textposition": "auto",
           "type": "bar",
           "x": {
            "bdata": "9JRMAA==",
            "dtype": "i4"
           },
           "xaxis": "x",
           "y": [
            "Manufacturing"
           ],
           "yaxis": "y"
          },
          {
           "hovertemplate": "Group=%{y}<br>Year=2010<br>Value=%{x}<extra></extra>",
           "legendgroup": "Primary Industries",
           "marker": {
            "color": "#ab63fa",
            "pattern": {
             "shape": ""
            }
           },
           "name": "Primary Industries",
           "orientation": "h",
           "showlegend": true,
           "textposition": "auto",
           "type": "bar",
           "x": {
            "bdata": "ajkNAA==",
            "dtype": "i4"
           },
           "xaxis": "x",
           "y": [
            "Primary Industries"
           ],
           "yaxis": "y"
          },
          {
           "hovertemplate": "Group=%{y}<br>Year=2010<br>Value=%{x}<extra></extra>",
           "legendgroup": "Professional & Public Services",
           "marker": {
            "color": "#FFA15A",
            "pattern": {
             "shape": ""
            }
           },
           "name": "Professional & Public Services",
           "orientation": "h",
           "showlegend": true,
           "textposition": "auto",
           "type": "bar",
           "x": {
            "bdata": "nVRsAA==",
            "dtype": "i4"
           },
           "xaxis": "x",
           "y": [
            "Professional & Public Services"
           ],
           "yaxis": "y"
          },
          {
           "hovertemplate": "Group=%{y}<br>Year=2010<br>Value=%{x}<extra></extra>",
           "legendgroup": "Trade & Transportation",
           "marker": {
            "color": "#19d3f3",
            "pattern": {
             "shape": ""
            }
           },
           "name": "Trade & Transportation",
           "orientation": "h",
           "showlegend": true,
           "textposition": "auto",
           "type": "bar",
           "x": {
            "bdata": "saw1AA==",
            "dtype": "i4"
           },
           "xaxis": "x",
           "y": [
            "Trade & Transportation"
           ],
           "yaxis": "y"
          },
          {
           "hovertemplate": "Group=%{y}<br>Year=2010<br>Value=%{x}<extra></extra>",
           "legendgroup": "Utilities & Construction",
           "marker": {
            "color": "#FF6692",
            "pattern": {
             "shape": ""
            }
           },
           "name": "Utilities & Construction",
           "orientation": "h",
           "showlegend": true,
           "textposition": "auto",
           "type": "bar",
           "x": {
            "bdata": "4A4XAA==",
            "dtype": "i4"
           },
           "xaxis": "x",
           "y": [
            "Utilities & Construction"
           ],
           "yaxis": "y"
          }
         ],
         "name": "2010"
        },
        {
         "data": [
          {
           "hovertemplate": "Group=%{y}<br>Year=2011<br>Value=%{x}<extra></extra>",
           "legendgroup": "Health, Education & Leisure",
           "marker": {
            "color": "#636efa",
            "pattern": {
             "shape": ""
            }
           },
           "name": "Health, Education & Leisure",
           "orientation": "h",
           "showlegend": true,
           "textposition": "auto",
           "type": "bar",
           "x": {
            "bdata": "UEU5AA==",
            "dtype": "i4"
           },
           "xaxis": "x",
           "y": [
            "Health, Education & Leisure"
           ],
           "yaxis": "y"
          },
          {
           "hovertemplate": "Group=%{y}<br>Year=2011<br>Value=%{x}<extra></extra>",
           "legendgroup": "Information & Finance",
           "marker": {
            "color": "#EF553B",
            "pattern": {
             "shape": ""
            }
           },
           "name": "Information & Finance",
           "orientation": "h",
           "showlegend": true,
           "textposition": "auto",
           "type": "bar",
           "x": {
            "bdata": "BCpdAA==",
            "dtype": "i4"
           },
           "xaxis": "x",
           "y": [
            "Information & Finance"
           ],
           "yaxis": "y"
          },
          {
           "hovertemplate": "Group=%{y}<br>Year=2011<br>Value=%{x}<extra></extra>",
           "legendgroup": "Manufacturing",
           "marker": {
            "color": "#00cc96",
            "pattern": {
             "shape": ""
            }
           },
           "name": "Manufacturing",
           "orientation": "h",
           "showlegend": true,
           "textposition": "auto",
           "type": "bar",
           "x": {
            "bdata": "pmBVAA==",
            "dtype": "i4"
           },
           "xaxis": "x",
           "y": [
            "Manufacturing"
           ],
           "yaxis": "y"
          },
          {
           "hovertemplate": "Group=%{y}<br>Year=2011<br>Value=%{x}<extra></extra>",
           "legendgroup": "Primary Industries",
           "marker": {
            "color": "#ab63fa",
            "pattern": {
             "shape": ""
            }
           },
           "name": "Primary Industries",
           "orientation": "h",
           "showlegend": true,
           "textposition": "auto",
           "type": "bar",
           "x": {
            "bdata": "cbwPAA==",
            "dtype": "i4"
           },
           "xaxis": "x",
           "y": [
            "Primary Industries"
           ],
           "yaxis": "y"
          },
          {
           "hovertemplate": "Group=%{y}<br>Year=2011<br>Value=%{x}<extra></extra>",
           "legendgroup": "Professional & Public Services",
           "marker": {
            "color": "#FFA15A",
            "pattern": {
             "shape": ""
            }
           },
           "name": "Professional & Public Services",
           "orientation": "h",
           "showlegend": true,
           "textposition": "auto",
           "type": "bar",
           "x": {
            "bdata": "YDpvAA==",
            "dtype": "i4"
           },
           "xaxis": "x",
           "y": [
            "Professional & Public Services"
           ],
           "yaxis": "y"
          },
          {
           "hovertemplate": "Group=%{y}<br>Year=2011<br>Value=%{x}<extra></extra>",
           "legendgroup": "Trade & Transportation",
           "marker": {
            "color": "#19d3f3",
            "pattern": {
             "shape": ""
            }
           },
           "name": "Trade & Transportation",
           "orientation": "h",
           "showlegend": true,
           "textposition": "auto",
           "type": "bar",
           "x": {
            "bdata": "Ll06AA==",
            "dtype": "i4"
           },
           "xaxis": "x",
           "y": [
            "Trade & Transportation"
           ],
           "yaxis": "y"
          },
          {
           "hovertemplate": "Group=%{y}<br>Year=2011<br>Value=%{x}<extra></extra>",
           "legendgroup": "Utilities & Construction",
           "marker": {
            "color": "#FF6692",
            "pattern": {
             "shape": ""
            }
           },
           "name": "Utilities & Construction",
           "orientation": "h",
           "showlegend": true,
           "textposition": "auto",
           "type": "bar",
           "x": {
            "bdata": "VPgWAA==",
            "dtype": "i4"
           },
           "xaxis": "x",
           "y": [
            "Utilities & Construction"
           ],
           "yaxis": "y"
          }
         ],
         "name": "2011"
        },
        {
         "data": [
          {
           "hovertemplate": "Group=%{y}<br>Year=2012<br>Value=%{x}<extra></extra>",
           "legendgroup": "Health, Education & Leisure",
           "marker": {
            "color": "#636efa",
            "pattern": {
             "shape": ""
            }
           },
           "name": "Health, Education & Leisure",
           "orientation": "h",
           "showlegend": true,
           "textposition": "auto",
           "type": "bar",
           "x": {
            "bdata": "8RA8AA==",
            "dtype": "i4"
           },
           "xaxis": "x",
           "y": [
            "Health, Education & Leisure"
           ],
           "yaxis": "y"
          },
          {
           "hovertemplate": "Group=%{y}<br>Year=2012<br>Value=%{x}<extra></extra>",
           "legendgroup": "Information & Finance",
           "marker": {
            "color": "#EF553B",
            "pattern": {
             "shape": ""
            }
           },
           "name": "Information & Finance",
           "orientation": "h",
           "showlegend": true,
           "textposition": "auto",
           "type": "bar",
           "x": {
            "bdata": "snZiAA==",
            "dtype": "i4"
           },
           "xaxis": "x",
           "y": [
            "Information & Finance"
           ],
           "yaxis": "y"
          },
          {
           "hovertemplate": "Group=%{y}<br>Year=2012<br>Value=%{x}<extra></extra>",
           "legendgroup": "Manufacturing",
           "marker": {
            "color": "#00cc96",
            "pattern": {
             "shape": ""
            }
           },
           "name": "Manufacturing",
           "orientation": "h",
           "showlegend": true,
           "textposition": "auto",
           "type": "bar",
           "x": {
            "bdata": "3CNYAA==",
            "dtype": "i4"
           },
           "xaxis": "x",
           "y": [
            "Manufacturing"
           ],
           "yaxis": "y"
          },
          {
           "hovertemplate": "Group=%{y}<br>Year=2012<br>Value=%{x}<extra></extra>",
           "legendgroup": "Primary Industries",
           "marker": {
            "color": "#ab63fa",
            "pattern": {
             "shape": ""
            }
           },
           "name": "Primary Industries",
           "orientation": "h",
           "showlegend": true,
           "textposition": "auto",
           "type": "bar",
           "x": {
            "bdata": "Gj4QAA==",
            "dtype": "i4"
           },
           "xaxis": "x",
           "y": [
            "Primary Industries"
           ],
           "yaxis": "y"
          },
          {
           "hovertemplate": "Group=%{y}<br>Year=2012<br>Value=%{x}<extra></extra>",
           "legendgroup": "Professional & Public Services",
           "marker": {
            "color": "#FFA15A",
            "pattern": {
             "shape": ""
            }
           },
           "name": "Professional & Public Services",
           "orientation": "h",
           "showlegend": true,
           "textposition": "auto",
           "type": "bar",
           "x": {
            "bdata": "bqFxAA==",
            "dtype": "i4"
           },
           "xaxis": "x",
           "y": [
            "Professional & Public Services"
           ],
           "yaxis": "y"
          },
          {
           "hovertemplate": "Group=%{y}<br>Year=2012<br>Value=%{x}<extra></extra>",
           "legendgroup": "Trade & Transportation",
           "marker": {
            "color": "#19d3f3",
            "pattern": {
             "shape": ""
            }
           },
           "name": "Trade & Transportation",
           "orientation": "h",
           "showlegend": true,
           "textposition": "auto",
           "type": "bar",
           "x": {
            "bdata": "hAU+AA==",
            "dtype": "i4"
           },
           "xaxis": "x",
           "y": [
            "Trade & Transportation"
           ],
           "yaxis": "y"
          },
          {
           "hovertemplate": "Group=%{y}<br>Year=2012<br>Value=%{x}<extra></extra>",
           "legendgroup": "Utilities & Construction",
           "marker": {
            "color": "#FF6692",
            "pattern": {
             "shape": ""
            }
           },
           "name": "Utilities & Construction",
           "orientation": "h",
           "showlegend": true,
           "textposition": "auto",
           "type": "bar",
           "x": {
            "bdata": "IHQXAA==",
            "dtype": "i4"
           },
           "xaxis": "x",
           "y": [
            "Utilities & Construction"
           ],
           "yaxis": "y"
          }
         ],
         "name": "2012"
        },
        {
         "data": [
          {
           "hovertemplate": "Group=%{y}<br>Year=2013<br>Value=%{x}<extra></extra>",
           "legendgroup": "Health, Education & Leisure",
           "marker": {
            "color": "#636efa",
            "pattern": {
             "shape": ""
            }
           },
           "name": "Health, Education & Leisure",
           "orientation": "h",
           "showlegend": true,
           "textposition": "auto",
           "type": "bar",
           "x": {
            "bdata": "+6U9AA==",
            "dtype": "i4"
           },
           "xaxis": "x",
           "y": [
            "Health, Education & Leisure"
           ],
           "yaxis": "y"
          },
          {
           "hovertemplate": "Group=%{y}<br>Year=2013<br>Value=%{x}<extra></extra>",
           "legendgroup": "Information & Finance",
           "marker": {
            "color": "#EF553B",
            "pattern": {
             "shape": ""
            }
           },
           "name": "Information & Finance",
           "orientation": "h",
           "showlegend": true,
           "textposition": "auto",
           "type": "bar",
           "x": {
            "bdata": "rxBoAA==",
            "dtype": "i4"
           },
           "xaxis": "x",
           "y": [
            "Information & Finance"
           ],
           "yaxis": "y"
          },
          {
           "hovertemplate": "Group=%{y}<br>Year=2013<br>Value=%{x}<extra></extra>",
           "legendgroup": "Manufacturing",
           "marker": {
            "color": "#00cc96",
            "pattern": {
             "shape": ""
            }
           },
           "name": "Manufacturing",
           "orientation": "h",
           "showlegend": true,
           "textposition": "auto",
           "type": "bar",
           "x": {
            "bdata": "UnNaAA==",
            "dtype": "i4"
           },
           "xaxis": "x",
           "y": [
            "Manufacturing"
           ],
           "yaxis": "y"
          },
          {
           "hovertemplate": "Group=%{y}<br>Year=2013<br>Value=%{x}<extra></extra>",
           "legendgroup": "Primary Industries",
           "marker": {
            "color": "#ab63fa",
            "pattern": {
             "shape": ""
            }
           },
           "name": "Primary Industries",
           "orientation": "h",
           "showlegend": true,
           "textposition": "auto",
           "type": "bar",
           "x": {
            "bdata": "qW8RAA==",
            "dtype": "i4"
           },
           "xaxis": "x",
           "y": [
            "Primary Industries"
           ],
           "yaxis": "y"
          },
          {
           "hovertemplate": "Group=%{y}<br>Year=2013<br>Value=%{x}<extra></extra>",
           "legendgroup": "Professional & Public Services",
           "marker": {
            "color": "#FFA15A",
            "pattern": {
             "shape": ""
            }
           },
           "name": "Professional & Public Services",
           "orientation": "h",
           "showlegend": true,
           "textposition": "auto",
           "type": "bar",
           "x": {
            "bdata": "89RyAA==",
            "dtype": "i4"
           },
           "xaxis": "x",
           "y": [
            "Professional & Public Services"
           ],
           "yaxis": "y"
          },
          {
           "hovertemplate": "Group=%{y}<br>Year=2013<br>Value=%{x}<extra></extra>",
           "legendgroup": "Trade & Transportation",
           "marker": {
            "color": "#19d3f3",
            "pattern": {
             "shape": ""
            }
           },
           "name": "Trade & Transportation",
           "orientation": "h",
           "showlegend": true,
           "textposition": "auto",
           "type": "bar",
           "x": {
            "bdata": "oH9BAA==",
            "dtype": "i4"
           },
           "xaxis": "x",
           "y": [
            "Trade & Transportation"
           ],
           "yaxis": "y"
          },
          {
           "hovertemplate": "Group=%{y}<br>Year=2013<br>Value=%{x}<extra></extra>",
           "legendgroup": "Utilities & Construction",
           "marker": {
            "color": "#FF6692",
            "pattern": {
             "shape": ""
            }
           },
           "name": "Utilities & Construction",
           "orientation": "h",
           "showlegend": true,
           "textposition": "auto",
           "type": "bar",
           "x": {
            "bdata": "kRIZAA==",
            "dtype": "i4"
           },
           "xaxis": "x",
           "y": [
            "Utilities & Construction"
           ],
           "yaxis": "y"
          }
         ],
         "name": "2013"
        },
        {
         "data": [
          {
           "hovertemplate": "Group=%{y}<br>Year=2014<br>Value=%{x}<extra></extra>",
           "legendgroup": "Health, Education & Leisure",
           "marker": {
            "color": "#636efa",
            "pattern": {
             "shape": ""
            }
           },
           "name": "Health, Education & Leisure",
           "orientation": "h",
           "showlegend": true,
           "textposition": "auto",
           "type": "bar",
           "x": {
            "bdata": "kIxAAA==",
            "dtype": "i4"
           },
           "xaxis": "x",
           "y": [
            "Health, Education & Leisure"
           ],
           "yaxis": "y"
          },
          {
           "hovertemplate": "Group=%{y}<br>Year=2014<br>Value=%{x}<extra></extra>",
           "legendgroup": "Information & Finance",
           "marker": {
            "color": "#EF553B",
            "pattern": {
             "shape": ""
            }
           },
           "name": "Information & Finance",
           "orientation": "h",
           "showlegend": true,
           "textposition": "auto",
           "type": "bar",
           "x": {
            "bdata": "zwduAA==",
            "dtype": "i4"
           },
           "xaxis": "x",
           "y": [
            "Information & Finance"
           ],
           "yaxis": "y"
          },
          {
           "hovertemplate": "Group=%{y}<br>Year=2014<br>Value=%{x}<extra></extra>",
           "legendgroup": "Manufacturing",
           "marker": {
            "color": "#00cc96",
            "pattern": {
             "shape": ""
            }
           },
           "name": "Manufacturing",
           "orientation": "h",
           "showlegend": true,
           "textposition": "auto",
           "type": "bar",
           "x": {
            "bdata": "84hbAA==",
            "dtype": "i4"
           },
           "xaxis": "x",
           "y": [
            "Manufacturing"
           ],
           "yaxis": "y"
          },
          {
           "hovertemplate": "Group=%{y}<br>Year=2014<br>Value=%{x}<extra></extra>",
           "legendgroup": "Primary Industries",
           "marker": {
            "color": "#ab63fa",
            "pattern": {
             "shape": ""
            }
           },
           "name": "Primary Industries",
           "orientation": "h",
           "showlegend": true,
           "textposition": "auto",
           "type": "bar",
           "x": {
            "bdata": "8LUSAA==",
            "dtype": "i4"
           },
           "xaxis": "x",
           "y": [
            "Primary Industries"
           ],
           "yaxis": "y"
          },
          {
           "hovertemplate": "Group=%{y}<br>Year=2014<br>Value=%{x}<extra></extra>",
           "legendgroup": "Professional & Public Services",
           "marker": {
            "color": "#FFA15A",
            "pattern": {
             "shape": ""
            }
           },
           "name": "Professional & Public Services",
           "orientation": "h",
           "showlegend": true,
           "textposition": "auto",
           "type": "bar",
           "x": {
            "bdata": "Vs92AA==",
            "dtype": "i4"
           },
           "xaxis": "x",
           "y": [
            "Professional & Public Services"
           ],
           "yaxis": "y"
          },
          {
           "hovertemplate": "Group=%{y}<br>Year=2014<br>Value=%{x}<extra></extra>",
           "legendgroup": "Trade & Transportation",
           "marker": {
            "color": "#19d3f3",
            "pattern": {
             "shape": ""
            }
           },
           "name": "Trade & Transportation",
           "orientation": "h",
           "showlegend": true,
           "textposition": "auto",
           "type": "bar",
           "x": {
            "bdata": "iIdFAA==",
            "dtype": "i4"
           },
           "xaxis": "x",
           "y": [
            "Trade & Transportation"
           ],
           "yaxis": "y"
          },
          {
           "hovertemplate": "Group=%{y}<br>Year=2014<br>Value=%{x}<extra></extra>",
           "legendgroup": "Utilities & Construction",
           "marker": {
            "color": "#FF6692",
            "pattern": {
             "shape": ""
            }
           },
           "name": "Utilities & Construction",
           "orientation": "h",
           "showlegend": true,
           "textposition": "auto",
           "type": "bar",
           "x": {
            "bdata": "Rz4bAA==",
            "dtype": "i4"
           },
           "xaxis": "x",
           "y": [
            "Utilities & Construction"
           ],
           "yaxis": "y"
          }
         ],
         "name": "2014"
        },
        {
         "data": [
          {
           "hovertemplate": "Group=%{y}<br>Year=2015<br>Value=%{x}<extra></extra>",
           "legendgroup": "Health, Education & Leisure",
           "marker": {
            "color": "#636efa",
            "pattern": {
             "shape": ""
            }
           },
           "name": "Health, Education & Leisure",
           "orientation": "h",
           "showlegend": true,
           "textposition": "auto",
           "type": "bar",
           "x": {
            "bdata": "LkZEAA==",
            "dtype": "i4"
           },
           "xaxis": "x",
           "y": [
            "Health, Education & Leisure"
           ],
           "yaxis": "y"
          },
          {
           "hovertemplate": "Group=%{y}<br>Year=2015<br>Value=%{x}<extra></extra>",
           "legendgroup": "Information & Finance",
           "marker": {
            "color": "#EF553B",
            "pattern": {
             "shape": ""
            }
           },
           "name": "Information & Finance",
           "orientation": "h",
           "showlegend": true,
           "textposition": "auto",
           "type": "bar",
           "x": {
            "bdata": "PfZyAA==",
            "dtype": "i4"
           },
           "xaxis": "x",
           "y": [
            "Information & Finance"
           ],
           "yaxis": "y"
          },
          {
           "hovertemplate": "Group=%{y}<br>Year=2015<br>Value=%{x}<extra></extra>",
           "legendgroup": "Manufacturing",
           "marker": {
            "color": "#00cc96",
            "pattern": {
             "shape": ""
            }
           },
           "name": "Manufacturing",
           "orientation": "h",
           "showlegend": true,
           "textposition": "auto",
           "type": "bar",
           "x": {
            "bdata": "MF1WAA==",
            "dtype": "i4"
           },
           "xaxis": "x",
           "y": [
            "Manufacturing"
           ],
           "yaxis": "y"
          },
          {
           "hovertemplate": "Group=%{y}<br>Year=2015<br>Value=%{x}<extra></extra>",
           "legendgroup": "Primary Industries",
           "marker": {
            "color": "#ab63fa",
            "pattern": {
             "shape": ""
            }
           },
           "name": "Primary Industries",
           "orientation": "h",
           "showlegend": true,
           "textposition": "auto",
           "type": "bar",
           "x": {
            "bdata": "UlUOAA==",
            "dtype": "i4"
           },
           "xaxis": "x",
           "y": [
            "Primary Industries"
           ],
           "yaxis": "y"
          },
          {
           "hovertemplate": "Group=%{y}<br>Year=2015<br>Value=%{x}<extra></extra>",
           "legendgroup": "Professional & Public Services",
           "marker": {
            "color": "#FFA15A",
            "pattern": {
             "shape": ""
            }
           },
           "name": "Professional & Public Services",
           "orientation": "h",
           "showlegend": true,
           "textposition": "auto",
           "type": "bar",
           "x": {
            "bdata": "yEp6AA==",
            "dtype": "i4"
           },
           "xaxis": "x",
           "y": [
            "Professional & Public Services"
           ],
           "yaxis": "y"
          },
          {
           "hovertemplate": "Group=%{y}<br>Year=2015<br>Value=%{x}<extra></extra>",
           "legendgroup": "Trade & Transportation",
           "marker": {
            "color": "#19d3f3",
            "pattern": {
             "shape": ""
            }
           },
           "name": "Trade & Transportation",
           "orientation": "h",
           "showlegend": true,
           "textposition": "auto",
           "type": "bar",
           "x": {
            "bdata": "ihZIAA==",
            "dtype": "i4"
           },
           "xaxis": "x",
           "y": [
            "Trade & Transportation"
           ],
           "yaxis": "y"
          },
          {
           "hovertemplate": "Group=%{y}<br>Year=2015<br>Value=%{x}<extra></extra>",
           "legendgroup": "Utilities & Construction",
           "marker": {
            "color": "#FF6692",
            "pattern": {
             "shape": ""
            }
           },
           "name": "Utilities & Construction",
           "orientation": "h",
           "showlegend": true,
           "textposition": "auto",
           "type": "bar",
           "x": {
            "bdata": "LM4cAA==",
            "dtype": "i4"
           },
           "xaxis": "x",
           "y": [
            "Utilities & Construction"
           ],
           "yaxis": "y"
          }
         ],
         "name": "2015"
        },
        {
         "data": [
          {
           "hovertemplate": "Group=%{y}<br>Year=2016<br>Value=%{x}<extra></extra>",
           "legendgroup": "Health, Education & Leisure",
           "marker": {
            "color": "#636efa",
            "pattern": {
             "shape": ""
            }
           },
           "name": "Health, Education & Leisure",
           "orientation": "h",
           "showlegend": true,
           "textposition": "auto",
           "type": "bar",
           "x": {
            "bdata": "AZJHAA==",
            "dtype": "i4"
           },
           "xaxis": "x",
           "y": [
            "Health, Education & Leisure"
           ],
           "yaxis": "y"
          },
          {
           "hovertemplate": "Group=%{y}<br>Year=2016<br>Value=%{x}<extra></extra>",
           "legendgroup": "Information & Finance",
           "marker": {
            "color": "#EF553B",
            "pattern": {
             "shape": ""
            }
           },
           "name": "Information & Finance",
           "orientation": "h",
           "showlegend": true,
           "textposition": "auto",
           "type": "bar",
           "x": {
            "bdata": "1ft3AA==",
            "dtype": "i4"
           },
           "xaxis": "x",
           "y": [
            "Information & Finance"
           ],
           "yaxis": "y"
          },
          {
           "hovertemplate": "Group=%{y}<br>Year=2016<br>Value=%{x}<extra></extra>",
           "legendgroup": "Manufacturing",
           "marker": {
            "color": "#00cc96",
            "pattern": {
             "shape": ""
            }
           },
           "name": "Manufacturing",
           "orientation": "h",
           "showlegend": true,
           "textposition": "auto",
           "type": "bar",
           "x": {
            "bdata": "dqxTAA==",
            "dtype": "i4"
           },
           "xaxis": "x",
           "y": [
            "Manufacturing"
           ],
           "yaxis": "y"
          },
          {
           "hovertemplate": "Group=%{y}<br>Year=2016<br>Value=%{x}<extra></extra>",
           "legendgroup": "Primary Industries",
           "marker": {
            "color": "#ab63fa",
            "pattern": {
             "shape": ""
            }
           },
           "name": "Primary Industries",
           "orientation": "h",
           "showlegend": true,
           "textposition": "auto",
           "type": "bar",
           "x": {
            "bdata": "pi8MAA==",
            "dtype": "i4"
           },
           "xaxis": "x",
           "y": [
            "Primary Industries"
           ],
           "yaxis": "y"
          },
          {
           "hovertemplate": "Group=%{y}<br>Year=2016<br>Value=%{x}<extra></extra>",
           "legendgroup": "Professional & Public Services",
           "marker": {
            "color": "#FFA15A",
            "pattern": {
             "shape": ""
            }
           },
           "name": "Professional & Public Services",
           "orientation": "h",
           "showlegend": true,
           "textposition": "auto",
           "type": "bar",
           "x": {
            "bdata": "ARl+AA==",
            "dtype": "i4"
           },
           "xaxis": "x",
           "y": [
            "Professional & Public Services"
           ],
           "yaxis": "y"
          },
          {
           "hovertemplate": "Group=%{y}<br>Year=2016<br>Value=%{x}<extra></extra>",
           "legendgroup": "Trade & Transportation",
           "marker": {
            "color": "#19d3f3",
            "pattern": {
             "shape": ""
            }
           },
           "name": "Trade & Transportation",
           "orientation": "h",
           "showlegend": true,
           "textposition": "auto",
           "type": "bar",
           "x": {
            "bdata": "r7tJAA==",
            "dtype": "i4"
           },
           "xaxis": "x",
           "y": [
            "Trade & Transportation"
           ],
           "yaxis": "y"
          },
          {
           "hovertemplate": "Group=%{y}<br>Year=2016<br>Value=%{x}<extra></extra>",
           "legendgroup": "Utilities & Construction",
           "marker": {
            "color": "#FF6692",
            "pattern": {
             "shape": ""
            }
           },
           "name": "Utilities & Construction",
           "orientation": "h",
           "showlegend": true,
           "textposition": "auto",
           "type": "bar",
           "x": {
            "bdata": "3TIeAA==",
            "dtype": "i4"
           },
           "xaxis": "x",
           "y": [
            "Utilities & Construction"
           ],
           "yaxis": "y"
          }
         ],
         "name": "2016"
        },
        {
         "data": [
          {
           "hovertemplate": "Group=%{y}<br>Year=2017<br>Value=%{x}<extra></extra>",
           "legendgroup": "Health, Education & Leisure",
           "marker": {
            "color": "#636efa",
            "pattern": {
             "shape": ""
            }
           },
           "name": "Health, Education & Leisure",
           "orientation": "h",
           "showlegend": true,
           "textposition": "auto",
           "type": "bar",
           "x": {
            "bdata": "qdxKAA==",
            "dtype": "i4"
           },
           "xaxis": "x",
           "y": [
            "Health, Education & Leisure"
           ],
           "yaxis": "y"
          },
          {
           "hovertemplate": "Group=%{y}<br>Year=2017<br>Value=%{x}<extra></extra>",
           "legendgroup": "Information & Finance",
           "marker": {
            "color": "#EF553B",
            "pattern": {
             "shape": ""
            }
           },
           "name": "Information & Finance",
           "orientation": "h",
           "showlegend": true,
           "textposition": "auto",
           "type": "bar",
           "x": {
            "bdata": "O2d9AA==",
            "dtype": "i4"
           },
           "xaxis": "x",
           "y": [
            "Information & Finance"
           ],
           "yaxis": "y"
          },
          {
           "hovertemplate": "Group=%{y}<br>Year=2017<br>Value=%{x}<extra></extra>",
           "legendgroup": "Manufacturing",
           "marker": {
            "color": "#00cc96",
            "pattern": {
             "shape": ""
            }
           },
           "name": "Manufacturing",
           "orientation": "h",
           "showlegend": true,
           "textposition": "auto",
           "type": "bar",
           "x": {
            "bdata": "N55WAA==",
            "dtype": "i4"
           },
           "xaxis": "x",
           "y": [
            "Manufacturing"
           ],
           "yaxis": "y"
          },
          {
           "hovertemplate": "Group=%{y}<br>Year=2017<br>Value=%{x}<extra></extra>",
           "legendgroup": "Primary Industries",
           "marker": {
            "color": "#ab63fa",
            "pattern": {
             "shape": ""
            }
           },
           "name": "Primary Industries",
           "orientation": "h",
           "showlegend": true,
           "textposition": "auto",
           "type": "bar",
           "x": {
            "bdata": "RukNAA==",
            "dtype": "i4"
           },
           "xaxis": "x",
           "y": [
            "Primary Industries"
           ],
           "yaxis": "y"
          },
          {
           "hovertemplate": "Group=%{y}<br>Year=2017<br>Value=%{x}<extra></extra>",
           "legendgroup": "Professional & Public Services",
           "marker": {
            "color": "#FFA15A",
            "pattern": {
             "shape": ""
            }
           },
           "name": "Professional & Public Services",
           "orientation": "h",
           "showlegend": true,
           "textposition": "auto",
           "type": "bar",
           "x": {
            "bdata": "o02DAA==",
            "dtype": "i4"
           },
           "xaxis": "x",
           "y": [
            "Professional & Public Services"
           ],
           "yaxis": "y"
          },
          {
           "hovertemplate": "Group=%{y}<br>Year=2017<br>Value=%{x}<extra></extra>",
           "legendgroup": "Trade & Transportation",
           "marker": {
            "color": "#19d3f3",
            "pattern": {
             "shape": ""
            }
           },
           "name": "Trade & Transportation",
           "orientation": "h",
           "showlegend": true,
           "textposition": "auto",
           "type": "bar",
           "x": {
            "bdata": "Nj5OAA==",
            "dtype": "i4"
           },
           "xaxis": "x",
           "y": [
            "Trade & Transportation"
           ],
           "yaxis": "y"
          },
          {
           "hovertemplate": "Group=%{y}<br>Year=2017<br>Value=%{x}<extra></extra>",
           "legendgroup": "Utilities & Construction",
           "marker": {
            "color": "#FF6692",
            "pattern": {
             "shape": ""
            }
           },
           "name": "Utilities & Construction",
           "orientation": "h",
           "showlegend": true,
           "textposition": "auto",
           "type": "bar",
           "x": {
            "bdata": "9U8fAA==",
            "dtype": "i4"
           },
           "xaxis": "x",
           "y": [
            "Utilities & Construction"
           ],
           "yaxis": "y"
          }
         ],
         "name": "2017"
        },
        {
         "data": [
          {
           "hovertemplate": "Group=%{y}<br>Year=2018<br>Value=%{x}<extra></extra>",
           "legendgroup": "Health, Education & Leisure",
           "marker": {
            "color": "#636efa",
            "pattern": {
             "shape": ""
            }
           },
           "name": "Health, Education & Leisure",
           "orientation": "h",
           "showlegend": true,
           "textposition": "auto",
           "type": "bar",
           "x": {
            "bdata": "QTZOAA==",
            "dtype": "i4"
           },
           "xaxis": "x",
           "y": [
            "Health, Education & Leisure"
           ],
           "yaxis": "y"
          },
          {
           "hovertemplate": "Group=%{y}<br>Year=2018<br>Value=%{x}<extra></extra>",
           "legendgroup": "Information & Finance",
           "marker": {
            "color": "#EF553B",
            "pattern": {
             "shape": ""
            }
           },
           "name": "Information & Finance",
           "orientation": "h",
           "showlegend": true,
           "textposition": "auto",
           "type": "bar",
           "x": {
            "bdata": "lgiEAA==",
            "dtype": "i4"
           },
           "xaxis": "x",
           "y": [
            "Information & Finance"
           ],
           "yaxis": "y"
          },
          {
           "hovertemplate": "Group=%{y}<br>Year=2018<br>Value=%{x}<extra></extra>",
           "legendgroup": "Manufacturing",
           "marker": {
            "color": "#00cc96",
            "pattern": {
             "shape": ""
            }
           },
           "name": "Manufacturing",
           "orientation": "h",
           "showlegend": true,
           "textposition": "auto",
           "type": "bar",
           "x": {
            "bdata": "KzdcAA==",
            "dtype": "i4"
           },
           "xaxis": "x",
           "y": [
            "Manufacturing"
           ],
           "yaxis": "y"
          },
          {
           "hovertemplate": "Group=%{y}<br>Year=2018<br>Value=%{x}<extra></extra>",
           "legendgroup": "Primary Industries",
           "marker": {
            "color": "#ab63fa",
            "pattern": {
             "shape": ""
            }
           },
           "name": "Primary Industries",
           "orientation": "h",
           "showlegend": true,
           "textposition": "auto",
           "type": "bar",
           "x": {
            "bdata": "4cUPAA==",
            "dtype": "i4"
           },
           "xaxis": "x",
           "y": [
            "Primary Industries"
           ],
           "yaxis": "y"
          },
          {
           "hovertemplate": "Group=%{y}<br>Year=2018<br>Value=%{x}<extra></extra>",
           "legendgroup": "Professional & Public Services",
           "marker": {
            "color": "#FFA15A",
            "pattern": {
             "shape": ""
            }
           },
           "name": "Professional & Public Services",
           "orientation": "h",
           "showlegend": true,
           "textposition": "auto",
           "type": "bar",
           "x": {
            "bdata": "iAGLAA==",
            "dtype": "i4"
           },
           "xaxis": "x",
           "y": [
            "Professional & Public Services"
           ],
           "yaxis": "y"
          },
          {
           "hovertemplate": "Group=%{y}<br>Year=2018<br>Value=%{x}<extra></extra>",
           "legendgroup": "Trade & Transportation",
           "marker": {
            "color": "#19d3f3",
            "pattern": {
             "shape": ""
            }
           },
           "name": "Trade & Transportation",
           "orientation": "h",
           "showlegend": true,
           "textposition": "auto",
           "type": "bar",
           "x": {
            "bdata": "riJTAA==",
            "dtype": "i4"
           },
           "xaxis": "x",
           "y": [
            "Trade & Transportation"
           ],
           "yaxis": "y"
          },
          {
           "hovertemplate": "Group=%{y}<br>Year=2018<br>Value=%{x}<extra></extra>",
           "legendgroup": "Utilities & Construction",
           "marker": {
            "color": "#FF6692",
            "pattern": {
             "shape": ""
            }
           },
           "name": "Utilities & Construction",
           "orientation": "h",
           "showlegend": true,
           "textposition": "auto",
           "type": "bar",
           "x": {
            "bdata": "rzkhAA==",
            "dtype": "i4"
           },
           "xaxis": "x",
           "y": [
            "Utilities & Construction"
           ],
           "yaxis": "y"
          }
         ],
         "name": "2018"
        },
        {
         "data": [
          {
           "hovertemplate": "Group=%{y}<br>Year=2019<br>Value=%{x}<extra></extra>",
           "legendgroup": "Health, Education & Leisure",
           "marker": {
            "color": "#636efa",
            "pattern": {
             "shape": ""
            }
           },
           "name": "Health, Education & Leisure",
           "orientation": "h",
           "showlegend": true,
           "textposition": "auto",
           "type": "bar",
           "x": {
            "bdata": "+wJSAA==",
            "dtype": "i4"
           },
           "xaxis": "x",
           "y": [
            "Health, Education & Leisure"
           ],
           "yaxis": "y"
          },
          {
           "hovertemplate": "Group=%{y}<br>Year=2019<br>Value=%{x}<extra></extra>",
           "legendgroup": "Information & Finance",
           "marker": {
            "color": "#EF553B",
            "pattern": {
             "shape": ""
            }
           },
           "name": "Information & Finance",
           "orientation": "h",
           "showlegend": true,
           "textposition": "auto",
           "type": "bar",
           "x": {
            "bdata": "CL2JAA==",
            "dtype": "i4"
           },
           "xaxis": "x",
           "y": [
            "Information & Finance"
           ],
           "yaxis": "y"
          },
          {
           "hovertemplate": "Group=%{y}<br>Year=2019<br>Value=%{x}<extra></extra>",
           "legendgroup": "Manufacturing",
           "marker": {
            "color": "#00cc96",
            "pattern": {
             "shape": ""
            }
           },
           "name": "Manufacturing",
           "orientation": "h",
           "showlegend": true,
           "textposition": "auto",
           "type": "bar",
           "x": {
            "bdata": "k6haAA==",
            "dtype": "i4"
           },
           "xaxis": "x",
           "y": [
            "Manufacturing"
           ],
           "yaxis": "y"
          },
          {
           "hovertemplate": "Group=%{y}<br>Year=2019<br>Value=%{x}<extra></extra>",
           "legendgroup": "Primary Industries",
           "marker": {
            "color": "#ab63fa",
            "pattern": {
             "shape": ""
            }
           },
           "name": "Primary Industries",
           "orientation": "h",
           "showlegend": true,
           "textposition": "auto",
           "type": "bar",
           "x": {
            "bdata": "rTUPAA==",
            "dtype": "i4"
           },
           "xaxis": "x",
           "y": [
            "Primary Industries"
           ],
           "yaxis": "y"
          },
          {
           "hovertemplate": "Group=%{y}<br>Year=2019<br>Value=%{x}<extra></extra>",
           "legendgroup": "Professional & Public Services",
           "marker": {
            "color": "#FFA15A",
            "pattern": {
             "shape": ""
            }
           },
           "name": "Professional & Public Services",
           "orientation": "h",
           "showlegend": true,
           "textposition": "auto",
           "type": "bar",
           "x": {
            "bdata": "hF+SAA==",
            "dtype": "i4"
           },
           "xaxis": "x",
           "y": [
            "Professional & Public Services"
           ],
           "yaxis": "y"
          },
          {
           "hovertemplate": "Group=%{y}<br>Year=2019<br>Value=%{x}<extra></extra>",
           "legendgroup": "Trade & Transportation",
           "marker": {
            "color": "#19d3f3",
            "pattern": {
             "shape": ""
            }
           },
           "name": "Trade & Transportation",
           "orientation": "h",
           "showlegend": true,
           "textposition": "auto",
           "type": "bar",
           "x": {
            "bdata": "ArxVAA==",
            "dtype": "i4"
           },
           "xaxis": "x",
           "y": [
            "Trade & Transportation"
           ],
           "yaxis": "y"
          },
          {
           "hovertemplate": "Group=%{y}<br>Year=2019<br>Value=%{x}<extra></extra>",
           "legendgroup": "Utilities & Construction",
           "marker": {
            "color": "#FF6692",
            "pattern": {
             "shape": ""
            }
           },
           "name": "Utilities & Construction",
           "orientation": "h",
           "showlegend": true,
           "textposition": "auto",
           "type": "bar",
           "x": {
            "bdata": "lVUiAA==",
            "dtype": "i4"
           },
           "xaxis": "x",
           "y": [
            "Utilities & Construction"
           ],
           "yaxis": "y"
          }
         ],
         "name": "2019"
        },
        {
         "data": [
          {
           "hovertemplate": "Group=%{y}<br>Year=2020<br>Value=%{x}<extra></extra>",
           "legendgroup": "Health, Education & Leisure",
           "marker": {
            "color": "#636efa",
            "pattern": {
             "shape": ""
            }
           },
           "name": "Health, Education & Leisure",
           "orientation": "h",
           "showlegend": true,
           "textposition": "auto",
           "type": "bar",
           "x": {
            "bdata": "CU9KAA==",
            "dtype": "i4"
           },
           "xaxis": "x",
           "y": [
            "Health, Education & Leisure"
           ],
           "yaxis": "y"
          },
          {
           "hovertemplate": "Group=%{y}<br>Year=2020<br>Value=%{x}<extra></extra>",
           "legendgroup": "Information & Finance",
           "marker": {
            "color": "#EF553B",
            "pattern": {
             "shape": ""
            }
           },
           "name": "Information & Finance",
           "orientation": "h",
           "showlegend": true,
           "textposition": "auto",
           "type": "bar",
           "x": {
            "bdata": "2AiOAA==",
            "dtype": "i4"
           },
           "xaxis": "x",
           "y": [
            "Information & Finance"
           ],
           "yaxis": "y"
          },
          {
           "hovertemplate": "Group=%{y}<br>Year=2020<br>Value=%{x}<extra></extra>",
           "legendgroup": "Manufacturing",
           "marker": {
            "color": "#00cc96",
            "pattern": {
             "shape": ""
            }
           },
           "name": "Manufacturing",
           "orientation": "h",
           "showlegend": true,
           "textposition": "auto",
           "type": "bar",
           "x": {
            "bdata": "15BSAA==",
            "dtype": "i4"
           },
           "xaxis": "x",
           "y": [
            "Manufacturing"
           ],
           "yaxis": "y"
          },
          {
           "hovertemplate": "Group=%{y}<br>Year=2020<br>Value=%{x}<extra></extra>",
           "legendgroup": "Primary Industries",
           "marker": {
            "color": "#ab63fa",
            "pattern": {
             "shape": ""
            }
           },
           "name": "Primary Industries",
           "orientation": "h",
           "showlegend": true,
           "textposition": "auto",
           "type": "bar",
           "x": {
            "bdata": "jaYMAA==",
            "dtype": "i4"
           },
           "xaxis": "x",
           "y": [
            "Primary Industries"
           ],
           "yaxis": "y"
          },
          {
           "hovertemplate": "Group=%{y}<br>Year=2020<br>Value=%{x}<extra></extra>",
           "legendgroup": "Professional & Public Services",
           "marker": {
            "color": "#FFA15A",
            "pattern": {
             "shape": ""
            }
           },
           "name": "Professional & Public Services",
           "orientation": "h",
           "showlegend": true,
           "textposition": "auto",
           "type": "bar",
           "x": {
            "bdata": "5YKVAA==",
            "dtype": "i4"
           },
           "xaxis": "x",
           "y": [
            "Professional & Public Services"
           ],
           "yaxis": "y"
          },
          {
           "hovertemplate": "Group=%{y}<br>Year=2020<br>Value=%{x}<extra></extra>",
           "legendgroup": "Trade & Transportation",
           "marker": {
            "color": "#19d3f3",
            "pattern": {
             "shape": ""
            }
           },
           "name": "Trade & Transportation",
           "orientation": "h",
           "showlegend": true,
           "textposition": "auto",
           "type": "bar",
           "x": {
            "bdata": "rYpSAA==",
            "dtype": "i4"
           },
           "xaxis": "x",
           "y": [
            "Trade & Transportation"
           ],
           "yaxis": "y"
          },
          {
           "hovertemplate": "Group=%{y}<br>Year=2020<br>Value=%{x}<extra></extra>",
           "legendgroup": "Utilities & Construction",
           "marker": {
            "color": "#FF6692",
            "pattern": {
             "shape": ""
            }
           },
           "name": "Utilities & Construction",
           "orientation": "h",
           "showlegend": true,
           "textposition": "auto",
           "type": "bar",
           "x": {
            "bdata": "QCkjAA==",
            "dtype": "i4"
           },
           "xaxis": "x",
           "y": [
            "Utilities & Construction"
           ],
           "yaxis": "y"
          }
         ],
         "name": "2020"
        },
        {
         "data": [
          {
           "hovertemplate": "Group=%{y}<br>Year=2021<br>Value=%{x}<extra></extra>",
           "legendgroup": "Health, Education & Leisure",
           "marker": {
            "color": "#636efa",
            "pattern": {
             "shape": ""
            }
           },
           "name": "Health, Education & Leisure",
           "orientation": "h",
           "showlegend": true,
           "textposition": "auto",
           "type": "bar",
           "x": {
            "bdata": "QCNWAA==",
            "dtype": "i4"
           },
           "xaxis": "x",
           "y": [
            "Health, Education & Leisure"
           ],
           "yaxis": "y"
          },
          {
           "hovertemplate": "Group=%{y}<br>Year=2021<br>Value=%{x}<extra></extra>",
           "legendgroup": "Information & Finance",
           "marker": {
            "color": "#EF553B",
            "pattern": {
             "shape": ""
            }
           },
           "name": "Information & Finance",
           "orientation": "h",
           "showlegend": true,
           "textposition": "auto",
           "type": "bar",
           "x": {
            "bdata": "te2cAA==",
            "dtype": "i4"
           },
           "xaxis": "x",
           "y": [
            "Information & Finance"
           ],
           "yaxis": "y"
          },
          {
           "hovertemplate": "Group=%{y}<br>Year=2021<br>Value=%{x}<extra></extra>",
           "legendgroup": "Manufacturing",
           "marker": {
            "color": "#00cc96",
            "pattern": {
             "shape": ""
            }
           },
           "name": "Manufacturing",
           "orientation": "h",
           "showlegend": true,
           "textposition": "auto",
           "type": "bar",
           "x": {
            "bdata": "ZvNfAA==",
            "dtype": "i4"
           },
           "xaxis": "x",
           "y": [
            "Manufacturing"
           ],
           "yaxis": "y"
          },
          {
           "hovertemplate": "Group=%{y}<br>Year=2021<br>Value=%{x}<extra></extra>",
           "legendgroup": "Primary Industries",
           "marker": {
            "color": "#ab63fa",
            "pattern": {
             "shape": ""
            }
           },
           "name": "Primary Industries",
           "orientation": "h",
           "showlegend": true,
           "textposition": "auto",
           "type": "bar",
           "x": {
            "bdata": "Wm4RAA==",
            "dtype": "i4"
           },
           "xaxis": "x",
           "y": [
            "Primary Industries"
           ],
           "yaxis": "y"
          },
          {
           "hovertemplate": "Group=%{y}<br>Year=2021<br>Value=%{x}<extra></extra>",
           "legendgroup": "Professional & Public Services",
           "marker": {
            "color": "#FFA15A",
            "pattern": {
             "shape": ""
            }
           },
           "name": "Professional & Public Services",
           "orientation": "h",
           "showlegend": true,
           "textposition": "auto",
           "type": "bar",
           "x": {
            "bdata": "ueSiAA==",
            "dtype": "i4"
           },
           "xaxis": "x",
           "y": [
            "Professional & Public Services"
           ],
           "yaxis": "y"
          },
          {
           "hovertemplate": "Group=%{y}<br>Year=2021<br>Value=%{x}<extra></extra>",
           "legendgroup": "Trade & Transportation",
           "marker": {
            "color": "#19d3f3",
            "pattern": {
             "shape": ""
            }
           },
           "name": "Trade & Transportation",
           "orientation": "h",
           "showlegend": true,
           "textposition": "auto",
           "type": "bar",
           "x": {
            "bdata": "QRBjAA==",
            "dtype": "i4"
           },
           "xaxis": "x",
           "y": [
            "Trade & Transportation"
           ],
           "yaxis": "y"
          },
          {
           "hovertemplate": "Group=%{y}<br>Year=2021<br>Value=%{x}<extra></extra>",
           "legendgroup": "Utilities & Construction",
           "marker": {
            "color": "#FF6692",
            "pattern": {
             "shape": ""
            }
           },
           "name": "Utilities & Construction",
           "orientation": "h",
           "showlegend": true,
           "textposition": "auto",
           "type": "bar",
           "x": {
            "bdata": "K28nAA==",
            "dtype": "i4"
           },
           "xaxis": "x",
           "y": [
            "Utilities & Construction"
           ],
           "yaxis": "y"
          }
         ],
         "name": "2021"
        },
        {
         "data": [
          {
           "hovertemplate": "Group=%{y}<br>Year=2022<br>Value=%{x}<extra></extra>",
           "legendgroup": "Health, Education & Leisure",
           "marker": {
            "color": "#636efa",
            "pattern": {
             "shape": ""
            }
           },
           "name": "Health, Education & Leisure",
           "orientation": "h",
           "showlegend": true,
           "textposition": "auto",
           "type": "bar",
           "x": {
            "bdata": "SzxhAA==",
            "dtype": "i4"
           },
           "xaxis": "x",
           "y": [
            "Health, Education & Leisure"
           ],
           "yaxis": "y"
          },
          {
           "hovertemplate": "Group=%{y}<br>Year=2022<br>Value=%{x}<extra></extra>",
           "legendgroup": "Information & Finance",
           "marker": {
            "color": "#EF553B",
            "pattern": {
             "shape": ""
            }
           },
           "name": "Information & Finance",
           "orientation": "h",
           "showlegend": true,
           "textposition": "auto",
           "type": "bar",
           "x": {
            "bdata": "//2oAA==",
            "dtype": "i4"
           },
           "xaxis": "x",
           "y": [
            "Information & Finance"
           ],
           "yaxis": "y"
          },
          {
           "hovertemplate": "Group=%{y}<br>Year=2022<br>Value=%{x}<extra></extra>",
           "legendgroup": "Manufacturing",
           "marker": {
            "color": "#00cc96",
            "pattern": {
             "shape": ""
            }
           },
           "name": "Manufacturing",
           "orientation": "h",
           "showlegend": true,
           "textposition": "auto",
           "type": "bar",
           "x": {
            "bdata": "dkdtAA==",
            "dtype": "i4"
           },
           "xaxis": "x",
           "y": [
            "Manufacturing"
           ],
           "yaxis": "y"
          },
          {
           "hovertemplate": "Group=%{y}<br>Year=2022<br>Value=%{x}<extra></extra>",
           "legendgroup": "Primary Industries",
           "marker": {
            "color": "#ab63fa",
            "pattern": {
             "shape": ""
            }
           },
           "name": "Primary Industries",
           "orientation": "h",
           "showlegend": true,
           "textposition": "auto",
           "type": "bar",
           "x": {
            "bdata": "cR8XAA==",
            "dtype": "i4"
           },
           "xaxis": "x",
           "y": [
            "Primary Industries"
           ],
           "yaxis": "y"
          },
          {
           "hovertemplate": "Group=%{y}<br>Year=2022<br>Value=%{x}<extra></extra>",
           "legendgroup": "Professional & Public Services",
           "marker": {
            "color": "#FFA15A",
            "pattern": {
             "shape": ""
            }
           },
           "name": "Professional & Public Services",
           "orientation": "h",
           "showlegend": true,
           "textposition": "auto",
           "type": "bar",
           "x": {
            "bdata": "ubqwAA==",
            "dtype": "i4"
           },
           "xaxis": "x",
           "y": [
            "Professional & Public Services"
           ],
           "yaxis": "y"
          },
          {
           "hovertemplate": "Group=%{y}<br>Year=2022<br>Value=%{x}<extra></extra>",
           "legendgroup": "Trade & Transportation",
           "marker": {
            "color": "#19d3f3",
            "pattern": {
             "shape": ""
            }
           },
           "name": "Trade & Transportation",
           "orientation": "h",
           "showlegend": true,
           "textposition": "auto",
           "type": "bar",
           "x": {
            "bdata": "OI5wAA==",
            "dtype": "i4"
           },
           "xaxis": "x",
           "y": [
            "Trade & Transportation"
           ],
           "yaxis": "y"
          },
          {
           "hovertemplate": "Group=%{y}<br>Year=2022<br>Value=%{x}<extra></extra>",
           "legendgroup": "Utilities & Construction",
           "marker": {
            "color": "#FF6692",
            "pattern": {
             "shape": ""
            }
           },
           "name": "Utilities & Construction",
           "orientation": "h",
           "showlegend": true,
           "textposition": "auto",
           "type": "bar",
           "x": {
            "bdata": "0CcsAA==",
            "dtype": "i4"
           },
           "xaxis": "x",
           "y": [
            "Utilities & Construction"
           ],
           "yaxis": "y"
          }
         ],
         "name": "2022"
        },
        {
         "data": [
          {
           "hovertemplate": "Group=%{y}<br>Year=2023<br>Value=%{x}<extra></extra>",
           "legendgroup": "Health, Education & Leisure",
           "marker": {
            "color": "#636efa",
            "pattern": {
             "shape": ""
            }
           },
           "name": "Health, Education & Leisure",
           "orientation": "h",
           "showlegend": true,
           "textposition": "auto",
           "type": "bar",
           "x": {
            "bdata": "u0pqAA==",
            "dtype": "i4"
           },
           "xaxis": "x",
           "y": [
            "Health, Education & Leisure"
           ],
           "yaxis": "y"
          },
          {
           "hovertemplate": "Group=%{y}<br>Year=2023<br>Value=%{x}<extra></extra>",
           "legendgroup": "Information & Finance",
           "marker": {
            "color": "#EF553B",
            "pattern": {
             "shape": ""
            }
           },
           "name": "Information & Finance",
           "orientation": "h",
           "showlegend": true,
           "textposition": "auto",
           "type": "bar",
           "x": {
            "bdata": "oeG0AA==",
            "dtype": "i4"
           },
           "xaxis": "x",
           "y": [
            "Information & Finance"
           ],
           "yaxis": "y"
          },
          {
           "hovertemplate": "Group=%{y}<br>Year=2023<br>Value=%{x}<extra></extra>",
           "legendgroup": "Manufacturing",
           "marker": {
            "color": "#00cc96",
            "pattern": {
             "shape": ""
            }
           },
           "name": "Manufacturing",
           "orientation": "h",
           "showlegend": true,
           "textposition": "auto",
           "type": "bar",
           "x": {
            "bdata": "wwduAA==",
            "dtype": "i4"
           },
           "xaxis": "x",
           "y": [
            "Manufacturing"
           ],
           "yaxis": "y"
          },
          {
           "hovertemplate": "Group=%{y}<br>Year=2023<br>Value=%{x}<extra></extra>",
           "legendgroup": "Primary Industries",
           "marker": {
            "color": "#ab63fa",
            "pattern": {
             "shape": ""
            }
           },
           "name": "Primary Industries",
           "orientation": "h",
           "showlegend": true,
           "textposition": "auto",
           "type": "bar",
           "x": {
            "bdata": "23YUAA==",
            "dtype": "i4"
           },
           "xaxis": "x",
           "y": [
            "Primary Industries"
           ],
           "yaxis": "y"
          },
          {
           "hovertemplate": "Group=%{y}<br>Year=2023<br>Value=%{x}<extra></extra>",
           "legendgroup": "Professional & Public Services",
           "marker": {
            "color": "#FFA15A",
            "pattern": {
             "shape": ""
            }
           },
           "name": "Professional & Public Services",
           "orientation": "h",
           "showlegend": true,
           "textposition": "auto",
           "type": "bar",
           "x": {
            "bdata": "boq4AA==",
            "dtype": "i4"
           },
           "xaxis": "x",
           "y": [
            "Professional & Public Services"
           ],
           "yaxis": "y"
          },
          {
           "hovertemplate": "Group=%{y}<br>Year=2023<br>Value=%{x}<extra></extra>",
           "legendgroup": "Trade & Transportation",
           "marker": {
            "color": "#19d3f3",
            "pattern": {
             "shape": ""
            }
           },
           "name": "Trade & Transportation",
           "orientation": "h",
           "showlegend": true,
           "textposition": "auto",
           "type": "bar",
           "x": {
            "bdata": "dF5wAA==",
            "dtype": "i4"
           },
           "xaxis": "x",
           "y": [
            "Trade & Transportation"
           ],
           "yaxis": "y"
          },
          {
           "hovertemplate": "Group=%{y}<br>Year=2023<br>Value=%{x}<extra></extra>",
           "legendgroup": "Utilities & Construction",
           "marker": {
            "color": "#FF6692",
            "pattern": {
             "shape": ""
            }
           },
           "name": "Utilities & Construction",
           "orientation": "h",
           "showlegend": true,
           "textposition": "auto",
           "type": "bar",
           "x": {
            "bdata": "s2ktAA==",
            "dtype": "i4"
           },
           "xaxis": "x",
           "y": [
            "Utilities & Construction"
           ],
           "yaxis": "y"
          }
         ],
         "name": "2023"
        }
       ],
       "layout": {
        "barmode": "relative",
        "legend": {
         "title": {
          "text": "Group"
         },
         "tracegroupgap": 0
        },
        "margin": {
         "b": 40,
         "l": 100,
         "r": 40,
         "t": 40
        },
        "showlegend": false,
        "sliders": [
         {
          "active": 0,
          "currentvalue": {
           "prefix": "Year="
          },
          "len": 0.9,
          "pad": {
           "b": 10,
           "t": 60
          },
          "steps": [
           {
            "args": [
             [
              "1997"
             ],
             {
              "frame": {
               "duration": 0,
               "redraw": true
              },
              "fromcurrent": true,
              "mode": "immediate",
              "transition": {
               "duration": 0,
               "easing": "linear"
              }
             }
            ],
            "label": "1997",
            "method": "animate"
           },
           {
            "args": [
             [
              "1998"
             ],
             {
              "frame": {
               "duration": 0,
               "redraw": true
              },
              "fromcurrent": true,
              "mode": "immediate",
              "transition": {
               "duration": 0,
               "easing": "linear"
              }
             }
            ],
            "label": "1998",
            "method": "animate"
           },
           {
            "args": [
             [
              "1999"
             ],
             {
              "frame": {
               "duration": 0,
               "redraw": true
              },
              "fromcurrent": true,
              "mode": "immediate",
              "transition": {
               "duration": 0,
               "easing": "linear"
              }
             }
            ],
            "label": "1999",
            "method": "animate"
           },
           {
            "args": [
             [
              "2000"
             ],
             {
              "frame": {
               "duration": 0,
               "redraw": true
              },
              "fromcurrent": true,
              "mode": "immediate",
              "transition": {
               "duration": 0,
               "easing": "linear"
              }
             }
            ],
            "label": "2000",
            "method": "animate"
           },
           {
            "args": [
             [
              "2001"
             ],
             {
              "frame": {
               "duration": 0,
               "redraw": true
              },
              "fromcurrent": true,
              "mode": "immediate",
              "transition": {
               "duration": 0,
               "easing": "linear"
              }
             }
            ],
            "label": "2001",
            "method": "animate"
           },
           {
            "args": [
             [
              "2002"
             ],
             {
              "frame": {
               "duration": 0,
               "redraw": true
              },
              "fromcurrent": true,
              "mode": "immediate",
              "transition": {
               "duration": 0,
               "easing": "linear"
              }
             }
            ],
            "label": "2002",
            "method": "animate"
           },
           {
            "args": [
             [
              "2003"
             ],
             {
              "frame": {
               "duration": 0,
               "redraw": true
              },
              "fromcurrent": true,
              "mode": "immediate",
              "transition": {
               "duration": 0,
               "easing": "linear"
              }
             }
            ],
            "label": "2003",
            "method": "animate"
           },
           {
            "args": [
             [
              "2004"
             ],
             {
              "frame": {
               "duration": 0,
               "redraw": true
              },
              "fromcurrent": true,
              "mode": "immediate",
              "transition": {
               "duration": 0,
               "easing": "linear"
              }
             }
            ],
            "label": "2004",
            "method": "animate"
           },
           {
            "args": [
             [
              "2005"
             ],
             {
              "frame": {
               "duration": 0,
               "redraw": true
              },
              "fromcurrent": true,
              "mode": "immediate",
              "transition": {
               "duration": 0,
               "easing": "linear"
              }
             }
            ],
            "label": "2005",
            "method": "animate"
           },
           {
            "args": [
             [
              "2006"
             ],
             {
              "frame": {
               "duration": 0,
               "redraw": true
              },
              "fromcurrent": true,
              "mode": "immediate",
              "transition": {
               "duration": 0,
               "easing": "linear"
              }
             }
            ],
            "label": "2006",
            "method": "animate"
           },
           {
            "args": [
             [
              "2007"
             ],
             {
              "frame": {
               "duration": 0,
               "redraw": true
              },
              "fromcurrent": true,
              "mode": "immediate",
              "transition": {
               "duration": 0,
               "easing": "linear"
              }
             }
            ],
            "label": "2007",
            "method": "animate"
           },
           {
            "args": [
             [
              "2008"
             ],
             {
              "frame": {
               "duration": 0,
               "redraw": true
              },
              "fromcurrent": true,
              "mode": "immediate",
              "transition": {
               "duration": 0,
               "easing": "linear"
              }
             }
            ],
            "label": "2008",
            "method": "animate"
           },
           {
            "args": [
             [
              "2009"
             ],
             {
              "frame": {
               "duration": 0,
               "redraw": true
              },
              "fromcurrent": true,
              "mode": "immediate",
              "transition": {
               "duration": 0,
               "easing": "linear"
              }
             }
            ],
            "label": "2009",
            "method": "animate"
           },
           {
            "args": [
             [
              "2010"
             ],
             {
              "frame": {
               "duration": 0,
               "redraw": true
              },
              "fromcurrent": true,
              "mode": "immediate",
              "transition": {
               "duration": 0,
               "easing": "linear"
              }
             }
            ],
            "label": "2010",
            "method": "animate"
           },
           {
            "args": [
             [
              "2011"
             ],
             {
              "frame": {
               "duration": 0,
               "redraw": true
              },
              "fromcurrent": true,
              "mode": "immediate",
              "transition": {
               "duration": 0,
               "easing": "linear"
              }
             }
            ],
            "label": "2011",
            "method": "animate"
           },
           {
            "args": [
             [
              "2012"
             ],
             {
              "frame": {
               "duration": 0,
               "redraw": true
              },
              "fromcurrent": true,
              "mode": "immediate",
              "transition": {
               "duration": 0,
               "easing": "linear"
              }
             }
            ],
            "label": "2012",
            "method": "animate"
           },
           {
            "args": [
             [
              "2013"
             ],
             {
              "frame": {
               "duration": 0,
               "redraw": true
              },
              "fromcurrent": true,
              "mode": "immediate",
              "transition": {
               "duration": 0,
               "easing": "linear"
              }
             }
            ],
            "label": "2013",
            "method": "animate"
           },
           {
            "args": [
             [
              "2014"
             ],
             {
              "frame": {
               "duration": 0,
               "redraw": true
              },
              "fromcurrent": true,
              "mode": "immediate",
              "transition": {
               "duration": 0,
               "easing": "linear"
              }
             }
            ],
            "label": "2014",
            "method": "animate"
           },
           {
            "args": [
             [
              "2015"
             ],
             {
              "frame": {
               "duration": 0,
               "redraw": true
              },
              "fromcurrent": true,
              "mode": "immediate",
              "transition": {
               "duration": 0,
               "easing": "linear"
              }
             }
            ],
            "label": "2015",
            "method": "animate"
           },
           {
            "args": [
             [
              "2016"
             ],
             {
              "frame": {
               "duration": 0,
               "redraw": true
              },
              "fromcurrent": true,
              "mode": "immediate",
              "transition": {
               "duration": 0,
               "easing": "linear"
              }
             }
            ],
            "label": "2016",
            "method": "animate"
           },
           {
            "args": [
             [
              "2017"
             ],
             {
              "frame": {
               "duration": 0,
               "redraw": true
              },
              "fromcurrent": true,
              "mode": "immediate",
              "transition": {
               "duration": 0,
               "easing": "linear"
              }
             }
            ],
            "label": "2017",
            "method": "animate"
           },
           {
            "args": [
             [
              "2018"
             ],
             {
              "frame": {
               "duration": 0,
               "redraw": true
              },
              "fromcurrent": true,
              "mode": "immediate",
              "transition": {
               "duration": 0,
               "easing": "linear"
              }
             }
            ],
            "label": "2018",
            "method": "animate"
           },
           {
            "args": [
             [
              "2019"
             ],
             {
              "frame": {
               "duration": 0,
               "redraw": true
              },
              "fromcurrent": true,
              "mode": "immediate",
              "transition": {
               "duration": 0,
               "easing": "linear"
              }
             }
            ],
            "label": "2019",
            "method": "animate"
           },
           {
            "args": [
             [
              "2020"
             ],
             {
              "frame": {
               "duration": 0,
               "redraw": true
              },
              "fromcurrent": true,
              "mode": "immediate",
              "transition": {
               "duration": 0,
               "easing": "linear"
              }
             }
            ],
            "label": "2020",
            "method": "animate"
           },
           {
            "args": [
             [
              "2021"
             ],
             {
              "frame": {
               "duration": 0,
               "redraw": true
              },
              "fromcurrent": true,
              "mode": "immediate",
              "transition": {
               "duration": 0,
               "easing": "linear"
              }
             }
            ],
            "label": "2021",
            "method": "animate"
           },
           {
            "args": [
             [
              "2022"
             ],
             {
              "frame": {
               "duration": 0,
               "redraw": true
              },
              "fromcurrent": true,
              "mode": "immediate",
              "transition": {
               "duration": 0,
               "easing": "linear"
              }
             }
            ],
            "label": "2022",
            "method": "animate"
           },
           {
            "args": [
             [
              "2023"
             ],
             {
              "frame": {
               "duration": 0,
               "redraw": true
              },
              "fromcurrent": true,
              "mode": "immediate",
              "transition": {
               "duration": 0,
               "easing": "linear"
              }
             }
            ],
            "label": "2023",
            "method": "animate"
           }
          ],
          "x": 0.1,
          "xanchor": "left",
          "y": 0,
          "yanchor": "top"
         }
        ],
        "template": {
         "data": {
          "bar": [
           {
            "error_x": {
             "color": "#2a3f5f"
            },
            "error_y": {
             "color": "#2a3f5f"
            },
            "marker": {
             "line": {
              "color": "#E5ECF6",
              "width": 0.5
             },
             "pattern": {
              "fillmode": "overlay",
              "size": 10,
              "solidity": 0.2
             }
            },
            "type": "bar"
           }
          ],
          "barpolar": [
           {
            "marker": {
             "line": {
              "color": "#E5ECF6",
              "width": 0.5
             },
             "pattern": {
              "fillmode": "overlay",
              "size": 10,
              "solidity": 0.2
             }
            },
            "type": "barpolar"
           }
          ],
          "carpet": [
           {
            "aaxis": {
             "endlinecolor": "#2a3f5f",
             "gridcolor": "white",
             "linecolor": "white",
             "minorgridcolor": "white",
             "startlinecolor": "#2a3f5f"
            },
            "baxis": {
             "endlinecolor": "#2a3f5f",
             "gridcolor": "white",
             "linecolor": "white",
             "minorgridcolor": "white",
             "startlinecolor": "#2a3f5f"
            },
            "type": "carpet"
           }
          ],
          "choropleth": [
           {
            "colorbar": {
             "outlinewidth": 0,
             "ticks": ""
            },
            "type": "choropleth"
           }
          ],
          "contour": [
           {
            "colorbar": {
             "outlinewidth": 0,
             "ticks": ""
            },
            "colorscale": [
             [
              0,
              "#0d0887"
             ],
             [
              0.1111111111111111,
              "#46039f"
             ],
             [
              0.2222222222222222,
              "#7201a8"
             ],
             [
              0.3333333333333333,
              "#9c179e"
             ],
             [
              0.4444444444444444,
              "#bd3786"
             ],
             [
              0.5555555555555556,
              "#d8576b"
             ],
             [
              0.6666666666666666,
              "#ed7953"
             ],
             [
              0.7777777777777778,
              "#fb9f3a"
             ],
             [
              0.8888888888888888,
              "#fdca26"
             ],
             [
              1,
              "#f0f921"
             ]
            ],
            "type": "contour"
           }
          ],
          "contourcarpet": [
           {
            "colorbar": {
             "outlinewidth": 0,
             "ticks": ""
            },
            "type": "contourcarpet"
           }
          ],
          "heatmap": [
           {
            "colorbar": {
             "outlinewidth": 0,
             "ticks": ""
            },
            "colorscale": [
             [
              0,
              "#0d0887"
             ],
             [
              0.1111111111111111,
              "#46039f"
             ],
             [
              0.2222222222222222,
              "#7201a8"
             ],
             [
              0.3333333333333333,
              "#9c179e"
             ],
             [
              0.4444444444444444,
              "#bd3786"
             ],
             [
              0.5555555555555556,
              "#d8576b"
             ],
             [
              0.6666666666666666,
              "#ed7953"
             ],
             [
              0.7777777777777778,
              "#fb9f3a"
             ],
             [
              0.8888888888888888,
              "#fdca26"
             ],
             [
              1,
              "#f0f921"
             ]
            ],
            "type": "heatmap"
           }
          ],
          "histogram": [
           {
            "marker": {
             "pattern": {
              "fillmode": "overlay",
              "size": 10,
              "solidity": 0.2
             }
            },
            "type": "histogram"
           }
          ],
          "histogram2d": [
           {
            "colorbar": {
             "outlinewidth": 0,
             "ticks": ""
            },
            "colorscale": [
             [
              0,
              "#0d0887"
             ],
             [
              0.1111111111111111,
              "#46039f"
             ],
             [
              0.2222222222222222,
              "#7201a8"
             ],
             [
              0.3333333333333333,
              "#9c179e"
             ],
             [
              0.4444444444444444,
              "#bd3786"
             ],
             [
              0.5555555555555556,
              "#d8576b"
             ],
             [
              0.6666666666666666,
              "#ed7953"
             ],
             [
              0.7777777777777778,
              "#fb9f3a"
             ],
             [
              0.8888888888888888,
              "#fdca26"
             ],
             [
              1,
              "#f0f921"
             ]
            ],
            "type": "histogram2d"
           }
          ],
          "histogram2dcontour": [
           {
            "colorbar": {
             "outlinewidth": 0,
             "ticks": ""
            },
            "colorscale": [
             [
              0,
              "#0d0887"
             ],
             [
              0.1111111111111111,
              "#46039f"
             ],
             [
              0.2222222222222222,
              "#7201a8"
             ],
             [
              0.3333333333333333,
              "#9c179e"
             ],
             [
              0.4444444444444444,
              "#bd3786"
             ],
             [
              0.5555555555555556,
              "#d8576b"
             ],
             [
              0.6666666666666666,
              "#ed7953"
             ],
             [
              0.7777777777777778,
              "#fb9f3a"
             ],
             [
              0.8888888888888888,
              "#fdca26"
             ],
             [
              1,
              "#f0f921"
             ]
            ],
            "type": "histogram2dcontour"
           }
          ],
          "mesh3d": [
           {
            "colorbar": {
             "outlinewidth": 0,
             "ticks": ""
            },
            "type": "mesh3d"
           }
          ],
          "parcoords": [
           {
            "line": {
             "colorbar": {
              "outlinewidth": 0,
              "ticks": ""
             }
            },
            "type": "parcoords"
           }
          ],
          "pie": [
           {
            "automargin": true,
            "type": "pie"
           }
          ],
          "scatter": [
           {
            "fillpattern": {
             "fillmode": "overlay",
             "size": 10,
             "solidity": 0.2
            },
            "type": "scatter"
           }
          ],
          "scatter3d": [
           {
            "line": {
             "colorbar": {
              "outlinewidth": 0,
              "ticks": ""
             }
            },
            "marker": {
             "colorbar": {
              "outlinewidth": 0,
              "ticks": ""
             }
            },
            "type": "scatter3d"
           }
          ],
          "scattercarpet": [
           {
            "marker": {
             "colorbar": {
              "outlinewidth": 0,
              "ticks": ""
             }
            },
            "type": "scattercarpet"
           }
          ],
          "scattergeo": [
           {
            "marker": {
             "colorbar": {
              "outlinewidth": 0,
              "ticks": ""
             }
            },
            "type": "scattergeo"
           }
          ],
          "scattergl": [
           {
            "marker": {
             "colorbar": {
              "outlinewidth": 0,
              "ticks": ""
             }
            },
            "type": "scattergl"
           }
          ],
          "scattermap": [
           {
            "marker": {
             "colorbar": {
              "outlinewidth": 0,
              "ticks": ""
             }
            },
            "type": "scattermap"
           }
          ],
          "scattermapbox": [
           {
            "marker": {
             "colorbar": {
              "outlinewidth": 0,
              "ticks": ""
             }
            },
            "type": "scattermapbox"
           }
          ],
          "scatterpolar": [
           {
            "marker": {
             "colorbar": {
              "outlinewidth": 0,
              "ticks": ""
             }
            },
            "type": "scatterpolar"
           }
          ],
          "scatterpolargl": [
           {
            "marker": {
             "colorbar": {
              "outlinewidth": 0,
              "ticks": ""
             }
            },
            "type": "scatterpolargl"
           }
          ],
          "scatterternary": [
           {
            "marker": {
             "colorbar": {
              "outlinewidth": 0,
              "ticks": ""
             }
            },
            "type": "scatterternary"
           }
          ],
          "surface": [
           {
            "colorbar": {
             "outlinewidth": 0,
             "ticks": ""
            },
            "colorscale": [
             [
              0,
              "#0d0887"
             ],
             [
              0.1111111111111111,
              "#46039f"
             ],
             [
              0.2222222222222222,
              "#7201a8"
             ],
             [
              0.3333333333333333,
              "#9c179e"
             ],
             [
              0.4444444444444444,
              "#bd3786"
             ],
             [
              0.5555555555555556,
              "#d8576b"
             ],
             [
              0.6666666666666666,
              "#ed7953"
             ],
             [
              0.7777777777777778,
              "#fb9f3a"
             ],
             [
              0.8888888888888888,
              "#fdca26"
             ],
             [
              1,
              "#f0f921"
             ]
            ],
            "type": "surface"
           }
          ],
          "table": [
           {
            "cells": {
             "fill": {
              "color": "#EBF0F8"
             },
             "line": {
              "color": "white"
             }
            },
            "header": {
             "fill": {
              "color": "#C8D4E3"
             },
             "line": {
              "color": "white"
             }
            },
            "type": "table"
           }
          ]
         },
         "layout": {
          "annotationdefaults": {
           "arrowcolor": "#2a3f5f",
           "arrowhead": 0,
           "arrowwidth": 1
          },
          "autotypenumbers": "strict",
          "coloraxis": {
           "colorbar": {
            "outlinewidth": 0,
            "ticks": ""
           }
          },
          "colorscale": {
           "diverging": [
            [
             0,
             "#8e0152"
            ],
            [
             0.1,
             "#c51b7d"
            ],
            [
             0.2,
             "#de77ae"
            ],
            [
             0.3,
             "#f1b6da"
            ],
            [
             0.4,
             "#fde0ef"
            ],
            [
             0.5,
             "#f7f7f7"
            ],
            [
             0.6,
             "#e6f5d0"
            ],
            [
             0.7,
             "#b8e186"
            ],
            [
             0.8,
             "#7fbc41"
            ],
            [
             0.9,
             "#4d9221"
            ],
            [
             1,
             "#276419"
            ]
           ],
           "sequential": [
            [
             0,
             "#0d0887"
            ],
            [
             0.1111111111111111,
             "#46039f"
            ],
            [
             0.2222222222222222,
             "#7201a8"
            ],
            [
             0.3333333333333333,
             "#9c179e"
            ],
            [
             0.4444444444444444,
             "#bd3786"
            ],
            [
             0.5555555555555556,
             "#d8576b"
            ],
            [
             0.6666666666666666,
             "#ed7953"
            ],
            [
             0.7777777777777778,
             "#fb9f3a"
            ],
            [
             0.8888888888888888,
             "#fdca26"
            ],
            [
             1,
             "#f0f921"
            ]
           ],
           "sequentialminus": [
            [
             0,
             "#0d0887"
            ],
            [
             0.1111111111111111,
             "#46039f"
            ],
            [
             0.2222222222222222,
             "#7201a8"
            ],
            [
             0.3333333333333333,
             "#9c179e"
            ],
            [
             0.4444444444444444,
             "#bd3786"
            ],
            [
             0.5555555555555556,
             "#d8576b"
            ],
            [
             0.6666666666666666,
             "#ed7953"
            ],
            [
             0.7777777777777778,
             "#fb9f3a"
            ],
            [
             0.8888888888888888,
             "#fdca26"
            ],
            [
             1,
             "#f0f921"
            ]
           ]
          },
          "colorway": [
           "#636efa",
           "#EF553B",
           "#00cc96",
           "#ab63fa",
           "#FFA15A",
           "#19d3f3",
           "#FF6692",
           "#B6E880",
           "#FF97FF",
           "#FECB52"
          ],
          "font": {
           "color": "#2a3f5f"
          },
          "geo": {
           "bgcolor": "white",
           "lakecolor": "white",
           "landcolor": "#E5ECF6",
           "showlakes": true,
           "showland": true,
           "subunitcolor": "white"
          },
          "hoverlabel": {
           "align": "left"
          },
          "hovermode": "closest",
          "mapbox": {
           "style": "light"
          },
          "paper_bgcolor": "white",
          "plot_bgcolor": "#E5ECF6",
          "polar": {
           "angularaxis": {
            "gridcolor": "white",
            "linecolor": "white",
            "ticks": ""
           },
           "bgcolor": "#E5ECF6",
           "radialaxis": {
            "gridcolor": "white",
            "linecolor": "white",
            "ticks": ""
           }
          },
          "scene": {
           "xaxis": {
            "backgroundcolor": "#E5ECF6",
            "gridcolor": "white",
            "gridwidth": 2,
            "linecolor": "white",
            "showbackground": true,
            "ticks": "",
            "zerolinecolor": "white"
           },
           "yaxis": {
            "backgroundcolor": "#E5ECF6",
            "gridcolor": "white",
            "gridwidth": 2,
            "linecolor": "white",
            "showbackground": true,
            "ticks": "",
            "zerolinecolor": "white"
           },
           "zaxis": {
            "backgroundcolor": "#E5ECF6",
            "gridcolor": "white",
            "gridwidth": 2,
            "linecolor": "white",
            "showbackground": true,
            "ticks": "",
            "zerolinecolor": "white"
           }
          },
          "shapedefaults": {
           "line": {
            "color": "#2a3f5f"
           }
          },
          "ternary": {
           "aaxis": {
            "gridcolor": "white",
            "linecolor": "white",
            "ticks": ""
           },
           "baxis": {
            "gridcolor": "white",
            "linecolor": "white",
            "ticks": ""
           },
           "bgcolor": "#E5ECF6",
           "caxis": {
            "gridcolor": "white",
            "linecolor": "white",
            "ticks": ""
           }
          },
          "title": {
           "x": 0.05
          },
          "xaxis": {
           "automargin": true,
           "gridcolor": "white",
           "linecolor": "white",
           "ticks": "",
           "title": {
            "standoff": 15
           },
           "zerolinecolor": "white",
           "zerolinewidth": 2
          },
          "yaxis": {
           "automargin": true,
           "gridcolor": "white",
           "linecolor": "white",
           "ticks": "",
           "title": {
            "standoff": 15
           },
           "zerolinecolor": "white",
           "zerolinewidth": 2
          }
         }
        },
        "title": {
         "text": "Group-Level Output Race Over Time"
        },
        "updatemenus": [
         {
          "buttons": [
           {
            "args": [
             null,
             {
              "frame": {
               "duration": 500,
               "redraw": true
              },
              "fromcurrent": true,
              "mode": "immediate",
              "transition": {
               "duration": 500,
               "easing": "linear"
              }
             }
            ],
            "label": "&#9654;",
            "method": "animate"
           },
           {
            "args": [
             [
              null
             ],
             {
              "frame": {
               "duration": 0,
               "redraw": true
              },
              "fromcurrent": true,
              "mode": "immediate",
              "transition": {
               "duration": 0,
               "easing": "linear"
              }
             }
            ],
            "label": "&#9724;",
            "method": "animate"
           }
          ],
          "direction": "left",
          "pad": {
           "r": 10,
           "t": 70
          },
          "showactive": false,
          "type": "buttons",
          "x": 0.1,
          "xanchor": "right",
          "y": 0,
          "yanchor": "top"
         }
        ],
        "xaxis": {
         "anchor": "y",
         "domain": [
          0,
          1
         ],
         "range": [
          0,
          12500000
         ],
         "title": {
          "text": "Value"
         }
        },
        "yaxis": {
         "anchor": "x",
         "categoryarray": [
          "Utilities & Construction",
          "Trade & Transportation",
          "Professional & Public Services",
          "Primary Industries",
          "Manufacturing",
          "Information & Finance",
          "Health, Education & Leisure"
         ],
         "categoryorder": "array",
         "domain": [
          0,
          1
         ],
         "title": {
          "text": "Group"
         }
        }
       }
      }
     },
     "metadata": {},
     "output_type": "display_data"
    }
   ],
   "source": [
    "import plotly.express as px\n",
    "\n",
    "fig = px.bar(\n",
    "    df_grouped,\n",
    "    x=\"Value\",\n",
    "    y=\"Group\",\n",
    "    color=\"Group\",\n",
    "    animation_frame=\"Year\",\n",
    "    orientation='h',\n",
    "    title=\"Group-Level Output Race Over Time\"\n",
    ")\n",
    "\n",
    "# Optional: cap x-axis to a fixed upper bound (e.g., 5 million)\n",
    "fig.update_layout(\n",
    "    showlegend=False,\n",
    "    xaxis=dict(range=[0, 12500000]),  # adjust this based on your data scale\n",
    "    margin=dict(t=40, l=100, r=40, b=40)\n",
    ")\n",
    "\n",
    "fig.show()\n"
   ]
  },
  {
   "cell_type": "code",
   "execution_count": 78,
   "metadata": {},
   "outputs": [
    {
     "name": "stderr",
     "output_type": "stream",
     "text": [
      "/Users/nandinikodali/miniforge3/lib/python3.10/site-packages/altair/utils/core.py:384: FutureWarning:\n",
      "\n",
      "the convert_dtype parameter is deprecated and will be removed in a future version.  Do ``ser.astype(object).apply()`` instead if you want ``convert_dtype=False``.\n",
      "\n",
      "/Users/nandinikodali/miniforge3/lib/python3.10/site-packages/altair/utils/core.py:384: FutureWarning:\n",
      "\n",
      "the convert_dtype parameter is deprecated and will be removed in a future version.  Do ``ser.astype(object).apply()`` instead if you want ``convert_dtype=False``.\n",
      "\n",
      "/Users/nandinikodali/miniforge3/lib/python3.10/site-packages/altair/utils/core.py:384: FutureWarning:\n",
      "\n",
      "the convert_dtype parameter is deprecated and will be removed in a future version.  Do ``ser.astype(object).apply()`` instead if you want ``convert_dtype=False``.\n",
      "\n"
     ]
    }
   ],
   "source": [
    "import altair as alt\n",
    "\n",
    "# Ensure proper types\n",
    "df_long[\"Year\"] = df_long[\"Year\"].astype(int)\n",
    "df_grouped[\"Year\"] = df_grouped[\"Year\"].astype(int)\n",
    "latest_year = df_grouped[\"Year\"].max()\n",
    "df_latest = df_grouped[df_grouped[\"Year\"] == latest_year]\n",
    "\n",
    "# Selection object\n",
    "group_select = alt.selection_single(\n",
    "    fields=[\"Group\"],\n",
    "    bind=\"legend\",\n",
    "    name=\"Select\",\n",
    "    empty=\"all\"\n",
    ")\n",
    "\n",
    "# --- Top: Bar chart of group outputs ---\n",
    "bar = alt.Chart(df_latest).mark_bar().encode(\n",
    "    x=alt.X('Value:Q', title='Output'),\n",
    "    y=alt.Y('Group:N', sort='-x'),\n",
    "    color='Group:N',\n",
    "    tooltip=['Group', 'Value']\n",
    ").add_selection(\n",
    "    group_select\n",
    ").properties(\n",
    "    title=f\"Group Output in {latest_year}\",\n",
    "    height=300\n",
    ")\n",
    "\n",
    "# --- Line chart: group-level (default view) ---\n",
    "group_line = alt.Chart(df_grouped).mark_line().encode(\n",
    "    x='Year:O',\n",
    "    y='Value:Q',\n",
    "    color='Group:N',\n",
    "    tooltip=['Group', 'Year', 'Value']\n",
    ").transform_filter(\n",
    "    group_select\n",
    ")\n",
    "\n",
    "# --- Line chart: subgroup-level (when selected) ---\n",
    "subgroup_line = alt.Chart(df_long).mark_line(point=True).encode(\n",
    "    x='Year:O',\n",
    "    y='Value:Q',\n",
    "    color=alt.Color('Subgroup:N', legend=alt.Legend(title=\"Subgroups\")),\n",
    "    tooltip=['Subgroup', 'Year', 'Value']\n",
    ").transform_filter(\n",
    "    group_select\n",
    ")\n",
    "\n",
    "# Overlay subgroup if selected, group view if not\n",
    "line_chart = alt.layer(\n",
    "    subgroup_line,\n",
    "    group_line\n",
    ").resolve_scale(\n",
    "    color='independent'\n",
    ").properties(\n",
    "    title=\"Output Over Time\",\n",
    "    height=300\n",
    ")\n",
    "\n",
    "# --- Combine & Export ---\n",
    "combined = alt.vconcat(bar, line_chart).configure_title(fontSize=18)\n",
    "combined.save(\"../img/group_output_explorer.html\")\n"
   ]
  },
  {
   "cell_type": "markdown",
   "metadata": {},
   "source": []
  },
  {
   "cell_type": "code",
   "execution_count": null,
   "metadata": {},
   "outputs": [],
   "source": []
  }
 ],
 "metadata": {
  "kernelspec": {
   "display_name": "base",
   "language": "python",
   "name": "python3"
  },
  "language_info": {
   "codemirror_mode": {
    "name": "ipython",
    "version": 3
   },
   "file_extension": ".py",
   "mimetype": "text/x-python",
   "name": "python",
   "nbconvert_exporter": "python",
   "pygments_lexer": "ipython3",
   "version": "3.10.6"
  }
 },
 "nbformat": 4,
 "nbformat_minor": 2
}
