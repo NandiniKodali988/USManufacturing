{
 "cells": [
  {
   "cell_type": "code",
   "execution_count": 1,
   "metadata": {},
   "outputs": [],
   "source": [
    "import pandas as pd\n",
    "import numpy as np\n",
    "import plotly.express as px"
   ]
  },
  {
   "cell_type": "code",
   "execution_count": 2,
   "metadata": {},
   "outputs": [
    {
     "data": {
      "text/html": [
       "<div>\n",
       "<style scoped>\n",
       "    .dataframe tbody tr th:only-of-type {\n",
       "        vertical-align: middle;\n",
       "    }\n",
       "\n",
       "    .dataframe tbody tr th {\n",
       "        vertical-align: top;\n",
       "    }\n",
       "\n",
       "    .dataframe thead th {\n",
       "        text-align: right;\n",
       "    }\n",
       "</style>\n",
       "<table border=\"1\" class=\"dataframe\">\n",
       "  <thead>\n",
       "    <tr style=\"text-align: right;\">\n",
       "      <th></th>\n",
       "      <th>Industries</th>\n",
       "      <th>Group</th>\n",
       "      <th>Subgroup</th>\n",
       "      <th>1997</th>\n",
       "      <th>1998</th>\n",
       "      <th>1999</th>\n",
       "      <th>2000</th>\n",
       "      <th>2001</th>\n",
       "      <th>2002</th>\n",
       "      <th>2003</th>\n",
       "      <th>...</th>\n",
       "      <th>2014</th>\n",
       "      <th>2015</th>\n",
       "      <th>2016</th>\n",
       "      <th>2017</th>\n",
       "      <th>2018</th>\n",
       "      <th>2019</th>\n",
       "      <th>2020</th>\n",
       "      <th>2021</th>\n",
       "      <th>2022</th>\n",
       "      <th>2023</th>\n",
       "    </tr>\n",
       "  </thead>\n",
       "  <tbody>\n",
       "    <tr>\n",
       "      <th>0</th>\n",
       "      <td>Farms</td>\n",
       "      <td>Primary Industries</td>\n",
       "      <td>Agriculture, forestry, fishing, and hunting</td>\n",
       "      <td>219380</td>\n",
       "      <td>207822</td>\n",
       "      <td>199949</td>\n",
       "      <td>204313</td>\n",
       "      <td>212334</td>\n",
       "      <td>202363</td>\n",
       "      <td>227873</td>\n",
       "      <td>...</td>\n",
       "      <td>442202</td>\n",
       "      <td>403163</td>\n",
       "      <td>379793</td>\n",
       "      <td>395529</td>\n",
       "      <td>395074</td>\n",
       "      <td>388056</td>\n",
       "      <td>389475</td>\n",
       "      <td>472905</td>\n",
       "      <td>574223</td>\n",
       "      <td>555343</td>\n",
       "    </tr>\n",
       "    <tr>\n",
       "      <th>1</th>\n",
       "      <td>Forestry, fishing, and related activities</td>\n",
       "      <td>Primary Industries</td>\n",
       "      <td>Agriculture, forestry, fishing, and hunting</td>\n",
       "      <td>38500</td>\n",
       "      <td>41946</td>\n",
       "      <td>45364</td>\n",
       "      <td>39279</td>\n",
       "      <td>39016</td>\n",
       "      <td>39510</td>\n",
       "      <td>41425</td>\n",
       "      <td>...</td>\n",
       "      <td>56379</td>\n",
       "      <td>54733</td>\n",
       "      <td>51122</td>\n",
       "      <td>53382</td>\n",
       "      <td>53053</td>\n",
       "      <td>50994</td>\n",
       "      <td>53806</td>\n",
       "      <td>61457</td>\n",
       "      <td>65499</td>\n",
       "      <td>66345</td>\n",
       "    </tr>\n",
       "    <tr>\n",
       "      <th>2</th>\n",
       "      <td>Oil and gas extraction</td>\n",
       "      <td>Primary Industries</td>\n",
       "      <td>Mining</td>\n",
       "      <td>98754</td>\n",
       "      <td>72923</td>\n",
       "      <td>85516</td>\n",
       "      <td>142980</td>\n",
       "      <td>142297</td>\n",
       "      <td>116711</td>\n",
       "      <td>165971</td>\n",
       "      <td>...</td>\n",
       "      <td>445747</td>\n",
       "      <td>241538</td>\n",
       "      <td>199796</td>\n",
       "      <td>253994</td>\n",
       "      <td>346639</td>\n",
       "      <td>316004</td>\n",
       "      <td>210508</td>\n",
       "      <td>421929</td>\n",
       "      <td>652942</td>\n",
       "      <td>478748</td>\n",
       "    </tr>\n",
       "    <tr>\n",
       "      <th>3</th>\n",
       "      <td>Mining, except oil and gas</td>\n",
       "      <td>Primary Industries</td>\n",
       "      <td>Mining</td>\n",
       "      <td>56374</td>\n",
       "      <td>55520</td>\n",
       "      <td>53050</td>\n",
       "      <td>54675</td>\n",
       "      <td>55091</td>\n",
       "      <td>54443</td>\n",
       "      <td>57393</td>\n",
       "      <td>...</td>\n",
       "      <td>116134</td>\n",
       "      <td>104439</td>\n",
       "      <td>94841</td>\n",
       "      <td>101852</td>\n",
       "      <td>106906</td>\n",
       "      <td>106096</td>\n",
       "      <td>96316</td>\n",
       "      <td>115877</td>\n",
       "      <td>135150</td>\n",
       "      <td>136909</td>\n",
       "    </tr>\n",
       "    <tr>\n",
       "      <th>4</th>\n",
       "      <td>Support activities for mining</td>\n",
       "      <td>Primary Industries</td>\n",
       "      <td>Mining</td>\n",
       "      <td>22101</td>\n",
       "      <td>23409</td>\n",
       "      <td>17542</td>\n",
       "      <td>20888</td>\n",
       "      <td>29204</td>\n",
       "      <td>24830</td>\n",
       "      <td>29532</td>\n",
       "      <td>...</td>\n",
       "      <td>165762</td>\n",
       "      <td>135473</td>\n",
       "      <td>73078</td>\n",
       "      <td>106929</td>\n",
       "      <td>132025</td>\n",
       "      <td>135631</td>\n",
       "      <td>78964</td>\n",
       "      <td>70194</td>\n",
       "      <td>87563</td>\n",
       "      <td>103802</td>\n",
       "    </tr>\n",
       "  </tbody>\n",
       "</table>\n",
       "<p>5 rows × 30 columns</p>\n",
       "</div>"
      ],
      "text/plain": [
       "                                  Industries              Group   \\\n",
       "0                                      Farms  Primary Industries   \n",
       "1  Forestry, fishing, and related activities  Primary Industries   \n",
       "2                     Oil and gas extraction  Primary Industries   \n",
       "3                 Mining, except oil and gas  Primary Industries   \n",
       "4              Support activities for mining  Primary Industries   \n",
       "\n",
       "                                      Subgroup    1997    1998    1999  \\\n",
       "0  Agriculture, forestry, fishing, and hunting  219380  207822  199949   \n",
       "1  Agriculture, forestry, fishing, and hunting   38500   41946   45364   \n",
       "2                                       Mining   98754   72923   85516   \n",
       "3                                       Mining   56374   55520   53050   \n",
       "4                                       Mining   22101   23409   17542   \n",
       "\n",
       "     2000    2001    2002    2003  ...    2014    2015    2016    2017  \\\n",
       "0  204313  212334  202363  227873  ...  442202  403163  379793  395529   \n",
       "1   39279   39016   39510   41425  ...   56379   54733   51122   53382   \n",
       "2  142980  142297  116711  165971  ...  445747  241538  199796  253994   \n",
       "3   54675   55091   54443   57393  ...  116134  104439   94841  101852   \n",
       "4   20888   29204   24830   29532  ...  165762  135473   73078  106929   \n",
       "\n",
       "     2018    2019    2020    2021    2022    2023  \n",
       "0  395074  388056  389475  472905  574223  555343  \n",
       "1   53053   50994   53806   61457   65499   66345  \n",
       "2  346639  316004  210508  421929  652942  478748  \n",
       "3  106906  106096   96316  115877  135150  136909  \n",
       "4  132025  135631   78964   70194   87563  103802  \n",
       "\n",
       "[5 rows x 30 columns]"
      ]
     },
     "execution_count": 2,
     "metadata": {},
     "output_type": "execute_result"
    }
   ],
   "source": [
    "df = pd.read_csv(\"../data/Processed/GdpByInd.csv\")\n",
    "df.head()"
   ]
  },
  {
   "cell_type": "code",
   "execution_count": 3,
   "metadata": {},
   "outputs": [],
   "source": [
    "# Clean up column names just in case\n",
    "df.columns = df.columns.str.strip()\n",
    "\n",
    "# Identify actual year columns (assuming they are 4-digit years)\n",
    "year_columns = [col for col in df.columns if col.isdigit() and len(col) == 4]\n",
    "\n",
    "# Melt the data safely\n",
    "df_long = df.melt(\n",
    "    id_vars=[\"Group\", \"Subgroup\"],\n",
    "    value_vars=year_columns,\n",
    "    var_name=\"Year\",\n",
    "    value_name=\"Value\"\n",
    ")\n",
    "\n",
    "# Convert year to integer\n",
    "df_long[\"Year\"] = df_long[\"Year\"].astype(int)\n"
   ]
  },
  {
   "cell_type": "code",
   "execution_count": 4,
   "metadata": {},
   "outputs": [],
   "source": [
    "df_grouped = df_long.groupby([\"Group\", \"Year\"], as_index=False)[\"Value\"].sum()\n"
   ]
  },
  {
   "cell_type": "code",
   "execution_count": 5,
   "metadata": {},
   "outputs": [],
   "source": [
    "import numpy as np\n",
    "\n",
    "unique_groups = df_grouped[\"Group\"].unique()\n",
    "group_positions = {\n",
    "    group: (np.cos(i * 2 * np.pi / len(unique_groups)) * 3,\n",
    "            np.sin(i * 2 * np.pi / len(unique_groups)) * 3)\n",
    "    for i, group in enumerate(unique_groups)\n",
    "}\n",
    "\n",
    "# Assign positions\n",
    "def assign_coords(row):\n",
    "    gx, gy = group_positions[row[\"Group\"]]\n",
    "    return pd.Series({\"x\": gx, \"y\": gy})\n",
    "\n",
    "coords = df_grouped.apply(assign_coords, axis=1)\n",
    "df_bubbles = pd.concat([df_grouped, coords], axis=1)\n"
   ]
  },
  {
   "cell_type": "code",
   "execution_count": 69,
   "metadata": {},
   "outputs": [
    {
     "data": {
      "application/vnd.plotly.v1+json": {
       "config": {
        "plotlyServerURL": "https://plot.ly"
       },
       "data": [
        {
         "hovertemplate": "<b>%{hovertext}</b><br><br>Group=Health, Education & Leisure<br>Year=1997<br>x=%{x}<br>y=%{y}<br>Value=%{marker.size}<extra></extra>",
         "hovertext": [
          "Health, Education & Leisure"
         ],
         "legendgroup": "Health, Education & Leisure",
         "marker": {
          "color": "#636efa",
          "size": {
           "bdata": "N/UbAA==",
           "dtype": "i4"
          },
          "sizemode": "area",
          "sizeref": 1209.4062,
          "symbol": "circle"
         },
         "mode": "markers",
         "name": "Health, Education & Leisure",
         "orientation": "v",
         "showlegend": true,
         "type": "scatter",
         "x": {
          "bdata": "AAAAAAAACEA=",
          "dtype": "f8"
         },
         "xaxis": "x",
         "y": {
          "bdata": "AAAAAAAAAAA=",
          "dtype": "f8"
         },
         "yaxis": "y"
        },
        {
         "hovertemplate": "<b>%{hovertext}</b><br><br>Group=Information & Finance<br>Year=1997<br>x=%{x}<br>y=%{y}<br>Value=%{marker.size}<extra></extra>",
         "hovertext": [
          "Information & Finance"
         ],
         "legendgroup": "Information & Finance",
         "marker": {
          "color": "#EF553B",
          "size": {
           "bdata": "APMvAA==",
           "dtype": "i4"
          },
          "sizemode": "area",
          "sizeref": 1209.4062,
          "symbol": "circle"
         },
         "mode": "markers",
         "name": "Information & Finance",
         "orientation": "v",
         "showlegend": true,
         "type": "scatter",
         "x": {
          "bdata": "u+TRU3Ht/T8=",
          "dtype": "f8"
         },
         "xaxis": "x",
         "y": {
          "bdata": "uGbEl5LDAkA=",
          "dtype": "f8"
         },
         "yaxis": "y"
        },
        {
         "hovertemplate": "<b>%{hovertext}</b><br><br>Group=Manufacturing<br>Year=1997<br>x=%{x}<br>y=%{y}<br>Value=%{marker.size}<extra></extra>",
         "hovertext": [
          "Manufacturing"
         ],
         "legendgroup": "Manufacturing",
         "marker": {
          "color": "#00cc96",
          "size": {
           "bdata": "r3k7AA==",
           "dtype": "i4"
          },
          "sizemode": "area",
          "sizeref": 1209.4062,
          "symbol": "circle"
         },
         "mode": "markers",
         "name": "Manufacturing",
         "orientation": "v",
         "showlegend": true,
         "type": "scatter",
         "x": {
          "bdata": "ILRBqqxc5b8=",
          "dtype": "f8"
         },
         "xaxis": "x",
         "y": {
          "bdata": "D68CBPVlB0A=",
          "dtype": "f8"
         },
         "yaxis": "y"
        },
        {
         "hovertemplate": "<b>%{hovertext}</b><br><br>Group=Primary Industries<br>Year=1997<br>x=%{x}<br>y=%{y}<br>Value=%{marker.size}<extra></extra>",
         "hovertext": [
          "Primary Industries"
         ],
         "legendgroup": "Primary Industries",
         "marker": {
          "color": "#ab63fa",
          "size": {
           "bdata": "paMGAA==",
           "dtype": "i4"
          },
          "sizemode": "area",
          "sizeref": 1209.4062,
          "symbol": "circle"
         },
         "mode": "markers",
         "name": "Primary Industries",
         "orientation": "v",
         "showlegend": true,
         "type": "scatter",
         "x": {
          "bdata": "VIVYf42fBcA=",
          "dtype": "f8"
         },
         "xaxis": "x",
         "y": {
          "bdata": "0kAVOpDT9D8=",
          "dtype": "f8"
         },
         "yaxis": "y"
        },
        {
         "hovertemplate": "<b>%{hovertext}</b><br><br>Group=Professional & Public Services<br>Year=1997<br>x=%{x}<br>y=%{y}<br>Value=%{marker.size}<extra></extra>",
         "hovertext": [
          "Professional & Public Services"
         ],
         "legendgroup": "Professional & Public Services",
         "marker": {
          "color": "#FFA15A",
          "size": {
           "bdata": "uww1AA==",
           "dtype": "i4"
          },
          "sizemode": "area",
          "sizeref": 1209.4062,
          "symbol": "circle"
         },
         "mode": "markers",
         "name": "Professional & Public Services",
         "orientation": "v",
         "showlegend": true,
         "type": "scatter",
         "x": {
          "bdata": "VYVYf42fBcA=",
          "dtype": "f8"
         },
         "xaxis": "x",
         "y": {
          "bdata": "z0AVOpDT9L8=",
          "dtype": "f8"
         },
         "yaxis": "y"
        },
        {
         "hovertemplate": "<b>%{hovertext}</b><br><br>Group=Trade & Transportation<br>Year=1997<br>x=%{x}<br>y=%{y}<br>Value=%{marker.size}<extra></extra>",
         "hovertext": [
          "Trade & Transportation"
         ],
         "legendgroup": "Trade & Transportation",
         "marker": {
          "color": "#19d3f3",
          "size": {
           "bdata": "ZxggAA==",
           "dtype": "i4"
          },
          "sizemode": "area",
          "sizeref": 1209.4062,
          "symbol": "circle"
         },
         "mode": "markers",
         "name": "Trade & Transportation",
         "orientation": "v",
         "showlegend": true,
         "type": "scatter",
         "x": {
          "bdata": "J7RBqqxc5b8=",
          "dtype": "f8"
         },
         "xaxis": "x",
         "y": {
          "bdata": "D68CBPVlB8A=",
          "dtype": "f8"
         },
         "yaxis": "y"
        },
        {
         "hovertemplate": "<b>%{hovertext}</b><br><br>Group=Utilities & Construction<br>Year=1997<br>x=%{x}<br>y=%{y}<br>Value=%{marker.size}<extra></extra>",
         "hovertext": [
          "Utilities & Construction"
         ],
         "legendgroup": "Utilities & Construction",
         "marker": {
          "color": "#FF6692",
          "size": {
           "bdata": "ktEOAA==",
           "dtype": "i4"
          },
          "sizemode": "area",
          "sizeref": 1209.4062,
          "symbol": "circle"
         },
         "mode": "markers",
         "name": "Utilities & Construction",
         "orientation": "v",
         "showlegend": true,
         "type": "scatter",
         "x": {
          "bdata": "uOTRU3Ht/T8=",
          "dtype": "f8"
         },
         "xaxis": "x",
         "y": {
          "bdata": "uWbEl5LDAsA=",
          "dtype": "f8"
         },
         "yaxis": "y"
        }
       ],
       "frames": [
        {
         "data": [
          {
           "hovertemplate": "<b>%{hovertext}</b><br><br>Group=Health, Education & Leisure<br>Year=1997<br>x=%{x}<br>y=%{y}<br>Value=%{marker.size}<extra></extra>",
           "hovertext": [
            "Health, Education & Leisure"
           ],
           "legendgroup": "Health, Education & Leisure",
           "marker": {
            "color": "#636efa",
            "size": {
             "bdata": "N/UbAA==",
             "dtype": "i4"
            },
            "sizemode": "area",
            "sizeref": 1209.4062,
            "symbol": "circle"
           },
           "mode": "markers",
           "name": "Health, Education & Leisure",
           "orientation": "v",
           "showlegend": true,
           "type": "scatter",
           "x": {
            "bdata": "AAAAAAAACEA=",
            "dtype": "f8"
           },
           "xaxis": "x",
           "y": {
            "bdata": "AAAAAAAAAAA=",
            "dtype": "f8"
           },
           "yaxis": "y"
          },
          {
           "hovertemplate": "<b>%{hovertext}</b><br><br>Group=Information & Finance<br>Year=1997<br>x=%{x}<br>y=%{y}<br>Value=%{marker.size}<extra></extra>",
           "hovertext": [
            "Information & Finance"
           ],
           "legendgroup": "Information & Finance",
           "marker": {
            "color": "#EF553B",
            "size": {
             "bdata": "APMvAA==",
             "dtype": "i4"
            },
            "sizemode": "area",
            "sizeref": 1209.4062,
            "symbol": "circle"
           },
           "mode": "markers",
           "name": "Information & Finance",
           "orientation": "v",
           "showlegend": true,
           "type": "scatter",
           "x": {
            "bdata": "u+TRU3Ht/T8=",
            "dtype": "f8"
           },
           "xaxis": "x",
           "y": {
            "bdata": "uGbEl5LDAkA=",
            "dtype": "f8"
           },
           "yaxis": "y"
          },
          {
           "hovertemplate": "<b>%{hovertext}</b><br><br>Group=Manufacturing<br>Year=1997<br>x=%{x}<br>y=%{y}<br>Value=%{marker.size}<extra></extra>",
           "hovertext": [
            "Manufacturing"
           ],
           "legendgroup": "Manufacturing",
           "marker": {
            "color": "#00cc96",
            "size": {
             "bdata": "r3k7AA==",
             "dtype": "i4"
            },
            "sizemode": "area",
            "sizeref": 1209.4062,
            "symbol": "circle"
           },
           "mode": "markers",
           "name": "Manufacturing",
           "orientation": "v",
           "showlegend": true,
           "type": "scatter",
           "x": {
            "bdata": "ILRBqqxc5b8=",
            "dtype": "f8"
           },
           "xaxis": "x",
           "y": {
            "bdata": "D68CBPVlB0A=",
            "dtype": "f8"
           },
           "yaxis": "y"
          },
          {
           "hovertemplate": "<b>%{hovertext}</b><br><br>Group=Primary Industries<br>Year=1997<br>x=%{x}<br>y=%{y}<br>Value=%{marker.size}<extra></extra>",
           "hovertext": [
            "Primary Industries"
           ],
           "legendgroup": "Primary Industries",
           "marker": {
            "color": "#ab63fa",
            "size": {
             "bdata": "paMGAA==",
             "dtype": "i4"
            },
            "sizemode": "area",
            "sizeref": 1209.4062,
            "symbol": "circle"
           },
           "mode": "markers",
           "name": "Primary Industries",
           "orientation": "v",
           "showlegend": true,
           "type": "scatter",
           "x": {
            "bdata": "VIVYf42fBcA=",
            "dtype": "f8"
           },
           "xaxis": "x",
           "y": {
            "bdata": "0kAVOpDT9D8=",
            "dtype": "f8"
           },
           "yaxis": "y"
          },
          {
           "hovertemplate": "<b>%{hovertext}</b><br><br>Group=Professional & Public Services<br>Year=1997<br>x=%{x}<br>y=%{y}<br>Value=%{marker.size}<extra></extra>",
           "hovertext": [
            "Professional & Public Services"
           ],
           "legendgroup": "Professional & Public Services",
           "marker": {
            "color": "#FFA15A",
            "size": {
             "bdata": "uww1AA==",
             "dtype": "i4"
            },
            "sizemode": "area",
            "sizeref": 1209.4062,
            "symbol": "circle"
           },
           "mode": "markers",
           "name": "Professional & Public Services",
           "orientation": "v",
           "showlegend": true,
           "type": "scatter",
           "x": {
            "bdata": "VYVYf42fBcA=",
            "dtype": "f8"
           },
           "xaxis": "x",
           "y": {
            "bdata": "z0AVOpDT9L8=",
            "dtype": "f8"
           },
           "yaxis": "y"
          },
          {
           "hovertemplate": "<b>%{hovertext}</b><br><br>Group=Trade & Transportation<br>Year=1997<br>x=%{x}<br>y=%{y}<br>Value=%{marker.size}<extra></extra>",
           "hovertext": [
            "Trade & Transportation"
           ],
           "legendgroup": "Trade & Transportation",
           "marker": {
            "color": "#19d3f3",
            "size": {
             "bdata": "ZxggAA==",
             "dtype": "i4"
            },
            "sizemode": "area",
            "sizeref": 1209.4062,
            "symbol": "circle"
           },
           "mode": "markers",
           "name": "Trade & Transportation",
           "orientation": "v",
           "showlegend": true,
           "type": "scatter",
           "x": {
            "bdata": "J7RBqqxc5b8=",
            "dtype": "f8"
           },
           "xaxis": "x",
           "y": {
            "bdata": "D68CBPVlB8A=",
            "dtype": "f8"
           },
           "yaxis": "y"
          },
          {
           "hovertemplate": "<b>%{hovertext}</b><br><br>Group=Utilities & Construction<br>Year=1997<br>x=%{x}<br>y=%{y}<br>Value=%{marker.size}<extra></extra>",
           "hovertext": [
            "Utilities & Construction"
           ],
           "legendgroup": "Utilities & Construction",
           "marker": {
            "color": "#FF6692",
            "size": {
             "bdata": "ktEOAA==",
             "dtype": "i4"
            },
            "sizemode": "area",
            "sizeref": 1209.4062,
            "symbol": "circle"
           },
           "mode": "markers",
           "name": "Utilities & Construction",
           "orientation": "v",
           "showlegend": true,
           "type": "scatter",
           "x": {
            "bdata": "uOTRU3Ht/T8=",
            "dtype": "f8"
           },
           "xaxis": "x",
           "y": {
            "bdata": "uWbEl5LDAsA=",
            "dtype": "f8"
           },
           "yaxis": "y"
          }
         ],
         "name": "1997"
        },
        {
         "data": [
          {
           "hovertemplate": "<b>%{hovertext}</b><br><br>Group=Health, Education & Leisure<br>Year=1998<br>x=%{x}<br>y=%{y}<br>Value=%{marker.size}<extra></extra>",
           "hovertext": [
            "Health, Education & Leisure"
           ],
           "legendgroup": "Health, Education & Leisure",
           "marker": {
            "color": "#636efa",
            "size": {
             "bdata": "EtEdAA==",
             "dtype": "i4"
            },
            "sizemode": "area",
            "sizeref": 1209.4062,
            "symbol": "circle"
           },
           "mode": "markers",
           "name": "Health, Education & Leisure",
           "orientation": "v",
           "showlegend": true,
           "type": "scatter",
           "x": {
            "bdata": "AAAAAAAACEA=",
            "dtype": "f8"
           },
           "xaxis": "x",
           "y": {
            "bdata": "AAAAAAAAAAA=",
            "dtype": "f8"
           },
           "yaxis": "y"
          },
          {
           "hovertemplate": "<b>%{hovertext}</b><br><br>Group=Information & Finance<br>Year=1998<br>x=%{x}<br>y=%{y}<br>Value=%{marker.size}<extra></extra>",
           "hovertext": [
            "Information & Finance"
           ],
           "legendgroup": "Information & Finance",
           "marker": {
            "color": "#EF553B",
            "size": {
             "bdata": "yis0AA==",
             "dtype": "i4"
            },
            "sizemode": "area",
            "sizeref": 1209.4062,
            "symbol": "circle"
           },
           "mode": "markers",
           "name": "Information & Finance",
           "orientation": "v",
           "showlegend": true,
           "type": "scatter",
           "x": {
            "bdata": "u+TRU3Ht/T8=",
            "dtype": "f8"
           },
           "xaxis": "x",
           "y": {
            "bdata": "uGbEl5LDAkA=",
            "dtype": "f8"
           },
           "yaxis": "y"
          },
          {
           "hovertemplate": "<b>%{hovertext}</b><br><br>Group=Manufacturing<br>Year=1998<br>x=%{x}<br>y=%{y}<br>Value=%{marker.size}<extra></extra>",
           "hovertext": [
            "Manufacturing"
           ],
           "legendgroup": "Manufacturing",
           "marker": {
            "color": "#00cc96",
            "size": {
             "bdata": "pnk8AA==",
             "dtype": "i4"
            },
            "sizemode": "area",
            "sizeref": 1209.4062,
            "symbol": "circle"
           },
           "mode": "markers",
           "name": "Manufacturing",
           "orientation": "v",
           "showlegend": true,
           "type": "scatter",
           "x": {
            "bdata": "ILRBqqxc5b8=",
            "dtype": "f8"
           },
           "xaxis": "x",
           "y": {
            "bdata": "D68CBPVlB0A=",
            "dtype": "f8"
           },
           "yaxis": "y"
          },
          {
           "hovertemplate": "<b>%{hovertext}</b><br><br>Group=Primary Industries<br>Year=1998<br>x=%{x}<br>y=%{y}<br>Value=%{marker.size}<extra></extra>",
           "hovertext": [
            "Primary Industries"
           ],
           "legendgroup": "Primary Industries",
           "marker": {
            "color": "#ab63fa",
            "size": {
             "bdata": "1CAGAA==",
             "dtype": "i4"
            },
            "sizemode": "area",
            "sizeref": 1209.4062,
            "symbol": "circle"
           },
           "mode": "markers",
           "name": "Primary Industries",
           "orientation": "v",
           "showlegend": true,
           "type": "scatter",
           "x": {
            "bdata": "VIVYf42fBcA=",
            "dtype": "f8"
           },
           "xaxis": "x",
           "y": {
            "bdata": "0kAVOpDT9D8=",
            "dtype": "f8"
           },
           "yaxis": "y"
          },
          {
           "hovertemplate": "<b>%{hovertext}</b><br><br>Group=Professional & Public Services<br>Year=1998<br>x=%{x}<br>y=%{y}<br>Value=%{marker.size}<extra></extra>",
           "hovertext": [
            "Professional & Public Services"
           ],
           "legendgroup": "Professional & Public Services",
           "marker": {
            "color": "#FFA15A",
            "size": {
             "bdata": "HIk4AA==",
             "dtype": "i4"
            },
            "sizemode": "area",
            "sizeref": 1209.4062,
            "symbol": "circle"
           },
           "mode": "markers",
           "name": "Professional & Public Services",
           "orientation": "v",
           "showlegend": true,
           "type": "scatter",
           "x": {
            "bdata": "VYVYf42fBcA=",
            "dtype": "f8"
           },
           "xaxis": "x",
           "y": {
            "bdata": "z0AVOpDT9L8=",
            "dtype": "f8"
           },
           "yaxis": "y"
          },
          {
           "hovertemplate": "<b>%{hovertext}</b><br><br>Group=Trade & Transportation<br>Year=1998<br>x=%{x}<br>y=%{y}<br>Value=%{marker.size}<extra></extra>",
           "hovertext": [
            "Trade & Transportation"
           ],
           "legendgroup": "Trade & Transportation",
           "marker": {
            "color": "#19d3f3",
            "size": {
             "bdata": "BG4hAA==",
             "dtype": "i4"
            },
            "sizemode": "area",
            "sizeref": 1209.4062,
            "symbol": "circle"
           },
           "mode": "markers",
           "name": "Trade & Transportation",
           "orientation": "v",
           "showlegend": true,
           "type": "scatter",
           "x": {
            "bdata": "J7RBqqxc5b8=",
            "dtype": "f8"
           },
           "xaxis": "x",
           "y": {
            "bdata": "D68CBPVlB8A=",
            "dtype": "f8"
           },
           "yaxis": "y"
          },
          {
           "hovertemplate": "<b>%{hovertext}</b><br><br>Group=Utilities & Construction<br>Year=1998<br>x=%{x}<br>y=%{y}<br>Value=%{marker.size}<extra></extra>",
           "hovertext": [
            "Utilities & Construction"
           ],
           "legendgroup": "Utilities & Construction",
           "marker": {
            "color": "#FF6692",
            "size": {
             "bdata": "xPsPAA==",
             "dtype": "i4"
            },
            "sizemode": "area",
            "sizeref": 1209.4062,
            "symbol": "circle"
           },
           "mode": "markers",
           "name": "Utilities & Construction",
           "orientation": "v",
           "showlegend": true,
           "type": "scatter",
           "x": {
            "bdata": "uOTRU3Ht/T8=",
            "dtype": "f8"
           },
           "xaxis": "x",
           "y": {
            "bdata": "uWbEl5LDAsA=",
            "dtype": "f8"
           },
           "yaxis": "y"
          }
         ],
         "name": "1998"
        },
        {
         "data": [
          {
           "hovertemplate": "<b>%{hovertext}</b><br><br>Group=Health, Education & Leisure<br>Year=1999<br>x=%{x}<br>y=%{y}<br>Value=%{marker.size}<extra></extra>",
           "hovertext": [
            "Health, Education & Leisure"
           ],
           "legendgroup": "Health, Education & Leisure",
           "marker": {
            "color": "#636efa",
            "size": {
             "bdata": "lWsfAA==",
             "dtype": "i4"
            },
            "sizemode": "area",
            "sizeref": 1209.4062,
            "symbol": "circle"
           },
           "mode": "markers",
           "name": "Health, Education & Leisure",
           "orientation": "v",
           "showlegend": true,
           "type": "scatter",
           "x": {
            "bdata": "AAAAAAAACEA=",
            "dtype": "f8"
           },
           "xaxis": "x",
           "y": {
            "bdata": "AAAAAAAAAAA=",
            "dtype": "f8"
           },
           "yaxis": "y"
          },
          {
           "hovertemplate": "<b>%{hovertext}</b><br><br>Group=Information & Finance<br>Year=1999<br>x=%{x}<br>y=%{y}<br>Value=%{marker.size}<extra></extra>",
           "hovertext": [
            "Information & Finance"
           ],
           "legendgroup": "Information & Finance",
           "marker": {
            "color": "#EF553B",
            "size": {
             "bdata": "2C05AA==",
             "dtype": "i4"
            },
            "sizemode": "area",
            "sizeref": 1209.4062,
            "symbol": "circle"
           },
           "mode": "markers",
           "name": "Information & Finance",
           "orientation": "v",
           "showlegend": true,
           "type": "scatter",
           "x": {
            "bdata": "u+TRU3Ht/T8=",
            "dtype": "f8"
           },
           "xaxis": "x",
           "y": {
            "bdata": "uGbEl5LDAkA=",
            "dtype": "f8"
           },
           "yaxis": "y"
          },
          {
           "hovertemplate": "<b>%{hovertext}</b><br><br>Group=Manufacturing<br>Year=1999<br>x=%{x}<br>y=%{y}<br>Value=%{marker.size}<extra></extra>",
           "hovertext": [
            "Manufacturing"
           ],
           "legendgroup": "Manufacturing",
           "marker": {
            "color": "#00cc96",
            "size": {
             "bdata": "F0o+AA==",
             "dtype": "i4"
            },
            "sizemode": "area",
            "sizeref": 1209.4062,
            "symbol": "circle"
           },
           "mode": "markers",
           "name": "Manufacturing",
           "orientation": "v",
           "showlegend": true,
           "type": "scatter",
           "x": {
            "bdata": "ILRBqqxc5b8=",
            "dtype": "f8"
           },
           "xaxis": "x",
           "y": {
            "bdata": "D68CBPVlB0A=",
            "dtype": "f8"
           },
           "yaxis": "y"
          },
          {
           "hovertemplate": "<b>%{hovertext}</b><br><br>Group=Primary Industries<br>Year=1999<br>x=%{x}<br>y=%{y}<br>Value=%{marker.size}<extra></extra>",
           "hovertext": [
            "Primary Industries"
           ],
           "legendgroup": "Primary Industries",
           "marker": {
            "color": "#ab63fa",
            "size": {
             "bdata": "DSAGAA==",
             "dtype": "i4"
            },
            "sizemode": "area",
            "sizeref": 1209.4062,
            "symbol": "circle"
           },
           "mode": "markers",
           "name": "Primary Industries",
           "orientation": "v",
           "showlegend": true,
           "type": "scatter",
           "x": {
            "bdata": "VIVYf42fBcA=",
            "dtype": "f8"
           },
           "xaxis": "x",
           "y": {
            "bdata": "0kAVOpDT9D8=",
            "dtype": "f8"
           },
           "yaxis": "y"
          },
          {
           "hovertemplate": "<b>%{hovertext}</b><br><br>Group=Professional & Public Services<br>Year=1999<br>x=%{x}<br>y=%{y}<br>Value=%{marker.size}<extra></extra>",
           "hovertext": [
            "Professional & Public Services"
           ],
           "legendgroup": "Professional & Public Services",
           "marker": {
            "color": "#FFA15A",
            "size": {
             "bdata": "6JM8AA==",
             "dtype": "i4"
            },
            "sizemode": "area",
            "sizeref": 1209.4062,
            "symbol": "circle"
           },
           "mode": "markers",
           "name": "Professional & Public Services",
           "orientation": "v",
           "showlegend": true,
           "type": "scatter",
           "x": {
            "bdata": "VYVYf42fBcA=",
            "dtype": "f8"
           },
           "xaxis": "x",
           "y": {
            "bdata": "z0AVOpDT9L8=",
            "dtype": "f8"
           },
           "yaxis": "y"
          },
          {
           "hovertemplate": "<b>%{hovertext}</b><br><br>Group=Trade & Transportation<br>Year=1999<br>x=%{x}<br>y=%{y}<br>Value=%{marker.size}<extra></extra>",
           "hovertext": [
            "Trade & Transportation"
           ],
           "legendgroup": "Trade & Transportation",
           "marker": {
            "color": "#19d3f3",
            "size": {
             "bdata": "2q0jAA==",
             "dtype": "i4"
            },
            "sizemode": "area",
            "sizeref": 1209.4062,
            "symbol": "circle"
           },
           "mode": "markers",
           "name": "Trade & Transportation",
           "orientation": "v",
           "showlegend": true,
           "type": "scatter",
           "x": {
            "bdata": "J7RBqqxc5b8=",
            "dtype": "f8"
           },
           "xaxis": "x",
           "y": {
            "bdata": "D68CBPVlB8A=",
            "dtype": "f8"
           },
           "yaxis": "y"
          },
          {
           "hovertemplate": "<b>%{hovertext}</b><br><br>Group=Utilities & Construction<br>Year=1999<br>x=%{x}<br>y=%{y}<br>Value=%{marker.size}<extra></extra>",
           "hovertext": [
            "Utilities & Construction"
           ],
           "legendgroup": "Utilities & Construction",
           "marker": {
            "color": "#FF6692",
            "size": {
             "bdata": "UaURAA==",
             "dtype": "i4"
            },
            "sizemode": "area",
            "sizeref": 1209.4062,
            "symbol": "circle"
           },
           "mode": "markers",
           "name": "Utilities & Construction",
           "orientation": "v",
           "showlegend": true,
           "type": "scatter",
           "x": {
            "bdata": "uOTRU3Ht/T8=",
            "dtype": "f8"
           },
           "xaxis": "x",
           "y": {
            "bdata": "uWbEl5LDAsA=",
            "dtype": "f8"
           },
           "yaxis": "y"
          }
         ],
         "name": "1999"
        },
        {
         "data": [
          {
           "hovertemplate": "<b>%{hovertext}</b><br><br>Group=Health, Education & Leisure<br>Year=2000<br>x=%{x}<br>y=%{y}<br>Value=%{marker.size}<extra></extra>",
           "hovertext": [
            "Health, Education & Leisure"
           ],
           "legendgroup": "Health, Education & Leisure",
           "marker": {
            "color": "#636efa",
            "size": {
             "bdata": "+6ghAA==",
             "dtype": "i4"
            },
            "sizemode": "area",
            "sizeref": 1209.4062,
            "symbol": "circle"
           },
           "mode": "markers",
           "name": "Health, Education & Leisure",
           "orientation": "v",
           "showlegend": true,
           "type": "scatter",
           "x": {
            "bdata": "AAAAAAAACEA=",
            "dtype": "f8"
           },
           "xaxis": "x",
           "y": {
            "bdata": "AAAAAAAAAAA=",
            "dtype": "f8"
           },
           "yaxis": "y"
          },
          {
           "hovertemplate": "<b>%{hovertext}</b><br><br>Group=Information & Finance<br>Year=2000<br>x=%{x}<br>y=%{y}<br>Value=%{marker.size}<extra></extra>",
           "hovertext": [
            "Information & Finance"
           ],
           "legendgroup": "Information & Finance",
           "marker": {
            "color": "#EF553B",
            "size": {
             "bdata": "6iQ/AA==",
             "dtype": "i4"
            },
            "sizemode": "area",
            "sizeref": 1209.4062,
            "symbol": "circle"
           },
           "mode": "markers",
           "name": "Information & Finance",
           "orientation": "v",
           "showlegend": true,
           "type": "scatter",
           "x": {
            "bdata": "u+TRU3Ht/T8=",
            "dtype": "f8"
           },
           "xaxis": "x",
           "y": {
            "bdata": "uGbEl5LDAkA=",
            "dtype": "f8"
           },
           "yaxis": "y"
          },
          {
           "hovertemplate": "<b>%{hovertext}</b><br><br>Group=Manufacturing<br>Year=2000<br>x=%{x}<br>y=%{y}<br>Value=%{marker.size}<extra></extra>",
           "hovertext": [
            "Manufacturing"
           ],
           "legendgroup": "Manufacturing",
           "marker": {
            "color": "#00cc96",
            "size": {
             "bdata": "j3hBAA==",
             "dtype": "i4"
            },
            "sizemode": "area",
            "sizeref": 1209.4062,
            "symbol": "circle"
           },
           "mode": "markers",
           "name": "Manufacturing",
           "orientation": "v",
           "showlegend": true,
           "type": "scatter",
           "x": {
            "bdata": "ILRBqqxc5b8=",
            "dtype": "f8"
           },
           "xaxis": "x",
           "y": {
            "bdata": "D68CBPVlB0A=",
            "dtype": "f8"
           },
           "yaxis": "y"
          },
          {
           "hovertemplate": "<b>%{hovertext}</b><br><br>Group=Primary Industries<br>Year=2000<br>x=%{x}<br>y=%{y}<br>Value=%{marker.size}<extra></extra>",
           "hovertext": [
            "Primary Industries"
           ],
           "legendgroup": "Primary Industries",
           "marker": {
            "color": "#ab63fa",
            "size": {
             "bdata": "Nw0HAA==",
             "dtype": "i4"
            },
            "sizemode": "area",
            "sizeref": 1209.4062,
            "symbol": "circle"
           },
           "mode": "markers",
           "name": "Primary Industries",
           "orientation": "v",
           "showlegend": true,
           "type": "scatter",
           "x": {
            "bdata": "VIVYf42fBcA=",
            "dtype": "f8"
           },
           "xaxis": "x",
           "y": {
            "bdata": "0kAVOpDT9D8=",
            "dtype": "f8"
           },
           "yaxis": "y"
          },
          {
           "hovertemplate": "<b>%{hovertext}</b><br><br>Group=Professional & Public Services<br>Year=2000<br>x=%{x}<br>y=%{y}<br>Value=%{marker.size}<extra></extra>",
           "hovertext": [
            "Professional & Public Services"
           ],
           "legendgroup": "Professional & Public Services",
           "marker": {
            "color": "#FFA15A",
            "size": {
             "bdata": "9xNBAA==",
             "dtype": "i4"
            },
            "sizemode": "area",
            "sizeref": 1209.4062,
            "symbol": "circle"
           },
           "mode": "markers",
           "name": "Professional & Public Services",
           "orientation": "v",
           "showlegend": true,
           "type": "scatter",
           "x": {
            "bdata": "VYVYf42fBcA=",
            "dtype": "f8"
           },
           "xaxis": "x",
           "y": {
            "bdata": "z0AVOpDT9L8=",
            "dtype": "f8"
           },
           "yaxis": "y"
          },
          {
           "hovertemplate": "<b>%{hovertext}</b><br><br>Group=Trade & Transportation<br>Year=2000<br>x=%{x}<br>y=%{y}<br>Value=%{marker.size}<extra></extra>",
           "hovertext": [
            "Trade & Transportation"
           ],
           "legendgroup": "Trade & Transportation",
           "marker": {
            "color": "#19d3f3",
            "size": {
             "bdata": "sdklAA==",
             "dtype": "i4"
            },
            "sizemode": "area",
            "sizeref": 1209.4062,
            "symbol": "circle"
           },
           "mode": "markers",
           "name": "Trade & Transportation",
           "orientation": "v",
           "showlegend": true,
           "type": "scatter",
           "x": {
            "bdata": "J7RBqqxc5b8=",
            "dtype": "f8"
           },
           "xaxis": "x",
           "y": {
            "bdata": "D68CBPVlB8A=",
            "dtype": "f8"
           },
           "yaxis": "y"
          },
          {
           "hovertemplate": "<b>%{hovertext}</b><br><br>Group=Utilities & Construction<br>Year=2000<br>x=%{x}<br>y=%{y}<br>Value=%{marker.size}<extra></extra>",
           "hovertext": [
            "Utilities & Construction"
           ],
           "legendgroup": "Utilities & Construction",
           "marker": {
            "color": "#FF6692",
            "size": {
             "bdata": "saMTAA==",
             "dtype": "i4"
            },
            "sizemode": "area",
            "sizeref": 1209.4062,
            "symbol": "circle"
           },
           "mode": "markers",
           "name": "Utilities & Construction",
           "orientation": "v",
           "showlegend": true,
           "type": "scatter",
           "x": {
            "bdata": "uOTRU3Ht/T8=",
            "dtype": "f8"
           },
           "xaxis": "x",
           "y": {
            "bdata": "uWbEl5LDAsA=",
            "dtype": "f8"
           },
           "yaxis": "y"
          }
         ],
         "name": "2000"
        },
        {
         "data": [
          {
           "hovertemplate": "<b>%{hovertext}</b><br><br>Group=Health, Education & Leisure<br>Year=2001<br>x=%{x}<br>y=%{y}<br>Value=%{marker.size}<extra></extra>",
           "hovertext": [
            "Health, Education & Leisure"
           ],
           "legendgroup": "Health, Education & Leisure",
           "marker": {
            "color": "#636efa",
            "size": {
             "bdata": "I7YjAA==",
             "dtype": "i4"
            },
            "sizemode": "area",
            "sizeref": 1209.4062,
            "symbol": "circle"
           },
           "mode": "markers",
           "name": "Health, Education & Leisure",
           "orientation": "v",
           "showlegend": true,
           "type": "scatter",
           "x": {
            "bdata": "AAAAAAAACEA=",
            "dtype": "f8"
           },
           "xaxis": "x",
           "y": {
            "bdata": "AAAAAAAAAAA=",
            "dtype": "f8"
           },
           "yaxis": "y"
          },
          {
           "hovertemplate": "<b>%{hovertext}</b><br><br>Group=Information & Finance<br>Year=2001<br>x=%{x}<br>y=%{y}<br>Value=%{marker.size}<extra></extra>",
           "hovertext": [
            "Information & Finance"
           ],
           "legendgroup": "Information & Finance",
           "marker": {
            "color": "#EF553B",
            "size": {
             "bdata": "YOZAAA==",
             "dtype": "i4"
            },
            "sizemode": "area",
            "sizeref": 1209.4062,
            "symbol": "circle"
           },
           "mode": "markers",
           "name": "Information & Finance",
           "orientation": "v",
           "showlegend": true,
           "type": "scatter",
           "x": {
            "bdata": "u+TRU3Ht/T8=",
            "dtype": "f8"
           },
           "xaxis": "x",
           "y": {
            "bdata": "uGbEl5LDAkA=",
            "dtype": "f8"
           },
           "yaxis": "y"
          },
          {
           "hovertemplate": "<b>%{hovertext}</b><br><br>Group=Manufacturing<br>Year=2001<br>x=%{x}<br>y=%{y}<br>Value=%{marker.size}<extra></extra>",
           "hovertext": [
            "Manufacturing"
           ],
           "legendgroup": "Manufacturing",
           "marker": {
            "color": "#00cc96",
            "size": {
             "bdata": "Q8o9AA==",
             "dtype": "i4"
            },
            "sizemode": "area",
            "sizeref": 1209.4062,
            "symbol": "circle"
           },
           "mode": "markers",
           "name": "Manufacturing",
           "orientation": "v",
           "showlegend": true,
           "type": "scatter",
           "x": {
            "bdata": "ILRBqqxc5b8=",
            "dtype": "f8"
           },
           "xaxis": "x",
           "y": {
            "bdata": "D68CBPVlB0A=",
            "dtype": "f8"
           },
           "yaxis": "y"
          },
          {
           "hovertemplate": "<b>%{hovertext}</b><br><br>Group=Primary Industries<br>Year=2001<br>x=%{x}<br>y=%{y}<br>Value=%{marker.size}<extra></extra>",
           "hovertext": [
            "Primary Industries"
           ],
           "legendgroup": "Primary Industries",
           "marker": {
            "color": "#ab63fa",
            "size": {
             "bdata": "9koHAA==",
             "dtype": "i4"
            },
            "sizemode": "area",
            "sizeref": 1209.4062,
            "symbol": "circle"
           },
           "mode": "markers",
           "name": "Primary Industries",
           "orientation": "v",
           "showlegend": true,
           "type": "scatter",
           "x": {
            "bdata": "VIVYf42fBcA=",
            "dtype": "f8"
           },
           "xaxis": "x",
           "y": {
            "bdata": "0kAVOpDT9D8=",
            "dtype": "f8"
           },
           "yaxis": "y"
          },
          {
           "hovertemplate": "<b>%{hovertext}</b><br><br>Group=Professional & Public Services<br>Year=2001<br>x=%{x}<br>y=%{y}<br>Value=%{marker.size}<extra></extra>",
           "hovertext": [
            "Professional & Public Services"
           ],
           "legendgroup": "Professional & Public Services",
           "marker": {
            "color": "#FFA15A",
            "size": {
             "bdata": "YO1DAA==",
             "dtype": "i4"
            },
            "sizemode": "area",
            "sizeref": 1209.4062,
            "symbol": "circle"
           },
           "mode": "markers",
           "name": "Professional & Public Services",
           "orientation": "v",
           "showlegend": true,
           "type": "scatter",
           "x": {
            "bdata": "VYVYf42fBcA=",
            "dtype": "f8"
           },
           "xaxis": "x",
           "y": {
            "bdata": "z0AVOpDT9L8=",
            "dtype": "f8"
           },
           "yaxis": "y"
          },
          {
           "hovertemplate": "<b>%{hovertext}</b><br><br>Group=Trade & Transportation<br>Year=2001<br>x=%{x}<br>y=%{y}<br>Value=%{marker.size}<extra></extra>",
           "hovertext": [
            "Trade & Transportation"
           ],
           "legendgroup": "Trade & Transportation",
           "marker": {
            "color": "#19d3f3",
            "size": {
             "bdata": "XkwlAA==",
             "dtype": "i4"
            },
            "sizemode": "area",
            "sizeref": 1209.4062,
            "symbol": "circle"
           },
           "mode": "markers",
           "name": "Trade & Transportation",
           "orientation": "v",
           "showlegend": true,
           "type": "scatter",
           "x": {
            "bdata": "J7RBqqxc5b8=",
            "dtype": "f8"
           },
           "xaxis": "x",
           "y": {
            "bdata": "D68CBPVlB8A=",
            "dtype": "f8"
           },
           "yaxis": "y"
          },
          {
           "hovertemplate": "<b>%{hovertext}</b><br><br>Group=Utilities & Construction<br>Year=2001<br>x=%{x}<br>y=%{y}<br>Value=%{marker.size}<extra></extra>",
           "hovertext": [
            "Utilities & Construction"
           ],
           "legendgroup": "Utilities & Construction",
           "marker": {
            "color": "#FF6692",
            "size": {
             "bdata": "sWkVAA==",
             "dtype": "i4"
            },
            "sizemode": "area",
            "sizeref": 1209.4062,
            "symbol": "circle"
           },
           "mode": "markers",
           "name": "Utilities & Construction",
           "orientation": "v",
           "showlegend": true,
           "type": "scatter",
           "x": {
            "bdata": "uOTRU3Ht/T8=",
            "dtype": "f8"
           },
           "xaxis": "x",
           "y": {
            "bdata": "uWbEl5LDAsA=",
            "dtype": "f8"
           },
           "yaxis": "y"
          }
         ],
         "name": "2001"
        },
        {
         "data": [
          {
           "hovertemplate": "<b>%{hovertext}</b><br><br>Group=Health, Education & Leisure<br>Year=2002<br>x=%{x}<br>y=%{y}<br>Value=%{marker.size}<extra></extra>",
           "hovertext": [
            "Health, Education & Leisure"
           ],
           "legendgroup": "Health, Education & Leisure",
           "marker": {
            "color": "#636efa",
            "size": {
             "bdata": "Ju0lAA==",
             "dtype": "i4"
            },
            "sizemode": "area",
            "sizeref": 1209.4062,
            "symbol": "circle"
           },
           "mode": "markers",
           "name": "Health, Education & Leisure",
           "orientation": "v",
           "showlegend": true,
           "type": "scatter",
           "x": {
            "bdata": "AAAAAAAACEA=",
            "dtype": "f8"
           },
           "xaxis": "x",
           "y": {
            "bdata": "AAAAAAAAAAA=",
            "dtype": "f8"
           },
           "yaxis": "y"
          },
          {
           "hovertemplate": "<b>%{hovertext}</b><br><br>Group=Information & Finance<br>Year=2002<br>x=%{x}<br>y=%{y}<br>Value=%{marker.size}<extra></extra>",
           "hovertext": [
            "Information & Finance"
           ],
           "legendgroup": "Information & Finance",
           "marker": {
            "color": "#EF553B",
            "size": {
             "bdata": "AN9CAA==",
             "dtype": "i4"
            },
            "sizemode": "area",
            "sizeref": 1209.4062,
            "symbol": "circle"
           },
           "mode": "markers",
           "name": "Information & Finance",
           "orientation": "v",
           "showlegend": true,
           "type": "scatter",
           "x": {
            "bdata": "u+TRU3Ht/T8=",
            "dtype": "f8"
           },
           "xaxis": "x",
           "y": {
            "bdata": "uGbEl5LDAkA=",
            "dtype": "f8"
           },
           "yaxis": "y"
          },
          {
           "hovertemplate": "<b>%{hovertext}</b><br><br>Group=Manufacturing<br>Year=2002<br>x=%{x}<br>y=%{y}<br>Value=%{marker.size}<extra></extra>",
           "hovertext": [
            "Manufacturing"
           ],
           "legendgroup": "Manufacturing",
           "marker": {
            "color": "#00cc96",
            "size": {
             "bdata": "QZw8AA==",
             "dtype": "i4"
            },
            "sizemode": "area",
            "sizeref": 1209.4062,
            "symbol": "circle"
           },
           "mode": "markers",
           "name": "Manufacturing",
           "orientation": "v",
           "showlegend": true,
           "type": "scatter",
           "x": {
            "bdata": "ILRBqqxc5b8=",
            "dtype": "f8"
           },
           "xaxis": "x",
           "y": {
            "bdata": "D68CBPVlB0A=",
            "dtype": "f8"
           },
           "yaxis": "y"
          },
          {
           "hovertemplate": "<b>%{hovertext}</b><br><br>Group=Primary Industries<br>Year=2002<br>x=%{x}<br>y=%{y}<br>Value=%{marker.size}<extra></extra>",
           "hovertext": [
            "Primary Industries"
           ],
           "legendgroup": "Primary Industries",
           "marker": {
            "color": "#ab63fa",
            "size": {
             "bdata": "Ya4GAA==",
             "dtype": "i4"
            },
            "sizemode": "area",
            "sizeref": 1209.4062,
            "symbol": "circle"
           },
           "mode": "markers",
           "name": "Primary Industries",
           "orientation": "v",
           "showlegend": true,
           "type": "scatter",
           "x": {
            "bdata": "VIVYf42fBcA=",
            "dtype": "f8"
           },
           "xaxis": "x",
           "y": {
            "bdata": "0kAVOpDT9D8=",
            "dtype": "f8"
           },
           "yaxis": "y"
          },
          {
           "hovertemplate": "<b>%{hovertext}</b><br><br>Group=Professional & Public Services<br>Year=2002<br>x=%{x}<br>y=%{y}<br>Value=%{marker.size}<extra></extra>",
           "hovertext": [
            "Professional & Public Services"
           ],
           "legendgroup": "Professional & Public Services",
           "marker": {
            "color": "#FFA15A",
            "size": {
             "bdata": "Qh1HAA==",
             "dtype": "i4"
            },
            "sizemode": "area",
            "sizeref": 1209.4062,
            "symbol": "circle"
           },
           "mode": "markers",
           "name": "Professional & Public Services",
           "orientation": "v",
           "showlegend": true,
           "type": "scatter",
           "x": {
            "bdata": "VYVYf42fBcA=",
            "dtype": "f8"
           },
           "xaxis": "x",
           "y": {
            "bdata": "z0AVOpDT9L8=",
            "dtype": "f8"
           },
           "yaxis": "y"
          },
          {
           "hovertemplate": "<b>%{hovertext}</b><br><br>Group=Trade & Transportation<br>Year=2002<br>x=%{x}<br>y=%{y}<br>Value=%{marker.size}<extra></extra>",
           "hovertext": [
            "Trade & Transportation"
           ],
           "legendgroup": "Trade & Transportation",
           "marker": {
            "color": "#19d3f3",
            "size": {
             "bdata": "pqQmAA==",
             "dtype": "i4"
            },
            "sizemode": "area",
            "sizeref": 1209.4062,
            "symbol": "circle"
           },
           "mode": "markers",
           "name": "Trade & Transportation",
           "orientation": "v",
           "showlegend": true,
           "type": "scatter",
           "x": {
            "bdata": "J7RBqqxc5b8=",
            "dtype": "f8"
           },
           "xaxis": "x",
           "y": {
            "bdata": "D68CBPVlB8A=",
            "dtype": "f8"
           },
           "yaxis": "y"
          },
          {
           "hovertemplate": "<b>%{hovertext}</b><br><br>Group=Utilities & Construction<br>Year=2002<br>x=%{x}<br>y=%{y}<br>Value=%{marker.size}<extra></extra>",
           "hovertext": [
            "Utilities & Construction"
           ],
           "legendgroup": "Utilities & Construction",
           "marker": {
            "color": "#FF6692",
            "size": {
             "bdata": "y8ITAA==",
             "dtype": "i4"
            },
            "sizemode": "area",
            "sizeref": 1209.4062,
            "symbol": "circle"
           },
           "mode": "markers",
           "name": "Utilities & Construction",
           "orientation": "v",
           "showlegend": true,
           "type": "scatter",
           "x": {
            "bdata": "uOTRU3Ht/T8=",
            "dtype": "f8"
           },
           "xaxis": "x",
           "y": {
            "bdata": "uWbEl5LDAsA=",
            "dtype": "f8"
           },
           "yaxis": "y"
          }
         ],
         "name": "2002"
        },
        {
         "data": [
          {
           "hovertemplate": "<b>%{hovertext}</b><br><br>Group=Health, Education & Leisure<br>Year=2003<br>x=%{x}<br>y=%{y}<br>Value=%{marker.size}<extra></extra>",
           "hovertext": [
            "Health, Education & Leisure"
           ],
           "legendgroup": "Health, Education & Leisure",
           "marker": {
            "color": "#636efa",
            "size": {
             "bdata": "twQoAA==",
             "dtype": "i4"
            },
            "sizemode": "area",
            "sizeref": 1209.4062,
            "symbol": "circle"
           },
           "mode": "markers",
           "name": "Health, Education & Leisure",
           "orientation": "v",
           "showlegend": true,
           "type": "scatter",
           "x": {
            "bdata": "AAAAAAAACEA=",
            "dtype": "f8"
           },
           "xaxis": "x",
           "y": {
            "bdata": "AAAAAAAAAAA=",
            "dtype": "f8"
           },
           "yaxis": "y"
          },
          {
           "hovertemplate": "<b>%{hovertext}</b><br><br>Group=Information & Finance<br>Year=2003<br>x=%{x}<br>y=%{y}<br>Value=%{marker.size}<extra></extra>",
           "hovertext": [
            "Information & Finance"
           ],
           "legendgroup": "Information & Finance",
           "marker": {
            "color": "#EF553B",
            "size": {
             "bdata": "XFdGAA==",
             "dtype": "i4"
            },
            "sizemode": "area",
            "sizeref": 1209.4062,
            "symbol": "circle"
           },
           "mode": "markers",
           "name": "Information & Finance",
           "orientation": "v",
           "showlegend": true,
           "type": "scatter",
           "x": {
            "bdata": "u+TRU3Ht/T8=",
            "dtype": "f8"
           },
           "xaxis": "x",
           "y": {
            "bdata": "uGbEl5LDAkA=",
            "dtype": "f8"
           },
           "yaxis": "y"
          },
          {
           "hovertemplate": "<b>%{hovertext}</b><br><br>Group=Manufacturing<br>Year=2003<br>x=%{x}<br>y=%{y}<br>Value=%{marker.size}<extra></extra>",
           "hovertext": [
            "Manufacturing"
           ],
           "legendgroup": "Manufacturing",
           "marker": {
            "color": "#00cc96",
            "size": {
             "bdata": "9M89AA==",
             "dtype": "i4"
            },
            "sizemode": "area",
            "sizeref": 1209.4062,
            "symbol": "circle"
           },
           "mode": "markers",
           "name": "Manufacturing",
           "orientation": "v",
           "showlegend": true,
           "type": "scatter",
           "x": {
            "bdata": "ILRBqqxc5b8=",
            "dtype": "f8"
           },
           "xaxis": "x",
           "y": {
            "bdata": "D68CBPVlB0A=",
            "dtype": "f8"
           },
           "yaxis": "y"
          },
          {
           "hovertemplate": "<b>%{hovertext}</b><br><br>Group=Primary Industries<br>Year=2003<br>x=%{x}<br>y=%{y}<br>Value=%{marker.size}<extra></extra>",
           "hovertext": [
            "Primary Industries"
           ],
           "legendgroup": "Primary Industries",
           "marker": {
            "color": "#ab63fa",
            "size": {
             "bdata": "0vcHAA==",
             "dtype": "i4"
            },
            "sizemode": "area",
            "sizeref": 1209.4062,
            "symbol": "circle"
           },
           "mode": "markers",
           "name": "Primary Industries",
           "orientation": "v",
           "showlegend": true,
           "type": "scatter",
           "x": {
            "bdata": "VIVYf42fBcA=",
            "dtype": "f8"
           },
           "xaxis": "x",
           "y": {
            "bdata": "0kAVOpDT9D8=",
            "dtype": "f8"
           },
           "yaxis": "y"
          },
          {
           "hovertemplate": "<b>%{hovertext}</b><br><br>Group=Professional & Public Services<br>Year=2003<br>x=%{x}<br>y=%{y}<br>Value=%{marker.size}<extra></extra>",
           "hovertext": [
            "Professional & Public Services"
           ],
           "legendgroup": "Professional & Public Services",
           "marker": {
            "color": "#FFA15A",
            "size": {
             "bdata": "yJBLAA==",
             "dtype": "i4"
            },
            "sizemode": "area",
            "sizeref": 1209.4062,
            "symbol": "circle"
           },
           "mode": "markers",
           "name": "Professional & Public Services",
           "orientation": "v",
           "showlegend": true,
           "type": "scatter",
           "x": {
            "bdata": "VYVYf42fBcA=",
            "dtype": "f8"
           },
           "xaxis": "x",
           "y": {
            "bdata": "z0AVOpDT9L8=",
            "dtype": "f8"
           },
           "yaxis": "y"
          },
          {
           "hovertemplate": "<b>%{hovertext}</b><br><br>Group=Trade & Transportation<br>Year=2003<br>x=%{x}<br>y=%{y}<br>Value=%{marker.size}<extra></extra>",
           "hovertext": [
            "Trade & Transportation"
           ],
           "legendgroup": "Trade & Transportation",
           "marker": {
            "color": "#19d3f3",
            "size": {
             "bdata": "K6soAA==",
             "dtype": "i4"
            },
            "sizemode": "area",
            "sizeref": 1209.4062,
            "symbol": "circle"
           },
           "mode": "markers",
           "name": "Trade & Transportation",
           "orientation": "v",
           "showlegend": true,
           "type": "scatter",
           "x": {
            "bdata": "J7RBqqxc5b8=",
            "dtype": "f8"
           },
           "xaxis": "x",
           "y": {
            "bdata": "D68CBPVlB8A=",
            "dtype": "f8"
           },
           "yaxis": "y"
          },
          {
           "hovertemplate": "<b>%{hovertext}</b><br><br>Group=Utilities & Construction<br>Year=2003<br>x=%{x}<br>y=%{y}<br>Value=%{marker.size}<extra></extra>",
           "hovertext": [
            "Utilities & Construction"
           ],
           "legendgroup": "Utilities & Construction",
           "marker": {
            "color": "#FF6692",
            "size": {
             "bdata": "yBgVAA==",
             "dtype": "i4"
            },
            "sizemode": "area",
            "sizeref": 1209.4062,
            "symbol": "circle"
           },
           "mode": "markers",
           "name": "Utilities & Construction",
           "orientation": "v",
           "showlegend": true,
           "type": "scatter",
           "x": {
            "bdata": "uOTRU3Ht/T8=",
            "dtype": "f8"
           },
           "xaxis": "x",
           "y": {
            "bdata": "uWbEl5LDAsA=",
            "dtype": "f8"
           },
           "yaxis": "y"
          }
         ],
         "name": "2003"
        },
        {
         "data": [
          {
           "hovertemplate": "<b>%{hovertext}</b><br><br>Group=Health, Education & Leisure<br>Year=2004<br>x=%{x}<br>y=%{y}<br>Value=%{marker.size}<extra></extra>",
           "hovertext": [
            "Health, Education & Leisure"
           ],
           "legendgroup": "Health, Education & Leisure",
           "marker": {
            "color": "#636efa",
            "size": {
             "bdata": "NmIqAA==",
             "dtype": "i4"
            },
            "sizemode": "area",
            "sizeref": 1209.4062,
            "symbol": "circle"
           },
           "mode": "markers",
           "name": "Health, Education & Leisure",
           "orientation": "v",
           "showlegend": true,
           "type": "scatter",
           "x": {
            "bdata": "AAAAAAAACEA=",
            "dtype": "f8"
           },
           "xaxis": "x",
           "y": {
            "bdata": "AAAAAAAAAAA=",
            "dtype": "f8"
           },
           "yaxis": "y"
          },
          {
           "hovertemplate": "<b>%{hovertext}</b><br><br>Group=Information & Finance<br>Year=2004<br>x=%{x}<br>y=%{y}<br>Value=%{marker.size}<extra></extra>",
           "hovertext": [
            "Information & Finance"
           ],
           "legendgroup": "Information & Finance",
           "marker": {
            "color": "#EF553B",
            "size": {
             "bdata": "Y49LAA==",
             "dtype": "i4"
            },
            "sizemode": "area",
            "sizeref": 1209.4062,
            "symbol": "circle"
           },
           "mode": "markers",
           "name": "Information & Finance",
           "orientation": "v",
           "showlegend": true,
           "type": "scatter",
           "x": {
            "bdata": "u+TRU3Ht/T8=",
            "dtype": "f8"
           },
           "xaxis": "x",
           "y": {
            "bdata": "uGbEl5LDAkA=",
            "dtype": "f8"
           },
           "yaxis": "y"
          },
          {
           "hovertemplate": "<b>%{hovertext}</b><br><br>Group=Manufacturing<br>Year=2004<br>x=%{x}<br>y=%{y}<br>Value=%{marker.size}<extra></extra>",
           "hovertext": [
            "Manufacturing"
           ],
           "legendgroup": "Manufacturing",
           "marker": {
            "color": "#00cc96",
            "size": {
             "bdata": "z4VCAA==",
             "dtype": "i4"
            },
            "sizemode": "area",
            "sizeref": 1209.4062,
            "symbol": "circle"
           },
           "mode": "markers",
           "name": "Manufacturing",
           "orientation": "v",
           "showlegend": true,
           "type": "scatter",
           "x": {
            "bdata": "ILRBqqxc5b8=",
            "dtype": "f8"
           },
           "xaxis": "x",
           "y": {
            "bdata": "D68CBPVlB0A=",
            "dtype": "f8"
           },
           "yaxis": "y"
          },
          {
           "hovertemplate": "<b>%{hovertext}</b><br><br>Group=Primary Industries<br>Year=2004<br>x=%{x}<br>y=%{y}<br>Value=%{marker.size}<extra></extra>",
           "hovertext": [
            "Primary Industries"
           ],
           "legendgroup": "Primary Industries",
           "marker": {
            "color": "#ab63fa",
            "size": {
             "bdata": "ZUkJAA==",
             "dtype": "i4"
            },
            "sizemode": "area",
            "sizeref": 1209.4062,
            "symbol": "circle"
           },
           "mode": "markers",
           "name": "Primary Industries",
           "orientation": "v",
           "showlegend": true,
           "type": "scatter",
           "x": {
            "bdata": "VIVYf42fBcA=",
            "dtype": "f8"
           },
           "xaxis": "x",
           "y": {
            "bdata": "0kAVOpDT9D8=",
            "dtype": "f8"
           },
           "yaxis": "y"
          },
          {
           "hovertemplate": "<b>%{hovertext}</b><br><br>Group=Professional & Public Services<br>Year=2004<br>x=%{x}<br>y=%{y}<br>Value=%{marker.size}<extra></extra>",
           "hovertext": [
            "Professional & Public Services"
           ],
           "legendgroup": "Professional & Public Services",
           "marker": {
            "color": "#FFA15A",
            "size": {
             "bdata": "ltdQAA==",
             "dtype": "i4"
            },
            "sizemode": "area",
            "sizeref": 1209.4062,
            "symbol": "circle"
           },
           "mode": "markers",
           "name": "Professional & Public Services",
           "orientation": "v",
           "showlegend": true,
           "type": "scatter",
           "x": {
            "bdata": "VYVYf42fBcA=",
            "dtype": "f8"
           },
           "xaxis": "x",
           "y": {
            "bdata": "z0AVOpDT9L8=",
            "dtype": "f8"
           },
           "yaxis": "y"
          },
          {
           "hovertemplate": "<b>%{hovertext}</b><br><br>Group=Trade & Transportation<br>Year=2004<br>x=%{x}<br>y=%{y}<br>Value=%{marker.size}<extra></extra>",
           "hovertext": [
            "Trade & Transportation"
           ],
           "legendgroup": "Trade & Transportation",
           "marker": {
            "color": "#19d3f3",
            "size": {
             "bdata": "X0csAA==",
             "dtype": "i4"
            },
            "sizemode": "area",
            "sizeref": 1209.4062,
            "symbol": "circle"
           },
           "mode": "markers",
           "name": "Trade & Transportation",
           "orientation": "v",
           "showlegend": true,
           "type": "scatter",
           "x": {
            "bdata": "J7RBqqxc5b8=",
            "dtype": "f8"
           },
           "xaxis": "x",
           "y": {
            "bdata": "D68CBPVlB8A=",
            "dtype": "f8"
           },
           "yaxis": "y"
          },
          {
           "hovertemplate": "<b>%{hovertext}</b><br><br>Group=Utilities & Construction<br>Year=2004<br>x=%{x}<br>y=%{y}<br>Value=%{marker.size}<extra></extra>",
           "hovertext": [
            "Utilities & Construction"
           ],
           "legendgroup": "Utilities & Construction",
           "marker": {
            "color": "#FF6692",
            "size": {
             "bdata": "igkXAA==",
             "dtype": "i4"
            },
            "sizemode": "area",
            "sizeref": 1209.4062,
            "symbol": "circle"
           },
           "mode": "markers",
           "name": "Utilities & Construction",
           "orientation": "v",
           "showlegend": true,
           "type": "scatter",
           "x": {
            "bdata": "uOTRU3Ht/T8=",
            "dtype": "f8"
           },
           "xaxis": "x",
           "y": {
            "bdata": "uWbEl5LDAsA=",
            "dtype": "f8"
           },
           "yaxis": "y"
          }
         ],
         "name": "2004"
        },
        {
         "data": [
          {
           "hovertemplate": "<b>%{hovertext}</b><br><br>Group=Health, Education & Leisure<br>Year=2005<br>x=%{x}<br>y=%{y}<br>Value=%{marker.size}<extra></extra>",
           "hovertext": [
            "Health, Education & Leisure"
           ],
           "legendgroup": "Health, Education & Leisure",
           "marker": {
            "color": "#636efa",
            "size": {
             "bdata": "ALwsAA==",
             "dtype": "i4"
            },
            "sizemode": "area",
            "sizeref": 1209.4062,
            "symbol": "circle"
           },
           "mode": "markers",
           "name": "Health, Education & Leisure",
           "orientation": "v",
           "showlegend": true,
           "type": "scatter",
           "x": {
            "bdata": "AAAAAAAACEA=",
            "dtype": "f8"
           },
           "xaxis": "x",
           "y": {
            "bdata": "AAAAAAAAAAA=",
            "dtype": "f8"
           },
           "yaxis": "y"
          },
          {
           "hovertemplate": "<b>%{hovertext}</b><br><br>Group=Information & Finance<br>Year=2005<br>x=%{x}<br>y=%{y}<br>Value=%{marker.size}<extra></extra>",
           "hovertext": [
            "Information & Finance"
           ],
           "legendgroup": "Information & Finance",
           "marker": {
            "color": "#EF553B",
            "size": {
             "bdata": "rxBSAA==",
             "dtype": "i4"
            },
            "sizemode": "area",
            "sizeref": 1209.4062,
            "symbol": "circle"
           },
           "mode": "markers",
           "name": "Information & Finance",
           "orientation": "v",
           "showlegend": true,
           "type": "scatter",
           "x": {
            "bdata": "u+TRU3Ht/T8=",
            "dtype": "f8"
           },
           "xaxis": "x",
           "y": {
            "bdata": "uGbEl5LDAkA=",
            "dtype": "f8"
           },
           "yaxis": "y"
          },
          {
           "hovertemplate": "<b>%{hovertext}</b><br><br>Group=Manufacturing<br>Year=2005<br>x=%{x}<br>y=%{y}<br>Value=%{marker.size}<extra></extra>",
           "hovertext": [
            "Manufacturing"
           ],
           "legendgroup": "Manufacturing",
           "marker": {
            "color": "#00cc96",
            "size": {
             "bdata": "oFFJAA==",
             "dtype": "i4"
            },
            "sizemode": "area",
            "sizeref": 1209.4062,
            "symbol": "circle"
           },
           "mode": "markers",
           "name": "Manufacturing",
           "orientation": "v",
           "showlegend": true,
           "type": "scatter",
           "x": {
            "bdata": "ILRBqqxc5b8=",
            "dtype": "f8"
           },
           "xaxis": "x",
           "y": {
            "bdata": "D68CBPVlB0A=",
            "dtype": "f8"
           },
           "yaxis": "y"
          },
          {
           "hovertemplate": "<b>%{hovertext}</b><br><br>Group=Primary Industries<br>Year=2005<br>x=%{x}<br>y=%{y}<br>Value=%{marker.size}<extra></extra>",
           "hovertext": [
            "Primary Industries"
           ],
           "legendgroup": "Primary Industries",
           "marker": {
            "color": "#ab63fa",
            "size": {
             "bdata": "iZkKAA==",
             "dtype": "i4"
            },
            "sizemode": "area",
            "sizeref": 1209.4062,
            "symbol": "circle"
           },
           "mode": "markers",
           "name": "Primary Industries",
           "orientation": "v",
           "showlegend": true,
           "type": "scatter",
           "x": {
            "bdata": "VIVYf42fBcA=",
            "dtype": "f8"
           },
           "xaxis": "x",
           "y": {
            "bdata": "0kAVOpDT9D8=",
            "dtype": "f8"
           },
           "yaxis": "y"
          },
          {
           "hovertemplate": "<b>%{hovertext}</b><br><br>Group=Professional & Public Services<br>Year=2005<br>x=%{x}<br>y=%{y}<br>Value=%{marker.size}<extra></extra>",
           "hovertext": [
            "Professional & Public Services"
           ],
           "legendgroup": "Professional & Public Services",
           "marker": {
            "color": "#FFA15A",
            "size": {
             "bdata": "GoVWAA==",
             "dtype": "i4"
            },
            "sizemode": "area",
            "sizeref": 1209.4062,
            "symbol": "circle"
           },
           "mode": "markers",
           "name": "Professional & Public Services",
           "orientation": "v",
           "showlegend": true,
           "type": "scatter",
           "x": {
            "bdata": "VYVYf42fBcA=",
            "dtype": "f8"
           },
           "xaxis": "x",
           "y": {
            "bdata": "z0AVOpDT9L8=",
            "dtype": "f8"
           },
           "yaxis": "y"
          },
          {
           "hovertemplate": "<b>%{hovertext}</b><br><br>Group=Trade & Transportation<br>Year=2005<br>x=%{x}<br>y=%{y}<br>Value=%{marker.size}<extra></extra>",
           "hovertext": [
            "Trade & Transportation"
           ],
           "legendgroup": "Trade & Transportation",
           "marker": {
            "color": "#19d3f3",
            "size": {
             "bdata": "REwvAA==",
             "dtype": "i4"
            },
            "sizemode": "area",
            "sizeref": 1209.4062,
            "symbol": "circle"
           },
           "mode": "markers",
           "name": "Trade & Transportation",
           "orientation": "v",
           "showlegend": true,
           "type": "scatter",
           "x": {
            "bdata": "J7RBqqxc5b8=",
            "dtype": "f8"
           },
           "xaxis": "x",
           "y": {
            "bdata": "D68CBPVlB8A=",
            "dtype": "f8"
           },
           "yaxis": "y"
          },
          {
           "hovertemplate": "<b>%{hovertext}</b><br><br>Group=Utilities & Construction<br>Year=2005<br>x=%{x}<br>y=%{y}<br>Value=%{marker.size}<extra></extra>",
           "hovertext": [
            "Utilities & Construction"
           ],
           "legendgroup": "Utilities & Construction",
           "marker": {
            "color": "#FF6692",
            "size": {
             "bdata": "mP0ZAA==",
             "dtype": "i4"
            },
            "sizemode": "area",
            "sizeref": 1209.4062,
            "symbol": "circle"
           },
           "mode": "markers",
           "name": "Utilities & Construction",
           "orientation": "v",
           "showlegend": true,
           "type": "scatter",
           "x": {
            "bdata": "uOTRU3Ht/T8=",
            "dtype": "f8"
           },
           "xaxis": "x",
           "y": {
            "bdata": "uWbEl5LDAsA=",
            "dtype": "f8"
           },
           "yaxis": "y"
          }
         ],
         "name": "2005"
        },
        {
         "data": [
          {
           "hovertemplate": "<b>%{hovertext}</b><br><br>Group=Health, Education & Leisure<br>Year=2006<br>x=%{x}<br>y=%{y}<br>Value=%{marker.size}<extra></extra>",
           "hovertext": [
            "Health, Education & Leisure"
           ],
           "legendgroup": "Health, Education & Leisure",
           "marker": {
            "color": "#636efa",
            "size": {
             "bdata": "U3gvAA==",
             "dtype": "i4"
            },
            "sizemode": "area",
            "sizeref": 1209.4062,
            "symbol": "circle"
           },
           "mode": "markers",
           "name": "Health, Education & Leisure",
           "orientation": "v",
           "showlegend": true,
           "type": "scatter",
           "x": {
            "bdata": "AAAAAAAACEA=",
            "dtype": "f8"
           },
           "xaxis": "x",
           "y": {
            "bdata": "AAAAAAAAAAA=",
            "dtype": "f8"
           },
           "yaxis": "y"
          },
          {
           "hovertemplate": "<b>%{hovertext}</b><br><br>Group=Information & Finance<br>Year=2006<br>x=%{x}<br>y=%{y}<br>Value=%{marker.size}<extra></extra>",
           "hovertext": [
            "Information & Finance"
           ],
           "legendgroup": "Information & Finance",
           "marker": {
            "color": "#EF553B",
            "size": {
             "bdata": "d2RWAA==",
             "dtype": "i4"
            },
            "sizemode": "area",
            "sizeref": 1209.4062,
            "symbol": "circle"
           },
           "mode": "markers",
           "name": "Information & Finance",
           "orientation": "v",
           "showlegend": true,
           "type": "scatter",
           "x": {
            "bdata": "u+TRU3Ht/T8=",
            "dtype": "f8"
           },
           "xaxis": "x",
           "y": {
            "bdata": "uGbEl5LDAkA=",
            "dtype": "f8"
           },
           "yaxis": "y"
          },
          {
           "hovertemplate": "<b>%{hovertext}</b><br><br>Group=Manufacturing<br>Year=2006<br>x=%{x}<br>y=%{y}<br>Value=%{marker.size}<extra></extra>",
           "hovertext": [
            "Manufacturing"
           ],
           "legendgroup": "Manufacturing",
           "marker": {
            "color": "#00cc96",
            "size": {
             "bdata": "1rNNAA==",
             "dtype": "i4"
            },
            "sizemode": "area",
            "sizeref": 1209.4062,
            "symbol": "circle"
           },
           "mode": "markers",
           "name": "Manufacturing",
           "orientation": "v",
           "showlegend": true,
           "type": "scatter",
           "x": {
            "bdata": "ILRBqqxc5b8=",
            "dtype": "f8"
           },
           "xaxis": "x",
           "y": {
            "bdata": "D68CBPVlB0A=",
            "dtype": "f8"
           },
           "yaxis": "y"
          },
          {
           "hovertemplate": "<b>%{hovertext}</b><br><br>Group=Primary Industries<br>Year=2006<br>x=%{x}<br>y=%{y}<br>Value=%{marker.size}<extra></extra>",
           "hovertext": [
            "Primary Industries"
           ],
           "legendgroup": "Primary Industries",
           "marker": {
            "color": "#ab63fa",
            "size": {
             "bdata": "lG4LAA==",
             "dtype": "i4"
            },
            "sizemode": "area",
            "sizeref": 1209.4062,
            "symbol": "circle"
           },
           "mode": "markers",
           "name": "Primary Industries",
           "orientation": "v",
           "showlegend": true,
           "type": "scatter",
           "x": {
            "bdata": "VIVYf42fBcA=",
            "dtype": "f8"
           },
           "xaxis": "x",
           "y": {
            "bdata": "0kAVOpDT9D8=",
            "dtype": "f8"
           },
           "yaxis": "y"
          },
          {
           "hovertemplate": "<b>%{hovertext}</b><br><br>Group=Professional & Public Services<br>Year=2006<br>x=%{x}<br>y=%{y}<br>Value=%{marker.size}<extra></extra>",
           "hovertext": [
            "Professional & Public Services"
           ],
           "legendgroup": "Professional & Public Services",
           "marker": {
            "color": "#FFA15A",
            "size": {
             "bdata": "jONbAA==",
             "dtype": "i4"
            },
            "sizemode": "area",
            "sizeref": 1209.4062,
            "symbol": "circle"
           },
           "mode": "markers",
           "name": "Professional & Public Services",
           "orientation": "v",
           "showlegend": true,
           "type": "scatter",
           "x": {
            "bdata": "VYVYf42fBcA=",
            "dtype": "f8"
           },
           "xaxis": "x",
           "y": {
            "bdata": "z0AVOpDT9L8=",
            "dtype": "f8"
           },
           "yaxis": "y"
          },
          {
           "hovertemplate": "<b>%{hovertext}</b><br><br>Group=Trade & Transportation<br>Year=2006<br>x=%{x}<br>y=%{y}<br>Value=%{marker.size}<extra></extra>",
           "hovertext": [
            "Trade & Transportation"
           ],
           "legendgroup": "Trade & Transportation",
           "marker": {
            "color": "#19d3f3",
            "size": {
             "bdata": "gaUyAA==",
             "dtype": "i4"
            },
            "sizemode": "area",
            "sizeref": 1209.4062,
            "symbol": "circle"
           },
           "mode": "markers",
           "name": "Trade & Transportation",
           "orientation": "v",
           "showlegend": true,
           "type": "scatter",
           "x": {
            "bdata": "J7RBqqxc5b8=",
            "dtype": "f8"
           },
           "xaxis": "x",
           "y": {
            "bdata": "D68CBPVlB8A=",
            "dtype": "f8"
           },
           "yaxis": "y"
          },
          {
           "hovertemplate": "<b>%{hovertext}</b><br><br>Group=Utilities & Construction<br>Year=2006<br>x=%{x}<br>y=%{y}<br>Value=%{marker.size}<extra></extra>",
           "hovertext": [
            "Utilities & Construction"
           ],
           "legendgroup": "Utilities & Construction",
           "marker": {
            "color": "#FF6692",
            "size": {
             "bdata": "4hcbAA==",
             "dtype": "i4"
            },
            "sizemode": "area",
            "sizeref": 1209.4062,
            "symbol": "circle"
           },
           "mode": "markers",
           "name": "Utilities & Construction",
           "orientation": "v",
           "showlegend": true,
           "type": "scatter",
           "x": {
            "bdata": "uOTRU3Ht/T8=",
            "dtype": "f8"
           },
           "xaxis": "x",
           "y": {
            "bdata": "uWbEl5LDAsA=",
            "dtype": "f8"
           },
           "yaxis": "y"
          }
         ],
         "name": "2006"
        },
        {
         "data": [
          {
           "hovertemplate": "<b>%{hovertext}</b><br><br>Group=Health, Education & Leisure<br>Year=2007<br>x=%{x}<br>y=%{y}<br>Value=%{marker.size}<extra></extra>",
           "hovertext": [
            "Health, Education & Leisure"
           ],
           "legendgroup": "Health, Education & Leisure",
           "marker": {
            "color": "#636efa",
            "size": {
             "bdata": "9/IxAA==",
             "dtype": "i4"
            },
            "sizemode": "area",
            "sizeref": 1209.4062,
            "symbol": "circle"
           },
           "mode": "markers",
           "name": "Health, Education & Leisure",
           "orientation": "v",
           "showlegend": true,
           "type": "scatter",
           "x": {
            "bdata": "AAAAAAAACEA=",
            "dtype": "f8"
           },
           "xaxis": "x",
           "y": {
            "bdata": "AAAAAAAAAAA=",
            "dtype": "f8"
           },
           "yaxis": "y"
          },
          {
           "hovertemplate": "<b>%{hovertext}</b><br><br>Group=Information & Finance<br>Year=2007<br>x=%{x}<br>y=%{y}<br>Value=%{marker.size}<extra></extra>",
           "hovertext": [
            "Information & Finance"
           ],
           "legendgroup": "Information & Finance",
           "marker": {
            "color": "#EF553B",
            "size": {
             "bdata": "ACNaAA==",
             "dtype": "i4"
            },
            "sizemode": "area",
            "sizeref": 1209.4062,
            "symbol": "circle"
           },
           "mode": "markers",
           "name": "Information & Finance",
           "orientation": "v",
           "showlegend": true,
           "type": "scatter",
           "x": {
            "bdata": "u+TRU3Ht/T8=",
            "dtype": "f8"
           },
           "xaxis": "x",
           "y": {
            "bdata": "uGbEl5LDAkA=",
            "dtype": "f8"
           },
           "yaxis": "y"
          },
          {
           "hovertemplate": "<b>%{hovertext}</b><br><br>Group=Manufacturing<br>Year=2007<br>x=%{x}<br>y=%{y}<br>Value=%{marker.size}<extra></extra>",
           "hovertext": [
            "Manufacturing"
           ],
           "legendgroup": "Manufacturing",
           "marker": {
            "color": "#00cc96",
            "size": {
             "bdata": "2npSAA==",
             "dtype": "i4"
            },
            "sizemode": "area",
            "sizeref": 1209.4062,
            "symbol": "circle"
           },
           "mode": "markers",
           "name": "Manufacturing",
           "orientation": "v",
           "showlegend": true,
           "type": "scatter",
           "x": {
            "bdata": "ILRBqqxc5b8=",
            "dtype": "f8"
           },
           "xaxis": "x",
           "y": {
            "bdata": "D68CBPVlB0A=",
            "dtype": "f8"
           },
           "yaxis": "y"
          },
          {
           "hovertemplate": "<b>%{hovertext}</b><br><br>Group=Primary Industries<br>Year=2007<br>x=%{x}<br>y=%{y}<br>Value=%{marker.size}<extra></extra>",
           "hovertext": [
            "Primary Industries"
           ],
           "legendgroup": "Primary Industries",
           "marker": {
            "color": "#ab63fa",
            "size": {
             "bdata": "RZkMAA==",
             "dtype": "i4"
            },
            "sizemode": "area",
            "sizeref": 1209.4062,
            "symbol": "circle"
           },
           "mode": "markers",
           "name": "Primary Industries",
           "orientation": "v",
           "showlegend": true,
           "type": "scatter",
           "x": {
            "bdata": "VIVYf42fBcA=",
            "dtype": "f8"
           },
           "xaxis": "x",
           "y": {
            "bdata": "0kAVOpDT9D8=",
            "dtype": "f8"
           },
           "yaxis": "y"
          },
          {
           "hovertemplate": "<b>%{hovertext}</b><br><br>Group=Professional & Public Services<br>Year=2007<br>x=%{x}<br>y=%{y}<br>Value=%{marker.size}<extra></extra>",
           "hovertext": [
            "Professional & Public Services"
           ],
           "legendgroup": "Professional & Public Services",
           "marker": {
            "color": "#FFA15A",
            "size": {
             "bdata": "CfFhAA==",
             "dtype": "i4"
            },
            "sizemode": "area",
            "sizeref": 1209.4062,
            "symbol": "circle"
           },
           "mode": "markers",
           "name": "Professional & Public Services",
           "orientation": "v",
           "showlegend": true,
           "type": "scatter",
           "x": {
            "bdata": "VYVYf42fBcA=",
            "dtype": "f8"
           },
           "xaxis": "x",
           "y": {
            "bdata": "z0AVOpDT9L8=",
            "dtype": "f8"
           },
           "yaxis": "y"
          },
          {
           "hovertemplate": "<b>%{hovertext}</b><br><br>Group=Trade & Transportation<br>Year=2007<br>x=%{x}<br>y=%{y}<br>Value=%{marker.size}<extra></extra>",
           "hovertext": [
            "Trade & Transportation"
           ],
           "legendgroup": "Trade & Transportation",
           "marker": {
            "color": "#19d3f3",
            "size": {
             "bdata": "UfQ0AA==",
             "dtype": "i4"
            },
            "sizemode": "area",
            "sizeref": 1209.4062,
            "symbol": "circle"
           },
           "mode": "markers",
           "name": "Trade & Transportation",
           "orientation": "v",
           "showlegend": true,
           "type": "scatter",
           "x": {
            "bdata": "J7RBqqxc5b8=",
            "dtype": "f8"
           },
           "xaxis": "x",
           "y": {
            "bdata": "D68CBPVlB8A=",
            "dtype": "f8"
           },
           "yaxis": "y"
          },
          {
           "hovertemplate": "<b>%{hovertext}</b><br><br>Group=Utilities & Construction<br>Year=2007<br>x=%{x}<br>y=%{y}<br>Value=%{marker.size}<extra></extra>",
           "hovertext": [
            "Utilities & Construction"
           ],
           "legendgroup": "Utilities & Construction",
           "marker": {
            "color": "#FF6692",
            "size": {
             "bdata": "cVIbAA==",
             "dtype": "i4"
            },
            "sizemode": "area",
            "sizeref": 1209.4062,
            "symbol": "circle"
           },
           "mode": "markers",
           "name": "Utilities & Construction",
           "orientation": "v",
           "showlegend": true,
           "type": "scatter",
           "x": {
            "bdata": "uOTRU3Ht/T8=",
            "dtype": "f8"
           },
           "xaxis": "x",
           "y": {
            "bdata": "uWbEl5LDAsA=",
            "dtype": "f8"
           },
           "yaxis": "y"
          }
         ],
         "name": "2007"
        },
        {
         "data": [
          {
           "hovertemplate": "<b>%{hovertext}</b><br><br>Group=Health, Education & Leisure<br>Year=2008<br>x=%{x}<br>y=%{y}<br>Value=%{marker.size}<extra></extra>",
           "hovertext": [
            "Health, Education & Leisure"
           ],
           "legendgroup": "Health, Education & Leisure",
           "marker": {
            "color": "#636efa",
            "size": {
             "bdata": "TU80AA==",
             "dtype": "i4"
            },
            "sizemode": "area",
            "sizeref": 1209.4062,
            "symbol": "circle"
           },
           "mode": "markers",
           "name": "Health, Education & Leisure",
           "orientation": "v",
           "showlegend": true,
           "type": "scatter",
           "x": {
            "bdata": "AAAAAAAACEA=",
            "dtype": "f8"
           },
           "xaxis": "x",
           "y": {
            "bdata": "AAAAAAAAAAA=",
            "dtype": "f8"
           },
           "yaxis": "y"
          },
          {
           "hovertemplate": "<b>%{hovertext}</b><br><br>Group=Information & Finance<br>Year=2008<br>x=%{x}<br>y=%{y}<br>Value=%{marker.size}<extra></extra>",
           "hovertext": [
            "Information & Finance"
           ],
           "legendgroup": "Information & Finance",
           "marker": {
            "color": "#EF553B",
            "size": {
             "bdata": "ObZaAA==",
             "dtype": "i4"
            },
            "sizemode": "area",
            "sizeref": 1209.4062,
            "symbol": "circle"
           },
           "mode": "markers",
           "name": "Information & Finance",
           "orientation": "v",
           "showlegend": true,
           "type": "scatter",
           "x": {
            "bdata": "u+TRU3Ht/T8=",
            "dtype": "f8"
           },
           "xaxis": "x",
           "y": {
            "bdata": "uGbEl5LDAkA=",
            "dtype": "f8"
           },
           "yaxis": "y"
          },
          {
           "hovertemplate": "<b>%{hovertext}</b><br><br>Group=Manufacturing<br>Year=2008<br>x=%{x}<br>y=%{y}<br>Value=%{marker.size}<extra></extra>",
           "hovertext": [
            "Manufacturing"
           ],
           "legendgroup": "Manufacturing",
           "marker": {
            "color": "#00cc96",
            "size": {
             "bdata": "CNFTAA==",
             "dtype": "i4"
            },
            "sizemode": "area",
            "sizeref": 1209.4062,
            "symbol": "circle"
           },
           "mode": "markers",
           "name": "Manufacturing",
           "orientation": "v",
           "showlegend": true,
           "type": "scatter",
           "x": {
            "bdata": "ILRBqqxc5b8=",
            "dtype": "f8"
           },
           "xaxis": "x",
           "y": {
            "bdata": "D68CBPVlB0A=",
            "dtype": "f8"
           },
           "yaxis": "y"
          },
          {
           "hovertemplate": "<b>%{hovertext}</b><br><br>Group=Primary Industries<br>Year=2008<br>x=%{x}<br>y=%{y}<br>Value=%{marker.size}<extra></extra>",
           "hovertext": [
            "Primary Industries"
           ],
           "legendgroup": "Primary Industries",
           "marker": {
            "color": "#ab63fa",
            "size": {
             "bdata": "SxAPAA==",
             "dtype": "i4"
            },
            "sizemode": "area",
            "sizeref": 1209.4062,
            "symbol": "circle"
           },
           "mode": "markers",
           "name": "Primary Industries",
           "orientation": "v",
           "showlegend": true,
           "type": "scatter",
           "x": {
            "bdata": "VIVYf42fBcA=",
            "dtype": "f8"
           },
           "xaxis": "x",
           "y": {
            "bdata": "0kAVOpDT9D8=",
            "dtype": "f8"
           },
           "yaxis": "y"
          },
          {
           "hovertemplate": "<b>%{hovertext}</b><br><br>Group=Professional & Public Services<br>Year=2008<br>x=%{x}<br>y=%{y}<br>Value=%{marker.size}<extra></extra>",
           "hovertext": [
            "Professional & Public Services"
           ],
           "legendgroup": "Professional & Public Services",
           "marker": {
            "color": "#FFA15A",
            "size": {
             "bdata": "PIZnAA==",
             "dtype": "i4"
            },
            "sizemode": "area",
            "sizeref": 1209.4062,
            "symbol": "circle"
           },
           "mode": "markers",
           "name": "Professional & Public Services",
           "orientation": "v",
           "showlegend": true,
           "type": "scatter",
           "x": {
            "bdata": "VYVYf42fBcA=",
            "dtype": "f8"
           },
           "xaxis": "x",
           "y": {
            "bdata": "z0AVOpDT9L8=",
            "dtype": "f8"
           },
           "yaxis": "y"
          },
          {
           "hovertemplate": "<b>%{hovertext}</b><br><br>Group=Trade & Transportation<br>Year=2008<br>x=%{x}<br>y=%{y}<br>Value=%{marker.size}<extra></extra>",
           "hovertext": [
            "Trade & Transportation"
           ],
           "legendgroup": "Trade & Transportation",
           "marker": {
            "color": "#19d3f3",
            "size": {
             "bdata": "PIs1AA==",
             "dtype": "i4"
            },
            "sizemode": "area",
            "sizeref": 1209.4062,
            "symbol": "circle"
           },
           "mode": "markers",
           "name": "Trade & Transportation",
           "orientation": "v",
           "showlegend": true,
           "type": "scatter",
           "x": {
            "bdata": "J7RBqqxc5b8=",
            "dtype": "f8"
           },
           "xaxis": "x",
           "y": {
            "bdata": "D68CBPVlB8A=",
            "dtype": "f8"
           },
           "yaxis": "y"
          },
          {
           "hovertemplate": "<b>%{hovertext}</b><br><br>Group=Utilities & Construction<br>Year=2008<br>x=%{x}<br>y=%{y}<br>Value=%{marker.size}<extra></extra>",
           "hovertext": [
            "Utilities & Construction"
           ],
           "legendgroup": "Utilities & Construction",
           "marker": {
            "color": "#FF6692",
            "size": {
             "bdata": "1nkbAA==",
             "dtype": "i4"
            },
            "sizemode": "area",
            "sizeref": 1209.4062,
            "symbol": "circle"
           },
           "mode": "markers",
           "name": "Utilities & Construction",
           "orientation": "v",
           "showlegend": true,
           "type": "scatter",
           "x": {
            "bdata": "uOTRU3Ht/T8=",
            "dtype": "f8"
           },
           "xaxis": "x",
           "y": {
            "bdata": "uWbEl5LDAsA=",
            "dtype": "f8"
           },
           "yaxis": "y"
          }
         ],
         "name": "2008"
        },
        {
         "data": [
          {
           "hovertemplate": "<b>%{hovertext}</b><br><br>Group=Health, Education & Leisure<br>Year=2009<br>x=%{x}<br>y=%{y}<br>Value=%{marker.size}<extra></extra>",
           "hovertext": [
            "Health, Education & Leisure"
           ],
           "legendgroup": "Health, Education & Leisure",
           "marker": {
            "color": "#636efa",
            "size": {
             "bdata": "ZgU1AA==",
             "dtype": "i4"
            },
            "sizemode": "area",
            "sizeref": 1209.4062,
            "symbol": "circle"
           },
           "mode": "markers",
           "name": "Health, Education & Leisure",
           "orientation": "v",
           "showlegend": true,
           "type": "scatter",
           "x": {
            "bdata": "AAAAAAAACEA=",
            "dtype": "f8"
           },
           "xaxis": "x",
           "y": {
            "bdata": "AAAAAAAAAAA=",
            "dtype": "f8"
           },
           "yaxis": "y"
          },
          {
           "hovertemplate": "<b>%{hovertext}</b><br><br>Group=Information & Finance<br>Year=2009<br>x=%{x}<br>y=%{y}<br>Value=%{marker.size}<extra></extra>",
           "hovertext": [
            "Information & Finance"
           ],
           "legendgroup": "Information & Finance",
           "marker": {
            "color": "#EF553B",
            "size": {
             "bdata": "mF1XAA==",
             "dtype": "i4"
            },
            "sizemode": "area",
            "sizeref": 1209.4062,
            "symbol": "circle"
           },
           "mode": "markers",
           "name": "Information & Finance",
           "orientation": "v",
           "showlegend": true,
           "type": "scatter",
           "x": {
            "bdata": "u+TRU3Ht/T8=",
            "dtype": "f8"
           },
           "xaxis": "x",
           "y": {
            "bdata": "uGbEl5LDAkA=",
            "dtype": "f8"
           },
           "yaxis": "y"
          },
          {
           "hovertemplate": "<b>%{hovertext}</b><br><br>Group=Manufacturing<br>Year=2009<br>x=%{x}<br>y=%{y}<br>Value=%{marker.size}<extra></extra>",
           "hovertext": [
            "Manufacturing"
           ],
           "legendgroup": "Manufacturing",
           "marker": {
            "color": "#00cc96",
            "size": {
             "bdata": "/d5EAA==",
             "dtype": "i4"
            },
            "sizemode": "area",
            "sizeref": 1209.4062,
            "symbol": "circle"
           },
           "mode": "markers",
           "name": "Manufacturing",
           "orientation": "v",
           "showlegend": true,
           "type": "scatter",
           "x": {
            "bdata": "ILRBqqxc5b8=",
            "dtype": "f8"
           },
           "xaxis": "x",
           "y": {
            "bdata": "D68CBPVlB0A=",
            "dtype": "f8"
           },
           "yaxis": "y"
          },
          {
           "hovertemplate": "<b>%{hovertext}</b><br><br>Group=Primary Industries<br>Year=2009<br>x=%{x}<br>y=%{y}<br>Value=%{marker.size}<extra></extra>",
           "hovertext": [
            "Primary Industries"
           ],
           "legendgroup": "Primary Industries",
           "marker": {
            "color": "#ab63fa",
            "size": {
             "bdata": "v1kLAA==",
             "dtype": "i4"
            },
            "sizemode": "area",
            "sizeref": 1209.4062,
            "symbol": "circle"
           },
           "mode": "markers",
           "name": "Primary Industries",
           "orientation": "v",
           "showlegend": true,
           "type": "scatter",
           "x": {
            "bdata": "VIVYf42fBcA=",
            "dtype": "f8"
           },
           "xaxis": "x",
           "y": {
            "bdata": "0kAVOpDT9D8=",
            "dtype": "f8"
           },
           "yaxis": "y"
          },
          {
           "hovertemplate": "<b>%{hovertext}</b><br><br>Group=Professional & Public Services<br>Year=2009<br>x=%{x}<br>y=%{y}<br>Value=%{marker.size}<extra></extra>",
           "hovertext": [
            "Professional & Public Services"
           ],
           "legendgroup": "Professional & Public Services",
           "marker": {
            "color": "#FFA15A",
            "size": {
             "bdata": "gtJnAA==",
             "dtype": "i4"
            },
            "sizemode": "area",
            "sizeref": 1209.4062,
            "symbol": "circle"
           },
           "mode": "markers",
           "name": "Professional & Public Services",
           "orientation": "v",
           "showlegend": true,
           "type": "scatter",
           "x": {
            "bdata": "VYVYf42fBcA=",
            "dtype": "f8"
           },
           "xaxis": "x",
           "y": {
            "bdata": "z0AVOpDT9L8=",
            "dtype": "f8"
           },
           "yaxis": "y"
          },
          {
           "hovertemplate": "<b>%{hovertext}</b><br><br>Group=Trade & Transportation<br>Year=2009<br>x=%{x}<br>y=%{y}<br>Value=%{marker.size}<extra></extra>",
           "hovertext": [
            "Trade & Transportation"
           ],
           "legendgroup": "Trade & Transportation",
           "marker": {
            "color": "#19d3f3",
            "size": {
             "bdata": "+vgvAA==",
             "dtype": "i4"
            },
            "sizemode": "area",
            "sizeref": 1209.4062,
            "symbol": "circle"
           },
           "mode": "markers",
           "name": "Trade & Transportation",
           "orientation": "v",
           "showlegend": true,
           "type": "scatter",
           "x": {
            "bdata": "J7RBqqxc5b8=",
            "dtype": "f8"
           },
           "xaxis": "x",
           "y": {
            "bdata": "D68CBPVlB8A=",
            "dtype": "f8"
           },
           "yaxis": "y"
          },
          {
           "hovertemplate": "<b>%{hovertext}</b><br><br>Group=Utilities & Construction<br>Year=2009<br>x=%{x}<br>y=%{y}<br>Value=%{marker.size}<extra></extra>",
           "hovertext": [
            "Utilities & Construction"
           ],
           "legendgroup": "Utilities & Construction",
           "marker": {
            "color": "#FF6692",
            "size": {
             "bdata": "J20XAA==",
             "dtype": "i4"
            },
            "sizemode": "area",
            "sizeref": 1209.4062,
            "symbol": "circle"
           },
           "mode": "markers",
           "name": "Utilities & Construction",
           "orientation": "v",
           "showlegend": true,
           "type": "scatter",
           "x": {
            "bdata": "uOTRU3Ht/T8=",
            "dtype": "f8"
           },
           "xaxis": "x",
           "y": {
            "bdata": "uWbEl5LDAsA=",
            "dtype": "f8"
           },
           "yaxis": "y"
          }
         ],
         "name": "2009"
        },
        {
         "data": [
          {
           "hovertemplate": "<b>%{hovertext}</b><br><br>Group=Health, Education & Leisure<br>Year=2010<br>x=%{x}<br>y=%{y}<br>Value=%{marker.size}<extra></extra>",
           "hovertext": [
            "Health, Education & Leisure"
           ],
           "legendgroup": "Health, Education & Leisure",
           "marker": {
            "color": "#636efa",
            "size": {
             "bdata": "sgQ3AA==",
             "dtype": "i4"
            },
            "sizemode": "area",
            "sizeref": 1209.4062,
            "symbol": "circle"
           },
           "mode": "markers",
           "name": "Health, Education & Leisure",
           "orientation": "v",
           "showlegend": true,
           "type": "scatter",
           "x": {
            "bdata": "AAAAAAAACEA=",
            "dtype": "f8"
           },
           "xaxis": "x",
           "y": {
            "bdata": "AAAAAAAAAAA=",
            "dtype": "f8"
           },
           "yaxis": "y"
          },
          {
           "hovertemplate": "<b>%{hovertext}</b><br><br>Group=Information & Finance<br>Year=2010<br>x=%{x}<br>y=%{y}<br>Value=%{marker.size}<extra></extra>",
           "hovertext": [
            "Information & Finance"
           ],
           "legendgroup": "Information & Finance",
           "marker": {
            "color": "#EF553B",
            "size": {
             "bdata": "SytaAA==",
             "dtype": "i4"
            },
            "sizemode": "area",
            "sizeref": 1209.4062,
            "symbol": "circle"
           },
           "mode": "markers",
           "name": "Information & Finance",
           "orientation": "v",
           "showlegend": true,
           "type": "scatter",
           "x": {
            "bdata": "u+TRU3Ht/T8=",
            "dtype": "f8"
           },
           "xaxis": "x",
           "y": {
            "bdata": "uGbEl5LDAkA=",
            "dtype": "f8"
           },
           "yaxis": "y"
          },
          {
           "hovertemplate": "<b>%{hovertext}</b><br><br>Group=Manufacturing<br>Year=2010<br>x=%{x}<br>y=%{y}<br>Value=%{marker.size}<extra></extra>",
           "hovertext": [
            "Manufacturing"
           ],
           "legendgroup": "Manufacturing",
           "marker": {
            "color": "#00cc96",
            "size": {
             "bdata": "9JRMAA==",
             "dtype": "i4"
            },
            "sizemode": "area",
            "sizeref": 1209.4062,
            "symbol": "circle"
           },
           "mode": "markers",
           "name": "Manufacturing",
           "orientation": "v",
           "showlegend": true,
           "type": "scatter",
           "x": {
            "bdata": "ILRBqqxc5b8=",
            "dtype": "f8"
           },
           "xaxis": "x",
           "y": {
            "bdata": "D68CBPVlB0A=",
            "dtype": "f8"
           },
           "yaxis": "y"
          },
          {
           "hovertemplate": "<b>%{hovertext}</b><br><br>Group=Primary Industries<br>Year=2010<br>x=%{x}<br>y=%{y}<br>Value=%{marker.size}<extra></extra>",
           "hovertext": [
            "Primary Industries"
           ],
           "legendgroup": "Primary Industries",
           "marker": {
            "color": "#ab63fa",
            "size": {
             "bdata": "ajkNAA==",
             "dtype": "i4"
            },
            "sizemode": "area",
            "sizeref": 1209.4062,
            "symbol": "circle"
           },
           "mode": "markers",
           "name": "Primary Industries",
           "orientation": "v",
           "showlegend": true,
           "type": "scatter",
           "x": {
            "bdata": "VIVYf42fBcA=",
            "dtype": "f8"
           },
           "xaxis": "x",
           "y": {
            "bdata": "0kAVOpDT9D8=",
            "dtype": "f8"
           },
           "yaxis": "y"
          },
          {
           "hovertemplate": "<b>%{hovertext}</b><br><br>Group=Professional & Public Services<br>Year=2010<br>x=%{x}<br>y=%{y}<br>Value=%{marker.size}<extra></extra>",
           "hovertext": [
            "Professional & Public Services"
           ],
           "legendgroup": "Professional & Public Services",
           "marker": {
            "color": "#FFA15A",
            "size": {
             "bdata": "nVRsAA==",
             "dtype": "i4"
            },
            "sizemode": "area",
            "sizeref": 1209.4062,
            "symbol": "circle"
           },
           "mode": "markers",
           "name": "Professional & Public Services",
           "orientation": "v",
           "showlegend": true,
           "type": "scatter",
           "x": {
            "bdata": "VYVYf42fBcA=",
            "dtype": "f8"
           },
           "xaxis": "x",
           "y": {
            "bdata": "z0AVOpDT9L8=",
            "dtype": "f8"
           },
           "yaxis": "y"
          },
          {
           "hovertemplate": "<b>%{hovertext}</b><br><br>Group=Trade & Transportation<br>Year=2010<br>x=%{x}<br>y=%{y}<br>Value=%{marker.size}<extra></extra>",
           "hovertext": [
            "Trade & Transportation"
           ],
           "legendgroup": "Trade & Transportation",
           "marker": {
            "color": "#19d3f3",
            "size": {
             "bdata": "saw1AA==",
             "dtype": "i4"
            },
            "sizemode": "area",
            "sizeref": 1209.4062,
            "symbol": "circle"
           },
           "mode": "markers",
           "name": "Trade & Transportation",
           "orientation": "v",
           "showlegend": true,
           "type": "scatter",
           "x": {
            "bdata": "J7RBqqxc5b8=",
            "dtype": "f8"
           },
           "xaxis": "x",
           "y": {
            "bdata": "D68CBPVlB8A=",
            "dtype": "f8"
           },
           "yaxis": "y"
          },
          {
           "hovertemplate": "<b>%{hovertext}</b><br><br>Group=Utilities & Construction<br>Year=2010<br>x=%{x}<br>y=%{y}<br>Value=%{marker.size}<extra></extra>",
           "hovertext": [
            "Utilities & Construction"
           ],
           "legendgroup": "Utilities & Construction",
           "marker": {
            "color": "#FF6692",
            "size": {
             "bdata": "4A4XAA==",
             "dtype": "i4"
            },
            "sizemode": "area",
            "sizeref": 1209.4062,
            "symbol": "circle"
           },
           "mode": "markers",
           "name": "Utilities & Construction",
           "orientation": "v",
           "showlegend": true,
           "type": "scatter",
           "x": {
            "bdata": "uOTRU3Ht/T8=",
            "dtype": "f8"
           },
           "xaxis": "x",
           "y": {
            "bdata": "uWbEl5LDAsA=",
            "dtype": "f8"
           },
           "yaxis": "y"
          }
         ],
         "name": "2010"
        },
        {
         "data": [
          {
           "hovertemplate": "<b>%{hovertext}</b><br><br>Group=Health, Education & Leisure<br>Year=2011<br>x=%{x}<br>y=%{y}<br>Value=%{marker.size}<extra></extra>",
           "hovertext": [
            "Health, Education & Leisure"
           ],
           "legendgroup": "Health, Education & Leisure",
           "marker": {
            "color": "#636efa",
            "size": {
             "bdata": "UEU5AA==",
             "dtype": "i4"
            },
            "sizemode": "area",
            "sizeref": 1209.4062,
            "symbol": "circle"
           },
           "mode": "markers",
           "name": "Health, Education & Leisure",
           "orientation": "v",
           "showlegend": true,
           "type": "scatter",
           "x": {
            "bdata": "AAAAAAAACEA=",
            "dtype": "f8"
           },
           "xaxis": "x",
           "y": {
            "bdata": "AAAAAAAAAAA=",
            "dtype": "f8"
           },
           "yaxis": "y"
          },
          {
           "hovertemplate": "<b>%{hovertext}</b><br><br>Group=Information & Finance<br>Year=2011<br>x=%{x}<br>y=%{y}<br>Value=%{marker.size}<extra></extra>",
           "hovertext": [
            "Information & Finance"
           ],
           "legendgroup": "Information & Finance",
           "marker": {
            "color": "#EF553B",
            "size": {
             "bdata": "BCpdAA==",
             "dtype": "i4"
            },
            "sizemode": "area",
            "sizeref": 1209.4062,
            "symbol": "circle"
           },
           "mode": "markers",
           "name": "Information & Finance",
           "orientation": "v",
           "showlegend": true,
           "type": "scatter",
           "x": {
            "bdata": "u+TRU3Ht/T8=",
            "dtype": "f8"
           },
           "xaxis": "x",
           "y": {
            "bdata": "uGbEl5LDAkA=",
            "dtype": "f8"
           },
           "yaxis": "y"
          },
          {
           "hovertemplate": "<b>%{hovertext}</b><br><br>Group=Manufacturing<br>Year=2011<br>x=%{x}<br>y=%{y}<br>Value=%{marker.size}<extra></extra>",
           "hovertext": [
            "Manufacturing"
           ],
           "legendgroup": "Manufacturing",
           "marker": {
            "color": "#00cc96",
            "size": {
             "bdata": "pmBVAA==",
             "dtype": "i4"
            },
            "sizemode": "area",
            "sizeref": 1209.4062,
            "symbol": "circle"
           },
           "mode": "markers",
           "name": "Manufacturing",
           "orientation": "v",
           "showlegend": true,
           "type": "scatter",
           "x": {
            "bdata": "ILRBqqxc5b8=",
            "dtype": "f8"
           },
           "xaxis": "x",
           "y": {
            "bdata": "D68CBPVlB0A=",
            "dtype": "f8"
           },
           "yaxis": "y"
          },
          {
           "hovertemplate": "<b>%{hovertext}</b><br><br>Group=Primary Industries<br>Year=2011<br>x=%{x}<br>y=%{y}<br>Value=%{marker.size}<extra></extra>",
           "hovertext": [
            "Primary Industries"
           ],
           "legendgroup": "Primary Industries",
           "marker": {
            "color": "#ab63fa",
            "size": {
             "bdata": "cbwPAA==",
             "dtype": "i4"
            },
            "sizemode": "area",
            "sizeref": 1209.4062,
            "symbol": "circle"
           },
           "mode": "markers",
           "name": "Primary Industries",
           "orientation": "v",
           "showlegend": true,
           "type": "scatter",
           "x": {
            "bdata": "VIVYf42fBcA=",
            "dtype": "f8"
           },
           "xaxis": "x",
           "y": {
            "bdata": "0kAVOpDT9D8=",
            "dtype": "f8"
           },
           "yaxis": "y"
          },
          {
           "hovertemplate": "<b>%{hovertext}</b><br><br>Group=Professional & Public Services<br>Year=2011<br>x=%{x}<br>y=%{y}<br>Value=%{marker.size}<extra></extra>",
           "hovertext": [
            "Professional & Public Services"
           ],
           "legendgroup": "Professional & Public Services",
           "marker": {
            "color": "#FFA15A",
            "size": {
             "bdata": "YDpvAA==",
             "dtype": "i4"
            },
            "sizemode": "area",
            "sizeref": 1209.4062,
            "symbol": "circle"
           },
           "mode": "markers",
           "name": "Professional & Public Services",
           "orientation": "v",
           "showlegend": true,
           "type": "scatter",
           "x": {
            "bdata": "VYVYf42fBcA=",
            "dtype": "f8"
           },
           "xaxis": "x",
           "y": {
            "bdata": "z0AVOpDT9L8=",
            "dtype": "f8"
           },
           "yaxis": "y"
          },
          {
           "hovertemplate": "<b>%{hovertext}</b><br><br>Group=Trade & Transportation<br>Year=2011<br>x=%{x}<br>y=%{y}<br>Value=%{marker.size}<extra></extra>",
           "hovertext": [
            "Trade & Transportation"
           ],
           "legendgroup": "Trade & Transportation",
           "marker": {
            "color": "#19d3f3",
            "size": {
             "bdata": "Ll06AA==",
             "dtype": "i4"
            },
            "sizemode": "area",
            "sizeref": 1209.4062,
            "symbol": "circle"
           },
           "mode": "markers",
           "name": "Trade & Transportation",
           "orientation": "v",
           "showlegend": true,
           "type": "scatter",
           "x": {
            "bdata": "J7RBqqxc5b8=",
            "dtype": "f8"
           },
           "xaxis": "x",
           "y": {
            "bdata": "D68CBPVlB8A=",
            "dtype": "f8"
           },
           "yaxis": "y"
          },
          {
           "hovertemplate": "<b>%{hovertext}</b><br><br>Group=Utilities & Construction<br>Year=2011<br>x=%{x}<br>y=%{y}<br>Value=%{marker.size}<extra></extra>",
           "hovertext": [
            "Utilities & Construction"
           ],
           "legendgroup": "Utilities & Construction",
           "marker": {
            "color": "#FF6692",
            "size": {
             "bdata": "VPgWAA==",
             "dtype": "i4"
            },
            "sizemode": "area",
            "sizeref": 1209.4062,
            "symbol": "circle"
           },
           "mode": "markers",
           "name": "Utilities & Construction",
           "orientation": "v",
           "showlegend": true,
           "type": "scatter",
           "x": {
            "bdata": "uOTRU3Ht/T8=",
            "dtype": "f8"
           },
           "xaxis": "x",
           "y": {
            "bdata": "uWbEl5LDAsA=",
            "dtype": "f8"
           },
           "yaxis": "y"
          }
         ],
         "name": "2011"
        },
        {
         "data": [
          {
           "hovertemplate": "<b>%{hovertext}</b><br><br>Group=Health, Education & Leisure<br>Year=2012<br>x=%{x}<br>y=%{y}<br>Value=%{marker.size}<extra></extra>",
           "hovertext": [
            "Health, Education & Leisure"
           ],
           "legendgroup": "Health, Education & Leisure",
           "marker": {
            "color": "#636efa",
            "size": {
             "bdata": "8RA8AA==",
             "dtype": "i4"
            },
            "sizemode": "area",
            "sizeref": 1209.4062,
            "symbol": "circle"
           },
           "mode": "markers",
           "name": "Health, Education & Leisure",
           "orientation": "v",
           "showlegend": true,
           "type": "scatter",
           "x": {
            "bdata": "AAAAAAAACEA=",
            "dtype": "f8"
           },
           "xaxis": "x",
           "y": {
            "bdata": "AAAAAAAAAAA=",
            "dtype": "f8"
           },
           "yaxis": "y"
          },
          {
           "hovertemplate": "<b>%{hovertext}</b><br><br>Group=Information & Finance<br>Year=2012<br>x=%{x}<br>y=%{y}<br>Value=%{marker.size}<extra></extra>",
           "hovertext": [
            "Information & Finance"
           ],
           "legendgroup": "Information & Finance",
           "marker": {
            "color": "#EF553B",
            "size": {
             "bdata": "snZiAA==",
             "dtype": "i4"
            },
            "sizemode": "area",
            "sizeref": 1209.4062,
            "symbol": "circle"
           },
           "mode": "markers",
           "name": "Information & Finance",
           "orientation": "v",
           "showlegend": true,
           "type": "scatter",
           "x": {
            "bdata": "u+TRU3Ht/T8=",
            "dtype": "f8"
           },
           "xaxis": "x",
           "y": {
            "bdata": "uGbEl5LDAkA=",
            "dtype": "f8"
           },
           "yaxis": "y"
          },
          {
           "hovertemplate": "<b>%{hovertext}</b><br><br>Group=Manufacturing<br>Year=2012<br>x=%{x}<br>y=%{y}<br>Value=%{marker.size}<extra></extra>",
           "hovertext": [
            "Manufacturing"
           ],
           "legendgroup": "Manufacturing",
           "marker": {
            "color": "#00cc96",
            "size": {
             "bdata": "3CNYAA==",
             "dtype": "i4"
            },
            "sizemode": "area",
            "sizeref": 1209.4062,
            "symbol": "circle"
           },
           "mode": "markers",
           "name": "Manufacturing",
           "orientation": "v",
           "showlegend": true,
           "type": "scatter",
           "x": {
            "bdata": "ILRBqqxc5b8=",
            "dtype": "f8"
           },
           "xaxis": "x",
           "y": {
            "bdata": "D68CBPVlB0A=",
            "dtype": "f8"
           },
           "yaxis": "y"
          },
          {
           "hovertemplate": "<b>%{hovertext}</b><br><br>Group=Primary Industries<br>Year=2012<br>x=%{x}<br>y=%{y}<br>Value=%{marker.size}<extra></extra>",
           "hovertext": [
            "Primary Industries"
           ],
           "legendgroup": "Primary Industries",
           "marker": {
            "color": "#ab63fa",
            "size": {
             "bdata": "Gj4QAA==",
             "dtype": "i4"
            },
            "sizemode": "area",
            "sizeref": 1209.4062,
            "symbol": "circle"
           },
           "mode": "markers",
           "name": "Primary Industries",
           "orientation": "v",
           "showlegend": true,
           "type": "scatter",
           "x": {
            "bdata": "VIVYf42fBcA=",
            "dtype": "f8"
           },
           "xaxis": "x",
           "y": {
            "bdata": "0kAVOpDT9D8=",
            "dtype": "f8"
           },
           "yaxis": "y"
          },
          {
           "hovertemplate": "<b>%{hovertext}</b><br><br>Group=Professional & Public Services<br>Year=2012<br>x=%{x}<br>y=%{y}<br>Value=%{marker.size}<extra></extra>",
           "hovertext": [
            "Professional & Public Services"
           ],
           "legendgroup": "Professional & Public Services",
           "marker": {
            "color": "#FFA15A",
            "size": {
             "bdata": "bqFxAA==",
             "dtype": "i4"
            },
            "sizemode": "area",
            "sizeref": 1209.4062,
            "symbol": "circle"
           },
           "mode": "markers",
           "name": "Professional & Public Services",
           "orientation": "v",
           "showlegend": true,
           "type": "scatter",
           "x": {
            "bdata": "VYVYf42fBcA=",
            "dtype": "f8"
           },
           "xaxis": "x",
           "y": {
            "bdata": "z0AVOpDT9L8=",
            "dtype": "f8"
           },
           "yaxis": "y"
          },
          {
           "hovertemplate": "<b>%{hovertext}</b><br><br>Group=Trade & Transportation<br>Year=2012<br>x=%{x}<br>y=%{y}<br>Value=%{marker.size}<extra></extra>",
           "hovertext": [
            "Trade & Transportation"
           ],
           "legendgroup": "Trade & Transportation",
           "marker": {
            "color": "#19d3f3",
            "size": {
             "bdata": "hAU+AA==",
             "dtype": "i4"
            },
            "sizemode": "area",
            "sizeref": 1209.4062,
            "symbol": "circle"
           },
           "mode": "markers",
           "name": "Trade & Transportation",
           "orientation": "v",
           "showlegend": true,
           "type": "scatter",
           "x": {
            "bdata": "J7RBqqxc5b8=",
            "dtype": "f8"
           },
           "xaxis": "x",
           "y": {
            "bdata": "D68CBPVlB8A=",
            "dtype": "f8"
           },
           "yaxis": "y"
          },
          {
           "hovertemplate": "<b>%{hovertext}</b><br><br>Group=Utilities & Construction<br>Year=2012<br>x=%{x}<br>y=%{y}<br>Value=%{marker.size}<extra></extra>",
           "hovertext": [
            "Utilities & Construction"
           ],
           "legendgroup": "Utilities & Construction",
           "marker": {
            "color": "#FF6692",
            "size": {
             "bdata": "IHQXAA==",
             "dtype": "i4"
            },
            "sizemode": "area",
            "sizeref": 1209.4062,
            "symbol": "circle"
           },
           "mode": "markers",
           "name": "Utilities & Construction",
           "orientation": "v",
           "showlegend": true,
           "type": "scatter",
           "x": {
            "bdata": "uOTRU3Ht/T8=",
            "dtype": "f8"
           },
           "xaxis": "x",
           "y": {
            "bdata": "uWbEl5LDAsA=",
            "dtype": "f8"
           },
           "yaxis": "y"
          }
         ],
         "name": "2012"
        },
        {
         "data": [
          {
           "hovertemplate": "<b>%{hovertext}</b><br><br>Group=Health, Education & Leisure<br>Year=2013<br>x=%{x}<br>y=%{y}<br>Value=%{marker.size}<extra></extra>",
           "hovertext": [
            "Health, Education & Leisure"
           ],
           "legendgroup": "Health, Education & Leisure",
           "marker": {
            "color": "#636efa",
            "size": {
             "bdata": "+6U9AA==",
             "dtype": "i4"
            },
            "sizemode": "area",
            "sizeref": 1209.4062,
            "symbol": "circle"
           },
           "mode": "markers",
           "name": "Health, Education & Leisure",
           "orientation": "v",
           "showlegend": true,
           "type": "scatter",
           "x": {
            "bdata": "AAAAAAAACEA=",
            "dtype": "f8"
           },
           "xaxis": "x",
           "y": {
            "bdata": "AAAAAAAAAAA=",
            "dtype": "f8"
           },
           "yaxis": "y"
          },
          {
           "hovertemplate": "<b>%{hovertext}</b><br><br>Group=Information & Finance<br>Year=2013<br>x=%{x}<br>y=%{y}<br>Value=%{marker.size}<extra></extra>",
           "hovertext": [
            "Information & Finance"
           ],
           "legendgroup": "Information & Finance",
           "marker": {
            "color": "#EF553B",
            "size": {
             "bdata": "rxBoAA==",
             "dtype": "i4"
            },
            "sizemode": "area",
            "sizeref": 1209.4062,
            "symbol": "circle"
           },
           "mode": "markers",
           "name": "Information & Finance",
           "orientation": "v",
           "showlegend": true,
           "type": "scatter",
           "x": {
            "bdata": "u+TRU3Ht/T8=",
            "dtype": "f8"
           },
           "xaxis": "x",
           "y": {
            "bdata": "uGbEl5LDAkA=",
            "dtype": "f8"
           },
           "yaxis": "y"
          },
          {
           "hovertemplate": "<b>%{hovertext}</b><br><br>Group=Manufacturing<br>Year=2013<br>x=%{x}<br>y=%{y}<br>Value=%{marker.size}<extra></extra>",
           "hovertext": [
            "Manufacturing"
           ],
           "legendgroup": "Manufacturing",
           "marker": {
            "color": "#00cc96",
            "size": {
             "bdata": "UnNaAA==",
             "dtype": "i4"
            },
            "sizemode": "area",
            "sizeref": 1209.4062,
            "symbol": "circle"
           },
           "mode": "markers",
           "name": "Manufacturing",
           "orientation": "v",
           "showlegend": true,
           "type": "scatter",
           "x": {
            "bdata": "ILRBqqxc5b8=",
            "dtype": "f8"
           },
           "xaxis": "x",
           "y": {
            "bdata": "D68CBPVlB0A=",
            "dtype": "f8"
           },
           "yaxis": "y"
          },
          {
           "hovertemplate": "<b>%{hovertext}</b><br><br>Group=Primary Industries<br>Year=2013<br>x=%{x}<br>y=%{y}<br>Value=%{marker.size}<extra></extra>",
           "hovertext": [
            "Primary Industries"
           ],
           "legendgroup": "Primary Industries",
           "marker": {
            "color": "#ab63fa",
            "size": {
             "bdata": "qW8RAA==",
             "dtype": "i4"
            },
            "sizemode": "area",
            "sizeref": 1209.4062,
            "symbol": "circle"
           },
           "mode": "markers",
           "name": "Primary Industries",
           "orientation": "v",
           "showlegend": true,
           "type": "scatter",
           "x": {
            "bdata": "VIVYf42fBcA=",
            "dtype": "f8"
           },
           "xaxis": "x",
           "y": {
            "bdata": "0kAVOpDT9D8=",
            "dtype": "f8"
           },
           "yaxis": "y"
          },
          {
           "hovertemplate": "<b>%{hovertext}</b><br><br>Group=Professional & Public Services<br>Year=2013<br>x=%{x}<br>y=%{y}<br>Value=%{marker.size}<extra></extra>",
           "hovertext": [
            "Professional & Public Services"
           ],
           "legendgroup": "Professional & Public Services",
           "marker": {
            "color": "#FFA15A",
            "size": {
             "bdata": "89RyAA==",
             "dtype": "i4"
            },
            "sizemode": "area",
            "sizeref": 1209.4062,
            "symbol": "circle"
           },
           "mode": "markers",
           "name": "Professional & Public Services",
           "orientation": "v",
           "showlegend": true,
           "type": "scatter",
           "x": {
            "bdata": "VYVYf42fBcA=",
            "dtype": "f8"
           },
           "xaxis": "x",
           "y": {
            "bdata": "z0AVOpDT9L8=",
            "dtype": "f8"
           },
           "yaxis": "y"
          },
          {
           "hovertemplate": "<b>%{hovertext}</b><br><br>Group=Trade & Transportation<br>Year=2013<br>x=%{x}<br>y=%{y}<br>Value=%{marker.size}<extra></extra>",
           "hovertext": [
            "Trade & Transportation"
           ],
           "legendgroup": "Trade & Transportation",
           "marker": {
            "color": "#19d3f3",
            "size": {
             "bdata": "oH9BAA==",
             "dtype": "i4"
            },
            "sizemode": "area",
            "sizeref": 1209.4062,
            "symbol": "circle"
           },
           "mode": "markers",
           "name": "Trade & Transportation",
           "orientation": "v",
           "showlegend": true,
           "type": "scatter",
           "x": {
            "bdata": "J7RBqqxc5b8=",
            "dtype": "f8"
           },
           "xaxis": "x",
           "y": {
            "bdata": "D68CBPVlB8A=",
            "dtype": "f8"
           },
           "yaxis": "y"
          },
          {
           "hovertemplate": "<b>%{hovertext}</b><br><br>Group=Utilities & Construction<br>Year=2013<br>x=%{x}<br>y=%{y}<br>Value=%{marker.size}<extra></extra>",
           "hovertext": [
            "Utilities & Construction"
           ],
           "legendgroup": "Utilities & Construction",
           "marker": {
            "color": "#FF6692",
            "size": {
             "bdata": "kRIZAA==",
             "dtype": "i4"
            },
            "sizemode": "area",
            "sizeref": 1209.4062,
            "symbol": "circle"
           },
           "mode": "markers",
           "name": "Utilities & Construction",
           "orientation": "v",
           "showlegend": true,
           "type": "scatter",
           "x": {
            "bdata": "uOTRU3Ht/T8=",
            "dtype": "f8"
           },
           "xaxis": "x",
           "y": {
            "bdata": "uWbEl5LDAsA=",
            "dtype": "f8"
           },
           "yaxis": "y"
          }
         ],
         "name": "2013"
        },
        {
         "data": [
          {
           "hovertemplate": "<b>%{hovertext}</b><br><br>Group=Health, Education & Leisure<br>Year=2014<br>x=%{x}<br>y=%{y}<br>Value=%{marker.size}<extra></extra>",
           "hovertext": [
            "Health, Education & Leisure"
           ],
           "legendgroup": "Health, Education & Leisure",
           "marker": {
            "color": "#636efa",
            "size": {
             "bdata": "kIxAAA==",
             "dtype": "i4"
            },
            "sizemode": "area",
            "sizeref": 1209.4062,
            "symbol": "circle"
           },
           "mode": "markers",
           "name": "Health, Education & Leisure",
           "orientation": "v",
           "showlegend": true,
           "type": "scatter",
           "x": {
            "bdata": "AAAAAAAACEA=",
            "dtype": "f8"
           },
           "xaxis": "x",
           "y": {
            "bdata": "AAAAAAAAAAA=",
            "dtype": "f8"
           },
           "yaxis": "y"
          },
          {
           "hovertemplate": "<b>%{hovertext}</b><br><br>Group=Information & Finance<br>Year=2014<br>x=%{x}<br>y=%{y}<br>Value=%{marker.size}<extra></extra>",
           "hovertext": [
            "Information & Finance"
           ],
           "legendgroup": "Information & Finance",
           "marker": {
            "color": "#EF553B",
            "size": {
             "bdata": "zwduAA==",
             "dtype": "i4"
            },
            "sizemode": "area",
            "sizeref": 1209.4062,
            "symbol": "circle"
           },
           "mode": "markers",
           "name": "Information & Finance",
           "orientation": "v",
           "showlegend": true,
           "type": "scatter",
           "x": {
            "bdata": "u+TRU3Ht/T8=",
            "dtype": "f8"
           },
           "xaxis": "x",
           "y": {
            "bdata": "uGbEl5LDAkA=",
            "dtype": "f8"
           },
           "yaxis": "y"
          },
          {
           "hovertemplate": "<b>%{hovertext}</b><br><br>Group=Manufacturing<br>Year=2014<br>x=%{x}<br>y=%{y}<br>Value=%{marker.size}<extra></extra>",
           "hovertext": [
            "Manufacturing"
           ],
           "legendgroup": "Manufacturing",
           "marker": {
            "color": "#00cc96",
            "size": {
             "bdata": "84hbAA==",
             "dtype": "i4"
            },
            "sizemode": "area",
            "sizeref": 1209.4062,
            "symbol": "circle"
           },
           "mode": "markers",
           "name": "Manufacturing",
           "orientation": "v",
           "showlegend": true,
           "type": "scatter",
           "x": {
            "bdata": "ILRBqqxc5b8=",
            "dtype": "f8"
           },
           "xaxis": "x",
           "y": {
            "bdata": "D68CBPVlB0A=",
            "dtype": "f8"
           },
           "yaxis": "y"
          },
          {
           "hovertemplate": "<b>%{hovertext}</b><br><br>Group=Primary Industries<br>Year=2014<br>x=%{x}<br>y=%{y}<br>Value=%{marker.size}<extra></extra>",
           "hovertext": [
            "Primary Industries"
           ],
           "legendgroup": "Primary Industries",
           "marker": {
            "color": "#ab63fa",
            "size": {
             "bdata": "8LUSAA==",
             "dtype": "i4"
            },
            "sizemode": "area",
            "sizeref": 1209.4062,
            "symbol": "circle"
           },
           "mode": "markers",
           "name": "Primary Industries",
           "orientation": "v",
           "showlegend": true,
           "type": "scatter",
           "x": {
            "bdata": "VIVYf42fBcA=",
            "dtype": "f8"
           },
           "xaxis": "x",
           "y": {
            "bdata": "0kAVOpDT9D8=",
            "dtype": "f8"
           },
           "yaxis": "y"
          },
          {
           "hovertemplate": "<b>%{hovertext}</b><br><br>Group=Professional & Public Services<br>Year=2014<br>x=%{x}<br>y=%{y}<br>Value=%{marker.size}<extra></extra>",
           "hovertext": [
            "Professional & Public Services"
           ],
           "legendgroup": "Professional & Public Services",
           "marker": {
            "color": "#FFA15A",
            "size": {
             "bdata": "Vs92AA==",
             "dtype": "i4"
            },
            "sizemode": "area",
            "sizeref": 1209.4062,
            "symbol": "circle"
           },
           "mode": "markers",
           "name": "Professional & Public Services",
           "orientation": "v",
           "showlegend": true,
           "type": "scatter",
           "x": {
            "bdata": "VYVYf42fBcA=",
            "dtype": "f8"
           },
           "xaxis": "x",
           "y": {
            "bdata": "z0AVOpDT9L8=",
            "dtype": "f8"
           },
           "yaxis": "y"
          },
          {
           "hovertemplate": "<b>%{hovertext}</b><br><br>Group=Trade & Transportation<br>Year=2014<br>x=%{x}<br>y=%{y}<br>Value=%{marker.size}<extra></extra>",
           "hovertext": [
            "Trade & Transportation"
           ],
           "legendgroup": "Trade & Transportation",
           "marker": {
            "color": "#19d3f3",
            "size": {
             "bdata": "iIdFAA==",
             "dtype": "i4"
            },
            "sizemode": "area",
            "sizeref": 1209.4062,
            "symbol": "circle"
           },
           "mode": "markers",
           "name": "Trade & Transportation",
           "orientation": "v",
           "showlegend": true,
           "type": "scatter",
           "x": {
            "bdata": "J7RBqqxc5b8=",
            "dtype": "f8"
           },
           "xaxis": "x",
           "y": {
            "bdata": "D68CBPVlB8A=",
            "dtype": "f8"
           },
           "yaxis": "y"
          },
          {
           "hovertemplate": "<b>%{hovertext}</b><br><br>Group=Utilities & Construction<br>Year=2014<br>x=%{x}<br>y=%{y}<br>Value=%{marker.size}<extra></extra>",
           "hovertext": [
            "Utilities & Construction"
           ],
           "legendgroup": "Utilities & Construction",
           "marker": {
            "color": "#FF6692",
            "size": {
             "bdata": "Rz4bAA==",
             "dtype": "i4"
            },
            "sizemode": "area",
            "sizeref": 1209.4062,
            "symbol": "circle"
           },
           "mode": "markers",
           "name": "Utilities & Construction",
           "orientation": "v",
           "showlegend": true,
           "type": "scatter",
           "x": {
            "bdata": "uOTRU3Ht/T8=",
            "dtype": "f8"
           },
           "xaxis": "x",
           "y": {
            "bdata": "uWbEl5LDAsA=",
            "dtype": "f8"
           },
           "yaxis": "y"
          }
         ],
         "name": "2014"
        },
        {
         "data": [
          {
           "hovertemplate": "<b>%{hovertext}</b><br><br>Group=Health, Education & Leisure<br>Year=2015<br>x=%{x}<br>y=%{y}<br>Value=%{marker.size}<extra></extra>",
           "hovertext": [
            "Health, Education & Leisure"
           ],
           "legendgroup": "Health, Education & Leisure",
           "marker": {
            "color": "#636efa",
            "size": {
             "bdata": "LkZEAA==",
             "dtype": "i4"
            },
            "sizemode": "area",
            "sizeref": 1209.4062,
            "symbol": "circle"
           },
           "mode": "markers",
           "name": "Health, Education & Leisure",
           "orientation": "v",
           "showlegend": true,
           "type": "scatter",
           "x": {
            "bdata": "AAAAAAAACEA=",
            "dtype": "f8"
           },
           "xaxis": "x",
           "y": {
            "bdata": "AAAAAAAAAAA=",
            "dtype": "f8"
           },
           "yaxis": "y"
          },
          {
           "hovertemplate": "<b>%{hovertext}</b><br><br>Group=Information & Finance<br>Year=2015<br>x=%{x}<br>y=%{y}<br>Value=%{marker.size}<extra></extra>",
           "hovertext": [
            "Information & Finance"
           ],
           "legendgroup": "Information & Finance",
           "marker": {
            "color": "#EF553B",
            "size": {
             "bdata": "PfZyAA==",
             "dtype": "i4"
            },
            "sizemode": "area",
            "sizeref": 1209.4062,
            "symbol": "circle"
           },
           "mode": "markers",
           "name": "Information & Finance",
           "orientation": "v",
           "showlegend": true,
           "type": "scatter",
           "x": {
            "bdata": "u+TRU3Ht/T8=",
            "dtype": "f8"
           },
           "xaxis": "x",
           "y": {
            "bdata": "uGbEl5LDAkA=",
            "dtype": "f8"
           },
           "yaxis": "y"
          },
          {
           "hovertemplate": "<b>%{hovertext}</b><br><br>Group=Manufacturing<br>Year=2015<br>x=%{x}<br>y=%{y}<br>Value=%{marker.size}<extra></extra>",
           "hovertext": [
            "Manufacturing"
           ],
           "legendgroup": "Manufacturing",
           "marker": {
            "color": "#00cc96",
            "size": {
             "bdata": "MF1WAA==",
             "dtype": "i4"
            },
            "sizemode": "area",
            "sizeref": 1209.4062,
            "symbol": "circle"
           },
           "mode": "markers",
           "name": "Manufacturing",
           "orientation": "v",
           "showlegend": true,
           "type": "scatter",
           "x": {
            "bdata": "ILRBqqxc5b8=",
            "dtype": "f8"
           },
           "xaxis": "x",
           "y": {
            "bdata": "D68CBPVlB0A=",
            "dtype": "f8"
           },
           "yaxis": "y"
          },
          {
           "hovertemplate": "<b>%{hovertext}</b><br><br>Group=Primary Industries<br>Year=2015<br>x=%{x}<br>y=%{y}<br>Value=%{marker.size}<extra></extra>",
           "hovertext": [
            "Primary Industries"
           ],
           "legendgroup": "Primary Industries",
           "marker": {
            "color": "#ab63fa",
            "size": {
             "bdata": "UlUOAA==",
             "dtype": "i4"
            },
            "sizemode": "area",
            "sizeref": 1209.4062,
            "symbol": "circle"
           },
           "mode": "markers",
           "name": "Primary Industries",
           "orientation": "v",
           "showlegend": true,
           "type": "scatter",
           "x": {
            "bdata": "VIVYf42fBcA=",
            "dtype": "f8"
           },
           "xaxis": "x",
           "y": {
            "bdata": "0kAVOpDT9D8=",
            "dtype": "f8"
           },
           "yaxis": "y"
          },
          {
           "hovertemplate": "<b>%{hovertext}</b><br><br>Group=Professional & Public Services<br>Year=2015<br>x=%{x}<br>y=%{y}<br>Value=%{marker.size}<extra></extra>",
           "hovertext": [
            "Professional & Public Services"
           ],
           "legendgroup": "Professional & Public Services",
           "marker": {
            "color": "#FFA15A",
            "size": {
             "bdata": "yEp6AA==",
             "dtype": "i4"
            },
            "sizemode": "area",
            "sizeref": 1209.4062,
            "symbol": "circle"
           },
           "mode": "markers",
           "name": "Professional & Public Services",
           "orientation": "v",
           "showlegend": true,
           "type": "scatter",
           "x": {
            "bdata": "VYVYf42fBcA=",
            "dtype": "f8"
           },
           "xaxis": "x",
           "y": {
            "bdata": "z0AVOpDT9L8=",
            "dtype": "f8"
           },
           "yaxis": "y"
          },
          {
           "hovertemplate": "<b>%{hovertext}</b><br><br>Group=Trade & Transportation<br>Year=2015<br>x=%{x}<br>y=%{y}<br>Value=%{marker.size}<extra></extra>",
           "hovertext": [
            "Trade & Transportation"
           ],
           "legendgroup": "Trade & Transportation",
           "marker": {
            "color": "#19d3f3",
            "size": {
             "bdata": "ihZIAA==",
             "dtype": "i4"
            },
            "sizemode": "area",
            "sizeref": 1209.4062,
            "symbol": "circle"
           },
           "mode": "markers",
           "name": "Trade & Transportation",
           "orientation": "v",
           "showlegend": true,
           "type": "scatter",
           "x": {
            "bdata": "J7RBqqxc5b8=",
            "dtype": "f8"
           },
           "xaxis": "x",
           "y": {
            "bdata": "D68CBPVlB8A=",
            "dtype": "f8"
           },
           "yaxis": "y"
          },
          {
           "hovertemplate": "<b>%{hovertext}</b><br><br>Group=Utilities & Construction<br>Year=2015<br>x=%{x}<br>y=%{y}<br>Value=%{marker.size}<extra></extra>",
           "hovertext": [
            "Utilities & Construction"
           ],
           "legendgroup": "Utilities & Construction",
           "marker": {
            "color": "#FF6692",
            "size": {
             "bdata": "LM4cAA==",
             "dtype": "i4"
            },
            "sizemode": "area",
            "sizeref": 1209.4062,
            "symbol": "circle"
           },
           "mode": "markers",
           "name": "Utilities & Construction",
           "orientation": "v",
           "showlegend": true,
           "type": "scatter",
           "x": {
            "bdata": "uOTRU3Ht/T8=",
            "dtype": "f8"
           },
           "xaxis": "x",
           "y": {
            "bdata": "uWbEl5LDAsA=",
            "dtype": "f8"
           },
           "yaxis": "y"
          }
         ],
         "name": "2015"
        },
        {
         "data": [
          {
           "hovertemplate": "<b>%{hovertext}</b><br><br>Group=Health, Education & Leisure<br>Year=2016<br>x=%{x}<br>y=%{y}<br>Value=%{marker.size}<extra></extra>",
           "hovertext": [
            "Health, Education & Leisure"
           ],
           "legendgroup": "Health, Education & Leisure",
           "marker": {
            "color": "#636efa",
            "size": {
             "bdata": "AZJHAA==",
             "dtype": "i4"
            },
            "sizemode": "area",
            "sizeref": 1209.4062,
            "symbol": "circle"
           },
           "mode": "markers",
           "name": "Health, Education & Leisure",
           "orientation": "v",
           "showlegend": true,
           "type": "scatter",
           "x": {
            "bdata": "AAAAAAAACEA=",
            "dtype": "f8"
           },
           "xaxis": "x",
           "y": {
            "bdata": "AAAAAAAAAAA=",
            "dtype": "f8"
           },
           "yaxis": "y"
          },
          {
           "hovertemplate": "<b>%{hovertext}</b><br><br>Group=Information & Finance<br>Year=2016<br>x=%{x}<br>y=%{y}<br>Value=%{marker.size}<extra></extra>",
           "hovertext": [
            "Information & Finance"
           ],
           "legendgroup": "Information & Finance",
           "marker": {
            "color": "#EF553B",
            "size": {
             "bdata": "1ft3AA==",
             "dtype": "i4"
            },
            "sizemode": "area",
            "sizeref": 1209.4062,
            "symbol": "circle"
           },
           "mode": "markers",
           "name": "Information & Finance",
           "orientation": "v",
           "showlegend": true,
           "type": "scatter",
           "x": {
            "bdata": "u+TRU3Ht/T8=",
            "dtype": "f8"
           },
           "xaxis": "x",
           "y": {
            "bdata": "uGbEl5LDAkA=",
            "dtype": "f8"
           },
           "yaxis": "y"
          },
          {
           "hovertemplate": "<b>%{hovertext}</b><br><br>Group=Manufacturing<br>Year=2016<br>x=%{x}<br>y=%{y}<br>Value=%{marker.size}<extra></extra>",
           "hovertext": [
            "Manufacturing"
           ],
           "legendgroup": "Manufacturing",
           "marker": {
            "color": "#00cc96",
            "size": {
             "bdata": "dqxTAA==",
             "dtype": "i4"
            },
            "sizemode": "area",
            "sizeref": 1209.4062,
            "symbol": "circle"
           },
           "mode": "markers",
           "name": "Manufacturing",
           "orientation": "v",
           "showlegend": true,
           "type": "scatter",
           "x": {
            "bdata": "ILRBqqxc5b8=",
            "dtype": "f8"
           },
           "xaxis": "x",
           "y": {
            "bdata": "D68CBPVlB0A=",
            "dtype": "f8"
           },
           "yaxis": "y"
          },
          {
           "hovertemplate": "<b>%{hovertext}</b><br><br>Group=Primary Industries<br>Year=2016<br>x=%{x}<br>y=%{y}<br>Value=%{marker.size}<extra></extra>",
           "hovertext": [
            "Primary Industries"
           ],
           "legendgroup": "Primary Industries",
           "marker": {
            "color": "#ab63fa",
            "size": {
             "bdata": "pi8MAA==",
             "dtype": "i4"
            },
            "sizemode": "area",
            "sizeref": 1209.4062,
            "symbol": "circle"
           },
           "mode": "markers",
           "name": "Primary Industries",
           "orientation": "v",
           "showlegend": true,
           "type": "scatter",
           "x": {
            "bdata": "VIVYf42fBcA=",
            "dtype": "f8"
           },
           "xaxis": "x",
           "y": {
            "bdata": "0kAVOpDT9D8=",
            "dtype": "f8"
           },
           "yaxis": "y"
          },
          {
           "hovertemplate": "<b>%{hovertext}</b><br><br>Group=Professional & Public Services<br>Year=2016<br>x=%{x}<br>y=%{y}<br>Value=%{marker.size}<extra></extra>",
           "hovertext": [
            "Professional & Public Services"
           ],
           "legendgroup": "Professional & Public Services",
           "marker": {
            "color": "#FFA15A",
            "size": {
             "bdata": "ARl+AA==",
             "dtype": "i4"
            },
            "sizemode": "area",
            "sizeref": 1209.4062,
            "symbol": "circle"
           },
           "mode": "markers",
           "name": "Professional & Public Services",
           "orientation": "v",
           "showlegend": true,
           "type": "scatter",
           "x": {
            "bdata": "VYVYf42fBcA=",
            "dtype": "f8"
           },
           "xaxis": "x",
           "y": {
            "bdata": "z0AVOpDT9L8=",
            "dtype": "f8"
           },
           "yaxis": "y"
          },
          {
           "hovertemplate": "<b>%{hovertext}</b><br><br>Group=Trade & Transportation<br>Year=2016<br>x=%{x}<br>y=%{y}<br>Value=%{marker.size}<extra></extra>",
           "hovertext": [
            "Trade & Transportation"
           ],
           "legendgroup": "Trade & Transportation",
           "marker": {
            "color": "#19d3f3",
            "size": {
             "bdata": "r7tJAA==",
             "dtype": "i4"
            },
            "sizemode": "area",
            "sizeref": 1209.4062,
            "symbol": "circle"
           },
           "mode": "markers",
           "name": "Trade & Transportation",
           "orientation": "v",
           "showlegend": true,
           "type": "scatter",
           "x": {
            "bdata": "J7RBqqxc5b8=",
            "dtype": "f8"
           },
           "xaxis": "x",
           "y": {
            "bdata": "D68CBPVlB8A=",
            "dtype": "f8"
           },
           "yaxis": "y"
          },
          {
           "hovertemplate": "<b>%{hovertext}</b><br><br>Group=Utilities & Construction<br>Year=2016<br>x=%{x}<br>y=%{y}<br>Value=%{marker.size}<extra></extra>",
           "hovertext": [
            "Utilities & Construction"
           ],
           "legendgroup": "Utilities & Construction",
           "marker": {
            "color": "#FF6692",
            "size": {
             "bdata": "3TIeAA==",
             "dtype": "i4"
            },
            "sizemode": "area",
            "sizeref": 1209.4062,
            "symbol": "circle"
           },
           "mode": "markers",
           "name": "Utilities & Construction",
           "orientation": "v",
           "showlegend": true,
           "type": "scatter",
           "x": {
            "bdata": "uOTRU3Ht/T8=",
            "dtype": "f8"
           },
           "xaxis": "x",
           "y": {
            "bdata": "uWbEl5LDAsA=",
            "dtype": "f8"
           },
           "yaxis": "y"
          }
         ],
         "name": "2016"
        },
        {
         "data": [
          {
           "hovertemplate": "<b>%{hovertext}</b><br><br>Group=Health, Education & Leisure<br>Year=2017<br>x=%{x}<br>y=%{y}<br>Value=%{marker.size}<extra></extra>",
           "hovertext": [
            "Health, Education & Leisure"
           ],
           "legendgroup": "Health, Education & Leisure",
           "marker": {
            "color": "#636efa",
            "size": {
             "bdata": "qdxKAA==",
             "dtype": "i4"
            },
            "sizemode": "area",
            "sizeref": 1209.4062,
            "symbol": "circle"
           },
           "mode": "markers",
           "name": "Health, Education & Leisure",
           "orientation": "v",
           "showlegend": true,
           "type": "scatter",
           "x": {
            "bdata": "AAAAAAAACEA=",
            "dtype": "f8"
           },
           "xaxis": "x",
           "y": {
            "bdata": "AAAAAAAAAAA=",
            "dtype": "f8"
           },
           "yaxis": "y"
          },
          {
           "hovertemplate": "<b>%{hovertext}</b><br><br>Group=Information & Finance<br>Year=2017<br>x=%{x}<br>y=%{y}<br>Value=%{marker.size}<extra></extra>",
           "hovertext": [
            "Information & Finance"
           ],
           "legendgroup": "Information & Finance",
           "marker": {
            "color": "#EF553B",
            "size": {
             "bdata": "O2d9AA==",
             "dtype": "i4"
            },
            "sizemode": "area",
            "sizeref": 1209.4062,
            "symbol": "circle"
           },
           "mode": "markers",
           "name": "Information & Finance",
           "orientation": "v",
           "showlegend": true,
           "type": "scatter",
           "x": {
            "bdata": "u+TRU3Ht/T8=",
            "dtype": "f8"
           },
           "xaxis": "x",
           "y": {
            "bdata": "uGbEl5LDAkA=",
            "dtype": "f8"
           },
           "yaxis": "y"
          },
          {
           "hovertemplate": "<b>%{hovertext}</b><br><br>Group=Manufacturing<br>Year=2017<br>x=%{x}<br>y=%{y}<br>Value=%{marker.size}<extra></extra>",
           "hovertext": [
            "Manufacturing"
           ],
           "legendgroup": "Manufacturing",
           "marker": {
            "color": "#00cc96",
            "size": {
             "bdata": "N55WAA==",
             "dtype": "i4"
            },
            "sizemode": "area",
            "sizeref": 1209.4062,
            "symbol": "circle"
           },
           "mode": "markers",
           "name": "Manufacturing",
           "orientation": "v",
           "showlegend": true,
           "type": "scatter",
           "x": {
            "bdata": "ILRBqqxc5b8=",
            "dtype": "f8"
           },
           "xaxis": "x",
           "y": {
            "bdata": "D68CBPVlB0A=",
            "dtype": "f8"
           },
           "yaxis": "y"
          },
          {
           "hovertemplate": "<b>%{hovertext}</b><br><br>Group=Primary Industries<br>Year=2017<br>x=%{x}<br>y=%{y}<br>Value=%{marker.size}<extra></extra>",
           "hovertext": [
            "Primary Industries"
           ],
           "legendgroup": "Primary Industries",
           "marker": {
            "color": "#ab63fa",
            "size": {
             "bdata": "RukNAA==",
             "dtype": "i4"
            },
            "sizemode": "area",
            "sizeref": 1209.4062,
            "symbol": "circle"
           },
           "mode": "markers",
           "name": "Primary Industries",
           "orientation": "v",
           "showlegend": true,
           "type": "scatter",
           "x": {
            "bdata": "VIVYf42fBcA=",
            "dtype": "f8"
           },
           "xaxis": "x",
           "y": {
            "bdata": "0kAVOpDT9D8=",
            "dtype": "f8"
           },
           "yaxis": "y"
          },
          {
           "hovertemplate": "<b>%{hovertext}</b><br><br>Group=Professional & Public Services<br>Year=2017<br>x=%{x}<br>y=%{y}<br>Value=%{marker.size}<extra></extra>",
           "hovertext": [
            "Professional & Public Services"
           ],
           "legendgroup": "Professional & Public Services",
           "marker": {
            "color": "#FFA15A",
            "size": {
             "bdata": "o02DAA==",
             "dtype": "i4"
            },
            "sizemode": "area",
            "sizeref": 1209.4062,
            "symbol": "circle"
           },
           "mode": "markers",
           "name": "Professional & Public Services",
           "orientation": "v",
           "showlegend": true,
           "type": "scatter",
           "x": {
            "bdata": "VYVYf42fBcA=",
            "dtype": "f8"
           },
           "xaxis": "x",
           "y": {
            "bdata": "z0AVOpDT9L8=",
            "dtype": "f8"
           },
           "yaxis": "y"
          },
          {
           "hovertemplate": "<b>%{hovertext}</b><br><br>Group=Trade & Transportation<br>Year=2017<br>x=%{x}<br>y=%{y}<br>Value=%{marker.size}<extra></extra>",
           "hovertext": [
            "Trade & Transportation"
           ],
           "legendgroup": "Trade & Transportation",
           "marker": {
            "color": "#19d3f3",
            "size": {
             "bdata": "Nj5OAA==",
             "dtype": "i4"
            },
            "sizemode": "area",
            "sizeref": 1209.4062,
            "symbol": "circle"
           },
           "mode": "markers",
           "name": "Trade & Transportation",
           "orientation": "v",
           "showlegend": true,
           "type": "scatter",
           "x": {
            "bdata": "J7RBqqxc5b8=",
            "dtype": "f8"
           },
           "xaxis": "x",
           "y": {
            "bdata": "D68CBPVlB8A=",
            "dtype": "f8"
           },
           "yaxis": "y"
          },
          {
           "hovertemplate": "<b>%{hovertext}</b><br><br>Group=Utilities & Construction<br>Year=2017<br>x=%{x}<br>y=%{y}<br>Value=%{marker.size}<extra></extra>",
           "hovertext": [
            "Utilities & Construction"
           ],
           "legendgroup": "Utilities & Construction",
           "marker": {
            "color": "#FF6692",
            "size": {
             "bdata": "9U8fAA==",
             "dtype": "i4"
            },
            "sizemode": "area",
            "sizeref": 1209.4062,
            "symbol": "circle"
           },
           "mode": "markers",
           "name": "Utilities & Construction",
           "orientation": "v",
           "showlegend": true,
           "type": "scatter",
           "x": {
            "bdata": "uOTRU3Ht/T8=",
            "dtype": "f8"
           },
           "xaxis": "x",
           "y": {
            "bdata": "uWbEl5LDAsA=",
            "dtype": "f8"
           },
           "yaxis": "y"
          }
         ],
         "name": "2017"
        },
        {
         "data": [
          {
           "hovertemplate": "<b>%{hovertext}</b><br><br>Group=Health, Education & Leisure<br>Year=2018<br>x=%{x}<br>y=%{y}<br>Value=%{marker.size}<extra></extra>",
           "hovertext": [
            "Health, Education & Leisure"
           ],
           "legendgroup": "Health, Education & Leisure",
           "marker": {
            "color": "#636efa",
            "size": {
             "bdata": "QTZOAA==",
             "dtype": "i4"
            },
            "sizemode": "area",
            "sizeref": 1209.4062,
            "symbol": "circle"
           },
           "mode": "markers",
           "name": "Health, Education & Leisure",
           "orientation": "v",
           "showlegend": true,
           "type": "scatter",
           "x": {
            "bdata": "AAAAAAAACEA=",
            "dtype": "f8"
           },
           "xaxis": "x",
           "y": {
            "bdata": "AAAAAAAAAAA=",
            "dtype": "f8"
           },
           "yaxis": "y"
          },
          {
           "hovertemplate": "<b>%{hovertext}</b><br><br>Group=Information & Finance<br>Year=2018<br>x=%{x}<br>y=%{y}<br>Value=%{marker.size}<extra></extra>",
           "hovertext": [
            "Information & Finance"
           ],
           "legendgroup": "Information & Finance",
           "marker": {
            "color": "#EF553B",
            "size": {
             "bdata": "lgiEAA==",
             "dtype": "i4"
            },
            "sizemode": "area",
            "sizeref": 1209.4062,
            "symbol": "circle"
           },
           "mode": "markers",
           "name": "Information & Finance",
           "orientation": "v",
           "showlegend": true,
           "type": "scatter",
           "x": {
            "bdata": "u+TRU3Ht/T8=",
            "dtype": "f8"
           },
           "xaxis": "x",
           "y": {
            "bdata": "uGbEl5LDAkA=",
            "dtype": "f8"
           },
           "yaxis": "y"
          },
          {
           "hovertemplate": "<b>%{hovertext}</b><br><br>Group=Manufacturing<br>Year=2018<br>x=%{x}<br>y=%{y}<br>Value=%{marker.size}<extra></extra>",
           "hovertext": [
            "Manufacturing"
           ],
           "legendgroup": "Manufacturing",
           "marker": {
            "color": "#00cc96",
            "size": {
             "bdata": "KzdcAA==",
             "dtype": "i4"
            },
            "sizemode": "area",
            "sizeref": 1209.4062,
            "symbol": "circle"
           },
           "mode": "markers",
           "name": "Manufacturing",
           "orientation": "v",
           "showlegend": true,
           "type": "scatter",
           "x": {
            "bdata": "ILRBqqxc5b8=",
            "dtype": "f8"
           },
           "xaxis": "x",
           "y": {
            "bdata": "D68CBPVlB0A=",
            "dtype": "f8"
           },
           "yaxis": "y"
          },
          {
           "hovertemplate": "<b>%{hovertext}</b><br><br>Group=Primary Industries<br>Year=2018<br>x=%{x}<br>y=%{y}<br>Value=%{marker.size}<extra></extra>",
           "hovertext": [
            "Primary Industries"
           ],
           "legendgroup": "Primary Industries",
           "marker": {
            "color": "#ab63fa",
            "size": {
             "bdata": "4cUPAA==",
             "dtype": "i4"
            },
            "sizemode": "area",
            "sizeref": 1209.4062,
            "symbol": "circle"
           },
           "mode": "markers",
           "name": "Primary Industries",
           "orientation": "v",
           "showlegend": true,
           "type": "scatter",
           "x": {
            "bdata": "VIVYf42fBcA=",
            "dtype": "f8"
           },
           "xaxis": "x",
           "y": {
            "bdata": "0kAVOpDT9D8=",
            "dtype": "f8"
           },
           "yaxis": "y"
          },
          {
           "hovertemplate": "<b>%{hovertext}</b><br><br>Group=Professional & Public Services<br>Year=2018<br>x=%{x}<br>y=%{y}<br>Value=%{marker.size}<extra></extra>",
           "hovertext": [
            "Professional & Public Services"
           ],
           "legendgroup": "Professional & Public Services",
           "marker": {
            "color": "#FFA15A",
            "size": {
             "bdata": "iAGLAA==",
             "dtype": "i4"
            },
            "sizemode": "area",
            "sizeref": 1209.4062,
            "symbol": "circle"
           },
           "mode": "markers",
           "name": "Professional & Public Services",
           "orientation": "v",
           "showlegend": true,
           "type": "scatter",
           "x": {
            "bdata": "VYVYf42fBcA=",
            "dtype": "f8"
           },
           "xaxis": "x",
           "y": {
            "bdata": "z0AVOpDT9L8=",
            "dtype": "f8"
           },
           "yaxis": "y"
          },
          {
           "hovertemplate": "<b>%{hovertext}</b><br><br>Group=Trade & Transportation<br>Year=2018<br>x=%{x}<br>y=%{y}<br>Value=%{marker.size}<extra></extra>",
           "hovertext": [
            "Trade & Transportation"
           ],
           "legendgroup": "Trade & Transportation",
           "marker": {
            "color": "#19d3f3",
            "size": {
             "bdata": "riJTAA==",
             "dtype": "i4"
            },
            "sizemode": "area",
            "sizeref": 1209.4062,
            "symbol": "circle"
           },
           "mode": "markers",
           "name": "Trade & Transportation",
           "orientation": "v",
           "showlegend": true,
           "type": "scatter",
           "x": {
            "bdata": "J7RBqqxc5b8=",
            "dtype": "f8"
           },
           "xaxis": "x",
           "y": {
            "bdata": "D68CBPVlB8A=",
            "dtype": "f8"
           },
           "yaxis": "y"
          },
          {
           "hovertemplate": "<b>%{hovertext}</b><br><br>Group=Utilities & Construction<br>Year=2018<br>x=%{x}<br>y=%{y}<br>Value=%{marker.size}<extra></extra>",
           "hovertext": [
            "Utilities & Construction"
           ],
           "legendgroup": "Utilities & Construction",
           "marker": {
            "color": "#FF6692",
            "size": {
             "bdata": "rzkhAA==",
             "dtype": "i4"
            },
            "sizemode": "area",
            "sizeref": 1209.4062,
            "symbol": "circle"
           },
           "mode": "markers",
           "name": "Utilities & Construction",
           "orientation": "v",
           "showlegend": true,
           "type": "scatter",
           "x": {
            "bdata": "uOTRU3Ht/T8=",
            "dtype": "f8"
           },
           "xaxis": "x",
           "y": {
            "bdata": "uWbEl5LDAsA=",
            "dtype": "f8"
           },
           "yaxis": "y"
          }
         ],
         "name": "2018"
        },
        {
         "data": [
          {
           "hovertemplate": "<b>%{hovertext}</b><br><br>Group=Health, Education & Leisure<br>Year=2019<br>x=%{x}<br>y=%{y}<br>Value=%{marker.size}<extra></extra>",
           "hovertext": [
            "Health, Education & Leisure"
           ],
           "legendgroup": "Health, Education & Leisure",
           "marker": {
            "color": "#636efa",
            "size": {
             "bdata": "+wJSAA==",
             "dtype": "i4"
            },
            "sizemode": "area",
            "sizeref": 1209.4062,
            "symbol": "circle"
           },
           "mode": "markers",
           "name": "Health, Education & Leisure",
           "orientation": "v",
           "showlegend": true,
           "type": "scatter",
           "x": {
            "bdata": "AAAAAAAACEA=",
            "dtype": "f8"
           },
           "xaxis": "x",
           "y": {
            "bdata": "AAAAAAAAAAA=",
            "dtype": "f8"
           },
           "yaxis": "y"
          },
          {
           "hovertemplate": "<b>%{hovertext}</b><br><br>Group=Information & Finance<br>Year=2019<br>x=%{x}<br>y=%{y}<br>Value=%{marker.size}<extra></extra>",
           "hovertext": [
            "Information & Finance"
           ],
           "legendgroup": "Information & Finance",
           "marker": {
            "color": "#EF553B",
            "size": {
             "bdata": "CL2JAA==",
             "dtype": "i4"
            },
            "sizemode": "area",
            "sizeref": 1209.4062,
            "symbol": "circle"
           },
           "mode": "markers",
           "name": "Information & Finance",
           "orientation": "v",
           "showlegend": true,
           "type": "scatter",
           "x": {
            "bdata": "u+TRU3Ht/T8=",
            "dtype": "f8"
           },
           "xaxis": "x",
           "y": {
            "bdata": "uGbEl5LDAkA=",
            "dtype": "f8"
           },
           "yaxis": "y"
          },
          {
           "hovertemplate": "<b>%{hovertext}</b><br><br>Group=Manufacturing<br>Year=2019<br>x=%{x}<br>y=%{y}<br>Value=%{marker.size}<extra></extra>",
           "hovertext": [
            "Manufacturing"
           ],
           "legendgroup": "Manufacturing",
           "marker": {
            "color": "#00cc96",
            "size": {
             "bdata": "k6haAA==",
             "dtype": "i4"
            },
            "sizemode": "area",
            "sizeref": 1209.4062,
            "symbol": "circle"
           },
           "mode": "markers",
           "name": "Manufacturing",
           "orientation": "v",
           "showlegend": true,
           "type": "scatter",
           "x": {
            "bdata": "ILRBqqxc5b8=",
            "dtype": "f8"
           },
           "xaxis": "x",
           "y": {
            "bdata": "D68CBPVlB0A=",
            "dtype": "f8"
           },
           "yaxis": "y"
          },
          {
           "hovertemplate": "<b>%{hovertext}</b><br><br>Group=Primary Industries<br>Year=2019<br>x=%{x}<br>y=%{y}<br>Value=%{marker.size}<extra></extra>",
           "hovertext": [
            "Primary Industries"
           ],
           "legendgroup": "Primary Industries",
           "marker": {
            "color": "#ab63fa",
            "size": {
             "bdata": "rTUPAA==",
             "dtype": "i4"
            },
            "sizemode": "area",
            "sizeref": 1209.4062,
            "symbol": "circle"
           },
           "mode": "markers",
           "name": "Primary Industries",
           "orientation": "v",
           "showlegend": true,
           "type": "scatter",
           "x": {
            "bdata": "VIVYf42fBcA=",
            "dtype": "f8"
           },
           "xaxis": "x",
           "y": {
            "bdata": "0kAVOpDT9D8=",
            "dtype": "f8"
           },
           "yaxis": "y"
          },
          {
           "hovertemplate": "<b>%{hovertext}</b><br><br>Group=Professional & Public Services<br>Year=2019<br>x=%{x}<br>y=%{y}<br>Value=%{marker.size}<extra></extra>",
           "hovertext": [
            "Professional & Public Services"
           ],
           "legendgroup": "Professional & Public Services",
           "marker": {
            "color": "#FFA15A",
            "size": {
             "bdata": "hF+SAA==",
             "dtype": "i4"
            },
            "sizemode": "area",
            "sizeref": 1209.4062,
            "symbol": "circle"
           },
           "mode": "markers",
           "name": "Professional & Public Services",
           "orientation": "v",
           "showlegend": true,
           "type": "scatter",
           "x": {
            "bdata": "VYVYf42fBcA=",
            "dtype": "f8"
           },
           "xaxis": "x",
           "y": {
            "bdata": "z0AVOpDT9L8=",
            "dtype": "f8"
           },
           "yaxis": "y"
          },
          {
           "hovertemplate": "<b>%{hovertext}</b><br><br>Group=Trade & Transportation<br>Year=2019<br>x=%{x}<br>y=%{y}<br>Value=%{marker.size}<extra></extra>",
           "hovertext": [
            "Trade & Transportation"
           ],
           "legendgroup": "Trade & Transportation",
           "marker": {
            "color": "#19d3f3",
            "size": {
             "bdata": "ArxVAA==",
             "dtype": "i4"
            },
            "sizemode": "area",
            "sizeref": 1209.4062,
            "symbol": "circle"
           },
           "mode": "markers",
           "name": "Trade & Transportation",
           "orientation": "v",
           "showlegend": true,
           "type": "scatter",
           "x": {
            "bdata": "J7RBqqxc5b8=",
            "dtype": "f8"
           },
           "xaxis": "x",
           "y": {
            "bdata": "D68CBPVlB8A=",
            "dtype": "f8"
           },
           "yaxis": "y"
          },
          {
           "hovertemplate": "<b>%{hovertext}</b><br><br>Group=Utilities & Construction<br>Year=2019<br>x=%{x}<br>y=%{y}<br>Value=%{marker.size}<extra></extra>",
           "hovertext": [
            "Utilities & Construction"
           ],
           "legendgroup": "Utilities & Construction",
           "marker": {
            "color": "#FF6692",
            "size": {
             "bdata": "lVUiAA==",
             "dtype": "i4"
            },
            "sizemode": "area",
            "sizeref": 1209.4062,
            "symbol": "circle"
           },
           "mode": "markers",
           "name": "Utilities & Construction",
           "orientation": "v",
           "showlegend": true,
           "type": "scatter",
           "x": {
            "bdata": "uOTRU3Ht/T8=",
            "dtype": "f8"
           },
           "xaxis": "x",
           "y": {
            "bdata": "uWbEl5LDAsA=",
            "dtype": "f8"
           },
           "yaxis": "y"
          }
         ],
         "name": "2019"
        },
        {
         "data": [
          {
           "hovertemplate": "<b>%{hovertext}</b><br><br>Group=Health, Education & Leisure<br>Year=2020<br>x=%{x}<br>y=%{y}<br>Value=%{marker.size}<extra></extra>",
           "hovertext": [
            "Health, Education & Leisure"
           ],
           "legendgroup": "Health, Education & Leisure",
           "marker": {
            "color": "#636efa",
            "size": {
             "bdata": "CU9KAA==",
             "dtype": "i4"
            },
            "sizemode": "area",
            "sizeref": 1209.4062,
            "symbol": "circle"
           },
           "mode": "markers",
           "name": "Health, Education & Leisure",
           "orientation": "v",
           "showlegend": true,
           "type": "scatter",
           "x": {
            "bdata": "AAAAAAAACEA=",
            "dtype": "f8"
           },
           "xaxis": "x",
           "y": {
            "bdata": "AAAAAAAAAAA=",
            "dtype": "f8"
           },
           "yaxis": "y"
          },
          {
           "hovertemplate": "<b>%{hovertext}</b><br><br>Group=Information & Finance<br>Year=2020<br>x=%{x}<br>y=%{y}<br>Value=%{marker.size}<extra></extra>",
           "hovertext": [
            "Information & Finance"
           ],
           "legendgroup": "Information & Finance",
           "marker": {
            "color": "#EF553B",
            "size": {
             "bdata": "2AiOAA==",
             "dtype": "i4"
            },
            "sizemode": "area",
            "sizeref": 1209.4062,
            "symbol": "circle"
           },
           "mode": "markers",
           "name": "Information & Finance",
           "orientation": "v",
           "showlegend": true,
           "type": "scatter",
           "x": {
            "bdata": "u+TRU3Ht/T8=",
            "dtype": "f8"
           },
           "xaxis": "x",
           "y": {
            "bdata": "uGbEl5LDAkA=",
            "dtype": "f8"
           },
           "yaxis": "y"
          },
          {
           "hovertemplate": "<b>%{hovertext}</b><br><br>Group=Manufacturing<br>Year=2020<br>x=%{x}<br>y=%{y}<br>Value=%{marker.size}<extra></extra>",
           "hovertext": [
            "Manufacturing"
           ],
           "legendgroup": "Manufacturing",
           "marker": {
            "color": "#00cc96",
            "size": {
             "bdata": "15BSAA==",
             "dtype": "i4"
            },
            "sizemode": "area",
            "sizeref": 1209.4062,
            "symbol": "circle"
           },
           "mode": "markers",
           "name": "Manufacturing",
           "orientation": "v",
           "showlegend": true,
           "type": "scatter",
           "x": {
            "bdata": "ILRBqqxc5b8=",
            "dtype": "f8"
           },
           "xaxis": "x",
           "y": {
            "bdata": "D68CBPVlB0A=",
            "dtype": "f8"
           },
           "yaxis": "y"
          },
          {
           "hovertemplate": "<b>%{hovertext}</b><br><br>Group=Primary Industries<br>Year=2020<br>x=%{x}<br>y=%{y}<br>Value=%{marker.size}<extra></extra>",
           "hovertext": [
            "Primary Industries"
           ],
           "legendgroup": "Primary Industries",
           "marker": {
            "color": "#ab63fa",
            "size": {
             "bdata": "jaYMAA==",
             "dtype": "i4"
            },
            "sizemode": "area",
            "sizeref": 1209.4062,
            "symbol": "circle"
           },
           "mode": "markers",
           "name": "Primary Industries",
           "orientation": "v",
           "showlegend": true,
           "type": "scatter",
           "x": {
            "bdata": "VIVYf42fBcA=",
            "dtype": "f8"
           },
           "xaxis": "x",
           "y": {
            "bdata": "0kAVOpDT9D8=",
            "dtype": "f8"
           },
           "yaxis": "y"
          },
          {
           "hovertemplate": "<b>%{hovertext}</b><br><br>Group=Professional & Public Services<br>Year=2020<br>x=%{x}<br>y=%{y}<br>Value=%{marker.size}<extra></extra>",
           "hovertext": [
            "Professional & Public Services"
           ],
           "legendgroup": "Professional & Public Services",
           "marker": {
            "color": "#FFA15A",
            "size": {
             "bdata": "5YKVAA==",
             "dtype": "i4"
            },
            "sizemode": "area",
            "sizeref": 1209.4062,
            "symbol": "circle"
           },
           "mode": "markers",
           "name": "Professional & Public Services",
           "orientation": "v",
           "showlegend": true,
           "type": "scatter",
           "x": {
            "bdata": "VYVYf42fBcA=",
            "dtype": "f8"
           },
           "xaxis": "x",
           "y": {
            "bdata": "z0AVOpDT9L8=",
            "dtype": "f8"
           },
           "yaxis": "y"
          },
          {
           "hovertemplate": "<b>%{hovertext}</b><br><br>Group=Trade & Transportation<br>Year=2020<br>x=%{x}<br>y=%{y}<br>Value=%{marker.size}<extra></extra>",
           "hovertext": [
            "Trade & Transportation"
           ],
           "legendgroup": "Trade & Transportation",
           "marker": {
            "color": "#19d3f3",
            "size": {
             "bdata": "rYpSAA==",
             "dtype": "i4"
            },
            "sizemode": "area",
            "sizeref": 1209.4062,
            "symbol": "circle"
           },
           "mode": "markers",
           "name": "Trade & Transportation",
           "orientation": "v",
           "showlegend": true,
           "type": "scatter",
           "x": {
            "bdata": "J7RBqqxc5b8=",
            "dtype": "f8"
           },
           "xaxis": "x",
           "y": {
            "bdata": "D68CBPVlB8A=",
            "dtype": "f8"
           },
           "yaxis": "y"
          },
          {
           "hovertemplate": "<b>%{hovertext}</b><br><br>Group=Utilities & Construction<br>Year=2020<br>x=%{x}<br>y=%{y}<br>Value=%{marker.size}<extra></extra>",
           "hovertext": [
            "Utilities & Construction"
           ],
           "legendgroup": "Utilities & Construction",
           "marker": {
            "color": "#FF6692",
            "size": {
             "bdata": "QCkjAA==",
             "dtype": "i4"
            },
            "sizemode": "area",
            "sizeref": 1209.4062,
            "symbol": "circle"
           },
           "mode": "markers",
           "name": "Utilities & Construction",
           "orientation": "v",
           "showlegend": true,
           "type": "scatter",
           "x": {
            "bdata": "uOTRU3Ht/T8=",
            "dtype": "f8"
           },
           "xaxis": "x",
           "y": {
            "bdata": "uWbEl5LDAsA=",
            "dtype": "f8"
           },
           "yaxis": "y"
          }
         ],
         "name": "2020"
        },
        {
         "data": [
          {
           "hovertemplate": "<b>%{hovertext}</b><br><br>Group=Health, Education & Leisure<br>Year=2021<br>x=%{x}<br>y=%{y}<br>Value=%{marker.size}<extra></extra>",
           "hovertext": [
            "Health, Education & Leisure"
           ],
           "legendgroup": "Health, Education & Leisure",
           "marker": {
            "color": "#636efa",
            "size": {
             "bdata": "QCNWAA==",
             "dtype": "i4"
            },
            "sizemode": "area",
            "sizeref": 1209.4062,
            "symbol": "circle"
           },
           "mode": "markers",
           "name": "Health, Education & Leisure",
           "orientation": "v",
           "showlegend": true,
           "type": "scatter",
           "x": {
            "bdata": "AAAAAAAACEA=",
            "dtype": "f8"
           },
           "xaxis": "x",
           "y": {
            "bdata": "AAAAAAAAAAA=",
            "dtype": "f8"
           },
           "yaxis": "y"
          },
          {
           "hovertemplate": "<b>%{hovertext}</b><br><br>Group=Information & Finance<br>Year=2021<br>x=%{x}<br>y=%{y}<br>Value=%{marker.size}<extra></extra>",
           "hovertext": [
            "Information & Finance"
           ],
           "legendgroup": "Information & Finance",
           "marker": {
            "color": "#EF553B",
            "size": {
             "bdata": "te2cAA==",
             "dtype": "i4"
            },
            "sizemode": "area",
            "sizeref": 1209.4062,
            "symbol": "circle"
           },
           "mode": "markers",
           "name": "Information & Finance",
           "orientation": "v",
           "showlegend": true,
           "type": "scatter",
           "x": {
            "bdata": "u+TRU3Ht/T8=",
            "dtype": "f8"
           },
           "xaxis": "x",
           "y": {
            "bdata": "uGbEl5LDAkA=",
            "dtype": "f8"
           },
           "yaxis": "y"
          },
          {
           "hovertemplate": "<b>%{hovertext}</b><br><br>Group=Manufacturing<br>Year=2021<br>x=%{x}<br>y=%{y}<br>Value=%{marker.size}<extra></extra>",
           "hovertext": [
            "Manufacturing"
           ],
           "legendgroup": "Manufacturing",
           "marker": {
            "color": "#00cc96",
            "size": {
             "bdata": "ZvNfAA==",
             "dtype": "i4"
            },
            "sizemode": "area",
            "sizeref": 1209.4062,
            "symbol": "circle"
           },
           "mode": "markers",
           "name": "Manufacturing",
           "orientation": "v",
           "showlegend": true,
           "type": "scatter",
           "x": {
            "bdata": "ILRBqqxc5b8=",
            "dtype": "f8"
           },
           "xaxis": "x",
           "y": {
            "bdata": "D68CBPVlB0A=",
            "dtype": "f8"
           },
           "yaxis": "y"
          },
          {
           "hovertemplate": "<b>%{hovertext}</b><br><br>Group=Primary Industries<br>Year=2021<br>x=%{x}<br>y=%{y}<br>Value=%{marker.size}<extra></extra>",
           "hovertext": [
            "Primary Industries"
           ],
           "legendgroup": "Primary Industries",
           "marker": {
            "color": "#ab63fa",
            "size": {
             "bdata": "Wm4RAA==",
             "dtype": "i4"
            },
            "sizemode": "area",
            "sizeref": 1209.4062,
            "symbol": "circle"
           },
           "mode": "markers",
           "name": "Primary Industries",
           "orientation": "v",
           "showlegend": true,
           "type": "scatter",
           "x": {
            "bdata": "VIVYf42fBcA=",
            "dtype": "f8"
           },
           "xaxis": "x",
           "y": {
            "bdata": "0kAVOpDT9D8=",
            "dtype": "f8"
           },
           "yaxis": "y"
          },
          {
           "hovertemplate": "<b>%{hovertext}</b><br><br>Group=Professional & Public Services<br>Year=2021<br>x=%{x}<br>y=%{y}<br>Value=%{marker.size}<extra></extra>",
           "hovertext": [
            "Professional & Public Services"
           ],
           "legendgroup": "Professional & Public Services",
           "marker": {
            "color": "#FFA15A",
            "size": {
             "bdata": "ueSiAA==",
             "dtype": "i4"
            },
            "sizemode": "area",
            "sizeref": 1209.4062,
            "symbol": "circle"
           },
           "mode": "markers",
           "name": "Professional & Public Services",
           "orientation": "v",
           "showlegend": true,
           "type": "scatter",
           "x": {
            "bdata": "VYVYf42fBcA=",
            "dtype": "f8"
           },
           "xaxis": "x",
           "y": {
            "bdata": "z0AVOpDT9L8=",
            "dtype": "f8"
           },
           "yaxis": "y"
          },
          {
           "hovertemplate": "<b>%{hovertext}</b><br><br>Group=Trade & Transportation<br>Year=2021<br>x=%{x}<br>y=%{y}<br>Value=%{marker.size}<extra></extra>",
           "hovertext": [
            "Trade & Transportation"
           ],
           "legendgroup": "Trade & Transportation",
           "marker": {
            "color": "#19d3f3",
            "size": {
             "bdata": "QRBjAA==",
             "dtype": "i4"
            },
            "sizemode": "area",
            "sizeref": 1209.4062,
            "symbol": "circle"
           },
           "mode": "markers",
           "name": "Trade & Transportation",
           "orientation": "v",
           "showlegend": true,
           "type": "scatter",
           "x": {
            "bdata": "J7RBqqxc5b8=",
            "dtype": "f8"
           },
           "xaxis": "x",
           "y": {
            "bdata": "D68CBPVlB8A=",
            "dtype": "f8"
           },
           "yaxis": "y"
          },
          {
           "hovertemplate": "<b>%{hovertext}</b><br><br>Group=Utilities & Construction<br>Year=2021<br>x=%{x}<br>y=%{y}<br>Value=%{marker.size}<extra></extra>",
           "hovertext": [
            "Utilities & Construction"
           ],
           "legendgroup": "Utilities & Construction",
           "marker": {
            "color": "#FF6692",
            "size": {
             "bdata": "K28nAA==",
             "dtype": "i4"
            },
            "sizemode": "area",
            "sizeref": 1209.4062,
            "symbol": "circle"
           },
           "mode": "markers",
           "name": "Utilities & Construction",
           "orientation": "v",
           "showlegend": true,
           "type": "scatter",
           "x": {
            "bdata": "uOTRU3Ht/T8=",
            "dtype": "f8"
           },
           "xaxis": "x",
           "y": {
            "bdata": "uWbEl5LDAsA=",
            "dtype": "f8"
           },
           "yaxis": "y"
          }
         ],
         "name": "2021"
        },
        {
         "data": [
          {
           "hovertemplate": "<b>%{hovertext}</b><br><br>Group=Health, Education & Leisure<br>Year=2022<br>x=%{x}<br>y=%{y}<br>Value=%{marker.size}<extra></extra>",
           "hovertext": [
            "Health, Education & Leisure"
           ],
           "legendgroup": "Health, Education & Leisure",
           "marker": {
            "color": "#636efa",
            "size": {
             "bdata": "SzxhAA==",
             "dtype": "i4"
            },
            "sizemode": "area",
            "sizeref": 1209.4062,
            "symbol": "circle"
           },
           "mode": "markers",
           "name": "Health, Education & Leisure",
           "orientation": "v",
           "showlegend": true,
           "type": "scatter",
           "x": {
            "bdata": "AAAAAAAACEA=",
            "dtype": "f8"
           },
           "xaxis": "x",
           "y": {
            "bdata": "AAAAAAAAAAA=",
            "dtype": "f8"
           },
           "yaxis": "y"
          },
          {
           "hovertemplate": "<b>%{hovertext}</b><br><br>Group=Information & Finance<br>Year=2022<br>x=%{x}<br>y=%{y}<br>Value=%{marker.size}<extra></extra>",
           "hovertext": [
            "Information & Finance"
           ],
           "legendgroup": "Information & Finance",
           "marker": {
            "color": "#EF553B",
            "size": {
             "bdata": "//2oAA==",
             "dtype": "i4"
            },
            "sizemode": "area",
            "sizeref": 1209.4062,
            "symbol": "circle"
           },
           "mode": "markers",
           "name": "Information & Finance",
           "orientation": "v",
           "showlegend": true,
           "type": "scatter",
           "x": {
            "bdata": "u+TRU3Ht/T8=",
            "dtype": "f8"
           },
           "xaxis": "x",
           "y": {
            "bdata": "uGbEl5LDAkA=",
            "dtype": "f8"
           },
           "yaxis": "y"
          },
          {
           "hovertemplate": "<b>%{hovertext}</b><br><br>Group=Manufacturing<br>Year=2022<br>x=%{x}<br>y=%{y}<br>Value=%{marker.size}<extra></extra>",
           "hovertext": [
            "Manufacturing"
           ],
           "legendgroup": "Manufacturing",
           "marker": {
            "color": "#00cc96",
            "size": {
             "bdata": "dkdtAA==",
             "dtype": "i4"
            },
            "sizemode": "area",
            "sizeref": 1209.4062,
            "symbol": "circle"
           },
           "mode": "markers",
           "name": "Manufacturing",
           "orientation": "v",
           "showlegend": true,
           "type": "scatter",
           "x": {
            "bdata": "ILRBqqxc5b8=",
            "dtype": "f8"
           },
           "xaxis": "x",
           "y": {
            "bdata": "D68CBPVlB0A=",
            "dtype": "f8"
           },
           "yaxis": "y"
          },
          {
           "hovertemplate": "<b>%{hovertext}</b><br><br>Group=Primary Industries<br>Year=2022<br>x=%{x}<br>y=%{y}<br>Value=%{marker.size}<extra></extra>",
           "hovertext": [
            "Primary Industries"
           ],
           "legendgroup": "Primary Industries",
           "marker": {
            "color": "#ab63fa",
            "size": {
             "bdata": "cR8XAA==",
             "dtype": "i4"
            },
            "sizemode": "area",
            "sizeref": 1209.4062,
            "symbol": "circle"
           },
           "mode": "markers",
           "name": "Primary Industries",
           "orientation": "v",
           "showlegend": true,
           "type": "scatter",
           "x": {
            "bdata": "VIVYf42fBcA=",
            "dtype": "f8"
           },
           "xaxis": "x",
           "y": {
            "bdata": "0kAVOpDT9D8=",
            "dtype": "f8"
           },
           "yaxis": "y"
          },
          {
           "hovertemplate": "<b>%{hovertext}</b><br><br>Group=Professional & Public Services<br>Year=2022<br>x=%{x}<br>y=%{y}<br>Value=%{marker.size}<extra></extra>",
           "hovertext": [
            "Professional & Public Services"
           ],
           "legendgroup": "Professional & Public Services",
           "marker": {
            "color": "#FFA15A",
            "size": {
             "bdata": "ubqwAA==",
             "dtype": "i4"
            },
            "sizemode": "area",
            "sizeref": 1209.4062,
            "symbol": "circle"
           },
           "mode": "markers",
           "name": "Professional & Public Services",
           "orientation": "v",
           "showlegend": true,
           "type": "scatter",
           "x": {
            "bdata": "VYVYf42fBcA=",
            "dtype": "f8"
           },
           "xaxis": "x",
           "y": {
            "bdata": "z0AVOpDT9L8=",
            "dtype": "f8"
           },
           "yaxis": "y"
          },
          {
           "hovertemplate": "<b>%{hovertext}</b><br><br>Group=Trade & Transportation<br>Year=2022<br>x=%{x}<br>y=%{y}<br>Value=%{marker.size}<extra></extra>",
           "hovertext": [
            "Trade & Transportation"
           ],
           "legendgroup": "Trade & Transportation",
           "marker": {
            "color": "#19d3f3",
            "size": {
             "bdata": "OI5wAA==",
             "dtype": "i4"
            },
            "sizemode": "area",
            "sizeref": 1209.4062,
            "symbol": "circle"
           },
           "mode": "markers",
           "name": "Trade & Transportation",
           "orientation": "v",
           "showlegend": true,
           "type": "scatter",
           "x": {
            "bdata": "J7RBqqxc5b8=",
            "dtype": "f8"
           },
           "xaxis": "x",
           "y": {
            "bdata": "D68CBPVlB8A=",
            "dtype": "f8"
           },
           "yaxis": "y"
          },
          {
           "hovertemplate": "<b>%{hovertext}</b><br><br>Group=Utilities & Construction<br>Year=2022<br>x=%{x}<br>y=%{y}<br>Value=%{marker.size}<extra></extra>",
           "hovertext": [
            "Utilities & Construction"
           ],
           "legendgroup": "Utilities & Construction",
           "marker": {
            "color": "#FF6692",
            "size": {
             "bdata": "0CcsAA==",
             "dtype": "i4"
            },
            "sizemode": "area",
            "sizeref": 1209.4062,
            "symbol": "circle"
           },
           "mode": "markers",
           "name": "Utilities & Construction",
           "orientation": "v",
           "showlegend": true,
           "type": "scatter",
           "x": {
            "bdata": "uOTRU3Ht/T8=",
            "dtype": "f8"
           },
           "xaxis": "x",
           "y": {
            "bdata": "uWbEl5LDAsA=",
            "dtype": "f8"
           },
           "yaxis": "y"
          }
         ],
         "name": "2022"
        },
        {
         "data": [
          {
           "hovertemplate": "<b>%{hovertext}</b><br><br>Group=Health, Education & Leisure<br>Year=2023<br>x=%{x}<br>y=%{y}<br>Value=%{marker.size}<extra></extra>",
           "hovertext": [
            "Health, Education & Leisure"
           ],
           "legendgroup": "Health, Education & Leisure",
           "marker": {
            "color": "#636efa",
            "size": {
             "bdata": "u0pqAA==",
             "dtype": "i4"
            },
            "sizemode": "area",
            "sizeref": 1209.4062,
            "symbol": "circle"
           },
           "mode": "markers",
           "name": "Health, Education & Leisure",
           "orientation": "v",
           "showlegend": true,
           "type": "scatter",
           "x": {
            "bdata": "AAAAAAAACEA=",
            "dtype": "f8"
           },
           "xaxis": "x",
           "y": {
            "bdata": "AAAAAAAAAAA=",
            "dtype": "f8"
           },
           "yaxis": "y"
          },
          {
           "hovertemplate": "<b>%{hovertext}</b><br><br>Group=Information & Finance<br>Year=2023<br>x=%{x}<br>y=%{y}<br>Value=%{marker.size}<extra></extra>",
           "hovertext": [
            "Information & Finance"
           ],
           "legendgroup": "Information & Finance",
           "marker": {
            "color": "#EF553B",
            "size": {
             "bdata": "oeG0AA==",
             "dtype": "i4"
            },
            "sizemode": "area",
            "sizeref": 1209.4062,
            "symbol": "circle"
           },
           "mode": "markers",
           "name": "Information & Finance",
           "orientation": "v",
           "showlegend": true,
           "type": "scatter",
           "x": {
            "bdata": "u+TRU3Ht/T8=",
            "dtype": "f8"
           },
           "xaxis": "x",
           "y": {
            "bdata": "uGbEl5LDAkA=",
            "dtype": "f8"
           },
           "yaxis": "y"
          },
          {
           "hovertemplate": "<b>%{hovertext}</b><br><br>Group=Manufacturing<br>Year=2023<br>x=%{x}<br>y=%{y}<br>Value=%{marker.size}<extra></extra>",
           "hovertext": [
            "Manufacturing"
           ],
           "legendgroup": "Manufacturing",
           "marker": {
            "color": "#00cc96",
            "size": {
             "bdata": "wwduAA==",
             "dtype": "i4"
            },
            "sizemode": "area",
            "sizeref": 1209.4062,
            "symbol": "circle"
           },
           "mode": "markers",
           "name": "Manufacturing",
           "orientation": "v",
           "showlegend": true,
           "type": "scatter",
           "x": {
            "bdata": "ILRBqqxc5b8=",
            "dtype": "f8"
           },
           "xaxis": "x",
           "y": {
            "bdata": "D68CBPVlB0A=",
            "dtype": "f8"
           },
           "yaxis": "y"
          },
          {
           "hovertemplate": "<b>%{hovertext}</b><br><br>Group=Primary Industries<br>Year=2023<br>x=%{x}<br>y=%{y}<br>Value=%{marker.size}<extra></extra>",
           "hovertext": [
            "Primary Industries"
           ],
           "legendgroup": "Primary Industries",
           "marker": {
            "color": "#ab63fa",
            "size": {
             "bdata": "23YUAA==",
             "dtype": "i4"
            },
            "sizemode": "area",
            "sizeref": 1209.4062,
            "symbol": "circle"
           },
           "mode": "markers",
           "name": "Primary Industries",
           "orientation": "v",
           "showlegend": true,
           "type": "scatter",
           "x": {
            "bdata": "VIVYf42fBcA=",
            "dtype": "f8"
           },
           "xaxis": "x",
           "y": {
            "bdata": "0kAVOpDT9D8=",
            "dtype": "f8"
           },
           "yaxis": "y"
          },
          {
           "hovertemplate": "<b>%{hovertext}</b><br><br>Group=Professional & Public Services<br>Year=2023<br>x=%{x}<br>y=%{y}<br>Value=%{marker.size}<extra></extra>",
           "hovertext": [
            "Professional & Public Services"
           ],
           "legendgroup": "Professional & Public Services",
           "marker": {
            "color": "#FFA15A",
            "size": {
             "bdata": "boq4AA==",
             "dtype": "i4"
            },
            "sizemode": "area",
            "sizeref": 1209.4062,
            "symbol": "circle"
           },
           "mode": "markers",
           "name": "Professional & Public Services",
           "orientation": "v",
           "showlegend": true,
           "type": "scatter",
           "x": {
            "bdata": "VYVYf42fBcA=",
            "dtype": "f8"
           },
           "xaxis": "x",
           "y": {
            "bdata": "z0AVOpDT9L8=",
            "dtype": "f8"
           },
           "yaxis": "y"
          },
          {
           "hovertemplate": "<b>%{hovertext}</b><br><br>Group=Trade & Transportation<br>Year=2023<br>x=%{x}<br>y=%{y}<br>Value=%{marker.size}<extra></extra>",
           "hovertext": [
            "Trade & Transportation"
           ],
           "legendgroup": "Trade & Transportation",
           "marker": {
            "color": "#19d3f3",
            "size": {
             "bdata": "dF5wAA==",
             "dtype": "i4"
            },
            "sizemode": "area",
            "sizeref": 1209.4062,
            "symbol": "circle"
           },
           "mode": "markers",
           "name": "Trade & Transportation",
           "orientation": "v",
           "showlegend": true,
           "type": "scatter",
           "x": {
            "bdata": "J7RBqqxc5b8=",
            "dtype": "f8"
           },
           "xaxis": "x",
           "y": {
            "bdata": "D68CBPVlB8A=",
            "dtype": "f8"
           },
           "yaxis": "y"
          },
          {
           "hovertemplate": "<b>%{hovertext}</b><br><br>Group=Utilities & Construction<br>Year=2023<br>x=%{x}<br>y=%{y}<br>Value=%{marker.size}<extra></extra>",
           "hovertext": [
            "Utilities & Construction"
           ],
           "legendgroup": "Utilities & Construction",
           "marker": {
            "color": "#FF6692",
            "size": {
             "bdata": "s2ktAA==",
             "dtype": "i4"
            },
            "sizemode": "area",
            "sizeref": 1209.4062,
            "symbol": "circle"
           },
           "mode": "markers",
           "name": "Utilities & Construction",
           "orientation": "v",
           "showlegend": true,
           "type": "scatter",
           "x": {
            "bdata": "uOTRU3Ht/T8=",
            "dtype": "f8"
           },
           "xaxis": "x",
           "y": {
            "bdata": "uWbEl5LDAsA=",
            "dtype": "f8"
           },
           "yaxis": "y"
          }
         ],
         "name": "2023"
        }
       ],
       "layout": {
        "height": 650,
        "legend": {
         "itemsizing": "constant",
         "title": {
          "text": "Group"
         },
         "tracegroupgap": 0
        },
        "margin": {
         "b": 0,
         "l": 0,
         "r": 0,
         "t": 40
        },
        "sliders": [
         {
          "active": 0,
          "currentvalue": {
           "prefix": "Year="
          },
          "len": 0.9,
          "pad": {
           "b": 10,
           "t": 60
          },
          "steps": [
           {
            "args": [
             [
              "1997"
             ],
             {
              "frame": {
               "duration": 0,
               "redraw": false
              },
              "fromcurrent": true,
              "mode": "immediate",
              "transition": {
               "duration": 0,
               "easing": "linear"
              }
             }
            ],
            "label": "1997",
            "method": "animate"
           },
           {
            "args": [
             [
              "1998"
             ],
             {
              "frame": {
               "duration": 0,
               "redraw": false
              },
              "fromcurrent": true,
              "mode": "immediate",
              "transition": {
               "duration": 0,
               "easing": "linear"
              }
             }
            ],
            "label": "1998",
            "method": "animate"
           },
           {
            "args": [
             [
              "1999"
             ],
             {
              "frame": {
               "duration": 0,
               "redraw": false
              },
              "fromcurrent": true,
              "mode": "immediate",
              "transition": {
               "duration": 0,
               "easing": "linear"
              }
             }
            ],
            "label": "1999",
            "method": "animate"
           },
           {
            "args": [
             [
              "2000"
             ],
             {
              "frame": {
               "duration": 0,
               "redraw": false
              },
              "fromcurrent": true,
              "mode": "immediate",
              "transition": {
               "duration": 0,
               "easing": "linear"
              }
             }
            ],
            "label": "2000",
            "method": "animate"
           },
           {
            "args": [
             [
              "2001"
             ],
             {
              "frame": {
               "duration": 0,
               "redraw": false
              },
              "fromcurrent": true,
              "mode": "immediate",
              "transition": {
               "duration": 0,
               "easing": "linear"
              }
             }
            ],
            "label": "2001",
            "method": "animate"
           },
           {
            "args": [
             [
              "2002"
             ],
             {
              "frame": {
               "duration": 0,
               "redraw": false
              },
              "fromcurrent": true,
              "mode": "immediate",
              "transition": {
               "duration": 0,
               "easing": "linear"
              }
             }
            ],
            "label": "2002",
            "method": "animate"
           },
           {
            "args": [
             [
              "2003"
             ],
             {
              "frame": {
               "duration": 0,
               "redraw": false
              },
              "fromcurrent": true,
              "mode": "immediate",
              "transition": {
               "duration": 0,
               "easing": "linear"
              }
             }
            ],
            "label": "2003",
            "method": "animate"
           },
           {
            "args": [
             [
              "2004"
             ],
             {
              "frame": {
               "duration": 0,
               "redraw": false
              },
              "fromcurrent": true,
              "mode": "immediate",
              "transition": {
               "duration": 0,
               "easing": "linear"
              }
             }
            ],
            "label": "2004",
            "method": "animate"
           },
           {
            "args": [
             [
              "2005"
             ],
             {
              "frame": {
               "duration": 0,
               "redraw": false
              },
              "fromcurrent": true,
              "mode": "immediate",
              "transition": {
               "duration": 0,
               "easing": "linear"
              }
             }
            ],
            "label": "2005",
            "method": "animate"
           },
           {
            "args": [
             [
              "2006"
             ],
             {
              "frame": {
               "duration": 0,
               "redraw": false
              },
              "fromcurrent": true,
              "mode": "immediate",
              "transition": {
               "duration": 0,
               "easing": "linear"
              }
             }
            ],
            "label": "2006",
            "method": "animate"
           },
           {
            "args": [
             [
              "2007"
             ],
             {
              "frame": {
               "duration": 0,
               "redraw": false
              },
              "fromcurrent": true,
              "mode": "immediate",
              "transition": {
               "duration": 0,
               "easing": "linear"
              }
             }
            ],
            "label": "2007",
            "method": "animate"
           },
           {
            "args": [
             [
              "2008"
             ],
             {
              "frame": {
               "duration": 0,
               "redraw": false
              },
              "fromcurrent": true,
              "mode": "immediate",
              "transition": {
               "duration": 0,
               "easing": "linear"
              }
             }
            ],
            "label": "2008",
            "method": "animate"
           },
           {
            "args": [
             [
              "2009"
             ],
             {
              "frame": {
               "duration": 0,
               "redraw": false
              },
              "fromcurrent": true,
              "mode": "immediate",
              "transition": {
               "duration": 0,
               "easing": "linear"
              }
             }
            ],
            "label": "2009",
            "method": "animate"
           },
           {
            "args": [
             [
              "2010"
             ],
             {
              "frame": {
               "duration": 0,
               "redraw": false
              },
              "fromcurrent": true,
              "mode": "immediate",
              "transition": {
               "duration": 0,
               "easing": "linear"
              }
             }
            ],
            "label": "2010",
            "method": "animate"
           },
           {
            "args": [
             [
              "2011"
             ],
             {
              "frame": {
               "duration": 0,
               "redraw": false
              },
              "fromcurrent": true,
              "mode": "immediate",
              "transition": {
               "duration": 0,
               "easing": "linear"
              }
             }
            ],
            "label": "2011",
            "method": "animate"
           },
           {
            "args": [
             [
              "2012"
             ],
             {
              "frame": {
               "duration": 0,
               "redraw": false
              },
              "fromcurrent": true,
              "mode": "immediate",
              "transition": {
               "duration": 0,
               "easing": "linear"
              }
             }
            ],
            "label": "2012",
            "method": "animate"
           },
           {
            "args": [
             [
              "2013"
             ],
             {
              "frame": {
               "duration": 0,
               "redraw": false
              },
              "fromcurrent": true,
              "mode": "immediate",
              "transition": {
               "duration": 0,
               "easing": "linear"
              }
             }
            ],
            "label": "2013",
            "method": "animate"
           },
           {
            "args": [
             [
              "2014"
             ],
             {
              "frame": {
               "duration": 0,
               "redraw": false
              },
              "fromcurrent": true,
              "mode": "immediate",
              "transition": {
               "duration": 0,
               "easing": "linear"
              }
             }
            ],
            "label": "2014",
            "method": "animate"
           },
           {
            "args": [
             [
              "2015"
             ],
             {
              "frame": {
               "duration": 0,
               "redraw": false
              },
              "fromcurrent": true,
              "mode": "immediate",
              "transition": {
               "duration": 0,
               "easing": "linear"
              }
             }
            ],
            "label": "2015",
            "method": "animate"
           },
           {
            "args": [
             [
              "2016"
             ],
             {
              "frame": {
               "duration": 0,
               "redraw": false
              },
              "fromcurrent": true,
              "mode": "immediate",
              "transition": {
               "duration": 0,
               "easing": "linear"
              }
             }
            ],
            "label": "2016",
            "method": "animate"
           },
           {
            "args": [
             [
              "2017"
             ],
             {
              "frame": {
               "duration": 0,
               "redraw": false
              },
              "fromcurrent": true,
              "mode": "immediate",
              "transition": {
               "duration": 0,
               "easing": "linear"
              }
             }
            ],
            "label": "2017",
            "method": "animate"
           },
           {
            "args": [
             [
              "2018"
             ],
             {
              "frame": {
               "duration": 0,
               "redraw": false
              },
              "fromcurrent": true,
              "mode": "immediate",
              "transition": {
               "duration": 0,
               "easing": "linear"
              }
             }
            ],
            "label": "2018",
            "method": "animate"
           },
           {
            "args": [
             [
              "2019"
             ],
             {
              "frame": {
               "duration": 0,
               "redraw": false
              },
              "fromcurrent": true,
              "mode": "immediate",
              "transition": {
               "duration": 0,
               "easing": "linear"
              }
             }
            ],
            "label": "2019",
            "method": "animate"
           },
           {
            "args": [
             [
              "2020"
             ],
             {
              "frame": {
               "duration": 0,
               "redraw": false
              },
              "fromcurrent": true,
              "mode": "immediate",
              "transition": {
               "duration": 0,
               "easing": "linear"
              }
             }
            ],
            "label": "2020",
            "method": "animate"
           },
           {
            "args": [
             [
              "2021"
             ],
             {
              "frame": {
               "duration": 0,
               "redraw": false
              },
              "fromcurrent": true,
              "mode": "immediate",
              "transition": {
               "duration": 0,
               "easing": "linear"
              }
             }
            ],
            "label": "2021",
            "method": "animate"
           },
           {
            "args": [
             [
              "2022"
             ],
             {
              "frame": {
               "duration": 0,
               "redraw": false
              },
              "fromcurrent": true,
              "mode": "immediate",
              "transition": {
               "duration": 0,
               "easing": "linear"
              }
             }
            ],
            "label": "2022",
            "method": "animate"
           },
           {
            "args": [
             [
              "2023"
             ],
             {
              "frame": {
               "duration": 0,
               "redraw": false
              },
              "fromcurrent": true,
              "mode": "immediate",
              "transition": {
               "duration": 0,
               "easing": "linear"
              }
             }
            ],
            "label": "2023",
            "method": "animate"
           }
          ],
          "x": 0.1,
          "xanchor": "left",
          "y": 0,
          "yanchor": "top"
         }
        ],
        "template": {
         "data": {
          "bar": [
           {
            "error_x": {
             "color": "#2a3f5f"
            },
            "error_y": {
             "color": "#2a3f5f"
            },
            "marker": {
             "line": {
              "color": "#E5ECF6",
              "width": 0.5
             },
             "pattern": {
              "fillmode": "overlay",
              "size": 10,
              "solidity": 0.2
             }
            },
            "type": "bar"
           }
          ],
          "barpolar": [
           {
            "marker": {
             "line": {
              "color": "#E5ECF6",
              "width": 0.5
             },
             "pattern": {
              "fillmode": "overlay",
              "size": 10,
              "solidity": 0.2
             }
            },
            "type": "barpolar"
           }
          ],
          "carpet": [
           {
            "aaxis": {
             "endlinecolor": "#2a3f5f",
             "gridcolor": "white",
             "linecolor": "white",
             "minorgridcolor": "white",
             "startlinecolor": "#2a3f5f"
            },
            "baxis": {
             "endlinecolor": "#2a3f5f",
             "gridcolor": "white",
             "linecolor": "white",
             "minorgridcolor": "white",
             "startlinecolor": "#2a3f5f"
            },
            "type": "carpet"
           }
          ],
          "choropleth": [
           {
            "colorbar": {
             "outlinewidth": 0,
             "ticks": ""
            },
            "type": "choropleth"
           }
          ],
          "contour": [
           {
            "colorbar": {
             "outlinewidth": 0,
             "ticks": ""
            },
            "colorscale": [
             [
              0,
              "#0d0887"
             ],
             [
              0.1111111111111111,
              "#46039f"
             ],
             [
              0.2222222222222222,
              "#7201a8"
             ],
             [
              0.3333333333333333,
              "#9c179e"
             ],
             [
              0.4444444444444444,
              "#bd3786"
             ],
             [
              0.5555555555555556,
              "#d8576b"
             ],
             [
              0.6666666666666666,
              "#ed7953"
             ],
             [
              0.7777777777777778,
              "#fb9f3a"
             ],
             [
              0.8888888888888888,
              "#fdca26"
             ],
             [
              1,
              "#f0f921"
             ]
            ],
            "type": "contour"
           }
          ],
          "contourcarpet": [
           {
            "colorbar": {
             "outlinewidth": 0,
             "ticks": ""
            },
            "type": "contourcarpet"
           }
          ],
          "heatmap": [
           {
            "colorbar": {
             "outlinewidth": 0,
             "ticks": ""
            },
            "colorscale": [
             [
              0,
              "#0d0887"
             ],
             [
              0.1111111111111111,
              "#46039f"
             ],
             [
              0.2222222222222222,
              "#7201a8"
             ],
             [
              0.3333333333333333,
              "#9c179e"
             ],
             [
              0.4444444444444444,
              "#bd3786"
             ],
             [
              0.5555555555555556,
              "#d8576b"
             ],
             [
              0.6666666666666666,
              "#ed7953"
             ],
             [
              0.7777777777777778,
              "#fb9f3a"
             ],
             [
              0.8888888888888888,
              "#fdca26"
             ],
             [
              1,
              "#f0f921"
             ]
            ],
            "type": "heatmap"
           }
          ],
          "histogram": [
           {
            "marker": {
             "pattern": {
              "fillmode": "overlay",
              "size": 10,
              "solidity": 0.2
             }
            },
            "type": "histogram"
           }
          ],
          "histogram2d": [
           {
            "colorbar": {
             "outlinewidth": 0,
             "ticks": ""
            },
            "colorscale": [
             [
              0,
              "#0d0887"
             ],
             [
              0.1111111111111111,
              "#46039f"
             ],
             [
              0.2222222222222222,
              "#7201a8"
             ],
             [
              0.3333333333333333,
              "#9c179e"
             ],
             [
              0.4444444444444444,
              "#bd3786"
             ],
             [
              0.5555555555555556,
              "#d8576b"
             ],
             [
              0.6666666666666666,
              "#ed7953"
             ],
             [
              0.7777777777777778,
              "#fb9f3a"
             ],
             [
              0.8888888888888888,
              "#fdca26"
             ],
             [
              1,
              "#f0f921"
             ]
            ],
            "type": "histogram2d"
           }
          ],
          "histogram2dcontour": [
           {
            "colorbar": {
             "outlinewidth": 0,
             "ticks": ""
            },
            "colorscale": [
             [
              0,
              "#0d0887"
             ],
             [
              0.1111111111111111,
              "#46039f"
             ],
             [
              0.2222222222222222,
              "#7201a8"
             ],
             [
              0.3333333333333333,
              "#9c179e"
             ],
             [
              0.4444444444444444,
              "#bd3786"
             ],
             [
              0.5555555555555556,
              "#d8576b"
             ],
             [
              0.6666666666666666,
              "#ed7953"
             ],
             [
              0.7777777777777778,
              "#fb9f3a"
             ],
             [
              0.8888888888888888,
              "#fdca26"
             ],
             [
              1,
              "#f0f921"
             ]
            ],
            "type": "histogram2dcontour"
           }
          ],
          "mesh3d": [
           {
            "colorbar": {
             "outlinewidth": 0,
             "ticks": ""
            },
            "type": "mesh3d"
           }
          ],
          "parcoords": [
           {
            "line": {
             "colorbar": {
              "outlinewidth": 0,
              "ticks": ""
             }
            },
            "type": "parcoords"
           }
          ],
          "pie": [
           {
            "automargin": true,
            "type": "pie"
           }
          ],
          "scatter": [
           {
            "fillpattern": {
             "fillmode": "overlay",
             "size": 10,
             "solidity": 0.2
            },
            "type": "scatter"
           }
          ],
          "scatter3d": [
           {
            "line": {
             "colorbar": {
              "outlinewidth": 0,
              "ticks": ""
             }
            },
            "marker": {
             "colorbar": {
              "outlinewidth": 0,
              "ticks": ""
             }
            },
            "type": "scatter3d"
           }
          ],
          "scattercarpet": [
           {
            "marker": {
             "colorbar": {
              "outlinewidth": 0,
              "ticks": ""
             }
            },
            "type": "scattercarpet"
           }
          ],
          "scattergeo": [
           {
            "marker": {
             "colorbar": {
              "outlinewidth": 0,
              "ticks": ""
             }
            },
            "type": "scattergeo"
           }
          ],
          "scattergl": [
           {
            "marker": {
             "colorbar": {
              "outlinewidth": 0,
              "ticks": ""
             }
            },
            "type": "scattergl"
           }
          ],
          "scattermap": [
           {
            "marker": {
             "colorbar": {
              "outlinewidth": 0,
              "ticks": ""
             }
            },
            "type": "scattermap"
           }
          ],
          "scattermapbox": [
           {
            "marker": {
             "colorbar": {
              "outlinewidth": 0,
              "ticks": ""
             }
            },
            "type": "scattermapbox"
           }
          ],
          "scatterpolar": [
           {
            "marker": {
             "colorbar": {
              "outlinewidth": 0,
              "ticks": ""
             }
            },
            "type": "scatterpolar"
           }
          ],
          "scatterpolargl": [
           {
            "marker": {
             "colorbar": {
              "outlinewidth": 0,
              "ticks": ""
             }
            },
            "type": "scatterpolargl"
           }
          ],
          "scatterternary": [
           {
            "marker": {
             "colorbar": {
              "outlinewidth": 0,
              "ticks": ""
             }
            },
            "type": "scatterternary"
           }
          ],
          "surface": [
           {
            "colorbar": {
             "outlinewidth": 0,
             "ticks": ""
            },
            "colorscale": [
             [
              0,
              "#0d0887"
             ],
             [
              0.1111111111111111,
              "#46039f"
             ],
             [
              0.2222222222222222,
              "#7201a8"
             ],
             [
              0.3333333333333333,
              "#9c179e"
             ],
             [
              0.4444444444444444,
              "#bd3786"
             ],
             [
              0.5555555555555556,
              "#d8576b"
             ],
             [
              0.6666666666666666,
              "#ed7953"
             ],
             [
              0.7777777777777778,
              "#fb9f3a"
             ],
             [
              0.8888888888888888,
              "#fdca26"
             ],
             [
              1,
              "#f0f921"
             ]
            ],
            "type": "surface"
           }
          ],
          "table": [
           {
            "cells": {
             "fill": {
              "color": "#EBF0F8"
             },
             "line": {
              "color": "white"
             }
            },
            "header": {
             "fill": {
              "color": "#C8D4E3"
             },
             "line": {
              "color": "white"
             }
            },
            "type": "table"
           }
          ]
         },
         "layout": {
          "annotationdefaults": {
           "arrowcolor": "#2a3f5f",
           "arrowhead": 0,
           "arrowwidth": 1
          },
          "autotypenumbers": "strict",
          "coloraxis": {
           "colorbar": {
            "outlinewidth": 0,
            "ticks": ""
           }
          },
          "colorscale": {
           "diverging": [
            [
             0,
             "#8e0152"
            ],
            [
             0.1,
             "#c51b7d"
            ],
            [
             0.2,
             "#de77ae"
            ],
            [
             0.3,
             "#f1b6da"
            ],
            [
             0.4,
             "#fde0ef"
            ],
            [
             0.5,
             "#f7f7f7"
            ],
            [
             0.6,
             "#e6f5d0"
            ],
            [
             0.7,
             "#b8e186"
            ],
            [
             0.8,
             "#7fbc41"
            ],
            [
             0.9,
             "#4d9221"
            ],
            [
             1,
             "#276419"
            ]
           ],
           "sequential": [
            [
             0,
             "#0d0887"
            ],
            [
             0.1111111111111111,
             "#46039f"
            ],
            [
             0.2222222222222222,
             "#7201a8"
            ],
            [
             0.3333333333333333,
             "#9c179e"
            ],
            [
             0.4444444444444444,
             "#bd3786"
            ],
            [
             0.5555555555555556,
             "#d8576b"
            ],
            [
             0.6666666666666666,
             "#ed7953"
            ],
            [
             0.7777777777777778,
             "#fb9f3a"
            ],
            [
             0.8888888888888888,
             "#fdca26"
            ],
            [
             1,
             "#f0f921"
            ]
           ],
           "sequentialminus": [
            [
             0,
             "#0d0887"
            ],
            [
             0.1111111111111111,
             "#46039f"
            ],
            [
             0.2222222222222222,
             "#7201a8"
            ],
            [
             0.3333333333333333,
             "#9c179e"
            ],
            [
             0.4444444444444444,
             "#bd3786"
            ],
            [
             0.5555555555555556,
             "#d8576b"
            ],
            [
             0.6666666666666666,
             "#ed7953"
            ],
            [
             0.7777777777777778,
             "#fb9f3a"
            ],
            [
             0.8888888888888888,
             "#fdca26"
            ],
            [
             1,
             "#f0f921"
            ]
           ]
          },
          "colorway": [
           "#636efa",
           "#EF553B",
           "#00cc96",
           "#ab63fa",
           "#FFA15A",
           "#19d3f3",
           "#FF6692",
           "#B6E880",
           "#FF97FF",
           "#FECB52"
          ],
          "font": {
           "color": "#2a3f5f"
          },
          "geo": {
           "bgcolor": "white",
           "lakecolor": "white",
           "landcolor": "#E5ECF6",
           "showlakes": true,
           "showland": true,
           "subunitcolor": "white"
          },
          "hoverlabel": {
           "align": "left"
          },
          "hovermode": "closest",
          "mapbox": {
           "style": "light"
          },
          "paper_bgcolor": "white",
          "plot_bgcolor": "#E5ECF6",
          "polar": {
           "angularaxis": {
            "gridcolor": "white",
            "linecolor": "white",
            "ticks": ""
           },
           "bgcolor": "#E5ECF6",
           "radialaxis": {
            "gridcolor": "white",
            "linecolor": "white",
            "ticks": ""
           }
          },
          "scene": {
           "xaxis": {
            "backgroundcolor": "#E5ECF6",
            "gridcolor": "white",
            "gridwidth": 2,
            "linecolor": "white",
            "showbackground": true,
            "ticks": "",
            "zerolinecolor": "white"
           },
           "yaxis": {
            "backgroundcolor": "#E5ECF6",
            "gridcolor": "white",
            "gridwidth": 2,
            "linecolor": "white",
            "showbackground": true,
            "ticks": "",
            "zerolinecolor": "white"
           },
           "zaxis": {
            "backgroundcolor": "#E5ECF6",
            "gridcolor": "white",
            "gridwidth": 2,
            "linecolor": "white",
            "showbackground": true,
            "ticks": "",
            "zerolinecolor": "white"
           }
          },
          "shapedefaults": {
           "line": {
            "color": "#2a3f5f"
           }
          },
          "ternary": {
           "aaxis": {
            "gridcolor": "white",
            "linecolor": "white",
            "ticks": ""
           },
           "baxis": {
            "gridcolor": "white",
            "linecolor": "white",
            "ticks": ""
           },
           "bgcolor": "#E5ECF6",
           "caxis": {
            "gridcolor": "white",
            "linecolor": "white",
            "ticks": ""
           }
          },
          "title": {
           "x": 0.05
          },
          "xaxis": {
           "automargin": true,
           "gridcolor": "white",
           "linecolor": "white",
           "ticks": "",
           "title": {
            "standoff": 15
           },
           "zerolinecolor": "white",
           "zerolinewidth": 2
          },
          "yaxis": {
           "automargin": true,
           "gridcolor": "white",
           "linecolor": "white",
           "ticks": "",
           "title": {
            "standoff": 15
           },
           "zerolinecolor": "white",
           "zerolinewidth": 2
          }
         }
        },
        "title": {
         "text": "Animated Economic Output by Group"
        },
        "updatemenus": [
         {
          "buttons": [
           {
            "args": [
             null,
             {
              "frame": {
               "duration": 500,
               "redraw": false
              },
              "fromcurrent": true,
              "mode": "immediate",
              "transition": {
               "duration": 500,
               "easing": "linear"
              }
             }
            ],
            "label": "&#9654;",
            "method": "animate"
           },
           {
            "args": [
             [
              null
             ],
             {
              "frame": {
               "duration": 0,
               "redraw": false
              },
              "fromcurrent": true,
              "mode": "immediate",
              "transition": {
               "duration": 0,
               "easing": "linear"
              }
             }
            ],
            "label": "&#9724;",
            "method": "animate"
           }
          ],
          "direction": "left",
          "pad": {
           "r": 10,
           "t": 70
          },
          "showactive": false,
          "type": "buttons",
          "x": 0.1,
          "xanchor": "right",
          "y": 0,
          "yanchor": "top"
         }
        ],
        "xaxis": {
         "anchor": "y",
         "domain": [
          0,
          1
         ],
         "title": {
          "text": "x"
         },
         "visible": false
        },
        "yaxis": {
         "anchor": "x",
         "domain": [
          0,
          1
         ],
         "title": {
          "text": "y"
         },
         "visible": false
        }
       }
      }
     },
     "metadata": {},
     "output_type": "display_data"
    }
   ],
   "source": [
    "import plotly.express as px\n",
    "\n",
    "fig = px.scatter(\n",
    "    df_bubbles,\n",
    "    x=\"x\",\n",
    "    y=\"y\",\n",
    "    size=\"Value\",\n",
    "    color=\"Group\",\n",
    "    animation_frame=\"Year\",\n",
    "    hover_name=\"Group\",\n",
    "    size_max=100,\n",
    "    title=\"Animated Economic Output by Group\"\n",
    ")\n",
    "\n",
    "fig.update_layout(\n",
    "    xaxis=dict(visible=False),\n",
    "    yaxis=dict(visible=False),\n",
    "    margin=dict(t=40, l=0, r=0, b=0),\n",
    "    height=650\n",
    ")\n",
    "\n",
    "fig.show()\n"
   ]
  },
  {
   "cell_type": "code",
   "execution_count": 5,
   "metadata": {},
   "outputs": [
    {
     "data": {
      "application/vnd.plotly.v1+json": {
       "config": {
        "plotlyServerURL": "https://plot.ly"
       },
       "data": [
        {
         "hovertemplate": "Group=%{y}<br>Year=1997<br>Value=%{x}<extra></extra>",
         "legendgroup": "Health, Education & Leisure",
         "marker": {
          "color": "#636efa",
          "pattern": {
           "shape": ""
          }
         },
         "name": "Health, Education & Leisure",
         "orientation": "h",
         "showlegend": true,
         "textposition": "auto",
         "type": "bar",
         "x": {
          "bdata": "N/UbAA==",
          "dtype": "i4"
         },
         "xaxis": "x",
         "y": [
          "Health, Education & Leisure"
         ],
         "yaxis": "y"
        },
        {
         "hovertemplate": "Group=%{y}<br>Year=1997<br>Value=%{x}<extra></extra>",
         "legendgroup": "Information & Finance",
         "marker": {
          "color": "#EF553B",
          "pattern": {
           "shape": ""
          }
         },
         "name": "Information & Finance",
         "orientation": "h",
         "showlegend": true,
         "textposition": "auto",
         "type": "bar",
         "x": {
          "bdata": "APMvAA==",
          "dtype": "i4"
         },
         "xaxis": "x",
         "y": [
          "Information & Finance"
         ],
         "yaxis": "y"
        },
        {
         "hovertemplate": "Group=%{y}<br>Year=1997<br>Value=%{x}<extra></extra>",
         "legendgroup": "Manufacturing",
         "marker": {
          "color": "#00cc96",
          "pattern": {
           "shape": ""
          }
         },
         "name": "Manufacturing",
         "orientation": "h",
         "showlegend": true,
         "textposition": "auto",
         "type": "bar",
         "x": {
          "bdata": "r3k7AA==",
          "dtype": "i4"
         },
         "xaxis": "x",
         "y": [
          "Manufacturing"
         ],
         "yaxis": "y"
        },
        {
         "hovertemplate": "Group=%{y}<br>Year=1997<br>Value=%{x}<extra></extra>",
         "legendgroup": "Primary Industries",
         "marker": {
          "color": "#ab63fa",
          "pattern": {
           "shape": ""
          }
         },
         "name": "Primary Industries",
         "orientation": "h",
         "showlegend": true,
         "textposition": "auto",
         "type": "bar",
         "x": {
          "bdata": "paMGAA==",
          "dtype": "i4"
         },
         "xaxis": "x",
         "y": [
          "Primary Industries"
         ],
         "yaxis": "y"
        },
        {
         "hovertemplate": "Group=%{y}<br>Year=1997<br>Value=%{x}<extra></extra>",
         "legendgroup": "Professional & Public Services",
         "marker": {
          "color": "#FFA15A",
          "pattern": {
           "shape": ""
          }
         },
         "name": "Professional & Public Services",
         "orientation": "h",
         "showlegend": true,
         "textposition": "auto",
         "type": "bar",
         "x": {
          "bdata": "uww1AA==",
          "dtype": "i4"
         },
         "xaxis": "x",
         "y": [
          "Professional & Public Services"
         ],
         "yaxis": "y"
        },
        {
         "hovertemplate": "Group=%{y}<br>Year=1997<br>Value=%{x}<extra></extra>",
         "legendgroup": "Trade & Transportation",
         "marker": {
          "color": "#19d3f3",
          "pattern": {
           "shape": ""
          }
         },
         "name": "Trade & Transportation",
         "orientation": "h",
         "showlegend": true,
         "textposition": "auto",
         "type": "bar",
         "x": {
          "bdata": "ZxggAA==",
          "dtype": "i4"
         },
         "xaxis": "x",
         "y": [
          "Trade & Transportation"
         ],
         "yaxis": "y"
        },
        {
         "hovertemplate": "Group=%{y}<br>Year=1997<br>Value=%{x}<extra></extra>",
         "legendgroup": "Utilities & Construction",
         "marker": {
          "color": "#FF6692",
          "pattern": {
           "shape": ""
          }
         },
         "name": "Utilities & Construction",
         "orientation": "h",
         "showlegend": true,
         "textposition": "auto",
         "type": "bar",
         "x": {
          "bdata": "ktEOAA==",
          "dtype": "i4"
         },
         "xaxis": "x",
         "y": [
          "Utilities & Construction"
         ],
         "yaxis": "y"
        }
       ],
       "frames": [
        {
         "data": [
          {
           "hovertemplate": "Group=%{y}<br>Year=1997<br>Value=%{x}<extra></extra>",
           "legendgroup": "Health, Education & Leisure",
           "marker": {
            "color": "#636efa",
            "pattern": {
             "shape": ""
            }
           },
           "name": "Health, Education & Leisure",
           "orientation": "h",
           "showlegend": true,
           "textposition": "auto",
           "type": "bar",
           "x": {
            "bdata": "N/UbAA==",
            "dtype": "i4"
           },
           "xaxis": "x",
           "y": [
            "Health, Education & Leisure"
           ],
           "yaxis": "y"
          },
          {
           "hovertemplate": "Group=%{y}<br>Year=1997<br>Value=%{x}<extra></extra>",
           "legendgroup": "Information & Finance",
           "marker": {
            "color": "#EF553B",
            "pattern": {
             "shape": ""
            }
           },
           "name": "Information & Finance",
           "orientation": "h",
           "showlegend": true,
           "textposition": "auto",
           "type": "bar",
           "x": {
            "bdata": "APMvAA==",
            "dtype": "i4"
           },
           "xaxis": "x",
           "y": [
            "Information & Finance"
           ],
           "yaxis": "y"
          },
          {
           "hovertemplate": "Group=%{y}<br>Year=1997<br>Value=%{x}<extra></extra>",
           "legendgroup": "Manufacturing",
           "marker": {
            "color": "#00cc96",
            "pattern": {
             "shape": ""
            }
           },
           "name": "Manufacturing",
           "orientation": "h",
           "showlegend": true,
           "textposition": "auto",
           "type": "bar",
           "x": {
            "bdata": "r3k7AA==",
            "dtype": "i4"
           },
           "xaxis": "x",
           "y": [
            "Manufacturing"
           ],
           "yaxis": "y"
          },
          {
           "hovertemplate": "Group=%{y}<br>Year=1997<br>Value=%{x}<extra></extra>",
           "legendgroup": "Primary Industries",
           "marker": {
            "color": "#ab63fa",
            "pattern": {
             "shape": ""
            }
           },
           "name": "Primary Industries",
           "orientation": "h",
           "showlegend": true,
           "textposition": "auto",
           "type": "bar",
           "x": {
            "bdata": "paMGAA==",
            "dtype": "i4"
           },
           "xaxis": "x",
           "y": [
            "Primary Industries"
           ],
           "yaxis": "y"
          },
          {
           "hovertemplate": "Group=%{y}<br>Year=1997<br>Value=%{x}<extra></extra>",
           "legendgroup": "Professional & Public Services",
           "marker": {
            "color": "#FFA15A",
            "pattern": {
             "shape": ""
            }
           },
           "name": "Professional & Public Services",
           "orientation": "h",
           "showlegend": true,
           "textposition": "auto",
           "type": "bar",
           "x": {
            "bdata": "uww1AA==",
            "dtype": "i4"
           },
           "xaxis": "x",
           "y": [
            "Professional & Public Services"
           ],
           "yaxis": "y"
          },
          {
           "hovertemplate": "Group=%{y}<br>Year=1997<br>Value=%{x}<extra></extra>",
           "legendgroup": "Trade & Transportation",
           "marker": {
            "color": "#19d3f3",
            "pattern": {
             "shape": ""
            }
           },
           "name": "Trade & Transportation",
           "orientation": "h",
           "showlegend": true,
           "textposition": "auto",
           "type": "bar",
           "x": {
            "bdata": "ZxggAA==",
            "dtype": "i4"
           },
           "xaxis": "x",
           "y": [
            "Trade & Transportation"
           ],
           "yaxis": "y"
          },
          {
           "hovertemplate": "Group=%{y}<br>Year=1997<br>Value=%{x}<extra></extra>",
           "legendgroup": "Utilities & Construction",
           "marker": {
            "color": "#FF6692",
            "pattern": {
             "shape": ""
            }
           },
           "name": "Utilities & Construction",
           "orientation": "h",
           "showlegend": true,
           "textposition": "auto",
           "type": "bar",
           "x": {
            "bdata": "ktEOAA==",
            "dtype": "i4"
           },
           "xaxis": "x",
           "y": [
            "Utilities & Construction"
           ],
           "yaxis": "y"
          }
         ],
         "name": "1997"
        },
        {
         "data": [
          {
           "hovertemplate": "Group=%{y}<br>Year=1998<br>Value=%{x}<extra></extra>",
           "legendgroup": "Health, Education & Leisure",
           "marker": {
            "color": "#636efa",
            "pattern": {
             "shape": ""
            }
           },
           "name": "Health, Education & Leisure",
           "orientation": "h",
           "showlegend": true,
           "textposition": "auto",
           "type": "bar",
           "x": {
            "bdata": "EtEdAA==",
            "dtype": "i4"
           },
           "xaxis": "x",
           "y": [
            "Health, Education & Leisure"
           ],
           "yaxis": "y"
          },
          {
           "hovertemplate": "Group=%{y}<br>Year=1998<br>Value=%{x}<extra></extra>",
           "legendgroup": "Information & Finance",
           "marker": {
            "color": "#EF553B",
            "pattern": {
             "shape": ""
            }
           },
           "name": "Information & Finance",
           "orientation": "h",
           "showlegend": true,
           "textposition": "auto",
           "type": "bar",
           "x": {
            "bdata": "yis0AA==",
            "dtype": "i4"
           },
           "xaxis": "x",
           "y": [
            "Information & Finance"
           ],
           "yaxis": "y"
          },
          {
           "hovertemplate": "Group=%{y}<br>Year=1998<br>Value=%{x}<extra></extra>",
           "legendgroup": "Manufacturing",
           "marker": {
            "color": "#00cc96",
            "pattern": {
             "shape": ""
            }
           },
           "name": "Manufacturing",
           "orientation": "h",
           "showlegend": true,
           "textposition": "auto",
           "type": "bar",
           "x": {
            "bdata": "pnk8AA==",
            "dtype": "i4"
           },
           "xaxis": "x",
           "y": [
            "Manufacturing"
           ],
           "yaxis": "y"
          },
          {
           "hovertemplate": "Group=%{y}<br>Year=1998<br>Value=%{x}<extra></extra>",
           "legendgroup": "Primary Industries",
           "marker": {
            "color": "#ab63fa",
            "pattern": {
             "shape": ""
            }
           },
           "name": "Primary Industries",
           "orientation": "h",
           "showlegend": true,
           "textposition": "auto",
           "type": "bar",
           "x": {
            "bdata": "1CAGAA==",
            "dtype": "i4"
           },
           "xaxis": "x",
           "y": [
            "Primary Industries"
           ],
           "yaxis": "y"
          },
          {
           "hovertemplate": "Group=%{y}<br>Year=1998<br>Value=%{x}<extra></extra>",
           "legendgroup": "Professional & Public Services",
           "marker": {
            "color": "#FFA15A",
            "pattern": {
             "shape": ""
            }
           },
           "name": "Professional & Public Services",
           "orientation": "h",
           "showlegend": true,
           "textposition": "auto",
           "type": "bar",
           "x": {
            "bdata": "HIk4AA==",
            "dtype": "i4"
           },
           "xaxis": "x",
           "y": [
            "Professional & Public Services"
           ],
           "yaxis": "y"
          },
          {
           "hovertemplate": "Group=%{y}<br>Year=1998<br>Value=%{x}<extra></extra>",
           "legendgroup": "Trade & Transportation",
           "marker": {
            "color": "#19d3f3",
            "pattern": {
             "shape": ""
            }
           },
           "name": "Trade & Transportation",
           "orientation": "h",
           "showlegend": true,
           "textposition": "auto",
           "type": "bar",
           "x": {
            "bdata": "BG4hAA==",
            "dtype": "i4"
           },
           "xaxis": "x",
           "y": [
            "Trade & Transportation"
           ],
           "yaxis": "y"
          },
          {
           "hovertemplate": "Group=%{y}<br>Year=1998<br>Value=%{x}<extra></extra>",
           "legendgroup": "Utilities & Construction",
           "marker": {
            "color": "#FF6692",
            "pattern": {
             "shape": ""
            }
           },
           "name": "Utilities & Construction",
           "orientation": "h",
           "showlegend": true,
           "textposition": "auto",
           "type": "bar",
           "x": {
            "bdata": "xPsPAA==",
            "dtype": "i4"
           },
           "xaxis": "x",
           "y": [
            "Utilities & Construction"
           ],
           "yaxis": "y"
          }
         ],
         "name": "1998"
        },
        {
         "data": [
          {
           "hovertemplate": "Group=%{y}<br>Year=1999<br>Value=%{x}<extra></extra>",
           "legendgroup": "Health, Education & Leisure",
           "marker": {
            "color": "#636efa",
            "pattern": {
             "shape": ""
            }
           },
           "name": "Health, Education & Leisure",
           "orientation": "h",
           "showlegend": true,
           "textposition": "auto",
           "type": "bar",
           "x": {
            "bdata": "lWsfAA==",
            "dtype": "i4"
           },
           "xaxis": "x",
           "y": [
            "Health, Education & Leisure"
           ],
           "yaxis": "y"
          },
          {
           "hovertemplate": "Group=%{y}<br>Year=1999<br>Value=%{x}<extra></extra>",
           "legendgroup": "Information & Finance",
           "marker": {
            "color": "#EF553B",
            "pattern": {
             "shape": ""
            }
           },
           "name": "Information & Finance",
           "orientation": "h",
           "showlegend": true,
           "textposition": "auto",
           "type": "bar",
           "x": {
            "bdata": "2C05AA==",
            "dtype": "i4"
           },
           "xaxis": "x",
           "y": [
            "Information & Finance"
           ],
           "yaxis": "y"
          },
          {
           "hovertemplate": "Group=%{y}<br>Year=1999<br>Value=%{x}<extra></extra>",
           "legendgroup": "Manufacturing",
           "marker": {
            "color": "#00cc96",
            "pattern": {
             "shape": ""
            }
           },
           "name": "Manufacturing",
           "orientation": "h",
           "showlegend": true,
           "textposition": "auto",
           "type": "bar",
           "x": {
            "bdata": "F0o+AA==",
            "dtype": "i4"
           },
           "xaxis": "x",
           "y": [
            "Manufacturing"
           ],
           "yaxis": "y"
          },
          {
           "hovertemplate": "Group=%{y}<br>Year=1999<br>Value=%{x}<extra></extra>",
           "legendgroup": "Primary Industries",
           "marker": {
            "color": "#ab63fa",
            "pattern": {
             "shape": ""
            }
           },
           "name": "Primary Industries",
           "orientation": "h",
           "showlegend": true,
           "textposition": "auto",
           "type": "bar",
           "x": {
            "bdata": "DSAGAA==",
            "dtype": "i4"
           },
           "xaxis": "x",
           "y": [
            "Primary Industries"
           ],
           "yaxis": "y"
          },
          {
           "hovertemplate": "Group=%{y}<br>Year=1999<br>Value=%{x}<extra></extra>",
           "legendgroup": "Professional & Public Services",
           "marker": {
            "color": "#FFA15A",
            "pattern": {
             "shape": ""
            }
           },
           "name": "Professional & Public Services",
           "orientation": "h",
           "showlegend": true,
           "textposition": "auto",
           "type": "bar",
           "x": {
            "bdata": "6JM8AA==",
            "dtype": "i4"
           },
           "xaxis": "x",
           "y": [
            "Professional & Public Services"
           ],
           "yaxis": "y"
          },
          {
           "hovertemplate": "Group=%{y}<br>Year=1999<br>Value=%{x}<extra></extra>",
           "legendgroup": "Trade & Transportation",
           "marker": {
            "color": "#19d3f3",
            "pattern": {
             "shape": ""
            }
           },
           "name": "Trade & Transportation",
           "orientation": "h",
           "showlegend": true,
           "textposition": "auto",
           "type": "bar",
           "x": {
            "bdata": "2q0jAA==",
            "dtype": "i4"
           },
           "xaxis": "x",
           "y": [
            "Trade & Transportation"
           ],
           "yaxis": "y"
          },
          {
           "hovertemplate": "Group=%{y}<br>Year=1999<br>Value=%{x}<extra></extra>",
           "legendgroup": "Utilities & Construction",
           "marker": {
            "color": "#FF6692",
            "pattern": {
             "shape": ""
            }
           },
           "name": "Utilities & Construction",
           "orientation": "h",
           "showlegend": true,
           "textposition": "auto",
           "type": "bar",
           "x": {
            "bdata": "UaURAA==",
            "dtype": "i4"
           },
           "xaxis": "x",
           "y": [
            "Utilities & Construction"
           ],
           "yaxis": "y"
          }
         ],
         "name": "1999"
        },
        {
         "data": [
          {
           "hovertemplate": "Group=%{y}<br>Year=2000<br>Value=%{x}<extra></extra>",
           "legendgroup": "Health, Education & Leisure",
           "marker": {
            "color": "#636efa",
            "pattern": {
             "shape": ""
            }
           },
           "name": "Health, Education & Leisure",
           "orientation": "h",
           "showlegend": true,
           "textposition": "auto",
           "type": "bar",
           "x": {
            "bdata": "+6ghAA==",
            "dtype": "i4"
           },
           "xaxis": "x",
           "y": [
            "Health, Education & Leisure"
           ],
           "yaxis": "y"
          },
          {
           "hovertemplate": "Group=%{y}<br>Year=2000<br>Value=%{x}<extra></extra>",
           "legendgroup": "Information & Finance",
           "marker": {
            "color": "#EF553B",
            "pattern": {
             "shape": ""
            }
           },
           "name": "Information & Finance",
           "orientation": "h",
           "showlegend": true,
           "textposition": "auto",
           "type": "bar",
           "x": {
            "bdata": "6iQ/AA==",
            "dtype": "i4"
           },
           "xaxis": "x",
           "y": [
            "Information & Finance"
           ],
           "yaxis": "y"
          },
          {
           "hovertemplate": "Group=%{y}<br>Year=2000<br>Value=%{x}<extra></extra>",
           "legendgroup": "Manufacturing",
           "marker": {
            "color": "#00cc96",
            "pattern": {
             "shape": ""
            }
           },
           "name": "Manufacturing",
           "orientation": "h",
           "showlegend": true,
           "textposition": "auto",
           "type": "bar",
           "x": {
            "bdata": "j3hBAA==",
            "dtype": "i4"
           },
           "xaxis": "x",
           "y": [
            "Manufacturing"
           ],
           "yaxis": "y"
          },
          {
           "hovertemplate": "Group=%{y}<br>Year=2000<br>Value=%{x}<extra></extra>",
           "legendgroup": "Primary Industries",
           "marker": {
            "color": "#ab63fa",
            "pattern": {
             "shape": ""
            }
           },
           "name": "Primary Industries",
           "orientation": "h",
           "showlegend": true,
           "textposition": "auto",
           "type": "bar",
           "x": {
            "bdata": "Nw0HAA==",
            "dtype": "i4"
           },
           "xaxis": "x",
           "y": [
            "Primary Industries"
           ],
           "yaxis": "y"
          },
          {
           "hovertemplate": "Group=%{y}<br>Year=2000<br>Value=%{x}<extra></extra>",
           "legendgroup": "Professional & Public Services",
           "marker": {
            "color": "#FFA15A",
            "pattern": {
             "shape": ""
            }
           },
           "name": "Professional & Public Services",
           "orientation": "h",
           "showlegend": true,
           "textposition": "auto",
           "type": "bar",
           "x": {
            "bdata": "9xNBAA==",
            "dtype": "i4"
           },
           "xaxis": "x",
           "y": [
            "Professional & Public Services"
           ],
           "yaxis": "y"
          },
          {
           "hovertemplate": "Group=%{y}<br>Year=2000<br>Value=%{x}<extra></extra>",
           "legendgroup": "Trade & Transportation",
           "marker": {
            "color": "#19d3f3",
            "pattern": {
             "shape": ""
            }
           },
           "name": "Trade & Transportation",
           "orientation": "h",
           "showlegend": true,
           "textposition": "auto",
           "type": "bar",
           "x": {
            "bdata": "sdklAA==",
            "dtype": "i4"
           },
           "xaxis": "x",
           "y": [
            "Trade & Transportation"
           ],
           "yaxis": "y"
          },
          {
           "hovertemplate": "Group=%{y}<br>Year=2000<br>Value=%{x}<extra></extra>",
           "legendgroup": "Utilities & Construction",
           "marker": {
            "color": "#FF6692",
            "pattern": {
             "shape": ""
            }
           },
           "name": "Utilities & Construction",
           "orientation": "h",
           "showlegend": true,
           "textposition": "auto",
           "type": "bar",
           "x": {
            "bdata": "saMTAA==",
            "dtype": "i4"
           },
           "xaxis": "x",
           "y": [
            "Utilities & Construction"
           ],
           "yaxis": "y"
          }
         ],
         "name": "2000"
        },
        {
         "data": [
          {
           "hovertemplate": "Group=%{y}<br>Year=2001<br>Value=%{x}<extra></extra>",
           "legendgroup": "Health, Education & Leisure",
           "marker": {
            "color": "#636efa",
            "pattern": {
             "shape": ""
            }
           },
           "name": "Health, Education & Leisure",
           "orientation": "h",
           "showlegend": true,
           "textposition": "auto",
           "type": "bar",
           "x": {
            "bdata": "I7YjAA==",
            "dtype": "i4"
           },
           "xaxis": "x",
           "y": [
            "Health, Education & Leisure"
           ],
           "yaxis": "y"
          },
          {
           "hovertemplate": "Group=%{y}<br>Year=2001<br>Value=%{x}<extra></extra>",
           "legendgroup": "Information & Finance",
           "marker": {
            "color": "#EF553B",
            "pattern": {
             "shape": ""
            }
           },
           "name": "Information & Finance",
           "orientation": "h",
           "showlegend": true,
           "textposition": "auto",
           "type": "bar",
           "x": {
            "bdata": "YOZAAA==",
            "dtype": "i4"
           },
           "xaxis": "x",
           "y": [
            "Information & Finance"
           ],
           "yaxis": "y"
          },
          {
           "hovertemplate": "Group=%{y}<br>Year=2001<br>Value=%{x}<extra></extra>",
           "legendgroup": "Manufacturing",
           "marker": {
            "color": "#00cc96",
            "pattern": {
             "shape": ""
            }
           },
           "name": "Manufacturing",
           "orientation": "h",
           "showlegend": true,
           "textposition": "auto",
           "type": "bar",
           "x": {
            "bdata": "Q8o9AA==",
            "dtype": "i4"
           },
           "xaxis": "x",
           "y": [
            "Manufacturing"
           ],
           "yaxis": "y"
          },
          {
           "hovertemplate": "Group=%{y}<br>Year=2001<br>Value=%{x}<extra></extra>",
           "legendgroup": "Primary Industries",
           "marker": {
            "color": "#ab63fa",
            "pattern": {
             "shape": ""
            }
           },
           "name": "Primary Industries",
           "orientation": "h",
           "showlegend": true,
           "textposition": "auto",
           "type": "bar",
           "x": {
            "bdata": "9koHAA==",
            "dtype": "i4"
           },
           "xaxis": "x",
           "y": [
            "Primary Industries"
           ],
           "yaxis": "y"
          },
          {
           "hovertemplate": "Group=%{y}<br>Year=2001<br>Value=%{x}<extra></extra>",
           "legendgroup": "Professional & Public Services",
           "marker": {
            "color": "#FFA15A",
            "pattern": {
             "shape": ""
            }
           },
           "name": "Professional & Public Services",
           "orientation": "h",
           "showlegend": true,
           "textposition": "auto",
           "type": "bar",
           "x": {
            "bdata": "YO1DAA==",
            "dtype": "i4"
           },
           "xaxis": "x",
           "y": [
            "Professional & Public Services"
           ],
           "yaxis": "y"
          },
          {
           "hovertemplate": "Group=%{y}<br>Year=2001<br>Value=%{x}<extra></extra>",
           "legendgroup": "Trade & Transportation",
           "marker": {
            "color": "#19d3f3",
            "pattern": {
             "shape": ""
            }
           },
           "name": "Trade & Transportation",
           "orientation": "h",
           "showlegend": true,
           "textposition": "auto",
           "type": "bar",
           "x": {
            "bdata": "XkwlAA==",
            "dtype": "i4"
           },
           "xaxis": "x",
           "y": [
            "Trade & Transportation"
           ],
           "yaxis": "y"
          },
          {
           "hovertemplate": "Group=%{y}<br>Year=2001<br>Value=%{x}<extra></extra>",
           "legendgroup": "Utilities & Construction",
           "marker": {
            "color": "#FF6692",
            "pattern": {
             "shape": ""
            }
           },
           "name": "Utilities & Construction",
           "orientation": "h",
           "showlegend": true,
           "textposition": "auto",
           "type": "bar",
           "x": {
            "bdata": "sWkVAA==",
            "dtype": "i4"
           },
           "xaxis": "x",
           "y": [
            "Utilities & Construction"
           ],
           "yaxis": "y"
          }
         ],
         "name": "2001"
        },
        {
         "data": [
          {
           "hovertemplate": "Group=%{y}<br>Year=2002<br>Value=%{x}<extra></extra>",
           "legendgroup": "Health, Education & Leisure",
           "marker": {
            "color": "#636efa",
            "pattern": {
             "shape": ""
            }
           },
           "name": "Health, Education & Leisure",
           "orientation": "h",
           "showlegend": true,
           "textposition": "auto",
           "type": "bar",
           "x": {
            "bdata": "Ju0lAA==",
            "dtype": "i4"
           },
           "xaxis": "x",
           "y": [
            "Health, Education & Leisure"
           ],
           "yaxis": "y"
          },
          {
           "hovertemplate": "Group=%{y}<br>Year=2002<br>Value=%{x}<extra></extra>",
           "legendgroup": "Information & Finance",
           "marker": {
            "color": "#EF553B",
            "pattern": {
             "shape": ""
            }
           },
           "name": "Information & Finance",
           "orientation": "h",
           "showlegend": true,
           "textposition": "auto",
           "type": "bar",
           "x": {
            "bdata": "AN9CAA==",
            "dtype": "i4"
           },
           "xaxis": "x",
           "y": [
            "Information & Finance"
           ],
           "yaxis": "y"
          },
          {
           "hovertemplate": "Group=%{y}<br>Year=2002<br>Value=%{x}<extra></extra>",
           "legendgroup": "Manufacturing",
           "marker": {
            "color": "#00cc96",
            "pattern": {
             "shape": ""
            }
           },
           "name": "Manufacturing",
           "orientation": "h",
           "showlegend": true,
           "textposition": "auto",
           "type": "bar",
           "x": {
            "bdata": "QZw8AA==",
            "dtype": "i4"
           },
           "xaxis": "x",
           "y": [
            "Manufacturing"
           ],
           "yaxis": "y"
          },
          {
           "hovertemplate": "Group=%{y}<br>Year=2002<br>Value=%{x}<extra></extra>",
           "legendgroup": "Primary Industries",
           "marker": {
            "color": "#ab63fa",
            "pattern": {
             "shape": ""
            }
           },
           "name": "Primary Industries",
           "orientation": "h",
           "showlegend": true,
           "textposition": "auto",
           "type": "bar",
           "x": {
            "bdata": "Ya4GAA==",
            "dtype": "i4"
           },
           "xaxis": "x",
           "y": [
            "Primary Industries"
           ],
           "yaxis": "y"
          },
          {
           "hovertemplate": "Group=%{y}<br>Year=2002<br>Value=%{x}<extra></extra>",
           "legendgroup": "Professional & Public Services",
           "marker": {
            "color": "#FFA15A",
            "pattern": {
             "shape": ""
            }
           },
           "name": "Professional & Public Services",
           "orientation": "h",
           "showlegend": true,
           "textposition": "auto",
           "type": "bar",
           "x": {
            "bdata": "Qh1HAA==",
            "dtype": "i4"
           },
           "xaxis": "x",
           "y": [
            "Professional & Public Services"
           ],
           "yaxis": "y"
          },
          {
           "hovertemplate": "Group=%{y}<br>Year=2002<br>Value=%{x}<extra></extra>",
           "legendgroup": "Trade & Transportation",
           "marker": {
            "color": "#19d3f3",
            "pattern": {
             "shape": ""
            }
           },
           "name": "Trade & Transportation",
           "orientation": "h",
           "showlegend": true,
           "textposition": "auto",
           "type": "bar",
           "x": {
            "bdata": "pqQmAA==",
            "dtype": "i4"
           },
           "xaxis": "x",
           "y": [
            "Trade & Transportation"
           ],
           "yaxis": "y"
          },
          {
           "hovertemplate": "Group=%{y}<br>Year=2002<br>Value=%{x}<extra></extra>",
           "legendgroup": "Utilities & Construction",
           "marker": {
            "color": "#FF6692",
            "pattern": {
             "shape": ""
            }
           },
           "name": "Utilities & Construction",
           "orientation": "h",
           "showlegend": true,
           "textposition": "auto",
           "type": "bar",
           "x": {
            "bdata": "y8ITAA==",
            "dtype": "i4"
           },
           "xaxis": "x",
           "y": [
            "Utilities & Construction"
           ],
           "yaxis": "y"
          }
         ],
         "name": "2002"
        },
        {
         "data": [
          {
           "hovertemplate": "Group=%{y}<br>Year=2003<br>Value=%{x}<extra></extra>",
           "legendgroup": "Health, Education & Leisure",
           "marker": {
            "color": "#636efa",
            "pattern": {
             "shape": ""
            }
           },
           "name": "Health, Education & Leisure",
           "orientation": "h",
           "showlegend": true,
           "textposition": "auto",
           "type": "bar",
           "x": {
            "bdata": "twQoAA==",
            "dtype": "i4"
           },
           "xaxis": "x",
           "y": [
            "Health, Education & Leisure"
           ],
           "yaxis": "y"
          },
          {
           "hovertemplate": "Group=%{y}<br>Year=2003<br>Value=%{x}<extra></extra>",
           "legendgroup": "Information & Finance",
           "marker": {
            "color": "#EF553B",
            "pattern": {
             "shape": ""
            }
           },
           "name": "Information & Finance",
           "orientation": "h",
           "showlegend": true,
           "textposition": "auto",
           "type": "bar",
           "x": {
            "bdata": "XFdGAA==",
            "dtype": "i4"
           },
           "xaxis": "x",
           "y": [
            "Information & Finance"
           ],
           "yaxis": "y"
          },
          {
           "hovertemplate": "Group=%{y}<br>Year=2003<br>Value=%{x}<extra></extra>",
           "legendgroup": "Manufacturing",
           "marker": {
            "color": "#00cc96",
            "pattern": {
             "shape": ""
            }
           },
           "name": "Manufacturing",
           "orientation": "h",
           "showlegend": true,
           "textposition": "auto",
           "type": "bar",
           "x": {
            "bdata": "9M89AA==",
            "dtype": "i4"
           },
           "xaxis": "x",
           "y": [
            "Manufacturing"
           ],
           "yaxis": "y"
          },
          {
           "hovertemplate": "Group=%{y}<br>Year=2003<br>Value=%{x}<extra></extra>",
           "legendgroup": "Primary Industries",
           "marker": {
            "color": "#ab63fa",
            "pattern": {
             "shape": ""
            }
           },
           "name": "Primary Industries",
           "orientation": "h",
           "showlegend": true,
           "textposition": "auto",
           "type": "bar",
           "x": {
            "bdata": "0vcHAA==",
            "dtype": "i4"
           },
           "xaxis": "x",
           "y": [
            "Primary Industries"
           ],
           "yaxis": "y"
          },
          {
           "hovertemplate": "Group=%{y}<br>Year=2003<br>Value=%{x}<extra></extra>",
           "legendgroup": "Professional & Public Services",
           "marker": {
            "color": "#FFA15A",
            "pattern": {
             "shape": ""
            }
           },
           "name": "Professional & Public Services",
           "orientation": "h",
           "showlegend": true,
           "textposition": "auto",
           "type": "bar",
           "x": {
            "bdata": "yJBLAA==",
            "dtype": "i4"
           },
           "xaxis": "x",
           "y": [
            "Professional & Public Services"
           ],
           "yaxis": "y"
          },
          {
           "hovertemplate": "Group=%{y}<br>Year=2003<br>Value=%{x}<extra></extra>",
           "legendgroup": "Trade & Transportation",
           "marker": {
            "color": "#19d3f3",
            "pattern": {
             "shape": ""
            }
           },
           "name": "Trade & Transportation",
           "orientation": "h",
           "showlegend": true,
           "textposition": "auto",
           "type": "bar",
           "x": {
            "bdata": "K6soAA==",
            "dtype": "i4"
           },
           "xaxis": "x",
           "y": [
            "Trade & Transportation"
           ],
           "yaxis": "y"
          },
          {
           "hovertemplate": "Group=%{y}<br>Year=2003<br>Value=%{x}<extra></extra>",
           "legendgroup": "Utilities & Construction",
           "marker": {
            "color": "#FF6692",
            "pattern": {
             "shape": ""
            }
           },
           "name": "Utilities & Construction",
           "orientation": "h",
           "showlegend": true,
           "textposition": "auto",
           "type": "bar",
           "x": {
            "bdata": "yBgVAA==",
            "dtype": "i4"
           },
           "xaxis": "x",
           "y": [
            "Utilities & Construction"
           ],
           "yaxis": "y"
          }
         ],
         "name": "2003"
        },
        {
         "data": [
          {
           "hovertemplate": "Group=%{y}<br>Year=2004<br>Value=%{x}<extra></extra>",
           "legendgroup": "Health, Education & Leisure",
           "marker": {
            "color": "#636efa",
            "pattern": {
             "shape": ""
            }
           },
           "name": "Health, Education & Leisure",
           "orientation": "h",
           "showlegend": true,
           "textposition": "auto",
           "type": "bar",
           "x": {
            "bdata": "NmIqAA==",
            "dtype": "i4"
           },
           "xaxis": "x",
           "y": [
            "Health, Education & Leisure"
           ],
           "yaxis": "y"
          },
          {
           "hovertemplate": "Group=%{y}<br>Year=2004<br>Value=%{x}<extra></extra>",
           "legendgroup": "Information & Finance",
           "marker": {
            "color": "#EF553B",
            "pattern": {
             "shape": ""
            }
           },
           "name": "Information & Finance",
           "orientation": "h",
           "showlegend": true,
           "textposition": "auto",
           "type": "bar",
           "x": {
            "bdata": "Y49LAA==",
            "dtype": "i4"
           },
           "xaxis": "x",
           "y": [
            "Information & Finance"
           ],
           "yaxis": "y"
          },
          {
           "hovertemplate": "Group=%{y}<br>Year=2004<br>Value=%{x}<extra></extra>",
           "legendgroup": "Manufacturing",
           "marker": {
            "color": "#00cc96",
            "pattern": {
             "shape": ""
            }
           },
           "name": "Manufacturing",
           "orientation": "h",
           "showlegend": true,
           "textposition": "auto",
           "type": "bar",
           "x": {
            "bdata": "z4VCAA==",
            "dtype": "i4"
           },
           "xaxis": "x",
           "y": [
            "Manufacturing"
           ],
           "yaxis": "y"
          },
          {
           "hovertemplate": "Group=%{y}<br>Year=2004<br>Value=%{x}<extra></extra>",
           "legendgroup": "Primary Industries",
           "marker": {
            "color": "#ab63fa",
            "pattern": {
             "shape": ""
            }
           },
           "name": "Primary Industries",
           "orientation": "h",
           "showlegend": true,
           "textposition": "auto",
           "type": "bar",
           "x": {
            "bdata": "ZUkJAA==",
            "dtype": "i4"
           },
           "xaxis": "x",
           "y": [
            "Primary Industries"
           ],
           "yaxis": "y"
          },
          {
           "hovertemplate": "Group=%{y}<br>Year=2004<br>Value=%{x}<extra></extra>",
           "legendgroup": "Professional & Public Services",
           "marker": {
            "color": "#FFA15A",
            "pattern": {
             "shape": ""
            }
           },
           "name": "Professional & Public Services",
           "orientation": "h",
           "showlegend": true,
           "textposition": "auto",
           "type": "bar",
           "x": {
            "bdata": "ltdQAA==",
            "dtype": "i4"
           },
           "xaxis": "x",
           "y": [
            "Professional & Public Services"
           ],
           "yaxis": "y"
          },
          {
           "hovertemplate": "Group=%{y}<br>Year=2004<br>Value=%{x}<extra></extra>",
           "legendgroup": "Trade & Transportation",
           "marker": {
            "color": "#19d3f3",
            "pattern": {
             "shape": ""
            }
           },
           "name": "Trade & Transportation",
           "orientation": "h",
           "showlegend": true,
           "textposition": "auto",
           "type": "bar",
           "x": {
            "bdata": "X0csAA==",
            "dtype": "i4"
           },
           "xaxis": "x",
           "y": [
            "Trade & Transportation"
           ],
           "yaxis": "y"
          },
          {
           "hovertemplate": "Group=%{y}<br>Year=2004<br>Value=%{x}<extra></extra>",
           "legendgroup": "Utilities & Construction",
           "marker": {
            "color": "#FF6692",
            "pattern": {
             "shape": ""
            }
           },
           "name": "Utilities & Construction",
           "orientation": "h",
           "showlegend": true,
           "textposition": "auto",
           "type": "bar",
           "x": {
            "bdata": "igkXAA==",
            "dtype": "i4"
           },
           "xaxis": "x",
           "y": [
            "Utilities & Construction"
           ],
           "yaxis": "y"
          }
         ],
         "name": "2004"
        },
        {
         "data": [
          {
           "hovertemplate": "Group=%{y}<br>Year=2005<br>Value=%{x}<extra></extra>",
           "legendgroup": "Health, Education & Leisure",
           "marker": {
            "color": "#636efa",
            "pattern": {
             "shape": ""
            }
           },
           "name": "Health, Education & Leisure",
           "orientation": "h",
           "showlegend": true,
           "textposition": "auto",
           "type": "bar",
           "x": {
            "bdata": "ALwsAA==",
            "dtype": "i4"
           },
           "xaxis": "x",
           "y": [
            "Health, Education & Leisure"
           ],
           "yaxis": "y"
          },
          {
           "hovertemplate": "Group=%{y}<br>Year=2005<br>Value=%{x}<extra></extra>",
           "legendgroup": "Information & Finance",
           "marker": {
            "color": "#EF553B",
            "pattern": {
             "shape": ""
            }
           },
           "name": "Information & Finance",
           "orientation": "h",
           "showlegend": true,
           "textposition": "auto",
           "type": "bar",
           "x": {
            "bdata": "rxBSAA==",
            "dtype": "i4"
           },
           "xaxis": "x",
           "y": [
            "Information & Finance"
           ],
           "yaxis": "y"
          },
          {
           "hovertemplate": "Group=%{y}<br>Year=2005<br>Value=%{x}<extra></extra>",
           "legendgroup": "Manufacturing",
           "marker": {
            "color": "#00cc96",
            "pattern": {
             "shape": ""
            }
           },
           "name": "Manufacturing",
           "orientation": "h",
           "showlegend": true,
           "textposition": "auto",
           "type": "bar",
           "x": {
            "bdata": "oFFJAA==",
            "dtype": "i4"
           },
           "xaxis": "x",
           "y": [
            "Manufacturing"
           ],
           "yaxis": "y"
          },
          {
           "hovertemplate": "Group=%{y}<br>Year=2005<br>Value=%{x}<extra></extra>",
           "legendgroup": "Primary Industries",
           "marker": {
            "color": "#ab63fa",
            "pattern": {
             "shape": ""
            }
           },
           "name": "Primary Industries",
           "orientation": "h",
           "showlegend": true,
           "textposition": "auto",
           "type": "bar",
           "x": {
            "bdata": "iZkKAA==",
            "dtype": "i4"
           },
           "xaxis": "x",
           "y": [
            "Primary Industries"
           ],
           "yaxis": "y"
          },
          {
           "hovertemplate": "Group=%{y}<br>Year=2005<br>Value=%{x}<extra></extra>",
           "legendgroup": "Professional & Public Services",
           "marker": {
            "color": "#FFA15A",
            "pattern": {
             "shape": ""
            }
           },
           "name": "Professional & Public Services",
           "orientation": "h",
           "showlegend": true,
           "textposition": "auto",
           "type": "bar",
           "x": {
            "bdata": "GoVWAA==",
            "dtype": "i4"
           },
           "xaxis": "x",
           "y": [
            "Professional & Public Services"
           ],
           "yaxis": "y"
          },
          {
           "hovertemplate": "Group=%{y}<br>Year=2005<br>Value=%{x}<extra></extra>",
           "legendgroup": "Trade & Transportation",
           "marker": {
            "color": "#19d3f3",
            "pattern": {
             "shape": ""
            }
           },
           "name": "Trade & Transportation",
           "orientation": "h",
           "showlegend": true,
           "textposition": "auto",
           "type": "bar",
           "x": {
            "bdata": "REwvAA==",
            "dtype": "i4"
           },
           "xaxis": "x",
           "y": [
            "Trade & Transportation"
           ],
           "yaxis": "y"
          },
          {
           "hovertemplate": "Group=%{y}<br>Year=2005<br>Value=%{x}<extra></extra>",
           "legendgroup": "Utilities & Construction",
           "marker": {
            "color": "#FF6692",
            "pattern": {
             "shape": ""
            }
           },
           "name": "Utilities & Construction",
           "orientation": "h",
           "showlegend": true,
           "textposition": "auto",
           "type": "bar",
           "x": {
            "bdata": "mP0ZAA==",
            "dtype": "i4"
           },
           "xaxis": "x",
           "y": [
            "Utilities & Construction"
           ],
           "yaxis": "y"
          }
         ],
         "name": "2005"
        },
        {
         "data": [
          {
           "hovertemplate": "Group=%{y}<br>Year=2006<br>Value=%{x}<extra></extra>",
           "legendgroup": "Health, Education & Leisure",
           "marker": {
            "color": "#636efa",
            "pattern": {
             "shape": ""
            }
           },
           "name": "Health, Education & Leisure",
           "orientation": "h",
           "showlegend": true,
           "textposition": "auto",
           "type": "bar",
           "x": {
            "bdata": "U3gvAA==",
            "dtype": "i4"
           },
           "xaxis": "x",
           "y": [
            "Health, Education & Leisure"
           ],
           "yaxis": "y"
          },
          {
           "hovertemplate": "Group=%{y}<br>Year=2006<br>Value=%{x}<extra></extra>",
           "legendgroup": "Information & Finance",
           "marker": {
            "color": "#EF553B",
            "pattern": {
             "shape": ""
            }
           },
           "name": "Information & Finance",
           "orientation": "h",
           "showlegend": true,
           "textposition": "auto",
           "type": "bar",
           "x": {
            "bdata": "d2RWAA==",
            "dtype": "i4"
           },
           "xaxis": "x",
           "y": [
            "Information & Finance"
           ],
           "yaxis": "y"
          },
          {
           "hovertemplate": "Group=%{y}<br>Year=2006<br>Value=%{x}<extra></extra>",
           "legendgroup": "Manufacturing",
           "marker": {
            "color": "#00cc96",
            "pattern": {
             "shape": ""
            }
           },
           "name": "Manufacturing",
           "orientation": "h",
           "showlegend": true,
           "textposition": "auto",
           "type": "bar",
           "x": {
            "bdata": "1rNNAA==",
            "dtype": "i4"
           },
           "xaxis": "x",
           "y": [
            "Manufacturing"
           ],
           "yaxis": "y"
          },
          {
           "hovertemplate": "Group=%{y}<br>Year=2006<br>Value=%{x}<extra></extra>",
           "legendgroup": "Primary Industries",
           "marker": {
            "color": "#ab63fa",
            "pattern": {
             "shape": ""
            }
           },
           "name": "Primary Industries",
           "orientation": "h",
           "showlegend": true,
           "textposition": "auto",
           "type": "bar",
           "x": {
            "bdata": "lG4LAA==",
            "dtype": "i4"
           },
           "xaxis": "x",
           "y": [
            "Primary Industries"
           ],
           "yaxis": "y"
          },
          {
           "hovertemplate": "Group=%{y}<br>Year=2006<br>Value=%{x}<extra></extra>",
           "legendgroup": "Professional & Public Services",
           "marker": {
            "color": "#FFA15A",
            "pattern": {
             "shape": ""
            }
           },
           "name": "Professional & Public Services",
           "orientation": "h",
           "showlegend": true,
           "textposition": "auto",
           "type": "bar",
           "x": {
            "bdata": "jONbAA==",
            "dtype": "i4"
           },
           "xaxis": "x",
           "y": [
            "Professional & Public Services"
           ],
           "yaxis": "y"
          },
          {
           "hovertemplate": "Group=%{y}<br>Year=2006<br>Value=%{x}<extra></extra>",
           "legendgroup": "Trade & Transportation",
           "marker": {
            "color": "#19d3f3",
            "pattern": {
             "shape": ""
            }
           },
           "name": "Trade & Transportation",
           "orientation": "h",
           "showlegend": true,
           "textposition": "auto",
           "type": "bar",
           "x": {
            "bdata": "gaUyAA==",
            "dtype": "i4"
           },
           "xaxis": "x",
           "y": [
            "Trade & Transportation"
           ],
           "yaxis": "y"
          },
          {
           "hovertemplate": "Group=%{y}<br>Year=2006<br>Value=%{x}<extra></extra>",
           "legendgroup": "Utilities & Construction",
           "marker": {
            "color": "#FF6692",
            "pattern": {
             "shape": ""
            }
           },
           "name": "Utilities & Construction",
           "orientation": "h",
           "showlegend": true,
           "textposition": "auto",
           "type": "bar",
           "x": {
            "bdata": "4hcbAA==",
            "dtype": "i4"
           },
           "xaxis": "x",
           "y": [
            "Utilities & Construction"
           ],
           "yaxis": "y"
          }
         ],
         "name": "2006"
        },
        {
         "data": [
          {
           "hovertemplate": "Group=%{y}<br>Year=2007<br>Value=%{x}<extra></extra>",
           "legendgroup": "Health, Education & Leisure",
           "marker": {
            "color": "#636efa",
            "pattern": {
             "shape": ""
            }
           },
           "name": "Health, Education & Leisure",
           "orientation": "h",
           "showlegend": true,
           "textposition": "auto",
           "type": "bar",
           "x": {
            "bdata": "9/IxAA==",
            "dtype": "i4"
           },
           "xaxis": "x",
           "y": [
            "Health, Education & Leisure"
           ],
           "yaxis": "y"
          },
          {
           "hovertemplate": "Group=%{y}<br>Year=2007<br>Value=%{x}<extra></extra>",
           "legendgroup": "Information & Finance",
           "marker": {
            "color": "#EF553B",
            "pattern": {
             "shape": ""
            }
           },
           "name": "Information & Finance",
           "orientation": "h",
           "showlegend": true,
           "textposition": "auto",
           "type": "bar",
           "x": {
            "bdata": "ACNaAA==",
            "dtype": "i4"
           },
           "xaxis": "x",
           "y": [
            "Information & Finance"
           ],
           "yaxis": "y"
          },
          {
           "hovertemplate": "Group=%{y}<br>Year=2007<br>Value=%{x}<extra></extra>",
           "legendgroup": "Manufacturing",
           "marker": {
            "color": "#00cc96",
            "pattern": {
             "shape": ""
            }
           },
           "name": "Manufacturing",
           "orientation": "h",
           "showlegend": true,
           "textposition": "auto",
           "type": "bar",
           "x": {
            "bdata": "2npSAA==",
            "dtype": "i4"
           },
           "xaxis": "x",
           "y": [
            "Manufacturing"
           ],
           "yaxis": "y"
          },
          {
           "hovertemplate": "Group=%{y}<br>Year=2007<br>Value=%{x}<extra></extra>",
           "legendgroup": "Primary Industries",
           "marker": {
            "color": "#ab63fa",
            "pattern": {
             "shape": ""
            }
           },
           "name": "Primary Industries",
           "orientation": "h",
           "showlegend": true,
           "textposition": "auto",
           "type": "bar",
           "x": {
            "bdata": "RZkMAA==",
            "dtype": "i4"
           },
           "xaxis": "x",
           "y": [
            "Primary Industries"
           ],
           "yaxis": "y"
          },
          {
           "hovertemplate": "Group=%{y}<br>Year=2007<br>Value=%{x}<extra></extra>",
           "legendgroup": "Professional & Public Services",
           "marker": {
            "color": "#FFA15A",
            "pattern": {
             "shape": ""
            }
           },
           "name": "Professional & Public Services",
           "orientation": "h",
           "showlegend": true,
           "textposition": "auto",
           "type": "bar",
           "x": {
            "bdata": "CfFhAA==",
            "dtype": "i4"
           },
           "xaxis": "x",
           "y": [
            "Professional & Public Services"
           ],
           "yaxis": "y"
          },
          {
           "hovertemplate": "Group=%{y}<br>Year=2007<br>Value=%{x}<extra></extra>",
           "legendgroup": "Trade & Transportation",
           "marker": {
            "color": "#19d3f3",
            "pattern": {
             "shape": ""
            }
           },
           "name": "Trade & Transportation",
           "orientation": "h",
           "showlegend": true,
           "textposition": "auto",
           "type": "bar",
           "x": {
            "bdata": "UfQ0AA==",
            "dtype": "i4"
           },
           "xaxis": "x",
           "y": [
            "Trade & Transportation"
           ],
           "yaxis": "y"
          },
          {
           "hovertemplate": "Group=%{y}<br>Year=2007<br>Value=%{x}<extra></extra>",
           "legendgroup": "Utilities & Construction",
           "marker": {
            "color": "#FF6692",
            "pattern": {
             "shape": ""
            }
           },
           "name": "Utilities & Construction",
           "orientation": "h",
           "showlegend": true,
           "textposition": "auto",
           "type": "bar",
           "x": {
            "bdata": "cVIbAA==",
            "dtype": "i4"
           },
           "xaxis": "x",
           "y": [
            "Utilities & Construction"
           ],
           "yaxis": "y"
          }
         ],
         "name": "2007"
        },
        {
         "data": [
          {
           "hovertemplate": "Group=%{y}<br>Year=2008<br>Value=%{x}<extra></extra>",
           "legendgroup": "Health, Education & Leisure",
           "marker": {
            "color": "#636efa",
            "pattern": {
             "shape": ""
            }
           },
           "name": "Health, Education & Leisure",
           "orientation": "h",
           "showlegend": true,
           "textposition": "auto",
           "type": "bar",
           "x": {
            "bdata": "TU80AA==",
            "dtype": "i4"
           },
           "xaxis": "x",
           "y": [
            "Health, Education & Leisure"
           ],
           "yaxis": "y"
          },
          {
           "hovertemplate": "Group=%{y}<br>Year=2008<br>Value=%{x}<extra></extra>",
           "legendgroup": "Information & Finance",
           "marker": {
            "color": "#EF553B",
            "pattern": {
             "shape": ""
            }
           },
           "name": "Information & Finance",
           "orientation": "h",
           "showlegend": true,
           "textposition": "auto",
           "type": "bar",
           "x": {
            "bdata": "ObZaAA==",
            "dtype": "i4"
           },
           "xaxis": "x",
           "y": [
            "Information & Finance"
           ],
           "yaxis": "y"
          },
          {
           "hovertemplate": "Group=%{y}<br>Year=2008<br>Value=%{x}<extra></extra>",
           "legendgroup": "Manufacturing",
           "marker": {
            "color": "#00cc96",
            "pattern": {
             "shape": ""
            }
           },
           "name": "Manufacturing",
           "orientation": "h",
           "showlegend": true,
           "textposition": "auto",
           "type": "bar",
           "x": {
            "bdata": "CNFTAA==",
            "dtype": "i4"
           },
           "xaxis": "x",
           "y": [
            "Manufacturing"
           ],
           "yaxis": "y"
          },
          {
           "hovertemplate": "Group=%{y}<br>Year=2008<br>Value=%{x}<extra></extra>",
           "legendgroup": "Primary Industries",
           "marker": {
            "color": "#ab63fa",
            "pattern": {
             "shape": ""
            }
           },
           "name": "Primary Industries",
           "orientation": "h",
           "showlegend": true,
           "textposition": "auto",
           "type": "bar",
           "x": {
            "bdata": "SxAPAA==",
            "dtype": "i4"
           },
           "xaxis": "x",
           "y": [
            "Primary Industries"
           ],
           "yaxis": "y"
          },
          {
           "hovertemplate": "Group=%{y}<br>Year=2008<br>Value=%{x}<extra></extra>",
           "legendgroup": "Professional & Public Services",
           "marker": {
            "color": "#FFA15A",
            "pattern": {
             "shape": ""
            }
           },
           "name": "Professional & Public Services",
           "orientation": "h",
           "showlegend": true,
           "textposition": "auto",
           "type": "bar",
           "x": {
            "bdata": "PIZnAA==",
            "dtype": "i4"
           },
           "xaxis": "x",
           "y": [
            "Professional & Public Services"
           ],
           "yaxis": "y"
          },
          {
           "hovertemplate": "Group=%{y}<br>Year=2008<br>Value=%{x}<extra></extra>",
           "legendgroup": "Trade & Transportation",
           "marker": {
            "color": "#19d3f3",
            "pattern": {
             "shape": ""
            }
           },
           "name": "Trade & Transportation",
           "orientation": "h",
           "showlegend": true,
           "textposition": "auto",
           "type": "bar",
           "x": {
            "bdata": "PIs1AA==",
            "dtype": "i4"
           },
           "xaxis": "x",
           "y": [
            "Trade & Transportation"
           ],
           "yaxis": "y"
          },
          {
           "hovertemplate": "Group=%{y}<br>Year=2008<br>Value=%{x}<extra></extra>",
           "legendgroup": "Utilities & Construction",
           "marker": {
            "color": "#FF6692",
            "pattern": {
             "shape": ""
            }
           },
           "name": "Utilities & Construction",
           "orientation": "h",
           "showlegend": true,
           "textposition": "auto",
           "type": "bar",
           "x": {
            "bdata": "1nkbAA==",
            "dtype": "i4"
           },
           "xaxis": "x",
           "y": [
            "Utilities & Construction"
           ],
           "yaxis": "y"
          }
         ],
         "name": "2008"
        },
        {
         "data": [
          {
           "hovertemplate": "Group=%{y}<br>Year=2009<br>Value=%{x}<extra></extra>",
           "legendgroup": "Health, Education & Leisure",
           "marker": {
            "color": "#636efa",
            "pattern": {
             "shape": ""
            }
           },
           "name": "Health, Education & Leisure",
           "orientation": "h",
           "showlegend": true,
           "textposition": "auto",
           "type": "bar",
           "x": {
            "bdata": "ZgU1AA==",
            "dtype": "i4"
           },
           "xaxis": "x",
           "y": [
            "Health, Education & Leisure"
           ],
           "yaxis": "y"
          },
          {
           "hovertemplate": "Group=%{y}<br>Year=2009<br>Value=%{x}<extra></extra>",
           "legendgroup": "Information & Finance",
           "marker": {
            "color": "#EF553B",
            "pattern": {
             "shape": ""
            }
           },
           "name": "Information & Finance",
           "orientation": "h",
           "showlegend": true,
           "textposition": "auto",
           "type": "bar",
           "x": {
            "bdata": "mF1XAA==",
            "dtype": "i4"
           },
           "xaxis": "x",
           "y": [
            "Information & Finance"
           ],
           "yaxis": "y"
          },
          {
           "hovertemplate": "Group=%{y}<br>Year=2009<br>Value=%{x}<extra></extra>",
           "legendgroup": "Manufacturing",
           "marker": {
            "color": "#00cc96",
            "pattern": {
             "shape": ""
            }
           },
           "name": "Manufacturing",
           "orientation": "h",
           "showlegend": true,
           "textposition": "auto",
           "type": "bar",
           "x": {
            "bdata": "/d5EAA==",
            "dtype": "i4"
           },
           "xaxis": "x",
           "y": [
            "Manufacturing"
           ],
           "yaxis": "y"
          },
          {
           "hovertemplate": "Group=%{y}<br>Year=2009<br>Value=%{x}<extra></extra>",
           "legendgroup": "Primary Industries",
           "marker": {
            "color": "#ab63fa",
            "pattern": {
             "shape": ""
            }
           },
           "name": "Primary Industries",
           "orientation": "h",
           "showlegend": true,
           "textposition": "auto",
           "type": "bar",
           "x": {
            "bdata": "v1kLAA==",
            "dtype": "i4"
           },
           "xaxis": "x",
           "y": [
            "Primary Industries"
           ],
           "yaxis": "y"
          },
          {
           "hovertemplate": "Group=%{y}<br>Year=2009<br>Value=%{x}<extra></extra>",
           "legendgroup": "Professional & Public Services",
           "marker": {
            "color": "#FFA15A",
            "pattern": {
             "shape": ""
            }
           },
           "name": "Professional & Public Services",
           "orientation": "h",
           "showlegend": true,
           "textposition": "auto",
           "type": "bar",
           "x": {
            "bdata": "gtJnAA==",
            "dtype": "i4"
           },
           "xaxis": "x",
           "y": [
            "Professional & Public Services"
           ],
           "yaxis": "y"
          },
          {
           "hovertemplate": "Group=%{y}<br>Year=2009<br>Value=%{x}<extra></extra>",
           "legendgroup": "Trade & Transportation",
           "marker": {
            "color": "#19d3f3",
            "pattern": {
             "shape": ""
            }
           },
           "name": "Trade & Transportation",
           "orientation": "h",
           "showlegend": true,
           "textposition": "auto",
           "type": "bar",
           "x": {
            "bdata": "+vgvAA==",
            "dtype": "i4"
           },
           "xaxis": "x",
           "y": [
            "Trade & Transportation"
           ],
           "yaxis": "y"
          },
          {
           "hovertemplate": "Group=%{y}<br>Year=2009<br>Value=%{x}<extra></extra>",
           "legendgroup": "Utilities & Construction",
           "marker": {
            "color": "#FF6692",
            "pattern": {
             "shape": ""
            }
           },
           "name": "Utilities & Construction",
           "orientation": "h",
           "showlegend": true,
           "textposition": "auto",
           "type": "bar",
           "x": {
            "bdata": "J20XAA==",
            "dtype": "i4"
           },
           "xaxis": "x",
           "y": [
            "Utilities & Construction"
           ],
           "yaxis": "y"
          }
         ],
         "name": "2009"
        },
        {
         "data": [
          {
           "hovertemplate": "Group=%{y}<br>Year=2010<br>Value=%{x}<extra></extra>",
           "legendgroup": "Health, Education & Leisure",
           "marker": {
            "color": "#636efa",
            "pattern": {
             "shape": ""
            }
           },
           "name": "Health, Education & Leisure",
           "orientation": "h",
           "showlegend": true,
           "textposition": "auto",
           "type": "bar",
           "x": {
            "bdata": "sgQ3AA==",
            "dtype": "i4"
           },
           "xaxis": "x",
           "y": [
            "Health, Education & Leisure"
           ],
           "yaxis": "y"
          },
          {
           "hovertemplate": "Group=%{y}<br>Year=2010<br>Value=%{x}<extra></extra>",
           "legendgroup": "Information & Finance",
           "marker": {
            "color": "#EF553B",
            "pattern": {
             "shape": ""
            }
           },
           "name": "Information & Finance",
           "orientation": "h",
           "showlegend": true,
           "textposition": "auto",
           "type": "bar",
           "x": {
            "bdata": "SytaAA==",
            "dtype": "i4"
           },
           "xaxis": "x",
           "y": [
            "Information & Finance"
           ],
           "yaxis": "y"
          },
          {
           "hovertemplate": "Group=%{y}<br>Year=2010<br>Value=%{x}<extra></extra>",
           "legendgroup": "Manufacturing",
           "marker": {
            "color": "#00cc96",
            "pattern": {
             "shape": ""
            }
           },
           "name": "Manufacturing",
           "orientation": "h",
           "showlegend": true,
           "textposition": "auto",
           "type": "bar",
           "x": {
            "bdata": "9JRMAA==",
            "dtype": "i4"
           },
           "xaxis": "x",
           "y": [
            "Manufacturing"
           ],
           "yaxis": "y"
          },
          {
           "hovertemplate": "Group=%{y}<br>Year=2010<br>Value=%{x}<extra></extra>",
           "legendgroup": "Primary Industries",
           "marker": {
            "color": "#ab63fa",
            "pattern": {
             "shape": ""
            }
           },
           "name": "Primary Industries",
           "orientation": "h",
           "showlegend": true,
           "textposition": "auto",
           "type": "bar",
           "x": {
            "bdata": "ajkNAA==",
            "dtype": "i4"
           },
           "xaxis": "x",
           "y": [
            "Primary Industries"
           ],
           "yaxis": "y"
          },
          {
           "hovertemplate": "Group=%{y}<br>Year=2010<br>Value=%{x}<extra></extra>",
           "legendgroup": "Professional & Public Services",
           "marker": {
            "color": "#FFA15A",
            "pattern": {
             "shape": ""
            }
           },
           "name": "Professional & Public Services",
           "orientation": "h",
           "showlegend": true,
           "textposition": "auto",
           "type": "bar",
           "x": {
            "bdata": "nVRsAA==",
            "dtype": "i4"
           },
           "xaxis": "x",
           "y": [
            "Professional & Public Services"
           ],
           "yaxis": "y"
          },
          {
           "hovertemplate": "Group=%{y}<br>Year=2010<br>Value=%{x}<extra></extra>",
           "legendgroup": "Trade & Transportation",
           "marker": {
            "color": "#19d3f3",
            "pattern": {
             "shape": ""
            }
           },
           "name": "Trade & Transportation",
           "orientation": "h",
           "showlegend": true,
           "textposition": "auto",
           "type": "bar",
           "x": {
            "bdata": "saw1AA==",
            "dtype": "i4"
           },
           "xaxis": "x",
           "y": [
            "Trade & Transportation"
           ],
           "yaxis": "y"
          },
          {
           "hovertemplate": "Group=%{y}<br>Year=2010<br>Value=%{x}<extra></extra>",
           "legendgroup": "Utilities & Construction",
           "marker": {
            "color": "#FF6692",
            "pattern": {
             "shape": ""
            }
           },
           "name": "Utilities & Construction",
           "orientation": "h",
           "showlegend": true,
           "textposition": "auto",
           "type": "bar",
           "x": {
            "bdata": "4A4XAA==",
            "dtype": "i4"
           },
           "xaxis": "x",
           "y": [
            "Utilities & Construction"
           ],
           "yaxis": "y"
          }
         ],
         "name": "2010"
        },
        {
         "data": [
          {
           "hovertemplate": "Group=%{y}<br>Year=2011<br>Value=%{x}<extra></extra>",
           "legendgroup": "Health, Education & Leisure",
           "marker": {
            "color": "#636efa",
            "pattern": {
             "shape": ""
            }
           },
           "name": "Health, Education & Leisure",
           "orientation": "h",
           "showlegend": true,
           "textposition": "auto",
           "type": "bar",
           "x": {
            "bdata": "UEU5AA==",
            "dtype": "i4"
           },
           "xaxis": "x",
           "y": [
            "Health, Education & Leisure"
           ],
           "yaxis": "y"
          },
          {
           "hovertemplate": "Group=%{y}<br>Year=2011<br>Value=%{x}<extra></extra>",
           "legendgroup": "Information & Finance",
           "marker": {
            "color": "#EF553B",
            "pattern": {
             "shape": ""
            }
           },
           "name": "Information & Finance",
           "orientation": "h",
           "showlegend": true,
           "textposition": "auto",
           "type": "bar",
           "x": {
            "bdata": "BCpdAA==",
            "dtype": "i4"
           },
           "xaxis": "x",
           "y": [
            "Information & Finance"
           ],
           "yaxis": "y"
          },
          {
           "hovertemplate": "Group=%{y}<br>Year=2011<br>Value=%{x}<extra></extra>",
           "legendgroup": "Manufacturing",
           "marker": {
            "color": "#00cc96",
            "pattern": {
             "shape": ""
            }
           },
           "name": "Manufacturing",
           "orientation": "h",
           "showlegend": true,
           "textposition": "auto",
           "type": "bar",
           "x": {
            "bdata": "pmBVAA==",
            "dtype": "i4"
           },
           "xaxis": "x",
           "y": [
            "Manufacturing"
           ],
           "yaxis": "y"
          },
          {
           "hovertemplate": "Group=%{y}<br>Year=2011<br>Value=%{x}<extra></extra>",
           "legendgroup": "Primary Industries",
           "marker": {
            "color": "#ab63fa",
            "pattern": {
             "shape": ""
            }
           },
           "name": "Primary Industries",
           "orientation": "h",
           "showlegend": true,
           "textposition": "auto",
           "type": "bar",
           "x": {
            "bdata": "cbwPAA==",
            "dtype": "i4"
           },
           "xaxis": "x",
           "y": [
            "Primary Industries"
           ],
           "yaxis": "y"
          },
          {
           "hovertemplate": "Group=%{y}<br>Year=2011<br>Value=%{x}<extra></extra>",
           "legendgroup": "Professional & Public Services",
           "marker": {
            "color": "#FFA15A",
            "pattern": {
             "shape": ""
            }
           },
           "name": "Professional & Public Services",
           "orientation": "h",
           "showlegend": true,
           "textposition": "auto",
           "type": "bar",
           "x": {
            "bdata": "YDpvAA==",
            "dtype": "i4"
           },
           "xaxis": "x",
           "y": [
            "Professional & Public Services"
           ],
           "yaxis": "y"
          },
          {
           "hovertemplate": "Group=%{y}<br>Year=2011<br>Value=%{x}<extra></extra>",
           "legendgroup": "Trade & Transportation",
           "marker": {
            "color": "#19d3f3",
            "pattern": {
             "shape": ""
            }
           },
           "name": "Trade & Transportation",
           "orientation": "h",
           "showlegend": true,
           "textposition": "auto",
           "type": "bar",
           "x": {
            "bdata": "Ll06AA==",
            "dtype": "i4"
           },
           "xaxis": "x",
           "y": [
            "Trade & Transportation"
           ],
           "yaxis": "y"
          },
          {
           "hovertemplate": "Group=%{y}<br>Year=2011<br>Value=%{x}<extra></extra>",
           "legendgroup": "Utilities & Construction",
           "marker": {
            "color": "#FF6692",
            "pattern": {
             "shape": ""
            }
           },
           "name": "Utilities & Construction",
           "orientation": "h",
           "showlegend": true,
           "textposition": "auto",
           "type": "bar",
           "x": {
            "bdata": "VPgWAA==",
            "dtype": "i4"
           },
           "xaxis": "x",
           "y": [
            "Utilities & Construction"
           ],
           "yaxis": "y"
          }
         ],
         "name": "2011"
        },
        {
         "data": [
          {
           "hovertemplate": "Group=%{y}<br>Year=2012<br>Value=%{x}<extra></extra>",
           "legendgroup": "Health, Education & Leisure",
           "marker": {
            "color": "#636efa",
            "pattern": {
             "shape": ""
            }
           },
           "name": "Health, Education & Leisure",
           "orientation": "h",
           "showlegend": true,
           "textposition": "auto",
           "type": "bar",
           "x": {
            "bdata": "8RA8AA==",
            "dtype": "i4"
           },
           "xaxis": "x",
           "y": [
            "Health, Education & Leisure"
           ],
           "yaxis": "y"
          },
          {
           "hovertemplate": "Group=%{y}<br>Year=2012<br>Value=%{x}<extra></extra>",
           "legendgroup": "Information & Finance",
           "marker": {
            "color": "#EF553B",
            "pattern": {
             "shape": ""
            }
           },
           "name": "Information & Finance",
           "orientation": "h",
           "showlegend": true,
           "textposition": "auto",
           "type": "bar",
           "x": {
            "bdata": "snZiAA==",
            "dtype": "i4"
           },
           "xaxis": "x",
           "y": [
            "Information & Finance"
           ],
           "yaxis": "y"
          },
          {
           "hovertemplate": "Group=%{y}<br>Year=2012<br>Value=%{x}<extra></extra>",
           "legendgroup": "Manufacturing",
           "marker": {
            "color": "#00cc96",
            "pattern": {
             "shape": ""
            }
           },
           "name": "Manufacturing",
           "orientation": "h",
           "showlegend": true,
           "textposition": "auto",
           "type": "bar",
           "x": {
            "bdata": "3CNYAA==",
            "dtype": "i4"
           },
           "xaxis": "x",
           "y": [
            "Manufacturing"
           ],
           "yaxis": "y"
          },
          {
           "hovertemplate": "Group=%{y}<br>Year=2012<br>Value=%{x}<extra></extra>",
           "legendgroup": "Primary Industries",
           "marker": {
            "color": "#ab63fa",
            "pattern": {
             "shape": ""
            }
           },
           "name": "Primary Industries",
           "orientation": "h",
           "showlegend": true,
           "textposition": "auto",
           "type": "bar",
           "x": {
            "bdata": "Gj4QAA==",
            "dtype": "i4"
           },
           "xaxis": "x",
           "y": [
            "Primary Industries"
           ],
           "yaxis": "y"
          },
          {
           "hovertemplate": "Group=%{y}<br>Year=2012<br>Value=%{x}<extra></extra>",
           "legendgroup": "Professional & Public Services",
           "marker": {
            "color": "#FFA15A",
            "pattern": {
             "shape": ""
            }
           },
           "name": "Professional & Public Services",
           "orientation": "h",
           "showlegend": true,
           "textposition": "auto",
           "type": "bar",
           "x": {
            "bdata": "bqFxAA==",
            "dtype": "i4"
           },
           "xaxis": "x",
           "y": [
            "Professional & Public Services"
           ],
           "yaxis": "y"
          },
          {
           "hovertemplate": "Group=%{y}<br>Year=2012<br>Value=%{x}<extra></extra>",
           "legendgroup": "Trade & Transportation",
           "marker": {
            "color": "#19d3f3",
            "pattern": {
             "shape": ""
            }
           },
           "name": "Trade & Transportation",
           "orientation": "h",
           "showlegend": true,
           "textposition": "auto",
           "type": "bar",
           "x": {
            "bdata": "hAU+AA==",
            "dtype": "i4"
           },
           "xaxis": "x",
           "y": [
            "Trade & Transportation"
           ],
           "yaxis": "y"
          },
          {
           "hovertemplate": "Group=%{y}<br>Year=2012<br>Value=%{x}<extra></extra>",
           "legendgroup": "Utilities & Construction",
           "marker": {
            "color": "#FF6692",
            "pattern": {
             "shape": ""
            }
           },
           "name": "Utilities & Construction",
           "orientation": "h",
           "showlegend": true,
           "textposition": "auto",
           "type": "bar",
           "x": {
            "bdata": "IHQXAA==",
            "dtype": "i4"
           },
           "xaxis": "x",
           "y": [
            "Utilities & Construction"
           ],
           "yaxis": "y"
          }
         ],
         "name": "2012"
        },
        {
         "data": [
          {
           "hovertemplate": "Group=%{y}<br>Year=2013<br>Value=%{x}<extra></extra>",
           "legendgroup": "Health, Education & Leisure",
           "marker": {
            "color": "#636efa",
            "pattern": {
             "shape": ""
            }
           },
           "name": "Health, Education & Leisure",
           "orientation": "h",
           "showlegend": true,
           "textposition": "auto",
           "type": "bar",
           "x": {
            "bdata": "+6U9AA==",
            "dtype": "i4"
           },
           "xaxis": "x",
           "y": [
            "Health, Education & Leisure"
           ],
           "yaxis": "y"
          },
          {
           "hovertemplate": "Group=%{y}<br>Year=2013<br>Value=%{x}<extra></extra>",
           "legendgroup": "Information & Finance",
           "marker": {
            "color": "#EF553B",
            "pattern": {
             "shape": ""
            }
           },
           "name": "Information & Finance",
           "orientation": "h",
           "showlegend": true,
           "textposition": "auto",
           "type": "bar",
           "x": {
            "bdata": "rxBoAA==",
            "dtype": "i4"
           },
           "xaxis": "x",
           "y": [
            "Information & Finance"
           ],
           "yaxis": "y"
          },
          {
           "hovertemplate": "Group=%{y}<br>Year=2013<br>Value=%{x}<extra></extra>",
           "legendgroup": "Manufacturing",
           "marker": {
            "color": "#00cc96",
            "pattern": {
             "shape": ""
            }
           },
           "name": "Manufacturing",
           "orientation": "h",
           "showlegend": true,
           "textposition": "auto",
           "type": "bar",
           "x": {
            "bdata": "UnNaAA==",
            "dtype": "i4"
           },
           "xaxis": "x",
           "y": [
            "Manufacturing"
           ],
           "yaxis": "y"
          },
          {
           "hovertemplate": "Group=%{y}<br>Year=2013<br>Value=%{x}<extra></extra>",
           "legendgroup": "Primary Industries",
           "marker": {
            "color": "#ab63fa",
            "pattern": {
             "shape": ""
            }
           },
           "name": "Primary Industries",
           "orientation": "h",
           "showlegend": true,
           "textposition": "auto",
           "type": "bar",
           "x": {
            "bdata": "qW8RAA==",
            "dtype": "i4"
           },
           "xaxis": "x",
           "y": [
            "Primary Industries"
           ],
           "yaxis": "y"
          },
          {
           "hovertemplate": "Group=%{y}<br>Year=2013<br>Value=%{x}<extra></extra>",
           "legendgroup": "Professional & Public Services",
           "marker": {
            "color": "#FFA15A",
            "pattern": {
             "shape": ""
            }
           },
           "name": "Professional & Public Services",
           "orientation": "h",
           "showlegend": true,
           "textposition": "auto",
           "type": "bar",
           "x": {
            "bdata": "89RyAA==",
            "dtype": "i4"
           },
           "xaxis": "x",
           "y": [
            "Professional & Public Services"
           ],
           "yaxis": "y"
          },
          {
           "hovertemplate": "Group=%{y}<br>Year=2013<br>Value=%{x}<extra></extra>",
           "legendgroup": "Trade & Transportation",
           "marker": {
            "color": "#19d3f3",
            "pattern": {
             "shape": ""
            }
           },
           "name": "Trade & Transportation",
           "orientation": "h",
           "showlegend": true,
           "textposition": "auto",
           "type": "bar",
           "x": {
            "bdata": "oH9BAA==",
            "dtype": "i4"
           },
           "xaxis": "x",
           "y": [
            "Trade & Transportation"
           ],
           "yaxis": "y"
          },
          {
           "hovertemplate": "Group=%{y}<br>Year=2013<br>Value=%{x}<extra></extra>",
           "legendgroup": "Utilities & Construction",
           "marker": {
            "color": "#FF6692",
            "pattern": {
             "shape": ""
            }
           },
           "name": "Utilities & Construction",
           "orientation": "h",
           "showlegend": true,
           "textposition": "auto",
           "type": "bar",
           "x": {
            "bdata": "kRIZAA==",
            "dtype": "i4"
           },
           "xaxis": "x",
           "y": [
            "Utilities & Construction"
           ],
           "yaxis": "y"
          }
         ],
         "name": "2013"
        },
        {
         "data": [
          {
           "hovertemplate": "Group=%{y}<br>Year=2014<br>Value=%{x}<extra></extra>",
           "legendgroup": "Health, Education & Leisure",
           "marker": {
            "color": "#636efa",
            "pattern": {
             "shape": ""
            }
           },
           "name": "Health, Education & Leisure",
           "orientation": "h",
           "showlegend": true,
           "textposition": "auto",
           "type": "bar",
           "x": {
            "bdata": "kIxAAA==",
            "dtype": "i4"
           },
           "xaxis": "x",
           "y": [
            "Health, Education & Leisure"
           ],
           "yaxis": "y"
          },
          {
           "hovertemplate": "Group=%{y}<br>Year=2014<br>Value=%{x}<extra></extra>",
           "legendgroup": "Information & Finance",
           "marker": {
            "color": "#EF553B",
            "pattern": {
             "shape": ""
            }
           },
           "name": "Information & Finance",
           "orientation": "h",
           "showlegend": true,
           "textposition": "auto",
           "type": "bar",
           "x": {
            "bdata": "zwduAA==",
            "dtype": "i4"
           },
           "xaxis": "x",
           "y": [
            "Information & Finance"
           ],
           "yaxis": "y"
          },
          {
           "hovertemplate": "Group=%{y}<br>Year=2014<br>Value=%{x}<extra></extra>",
           "legendgroup": "Manufacturing",
           "marker": {
            "color": "#00cc96",
            "pattern": {
             "shape": ""
            }
           },
           "name": "Manufacturing",
           "orientation": "h",
           "showlegend": true,
           "textposition": "auto",
           "type": "bar",
           "x": {
            "bdata": "84hbAA==",
            "dtype": "i4"
           },
           "xaxis": "x",
           "y": [
            "Manufacturing"
           ],
           "yaxis": "y"
          },
          {
           "hovertemplate": "Group=%{y}<br>Year=2014<br>Value=%{x}<extra></extra>",
           "legendgroup": "Primary Industries",
           "marker": {
            "color": "#ab63fa",
            "pattern": {
             "shape": ""
            }
           },
           "name": "Primary Industries",
           "orientation": "h",
           "showlegend": true,
           "textposition": "auto",
           "type": "bar",
           "x": {
            "bdata": "8LUSAA==",
            "dtype": "i4"
           },
           "xaxis": "x",
           "y": [
            "Primary Industries"
           ],
           "yaxis": "y"
          },
          {
           "hovertemplate": "Group=%{y}<br>Year=2014<br>Value=%{x}<extra></extra>",
           "legendgroup": "Professional & Public Services",
           "marker": {
            "color": "#FFA15A",
            "pattern": {
             "shape": ""
            }
           },
           "name": "Professional & Public Services",
           "orientation": "h",
           "showlegend": true,
           "textposition": "auto",
           "type": "bar",
           "x": {
            "bdata": "Vs92AA==",
            "dtype": "i4"
           },
           "xaxis": "x",
           "y": [
            "Professional & Public Services"
           ],
           "yaxis": "y"
          },
          {
           "hovertemplate": "Group=%{y}<br>Year=2014<br>Value=%{x}<extra></extra>",
           "legendgroup": "Trade & Transportation",
           "marker": {
            "color": "#19d3f3",
            "pattern": {
             "shape": ""
            }
           },
           "name": "Trade & Transportation",
           "orientation": "h",
           "showlegend": true,
           "textposition": "auto",
           "type": "bar",
           "x": {
            "bdata": "iIdFAA==",
            "dtype": "i4"
           },
           "xaxis": "x",
           "y": [
            "Trade & Transportation"
           ],
           "yaxis": "y"
          },
          {
           "hovertemplate": "Group=%{y}<br>Year=2014<br>Value=%{x}<extra></extra>",
           "legendgroup": "Utilities & Construction",
           "marker": {
            "color": "#FF6692",
            "pattern": {
             "shape": ""
            }
           },
           "name": "Utilities & Construction",
           "orientation": "h",
           "showlegend": true,
           "textposition": "auto",
           "type": "bar",
           "x": {
            "bdata": "Rz4bAA==",
            "dtype": "i4"
           },
           "xaxis": "x",
           "y": [
            "Utilities & Construction"
           ],
           "yaxis": "y"
          }
         ],
         "name": "2014"
        },
        {
         "data": [
          {
           "hovertemplate": "Group=%{y}<br>Year=2015<br>Value=%{x}<extra></extra>",
           "legendgroup": "Health, Education & Leisure",
           "marker": {
            "color": "#636efa",
            "pattern": {
             "shape": ""
            }
           },
           "name": "Health, Education & Leisure",
           "orientation": "h",
           "showlegend": true,
           "textposition": "auto",
           "type": "bar",
           "x": {
            "bdata": "LkZEAA==",
            "dtype": "i4"
           },
           "xaxis": "x",
           "y": [
            "Health, Education & Leisure"
           ],
           "yaxis": "y"
          },
          {
           "hovertemplate": "Group=%{y}<br>Year=2015<br>Value=%{x}<extra></extra>",
           "legendgroup": "Information & Finance",
           "marker": {
            "color": "#EF553B",
            "pattern": {
             "shape": ""
            }
           },
           "name": "Information & Finance",
           "orientation": "h",
           "showlegend": true,
           "textposition": "auto",
           "type": "bar",
           "x": {
            "bdata": "PfZyAA==",
            "dtype": "i4"
           },
           "xaxis": "x",
           "y": [
            "Information & Finance"
           ],
           "yaxis": "y"
          },
          {
           "hovertemplate": "Group=%{y}<br>Year=2015<br>Value=%{x}<extra></extra>",
           "legendgroup": "Manufacturing",
           "marker": {
            "color": "#00cc96",
            "pattern": {
             "shape": ""
            }
           },
           "name": "Manufacturing",
           "orientation": "h",
           "showlegend": true,
           "textposition": "auto",
           "type": "bar",
           "x": {
            "bdata": "MF1WAA==",
            "dtype": "i4"
           },
           "xaxis": "x",
           "y": [
            "Manufacturing"
           ],
           "yaxis": "y"
          },
          {
           "hovertemplate": "Group=%{y}<br>Year=2015<br>Value=%{x}<extra></extra>",
           "legendgroup": "Primary Industries",
           "marker": {
            "color": "#ab63fa",
            "pattern": {
             "shape": ""
            }
           },
           "name": "Primary Industries",
           "orientation": "h",
           "showlegend": true,
           "textposition": "auto",
           "type": "bar",
           "x": {
            "bdata": "UlUOAA==",
            "dtype": "i4"
           },
           "xaxis": "x",
           "y": [
            "Primary Industries"
           ],
           "yaxis": "y"
          },
          {
           "hovertemplate": "Group=%{y}<br>Year=2015<br>Value=%{x}<extra></extra>",
           "legendgroup": "Professional & Public Services",
           "marker": {
            "color": "#FFA15A",
            "pattern": {
             "shape": ""
            }
           },
           "name": "Professional & Public Services",
           "orientation": "h",
           "showlegend": true,
           "textposition": "auto",
           "type": "bar",
           "x": {
            "bdata": "yEp6AA==",
            "dtype": "i4"
           },
           "xaxis": "x",
           "y": [
            "Professional & Public Services"
           ],
           "yaxis": "y"
          },
          {
           "hovertemplate": "Group=%{y}<br>Year=2015<br>Value=%{x}<extra></extra>",
           "legendgroup": "Trade & Transportation",
           "marker": {
            "color": "#19d3f3",
            "pattern": {
             "shape": ""
            }
           },
           "name": "Trade & Transportation",
           "orientation": "h",
           "showlegend": true,
           "textposition": "auto",
           "type": "bar",
           "x": {
            "bdata": "ihZIAA==",
            "dtype": "i4"
           },
           "xaxis": "x",
           "y": [
            "Trade & Transportation"
           ],
           "yaxis": "y"
          },
          {
           "hovertemplate": "Group=%{y}<br>Year=2015<br>Value=%{x}<extra></extra>",
           "legendgroup": "Utilities & Construction",
           "marker": {
            "color": "#FF6692",
            "pattern": {
             "shape": ""
            }
           },
           "name": "Utilities & Construction",
           "orientation": "h",
           "showlegend": true,
           "textposition": "auto",
           "type": "bar",
           "x": {
            "bdata": "LM4cAA==",
            "dtype": "i4"
           },
           "xaxis": "x",
           "y": [
            "Utilities & Construction"
           ],
           "yaxis": "y"
          }
         ],
         "name": "2015"
        },
        {
         "data": [
          {
           "hovertemplate": "Group=%{y}<br>Year=2016<br>Value=%{x}<extra></extra>",
           "legendgroup": "Health, Education & Leisure",
           "marker": {
            "color": "#636efa",
            "pattern": {
             "shape": ""
            }
           },
           "name": "Health, Education & Leisure",
           "orientation": "h",
           "showlegend": true,
           "textposition": "auto",
           "type": "bar",
           "x": {
            "bdata": "AZJHAA==",
            "dtype": "i4"
           },
           "xaxis": "x",
           "y": [
            "Health, Education & Leisure"
           ],
           "yaxis": "y"
          },
          {
           "hovertemplate": "Group=%{y}<br>Year=2016<br>Value=%{x}<extra></extra>",
           "legendgroup": "Information & Finance",
           "marker": {
            "color": "#EF553B",
            "pattern": {
             "shape": ""
            }
           },
           "name": "Information & Finance",
           "orientation": "h",
           "showlegend": true,
           "textposition": "auto",
           "type": "bar",
           "x": {
            "bdata": "1ft3AA==",
            "dtype": "i4"
           },
           "xaxis": "x",
           "y": [
            "Information & Finance"
           ],
           "yaxis": "y"
          },
          {
           "hovertemplate": "Group=%{y}<br>Year=2016<br>Value=%{x}<extra></extra>",
           "legendgroup": "Manufacturing",
           "marker": {
            "color": "#00cc96",
            "pattern": {
             "shape": ""
            }
           },
           "name": "Manufacturing",
           "orientation": "h",
           "showlegend": true,
           "textposition": "auto",
           "type": "bar",
           "x": {
            "bdata": "dqxTAA==",
            "dtype": "i4"
           },
           "xaxis": "x",
           "y": [
            "Manufacturing"
           ],
           "yaxis": "y"
          },
          {
           "hovertemplate": "Group=%{y}<br>Year=2016<br>Value=%{x}<extra></extra>",
           "legendgroup": "Primary Industries",
           "marker": {
            "color": "#ab63fa",
            "pattern": {
             "shape": ""
            }
           },
           "name": "Primary Industries",
           "orientation": "h",
           "showlegend": true,
           "textposition": "auto",
           "type": "bar",
           "x": {
            "bdata": "pi8MAA==",
            "dtype": "i4"
           },
           "xaxis": "x",
           "y": [
            "Primary Industries"
           ],
           "yaxis": "y"
          },
          {
           "hovertemplate": "Group=%{y}<br>Year=2016<br>Value=%{x}<extra></extra>",
           "legendgroup": "Professional & Public Services",
           "marker": {
            "color": "#FFA15A",
            "pattern": {
             "shape": ""
            }
           },
           "name": "Professional & Public Services",
           "orientation": "h",
           "showlegend": true,
           "textposition": "auto",
           "type": "bar",
           "x": {
            "bdata": "ARl+AA==",
            "dtype": "i4"
           },
           "xaxis": "x",
           "y": [
            "Professional & Public Services"
           ],
           "yaxis": "y"
          },
          {
           "hovertemplate": "Group=%{y}<br>Year=2016<br>Value=%{x}<extra></extra>",
           "legendgroup": "Trade & Transportation",
           "marker": {
            "color": "#19d3f3",
            "pattern": {
             "shape": ""
            }
           },
           "name": "Trade & Transportation",
           "orientation": "h",
           "showlegend": true,
           "textposition": "auto",
           "type": "bar",
           "x": {
            "bdata": "r7tJAA==",
            "dtype": "i4"
           },
           "xaxis": "x",
           "y": [
            "Trade & Transportation"
           ],
           "yaxis": "y"
          },
          {
           "hovertemplate": "Group=%{y}<br>Year=2016<br>Value=%{x}<extra></extra>",
           "legendgroup": "Utilities & Construction",
           "marker": {
            "color": "#FF6692",
            "pattern": {
             "shape": ""
            }
           },
           "name": "Utilities & Construction",
           "orientation": "h",
           "showlegend": true,
           "textposition": "auto",
           "type": "bar",
           "x": {
            "bdata": "3TIeAA==",
            "dtype": "i4"
           },
           "xaxis": "x",
           "y": [
            "Utilities & Construction"
           ],
           "yaxis": "y"
          }
         ],
         "name": "2016"
        },
        {
         "data": [
          {
           "hovertemplate": "Group=%{y}<br>Year=2017<br>Value=%{x}<extra></extra>",
           "legendgroup": "Health, Education & Leisure",
           "marker": {
            "color": "#636efa",
            "pattern": {
             "shape": ""
            }
           },
           "name": "Health, Education & Leisure",
           "orientation": "h",
           "showlegend": true,
           "textposition": "auto",
           "type": "bar",
           "x": {
            "bdata": "qdxKAA==",
            "dtype": "i4"
           },
           "xaxis": "x",
           "y": [
            "Health, Education & Leisure"
           ],
           "yaxis": "y"
          },
          {
           "hovertemplate": "Group=%{y}<br>Year=2017<br>Value=%{x}<extra></extra>",
           "legendgroup": "Information & Finance",
           "marker": {
            "color": "#EF553B",
            "pattern": {
             "shape": ""
            }
           },
           "name": "Information & Finance",
           "orientation": "h",
           "showlegend": true,
           "textposition": "auto",
           "type": "bar",
           "x": {
            "bdata": "O2d9AA==",
            "dtype": "i4"
           },
           "xaxis": "x",
           "y": [
            "Information & Finance"
           ],
           "yaxis": "y"
          },
          {
           "hovertemplate": "Group=%{y}<br>Year=2017<br>Value=%{x}<extra></extra>",
           "legendgroup": "Manufacturing",
           "marker": {
            "color": "#00cc96",
            "pattern": {
             "shape": ""
            }
           },
           "name": "Manufacturing",
           "orientation": "h",
           "showlegend": true,
           "textposition": "auto",
           "type": "bar",
           "x": {
            "bdata": "N55WAA==",
            "dtype": "i4"
           },
           "xaxis": "x",
           "y": [
            "Manufacturing"
           ],
           "yaxis": "y"
          },
          {
           "hovertemplate": "Group=%{y}<br>Year=2017<br>Value=%{x}<extra></extra>",
           "legendgroup": "Primary Industries",
           "marker": {
            "color": "#ab63fa",
            "pattern": {
             "shape": ""
            }
           },
           "name": "Primary Industries",
           "orientation": "h",
           "showlegend": true,
           "textposition": "auto",
           "type": "bar",
           "x": {
            "bdata": "RukNAA==",
            "dtype": "i4"
           },
           "xaxis": "x",
           "y": [
            "Primary Industries"
           ],
           "yaxis": "y"
          },
          {
           "hovertemplate": "Group=%{y}<br>Year=2017<br>Value=%{x}<extra></extra>",
           "legendgroup": "Professional & Public Services",
           "marker": {
            "color": "#FFA15A",
            "pattern": {
             "shape": ""
            }
           },
           "name": "Professional & Public Services",
           "orientation": "h",
           "showlegend": true,
           "textposition": "auto",
           "type": "bar",
           "x": {
            "bdata": "o02DAA==",
            "dtype": "i4"
           },
           "xaxis": "x",
           "y": [
            "Professional & Public Services"
           ],
           "yaxis": "y"
          },
          {
           "hovertemplate": "Group=%{y}<br>Year=2017<br>Value=%{x}<extra></extra>",
           "legendgroup": "Trade & Transportation",
           "marker": {
            "color": "#19d3f3",
            "pattern": {
             "shape": ""
            }
           },
           "name": "Trade & Transportation",
           "orientation": "h",
           "showlegend": true,
           "textposition": "auto",
           "type": "bar",
           "x": {
            "bdata": "Nj5OAA==",
            "dtype": "i4"
           },
           "xaxis": "x",
           "y": [
            "Trade & Transportation"
           ],
           "yaxis": "y"
          },
          {
           "hovertemplate": "Group=%{y}<br>Year=2017<br>Value=%{x}<extra></extra>",
           "legendgroup": "Utilities & Construction",
           "marker": {
            "color": "#FF6692",
            "pattern": {
             "shape": ""
            }
           },
           "name": "Utilities & Construction",
           "orientation": "h",
           "showlegend": true,
           "textposition": "auto",
           "type": "bar",
           "x": {
            "bdata": "9U8fAA==",
            "dtype": "i4"
           },
           "xaxis": "x",
           "y": [
            "Utilities & Construction"
           ],
           "yaxis": "y"
          }
         ],
         "name": "2017"
        },
        {
         "data": [
          {
           "hovertemplate": "Group=%{y}<br>Year=2018<br>Value=%{x}<extra></extra>",
           "legendgroup": "Health, Education & Leisure",
           "marker": {
            "color": "#636efa",
            "pattern": {
             "shape": ""
            }
           },
           "name": "Health, Education & Leisure",
           "orientation": "h",
           "showlegend": true,
           "textposition": "auto",
           "type": "bar",
           "x": {
            "bdata": "QTZOAA==",
            "dtype": "i4"
           },
           "xaxis": "x",
           "y": [
            "Health, Education & Leisure"
           ],
           "yaxis": "y"
          },
          {
           "hovertemplate": "Group=%{y}<br>Year=2018<br>Value=%{x}<extra></extra>",
           "legendgroup": "Information & Finance",
           "marker": {
            "color": "#EF553B",
            "pattern": {
             "shape": ""
            }
           },
           "name": "Information & Finance",
           "orientation": "h",
           "showlegend": true,
           "textposition": "auto",
           "type": "bar",
           "x": {
            "bdata": "lgiEAA==",
            "dtype": "i4"
           },
           "xaxis": "x",
           "y": [
            "Information & Finance"
           ],
           "yaxis": "y"
          },
          {
           "hovertemplate": "Group=%{y}<br>Year=2018<br>Value=%{x}<extra></extra>",
           "legendgroup": "Manufacturing",
           "marker": {
            "color": "#00cc96",
            "pattern": {
             "shape": ""
            }
           },
           "name": "Manufacturing",
           "orientation": "h",
           "showlegend": true,
           "textposition": "auto",
           "type": "bar",
           "x": {
            "bdata": "KzdcAA==",
            "dtype": "i4"
           },
           "xaxis": "x",
           "y": [
            "Manufacturing"
           ],
           "yaxis": "y"
          },
          {
           "hovertemplate": "Group=%{y}<br>Year=2018<br>Value=%{x}<extra></extra>",
           "legendgroup": "Primary Industries",
           "marker": {
            "color": "#ab63fa",
            "pattern": {
             "shape": ""
            }
           },
           "name": "Primary Industries",
           "orientation": "h",
           "showlegend": true,
           "textposition": "auto",
           "type": "bar",
           "x": {
            "bdata": "4cUPAA==",
            "dtype": "i4"
           },
           "xaxis": "x",
           "y": [
            "Primary Industries"
           ],
           "yaxis": "y"
          },
          {
           "hovertemplate": "Group=%{y}<br>Year=2018<br>Value=%{x}<extra></extra>",
           "legendgroup": "Professional & Public Services",
           "marker": {
            "color": "#FFA15A",
            "pattern": {
             "shape": ""
            }
           },
           "name": "Professional & Public Services",
           "orientation": "h",
           "showlegend": true,
           "textposition": "auto",
           "type": "bar",
           "x": {
            "bdata": "iAGLAA==",
            "dtype": "i4"
           },
           "xaxis": "x",
           "y": [
            "Professional & Public Services"
           ],
           "yaxis": "y"
          },
          {
           "hovertemplate": "Group=%{y}<br>Year=2018<br>Value=%{x}<extra></extra>",
           "legendgroup": "Trade & Transportation",
           "marker": {
            "color": "#19d3f3",
            "pattern": {
             "shape": ""
            }
           },
           "name": "Trade & Transportation",
           "orientation": "h",
           "showlegend": true,
           "textposition": "auto",
           "type": "bar",
           "x": {
            "bdata": "riJTAA==",
            "dtype": "i4"
           },
           "xaxis": "x",
           "y": [
            "Trade & Transportation"
           ],
           "yaxis": "y"
          },
          {
           "hovertemplate": "Group=%{y}<br>Year=2018<br>Value=%{x}<extra></extra>",
           "legendgroup": "Utilities & Construction",
           "marker": {
            "color": "#FF6692",
            "pattern": {
             "shape": ""
            }
           },
           "name": "Utilities & Construction",
           "orientation": "h",
           "showlegend": true,
           "textposition": "auto",
           "type": "bar",
           "x": {
            "bdata": "rzkhAA==",
            "dtype": "i4"
           },
           "xaxis": "x",
           "y": [
            "Utilities & Construction"
           ],
           "yaxis": "y"
          }
         ],
         "name": "2018"
        },
        {
         "data": [
          {
           "hovertemplate": "Group=%{y}<br>Year=2019<br>Value=%{x}<extra></extra>",
           "legendgroup": "Health, Education & Leisure",
           "marker": {
            "color": "#636efa",
            "pattern": {
             "shape": ""
            }
           },
           "name": "Health, Education & Leisure",
           "orientation": "h",
           "showlegend": true,
           "textposition": "auto",
           "type": "bar",
           "x": {
            "bdata": "+wJSAA==",
            "dtype": "i4"
           },
           "xaxis": "x",
           "y": [
            "Health, Education & Leisure"
           ],
           "yaxis": "y"
          },
          {
           "hovertemplate": "Group=%{y}<br>Year=2019<br>Value=%{x}<extra></extra>",
           "legendgroup": "Information & Finance",
           "marker": {
            "color": "#EF553B",
            "pattern": {
             "shape": ""
            }
           },
           "name": "Information & Finance",
           "orientation": "h",
           "showlegend": true,
           "textposition": "auto",
           "type": "bar",
           "x": {
            "bdata": "CL2JAA==",
            "dtype": "i4"
           },
           "xaxis": "x",
           "y": [
            "Information & Finance"
           ],
           "yaxis": "y"
          },
          {
           "hovertemplate": "Group=%{y}<br>Year=2019<br>Value=%{x}<extra></extra>",
           "legendgroup": "Manufacturing",
           "marker": {
            "color": "#00cc96",
            "pattern": {
             "shape": ""
            }
           },
           "name": "Manufacturing",
           "orientation": "h",
           "showlegend": true,
           "textposition": "auto",
           "type": "bar",
           "x": {
            "bdata": "k6haAA==",
            "dtype": "i4"
           },
           "xaxis": "x",
           "y": [
            "Manufacturing"
           ],
           "yaxis": "y"
          },
          {
           "hovertemplate": "Group=%{y}<br>Year=2019<br>Value=%{x}<extra></extra>",
           "legendgroup": "Primary Industries",
           "marker": {
            "color": "#ab63fa",
            "pattern": {
             "shape": ""
            }
           },
           "name": "Primary Industries",
           "orientation": "h",
           "showlegend": true,
           "textposition": "auto",
           "type": "bar",
           "x": {
            "bdata": "rTUPAA==",
            "dtype": "i4"
           },
           "xaxis": "x",
           "y": [
            "Primary Industries"
           ],
           "yaxis": "y"
          },
          {
           "hovertemplate": "Group=%{y}<br>Year=2019<br>Value=%{x}<extra></extra>",
           "legendgroup": "Professional & Public Services",
           "marker": {
            "color": "#FFA15A",
            "pattern": {
             "shape": ""
            }
           },
           "name": "Professional & Public Services",
           "orientation": "h",
           "showlegend": true,
           "textposition": "auto",
           "type": "bar",
           "x": {
            "bdata": "hF+SAA==",
            "dtype": "i4"
           },
           "xaxis": "x",
           "y": [
            "Professional & Public Services"
           ],
           "yaxis": "y"
          },
          {
           "hovertemplate": "Group=%{y}<br>Year=2019<br>Value=%{x}<extra></extra>",
           "legendgroup": "Trade & Transportation",
           "marker": {
            "color": "#19d3f3",
            "pattern": {
             "shape": ""
            }
           },
           "name": "Trade & Transportation",
           "orientation": "h",
           "showlegend": true,
           "textposition": "auto",
           "type": "bar",
           "x": {
            "bdata": "ArxVAA==",
            "dtype": "i4"
           },
           "xaxis": "x",
           "y": [
            "Trade & Transportation"
           ],
           "yaxis": "y"
          },
          {
           "hovertemplate": "Group=%{y}<br>Year=2019<br>Value=%{x}<extra></extra>",
           "legendgroup": "Utilities & Construction",
           "marker": {
            "color": "#FF6692",
            "pattern": {
             "shape": ""
            }
           },
           "name": "Utilities & Construction",
           "orientation": "h",
           "showlegend": true,
           "textposition": "auto",
           "type": "bar",
           "x": {
            "bdata": "lVUiAA==",
            "dtype": "i4"
           },
           "xaxis": "x",
           "y": [
            "Utilities & Construction"
           ],
           "yaxis": "y"
          }
         ],
         "name": "2019"
        },
        {
         "data": [
          {
           "hovertemplate": "Group=%{y}<br>Year=2020<br>Value=%{x}<extra></extra>",
           "legendgroup": "Health, Education & Leisure",
           "marker": {
            "color": "#636efa",
            "pattern": {
             "shape": ""
            }
           },
           "name": "Health, Education & Leisure",
           "orientation": "h",
           "showlegend": true,
           "textposition": "auto",
           "type": "bar",
           "x": {
            "bdata": "CU9KAA==",
            "dtype": "i4"
           },
           "xaxis": "x",
           "y": [
            "Health, Education & Leisure"
           ],
           "yaxis": "y"
          },
          {
           "hovertemplate": "Group=%{y}<br>Year=2020<br>Value=%{x}<extra></extra>",
           "legendgroup": "Information & Finance",
           "marker": {
            "color": "#EF553B",
            "pattern": {
             "shape": ""
            }
           },
           "name": "Information & Finance",
           "orientation": "h",
           "showlegend": true,
           "textposition": "auto",
           "type": "bar",
           "x": {
            "bdata": "2AiOAA==",
            "dtype": "i4"
           },
           "xaxis": "x",
           "y": [
            "Information & Finance"
           ],
           "yaxis": "y"
          },
          {
           "hovertemplate": "Group=%{y}<br>Year=2020<br>Value=%{x}<extra></extra>",
           "legendgroup": "Manufacturing",
           "marker": {
            "color": "#00cc96",
            "pattern": {
             "shape": ""
            }
           },
           "name": "Manufacturing",
           "orientation": "h",
           "showlegend": true,
           "textposition": "auto",
           "type": "bar",
           "x": {
            "bdata": "15BSAA==",
            "dtype": "i4"
           },
           "xaxis": "x",
           "y": [
            "Manufacturing"
           ],
           "yaxis": "y"
          },
          {
           "hovertemplate": "Group=%{y}<br>Year=2020<br>Value=%{x}<extra></extra>",
           "legendgroup": "Primary Industries",
           "marker": {
            "color": "#ab63fa",
            "pattern": {
             "shape": ""
            }
           },
           "name": "Primary Industries",
           "orientation": "h",
           "showlegend": true,
           "textposition": "auto",
           "type": "bar",
           "x": {
            "bdata": "jaYMAA==",
            "dtype": "i4"
           },
           "xaxis": "x",
           "y": [
            "Primary Industries"
           ],
           "yaxis": "y"
          },
          {
           "hovertemplate": "Group=%{y}<br>Year=2020<br>Value=%{x}<extra></extra>",
           "legendgroup": "Professional & Public Services",
           "marker": {
            "color": "#FFA15A",
            "pattern": {
             "shape": ""
            }
           },
           "name": "Professional & Public Services",
           "orientation": "h",
           "showlegend": true,
           "textposition": "auto",
           "type": "bar",
           "x": {
            "bdata": "5YKVAA==",
            "dtype": "i4"
           },
           "xaxis": "x",
           "y": [
            "Professional & Public Services"
           ],
           "yaxis": "y"
          },
          {
           "hovertemplate": "Group=%{y}<br>Year=2020<br>Value=%{x}<extra></extra>",
           "legendgroup": "Trade & Transportation",
           "marker": {
            "color": "#19d3f3",
            "pattern": {
             "shape": ""
            }
           },
           "name": "Trade & Transportation",
           "orientation": "h",
           "showlegend": true,
           "textposition": "auto",
           "type": "bar",
           "x": {
            "bdata": "rYpSAA==",
            "dtype": "i4"
           },
           "xaxis": "x",
           "y": [
            "Trade & Transportation"
           ],
           "yaxis": "y"
          },
          {
           "hovertemplate": "Group=%{y}<br>Year=2020<br>Value=%{x}<extra></extra>",
           "legendgroup": "Utilities & Construction",
           "marker": {
            "color": "#FF6692",
            "pattern": {
             "shape": ""
            }
           },
           "name": "Utilities & Construction",
           "orientation": "h",
           "showlegend": true,
           "textposition": "auto",
           "type": "bar",
           "x": {
            "bdata": "QCkjAA==",
            "dtype": "i4"
           },
           "xaxis": "x",
           "y": [
            "Utilities & Construction"
           ],
           "yaxis": "y"
          }
         ],
         "name": "2020"
        },
        {
         "data": [
          {
           "hovertemplate": "Group=%{y}<br>Year=2021<br>Value=%{x}<extra></extra>",
           "legendgroup": "Health, Education & Leisure",
           "marker": {
            "color": "#636efa",
            "pattern": {
             "shape": ""
            }
           },
           "name": "Health, Education & Leisure",
           "orientation": "h",
           "showlegend": true,
           "textposition": "auto",
           "type": "bar",
           "x": {
            "bdata": "QCNWAA==",
            "dtype": "i4"
           },
           "xaxis": "x",
           "y": [
            "Health, Education & Leisure"
           ],
           "yaxis": "y"
          },
          {
           "hovertemplate": "Group=%{y}<br>Year=2021<br>Value=%{x}<extra></extra>",
           "legendgroup": "Information & Finance",
           "marker": {
            "color": "#EF553B",
            "pattern": {
             "shape": ""
            }
           },
           "name": "Information & Finance",
           "orientation": "h",
           "showlegend": true,
           "textposition": "auto",
           "type": "bar",
           "x": {
            "bdata": "te2cAA==",
            "dtype": "i4"
           },
           "xaxis": "x",
           "y": [
            "Information & Finance"
           ],
           "yaxis": "y"
          },
          {
           "hovertemplate": "Group=%{y}<br>Year=2021<br>Value=%{x}<extra></extra>",
           "legendgroup": "Manufacturing",
           "marker": {
            "color": "#00cc96",
            "pattern": {
             "shape": ""
            }
           },
           "name": "Manufacturing",
           "orientation": "h",
           "showlegend": true,
           "textposition": "auto",
           "type": "bar",
           "x": {
            "bdata": "ZvNfAA==",
            "dtype": "i4"
           },
           "xaxis": "x",
           "y": [
            "Manufacturing"
           ],
           "yaxis": "y"
          },
          {
           "hovertemplate": "Group=%{y}<br>Year=2021<br>Value=%{x}<extra></extra>",
           "legendgroup": "Primary Industries",
           "marker": {
            "color": "#ab63fa",
            "pattern": {
             "shape": ""
            }
           },
           "name": "Primary Industries",
           "orientation": "h",
           "showlegend": true,
           "textposition": "auto",
           "type": "bar",
           "x": {
            "bdata": "Wm4RAA==",
            "dtype": "i4"
           },
           "xaxis": "x",
           "y": [
            "Primary Industries"
           ],
           "yaxis": "y"
          },
          {
           "hovertemplate": "Group=%{y}<br>Year=2021<br>Value=%{x}<extra></extra>",
           "legendgroup": "Professional & Public Services",
           "marker": {
            "color": "#FFA15A",
            "pattern": {
             "shape": ""
            }
           },
           "name": "Professional & Public Services",
           "orientation": "h",
           "showlegend": true,
           "textposition": "auto",
           "type": "bar",
           "x": {
            "bdata": "ueSiAA==",
            "dtype": "i4"
           },
           "xaxis": "x",
           "y": [
            "Professional & Public Services"
           ],
           "yaxis": "y"
          },
          {
           "hovertemplate": "Group=%{y}<br>Year=2021<br>Value=%{x}<extra></extra>",
           "legendgroup": "Trade & Transportation",
           "marker": {
            "color": "#19d3f3",
            "pattern": {
             "shape": ""
            }
           },
           "name": "Trade & Transportation",
           "orientation": "h",
           "showlegend": true,
           "textposition": "auto",
           "type": "bar",
           "x": {
            "bdata": "QRBjAA==",
            "dtype": "i4"
           },
           "xaxis": "x",
           "y": [
            "Trade & Transportation"
           ],
           "yaxis": "y"
          },
          {
           "hovertemplate": "Group=%{y}<br>Year=2021<br>Value=%{x}<extra></extra>",
           "legendgroup": "Utilities & Construction",
           "marker": {
            "color": "#FF6692",
            "pattern": {
             "shape": ""
            }
           },
           "name": "Utilities & Construction",
           "orientation": "h",
           "showlegend": true,
           "textposition": "auto",
           "type": "bar",
           "x": {
            "bdata": "K28nAA==",
            "dtype": "i4"
           },
           "xaxis": "x",
           "y": [
            "Utilities & Construction"
           ],
           "yaxis": "y"
          }
         ],
         "name": "2021"
        },
        {
         "data": [
          {
           "hovertemplate": "Group=%{y}<br>Year=2022<br>Value=%{x}<extra></extra>",
           "legendgroup": "Health, Education & Leisure",
           "marker": {
            "color": "#636efa",
            "pattern": {
             "shape": ""
            }
           },
           "name": "Health, Education & Leisure",
           "orientation": "h",
           "showlegend": true,
           "textposition": "auto",
           "type": "bar",
           "x": {
            "bdata": "SzxhAA==",
            "dtype": "i4"
           },
           "xaxis": "x",
           "y": [
            "Health, Education & Leisure"
           ],
           "yaxis": "y"
          },
          {
           "hovertemplate": "Group=%{y}<br>Year=2022<br>Value=%{x}<extra></extra>",
           "legendgroup": "Information & Finance",
           "marker": {
            "color": "#EF553B",
            "pattern": {
             "shape": ""
            }
           },
           "name": "Information & Finance",
           "orientation": "h",
           "showlegend": true,
           "textposition": "auto",
           "type": "bar",
           "x": {
            "bdata": "//2oAA==",
            "dtype": "i4"
           },
           "xaxis": "x",
           "y": [
            "Information & Finance"
           ],
           "yaxis": "y"
          },
          {
           "hovertemplate": "Group=%{y}<br>Year=2022<br>Value=%{x}<extra></extra>",
           "legendgroup": "Manufacturing",
           "marker": {
            "color": "#00cc96",
            "pattern": {
             "shape": ""
            }
           },
           "name": "Manufacturing",
           "orientation": "h",
           "showlegend": true,
           "textposition": "auto",
           "type": "bar",
           "x": {
            "bdata": "dkdtAA==",
            "dtype": "i4"
           },
           "xaxis": "x",
           "y": [
            "Manufacturing"
           ],
           "yaxis": "y"
          },
          {
           "hovertemplate": "Group=%{y}<br>Year=2022<br>Value=%{x}<extra></extra>",
           "legendgroup": "Primary Industries",
           "marker": {
            "color": "#ab63fa",
            "pattern": {
             "shape": ""
            }
           },
           "name": "Primary Industries",
           "orientation": "h",
           "showlegend": true,
           "textposition": "auto",
           "type": "bar",
           "x": {
            "bdata": "cR8XAA==",
            "dtype": "i4"
           },
           "xaxis": "x",
           "y": [
            "Primary Industries"
           ],
           "yaxis": "y"
          },
          {
           "hovertemplate": "Group=%{y}<br>Year=2022<br>Value=%{x}<extra></extra>",
           "legendgroup": "Professional & Public Services",
           "marker": {
            "color": "#FFA15A",
            "pattern": {
             "shape": ""
            }
           },
           "name": "Professional & Public Services",
           "orientation": "h",
           "showlegend": true,
           "textposition": "auto",
           "type": "bar",
           "x": {
            "bdata": "ubqwAA==",
            "dtype": "i4"
           },
           "xaxis": "x",
           "y": [
            "Professional & Public Services"
           ],
           "yaxis": "y"
          },
          {
           "hovertemplate": "Group=%{y}<br>Year=2022<br>Value=%{x}<extra></extra>",
           "legendgroup": "Trade & Transportation",
           "marker": {
            "color": "#19d3f3",
            "pattern": {
             "shape": ""
            }
           },
           "name": "Trade & Transportation",
           "orientation": "h",
           "showlegend": true,
           "textposition": "auto",
           "type": "bar",
           "x": {
            "bdata": "OI5wAA==",
            "dtype": "i4"
           },
           "xaxis": "x",
           "y": [
            "Trade & Transportation"
           ],
           "yaxis": "y"
          },
          {
           "hovertemplate": "Group=%{y}<br>Year=2022<br>Value=%{x}<extra></extra>",
           "legendgroup": "Utilities & Construction",
           "marker": {
            "color": "#FF6692",
            "pattern": {
             "shape": ""
            }
           },
           "name": "Utilities & Construction",
           "orientation": "h",
           "showlegend": true,
           "textposition": "auto",
           "type": "bar",
           "x": {
            "bdata": "0CcsAA==",
            "dtype": "i4"
           },
           "xaxis": "x",
           "y": [
            "Utilities & Construction"
           ],
           "yaxis": "y"
          }
         ],
         "name": "2022"
        },
        {
         "data": [
          {
           "hovertemplate": "Group=%{y}<br>Year=2023<br>Value=%{x}<extra></extra>",
           "legendgroup": "Health, Education & Leisure",
           "marker": {
            "color": "#636efa",
            "pattern": {
             "shape": ""
            }
           },
           "name": "Health, Education & Leisure",
           "orientation": "h",
           "showlegend": true,
           "textposition": "auto",
           "type": "bar",
           "x": {
            "bdata": "u0pqAA==",
            "dtype": "i4"
           },
           "xaxis": "x",
           "y": [
            "Health, Education & Leisure"
           ],
           "yaxis": "y"
          },
          {
           "hovertemplate": "Group=%{y}<br>Year=2023<br>Value=%{x}<extra></extra>",
           "legendgroup": "Information & Finance",
           "marker": {
            "color": "#EF553B",
            "pattern": {
             "shape": ""
            }
           },
           "name": "Information & Finance",
           "orientation": "h",
           "showlegend": true,
           "textposition": "auto",
           "type": "bar",
           "x": {
            "bdata": "oeG0AA==",
            "dtype": "i4"
           },
           "xaxis": "x",
           "y": [
            "Information & Finance"
           ],
           "yaxis": "y"
          },
          {
           "hovertemplate": "Group=%{y}<br>Year=2023<br>Value=%{x}<extra></extra>",
           "legendgroup": "Manufacturing",
           "marker": {
            "color": "#00cc96",
            "pattern": {
             "shape": ""
            }
           },
           "name": "Manufacturing",
           "orientation": "h",
           "showlegend": true,
           "textposition": "auto",
           "type": "bar",
           "x": {
            "bdata": "wwduAA==",
            "dtype": "i4"
           },
           "xaxis": "x",
           "y": [
            "Manufacturing"
           ],
           "yaxis": "y"
          },
          {
           "hovertemplate": "Group=%{y}<br>Year=2023<br>Value=%{x}<extra></extra>",
           "legendgroup": "Primary Industries",
           "marker": {
            "color": "#ab63fa",
            "pattern": {
             "shape": ""
            }
           },
           "name": "Primary Industries",
           "orientation": "h",
           "showlegend": true,
           "textposition": "auto",
           "type": "bar",
           "x": {
            "bdata": "23YUAA==",
            "dtype": "i4"
           },
           "xaxis": "x",
           "y": [
            "Primary Industries"
           ],
           "yaxis": "y"
          },
          {
           "hovertemplate": "Group=%{y}<br>Year=2023<br>Value=%{x}<extra></extra>",
           "legendgroup": "Professional & Public Services",
           "marker": {
            "color": "#FFA15A",
            "pattern": {
             "shape": ""
            }
           },
           "name": "Professional & Public Services",
           "orientation": "h",
           "showlegend": true,
           "textposition": "auto",
           "type": "bar",
           "x": {
            "bdata": "boq4AA==",
            "dtype": "i4"
           },
           "xaxis": "x",
           "y": [
            "Professional & Public Services"
           ],
           "yaxis": "y"
          },
          {
           "hovertemplate": "Group=%{y}<br>Year=2023<br>Value=%{x}<extra></extra>",
           "legendgroup": "Trade & Transportation",
           "marker": {
            "color": "#19d3f3",
            "pattern": {
             "shape": ""
            }
           },
           "name": "Trade & Transportation",
           "orientation": "h",
           "showlegend": true,
           "textposition": "auto",
           "type": "bar",
           "x": {
            "bdata": "dF5wAA==",
            "dtype": "i4"
           },
           "xaxis": "x",
           "y": [
            "Trade & Transportation"
           ],
           "yaxis": "y"
          },
          {
           "hovertemplate": "Group=%{y}<br>Year=2023<br>Value=%{x}<extra></extra>",
           "legendgroup": "Utilities & Construction",
           "marker": {
            "color": "#FF6692",
            "pattern": {
             "shape": ""
            }
           },
           "name": "Utilities & Construction",
           "orientation": "h",
           "showlegend": true,
           "textposition": "auto",
           "type": "bar",
           "x": {
            "bdata": "s2ktAA==",
            "dtype": "i4"
           },
           "xaxis": "x",
           "y": [
            "Utilities & Construction"
           ],
           "yaxis": "y"
          }
         ],
         "name": "2023"
        }
       ],
       "layout": {
        "barmode": "relative",
        "legend": {
         "title": {
          "text": "Group"
         },
         "tracegroupgap": 0
        },
        "margin": {
         "b": 40,
         "l": 100,
         "r": 40,
         "t": 40
        },
        "showlegend": false,
        "sliders": [
         {
          "active": 0,
          "currentvalue": {
           "prefix": "Year="
          },
          "len": 0.9,
          "pad": {
           "b": 10,
           "t": 60
          },
          "steps": [
           {
            "args": [
             [
              "1997"
             ],
             {
              "frame": {
               "duration": 0,
               "redraw": true
              },
              "fromcurrent": true,
              "mode": "immediate",
              "transition": {
               "duration": 0,
               "easing": "linear"
              }
             }
            ],
            "label": "1997",
            "method": "animate"
           },
           {
            "args": [
             [
              "1998"
             ],
             {
              "frame": {
               "duration": 0,
               "redraw": true
              },
              "fromcurrent": true,
              "mode": "immediate",
              "transition": {
               "duration": 0,
               "easing": "linear"
              }
             }
            ],
            "label": "1998",
            "method": "animate"
           },
           {
            "args": [
             [
              "1999"
             ],
             {
              "frame": {
               "duration": 0,
               "redraw": true
              },
              "fromcurrent": true,
              "mode": "immediate",
              "transition": {
               "duration": 0,
               "easing": "linear"
              }
             }
            ],
            "label": "1999",
            "method": "animate"
           },
           {
            "args": [
             [
              "2000"
             ],
             {
              "frame": {
               "duration": 0,
               "redraw": true
              },
              "fromcurrent": true,
              "mode": "immediate",
              "transition": {
               "duration": 0,
               "easing": "linear"
              }
             }
            ],
            "label": "2000",
            "method": "animate"
           },
           {
            "args": [
             [
              "2001"
             ],
             {
              "frame": {
               "duration": 0,
               "redraw": true
              },
              "fromcurrent": true,
              "mode": "immediate",
              "transition": {
               "duration": 0,
               "easing": "linear"
              }
             }
            ],
            "label": "2001",
            "method": "animate"
           },
           {
            "args": [
             [
              "2002"
             ],
             {
              "frame": {
               "duration": 0,
               "redraw": true
              },
              "fromcurrent": true,
              "mode": "immediate",
              "transition": {
               "duration": 0,
               "easing": "linear"
              }
             }
            ],
            "label": "2002",
            "method": "animate"
           },
           {
            "args": [
             [
              "2003"
             ],
             {
              "frame": {
               "duration": 0,
               "redraw": true
              },
              "fromcurrent": true,
              "mode": "immediate",
              "transition": {
               "duration": 0,
               "easing": "linear"
              }
             }
            ],
            "label": "2003",
            "method": "animate"
           },
           {
            "args": [
             [
              "2004"
             ],
             {
              "frame": {
               "duration": 0,
               "redraw": true
              },
              "fromcurrent": true,
              "mode": "immediate",
              "transition": {
               "duration": 0,
               "easing": "linear"
              }
             }
            ],
            "label": "2004",
            "method": "animate"
           },
           {
            "args": [
             [
              "2005"
             ],
             {
              "frame": {
               "duration": 0,
               "redraw": true
              },
              "fromcurrent": true,
              "mode": "immediate",
              "transition": {
               "duration": 0,
               "easing": "linear"
              }
             }
            ],
            "label": "2005",
            "method": "animate"
           },
           {
            "args": [
             [
              "2006"
             ],
             {
              "frame": {
               "duration": 0,
               "redraw": true
              },
              "fromcurrent": true,
              "mode": "immediate",
              "transition": {
               "duration": 0,
               "easing": "linear"
              }
             }
            ],
            "label": "2006",
            "method": "animate"
           },
           {
            "args": [
             [
              "2007"
             ],
             {
              "frame": {
               "duration": 0,
               "redraw": true
              },
              "fromcurrent": true,
              "mode": "immediate",
              "transition": {
               "duration": 0,
               "easing": "linear"
              }
             }
            ],
            "label": "2007",
            "method": "animate"
           },
           {
            "args": [
             [
              "2008"
             ],
             {
              "frame": {
               "duration": 0,
               "redraw": true
              },
              "fromcurrent": true,
              "mode": "immediate",
              "transition": {
               "duration": 0,
               "easing": "linear"
              }
             }
            ],
            "label": "2008",
            "method": "animate"
           },
           {
            "args": [
             [
              "2009"
             ],
             {
              "frame": {
               "duration": 0,
               "redraw": true
              },
              "fromcurrent": true,
              "mode": "immediate",
              "transition": {
               "duration": 0,
               "easing": "linear"
              }
             }
            ],
            "label": "2009",
            "method": "animate"
           },
           {
            "args": [
             [
              "2010"
             ],
             {
              "frame": {
               "duration": 0,
               "redraw": true
              },
              "fromcurrent": true,
              "mode": "immediate",
              "transition": {
               "duration": 0,
               "easing": "linear"
              }
             }
            ],
            "label": "2010",
            "method": "animate"
           },
           {
            "args": [
             [
              "2011"
             ],
             {
              "frame": {
               "duration": 0,
               "redraw": true
              },
              "fromcurrent": true,
              "mode": "immediate",
              "transition": {
               "duration": 0,
               "easing": "linear"
              }
             }
            ],
            "label": "2011",
            "method": "animate"
           },
           {
            "args": [
             [
              "2012"
             ],
             {
              "frame": {
               "duration": 0,
               "redraw": true
              },
              "fromcurrent": true,
              "mode": "immediate",
              "transition": {
               "duration": 0,
               "easing": "linear"
              }
             }
            ],
            "label": "2012",
            "method": "animate"
           },
           {
            "args": [
             [
              "2013"
             ],
             {
              "frame": {
               "duration": 0,
               "redraw": true
              },
              "fromcurrent": true,
              "mode": "immediate",
              "transition": {
               "duration": 0,
               "easing": "linear"
              }
             }
            ],
            "label": "2013",
            "method": "animate"
           },
           {
            "args": [
             [
              "2014"
             ],
             {
              "frame": {
               "duration": 0,
               "redraw": true
              },
              "fromcurrent": true,
              "mode": "immediate",
              "transition": {
               "duration": 0,
               "easing": "linear"
              }
             }
            ],
            "label": "2014",
            "method": "animate"
           },
           {
            "args": [
             [
              "2015"
             ],
             {
              "frame": {
               "duration": 0,
               "redraw": true
              },
              "fromcurrent": true,
              "mode": "immediate",
              "transition": {
               "duration": 0,
               "easing": "linear"
              }
             }
            ],
            "label": "2015",
            "method": "animate"
           },
           {
            "args": [
             [
              "2016"
             ],
             {
              "frame": {
               "duration": 0,
               "redraw": true
              },
              "fromcurrent": true,
              "mode": "immediate",
              "transition": {
               "duration": 0,
               "easing": "linear"
              }
             }
            ],
            "label": "2016",
            "method": "animate"
           },
           {
            "args": [
             [
              "2017"
             ],
             {
              "frame": {
               "duration": 0,
               "redraw": true
              },
              "fromcurrent": true,
              "mode": "immediate",
              "transition": {
               "duration": 0,
               "easing": "linear"
              }
             }
            ],
            "label": "2017",
            "method": "animate"
           },
           {
            "args": [
             [
              "2018"
             ],
             {
              "frame": {
               "duration": 0,
               "redraw": true
              },
              "fromcurrent": true,
              "mode": "immediate",
              "transition": {
               "duration": 0,
               "easing": "linear"
              }
             }
            ],
            "label": "2018",
            "method": "animate"
           },
           {
            "args": [
             [
              "2019"
             ],
             {
              "frame": {
               "duration": 0,
               "redraw": true
              },
              "fromcurrent": true,
              "mode": "immediate",
              "transition": {
               "duration": 0,
               "easing": "linear"
              }
             }
            ],
            "label": "2019",
            "method": "animate"
           },
           {
            "args": [
             [
              "2020"
             ],
             {
              "frame": {
               "duration": 0,
               "redraw": true
              },
              "fromcurrent": true,
              "mode": "immediate",
              "transition": {
               "duration": 0,
               "easing": "linear"
              }
             }
            ],
            "label": "2020",
            "method": "animate"
           },
           {
            "args": [
             [
              "2021"
             ],
             {
              "frame": {
               "duration": 0,
               "redraw": true
              },
              "fromcurrent": true,
              "mode": "immediate",
              "transition": {
               "duration": 0,
               "easing": "linear"
              }
             }
            ],
            "label": "2021",
            "method": "animate"
           },
           {
            "args": [
             [
              "2022"
             ],
             {
              "frame": {
               "duration": 0,
               "redraw": true
              },
              "fromcurrent": true,
              "mode": "immediate",
              "transition": {
               "duration": 0,
               "easing": "linear"
              }
             }
            ],
            "label": "2022",
            "method": "animate"
           },
           {
            "args": [
             [
              "2023"
             ],
             {
              "frame": {
               "duration": 0,
               "redraw": true
              },
              "fromcurrent": true,
              "mode": "immediate",
              "transition": {
               "duration": 0,
               "easing": "linear"
              }
             }
            ],
            "label": "2023",
            "method": "animate"
           }
          ],
          "x": 0.1,
          "xanchor": "left",
          "y": 0,
          "yanchor": "top"
         }
        ],
        "template": {
         "data": {
          "bar": [
           {
            "error_x": {
             "color": "#2a3f5f"
            },
            "error_y": {
             "color": "#2a3f5f"
            },
            "marker": {
             "line": {
              "color": "#E5ECF6",
              "width": 0.5
             },
             "pattern": {
              "fillmode": "overlay",
              "size": 10,
              "solidity": 0.2
             }
            },
            "type": "bar"
           }
          ],
          "barpolar": [
           {
            "marker": {
             "line": {
              "color": "#E5ECF6",
              "width": 0.5
             },
             "pattern": {
              "fillmode": "overlay",
              "size": 10,
              "solidity": 0.2
             }
            },
            "type": "barpolar"
           }
          ],
          "carpet": [
           {
            "aaxis": {
             "endlinecolor": "#2a3f5f",
             "gridcolor": "white",
             "linecolor": "white",
             "minorgridcolor": "white",
             "startlinecolor": "#2a3f5f"
            },
            "baxis": {
             "endlinecolor": "#2a3f5f",
             "gridcolor": "white",
             "linecolor": "white",
             "minorgridcolor": "white",
             "startlinecolor": "#2a3f5f"
            },
            "type": "carpet"
           }
          ],
          "choropleth": [
           {
            "colorbar": {
             "outlinewidth": 0,
             "ticks": ""
            },
            "type": "choropleth"
           }
          ],
          "contour": [
           {
            "colorbar": {
             "outlinewidth": 0,
             "ticks": ""
            },
            "colorscale": [
             [
              0,
              "#0d0887"
             ],
             [
              0.1111111111111111,
              "#46039f"
             ],
             [
              0.2222222222222222,
              "#7201a8"
             ],
             [
              0.3333333333333333,
              "#9c179e"
             ],
             [
              0.4444444444444444,
              "#bd3786"
             ],
             [
              0.5555555555555556,
              "#d8576b"
             ],
             [
              0.6666666666666666,
              "#ed7953"
             ],
             [
              0.7777777777777778,
              "#fb9f3a"
             ],
             [
              0.8888888888888888,
              "#fdca26"
             ],
             [
              1,
              "#f0f921"
             ]
            ],
            "type": "contour"
           }
          ],
          "contourcarpet": [
           {
            "colorbar": {
             "outlinewidth": 0,
             "ticks": ""
            },
            "type": "contourcarpet"
           }
          ],
          "heatmap": [
           {
            "colorbar": {
             "outlinewidth": 0,
             "ticks": ""
            },
            "colorscale": [
             [
              0,
              "#0d0887"
             ],
             [
              0.1111111111111111,
              "#46039f"
             ],
             [
              0.2222222222222222,
              "#7201a8"
             ],
             [
              0.3333333333333333,
              "#9c179e"
             ],
             [
              0.4444444444444444,
              "#bd3786"
             ],
             [
              0.5555555555555556,
              "#d8576b"
             ],
             [
              0.6666666666666666,
              "#ed7953"
             ],
             [
              0.7777777777777778,
              "#fb9f3a"
             ],
             [
              0.8888888888888888,
              "#fdca26"
             ],
             [
              1,
              "#f0f921"
             ]
            ],
            "type": "heatmap"
           }
          ],
          "histogram": [
           {
            "marker": {
             "pattern": {
              "fillmode": "overlay",
              "size": 10,
              "solidity": 0.2
             }
            },
            "type": "histogram"
           }
          ],
          "histogram2d": [
           {
            "colorbar": {
             "outlinewidth": 0,
             "ticks": ""
            },
            "colorscale": [
             [
              0,
              "#0d0887"
             ],
             [
              0.1111111111111111,
              "#46039f"
             ],
             [
              0.2222222222222222,
              "#7201a8"
             ],
             [
              0.3333333333333333,
              "#9c179e"
             ],
             [
              0.4444444444444444,
              "#bd3786"
             ],
             [
              0.5555555555555556,
              "#d8576b"
             ],
             [
              0.6666666666666666,
              "#ed7953"
             ],
             [
              0.7777777777777778,
              "#fb9f3a"
             ],
             [
              0.8888888888888888,
              "#fdca26"
             ],
             [
              1,
              "#f0f921"
             ]
            ],
            "type": "histogram2d"
           }
          ],
          "histogram2dcontour": [
           {
            "colorbar": {
             "outlinewidth": 0,
             "ticks": ""
            },
            "colorscale": [
             [
              0,
              "#0d0887"
             ],
             [
              0.1111111111111111,
              "#46039f"
             ],
             [
              0.2222222222222222,
              "#7201a8"
             ],
             [
              0.3333333333333333,
              "#9c179e"
             ],
             [
              0.4444444444444444,
              "#bd3786"
             ],
             [
              0.5555555555555556,
              "#d8576b"
             ],
             [
              0.6666666666666666,
              "#ed7953"
             ],
             [
              0.7777777777777778,
              "#fb9f3a"
             ],
             [
              0.8888888888888888,
              "#fdca26"
             ],
             [
              1,
              "#f0f921"
             ]
            ],
            "type": "histogram2dcontour"
           }
          ],
          "mesh3d": [
           {
            "colorbar": {
             "outlinewidth": 0,
             "ticks": ""
            },
            "type": "mesh3d"
           }
          ],
          "parcoords": [
           {
            "line": {
             "colorbar": {
              "outlinewidth": 0,
              "ticks": ""
             }
            },
            "type": "parcoords"
           }
          ],
          "pie": [
           {
            "automargin": true,
            "type": "pie"
           }
          ],
          "scatter": [
           {
            "fillpattern": {
             "fillmode": "overlay",
             "size": 10,
             "solidity": 0.2
            },
            "type": "scatter"
           }
          ],
          "scatter3d": [
           {
            "line": {
             "colorbar": {
              "outlinewidth": 0,
              "ticks": ""
             }
            },
            "marker": {
             "colorbar": {
              "outlinewidth": 0,
              "ticks": ""
             }
            },
            "type": "scatter3d"
           }
          ],
          "scattercarpet": [
           {
            "marker": {
             "colorbar": {
              "outlinewidth": 0,
              "ticks": ""
             }
            },
            "type": "scattercarpet"
           }
          ],
          "scattergeo": [
           {
            "marker": {
             "colorbar": {
              "outlinewidth": 0,
              "ticks": ""
             }
            },
            "type": "scattergeo"
           }
          ],
          "scattergl": [
           {
            "marker": {
             "colorbar": {
              "outlinewidth": 0,
              "ticks": ""
             }
            },
            "type": "scattergl"
           }
          ],
          "scattermap": [
           {
            "marker": {
             "colorbar": {
              "outlinewidth": 0,
              "ticks": ""
             }
            },
            "type": "scattermap"
           }
          ],
          "scattermapbox": [
           {
            "marker": {
             "colorbar": {
              "outlinewidth": 0,
              "ticks": ""
             }
            },
            "type": "scattermapbox"
           }
          ],
          "scatterpolar": [
           {
            "marker": {
             "colorbar": {
              "outlinewidth": 0,
              "ticks": ""
             }
            },
            "type": "scatterpolar"
           }
          ],
          "scatterpolargl": [
           {
            "marker": {
             "colorbar": {
              "outlinewidth": 0,
              "ticks": ""
             }
            },
            "type": "scatterpolargl"
           }
          ],
          "scatterternary": [
           {
            "marker": {
             "colorbar": {
              "outlinewidth": 0,
              "ticks": ""
             }
            },
            "type": "scatterternary"
           }
          ],
          "surface": [
           {
            "colorbar": {
             "outlinewidth": 0,
             "ticks": ""
            },
            "colorscale": [
             [
              0,
              "#0d0887"
             ],
             [
              0.1111111111111111,
              "#46039f"
             ],
             [
              0.2222222222222222,
              "#7201a8"
             ],
             [
              0.3333333333333333,
              "#9c179e"
             ],
             [
              0.4444444444444444,
              "#bd3786"
             ],
             [
              0.5555555555555556,
              "#d8576b"
             ],
             [
              0.6666666666666666,
              "#ed7953"
             ],
             [
              0.7777777777777778,
              "#fb9f3a"
             ],
             [
              0.8888888888888888,
              "#fdca26"
             ],
             [
              1,
              "#f0f921"
             ]
            ],
            "type": "surface"
           }
          ],
          "table": [
           {
            "cells": {
             "fill": {
              "color": "#EBF0F8"
             },
             "line": {
              "color": "white"
             }
            },
            "header": {
             "fill": {
              "color": "#C8D4E3"
             },
             "line": {
              "color": "white"
             }
            },
            "type": "table"
           }
          ]
         },
         "layout": {
          "annotationdefaults": {
           "arrowcolor": "#2a3f5f",
           "arrowhead": 0,
           "arrowwidth": 1
          },
          "autotypenumbers": "strict",
          "coloraxis": {
           "colorbar": {
            "outlinewidth": 0,
            "ticks": ""
           }
          },
          "colorscale": {
           "diverging": [
            [
             0,
             "#8e0152"
            ],
            [
             0.1,
             "#c51b7d"
            ],
            [
             0.2,
             "#de77ae"
            ],
            [
             0.3,
             "#f1b6da"
            ],
            [
             0.4,
             "#fde0ef"
            ],
            [
             0.5,
             "#f7f7f7"
            ],
            [
             0.6,
             "#e6f5d0"
            ],
            [
             0.7,
             "#b8e186"
            ],
            [
             0.8,
             "#7fbc41"
            ],
            [
             0.9,
             "#4d9221"
            ],
            [
             1,
             "#276419"
            ]
           ],
           "sequential": [
            [
             0,
             "#0d0887"
            ],
            [
             0.1111111111111111,
             "#46039f"
            ],
            [
             0.2222222222222222,
             "#7201a8"
            ],
            [
             0.3333333333333333,
             "#9c179e"
            ],
            [
             0.4444444444444444,
             "#bd3786"
            ],
            [
             0.5555555555555556,
             "#d8576b"
            ],
            [
             0.6666666666666666,
             "#ed7953"
            ],
            [
             0.7777777777777778,
             "#fb9f3a"
            ],
            [
             0.8888888888888888,
             "#fdca26"
            ],
            [
             1,
             "#f0f921"
            ]
           ],
           "sequentialminus": [
            [
             0,
             "#0d0887"
            ],
            [
             0.1111111111111111,
             "#46039f"
            ],
            [
             0.2222222222222222,
             "#7201a8"
            ],
            [
             0.3333333333333333,
             "#9c179e"
            ],
            [
             0.4444444444444444,
             "#bd3786"
            ],
            [
             0.5555555555555556,
             "#d8576b"
            ],
            [
             0.6666666666666666,
             "#ed7953"
            ],
            [
             0.7777777777777778,
             "#fb9f3a"
            ],
            [
             0.8888888888888888,
             "#fdca26"
            ],
            [
             1,
             "#f0f921"
            ]
           ]
          },
          "colorway": [
           "#636efa",
           "#EF553B",
           "#00cc96",
           "#ab63fa",
           "#FFA15A",
           "#19d3f3",
           "#FF6692",
           "#B6E880",
           "#FF97FF",
           "#FECB52"
          ],
          "font": {
           "color": "#2a3f5f"
          },
          "geo": {
           "bgcolor": "white",
           "lakecolor": "white",
           "landcolor": "#E5ECF6",
           "showlakes": true,
           "showland": true,
           "subunitcolor": "white"
          },
          "hoverlabel": {
           "align": "left"
          },
          "hovermode": "closest",
          "mapbox": {
           "style": "light"
          },
          "paper_bgcolor": "white",
          "plot_bgcolor": "#E5ECF6",
          "polar": {
           "angularaxis": {
            "gridcolor": "white",
            "linecolor": "white",
            "ticks": ""
           },
           "bgcolor": "#E5ECF6",
           "radialaxis": {
            "gridcolor": "white",
            "linecolor": "white",
            "ticks": ""
           }
          },
          "scene": {
           "xaxis": {
            "backgroundcolor": "#E5ECF6",
            "gridcolor": "white",
            "gridwidth": 2,
            "linecolor": "white",
            "showbackground": true,
            "ticks": "",
            "zerolinecolor": "white"
           },
           "yaxis": {
            "backgroundcolor": "#E5ECF6",
            "gridcolor": "white",
            "gridwidth": 2,
            "linecolor": "white",
            "showbackground": true,
            "ticks": "",
            "zerolinecolor": "white"
           },
           "zaxis": {
            "backgroundcolor": "#E5ECF6",
            "gridcolor": "white",
            "gridwidth": 2,
            "linecolor": "white",
            "showbackground": true,
            "ticks": "",
            "zerolinecolor": "white"
           }
          },
          "shapedefaults": {
           "line": {
            "color": "#2a3f5f"
           }
          },
          "ternary": {
           "aaxis": {
            "gridcolor": "white",
            "linecolor": "white",
            "ticks": ""
           },
           "baxis": {
            "gridcolor": "white",
            "linecolor": "white",
            "ticks": ""
           },
           "bgcolor": "#E5ECF6",
           "caxis": {
            "gridcolor": "white",
            "linecolor": "white",
            "ticks": ""
           }
          },
          "title": {
           "x": 0.05
          },
          "xaxis": {
           "automargin": true,
           "gridcolor": "white",
           "linecolor": "white",
           "ticks": "",
           "title": {
            "standoff": 15
           },
           "zerolinecolor": "white",
           "zerolinewidth": 2
          },
          "yaxis": {
           "automargin": true,
           "gridcolor": "white",
           "linecolor": "white",
           "ticks": "",
           "title": {
            "standoff": 15
           },
           "zerolinecolor": "white",
           "zerolinewidth": 2
          }
         }
        },
        "title": {
         "text": "Group-Level Output Race Over Time"
        },
        "updatemenus": [
         {
          "buttons": [
           {
            "args": [
             null,
             {
              "frame": {
               "duration": 500,
               "redraw": true
              },
              "fromcurrent": true,
              "mode": "immediate",
              "transition": {
               "duration": 500,
               "easing": "linear"
              }
             }
            ],
            "label": "&#9654;",
            "method": "animate"
           },
           {
            "args": [
             [
              null
             ],
             {
              "frame": {
               "duration": 0,
               "redraw": true
              },
              "fromcurrent": true,
              "mode": "immediate",
              "transition": {
               "duration": 0,
               "easing": "linear"
              }
             }
            ],
            "label": "&#9724;",
            "method": "animate"
           }
          ],
          "direction": "left",
          "pad": {
           "r": 10,
           "t": 70
          },
          "showactive": false,
          "type": "buttons",
          "x": 0.1,
          "xanchor": "right",
          "y": 0,
          "yanchor": "top"
         }
        ],
        "xaxis": {
         "anchor": "y",
         "domain": [
          0,
          1
         ],
         "range": [
          0,
          12500000
         ],
         "title": {
          "text": "Value"
         }
        },
        "yaxis": {
         "anchor": "x",
         "categoryarray": [
          "Utilities & Construction",
          "Trade & Transportation",
          "Professional & Public Services",
          "Primary Industries",
          "Manufacturing",
          "Information & Finance",
          "Health, Education & Leisure"
         ],
         "categoryorder": "array",
         "domain": [
          0,
          1
         ],
         "title": {
          "text": "Group"
         }
        }
       }
      }
     },
     "metadata": {},
     "output_type": "display_data"
    }
   ],
   "source": [
    "import plotly.express as px\n",
    "\n",
    "fig = px.bar(\n",
    "    df_grouped,\n",
    "    x=\"Value\",\n",
    "    y=\"Group\",\n",
    "    color=\"Group\",\n",
    "    animation_frame=\"Year\",\n",
    "    orientation='h',\n",
    "    title=\"Group-Level Output Race Over Time\"\n",
    ")\n",
    "\n",
    "# Optional: cap x-axis to a fixed upper bound (e.g., 5 million)\n",
    "fig.update_layout(\n",
    "    showlegend=False,\n",
    "    xaxis=dict(range=[0, 12500000]),  # adjust this based on your data scale\n",
    "    margin=dict(t=40, l=100, r=40, b=40)\n",
    ")\n",
    "\n",
    "fig.show()\n",
    "#fig.write_html(\"../img/gdp_barcharts.html\")"
   ]
  },
  {
   "cell_type": "code",
   "execution_count": 7,
   "metadata": {},
   "outputs": [
    {
     "ename": "NameError",
     "evalue": "name 'fig_all' is not defined",
     "output_type": "error",
     "traceback": [
      "\u001b[0;31m---------------------------------------------------------------------------\u001b[0m",
      "\u001b[0;31mNameError\u001b[0m                                 Traceback (most recent call last)",
      "Cell \u001b[0;32mIn[7], line 1\u001b[0m\n\u001b[0;32m----> 1\u001b[0m \u001b[43mfig_all\u001b[49m\u001b[38;5;241m.\u001b[39mwrite_html(\u001b[38;5;124m\"\u001b[39m\u001b[38;5;124m../img/gdp_barcharts.html\u001b[39m\u001b[38;5;124m\"\u001b[39m)\n",
      "\u001b[0;31mNameError\u001b[0m: name 'fig_all' is not defined"
     ]
    }
   ],
   "source": [
    "fig_all.write_html(\"../img/gdp_barcharts.html\")"
   ]
  },
  {
   "cell_type": "code",
   "execution_count": 78,
   "metadata": {},
   "outputs": [
    {
     "name": "stderr",
     "output_type": "stream",
     "text": [
      "/Users/nandinikodali/miniforge3/lib/python3.10/site-packages/altair/utils/core.py:384: FutureWarning:\n",
      "\n",
      "the convert_dtype parameter is deprecated and will be removed in a future version.  Do ``ser.astype(object).apply()`` instead if you want ``convert_dtype=False``.\n",
      "\n",
      "/Users/nandinikodali/miniforge3/lib/python3.10/site-packages/altair/utils/core.py:384: FutureWarning:\n",
      "\n",
      "the convert_dtype parameter is deprecated and will be removed in a future version.  Do ``ser.astype(object).apply()`` instead if you want ``convert_dtype=False``.\n",
      "\n",
      "/Users/nandinikodali/miniforge3/lib/python3.10/site-packages/altair/utils/core.py:384: FutureWarning:\n",
      "\n",
      "the convert_dtype parameter is deprecated and will be removed in a future version.  Do ``ser.astype(object).apply()`` instead if you want ``convert_dtype=False``.\n",
      "\n"
     ]
    }
   ],
   "source": [
    "import altair as alt\n",
    "\n",
    "# Ensure proper types\n",
    "df_long[\"Year\"] = df_long[\"Year\"].astype(int)\n",
    "df_grouped[\"Year\"] = df_grouped[\"Year\"].astype(int)\n",
    "latest_year = df_grouped[\"Year\"].max()\n",
    "df_latest = df_grouped[df_grouped[\"Year\"] == latest_year]\n",
    "\n",
    "# Selection object\n",
    "group_select = alt.selection_single(\n",
    "    fields=[\"Group\"],\n",
    "    bind=\"legend\",\n",
    "    name=\"Select\",\n",
    "    empty=\"all\"\n",
    ")\n",
    "\n",
    "# --- Top: Bar chart of group outputs ---\n",
    "bar = alt.Chart(df_latest).mark_bar().encode(\n",
    "    x=alt.X('Value:Q', title='Output'),\n",
    "    y=alt.Y('Group:N', sort='-x'),\n",
    "    color='Group:N',\n",
    "    tooltip=['Group', 'Value']\n",
    ").add_selection(\n",
    "    group_select\n",
    ").properties(\n",
    "    title=f\"Group Output in {latest_year}\",\n",
    "    height=300\n",
    ")\n",
    "\n",
    "# --- Line chart: group-level (default view) ---\n",
    "group_line = alt.Chart(df_grouped).mark_line().encode(\n",
    "    x='Year:O',\n",
    "    y='Value:Q',\n",
    "    color='Group:N',\n",
    "    tooltip=['Group', 'Year', 'Value']\n",
    ").transform_filter(\n",
    "    group_select\n",
    ")\n",
    "\n",
    "# --- Line chart: subgroup-level (when selected) ---\n",
    "subgroup_line = alt.Chart(df_long).mark_line(point=True).encode(\n",
    "    x='Year:O',\n",
    "    y='Value:Q',\n",
    "    color=alt.Color('Subgroup:N', legend=alt.Legend(title=\"Subgroups\")),\n",
    "    tooltip=['Subgroup', 'Year', 'Value']\n",
    ").transform_filter(\n",
    "    group_select\n",
    ")\n",
    "\n",
    "# Overlay subgroup if selected, group view if not\n",
    "line_chart = alt.layer(\n",
    "    subgroup_line,\n",
    "    group_line\n",
    ").resolve_scale(\n",
    "    color='independent'\n",
    ").properties(\n",
    "    title=\"Output Over Time\",\n",
    "    height=300\n",
    ")\n",
    "\n",
    "# --- Combine & Export ---\n",
    "combined = alt.vconcat(bar, line_chart).configure_title(fontSize=18)\n",
    "combined.save(\"../img/group_output_explorer.html\")\n"
   ]
  },
  {
   "cell_type": "markdown",
   "metadata": {},
   "source": []
  },
  {
   "cell_type": "code",
   "execution_count": 6,
   "metadata": {},
   "outputs": [
    {
     "data": {
      "application/vnd.plotly.v1+json": {
       "config": {
        "plotlyServerURL": "https://plot.ly"
       },
       "data": [
        {
         "hovertemplate": "Color=Other<br>Year=2013<br>Value=%{x}<br>Group=%{y}<extra></extra>",
         "legendgroup": "Other",
         "marker": {
          "color": "lightgray",
          "pattern": {
           "shape": ""
          }
         },
         "name": "Other",
         "orientation": "h",
         "showlegend": true,
         "textposition": "auto",
         "type": "bar",
         "x": {
          "bdata": "+6U9AK8QaACpbxEA89RyAKB/QQCREhkA",
          "dtype": "i4"
         },
         "xaxis": "x",
         "y": [
          "Health, Education & Leisure",
          "Information & Finance",
          "Primary Industries",
          "Professional & Public Services",
          "Trade & Transportation",
          "Utilities & Construction"
         ],
         "yaxis": "y"
        },
        {
         "hovertemplate": "Color=Manufacturing<br>Year=2013<br>Value=%{x}<br>Group=%{y}<extra></extra>",
         "legendgroup": "Manufacturing",
         "marker": {
          "color": "steelblue",
          "pattern": {
           "shape": ""
          }
         },
         "name": "Manufacturing",
         "orientation": "h",
         "showlegend": true,
         "textposition": "auto",
         "type": "bar",
         "x": {
          "bdata": "UnNaAA==",
          "dtype": "i4"
         },
         "xaxis": "x",
         "y": [
          "Manufacturing"
         ],
         "yaxis": "y"
        }
       ],
       "frames": [
        {
         "data": [
          {
           "hovertemplate": "Color=Other<br>Year=2013<br>Value=%{x}<br>Group=%{y}<extra></extra>",
           "legendgroup": "Other",
           "marker": {
            "color": "lightgray",
            "pattern": {
             "shape": ""
            }
           },
           "name": "Other",
           "orientation": "h",
           "showlegend": true,
           "textposition": "auto",
           "type": "bar",
           "x": {
            "bdata": "+6U9AK8QaACpbxEA89RyAKB/QQCREhkA",
            "dtype": "i4"
           },
           "xaxis": "x",
           "y": [
            "Health, Education & Leisure",
            "Information & Finance",
            "Primary Industries",
            "Professional & Public Services",
            "Trade & Transportation",
            "Utilities & Construction"
           ],
           "yaxis": "y"
          },
          {
           "hovertemplate": "Color=Manufacturing<br>Year=2013<br>Value=%{x}<br>Group=%{y}<extra></extra>",
           "legendgroup": "Manufacturing",
           "marker": {
            "color": "steelblue",
            "pattern": {
             "shape": ""
            }
           },
           "name": "Manufacturing",
           "orientation": "h",
           "showlegend": true,
           "textposition": "auto",
           "type": "bar",
           "x": {
            "bdata": "UnNaAA==",
            "dtype": "i4"
           },
           "xaxis": "x",
           "y": [
            "Manufacturing"
           ],
           "yaxis": "y"
          }
         ],
         "name": "2013"
        },
        {
         "data": [
          {
           "hovertemplate": "Color=Other<br>Year=2014<br>Value=%{x}<br>Group=%{y}<extra></extra>",
           "legendgroup": "Other",
           "marker": {
            "color": "lightgray",
            "pattern": {
             "shape": ""
            }
           },
           "name": "Other",
           "orientation": "h",
           "showlegend": true,
           "textposition": "auto",
           "type": "bar",
           "x": {
            "bdata": "kIxAAM8HbgDwtRIAVs92AIiHRQBHPhsA",
            "dtype": "i4"
           },
           "xaxis": "x",
           "y": [
            "Health, Education & Leisure",
            "Information & Finance",
            "Primary Industries",
            "Professional & Public Services",
            "Trade & Transportation",
            "Utilities & Construction"
           ],
           "yaxis": "y"
          },
          {
           "hovertemplate": "Color=Manufacturing<br>Year=2014<br>Value=%{x}<br>Group=%{y}<extra></extra>",
           "legendgroup": "Manufacturing",
           "marker": {
            "color": "steelblue",
            "pattern": {
             "shape": ""
            }
           },
           "name": "Manufacturing",
           "orientation": "h",
           "showlegend": true,
           "textposition": "auto",
           "type": "bar",
           "x": {
            "bdata": "84hbAA==",
            "dtype": "i4"
           },
           "xaxis": "x",
           "y": [
            "Manufacturing"
           ],
           "yaxis": "y"
          }
         ],
         "name": "2014"
        },
        {
         "data": [
          {
           "hovertemplate": "Color=Other<br>Year=2015<br>Value=%{x}<br>Group=%{y}<extra></extra>",
           "legendgroup": "Other",
           "marker": {
            "color": "lightgray",
            "pattern": {
             "shape": ""
            }
           },
           "name": "Other",
           "orientation": "h",
           "showlegend": true,
           "textposition": "auto",
           "type": "bar",
           "x": {
            "bdata": "LkZEAD32cgBSVQ4AyEp6AIoWSAAszhwA",
            "dtype": "i4"
           },
           "xaxis": "x",
           "y": [
            "Health, Education & Leisure",
            "Information & Finance",
            "Primary Industries",
            "Professional & Public Services",
            "Trade & Transportation",
            "Utilities & Construction"
           ],
           "yaxis": "y"
          },
          {
           "hovertemplate": "Color=Manufacturing<br>Year=2015<br>Value=%{x}<br>Group=%{y}<extra></extra>",
           "legendgroup": "Manufacturing",
           "marker": {
            "color": "steelblue",
            "pattern": {
             "shape": ""
            }
           },
           "name": "Manufacturing",
           "orientation": "h",
           "showlegend": true,
           "textposition": "auto",
           "type": "bar",
           "x": {
            "bdata": "MF1WAA==",
            "dtype": "i4"
           },
           "xaxis": "x",
           "y": [
            "Manufacturing"
           ],
           "yaxis": "y"
          }
         ],
         "name": "2015"
        },
        {
         "data": [
          {
           "hovertemplate": "Color=Other<br>Year=2016<br>Value=%{x}<br>Group=%{y}<extra></extra>",
           "legendgroup": "Other",
           "marker": {
            "color": "lightgray",
            "pattern": {
             "shape": ""
            }
           },
           "name": "Other",
           "orientation": "h",
           "showlegend": true,
           "textposition": "auto",
           "type": "bar",
           "x": {
            "bdata": "AZJHANX7dwCmLwwAARl+AK+7SQDdMh4A",
            "dtype": "i4"
           },
           "xaxis": "x",
           "y": [
            "Health, Education & Leisure",
            "Information & Finance",
            "Primary Industries",
            "Professional & Public Services",
            "Trade & Transportation",
            "Utilities & Construction"
           ],
           "yaxis": "y"
          },
          {
           "hovertemplate": "Color=Manufacturing<br>Year=2016<br>Value=%{x}<br>Group=%{y}<extra></extra>",
           "legendgroup": "Manufacturing",
           "marker": {
            "color": "steelblue",
            "pattern": {
             "shape": ""
            }
           },
           "name": "Manufacturing",
           "orientation": "h",
           "showlegend": true,
           "textposition": "auto",
           "type": "bar",
           "x": {
            "bdata": "dqxTAA==",
            "dtype": "i4"
           },
           "xaxis": "x",
           "y": [
            "Manufacturing"
           ],
           "yaxis": "y"
          }
         ],
         "name": "2016"
        },
        {
         "data": [
          {
           "hovertemplate": "Color=Other<br>Year=2017<br>Value=%{x}<br>Group=%{y}<extra></extra>",
           "legendgroup": "Other",
           "marker": {
            "color": "lightgray",
            "pattern": {
             "shape": ""
            }
           },
           "name": "Other",
           "orientation": "h",
           "showlegend": true,
           "textposition": "auto",
           "type": "bar",
           "x": {
            "bdata": "qdxKADtnfQBG6Q0Ao02DADY+TgD1Tx8A",
            "dtype": "i4"
           },
           "xaxis": "x",
           "y": [
            "Health, Education & Leisure",
            "Information & Finance",
            "Primary Industries",
            "Professional & Public Services",
            "Trade & Transportation",
            "Utilities & Construction"
           ],
           "yaxis": "y"
          },
          {
           "hovertemplate": "Color=Manufacturing<br>Year=2017<br>Value=%{x}<br>Group=%{y}<extra></extra>",
           "legendgroup": "Manufacturing",
           "marker": {
            "color": "steelblue",
            "pattern": {
             "shape": ""
            }
           },
           "name": "Manufacturing",
           "orientation": "h",
           "showlegend": true,
           "textposition": "auto",
           "type": "bar",
           "x": {
            "bdata": "N55WAA==",
            "dtype": "i4"
           },
           "xaxis": "x",
           "y": [
            "Manufacturing"
           ],
           "yaxis": "y"
          }
         ],
         "name": "2017"
        },
        {
         "data": [
          {
           "hovertemplate": "Color=Other<br>Year=2018<br>Value=%{x}<br>Group=%{y}<extra></extra>",
           "legendgroup": "Other",
           "marker": {
            "color": "lightgray",
            "pattern": {
             "shape": ""
            }
           },
           "name": "Other",
           "orientation": "h",
           "showlegend": true,
           "textposition": "auto",
           "type": "bar",
           "x": {
            "bdata": "QTZOAJYIhADhxQ8AiAGLAK4iUwCvOSEA",
            "dtype": "i4"
           },
           "xaxis": "x",
           "y": [
            "Health, Education & Leisure",
            "Information & Finance",
            "Primary Industries",
            "Professional & Public Services",
            "Trade & Transportation",
            "Utilities & Construction"
           ],
           "yaxis": "y"
          },
          {
           "hovertemplate": "Color=Manufacturing<br>Year=2018<br>Value=%{x}<br>Group=%{y}<extra></extra>",
           "legendgroup": "Manufacturing",
           "marker": {
            "color": "steelblue",
            "pattern": {
             "shape": ""
            }
           },
           "name": "Manufacturing",
           "orientation": "h",
           "showlegend": true,
           "textposition": "auto",
           "type": "bar",
           "x": {
            "bdata": "KzdcAA==",
            "dtype": "i4"
           },
           "xaxis": "x",
           "y": [
            "Manufacturing"
           ],
           "yaxis": "y"
          }
         ],
         "name": "2018"
        },
        {
         "data": [
          {
           "hovertemplate": "Color=Other<br>Year=2019<br>Value=%{x}<br>Group=%{y}<extra></extra>",
           "legendgroup": "Other",
           "marker": {
            "color": "lightgray",
            "pattern": {
             "shape": ""
            }
           },
           "name": "Other",
           "orientation": "h",
           "showlegend": true,
           "textposition": "auto",
           "type": "bar",
           "x": {
            "bdata": "+wJSAAi9iQCtNQ8AhF+SAAK8VQCVVSIA",
            "dtype": "i4"
           },
           "xaxis": "x",
           "y": [
            "Health, Education & Leisure",
            "Information & Finance",
            "Primary Industries",
            "Professional & Public Services",
            "Trade & Transportation",
            "Utilities & Construction"
           ],
           "yaxis": "y"
          },
          {
           "hovertemplate": "Color=Manufacturing<br>Year=2019<br>Value=%{x}<br>Group=%{y}<extra></extra>",
           "legendgroup": "Manufacturing",
           "marker": {
            "color": "steelblue",
            "pattern": {
             "shape": ""
            }
           },
           "name": "Manufacturing",
           "orientation": "h",
           "showlegend": true,
           "textposition": "auto",
           "type": "bar",
           "x": {
            "bdata": "k6haAA==",
            "dtype": "i4"
           },
           "xaxis": "x",
           "y": [
            "Manufacturing"
           ],
           "yaxis": "y"
          }
         ],
         "name": "2019"
        },
        {
         "data": [
          {
           "hovertemplate": "Color=Other<br>Year=2020<br>Value=%{x}<br>Group=%{y}<extra></extra>",
           "legendgroup": "Other",
           "marker": {
            "color": "lightgray",
            "pattern": {
             "shape": ""
            }
           },
           "name": "Other",
           "orientation": "h",
           "showlegend": true,
           "textposition": "auto",
           "type": "bar",
           "x": {
            "bdata": "CU9KANgIjgCNpgwA5YKVAK2KUgBAKSMA",
            "dtype": "i4"
           },
           "xaxis": "x",
           "y": [
            "Health, Education & Leisure",
            "Information & Finance",
            "Primary Industries",
            "Professional & Public Services",
            "Trade & Transportation",
            "Utilities & Construction"
           ],
           "yaxis": "y"
          },
          {
           "hovertemplate": "Color=Manufacturing<br>Year=2020<br>Value=%{x}<br>Group=%{y}<extra></extra>",
           "legendgroup": "Manufacturing",
           "marker": {
            "color": "steelblue",
            "pattern": {
             "shape": ""
            }
           },
           "name": "Manufacturing",
           "orientation": "h",
           "showlegend": true,
           "textposition": "auto",
           "type": "bar",
           "x": {
            "bdata": "15BSAA==",
            "dtype": "i4"
           },
           "xaxis": "x",
           "y": [
            "Manufacturing"
           ],
           "yaxis": "y"
          }
         ],
         "name": "2020"
        },
        {
         "data": [
          {
           "hovertemplate": "Color=Other<br>Year=2021<br>Value=%{x}<br>Group=%{y}<extra></extra>",
           "legendgroup": "Other",
           "marker": {
            "color": "lightgray",
            "pattern": {
             "shape": ""
            }
           },
           "name": "Other",
           "orientation": "h",
           "showlegend": true,
           "textposition": "auto",
           "type": "bar",
           "x": {
            "bdata": "QCNWALXtnABabhEAueSiAEEQYwArbycA",
            "dtype": "i4"
           },
           "xaxis": "x",
           "y": [
            "Health, Education & Leisure",
            "Information & Finance",
            "Primary Industries",
            "Professional & Public Services",
            "Trade & Transportation",
            "Utilities & Construction"
           ],
           "yaxis": "y"
          },
          {
           "hovertemplate": "Color=Manufacturing<br>Year=2021<br>Value=%{x}<br>Group=%{y}<extra></extra>",
           "legendgroup": "Manufacturing",
           "marker": {
            "color": "steelblue",
            "pattern": {
             "shape": ""
            }
           },
           "name": "Manufacturing",
           "orientation": "h",
           "showlegend": true,
           "textposition": "auto",
           "type": "bar",
           "x": {
            "bdata": "ZvNfAA==",
            "dtype": "i4"
           },
           "xaxis": "x",
           "y": [
            "Manufacturing"
           ],
           "yaxis": "y"
          }
         ],
         "name": "2021"
        },
        {
         "data": [
          {
           "hovertemplate": "Color=Other<br>Year=2022<br>Value=%{x}<br>Group=%{y}<extra></extra>",
           "legendgroup": "Other",
           "marker": {
            "color": "lightgray",
            "pattern": {
             "shape": ""
            }
           },
           "name": "Other",
           "orientation": "h",
           "showlegend": true,
           "textposition": "auto",
           "type": "bar",
           "x": {
            "bdata": "SzxhAP/9qABxHxcAubqwADiOcADQJywA",
            "dtype": "i4"
           },
           "xaxis": "x",
           "y": [
            "Health, Education & Leisure",
            "Information & Finance",
            "Primary Industries",
            "Professional & Public Services",
            "Trade & Transportation",
            "Utilities & Construction"
           ],
           "yaxis": "y"
          },
          {
           "hovertemplate": "Color=Manufacturing<br>Year=2022<br>Value=%{x}<br>Group=%{y}<extra></extra>",
           "legendgroup": "Manufacturing",
           "marker": {
            "color": "steelblue",
            "pattern": {
             "shape": ""
            }
           },
           "name": "Manufacturing",
           "orientation": "h",
           "showlegend": true,
           "textposition": "auto",
           "type": "bar",
           "x": {
            "bdata": "dkdtAA==",
            "dtype": "i4"
           },
           "xaxis": "x",
           "y": [
            "Manufacturing"
           ],
           "yaxis": "y"
          }
         ],
         "name": "2022"
        },
        {
         "data": [
          {
           "hovertemplate": "Color=Other<br>Year=2023<br>Value=%{x}<br>Group=%{y}<extra></extra>",
           "legendgroup": "Other",
           "marker": {
            "color": "lightgray",
            "pattern": {
             "shape": ""
            }
           },
           "name": "Other",
           "orientation": "h",
           "showlegend": true,
           "textposition": "auto",
           "type": "bar",
           "x": {
            "bdata": "u0pqAKHhtADbdhQAboq4AHRecACzaS0A",
            "dtype": "i4"
           },
           "xaxis": "x",
           "y": [
            "Health, Education & Leisure",
            "Information & Finance",
            "Primary Industries",
            "Professional & Public Services",
            "Trade & Transportation",
            "Utilities & Construction"
           ],
           "yaxis": "y"
          },
          {
           "hovertemplate": "Color=Manufacturing<br>Year=2023<br>Value=%{x}<br>Group=%{y}<extra></extra>",
           "legendgroup": "Manufacturing",
           "marker": {
            "color": "steelblue",
            "pattern": {
             "shape": ""
            }
           },
           "name": "Manufacturing",
           "orientation": "h",
           "showlegend": true,
           "textposition": "auto",
           "type": "bar",
           "x": {
            "bdata": "wwduAA==",
            "dtype": "i4"
           },
           "xaxis": "x",
           "y": [
            "Manufacturing"
           ],
           "yaxis": "y"
          }
         ],
         "name": "2023"
        }
       ],
       "layout": {
        "barmode": "relative",
        "legend": {
         "title": {
          "text": "Color"
         },
         "tracegroupgap": 0
        },
        "margin": {
         "b": 40,
         "l": 100,
         "r": 40,
         "t": 40
        },
        "showlegend": false,
        "sliders": [
         {
          "active": 0,
          "currentvalue": {
           "prefix": "Year="
          },
          "len": 0.9,
          "pad": {
           "b": 10,
           "t": 60
          },
          "steps": [
           {
            "args": [
             [
              "2013"
             ],
             {
              "frame": {
               "duration": 0,
               "redraw": true
              },
              "fromcurrent": true,
              "mode": "immediate",
              "transition": {
               "duration": 0,
               "easing": "linear"
              }
             }
            ],
            "label": "2013",
            "method": "animate"
           },
           {
            "args": [
             [
              "2014"
             ],
             {
              "frame": {
               "duration": 0,
               "redraw": true
              },
              "fromcurrent": true,
              "mode": "immediate",
              "transition": {
               "duration": 0,
               "easing": "linear"
              }
             }
            ],
            "label": "2014",
            "method": "animate"
           },
           {
            "args": [
             [
              "2015"
             ],
             {
              "frame": {
               "duration": 0,
               "redraw": true
              },
              "fromcurrent": true,
              "mode": "immediate",
              "transition": {
               "duration": 0,
               "easing": "linear"
              }
             }
            ],
            "label": "2015",
            "method": "animate"
           },
           {
            "args": [
             [
              "2016"
             ],
             {
              "frame": {
               "duration": 0,
               "redraw": true
              },
              "fromcurrent": true,
              "mode": "immediate",
              "transition": {
               "duration": 0,
               "easing": "linear"
              }
             }
            ],
            "label": "2016",
            "method": "animate"
           },
           {
            "args": [
             [
              "2017"
             ],
             {
              "frame": {
               "duration": 0,
               "redraw": true
              },
              "fromcurrent": true,
              "mode": "immediate",
              "transition": {
               "duration": 0,
               "easing": "linear"
              }
             }
            ],
            "label": "2017",
            "method": "animate"
           },
           {
            "args": [
             [
              "2018"
             ],
             {
              "frame": {
               "duration": 0,
               "redraw": true
              },
              "fromcurrent": true,
              "mode": "immediate",
              "transition": {
               "duration": 0,
               "easing": "linear"
              }
             }
            ],
            "label": "2018",
            "method": "animate"
           },
           {
            "args": [
             [
              "2019"
             ],
             {
              "frame": {
               "duration": 0,
               "redraw": true
              },
              "fromcurrent": true,
              "mode": "immediate",
              "transition": {
               "duration": 0,
               "easing": "linear"
              }
             }
            ],
            "label": "2019",
            "method": "animate"
           },
           {
            "args": [
             [
              "2020"
             ],
             {
              "frame": {
               "duration": 0,
               "redraw": true
              },
              "fromcurrent": true,
              "mode": "immediate",
              "transition": {
               "duration": 0,
               "easing": "linear"
              }
             }
            ],
            "label": "2020",
            "method": "animate"
           },
           {
            "args": [
             [
              "2021"
             ],
             {
              "frame": {
               "duration": 0,
               "redraw": true
              },
              "fromcurrent": true,
              "mode": "immediate",
              "transition": {
               "duration": 0,
               "easing": "linear"
              }
             }
            ],
            "label": "2021",
            "method": "animate"
           },
           {
            "args": [
             [
              "2022"
             ],
             {
              "frame": {
               "duration": 0,
               "redraw": true
              },
              "fromcurrent": true,
              "mode": "immediate",
              "transition": {
               "duration": 0,
               "easing": "linear"
              }
             }
            ],
            "label": "2022",
            "method": "animate"
           },
           {
            "args": [
             [
              "2023"
             ],
             {
              "frame": {
               "duration": 0,
               "redraw": true
              },
              "fromcurrent": true,
              "mode": "immediate",
              "transition": {
               "duration": 0,
               "easing": "linear"
              }
             }
            ],
            "label": "2023",
            "method": "animate"
           }
          ],
          "x": 0.1,
          "xanchor": "left",
          "y": 0,
          "yanchor": "top"
         }
        ],
        "template": {
         "data": {
          "bar": [
           {
            "error_x": {
             "color": "#2a3f5f"
            },
            "error_y": {
             "color": "#2a3f5f"
            },
            "marker": {
             "line": {
              "color": "#E5ECF6",
              "width": 0.5
             },
             "pattern": {
              "fillmode": "overlay",
              "size": 10,
              "solidity": 0.2
             }
            },
            "type": "bar"
           }
          ],
          "barpolar": [
           {
            "marker": {
             "line": {
              "color": "#E5ECF6",
              "width": 0.5
             },
             "pattern": {
              "fillmode": "overlay",
              "size": 10,
              "solidity": 0.2
             }
            },
            "type": "barpolar"
           }
          ],
          "carpet": [
           {
            "aaxis": {
             "endlinecolor": "#2a3f5f",
             "gridcolor": "white",
             "linecolor": "white",
             "minorgridcolor": "white",
             "startlinecolor": "#2a3f5f"
            },
            "baxis": {
             "endlinecolor": "#2a3f5f",
             "gridcolor": "white",
             "linecolor": "white",
             "minorgridcolor": "white",
             "startlinecolor": "#2a3f5f"
            },
            "type": "carpet"
           }
          ],
          "choropleth": [
           {
            "colorbar": {
             "outlinewidth": 0,
             "ticks": ""
            },
            "type": "choropleth"
           }
          ],
          "contour": [
           {
            "colorbar": {
             "outlinewidth": 0,
             "ticks": ""
            },
            "colorscale": [
             [
              0,
              "#0d0887"
             ],
             [
              0.1111111111111111,
              "#46039f"
             ],
             [
              0.2222222222222222,
              "#7201a8"
             ],
             [
              0.3333333333333333,
              "#9c179e"
             ],
             [
              0.4444444444444444,
              "#bd3786"
             ],
             [
              0.5555555555555556,
              "#d8576b"
             ],
             [
              0.6666666666666666,
              "#ed7953"
             ],
             [
              0.7777777777777778,
              "#fb9f3a"
             ],
             [
              0.8888888888888888,
              "#fdca26"
             ],
             [
              1,
              "#f0f921"
             ]
            ],
            "type": "contour"
           }
          ],
          "contourcarpet": [
           {
            "colorbar": {
             "outlinewidth": 0,
             "ticks": ""
            },
            "type": "contourcarpet"
           }
          ],
          "heatmap": [
           {
            "colorbar": {
             "outlinewidth": 0,
             "ticks": ""
            },
            "colorscale": [
             [
              0,
              "#0d0887"
             ],
             [
              0.1111111111111111,
              "#46039f"
             ],
             [
              0.2222222222222222,
              "#7201a8"
             ],
             [
              0.3333333333333333,
              "#9c179e"
             ],
             [
              0.4444444444444444,
              "#bd3786"
             ],
             [
              0.5555555555555556,
              "#d8576b"
             ],
             [
              0.6666666666666666,
              "#ed7953"
             ],
             [
              0.7777777777777778,
              "#fb9f3a"
             ],
             [
              0.8888888888888888,
              "#fdca26"
             ],
             [
              1,
              "#f0f921"
             ]
            ],
            "type": "heatmap"
           }
          ],
          "histogram": [
           {
            "marker": {
             "pattern": {
              "fillmode": "overlay",
              "size": 10,
              "solidity": 0.2
             }
            },
            "type": "histogram"
           }
          ],
          "histogram2d": [
           {
            "colorbar": {
             "outlinewidth": 0,
             "ticks": ""
            },
            "colorscale": [
             [
              0,
              "#0d0887"
             ],
             [
              0.1111111111111111,
              "#46039f"
             ],
             [
              0.2222222222222222,
              "#7201a8"
             ],
             [
              0.3333333333333333,
              "#9c179e"
             ],
             [
              0.4444444444444444,
              "#bd3786"
             ],
             [
              0.5555555555555556,
              "#d8576b"
             ],
             [
              0.6666666666666666,
              "#ed7953"
             ],
             [
              0.7777777777777778,
              "#fb9f3a"
             ],
             [
              0.8888888888888888,
              "#fdca26"
             ],
             [
              1,
              "#f0f921"
             ]
            ],
            "type": "histogram2d"
           }
          ],
          "histogram2dcontour": [
           {
            "colorbar": {
             "outlinewidth": 0,
             "ticks": ""
            },
            "colorscale": [
             [
              0,
              "#0d0887"
             ],
             [
              0.1111111111111111,
              "#46039f"
             ],
             [
              0.2222222222222222,
              "#7201a8"
             ],
             [
              0.3333333333333333,
              "#9c179e"
             ],
             [
              0.4444444444444444,
              "#bd3786"
             ],
             [
              0.5555555555555556,
              "#d8576b"
             ],
             [
              0.6666666666666666,
              "#ed7953"
             ],
             [
              0.7777777777777778,
              "#fb9f3a"
             ],
             [
              0.8888888888888888,
              "#fdca26"
             ],
             [
              1,
              "#f0f921"
             ]
            ],
            "type": "histogram2dcontour"
           }
          ],
          "mesh3d": [
           {
            "colorbar": {
             "outlinewidth": 0,
             "ticks": ""
            },
            "type": "mesh3d"
           }
          ],
          "parcoords": [
           {
            "line": {
             "colorbar": {
              "outlinewidth": 0,
              "ticks": ""
             }
            },
            "type": "parcoords"
           }
          ],
          "pie": [
           {
            "automargin": true,
            "type": "pie"
           }
          ],
          "scatter": [
           {
            "fillpattern": {
             "fillmode": "overlay",
             "size": 10,
             "solidity": 0.2
            },
            "type": "scatter"
           }
          ],
          "scatter3d": [
           {
            "line": {
             "colorbar": {
              "outlinewidth": 0,
              "ticks": ""
             }
            },
            "marker": {
             "colorbar": {
              "outlinewidth": 0,
              "ticks": ""
             }
            },
            "type": "scatter3d"
           }
          ],
          "scattercarpet": [
           {
            "marker": {
             "colorbar": {
              "outlinewidth": 0,
              "ticks": ""
             }
            },
            "type": "scattercarpet"
           }
          ],
          "scattergeo": [
           {
            "marker": {
             "colorbar": {
              "outlinewidth": 0,
              "ticks": ""
             }
            },
            "type": "scattergeo"
           }
          ],
          "scattergl": [
           {
            "marker": {
             "colorbar": {
              "outlinewidth": 0,
              "ticks": ""
             }
            },
            "type": "scattergl"
           }
          ],
          "scattermap": [
           {
            "marker": {
             "colorbar": {
              "outlinewidth": 0,
              "ticks": ""
             }
            },
            "type": "scattermap"
           }
          ],
          "scattermapbox": [
           {
            "marker": {
             "colorbar": {
              "outlinewidth": 0,
              "ticks": ""
             }
            },
            "type": "scattermapbox"
           }
          ],
          "scatterpolar": [
           {
            "marker": {
             "colorbar": {
              "outlinewidth": 0,
              "ticks": ""
             }
            },
            "type": "scatterpolar"
           }
          ],
          "scatterpolargl": [
           {
            "marker": {
             "colorbar": {
              "outlinewidth": 0,
              "ticks": ""
             }
            },
            "type": "scatterpolargl"
           }
          ],
          "scatterternary": [
           {
            "marker": {
             "colorbar": {
              "outlinewidth": 0,
              "ticks": ""
             }
            },
            "type": "scatterternary"
           }
          ],
          "surface": [
           {
            "colorbar": {
             "outlinewidth": 0,
             "ticks": ""
            },
            "colorscale": [
             [
              0,
              "#0d0887"
             ],
             [
              0.1111111111111111,
              "#46039f"
             ],
             [
              0.2222222222222222,
              "#7201a8"
             ],
             [
              0.3333333333333333,
              "#9c179e"
             ],
             [
              0.4444444444444444,
              "#bd3786"
             ],
             [
              0.5555555555555556,
              "#d8576b"
             ],
             [
              0.6666666666666666,
              "#ed7953"
             ],
             [
              0.7777777777777778,
              "#fb9f3a"
             ],
             [
              0.8888888888888888,
              "#fdca26"
             ],
             [
              1,
              "#f0f921"
             ]
            ],
            "type": "surface"
           }
          ],
          "table": [
           {
            "cells": {
             "fill": {
              "color": "#EBF0F8"
             },
             "line": {
              "color": "white"
             }
            },
            "header": {
             "fill": {
              "color": "#C8D4E3"
             },
             "line": {
              "color": "white"
             }
            },
            "type": "table"
           }
          ]
         },
         "layout": {
          "annotationdefaults": {
           "arrowcolor": "#2a3f5f",
           "arrowhead": 0,
           "arrowwidth": 1
          },
          "autotypenumbers": "strict",
          "coloraxis": {
           "colorbar": {
            "outlinewidth": 0,
            "ticks": ""
           }
          },
          "colorscale": {
           "diverging": [
            [
             0,
             "#8e0152"
            ],
            [
             0.1,
             "#c51b7d"
            ],
            [
             0.2,
             "#de77ae"
            ],
            [
             0.3,
             "#f1b6da"
            ],
            [
             0.4,
             "#fde0ef"
            ],
            [
             0.5,
             "#f7f7f7"
            ],
            [
             0.6,
             "#e6f5d0"
            ],
            [
             0.7,
             "#b8e186"
            ],
            [
             0.8,
             "#7fbc41"
            ],
            [
             0.9,
             "#4d9221"
            ],
            [
             1,
             "#276419"
            ]
           ],
           "sequential": [
            [
             0,
             "#0d0887"
            ],
            [
             0.1111111111111111,
             "#46039f"
            ],
            [
             0.2222222222222222,
             "#7201a8"
            ],
            [
             0.3333333333333333,
             "#9c179e"
            ],
            [
             0.4444444444444444,
             "#bd3786"
            ],
            [
             0.5555555555555556,
             "#d8576b"
            ],
            [
             0.6666666666666666,
             "#ed7953"
            ],
            [
             0.7777777777777778,
             "#fb9f3a"
            ],
            [
             0.8888888888888888,
             "#fdca26"
            ],
            [
             1,
             "#f0f921"
            ]
           ],
           "sequentialminus": [
            [
             0,
             "#0d0887"
            ],
            [
             0.1111111111111111,
             "#46039f"
            ],
            [
             0.2222222222222222,
             "#7201a8"
            ],
            [
             0.3333333333333333,
             "#9c179e"
            ],
            [
             0.4444444444444444,
             "#bd3786"
            ],
            [
             0.5555555555555556,
             "#d8576b"
            ],
            [
             0.6666666666666666,
             "#ed7953"
            ],
            [
             0.7777777777777778,
             "#fb9f3a"
            ],
            [
             0.8888888888888888,
             "#fdca26"
            ],
            [
             1,
             "#f0f921"
            ]
           ]
          },
          "colorway": [
           "#636efa",
           "#EF553B",
           "#00cc96",
           "#ab63fa",
           "#FFA15A",
           "#19d3f3",
           "#FF6692",
           "#B6E880",
           "#FF97FF",
           "#FECB52"
          ],
          "font": {
           "color": "#2a3f5f"
          },
          "geo": {
           "bgcolor": "white",
           "lakecolor": "white",
           "landcolor": "#E5ECF6",
           "showlakes": true,
           "showland": true,
           "subunitcolor": "white"
          },
          "hoverlabel": {
           "align": "left"
          },
          "hovermode": "closest",
          "mapbox": {
           "style": "light"
          },
          "paper_bgcolor": "white",
          "plot_bgcolor": "#E5ECF6",
          "polar": {
           "angularaxis": {
            "gridcolor": "white",
            "linecolor": "white",
            "ticks": ""
           },
           "bgcolor": "#E5ECF6",
           "radialaxis": {
            "gridcolor": "white",
            "linecolor": "white",
            "ticks": ""
           }
          },
          "scene": {
           "xaxis": {
            "backgroundcolor": "#E5ECF6",
            "gridcolor": "white",
            "gridwidth": 2,
            "linecolor": "white",
            "showbackground": true,
            "ticks": "",
            "zerolinecolor": "white"
           },
           "yaxis": {
            "backgroundcolor": "#E5ECF6",
            "gridcolor": "white",
            "gridwidth": 2,
            "linecolor": "white",
            "showbackground": true,
            "ticks": "",
            "zerolinecolor": "white"
           },
           "zaxis": {
            "backgroundcolor": "#E5ECF6",
            "gridcolor": "white",
            "gridwidth": 2,
            "linecolor": "white",
            "showbackground": true,
            "ticks": "",
            "zerolinecolor": "white"
           }
          },
          "shapedefaults": {
           "line": {
            "color": "#2a3f5f"
           }
          },
          "ternary": {
           "aaxis": {
            "gridcolor": "white",
            "linecolor": "white",
            "ticks": ""
           },
           "baxis": {
            "gridcolor": "white",
            "linecolor": "white",
            "ticks": ""
           },
           "bgcolor": "#E5ECF6",
           "caxis": {
            "gridcolor": "white",
            "linecolor": "white",
            "ticks": ""
           }
          },
          "title": {
           "x": 0.05
          },
          "xaxis": {
           "automargin": true,
           "gridcolor": "white",
           "linecolor": "white",
           "ticks": "",
           "title": {
            "standoff": 15
           },
           "zerolinecolor": "white",
           "zerolinewidth": 2
          },
          "yaxis": {
           "automargin": true,
           "gridcolor": "white",
           "linecolor": "white",
           "ticks": "",
           "title": {
            "standoff": 15
           },
           "zerolinecolor": "white",
           "zerolinewidth": 2
          }
         }
        },
        "title": {
         "text": "Group-Level Output Race Over Time (2013–2024)"
        },
        "updatemenus": [
         {
          "buttons": [
           {
            "args": [
             null,
             {
              "frame": {
               "duration": 500,
               "redraw": true
              },
              "fromcurrent": true,
              "mode": "immediate",
              "transition": {
               "duration": 500,
               "easing": "linear"
              }
             }
            ],
            "label": "&#9654;",
            "method": "animate"
           },
           {
            "args": [
             [
              null
             ],
             {
              "frame": {
               "duration": 0,
               "redraw": true
              },
              "fromcurrent": true,
              "mode": "immediate",
              "transition": {
               "duration": 0,
               "easing": "linear"
              }
             }
            ],
            "label": "&#9724;",
            "method": "animate"
           }
          ],
          "direction": "left",
          "pad": {
           "r": 10,
           "t": 70
          },
          "showactive": false,
          "type": "buttons",
          "x": 0.1,
          "xanchor": "right",
          "y": 0,
          "yanchor": "top"
         }
        ],
        "xaxis": {
         "anchor": "y",
         "domain": [
          0,
          1
         ],
         "range": [
          0,
          12500000
         ],
         "title": {
          "text": "Value"
         }
        },
        "yaxis": {
         "anchor": "x",
         "domain": [
          0,
          1
         ],
         "title": {
          "text": "Group"
         }
        }
       }
      }
     },
     "metadata": {},
     "output_type": "display_data"
    }
   ],
   "source": [
    "import plotly.express as px\n",
    "\n",
    "# Step 1: Filter for 2013–2024\n",
    "df_grouped_filtered = df_grouped[df_grouped[\"Year\"].between(2013, 2024)].copy()\n",
    "\n",
    "# Step 2: Add a column for custom coloring\n",
    "df_grouped_filtered[\"Color\"] = df_grouped_filtered[\"Group\"].apply(\n",
    "    lambda g: \"Manufacturing\" if g == \"Manufacturing\" else \"Other\"\n",
    ")\n",
    "\n",
    "# Step 3: Define color map (blue for Manufacturing, gray for others)\n",
    "color_map = {\n",
    "    \"Manufacturing\": \"steelblue\",\n",
    "    \"Other\": \"lightgray\"\n",
    "}\n",
    "\n",
    "# Step 4: Build the animated bar chart\n",
    "fig = px.bar(\n",
    "    df_grouped_filtered,\n",
    "    x=\"Value\",\n",
    "    y=\"Group\",\n",
    "    color=\"Color\",\n",
    "    animation_frame=\"Year\",\n",
    "    orientation='h',\n",
    "    color_discrete_map=color_map,\n",
    "    title=\"Group-Level Output Race Over Time (2013–2024)\"\n",
    ")\n",
    "\n",
    "fig.update_layout(\n",
    "    showlegend=False,\n",
    "    xaxis=dict(range=[0, 12500000]),  # optional: adjust max\n",
    "    margin=dict(t=40, l=100, r=40, b=40)\n",
    ")\n",
    "\n",
    "fig.show()\n",
    "# fig.write_html(\"../img/gdp_barcharts_2013_2024.html\")\n"
   ]
  },
  {
   "cell_type": "code",
   "execution_count": 7,
   "metadata": {},
   "outputs": [
    {
     "data": {
      "application/vnd.plotly.v1+json": {
       "config": {
        "plotlyServerURL": "https://plot.ly"
       },
       "data": [
        {
         "hovertemplate": "Year=%{x}<br>Share of GDP (%)=%{y}<extra></extra>",
         "legendgroup": "",
         "line": {
          "color": "#636efa",
          "dash": "solid"
         },
         "marker": {
          "symbol": "circle"
         },
         "mode": "lines+markers",
         "name": "",
         "orientation": "v",
         "showlegend": false,
         "type": "scatter",
         "x": {
          "bdata": "3QfeB98H4AfhB+IH4wfkB+UH5gfnBw==",
          "dtype": "i2"
         },
         "xaxis": "x",
         "y": {
          "bdata": "qwturRDiMkACRTE3xUoyQA6X1sXDBzFA/NAeN6wrMEA8PwCqm/svQG5CeSecEzBAVWvch/CfLkAmU5rdAYgsQOSxjR7nKy1AZ00uL9baLUBIjp9xqfQsQA==",
          "dtype": "f8"
         },
         "yaxis": "y"
        }
       ],
       "layout": {
        "legend": {
         "tracegroupgap": 0
        },
        "template": {
         "data": {
          "bar": [
           {
            "error_x": {
             "color": "#2a3f5f"
            },
            "error_y": {
             "color": "#2a3f5f"
            },
            "marker": {
             "line": {
              "color": "#E5ECF6",
              "width": 0.5
             },
             "pattern": {
              "fillmode": "overlay",
              "size": 10,
              "solidity": 0.2
             }
            },
            "type": "bar"
           }
          ],
          "barpolar": [
           {
            "marker": {
             "line": {
              "color": "#E5ECF6",
              "width": 0.5
             },
             "pattern": {
              "fillmode": "overlay",
              "size": 10,
              "solidity": 0.2
             }
            },
            "type": "barpolar"
           }
          ],
          "carpet": [
           {
            "aaxis": {
             "endlinecolor": "#2a3f5f",
             "gridcolor": "white",
             "linecolor": "white",
             "minorgridcolor": "white",
             "startlinecolor": "#2a3f5f"
            },
            "baxis": {
             "endlinecolor": "#2a3f5f",
             "gridcolor": "white",
             "linecolor": "white",
             "minorgridcolor": "white",
             "startlinecolor": "#2a3f5f"
            },
            "type": "carpet"
           }
          ],
          "choropleth": [
           {
            "colorbar": {
             "outlinewidth": 0,
             "ticks": ""
            },
            "type": "choropleth"
           }
          ],
          "contour": [
           {
            "colorbar": {
             "outlinewidth": 0,
             "ticks": ""
            },
            "colorscale": [
             [
              0,
              "#0d0887"
             ],
             [
              0.1111111111111111,
              "#46039f"
             ],
             [
              0.2222222222222222,
              "#7201a8"
             ],
             [
              0.3333333333333333,
              "#9c179e"
             ],
             [
              0.4444444444444444,
              "#bd3786"
             ],
             [
              0.5555555555555556,
              "#d8576b"
             ],
             [
              0.6666666666666666,
              "#ed7953"
             ],
             [
              0.7777777777777778,
              "#fb9f3a"
             ],
             [
              0.8888888888888888,
              "#fdca26"
             ],
             [
              1,
              "#f0f921"
             ]
            ],
            "type": "contour"
           }
          ],
          "contourcarpet": [
           {
            "colorbar": {
             "outlinewidth": 0,
             "ticks": ""
            },
            "type": "contourcarpet"
           }
          ],
          "heatmap": [
           {
            "colorbar": {
             "outlinewidth": 0,
             "ticks": ""
            },
            "colorscale": [
             [
              0,
              "#0d0887"
             ],
             [
              0.1111111111111111,
              "#46039f"
             ],
             [
              0.2222222222222222,
              "#7201a8"
             ],
             [
              0.3333333333333333,
              "#9c179e"
             ],
             [
              0.4444444444444444,
              "#bd3786"
             ],
             [
              0.5555555555555556,
              "#d8576b"
             ],
             [
              0.6666666666666666,
              "#ed7953"
             ],
             [
              0.7777777777777778,
              "#fb9f3a"
             ],
             [
              0.8888888888888888,
              "#fdca26"
             ],
             [
              1,
              "#f0f921"
             ]
            ],
            "type": "heatmap"
           }
          ],
          "histogram": [
           {
            "marker": {
             "pattern": {
              "fillmode": "overlay",
              "size": 10,
              "solidity": 0.2
             }
            },
            "type": "histogram"
           }
          ],
          "histogram2d": [
           {
            "colorbar": {
             "outlinewidth": 0,
             "ticks": ""
            },
            "colorscale": [
             [
              0,
              "#0d0887"
             ],
             [
              0.1111111111111111,
              "#46039f"
             ],
             [
              0.2222222222222222,
              "#7201a8"
             ],
             [
              0.3333333333333333,
              "#9c179e"
             ],
             [
              0.4444444444444444,
              "#bd3786"
             ],
             [
              0.5555555555555556,
              "#d8576b"
             ],
             [
              0.6666666666666666,
              "#ed7953"
             ],
             [
              0.7777777777777778,
              "#fb9f3a"
             ],
             [
              0.8888888888888888,
              "#fdca26"
             ],
             [
              1,
              "#f0f921"
             ]
            ],
            "type": "histogram2d"
           }
          ],
          "histogram2dcontour": [
           {
            "colorbar": {
             "outlinewidth": 0,
             "ticks": ""
            },
            "colorscale": [
             [
              0,
              "#0d0887"
             ],
             [
              0.1111111111111111,
              "#46039f"
             ],
             [
              0.2222222222222222,
              "#7201a8"
             ],
             [
              0.3333333333333333,
              "#9c179e"
             ],
             [
              0.4444444444444444,
              "#bd3786"
             ],
             [
              0.5555555555555556,
              "#d8576b"
             ],
             [
              0.6666666666666666,
              "#ed7953"
             ],
             [
              0.7777777777777778,
              "#fb9f3a"
             ],
             [
              0.8888888888888888,
              "#fdca26"
             ],
             [
              1,
              "#f0f921"
             ]
            ],
            "type": "histogram2dcontour"
           }
          ],
          "mesh3d": [
           {
            "colorbar": {
             "outlinewidth": 0,
             "ticks": ""
            },
            "type": "mesh3d"
           }
          ],
          "parcoords": [
           {
            "line": {
             "colorbar": {
              "outlinewidth": 0,
              "ticks": ""
             }
            },
            "type": "parcoords"
           }
          ],
          "pie": [
           {
            "automargin": true,
            "type": "pie"
           }
          ],
          "scatter": [
           {
            "fillpattern": {
             "fillmode": "overlay",
             "size": 10,
             "solidity": 0.2
            },
            "type": "scatter"
           }
          ],
          "scatter3d": [
           {
            "line": {
             "colorbar": {
              "outlinewidth": 0,
              "ticks": ""
             }
            },
            "marker": {
             "colorbar": {
              "outlinewidth": 0,
              "ticks": ""
             }
            },
            "type": "scatter3d"
           }
          ],
          "scattercarpet": [
           {
            "marker": {
             "colorbar": {
              "outlinewidth": 0,
              "ticks": ""
             }
            },
            "type": "scattercarpet"
           }
          ],
          "scattergeo": [
           {
            "marker": {
             "colorbar": {
              "outlinewidth": 0,
              "ticks": ""
             }
            },
            "type": "scattergeo"
           }
          ],
          "scattergl": [
           {
            "marker": {
             "colorbar": {
              "outlinewidth": 0,
              "ticks": ""
             }
            },
            "type": "scattergl"
           }
          ],
          "scattermap": [
           {
            "marker": {
             "colorbar": {
              "outlinewidth": 0,
              "ticks": ""
             }
            },
            "type": "scattermap"
           }
          ],
          "scattermapbox": [
           {
            "marker": {
             "colorbar": {
              "outlinewidth": 0,
              "ticks": ""
             }
            },
            "type": "scattermapbox"
           }
          ],
          "scatterpolar": [
           {
            "marker": {
             "colorbar": {
              "outlinewidth": 0,
              "ticks": ""
             }
            },
            "type": "scatterpolar"
           }
          ],
          "scatterpolargl": [
           {
            "marker": {
             "colorbar": {
              "outlinewidth": 0,
              "ticks": ""
             }
            },
            "type": "scatterpolargl"
           }
          ],
          "scatterternary": [
           {
            "marker": {
             "colorbar": {
              "outlinewidth": 0,
              "ticks": ""
             }
            },
            "type": "scatterternary"
           }
          ],
          "surface": [
           {
            "colorbar": {
             "outlinewidth": 0,
             "ticks": ""
            },
            "colorscale": [
             [
              0,
              "#0d0887"
             ],
             [
              0.1111111111111111,
              "#46039f"
             ],
             [
              0.2222222222222222,
              "#7201a8"
             ],
             [
              0.3333333333333333,
              "#9c179e"
             ],
             [
              0.4444444444444444,
              "#bd3786"
             ],
             [
              0.5555555555555556,
              "#d8576b"
             ],
             [
              0.6666666666666666,
              "#ed7953"
             ],
             [
              0.7777777777777778,
              "#fb9f3a"
             ],
             [
              0.8888888888888888,
              "#fdca26"
             ],
             [
              1,
              "#f0f921"
             ]
            ],
            "type": "surface"
           }
          ],
          "table": [
           {
            "cells": {
             "fill": {
              "color": "#EBF0F8"
             },
             "line": {
              "color": "white"
             }
            },
            "header": {
             "fill": {
              "color": "#C8D4E3"
             },
             "line": {
              "color": "white"
             }
            },
            "type": "table"
           }
          ]
         },
         "layout": {
          "annotationdefaults": {
           "arrowcolor": "#2a3f5f",
           "arrowhead": 0,
           "arrowwidth": 1
          },
          "autotypenumbers": "strict",
          "coloraxis": {
           "colorbar": {
            "outlinewidth": 0,
            "ticks": ""
           }
          },
          "colorscale": {
           "diverging": [
            [
             0,
             "#8e0152"
            ],
            [
             0.1,
             "#c51b7d"
            ],
            [
             0.2,
             "#de77ae"
            ],
            [
             0.3,
             "#f1b6da"
            ],
            [
             0.4,
             "#fde0ef"
            ],
            [
             0.5,
             "#f7f7f7"
            ],
            [
             0.6,
             "#e6f5d0"
            ],
            [
             0.7,
             "#b8e186"
            ],
            [
             0.8,
             "#7fbc41"
            ],
            [
             0.9,
             "#4d9221"
            ],
            [
             1,
             "#276419"
            ]
           ],
           "sequential": [
            [
             0,
             "#0d0887"
            ],
            [
             0.1111111111111111,
             "#46039f"
            ],
            [
             0.2222222222222222,
             "#7201a8"
            ],
            [
             0.3333333333333333,
             "#9c179e"
            ],
            [
             0.4444444444444444,
             "#bd3786"
            ],
            [
             0.5555555555555556,
             "#d8576b"
            ],
            [
             0.6666666666666666,
             "#ed7953"
            ],
            [
             0.7777777777777778,
             "#fb9f3a"
            ],
            [
             0.8888888888888888,
             "#fdca26"
            ],
            [
             1,
             "#f0f921"
            ]
           ],
           "sequentialminus": [
            [
             0,
             "#0d0887"
            ],
            [
             0.1111111111111111,
             "#46039f"
            ],
            [
             0.2222222222222222,
             "#7201a8"
            ],
            [
             0.3333333333333333,
             "#9c179e"
            ],
            [
             0.4444444444444444,
             "#bd3786"
            ],
            [
             0.5555555555555556,
             "#d8576b"
            ],
            [
             0.6666666666666666,
             "#ed7953"
            ],
            [
             0.7777777777777778,
             "#fb9f3a"
            ],
            [
             0.8888888888888888,
             "#fdca26"
            ],
            [
             1,
             "#f0f921"
            ]
           ]
          },
          "colorway": [
           "#636efa",
           "#EF553B",
           "#00cc96",
           "#ab63fa",
           "#FFA15A",
           "#19d3f3",
           "#FF6692",
           "#B6E880",
           "#FF97FF",
           "#FECB52"
          ],
          "font": {
           "color": "#2a3f5f"
          },
          "geo": {
           "bgcolor": "white",
           "lakecolor": "white",
           "landcolor": "#E5ECF6",
           "showlakes": true,
           "showland": true,
           "subunitcolor": "white"
          },
          "hoverlabel": {
           "align": "left"
          },
          "hovermode": "closest",
          "mapbox": {
           "style": "light"
          },
          "paper_bgcolor": "white",
          "plot_bgcolor": "#E5ECF6",
          "polar": {
           "angularaxis": {
            "gridcolor": "white",
            "linecolor": "white",
            "ticks": ""
           },
           "bgcolor": "#E5ECF6",
           "radialaxis": {
            "gridcolor": "white",
            "linecolor": "white",
            "ticks": ""
           }
          },
          "scene": {
           "xaxis": {
            "backgroundcolor": "#E5ECF6",
            "gridcolor": "white",
            "gridwidth": 2,
            "linecolor": "white",
            "showbackground": true,
            "ticks": "",
            "zerolinecolor": "white"
           },
           "yaxis": {
            "backgroundcolor": "#E5ECF6",
            "gridcolor": "white",
            "gridwidth": 2,
            "linecolor": "white",
            "showbackground": true,
            "ticks": "",
            "zerolinecolor": "white"
           },
           "zaxis": {
            "backgroundcolor": "#E5ECF6",
            "gridcolor": "white",
            "gridwidth": 2,
            "linecolor": "white",
            "showbackground": true,
            "ticks": "",
            "zerolinecolor": "white"
           }
          },
          "shapedefaults": {
           "line": {
            "color": "#2a3f5f"
           }
          },
          "ternary": {
           "aaxis": {
            "gridcolor": "white",
            "linecolor": "white",
            "ticks": ""
           },
           "baxis": {
            "gridcolor": "white",
            "linecolor": "white",
            "ticks": ""
           },
           "bgcolor": "#E5ECF6",
           "caxis": {
            "gridcolor": "white",
            "linecolor": "white",
            "ticks": ""
           }
          },
          "title": {
           "x": 0.05
          },
          "xaxis": {
           "automargin": true,
           "gridcolor": "white",
           "linecolor": "white",
           "ticks": "",
           "title": {
            "standoff": 15
           },
           "zerolinecolor": "white",
           "zerolinewidth": 2
          },
          "yaxis": {
           "automargin": true,
           "gridcolor": "white",
           "linecolor": "white",
           "ticks": "",
           "title": {
            "standoff": 15
           },
           "zerolinecolor": "white",
           "zerolinewidth": 2
          }
         }
        },
        "title": {
         "text": "Manufacturing's % Contribution to Total GDP (2013–2024)"
        },
        "xaxis": {
         "anchor": "y",
         "domain": [
          0,
          1
         ],
         "title": {
          "text": "Year"
         }
        },
        "yaxis": {
         "anchor": "x",
         "domain": [
          0,
          1
         ],
         "ticksuffix": "%",
         "title": {
          "text": "Share of GDP (%)"
         }
        }
       }
      }
     },
     "metadata": {},
     "output_type": "display_data"
    }
   ],
   "source": [
    "# Total GDP by year\n",
    "df_total = df_grouped_filtered.groupby(\"Year\", as_index=False)[\"Value\"].sum().rename(columns={\"Value\": \"TotalGDP\"})\n",
    "\n",
    "# Merge and compute % contribution\n",
    "df_mfg = df_grouped_filtered[df_grouped_filtered[\"Group\"] == \"Manufacturing\"].copy()\n",
    "df_mfg = df_mfg.merge(df_total, on=\"Year\")\n",
    "df_mfg[\"Percent\"] = (df_mfg[\"Value\"] / df_mfg[\"TotalGDP\"]) * 100\n",
    "\n",
    "# Plot using Plotly\n",
    "import plotly.express as px\n",
    "fig = px.line(\n",
    "    df_mfg,\n",
    "    x=\"Year\",\n",
    "    y=\"Percent\",\n",
    "    markers=True,\n",
    "    title=\"Manufacturing's % Contribution to Total GDP (2013–2024)\",\n",
    "    labels={\"Percent\": \"Share of GDP (%)\"}\n",
    ")\n",
    "fig.update_layout(yaxis=dict(ticksuffix=\"%\"))\n",
    "fig.show()\n"
   ]
  },
  {
   "cell_type": "code",
   "execution_count": 18,
   "metadata": {},
   "outputs": [
    {
     "data": {
      "application/vnd.plotly.v1+json": {
       "config": {
        "plotlyServerURL": "https://plot.ly"
       },
       "data": [
        {
         "dimensions": [
          {
           "label": "2013",
           "values": {
            "bdata": "+6U9AK8QaABSc1oAqW8RAPPUcgCgf0EAkRIZAA==",
            "dtype": "i4"
           }
          },
          {
           "label": "2018",
           "values": {
            "bdata": "QTZOAJYIhAArN1wA4cUPAIgBiwCuIlMArzkhAA==",
            "dtype": "i4"
           }
          },
          {
           "label": "2023",
           "values": {
            "bdata": "u0pqAKHhtADDB24A23YUAG6KuAB0XnAAs2ktAA==",
            "dtype": "i4"
           }
          }
         ],
         "domain": {
          "x": [
           0,
           1
          ],
          "y": [
           0,
           1
          ]
         },
         "line": {
          "color": {
           "bdata": "+6U9AK8QaABSc1oAqW8RAPPUcgCgf0EAkRIZAA==",
           "dtype": "i4"
          },
          "coloraxis": "coloraxis"
         },
         "name": "",
         "type": "parcoords"
        }
       ],
       "layout": {
        "coloraxis": {
         "colorbar": {
          "title": {
           "text": "2013 Output"
          }
         },
         "colorscale": [
          [
           0,
           "#0d0887"
          ],
          [
           0.1111111111111111,
           "#46039f"
          ],
          [
           0.2222222222222222,
           "#7201a8"
          ],
          [
           0.3333333333333333,
           "#9c179e"
          ],
          [
           0.4444444444444444,
           "#bd3786"
          ],
          [
           0.5555555555555556,
           "#d8576b"
          ],
          [
           0.6666666666666666,
           "#ed7953"
          ],
          [
           0.7777777777777778,
           "#fb9f3a"
          ],
          [
           0.8888888888888888,
           "#fdca26"
          ],
          [
           1,
           "#f0f921"
          ]
         ]
        },
        "legend": {
         "tracegroupgap": 0
        },
        "template": {
         "data": {
          "bar": [
           {
            "error_x": {
             "color": "#2a3f5f"
            },
            "error_y": {
             "color": "#2a3f5f"
            },
            "marker": {
             "line": {
              "color": "#E5ECF6",
              "width": 0.5
             },
             "pattern": {
              "fillmode": "overlay",
              "size": 10,
              "solidity": 0.2
             }
            },
            "type": "bar"
           }
          ],
          "barpolar": [
           {
            "marker": {
             "line": {
              "color": "#E5ECF6",
              "width": 0.5
             },
             "pattern": {
              "fillmode": "overlay",
              "size": 10,
              "solidity": 0.2
             }
            },
            "type": "barpolar"
           }
          ],
          "carpet": [
           {
            "aaxis": {
             "endlinecolor": "#2a3f5f",
             "gridcolor": "white",
             "linecolor": "white",
             "minorgridcolor": "white",
             "startlinecolor": "#2a3f5f"
            },
            "baxis": {
             "endlinecolor": "#2a3f5f",
             "gridcolor": "white",
             "linecolor": "white",
             "minorgridcolor": "white",
             "startlinecolor": "#2a3f5f"
            },
            "type": "carpet"
           }
          ],
          "choropleth": [
           {
            "colorbar": {
             "outlinewidth": 0,
             "ticks": ""
            },
            "type": "choropleth"
           }
          ],
          "contour": [
           {
            "colorbar": {
             "outlinewidth": 0,
             "ticks": ""
            },
            "colorscale": [
             [
              0,
              "#0d0887"
             ],
             [
              0.1111111111111111,
              "#46039f"
             ],
             [
              0.2222222222222222,
              "#7201a8"
             ],
             [
              0.3333333333333333,
              "#9c179e"
             ],
             [
              0.4444444444444444,
              "#bd3786"
             ],
             [
              0.5555555555555556,
              "#d8576b"
             ],
             [
              0.6666666666666666,
              "#ed7953"
             ],
             [
              0.7777777777777778,
              "#fb9f3a"
             ],
             [
              0.8888888888888888,
              "#fdca26"
             ],
             [
              1,
              "#f0f921"
             ]
            ],
            "type": "contour"
           }
          ],
          "contourcarpet": [
           {
            "colorbar": {
             "outlinewidth": 0,
             "ticks": ""
            },
            "type": "contourcarpet"
           }
          ],
          "heatmap": [
           {
            "colorbar": {
             "outlinewidth": 0,
             "ticks": ""
            },
            "colorscale": [
             [
              0,
              "#0d0887"
             ],
             [
              0.1111111111111111,
              "#46039f"
             ],
             [
              0.2222222222222222,
              "#7201a8"
             ],
             [
              0.3333333333333333,
              "#9c179e"
             ],
             [
              0.4444444444444444,
              "#bd3786"
             ],
             [
              0.5555555555555556,
              "#d8576b"
             ],
             [
              0.6666666666666666,
              "#ed7953"
             ],
             [
              0.7777777777777778,
              "#fb9f3a"
             ],
             [
              0.8888888888888888,
              "#fdca26"
             ],
             [
              1,
              "#f0f921"
             ]
            ],
            "type": "heatmap"
           }
          ],
          "histogram": [
           {
            "marker": {
             "pattern": {
              "fillmode": "overlay",
              "size": 10,
              "solidity": 0.2
             }
            },
            "type": "histogram"
           }
          ],
          "histogram2d": [
           {
            "colorbar": {
             "outlinewidth": 0,
             "ticks": ""
            },
            "colorscale": [
             [
              0,
              "#0d0887"
             ],
             [
              0.1111111111111111,
              "#46039f"
             ],
             [
              0.2222222222222222,
              "#7201a8"
             ],
             [
              0.3333333333333333,
              "#9c179e"
             ],
             [
              0.4444444444444444,
              "#bd3786"
             ],
             [
              0.5555555555555556,
              "#d8576b"
             ],
             [
              0.6666666666666666,
              "#ed7953"
             ],
             [
              0.7777777777777778,
              "#fb9f3a"
             ],
             [
              0.8888888888888888,
              "#fdca26"
             ],
             [
              1,
              "#f0f921"
             ]
            ],
            "type": "histogram2d"
           }
          ],
          "histogram2dcontour": [
           {
            "colorbar": {
             "outlinewidth": 0,
             "ticks": ""
            },
            "colorscale": [
             [
              0,
              "#0d0887"
             ],
             [
              0.1111111111111111,
              "#46039f"
             ],
             [
              0.2222222222222222,
              "#7201a8"
             ],
             [
              0.3333333333333333,
              "#9c179e"
             ],
             [
              0.4444444444444444,
              "#bd3786"
             ],
             [
              0.5555555555555556,
              "#d8576b"
             ],
             [
              0.6666666666666666,
              "#ed7953"
             ],
             [
              0.7777777777777778,
              "#fb9f3a"
             ],
             [
              0.8888888888888888,
              "#fdca26"
             ],
             [
              1,
              "#f0f921"
             ]
            ],
            "type": "histogram2dcontour"
           }
          ],
          "mesh3d": [
           {
            "colorbar": {
             "outlinewidth": 0,
             "ticks": ""
            },
            "type": "mesh3d"
           }
          ],
          "parcoords": [
           {
            "line": {
             "colorbar": {
              "outlinewidth": 0,
              "ticks": ""
             }
            },
            "type": "parcoords"
           }
          ],
          "pie": [
           {
            "automargin": true,
            "type": "pie"
           }
          ],
          "scatter": [
           {
            "fillpattern": {
             "fillmode": "overlay",
             "size": 10,
             "solidity": 0.2
            },
            "type": "scatter"
           }
          ],
          "scatter3d": [
           {
            "line": {
             "colorbar": {
              "outlinewidth": 0,
              "ticks": ""
             }
            },
            "marker": {
             "colorbar": {
              "outlinewidth": 0,
              "ticks": ""
             }
            },
            "type": "scatter3d"
           }
          ],
          "scattercarpet": [
           {
            "marker": {
             "colorbar": {
              "outlinewidth": 0,
              "ticks": ""
             }
            },
            "type": "scattercarpet"
           }
          ],
          "scattergeo": [
           {
            "marker": {
             "colorbar": {
              "outlinewidth": 0,
              "ticks": ""
             }
            },
            "type": "scattergeo"
           }
          ],
          "scattergl": [
           {
            "marker": {
             "colorbar": {
              "outlinewidth": 0,
              "ticks": ""
             }
            },
            "type": "scattergl"
           }
          ],
          "scattermap": [
           {
            "marker": {
             "colorbar": {
              "outlinewidth": 0,
              "ticks": ""
             }
            },
            "type": "scattermap"
           }
          ],
          "scattermapbox": [
           {
            "marker": {
             "colorbar": {
              "outlinewidth": 0,
              "ticks": ""
             }
            },
            "type": "scattermapbox"
           }
          ],
          "scatterpolar": [
           {
            "marker": {
             "colorbar": {
              "outlinewidth": 0,
              "ticks": ""
             }
            },
            "type": "scatterpolar"
           }
          ],
          "scatterpolargl": [
           {
            "marker": {
             "colorbar": {
              "outlinewidth": 0,
              "ticks": ""
             }
            },
            "type": "scatterpolargl"
           }
          ],
          "scatterternary": [
           {
            "marker": {
             "colorbar": {
              "outlinewidth": 0,
              "ticks": ""
             }
            },
            "type": "scatterternary"
           }
          ],
          "surface": [
           {
            "colorbar": {
             "outlinewidth": 0,
             "ticks": ""
            },
            "colorscale": [
             [
              0,
              "#0d0887"
             ],
             [
              0.1111111111111111,
              "#46039f"
             ],
             [
              0.2222222222222222,
              "#7201a8"
             ],
             [
              0.3333333333333333,
              "#9c179e"
             ],
             [
              0.4444444444444444,
              "#bd3786"
             ],
             [
              0.5555555555555556,
              "#d8576b"
             ],
             [
              0.6666666666666666,
              "#ed7953"
             ],
             [
              0.7777777777777778,
              "#fb9f3a"
             ],
             [
              0.8888888888888888,
              "#fdca26"
             ],
             [
              1,
              "#f0f921"
             ]
            ],
            "type": "surface"
           }
          ],
          "table": [
           {
            "cells": {
             "fill": {
              "color": "#EBF0F8"
             },
             "line": {
              "color": "white"
             }
            },
            "header": {
             "fill": {
              "color": "#C8D4E3"
             },
             "line": {
              "color": "white"
             }
            },
            "type": "table"
           }
          ]
         },
         "layout": {
          "annotationdefaults": {
           "arrowcolor": "#2a3f5f",
           "arrowhead": 0,
           "arrowwidth": 1
          },
          "autotypenumbers": "strict",
          "coloraxis": {
           "colorbar": {
            "outlinewidth": 0,
            "ticks": ""
           }
          },
          "colorscale": {
           "diverging": [
            [
             0,
             "#8e0152"
            ],
            [
             0.1,
             "#c51b7d"
            ],
            [
             0.2,
             "#de77ae"
            ],
            [
             0.3,
             "#f1b6da"
            ],
            [
             0.4,
             "#fde0ef"
            ],
            [
             0.5,
             "#f7f7f7"
            ],
            [
             0.6,
             "#e6f5d0"
            ],
            [
             0.7,
             "#b8e186"
            ],
            [
             0.8,
             "#7fbc41"
            ],
            [
             0.9,
             "#4d9221"
            ],
            [
             1,
             "#276419"
            ]
           ],
           "sequential": [
            [
             0,
             "#0d0887"
            ],
            [
             0.1111111111111111,
             "#46039f"
            ],
            [
             0.2222222222222222,
             "#7201a8"
            ],
            [
             0.3333333333333333,
             "#9c179e"
            ],
            [
             0.4444444444444444,
             "#bd3786"
            ],
            [
             0.5555555555555556,
             "#d8576b"
            ],
            [
             0.6666666666666666,
             "#ed7953"
            ],
            [
             0.7777777777777778,
             "#fb9f3a"
            ],
            [
             0.8888888888888888,
             "#fdca26"
            ],
            [
             1,
             "#f0f921"
            ]
           ],
           "sequentialminus": [
            [
             0,
             "#0d0887"
            ],
            [
             0.1111111111111111,
             "#46039f"
            ],
            [
             0.2222222222222222,
             "#7201a8"
            ],
            [
             0.3333333333333333,
             "#9c179e"
            ],
            [
             0.4444444444444444,
             "#bd3786"
            ],
            [
             0.5555555555555556,
             "#d8576b"
            ],
            [
             0.6666666666666666,
             "#ed7953"
            ],
            [
             0.7777777777777778,
             "#fb9f3a"
            ],
            [
             0.8888888888888888,
             "#fdca26"
            ],
            [
             1,
             "#f0f921"
            ]
           ]
          },
          "colorway": [
           "#636efa",
           "#EF553B",
           "#00cc96",
           "#ab63fa",
           "#FFA15A",
           "#19d3f3",
           "#FF6692",
           "#B6E880",
           "#FF97FF",
           "#FECB52"
          ],
          "font": {
           "color": "#2a3f5f"
          },
          "geo": {
           "bgcolor": "white",
           "lakecolor": "white",
           "landcolor": "#E5ECF6",
           "showlakes": true,
           "showland": true,
           "subunitcolor": "white"
          },
          "hoverlabel": {
           "align": "left"
          },
          "hovermode": "closest",
          "mapbox": {
           "style": "light"
          },
          "paper_bgcolor": "white",
          "plot_bgcolor": "#E5ECF6",
          "polar": {
           "angularaxis": {
            "gridcolor": "white",
            "linecolor": "white",
            "ticks": ""
           },
           "bgcolor": "#E5ECF6",
           "radialaxis": {
            "gridcolor": "white",
            "linecolor": "white",
            "ticks": ""
           }
          },
          "scene": {
           "xaxis": {
            "backgroundcolor": "#E5ECF6",
            "gridcolor": "white",
            "gridwidth": 2,
            "linecolor": "white",
            "showbackground": true,
            "ticks": "",
            "zerolinecolor": "white"
           },
           "yaxis": {
            "backgroundcolor": "#E5ECF6",
            "gridcolor": "white",
            "gridwidth": 2,
            "linecolor": "white",
            "showbackground": true,
            "ticks": "",
            "zerolinecolor": "white"
           },
           "zaxis": {
            "backgroundcolor": "#E5ECF6",
            "gridcolor": "white",
            "gridwidth": 2,
            "linecolor": "white",
            "showbackground": true,
            "ticks": "",
            "zerolinecolor": "white"
           }
          },
          "shapedefaults": {
           "line": {
            "color": "#2a3f5f"
           }
          },
          "ternary": {
           "aaxis": {
            "gridcolor": "white",
            "linecolor": "white",
            "ticks": ""
           },
           "baxis": {
            "gridcolor": "white",
            "linecolor": "white",
            "ticks": ""
           },
           "bgcolor": "#E5ECF6",
           "caxis": {
            "gridcolor": "white",
            "linecolor": "white",
            "ticks": ""
           }
          },
          "title": {
           "x": 0.05
          },
          "xaxis": {
           "automargin": true,
           "gridcolor": "white",
           "linecolor": "white",
           "ticks": "",
           "title": {
            "standoff": 15
           },
           "zerolinecolor": "white",
           "zerolinewidth": 2
          },
          "yaxis": {
           "automargin": true,
           "gridcolor": "white",
           "linecolor": "white",
           "ticks": "",
           "title": {
            "standoff": 15
           },
           "zerolinecolor": "white",
           "zerolinewidth": 2
          }
         }
        },
        "title": {
         "text": "GDP Output by Group (Parallel Coordinates: 2013 → 2018 → 2024)"
        }
       }
      }
     },
     "metadata": {},
     "output_type": "display_data"
    }
   ],
   "source": [
    "import plotly.express as px\n",
    "\n",
    "# Step 1: Pivot data for 2013, 2018, 2024\n",
    "years = [2013, 2018, 2023]\n",
    "df_pc = df_grouped_filtered[df_grouped_filtered[\"Year\"].isin(years)].copy()\n",
    "df_pivot = df_pc.pivot(index=\"Group\", columns=\"Year\", values=\"Value\").reset_index()\n",
    "\n",
    "# Step 2: Create parallel coordinates plot\n",
    "fig = px.parallel_coordinates(\n",
    "    df_pivot,\n",
    "    dimensions=[2013, 2018, 2023],\n",
    "    color=2013,  # or color='Group' if you want consistent coloring\n",
    "    labels={2013: \"2013\", 2018: \"2018\", 2024: \"2024\"},\n",
    "    title=\"GDP Output by Group (Parallel Coordinates: 2013 → 2018 → 2024)\"\n",
    ")\n",
    "\n",
    "fig.update_layout(coloraxis_colorbar=dict(title=\"2013 Output\"))\n",
    "fig.show()\n"
   ]
  },
  {
   "cell_type": "code",
   "execution_count": 23,
   "metadata": {},
   "outputs": [
    {
     "data": {
      "application/vnd.plotly.v1+json": {
       "config": {
        "plotlyServerURL": "https://plot.ly"
       },
       "data": [
        {
         "dimensions": [
          {
           "label": "2013",
           "values": {
            "bdata": "+6U9AK8QaABSc1oAqW8RAPPUcgCgf0EAkRIZAA==",
            "dtype": "i4"
           }
          },
          {
           "label": "2015",
           "values": {
            "bdata": "LkZEAD32cgAwXVYAUlUOAMhKegCKFkgALM4cAA==",
            "dtype": "i4"
           }
          },
          {
           "label": "2017",
           "values": {
            "bdata": "qdxKADtnfQA3nlYARukNAKNNgwA2Pk4A9U8fAA==",
            "dtype": "i4"
           }
          },
          {
           "label": "2019",
           "values": {
            "bdata": "+wJSAAi9iQCTqFoArTUPAIRfkgACvFUAlVUiAA==",
            "dtype": "i4"
           }
          },
          {
           "label": "2021",
           "values": {
            "bdata": "QCNWALXtnABm818AWm4RALnkogBBEGMAK28nAA==",
            "dtype": "i4"
           }
          },
          {
           "label": "2023",
           "values": {
            "bdata": "u0pqAKHhtADDB24A23YUAG6KuAB0XnAAs2ktAA==",
            "dtype": "i4"
           }
          }
         ],
         "domain": {
          "x": [
           0,
           1
          ],
          "y": [
           0,
           1
          ]
         },
         "line": {
          "color": {
           "bdata": "+6U9AK8QaABSc1oAqW8RAPPUcgCgf0EAkRIZAA==",
           "dtype": "i4"
          },
          "coloraxis": "coloraxis"
         },
         "name": "",
         "type": "parcoords"
        }
       ],
       "layout": {
        "coloraxis": {
         "colorbar": {
          "title": {
           "text": "2013 Output"
          }
         },
         "colorscale": [
          [
           0,
           "#0d0887"
          ],
          [
           0.1111111111111111,
           "#46039f"
          ],
          [
           0.2222222222222222,
           "#7201a8"
          ],
          [
           0.3333333333333333,
           "#9c179e"
          ],
          [
           0.4444444444444444,
           "#bd3786"
          ],
          [
           0.5555555555555556,
           "#d8576b"
          ],
          [
           0.6666666666666666,
           "#ed7953"
          ],
          [
           0.7777777777777778,
           "#fb9f3a"
          ],
          [
           0.8888888888888888,
           "#fdca26"
          ],
          [
           1,
           "#f0f921"
          ]
         ]
        },
        "legend": {
         "tracegroupgap": 0
        },
        "margin": {
         "b": 60,
         "l": 80,
         "r": 80,
         "t": 60
        },
        "template": {
         "data": {
          "bar": [
           {
            "error_x": {
             "color": "#2a3f5f"
            },
            "error_y": {
             "color": "#2a3f5f"
            },
            "marker": {
             "line": {
              "color": "#E5ECF6",
              "width": 0.5
             },
             "pattern": {
              "fillmode": "overlay",
              "size": 10,
              "solidity": 0.2
             }
            },
            "type": "bar"
           }
          ],
          "barpolar": [
           {
            "marker": {
             "line": {
              "color": "#E5ECF6",
              "width": 0.5
             },
             "pattern": {
              "fillmode": "overlay",
              "size": 10,
              "solidity": 0.2
             }
            },
            "type": "barpolar"
           }
          ],
          "carpet": [
           {
            "aaxis": {
             "endlinecolor": "#2a3f5f",
             "gridcolor": "white",
             "linecolor": "white",
             "minorgridcolor": "white",
             "startlinecolor": "#2a3f5f"
            },
            "baxis": {
             "endlinecolor": "#2a3f5f",
             "gridcolor": "white",
             "linecolor": "white",
             "minorgridcolor": "white",
             "startlinecolor": "#2a3f5f"
            },
            "type": "carpet"
           }
          ],
          "choropleth": [
           {
            "colorbar": {
             "outlinewidth": 0,
             "ticks": ""
            },
            "type": "choropleth"
           }
          ],
          "contour": [
           {
            "colorbar": {
             "outlinewidth": 0,
             "ticks": ""
            },
            "colorscale": [
             [
              0,
              "#0d0887"
             ],
             [
              0.1111111111111111,
              "#46039f"
             ],
             [
              0.2222222222222222,
              "#7201a8"
             ],
             [
              0.3333333333333333,
              "#9c179e"
             ],
             [
              0.4444444444444444,
              "#bd3786"
             ],
             [
              0.5555555555555556,
              "#d8576b"
             ],
             [
              0.6666666666666666,
              "#ed7953"
             ],
             [
              0.7777777777777778,
              "#fb9f3a"
             ],
             [
              0.8888888888888888,
              "#fdca26"
             ],
             [
              1,
              "#f0f921"
             ]
            ],
            "type": "contour"
           }
          ],
          "contourcarpet": [
           {
            "colorbar": {
             "outlinewidth": 0,
             "ticks": ""
            },
            "type": "contourcarpet"
           }
          ],
          "heatmap": [
           {
            "colorbar": {
             "outlinewidth": 0,
             "ticks": ""
            },
            "colorscale": [
             [
              0,
              "#0d0887"
             ],
             [
              0.1111111111111111,
              "#46039f"
             ],
             [
              0.2222222222222222,
              "#7201a8"
             ],
             [
              0.3333333333333333,
              "#9c179e"
             ],
             [
              0.4444444444444444,
              "#bd3786"
             ],
             [
              0.5555555555555556,
              "#d8576b"
             ],
             [
              0.6666666666666666,
              "#ed7953"
             ],
             [
              0.7777777777777778,
              "#fb9f3a"
             ],
             [
              0.8888888888888888,
              "#fdca26"
             ],
             [
              1,
              "#f0f921"
             ]
            ],
            "type": "heatmap"
           }
          ],
          "histogram": [
           {
            "marker": {
             "pattern": {
              "fillmode": "overlay",
              "size": 10,
              "solidity": 0.2
             }
            },
            "type": "histogram"
           }
          ],
          "histogram2d": [
           {
            "colorbar": {
             "outlinewidth": 0,
             "ticks": ""
            },
            "colorscale": [
             [
              0,
              "#0d0887"
             ],
             [
              0.1111111111111111,
              "#46039f"
             ],
             [
              0.2222222222222222,
              "#7201a8"
             ],
             [
              0.3333333333333333,
              "#9c179e"
             ],
             [
              0.4444444444444444,
              "#bd3786"
             ],
             [
              0.5555555555555556,
              "#d8576b"
             ],
             [
              0.6666666666666666,
              "#ed7953"
             ],
             [
              0.7777777777777778,
              "#fb9f3a"
             ],
             [
              0.8888888888888888,
              "#fdca26"
             ],
             [
              1,
              "#f0f921"
             ]
            ],
            "type": "histogram2d"
           }
          ],
          "histogram2dcontour": [
           {
            "colorbar": {
             "outlinewidth": 0,
             "ticks": ""
            },
            "colorscale": [
             [
              0,
              "#0d0887"
             ],
             [
              0.1111111111111111,
              "#46039f"
             ],
             [
              0.2222222222222222,
              "#7201a8"
             ],
             [
              0.3333333333333333,
              "#9c179e"
             ],
             [
              0.4444444444444444,
              "#bd3786"
             ],
             [
              0.5555555555555556,
              "#d8576b"
             ],
             [
              0.6666666666666666,
              "#ed7953"
             ],
             [
              0.7777777777777778,
              "#fb9f3a"
             ],
             [
              0.8888888888888888,
              "#fdca26"
             ],
             [
              1,
              "#f0f921"
             ]
            ],
            "type": "histogram2dcontour"
           }
          ],
          "mesh3d": [
           {
            "colorbar": {
             "outlinewidth": 0,
             "ticks": ""
            },
            "type": "mesh3d"
           }
          ],
          "parcoords": [
           {
            "line": {
             "colorbar": {
              "outlinewidth": 0,
              "ticks": ""
             }
            },
            "type": "parcoords"
           }
          ],
          "pie": [
           {
            "automargin": true,
            "type": "pie"
           }
          ],
          "scatter": [
           {
            "fillpattern": {
             "fillmode": "overlay",
             "size": 10,
             "solidity": 0.2
            },
            "type": "scatter"
           }
          ],
          "scatter3d": [
           {
            "line": {
             "colorbar": {
              "outlinewidth": 0,
              "ticks": ""
             }
            },
            "marker": {
             "colorbar": {
              "outlinewidth": 0,
              "ticks": ""
             }
            },
            "type": "scatter3d"
           }
          ],
          "scattercarpet": [
           {
            "marker": {
             "colorbar": {
              "outlinewidth": 0,
              "ticks": ""
             }
            },
            "type": "scattercarpet"
           }
          ],
          "scattergeo": [
           {
            "marker": {
             "colorbar": {
              "outlinewidth": 0,
              "ticks": ""
             }
            },
            "type": "scattergeo"
           }
          ],
          "scattergl": [
           {
            "marker": {
             "colorbar": {
              "outlinewidth": 0,
              "ticks": ""
             }
            },
            "type": "scattergl"
           }
          ],
          "scattermap": [
           {
            "marker": {
             "colorbar": {
              "outlinewidth": 0,
              "ticks": ""
             }
            },
            "type": "scattermap"
           }
          ],
          "scattermapbox": [
           {
            "marker": {
             "colorbar": {
              "outlinewidth": 0,
              "ticks": ""
             }
            },
            "type": "scattermapbox"
           }
          ],
          "scatterpolar": [
           {
            "marker": {
             "colorbar": {
              "outlinewidth": 0,
              "ticks": ""
             }
            },
            "type": "scatterpolar"
           }
          ],
          "scatterpolargl": [
           {
            "marker": {
             "colorbar": {
              "outlinewidth": 0,
              "ticks": ""
             }
            },
            "type": "scatterpolargl"
           }
          ],
          "scatterternary": [
           {
            "marker": {
             "colorbar": {
              "outlinewidth": 0,
              "ticks": ""
             }
            },
            "type": "scatterternary"
           }
          ],
          "surface": [
           {
            "colorbar": {
             "outlinewidth": 0,
             "ticks": ""
            },
            "colorscale": [
             [
              0,
              "#0d0887"
             ],
             [
              0.1111111111111111,
              "#46039f"
             ],
             [
              0.2222222222222222,
              "#7201a8"
             ],
             [
              0.3333333333333333,
              "#9c179e"
             ],
             [
              0.4444444444444444,
              "#bd3786"
             ],
             [
              0.5555555555555556,
              "#d8576b"
             ],
             [
              0.6666666666666666,
              "#ed7953"
             ],
             [
              0.7777777777777778,
              "#fb9f3a"
             ],
             [
              0.8888888888888888,
              "#fdca26"
             ],
             [
              1,
              "#f0f921"
             ]
            ],
            "type": "surface"
           }
          ],
          "table": [
           {
            "cells": {
             "fill": {
              "color": "#EBF0F8"
             },
             "line": {
              "color": "white"
             }
            },
            "header": {
             "fill": {
              "color": "#C8D4E3"
             },
             "line": {
              "color": "white"
             }
            },
            "type": "table"
           }
          ]
         },
         "layout": {
          "annotationdefaults": {
           "arrowcolor": "#2a3f5f",
           "arrowhead": 0,
           "arrowwidth": 1
          },
          "autotypenumbers": "strict",
          "coloraxis": {
           "colorbar": {
            "outlinewidth": 0,
            "ticks": ""
           }
          },
          "colorscale": {
           "diverging": [
            [
             0,
             "#8e0152"
            ],
            [
             0.1,
             "#c51b7d"
            ],
            [
             0.2,
             "#de77ae"
            ],
            [
             0.3,
             "#f1b6da"
            ],
            [
             0.4,
             "#fde0ef"
            ],
            [
             0.5,
             "#f7f7f7"
            ],
            [
             0.6,
             "#e6f5d0"
            ],
            [
             0.7,
             "#b8e186"
            ],
            [
             0.8,
             "#7fbc41"
            ],
            [
             0.9,
             "#4d9221"
            ],
            [
             1,
             "#276419"
            ]
           ],
           "sequential": [
            [
             0,
             "#0d0887"
            ],
            [
             0.1111111111111111,
             "#46039f"
            ],
            [
             0.2222222222222222,
             "#7201a8"
            ],
            [
             0.3333333333333333,
             "#9c179e"
            ],
            [
             0.4444444444444444,
             "#bd3786"
            ],
            [
             0.5555555555555556,
             "#d8576b"
            ],
            [
             0.6666666666666666,
             "#ed7953"
            ],
            [
             0.7777777777777778,
             "#fb9f3a"
            ],
            [
             0.8888888888888888,
             "#fdca26"
            ],
            [
             1,
             "#f0f921"
            ]
           ],
           "sequentialminus": [
            [
             0,
             "#0d0887"
            ],
            [
             0.1111111111111111,
             "#46039f"
            ],
            [
             0.2222222222222222,
             "#7201a8"
            ],
            [
             0.3333333333333333,
             "#9c179e"
            ],
            [
             0.4444444444444444,
             "#bd3786"
            ],
            [
             0.5555555555555556,
             "#d8576b"
            ],
            [
             0.6666666666666666,
             "#ed7953"
            ],
            [
             0.7777777777777778,
             "#fb9f3a"
            ],
            [
             0.8888888888888888,
             "#fdca26"
            ],
            [
             1,
             "#f0f921"
            ]
           ]
          },
          "colorway": [
           "#636efa",
           "#EF553B",
           "#00cc96",
           "#ab63fa",
           "#FFA15A",
           "#19d3f3",
           "#FF6692",
           "#B6E880",
           "#FF97FF",
           "#FECB52"
          ],
          "font": {
           "color": "#2a3f5f"
          },
          "geo": {
           "bgcolor": "white",
           "lakecolor": "white",
           "landcolor": "#E5ECF6",
           "showlakes": true,
           "showland": true,
           "subunitcolor": "white"
          },
          "hoverlabel": {
           "align": "left"
          },
          "hovermode": "closest",
          "mapbox": {
           "style": "light"
          },
          "paper_bgcolor": "white",
          "plot_bgcolor": "#E5ECF6",
          "polar": {
           "angularaxis": {
            "gridcolor": "white",
            "linecolor": "white",
            "ticks": ""
           },
           "bgcolor": "#E5ECF6",
           "radialaxis": {
            "gridcolor": "white",
            "linecolor": "white",
            "ticks": ""
           }
          },
          "scene": {
           "xaxis": {
            "backgroundcolor": "#E5ECF6",
            "gridcolor": "white",
            "gridwidth": 2,
            "linecolor": "white",
            "showbackground": true,
            "ticks": "",
            "zerolinecolor": "white"
           },
           "yaxis": {
            "backgroundcolor": "#E5ECF6",
            "gridcolor": "white",
            "gridwidth": 2,
            "linecolor": "white",
            "showbackground": true,
            "ticks": "",
            "zerolinecolor": "white"
           },
           "zaxis": {
            "backgroundcolor": "#E5ECF6",
            "gridcolor": "white",
            "gridwidth": 2,
            "linecolor": "white",
            "showbackground": true,
            "ticks": "",
            "zerolinecolor": "white"
           }
          },
          "shapedefaults": {
           "line": {
            "color": "#2a3f5f"
           }
          },
          "ternary": {
           "aaxis": {
            "gridcolor": "white",
            "linecolor": "white",
            "ticks": ""
           },
           "baxis": {
            "gridcolor": "white",
            "linecolor": "white",
            "ticks": ""
           },
           "bgcolor": "#E5ECF6",
           "caxis": {
            "gridcolor": "white",
            "linecolor": "white",
            "ticks": ""
           }
          },
          "title": {
           "x": 0.05
          },
          "xaxis": {
           "automargin": true,
           "gridcolor": "white",
           "linecolor": "white",
           "ticks": "",
           "title": {
            "standoff": 15
           },
           "zerolinecolor": "white",
           "zerolinewidth": 2
          },
          "yaxis": {
           "automargin": true,
           "gridcolor": "white",
           "linecolor": "white",
           "ticks": "",
           "title": {
            "standoff": 15
           },
           "zerolinecolor": "white",
           "zerolinewidth": 2
          }
         }
        },
        "title": {
         "text": "GDP Output by Group (Parallel Coordinates: 2013–2023)"
        }
       }
      }
     },
     "metadata": {},
     "output_type": "display_data"
    }
   ],
   "source": [
    "import plotly.express as px\n",
    "\n",
    "# Select years\n",
    "selected_years = [2013, 2015, 2017, 2019, 2021, 2023]\n",
    "\n",
    "# Pivot the data\n",
    "df_pc = df_grouped_filtered[df_grouped_filtered[\"Year\"].isin(selected_years)].copy()\n",
    "df_pivot = df_pc.pivot(index=\"Group\", columns=\"Year\", values=\"Value\").reset_index()\n",
    "\n",
    "# Fill any missing years\n",
    "for y in selected_years:\n",
    "    if y not in df_pivot.columns:\n",
    "        df_pivot[y] = float('nan')\n",
    "\n",
    "# Add 'Group' column as a visible dimension (first axis)\n",
    "df_pivot.insert(0, \"Industry\", df_pivot[\"Group\"])\n",
    "\n",
    "# Plot\n",
    "fig = px.parallel_coordinates(\n",
    "    df_pivot,\n",
    "    dimensions=[\"Industry\"] + selected_years,  # Include Group name as visible dimension\n",
    "    color=2013,\n",
    "    labels={str(y): str(y) for y in selected_years},\n",
    "    title=\"GDP Output by Group (Parallel Coordinates: 2013–2023)\"\n",
    ")\n",
    "\n",
    "fig.update_layout(\n",
    "    coloraxis_colorbar=dict(title=\"2013 Output\"),\n",
    "    margin=dict(l=80, r=80, t=60, b=60)\n",
    ")\n",
    "\n",
    "fig.show()\n"
   ]
  },
  {
   "cell_type": "code",
   "execution_count": 8,
   "metadata": {},
   "outputs": [
    {
     "ename": "ValueError",
     "evalue": "Invalid property specified for object of type plotly.graph_objs.Parcoords: 'hovertemplate'\n\nDid you mean \"customdata\"?\n\n    Valid properties:\n        customdata\n            Assigns extra data each datum. This may be useful when\n            listening to hover, click and selection events. Note\n            that, \"scatter\" traces also appends customdata items in\n            the markers DOM elements\n        customdatasrc\n            Sets the source reference on Chart Studio Cloud for\n            `customdata`.\n        dimensions\n            The dimensions (variables) of the parallel coordinates\n            chart. 2..60 dimensions are supported.\n        dimensiondefaults\n            When used in a template (as\n            layout.template.data.parcoords.dimensiondefaults), sets\n            the default property values to use for elements of\n            parcoords.dimensions\n        domain\n            :class:`plotly.graph_objects.parcoords.Domain` instance\n            or dict with compatible properties\n        ids\n            Assigns id labels to each datum. These ids for object\n            constancy of data points during animation. Should be an\n            array of strings, not numbers or any other type.\n        idssrc\n            Sets the source reference on Chart Studio Cloud for\n            `ids`.\n        labelangle\n            Sets the angle of the labels with respect to the\n            horizontal. For example, a `tickangle` of -90 draws the\n            labels vertically. Tilted labels with \"labelangle\" may\n            be positioned better inside margins when\n            `labelposition` is set to \"bottom\".\n        labelfont\n            Sets the font for the `dimension` labels.\n        labelside\n            Specifies the location of the `label`. \"top\" positions\n            labels above, next to the title \"bottom\" positions\n            labels below the graph Tilted labels with \"labelangle\"\n            may be positioned better inside margins when\n            `labelposition` is set to \"bottom\".\n        legend\n            Sets the reference to a legend to show this trace in.\n            References to these legends are \"legend\", \"legend2\",\n            \"legend3\", etc. Settings for these legends are set in\n            the layout, under `layout.legend`, `layout.legend2`,\n            etc.\n        legendgrouptitle\n            :class:`plotly.graph_objects.parcoords.Legendgrouptitle\n            ` instance or dict with compatible properties\n        legendrank\n            Sets the legend rank for this trace. Items and groups\n            with smaller ranks are presented on top/left side while\n            with \"reversed\" `legend.traceorder` they are on\n            bottom/right side. The default legendrank is 1000, so\n            that you can use ranks less than 1000 to place certain\n            items before all unranked items, and ranks greater than\n            1000 to go after all unranked items. When having\n            unranked or equal rank items shapes would be displayed\n            after traces i.e. according to their order in data and\n            layout.\n        legendwidth\n            Sets the width (in px or fraction) of the legend for\n            this trace.\n        line\n            :class:`plotly.graph_objects.parcoords.Line` instance\n            or dict with compatible properties\n        meta\n            Assigns extra meta information associated with this\n            trace that can be used in various text attributes.\n            Attributes such as trace `name`, graph, axis and\n            colorbar `title.text`, annotation `text`\n            `rangeselector`, `updatemenues` and `sliders` `label`\n            text all support `meta`. To access the trace `meta`\n            values in an attribute in the same trace, simply use\n            `%{meta[i]}` where `i` is the index or key of the\n            `meta` item in question. To access trace `meta` in\n            layout attributes, use `%{data[n[.meta[i]}` where `i`\n            is the index or key of the `meta` and `n` is the trace\n            index.\n        metasrc\n            Sets the source reference on Chart Studio Cloud for\n            `meta`.\n        name\n            Sets the trace name. The trace name appears as the\n            legend item and on hover.\n        rangefont\n            Sets the font for the `dimension` range values.\n        stream\n            :class:`plotly.graph_objects.parcoords.Stream` instance\n            or dict with compatible properties\n        tickfont\n            Sets the font for the `dimension` tick values.\n        uid\n            Assign an id to this trace, Use this to provide object\n            constancy between traces during animations and\n            transitions.\n        uirevision\n            Controls persistence of some user-driven changes to the\n            trace: `constraintrange` in `parcoords` traces, as well\n            as some `editable: true` modifications such as `name`\n            and `colorbar.title`. Defaults to `layout.uirevision`.\n            Note that other user-driven trace attribute changes are\n            controlled by `layout` attributes: `trace.visible` is\n            controlled by `layout.legend.uirevision`,\n            `selectedpoints` is controlled by\n            `layout.selectionrevision`, and `colorbar.(x|y)`\n            (accessible with `config: {editable: true}`) is\n            controlled by `layout.editrevision`. Trace changes are\n            tracked by `uid`, which only falls back on trace index\n            if no `uid` is provided. So if your app can add/remove\n            traces before the end of the `data` array, such that\n            the same trace has a different index, you can still\n            preserve user-driven changes if you give each trace a\n            `uid` that stays with it as it moves.\n        unselected\n            :class:`plotly.graph_objects.parcoords.Unselected`\n            instance or dict with compatible properties\n        visible\n            Determines whether or not this trace is visible. If\n            \"legendonly\", the trace is not drawn, but can appear as\n            a legend item (provided that the legend itself is\n            visible).\n        \nDid you mean \"customdata\"?\n\nBad property path:\nhovertemplate\n^^^^^^^^^^^^^",
     "output_type": "error",
     "traceback": [
      "\u001b[0;31m---------------------------------------------------------------------------\u001b[0m",
      "\u001b[0;31mValueError\u001b[0m                                Traceback (most recent call last)",
      "Cell \u001b[0;32mIn[8], line 23\u001b[0m\n\u001b[1;32m     21\u001b[0m \u001b[38;5;66;03m# Step 4: Add hover with industry name\u001b[39;00m\n\u001b[1;32m     22\u001b[0m fig\u001b[38;5;241m.\u001b[39mupdate_traces(customdata\u001b[38;5;241m=\u001b[39mdf_pivot[[\u001b[38;5;124m\"\u001b[39m\u001b[38;5;124mIndustry\u001b[39m\u001b[38;5;124m\"\u001b[39m]])\n\u001b[0;32m---> 23\u001b[0m \u001b[43mfig\u001b[49m\u001b[38;5;241;43m.\u001b[39;49m\u001b[43mupdate_traces\u001b[49m\u001b[43m(\u001b[49m\n\u001b[1;32m     24\u001b[0m \u001b[43m    \u001b[49m\u001b[43mhovertemplate\u001b[49m\u001b[38;5;241;43m=\u001b[39;49m\u001b[38;5;124;43m\"\u001b[39;49m\u001b[38;5;124;43m<b>\u001b[39;49m\u001b[38;5;124;43m%\u001b[39;49m\u001b[38;5;132;43;01m{customdata[0]}\u001b[39;49;00m\u001b[38;5;124;43m</b><br>\u001b[39;49m\u001b[38;5;124;43m\"\u001b[39;49m\u001b[43m \u001b[49m\u001b[38;5;241;43m+\u001b[39;49m\n\u001b[1;32m     25\u001b[0m \u001b[43m                  \u001b[49m\u001b[38;5;124;43m\"\u001b[39;49m\u001b[38;5;124;43m2013: \u001b[39;49m\u001b[38;5;124;43m%\u001b[39;49m\u001b[38;5;132;43;01m{dimensions[0].value}\u001b[39;49;00m\u001b[38;5;124;43m<br>\u001b[39;49m\u001b[38;5;124;43m\"\u001b[39;49m\u001b[43m \u001b[49m\u001b[38;5;241;43m+\u001b[39;49m\n\u001b[1;32m     26\u001b[0m \u001b[43m                  \u001b[49m\u001b[38;5;124;43m\"\u001b[39;49m\u001b[38;5;124;43m2018: \u001b[39;49m\u001b[38;5;124;43m%\u001b[39;49m\u001b[38;5;132;43;01m{dimensions[1].value}\u001b[39;49;00m\u001b[38;5;124;43m<br>\u001b[39;49m\u001b[38;5;124;43m\"\u001b[39;49m\u001b[43m \u001b[49m\u001b[38;5;241;43m+\u001b[39;49m\n\u001b[1;32m     27\u001b[0m \u001b[43m                  \u001b[49m\u001b[38;5;124;43m\"\u001b[39;49m\u001b[38;5;124;43m2023: \u001b[39;49m\u001b[38;5;124;43m%\u001b[39;49m\u001b[38;5;132;43;01m{dimensions[2].value}\u001b[39;49;00m\u001b[38;5;124;43m<br><extra></extra>\u001b[39;49m\u001b[38;5;124;43m\"\u001b[39;49m\n\u001b[1;32m     28\u001b[0m \u001b[43m)\u001b[49m\n\u001b[1;32m     30\u001b[0m fig\u001b[38;5;241m.\u001b[39mupdate_layout(\n\u001b[1;32m     31\u001b[0m     coloraxis_showscale\u001b[38;5;241m=\u001b[39m\u001b[38;5;28;01mFalse\u001b[39;00m,\n\u001b[1;32m     32\u001b[0m     margin\u001b[38;5;241m=\u001b[39m\u001b[38;5;28mdict\u001b[39m(l\u001b[38;5;241m=\u001b[39m\u001b[38;5;241m80\u001b[39m, r\u001b[38;5;241m=\u001b[39m\u001b[38;5;241m80\u001b[39m, t\u001b[38;5;241m=\u001b[39m\u001b[38;5;241m60\u001b[39m, b\u001b[38;5;241m=\u001b[39m\u001b[38;5;241m60\u001b[39m)\n\u001b[1;32m     33\u001b[0m )\n\u001b[1;32m     35\u001b[0m fig\u001b[38;5;241m.\u001b[39mshow()\n",
      "File \u001b[0;32m~/miniforge3/lib/python3.10/site-packages/plotly/graph_objs/_figure.py:757\u001b[0m, in \u001b[0;36mFigure.update_traces\u001b[0;34m(self, patch, selector, row, col, secondary_y, overwrite, **kwargs)\u001b[0m\n\u001b[1;32m    694\u001b[0m \u001b[38;5;28;01mdef\u001b[39;00m \u001b[38;5;21mupdate_traces\u001b[39m(\n\u001b[1;32m    695\u001b[0m     \u001b[38;5;28mself\u001b[39m,\n\u001b[1;32m    696\u001b[0m     patch\u001b[38;5;241m=\u001b[39m\u001b[38;5;28;01mNone\u001b[39;00m,\n\u001b[0;32m   (...)\u001b[0m\n\u001b[1;32m    702\u001b[0m     \u001b[38;5;241m*\u001b[39m\u001b[38;5;241m*\u001b[39mkwargs,\n\u001b[1;32m    703\u001b[0m ) \u001b[38;5;241m-\u001b[39m\u001b[38;5;241m>\u001b[39m \u001b[38;5;124m\"\u001b[39m\u001b[38;5;124mFigure\u001b[39m\u001b[38;5;124m\"\u001b[39m:\n\u001b[1;32m    704\u001b[0m \u001b[38;5;250m    \u001b[39m\u001b[38;5;124;03m\"\"\"\u001b[39;00m\n\u001b[1;32m    705\u001b[0m \n\u001b[1;32m    706\u001b[0m \u001b[38;5;124;03m    Perform a property update operation on all traces that satisfy the\u001b[39;00m\n\u001b[0;32m   (...)\u001b[0m\n\u001b[1;32m    755\u001b[0m \n\u001b[1;32m    756\u001b[0m \u001b[38;5;124;03m    \"\"\"\u001b[39;00m\n\u001b[0;32m--> 757\u001b[0m     \u001b[38;5;28;01mreturn\u001b[39;00m \u001b[38;5;28;43msuper\u001b[39;49m\u001b[43m(\u001b[49m\u001b[43mFigure\u001b[49m\u001b[43m,\u001b[49m\u001b[43m \u001b[49m\u001b[38;5;28;43mself\u001b[39;49m\u001b[43m)\u001b[49m\u001b[38;5;241;43m.\u001b[39;49m\u001b[43mupdate_traces\u001b[49m\u001b[43m(\u001b[49m\n\u001b[1;32m    758\u001b[0m \u001b[43m        \u001b[49m\u001b[43mpatch\u001b[49m\u001b[43m,\u001b[49m\u001b[43m \u001b[49m\u001b[43mselector\u001b[49m\u001b[43m,\u001b[49m\u001b[43m \u001b[49m\u001b[43mrow\u001b[49m\u001b[43m,\u001b[49m\u001b[43m \u001b[49m\u001b[43mcol\u001b[49m\u001b[43m,\u001b[49m\u001b[43m \u001b[49m\u001b[43msecondary_y\u001b[49m\u001b[43m,\u001b[49m\u001b[43m \u001b[49m\u001b[43moverwrite\u001b[49m\u001b[43m,\u001b[49m\u001b[43m \u001b[49m\u001b[38;5;241;43m*\u001b[39;49m\u001b[38;5;241;43m*\u001b[39;49m\u001b[43mkwargs\u001b[49m\n\u001b[1;32m    759\u001b[0m \u001b[43m    \u001b[49m\u001b[43m)\u001b[49m\n",
      "File \u001b[0;32m~/miniforge3/lib/python3.10/site-packages/plotly/basedatatypes.py:1365\u001b[0m, in \u001b[0;36mBaseFigure.update_traces\u001b[0;34m(self, patch, selector, row, col, secondary_y, overwrite, **kwargs)\u001b[0m\n\u001b[1;32m   1311\u001b[0m \u001b[38;5;250m\u001b[39m\u001b[38;5;124;03m\"\"\"\u001b[39;00m\n\u001b[1;32m   1312\u001b[0m \u001b[38;5;124;03mPerform a property update operation on all traces that satisfy the\u001b[39;00m\n\u001b[1;32m   1313\u001b[0m \u001b[38;5;124;03mspecified selection criteria\u001b[39;00m\n\u001b[0;32m   (...)\u001b[0m\n\u001b[1;32m   1360\u001b[0m \u001b[38;5;124;03m    Returns the Figure object that the method was called on\u001b[39;00m\n\u001b[1;32m   1361\u001b[0m \u001b[38;5;124;03m\"\"\"\u001b[39;00m\n\u001b[1;32m   1362\u001b[0m \u001b[38;5;28;01mfor\u001b[39;00m trace \u001b[38;5;129;01min\u001b[39;00m \u001b[38;5;28mself\u001b[39m\u001b[38;5;241m.\u001b[39mselect_traces(\n\u001b[1;32m   1363\u001b[0m     selector\u001b[38;5;241m=\u001b[39mselector, row\u001b[38;5;241m=\u001b[39mrow, col\u001b[38;5;241m=\u001b[39mcol, secondary_y\u001b[38;5;241m=\u001b[39msecondary_y\n\u001b[1;32m   1364\u001b[0m ):\n\u001b[0;32m-> 1365\u001b[0m     \u001b[43mtrace\u001b[49m\u001b[38;5;241;43m.\u001b[39;49m\u001b[43mupdate\u001b[49m\u001b[43m(\u001b[49m\u001b[43mpatch\u001b[49m\u001b[43m,\u001b[49m\u001b[43m \u001b[49m\u001b[43moverwrite\u001b[49m\u001b[38;5;241;43m=\u001b[39;49m\u001b[43moverwrite\u001b[49m\u001b[43m,\u001b[49m\u001b[43m \u001b[49m\u001b[38;5;241;43m*\u001b[39;49m\u001b[38;5;241;43m*\u001b[39;49m\u001b[43mkwargs\u001b[49m\u001b[43m)\u001b[49m\n\u001b[1;32m   1366\u001b[0m \u001b[38;5;28;01mreturn\u001b[39;00m \u001b[38;5;28mself\u001b[39m\n",
      "File \u001b[0;32m~/miniforge3/lib/python3.10/site-packages/plotly/basedatatypes.py:5123\u001b[0m, in \u001b[0;36mBasePlotlyType.update\u001b[0;34m(self, dict1, overwrite, **kwargs)\u001b[0m\n\u001b[1;32m   5121\u001b[0m     \u001b[38;5;28;01mwith\u001b[39;00m \u001b[38;5;28mself\u001b[39m\u001b[38;5;241m.\u001b[39mfigure\u001b[38;5;241m.\u001b[39mbatch_update():\n\u001b[1;32m   5122\u001b[0m         BaseFigure\u001b[38;5;241m.\u001b[39m_perform_update(\u001b[38;5;28mself\u001b[39m, dict1, overwrite\u001b[38;5;241m=\u001b[39moverwrite)\n\u001b[0;32m-> 5123\u001b[0m         \u001b[43mBaseFigure\u001b[49m\u001b[38;5;241;43m.\u001b[39;49m\u001b[43m_perform_update\u001b[49m\u001b[43m(\u001b[49m\u001b[38;5;28;43mself\u001b[39;49m\u001b[43m,\u001b[49m\u001b[43m \u001b[49m\u001b[43mkwargs\u001b[49m\u001b[43m,\u001b[49m\u001b[43m \u001b[49m\u001b[43moverwrite\u001b[49m\u001b[38;5;241;43m=\u001b[39;49m\u001b[43moverwrite\u001b[49m\u001b[43m)\u001b[49m\n\u001b[1;32m   5124\u001b[0m \u001b[38;5;28;01melse\u001b[39;00m:\n\u001b[1;32m   5125\u001b[0m     BaseFigure\u001b[38;5;241m.\u001b[39m_perform_update(\u001b[38;5;28mself\u001b[39m, dict1, overwrite\u001b[38;5;241m=\u001b[39moverwrite)\n",
      "File \u001b[0;32m~/miniforge3/lib/python3.10/site-packages/plotly/basedatatypes.py:3882\u001b[0m, in \u001b[0;36mBaseFigure._perform_update\u001b[0;34m(plotly_obj, update_obj, overwrite)\u001b[0m\n\u001b[1;32m   3880\u001b[0m     err \u001b[38;5;241m=\u001b[39m _check_path_in_prop_tree(plotly_obj, key, error_cast\u001b[38;5;241m=\u001b[39m\u001b[38;5;167;01mValueError\u001b[39;00m)\n\u001b[1;32m   3881\u001b[0m     \u001b[38;5;28;01mif\u001b[39;00m err \u001b[38;5;129;01mis\u001b[39;00m \u001b[38;5;129;01mnot\u001b[39;00m \u001b[38;5;28;01mNone\u001b[39;00m:\n\u001b[0;32m-> 3882\u001b[0m         \u001b[38;5;28;01mraise\u001b[39;00m err\n\u001b[1;32m   3884\u001b[0m \u001b[38;5;66;03m# Convert update_obj to dict\u001b[39;00m\n\u001b[1;32m   3885\u001b[0m \u001b[38;5;66;03m# --------------------------\u001b[39;00m\n\u001b[1;32m   3886\u001b[0m \u001b[38;5;28;01mif\u001b[39;00m \u001b[38;5;28misinstance\u001b[39m(update_obj, BasePlotlyType):\n",
      "\u001b[0;31mValueError\u001b[0m: Invalid property specified for object of type plotly.graph_objs.Parcoords: 'hovertemplate'\n\nDid you mean \"customdata\"?\n\n    Valid properties:\n        customdata\n            Assigns extra data each datum. This may be useful when\n            listening to hover, click and selection events. Note\n            that, \"scatter\" traces also appends customdata items in\n            the markers DOM elements\n        customdatasrc\n            Sets the source reference on Chart Studio Cloud for\n            `customdata`.\n        dimensions\n            The dimensions (variables) of the parallel coordinates\n            chart. 2..60 dimensions are supported.\n        dimensiondefaults\n            When used in a template (as\n            layout.template.data.parcoords.dimensiondefaults), sets\n            the default property values to use for elements of\n            parcoords.dimensions\n        domain\n            :class:`plotly.graph_objects.parcoords.Domain` instance\n            or dict with compatible properties\n        ids\n            Assigns id labels to each datum. These ids for object\n            constancy of data points during animation. Should be an\n            array of strings, not numbers or any other type.\n        idssrc\n            Sets the source reference on Chart Studio Cloud for\n            `ids`.\n        labelangle\n            Sets the angle of the labels with respect to the\n            horizontal. For example, a `tickangle` of -90 draws the\n            labels vertically. Tilted labels with \"labelangle\" may\n            be positioned better inside margins when\n            `labelposition` is set to \"bottom\".\n        labelfont\n            Sets the font for the `dimension` labels.\n        labelside\n            Specifies the location of the `label`. \"top\" positions\n            labels above, next to the title \"bottom\" positions\n            labels below the graph Tilted labels with \"labelangle\"\n            may be positioned better inside margins when\n            `labelposition` is set to \"bottom\".\n        legend\n            Sets the reference to a legend to show this trace in.\n            References to these legends are \"legend\", \"legend2\",\n            \"legend3\", etc. Settings for these legends are set in\n            the layout, under `layout.legend`, `layout.legend2`,\n            etc.\n        legendgrouptitle\n            :class:`plotly.graph_objects.parcoords.Legendgrouptitle\n            ` instance or dict with compatible properties\n        legendrank\n            Sets the legend rank for this trace. Items and groups\n            with smaller ranks are presented on top/left side while\n            with \"reversed\" `legend.traceorder` they are on\n            bottom/right side. The default legendrank is 1000, so\n            that you can use ranks less than 1000 to place certain\n            items before all unranked items, and ranks greater than\n            1000 to go after all unranked items. When having\n            unranked or equal rank items shapes would be displayed\n            after traces i.e. according to their order in data and\n            layout.\n        legendwidth\n            Sets the width (in px or fraction) of the legend for\n            this trace.\n        line\n            :class:`plotly.graph_objects.parcoords.Line` instance\n            or dict with compatible properties\n        meta\n            Assigns extra meta information associated with this\n            trace that can be used in various text attributes.\n            Attributes such as trace `name`, graph, axis and\n            colorbar `title.text`, annotation `text`\n            `rangeselector`, `updatemenues` and `sliders` `label`\n            text all support `meta`. To access the trace `meta`\n            values in an attribute in the same trace, simply use\n            `%{meta[i]}` where `i` is the index or key of the\n            `meta` item in question. To access trace `meta` in\n            layout attributes, use `%{data[n[.meta[i]}` where `i`\n            is the index or key of the `meta` and `n` is the trace\n            index.\n        metasrc\n            Sets the source reference on Chart Studio Cloud for\n            `meta`.\n        name\n            Sets the trace name. The trace name appears as the\n            legend item and on hover.\n        rangefont\n            Sets the font for the `dimension` range values.\n        stream\n            :class:`plotly.graph_objects.parcoords.Stream` instance\n            or dict with compatible properties\n        tickfont\n            Sets the font for the `dimension` tick values.\n        uid\n            Assign an id to this trace, Use this to provide object\n            constancy between traces during animations and\n            transitions.\n        uirevision\n            Controls persistence of some user-driven changes to the\n            trace: `constraintrange` in `parcoords` traces, as well\n            as some `editable: true` modifications such as `name`\n            and `colorbar.title`. Defaults to `layout.uirevision`.\n            Note that other user-driven trace attribute changes are\n            controlled by `layout` attributes: `trace.visible` is\n            controlled by `layout.legend.uirevision`,\n            `selectedpoints` is controlled by\n            `layout.selectionrevision`, and `colorbar.(x|y)`\n            (accessible with `config: {editable: true}`) is\n            controlled by `layout.editrevision`. Trace changes are\n            tracked by `uid`, which only falls back on trace index\n            if no `uid` is provided. So if your app can add/remove\n            traces before the end of the `data` array, such that\n            the same trace has a different index, you can still\n            preserve user-driven changes if you give each trace a\n            `uid` that stays with it as it moves.\n        unselected\n            :class:`plotly.graph_objects.parcoords.Unselected`\n            instance or dict with compatible properties\n        visible\n            Determines whether or not this trace is visible. If\n            \"legendonly\", the trace is not drawn, but can appear as\n            a legend item (provided that the legend itself is\n            visible).\n        \nDid you mean \"customdata\"?\n\nBad property path:\nhovertemplate\n^^^^^^^^^^^^^"
     ]
    }
   ],
   "source": [
    "import plotly.express as px\n",
    "\n",
    "# Step 1: Prepare years\n",
    "years = [2013, 2018, 2023]\n",
    "df_pc = df_grouped_filtered[df_grouped_filtered[\"Year\"].isin(years)].copy()\n",
    "df_pivot = df_pc.pivot(index=\"Group\", columns=\"Year\", values=\"Value\").reset_index()\n",
    "\n",
    "# Step 2: Add hover column (industry name)\n",
    "df_pivot[\"Industry\"] = df_pivot[\"Group\"]\n",
    "\n",
    "# Step 3: Create parallel coordinates plot (no color scale)\n",
    "fig = px.parallel_coordinates(\n",
    "    df_pivot,\n",
    "    dimensions=years,\n",
    "    color_continuous_scale=[[0, 'gray'], [1, 'gray']],  # set constant color\n",
    "    color=df_pivot[years[0]],  # dummy input to override\n",
    "    labels={year: str(year) for year in years},\n",
    "    title=\"GDP Output by Group (Parallel Coordinates: 2013 → 2018 → 2023)\"\n",
    ")\n",
    "\n",
    "# Step 4: Add hover with industry name\n",
    "fig.update_traces(customdata=df_pivot[[\"Industry\"]])\n",
    "fig.update_traces(\n",
    "    hovertemplate=\"<b>%{customdata[0]}</b><br>\" +\n",
    "                  \"2013: %{dimensions[0].value}<br>\" +\n",
    "                  \"2018: %{dimensions[1].value}<br>\" +\n",
    "                  \"2023: %{dimensions[2].value}<br><extra></extra>\"\n",
    ")\n",
    "\n",
    "fig.update_layout(\n",
    "    coloraxis_showscale=False,\n",
    "    margin=dict(l=80, r=80, t=60, b=60)\n",
    ")\n",
    "\n",
    "fig.show()\n"
   ]
  },
  {
   "cell_type": "code",
   "execution_count": 10,
   "metadata": {},
   "outputs": [
    {
     "name": "stderr",
     "output_type": "stream",
     "text": [
      "/Users/nandinikodali/miniforge3/lib/python3.10/site-packages/altair/utils/core.py:384: FutureWarning:\n",
      "\n",
      "the convert_dtype parameter is deprecated and will be removed in a future version.  Do ``ser.astype(object).apply()`` instead if you want ``convert_dtype=False``.\n",
      "\n"
     ]
    },
    {
     "data": {
      "text/html": [
       "\n",
       "<div id=\"altair-viz-1187adeb8e6347b2a924d234fa3aacbb\"></div>\n",
       "<script type=\"text/javascript\">\n",
       "  var VEGA_DEBUG = (typeof VEGA_DEBUG == \"undefined\") ? {} : VEGA_DEBUG;\n",
       "  (function(spec, embedOpt){\n",
       "    let outputDiv = document.currentScript.previousElementSibling;\n",
       "    if (outputDiv.id !== \"altair-viz-1187adeb8e6347b2a924d234fa3aacbb\") {\n",
       "      outputDiv = document.getElementById(\"altair-viz-1187adeb8e6347b2a924d234fa3aacbb\");\n",
       "    }\n",
       "    const paths = {\n",
       "      \"vega\": \"https://cdn.jsdelivr.net/npm//vega@5?noext\",\n",
       "      \"vega-lib\": \"https://cdn.jsdelivr.net/npm//vega-lib?noext\",\n",
       "      \"vega-lite\": \"https://cdn.jsdelivr.net/npm//vega-lite@4.17.0?noext\",\n",
       "      \"vega-embed\": \"https://cdn.jsdelivr.net/npm//vega-embed@6?noext\",\n",
       "    };\n",
       "\n",
       "    function maybeLoadScript(lib, version) {\n",
       "      var key = `${lib.replace(\"-\", \"\")}_version`;\n",
       "      return (VEGA_DEBUG[key] == version) ?\n",
       "        Promise.resolve(paths[lib]) :\n",
       "        new Promise(function(resolve, reject) {\n",
       "          var s = document.createElement('script');\n",
       "          document.getElementsByTagName(\"head\")[0].appendChild(s);\n",
       "          s.async = true;\n",
       "          s.onload = () => {\n",
       "            VEGA_DEBUG[key] = version;\n",
       "            return resolve(paths[lib]);\n",
       "          };\n",
       "          s.onerror = () => reject(`Error loading script: ${paths[lib]}`);\n",
       "          s.src = paths[lib];\n",
       "        });\n",
       "    }\n",
       "\n",
       "    function showError(err) {\n",
       "      outputDiv.innerHTML = `<div class=\"error\" style=\"color:red;\">${err}</div>`;\n",
       "      throw err;\n",
       "    }\n",
       "\n",
       "    function displayChart(vegaEmbed) {\n",
       "      vegaEmbed(outputDiv, spec, embedOpt)\n",
       "        .catch(err => showError(`Javascript Error: ${err.message}<br>This usually means there's a typo in your chart specification. See the javascript console for the full traceback.`));\n",
       "    }\n",
       "\n",
       "    if(typeof define === \"function\" && define.amd) {\n",
       "      requirejs.config({paths});\n",
       "      require([\"vega-embed\"], displayChart, err => showError(`Error loading script: ${err.message}`));\n",
       "    } else {\n",
       "      maybeLoadScript(\"vega\", \"5\")\n",
       "        .then(() => maybeLoadScript(\"vega-lite\", \"4.17.0\"))\n",
       "        .then(() => maybeLoadScript(\"vega-embed\", \"6\"))\n",
       "        .catch(showError)\n",
       "        .then(() => displayChart(vegaEmbed));\n",
       "    }\n",
       "  })({\"config\": {\"view\": {\"continuousWidth\": 400, \"continuousHeight\": 300}}, \"data\": {\"name\": \"data-6c480936b21c2e48cd9d6cde3fa9ca58\"}, \"mark\": {\"type\": \"line\", \"point\": true}, \"encoding\": {\"color\": {\"field\": \"Group\", \"legend\": null, \"type\": \"nominal\"}, \"detail\": {\"field\": \"Group\", \"type\": \"nominal\"}, \"tooltip\": [{\"field\": \"Group\", \"type\": \"nominal\"}, {\"field\": \"Year\", \"type\": \"nominal\"}, {\"field\": \"Value\", \"type\": \"quantitative\"}], \"x\": {\"field\": \"Year\", \"title\": \"Year\", \"type\": \"nominal\"}, \"y\": {\"field\": \"Value\", \"title\": \"Output (Billion $)\", \"type\": \"quantitative\"}}, \"height\": 400, \"selection\": {\"selector001\": {\"type\": \"interval\", \"bind\": \"scales\", \"encodings\": [\"x\", \"y\"]}}, \"title\": \"GDP Output by Group (Simulated Parallel Coordinates: 2013\\u20132023)\", \"width\": 700, \"$schema\": \"https://vega.github.io/schema/vega-lite/v4.17.0.json\", \"datasets\": {\"data-6c480936b21c2e48cd9d6cde3fa9ca58\": [{\"Group\": \"Health, Education & Leisure\", \"Year\": \"2013\", \"Value\": 4040187}, {\"Group\": \"Information & Finance\", \"Year\": \"2013\", \"Value\": 6820015}, {\"Group\": \"Manufacturing\", \"Year\": \"2013\", \"Value\": 5927762}, {\"Group\": \"Primary Industries\", \"Year\": \"2013\", \"Value\": 1142697}, {\"Group\": \"Professional & Public Services\", \"Year\": \"2013\", \"Value\": 7525619}, {\"Group\": \"Trade & Transportation\", \"Year\": \"2013\", \"Value\": 4292512}, {\"Group\": \"Utilities & Construction\", \"Year\": \"2013\", \"Value\": 1643153}, {\"Group\": \"Health, Education & Leisure\", \"Year\": \"2015\", \"Value\": 4474414}, {\"Group\": \"Information & Finance\", \"Year\": \"2015\", \"Value\": 7534141}, {\"Group\": \"Manufacturing\", \"Year\": \"2015\", \"Value\": 5659952}, {\"Group\": \"Primary Industries\", \"Year\": \"2015\", \"Value\": 939346}, {\"Group\": \"Professional & Public Services\", \"Year\": \"2015\", \"Value\": 8014536}, {\"Group\": \"Trade & Transportation\", \"Year\": \"2015\", \"Value\": 4724362}, {\"Group\": \"Utilities & Construction\", \"Year\": \"2015\", \"Value\": 1887788}, {\"Group\": \"Health, Education & Leisure\", \"Year\": \"2017\", \"Value\": 4906153}, {\"Group\": \"Information & Finance\", \"Year\": \"2017\", \"Value\": 8218427}, {\"Group\": \"Manufacturing\", \"Year\": \"2017\", \"Value\": 5676599}, {\"Group\": \"Primary Industries\", \"Year\": \"2017\", \"Value\": 911686}, {\"Group\": \"Professional & Public Services\", \"Year\": \"2017\", \"Value\": 8605091}, {\"Group\": \"Trade & Transportation\", \"Year\": \"2017\", \"Value\": 5127734}, {\"Group\": \"Utilities & Construction\", \"Year\": \"2017\", \"Value\": 2052085}, {\"Group\": \"Health, Education & Leisure\", \"Year\": \"2019\", \"Value\": 5374715}, {\"Group\": \"Information & Finance\", \"Year\": \"2019\", \"Value\": 9026824}, {\"Group\": \"Manufacturing\", \"Year\": \"2019\", \"Value\": 5941395}, {\"Group\": \"Primary Industries\", \"Year\": \"2019\", \"Value\": 996781}, {\"Group\": \"Professional & Public Services\", \"Year\": \"2019\", \"Value\": 9592708}, {\"Group\": \"Trade & Transportation\", \"Year\": \"2019\", \"Value\": 5618690}, {\"Group\": \"Utilities & Construction\", \"Year\": \"2019\", \"Value\": 2250133}, {\"Group\": \"Health, Education & Leisure\", \"Year\": \"2021\", \"Value\": 5645120}, {\"Group\": \"Information & Finance\", \"Year\": \"2021\", \"Value\": 10284469}, {\"Group\": \"Manufacturing\", \"Year\": \"2021\", \"Value\": 6288230}, {\"Group\": \"Primary Industries\", \"Year\": \"2021\", \"Value\": 1142362}, {\"Group\": \"Professional & Public Services\", \"Year\": \"2021\", \"Value\": 10675385}, {\"Group\": \"Trade & Transportation\", \"Year\": \"2021\", \"Value\": 6492225}, {\"Group\": \"Utilities & Construction\", \"Year\": \"2021\", \"Value\": 2584363}, {\"Group\": \"Health, Education & Leisure\", \"Year\": \"2023\", \"Value\": 6965947}, {\"Group\": \"Information & Finance\", \"Year\": \"2023\", \"Value\": 11854241}, {\"Group\": \"Manufacturing\", \"Year\": \"2023\", \"Value\": 7210947}, {\"Group\": \"Primary Industries\", \"Year\": \"2023\", \"Value\": 1341147}, {\"Group\": \"Professional & Public Services\", \"Year\": \"2023\", \"Value\": 12094062}, {\"Group\": \"Trade & Transportation\", \"Year\": \"2023\", \"Value\": 7364212}, {\"Group\": \"Utilities & Construction\", \"Year\": \"2023\", \"Value\": 2976179}]}}, {\"mode\": \"vega-lite\"});\n",
       "</script>"
      ],
      "text/plain": [
       "alt.Chart(...)"
      ]
     },
     "execution_count": 10,
     "metadata": {},
     "output_type": "execute_result"
    }
   ],
   "source": [
    "import altair as alt\n",
    "import pandas as pd\n",
    "\n",
    "# Step 1: Prepare the data\n",
    "years = [2013, 2015, 2017, 2019, 2021, 2023]\n",
    "df_pc = df_grouped_filtered[df_grouped_filtered[\"Year\"].isin(years)].copy()\n",
    "\n",
    "# Step 2: Ensure all years exist\n",
    "df_pivot = df_pc.pivot(index=\"Group\", columns=\"Year\", values=\"Value\").reset_index()\n",
    "\n",
    "# Step 3: Melt to long format for Altair\n",
    "df_melted = df_pivot.melt(id_vars=\"Group\", var_name=\"Year\", value_name=\"Value\")\n",
    "df_melted[\"Year\"] = df_melted[\"Year\"].astype(str)  # for ordinal x-axis\n",
    "\n",
    "# Step 4: Create the line chart\n",
    "chart = alt.Chart(df_melted).mark_line(point=True).encode(\n",
    "    x=alt.X(\"Year:N\", title=\"Year\"),\n",
    "    y=alt.Y(\"Value:Q\", title=\"Output (Billion $)\"),\n",
    "    color=alt.Color(\"Group:N\", legend=None),\n",
    "    detail=\"Group:N\",\n",
    "    tooltip=[\"Group\", \"Year\", \"Value\"]\n",
    ").properties(\n",
    "    width=700,\n",
    "    height=400,\n",
    "    title=\"GDP Output by Group (Simulated Parallel Coordinates: 2013–2023)\"\n",
    ").interactive()\n",
    "\n",
    "chart\n"
   ]
  },
  {
   "cell_type": "code",
   "execution_count": 11,
   "metadata": {},
   "outputs": [
    {
     "name": "stderr",
     "output_type": "stream",
     "text": [
      "/Users/nandinikodali/miniforge3/lib/python3.10/site-packages/altair/utils/core.py:384: FutureWarning:\n",
      "\n",
      "the convert_dtype parameter is deprecated and will be removed in a future version.  Do ``ser.astype(object).apply()`` instead if you want ``convert_dtype=False``.\n",
      "\n",
      "/Users/nandinikodali/miniforge3/lib/python3.10/site-packages/altair/utils/core.py:384: FutureWarning:\n",
      "\n",
      "the convert_dtype parameter is deprecated and will be removed in a future version.  Do ``ser.astype(object).apply()`` instead if you want ``convert_dtype=False``.\n",
      "\n"
     ]
    },
    {
     "data": {
      "text/html": [
       "\n",
       "<div id=\"altair-viz-3661e93edbee4d91955e26f7fad88ea8\"></div>\n",
       "<script type=\"text/javascript\">\n",
       "  var VEGA_DEBUG = (typeof VEGA_DEBUG == \"undefined\") ? {} : VEGA_DEBUG;\n",
       "  (function(spec, embedOpt){\n",
       "    let outputDiv = document.currentScript.previousElementSibling;\n",
       "    if (outputDiv.id !== \"altair-viz-3661e93edbee4d91955e26f7fad88ea8\") {\n",
       "      outputDiv = document.getElementById(\"altair-viz-3661e93edbee4d91955e26f7fad88ea8\");\n",
       "    }\n",
       "    const paths = {\n",
       "      \"vega\": \"https://cdn.jsdelivr.net/npm//vega@5?noext\",\n",
       "      \"vega-lib\": \"https://cdn.jsdelivr.net/npm//vega-lib?noext\",\n",
       "      \"vega-lite\": \"https://cdn.jsdelivr.net/npm//vega-lite@4.17.0?noext\",\n",
       "      \"vega-embed\": \"https://cdn.jsdelivr.net/npm//vega-embed@6?noext\",\n",
       "    };\n",
       "\n",
       "    function maybeLoadScript(lib, version) {\n",
       "      var key = `${lib.replace(\"-\", \"\")}_version`;\n",
       "      return (VEGA_DEBUG[key] == version) ?\n",
       "        Promise.resolve(paths[lib]) :\n",
       "        new Promise(function(resolve, reject) {\n",
       "          var s = document.createElement('script');\n",
       "          document.getElementsByTagName(\"head\")[0].appendChild(s);\n",
       "          s.async = true;\n",
       "          s.onload = () => {\n",
       "            VEGA_DEBUG[key] = version;\n",
       "            return resolve(paths[lib]);\n",
       "          };\n",
       "          s.onerror = () => reject(`Error loading script: ${paths[lib]}`);\n",
       "          s.src = paths[lib];\n",
       "        });\n",
       "    }\n",
       "\n",
       "    function showError(err) {\n",
       "      outputDiv.innerHTML = `<div class=\"error\" style=\"color:red;\">${err}</div>`;\n",
       "      throw err;\n",
       "    }\n",
       "\n",
       "    function displayChart(vegaEmbed) {\n",
       "      vegaEmbed(outputDiv, spec, embedOpt)\n",
       "        .catch(err => showError(`Javascript Error: ${err.message}<br>This usually means there's a typo in your chart specification. See the javascript console for the full traceback.`));\n",
       "    }\n",
       "\n",
       "    if(typeof define === \"function\" && define.amd) {\n",
       "      requirejs.config({paths});\n",
       "      require([\"vega-embed\"], displayChart, err => showError(`Error loading script: ${err.message}`));\n",
       "    } else {\n",
       "      maybeLoadScript(\"vega\", \"5\")\n",
       "        .then(() => maybeLoadScript(\"vega-lite\", \"4.17.0\"))\n",
       "        .then(() => maybeLoadScript(\"vega-embed\", \"6\"))\n",
       "        .catch(showError)\n",
       "        .then(() => displayChart(vegaEmbed));\n",
       "    }\n",
       "  })({\"config\": {\"view\": {\"continuousWidth\": 400, \"continuousHeight\": 300}}, \"data\": {\"name\": \"data-63e55a6ac0b3f35514d0858eab6de736\"}, \"mark\": {\"type\": \"line\", \"point\": true}, \"encoding\": {\"color\": {\"field\": \"Group\", \"legend\": {\"title\": \"Group\"}, \"type\": \"nominal\"}, \"detail\": {\"field\": \"Group\", \"type\": \"nominal\"}, \"tooltip\": [{\"field\": \"Group\", \"type\": \"nominal\"}, {\"field\": \"Year\", \"type\": \"nominal\"}, {\"field\": \"Percent\", \"format\": \".2f\", \"type\": \"quantitative\"}, {\"field\": \"Rank\", \"format\": \".0f\", \"type\": \"quantitative\"}], \"x\": {\"field\": \"Year\", \"title\": \"Year\", \"type\": \"nominal\"}, \"y\": {\"field\": \"Rank\", \"sort\": \"ascending\", \"title\": \"Rank (1 = Top Contributor)\", \"type\": \"quantitative\"}}, \"height\": 400, \"selection\": {\"selector002\": {\"type\": \"interval\", \"bind\": \"scales\", \"encodings\": [\"x\", \"y\"]}}, \"title\": \"Rank of Industry Contribution to GDP Over Time (Bump Chart)\", \"width\": 700, \"$schema\": \"https://vega.github.io/schema/vega-lite/v4.17.0.json\", \"datasets\": {\"data-63e55a6ac0b3f35514d0858eab6de736\": [{\"Group\": \"Health, Education & Leisure\", \"Year\": \"2013\", \"Value\": 4040187, \"Color\": \"Other\", \"TotalGDP\": 31391945, \"Percent\": 12.870139139196377, \"Rank\": 5.0}, {\"Group\": \"Information & Finance\", \"Year\": \"2013\", \"Value\": 6820015, \"Color\": \"Other\", \"TotalGDP\": 31391945, \"Percent\": 21.725366172755464, \"Rank\": 2.0}, {\"Group\": \"Manufacturing\", \"Year\": \"2013\", \"Value\": 5927762, \"Color\": \"Manufacturing\", \"TotalGDP\": 31391945, \"Percent\": 18.88306697785053, \"Rank\": 3.0}, {\"Group\": \"Primary Industries\", \"Year\": \"2013\", \"Value\": 1142697, \"Color\": \"Other\", \"TotalGDP\": 31391945, \"Percent\": 3.640096209393843, \"Rank\": 7.0}, {\"Group\": \"Professional & Public Services\", \"Year\": \"2013\", \"Value\": 7525619, \"Color\": \"Other\", \"TotalGDP\": 31391945, \"Percent\": 23.973089274971652, \"Rank\": 1.0}, {\"Group\": \"Trade & Transportation\", \"Year\": \"2013\", \"Value\": 4292512, \"Color\": \"Other\", \"TotalGDP\": 31391945, \"Percent\": 13.673928136660535, \"Rank\": 4.0}, {\"Group\": \"Utilities & Construction\", \"Year\": \"2013\", \"Value\": 1643153, \"Color\": \"Other\", \"TotalGDP\": 31391945, \"Percent\": 5.234314089171601, \"Rank\": 6.0}, {\"Group\": \"Health, Education & Leisure\", \"Year\": \"2015\", \"Value\": 4474414, \"Color\": \"Other\", \"TotalGDP\": 33234539, \"Percent\": 13.463144471478902, \"Rank\": 5.0}, {\"Group\": \"Information & Finance\", \"Year\": \"2015\", \"Value\": 7534141, \"Color\": \"Other\", \"TotalGDP\": 33234539, \"Percent\": 22.66961187576575, \"Rank\": 2.0}, {\"Group\": \"Manufacturing\", \"Year\": \"2015\", \"Value\": 5659952, \"Color\": \"Manufacturing\", \"TotalGDP\": 33234539, \"Percent\": 17.03033100594535, \"Rank\": 3.0}, {\"Group\": \"Primary Industries\", \"Year\": \"2015\", \"Value\": 939346, \"Color\": \"Other\", \"TotalGDP\": 33234539, \"Percent\": 2.826415013609787, \"Rank\": 7.0}, {\"Group\": \"Professional & Public Services\", \"Year\": \"2015\", \"Value\": 8014536, \"Color\": \"Other\", \"TotalGDP\": 33234539, \"Percent\": 24.115081000521776, \"Rank\": 1.0}, {\"Group\": \"Trade & Transportation\", \"Year\": \"2015\", \"Value\": 4724362, \"Color\": \"Other\", \"TotalGDP\": 33234539, \"Percent\": 14.2152174880476, \"Rank\": 4.0}, {\"Group\": \"Utilities & Construction\", \"Year\": \"2015\", \"Value\": 1887788, \"Color\": \"Other\", \"TotalGDP\": 33234539, \"Percent\": 5.680199144630831, \"Rank\": 6.0}, {\"Group\": \"Health, Education & Leisure\", \"Year\": \"2017\", \"Value\": 4906153, \"Color\": \"Other\", \"TotalGDP\": 35497775, \"Percent\": 13.82101554252344, \"Rank\": 5.0}, {\"Group\": \"Information & Finance\", \"Year\": \"2017\", \"Value\": 8218427, \"Color\": \"Other\", \"TotalGDP\": 35497775, \"Percent\": 23.1519496644508, \"Rank\": 2.0}, {\"Group\": \"Manufacturing\", \"Year\": \"2017\", \"Value\": 5676599, \"Color\": \"Manufacturing\", \"TotalGDP\": 35497775, \"Percent\": 15.991421997575905, \"Rank\": 3.0}, {\"Group\": \"Primary Industries\", \"Year\": \"2017\", \"Value\": 911686, \"Color\": \"Other\", \"TotalGDP\": 35497775, \"Percent\": 2.5682905477878544, \"Rank\": 7.0}, {\"Group\": \"Professional & Public Services\", \"Year\": \"2017\", \"Value\": 8605091, \"Color\": \"Other\", \"TotalGDP\": 35497775, \"Percent\": 24.24121230133438, \"Rank\": 1.0}, {\"Group\": \"Trade & Transportation\", \"Year\": \"2017\", \"Value\": 5127734, \"Color\": \"Other\", \"TotalGDP\": 35497775, \"Percent\": 14.44522649659028, \"Rank\": 4.0}, {\"Group\": \"Utilities & Construction\", \"Year\": \"2017\", \"Value\": 2052085, \"Color\": \"Other\", \"TotalGDP\": 35497775, \"Percent\": 5.780883449737343, \"Rank\": 6.0}, {\"Group\": \"Health, Education & Leisure\", \"Year\": \"2019\", \"Value\": 5374715, \"Color\": \"Other\", \"TotalGDP\": 38801246, \"Percent\": 13.851913415357847, \"Rank\": 5.0}, {\"Group\": \"Information & Finance\", \"Year\": \"2019\", \"Value\": 9026824, \"Color\": \"Other\", \"TotalGDP\": 38801246, \"Percent\": 23.264263214640067, \"Rank\": 2.0}, {\"Group\": \"Manufacturing\", \"Year\": \"2019\", \"Value\": 5941395, \"Color\": \"Manufacturing\", \"TotalGDP\": 38801246, \"Percent\": 15.312381978661202, \"Rank\": 3.0}, {\"Group\": \"Primary Industries\", \"Year\": \"2019\", \"Value\": 996781, \"Color\": \"Other\", \"TotalGDP\": 38801246, \"Percent\": 2.568940698450766, \"Rank\": 7.0}, {\"Group\": \"Professional & Public Services\", \"Year\": \"2019\", \"Value\": 9592708, \"Color\": \"Other\", \"TotalGDP\": 38801246, \"Percent\": 24.722680297431683, \"Rank\": 1.0}, {\"Group\": \"Trade & Transportation\", \"Year\": \"2019\", \"Value\": 5618690, \"Color\": \"Other\", \"TotalGDP\": 38801246, \"Percent\": 14.480694769441167, \"Rank\": 4.0}, {\"Group\": \"Utilities & Construction\", \"Year\": \"2019\", \"Value\": 2250133, \"Color\": \"Other\", \"TotalGDP\": 38801246, \"Percent\": 5.799125626017267, \"Rank\": 6.0}, {\"Group\": \"Health, Education & Leisure\", \"Year\": \"2021\", \"Value\": 5645120, \"Color\": \"Other\", \"TotalGDP\": 43112154, \"Percent\": 13.094033761337927, \"Rank\": 5.0}, {\"Group\": \"Information & Finance\", \"Year\": \"2021\", \"Value\": 10284469, \"Color\": \"Other\", \"TotalGDP\": 43112154, \"Percent\": 23.855149988562392, \"Rank\": 2.0}, {\"Group\": \"Manufacturing\", \"Year\": \"2021\", \"Value\": 6288230, \"Color\": \"Manufacturing\", \"TotalGDP\": 43112154, \"Percent\": 14.585747675701846, \"Rank\": 4.0}, {\"Group\": \"Primary Industries\", \"Year\": \"2021\", \"Value\": 1142362, \"Color\": \"Other\", \"TotalGDP\": 43112154, \"Percent\": 2.6497446636509974, \"Rank\": 7.0}, {\"Group\": \"Professional & Public Services\", \"Year\": \"2021\", \"Value\": 10675385, \"Color\": \"Other\", \"TotalGDP\": 43112154, \"Percent\": 24.76189197134525, \"Rank\": 1.0}, {\"Group\": \"Trade & Transportation\", \"Year\": \"2021\", \"Value\": 6492225, \"Color\": \"Other\", \"TotalGDP\": 43112154, \"Percent\": 15.05892050766009, \"Rank\": 3.0}, {\"Group\": \"Utilities & Construction\", \"Year\": \"2021\", \"Value\": 2584363, \"Color\": \"Other\", \"TotalGDP\": 43112154, \"Percent\": 5.994511431741499, \"Rank\": 6.0}, {\"Group\": \"Health, Education & Leisure\", \"Year\": \"2023\", \"Value\": 6965947, \"Color\": \"Other\", \"TotalGDP\": 49806735, \"Percent\": 13.985953907639198, \"Rank\": 5.0}, {\"Group\": \"Information & Finance\", \"Year\": \"2023\", \"Value\": 11854241, \"Color\": \"Other\", \"TotalGDP\": 49806735, \"Percent\": 23.800477987565337, \"Rank\": 2.0}, {\"Group\": \"Manufacturing\", \"Year\": \"2023\", \"Value\": 7210947, \"Color\": \"Manufacturing\", \"TotalGDP\": 49806735, \"Percent\": 14.47785525391295, \"Rank\": 4.0}, {\"Group\": \"Primary Industries\", \"Year\": \"2023\", \"Value\": 1341147, \"Color\": \"Other\", \"TotalGDP\": 49806735, \"Percent\": 2.6927021014326677, \"Rank\": 7.0}, {\"Group\": \"Professional & Public Services\", \"Year\": \"2023\", \"Value\": 12094062, \"Color\": \"Other\", \"TotalGDP\": 49806735, \"Percent\": 24.28198114170704, \"Rank\": 1.0}, {\"Group\": \"Trade & Transportation\", \"Year\": \"2023\", \"Value\": 7364212, \"Color\": \"Other\", \"TotalGDP\": 49806735, \"Percent\": 14.785574681817629, \"Rank\": 3.0}, {\"Group\": \"Utilities & Construction\", \"Year\": \"2023\", \"Value\": 2976179, \"Color\": \"Other\", \"TotalGDP\": 49806735, \"Percent\": 5.975454925925178, \"Rank\": 6.0}]}}, {\"mode\": \"vega-lite\"});\n",
       "</script>"
      ],
      "text/plain": [
       "alt.Chart(...)"
      ]
     },
     "execution_count": 11,
     "metadata": {},
     "output_type": "execute_result"
    }
   ],
   "source": [
    "import altair as alt\n",
    "import pandas as pd\n",
    "\n",
    "# Step 1: Compute total GDP per year\n",
    "df_total = df_grouped_filtered.groupby(\"Year\", as_index=False)[\"Value\"].sum().rename(columns={\"Value\": \"TotalGDP\"})\n",
    "\n",
    "# Step 2: Merge total and compute percent contribution\n",
    "df_percent = df_grouped_filtered.merge(df_total, on=\"Year\")\n",
    "df_percent[\"Percent\"] = (df_percent[\"Value\"] / df_percent[\"TotalGDP\"]) * 100\n",
    "\n",
    "# Step 3: Compute rank per year\n",
    "df_percent[\"Rank\"] = df_percent.groupby(\"Year\")[\"Percent\"].rank(ascending=False, method=\"first\")\n",
    "\n",
    "# Step 4: Filter for selected years (optional)\n",
    "years = [2013, 2015, 2017, 2019, 2021, 2023]\n",
    "df_bump = df_percent[df_percent[\"Year\"].isin(years)].copy()\n",
    "df_bump[\"Year\"] = df_bump[\"Year\"].astype(str)\n",
    "\n",
    "# Step 5: Optional - Keep only top N industries per year\n",
    "top_n = 10\n",
    "top_groups = df_bump[df_bump[\"Rank\"] <= top_n][\"Group\"].unique()\n",
    "df_bump = df_bump[df_bump[\"Group\"].isin(top_groups)]\n",
    "\n",
    "# Step 6: Plot bump chart\n",
    "bump_chart = alt.Chart(df_bump).mark_line(point=True).encode(\n",
    "    x=alt.X(\"Year:N\", title=\"Year\"),\n",
    "    y=alt.Y(\"Rank:Q\", title=\"Rank (1 = Top Contributor)\", sort=\"ascending\"),\n",
    "    color=alt.Color(\"Group:N\", legend=alt.Legend(title=\"Group\")),\n",
    "    detail=\"Group:N\",\n",
    "    tooltip=[\"Group\", \"Year\", alt.Tooltip(\"Percent:Q\", format=\".2f\"), alt.Tooltip(\"Rank:Q\", format=\".0f\")]\n",
    ").properties(\n",
    "    width=700,\n",
    "    height=400,\n",
    "    title=\"Rank of Industry Contribution to GDP Over Time (Bump Chart)\"\n",
    ").interactive()\n",
    "\n",
    "bump_chart\n"
   ]
  },
  {
   "cell_type": "code",
   "execution_count": null,
   "metadata": {},
   "outputs": [],
   "source": []
  }
 ],
 "metadata": {
  "kernelspec": {
   "display_name": "base",
   "language": "python",
   "name": "python3"
  },
  "language_info": {
   "codemirror_mode": {
    "name": "ipython",
    "version": 3
   },
   "file_extension": ".py",
   "mimetype": "text/x-python",
   "name": "python",
   "nbconvert_exporter": "python",
   "pygments_lexer": "ipython3",
   "version": "3.10.6"
  }
 },
 "nbformat": 4,
 "nbformat_minor": 2
}
