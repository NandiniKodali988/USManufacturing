{
 "cells": [
  {
   "cell_type": "code",
   "execution_count": 2,
   "metadata": {},
   "outputs": [],
   "source": [
    "import pandas as pd\n",
    "import numpy as np\n",
    "import plotly.express as px"
   ]
  },
  {
   "cell_type": "code",
   "execution_count": 3,
   "metadata": {},
   "outputs": [
    {
     "data": {
      "text/html": [
       "<div>\n",
       "<style scoped>\n",
       "    .dataframe tbody tr th:only-of-type {\n",
       "        vertical-align: middle;\n",
       "    }\n",
       "\n",
       "    .dataframe tbody tr th {\n",
       "        vertical-align: top;\n",
       "    }\n",
       "\n",
       "    .dataframe thead th {\n",
       "        text-align: right;\n",
       "    }\n",
       "</style>\n",
       "<table border=\"1\" class=\"dataframe\">\n",
       "  <thead>\n",
       "    <tr style=\"text-align: right;\">\n",
       "      <th></th>\n",
       "      <th>Industries</th>\n",
       "      <th>Group</th>\n",
       "      <th>Subgroup</th>\n",
       "      <th>1997</th>\n",
       "      <th>1998</th>\n",
       "      <th>1999</th>\n",
       "      <th>2000</th>\n",
       "      <th>2001</th>\n",
       "      <th>2002</th>\n",
       "      <th>2003</th>\n",
       "      <th>...</th>\n",
       "      <th>2014</th>\n",
       "      <th>2015</th>\n",
       "      <th>2016</th>\n",
       "      <th>2017</th>\n",
       "      <th>2018</th>\n",
       "      <th>2019</th>\n",
       "      <th>2020</th>\n",
       "      <th>2021</th>\n",
       "      <th>2022</th>\n",
       "      <th>2023</th>\n",
       "    </tr>\n",
       "  </thead>\n",
       "  <tbody>\n",
       "    <tr>\n",
       "      <th>0</th>\n",
       "      <td>Farms</td>\n",
       "      <td>Primary Industries</td>\n",
       "      <td>Agriculture, forestry, fishing, and hunting</td>\n",
       "      <td>219380</td>\n",
       "      <td>207822</td>\n",
       "      <td>199949</td>\n",
       "      <td>204313</td>\n",
       "      <td>212334</td>\n",
       "      <td>202363</td>\n",
       "      <td>227873</td>\n",
       "      <td>...</td>\n",
       "      <td>442202</td>\n",
       "      <td>403163</td>\n",
       "      <td>379793</td>\n",
       "      <td>395529</td>\n",
       "      <td>395074</td>\n",
       "      <td>388056</td>\n",
       "      <td>389475</td>\n",
       "      <td>472905</td>\n",
       "      <td>574223</td>\n",
       "      <td>555343</td>\n",
       "    </tr>\n",
       "    <tr>\n",
       "      <th>1</th>\n",
       "      <td>Forestry, fishing, and related activities</td>\n",
       "      <td>Primary Industries</td>\n",
       "      <td>Agriculture, forestry, fishing, and hunting</td>\n",
       "      <td>38500</td>\n",
       "      <td>41946</td>\n",
       "      <td>45364</td>\n",
       "      <td>39279</td>\n",
       "      <td>39016</td>\n",
       "      <td>39510</td>\n",
       "      <td>41425</td>\n",
       "      <td>...</td>\n",
       "      <td>56379</td>\n",
       "      <td>54733</td>\n",
       "      <td>51122</td>\n",
       "      <td>53382</td>\n",
       "      <td>53053</td>\n",
       "      <td>50994</td>\n",
       "      <td>53806</td>\n",
       "      <td>61457</td>\n",
       "      <td>65499</td>\n",
       "      <td>66345</td>\n",
       "    </tr>\n",
       "    <tr>\n",
       "      <th>2</th>\n",
       "      <td>Oil and gas extraction</td>\n",
       "      <td>Primary Industries</td>\n",
       "      <td>Mining</td>\n",
       "      <td>98754</td>\n",
       "      <td>72923</td>\n",
       "      <td>85516</td>\n",
       "      <td>142980</td>\n",
       "      <td>142297</td>\n",
       "      <td>116711</td>\n",
       "      <td>165971</td>\n",
       "      <td>...</td>\n",
       "      <td>445747</td>\n",
       "      <td>241538</td>\n",
       "      <td>199796</td>\n",
       "      <td>253994</td>\n",
       "      <td>346639</td>\n",
       "      <td>316004</td>\n",
       "      <td>210508</td>\n",
       "      <td>421929</td>\n",
       "      <td>652942</td>\n",
       "      <td>478748</td>\n",
       "    </tr>\n",
       "    <tr>\n",
       "      <th>3</th>\n",
       "      <td>Mining, except oil and gas</td>\n",
       "      <td>Primary Industries</td>\n",
       "      <td>Mining</td>\n",
       "      <td>56374</td>\n",
       "      <td>55520</td>\n",
       "      <td>53050</td>\n",
       "      <td>54675</td>\n",
       "      <td>55091</td>\n",
       "      <td>54443</td>\n",
       "      <td>57393</td>\n",
       "      <td>...</td>\n",
       "      <td>116134</td>\n",
       "      <td>104439</td>\n",
       "      <td>94841</td>\n",
       "      <td>101852</td>\n",
       "      <td>106906</td>\n",
       "      <td>106096</td>\n",
       "      <td>96316</td>\n",
       "      <td>115877</td>\n",
       "      <td>135150</td>\n",
       "      <td>136909</td>\n",
       "    </tr>\n",
       "    <tr>\n",
       "      <th>4</th>\n",
       "      <td>Support activities for mining</td>\n",
       "      <td>Primary Industries</td>\n",
       "      <td>Mining</td>\n",
       "      <td>22101</td>\n",
       "      <td>23409</td>\n",
       "      <td>17542</td>\n",
       "      <td>20888</td>\n",
       "      <td>29204</td>\n",
       "      <td>24830</td>\n",
       "      <td>29532</td>\n",
       "      <td>...</td>\n",
       "      <td>165762</td>\n",
       "      <td>135473</td>\n",
       "      <td>73078</td>\n",
       "      <td>106929</td>\n",
       "      <td>132025</td>\n",
       "      <td>135631</td>\n",
       "      <td>78964</td>\n",
       "      <td>70194</td>\n",
       "      <td>87563</td>\n",
       "      <td>103802</td>\n",
       "    </tr>\n",
       "  </tbody>\n",
       "</table>\n",
       "<p>5 rows × 30 columns</p>\n",
       "</div>"
      ],
      "text/plain": [
       "                                  Industries              Group   \\\n",
       "0                                      Farms  Primary Industries   \n",
       "1  Forestry, fishing, and related activities  Primary Industries   \n",
       "2                     Oil and gas extraction  Primary Industries   \n",
       "3                 Mining, except oil and gas  Primary Industries   \n",
       "4              Support activities for mining  Primary Industries   \n",
       "\n",
       "                                      Subgroup    1997    1998    1999  \\\n",
       "0  Agriculture, forestry, fishing, and hunting  219380  207822  199949   \n",
       "1  Agriculture, forestry, fishing, and hunting   38500   41946   45364   \n",
       "2                                       Mining   98754   72923   85516   \n",
       "3                                       Mining   56374   55520   53050   \n",
       "4                                       Mining   22101   23409   17542   \n",
       "\n",
       "     2000    2001    2002    2003  ...    2014    2015    2016    2017  \\\n",
       "0  204313  212334  202363  227873  ...  442202  403163  379793  395529   \n",
       "1   39279   39016   39510   41425  ...   56379   54733   51122   53382   \n",
       "2  142980  142297  116711  165971  ...  445747  241538  199796  253994   \n",
       "3   54675   55091   54443   57393  ...  116134  104439   94841  101852   \n",
       "4   20888   29204   24830   29532  ...  165762  135473   73078  106929   \n",
       "\n",
       "     2018    2019    2020    2021    2022    2023  \n",
       "0  395074  388056  389475  472905  574223  555343  \n",
       "1   53053   50994   53806   61457   65499   66345  \n",
       "2  346639  316004  210508  421929  652942  478748  \n",
       "3  106906  106096   96316  115877  135150  136909  \n",
       "4  132025  135631   78964   70194   87563  103802  \n",
       "\n",
       "[5 rows x 30 columns]"
      ]
     },
     "execution_count": 3,
     "metadata": {},
     "output_type": "execute_result"
    }
   ],
   "source": [
    "df = pd.read_csv(\"../data/Processed/GdpByInd.csv\")\n",
    "df.head()"
   ]
  },
  {
   "cell_type": "code",
   "execution_count": 4,
   "metadata": {},
   "outputs": [],
   "source": [
    "# Clean up column names just in case\n",
    "df.columns = df.columns.str.strip()\n",
    "\n",
    "# Identify actual year columns (assuming they are 4-digit years)\n",
    "year_columns = [col for col in df.columns if col.isdigit() and len(col) == 4]\n",
    "\n",
    "# Melt the data safely\n",
    "df_long = df.melt(\n",
    "    id_vars=[\"Group\", \"Subgroup\"],\n",
    "    value_vars=year_columns,\n",
    "    var_name=\"Year\",\n",
    "    value_name=\"Value\"\n",
    ")\n",
    "\n",
    "# Convert year to integer\n",
    "df_long[\"Year\"] = df_long[\"Year\"].astype(int)\n"
   ]
  },
  {
   "cell_type": "code",
   "execution_count": 5,
   "metadata": {},
   "outputs": [],
   "source": [
    "df_grouped = df_long.groupby([\"Group\", \"Year\"], as_index=False)[\"Value\"].sum()\n"
   ]
  },
  {
   "cell_type": "code",
   "execution_count": 6,
   "metadata": {},
   "outputs": [
    {
     "name": "stderr",
     "output_type": "stream",
     "text": [
      "/var/folders/gc/drvvdqb93dqg4y0zt5zljf5w0000gn/T/ipykernel_46657/921163656.py:10: AltairDeprecationWarning: \n",
      "Deprecated since `altair=5.0.0`. Use selection_point instead.\n",
      "  group_select = alt.selection_single(\n",
      "/var/folders/gc/drvvdqb93dqg4y0zt5zljf5w0000gn/T/ipykernel_46657/921163656.py:23: AltairDeprecationWarning: \n",
      "Deprecated since `altair=5.0.0`. Use add_params instead.\n",
      "  ).add_selection(\n"
     ]
    }
   ],
   "source": [
    "import altair as alt\n",
    "\n",
    "# Ensure proper types\n",
    "df_long[\"Year\"] = df_long[\"Year\"].astype(int)\n",
    "df_grouped[\"Year\"] = df_grouped[\"Year\"].astype(int)\n",
    "latest_year = df_grouped[\"Year\"].max()\n",
    "df_latest = df_grouped[df_grouped[\"Year\"] == latest_year]\n",
    "\n",
    "# Selection object\n",
    "group_select = alt.selection_single(\n",
    "    fields=[\"Group\"],\n",
    "    bind=\"legend\",\n",
    "    name=\"Select\",\n",
    "    empty=\"all\"\n",
    ")\n",
    "\n",
    "# --- Top: Bar chart of group outputs ---\n",
    "bar = alt.Chart(df_latest).mark_bar().encode(\n",
    "    x=alt.X('Value:Q', title='Output'),\n",
    "    y=alt.Y('Group:N', sort='-x'),\n",
    "    color='Group:N',\n",
    "    tooltip=['Group', 'Value']\n",
    ").add_selection(\n",
    "    group_select\n",
    ").properties(\n",
    "    title=f\"Group Output in {latest_year}\",\n",
    "    height=300\n",
    ")\n",
    "\n",
    "# --- Line chart: group-level (default view) ---\n",
    "group_line = alt.Chart(df_grouped).mark_line().encode(\n",
    "    x='Year:O',\n",
    "    y='Value:Q',\n",
    "    color='Group:N',\n",
    "    tooltip=['Group', 'Year', 'Value']\n",
    ").transform_filter(\n",
    "    group_select\n",
    ")\n",
    "\n",
    "# --- Line chart: subgroup-level (when selected) ---\n",
    "subgroup_line = alt.Chart(df_long).mark_line(point=True).encode(\n",
    "    x='Year:O',\n",
    "    y='Value:Q',\n",
    "    color=alt.Color('Subgroup:N', legend=alt.Legend(title=\"Subgroups\")),\n",
    "    tooltip=['Subgroup', 'Year', 'Value']\n",
    ").transform_filter(\n",
    "    group_select\n",
    ")\n",
    "\n",
    "# Overlay subgroup if selected, group view if not\n",
    "line_chart = alt.layer(\n",
    "    subgroup_line,\n",
    "    group_line\n",
    ").resolve_scale(\n",
    "    color='independent'\n",
    ").properties(\n",
    "    title=\"Output Over Time\",\n",
    "    height=300\n",
    ")\n",
    "\n",
    "# --- Combine & Export ---\n",
    "combined = alt.vconcat(bar, line_chart).configure_title(fontSize=18)\n",
    "combined.save(\"../img/group_output_explorer.html\")\n"
   ]
  },
  {
   "cell_type": "code",
   "execution_count": 7,
   "metadata": {},
   "outputs": [
    {
     "data": {
      "application/vnd.plotly.v1+json": {
       "config": {
        "plotlyServerURL": "https://plot.ly"
       },
       "data": [
        {
         "hovertemplate": "Color=Other<br>Year=2013<br>Value=%{x}<br>Group=%{y}<extra></extra>",
         "legendgroup": "Other",
         "marker": {
          "color": "lightgray",
          "pattern": {
           "shape": ""
          }
         },
         "name": "Other",
         "orientation": "h",
         "showlegend": true,
         "textposition": "auto",
         "type": "bar",
         "x": {
          "bdata": "+6U9AK8QaACpbxEA89RyAKB/QQCREhkA",
          "dtype": "i4"
         },
         "xaxis": "x",
         "y": [
          "Health, Education & Leisure",
          "Information & Finance",
          "Primary Industries",
          "Professional & Public Services",
          "Trade & Transportation",
          "Utilities & Construction"
         ],
         "yaxis": "y"
        },
        {
         "hovertemplate": "Color=Manufacturing<br>Year=2013<br>Value=%{x}<br>Group=%{y}<extra></extra>",
         "legendgroup": "Manufacturing",
         "marker": {
          "color": "steelblue",
          "pattern": {
           "shape": ""
          }
         },
         "name": "Manufacturing",
         "orientation": "h",
         "showlegend": true,
         "textposition": "auto",
         "type": "bar",
         "x": {
          "bdata": "UnNaAA==",
          "dtype": "i4"
         },
         "xaxis": "x",
         "y": [
          "Manufacturing"
         ],
         "yaxis": "y"
        }
       ],
       "frames": [
        {
         "data": [
          {
           "hovertemplate": "Color=Other<br>Year=2013<br>Value=%{x}<br>Group=%{y}<extra></extra>",
           "legendgroup": "Other",
           "marker": {
            "color": "lightgray",
            "pattern": {
             "shape": ""
            }
           },
           "name": "Other",
           "orientation": "h",
           "showlegend": true,
           "textposition": "auto",
           "type": "bar",
           "x": {
            "bdata": "+6U9AK8QaACpbxEA89RyAKB/QQCREhkA",
            "dtype": "i4"
           },
           "xaxis": "x",
           "y": [
            "Health, Education & Leisure",
            "Information & Finance",
            "Primary Industries",
            "Professional & Public Services",
            "Trade & Transportation",
            "Utilities & Construction"
           ],
           "yaxis": "y"
          },
          {
           "hovertemplate": "Color=Manufacturing<br>Year=2013<br>Value=%{x}<br>Group=%{y}<extra></extra>",
           "legendgroup": "Manufacturing",
           "marker": {
            "color": "steelblue",
            "pattern": {
             "shape": ""
            }
           },
           "name": "Manufacturing",
           "orientation": "h",
           "showlegend": true,
           "textposition": "auto",
           "type": "bar",
           "x": {
            "bdata": "UnNaAA==",
            "dtype": "i4"
           },
           "xaxis": "x",
           "y": [
            "Manufacturing"
           ],
           "yaxis": "y"
          }
         ],
         "name": "2013"
        },
        {
         "data": [
          {
           "hovertemplate": "Color=Other<br>Year=2014<br>Value=%{x}<br>Group=%{y}<extra></extra>",
           "legendgroup": "Other",
           "marker": {
            "color": "lightgray",
            "pattern": {
             "shape": ""
            }
           },
           "name": "Other",
           "orientation": "h",
           "showlegend": true,
           "textposition": "auto",
           "type": "bar",
           "x": {
            "bdata": "kIxAAM8HbgDwtRIAVs92AIiHRQBHPhsA",
            "dtype": "i4"
           },
           "xaxis": "x",
           "y": [
            "Health, Education & Leisure",
            "Information & Finance",
            "Primary Industries",
            "Professional & Public Services",
            "Trade & Transportation",
            "Utilities & Construction"
           ],
           "yaxis": "y"
          },
          {
           "hovertemplate": "Color=Manufacturing<br>Year=2014<br>Value=%{x}<br>Group=%{y}<extra></extra>",
           "legendgroup": "Manufacturing",
           "marker": {
            "color": "steelblue",
            "pattern": {
             "shape": ""
            }
           },
           "name": "Manufacturing",
           "orientation": "h",
           "showlegend": true,
           "textposition": "auto",
           "type": "bar",
           "x": {
            "bdata": "84hbAA==",
            "dtype": "i4"
           },
           "xaxis": "x",
           "y": [
            "Manufacturing"
           ],
           "yaxis": "y"
          }
         ],
         "name": "2014"
        },
        {
         "data": [
          {
           "hovertemplate": "Color=Other<br>Year=2015<br>Value=%{x}<br>Group=%{y}<extra></extra>",
           "legendgroup": "Other",
           "marker": {
            "color": "lightgray",
            "pattern": {
             "shape": ""
            }
           },
           "name": "Other",
           "orientation": "h",
           "showlegend": true,
           "textposition": "auto",
           "type": "bar",
           "x": {
            "bdata": "LkZEAD32cgBSVQ4AyEp6AIoWSAAszhwA",
            "dtype": "i4"
           },
           "xaxis": "x",
           "y": [
            "Health, Education & Leisure",
            "Information & Finance",
            "Primary Industries",
            "Professional & Public Services",
            "Trade & Transportation",
            "Utilities & Construction"
           ],
           "yaxis": "y"
          },
          {
           "hovertemplate": "Color=Manufacturing<br>Year=2015<br>Value=%{x}<br>Group=%{y}<extra></extra>",
           "legendgroup": "Manufacturing",
           "marker": {
            "color": "steelblue",
            "pattern": {
             "shape": ""
            }
           },
           "name": "Manufacturing",
           "orientation": "h",
           "showlegend": true,
           "textposition": "auto",
           "type": "bar",
           "x": {
            "bdata": "MF1WAA==",
            "dtype": "i4"
           },
           "xaxis": "x",
           "y": [
            "Manufacturing"
           ],
           "yaxis": "y"
          }
         ],
         "name": "2015"
        },
        {
         "data": [
          {
           "hovertemplate": "Color=Other<br>Year=2016<br>Value=%{x}<br>Group=%{y}<extra></extra>",
           "legendgroup": "Other",
           "marker": {
            "color": "lightgray",
            "pattern": {
             "shape": ""
            }
           },
           "name": "Other",
           "orientation": "h",
           "showlegend": true,
           "textposition": "auto",
           "type": "bar",
           "x": {
            "bdata": "AZJHANX7dwCmLwwAARl+AK+7SQDdMh4A",
            "dtype": "i4"
           },
           "xaxis": "x",
           "y": [
            "Health, Education & Leisure",
            "Information & Finance",
            "Primary Industries",
            "Professional & Public Services",
            "Trade & Transportation",
            "Utilities & Construction"
           ],
           "yaxis": "y"
          },
          {
           "hovertemplate": "Color=Manufacturing<br>Year=2016<br>Value=%{x}<br>Group=%{y}<extra></extra>",
           "legendgroup": "Manufacturing",
           "marker": {
            "color": "steelblue",
            "pattern": {
             "shape": ""
            }
           },
           "name": "Manufacturing",
           "orientation": "h",
           "showlegend": true,
           "textposition": "auto",
           "type": "bar",
           "x": {
            "bdata": "dqxTAA==",
            "dtype": "i4"
           },
           "xaxis": "x",
           "y": [
            "Manufacturing"
           ],
           "yaxis": "y"
          }
         ],
         "name": "2016"
        },
        {
         "data": [
          {
           "hovertemplate": "Color=Other<br>Year=2017<br>Value=%{x}<br>Group=%{y}<extra></extra>",
           "legendgroup": "Other",
           "marker": {
            "color": "lightgray",
            "pattern": {
             "shape": ""
            }
           },
           "name": "Other",
           "orientation": "h",
           "showlegend": true,
           "textposition": "auto",
           "type": "bar",
           "x": {
            "bdata": "qdxKADtnfQBG6Q0Ao02DADY+TgD1Tx8A",
            "dtype": "i4"
           },
           "xaxis": "x",
           "y": [
            "Health, Education & Leisure",
            "Information & Finance",
            "Primary Industries",
            "Professional & Public Services",
            "Trade & Transportation",
            "Utilities & Construction"
           ],
           "yaxis": "y"
          },
          {
           "hovertemplate": "Color=Manufacturing<br>Year=2017<br>Value=%{x}<br>Group=%{y}<extra></extra>",
           "legendgroup": "Manufacturing",
           "marker": {
            "color": "steelblue",
            "pattern": {
             "shape": ""
            }
           },
           "name": "Manufacturing",
           "orientation": "h",
           "showlegend": true,
           "textposition": "auto",
           "type": "bar",
           "x": {
            "bdata": "N55WAA==",
            "dtype": "i4"
           },
           "xaxis": "x",
           "y": [
            "Manufacturing"
           ],
           "yaxis": "y"
          }
         ],
         "name": "2017"
        },
        {
         "data": [
          {
           "hovertemplate": "Color=Other<br>Year=2018<br>Value=%{x}<br>Group=%{y}<extra></extra>",
           "legendgroup": "Other",
           "marker": {
            "color": "lightgray",
            "pattern": {
             "shape": ""
            }
           },
           "name": "Other",
           "orientation": "h",
           "showlegend": true,
           "textposition": "auto",
           "type": "bar",
           "x": {
            "bdata": "QTZOAJYIhADhxQ8AiAGLAK4iUwCvOSEA",
            "dtype": "i4"
           },
           "xaxis": "x",
           "y": [
            "Health, Education & Leisure",
            "Information & Finance",
            "Primary Industries",
            "Professional & Public Services",
            "Trade & Transportation",
            "Utilities & Construction"
           ],
           "yaxis": "y"
          },
          {
           "hovertemplate": "Color=Manufacturing<br>Year=2018<br>Value=%{x}<br>Group=%{y}<extra></extra>",
           "legendgroup": "Manufacturing",
           "marker": {
            "color": "steelblue",
            "pattern": {
             "shape": ""
            }
           },
           "name": "Manufacturing",
           "orientation": "h",
           "showlegend": true,
           "textposition": "auto",
           "type": "bar",
           "x": {
            "bdata": "KzdcAA==",
            "dtype": "i4"
           },
           "xaxis": "x",
           "y": [
            "Manufacturing"
           ],
           "yaxis": "y"
          }
         ],
         "name": "2018"
        },
        {
         "data": [
          {
           "hovertemplate": "Color=Other<br>Year=2019<br>Value=%{x}<br>Group=%{y}<extra></extra>",
           "legendgroup": "Other",
           "marker": {
            "color": "lightgray",
            "pattern": {
             "shape": ""
            }
           },
           "name": "Other",
           "orientation": "h",
           "showlegend": true,
           "textposition": "auto",
           "type": "bar",
           "x": {
            "bdata": "+wJSAAi9iQCtNQ8AhF+SAAK8VQCVVSIA",
            "dtype": "i4"
           },
           "xaxis": "x",
           "y": [
            "Health, Education & Leisure",
            "Information & Finance",
            "Primary Industries",
            "Professional & Public Services",
            "Trade & Transportation",
            "Utilities & Construction"
           ],
           "yaxis": "y"
          },
          {
           "hovertemplate": "Color=Manufacturing<br>Year=2019<br>Value=%{x}<br>Group=%{y}<extra></extra>",
           "legendgroup": "Manufacturing",
           "marker": {
            "color": "steelblue",
            "pattern": {
             "shape": ""
            }
           },
           "name": "Manufacturing",
           "orientation": "h",
           "showlegend": true,
           "textposition": "auto",
           "type": "bar",
           "x": {
            "bdata": "k6haAA==",
            "dtype": "i4"
           },
           "xaxis": "x",
           "y": [
            "Manufacturing"
           ],
           "yaxis": "y"
          }
         ],
         "name": "2019"
        },
        {
         "data": [
          {
           "hovertemplate": "Color=Other<br>Year=2020<br>Value=%{x}<br>Group=%{y}<extra></extra>",
           "legendgroup": "Other",
           "marker": {
            "color": "lightgray",
            "pattern": {
             "shape": ""
            }
           },
           "name": "Other",
           "orientation": "h",
           "showlegend": true,
           "textposition": "auto",
           "type": "bar",
           "x": {
            "bdata": "CU9KANgIjgCNpgwA5YKVAK2KUgBAKSMA",
            "dtype": "i4"
           },
           "xaxis": "x",
           "y": [
            "Health, Education & Leisure",
            "Information & Finance",
            "Primary Industries",
            "Professional & Public Services",
            "Trade & Transportation",
            "Utilities & Construction"
           ],
           "yaxis": "y"
          },
          {
           "hovertemplate": "Color=Manufacturing<br>Year=2020<br>Value=%{x}<br>Group=%{y}<extra></extra>",
           "legendgroup": "Manufacturing",
           "marker": {
            "color": "steelblue",
            "pattern": {
             "shape": ""
            }
           },
           "name": "Manufacturing",
           "orientation": "h",
           "showlegend": true,
           "textposition": "auto",
           "type": "bar",
           "x": {
            "bdata": "15BSAA==",
            "dtype": "i4"
           },
           "xaxis": "x",
           "y": [
            "Manufacturing"
           ],
           "yaxis": "y"
          }
         ],
         "name": "2020"
        },
        {
         "data": [
          {
           "hovertemplate": "Color=Other<br>Year=2021<br>Value=%{x}<br>Group=%{y}<extra></extra>",
           "legendgroup": "Other",
           "marker": {
            "color": "lightgray",
            "pattern": {
             "shape": ""
            }
           },
           "name": "Other",
           "orientation": "h",
           "showlegend": true,
           "textposition": "auto",
           "type": "bar",
           "x": {
            "bdata": "QCNWALXtnABabhEAueSiAEEQYwArbycA",
            "dtype": "i4"
           },
           "xaxis": "x",
           "y": [
            "Health, Education & Leisure",
            "Information & Finance",
            "Primary Industries",
            "Professional & Public Services",
            "Trade & Transportation",
            "Utilities & Construction"
           ],
           "yaxis": "y"
          },
          {
           "hovertemplate": "Color=Manufacturing<br>Year=2021<br>Value=%{x}<br>Group=%{y}<extra></extra>",
           "legendgroup": "Manufacturing",
           "marker": {
            "color": "steelblue",
            "pattern": {
             "shape": ""
            }
           },
           "name": "Manufacturing",
           "orientation": "h",
           "showlegend": true,
           "textposition": "auto",
           "type": "bar",
           "x": {
            "bdata": "ZvNfAA==",
            "dtype": "i4"
           },
           "xaxis": "x",
           "y": [
            "Manufacturing"
           ],
           "yaxis": "y"
          }
         ],
         "name": "2021"
        },
        {
         "data": [
          {
           "hovertemplate": "Color=Other<br>Year=2022<br>Value=%{x}<br>Group=%{y}<extra></extra>",
           "legendgroup": "Other",
           "marker": {
            "color": "lightgray",
            "pattern": {
             "shape": ""
            }
           },
           "name": "Other",
           "orientation": "h",
           "showlegend": true,
           "textposition": "auto",
           "type": "bar",
           "x": {
            "bdata": "SzxhAP/9qABxHxcAubqwADiOcADQJywA",
            "dtype": "i4"
           },
           "xaxis": "x",
           "y": [
            "Health, Education & Leisure",
            "Information & Finance",
            "Primary Industries",
            "Professional & Public Services",
            "Trade & Transportation",
            "Utilities & Construction"
           ],
           "yaxis": "y"
          },
          {
           "hovertemplate": "Color=Manufacturing<br>Year=2022<br>Value=%{x}<br>Group=%{y}<extra></extra>",
           "legendgroup": "Manufacturing",
           "marker": {
            "color": "steelblue",
            "pattern": {
             "shape": ""
            }
           },
           "name": "Manufacturing",
           "orientation": "h",
           "showlegend": true,
           "textposition": "auto",
           "type": "bar",
           "x": {
            "bdata": "dkdtAA==",
            "dtype": "i4"
           },
           "xaxis": "x",
           "y": [
            "Manufacturing"
           ],
           "yaxis": "y"
          }
         ],
         "name": "2022"
        },
        {
         "data": [
          {
           "hovertemplate": "Color=Other<br>Year=2023<br>Value=%{x}<br>Group=%{y}<extra></extra>",
           "legendgroup": "Other",
           "marker": {
            "color": "lightgray",
            "pattern": {
             "shape": ""
            }
           },
           "name": "Other",
           "orientation": "h",
           "showlegend": true,
           "textposition": "auto",
           "type": "bar",
           "x": {
            "bdata": "u0pqAKHhtADbdhQAboq4AHRecACzaS0A",
            "dtype": "i4"
           },
           "xaxis": "x",
           "y": [
            "Health, Education & Leisure",
            "Information & Finance",
            "Primary Industries",
            "Professional & Public Services",
            "Trade & Transportation",
            "Utilities & Construction"
           ],
           "yaxis": "y"
          },
          {
           "hovertemplate": "Color=Manufacturing<br>Year=2023<br>Value=%{x}<br>Group=%{y}<extra></extra>",
           "legendgroup": "Manufacturing",
           "marker": {
            "color": "steelblue",
            "pattern": {
             "shape": ""
            }
           },
           "name": "Manufacturing",
           "orientation": "h",
           "showlegend": true,
           "textposition": "auto",
           "type": "bar",
           "x": {
            "bdata": "wwduAA==",
            "dtype": "i4"
           },
           "xaxis": "x",
           "y": [
            "Manufacturing"
           ],
           "yaxis": "y"
          }
         ],
         "name": "2023"
        }
       ],
       "layout": {
        "barmode": "relative",
        "legend": {
         "title": {
          "text": "Color"
         },
         "tracegroupgap": 0
        },
        "margin": {
         "b": 40,
         "l": 100,
         "r": 40,
         "t": 40
        },
        "showlegend": false,
        "sliders": [
         {
          "active": 0,
          "currentvalue": {
           "prefix": "Year="
          },
          "len": 0.9,
          "pad": {
           "b": 10,
           "t": 60
          },
          "steps": [
           {
            "args": [
             [
              "2013"
             ],
             {
              "frame": {
               "duration": 0,
               "redraw": true
              },
              "fromcurrent": true,
              "mode": "immediate",
              "transition": {
               "duration": 0,
               "easing": "linear"
              }
             }
            ],
            "label": "2013",
            "method": "animate"
           },
           {
            "args": [
             [
              "2014"
             ],
             {
              "frame": {
               "duration": 0,
               "redraw": true
              },
              "fromcurrent": true,
              "mode": "immediate",
              "transition": {
               "duration": 0,
               "easing": "linear"
              }
             }
            ],
            "label": "2014",
            "method": "animate"
           },
           {
            "args": [
             [
              "2015"
             ],
             {
              "frame": {
               "duration": 0,
               "redraw": true
              },
              "fromcurrent": true,
              "mode": "immediate",
              "transition": {
               "duration": 0,
               "easing": "linear"
              }
             }
            ],
            "label": "2015",
            "method": "animate"
           },
           {
            "args": [
             [
              "2016"
             ],
             {
              "frame": {
               "duration": 0,
               "redraw": true
              },
              "fromcurrent": true,
              "mode": "immediate",
              "transition": {
               "duration": 0,
               "easing": "linear"
              }
             }
            ],
            "label": "2016",
            "method": "animate"
           },
           {
            "args": [
             [
              "2017"
             ],
             {
              "frame": {
               "duration": 0,
               "redraw": true
              },
              "fromcurrent": true,
              "mode": "immediate",
              "transition": {
               "duration": 0,
               "easing": "linear"
              }
             }
            ],
            "label": "2017",
            "method": "animate"
           },
           {
            "args": [
             [
              "2018"
             ],
             {
              "frame": {
               "duration": 0,
               "redraw": true
              },
              "fromcurrent": true,
              "mode": "immediate",
              "transition": {
               "duration": 0,
               "easing": "linear"
              }
             }
            ],
            "label": "2018",
            "method": "animate"
           },
           {
            "args": [
             [
              "2019"
             ],
             {
              "frame": {
               "duration": 0,
               "redraw": true
              },
              "fromcurrent": true,
              "mode": "immediate",
              "transition": {
               "duration": 0,
               "easing": "linear"
              }
             }
            ],
            "label": "2019",
            "method": "animate"
           },
           {
            "args": [
             [
              "2020"
             ],
             {
              "frame": {
               "duration": 0,
               "redraw": true
              },
              "fromcurrent": true,
              "mode": "immediate",
              "transition": {
               "duration": 0,
               "easing": "linear"
              }
             }
            ],
            "label": "2020",
            "method": "animate"
           },
           {
            "args": [
             [
              "2021"
             ],
             {
              "frame": {
               "duration": 0,
               "redraw": true
              },
              "fromcurrent": true,
              "mode": "immediate",
              "transition": {
               "duration": 0,
               "easing": "linear"
              }
             }
            ],
            "label": "2021",
            "method": "animate"
           },
           {
            "args": [
             [
              "2022"
             ],
             {
              "frame": {
               "duration": 0,
               "redraw": true
              },
              "fromcurrent": true,
              "mode": "immediate",
              "transition": {
               "duration": 0,
               "easing": "linear"
              }
             }
            ],
            "label": "2022",
            "method": "animate"
           },
           {
            "args": [
             [
              "2023"
             ],
             {
              "frame": {
               "duration": 0,
               "redraw": true
              },
              "fromcurrent": true,
              "mode": "immediate",
              "transition": {
               "duration": 0,
               "easing": "linear"
              }
             }
            ],
            "label": "2023",
            "method": "animate"
           }
          ],
          "x": 0.1,
          "xanchor": "left",
          "y": 0,
          "yanchor": "top"
         }
        ],
        "template": {
         "data": {
          "bar": [
           {
            "error_x": {
             "color": "#2a3f5f"
            },
            "error_y": {
             "color": "#2a3f5f"
            },
            "marker": {
             "line": {
              "color": "#E5ECF6",
              "width": 0.5
             },
             "pattern": {
              "fillmode": "overlay",
              "size": 10,
              "solidity": 0.2
             }
            },
            "type": "bar"
           }
          ],
          "barpolar": [
           {
            "marker": {
             "line": {
              "color": "#E5ECF6",
              "width": 0.5
             },
             "pattern": {
              "fillmode": "overlay",
              "size": 10,
              "solidity": 0.2
             }
            },
            "type": "barpolar"
           }
          ],
          "carpet": [
           {
            "aaxis": {
             "endlinecolor": "#2a3f5f",
             "gridcolor": "white",
             "linecolor": "white",
             "minorgridcolor": "white",
             "startlinecolor": "#2a3f5f"
            },
            "baxis": {
             "endlinecolor": "#2a3f5f",
             "gridcolor": "white",
             "linecolor": "white",
             "minorgridcolor": "white",
             "startlinecolor": "#2a3f5f"
            },
            "type": "carpet"
           }
          ],
          "choropleth": [
           {
            "colorbar": {
             "outlinewidth": 0,
             "ticks": ""
            },
            "type": "choropleth"
           }
          ],
          "contour": [
           {
            "colorbar": {
             "outlinewidth": 0,
             "ticks": ""
            },
            "colorscale": [
             [
              0,
              "#0d0887"
             ],
             [
              0.1111111111111111,
              "#46039f"
             ],
             [
              0.2222222222222222,
              "#7201a8"
             ],
             [
              0.3333333333333333,
              "#9c179e"
             ],
             [
              0.4444444444444444,
              "#bd3786"
             ],
             [
              0.5555555555555556,
              "#d8576b"
             ],
             [
              0.6666666666666666,
              "#ed7953"
             ],
             [
              0.7777777777777778,
              "#fb9f3a"
             ],
             [
              0.8888888888888888,
              "#fdca26"
             ],
             [
              1,
              "#f0f921"
             ]
            ],
            "type": "contour"
           }
          ],
          "contourcarpet": [
           {
            "colorbar": {
             "outlinewidth": 0,
             "ticks": ""
            },
            "type": "contourcarpet"
           }
          ],
          "heatmap": [
           {
            "colorbar": {
             "outlinewidth": 0,
             "ticks": ""
            },
            "colorscale": [
             [
              0,
              "#0d0887"
             ],
             [
              0.1111111111111111,
              "#46039f"
             ],
             [
              0.2222222222222222,
              "#7201a8"
             ],
             [
              0.3333333333333333,
              "#9c179e"
             ],
             [
              0.4444444444444444,
              "#bd3786"
             ],
             [
              0.5555555555555556,
              "#d8576b"
             ],
             [
              0.6666666666666666,
              "#ed7953"
             ],
             [
              0.7777777777777778,
              "#fb9f3a"
             ],
             [
              0.8888888888888888,
              "#fdca26"
             ],
             [
              1,
              "#f0f921"
             ]
            ],
            "type": "heatmap"
           }
          ],
          "histogram": [
           {
            "marker": {
             "pattern": {
              "fillmode": "overlay",
              "size": 10,
              "solidity": 0.2
             }
            },
            "type": "histogram"
           }
          ],
          "histogram2d": [
           {
            "colorbar": {
             "outlinewidth": 0,
             "ticks": ""
            },
            "colorscale": [
             [
              0,
              "#0d0887"
             ],
             [
              0.1111111111111111,
              "#46039f"
             ],
             [
              0.2222222222222222,
              "#7201a8"
             ],
             [
              0.3333333333333333,
              "#9c179e"
             ],
             [
              0.4444444444444444,
              "#bd3786"
             ],
             [
              0.5555555555555556,
              "#d8576b"
             ],
             [
              0.6666666666666666,
              "#ed7953"
             ],
             [
              0.7777777777777778,
              "#fb9f3a"
             ],
             [
              0.8888888888888888,
              "#fdca26"
             ],
             [
              1,
              "#f0f921"
             ]
            ],
            "type": "histogram2d"
           }
          ],
          "histogram2dcontour": [
           {
            "colorbar": {
             "outlinewidth": 0,
             "ticks": ""
            },
            "colorscale": [
             [
              0,
              "#0d0887"
             ],
             [
              0.1111111111111111,
              "#46039f"
             ],
             [
              0.2222222222222222,
              "#7201a8"
             ],
             [
              0.3333333333333333,
              "#9c179e"
             ],
             [
              0.4444444444444444,
              "#bd3786"
             ],
             [
              0.5555555555555556,
              "#d8576b"
             ],
             [
              0.6666666666666666,
              "#ed7953"
             ],
             [
              0.7777777777777778,
              "#fb9f3a"
             ],
             [
              0.8888888888888888,
              "#fdca26"
             ],
             [
              1,
              "#f0f921"
             ]
            ],
            "type": "histogram2dcontour"
           }
          ],
          "mesh3d": [
           {
            "colorbar": {
             "outlinewidth": 0,
             "ticks": ""
            },
            "type": "mesh3d"
           }
          ],
          "parcoords": [
           {
            "line": {
             "colorbar": {
              "outlinewidth": 0,
              "ticks": ""
             }
            },
            "type": "parcoords"
           }
          ],
          "pie": [
           {
            "automargin": true,
            "type": "pie"
           }
          ],
          "scatter": [
           {
            "fillpattern": {
             "fillmode": "overlay",
             "size": 10,
             "solidity": 0.2
            },
            "type": "scatter"
           }
          ],
          "scatter3d": [
           {
            "line": {
             "colorbar": {
              "outlinewidth": 0,
              "ticks": ""
             }
            },
            "marker": {
             "colorbar": {
              "outlinewidth": 0,
              "ticks": ""
             }
            },
            "type": "scatter3d"
           }
          ],
          "scattercarpet": [
           {
            "marker": {
             "colorbar": {
              "outlinewidth": 0,
              "ticks": ""
             }
            },
            "type": "scattercarpet"
           }
          ],
          "scattergeo": [
           {
            "marker": {
             "colorbar": {
              "outlinewidth": 0,
              "ticks": ""
             }
            },
            "type": "scattergeo"
           }
          ],
          "scattergl": [
           {
            "marker": {
             "colorbar": {
              "outlinewidth": 0,
              "ticks": ""
             }
            },
            "type": "scattergl"
           }
          ],
          "scattermap": [
           {
            "marker": {
             "colorbar": {
              "outlinewidth": 0,
              "ticks": ""
             }
            },
            "type": "scattermap"
           }
          ],
          "scattermapbox": [
           {
            "marker": {
             "colorbar": {
              "outlinewidth": 0,
              "ticks": ""
             }
            },
            "type": "scattermapbox"
           }
          ],
          "scatterpolar": [
           {
            "marker": {
             "colorbar": {
              "outlinewidth": 0,
              "ticks": ""
             }
            },
            "type": "scatterpolar"
           }
          ],
          "scatterpolargl": [
           {
            "marker": {
             "colorbar": {
              "outlinewidth": 0,
              "ticks": ""
             }
            },
            "type": "scatterpolargl"
           }
          ],
          "scatterternary": [
           {
            "marker": {
             "colorbar": {
              "outlinewidth": 0,
              "ticks": ""
             }
            },
            "type": "scatterternary"
           }
          ],
          "surface": [
           {
            "colorbar": {
             "outlinewidth": 0,
             "ticks": ""
            },
            "colorscale": [
             [
              0,
              "#0d0887"
             ],
             [
              0.1111111111111111,
              "#46039f"
             ],
             [
              0.2222222222222222,
              "#7201a8"
             ],
             [
              0.3333333333333333,
              "#9c179e"
             ],
             [
              0.4444444444444444,
              "#bd3786"
             ],
             [
              0.5555555555555556,
              "#d8576b"
             ],
             [
              0.6666666666666666,
              "#ed7953"
             ],
             [
              0.7777777777777778,
              "#fb9f3a"
             ],
             [
              0.8888888888888888,
              "#fdca26"
             ],
             [
              1,
              "#f0f921"
             ]
            ],
            "type": "surface"
           }
          ],
          "table": [
           {
            "cells": {
             "fill": {
              "color": "#EBF0F8"
             },
             "line": {
              "color": "white"
             }
            },
            "header": {
             "fill": {
              "color": "#C8D4E3"
             },
             "line": {
              "color": "white"
             }
            },
            "type": "table"
           }
          ]
         },
         "layout": {
          "annotationdefaults": {
           "arrowcolor": "#2a3f5f",
           "arrowhead": 0,
           "arrowwidth": 1
          },
          "autotypenumbers": "strict",
          "coloraxis": {
           "colorbar": {
            "outlinewidth": 0,
            "ticks": ""
           }
          },
          "colorscale": {
           "diverging": [
            [
             0,
             "#8e0152"
            ],
            [
             0.1,
             "#c51b7d"
            ],
            [
             0.2,
             "#de77ae"
            ],
            [
             0.3,
             "#f1b6da"
            ],
            [
             0.4,
             "#fde0ef"
            ],
            [
             0.5,
             "#f7f7f7"
            ],
            [
             0.6,
             "#e6f5d0"
            ],
            [
             0.7,
             "#b8e186"
            ],
            [
             0.8,
             "#7fbc41"
            ],
            [
             0.9,
             "#4d9221"
            ],
            [
             1,
             "#276419"
            ]
           ],
           "sequential": [
            [
             0,
             "#0d0887"
            ],
            [
             0.1111111111111111,
             "#46039f"
            ],
            [
             0.2222222222222222,
             "#7201a8"
            ],
            [
             0.3333333333333333,
             "#9c179e"
            ],
            [
             0.4444444444444444,
             "#bd3786"
            ],
            [
             0.5555555555555556,
             "#d8576b"
            ],
            [
             0.6666666666666666,
             "#ed7953"
            ],
            [
             0.7777777777777778,
             "#fb9f3a"
            ],
            [
             0.8888888888888888,
             "#fdca26"
            ],
            [
             1,
             "#f0f921"
            ]
           ],
           "sequentialminus": [
            [
             0,
             "#0d0887"
            ],
            [
             0.1111111111111111,
             "#46039f"
            ],
            [
             0.2222222222222222,
             "#7201a8"
            ],
            [
             0.3333333333333333,
             "#9c179e"
            ],
            [
             0.4444444444444444,
             "#bd3786"
            ],
            [
             0.5555555555555556,
             "#d8576b"
            ],
            [
             0.6666666666666666,
             "#ed7953"
            ],
            [
             0.7777777777777778,
             "#fb9f3a"
            ],
            [
             0.8888888888888888,
             "#fdca26"
            ],
            [
             1,
             "#f0f921"
            ]
           ]
          },
          "colorway": [
           "#636efa",
           "#EF553B",
           "#00cc96",
           "#ab63fa",
           "#FFA15A",
           "#19d3f3",
           "#FF6692",
           "#B6E880",
           "#FF97FF",
           "#FECB52"
          ],
          "font": {
           "color": "#2a3f5f"
          },
          "geo": {
           "bgcolor": "white",
           "lakecolor": "white",
           "landcolor": "#E5ECF6",
           "showlakes": true,
           "showland": true,
           "subunitcolor": "white"
          },
          "hoverlabel": {
           "align": "left"
          },
          "hovermode": "closest",
          "mapbox": {
           "style": "light"
          },
          "paper_bgcolor": "white",
          "plot_bgcolor": "#E5ECF6",
          "polar": {
           "angularaxis": {
            "gridcolor": "white",
            "linecolor": "white",
            "ticks": ""
           },
           "bgcolor": "#E5ECF6",
           "radialaxis": {
            "gridcolor": "white",
            "linecolor": "white",
            "ticks": ""
           }
          },
          "scene": {
           "xaxis": {
            "backgroundcolor": "#E5ECF6",
            "gridcolor": "white",
            "gridwidth": 2,
            "linecolor": "white",
            "showbackground": true,
            "ticks": "",
            "zerolinecolor": "white"
           },
           "yaxis": {
            "backgroundcolor": "#E5ECF6",
            "gridcolor": "white",
            "gridwidth": 2,
            "linecolor": "white",
            "showbackground": true,
            "ticks": "",
            "zerolinecolor": "white"
           },
           "zaxis": {
            "backgroundcolor": "#E5ECF6",
            "gridcolor": "white",
            "gridwidth": 2,
            "linecolor": "white",
            "showbackground": true,
            "ticks": "",
            "zerolinecolor": "white"
           }
          },
          "shapedefaults": {
           "line": {
            "color": "#2a3f5f"
           }
          },
          "ternary": {
           "aaxis": {
            "gridcolor": "white",
            "linecolor": "white",
            "ticks": ""
           },
           "baxis": {
            "gridcolor": "white",
            "linecolor": "white",
            "ticks": ""
           },
           "bgcolor": "#E5ECF6",
           "caxis": {
            "gridcolor": "white",
            "linecolor": "white",
            "ticks": ""
           }
          },
          "title": {
           "x": 0.05
          },
          "xaxis": {
           "automargin": true,
           "gridcolor": "white",
           "linecolor": "white",
           "ticks": "",
           "title": {
            "standoff": 15
           },
           "zerolinecolor": "white",
           "zerolinewidth": 2
          },
          "yaxis": {
           "automargin": true,
           "gridcolor": "white",
           "linecolor": "white",
           "ticks": "",
           "title": {
            "standoff": 15
           },
           "zerolinecolor": "white",
           "zerolinewidth": 2
          }
         }
        },
        "title": {
         "text": "Group-Level Output Race Over Time (2013–2024)"
        },
        "updatemenus": [
         {
          "buttons": [
           {
            "args": [
             null,
             {
              "frame": {
               "duration": 500,
               "redraw": true
              },
              "fromcurrent": true,
              "mode": "immediate",
              "transition": {
               "duration": 500,
               "easing": "linear"
              }
             }
            ],
            "label": "&#9654;",
            "method": "animate"
           },
           {
            "args": [
             [
              null
             ],
             {
              "frame": {
               "duration": 0,
               "redraw": true
              },
              "fromcurrent": true,
              "mode": "immediate",
              "transition": {
               "duration": 0,
               "easing": "linear"
              }
             }
            ],
            "label": "&#9724;",
            "method": "animate"
           }
          ],
          "direction": "left",
          "pad": {
           "r": 10,
           "t": 70
          },
          "showactive": false,
          "type": "buttons",
          "x": 0.1,
          "xanchor": "right",
          "y": 0,
          "yanchor": "top"
         }
        ],
        "xaxis": {
         "anchor": "y",
         "domain": [
          0,
          1
         ],
         "range": [
          0,
          12500000
         ],
         "title": {
          "text": "Value"
         }
        },
        "yaxis": {
         "anchor": "x",
         "domain": [
          0,
          1
         ],
         "title": {
          "text": "Group"
         }
        }
       }
      }
     },
     "metadata": {},
     "output_type": "display_data"
    }
   ],
   "source": [
    "import plotly.express as px\n",
    "\n",
    "# Step 1: Filter for 2013–2024\n",
    "df_grouped_filtered = df_grouped[df_grouped[\"Year\"].between(2013, 2024)].copy()\n",
    "\n",
    "# Step 2: Add a column for custom coloring\n",
    "df_grouped_filtered[\"Color\"] = df_grouped_filtered[\"Group\"].apply(\n",
    "    lambda g: \"Manufacturing\" if g == \"Manufacturing\" else \"Other\"\n",
    ")\n",
    "\n",
    "# Step 3: Define color map (blue for Manufacturing, gray for others)\n",
    "color_map = {\n",
    "    \"Manufacturing\": \"steelblue\",\n",
    "    \"Other\": \"lightgray\"\n",
    "}\n",
    "\n",
    "# Step 4: Build the animated bar chart\n",
    "fig = px.bar(\n",
    "    df_grouped_filtered,\n",
    "    x=\"Value\",\n",
    "    y=\"Group\",\n",
    "    color=\"Color\",\n",
    "    animation_frame=\"Year\",\n",
    "    orientation='h',\n",
    "    color_discrete_map=color_map,\n",
    "    title=\"Group-Level Output Race Over Time (2013–2024)\"\n",
    ")\n",
    "\n",
    "fig.update_layout(\n",
    "    showlegend=False,\n",
    "    xaxis=dict(range=[0, 12500000]),  # optional: adjust max\n",
    "    margin=dict(t=40, l=100, r=40, b=40)\n",
    ")\n",
    "\n",
    "fig.show()\n",
    "# fig.write_html(\"../img/gdp_barcharts_2013_2024.html\")\n"
   ]
  },
  {
   "cell_type": "code",
   "execution_count": 8,
   "metadata": {},
   "outputs": [
    {
     "data": {
      "application/vnd.plotly.v1+json": {
       "config": {
        "plotlyServerURL": "https://plot.ly"
       },
       "data": [
        {
         "customdata": [
          [
           "Other"
          ],
          [
           "Other"
          ],
          [
           "Other"
          ],
          [
           "Other"
          ],
          [
           "Other"
          ],
          [
           "Other"
          ]
         ],
         "hovertemplate": "<b>%{y}</b><br>Value (Trillion $): %{x:.2f}<extra></extra>",
         "legendgroup": "Other",
         "marker": {
          "color": "#9997bc",
          "pattern": {
           "shape": ""
          }
         },
         "name": "Other",
         "orientation": "h",
         "showlegend": true,
         "textposition": "auto",
         "type": "bar",
         "x": {
          "bdata": "veXqxyYpEEDy6hwDskcbQAjMQ6Z8SPI/+Z/83TsaHkAOwAZEiCsRQEkw1cxaSvo/",
          "dtype": "f8"
         },
         "xaxis": "x",
         "y": [
          "Health, Education & Leisure",
          "Information & Finance",
          "Primary Industries",
          "Professional & Public Services",
          "Trade & Transportation",
          "Utilities & Construction"
         ],
         "yaxis": "y"
        },
        {
         "customdata": [
          [
           "Manufacturing"
          ]
         ],
         "hovertemplate": "<b>%{y}</b><br>Value (Trillion $): %{x:.2f}<extra></extra>",
         "legendgroup": "Manufacturing",
         "marker": {
          "color": "#28293D",
          "pattern": {
           "shape": ""
          }
         },
         "name": "Manufacturing",
         "orientation": "h",
         "showlegend": true,
         "textposition": "auto",
         "type": "bar",
         "x": {
          "bdata": "3+LhPQe2F0A=",
          "dtype": "f8"
         },
         "xaxis": "x",
         "y": [
          "Manufacturing"
         ],
         "yaxis": "y"
        }
       ],
       "frames": [
        {
         "data": [
          {
           "customdata": [
            [
             "Other"
            ],
            [
             "Other"
            ],
            [
             "Other"
            ],
            [
             "Other"
            ],
            [
             "Other"
            ],
            [
             "Other"
            ]
           ],
           "hovertemplate": "<b>%{y}</b><br>Value (Trillion $): %{x:.2f}<extra></extra>",
           "legendgroup": "Other",
           "marker": {
            "color": "#9997bc",
            "pattern": {
             "shape": ""
            }
           },
           "name": "Other",
           "orientation": "h",
           "showlegend": true,
           "textposition": "auto",
           "type": "bar",
           "x": {
            "bdata": "veXqxyYpEEDy6hwDskcbQAjMQ6Z8SPI/+Z/83TsaHkAOwAZEiCsRQEkw1cxaSvo/",
            "dtype": "f8"
           },
           "xaxis": "x",
           "y": [
            "Health, Education & Leisure",
            "Information & Finance",
            "Primary Industries",
            "Professional & Public Services",
            "Trade & Transportation",
            "Utilities & Construction"
           ],
           "yaxis": "y"
          },
          {
           "customdata": [
            [
             "Manufacturing"
            ]
           ],
           "hovertemplate": "<b>%{y}</b><br>Value (Trillion $): %{x:.2f}<extra></extra>",
           "legendgroup": "Manufacturing",
           "marker": {
            "color": "#28293D",
            "pattern": {
             "shape": ""
            }
           },
           "name": "Manufacturing",
           "orientation": "h",
           "showlegend": true,
           "textposition": "auto",
           "type": "bar",
           "x": {
            "bdata": "3+LhPQe2F0A=",
            "dtype": "f8"
           },
           "xaxis": "x",
           "y": [
            "Manufacturing"
           ],
           "yaxis": "y"
          }
         ],
         "name": "2013"
        },
        {
         "data": [
          {
           "customdata": [
            [
             "Other"
            ],
            [
             "Other"
            ],
            [
             "Other"
            ],
            [
             "Other"
            ],
            [
             "Other"
            ],
            [
             "Other"
            ]
           ],
           "hovertemplate": "<b>%{y}</b><br>Value (Trillion $): %{x:.2f}<extra></extra>",
           "legendgroup": "Other",
           "marker": {
            "color": "#9997bc",
            "pattern": {
             "shape": ""
            }
           },
           "name": "Other",
           "orientation": "h",
           "showlegend": true,
           "textposition": "auto",
           "type": "bar",
           "x": {
            "bdata": "HqUSntDrEED9L9eiBdgcQPcfmQ6dnvM/XfqXpDIlH0BgWWlSCjoSQP6arFEPkfw/",
            "dtype": "f8"
           },
           "xaxis": "x",
           "y": [
            "Health, Education & Leisure",
            "Information & Finance",
            "Primary Industries",
            "Professional & Public Services",
            "Trade & Transportation",
            "Utilities & Construction"
           ],
           "yaxis": "y"
          },
          {
           "customdata": [
            [
             "Manufacturing"
            ]
           ],
           "hovertemplate": "<b>%{y}</b><br>Value (Trillion $): %{x:.2f}<extra></extra>",
           "legendgroup": "Manufacturing",
           "marker": {
            "color": "#28293D",
            "pattern": {
             "shape": ""
            }
           },
           "name": "Manufacturing",
           "orientation": "h",
           "showlegend": true,
           "textposition": "auto",
           "type": "bar",
           "x": {
            "bdata": "kGYsms7+F0A=",
            "dtype": "f8"
           },
           "xaxis": "x",
           "y": [
            "Manufacturing"
           ],
           "yaxis": "y"
          }
         ],
         "name": "2014"
        },
        {
         "data": [
          {
           "customdata": [
            [
             "Other"
            ],
            [
             "Other"
            ],
            [
             "Other"
            ],
            [
             "Other"
            ],
            [
             "Other"
            ],
            [
             "Other"
            ]
           ],
           "hovertemplate": "<b>%{y}</b><br>Value (Trillion $): %{x:.2f}<extra></extra>",
           "legendgroup": "Other",
           "marker": {
            "color": "#9997bc",
            "pattern": {
             "shape": ""
            }
           },
           "name": "Other",
           "orientation": "h",
           "showlegend": true,
           "textposition": "auto",
           "type": "bar",
           "x": {
            "bdata": "5Q6byMzlEUCaz7nb9SIeQPwbtFcfD+4/tDo5Q3EHIEBR3PEmv+USQP5/nDBhNP4/",
            "dtype": "f8"
           },
           "xaxis": "x",
           "y": [
            "Health, Education & Leisure",
            "Information & Finance",
            "Primary Industries",
            "Professional & Public Services",
            "Trade & Transportation",
            "Utilities & Construction"
           ],
           "yaxis": "y"
          },
          {
           "customdata": [
            [
             "Manufacturing"
            ]
           ],
           "hovertemplate": "<b>%{y}</b><br>Value (Trillion $): %{x:.2f}<extra></extra>",
           "legendgroup": "Manufacturing",
           "marker": {
            "color": "#28293D",
            "pattern": {
             "shape": ""
            }
           },
           "name": "Manufacturing",
           "orientation": "h",
           "showlegend": true,
           "textposition": "auto",
           "type": "bar",
           "x": {
            "bdata": "G7gDdcqjFkA=",
            "dtype": "f8"
           },
           "xaxis": "x",
           "y": [
            "Manufacturing"
           ],
           "yaxis": "y"
          }
         ],
         "name": "2015"
        },
        {
         "data": [
          {
           "customdata": [
            [
             "Other"
            ],
            [
             "Other"
            ],
            [
             "Other"
            ],
            [
             "Other"
            ],
            [
             "Other"
            ],
            [
             "Other"
            ]
           ],
           "hovertemplate": "<b>%{y}</b><br>Value (Trillion $): %{x:.2f}<extra></extra>",
           "legendgroup": "Other",
           "marker": {
            "color": "#9997bc",
            "pattern": {
             "shape": ""
            }
           },
           "name": "Other",
           "orientation": "h",
           "showlegend": true,
           "textposition": "auto",
           "type": "bar",
           "x": {
            "bdata": "EVFM3gDDEkAQsiyY+HMfQOZXc4Bgjuk/oWgewCKHIED5MeauJVQTQMCxZ89lqv8/",
            "dtype": "f8"
           },
           "xaxis": "x",
           "y": [
            "Health, Education & Leisure",
            "Information & Finance",
            "Primary Industries",
            "Professional & Public Services",
            "Trade & Transportation",
            "Utilities & Construction"
           ],
           "yaxis": "y"
          },
          {
           "customdata": [
            [
             "Manufacturing"
            ]
           ],
           "hovertemplate": "<b>%{y}</b><br>Value (Trillion $): %{x:.2f}<extra></extra>",
           "legendgroup": "Manufacturing",
           "marker": {
            "color": "#28293D",
            "pattern": {
             "shape": ""
            }
           },
           "name": "Manufacturing",
           "orientation": "h",
           "showlegend": true,
           "textposition": "auto",
           "type": "bar",
           "x": {
            "bdata": "UWnEzD7vFUA=",
            "dtype": "f8"
           },
           "xaxis": "x",
           "y": [
            "Manufacturing"
           ],
           "yaxis": "y"
          }
         ],
         "name": "2016"
        },
        {
         "data": [
          {
           "customdata": [
            [
             "Other"
            ],
            [
             "Other"
            ],
            [
             "Other"
            ],
            [
             "Other"
            ],
            [
             "Other"
            ],
            [
             "Other"
            ]
           ],
           "hovertemplate": "<b>%{y}</b><br>Value (Trillion $): %{x:.2f}<extra></extra>",
           "legendgroup": "Other",
           "marker": {
            "color": "#9997bc",
            "pattern": {
             "shape": ""
            }
           },
           "name": "Other",
           "orientation": "h",
           "showlegend": true,
           "textposition": "auto",
           "type": "bar",
           "x": {
            "bdata": "bLBwkuafE0B1IOup1W8gQOQSRx6ILO0/NzXQfM41IUBcWaKzzIIUQLTlXIqragBA",
            "dtype": "f8"
           },
           "xaxis": "x",
           "y": [
            "Health, Education & Leisure",
            "Information & Finance",
            "Primary Industries",
            "Professional & Public Services",
            "Trade & Transportation",
            "Utilities & Construction"
           ],
           "yaxis": "y"
          },
          {
           "customdata": [
            [
             "Manufacturing"
            ]
           ],
           "hovertemplate": "<b>%{y}</b><br>Value (Trillion $): %{x:.2f}<extra></extra>",
           "legendgroup": "Manufacturing",
           "marker": {
            "color": "#28293D",
            "pattern": {
             "shape": ""
            }
           },
           "name": "Manufacturing",
           "orientation": "h",
           "showlegend": true,
           "textposition": "auto",
           "type": "bar",
           "x": {
            "bdata": "dQZGXta0FkA=",
            "dtype": "f8"
           },
           "xaxis": "x",
           "y": [
            "Manufacturing"
           ],
           "yaxis": "y"
          }
         ],
         "name": "2017"
        },
        {
         "data": [
          {
           "customdata": [
            [
             "Other"
            ],
            [
             "Other"
            ],
            [
             "Other"
            ],
            [
             "Other"
            ],
            [
             "Other"
            ],
            [
             "Other"
            ]
           ],
           "hovertemplate": "<b>%{y}</b><br>Value (Trillion $): %{x:.2f}<extra></extra>",
           "legendgroup": "Other",
           "marker": {
            "color": "#9997bc",
            "pattern": {
             "shape": ""
            }
           },
           "name": "Other",
           "orientation": "h",
           "showlegend": true,
           "textposition": "auto",
           "type": "bar",
           "x": {
            "bdata": "PdLgtraAFECu2F92T04hQLCSj90FivA/JezbSUQ4IkCojep0IMsVQOwX7IZtawFA",
            "dtype": "f8"
           },
           "xaxis": "x",
           "y": [
            "Health, Education & Leisure",
            "Information & Finance",
            "Primary Industries",
            "Professional & Public Services",
            "Trade & Transportation",
            "Utilities & Construction"
           ],
           "yaxis": "y"
          },
          {
           "customdata": [
            [
             "Manufacturing"
            ]
           ],
           "hovertemplate": "<b>%{y}</b><br>Value (Trillion $): %{x:.2f}<extra></extra>",
           "legendgroup": "Manufacturing",
           "marker": {
            "color": "#28293D",
            "pattern": {
             "shape": ""
            }
           },
           "name": "Manufacturing",
           "orientation": "h",
           "showlegend": true,
           "textposition": "auto",
           "type": "bar",
           "x": {
            "bdata": "zQGCOXosGEA=",
            "dtype": "f8"
           },
           "xaxis": "x",
           "y": [
            "Manufacturing"
           ],
           "yaxis": "y"
          }
         ],
         "name": "2018"
        },
        {
         "data": [
          {
           "customdata": [
            [
             "Other"
            ],
            [
             "Other"
            ],
            [
             "Other"
            ],
            [
             "Other"
            ],
            [
             "Other"
            ],
            [
             "Other"
            ]
           ],
           "hovertemplate": "<b>%{y}</b><br>Value (Trillion $): %{x:.2f}<extra></extra>",
           "legendgroup": "Other",
           "marker": {
            "color": "#9997bc",
            "pattern": {
             "shape": ""
            }
           },
           "name": "Other",
           "orientation": "h",
           "showlegend": true,
           "textposition": "auto",
           "type": "bar",
           "x": {
            "bdata": "Vkj5SbV/FUDtfhXguw0iQA3GiESh5e8/tydIbHcvI0DvchHfiXkWQPQz9bpFAAJA",
            "dtype": "f8"
           },
           "xaxis": "x",
           "y": [
            "Health, Education & Leisure",
            "Information & Finance",
            "Primary Industries",
            "Professional & Public Services",
            "Trade & Transportation",
            "Utilities & Construction"
           ],
           "yaxis": "y"
          },
          {
           "customdata": [
            [
             "Manufacturing"
            ]
           ],
           "hovertemplate": "<b>%{y}</b><br>Value (Trillion $): %{x:.2f}<extra></extra>",
           "legendgroup": "Manufacturing",
           "marker": {
            "color": "#28293D",
            "pattern": {
             "shape": ""
            }
           },
           "name": "Manufacturing",
           "orientation": "h",
           "showlegend": true,
           "textposition": "auto",
           "type": "bar",
           "x": {
            "bdata": "wHgGDf3DF0A=",
            "dtype": "f8"
           },
           "xaxis": "x",
           "y": [
            "Manufacturing"
           ],
           "yaxis": "y"
          }
         ],
         "name": "2019"
        },
        {
         "data": [
          {
           "customdata": [
            [
             "Other"
            ],
            [
             "Other"
            ],
            [
             "Other"
            ],
            [
             "Other"
            ],
            [
             "Other"
            ],
            [
             "Other"
            ]
           ],
           "hovertemplate": "<b>%{y}</b><br>Value (Trillion $): %{x:.2f}<extra></extra>",
           "legendgroup": "Other",
           "marker": {
            "color": "#9997bc",
            "pattern": {
             "shape": ""
            }
           },
           "name": "Other",
           "orientation": "h",
           "showlegend": true,
           "textposition": "auto",
           "type": "bar",
           "x": {
            "bdata": "1o13R8Z6E0AbvoV1450iQNsTJLa7h+o/0QSKWMSYI0AR/7ClR6MVQFcm/FI/bwJA",
            "dtype": "f8"
           },
           "xaxis": "x",
           "y": [
            "Health, Education & Leisure",
            "Information & Finance",
            "Primary Industries",
            "Professional & Public Services",
            "Trade & Transportation",
            "Utilities & Construction"
           ],
           "yaxis": "y"
          },
          {
           "customdata": [
            [
             "Manufacturing"
            ]
           ],
           "hovertemplate": "<b>%{y}</b><br>Value (Trillion $): %{x:.2f}<extra></extra>",
           "legendgroup": "Manufacturing",
           "marker": {
            "color": "#28293D",
            "pattern": {
             "shape": ""
            }
           },
           "name": "Manufacturing",
           "orientation": "h",
           "showlegend": true,
           "textposition": "auto",
           "type": "bar",
           "x": {
            "bdata": "l5F6T+WkFUA=",
            "dtype": "f8"
           },
           "xaxis": "x",
           "y": [
            "Manufacturing"
           ],
           "yaxis": "y"
          }
         ],
         "name": "2020"
        },
        {
         "data": [
          {
           "customdata": [
            [
             "Other"
            ],
            [
             "Other"
            ],
            [
             "Other"
            ],
            [
             "Other"
            ],
            [
             "Other"
            ],
            [
             "Other"
            ]
           ],
           "hovertemplate": "<b>%{y}</b><br>Value (Trillion $): %{x:.2f}<extra></extra>",
           "legendgroup": "Other",
           "marker": {
            "color": "#9997bc",
            "pattern": {
             "shape": ""
            }
           },
           "name": "Other",
           "orientation": "h",
           "showlegend": true,
           "textposition": "auto",
           "type": "bar",
           "x": {
            "bdata": "avtXVpqUFkCfc7frpZEkQCcXY2AdR/I//WoOEMxZJUArGJXUCfgZQInwL4LGrARA",
            "dtype": "f8"
           },
           "xaxis": "x",
           "y": [
            "Health, Education & Leisure",
            "Information & Finance",
            "Primary Industries",
            "Professional & Public Services",
            "Trade & Transportation",
            "Utilities & Construction"
           ],
           "yaxis": "y"
          },
          {
           "customdata": [
            [
             "Manufacturing"
            ]
           ],
           "hovertemplate": "<b>%{y}</b><br>Value (Trillion $): %{x:.2f}<extra></extra>",
           "legendgroup": "Manufacturing",
           "marker": {
            "color": "#28293D",
            "pattern": {
             "shape": ""
            }
           },
           "name": "Manufacturing",
           "orientation": "h",
           "showlegend": true,
           "textposition": "auto",
           "type": "bar",
           "x": {
            "bdata": "gufewyUnGUA=",
            "dtype": "f8"
           },
           "xaxis": "x",
           "y": [
            "Manufacturing"
           ],
           "yaxis": "y"
          }
         ],
         "name": "2021"
        },
        {
         "data": [
          {
           "customdata": [
            [
             "Other"
            ],
            [
             "Other"
            ],
            [
             "Other"
            ],
            [
             "Other"
            ],
            [
             "Other"
            ],
            [
             "Other"
            ]
           ],
           "hovertemplate": "<b>%{y}</b><br>Value (Trillion $): %{x:.2f}<extra></extra>",
           "legendgroup": "Other",
           "marker": {
            "color": "#9997bc",
            "pattern": {
             "shape": ""
            }
           },
           "name": "Other",
           "orientation": "h",
           "showlegend": true,
           "textposition": "auto",
           "type": "bar",
           "x": {
            "bdata": "7pbkgF19GUCLwcO0byYmQPzEAfT7Pvg/RpVh3A0qJ0D9n8N8eYEdQPqYDwh0JgdA",
            "dtype": "f8"
           },
           "xaxis": "x",
           "y": [
            "Health, Education & Leisure",
            "Information & Finance",
            "Primary Industries",
            "Professional & Public Services",
            "Trade & Transportation",
            "Utilities & Construction"
           ],
           "yaxis": "y"
          },
          {
           "customdata": [
            [
             "Manufacturing"
            ]
           ],
           "hovertemplate": "<b>%{y}</b><br>Value (Trillion $): %{x:.2f}<extra></extra>",
           "legendgroup": "Manufacturing",
           "marker": {
            "color": "#28293D",
            "pattern": {
             "shape": ""
            }
           },
           "name": "Manufacturing",
           "orientation": "h",
           "showlegend": true,
           "textposition": "auto",
           "type": "bar",
           "x": {
            "bdata": "t7JEZ5mlHEA=",
            "dtype": "f8"
           },
           "xaxis": "x",
           "y": [
            "Manufacturing"
           ],
           "yaxis": "y"
          }
         ],
         "name": "2022"
        },
        {
         "data": [
          {
           "customdata": [
            [
             "Other"
            ],
            [
             "Other"
            ],
            [
             "Other"
            ],
            [
             "Other"
            ],
            [
             "Other"
            ],
            [
             "Other"
            ]
           ],
           "hovertemplate": "<b>%{y}</b><br>Value (Trillion $): %{x:.2f}<extra></extra>",
           "legendgroup": "Other",
           "marker": {
            "color": "#9997bc",
            "pattern": {
             "shape": ""
            }
           },
           "name": "Other",
           "orientation": "h",
           "showlegend": true,
           "textposition": "auto",
           "type": "bar",
           "x": {
            "bdata": "YK3aNSHdG0D/zYsTX7UnQGMOgo5WdfU/u5f75CgwKEA2PpP983QdQPxVgO82zwdA",
            "dtype": "f8"
           },
           "xaxis": "x",
           "y": [
            "Health, Education & Leisure",
            "Information & Finance",
            "Primary Industries",
            "Professional & Public Services",
            "Trade & Transportation",
            "Utilities & Construction"
           ],
           "yaxis": "y"
          },
          {
           "customdata": [
            [
             "Manufacturing"
            ]
           ],
           "hovertemplate": "<b>%{y}</b><br>Value (Trillion $): %{x:.2f}<extra></extra>",
           "legendgroup": "Manufacturing",
           "marker": {
            "color": "#28293D",
            "pattern": {
             "shape": ""
            }
           },
           "name": "Manufacturing",
           "orientation": "h",
           "showlegend": true,
           "textposition": "auto",
           "type": "bar",
           "x": {
            "bdata": "28GIfQLYHEA=",
            "dtype": "f8"
           },
           "xaxis": "x",
           "y": [
            "Manufacturing"
           ],
           "yaxis": "y"
          }
         ],
         "name": "2023"
        }
       ],
       "layout": {
        "barmode": "relative",
        "legend": {
         "title": {
          "text": "Color"
         },
         "tracegroupgap": 0
        },
        "margin": {
         "b": 40,
         "l": 100,
         "r": 40,
         "t": 40
        },
        "paper_bgcolor": "white",
        "plot_bgcolor": "white",
        "showlegend": false,
        "sliders": [
         {
          "active": 0,
          "currentvalue": {
           "prefix": "Year="
          },
          "len": 0.9,
          "pad": {
           "b": 10,
           "t": 60
          },
          "steps": [
           {
            "args": [
             [
              "2013"
             ],
             {
              "frame": {
               "duration": 0,
               "redraw": true
              },
              "fromcurrent": true,
              "mode": "immediate",
              "transition": {
               "duration": 0,
               "easing": "linear"
              }
             }
            ],
            "label": "2013",
            "method": "animate"
           },
           {
            "args": [
             [
              "2014"
             ],
             {
              "frame": {
               "duration": 0,
               "redraw": true
              },
              "fromcurrent": true,
              "mode": "immediate",
              "transition": {
               "duration": 0,
               "easing": "linear"
              }
             }
            ],
            "label": "2014",
            "method": "animate"
           },
           {
            "args": [
             [
              "2015"
             ],
             {
              "frame": {
               "duration": 0,
               "redraw": true
              },
              "fromcurrent": true,
              "mode": "immediate",
              "transition": {
               "duration": 0,
               "easing": "linear"
              }
             }
            ],
            "label": "2015",
            "method": "animate"
           },
           {
            "args": [
             [
              "2016"
             ],
             {
              "frame": {
               "duration": 0,
               "redraw": true
              },
              "fromcurrent": true,
              "mode": "immediate",
              "transition": {
               "duration": 0,
               "easing": "linear"
              }
             }
            ],
            "label": "2016",
            "method": "animate"
           },
           {
            "args": [
             [
              "2017"
             ],
             {
              "frame": {
               "duration": 0,
               "redraw": true
              },
              "fromcurrent": true,
              "mode": "immediate",
              "transition": {
               "duration": 0,
               "easing": "linear"
              }
             }
            ],
            "label": "2017",
            "method": "animate"
           },
           {
            "args": [
             [
              "2018"
             ],
             {
              "frame": {
               "duration": 0,
               "redraw": true
              },
              "fromcurrent": true,
              "mode": "immediate",
              "transition": {
               "duration": 0,
               "easing": "linear"
              }
             }
            ],
            "label": "2018",
            "method": "animate"
           },
           {
            "args": [
             [
              "2019"
             ],
             {
              "frame": {
               "duration": 0,
               "redraw": true
              },
              "fromcurrent": true,
              "mode": "immediate",
              "transition": {
               "duration": 0,
               "easing": "linear"
              }
             }
            ],
            "label": "2019",
            "method": "animate"
           },
           {
            "args": [
             [
              "2020"
             ],
             {
              "frame": {
               "duration": 0,
               "redraw": true
              },
              "fromcurrent": true,
              "mode": "immediate",
              "transition": {
               "duration": 0,
               "easing": "linear"
              }
             }
            ],
            "label": "2020",
            "method": "animate"
           },
           {
            "args": [
             [
              "2021"
             ],
             {
              "frame": {
               "duration": 0,
               "redraw": true
              },
              "fromcurrent": true,
              "mode": "immediate",
              "transition": {
               "duration": 0,
               "easing": "linear"
              }
             }
            ],
            "label": "2021",
            "method": "animate"
           },
           {
            "args": [
             [
              "2022"
             ],
             {
              "frame": {
               "duration": 0,
               "redraw": true
              },
              "fromcurrent": true,
              "mode": "immediate",
              "transition": {
               "duration": 0,
               "easing": "linear"
              }
             }
            ],
            "label": "2022",
            "method": "animate"
           },
           {
            "args": [
             [
              "2023"
             ],
             {
              "frame": {
               "duration": 0,
               "redraw": true
              },
              "fromcurrent": true,
              "mode": "immediate",
              "transition": {
               "duration": 0,
               "easing": "linear"
              }
             }
            ],
            "label": "2023",
            "method": "animate"
           }
          ],
          "x": 0.1,
          "xanchor": "left",
          "y": 0,
          "yanchor": "top"
         }
        ],
        "template": {
         "data": {
          "bar": [
           {
            "error_x": {
             "color": "#2a3f5f"
            },
            "error_y": {
             "color": "#2a3f5f"
            },
            "marker": {
             "line": {
              "color": "#E5ECF6",
              "width": 0.5
             },
             "pattern": {
              "fillmode": "overlay",
              "size": 10,
              "solidity": 0.2
             }
            },
            "type": "bar"
           }
          ],
          "barpolar": [
           {
            "marker": {
             "line": {
              "color": "#E5ECF6",
              "width": 0.5
             },
             "pattern": {
              "fillmode": "overlay",
              "size": 10,
              "solidity": 0.2
             }
            },
            "type": "barpolar"
           }
          ],
          "carpet": [
           {
            "aaxis": {
             "endlinecolor": "#2a3f5f",
             "gridcolor": "white",
             "linecolor": "white",
             "minorgridcolor": "white",
             "startlinecolor": "#2a3f5f"
            },
            "baxis": {
             "endlinecolor": "#2a3f5f",
             "gridcolor": "white",
             "linecolor": "white",
             "minorgridcolor": "white",
             "startlinecolor": "#2a3f5f"
            },
            "type": "carpet"
           }
          ],
          "choropleth": [
           {
            "colorbar": {
             "outlinewidth": 0,
             "ticks": ""
            },
            "type": "choropleth"
           }
          ],
          "contour": [
           {
            "colorbar": {
             "outlinewidth": 0,
             "ticks": ""
            },
            "colorscale": [
             [
              0,
              "#0d0887"
             ],
             [
              0.1111111111111111,
              "#46039f"
             ],
             [
              0.2222222222222222,
              "#7201a8"
             ],
             [
              0.3333333333333333,
              "#9c179e"
             ],
             [
              0.4444444444444444,
              "#bd3786"
             ],
             [
              0.5555555555555556,
              "#d8576b"
             ],
             [
              0.6666666666666666,
              "#ed7953"
             ],
             [
              0.7777777777777778,
              "#fb9f3a"
             ],
             [
              0.8888888888888888,
              "#fdca26"
             ],
             [
              1,
              "#f0f921"
             ]
            ],
            "type": "contour"
           }
          ],
          "contourcarpet": [
           {
            "colorbar": {
             "outlinewidth": 0,
             "ticks": ""
            },
            "type": "contourcarpet"
           }
          ],
          "heatmap": [
           {
            "colorbar": {
             "outlinewidth": 0,
             "ticks": ""
            },
            "colorscale": [
             [
              0,
              "#0d0887"
             ],
             [
              0.1111111111111111,
              "#46039f"
             ],
             [
              0.2222222222222222,
              "#7201a8"
             ],
             [
              0.3333333333333333,
              "#9c179e"
             ],
             [
              0.4444444444444444,
              "#bd3786"
             ],
             [
              0.5555555555555556,
              "#d8576b"
             ],
             [
              0.6666666666666666,
              "#ed7953"
             ],
             [
              0.7777777777777778,
              "#fb9f3a"
             ],
             [
              0.8888888888888888,
              "#fdca26"
             ],
             [
              1,
              "#f0f921"
             ]
            ],
            "type": "heatmap"
           }
          ],
          "histogram": [
           {
            "marker": {
             "pattern": {
              "fillmode": "overlay",
              "size": 10,
              "solidity": 0.2
             }
            },
            "type": "histogram"
           }
          ],
          "histogram2d": [
           {
            "colorbar": {
             "outlinewidth": 0,
             "ticks": ""
            },
            "colorscale": [
             [
              0,
              "#0d0887"
             ],
             [
              0.1111111111111111,
              "#46039f"
             ],
             [
              0.2222222222222222,
              "#7201a8"
             ],
             [
              0.3333333333333333,
              "#9c179e"
             ],
             [
              0.4444444444444444,
              "#bd3786"
             ],
             [
              0.5555555555555556,
              "#d8576b"
             ],
             [
              0.6666666666666666,
              "#ed7953"
             ],
             [
              0.7777777777777778,
              "#fb9f3a"
             ],
             [
              0.8888888888888888,
              "#fdca26"
             ],
             [
              1,
              "#f0f921"
             ]
            ],
            "type": "histogram2d"
           }
          ],
          "histogram2dcontour": [
           {
            "colorbar": {
             "outlinewidth": 0,
             "ticks": ""
            },
            "colorscale": [
             [
              0,
              "#0d0887"
             ],
             [
              0.1111111111111111,
              "#46039f"
             ],
             [
              0.2222222222222222,
              "#7201a8"
             ],
             [
              0.3333333333333333,
              "#9c179e"
             ],
             [
              0.4444444444444444,
              "#bd3786"
             ],
             [
              0.5555555555555556,
              "#d8576b"
             ],
             [
              0.6666666666666666,
              "#ed7953"
             ],
             [
              0.7777777777777778,
              "#fb9f3a"
             ],
             [
              0.8888888888888888,
              "#fdca26"
             ],
             [
              1,
              "#f0f921"
             ]
            ],
            "type": "histogram2dcontour"
           }
          ],
          "mesh3d": [
           {
            "colorbar": {
             "outlinewidth": 0,
             "ticks": ""
            },
            "type": "mesh3d"
           }
          ],
          "parcoords": [
           {
            "line": {
             "colorbar": {
              "outlinewidth": 0,
              "ticks": ""
             }
            },
            "type": "parcoords"
           }
          ],
          "pie": [
           {
            "automargin": true,
            "type": "pie"
           }
          ],
          "scatter": [
           {
            "fillpattern": {
             "fillmode": "overlay",
             "size": 10,
             "solidity": 0.2
            },
            "type": "scatter"
           }
          ],
          "scatter3d": [
           {
            "line": {
             "colorbar": {
              "outlinewidth": 0,
              "ticks": ""
             }
            },
            "marker": {
             "colorbar": {
              "outlinewidth": 0,
              "ticks": ""
             }
            },
            "type": "scatter3d"
           }
          ],
          "scattercarpet": [
           {
            "marker": {
             "colorbar": {
              "outlinewidth": 0,
              "ticks": ""
             }
            },
            "type": "scattercarpet"
           }
          ],
          "scattergeo": [
           {
            "marker": {
             "colorbar": {
              "outlinewidth": 0,
              "ticks": ""
             }
            },
            "type": "scattergeo"
           }
          ],
          "scattergl": [
           {
            "marker": {
             "colorbar": {
              "outlinewidth": 0,
              "ticks": ""
             }
            },
            "type": "scattergl"
           }
          ],
          "scattermap": [
           {
            "marker": {
             "colorbar": {
              "outlinewidth": 0,
              "ticks": ""
             }
            },
            "type": "scattermap"
           }
          ],
          "scattermapbox": [
           {
            "marker": {
             "colorbar": {
              "outlinewidth": 0,
              "ticks": ""
             }
            },
            "type": "scattermapbox"
           }
          ],
          "scatterpolar": [
           {
            "marker": {
             "colorbar": {
              "outlinewidth": 0,
              "ticks": ""
             }
            },
            "type": "scatterpolar"
           }
          ],
          "scatterpolargl": [
           {
            "marker": {
             "colorbar": {
              "outlinewidth": 0,
              "ticks": ""
             }
            },
            "type": "scatterpolargl"
           }
          ],
          "scatterternary": [
           {
            "marker": {
             "colorbar": {
              "outlinewidth": 0,
              "ticks": ""
             }
            },
            "type": "scatterternary"
           }
          ],
          "surface": [
           {
            "colorbar": {
             "outlinewidth": 0,
             "ticks": ""
            },
            "colorscale": [
             [
              0,
              "#0d0887"
             ],
             [
              0.1111111111111111,
              "#46039f"
             ],
             [
              0.2222222222222222,
              "#7201a8"
             ],
             [
              0.3333333333333333,
              "#9c179e"
             ],
             [
              0.4444444444444444,
              "#bd3786"
             ],
             [
              0.5555555555555556,
              "#d8576b"
             ],
             [
              0.6666666666666666,
              "#ed7953"
             ],
             [
              0.7777777777777778,
              "#fb9f3a"
             ],
             [
              0.8888888888888888,
              "#fdca26"
             ],
             [
              1,
              "#f0f921"
             ]
            ],
            "type": "surface"
           }
          ],
          "table": [
           {
            "cells": {
             "fill": {
              "color": "#EBF0F8"
             },
             "line": {
              "color": "white"
             }
            },
            "header": {
             "fill": {
              "color": "#C8D4E3"
             },
             "line": {
              "color": "white"
             }
            },
            "type": "table"
           }
          ]
         },
         "layout": {
          "annotationdefaults": {
           "arrowcolor": "#2a3f5f",
           "arrowhead": 0,
           "arrowwidth": 1
          },
          "autotypenumbers": "strict",
          "coloraxis": {
           "colorbar": {
            "outlinewidth": 0,
            "ticks": ""
           }
          },
          "colorscale": {
           "diverging": [
            [
             0,
             "#8e0152"
            ],
            [
             0.1,
             "#c51b7d"
            ],
            [
             0.2,
             "#de77ae"
            ],
            [
             0.3,
             "#f1b6da"
            ],
            [
             0.4,
             "#fde0ef"
            ],
            [
             0.5,
             "#f7f7f7"
            ],
            [
             0.6,
             "#e6f5d0"
            ],
            [
             0.7,
             "#b8e186"
            ],
            [
             0.8,
             "#7fbc41"
            ],
            [
             0.9,
             "#4d9221"
            ],
            [
             1,
             "#276419"
            ]
           ],
           "sequential": [
            [
             0,
             "#0d0887"
            ],
            [
             0.1111111111111111,
             "#46039f"
            ],
            [
             0.2222222222222222,
             "#7201a8"
            ],
            [
             0.3333333333333333,
             "#9c179e"
            ],
            [
             0.4444444444444444,
             "#bd3786"
            ],
            [
             0.5555555555555556,
             "#d8576b"
            ],
            [
             0.6666666666666666,
             "#ed7953"
            ],
            [
             0.7777777777777778,
             "#fb9f3a"
            ],
            [
             0.8888888888888888,
             "#fdca26"
            ],
            [
             1,
             "#f0f921"
            ]
           ],
           "sequentialminus": [
            [
             0,
             "#0d0887"
            ],
            [
             0.1111111111111111,
             "#46039f"
            ],
            [
             0.2222222222222222,
             "#7201a8"
            ],
            [
             0.3333333333333333,
             "#9c179e"
            ],
            [
             0.4444444444444444,
             "#bd3786"
            ],
            [
             0.5555555555555556,
             "#d8576b"
            ],
            [
             0.6666666666666666,
             "#ed7953"
            ],
            [
             0.7777777777777778,
             "#fb9f3a"
            ],
            [
             0.8888888888888888,
             "#fdca26"
            ],
            [
             1,
             "#f0f921"
            ]
           ]
          },
          "colorway": [
           "#636efa",
           "#EF553B",
           "#00cc96",
           "#ab63fa",
           "#FFA15A",
           "#19d3f3",
           "#FF6692",
           "#B6E880",
           "#FF97FF",
           "#FECB52"
          ],
          "font": {
           "color": "#2a3f5f"
          },
          "geo": {
           "bgcolor": "white",
           "lakecolor": "white",
           "landcolor": "#E5ECF6",
           "showlakes": true,
           "showland": true,
           "subunitcolor": "white"
          },
          "hoverlabel": {
           "align": "left"
          },
          "hovermode": "closest",
          "mapbox": {
           "style": "light"
          },
          "paper_bgcolor": "white",
          "plot_bgcolor": "#E5ECF6",
          "polar": {
           "angularaxis": {
            "gridcolor": "white",
            "linecolor": "white",
            "ticks": ""
           },
           "bgcolor": "#E5ECF6",
           "radialaxis": {
            "gridcolor": "white",
            "linecolor": "white",
            "ticks": ""
           }
          },
          "scene": {
           "xaxis": {
            "backgroundcolor": "#E5ECF6",
            "gridcolor": "white",
            "gridwidth": 2,
            "linecolor": "white",
            "showbackground": true,
            "ticks": "",
            "zerolinecolor": "white"
           },
           "yaxis": {
            "backgroundcolor": "#E5ECF6",
            "gridcolor": "white",
            "gridwidth": 2,
            "linecolor": "white",
            "showbackground": true,
            "ticks": "",
            "zerolinecolor": "white"
           },
           "zaxis": {
            "backgroundcolor": "#E5ECF6",
            "gridcolor": "white",
            "gridwidth": 2,
            "linecolor": "white",
            "showbackground": true,
            "ticks": "",
            "zerolinecolor": "white"
           }
          },
          "shapedefaults": {
           "line": {
            "color": "#2a3f5f"
           }
          },
          "ternary": {
           "aaxis": {
            "gridcolor": "white",
            "linecolor": "white",
            "ticks": ""
           },
           "baxis": {
            "gridcolor": "white",
            "linecolor": "white",
            "ticks": ""
           },
           "bgcolor": "#E5ECF6",
           "caxis": {
            "gridcolor": "white",
            "linecolor": "white",
            "ticks": ""
           }
          },
          "title": {
           "x": 0.05
          },
          "xaxis": {
           "automargin": true,
           "gridcolor": "white",
           "linecolor": "white",
           "ticks": "",
           "title": {
            "standoff": 15
           },
           "zerolinecolor": "white",
           "zerolinewidth": 2
          },
          "yaxis": {
           "automargin": true,
           "gridcolor": "white",
           "linecolor": "white",
           "ticks": "",
           "title": {
            "standoff": 15
           },
           "zerolinecolor": "white",
           "zerolinewidth": 2
          }
         }
        },
        "updatemenus": [
         {
          "buttons": [
           {
            "args": [
             null,
             {
              "frame": {
               "duration": 500,
               "redraw": true
              },
              "fromcurrent": true,
              "mode": "immediate",
              "transition": {
               "duration": 500,
               "easing": "linear"
              }
             }
            ],
            "label": "&#9654;",
            "method": "animate"
           },
           {
            "args": [
             [
              null
             ],
             {
              "frame": {
               "duration": 0,
               "redraw": true
              },
              "fromcurrent": true,
              "mode": "immediate",
              "transition": {
               "duration": 0,
               "easing": "linear"
              }
             }
            ],
            "label": "&#9724;",
            "method": "animate"
           }
          ],
          "direction": "left",
          "pad": {
           "r": 10,
           "t": 70
          },
          "showactive": false,
          "type": "buttons",
          "x": 0.1,
          "xanchor": "right",
          "y": 0,
          "yanchor": "top"
         }
        ],
        "xaxis": {
         "anchor": "y",
         "domain": [
          0,
          1
         ],
         "range": [
          0,
          12.5
         ],
         "showgrid": false,
         "tickformat": ".2f",
         "title": {
          "text": "Output (Trillions $)"
         },
         "zeroline": false
        },
        "yaxis": {
         "anchor": "x",
         "domain": [
          0,
          1
         ],
         "showgrid": false,
         "title": {
          "text": "Sectors"
         },
         "zeroline": false
        }
       }
      }
     },
     "metadata": {},
     "output_type": "display_data"
    }
   ],
   "source": [
    "import plotly.express as px\n",
    "\n",
    "# Filter for 2013–2024\n",
    "df_grouped_filtered = df_grouped[df_grouped[\"Year\"].between(2013, 2024)].copy()\n",
    "\n",
    "# Convert from millions to billions\n",
    "df_grouped_filtered[\"Value_Trillions\"] = df_grouped_filtered[\"Value\"] / 1000000\n",
    "\n",
    "# Step 2: Add a column for custom coloring\n",
    "df_grouped_filtered[\"Color\"] = df_grouped_filtered[\"Group\"].apply(\n",
    "    lambda g: \"Manufacturing\" if g == \"Manufacturing\" else \"Other\"\n",
    ")\n",
    "\n",
    "# Step 3: Define color map (blue for Manufacturing, gray for others)\n",
    "color_map = {\n",
    "    \"Manufacturing\": \"#28293D\",\n",
    "    \"Other\": \"#9997bc\"\n",
    "}\n",
    "\n",
    "fig = px.bar(\n",
    "    df_grouped_filtered,\n",
    "    x=\"Value_Trillions\",\n",
    "    y=\"Group\",\n",
    "    color=\"Color\",\n",
    "    animation_frame=\"Year\",\n",
    "    orientation='h',\n",
    "    color_discrete_map=color_map,\n",
    "    hover_data={\"Color\": False}  \n",
    ")\n",
    "\n",
    "# Set custom tooltip on static traces (initial frame)\n",
    "for trace in fig.data:\n",
    "    trace.hovertemplate = \"<b>%{y}</b><br>Value (Trillion $): %{x:.2f}<extra></extra>\"\n",
    "\n",
    "# Set custom tooltip on animated frames\n",
    "for frame in fig.frames:\n",
    "    for trace in frame.data:\n",
    "        trace.hovertemplate = \"<b>%{y}</b><br>Value (Trillion $): %{x:.2f}<extra></extra>\"\n",
    "\n",
    "fig.update_layout(\n",
    "    showlegend=False,\n",
    "    xaxis=dict(\n",
    "        title=\"Output (Trillions $)\",\n",
    "        tickformat=\".2f\",\n",
    "        range=[0, 12.5],\n",
    "        showgrid=False,  # Turn off vertical grid lines\n",
    "        zeroline=False   # Turn off the thick zero line\n",
    "    ),\n",
    "    yaxis=dict(\n",
    "        title = \"Sectors\",\n",
    "        showgrid=False,  # Turn off horizontal grid lines\n",
    "        zeroline=False\n",
    "    ),\n",
    "    plot_bgcolor='white',   # Plot area background\n",
    "    paper_bgcolor='white',  # Entire figure background\n",
    "    margin=dict(t=40, l=100, r=40, b=40)\n",
    ")\n",
    "\n",
    "fig.show()\n"
   ]
  },
  {
   "cell_type": "code",
   "execution_count": 13,
   "metadata": {},
   "outputs": [],
   "source": [
    "fig.write_html(\"../img/gdp_barcharts_2013_2024.html\")"
   ]
  },
  {
   "cell_type": "code",
   "execution_count": null,
   "metadata": {},
   "outputs": [],
   "source": []
  }
 ],
 "metadata": {
  "kernelspec": {
   "display_name": "base",
   "language": "python",
   "name": "python3"
  },
  "language_info": {
   "codemirror_mode": {
    "name": "ipython",
    "version": 3
   },
   "file_extension": ".py",
   "mimetype": "text/x-python",
   "name": "python",
   "nbconvert_exporter": "python",
   "pygments_lexer": "ipython3",
   "version": "3.10.6"
  }
 },
 "nbformat": 4,
 "nbformat_minor": 2
}
